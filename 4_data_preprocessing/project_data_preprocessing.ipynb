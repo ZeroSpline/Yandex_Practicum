{
 "cells": [
  {
   "cell_type": "markdown",
   "id": "07ef1e86",
   "metadata": {},
   "source": [
    "### Шаг 1. Обзор данных"
   ]
  },
  {
   "cell_type": "code",
   "execution_count": 1,
   "id": "cafaaeac",
   "metadata": {},
   "outputs": [],
   "source": [
    "# импорт библиотеки pandas\n",
    "import pandas as pd\n",
    "# чтение файла с данными и сохранение в data\n",
    "data = pd.read_csv('data.csv')"
   ]
  },
  {
   "cell_type": "code",
   "execution_count": 2,
   "id": "68eec9fe",
   "metadata": {
    "scrolled": true
   },
   "outputs": [
    {
     "name": "stdout",
     "output_type": "stream",
     "text": [
      "<class 'pandas.core.frame.DataFrame'>\n",
      "RangeIndex: 21525 entries, 0 to 21524\n",
      "Data columns (total 12 columns):\n",
      " #   Column            Non-Null Count  Dtype  \n",
      "---  ------            --------------  -----  \n",
      " 0   children          21525 non-null  int64  \n",
      " 1   days_employed     19351 non-null  float64\n",
      " 2   dob_years         21525 non-null  int64  \n",
      " 3   education         21525 non-null  object \n",
      " 4   education_id      21525 non-null  int64  \n",
      " 5   family_status     21525 non-null  object \n",
      " 6   family_status_id  21525 non-null  int64  \n",
      " 7   gender            21525 non-null  object \n",
      " 8   income_type       21525 non-null  object \n",
      " 9   debt              21525 non-null  int64  \n",
      " 10  total_income      19351 non-null  float64\n",
      " 11  purpose           21525 non-null  object \n",
      "dtypes: float64(2), int64(5), object(5)\n",
      "memory usage: 2.0+ MB\n"
     ]
    }
   ],
   "source": [
    "# получение общей информации о данных в таблице data\n",
    "data.info()"
   ]
  },
  {
   "cell_type": "markdown",
   "id": "2bf725d6",
   "metadata": {},
   "source": [
    "В таблице 12 столбцов. Тип данных в столбцах — `object`, `int64` и `float64`\n",
    "\n",
    "В названиях колонок нарушения стиля не выявлены.\n",
    "\n",
    "В столбцах 2 и 10 количество елементов отличается от остальных столбцов. Значит, в данных есть пропущенные значения."
   ]
  },
  {
   "cell_type": "code",
   "execution_count": 3,
   "id": "619a7b33",
   "metadata": {},
   "outputs": [
    {
     "data": {
      "text/html": [
       "<div>\n",
       "<style scoped>\n",
       "    .dataframe tbody tr th:only-of-type {\n",
       "        vertical-align: middle;\n",
       "    }\n",
       "\n",
       "    .dataframe tbody tr th {\n",
       "        vertical-align: top;\n",
       "    }\n",
       "\n",
       "    .dataframe thead th {\n",
       "        text-align: right;\n",
       "    }\n",
       "</style>\n",
       "<table border=\"1\" class=\"dataframe\">\n",
       "  <thead>\n",
       "    <tr style=\"text-align: right;\">\n",
       "      <th></th>\n",
       "      <th>children</th>\n",
       "      <th>days_employed</th>\n",
       "      <th>dob_years</th>\n",
       "      <th>education</th>\n",
       "      <th>education_id</th>\n",
       "      <th>family_status</th>\n",
       "      <th>family_status_id</th>\n",
       "      <th>gender</th>\n",
       "      <th>income_type</th>\n",
       "      <th>debt</th>\n",
       "      <th>total_income</th>\n",
       "      <th>purpose</th>\n",
       "    </tr>\n",
       "  </thead>\n",
       "  <tbody>\n",
       "    <tr>\n",
       "      <th>0</th>\n",
       "      <td>1</td>\n",
       "      <td>-8437.673028</td>\n",
       "      <td>42</td>\n",
       "      <td>высшее</td>\n",
       "      <td>0</td>\n",
       "      <td>женат / замужем</td>\n",
       "      <td>0</td>\n",
       "      <td>F</td>\n",
       "      <td>сотрудник</td>\n",
       "      <td>0</td>\n",
       "      <td>253875.639453</td>\n",
       "      <td>покупка жилья</td>\n",
       "    </tr>\n",
       "    <tr>\n",
       "      <th>1</th>\n",
       "      <td>1</td>\n",
       "      <td>-4024.803754</td>\n",
       "      <td>36</td>\n",
       "      <td>среднее</td>\n",
       "      <td>1</td>\n",
       "      <td>женат / замужем</td>\n",
       "      <td>0</td>\n",
       "      <td>F</td>\n",
       "      <td>сотрудник</td>\n",
       "      <td>0</td>\n",
       "      <td>112080.014102</td>\n",
       "      <td>приобретение автомобиля</td>\n",
       "    </tr>\n",
       "    <tr>\n",
       "      <th>2</th>\n",
       "      <td>0</td>\n",
       "      <td>-5623.422610</td>\n",
       "      <td>33</td>\n",
       "      <td>Среднее</td>\n",
       "      <td>1</td>\n",
       "      <td>женат / замужем</td>\n",
       "      <td>0</td>\n",
       "      <td>M</td>\n",
       "      <td>сотрудник</td>\n",
       "      <td>0</td>\n",
       "      <td>145885.952297</td>\n",
       "      <td>покупка жилья</td>\n",
       "    </tr>\n",
       "    <tr>\n",
       "      <th>3</th>\n",
       "      <td>3</td>\n",
       "      <td>-4124.747207</td>\n",
       "      <td>32</td>\n",
       "      <td>среднее</td>\n",
       "      <td>1</td>\n",
       "      <td>женат / замужем</td>\n",
       "      <td>0</td>\n",
       "      <td>M</td>\n",
       "      <td>сотрудник</td>\n",
       "      <td>0</td>\n",
       "      <td>267628.550329</td>\n",
       "      <td>дополнительное образование</td>\n",
       "    </tr>\n",
       "    <tr>\n",
       "      <th>4</th>\n",
       "      <td>0</td>\n",
       "      <td>340266.072047</td>\n",
       "      <td>53</td>\n",
       "      <td>среднее</td>\n",
       "      <td>1</td>\n",
       "      <td>гражданский брак</td>\n",
       "      <td>1</td>\n",
       "      <td>F</td>\n",
       "      <td>пенсионер</td>\n",
       "      <td>0</td>\n",
       "      <td>158616.077870</td>\n",
       "      <td>сыграть свадьбу</td>\n",
       "    </tr>\n",
       "    <tr>\n",
       "      <th>5</th>\n",
       "      <td>0</td>\n",
       "      <td>-926.185831</td>\n",
       "      <td>27</td>\n",
       "      <td>высшее</td>\n",
       "      <td>0</td>\n",
       "      <td>гражданский брак</td>\n",
       "      <td>1</td>\n",
       "      <td>M</td>\n",
       "      <td>компаньон</td>\n",
       "      <td>0</td>\n",
       "      <td>255763.565419</td>\n",
       "      <td>покупка жилья</td>\n",
       "    </tr>\n",
       "    <tr>\n",
       "      <th>6</th>\n",
       "      <td>0</td>\n",
       "      <td>-2879.202052</td>\n",
       "      <td>43</td>\n",
       "      <td>высшее</td>\n",
       "      <td>0</td>\n",
       "      <td>женат / замужем</td>\n",
       "      <td>0</td>\n",
       "      <td>F</td>\n",
       "      <td>компаньон</td>\n",
       "      <td>0</td>\n",
       "      <td>240525.971920</td>\n",
       "      <td>операции с жильем</td>\n",
       "    </tr>\n",
       "    <tr>\n",
       "      <th>7</th>\n",
       "      <td>0</td>\n",
       "      <td>-152.779569</td>\n",
       "      <td>50</td>\n",
       "      <td>СРЕДНЕЕ</td>\n",
       "      <td>1</td>\n",
       "      <td>женат / замужем</td>\n",
       "      <td>0</td>\n",
       "      <td>M</td>\n",
       "      <td>сотрудник</td>\n",
       "      <td>0</td>\n",
       "      <td>135823.934197</td>\n",
       "      <td>образование</td>\n",
       "    </tr>\n",
       "    <tr>\n",
       "      <th>8</th>\n",
       "      <td>2</td>\n",
       "      <td>-6929.865299</td>\n",
       "      <td>35</td>\n",
       "      <td>ВЫСШЕЕ</td>\n",
       "      <td>0</td>\n",
       "      <td>гражданский брак</td>\n",
       "      <td>1</td>\n",
       "      <td>F</td>\n",
       "      <td>сотрудник</td>\n",
       "      <td>0</td>\n",
       "      <td>95856.832424</td>\n",
       "      <td>на проведение свадьбы</td>\n",
       "    </tr>\n",
       "    <tr>\n",
       "      <th>9</th>\n",
       "      <td>0</td>\n",
       "      <td>-2188.756445</td>\n",
       "      <td>41</td>\n",
       "      <td>среднее</td>\n",
       "      <td>1</td>\n",
       "      <td>женат / замужем</td>\n",
       "      <td>0</td>\n",
       "      <td>M</td>\n",
       "      <td>сотрудник</td>\n",
       "      <td>0</td>\n",
       "      <td>144425.938277</td>\n",
       "      <td>покупка жилья для семьи</td>\n",
       "    </tr>\n",
       "  </tbody>\n",
       "</table>\n",
       "</div>"
      ],
      "text/plain": [
       "   children  days_employed  dob_years education  education_id  \\\n",
       "0         1   -8437.673028         42    высшее             0   \n",
       "1         1   -4024.803754         36   среднее             1   \n",
       "2         0   -5623.422610         33   Среднее             1   \n",
       "3         3   -4124.747207         32   среднее             1   \n",
       "4         0  340266.072047         53   среднее             1   \n",
       "5         0    -926.185831         27    высшее             0   \n",
       "6         0   -2879.202052         43    высшее             0   \n",
       "7         0    -152.779569         50   СРЕДНЕЕ             1   \n",
       "8         2   -6929.865299         35    ВЫСШЕЕ             0   \n",
       "9         0   -2188.756445         41   среднее             1   \n",
       "\n",
       "      family_status  family_status_id gender income_type  debt   total_income  \\\n",
       "0   женат / замужем                 0      F   сотрудник     0  253875.639453   \n",
       "1   женат / замужем                 0      F   сотрудник     0  112080.014102   \n",
       "2   женат / замужем                 0      M   сотрудник     0  145885.952297   \n",
       "3   женат / замужем                 0      M   сотрудник     0  267628.550329   \n",
       "4  гражданский брак                 1      F   пенсионер     0  158616.077870   \n",
       "5  гражданский брак                 1      M   компаньон     0  255763.565419   \n",
       "6   женат / замужем                 0      F   компаньон     0  240525.971920   \n",
       "7   женат / замужем                 0      M   сотрудник     0  135823.934197   \n",
       "8  гражданский брак                 1      F   сотрудник     0   95856.832424   \n",
       "9   женат / замужем                 0      M   сотрудник     0  144425.938277   \n",
       "\n",
       "                      purpose  \n",
       "0               покупка жилья  \n",
       "1     приобретение автомобиля  \n",
       "2               покупка жилья  \n",
       "3  дополнительное образование  \n",
       "4             сыграть свадьбу  \n",
       "5               покупка жилья  \n",
       "6           операции с жильем  \n",
       "7                 образование  \n",
       "8       на проведение свадьбы  \n",
       "9     покупка жилья для семьи  "
      ]
     },
     "execution_count": 3,
     "metadata": {},
     "output_type": "execute_result"
    }
   ],
   "source": [
    "# получение первых 10 строк таблицы data\n",
    "data.head(10)"
   ]
  },
  {
   "cell_type": "markdown",
   "id": "d284631f",
   "metadata": {},
   "source": [
    "В столбцах 2 и 10 есть пропущенные значения, но в первых 10 строках не выявлены, однако из общих данных видно что один из них — \n",
    "\n",
    "`days_employed`, второй - `total_income` "
   ]
  },
  {
   "cell_type": "markdown",
   "id": "e16ba05c",
   "metadata": {},
   "source": [
    "### Шаг 2.1 Заполнение пропусков"
   ]
  },
  {
   "cell_type": "code",
   "execution_count": 4,
   "id": "986325a9",
   "metadata": {},
   "outputs": [
    {
     "data": {
      "text/html": [
       "<div>\n",
       "<style scoped>\n",
       "    .dataframe tbody tr th:only-of-type {\n",
       "        vertical-align: middle;\n",
       "    }\n",
       "\n",
       "    .dataframe tbody tr th {\n",
       "        vertical-align: top;\n",
       "    }\n",
       "\n",
       "    .dataframe thead th {\n",
       "        text-align: right;\n",
       "    }\n",
       "</style>\n",
       "<table border=\"1\" class=\"dataframe\">\n",
       "  <thead>\n",
       "    <tr style=\"text-align: right;\">\n",
       "      <th></th>\n",
       "      <th>children</th>\n",
       "      <th>days_employed</th>\n",
       "      <th>dob_years</th>\n",
       "      <th>education</th>\n",
       "      <th>education_id</th>\n",
       "      <th>family_status</th>\n",
       "      <th>family_status_id</th>\n",
       "      <th>gender</th>\n",
       "      <th>income_type</th>\n",
       "      <th>debt</th>\n",
       "      <th>total_income</th>\n",
       "      <th>purpose</th>\n",
       "    </tr>\n",
       "  </thead>\n",
       "  <tbody>\n",
       "    <tr>\n",
       "      <th>12</th>\n",
       "      <td>0</td>\n",
       "      <td>NaN</td>\n",
       "      <td>65</td>\n",
       "      <td>среднее</td>\n",
       "      <td>1</td>\n",
       "      <td>гражданский брак</td>\n",
       "      <td>1</td>\n",
       "      <td>M</td>\n",
       "      <td>пенсионер</td>\n",
       "      <td>0</td>\n",
       "      <td>NaN</td>\n",
       "      <td>сыграть свадьбу</td>\n",
       "    </tr>\n",
       "    <tr>\n",
       "      <th>26</th>\n",
       "      <td>0</td>\n",
       "      <td>NaN</td>\n",
       "      <td>41</td>\n",
       "      <td>среднее</td>\n",
       "      <td>1</td>\n",
       "      <td>женат / замужем</td>\n",
       "      <td>0</td>\n",
       "      <td>M</td>\n",
       "      <td>госслужащий</td>\n",
       "      <td>0</td>\n",
       "      <td>NaN</td>\n",
       "      <td>образование</td>\n",
       "    </tr>\n",
       "    <tr>\n",
       "      <th>29</th>\n",
       "      <td>0</td>\n",
       "      <td>NaN</td>\n",
       "      <td>63</td>\n",
       "      <td>среднее</td>\n",
       "      <td>1</td>\n",
       "      <td>Не женат / не замужем</td>\n",
       "      <td>4</td>\n",
       "      <td>F</td>\n",
       "      <td>пенсионер</td>\n",
       "      <td>0</td>\n",
       "      <td>NaN</td>\n",
       "      <td>строительство жилой недвижимости</td>\n",
       "    </tr>\n",
       "    <tr>\n",
       "      <th>41</th>\n",
       "      <td>0</td>\n",
       "      <td>NaN</td>\n",
       "      <td>50</td>\n",
       "      <td>среднее</td>\n",
       "      <td>1</td>\n",
       "      <td>женат / замужем</td>\n",
       "      <td>0</td>\n",
       "      <td>F</td>\n",
       "      <td>госслужащий</td>\n",
       "      <td>0</td>\n",
       "      <td>NaN</td>\n",
       "      <td>сделка с подержанным автомобилем</td>\n",
       "    </tr>\n",
       "    <tr>\n",
       "      <th>55</th>\n",
       "      <td>0</td>\n",
       "      <td>NaN</td>\n",
       "      <td>54</td>\n",
       "      <td>среднее</td>\n",
       "      <td>1</td>\n",
       "      <td>гражданский брак</td>\n",
       "      <td>1</td>\n",
       "      <td>F</td>\n",
       "      <td>пенсионер</td>\n",
       "      <td>1</td>\n",
       "      <td>NaN</td>\n",
       "      <td>сыграть свадьбу</td>\n",
       "    </tr>\n",
       "  </tbody>\n",
       "</table>\n",
       "</div>"
      ],
      "text/plain": [
       "    children  days_employed  dob_years education  education_id  \\\n",
       "12         0            NaN         65   среднее             1   \n",
       "26         0            NaN         41   среднее             1   \n",
       "29         0            NaN         63   среднее             1   \n",
       "41         0            NaN         50   среднее             1   \n",
       "55         0            NaN         54   среднее             1   \n",
       "\n",
       "            family_status  family_status_id gender  income_type  debt  \\\n",
       "12       гражданский брак                 1      M    пенсионер     0   \n",
       "26        женат / замужем                 0      M  госслужащий     0   \n",
       "29  Не женат / не замужем                 4      F    пенсионер     0   \n",
       "41        женат / замужем                 0      F  госслужащий     0   \n",
       "55       гражданский брак                 1      F    пенсионер     1   \n",
       "\n",
       "    total_income                           purpose  \n",
       "12           NaN                   сыграть свадьбу  \n",
       "26           NaN                       образование  \n",
       "29           NaN  строительство жилой недвижимости  \n",
       "41           NaN  сделка с подержанным автомобилем  \n",
       "55           NaN                   сыграть свадьбу  "
      ]
     },
     "execution_count": 4,
     "metadata": {},
     "output_type": "execute_result"
    }
   ],
   "source": [
    "# вывод первых пяти пропусков в столбце `total_income`\n",
    "data[data['total_income'].isna()].head()"
   ]
  },
  {
   "cell_type": "code",
   "execution_count": 5,
   "id": "55272e75",
   "metadata": {},
   "outputs": [
    {
     "data": {
      "text/plain": [
       "0.11234561521368405"
      ]
     },
     "metadata": {},
     "output_type": "display_data"
    },
    {
     "data": {
      "text/plain": [
       "0.11234561521368405"
      ]
     },
     "metadata": {},
     "output_type": "display_data"
    }
   ],
   "source": [
    "# подсчёт доли пропусков в столбцах `total_income` и `days_employed`\n",
    "display(data['total_income'].isna().sum() / data['total_income'].count())\n",
    "display(data['days_employed'].isna().sum() / data['days_employed'].count())"
   ]
  },
  {
   "cell_type": "markdown",
   "id": "935e7cf7",
   "metadata": {},
   "source": [
    "Строки с пропущенными данными в столбцах 2 и 10 совпадают, \n",
    "а также количество пропущенных данных в столбцах совпадает по количеству.\n",
    "\n",
    "Пропущено более 10% от данных.\n",
    "\n",
    "Заполним пропущенные значения в столбце `total_income` медианным значением."
   ]
  },
  {
   "cell_type": "code",
   "execution_count": 6,
   "id": "0db95403",
   "metadata": {},
   "outputs": [
    {
     "data": {
      "text/plain": [
       "145017.93753253992"
      ]
     },
     "execution_count": 6,
     "metadata": {},
     "output_type": "execute_result"
    }
   ],
   "source": [
    "# расчет медианного значения для столбца `total_income`\n",
    "total_income_median = data['total_income'].median()\n",
    "total_income_median"
   ]
  },
  {
   "cell_type": "code",
   "execution_count": 7,
   "id": "1107936a",
   "metadata": {},
   "outputs": [
    {
     "data": {
      "text/plain": [
       "children                           0\n",
       "days_employed                    NaN\n",
       "dob_years                         65\n",
       "education                    среднее\n",
       "education_id                       1\n",
       "family_status       гражданский брак\n",
       "family_status_id                   1\n",
       "gender                             M\n",
       "income_type                пенсионер\n",
       "debt                               0\n",
       "total_income           145017.937533\n",
       "purpose              сыграть свадьбу\n",
       "Name: 12, dtype: object"
      ]
     },
     "execution_count": 7,
     "metadata": {},
     "output_type": "execute_result"
    }
   ],
   "source": [
    "# замена пропусков на медианное значение\n",
    "data['total_income'] = data['total_income'].fillna(total_income_median)\n",
    "# проверка замены пропуска на медианное значение\n",
    "data.loc[12]"
   ]
  },
  {
   "cell_type": "markdown",
   "id": "52f86a9e",
   "metadata": {},
   "source": [
    "**Выводы**\n",
    "\n",
    "Пропуски в данных носят одинаковый характер, так как совпадают строки и количество пропусков.\n",
    "\n",
    "Данные могли быть пропущены в связи с технической ошибкой или связаны с человеческим фактором.\n",
    "\n",
    "Поскольку доля пропусков более 1% и составляет 11% требуется заполнить их характерными хначениям для получения более достоверных выводов.\n",
    "\n",
    "Заполнить пропуски медианным значением — лучшее решение для количественных переменных, так как данные в столбце `total_income` отображают суммарный доход и при заполнении пропусков средним значением, можем увеличить долю ошибки."
   ]
  },
  {
   "cell_type": "markdown",
   "id": "a35129e5",
   "metadata": {},
   "source": [
    "### Шаг 2.2 Проверка данных на аномалии и исправления."
   ]
  },
  {
   "cell_type": "markdown",
   "id": "889fb68f",
   "metadata": {},
   "source": [
    "В столбце `days_employed` встречаются отрицательные значения. Заменим отрицательные значения на абсолютные.\n",
    "Проверим также столбец `children` и при наличии отрицательных, значений вернем абсолютные."
   ]
  },
  {
   "cell_type": "code",
   "execution_count": 8,
   "id": "a4fd3adc",
   "metadata": {},
   "outputs": [],
   "source": [
    "# замена отрицательных значений на абсолютные для столбца `days_employed`\n",
    "data['days_employed'] = data['days_employed'].abs()"
   ]
  },
  {
   "cell_type": "code",
   "execution_count": 9,
   "id": "6d6aefad",
   "metadata": {},
   "outputs": [
    {
     "data": {
      "text/plain": [
       "array([ 1,  0,  3,  2, -1,  4, 20,  5], dtype=int64)"
      ]
     },
     "metadata": {},
     "output_type": "display_data"
    },
    {
     "data": {
      "text/plain": [
       "array([ 1,  0,  3,  2,  4, 20,  5], dtype=int64)"
      ]
     },
     "execution_count": 9,
     "metadata": {},
     "output_type": "execute_result"
    }
   ],
   "source": [
    "# запрос уникальных значений столбца `children` для проверки гипотезы с отрицательными значениями\n",
    "display(data['children'].unique())\n",
    "# замена отрицательных значений на абсолютные для столбца `days_employed`\n",
    "data['children'] = data['children'].abs()\n",
    "# проверим стобец `children` после замены на абсолютные значения\n",
    "data['children'].unique()"
   ]
  },
  {
   "cell_type": "markdown",
   "id": "cc11987d",
   "metadata": {},
   "source": [
    "Так как в уникальных значения встречается число 20, при отсутсвии 6-19, это также является аномалией. Поэтому заменим на более подходящее по смыслу значение 2, так как вероятнее всего к числу добавился ноль в результате технического сбоя или ошибки."
   ]
  },
  {
   "cell_type": "code",
   "execution_count": 10,
   "id": "906e104e",
   "metadata": {},
   "outputs": [
    {
     "data": {
      "text/plain": [
       "array([1, 0, 3, 2, 4, 5], dtype=int64)"
      ]
     },
     "execution_count": 10,
     "metadata": {},
     "output_type": "execute_result"
    }
   ],
   "source": [
    "# замена аномальных значений '20' на более подходящее '2' для столбца `children`\n",
    "data['children'] = data['children'].replace(20, 2)\n",
    "# проверим стобец `children` после замены аномального значения 20 на 2\n",
    "data['children'].unique()"
   ]
  },
  {
   "cell_type": "markdown",
   "id": "7035d1bb",
   "metadata": {},
   "source": [
    "Причины появления таких данных возможны изза сбоя обработки данных или технической ошибки, поскольку также встречаются и пропуски в данных.\n",
    "\n",
    "Так как это количественные значения, правильным будем заменить недостающие значения на медианные."
   ]
  },
  {
   "cell_type": "code",
   "execution_count": 11,
   "id": "67c65973",
   "metadata": {},
   "outputs": [
    {
     "data": {
      "text/plain": [
       "children                           0\n",
       "days_employed            2194.220567\n",
       "dob_years                         65\n",
       "education                    среднее\n",
       "education_id                       1\n",
       "family_status       гражданский брак\n",
       "family_status_id                   1\n",
       "gender                             M\n",
       "income_type                пенсионер\n",
       "debt                               0\n",
       "total_income           145017.937533\n",
       "purpose              сыграть свадьбу\n",
       "Name: 12, dtype: object"
      ]
     },
     "execution_count": 11,
     "metadata": {},
     "output_type": "execute_result"
    }
   ],
   "source": [
    "# расчет медианного значения для столбца `days_employed`\n",
    "days_employed_median = data['days_employed'].median()\n",
    "\n",
    "# замена пропусков на медианное значение\n",
    "data['days_employed'] = data['days_employed'].fillna(days_employed_median)\n",
    "\n",
    "# проверка замены пропуска на медианное значение (в сооответствии с пунктом 2.1 возьмем строку № 12)\n",
    "data.loc[12]"
   ]
  },
  {
   "cell_type": "markdown",
   "id": "7548ca46",
   "metadata": {},
   "source": [
    "### Шаг 2.3. Изменение типов данных."
   ]
  },
  {
   "cell_type": "markdown",
   "id": "d004c9d0",
   "metadata": {},
   "source": [
    "Заменим вещественный тип данных в столбце `total_income` на целочисленный, с помощью метода astype()."
   ]
  },
  {
   "cell_type": "code",
   "execution_count": 12,
   "id": "40be8ab9",
   "metadata": {},
   "outputs": [
    {
     "data": {
      "text/html": [
       "<div>\n",
       "<style scoped>\n",
       "    .dataframe tbody tr th:only-of-type {\n",
       "        vertical-align: middle;\n",
       "    }\n",
       "\n",
       "    .dataframe tbody tr th {\n",
       "        vertical-align: top;\n",
       "    }\n",
       "\n",
       "    .dataframe thead th {\n",
       "        text-align: right;\n",
       "    }\n",
       "</style>\n",
       "<table border=\"1\" class=\"dataframe\">\n",
       "  <thead>\n",
       "    <tr style=\"text-align: right;\">\n",
       "      <th></th>\n",
       "      <th>children</th>\n",
       "      <th>days_employed</th>\n",
       "      <th>dob_years</th>\n",
       "      <th>education</th>\n",
       "      <th>education_id</th>\n",
       "      <th>family_status</th>\n",
       "      <th>family_status_id</th>\n",
       "      <th>gender</th>\n",
       "      <th>income_type</th>\n",
       "      <th>debt</th>\n",
       "      <th>total_income</th>\n",
       "      <th>purpose</th>\n",
       "    </tr>\n",
       "  </thead>\n",
       "  <tbody>\n",
       "    <tr>\n",
       "      <th>0</th>\n",
       "      <td>1</td>\n",
       "      <td>8437.673028</td>\n",
       "      <td>42</td>\n",
       "      <td>высшее</td>\n",
       "      <td>0</td>\n",
       "      <td>женат / замужем</td>\n",
       "      <td>0</td>\n",
       "      <td>F</td>\n",
       "      <td>сотрудник</td>\n",
       "      <td>0</td>\n",
       "      <td>253875</td>\n",
       "      <td>покупка жилья</td>\n",
       "    </tr>\n",
       "    <tr>\n",
       "      <th>1</th>\n",
       "      <td>1</td>\n",
       "      <td>4024.803754</td>\n",
       "      <td>36</td>\n",
       "      <td>среднее</td>\n",
       "      <td>1</td>\n",
       "      <td>женат / замужем</td>\n",
       "      <td>0</td>\n",
       "      <td>F</td>\n",
       "      <td>сотрудник</td>\n",
       "      <td>0</td>\n",
       "      <td>112080</td>\n",
       "      <td>приобретение автомобиля</td>\n",
       "    </tr>\n",
       "    <tr>\n",
       "      <th>2</th>\n",
       "      <td>0</td>\n",
       "      <td>5623.422610</td>\n",
       "      <td>33</td>\n",
       "      <td>Среднее</td>\n",
       "      <td>1</td>\n",
       "      <td>женат / замужем</td>\n",
       "      <td>0</td>\n",
       "      <td>M</td>\n",
       "      <td>сотрудник</td>\n",
       "      <td>0</td>\n",
       "      <td>145885</td>\n",
       "      <td>покупка жилья</td>\n",
       "    </tr>\n",
       "    <tr>\n",
       "      <th>3</th>\n",
       "      <td>3</td>\n",
       "      <td>4124.747207</td>\n",
       "      <td>32</td>\n",
       "      <td>среднее</td>\n",
       "      <td>1</td>\n",
       "      <td>женат / замужем</td>\n",
       "      <td>0</td>\n",
       "      <td>M</td>\n",
       "      <td>сотрудник</td>\n",
       "      <td>0</td>\n",
       "      <td>267628</td>\n",
       "      <td>дополнительное образование</td>\n",
       "    </tr>\n",
       "    <tr>\n",
       "      <th>4</th>\n",
       "      <td>0</td>\n",
       "      <td>340266.072047</td>\n",
       "      <td>53</td>\n",
       "      <td>среднее</td>\n",
       "      <td>1</td>\n",
       "      <td>гражданский брак</td>\n",
       "      <td>1</td>\n",
       "      <td>F</td>\n",
       "      <td>пенсионер</td>\n",
       "      <td>0</td>\n",
       "      <td>158616</td>\n",
       "      <td>сыграть свадьбу</td>\n",
       "    </tr>\n",
       "    <tr>\n",
       "      <th>5</th>\n",
       "      <td>0</td>\n",
       "      <td>926.185831</td>\n",
       "      <td>27</td>\n",
       "      <td>высшее</td>\n",
       "      <td>0</td>\n",
       "      <td>гражданский брак</td>\n",
       "      <td>1</td>\n",
       "      <td>M</td>\n",
       "      <td>компаньон</td>\n",
       "      <td>0</td>\n",
       "      <td>255763</td>\n",
       "      <td>покупка жилья</td>\n",
       "    </tr>\n",
       "    <tr>\n",
       "      <th>6</th>\n",
       "      <td>0</td>\n",
       "      <td>2879.202052</td>\n",
       "      <td>43</td>\n",
       "      <td>высшее</td>\n",
       "      <td>0</td>\n",
       "      <td>женат / замужем</td>\n",
       "      <td>0</td>\n",
       "      <td>F</td>\n",
       "      <td>компаньон</td>\n",
       "      <td>0</td>\n",
       "      <td>240525</td>\n",
       "      <td>операции с жильем</td>\n",
       "    </tr>\n",
       "    <tr>\n",
       "      <th>7</th>\n",
       "      <td>0</td>\n",
       "      <td>152.779569</td>\n",
       "      <td>50</td>\n",
       "      <td>СРЕДНЕЕ</td>\n",
       "      <td>1</td>\n",
       "      <td>женат / замужем</td>\n",
       "      <td>0</td>\n",
       "      <td>M</td>\n",
       "      <td>сотрудник</td>\n",
       "      <td>0</td>\n",
       "      <td>135823</td>\n",
       "      <td>образование</td>\n",
       "    </tr>\n",
       "    <tr>\n",
       "      <th>8</th>\n",
       "      <td>2</td>\n",
       "      <td>6929.865299</td>\n",
       "      <td>35</td>\n",
       "      <td>ВЫСШЕЕ</td>\n",
       "      <td>0</td>\n",
       "      <td>гражданский брак</td>\n",
       "      <td>1</td>\n",
       "      <td>F</td>\n",
       "      <td>сотрудник</td>\n",
       "      <td>0</td>\n",
       "      <td>95856</td>\n",
       "      <td>на проведение свадьбы</td>\n",
       "    </tr>\n",
       "    <tr>\n",
       "      <th>9</th>\n",
       "      <td>0</td>\n",
       "      <td>2188.756445</td>\n",
       "      <td>41</td>\n",
       "      <td>среднее</td>\n",
       "      <td>1</td>\n",
       "      <td>женат / замужем</td>\n",
       "      <td>0</td>\n",
       "      <td>M</td>\n",
       "      <td>сотрудник</td>\n",
       "      <td>0</td>\n",
       "      <td>144425</td>\n",
       "      <td>покупка жилья для семьи</td>\n",
       "    </tr>\n",
       "  </tbody>\n",
       "</table>\n",
       "</div>"
      ],
      "text/plain": [
       "   children  days_employed  dob_years education  education_id  \\\n",
       "0         1    8437.673028         42    высшее             0   \n",
       "1         1    4024.803754         36   среднее             1   \n",
       "2         0    5623.422610         33   Среднее             1   \n",
       "3         3    4124.747207         32   среднее             1   \n",
       "4         0  340266.072047         53   среднее             1   \n",
       "5         0     926.185831         27    высшее             0   \n",
       "6         0    2879.202052         43    высшее             0   \n",
       "7         0     152.779569         50   СРЕДНЕЕ             1   \n",
       "8         2    6929.865299         35    ВЫСШЕЕ             0   \n",
       "9         0    2188.756445         41   среднее             1   \n",
       "\n",
       "      family_status  family_status_id gender income_type  debt  total_income  \\\n",
       "0   женат / замужем                 0      F   сотрудник     0        253875   \n",
       "1   женат / замужем                 0      F   сотрудник     0        112080   \n",
       "2   женат / замужем                 0      M   сотрудник     0        145885   \n",
       "3   женат / замужем                 0      M   сотрудник     0        267628   \n",
       "4  гражданский брак                 1      F   пенсионер     0        158616   \n",
       "5  гражданский брак                 1      M   компаньон     0        255763   \n",
       "6   женат / замужем                 0      F   компаньон     0        240525   \n",
       "7   женат / замужем                 0      M   сотрудник     0        135823   \n",
       "8  гражданский брак                 1      F   сотрудник     0         95856   \n",
       "9   женат / замужем                 0      M   сотрудник     0        144425   \n",
       "\n",
       "                      purpose  \n",
       "0               покупка жилья  \n",
       "1     приобретение автомобиля  \n",
       "2               покупка жилья  \n",
       "3  дополнительное образование  \n",
       "4             сыграть свадьбу  \n",
       "5               покупка жилья  \n",
       "6           операции с жильем  \n",
       "7                 образование  \n",
       "8       на проведение свадьбы  \n",
       "9     покупка жилья для семьи  "
      ]
     },
     "execution_count": 12,
     "metadata": {},
     "output_type": "execute_result"
    }
   ],
   "source": [
    "# Замена типа данных в столбце `total_income` на целочисленный, с помощью метода astype().\n",
    "data['total_income'] = data['total_income'].astype('int')\n",
    "\n",
    "# получение первых 10 строк таблицы data для проверки применения метода astype()\n",
    "data.head(10)"
   ]
  },
  {
   "cell_type": "markdown",
   "id": "871516fc",
   "metadata": {},
   "source": [
    "### Шаг 2.4. Удаление дубликатов."
   ]
  },
  {
   "cell_type": "markdown",
   "id": "0e295b9a",
   "metadata": {},
   "source": [
    "В данных замечены значения записанные в разном регистре в столбцах `education` и `family_status`\n",
    "Следует привести их к одному регистру."
   ]
  },
  {
   "cell_type": "code",
   "execution_count": 13,
   "id": "df00773c",
   "metadata": {},
   "outputs": [
    {
     "data": {
      "text/plain": [
       "array(['женат / замужем', 'гражданский брак', 'вдовец / вдова',\n",
       "       'в разводе', 'Не женат / не замужем'], dtype=object)"
      ]
     },
     "metadata": {},
     "output_type": "display_data"
    },
    {
     "data": {
      "text/plain": [
       "array(['женат / замужем', 'гражданский брак', 'вдовец / вдова',\n",
       "       'в разводе', 'не женат / не замужем'], dtype=object)"
      ]
     },
     "execution_count": 13,
     "metadata": {},
     "output_type": "execute_result"
    }
   ],
   "source": [
    "# корректировка значений в стобце `education` с помощью метода str.lower() \n",
    "data['education'] = data['education'].str.lower()\n",
    "\n",
    "# запрос уникальных значений столбца `family_status` для проверки гипотезы, что данные записанн в разном регистре\n",
    "display(data['family_status'].unique())\n",
    "\n",
    "# корректировка значений в стобце `family_status` с помощью метода str.lower() \n",
    "data['family_status'] = data['family_status'].str.lower()\n",
    "\n",
    "# проверка примененного метода для значений ранее записанных в разном регистре\n",
    "data['family_status'].unique()"
   ]
  },
  {
   "cell_type": "markdown",
   "id": "cac94033",
   "metadata": {},
   "source": [
    "Проверим данные на наличие строк-дубликатов, и при наличии - удалим их из таблицы data.  "
   ]
  },
  {
   "cell_type": "code",
   "execution_count": 14,
   "id": "047931fc",
   "metadata": {},
   "outputs": [
    {
     "data": {
      "text/plain": [
       "71"
      ]
     },
     "metadata": {},
     "output_type": "display_data"
    },
    {
     "name": "stdout",
     "output_type": "stream",
     "text": [
      "<class 'pandas.core.frame.DataFrame'>\n",
      "Int64Index: 21454 entries, 0 to 21524\n",
      "Data columns (total 12 columns):\n",
      " #   Column            Non-Null Count  Dtype  \n",
      "---  ------            --------------  -----  \n",
      " 0   children          21454 non-null  int64  \n",
      " 1   days_employed     21454 non-null  float64\n",
      " 2   dob_years         21454 non-null  int64  \n",
      " 3   education         21454 non-null  object \n",
      " 4   education_id      21454 non-null  int64  \n",
      " 5   family_status     21454 non-null  object \n",
      " 6   family_status_id  21454 non-null  int64  \n",
      " 7   gender            21454 non-null  object \n",
      " 8   income_type       21454 non-null  object \n",
      " 9   debt              21454 non-null  int64  \n",
      " 10  total_income      21454 non-null  int32  \n",
      " 11  purpose           21454 non-null  object \n",
      "dtypes: float64(1), int32(1), int64(5), object(5)\n",
      "memory usage: 2.0+ MB\n"
     ]
    }
   ],
   "source": [
    "# расчет количества явных строк-дубликатов\n",
    "display(data.duplicated().sum())\n",
    "\n",
    "# удаление строк-дубликатов во всей таблице data\n",
    "data = data.drop_duplicates()\n",
    "\n",
    "# получение общей информации о данных в таблице data, для проверки отсутсвия пропусков и дубликатов\n",
    "data.info()"
   ]
  },
  {
   "cell_type": "markdown",
   "id": "95a23eb8",
   "metadata": {},
   "source": [
    "Для поиска и расчета количества дубликатов был выбран метод `duplicated()` совместно с методом `sum()`\n",
    "\n",
    "Для удаления дубликатов в данных применен метод `drop_duplicates()`\n",
    "\n",
    "Дубликаты в данных могли появится в связи с технической ошибкой, или с человеческим фактором при внесении данных в общую базу."
   ]
  },
  {
   "cell_type": "markdown",
   "id": "6d6d715f",
   "metadata": {},
   "source": [
    "### Шаг 2.5. Формирование дополнительных датафреймов словарей, декомпозиция исходного датафрейма."
   ]
  },
  {
   "cell_type": "markdown",
   "id": "1f003fe2",
   "metadata": {},
   "source": [
    "Создадим новые датафреймы — это «словари», к которым сможем обращаться по идентификатору."
   ]
  },
  {
   "cell_type": "code",
   "execution_count": 15,
   "id": "4201b691",
   "metadata": {},
   "outputs": [
    {
     "data": {
      "text/html": [
       "<div>\n",
       "<style scoped>\n",
       "    .dataframe tbody tr th:only-of-type {\n",
       "        vertical-align: middle;\n",
       "    }\n",
       "\n",
       "    .dataframe tbody tr th {\n",
       "        vertical-align: top;\n",
       "    }\n",
       "\n",
       "    .dataframe thead th {\n",
       "        text-align: right;\n",
       "    }\n",
       "</style>\n",
       "<table border=\"1\" class=\"dataframe\">\n",
       "  <thead>\n",
       "    <tr style=\"text-align: right;\">\n",
       "      <th></th>\n",
       "      <th>education</th>\n",
       "      <th>education_id</th>\n",
       "    </tr>\n",
       "  </thead>\n",
       "  <tbody>\n",
       "    <tr>\n",
       "      <th>0</th>\n",
       "      <td>высшее</td>\n",
       "      <td>0</td>\n",
       "    </tr>\n",
       "    <tr>\n",
       "      <th>1</th>\n",
       "      <td>среднее</td>\n",
       "      <td>1</td>\n",
       "    </tr>\n",
       "    <tr>\n",
       "      <th>2</th>\n",
       "      <td>неоконченное высшее</td>\n",
       "      <td>2</td>\n",
       "    </tr>\n",
       "    <tr>\n",
       "      <th>3</th>\n",
       "      <td>начальное</td>\n",
       "      <td>3</td>\n",
       "    </tr>\n",
       "    <tr>\n",
       "      <th>4</th>\n",
       "      <td>ученая степень</td>\n",
       "      <td>4</td>\n",
       "    </tr>\n",
       "  </tbody>\n",
       "</table>\n",
       "</div>"
      ],
      "text/plain": [
       "             education  education_id\n",
       "0               высшее             0\n",
       "1              среднее             1\n",
       "2  неоконченное высшее             2\n",
       "3            начальное             3\n",
       "4       ученая степень             4"
      ]
     },
     "metadata": {},
     "output_type": "display_data"
    }
   ],
   "source": [
    "# разделим таблицу data, первая состоит из уникальных значений `education` и соответствующих значений `education_id`\n",
    "data_education = data[['education','education_id']]\n",
    "\n",
    "# удаление дубликатов из датафрейма `data_education`\n",
    "data_education = data_education.drop_duplicates().reset_index(drop=True)\n",
    "\n",
    "# вывод на экран для получения визуального представления о новой таблице №1\n",
    "display(data_education.head())"
   ]
  },
  {
   "cell_type": "code",
   "execution_count": 16,
   "id": "14b4a65b",
   "metadata": {},
   "outputs": [
    {
     "data": {
      "text/html": [
       "<div>\n",
       "<style scoped>\n",
       "    .dataframe tbody tr th:only-of-type {\n",
       "        vertical-align: middle;\n",
       "    }\n",
       "\n",
       "    .dataframe tbody tr th {\n",
       "        vertical-align: top;\n",
       "    }\n",
       "\n",
       "    .dataframe thead th {\n",
       "        text-align: right;\n",
       "    }\n",
       "</style>\n",
       "<table border=\"1\" class=\"dataframe\">\n",
       "  <thead>\n",
       "    <tr style=\"text-align: right;\">\n",
       "      <th></th>\n",
       "      <th>family_status</th>\n",
       "      <th>family_status_id</th>\n",
       "    </tr>\n",
       "  </thead>\n",
       "  <tbody>\n",
       "    <tr>\n",
       "      <th>0</th>\n",
       "      <td>женат / замужем</td>\n",
       "      <td>0</td>\n",
       "    </tr>\n",
       "    <tr>\n",
       "      <th>1</th>\n",
       "      <td>гражданский брак</td>\n",
       "      <td>1</td>\n",
       "    </tr>\n",
       "    <tr>\n",
       "      <th>2</th>\n",
       "      <td>вдовец / вдова</td>\n",
       "      <td>2</td>\n",
       "    </tr>\n",
       "    <tr>\n",
       "      <th>3</th>\n",
       "      <td>в разводе</td>\n",
       "      <td>3</td>\n",
       "    </tr>\n",
       "    <tr>\n",
       "      <th>4</th>\n",
       "      <td>не женат / не замужем</td>\n",
       "      <td>4</td>\n",
       "    </tr>\n",
       "  </tbody>\n",
       "</table>\n",
       "</div>"
      ],
      "text/plain": [
       "           family_status  family_status_id\n",
       "0        женат / замужем                 0\n",
       "1       гражданский брак                 1\n",
       "2         вдовец / вдова                 2\n",
       "3              в разводе                 3\n",
       "4  не женат / не замужем                 4"
      ]
     },
     "metadata": {},
     "output_type": "display_data"
    }
   ],
   "source": [
    "# вторая состоит из уникальных значений `family_status` и соответствующих значений `family_status_id`\n",
    "data_family_status = data[['family_status','family_status_id']]\n",
    "\n",
    "# удаление дубликатов из датафрейма `data_family_status`\n",
    "data_family_status = data_family_status.drop_duplicates().reset_index(drop=True)\n",
    "\n",
    "# вывод на экран для получения визуального представления о новой таблице №2\n",
    "display(data_family_status.head())"
   ]
  },
  {
   "cell_type": "markdown",
   "id": "b407ca90",
   "metadata": {},
   "source": [
    "Удалим из исходного датафрейма столбцы `education` и `family_status`, оставив только их идентификаторы: education_id и family_status_id. "
   ]
  },
  {
   "cell_type": "code",
   "execution_count": 17,
   "id": "ddf42fbc",
   "metadata": {},
   "outputs": [
    {
     "data": {
      "text/html": [
       "<div>\n",
       "<style scoped>\n",
       "    .dataframe tbody tr th:only-of-type {\n",
       "        vertical-align: middle;\n",
       "    }\n",
       "\n",
       "    .dataframe tbody tr th {\n",
       "        vertical-align: top;\n",
       "    }\n",
       "\n",
       "    .dataframe thead th {\n",
       "        text-align: right;\n",
       "    }\n",
       "</style>\n",
       "<table border=\"1\" class=\"dataframe\">\n",
       "  <thead>\n",
       "    <tr style=\"text-align: right;\">\n",
       "      <th></th>\n",
       "      <th>children</th>\n",
       "      <th>days_employed</th>\n",
       "      <th>dob_years</th>\n",
       "      <th>education_id</th>\n",
       "      <th>family_status_id</th>\n",
       "      <th>gender</th>\n",
       "      <th>income_type</th>\n",
       "      <th>debt</th>\n",
       "      <th>total_income</th>\n",
       "      <th>purpose</th>\n",
       "    </tr>\n",
       "  </thead>\n",
       "  <tbody>\n",
       "    <tr>\n",
       "      <th>0</th>\n",
       "      <td>1</td>\n",
       "      <td>8437.673028</td>\n",
       "      <td>42</td>\n",
       "      <td>0</td>\n",
       "      <td>0</td>\n",
       "      <td>F</td>\n",
       "      <td>сотрудник</td>\n",
       "      <td>0</td>\n",
       "      <td>253875</td>\n",
       "      <td>покупка жилья</td>\n",
       "    </tr>\n",
       "    <tr>\n",
       "      <th>1</th>\n",
       "      <td>1</td>\n",
       "      <td>4024.803754</td>\n",
       "      <td>36</td>\n",
       "      <td>1</td>\n",
       "      <td>0</td>\n",
       "      <td>F</td>\n",
       "      <td>сотрудник</td>\n",
       "      <td>0</td>\n",
       "      <td>112080</td>\n",
       "      <td>приобретение автомобиля</td>\n",
       "    </tr>\n",
       "    <tr>\n",
       "      <th>2</th>\n",
       "      <td>0</td>\n",
       "      <td>5623.422610</td>\n",
       "      <td>33</td>\n",
       "      <td>1</td>\n",
       "      <td>0</td>\n",
       "      <td>M</td>\n",
       "      <td>сотрудник</td>\n",
       "      <td>0</td>\n",
       "      <td>145885</td>\n",
       "      <td>покупка жилья</td>\n",
       "    </tr>\n",
       "    <tr>\n",
       "      <th>3</th>\n",
       "      <td>3</td>\n",
       "      <td>4124.747207</td>\n",
       "      <td>32</td>\n",
       "      <td>1</td>\n",
       "      <td>0</td>\n",
       "      <td>M</td>\n",
       "      <td>сотрудник</td>\n",
       "      <td>0</td>\n",
       "      <td>267628</td>\n",
       "      <td>дополнительное образование</td>\n",
       "    </tr>\n",
       "    <tr>\n",
       "      <th>4</th>\n",
       "      <td>0</td>\n",
       "      <td>340266.072047</td>\n",
       "      <td>53</td>\n",
       "      <td>1</td>\n",
       "      <td>1</td>\n",
       "      <td>F</td>\n",
       "      <td>пенсионер</td>\n",
       "      <td>0</td>\n",
       "      <td>158616</td>\n",
       "      <td>сыграть свадьбу</td>\n",
       "    </tr>\n",
       "  </tbody>\n",
       "</table>\n",
       "</div>"
      ],
      "text/plain": [
       "   children  days_employed  dob_years  education_id  family_status_id gender  \\\n",
       "0         1    8437.673028         42             0                 0      F   \n",
       "1         1    4024.803754         36             1                 0      F   \n",
       "2         0    5623.422610         33             1                 0      M   \n",
       "3         3    4124.747207         32             1                 0      M   \n",
       "4         0  340266.072047         53             1                 1      F   \n",
       "\n",
       "  income_type  debt  total_income                     purpose  \n",
       "0   сотрудник     0        253875               покупка жилья  \n",
       "1   сотрудник     0        112080     приобретение автомобиля  \n",
       "2   сотрудник     0        145885               покупка жилья  \n",
       "3   сотрудник     0        267628  дополнительное образование  \n",
       "4   пенсионер     0        158616             сыграть свадьбу  "
      ]
     },
     "execution_count": 17,
     "metadata": {},
     "output_type": "execute_result"
    }
   ],
   "source": [
    "# удаление столбцов из исходного датафрейма, без удаления идентификаторов\n",
    "data = data[['children', 'days_employed', 'dob_years', 'education_id', 'family_status_id', 'gender', 'income_type', 'debt', 'total_income', 'purpose']]\n",
    "data.head()"
   ]
  },
  {
   "cell_type": "markdown",
   "id": "ba8c2dda",
   "metadata": {},
   "source": [
    "### Шаг 2.6. Категоризация дохода."
   ]
  },
  {
   "cell_type": "markdown",
   "id": "6bf51dbb",
   "metadata": {},
   "source": [
    "Cоздадим столбец `total_income_category` со следующими категориями:\n",
    "\n",
    "0–30000 — 'E';\n",
    "\n",
    "30001–50000 — 'D';\n",
    "\n",
    "50001–200000 — 'C';\n",
    "\n",
    "200001–1000000 — 'B';\n",
    "\n",
    "1000001 и выше — 'A'.\n",
    "\n",
    "и заполним его, применив функцию `total_income_category(total_income)`"
   ]
  },
  {
   "cell_type": "code",
   "execution_count": 18,
   "id": "8f4471c3",
   "metadata": {},
   "outputs": [
    {
     "data": {
      "text/html": [
       "<div>\n",
       "<style scoped>\n",
       "    .dataframe tbody tr th:only-of-type {\n",
       "        vertical-align: middle;\n",
       "    }\n",
       "\n",
       "    .dataframe tbody tr th {\n",
       "        vertical-align: top;\n",
       "    }\n",
       "\n",
       "    .dataframe thead th {\n",
       "        text-align: right;\n",
       "    }\n",
       "</style>\n",
       "<table border=\"1\" class=\"dataframe\">\n",
       "  <thead>\n",
       "    <tr style=\"text-align: right;\">\n",
       "      <th></th>\n",
       "      <th>children</th>\n",
       "      <th>days_employed</th>\n",
       "      <th>dob_years</th>\n",
       "      <th>education_id</th>\n",
       "      <th>family_status_id</th>\n",
       "      <th>gender</th>\n",
       "      <th>income_type</th>\n",
       "      <th>debt</th>\n",
       "      <th>total_income</th>\n",
       "      <th>purpose</th>\n",
       "      <th>total_income_category</th>\n",
       "    </tr>\n",
       "  </thead>\n",
       "  <tbody>\n",
       "    <tr>\n",
       "      <th>0</th>\n",
       "      <td>1</td>\n",
       "      <td>8437.673028</td>\n",
       "      <td>42</td>\n",
       "      <td>0</td>\n",
       "      <td>0</td>\n",
       "      <td>F</td>\n",
       "      <td>сотрудник</td>\n",
       "      <td>0</td>\n",
       "      <td>253875</td>\n",
       "      <td>покупка жилья</td>\n",
       "      <td>B</td>\n",
       "    </tr>\n",
       "    <tr>\n",
       "      <th>1</th>\n",
       "      <td>1</td>\n",
       "      <td>4024.803754</td>\n",
       "      <td>36</td>\n",
       "      <td>1</td>\n",
       "      <td>0</td>\n",
       "      <td>F</td>\n",
       "      <td>сотрудник</td>\n",
       "      <td>0</td>\n",
       "      <td>112080</td>\n",
       "      <td>приобретение автомобиля</td>\n",
       "      <td>C</td>\n",
       "    </tr>\n",
       "    <tr>\n",
       "      <th>2</th>\n",
       "      <td>0</td>\n",
       "      <td>5623.422610</td>\n",
       "      <td>33</td>\n",
       "      <td>1</td>\n",
       "      <td>0</td>\n",
       "      <td>M</td>\n",
       "      <td>сотрудник</td>\n",
       "      <td>0</td>\n",
       "      <td>145885</td>\n",
       "      <td>покупка жилья</td>\n",
       "      <td>C</td>\n",
       "    </tr>\n",
       "    <tr>\n",
       "      <th>3</th>\n",
       "      <td>3</td>\n",
       "      <td>4124.747207</td>\n",
       "      <td>32</td>\n",
       "      <td>1</td>\n",
       "      <td>0</td>\n",
       "      <td>M</td>\n",
       "      <td>сотрудник</td>\n",
       "      <td>0</td>\n",
       "      <td>267628</td>\n",
       "      <td>дополнительное образование</td>\n",
       "      <td>B</td>\n",
       "    </tr>\n",
       "    <tr>\n",
       "      <th>4</th>\n",
       "      <td>0</td>\n",
       "      <td>340266.072047</td>\n",
       "      <td>53</td>\n",
       "      <td>1</td>\n",
       "      <td>1</td>\n",
       "      <td>F</td>\n",
       "      <td>пенсионер</td>\n",
       "      <td>0</td>\n",
       "      <td>158616</td>\n",
       "      <td>сыграть свадьбу</td>\n",
       "      <td>C</td>\n",
       "    </tr>\n",
       "  </tbody>\n",
       "</table>\n",
       "</div>"
      ],
      "text/plain": [
       "   children  days_employed  dob_years  education_id  family_status_id gender  \\\n",
       "0         1    8437.673028         42             0                 0      F   \n",
       "1         1    4024.803754         36             1                 0      F   \n",
       "2         0    5623.422610         33             1                 0      M   \n",
       "3         3    4124.747207         32             1                 0      M   \n",
       "4         0  340266.072047         53             1                 1      F   \n",
       "\n",
       "  income_type  debt  total_income                     purpose  \\\n",
       "0   сотрудник     0        253875               покупка жилья   \n",
       "1   сотрудник     0        112080     приобретение автомобиля   \n",
       "2   сотрудник     0        145885               покупка жилья   \n",
       "3   сотрудник     0        267628  дополнительное образование   \n",
       "4   пенсионер     0        158616             сыграть свадьбу   \n",
       "\n",
       "  total_income_category  \n",
       "0                     B  \n",
       "1                     C  \n",
       "2                     C  \n",
       "3                     B  \n",
       "4                     C  "
      ]
     },
     "execution_count": 18,
     "metadata": {},
     "output_type": "execute_result"
    }
   ],
   "source": [
    "# создание функции `total_income_category` для описания значений категорий в зависимости от дохода\n",
    "def total_income_category(total_income):\n",
    "    if total_income <= 30000:\n",
    "        return 'E'\n",
    "    if 30001 <= total_income <= 50000:\n",
    "        return 'D'\n",
    "    if 50001 <= total_income <= 200000:\n",
    "        return 'C'\n",
    "    if 200001 <= total_income <= 1000000:\n",
    "        return 'B'\n",
    "    return 'A'\n",
    "# заполнения столбца `total_income_category` применив к значениям из столбца 'total_income' функцию выше\n",
    "data['total_income_category'] = data['total_income'].apply(total_income_category)\n",
    "# проверка работы функции и заполнения нового столбца\n",
    "data.head()"
   ]
  },
  {
   "cell_type": "markdown",
   "id": "e37bfbbc",
   "metadata": {},
   "source": [
    "### Шаг 2.7. Категоризация целей кредита."
   ]
  },
  {
   "cell_type": "markdown",
   "id": "6696c817",
   "metadata": {},
   "source": [
    "Создадим функцию, которая на основании данных из столбца purpose сформирует новый столбец `purpose_category`, \n",
    "в который войдут следующие категории:\n",
    "\n",
    "`операции с автомобилем`,\n",
    "\n",
    "`операции с недвижимостью`,\n",
    "\n",
    "`проведение свадьбы`,\n",
    "\n",
    "`получение образования`.\n",
    "\n",
    "Используем эту функцию и метод apply() для заполнения значений в столбце `purpose_category`."
   ]
  },
  {
   "cell_type": "code",
   "execution_count": 19,
   "id": "c74a684f",
   "metadata": {},
   "outputs": [
    {
     "data": {
      "text/html": [
       "<div>\n",
       "<style scoped>\n",
       "    .dataframe tbody tr th:only-of-type {\n",
       "        vertical-align: middle;\n",
       "    }\n",
       "\n",
       "    .dataframe tbody tr th {\n",
       "        vertical-align: top;\n",
       "    }\n",
       "\n",
       "    .dataframe thead th {\n",
       "        text-align: right;\n",
       "    }\n",
       "</style>\n",
       "<table border=\"1\" class=\"dataframe\">\n",
       "  <thead>\n",
       "    <tr style=\"text-align: right;\">\n",
       "      <th></th>\n",
       "      <th>children</th>\n",
       "      <th>days_employed</th>\n",
       "      <th>dob_years</th>\n",
       "      <th>education_id</th>\n",
       "      <th>family_status_id</th>\n",
       "      <th>gender</th>\n",
       "      <th>income_type</th>\n",
       "      <th>debt</th>\n",
       "      <th>total_income</th>\n",
       "      <th>purpose</th>\n",
       "      <th>total_income_category</th>\n",
       "      <th>purpose_category</th>\n",
       "    </tr>\n",
       "  </thead>\n",
       "  <tbody>\n",
       "    <tr>\n",
       "      <th>0</th>\n",
       "      <td>1</td>\n",
       "      <td>8437.673028</td>\n",
       "      <td>42</td>\n",
       "      <td>0</td>\n",
       "      <td>0</td>\n",
       "      <td>F</td>\n",
       "      <td>сотрудник</td>\n",
       "      <td>0</td>\n",
       "      <td>253875</td>\n",
       "      <td>покупка жилья</td>\n",
       "      <td>B</td>\n",
       "      <td>операции с недвижимостью</td>\n",
       "    </tr>\n",
       "    <tr>\n",
       "      <th>1</th>\n",
       "      <td>1</td>\n",
       "      <td>4024.803754</td>\n",
       "      <td>36</td>\n",
       "      <td>1</td>\n",
       "      <td>0</td>\n",
       "      <td>F</td>\n",
       "      <td>сотрудник</td>\n",
       "      <td>0</td>\n",
       "      <td>112080</td>\n",
       "      <td>приобретение автомобиля</td>\n",
       "      <td>C</td>\n",
       "      <td>операции с автомобилем</td>\n",
       "    </tr>\n",
       "    <tr>\n",
       "      <th>2</th>\n",
       "      <td>0</td>\n",
       "      <td>5623.422610</td>\n",
       "      <td>33</td>\n",
       "      <td>1</td>\n",
       "      <td>0</td>\n",
       "      <td>M</td>\n",
       "      <td>сотрудник</td>\n",
       "      <td>0</td>\n",
       "      <td>145885</td>\n",
       "      <td>покупка жилья</td>\n",
       "      <td>C</td>\n",
       "      <td>операции с недвижимостью</td>\n",
       "    </tr>\n",
       "    <tr>\n",
       "      <th>3</th>\n",
       "      <td>3</td>\n",
       "      <td>4124.747207</td>\n",
       "      <td>32</td>\n",
       "      <td>1</td>\n",
       "      <td>0</td>\n",
       "      <td>M</td>\n",
       "      <td>сотрудник</td>\n",
       "      <td>0</td>\n",
       "      <td>267628</td>\n",
       "      <td>дополнительное образование</td>\n",
       "      <td>B</td>\n",
       "      <td>получение образования</td>\n",
       "    </tr>\n",
       "    <tr>\n",
       "      <th>4</th>\n",
       "      <td>0</td>\n",
       "      <td>340266.072047</td>\n",
       "      <td>53</td>\n",
       "      <td>1</td>\n",
       "      <td>1</td>\n",
       "      <td>F</td>\n",
       "      <td>пенсионер</td>\n",
       "      <td>0</td>\n",
       "      <td>158616</td>\n",
       "      <td>сыграть свадьбу</td>\n",
       "      <td>C</td>\n",
       "      <td>проведение свадьбы</td>\n",
       "    </tr>\n",
       "  </tbody>\n",
       "</table>\n",
       "</div>"
      ],
      "text/plain": [
       "   children  days_employed  dob_years  education_id  family_status_id gender  \\\n",
       "0         1    8437.673028         42             0                 0      F   \n",
       "1         1    4024.803754         36             1                 0      F   \n",
       "2         0    5623.422610         33             1                 0      M   \n",
       "3         3    4124.747207         32             1                 0      M   \n",
       "4         0  340266.072047         53             1                 1      F   \n",
       "\n",
       "  income_type  debt  total_income                     purpose  \\\n",
       "0   сотрудник     0        253875               покупка жилья   \n",
       "1   сотрудник     0        112080     приобретение автомобиля   \n",
       "2   сотрудник     0        145885               покупка жилья   \n",
       "3   сотрудник     0        267628  дополнительное образование   \n",
       "4   пенсионер     0        158616             сыграть свадьбу   \n",
       "\n",
       "  total_income_category          purpose_category  \n",
       "0                     B  операции с недвижимостью  \n",
       "1                     C    операции с автомобилем  \n",
       "2                     C  операции с недвижимостью  \n",
       "3                     B     получение образования  \n",
       "4                     C        проведение свадьбы  "
      ]
     },
     "execution_count": 19,
     "metadata": {},
     "output_type": "execute_result"
    }
   ],
   "source": [
    "# получение уникальных значений стобца `purpose` \n",
    "data['purpose'].unique()\n",
    "# создание списков для функции на основании уникальных значений \n",
    "auto = [\n",
    "    'приобретение автомобиля', 'на покупку подержанного автомобиля', 'на покупку своего автомобиля', 'автомобили', \n",
    "    'сделка с подержанным автомобилем', 'автомобиль', 'свой автомобиль', 'сделка с автомобилем', 'на покупку автомобиля'\n",
    "]\n",
    "# (не потребовался список) edu = ['дополнительное образование', 'образование', 'заняться образованием', 'получение образования', 'получение дополнительного образования', 'получение высшего образования', 'профильное образование', 'высшее образование', 'заняться высшим образованием']\n",
    "wedding = ['сыграть свадьбу', 'на проведение свадьбы', 'свадьба']\n",
    "real_property = [\n",
    "    'покупка жилья', 'операции с жильем', 'покупка жилья для семьи', 'покупка недвижимости', \n",
    "    'покупка коммерческой недвижимости', 'покупка жилой недвижимости', 'строительство собственной недвижимости', \n",
    "    'недвижимость', 'строительство недвижимости', 'жилье', 'операции с коммерческой недвижимостью', \n",
    "    'строительство жилой недвижимости', 'операции со своей недвижимостью', 'покупка своего жилья',\n",
    "    'операции с недвижимостью', 'покупка жилья для сдачи', 'ремонт жилью'\n",
    "]\n",
    "# создание функции `purpose_category` для описания значений категорий в зависимости от указанной цели\n",
    "def purpose_category(purpose):\n",
    "    for i in range(len(auto)):\n",
    "        if purpose == auto[i]:\n",
    "            return 'операции с автомобилем'\n",
    "    for i in range(len(real_property)):\n",
    "        if purpose == real_property[i]:\n",
    "            return 'операции с недвижимостью'\n",
    "    for i in range(len(wedding)):\n",
    "        if purpose == wedding[i]:\n",
    "            return 'проведение свадьбы'\n",
    "    return 'получение образования'\n",
    "# заполнения столбца `purpose_category` применив к значениям из столбца 'purpose' функцию выше\n",
    "data['purpose_category'] = data['purpose'].apply(purpose_category)\n",
    "# проверка работы функции и заполнения нового столбца\n",
    "data.head()"
   ]
  },
  {
   "cell_type": "markdown",
   "id": "49b2bed1",
   "metadata": {},
   "source": [
    "### Ответы на вопросы."
   ]
  },
  {
   "cell_type": "markdown",
   "id": "f88aab08",
   "metadata": {},
   "source": [
    "##### Вопрос 1:\n",
    "\n",
    "Есть ли зависимость между количеством детей и возвратом кредита в срок?"
   ]
  },
  {
   "cell_type": "code",
   "execution_count": 20,
   "id": "1aeb5c84",
   "metadata": {},
   "outputs": [
    {
     "data": {
      "text/html": [
       "<div>\n",
       "<style scoped>\n",
       "    .dataframe tbody tr th:only-of-type {\n",
       "        vertical-align: middle;\n",
       "    }\n",
       "\n",
       "    .dataframe tbody tr th {\n",
       "        vertical-align: top;\n",
       "    }\n",
       "\n",
       "    .dataframe thead th {\n",
       "        text-align: right;\n",
       "    }\n",
       "</style>\n",
       "<table border=\"1\" class=\"dataframe\">\n",
       "  <thead>\n",
       "    <tr style=\"text-align: right;\">\n",
       "      <th>debt</th>\n",
       "      <th>0</th>\n",
       "      <th>1</th>\n",
       "      <th>ratio</th>\n",
       "    </tr>\n",
       "    <tr>\n",
       "      <th>children</th>\n",
       "      <th></th>\n",
       "      <th></th>\n",
       "      <th></th>\n",
       "    </tr>\n",
       "  </thead>\n",
       "  <tbody>\n",
       "    <tr>\n",
       "      <th>0</th>\n",
       "      <td>13028.0</td>\n",
       "      <td>1063.0</td>\n",
       "      <td>0.081593</td>\n",
       "    </tr>\n",
       "    <tr>\n",
       "      <th>1</th>\n",
       "      <td>4410.0</td>\n",
       "      <td>445.0</td>\n",
       "      <td>0.100907</td>\n",
       "    </tr>\n",
       "    <tr>\n",
       "      <th>2</th>\n",
       "      <td>1926.0</td>\n",
       "      <td>202.0</td>\n",
       "      <td>0.104881</td>\n",
       "    </tr>\n",
       "    <tr>\n",
       "      <th>3</th>\n",
       "      <td>303.0</td>\n",
       "      <td>27.0</td>\n",
       "      <td>0.089109</td>\n",
       "    </tr>\n",
       "    <tr>\n",
       "      <th>4</th>\n",
       "      <td>37.0</td>\n",
       "      <td>4.0</td>\n",
       "      <td>0.108108</td>\n",
       "    </tr>\n",
       "    <tr>\n",
       "      <th>5</th>\n",
       "      <td>9.0</td>\n",
       "      <td>NaN</td>\n",
       "      <td>NaN</td>\n",
       "    </tr>\n",
       "  </tbody>\n",
       "</table>\n",
       "</div>"
      ],
      "text/plain": [
       "debt            0       1     ratio\n",
       "children                           \n",
       "0         13028.0  1063.0  0.081593\n",
       "1          4410.0   445.0  0.100907\n",
       "2          1926.0   202.0  0.104881\n",
       "3           303.0    27.0  0.089109\n",
       "4            37.0     4.0  0.108108\n",
       "5             9.0     NaN       NaN"
      ]
     },
     "execution_count": 20,
     "metadata": {},
     "output_type": "execute_result"
    }
   ],
   "source": [
    "# создание сводной таблицы учитывая всех детей совместно со столбцом о наличии задолженности \n",
    "pivot_one = data.pivot_table(index='children', columns='debt', values='total_income', aggfunc='count')\n",
    "# получение столбца `ratio` показывающий отношение отсутсвия и наличия задолженности\n",
    "pivot_one['ratio'] = pivot_one[1] / pivot_one[0]\n",
    "# вывод на экран таблицы совместно со столбцом `ratio`\n",
    "pivot_one"
   ]
  },
  {
   "cell_type": "markdown",
   "id": "e3d62c32",
   "metadata": {},
   "source": [
    "**Ответ**:\n",
    "\n",
    "Зависимость между количеством детей и возвратом кредита не существенная, так как по столбцу ratio можно заметить, что процент задолженностей относительно количества детей не сильно изменяется, в диапазоне 8-11% от строки к строке.\n",
    "\n",
    "Так же можно заметить, что в данной выборке среди людей, у которых имеется 5 детей - нет людей с задолженностью, скорее всего это случайное исключение не влияющее на общую картину так как есть значения `ratio` выше данной строки."
   ]
  },
  {
   "cell_type": "markdown",
   "id": "8d79af39",
   "metadata": {},
   "source": [
    "##### Вопрос 2:\n",
    "\n",
    "Есть ли зависимость между семейным положением и возвратом кредита в срок?"
   ]
  },
  {
   "cell_type": "code",
   "execution_count": 21,
   "id": "0eedb4de",
   "metadata": {},
   "outputs": [
    {
     "data": {
      "text/html": [
       "<div>\n",
       "<style scoped>\n",
       "    .dataframe tbody tr th:only-of-type {\n",
       "        vertical-align: middle;\n",
       "    }\n",
       "\n",
       "    .dataframe tbody tr th {\n",
       "        vertical-align: top;\n",
       "    }\n",
       "\n",
       "    .dataframe thead th {\n",
       "        text-align: right;\n",
       "    }\n",
       "</style>\n",
       "<table border=\"1\" class=\"dataframe\">\n",
       "  <thead>\n",
       "    <tr style=\"text-align: right;\">\n",
       "      <th></th>\n",
       "      <th>family_status</th>\n",
       "      <th>family_status_id</th>\n",
       "      <th>0</th>\n",
       "      <th>1</th>\n",
       "      <th>ratio</th>\n",
       "    </tr>\n",
       "  </thead>\n",
       "  <tbody>\n",
       "    <tr>\n",
       "      <th>0</th>\n",
       "      <td>женат / замужем</td>\n",
       "      <td>0</td>\n",
       "      <td>11408</td>\n",
       "      <td>931</td>\n",
       "      <td>0.081609</td>\n",
       "    </tr>\n",
       "    <tr>\n",
       "      <th>1</th>\n",
       "      <td>гражданский брак</td>\n",
       "      <td>1</td>\n",
       "      <td>3763</td>\n",
       "      <td>388</td>\n",
       "      <td>0.103109</td>\n",
       "    </tr>\n",
       "    <tr>\n",
       "      <th>4</th>\n",
       "      <td>не женат / не замужем</td>\n",
       "      <td>4</td>\n",
       "      <td>2536</td>\n",
       "      <td>274</td>\n",
       "      <td>0.108044</td>\n",
       "    </tr>\n",
       "    <tr>\n",
       "      <th>3</th>\n",
       "      <td>в разводе</td>\n",
       "      <td>3</td>\n",
       "      <td>1110</td>\n",
       "      <td>85</td>\n",
       "      <td>0.076577</td>\n",
       "    </tr>\n",
       "    <tr>\n",
       "      <th>2</th>\n",
       "      <td>вдовец / вдова</td>\n",
       "      <td>2</td>\n",
       "      <td>896</td>\n",
       "      <td>63</td>\n",
       "      <td>0.070312</td>\n",
       "    </tr>\n",
       "  </tbody>\n",
       "</table>\n",
       "</div>"
      ],
      "text/plain": [
       "           family_status  family_status_id      0    1     ratio\n",
       "0        женат / замужем                 0  11408  931  0.081609\n",
       "1       гражданский брак                 1   3763  388  0.103109\n",
       "4  не женат / не замужем                 4   2536  274  0.108044\n",
       "3              в разводе                 3   1110   85  0.076577\n",
       "2         вдовец / вдова                 2    896   63  0.070312"
      ]
     },
     "execution_count": 21,
     "metadata": {},
     "output_type": "execute_result"
    }
   ],
   "source": [
    "# создание сводной таблицы учитывая количество значений в каждой группе (количество посчитано по столбцу `children`) \n",
    "# совместно с идентификатором семейного статуса и наличию задолженности \n",
    "pivot_two = data.pivot_table(index='family_status_id', columns='debt', values='children', aggfunc='count')\n",
    "# объединение сводной таблицы с таблицей-словарем для понимания семейного положения, дополнительно отсортируем по убыванию\n",
    "merged_pivot_two = data_family_status.merge(pivot_two, on='family_status_id', how='left').sort_values(by=0, ascending=False)\n",
    "# получение столбца `ratio` показывающий отношение отсутсвия и наличия задолженности\n",
    "merged_pivot_two['ratio'] = merged_pivot_two[1] / merged_pivot_two[0]\n",
    "# вывод на экран таблицы совместно со столбцом `ratio`\n",
    "merged_pivot_two"
   ]
  },
  {
   "cell_type": "markdown",
   "id": "fdb46d52",
   "metadata": {},
   "source": [
    "**Ответ**:\n",
    "\n",
    "Зависимость между семейным положением и возвратом кредита не существенная, так как по столбцу `ratio` можно заметить, что процент задолженностей относительно семейного статуса не сильно изменяется, в диапазоне 7-10% от строки к строке."
   ]
  },
  {
   "cell_type": "markdown",
   "id": "c2625488",
   "metadata": {},
   "source": [
    "##### Вопрос 3:\n",
    "\n",
    "Есть ли зависимость между уровнем дохода и возвратом кредита в срок?"
   ]
  },
  {
   "cell_type": "code",
   "execution_count": 22,
   "id": "88c33324",
   "metadata": {},
   "outputs": [
    {
     "data": {
      "text/html": [
       "<div>\n",
       "<style scoped>\n",
       "    .dataframe tbody tr th:only-of-type {\n",
       "        vertical-align: middle;\n",
       "    }\n",
       "\n",
       "    .dataframe tbody tr th {\n",
       "        vertical-align: top;\n",
       "    }\n",
       "\n",
       "    .dataframe thead th {\n",
       "        text-align: right;\n",
       "    }\n",
       "</style>\n",
       "<table border=\"1\" class=\"dataframe\">\n",
       "  <thead>\n",
       "    <tr style=\"text-align: right;\">\n",
       "      <th>debt</th>\n",
       "      <th>0</th>\n",
       "      <th>1</th>\n",
       "      <th>ratio</th>\n",
       "    </tr>\n",
       "    <tr>\n",
       "      <th>total_income_category</th>\n",
       "      <th></th>\n",
       "      <th></th>\n",
       "      <th></th>\n",
       "    </tr>\n",
       "  </thead>\n",
       "  <tbody>\n",
       "    <tr>\n",
       "      <th>A</th>\n",
       "      <td>23</td>\n",
       "      <td>2</td>\n",
       "      <td>0.086957</td>\n",
       "    </tr>\n",
       "    <tr>\n",
       "      <th>B</th>\n",
       "      <td>4685</td>\n",
       "      <td>356</td>\n",
       "      <td>0.075987</td>\n",
       "    </tr>\n",
       "    <tr>\n",
       "      <th>C</th>\n",
       "      <td>14656</td>\n",
       "      <td>1360</td>\n",
       "      <td>0.092795</td>\n",
       "    </tr>\n",
       "    <tr>\n",
       "      <th>D</th>\n",
       "      <td>329</td>\n",
       "      <td>21</td>\n",
       "      <td>0.063830</td>\n",
       "    </tr>\n",
       "    <tr>\n",
       "      <th>E</th>\n",
       "      <td>20</td>\n",
       "      <td>2</td>\n",
       "      <td>0.100000</td>\n",
       "    </tr>\n",
       "  </tbody>\n",
       "</table>\n",
       "</div>"
      ],
      "text/plain": [
       "debt                       0     1     ratio\n",
       "total_income_category                       \n",
       "A                         23     2  0.086957\n",
       "B                       4685   356  0.075987\n",
       "C                      14656  1360  0.092795\n",
       "D                        329    21  0.063830\n",
       "E                         20     2  0.100000"
      ]
     },
     "execution_count": 22,
     "metadata": {},
     "output_type": "execute_result"
    }
   ],
   "source": [
    "# создание сводной таблицы учитывая категорию дохода и наличие / отсутствие задолженности по возврату \n",
    "pivot_three = data.pivot_table(index='total_income_category', columns='debt', values='total_income', aggfunc='count')\n",
    "# получение столбца `ratio` показывающий соотношение отсутсвия и наличия задолженности\n",
    "pivot_three['ratio'] = pivot_three[1] / pivot_three[0]\n",
    "# вывод на экран таблицы совместно со столбцом `ratio`\n",
    "pivot_three"
   ]
  },
  {
   "cell_type": "markdown",
   "id": "b5245b1b",
   "metadata": {},
   "source": [
    "**Ответ**:\n",
    "\n",
    "Зависимость между уровнем дохода и возвратом кредита не существенная, так как по столбцу `ratio` можно заметить, что процент задолженностей относительно категории дохода не сильно изменяется, в диапазоне 6-10% от строки к строке."
   ]
  },
  {
   "cell_type": "markdown",
   "id": "adc860e2",
   "metadata": {},
   "source": [
    "##### Вопрос 4:\n",
    "\n",
    "Как разные цели кредита влияют на его возврат в срок?"
   ]
  },
  {
   "cell_type": "code",
   "execution_count": 23,
   "id": "532df58a",
   "metadata": {},
   "outputs": [
    {
     "data": {
      "text/html": [
       "<div>\n",
       "<style scoped>\n",
       "    .dataframe tbody tr th:only-of-type {\n",
       "        vertical-align: middle;\n",
       "    }\n",
       "\n",
       "    .dataframe tbody tr th {\n",
       "        vertical-align: top;\n",
       "    }\n",
       "\n",
       "    .dataframe thead th {\n",
       "        text-align: right;\n",
       "    }\n",
       "</style>\n",
       "<table border=\"1\" class=\"dataframe\">\n",
       "  <thead>\n",
       "    <tr style=\"text-align: right;\">\n",
       "      <th>debt</th>\n",
       "      <th>0</th>\n",
       "      <th>1</th>\n",
       "      <th>ratio</th>\n",
       "    </tr>\n",
       "    <tr>\n",
       "      <th>purpose_category</th>\n",
       "      <th></th>\n",
       "      <th></th>\n",
       "      <th></th>\n",
       "    </tr>\n",
       "  </thead>\n",
       "  <tbody>\n",
       "    <tr>\n",
       "      <th>операции с автомобилем</th>\n",
       "      <td>3903</td>\n",
       "      <td>403</td>\n",
       "      <td>0.103254</td>\n",
       "    </tr>\n",
       "    <tr>\n",
       "      <th>операции с недвижимостью</th>\n",
       "      <td>10029</td>\n",
       "      <td>782</td>\n",
       "      <td>0.077974</td>\n",
       "    </tr>\n",
       "    <tr>\n",
       "      <th>получение образования</th>\n",
       "      <td>3643</td>\n",
       "      <td>370</td>\n",
       "      <td>0.101565</td>\n",
       "    </tr>\n",
       "    <tr>\n",
       "      <th>проведение свадьбы</th>\n",
       "      <td>2138</td>\n",
       "      <td>186</td>\n",
       "      <td>0.086997</td>\n",
       "    </tr>\n",
       "  </tbody>\n",
       "</table>\n",
       "</div>"
      ],
      "text/plain": [
       "debt                          0    1     ratio\n",
       "purpose_category                              \n",
       "операции с автомобилем     3903  403  0.103254\n",
       "операции с недвижимостью  10029  782  0.077974\n",
       "получение образования      3643  370  0.101565\n",
       "проведение свадьбы         2138  186  0.086997"
      ]
     },
     "execution_count": 23,
     "metadata": {},
     "output_type": "execute_result"
    }
   ],
   "source": [
    "# создание сводной таблицы учитывая цель кредитта и наличие / отсутствие задолженности по возврату \n",
    "pivot_four = data.pivot_table(index='purpose_category', columns='debt', values='total_income', aggfunc='count')\n",
    "# получение столбца `ratio` показывающий соотношение отсутсвия и наличия задолженности\n",
    "pivot_four['ratio'] = pivot_four[1] / pivot_four[0]\n",
    "# вывод на экран таблицы совместно со столбцом `ratio`\n",
    "pivot_four"
   ]
  },
  {
   "cell_type": "markdown",
   "id": "9a5c4a34",
   "metadata": {},
   "source": [
    "**Ответ**:\n",
    "\n",
    "Зависимость между целью кредита и возвратом кредита не существенная, так как по столбцу `ratio` можно заметить, что процент задолженностей относительно цели кредита не сильно изменяется, в диапазоне 7-10% от строки к строке."
   ]
  }
 ],
 "metadata": {
  "ExecuteTimeLog": [
   {
    "duration": 558,
    "start_time": "2022-05-07T18:56:50.076Z"
   },
   {
    "duration": 60,
    "start_time": "2022-05-07T18:57:45.548Z"
   },
   {
    "duration": 58,
    "start_time": "2022-05-07T18:58:38.811Z"
   },
   {
    "duration": 15,
    "start_time": "2022-05-07T18:58:41.579Z"
   },
   {
    "duration": 53,
    "start_time": "2022-05-07T19:09:11.278Z"
   },
   {
    "duration": 17,
    "start_time": "2022-05-07T19:09:27.378Z"
   },
   {
    "duration": 11,
    "start_time": "2022-05-07T19:11:59.876Z"
   },
   {
    "duration": 12,
    "start_time": "2022-05-07T19:12:23.468Z"
   },
   {
    "duration": 13,
    "start_time": "2022-05-07T20:05:30.463Z"
   },
   {
    "duration": 5,
    "start_time": "2022-05-07T20:11:03.234Z"
   },
   {
    "duration": 4,
    "start_time": "2022-05-07T20:12:52.742Z"
   },
   {
    "duration": 8,
    "start_time": "2022-05-07T20:13:15.375Z"
   },
   {
    "duration": 7,
    "start_time": "2022-05-07T20:13:58.481Z"
   },
   {
    "duration": 6,
    "start_time": "2022-05-07T20:14:57.872Z"
   },
   {
    "duration": 6,
    "start_time": "2022-05-07T20:15:09.746Z"
   },
   {
    "duration": 3,
    "start_time": "2022-05-07T20:16:09.714Z"
   },
   {
    "duration": 4,
    "start_time": "2022-05-07T20:16:16.475Z"
   },
   {
    "duration": 3,
    "start_time": "2022-05-07T20:16:23.843Z"
   },
   {
    "duration": 5,
    "start_time": "2022-05-07T20:17:06.100Z"
   },
   {
    "duration": 9,
    "start_time": "2022-05-07T20:17:26.173Z"
   },
   {
    "duration": 13,
    "start_time": "2022-05-07T20:32:18.304Z"
   },
   {
    "duration": 57,
    "start_time": "2022-05-07T20:33:08.966Z"
   },
   {
    "duration": 12,
    "start_time": "2022-05-07T20:33:58.176Z"
   },
   {
    "duration": 12,
    "start_time": "2022-05-07T20:38:05.785Z"
   },
   {
    "duration": 11,
    "start_time": "2022-05-07T20:38:23.929Z"
   },
   {
    "duration": 6,
    "start_time": "2022-05-07T20:51:40.023Z"
   },
   {
    "duration": 4,
    "start_time": "2022-05-07T20:54:27.773Z"
   },
   {
    "duration": 4,
    "start_time": "2022-05-07T20:54:29.714Z"
   },
   {
    "duration": 5,
    "start_time": "2022-05-07T20:54:40.403Z"
   },
   {
    "duration": 9,
    "start_time": "2022-05-07T20:59:03.307Z"
   },
   {
    "duration": 8,
    "start_time": "2022-05-07T20:59:28.067Z"
   },
   {
    "duration": 1525,
    "start_time": "2022-05-07T21:02:02.199Z"
   },
   {
    "duration": 8,
    "start_time": "2022-05-07T21:03:51.915Z"
   },
   {
    "duration": 7,
    "start_time": "2022-05-07T21:04:04.593Z"
   },
   {
    "duration": 8,
    "start_time": "2022-05-07T21:04:15.633Z"
   },
   {
    "duration": 6,
    "start_time": "2022-05-07T21:04:26.387Z"
   },
   {
    "duration": 8,
    "start_time": "2022-05-07T21:04:36.474Z"
   },
   {
    "duration": 14,
    "start_time": "2022-05-07T21:08:14.136Z"
   },
   {
    "duration": 8,
    "start_time": "2022-05-07T21:08:36.104Z"
   },
   {
    "duration": 8,
    "start_time": "2022-05-07T21:08:55.073Z"
   },
   {
    "duration": 9,
    "start_time": "2022-05-07T21:09:07.730Z"
   },
   {
    "duration": 9,
    "start_time": "2022-05-07T21:09:10.681Z"
   },
   {
    "duration": 85,
    "start_time": "2022-05-07T21:09:18.443Z"
   },
   {
    "duration": 19,
    "start_time": "2022-05-07T21:09:18.531Z"
   },
   {
    "duration": 17,
    "start_time": "2022-05-07T21:09:18.552Z"
   },
   {
    "duration": 21,
    "start_time": "2022-05-07T21:09:18.572Z"
   },
   {
    "duration": 8,
    "start_time": "2022-05-07T21:09:18.595Z"
   },
   {
    "duration": 7,
    "start_time": "2022-05-07T21:09:18.605Z"
   },
   {
    "duration": 7,
    "start_time": "2022-05-07T21:09:18.614Z"
   },
   {
    "duration": 16,
    "start_time": "2022-05-07T21:11:31.109Z"
   },
   {
    "duration": 8,
    "start_time": "2022-05-07T21:11:40.236Z"
   },
   {
    "duration": 50,
    "start_time": "2022-05-08T12:07:53.923Z"
   },
   {
    "duration": 517,
    "start_time": "2022-05-08T12:08:00.987Z"
   },
   {
    "duration": 16,
    "start_time": "2022-05-08T12:08:01.506Z"
   },
   {
    "duration": 19,
    "start_time": "2022-05-08T12:08:01.524Z"
   },
   {
    "duration": 12,
    "start_time": "2022-05-08T12:08:01.545Z"
   },
   {
    "duration": 11,
    "start_time": "2022-05-08T12:08:01.559Z"
   },
   {
    "duration": 8,
    "start_time": "2022-05-08T12:08:01.572Z"
   },
   {
    "duration": 6,
    "start_time": "2022-05-08T12:08:01.582Z"
   },
   {
    "duration": 34,
    "start_time": "2022-05-08T12:08:01.590Z"
   },
   {
    "duration": 4,
    "start_time": "2022-05-08T12:08:04.729Z"
   },
   {
    "duration": 15,
    "start_time": "2022-05-08T12:08:22.793Z"
   },
   {
    "duration": 8,
    "start_time": "2022-05-08T12:10:45.854Z"
   },
   {
    "duration": 11,
    "start_time": "2022-05-08T12:11:43.965Z"
   },
   {
    "duration": 12,
    "start_time": "2022-05-08T12:12:44.846Z"
   },
   {
    "duration": 11,
    "start_time": "2022-05-08T12:13:28.210Z"
   },
   {
    "duration": 20,
    "start_time": "2022-05-08T12:18:42.390Z"
   },
   {
    "duration": 5,
    "start_time": "2022-05-08T12:40:16.710Z"
   },
   {
    "duration": 5,
    "start_time": "2022-05-08T12:41:00.036Z"
   },
   {
    "duration": 12,
    "start_time": "2022-05-08T12:43:03.166Z"
   },
   {
    "duration": 25,
    "start_time": "2022-05-08T12:43:13.134Z"
   },
   {
    "duration": 24,
    "start_time": "2022-05-08T12:43:44.095Z"
   },
   {
    "duration": 17,
    "start_time": "2022-05-08T12:44:30.816Z"
   },
   {
    "duration": 16,
    "start_time": "2022-05-08T12:44:48.504Z"
   },
   {
    "duration": 15,
    "start_time": "2022-05-08T12:45:23.433Z"
   },
   {
    "duration": 17,
    "start_time": "2022-05-08T12:45:39.219Z"
   },
   {
    "duration": 17,
    "start_time": "2022-05-08T12:46:04.250Z"
   },
   {
    "duration": 0,
    "start_time": "2022-05-08T12:46:35.069Z"
   },
   {
    "duration": 17,
    "start_time": "2022-05-08T12:46:39.322Z"
   },
   {
    "duration": 27,
    "start_time": "2022-05-08T12:46:57.851Z"
   },
   {
    "duration": 36,
    "start_time": "2022-05-08T12:49:40.943Z"
   },
   {
    "duration": 64,
    "start_time": "2022-05-08T12:51:05.665Z"
   },
   {
    "duration": 45,
    "start_time": "2022-05-08T20:26:17.711Z"
   },
   {
    "duration": 439,
    "start_time": "2022-05-08T20:26:31.308Z"
   },
   {
    "duration": 15,
    "start_time": "2022-05-08T20:26:31.750Z"
   },
   {
    "duration": 19,
    "start_time": "2022-05-08T20:26:31.766Z"
   },
   {
    "duration": 17,
    "start_time": "2022-05-08T20:26:31.787Z"
   },
   {
    "duration": 9,
    "start_time": "2022-05-08T20:26:31.806Z"
   },
   {
    "duration": 6,
    "start_time": "2022-05-08T20:26:31.816Z"
   },
   {
    "duration": 9,
    "start_time": "2022-05-08T20:26:31.823Z"
   },
   {
    "duration": 40,
    "start_time": "2022-05-08T20:26:31.834Z"
   },
   {
    "duration": 17,
    "start_time": "2022-05-08T20:26:31.876Z"
   },
   {
    "duration": 18,
    "start_time": "2022-05-08T20:26:31.895Z"
   },
   {
    "duration": 79,
    "start_time": "2022-05-08T20:26:31.915Z"
   },
   {
    "duration": 7,
    "start_time": "2022-05-08T20:29:49.360Z"
   },
   {
    "duration": 13,
    "start_time": "2022-05-08T20:31:45.300Z"
   },
   {
    "duration": 13,
    "start_time": "2022-05-08T20:35:18.017Z"
   },
   {
    "duration": 34,
    "start_time": "2022-05-08T20:41:23.120Z"
   },
   {
    "duration": 472,
    "start_time": "2022-05-08T20:44:11.352Z"
   },
   {
    "duration": 16,
    "start_time": "2022-05-08T20:44:11.826Z"
   },
   {
    "duration": 32,
    "start_time": "2022-05-08T20:44:11.844Z"
   },
   {
    "duration": 15,
    "start_time": "2022-05-08T20:44:11.878Z"
   },
   {
    "duration": 7,
    "start_time": "2022-05-08T20:44:11.895Z"
   },
   {
    "duration": 7,
    "start_time": "2022-05-08T20:44:11.904Z"
   },
   {
    "duration": 8,
    "start_time": "2022-05-08T20:44:11.913Z"
   },
   {
    "duration": 6,
    "start_time": "2022-05-08T20:44:11.923Z"
   },
   {
    "duration": 47,
    "start_time": "2022-05-08T20:44:11.930Z"
   },
   {
    "duration": 15,
    "start_time": "2022-05-08T20:44:11.980Z"
   },
   {
    "duration": 32,
    "start_time": "2022-05-08T20:44:11.996Z"
   },
   {
    "duration": 76,
    "start_time": "2022-05-08T20:44:12.030Z"
   },
   {
    "duration": 37,
    "start_time": "2022-05-08T20:49:38.258Z"
   },
   {
    "duration": 64,
    "start_time": "2022-05-08T20:55:13.824Z"
   },
   {
    "duration": 52,
    "start_time": "2022-05-08T20:55:47.378Z"
   },
   {
    "duration": 45,
    "start_time": "2022-05-08T20:56:15.785Z"
   },
   {
    "duration": 449,
    "start_time": "2022-05-08T20:56:29.997Z"
   },
   {
    "duration": 16,
    "start_time": "2022-05-08T20:56:30.448Z"
   },
   {
    "duration": 35,
    "start_time": "2022-05-08T20:56:30.466Z"
   },
   {
    "duration": 24,
    "start_time": "2022-05-08T20:56:30.503Z"
   },
   {
    "duration": 18,
    "start_time": "2022-05-08T20:56:30.529Z"
   },
   {
    "duration": 10,
    "start_time": "2022-05-08T20:56:30.549Z"
   },
   {
    "duration": 21,
    "start_time": "2022-05-08T20:56:30.561Z"
   },
   {
    "duration": 10,
    "start_time": "2022-05-08T20:56:30.584Z"
   },
   {
    "duration": 19,
    "start_time": "2022-05-08T20:56:30.595Z"
   },
   {
    "duration": 16,
    "start_time": "2022-05-08T20:56:30.617Z"
   },
   {
    "duration": 46,
    "start_time": "2022-05-08T20:56:30.635Z"
   },
   {
    "duration": 52,
    "start_time": "2022-05-08T20:56:30.683Z"
   },
   {
    "duration": 45,
    "start_time": "2022-05-08T20:56:43.316Z"
   },
   {
    "duration": 454,
    "start_time": "2022-05-08T20:56:49.586Z"
   },
   {
    "duration": 17,
    "start_time": "2022-05-08T20:56:50.042Z"
   },
   {
    "duration": 25,
    "start_time": "2022-05-08T20:56:50.061Z"
   },
   {
    "duration": 14,
    "start_time": "2022-05-08T20:56:50.087Z"
   },
   {
    "duration": 8,
    "start_time": "2022-05-08T20:56:50.103Z"
   },
   {
    "duration": 5,
    "start_time": "2022-05-08T20:56:50.113Z"
   },
   {
    "duration": 7,
    "start_time": "2022-05-08T20:56:50.120Z"
   },
   {
    "duration": 4,
    "start_time": "2022-05-08T20:56:50.173Z"
   },
   {
    "duration": 12,
    "start_time": "2022-05-08T20:56:50.179Z"
   },
   {
    "duration": 15,
    "start_time": "2022-05-08T20:56:50.193Z"
   },
   {
    "duration": 30,
    "start_time": "2022-05-08T20:56:50.209Z"
   },
   {
    "duration": 49,
    "start_time": "2022-05-08T20:56:50.273Z"
   },
   {
    "duration": 45,
    "start_time": "2022-05-08T20:57:44.421Z"
   },
   {
    "duration": 47,
    "start_time": "2022-05-08T20:57:47.646Z"
   },
   {
    "duration": 435,
    "start_time": "2022-05-08T20:58:02.804Z"
   },
   {
    "duration": 16,
    "start_time": "2022-05-08T20:58:03.241Z"
   },
   {
    "duration": 24,
    "start_time": "2022-05-08T20:58:03.258Z"
   },
   {
    "duration": 13,
    "start_time": "2022-05-08T20:58:03.284Z"
   },
   {
    "duration": 11,
    "start_time": "2022-05-08T20:58:03.299Z"
   },
   {
    "duration": 14,
    "start_time": "2022-05-08T20:58:03.312Z"
   },
   {
    "duration": 8,
    "start_time": "2022-05-08T20:58:03.328Z"
   },
   {
    "duration": 35,
    "start_time": "2022-05-08T20:58:03.338Z"
   },
   {
    "duration": 21,
    "start_time": "2022-05-08T20:58:03.375Z"
   },
   {
    "duration": 25,
    "start_time": "2022-05-08T20:58:03.398Z"
   },
   {
    "duration": 31,
    "start_time": "2022-05-08T20:58:03.425Z"
   },
   {
    "duration": 58,
    "start_time": "2022-05-08T20:58:03.457Z"
   },
   {
    "duration": 10,
    "start_time": "2022-05-08T21:07:40.075Z"
   },
   {
    "duration": 16,
    "start_time": "2022-05-08T21:11:25.686Z"
   },
   {
    "duration": 24,
    "start_time": "2022-05-08T21:18:25.057Z"
   },
   {
    "duration": 21,
    "start_time": "2022-05-08T21:18:40.551Z"
   },
   {
    "duration": 14,
    "start_time": "2022-05-08T21:21:18.467Z"
   },
   {
    "duration": 21,
    "start_time": "2022-05-08T21:21:47.565Z"
   },
   {
    "duration": 25,
    "start_time": "2022-05-08T21:21:57.907Z"
   },
   {
    "duration": 12,
    "start_time": "2022-05-08T21:23:48.486Z"
   },
   {
    "duration": 13,
    "start_time": "2022-05-08T21:23:55.477Z"
   },
   {
    "duration": 12,
    "start_time": "2022-05-08T21:25:56.042Z"
   },
   {
    "duration": 13,
    "start_time": "2022-05-08T21:25:58.480Z"
   },
   {
    "duration": 11,
    "start_time": "2022-05-08T21:26:04.057Z"
   },
   {
    "duration": 14,
    "start_time": "2022-05-08T21:26:05.968Z"
   },
   {
    "duration": 5,
    "start_time": "2022-05-08T21:30:59.959Z"
   },
   {
    "duration": 7,
    "start_time": "2022-05-08T21:31:27.648Z"
   },
   {
    "duration": 4,
    "start_time": "2022-05-08T22:52:33.097Z"
   },
   {
    "duration": 7,
    "start_time": "2022-05-08T22:54:00.297Z"
   },
   {
    "duration": 3,
    "start_time": "2022-05-08T22:55:27.355Z"
   },
   {
    "duration": 6,
    "start_time": "2022-05-08T22:55:30.539Z"
   },
   {
    "duration": 479,
    "start_time": "2022-05-08T22:55:52.846Z"
   },
   {
    "duration": 15,
    "start_time": "2022-05-08T22:55:53.327Z"
   },
   {
    "duration": 43,
    "start_time": "2022-05-08T22:55:53.347Z"
   },
   {
    "duration": 15,
    "start_time": "2022-05-08T22:55:53.392Z"
   },
   {
    "duration": 7,
    "start_time": "2022-05-08T22:55:53.408Z"
   },
   {
    "duration": 5,
    "start_time": "2022-05-08T22:55:53.417Z"
   },
   {
    "duration": 6,
    "start_time": "2022-05-08T22:55:53.424Z"
   },
   {
    "duration": 43,
    "start_time": "2022-05-08T22:55:53.432Z"
   },
   {
    "duration": 5,
    "start_time": "2022-05-08T22:55:53.478Z"
   },
   {
    "duration": 10,
    "start_time": "2022-05-08T22:55:53.485Z"
   },
   {
    "duration": 17,
    "start_time": "2022-05-08T22:55:53.496Z"
   },
   {
    "duration": 59,
    "start_time": "2022-05-08T22:55:53.515Z"
   },
   {
    "duration": 47,
    "start_time": "2022-05-08T22:55:53.576Z"
   },
   {
    "duration": 11,
    "start_time": "2022-05-08T22:55:53.625Z"
   },
   {
    "duration": 42,
    "start_time": "2022-05-08T22:55:53.637Z"
   },
   {
    "duration": 2,
    "start_time": "2022-05-08T22:55:53.681Z"
   },
   {
    "duration": 7,
    "start_time": "2022-05-08T22:56:45.891Z"
   },
   {
    "duration": 453,
    "start_time": "2022-05-08T22:56:58.889Z"
   },
   {
    "duration": 16,
    "start_time": "2022-05-08T22:56:59.344Z"
   },
   {
    "duration": 24,
    "start_time": "2022-05-08T22:56:59.362Z"
   },
   {
    "duration": 13,
    "start_time": "2022-05-08T22:56:59.388Z"
   },
   {
    "duration": 8,
    "start_time": "2022-05-08T22:56:59.403Z"
   },
   {
    "duration": 6,
    "start_time": "2022-05-08T22:56:59.412Z"
   },
   {
    "duration": 9,
    "start_time": "2022-05-08T22:56:59.419Z"
   },
   {
    "duration": 3,
    "start_time": "2022-05-08T22:56:59.429Z"
   },
   {
    "duration": 9,
    "start_time": "2022-05-08T22:56:59.472Z"
   },
   {
    "duration": 8,
    "start_time": "2022-05-08T22:56:59.483Z"
   },
   {
    "duration": 14,
    "start_time": "2022-05-08T22:56:59.493Z"
   },
   {
    "duration": 82,
    "start_time": "2022-05-08T22:56:59.509Z"
   },
   {
    "duration": 48,
    "start_time": "2022-05-08T22:56:59.593Z"
   },
   {
    "duration": 39,
    "start_time": "2022-05-08T22:56:59.645Z"
   },
   {
    "duration": 14,
    "start_time": "2022-05-08T22:56:59.686Z"
   },
   {
    "duration": 12,
    "start_time": "2022-05-08T22:56:59.702Z"
   },
   {
    "duration": 5,
    "start_time": "2022-05-08T23:03:21.981Z"
   },
   {
    "duration": 18,
    "start_time": "2022-05-08T23:03:32.301Z"
   },
   {
    "duration": 67,
    "start_time": "2022-05-08T23:05:21.344Z"
   },
   {
    "duration": 1303,
    "start_time": "2022-05-08T23:05:52.121Z"
   },
   {
    "duration": 13,
    "start_time": "2022-05-08T23:06:18.361Z"
   },
   {
    "duration": 8,
    "start_time": "2022-05-08T23:06:58.370Z"
   },
   {
    "duration": 11,
    "start_time": "2022-05-08T23:07:08.531Z"
   },
   {
    "duration": 10,
    "start_time": "2022-05-08T23:07:37.107Z"
   },
   {
    "duration": 1572,
    "start_time": "2022-05-08T23:09:15.653Z"
   },
   {
    "duration": 1341,
    "start_time": "2022-05-08T23:09:19.565Z"
   },
   {
    "duration": 1329,
    "start_time": "2022-05-08T23:09:28.669Z"
   },
   {
    "duration": 12,
    "start_time": "2022-05-08T23:10:51.543Z"
   },
   {
    "duration": 1358,
    "start_time": "2022-05-08T23:11:00.095Z"
   },
   {
    "duration": 18,
    "start_time": "2022-05-08T23:14:42.301Z"
   },
   {
    "duration": 14,
    "start_time": "2022-05-08T23:20:21.796Z"
   },
   {
    "duration": 1478,
    "start_time": "2022-05-08T23:29:31.031Z"
   },
   {
    "duration": 25,
    "start_time": "2022-05-08T23:31:10.434Z"
   },
   {
    "duration": 25,
    "start_time": "2022-05-08T23:36:52.352Z"
   },
   {
    "duration": 18,
    "start_time": "2022-05-08T23:37:13.953Z"
   },
   {
    "duration": 16,
    "start_time": "2022-05-08T23:40:00.204Z"
   },
   {
    "duration": 432,
    "start_time": "2022-05-08T23:40:05.633Z"
   },
   {
    "duration": 18,
    "start_time": "2022-05-08T23:40:06.068Z"
   },
   {
    "duration": 21,
    "start_time": "2022-05-08T23:40:06.091Z"
   },
   {
    "duration": 13,
    "start_time": "2022-05-08T23:40:06.115Z"
   },
   {
    "duration": 46,
    "start_time": "2022-05-08T23:40:06.130Z"
   },
   {
    "duration": 5,
    "start_time": "2022-05-08T23:40:06.178Z"
   },
   {
    "duration": 10,
    "start_time": "2022-05-08T23:40:06.185Z"
   },
   {
    "duration": 5,
    "start_time": "2022-05-08T23:40:06.196Z"
   },
   {
    "duration": 12,
    "start_time": "2022-05-08T23:40:06.202Z"
   },
   {
    "duration": 6,
    "start_time": "2022-05-08T23:40:06.216Z"
   },
   {
    "duration": 57,
    "start_time": "2022-05-08T23:40:06.224Z"
   },
   {
    "duration": 30,
    "start_time": "2022-05-08T23:40:06.282Z"
   },
   {
    "duration": 73,
    "start_time": "2022-05-08T23:40:06.315Z"
   },
   {
    "duration": 12,
    "start_time": "2022-05-08T23:40:06.390Z"
   },
   {
    "duration": 12,
    "start_time": "2022-05-08T23:40:06.404Z"
   },
   {
    "duration": 13,
    "start_time": "2022-05-08T23:40:06.417Z"
   },
   {
    "duration": 52,
    "start_time": "2022-05-08T23:40:06.432Z"
   },
   {
    "duration": 5,
    "start_time": "2022-05-08T23:41:44.129Z"
   },
   {
    "duration": 6,
    "start_time": "2022-05-08T23:42:00.569Z"
   },
   {
    "duration": 746,
    "start_time": "2022-05-09T19:50:54.261Z"
   },
   {
    "duration": 35,
    "start_time": "2022-05-09T19:50:55.012Z"
   },
   {
    "duration": 45,
    "start_time": "2022-05-09T19:50:55.050Z"
   },
   {
    "duration": 54,
    "start_time": "2022-05-09T19:50:55.098Z"
   },
   {
    "duration": 11,
    "start_time": "2022-05-09T19:50:55.155Z"
   },
   {
    "duration": 9,
    "start_time": "2022-05-09T19:50:55.168Z"
   },
   {
    "duration": 52,
    "start_time": "2022-05-09T19:50:55.179Z"
   },
   {
    "duration": 6,
    "start_time": "2022-05-09T19:50:55.233Z"
   },
   {
    "duration": 12,
    "start_time": "2022-05-09T19:50:55.242Z"
   },
   {
    "duration": 68,
    "start_time": "2022-05-09T19:50:55.258Z"
   },
   {
    "duration": 21,
    "start_time": "2022-05-09T19:50:55.328Z"
   },
   {
    "duration": 83,
    "start_time": "2022-05-09T19:50:55.352Z"
   },
   {
    "duration": 99,
    "start_time": "2022-05-09T19:50:55.438Z"
   },
   {
    "duration": 18,
    "start_time": "2022-05-09T19:50:55.540Z"
   },
   {
    "duration": 17,
    "start_time": "2022-05-09T19:50:55.560Z"
   },
   {
    "duration": 60,
    "start_time": "2022-05-09T19:50:55.580Z"
   },
   {
    "duration": 29,
    "start_time": "2022-05-09T19:50:55.642Z"
   },
   {
    "duration": 2088,
    "start_time": "2022-05-09T19:56:01.066Z"
   },
   {
    "duration": 27,
    "start_time": "2022-05-09T19:56:16.208Z"
   },
   {
    "duration": 9,
    "start_time": "2022-05-09T19:56:33.786Z"
   },
   {
    "duration": 39,
    "start_time": "2022-05-09T20:17:51.893Z"
   },
   {
    "duration": 35,
    "start_time": "2022-05-09T20:23:41.558Z"
   },
   {
    "duration": 129,
    "start_time": "2022-05-09T20:25:36.312Z"
   },
   {
    "duration": 122,
    "start_time": "2022-05-09T20:25:59.622Z"
   },
   {
    "duration": 136,
    "start_time": "2022-05-09T20:27:56.121Z"
   },
   {
    "duration": 37,
    "start_time": "2022-05-09T20:29:49.732Z"
   },
   {
    "duration": 147,
    "start_time": "2022-05-09T20:39:47.074Z"
   },
   {
    "duration": 699,
    "start_time": "2022-05-09T20:40:11.673Z"
   },
   {
    "duration": 332,
    "start_time": "2022-05-09T20:43:30.992Z"
   },
   {
    "duration": 119,
    "start_time": "2022-05-09T20:43:48.511Z"
   },
   {
    "duration": 84,
    "start_time": "2022-05-09T20:44:39.056Z"
   },
   {
    "duration": 77,
    "start_time": "2022-05-09T20:45:23.114Z"
   },
   {
    "duration": 79,
    "start_time": "2022-05-09T20:47:02.662Z"
   },
   {
    "duration": 78,
    "start_time": "2022-05-09T20:47:21.485Z"
   },
   {
    "duration": 75,
    "start_time": "2022-05-09T20:47:37.117Z"
   },
   {
    "duration": 1382,
    "start_time": "2022-05-09T20:54:30.638Z"
   },
   {
    "duration": 1464,
    "start_time": "2022-05-09T21:01:33.621Z"
   },
   {
    "duration": 26,
    "start_time": "2022-05-09T21:01:44.621Z"
   },
   {
    "duration": 12,
    "start_time": "2022-05-09T21:02:14.886Z"
   },
   {
    "duration": 13,
    "start_time": "2022-05-09T21:07:16.431Z"
   },
   {
    "duration": 703,
    "start_time": "2022-05-09T21:07:37.741Z"
   },
   {
    "duration": 452,
    "start_time": "2022-05-09T21:08:09.334Z"
   },
   {
    "duration": 687,
    "start_time": "2022-05-09T21:08:25.646Z"
   },
   {
    "duration": 52,
    "start_time": "2022-05-09T21:11:07.603Z"
   },
   {
    "duration": 28,
    "start_time": "2022-05-09T21:11:38.436Z"
   },
   {
    "duration": 17,
    "start_time": "2022-05-09T21:11:54.005Z"
   },
   {
    "duration": 269,
    "start_time": "2022-05-09T21:20:08.592Z"
   },
   {
    "duration": 23,
    "start_time": "2022-05-09T21:42:36.588Z"
   },
   {
    "duration": 21,
    "start_time": "2022-05-09T21:42:59.629Z"
   },
   {
    "duration": 26,
    "start_time": "2022-05-09T21:43:08.244Z"
   },
   {
    "duration": 31,
    "start_time": "2022-05-09T21:45:14.689Z"
   },
   {
    "duration": 30,
    "start_time": "2022-05-09T21:45:23.943Z"
   },
   {
    "duration": 30,
    "start_time": "2022-05-09T21:46:16.568Z"
   },
   {
    "duration": 28,
    "start_time": "2022-05-09T21:46:42.553Z"
   },
   {
    "duration": 23,
    "start_time": "2022-05-09T21:48:57.685Z"
   },
   {
    "duration": 29,
    "start_time": "2022-05-09T21:49:17.277Z"
   },
   {
    "duration": 12,
    "start_time": "2022-05-09T21:51:52.520Z"
   },
   {
    "duration": 12,
    "start_time": "2022-05-09T21:51:58.816Z"
   },
   {
    "duration": 28,
    "start_time": "2022-05-09T21:52:08.624Z"
   },
   {
    "duration": 28,
    "start_time": "2022-05-09T21:52:57.953Z"
   },
   {
    "duration": 27,
    "start_time": "2022-05-09T21:55:48.861Z"
   },
   {
    "duration": 77,
    "start_time": "2022-05-09T22:12:44.347Z"
   },
   {
    "duration": 29,
    "start_time": "2022-05-09T22:56:17.526Z"
   },
   {
    "duration": 27,
    "start_time": "2022-05-09T22:57:13.190Z"
   },
   {
    "duration": 115,
    "start_time": "2022-05-09T23:07:45.388Z"
   },
   {
    "duration": 33,
    "start_time": "2022-05-09T23:07:51.459Z"
   },
   {
    "duration": 32,
    "start_time": "2022-05-09T23:08:14.276Z"
   },
   {
    "duration": 30,
    "start_time": "2022-05-09T23:08:23.300Z"
   },
   {
    "duration": 32,
    "start_time": "2022-05-09T23:08:29.683Z"
   },
   {
    "duration": 32,
    "start_time": "2022-05-09T23:08:45.797Z"
   },
   {
    "duration": 31,
    "start_time": "2022-05-09T23:09:51.911Z"
   },
   {
    "duration": 28,
    "start_time": "2022-05-09T23:09:57.855Z"
   },
   {
    "duration": 27,
    "start_time": "2022-05-09T23:12:25.075Z"
   },
   {
    "duration": 31,
    "start_time": "2022-05-09T23:13:11.980Z"
   },
   {
    "duration": 7,
    "start_time": "2022-05-09T23:14:00.836Z"
   },
   {
    "duration": 9,
    "start_time": "2022-05-09T23:20:02.940Z"
   },
   {
    "duration": 28,
    "start_time": "2022-05-09T23:21:08.398Z"
   },
   {
    "duration": 29,
    "start_time": "2022-05-09T23:22:22.808Z"
   },
   {
    "duration": 26,
    "start_time": "2022-05-09T23:22:52.473Z"
   },
   {
    "duration": 29,
    "start_time": "2022-05-09T23:23:08.305Z"
   },
   {
    "duration": 50,
    "start_time": "2022-05-09T23:24:17.322Z"
   },
   {
    "duration": 30,
    "start_time": "2022-05-09T23:24:38.227Z"
   },
   {
    "duration": 28,
    "start_time": "2022-05-09T23:25:35.724Z"
   },
   {
    "duration": 29,
    "start_time": "2022-05-09T23:25:39.163Z"
   },
   {
    "duration": 30,
    "start_time": "2022-05-09T23:27:08.765Z"
   },
   {
    "duration": 58,
    "start_time": "2022-05-09T23:29:28.233Z"
   },
   {
    "duration": 29,
    "start_time": "2022-05-09T23:30:03.203Z"
   },
   {
    "duration": 28,
    "start_time": "2022-05-09T23:31:06.059Z"
   },
   {
    "duration": 26,
    "start_time": "2022-05-09T23:34:41.615Z"
   },
   {
    "duration": 30,
    "start_time": "2022-05-09T23:34:57.448Z"
   },
   {
    "duration": 30,
    "start_time": "2022-05-09T23:36:01.786Z"
   },
   {
    "duration": 28,
    "start_time": "2022-05-09T23:36:04.834Z"
   },
   {
    "duration": 28,
    "start_time": "2022-05-09T23:39:36.360Z"
   },
   {
    "duration": 23,
    "start_time": "2022-05-09T23:43:02.347Z"
   },
   {
    "duration": 28,
    "start_time": "2022-05-09T23:43:06.363Z"
   },
   {
    "duration": 2014,
    "start_time": "2022-05-09T23:43:51.661Z"
   },
   {
    "duration": 30,
    "start_time": "2022-05-09T23:44:09.797Z"
   },
   {
    "duration": 32,
    "start_time": "2022-05-09T23:47:03.217Z"
   },
   {
    "duration": 32,
    "start_time": "2022-05-09T23:48:04.298Z"
   },
   {
    "duration": 604,
    "start_time": "2022-05-09T23:53:50.620Z"
   },
   {
    "duration": 24,
    "start_time": "2022-05-09T23:53:51.227Z"
   },
   {
    "duration": 32,
    "start_time": "2022-05-09T23:53:51.254Z"
   },
   {
    "duration": 53,
    "start_time": "2022-05-09T23:53:51.289Z"
   },
   {
    "duration": 11,
    "start_time": "2022-05-09T23:53:51.344Z"
   },
   {
    "duration": 7,
    "start_time": "2022-05-09T23:53:51.357Z"
   },
   {
    "duration": 13,
    "start_time": "2022-05-09T23:53:51.366Z"
   },
   {
    "duration": 6,
    "start_time": "2022-05-09T23:53:51.426Z"
   },
   {
    "duration": 16,
    "start_time": "2022-05-09T23:53:51.435Z"
   },
   {
    "duration": 12,
    "start_time": "2022-05-09T23:53:51.456Z"
   },
   {
    "duration": 24,
    "start_time": "2022-05-09T23:53:51.524Z"
   },
   {
    "duration": 80,
    "start_time": "2022-05-09T23:53:51.552Z"
   },
   {
    "duration": 104,
    "start_time": "2022-05-09T23:53:51.635Z"
   },
   {
    "duration": 21,
    "start_time": "2022-05-09T23:53:51.742Z"
   },
   {
    "duration": 62,
    "start_time": "2022-05-09T23:53:51.765Z"
   },
   {
    "duration": 22,
    "start_time": "2022-05-09T23:53:51.830Z"
   },
   {
    "duration": 30,
    "start_time": "2022-05-09T23:53:51.854Z"
   },
   {
    "duration": 109,
    "start_time": "2022-05-09T23:53:51.886Z"
   },
   {
    "duration": 56,
    "start_time": "2022-05-09T23:53:51.998Z"
   },
   {
    "duration": 33,
    "start_time": "2022-05-09T23:53:52.056Z"
   },
   {
    "duration": 63,
    "start_time": "2022-05-10T19:43:25.703Z"
   },
   {
    "duration": 466,
    "start_time": "2022-05-10T19:43:43.306Z"
   },
   {
    "duration": 17,
    "start_time": "2022-05-10T19:43:43.775Z"
   },
   {
    "duration": 26,
    "start_time": "2022-05-10T19:43:43.797Z"
   },
   {
    "duration": 14,
    "start_time": "2022-05-10T19:43:43.824Z"
   },
   {
    "duration": 8,
    "start_time": "2022-05-10T19:43:43.841Z"
   },
   {
    "duration": 5,
    "start_time": "2022-05-10T19:43:43.851Z"
   },
   {
    "duration": 7,
    "start_time": "2022-05-10T19:43:43.857Z"
   },
   {
    "duration": 6,
    "start_time": "2022-05-10T19:43:43.893Z"
   },
   {
    "duration": 20,
    "start_time": "2022-05-10T19:43:43.900Z"
   },
   {
    "duration": 15,
    "start_time": "2022-05-10T19:43:43.922Z"
   },
   {
    "duration": 15,
    "start_time": "2022-05-10T19:43:43.939Z"
   },
   {
    "duration": 54,
    "start_time": "2022-05-10T19:43:43.955Z"
   },
   {
    "duration": 50,
    "start_time": "2022-05-10T19:43:44.011Z"
   },
   {
    "duration": 35,
    "start_time": "2022-05-10T19:43:44.064Z"
   },
   {
    "duration": 17,
    "start_time": "2022-05-10T19:43:44.102Z"
   },
   {
    "duration": 18,
    "start_time": "2022-05-10T19:43:44.121Z"
   },
   {
    "duration": 20,
    "start_time": "2022-05-10T19:43:44.141Z"
   },
   {
    "duration": 73,
    "start_time": "2022-05-10T19:43:44.163Z"
   },
   {
    "duration": 23,
    "start_time": "2022-05-10T19:43:44.237Z"
   },
   {
    "duration": 41,
    "start_time": "2022-05-10T19:43:44.262Z"
   },
   {
    "duration": 18,
    "start_time": "2022-05-10T19:43:44.305Z"
   },
   {
    "duration": 15,
    "start_time": "2022-05-10T19:43:47.830Z"
   },
   {
    "duration": 20,
    "start_time": "2022-05-10T19:44:05.168Z"
   },
   {
    "duration": 30,
    "start_time": "2022-05-10T19:44:56.681Z"
   },
   {
    "duration": 26,
    "start_time": "2022-05-10T19:45:12.953Z"
   },
   {
    "duration": 38,
    "start_time": "2022-05-10T19:46:30.276Z"
   },
   {
    "duration": 23,
    "start_time": "2022-05-10T19:46:43.732Z"
   },
   {
    "duration": 18,
    "start_time": "2022-05-10T19:48:02.079Z"
   },
   {
    "duration": 18,
    "start_time": "2022-05-10T19:50:00.569Z"
   },
   {
    "duration": 14,
    "start_time": "2022-05-10T19:51:47.660Z"
   },
   {
    "duration": 104,
    "start_time": "2022-05-10T19:51:57.357Z"
   },
   {
    "duration": 20,
    "start_time": "2022-05-10T19:52:25.869Z"
   },
   {
    "duration": 19,
    "start_time": "2022-05-10T19:53:44.846Z"
   },
   {
    "duration": 24,
    "start_time": "2022-05-10T19:54:03.191Z"
   },
   {
    "duration": 5,
    "start_time": "2022-05-10T19:59:36.307Z"
   },
   {
    "duration": 141,
    "start_time": "2022-05-10T20:00:52.752Z"
   },
   {
    "duration": 6,
    "start_time": "2022-05-10T20:03:30.364Z"
   },
   {
    "duration": 16,
    "start_time": "2022-05-10T20:04:47.842Z"
   },
   {
    "duration": 15,
    "start_time": "2022-05-10T20:06:28.413Z"
   },
   {
    "duration": 9,
    "start_time": "2022-05-10T20:06:43.828Z"
   },
   {
    "duration": 9,
    "start_time": "2022-05-10T20:08:40.286Z"
   },
   {
    "duration": 11,
    "start_time": "2022-05-10T20:35:01.761Z"
   },
   {
    "duration": 23,
    "start_time": "2022-05-10T20:35:09.367Z"
   },
   {
    "duration": 27,
    "start_time": "2022-05-10T20:36:20.538Z"
   },
   {
    "duration": 16,
    "start_time": "2022-05-10T20:53:16.729Z"
   },
   {
    "duration": 1233,
    "start_time": "2022-05-11T11:28:10.053Z"
   },
   {
    "duration": 23,
    "start_time": "2022-05-11T11:28:11.289Z"
   },
   {
    "duration": 30,
    "start_time": "2022-05-11T11:28:11.314Z"
   },
   {
    "duration": 44,
    "start_time": "2022-05-11T11:28:11.348Z"
   },
   {
    "duration": 12,
    "start_time": "2022-05-11T11:28:11.394Z"
   },
   {
    "duration": 8,
    "start_time": "2022-05-11T11:28:11.408Z"
   },
   {
    "duration": 10,
    "start_time": "2022-05-11T11:28:11.420Z"
   },
   {
    "duration": 50,
    "start_time": "2022-05-11T11:28:11.433Z"
   },
   {
    "duration": 12,
    "start_time": "2022-05-11T11:28:11.486Z"
   },
   {
    "duration": 12,
    "start_time": "2022-05-11T11:28:11.502Z"
   },
   {
    "duration": 22,
    "start_time": "2022-05-11T11:28:11.517Z"
   },
   {
    "duration": 78,
    "start_time": "2022-05-11T11:28:11.541Z"
   },
   {
    "duration": 98,
    "start_time": "2022-05-11T11:28:11.621Z"
   },
   {
    "duration": 15,
    "start_time": "2022-05-11T11:28:11.722Z"
   },
   {
    "duration": 44,
    "start_time": "2022-05-11T11:28:11.739Z"
   },
   {
    "duration": 27,
    "start_time": "2022-05-11T11:28:11.786Z"
   },
   {
    "duration": 32,
    "start_time": "2022-05-11T11:28:11.815Z"
   },
   {
    "duration": 133,
    "start_time": "2022-05-11T11:28:11.850Z"
   },
   {
    "duration": 33,
    "start_time": "2022-05-11T11:28:11.985Z"
   },
   {
    "duration": 30,
    "start_time": "2022-05-11T11:28:12.022Z"
   },
   {
    "duration": 52,
    "start_time": "2022-05-11T11:28:12.055Z"
   },
   {
    "duration": 37,
    "start_time": "2022-05-11T11:28:12.110Z"
   },
   {
    "duration": 46,
    "start_time": "2022-05-12T08:40:29.005Z"
   },
   {
    "duration": 487,
    "start_time": "2022-05-12T08:40:36.295Z"
   },
   {
    "duration": 22,
    "start_time": "2022-05-12T08:40:36.785Z"
   },
   {
    "duration": 19,
    "start_time": "2022-05-12T08:40:36.809Z"
   },
   {
    "duration": 39,
    "start_time": "2022-05-12T08:40:36.830Z"
   },
   {
    "duration": 13,
    "start_time": "2022-05-12T08:40:36.873Z"
   },
   {
    "duration": 20,
    "start_time": "2022-05-12T08:40:36.887Z"
   },
   {
    "duration": 13,
    "start_time": "2022-05-12T08:40:36.909Z"
   },
   {
    "duration": 3,
    "start_time": "2022-05-12T08:40:36.924Z"
   },
   {
    "duration": 11,
    "start_time": "2022-05-12T08:40:36.929Z"
   },
   {
    "duration": 11,
    "start_time": "2022-05-12T08:40:36.942Z"
   },
   {
    "duration": 29,
    "start_time": "2022-05-12T08:40:36.955Z"
   },
   {
    "duration": 43,
    "start_time": "2022-05-12T08:40:36.986Z"
   },
   {
    "duration": 72,
    "start_time": "2022-05-12T08:40:37.030Z"
   },
   {
    "duration": 12,
    "start_time": "2022-05-12T08:40:37.105Z"
   },
   {
    "duration": 12,
    "start_time": "2022-05-12T08:40:37.118Z"
   },
   {
    "duration": 12,
    "start_time": "2022-05-12T08:40:37.132Z"
   },
   {
    "duration": 33,
    "start_time": "2022-05-12T08:40:37.170Z"
   },
   {
    "duration": 44,
    "start_time": "2022-05-12T08:40:37.205Z"
   },
   {
    "duration": 57,
    "start_time": "2022-05-12T08:40:37.250Z"
   },
   {
    "duration": 22,
    "start_time": "2022-05-12T08:40:37.308Z"
   },
   {
    "duration": 19,
    "start_time": "2022-05-12T08:40:37.331Z"
   },
   {
    "duration": 28,
    "start_time": "2022-05-12T08:40:37.351Z"
   },
   {
    "duration": 83,
    "start_time": "2022-05-12T08:40:37.381Z"
   },
   {
    "duration": 14,
    "start_time": "2022-05-12T08:43:21.426Z"
   },
   {
    "duration": 11,
    "start_time": "2022-05-12T08:43:41.462Z"
   },
   {
    "duration": 5,
    "start_time": "2022-05-12T08:43:54.784Z"
   },
   {
    "duration": 14,
    "start_time": "2022-05-12T08:44:27.389Z"
   },
   {
    "duration": 5,
    "start_time": "2022-05-12T08:45:17.888Z"
   },
   {
    "duration": 7,
    "start_time": "2022-05-12T08:45:27.301Z"
   },
   {
    "duration": 28,
    "start_time": "2022-05-12T08:47:10.469Z"
   },
   {
    "duration": 9,
    "start_time": "2022-05-12T08:47:38.583Z"
   },
   {
    "duration": 5,
    "start_time": "2022-05-12T08:50:27.254Z"
   },
   {
    "duration": 24,
    "start_time": "2022-05-12T08:50:52.540Z"
   },
   {
    "duration": 16,
    "start_time": "2022-05-12T08:51:19.261Z"
   },
   {
    "duration": 18,
    "start_time": "2022-05-12T08:51:28.430Z"
   },
   {
    "duration": 77,
    "start_time": "2022-05-12T08:51:42.883Z"
   },
   {
    "duration": 20,
    "start_time": "2022-05-12T08:52:05.606Z"
   },
   {
    "duration": 23,
    "start_time": "2022-05-12T08:52:14.598Z"
   },
   {
    "duration": 82,
    "start_time": "2022-05-12T08:52:35.431Z"
   },
   {
    "duration": 20,
    "start_time": "2022-05-12T08:52:42.784Z"
   },
   {
    "duration": 23,
    "start_time": "2022-05-12T08:52:58.405Z"
   },
   {
    "duration": 7,
    "start_time": "2022-05-12T09:02:37.683Z"
   },
   {
    "duration": 7,
    "start_time": "2022-05-12T09:03:08.805Z"
   },
   {
    "duration": 14,
    "start_time": "2022-05-12T09:30:47.787Z"
   },
   {
    "duration": 14,
    "start_time": "2022-05-12T09:31:02.195Z"
   },
   {
    "duration": 11,
    "start_time": "2022-05-12T09:35:51.628Z"
   },
   {
    "duration": 16,
    "start_time": "2022-05-12T09:35:59.096Z"
   },
   {
    "duration": 21,
    "start_time": "2022-05-12T09:37:42.395Z"
   },
   {
    "duration": 22,
    "start_time": "2022-05-12T09:38:05.772Z"
   },
   {
    "duration": 19,
    "start_time": "2022-05-12T09:39:27.276Z"
   },
   {
    "duration": 1449,
    "start_time": "2022-05-12T12:02:13.355Z"
   },
   {
    "duration": 18,
    "start_time": "2022-05-12T12:02:51.658Z"
   },
   {
    "duration": 5,
    "start_time": "2022-05-12T12:17:44.692Z"
   },
   {
    "duration": 6,
    "start_time": "2022-05-12T12:18:02.684Z"
   },
   {
    "duration": 503,
    "start_time": "2022-05-12T12:18:20.158Z"
   },
   {
    "duration": 25,
    "start_time": "2022-05-12T12:18:20.664Z"
   },
   {
    "duration": 21,
    "start_time": "2022-05-12T12:18:20.691Z"
   },
   {
    "duration": 13,
    "start_time": "2022-05-12T12:18:20.715Z"
   },
   {
    "duration": 37,
    "start_time": "2022-05-12T12:18:20.730Z"
   },
   {
    "duration": 11,
    "start_time": "2022-05-12T12:18:20.769Z"
   },
   {
    "duration": 8,
    "start_time": "2022-05-12T12:18:20.783Z"
   },
   {
    "duration": 4,
    "start_time": "2022-05-12T12:18:20.792Z"
   },
   {
    "duration": 15,
    "start_time": "2022-05-12T12:18:20.797Z"
   },
   {
    "duration": 6,
    "start_time": "2022-05-12T12:18:20.815Z"
   },
   {
    "duration": 12,
    "start_time": "2022-05-12T12:18:20.823Z"
   },
   {
    "duration": 55,
    "start_time": "2022-05-12T12:18:20.836Z"
   },
   {
    "duration": 30,
    "start_time": "2022-05-12T12:18:20.893Z"
   },
   {
    "duration": 71,
    "start_time": "2022-05-12T12:18:20.924Z"
   },
   {
    "duration": 12,
    "start_time": "2022-05-12T12:18:20.999Z"
   },
   {
    "duration": 12,
    "start_time": "2022-05-12T12:18:21.013Z"
   },
   {
    "duration": 12,
    "start_time": "2022-05-12T12:18:21.027Z"
   },
   {
    "duration": 48,
    "start_time": "2022-05-12T12:18:21.041Z"
   },
   {
    "duration": 45,
    "start_time": "2022-05-12T12:18:21.091Z"
   },
   {
    "duration": 43,
    "start_time": "2022-05-12T12:18:21.138Z"
   },
   {
    "duration": 20,
    "start_time": "2022-05-12T12:18:21.182Z"
   },
   {
    "duration": 16,
    "start_time": "2022-05-12T12:18:21.204Z"
   },
   {
    "duration": 17,
    "start_time": "2022-05-12T12:18:21.222Z"
   },
   {
    "duration": 7,
    "start_time": "2022-05-12T12:20:51.564Z"
   },
   {
    "duration": 507,
    "start_time": "2022-05-12T12:23:27.290Z"
   },
   {
    "duration": 23,
    "start_time": "2022-05-12T12:23:27.799Z"
   },
   {
    "duration": 21,
    "start_time": "2022-05-12T12:23:27.824Z"
   },
   {
    "duration": 44,
    "start_time": "2022-05-12T12:23:27.847Z"
   },
   {
    "duration": 7,
    "start_time": "2022-05-12T12:23:27.894Z"
   },
   {
    "duration": 6,
    "start_time": "2022-05-12T12:23:27.902Z"
   },
   {
    "duration": 6,
    "start_time": "2022-05-12T12:23:27.910Z"
   },
   {
    "duration": 6,
    "start_time": "2022-05-12T12:23:27.918Z"
   },
   {
    "duration": 9,
    "start_time": "2022-05-12T12:23:27.925Z"
   },
   {
    "duration": 9,
    "start_time": "2022-05-12T12:23:27.970Z"
   },
   {
    "duration": 14,
    "start_time": "2022-05-12T12:23:27.981Z"
   },
   {
    "duration": 22,
    "start_time": "2022-05-12T12:23:27.997Z"
   },
   {
    "duration": 61,
    "start_time": "2022-05-12T12:23:28.021Z"
   },
   {
    "duration": 49,
    "start_time": "2022-05-12T12:23:28.084Z"
   },
   {
    "duration": 40,
    "start_time": "2022-05-12T12:23:28.135Z"
   },
   {
    "duration": 12,
    "start_time": "2022-05-12T12:23:28.177Z"
   },
   {
    "duration": 13,
    "start_time": "2022-05-12T12:23:28.191Z"
   },
   {
    "duration": 19,
    "start_time": "2022-05-12T12:23:28.206Z"
   },
   {
    "duration": 102,
    "start_time": "2022-05-12T12:23:28.228Z"
   },
   {
    "duration": 54,
    "start_time": "2022-05-12T12:23:28.333Z"
   },
   {
    "duration": 22,
    "start_time": "2022-05-12T12:23:28.389Z"
   },
   {
    "duration": 19,
    "start_time": "2022-05-12T12:23:28.413Z"
   },
   {
    "duration": 58,
    "start_time": "2022-05-12T12:23:28.434Z"
   },
   {
    "duration": 621,
    "start_time": "2022-05-12T12:24:38.963Z"
   },
   {
    "duration": 19,
    "start_time": "2022-05-12T12:24:39.587Z"
   },
   {
    "duration": 20,
    "start_time": "2022-05-12T12:24:39.608Z"
   },
   {
    "duration": 49,
    "start_time": "2022-05-12T12:24:39.631Z"
   },
   {
    "duration": 11,
    "start_time": "2022-05-12T12:24:39.683Z"
   },
   {
    "duration": 7,
    "start_time": "2022-05-12T12:24:39.696Z"
   },
   {
    "duration": 11,
    "start_time": "2022-05-12T12:24:39.705Z"
   },
   {
    "duration": 4,
    "start_time": "2022-05-12T12:24:39.718Z"
   },
   {
    "duration": 11,
    "start_time": "2022-05-12T12:24:39.723Z"
   },
   {
    "duration": 8,
    "start_time": "2022-05-12T12:24:39.774Z"
   },
   {
    "duration": 24,
    "start_time": "2022-05-12T12:24:39.783Z"
   },
   {
    "duration": 32,
    "start_time": "2022-05-12T12:24:39.809Z"
   },
   {
    "duration": 42,
    "start_time": "2022-05-12T12:24:39.843Z"
   },
   {
    "duration": 52,
    "start_time": "2022-05-12T12:24:39.887Z"
   },
   {
    "duration": 12,
    "start_time": "2022-05-12T12:24:39.941Z"
   },
   {
    "duration": 33,
    "start_time": "2022-05-12T12:24:39.955Z"
   },
   {
    "duration": 24,
    "start_time": "2022-05-12T12:24:39.990Z"
   },
   {
    "duration": 23,
    "start_time": "2022-05-12T12:24:40.016Z"
   },
   {
    "duration": 71,
    "start_time": "2022-05-12T12:24:40.040Z"
   },
   {
    "duration": 21,
    "start_time": "2022-05-12T12:24:40.113Z"
   },
   {
    "duration": 42,
    "start_time": "2022-05-12T12:24:40.135Z"
   },
   {
    "duration": 19,
    "start_time": "2022-05-12T12:24:40.180Z"
   },
   {
    "duration": 17,
    "start_time": "2022-05-12T12:24:40.201Z"
   }
  ],
  "kernelspec": {
   "display_name": "Python 3 (ipykernel)",
   "language": "python",
   "name": "python3"
  },
  "language_info": {
   "codemirror_mode": {
    "name": "ipython",
    "version": 3
   },
   "file_extension": ".py",
   "mimetype": "text/x-python",
   "name": "python",
   "nbconvert_exporter": "python",
   "pygments_lexer": "ipython3",
   "version": "3.9.18"
  },
  "toc": {
   "base_numbering": 1,
   "nav_menu": {},
   "number_sections": true,
   "sideBar": true,
   "skip_h1_title": true,
   "title_cell": "Table of Contents",
   "title_sidebar": "Contents",
   "toc_cell": false,
   "toc_position": {},
   "toc_section_display": true,
   "toc_window_display": true
  }
 },
 "nbformat": 4,
 "nbformat_minor": 5
}
