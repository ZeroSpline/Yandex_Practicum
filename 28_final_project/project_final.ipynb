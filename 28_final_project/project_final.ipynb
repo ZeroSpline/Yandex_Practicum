{
 "cells": [
  {
   "cell_type": "markdown",
   "metadata": {},
   "source": [
    "## Описание данных"
   ]
  },
  {
   "cell_type": "markdown",
   "metadata": {},
   "source": [
    "Данные хранятся в базе данных PostgreSQL. Она состоит из нескольких таблиц:\n",
    "\n",
    "`steel.data_arc` — данные об электродах;\n",
    "\n",
    "`steel.data_bulk` — данные об объёме сыпучих материалов;\n",
    "\n",
    "`steel.data_bulk_time` — данные о времени подачи сыпучих материалов;\n",
    "\n",
    "`steel.data_gas` — данные о продувке сплава газом;\n",
    "\n",
    "`steel.data_temp` — данные об измерениях температуры;\n",
    "\n",
    "`steel.data_wire` — данные об объёме проволочных материалов;\n",
    "\n",
    "`steel.data_wire_time` — данные о времени подачи проволочных материалов."
   ]
  },
  {
   "cell_type": "markdown",
   "metadata": {},
   "source": [
    "## Загрузка данных"
   ]
  },
  {
   "cell_type": "code",
   "execution_count": 1,
   "metadata": {},
   "outputs": [],
   "source": [
    "### импорт библиотек\n",
    "import pandas as pd\n",
    "import matplotlib.pyplot as plt\n",
    "from sqlalchemy import create_engine\n",
    "from datetime import time\n",
    "import seaborn as sns\n",
    "from sklearn.model_selection import train_test_split\n",
    "from sklearn.model_selection import GridSearchCV\n",
    "from sklearn.dummy import DummyRegressor\n",
    "from sklearn.linear_model import LinearRegression\n",
    "from sklearn.ensemble import RandomForestRegressor\n",
    "from lightgbm import LGBMRegressor\n",
    "from catboost import CatBoostRegressor\n",
    "from sklearn.metrics import mean_absolute_error, r2_score\n",
    "from sklearn.preprocessing import StandardScaler\n",
    "import time as t\n",
    "from keras.models import Sequential\n",
    "from keras.layers import Dense\n",
    "from keras.wrappers.scikit_learn import KerasRegressor\n",
    "import tensorflow as tf"
   ]
  },
  {
   "cell_type": "code",
   "execution_count": 2,
   "metadata": {},
   "outputs": [],
   "source": [
    "### зафиксируем рандом\n",
    "RANDOM_STATE = 260623"
   ]
  },
  {
   "cell_type": "code",
   "execution_count": 3,
   "metadata": {},
   "outputs": [],
   "source": [
    "### конфигурация подключения\n",
    "db_config = {\n",
    "'user': 'praktikum_student', # имя пользователя\n",
    "'pwd': 'Sdf4$2;d-d30pp', # пароль\n",
    "'host': 'rc1b-wcoijxj3yxfsf3fs.mdb.yandexcloud.net',\n",
    "'port': 6432, # порт подключения\n",
    "'db': 'data-science-final' # название базы данных,\n",
    "}\n",
    "### подключение к базе\n",
    "connection_string = 'postgresql://{}:{}@{}:{}/{}'.format(\n",
    "    db_config['user'],\n",
    "    db_config['pwd'],\n",
    "    db_config['host'],\n",
    "    db_config['port'],\n",
    "    db_config['db'],\n",
    ")\n",
    "### движок подключения к базе\n",
    "engine = create_engine(connection_string) "
   ]
  },
  {
   "cell_type": "markdown",
   "metadata": {},
   "source": [
    "## Исследовательский анализ и предобработка данных"
   ]
  },
  {
   "cell_type": "code",
   "execution_count": 4,
   "metadata": {},
   "outputs": [],
   "source": [
    "### создадим функцию для открытия и просмотра общих сведений\n",
    "def df_info(name, df):\n",
    "    display(name)\n",
    "    display(df.head(3))\n",
    "    df.info()\n",
    "    display('_ _ _ _ _ _ _ _ _ _ _ _ _ _ _ _ _ _ _ _ _')"
   ]
  },
  {
   "cell_type": "markdown",
   "metadata": {},
   "source": [
    "### Таблица steel.data_arc"
   ]
  },
  {
   "cell_type": "code",
   "execution_count": 5,
   "metadata": {},
   "outputs": [
    {
     "data": {
      "text/plain": [
       "'steel.data_arc'"
      ]
     },
     "metadata": {},
     "output_type": "display_data"
    },
    {
     "data": {
      "text/html": [
       "<div>\n",
       "<style scoped>\n",
       "    .dataframe tbody tr th:only-of-type {\n",
       "        vertical-align: middle;\n",
       "    }\n",
       "\n",
       "    .dataframe tbody tr th {\n",
       "        vertical-align: top;\n",
       "    }\n",
       "\n",
       "    .dataframe thead th {\n",
       "        text-align: right;\n",
       "    }\n",
       "</style>\n",
       "<table border=\"1\" class=\"dataframe\">\n",
       "  <thead>\n",
       "    <tr style=\"text-align: right;\">\n",
       "      <th></th>\n",
       "      <th>key</th>\n",
       "      <th>BeginHeat</th>\n",
       "      <th>EndHeat</th>\n",
       "      <th>ActivePower</th>\n",
       "      <th>ReactivePower</th>\n",
       "    </tr>\n",
       "  </thead>\n",
       "  <tbody>\n",
       "    <tr>\n",
       "      <th>0</th>\n",
       "      <td>1</td>\n",
       "      <td>11:02:14</td>\n",
       "      <td>11:06:02</td>\n",
       "      <td>0.976059</td>\n",
       "      <td>0.687084</td>\n",
       "    </tr>\n",
       "    <tr>\n",
       "      <th>1</th>\n",
       "      <td>1</td>\n",
       "      <td>11:07:28</td>\n",
       "      <td>11:10:33</td>\n",
       "      <td>0.805607</td>\n",
       "      <td>0.520285</td>\n",
       "    </tr>\n",
       "    <tr>\n",
       "      <th>2</th>\n",
       "      <td>1</td>\n",
       "      <td>11:11:44</td>\n",
       "      <td>11:14:36</td>\n",
       "      <td>0.744363</td>\n",
       "      <td>0.498805</td>\n",
       "    </tr>\n",
       "  </tbody>\n",
       "</table>\n",
       "</div>"
      ],
      "text/plain": [
       "   key BeginHeat   EndHeat  ActivePower  ReactivePower\n",
       "0    1  11:02:14  11:06:02     0.976059       0.687084\n",
       "1    1  11:07:28  11:10:33     0.805607       0.520285\n",
       "2    1  11:11:44  11:14:36     0.744363       0.498805"
      ]
     },
     "metadata": {},
     "output_type": "display_data"
    },
    {
     "name": "stdout",
     "output_type": "stream",
     "text": [
      "<class 'pandas.core.frame.DataFrame'>\n",
      "RangeIndex: 14876 entries, 0 to 14875\n",
      "Data columns (total 5 columns):\n",
      " #   Column         Non-Null Count  Dtype  \n",
      "---  ------         --------------  -----  \n",
      " 0   key            14876 non-null  int64  \n",
      " 1   BeginHeat      14876 non-null  object \n",
      " 2   EndHeat        14876 non-null  object \n",
      " 3   ActivePower    14876 non-null  float64\n",
      " 4   ReactivePower  14876 non-null  float64\n",
      "dtypes: float64(2), int64(1), object(2)\n",
      "memory usage: 581.2+ KB\n"
     ]
    },
    {
     "data": {
      "text/plain": [
       "'_ _ _ _ _ _ _ _ _ _ _ _ _ _ _ _ _ _ _ _ _'"
      ]
     },
     "metadata": {},
     "output_type": "display_data"
    }
   ],
   "source": [
    "### срез для таблицы steel.data_arc\n",
    "query_1 = '''\n",
    "SELECT *\n",
    "FROM steel.data_arc;\n",
    "'''\n",
    "### преобразование в табличную форму библиотеки пандас\n",
    "df_1 = pd.read_sql_query(query_1, con=engine) \n",
    "df_info('steel.data_arc', df_1)"
   ]
  },
  {
   "cell_type": "code",
   "execution_count": 6,
   "metadata": {},
   "outputs": [
    {
     "data": {
      "text/html": [
       "<div>\n",
       "<style scoped>\n",
       "    .dataframe tbody tr th:only-of-type {\n",
       "        vertical-align: middle;\n",
       "    }\n",
       "\n",
       "    .dataframe tbody tr th {\n",
       "        vertical-align: top;\n",
       "    }\n",
       "\n",
       "    .dataframe thead th {\n",
       "        text-align: right;\n",
       "    }\n",
       "</style>\n",
       "<table border=\"1\" class=\"dataframe\">\n",
       "  <thead>\n",
       "    <tr style=\"text-align: right;\">\n",
       "      <th></th>\n",
       "      <th>key</th>\n",
       "      <th>ActivePower</th>\n",
       "      <th>ReactivePower</th>\n",
       "    </tr>\n",
       "  </thead>\n",
       "  <tbody>\n",
       "    <tr>\n",
       "      <th>count</th>\n",
       "      <td>14876.000000</td>\n",
       "      <td>14876.000000</td>\n",
       "      <td>14876.000000</td>\n",
       "    </tr>\n",
       "    <tr>\n",
       "      <th>mean</th>\n",
       "      <td>1615.220422</td>\n",
       "      <td>0.670441</td>\n",
       "      <td>0.452592</td>\n",
       "    </tr>\n",
       "    <tr>\n",
       "      <th>std</th>\n",
       "      <td>934.571502</td>\n",
       "      <td>0.408159</td>\n",
       "      <td>5.878702</td>\n",
       "    </tr>\n",
       "    <tr>\n",
       "      <th>min</th>\n",
       "      <td>1.000000</td>\n",
       "      <td>0.030002</td>\n",
       "      <td>-715.504924</td>\n",
       "    </tr>\n",
       "    <tr>\n",
       "      <th>25%</th>\n",
       "      <td>806.000000</td>\n",
       "      <td>0.395297</td>\n",
       "      <td>0.290991</td>\n",
       "    </tr>\n",
       "    <tr>\n",
       "      <th>50%</th>\n",
       "      <td>1617.000000</td>\n",
       "      <td>0.555517</td>\n",
       "      <td>0.415962</td>\n",
       "    </tr>\n",
       "    <tr>\n",
       "      <th>75%</th>\n",
       "      <td>2429.000000</td>\n",
       "      <td>0.857034</td>\n",
       "      <td>0.637371</td>\n",
       "    </tr>\n",
       "    <tr>\n",
       "      <th>max</th>\n",
       "      <td>3241.000000</td>\n",
       "      <td>3.731596</td>\n",
       "      <td>2.676388</td>\n",
       "    </tr>\n",
       "  </tbody>\n",
       "</table>\n",
       "</div>"
      ],
      "text/plain": [
       "                key   ActivePower  ReactivePower\n",
       "count  14876.000000  14876.000000   14876.000000\n",
       "mean    1615.220422      0.670441       0.452592\n",
       "std      934.571502      0.408159       5.878702\n",
       "min        1.000000      0.030002    -715.504924\n",
       "25%      806.000000      0.395297       0.290991\n",
       "50%     1617.000000      0.555517       0.415962\n",
       "75%     2429.000000      0.857034       0.637371\n",
       "max     3241.000000      3.731596       2.676388"
      ]
     },
     "metadata": {},
     "output_type": "display_data"
    },
    {
     "data": {
      "text/html": [
       "<div>\n",
       "<style scoped>\n",
       "    .dataframe tbody tr th:only-of-type {\n",
       "        vertical-align: middle;\n",
       "    }\n",
       "\n",
       "    .dataframe tbody tr th {\n",
       "        vertical-align: top;\n",
       "    }\n",
       "\n",
       "    .dataframe thead th {\n",
       "        text-align: right;\n",
       "    }\n",
       "</style>\n",
       "<table border=\"1\" class=\"dataframe\">\n",
       "  <thead>\n",
       "    <tr style=\"text-align: right;\">\n",
       "      <th></th>\n",
       "      <th>key</th>\n",
       "      <th>BeginHeat</th>\n",
       "      <th>EndHeat</th>\n",
       "      <th>ActivePower</th>\n",
       "      <th>ReactivePower</th>\n",
       "    </tr>\n",
       "  </thead>\n",
       "  <tbody>\n",
       "    <tr>\n",
       "      <th>9779</th>\n",
       "      <td>2116</td>\n",
       "      <td>00:29:52</td>\n",
       "      <td>00:31:54</td>\n",
       "      <td>0.433266</td>\n",
       "      <td>0.306141</td>\n",
       "    </tr>\n",
       "    <tr>\n",
       "      <th>9780</th>\n",
       "      <td>2116</td>\n",
       "      <td>00:35:50</td>\n",
       "      <td>00:38:05</td>\n",
       "      <td>0.620265</td>\n",
       "      <td>0.408352</td>\n",
       "    </tr>\n",
       "    <tr>\n",
       "      <th>9781</th>\n",
       "      <td>2116</td>\n",
       "      <td>00:44:48</td>\n",
       "      <td>00:46:37</td>\n",
       "      <td>0.495782</td>\n",
       "      <td>-715.504924</td>\n",
       "    </tr>\n",
       "    <tr>\n",
       "      <th>9782</th>\n",
       "      <td>2116</td>\n",
       "      <td>00:51:51</td>\n",
       "      <td>00:52:58</td>\n",
       "      <td>0.299368</td>\n",
       "      <td>0.198796</td>\n",
       "    </tr>\n",
       "  </tbody>\n",
       "</table>\n",
       "</div>"
      ],
      "text/plain": [
       "       key BeginHeat   EndHeat  ActivePower  ReactivePower\n",
       "9779  2116  00:29:52  00:31:54     0.433266       0.306141\n",
       "9780  2116  00:35:50  00:38:05     0.620265       0.408352\n",
       "9781  2116  00:44:48  00:46:37     0.495782    -715.504924\n",
       "9782  2116  00:51:51  00:52:58     0.299368       0.198796"
      ]
     },
     "metadata": {},
     "output_type": "display_data"
    },
    {
     "data": {
      "text/plain": [
       "'Привиденное значение для замены равно:'"
      ]
     },
     "metadata": {},
     "output_type": "display_data"
    },
    {
     "data": {
      "text/plain": [
       "0.14653675240000003"
      ]
     },
     "metadata": {},
     "output_type": "display_data"
    }
   ],
   "source": [
    "### просмотр общих данных таблицы\n",
    "display(df_1.describe())\n",
    "### выявление партии с аномальным значением\n",
    "abnormal = df_1[df_1['ReactivePower']==df_1['ReactivePower'].min()]\n",
    "abnormal_key = int(abnormal['key'])\n",
    "abnormal_query = df_1.query('key == @abnormal_key')\n",
    "display(abnormal_query)\n",
    "### рассчитаем среднее значение, на которое затухало значение в столбце ReactivePower\n",
    "abnormal_query_min = abnormal_query['ReactivePower'].min()\n",
    "abnormal_query = abnormal_query.loc[(abnormal_query['ReactivePower'] != abnormal_query_min)]\n",
    "abnormal_query['col_diff'] = abnormal_query['ActivePower'] - abnormal_query['ReactivePower']\n",
    "col_diff_mean = abnormal_query['col_diff'].mean()\n",
    "display('Привиденное значение для замены равно:', col_diff_mean)"
   ]
  },
  {
   "cell_type": "code",
   "execution_count": 7,
   "metadata": {},
   "outputs": [
    {
     "data": {
      "text/html": [
       "<div>\n",
       "<style scoped>\n",
       "    .dataframe tbody tr th:only-of-type {\n",
       "        vertical-align: middle;\n",
       "    }\n",
       "\n",
       "    .dataframe tbody tr th {\n",
       "        vertical-align: top;\n",
       "    }\n",
       "\n",
       "    .dataframe thead th {\n",
       "        text-align: right;\n",
       "    }\n",
       "</style>\n",
       "<table border=\"1\" class=\"dataframe\">\n",
       "  <thead>\n",
       "    <tr style=\"text-align: right;\">\n",
       "      <th></th>\n",
       "      <th>key</th>\n",
       "      <th>ActivePower</th>\n",
       "      <th>ReactivePower</th>\n",
       "    </tr>\n",
       "  </thead>\n",
       "  <tbody>\n",
       "    <tr>\n",
       "      <th>count</th>\n",
       "      <td>14876.000000</td>\n",
       "      <td>14876.000000</td>\n",
       "      <td>14876.000000</td>\n",
       "    </tr>\n",
       "    <tr>\n",
       "      <th>mean</th>\n",
       "      <td>1615.220422</td>\n",
       "      <td>0.670441</td>\n",
       "      <td>0.500700</td>\n",
       "    </tr>\n",
       "    <tr>\n",
       "      <th>std</th>\n",
       "      <td>934.571502</td>\n",
       "      <td>0.408159</td>\n",
       "      <td>0.310884</td>\n",
       "    </tr>\n",
       "    <tr>\n",
       "      <th>min</th>\n",
       "      <td>1.000000</td>\n",
       "      <td>0.030002</td>\n",
       "      <td>0.020806</td>\n",
       "    </tr>\n",
       "    <tr>\n",
       "      <th>25%</th>\n",
       "      <td>806.000000</td>\n",
       "      <td>0.395297</td>\n",
       "      <td>0.290991</td>\n",
       "    </tr>\n",
       "    <tr>\n",
       "      <th>50%</th>\n",
       "      <td>1617.000000</td>\n",
       "      <td>0.555517</td>\n",
       "      <td>0.415962</td>\n",
       "    </tr>\n",
       "    <tr>\n",
       "      <th>75%</th>\n",
       "      <td>2429.000000</td>\n",
       "      <td>0.857034</td>\n",
       "      <td>0.637371</td>\n",
       "    </tr>\n",
       "    <tr>\n",
       "      <th>max</th>\n",
       "      <td>3241.000000</td>\n",
       "      <td>3.731596</td>\n",
       "      <td>2.676388</td>\n",
       "    </tr>\n",
       "  </tbody>\n",
       "</table>\n",
       "</div>"
      ],
      "text/plain": [
       "                key   ActivePower  ReactivePower\n",
       "count  14876.000000  14876.000000   14876.000000\n",
       "mean    1615.220422      0.670441       0.500700\n",
       "std      934.571502      0.408159       0.310884\n",
       "min        1.000000      0.030002       0.020806\n",
       "25%      806.000000      0.395297       0.290991\n",
       "50%     1617.000000      0.555517       0.415962\n",
       "75%     2429.000000      0.857034       0.637371\n",
       "max     3241.000000      3.731596       2.676388"
      ]
     },
     "execution_count": 7,
     "metadata": {},
     "output_type": "execute_result"
    }
   ],
   "source": [
    "### заменим аномальное значение и повторно выведем описание данных\n",
    "df_1['ReactivePower'] = df_1['ReactivePower'].replace (abnormal_query_min, col_diff_mean)\n",
    "df_1.describe()"
   ]
  },
  {
   "cell_type": "code",
   "execution_count": 8,
   "metadata": {},
   "outputs": [
    {
     "data": {
      "text/html": [
       "<div>\n",
       "<style scoped>\n",
       "    .dataframe tbody tr th:only-of-type {\n",
       "        vertical-align: middle;\n",
       "    }\n",
       "\n",
       "    .dataframe tbody tr th {\n",
       "        vertical-align: top;\n",
       "    }\n",
       "\n",
       "    .dataframe thead th {\n",
       "        text-align: right;\n",
       "    }\n",
       "</style>\n",
       "<table border=\"1\" class=\"dataframe\">\n",
       "  <thead>\n",
       "    <tr style=\"text-align: right;\">\n",
       "      <th></th>\n",
       "      <th>key</th>\n",
       "      <th>BeginHeat</th>\n",
       "      <th>EndHeat</th>\n",
       "      <th>ActivePower</th>\n",
       "      <th>ReactivePower</th>\n",
       "      <th>cnt_observations</th>\n",
       "    </tr>\n",
       "  </thead>\n",
       "  <tbody>\n",
       "    <tr>\n",
       "      <th>0</th>\n",
       "      <td>1</td>\n",
       "      <td>11:02:14</td>\n",
       "      <td>11:06:02</td>\n",
       "      <td>0.976059</td>\n",
       "      <td>0.687084</td>\n",
       "      <td>5</td>\n",
       "    </tr>\n",
       "    <tr>\n",
       "      <th>1</th>\n",
       "      <td>1</td>\n",
       "      <td>11:07:28</td>\n",
       "      <td>11:10:33</td>\n",
       "      <td>0.805607</td>\n",
       "      <td>0.520285</td>\n",
       "      <td>5</td>\n",
       "    </tr>\n",
       "    <tr>\n",
       "      <th>2</th>\n",
       "      <td>1</td>\n",
       "      <td>11:11:44</td>\n",
       "      <td>11:14:36</td>\n",
       "      <td>0.744363</td>\n",
       "      <td>0.498805</td>\n",
       "      <td>5</td>\n",
       "    </tr>\n",
       "  </tbody>\n",
       "</table>\n",
       "</div>"
      ],
      "text/plain": [
       "   key BeginHeat   EndHeat  ActivePower  ReactivePower  cnt_observations\n",
       "0    1  11:02:14  11:06:02     0.976059       0.687084                 5\n",
       "1    1  11:07:28  11:10:33     0.805607       0.520285                 5\n",
       "2    1  11:11:44  11:14:36     0.744363       0.498805                 5"
      ]
     },
     "execution_count": 8,
     "metadata": {},
     "output_type": "execute_result"
    }
   ],
   "source": [
    "### создадим словарь значений\n",
    "dict_cnt_keys = df_1['key'].value_counts().sort_index().to_dict()\n",
    "### подготовим функцию\n",
    "def cnt_observation(row):\n",
    "    x = row['key']\n",
    "    y = dict_cnt_keys.get(x)\n",
    "    return y\n",
    "### применим функцию\n",
    "df_1['cnt_observations'] = df_1.apply(cnt_observation, axis=1)\n",
    "df_1.head(3)"
   ]
  },
  {
   "cell_type": "code",
   "execution_count": 9,
   "metadata": {
    "scrolled": false
   },
   "outputs": [
    {
     "data": {
      "text/html": [
       "<div>\n",
       "<style scoped>\n",
       "    .dataframe tbody tr th:only-of-type {\n",
       "        vertical-align: middle;\n",
       "    }\n",
       "\n",
       "    .dataframe tbody tr th {\n",
       "        vertical-align: top;\n",
       "    }\n",
       "\n",
       "    .dataframe thead th {\n",
       "        text-align: right;\n",
       "    }\n",
       "</style>\n",
       "<table border=\"1\" class=\"dataframe\">\n",
       "  <thead>\n",
       "    <tr style=\"text-align: right;\">\n",
       "      <th></th>\n",
       "      <th>key</th>\n",
       "      <th>BeginHeat</th>\n",
       "      <th>EndHeat</th>\n",
       "      <th>ActivePower</th>\n",
       "      <th>ReactivePower</th>\n",
       "      <th>cnt_observations</th>\n",
       "      <th>time_heat_sec</th>\n",
       "      <th>power_diff</th>\n",
       "      <th>power_sum</th>\n",
       "      <th>div_act_react</th>\n",
       "    </tr>\n",
       "  </thead>\n",
       "  <tbody>\n",
       "    <tr>\n",
       "      <th>0</th>\n",
       "      <td>1</td>\n",
       "      <td>1900-01-01 11:02:14</td>\n",
       "      <td>1900-01-01 11:06:02</td>\n",
       "      <td>0.976059</td>\n",
       "      <td>0.687084</td>\n",
       "      <td>5</td>\n",
       "      <td>228</td>\n",
       "      <td>0.288975</td>\n",
       "      <td>1.663142</td>\n",
       "      <td>1.420582</td>\n",
       "    </tr>\n",
       "    <tr>\n",
       "      <th>1</th>\n",
       "      <td>1</td>\n",
       "      <td>1900-01-01 11:07:28</td>\n",
       "      <td>1900-01-01 11:10:33</td>\n",
       "      <td>0.805607</td>\n",
       "      <td>0.520285</td>\n",
       "      <td>5</td>\n",
       "      <td>185</td>\n",
       "      <td>0.285322</td>\n",
       "      <td>1.325892</td>\n",
       "      <td>1.548395</td>\n",
       "    </tr>\n",
       "    <tr>\n",
       "      <th>2</th>\n",
       "      <td>1</td>\n",
       "      <td>1900-01-01 11:11:44</td>\n",
       "      <td>1900-01-01 11:14:36</td>\n",
       "      <td>0.744363</td>\n",
       "      <td>0.498805</td>\n",
       "      <td>5</td>\n",
       "      <td>172</td>\n",
       "      <td>0.245558</td>\n",
       "      <td>1.243169</td>\n",
       "      <td>1.492292</td>\n",
       "    </tr>\n",
       "    <tr>\n",
       "      <th>3</th>\n",
       "      <td>1</td>\n",
       "      <td>1900-01-01 11:18:14</td>\n",
       "      <td>1900-01-01 11:24:19</td>\n",
       "      <td>1.659363</td>\n",
       "      <td>1.062669</td>\n",
       "      <td>5</td>\n",
       "      <td>365</td>\n",
       "      <td>0.596693</td>\n",
       "      <td>2.722032</td>\n",
       "      <td>1.561504</td>\n",
       "    </tr>\n",
       "    <tr>\n",
       "      <th>4</th>\n",
       "      <td>1</td>\n",
       "      <td>1900-01-01 11:26:09</td>\n",
       "      <td>1900-01-01 11:28:37</td>\n",
       "      <td>0.692755</td>\n",
       "      <td>0.414397</td>\n",
       "      <td>5</td>\n",
       "      <td>148</td>\n",
       "      <td>0.278358</td>\n",
       "      <td>1.107152</td>\n",
       "      <td>1.671717</td>\n",
       "    </tr>\n",
       "  </tbody>\n",
       "</table>\n",
       "</div>"
      ],
      "text/plain": [
       "   key           BeginHeat             EndHeat  ActivePower  ReactivePower  \\\n",
       "0    1 1900-01-01 11:02:14 1900-01-01 11:06:02     0.976059       0.687084   \n",
       "1    1 1900-01-01 11:07:28 1900-01-01 11:10:33     0.805607       0.520285   \n",
       "2    1 1900-01-01 11:11:44 1900-01-01 11:14:36     0.744363       0.498805   \n",
       "3    1 1900-01-01 11:18:14 1900-01-01 11:24:19     1.659363       1.062669   \n",
       "4    1 1900-01-01 11:26:09 1900-01-01 11:28:37     0.692755       0.414397   \n",
       "\n",
       "   cnt_observations  time_heat_sec  power_diff  power_sum  div_act_react  \n",
       "0                 5            228    0.288975   1.663142       1.420582  \n",
       "1                 5            185    0.285322   1.325892       1.548395  \n",
       "2                 5            172    0.245558   1.243169       1.492292  \n",
       "3                 5            365    0.596693   2.722032       1.561504  \n",
       "4                 5            148    0.278358   1.107152       1.671717  "
      ]
     },
     "execution_count": 9,
     "metadata": {},
     "output_type": "execute_result"
    }
   ],
   "source": [
    "### создадим новые признаки\n",
    "df_1['BeginHeat'] = pd.to_datetime(df_1['BeginHeat'].astype(str), format='%H:%M:%S')\n",
    "df_1['EndHeat'] = pd.to_datetime(df_1['EndHeat'].astype(str), format='%H:%M:%S')\n",
    "df_1['time_heat_sec'] = (df_1['EndHeat'] - df_1['BeginHeat']).dt.seconds\n",
    "df_1['power_diff'] = df_1['ActivePower'] - df_1['ReactivePower']\n",
    "df_1['power_sum'] = df_1['ActivePower'] + df_1['ReactivePower']\n",
    "df_1['div_act_react'] = df_1['ActivePower'] / df_1['ReactivePower']\n",
    "df_1.head(5)"
   ]
  },
  {
   "cell_type": "code",
   "execution_count": 10,
   "metadata": {},
   "outputs": [
    {
     "data": {
      "image/png": "[encoded data removed]",
      "text/plain": [
       "<Figure size 1080x432 with 1 Axes>"
      ]
     },
     "metadata": {
      "needs_background": "light"
     },
     "output_type": "display_data"
    }
   ],
   "source": [
    "### посмотрим график распределения по количеству наблюдений в партии\n",
    "plt.figure(figsize=(15,6))\n",
    "ax_0 = sns.histplot(data=df_1[['cnt_observations']], binwidth=0.5)\n",
    "ax_0.set_xlabel('Количество наблюдений в партии')\n",
    "ax_0.set_ylabel('Количество партий')\n",
    "plt.title('График распределения по количеству наблюдений в партии')\n",
    "plt.grid()\n",
    "plt.show()"
   ]
  },
  {
   "cell_type": "code",
   "execution_count": 11,
   "metadata": {},
   "outputs": [
    {
     "data": {
      "text/html": [
       "<div>\n",
       "<style scoped>\n",
       "    .dataframe tbody tr th:only-of-type {\n",
       "        vertical-align: middle;\n",
       "    }\n",
       "\n",
       "    .dataframe tbody tr th {\n",
       "        vertical-align: top;\n",
       "    }\n",
       "\n",
       "    .dataframe thead th {\n",
       "        text-align: right;\n",
       "    }\n",
       "</style>\n",
       "<table border=\"1\" class=\"dataframe\">\n",
       "  <thead>\n",
       "    <tr style=\"text-align: right;\">\n",
       "      <th></th>\n",
       "      <th>ActivePower</th>\n",
       "      <th>ReactivePower</th>\n",
       "    </tr>\n",
       "  </thead>\n",
       "  <tbody>\n",
       "    <tr>\n",
       "      <th>ActivePower</th>\n",
       "      <td>1.000000</td>\n",
       "      <td>0.963167</td>\n",
       "    </tr>\n",
       "    <tr>\n",
       "      <th>ReactivePower</th>\n",
       "      <td>0.963167</td>\n",
       "      <td>1.000000</td>\n",
       "    </tr>\n",
       "  </tbody>\n",
       "</table>\n",
       "</div>"
      ],
      "text/plain": [
       "               ActivePower  ReactivePower\n",
       "ActivePower       1.000000       0.963167\n",
       "ReactivePower     0.963167       1.000000"
      ]
     },
     "execution_count": 11,
     "metadata": {},
     "output_type": "execute_result"
    }
   ],
   "source": [
    "### посмотрим корреляцию между мощностями\n",
    "df_1_corr = df_1[['ActivePower', 'ReactivePower']].corr()\n",
    "df_1_corr"
   ]
  },
  {
   "cell_type": "code",
   "execution_count": 12,
   "metadata": {},
   "outputs": [
    {
     "data": {
      "image/png": "[encoded data removed]",
      "text/plain": [
       "<Figure size 1080x432 with 1 Axes>"
      ]
     },
     "metadata": {
      "needs_background": "light"
     },
     "output_type": "display_data"
    }
   ],
   "source": [
    "### построим график распределения активной и реактивной мощности\n",
    "plt.figure(figsize=(15,6))\n",
    "ax_1 = sns.histplot(data=df_1[['ActivePower', 'ReactivePower']])\n",
    "ax_1.set_xlabel('Значение мощности')\n",
    "ax_1.set_ylabel('Количество')\n",
    "plt.title('График распределения активной и реактивной мощности')\n",
    "plt.grid()\n",
    "plt.show()"
   ]
  },
  {
   "cell_type": "code",
   "execution_count": 13,
   "metadata": {},
   "outputs": [
    {
     "data": {
      "text/html": [
       "<div>\n",
       "<style scoped>\n",
       "    .dataframe tbody tr th:only-of-type {\n",
       "        vertical-align: middle;\n",
       "    }\n",
       "\n",
       "    .dataframe tbody tr th {\n",
       "        vertical-align: top;\n",
       "    }\n",
       "\n",
       "    .dataframe thead th {\n",
       "        text-align: right;\n",
       "    }\n",
       "</style>\n",
       "<table border=\"1\" class=\"dataframe\">\n",
       "  <thead>\n",
       "    <tr style=\"text-align: right;\">\n",
       "      <th></th>\n",
       "      <th>key</th>\n",
       "      <th>begin_heat</th>\n",
       "      <th>end_heat</th>\n",
       "      <th>active_power</th>\n",
       "      <th>reactive_power</th>\n",
       "      <th>cnt_observations</th>\n",
       "      <th>time_heat_sec</th>\n",
       "      <th>power_diff</th>\n",
       "      <th>power_sum</th>\n",
       "      <th>div_act_react</th>\n",
       "    </tr>\n",
       "  </thead>\n",
       "  <tbody>\n",
       "    <tr>\n",
       "      <th>0</th>\n",
       "      <td>1</td>\n",
       "      <td>1900-01-01 11:02:14</td>\n",
       "      <td>1900-01-01 11:06:02</td>\n",
       "      <td>0.976059</td>\n",
       "      <td>0.687084</td>\n",
       "      <td>5</td>\n",
       "      <td>228</td>\n",
       "      <td>0.288975</td>\n",
       "      <td>1.663142</td>\n",
       "      <td>1.420582</td>\n",
       "    </tr>\n",
       "  </tbody>\n",
       "</table>\n",
       "</div>"
      ],
      "text/plain": [
       "   key          begin_heat            end_heat  active_power  reactive_power  \\\n",
       "0    1 1900-01-01 11:02:14 1900-01-01 11:06:02      0.976059        0.687084   \n",
       "\n",
       "   cnt_observations  time_heat_sec  power_diff  power_sum  div_act_react  \n",
       "0                 5            228    0.288975   1.663142       1.420582  "
      ]
     },
     "execution_count": 13,
     "metadata": {},
     "output_type": "execute_result"
    }
   ],
   "source": [
    "### скорректируем названия колонок, для корректного соединения таблиц в дальнейшем\n",
    "df_1.columns = ['key', 'begin_heat', 'end_heat', 'active_power', 'reactive_power','cnt_observations', \n",
    "                'time_heat_sec', 'power_diff', 'power_sum', 'div_act_react']\n",
    "df_1.head(1)"
   ]
  },
  {
   "cell_type": "markdown",
   "metadata": {},
   "source": [
    "#### Вывод"
   ]
  },
  {
   "cell_type": "markdown",
   "metadata": {},
   "source": [
    "- Данные в таблице корректны, пропусков нет. \n",
    "- Аномальное значение заменено на среднее изменение мощности в данной партии.\n",
    "- Добавлены новые признаки: количество запусков нагрева, время наблюдения, разница мощностей, суммарная мощность, соотношение мощностей.\n",
    "- Между мощностями высокая положительная корреляция, со значением равным 0.963\n",
    "- На графике заметна корреляция между активной и реактивной мощностью."
   ]
  },
  {
   "cell_type": "markdown",
   "metadata": {},
   "source": [
    "### Таблица steel.data_bulk"
   ]
  },
  {
   "cell_type": "code",
   "execution_count": 14,
   "metadata": {
    "scrolled": false
   },
   "outputs": [
    {
     "data": {
      "text/plain": [
       "'steel.data_bulk'"
      ]
     },
     "metadata": {},
     "output_type": "display_data"
    },
    {
     "data": {
      "text/html": [
       "<div>\n",
       "<style scoped>\n",
       "    .dataframe tbody tr th:only-of-type {\n",
       "        vertical-align: middle;\n",
       "    }\n",
       "\n",
       "    .dataframe tbody tr th {\n",
       "        vertical-align: top;\n",
       "    }\n",
       "\n",
       "    .dataframe thead th {\n",
       "        text-align: right;\n",
       "    }\n",
       "</style>\n",
       "<table border=\"1\" class=\"dataframe\">\n",
       "  <thead>\n",
       "    <tr style=\"text-align: right;\">\n",
       "      <th></th>\n",
       "      <th>key</th>\n",
       "      <th>Bulk 1</th>\n",
       "      <th>Bulk 2</th>\n",
       "      <th>Bulk 3</th>\n",
       "      <th>Bulk 4</th>\n",
       "      <th>Bulk 5</th>\n",
       "      <th>Bulk 6</th>\n",
       "      <th>Bulk 7</th>\n",
       "      <th>Bulk 8</th>\n",
       "      <th>Bulk 9</th>\n",
       "      <th>Bulk 10</th>\n",
       "      <th>Bulk 11</th>\n",
       "      <th>Bulk 12</th>\n",
       "      <th>Bulk 13</th>\n",
       "      <th>Bulk 14</th>\n",
       "      <th>Bulk 15</th>\n",
       "    </tr>\n",
       "  </thead>\n",
       "  <tbody>\n",
       "    <tr>\n",
       "      <th>0</th>\n",
       "      <td>1</td>\n",
       "      <td>NaN</td>\n",
       "      <td>NaN</td>\n",
       "      <td>NaN</td>\n",
       "      <td>43.0</td>\n",
       "      <td>NaN</td>\n",
       "      <td>NaN</td>\n",
       "      <td>NaN</td>\n",
       "      <td>NaN</td>\n",
       "      <td>NaN</td>\n",
       "      <td>NaN</td>\n",
       "      <td>NaN</td>\n",
       "      <td>206.0</td>\n",
       "      <td>NaN</td>\n",
       "      <td>150.0</td>\n",
       "      <td>154.0</td>\n",
       "    </tr>\n",
       "    <tr>\n",
       "      <th>1</th>\n",
       "      <td>2</td>\n",
       "      <td>NaN</td>\n",
       "      <td>NaN</td>\n",
       "      <td>NaN</td>\n",
       "      <td>73.0</td>\n",
       "      <td>NaN</td>\n",
       "      <td>NaN</td>\n",
       "      <td>NaN</td>\n",
       "      <td>NaN</td>\n",
       "      <td>NaN</td>\n",
       "      <td>NaN</td>\n",
       "      <td>NaN</td>\n",
       "      <td>206.0</td>\n",
       "      <td>NaN</td>\n",
       "      <td>149.0</td>\n",
       "      <td>154.0</td>\n",
       "    </tr>\n",
       "    <tr>\n",
       "      <th>2</th>\n",
       "      <td>3</td>\n",
       "      <td>NaN</td>\n",
       "      <td>NaN</td>\n",
       "      <td>NaN</td>\n",
       "      <td>34.0</td>\n",
       "      <td>NaN</td>\n",
       "      <td>NaN</td>\n",
       "      <td>NaN</td>\n",
       "      <td>NaN</td>\n",
       "      <td>NaN</td>\n",
       "      <td>NaN</td>\n",
       "      <td>NaN</td>\n",
       "      <td>205.0</td>\n",
       "      <td>NaN</td>\n",
       "      <td>152.0</td>\n",
       "      <td>153.0</td>\n",
       "    </tr>\n",
       "  </tbody>\n",
       "</table>\n",
       "</div>"
      ],
      "text/plain": [
       "   key  Bulk 1  Bulk 2  Bulk 3  Bulk 4  Bulk 5  Bulk 6  Bulk 7  Bulk 8  \\\n",
       "0    1     NaN     NaN     NaN    43.0     NaN     NaN     NaN     NaN   \n",
       "1    2     NaN     NaN     NaN    73.0     NaN     NaN     NaN     NaN   \n",
       "2    3     NaN     NaN     NaN    34.0     NaN     NaN     NaN     NaN   \n",
       "\n",
       "   Bulk 9  Bulk 10  Bulk 11  Bulk 12  Bulk 13  Bulk 14  Bulk 15  \n",
       "0     NaN      NaN      NaN    206.0      NaN    150.0    154.0  \n",
       "1     NaN      NaN      NaN    206.0      NaN    149.0    154.0  \n",
       "2     NaN      NaN      NaN    205.0      NaN    152.0    153.0  "
      ]
     },
     "metadata": {},
     "output_type": "display_data"
    },
    {
     "name": "stdout",
     "output_type": "stream",
     "text": [
      "<class 'pandas.core.frame.DataFrame'>\n",
      "RangeIndex: 3129 entries, 0 to 3128\n",
      "Data columns (total 16 columns):\n",
      " #   Column   Non-Null Count  Dtype  \n",
      "---  ------   --------------  -----  \n",
      " 0   key      3129 non-null   int64  \n",
      " 1   Bulk 1   252 non-null    float64\n",
      " 2   Bulk 2   22 non-null     float64\n",
      " 3   Bulk 3   1298 non-null   float64\n",
      " 4   Bulk 4   1014 non-null   float64\n",
      " 5   Bulk 5   77 non-null     float64\n",
      " 6   Bulk 6   576 non-null    float64\n",
      " 7   Bulk 7   25 non-null     float64\n",
      " 8   Bulk 8   1 non-null      float64\n",
      " 9   Bulk 9   19 non-null     float64\n",
      " 10  Bulk 10  176 non-null    float64\n",
      " 11  Bulk 11  177 non-null    float64\n",
      " 12  Bulk 12  2450 non-null   float64\n",
      " 13  Bulk 13  18 non-null     float64\n",
      " 14  Bulk 14  2806 non-null   float64\n",
      " 15  Bulk 15  2248 non-null   float64\n",
      "dtypes: float64(15), int64(1)\n",
      "memory usage: 391.2 KB\n"
     ]
    },
    {
     "data": {
      "text/plain": [
       "'_ _ _ _ _ _ _ _ _ _ _ _ _ _ _ _ _ _ _ _ _'"
      ]
     },
     "metadata": {},
     "output_type": "display_data"
    }
   ],
   "source": [
    "### срез для таблицы steel.data_bulk\n",
    "query_2 = '''\n",
    "SELECT *\n",
    "FROM steel.data_bulk;\n",
    "'''\n",
    "### преобразование в табличную форму библиотеки пандас\n",
    "df_2 = pd.read_sql_query(query_2, con=engine) \n",
    "df_info('steel.data_bulk', df_2)"
   ]
  },
  {
   "cell_type": "code",
   "execution_count": 15,
   "metadata": {
    "scrolled": false
   },
   "outputs": [
    {
     "data": {
      "text/html": [
       "<div>\n",
       "<style scoped>\n",
       "    .dataframe tbody tr th:only-of-type {\n",
       "        vertical-align: middle;\n",
       "    }\n",
       "\n",
       "    .dataframe tbody tr th {\n",
       "        vertical-align: top;\n",
       "    }\n",
       "\n",
       "    .dataframe thead th {\n",
       "        text-align: right;\n",
       "    }\n",
       "</style>\n",
       "<table border=\"1\" class=\"dataframe\">\n",
       "  <thead>\n",
       "    <tr style=\"text-align: right;\">\n",
       "      <th></th>\n",
       "      <th>key</th>\n",
       "      <th>Bulk 1</th>\n",
       "      <th>Bulk 2</th>\n",
       "      <th>Bulk 3</th>\n",
       "      <th>Bulk 4</th>\n",
       "      <th>Bulk 5</th>\n",
       "      <th>Bulk 6</th>\n",
       "      <th>Bulk 7</th>\n",
       "      <th>Bulk 8</th>\n",
       "      <th>Bulk 9</th>\n",
       "      <th>Bulk 10</th>\n",
       "      <th>Bulk 11</th>\n",
       "      <th>Bulk 12</th>\n",
       "      <th>Bulk 13</th>\n",
       "      <th>Bulk 14</th>\n",
       "      <th>Bulk 15</th>\n",
       "      <th>bulk_sum</th>\n",
       "    </tr>\n",
       "  </thead>\n",
       "  <tbody>\n",
       "    <tr>\n",
       "      <th>count</th>\n",
       "      <td>3129.000000</td>\n",
       "      <td>3129.000000</td>\n",
       "      <td>3129.000000</td>\n",
       "      <td>3129.000000</td>\n",
       "      <td>3129.000000</td>\n",
       "      <td>3129.000000</td>\n",
       "      <td>3129.000000</td>\n",
       "      <td>3129.000000</td>\n",
       "      <td>3129.000000</td>\n",
       "      <td>3129.000000</td>\n",
       "      <td>3129.000000</td>\n",
       "      <td>3129.000000</td>\n",
       "      <td>3129.000000</td>\n",
       "      <td>3129.000000</td>\n",
       "      <td>3129.000000</td>\n",
       "      <td>3129.000000</td>\n",
       "      <td>3129.000000</td>\n",
       "    </tr>\n",
       "    <tr>\n",
       "      <th>mean</th>\n",
       "      <td>1624.383509</td>\n",
       "      <td>3.160435</td>\n",
       "      <td>1.779163</td>\n",
       "      <td>47.240332</td>\n",
       "      <td>33.830617</td>\n",
       "      <td>2.633749</td>\n",
       "      <td>21.892298</td>\n",
       "      <td>2.441675</td>\n",
       "      <td>0.015660</td>\n",
       "      <td>0.463407</td>\n",
       "      <td>4.684564</td>\n",
       "      <td>4.345478</td>\n",
       "      <td>203.948226</td>\n",
       "      <td>1.041866</td>\n",
       "      <td>152.706616</td>\n",
       "      <td>115.319271</td>\n",
       "      <td>595.503356</td>\n",
       "    </tr>\n",
       "    <tr>\n",
       "      <th>std</th>\n",
       "      <td>933.337642</td>\n",
       "      <td>11.869164</td>\n",
       "      <td>21.217878</td>\n",
       "      <td>74.239954</td>\n",
       "      <td>56.034505</td>\n",
       "      <td>20.918138</td>\n",
       "      <td>55.492582</td>\n",
       "      <td>31.944063</td>\n",
       "      <td>0.875978</td>\n",
       "      <td>6.154398</td>\n",
       "      <td>20.157323</td>\n",
       "      <td>22.699580</td>\n",
       "      <td>151.419639</td>\n",
       "      <td>14.114252</td>\n",
       "      <td>81.091421</td>\n",
       "      <td>84.488698</td>\n",
       "      <td>276.557794</td>\n",
       "    </tr>\n",
       "    <tr>\n",
       "      <th>min</th>\n",
       "      <td>1.000000</td>\n",
       "      <td>0.000000</td>\n",
       "      <td>0.000000</td>\n",
       "      <td>0.000000</td>\n",
       "      <td>0.000000</td>\n",
       "      <td>0.000000</td>\n",
       "      <td>0.000000</td>\n",
       "      <td>0.000000</td>\n",
       "      <td>0.000000</td>\n",
       "      <td>0.000000</td>\n",
       "      <td>0.000000</td>\n",
       "      <td>0.000000</td>\n",
       "      <td>0.000000</td>\n",
       "      <td>0.000000</td>\n",
       "      <td>0.000000</td>\n",
       "      <td>0.000000</td>\n",
       "      <td>19.000000</td>\n",
       "    </tr>\n",
       "    <tr>\n",
       "      <th>25%</th>\n",
       "      <td>816.000000</td>\n",
       "      <td>0.000000</td>\n",
       "      <td>0.000000</td>\n",
       "      <td>0.000000</td>\n",
       "      <td>0.000000</td>\n",
       "      <td>0.000000</td>\n",
       "      <td>0.000000</td>\n",
       "      <td>0.000000</td>\n",
       "      <td>0.000000</td>\n",
       "      <td>0.000000</td>\n",
       "      <td>0.000000</td>\n",
       "      <td>0.000000</td>\n",
       "      <td>105.000000</td>\n",
       "      <td>0.000000</td>\n",
       "      <td>104.000000</td>\n",
       "      <td>0.000000</td>\n",
       "      <td>429.000000</td>\n",
       "    </tr>\n",
       "    <tr>\n",
       "      <th>50%</th>\n",
       "      <td>1622.000000</td>\n",
       "      <td>0.000000</td>\n",
       "      <td>0.000000</td>\n",
       "      <td>0.000000</td>\n",
       "      <td>0.000000</td>\n",
       "      <td>0.000000</td>\n",
       "      <td>0.000000</td>\n",
       "      <td>0.000000</td>\n",
       "      <td>0.000000</td>\n",
       "      <td>0.000000</td>\n",
       "      <td>0.000000</td>\n",
       "      <td>0.000000</td>\n",
       "      <td>206.000000</td>\n",
       "      <td>0.000000</td>\n",
       "      <td>148.000000</td>\n",
       "      <td>106.000000</td>\n",
       "      <td>591.000000</td>\n",
       "    </tr>\n",
       "    <tr>\n",
       "      <th>75%</th>\n",
       "      <td>2431.000000</td>\n",
       "      <td>0.000000</td>\n",
       "      <td>0.000000</td>\n",
       "      <td>80.000000</td>\n",
       "      <td>68.000000</td>\n",
       "      <td>0.000000</td>\n",
       "      <td>0.000000</td>\n",
       "      <td>0.000000</td>\n",
       "      <td>0.000000</td>\n",
       "      <td>0.000000</td>\n",
       "      <td>0.000000</td>\n",
       "      <td>0.000000</td>\n",
       "      <td>263.000000</td>\n",
       "      <td>0.000000</td>\n",
       "      <td>202.000000</td>\n",
       "      <td>204.000000</td>\n",
       "      <td>772.000000</td>\n",
       "    </tr>\n",
       "    <tr>\n",
       "      <th>max</th>\n",
       "      <td>3241.000000</td>\n",
       "      <td>185.000000</td>\n",
       "      <td>325.000000</td>\n",
       "      <td>454.000000</td>\n",
       "      <td>281.000000</td>\n",
       "      <td>603.000000</td>\n",
       "      <td>503.000000</td>\n",
       "      <td>772.000000</td>\n",
       "      <td>49.000000</td>\n",
       "      <td>147.000000</td>\n",
       "      <td>159.000000</td>\n",
       "      <td>313.000000</td>\n",
       "      <td>1849.000000</td>\n",
       "      <td>305.000000</td>\n",
       "      <td>636.000000</td>\n",
       "      <td>405.000000</td>\n",
       "      <td>3235.000000</td>\n",
       "    </tr>\n",
       "  </tbody>\n",
       "</table>\n",
       "</div>"
      ],
      "text/plain": [
       "               key       Bulk 1       Bulk 2       Bulk 3       Bulk 4  \\\n",
       "count  3129.000000  3129.000000  3129.000000  3129.000000  3129.000000   \n",
       "mean   1624.383509     3.160435     1.779163    47.240332    33.830617   \n",
       "std     933.337642    11.869164    21.217878    74.239954    56.034505   \n",
       "min       1.000000     0.000000     0.000000     0.000000     0.000000   \n",
       "25%     816.000000     0.000000     0.000000     0.000000     0.000000   \n",
       "50%    1622.000000     0.000000     0.000000     0.000000     0.000000   \n",
       "75%    2431.000000     0.000000     0.000000    80.000000    68.000000   \n",
       "max    3241.000000   185.000000   325.000000   454.000000   281.000000   \n",
       "\n",
       "            Bulk 5       Bulk 6       Bulk 7       Bulk 8       Bulk 9  \\\n",
       "count  3129.000000  3129.000000  3129.000000  3129.000000  3129.000000   \n",
       "mean      2.633749    21.892298     2.441675     0.015660     0.463407   \n",
       "std      20.918138    55.492582    31.944063     0.875978     6.154398   \n",
       "min       0.000000     0.000000     0.000000     0.000000     0.000000   \n",
       "25%       0.000000     0.000000     0.000000     0.000000     0.000000   \n",
       "50%       0.000000     0.000000     0.000000     0.000000     0.000000   \n",
       "75%       0.000000     0.000000     0.000000     0.000000     0.000000   \n",
       "max     603.000000   503.000000   772.000000    49.000000   147.000000   \n",
       "\n",
       "           Bulk 10      Bulk 11      Bulk 12      Bulk 13      Bulk 14  \\\n",
       "count  3129.000000  3129.000000  3129.000000  3129.000000  3129.000000   \n",
       "mean      4.684564     4.345478   203.948226     1.041866   152.706616   \n",
       "std      20.157323    22.699580   151.419639    14.114252    81.091421   \n",
       "min       0.000000     0.000000     0.000000     0.000000     0.000000   \n",
       "25%       0.000000     0.000000   105.000000     0.000000   104.000000   \n",
       "50%       0.000000     0.000000   206.000000     0.000000   148.000000   \n",
       "75%       0.000000     0.000000   263.000000     0.000000   202.000000   \n",
       "max     159.000000   313.000000  1849.000000   305.000000   636.000000   \n",
       "\n",
       "           Bulk 15     bulk_sum  \n",
       "count  3129.000000  3129.000000  \n",
       "mean    115.319271   595.503356  \n",
       "std      84.488698   276.557794  \n",
       "min       0.000000    19.000000  \n",
       "25%       0.000000   429.000000  \n",
       "50%     106.000000   591.000000  \n",
       "75%     204.000000   772.000000  \n",
       "max     405.000000  3235.000000  "
      ]
     },
     "metadata": {},
     "output_type": "display_data"
    },
    {
     "name": "stdout",
     "output_type": "stream",
     "text": [
      "<class 'pandas.core.frame.DataFrame'>\n",
      "RangeIndex: 3129 entries, 0 to 3128\n",
      "Data columns (total 17 columns):\n",
      " #   Column    Non-Null Count  Dtype  \n",
      "---  ------    --------------  -----  \n",
      " 0   key       3129 non-null   int64  \n",
      " 1   Bulk 1    3129 non-null   float64\n",
      " 2   Bulk 2    3129 non-null   float64\n",
      " 3   Bulk 3    3129 non-null   float64\n",
      " 4   Bulk 4    3129 non-null   float64\n",
      " 5   Bulk 5    3129 non-null   float64\n",
      " 6   Bulk 6    3129 non-null   float64\n",
      " 7   Bulk 7    3129 non-null   float64\n",
      " 8   Bulk 8    3129 non-null   float64\n",
      " 9   Bulk 9    3129 non-null   float64\n",
      " 10  Bulk 10   3129 non-null   float64\n",
      " 11  Bulk 11   3129 non-null   float64\n",
      " 12  Bulk 12   3129 non-null   float64\n",
      " 13  Bulk 13   3129 non-null   float64\n",
      " 14  Bulk 14   3129 non-null   float64\n",
      " 15  Bulk 15   3129 non-null   float64\n",
      " 16  bulk_sum  3129 non-null   float64\n",
      "dtypes: float64(16), int64(1)\n",
      "memory usage: 415.7 KB\n"
     ]
    },
    {
     "data": {
      "text/plain": [
       "None"
      ]
     },
     "metadata": {},
     "output_type": "display_data"
    }
   ],
   "source": [
    "### заполнение пропусков нулем\n",
    "df_2 = df_2.fillna(0)\n",
    "### выведем колонки в отдельную переменную\n",
    "df_2_cols = ['Bulk 1', 'Bulk 2', 'Bulk 3', 'Bulk 4', 'Bulk 5', 'Bulk 6', 'Bulk 7', 'Bulk 8', \n",
    "             'Bulk 9', 'Bulk 10', 'Bulk 11', 'Bulk 12', 'Bulk 13', 'Bulk 14', 'Bulk 15']\n",
    "df_2['bulk_sum'] = df_2[df_2_cols].sum(axis=1)\n",
    "### просмотр общих данных таблицы\n",
    "display(df_2.describe())\n",
    "display(df_2.info())"
   ]
  },
  {
   "cell_type": "code",
   "execution_count": 16,
   "metadata": {
    "scrolled": false
   },
   "outputs": [
    {
     "data": {
      "image/png": "[encoded data removed]",
      "text/plain": [
       "<Figure size 1080x432 with 1 Axes>"
      ]
     },
     "metadata": {
      "needs_background": "light"
     },
     "output_type": "display_data"
    }
   ],
   "source": [
    "### построим график распределения\n",
    "plt.figure(figsize=(15,6))\n",
    "ax_2 = sns.barplot(data=df_2.drop(['key', 'bulk_sum'], axis=1), palette='bright')\n",
    "ax_2.set_xlabel('Тип сыпучей добавки')\n",
    "ax_2.set_ylabel('Среднее количество добавки')\n",
    "plt.title('График распределения среднего количества сыпучих добавок')\n",
    "plt.grid()\n",
    "plt.show()"
   ]
  },
  {
   "cell_type": "code",
   "execution_count": 17,
   "metadata": {},
   "outputs": [
    {
     "data": {
      "text/html": [
       "<div>\n",
       "<style scoped>\n",
       "    .dataframe tbody tr th:only-of-type {\n",
       "        vertical-align: middle;\n",
       "    }\n",
       "\n",
       "    .dataframe tbody tr th {\n",
       "        vertical-align: top;\n",
       "    }\n",
       "\n",
       "    .dataframe thead th {\n",
       "        text-align: right;\n",
       "    }\n",
       "</style>\n",
       "<table border=\"1\" class=\"dataframe\">\n",
       "  <thead>\n",
       "    <tr style=\"text-align: right;\">\n",
       "      <th></th>\n",
       "      <th>bulk_1</th>\n",
       "      <th>bulk_2</th>\n",
       "      <th>bulk_3</th>\n",
       "      <th>bulk_4</th>\n",
       "      <th>bulk_5</th>\n",
       "      <th>bulk_6</th>\n",
       "      <th>bulk_7</th>\n",
       "      <th>bulk_8</th>\n",
       "      <th>bulk_9</th>\n",
       "      <th>bulk_10</th>\n",
       "      <th>bulk_11</th>\n",
       "      <th>bulk_12</th>\n",
       "      <th>bulk_13</th>\n",
       "      <th>bulk_14</th>\n",
       "      <th>bulk_15</th>\n",
       "      <th>bulk_sum</th>\n",
       "    </tr>\n",
       "    <tr>\n",
       "      <th>key</th>\n",
       "      <th></th>\n",
       "      <th></th>\n",
       "      <th></th>\n",
       "      <th></th>\n",
       "      <th></th>\n",
       "      <th></th>\n",
       "      <th></th>\n",
       "      <th></th>\n",
       "      <th></th>\n",
       "      <th></th>\n",
       "      <th></th>\n",
       "      <th></th>\n",
       "      <th></th>\n",
       "      <th></th>\n",
       "      <th></th>\n",
       "      <th></th>\n",
       "    </tr>\n",
       "  </thead>\n",
       "  <tbody>\n",
       "    <tr>\n",
       "      <th>1</th>\n",
       "      <td>0.0</td>\n",
       "      <td>0.0</td>\n",
       "      <td>0.0</td>\n",
       "      <td>43.0</td>\n",
       "      <td>0.0</td>\n",
       "      <td>0.0</td>\n",
       "      <td>0.0</td>\n",
       "      <td>0.0</td>\n",
       "      <td>0.0</td>\n",
       "      <td>0.0</td>\n",
       "      <td>0.0</td>\n",
       "      <td>206.0</td>\n",
       "      <td>0.0</td>\n",
       "      <td>150.0</td>\n",
       "      <td>154.0</td>\n",
       "      <td>553.0</td>\n",
       "    </tr>\n",
       "  </tbody>\n",
       "</table>\n",
       "</div>"
      ],
      "text/plain": [
       "     bulk_1  bulk_2  bulk_3  bulk_4  bulk_5  bulk_6  bulk_7  bulk_8  bulk_9  \\\n",
       "key                                                                           \n",
       "1       0.0     0.0     0.0    43.0     0.0     0.0     0.0     0.0     0.0   \n",
       "\n",
       "     bulk_10  bulk_11  bulk_12  bulk_13  bulk_14  bulk_15  bulk_sum  \n",
       "key                                                                  \n",
       "1        0.0      0.0    206.0      0.0    150.0    154.0     553.0  "
      ]
     },
     "execution_count": 17,
     "metadata": {},
     "output_type": "execute_result"
    }
   ],
   "source": [
    "### скорректируем названия колонок, для корректного соединения таблиц в дальнейшем\n",
    "df_2.columns = ['key', 'bulk_1', 'bulk_2', 'bulk_3', 'bulk_4', 'bulk_5', 'bulk_6', 'bulk_7', 'bulk_8', \n",
    "                'bulk_9', 'bulk_10', 'bulk_11', 'bulk_12', 'bulk_13', 'bulk_14', 'bulk_15', 'bulk_sum']\n",
    "df_2 = df_2.set_index('key')\n",
    "df_2.head(1)"
   ]
  },
  {
   "cell_type": "markdown",
   "metadata": {},
   "source": [
    "#### Вывод"
   ]
  },
  {
   "cell_type": "markdown",
   "metadata": {},
   "source": [
    "- В данных очень много пропусков. \n",
    "- Добавка из сыпучих матриеалов под номером 8, например, добавлялась лишь в одной партии.\n",
    "- Пропуск в данных означает отсутсвие добавки.\n",
    "- Для упрощения расчетов, пропуски заполнены нулем.\n",
    "- Наибольшее количество из добавляемых сыпучих материалов у номера 12."
   ]
  },
  {
   "cell_type": "markdown",
   "metadata": {},
   "source": [
    "### Таблица steel.data_bulk_time"
   ]
  },
  {
   "cell_type": "code",
   "execution_count": 18,
   "metadata": {
    "scrolled": false
   },
   "outputs": [
    {
     "data": {
      "text/plain": [
       "'steel.data_bulk_time'"
      ]
     },
     "metadata": {},
     "output_type": "display_data"
    },
    {
     "data": {
      "text/html": [
       "<div>\n",
       "<style scoped>\n",
       "    .dataframe tbody tr th:only-of-type {\n",
       "        vertical-align: middle;\n",
       "    }\n",
       "\n",
       "    .dataframe tbody tr th {\n",
       "        vertical-align: top;\n",
       "    }\n",
       "\n",
       "    .dataframe thead th {\n",
       "        text-align: right;\n",
       "    }\n",
       "</style>\n",
       "<table border=\"1\" class=\"dataframe\">\n",
       "  <thead>\n",
       "    <tr style=\"text-align: right;\">\n",
       "      <th></th>\n",
       "      <th>key</th>\n",
       "      <th>Bulk 1</th>\n",
       "      <th>Bulk 2</th>\n",
       "      <th>Bulk 3</th>\n",
       "      <th>Bulk 4</th>\n",
       "      <th>Bulk 5</th>\n",
       "      <th>Bulk 6</th>\n",
       "      <th>Bulk 7</th>\n",
       "      <th>Bulk 8</th>\n",
       "      <th>Bulk 9</th>\n",
       "      <th>Bulk 10</th>\n",
       "      <th>Bulk 11</th>\n",
       "      <th>Bulk 12</th>\n",
       "      <th>Bulk 13</th>\n",
       "      <th>Bulk 14</th>\n",
       "      <th>Bulk 15</th>\n",
       "    </tr>\n",
       "  </thead>\n",
       "  <tbody>\n",
       "    <tr>\n",
       "      <th>0</th>\n",
       "      <td>1</td>\n",
       "      <td>None</td>\n",
       "      <td>None</td>\n",
       "      <td>None</td>\n",
       "      <td>11:21:30</td>\n",
       "      <td>None</td>\n",
       "      <td>None</td>\n",
       "      <td>None</td>\n",
       "      <td>None</td>\n",
       "      <td>None</td>\n",
       "      <td>None</td>\n",
       "      <td>None</td>\n",
       "      <td>11:03:52</td>\n",
       "      <td>None</td>\n",
       "      <td>11:03:52</td>\n",
       "      <td>11:03:52</td>\n",
       "    </tr>\n",
       "    <tr>\n",
       "      <th>1</th>\n",
       "      <td>2</td>\n",
       "      <td>None</td>\n",
       "      <td>None</td>\n",
       "      <td>None</td>\n",
       "      <td>11:46:38</td>\n",
       "      <td>None</td>\n",
       "      <td>None</td>\n",
       "      <td>None</td>\n",
       "      <td>None</td>\n",
       "      <td>None</td>\n",
       "      <td>None</td>\n",
       "      <td>None</td>\n",
       "      <td>11:40:20</td>\n",
       "      <td>None</td>\n",
       "      <td>11:40:20</td>\n",
       "      <td>11:40:20</td>\n",
       "    </tr>\n",
       "    <tr>\n",
       "      <th>2</th>\n",
       "      <td>3</td>\n",
       "      <td>None</td>\n",
       "      <td>None</td>\n",
       "      <td>None</td>\n",
       "      <td>12:31:06</td>\n",
       "      <td>None</td>\n",
       "      <td>None</td>\n",
       "      <td>None</td>\n",
       "      <td>None</td>\n",
       "      <td>None</td>\n",
       "      <td>None</td>\n",
       "      <td>None</td>\n",
       "      <td>12:09:40</td>\n",
       "      <td>None</td>\n",
       "      <td>12:09:40</td>\n",
       "      <td>12:09:40</td>\n",
       "    </tr>\n",
       "  </tbody>\n",
       "</table>\n",
       "</div>"
      ],
      "text/plain": [
       "   key Bulk 1 Bulk 2 Bulk 3    Bulk 4 Bulk 5 Bulk 6 Bulk 7 Bulk 8 Bulk 9  \\\n",
       "0    1   None   None   None  11:21:30   None   None   None   None   None   \n",
       "1    2   None   None   None  11:46:38   None   None   None   None   None   \n",
       "2    3   None   None   None  12:31:06   None   None   None   None   None   \n",
       "\n",
       "  Bulk 10 Bulk 11   Bulk 12 Bulk 13   Bulk 14   Bulk 15  \n",
       "0    None    None  11:03:52    None  11:03:52  11:03:52  \n",
       "1    None    None  11:40:20    None  11:40:20  11:40:20  \n",
       "2    None    None  12:09:40    None  12:09:40  12:09:40  "
      ]
     },
     "metadata": {},
     "output_type": "display_data"
    },
    {
     "name": "stdout",
     "output_type": "stream",
     "text": [
      "<class 'pandas.core.frame.DataFrame'>\n",
      "RangeIndex: 3129 entries, 0 to 3128\n",
      "Data columns (total 16 columns):\n",
      " #   Column   Non-Null Count  Dtype \n",
      "---  ------   --------------  ----- \n",
      " 0   key      3129 non-null   int64 \n",
      " 1   Bulk 1   252 non-null    object\n",
      " 2   Bulk 2   22 non-null     object\n",
      " 3   Bulk 3   1298 non-null   object\n",
      " 4   Bulk 4   1014 non-null   object\n",
      " 5   Bulk 5   77 non-null     object\n",
      " 6   Bulk 6   576 non-null    object\n",
      " 7   Bulk 7   25 non-null     object\n",
      " 8   Bulk 8   1 non-null      object\n",
      " 9   Bulk 9   19 non-null     object\n",
      " 10  Bulk 10  176 non-null    object\n",
      " 11  Bulk 11  177 non-null    object\n",
      " 12  Bulk 12  2450 non-null   object\n",
      " 13  Bulk 13  18 non-null     object\n",
      " 14  Bulk 14  2806 non-null   object\n",
      " 15  Bulk 15  2248 non-null   object\n",
      "dtypes: int64(1), object(15)\n",
      "memory usage: 391.2+ KB\n"
     ]
    },
    {
     "data": {
      "text/plain": [
       "'_ _ _ _ _ _ _ _ _ _ _ _ _ _ _ _ _ _ _ _ _'"
      ]
     },
     "metadata": {},
     "output_type": "display_data"
    }
   ],
   "source": [
    "### срез для таблицы steel.data_bulk_time\n",
    "query_3 = '''\n",
    "SELECT *\n",
    "FROM steel.data_bulk_time;\n",
    "'''\n",
    "### преобразование в табличную форму библиотеки пандас\n",
    "df_3 = pd.read_sql_query(query_3, con=engine) \n",
    "df_info('steel.data_bulk_time', df_3)"
   ]
  },
  {
   "cell_type": "code",
   "execution_count": 19,
   "metadata": {},
   "outputs": [
    {
     "data": {
      "text/html": [
       "<div>\n",
       "<style scoped>\n",
       "    .dataframe tbody tr th:only-of-type {\n",
       "        vertical-align: middle;\n",
       "    }\n",
       "\n",
       "    .dataframe tbody tr th {\n",
       "        vertical-align: top;\n",
       "    }\n",
       "\n",
       "    .dataframe thead th {\n",
       "        text-align: right;\n",
       "    }\n",
       "</style>\n",
       "<table border=\"1\" class=\"dataframe\">\n",
       "  <thead>\n",
       "    <tr style=\"text-align: right;\">\n",
       "      <th></th>\n",
       "      <th>key</th>\n",
       "      <th>Bulk 1</th>\n",
       "      <th>Bulk 2</th>\n",
       "      <th>Bulk 3</th>\n",
       "      <th>Bulk 4</th>\n",
       "      <th>Bulk 5</th>\n",
       "      <th>Bulk 6</th>\n",
       "      <th>Bulk 7</th>\n",
       "      <th>Bulk 8</th>\n",
       "      <th>Bulk 9</th>\n",
       "      <th>Bulk 10</th>\n",
       "      <th>Bulk 11</th>\n",
       "      <th>Bulk 12</th>\n",
       "      <th>Bulk 13</th>\n",
       "      <th>Bulk 14</th>\n",
       "      <th>Bulk 15</th>\n",
       "      <th>max_time_bulk</th>\n",
       "      <th>min_time_bulk</th>\n",
       "      <th>time_dif_sec_bulk</th>\n",
       "    </tr>\n",
       "  </thead>\n",
       "  <tbody>\n",
       "    <tr>\n",
       "      <th>0</th>\n",
       "      <td>1</td>\n",
       "      <td>00:00:00</td>\n",
       "      <td>00:00:00</td>\n",
       "      <td>00:00:00</td>\n",
       "      <td>11:21:30</td>\n",
       "      <td>00:00:00</td>\n",
       "      <td>00:00:00</td>\n",
       "      <td>00:00:00</td>\n",
       "      <td>00:00:00</td>\n",
       "      <td>00:00:00</td>\n",
       "      <td>00:00:00</td>\n",
       "      <td>00:00:00</td>\n",
       "      <td>11:03:52</td>\n",
       "      <td>00:00:00</td>\n",
       "      <td>11:03:52</td>\n",
       "      <td>11:03:52</td>\n",
       "      <td>1900-01-01 11:21:30</td>\n",
       "      <td>1900-01-01 11:03:52</td>\n",
       "      <td>1058</td>\n",
       "    </tr>\n",
       "    <tr>\n",
       "      <th>1</th>\n",
       "      <td>2</td>\n",
       "      <td>00:00:00</td>\n",
       "      <td>00:00:00</td>\n",
       "      <td>00:00:00</td>\n",
       "      <td>11:46:38</td>\n",
       "      <td>00:00:00</td>\n",
       "      <td>00:00:00</td>\n",
       "      <td>00:00:00</td>\n",
       "      <td>00:00:00</td>\n",
       "      <td>00:00:00</td>\n",
       "      <td>00:00:00</td>\n",
       "      <td>00:00:00</td>\n",
       "      <td>11:40:20</td>\n",
       "      <td>00:00:00</td>\n",
       "      <td>11:40:20</td>\n",
       "      <td>11:40:20</td>\n",
       "      <td>1900-01-01 11:46:38</td>\n",
       "      <td>1900-01-01 11:40:20</td>\n",
       "      <td>378</td>\n",
       "    </tr>\n",
       "    <tr>\n",
       "      <th>2</th>\n",
       "      <td>3</td>\n",
       "      <td>00:00:00</td>\n",
       "      <td>00:00:00</td>\n",
       "      <td>00:00:00</td>\n",
       "      <td>12:31:06</td>\n",
       "      <td>00:00:00</td>\n",
       "      <td>00:00:00</td>\n",
       "      <td>00:00:00</td>\n",
       "      <td>00:00:00</td>\n",
       "      <td>00:00:00</td>\n",
       "      <td>00:00:00</td>\n",
       "      <td>00:00:00</td>\n",
       "      <td>12:09:40</td>\n",
       "      <td>00:00:00</td>\n",
       "      <td>12:09:40</td>\n",
       "      <td>12:09:40</td>\n",
       "      <td>1900-01-01 12:31:06</td>\n",
       "      <td>1900-01-01 12:09:40</td>\n",
       "      <td>1286</td>\n",
       "    </tr>\n",
       "  </tbody>\n",
       "</table>\n",
       "</div>"
      ],
      "text/plain": [
       "   key    Bulk 1    Bulk 2    Bulk 3    Bulk 4    Bulk 5    Bulk 6    Bulk 7  \\\n",
       "0    1  00:00:00  00:00:00  00:00:00  11:21:30  00:00:00  00:00:00  00:00:00   \n",
       "1    2  00:00:00  00:00:00  00:00:00  11:46:38  00:00:00  00:00:00  00:00:00   \n",
       "2    3  00:00:00  00:00:00  00:00:00  12:31:06  00:00:00  00:00:00  00:00:00   \n",
       "\n",
       "     Bulk 8    Bulk 9   Bulk 10   Bulk 11   Bulk 12   Bulk 13   Bulk 14  \\\n",
       "0  00:00:00  00:00:00  00:00:00  00:00:00  11:03:52  00:00:00  11:03:52   \n",
       "1  00:00:00  00:00:00  00:00:00  00:00:00  11:40:20  00:00:00  11:40:20   \n",
       "2  00:00:00  00:00:00  00:00:00  00:00:00  12:09:40  00:00:00  12:09:40   \n",
       "\n",
       "    Bulk 15       max_time_bulk       min_time_bulk  time_dif_sec_bulk  \n",
       "0  11:03:52 1900-01-01 11:21:30 1900-01-01 11:03:52               1058  \n",
       "1  11:40:20 1900-01-01 11:46:38 1900-01-01 11:40:20                378  \n",
       "2  12:09:40 1900-01-01 12:31:06 1900-01-01 12:09:40               1286  "
      ]
     },
     "metadata": {},
     "output_type": "display_data"
    },
    {
     "data": {
      "text/html": [
       "<div>\n",
       "<style scoped>\n",
       "    .dataframe tbody tr th:only-of-type {\n",
       "        vertical-align: middle;\n",
       "    }\n",
       "\n",
       "    .dataframe tbody tr th {\n",
       "        vertical-align: top;\n",
       "    }\n",
       "\n",
       "    .dataframe thead th {\n",
       "        text-align: right;\n",
       "    }\n",
       "</style>\n",
       "<table border=\"1\" class=\"dataframe\">\n",
       "  <thead>\n",
       "    <tr style=\"text-align: right;\">\n",
       "      <th></th>\n",
       "      <th>bulk_1_time</th>\n",
       "      <th>bulk_2_time</th>\n",
       "      <th>bulk_3_time</th>\n",
       "      <th>bulk_4_time</th>\n",
       "      <th>bulk_5_time</th>\n",
       "      <th>bulk_6_time</th>\n",
       "      <th>bulk_7_time</th>\n",
       "      <th>bulk_8_time</th>\n",
       "      <th>bulk_9_time</th>\n",
       "      <th>bulk_10_time</th>\n",
       "      <th>bulk_11_time</th>\n",
       "      <th>bulk_12_time</th>\n",
       "      <th>bulk_13_time</th>\n",
       "      <th>bulk_14_time</th>\n",
       "      <th>bulk_15_time</th>\n",
       "      <th>max_time_bulk</th>\n",
       "      <th>min_time_bulk</th>\n",
       "      <th>time_dif_sec_bulk</th>\n",
       "    </tr>\n",
       "    <tr>\n",
       "      <th>key</th>\n",
       "      <th></th>\n",
       "      <th></th>\n",
       "      <th></th>\n",
       "      <th></th>\n",
       "      <th></th>\n",
       "      <th></th>\n",
       "      <th></th>\n",
       "      <th></th>\n",
       "      <th></th>\n",
       "      <th></th>\n",
       "      <th></th>\n",
       "      <th></th>\n",
       "      <th></th>\n",
       "      <th></th>\n",
       "      <th></th>\n",
       "      <th></th>\n",
       "      <th></th>\n",
       "      <th></th>\n",
       "    </tr>\n",
       "  </thead>\n",
       "  <tbody>\n",
       "    <tr>\n",
       "      <th>1735</th>\n",
       "      <td>00:00:00</td>\n",
       "      <td>00:00:00</td>\n",
       "      <td>00:00:00</td>\n",
       "      <td>00:02:16</td>\n",
       "      <td>00:00:00</td>\n",
       "      <td>00:00:00</td>\n",
       "      <td>00:00:00</td>\n",
       "      <td>00:00:00</td>\n",
       "      <td>00:00:00</td>\n",
       "      <td>00:00:00</td>\n",
       "      <td>00:00:00</td>\n",
       "      <td>23:58:54</td>\n",
       "      <td>00:00:00</td>\n",
       "      <td>23:58:54</td>\n",
       "      <td>23:58:54</td>\n",
       "      <td>1900-01-01 23:58:54</td>\n",
       "      <td>1900-01-01 00:02:16</td>\n",
       "      <td>86198</td>\n",
       "    </tr>\n",
       "  </tbody>\n",
       "</table>\n",
       "</div>"
      ],
      "text/plain": [
       "     bulk_1_time bulk_2_time bulk_3_time bulk_4_time bulk_5_time bulk_6_time  \\\n",
       "key                                                                            \n",
       "1735    00:00:00    00:00:00    00:00:00    00:02:16    00:00:00    00:00:00   \n",
       "\n",
       "     bulk_7_time bulk_8_time bulk_9_time bulk_10_time bulk_11_time  \\\n",
       "key                                                                  \n",
       "1735    00:00:00    00:00:00    00:00:00     00:00:00     00:00:00   \n",
       "\n",
       "     bulk_12_time bulk_13_time bulk_14_time bulk_15_time       max_time_bulk  \\\n",
       "key                                                                            \n",
       "1735     23:58:54     00:00:00     23:58:54     23:58:54 1900-01-01 23:58:54   \n",
       "\n",
       "           min_time_bulk  time_dif_sec_bulk  \n",
       "key                                          \n",
       "1735 1900-01-01 00:02:16              86198  "
      ]
     },
     "metadata": {},
     "output_type": "display_data"
    }
   ],
   "source": [
    "### проверка на адекватность\n",
    "plug = time()\n",
    "df_3 = df_3.fillna(plug)\n",
    "### создание столбца с максимальным значением в строке\n",
    "df_3['max_time_bulk'] = df_3[df_2_cols].max(axis=1)\n",
    "### создание столбца с минимальным значением не равным заглушке\n",
    "def second_min(x):\n",
    "    list_val = []\n",
    "    for i in range(1, 16):   \n",
    "        k = x[f'Bulk {i}']\n",
    "        if k != plug:\n",
    "            list_val.append(k)       \n",
    "    a = min(list_val)\n",
    "    return a\n",
    "df_3['min_time_bulk'] = df_3[df_2_cols].apply(second_min, axis=1)\n",
    "df_3['max_time_bulk'] = pd.to_datetime(df_3['max_time_bulk'].astype(str), format='%H:%M:%S')\n",
    "df_3['min_time_bulk'] = pd.to_datetime(df_3['min_time_bulk'].astype(str), format='%H:%M:%S')\n",
    "df_3['time_dif_sec_bulk'] = (df_3['max_time_bulk'] - df_3['min_time_bulk']).dt.seconds\n",
    "display(df_3.head(3))\n",
    "### скорректируем названия колонок, для корректного соединения таблиц в дальнейшем\n",
    "df_3.columns = ['key', 'bulk_1_time', 'bulk_2_time', 'bulk_3_time', 'bulk_4_time', 'bulk_5_time', 'bulk_6_time', \n",
    "                'bulk_7_time', 'bulk_8_time', 'bulk_9_time', 'bulk_10_time', 'bulk_11_time', 'bulk_12_time', 'bulk_13_time', \n",
    "                'bulk_14_time', 'bulk_15_time', 'max_time_bulk', 'min_time_bulk', 'time_dif_sec_bulk']\n",
    "df_3 = df_3.set_index('key')\n",
    "### выведем строку с максимальным значением для проверки адекватности\n",
    "max_val_time_dif = df_3['time_dif_sec_bulk'].max()\n",
    "display(df_3.loc[(df_3['time_dif_sec_bulk'] == max_val_time_dif)])"
   ]
  },
  {
   "cell_type": "markdown",
   "metadata": {},
   "source": [
    "#### Вывод"
   ]
  },
  {
   "cell_type": "markdown",
   "metadata": {},
   "source": [
    "- В данных очень много пропусков, но они идентичны таблице `steel.data_bulk`.\n",
    "- Добавка под номером 8, добавлялась лишь в одной партии, аналогично с предыдущей таблицей.\n",
    "- Пропуски заполнены заглушкой `00:00:00`.\n",
    "- Данные проверены на адекватность, наибольшее значение разницы не превышает суток.\n",
    "- Полученное максимальное значение показало 23 часа между сыпучими материалами, но это из-за формата времени без конкретной даты, поэтому все адекватно."
   ]
  },
  {
   "cell_type": "markdown",
   "metadata": {},
   "source": [
    "### Таблица steel.data_gas"
   ]
  },
  {
   "cell_type": "code",
   "execution_count": 20,
   "metadata": {},
   "outputs": [
    {
     "data": {
      "text/plain": [
       "'steel.data_gas'"
      ]
     },
     "metadata": {},
     "output_type": "display_data"
    },
    {
     "data": {
      "text/html": [
       "<div>\n",
       "<style scoped>\n",
       "    .dataframe tbody tr th:only-of-type {\n",
       "        vertical-align: middle;\n",
       "    }\n",
       "\n",
       "    .dataframe tbody tr th {\n",
       "        vertical-align: top;\n",
       "    }\n",
       "\n",
       "    .dataframe thead th {\n",
       "        text-align: right;\n",
       "    }\n",
       "</style>\n",
       "<table border=\"1\" class=\"dataframe\">\n",
       "  <thead>\n",
       "    <tr style=\"text-align: right;\">\n",
       "      <th></th>\n",
       "      <th>key</th>\n",
       "      <th>gas</th>\n",
       "    </tr>\n",
       "  </thead>\n",
       "  <tbody>\n",
       "    <tr>\n",
       "      <th>0</th>\n",
       "      <td>1</td>\n",
       "      <td>29.749986</td>\n",
       "    </tr>\n",
       "    <tr>\n",
       "      <th>1</th>\n",
       "      <td>2</td>\n",
       "      <td>12.555561</td>\n",
       "    </tr>\n",
       "    <tr>\n",
       "      <th>2</th>\n",
       "      <td>3</td>\n",
       "      <td>28.554793</td>\n",
       "    </tr>\n",
       "  </tbody>\n",
       "</table>\n",
       "</div>"
      ],
      "text/plain": [
       "   key        gas\n",
       "0    1  29.749986\n",
       "1    2  12.555561\n",
       "2    3  28.554793"
      ]
     },
     "metadata": {},
     "output_type": "display_data"
    },
    {
     "name": "stdout",
     "output_type": "stream",
     "text": [
      "<class 'pandas.core.frame.DataFrame'>\n",
      "RangeIndex: 3239 entries, 0 to 3238\n",
      "Data columns (total 2 columns):\n",
      " #   Column  Non-Null Count  Dtype  \n",
      "---  ------  --------------  -----  \n",
      " 0   key     3239 non-null   int64  \n",
      " 1   gas     3239 non-null   float64\n",
      "dtypes: float64(1), int64(1)\n",
      "memory usage: 50.7 KB\n"
     ]
    },
    {
     "data": {
      "text/plain": [
       "'_ _ _ _ _ _ _ _ _ _ _ _ _ _ _ _ _ _ _ _ _'"
      ]
     },
     "metadata": {},
     "output_type": "display_data"
    }
   ],
   "source": [
    "### срез для таблицы steel.data_gas\n",
    "query_4 = '''\n",
    "SELECT *\n",
    "FROM steel.data_gas;\n",
    "'''\n",
    "### преобразование в табличную форму библиотеки пандас\n",
    "df_4 = pd.read_sql_query(query_4, con=engine) \n",
    "df_info('steel.data_gas', df_4)"
   ]
  },
  {
   "cell_type": "code",
   "execution_count": 21,
   "metadata": {},
   "outputs": [
    {
     "data": {
      "text/html": [
       "<div>\n",
       "<style scoped>\n",
       "    .dataframe tbody tr th:only-of-type {\n",
       "        vertical-align: middle;\n",
       "    }\n",
       "\n",
       "    .dataframe tbody tr th {\n",
       "        vertical-align: top;\n",
       "    }\n",
       "\n",
       "    .dataframe thead th {\n",
       "        text-align: right;\n",
       "    }\n",
       "</style>\n",
       "<table border=\"1\" class=\"dataframe\">\n",
       "  <thead>\n",
       "    <tr style=\"text-align: right;\">\n",
       "      <th></th>\n",
       "      <th>gas</th>\n",
       "    </tr>\n",
       "  </thead>\n",
       "  <tbody>\n",
       "    <tr>\n",
       "      <th>count</th>\n",
       "      <td>3239.000000</td>\n",
       "    </tr>\n",
       "    <tr>\n",
       "      <th>mean</th>\n",
       "      <td>11.002062</td>\n",
       "    </tr>\n",
       "    <tr>\n",
       "      <th>std</th>\n",
       "      <td>6.220327</td>\n",
       "    </tr>\n",
       "    <tr>\n",
       "      <th>min</th>\n",
       "      <td>0.008399</td>\n",
       "    </tr>\n",
       "    <tr>\n",
       "      <th>25%</th>\n",
       "      <td>7.043089</td>\n",
       "    </tr>\n",
       "    <tr>\n",
       "      <th>50%</th>\n",
       "      <td>9.836267</td>\n",
       "    </tr>\n",
       "    <tr>\n",
       "      <th>75%</th>\n",
       "      <td>13.769915</td>\n",
       "    </tr>\n",
       "    <tr>\n",
       "      <th>max</th>\n",
       "      <td>77.995040</td>\n",
       "    </tr>\n",
       "  </tbody>\n",
       "</table>\n",
       "</div>"
      ],
      "text/plain": [
       "               gas\n",
       "count  3239.000000\n",
       "mean     11.002062\n",
       "std       6.220327\n",
       "min       0.008399\n",
       "25%       7.043089\n",
       "50%       9.836267\n",
       "75%      13.769915\n",
       "max      77.995040"
      ]
     },
     "metadata": {},
     "output_type": "display_data"
    }
   ],
   "source": [
    "### просмотр общих данных таблицы\n",
    "df_4 = df_4.set_index('key')\n",
    "display(df_4.describe())"
   ]
  },
  {
   "cell_type": "code",
   "execution_count": 22,
   "metadata": {
    "scrolled": false
   },
   "outputs": [
    {
     "data": {
      "image/png": "[encoded data removed]",
      "text/plain": [
       "<Figure size 1080x432 with 1 Axes>"
      ]
     },
     "metadata": {
      "needs_background": "light"
     },
     "output_type": "display_data"
    }
   ],
   "source": [
    "### посмотрим график распределения по количеству газа в партии\n",
    "plt.figure(figsize=(15,6))\n",
    "ax_4 = sns.histplot(data=df_4[['gas']], binwidth=0.5)\n",
    "ax_4.set_xlabel('Количество газа в партии')\n",
    "ax_4.set_ylabel('Количество')\n",
    "plt.title('График распределения по количеству газа в партии')\n",
    "plt.grid()\n",
    "plt.show()"
   ]
  },
  {
   "cell_type": "markdown",
   "metadata": {},
   "source": [
    "#### Вывод"
   ]
  },
  {
   "cell_type": "markdown",
   "metadata": {},
   "source": [
    "- Количество газа указано суммарное, для каждой партии, т.е. количество продувок нам неизвестно.\n",
    "- Пропусков в данных нет.\n",
    "- Аномалии не обнаружены.\n",
    "- Самый частый объем газа для продувки - около 6-8 условных единиц."
   ]
  },
  {
   "cell_type": "markdown",
   "metadata": {},
   "source": [
    "### Таблица steel.data_temp"
   ]
  },
  {
   "cell_type": "code",
   "execution_count": 23,
   "metadata": {},
   "outputs": [
    {
     "data": {
      "text/plain": [
       "'steel.data_temp'"
      ]
     },
     "metadata": {},
     "output_type": "display_data"
    },
    {
     "data": {
      "text/html": [
       "<div>\n",
       "<style scoped>\n",
       "    .dataframe tbody tr th:only-of-type {\n",
       "        vertical-align: middle;\n",
       "    }\n",
       "\n",
       "    .dataframe tbody tr th {\n",
       "        vertical-align: top;\n",
       "    }\n",
       "\n",
       "    .dataframe thead th {\n",
       "        text-align: right;\n",
       "    }\n",
       "</style>\n",
       "<table border=\"1\" class=\"dataframe\">\n",
       "  <thead>\n",
       "    <tr style=\"text-align: right;\">\n",
       "      <th></th>\n",
       "      <th>key</th>\n",
       "      <th>MesaureTime</th>\n",
       "      <th>Temperature</th>\n",
       "    </tr>\n",
       "  </thead>\n",
       "  <tbody>\n",
       "    <tr>\n",
       "      <th>0</th>\n",
       "      <td>1</td>\n",
       "      <td>11:16:18</td>\n",
       "      <td>1571.0</td>\n",
       "    </tr>\n",
       "    <tr>\n",
       "      <th>1</th>\n",
       "      <td>1</td>\n",
       "      <td>11:25:53</td>\n",
       "      <td>1604.0</td>\n",
       "    </tr>\n",
       "    <tr>\n",
       "      <th>2</th>\n",
       "      <td>1</td>\n",
       "      <td>11:29:11</td>\n",
       "      <td>1618.0</td>\n",
       "    </tr>\n",
       "  </tbody>\n",
       "</table>\n",
       "</div>"
      ],
      "text/plain": [
       "   key MesaureTime  Temperature\n",
       "0    1    11:16:18       1571.0\n",
       "1    1    11:25:53       1604.0\n",
       "2    1    11:29:11       1618.0"
      ]
     },
     "metadata": {},
     "output_type": "display_data"
    },
    {
     "name": "stdout",
     "output_type": "stream",
     "text": [
      "<class 'pandas.core.frame.DataFrame'>\n",
      "RangeIndex: 15907 entries, 0 to 15906\n",
      "Data columns (total 3 columns):\n",
      " #   Column       Non-Null Count  Dtype  \n",
      "---  ------       --------------  -----  \n",
      " 0   key          15907 non-null  int64  \n",
      " 1   MesaureTime  15907 non-null  object \n",
      " 2   Temperature  13006 non-null  float64\n",
      "dtypes: float64(1), int64(1), object(1)\n",
      "memory usage: 372.9+ KB\n"
     ]
    },
    {
     "data": {
      "text/plain": [
       "'_ _ _ _ _ _ _ _ _ _ _ _ _ _ _ _ _ _ _ _ _'"
      ]
     },
     "metadata": {},
     "output_type": "display_data"
    }
   ],
   "source": [
    "### срез для таблицы steel.data_temp\n",
    "query_5 = '''\n",
    "SELECT *\n",
    "FROM steel.data_temp AS sdt;\n",
    "'''\n",
    "### преобразование в табличную форму библиотеки пандас\n",
    "df_5 = pd.read_sql_query(query_5, con=engine) \n",
    "df_info('steel.data_temp', df_5)"
   ]
  },
  {
   "cell_type": "code",
   "execution_count": 24,
   "metadata": {},
   "outputs": [
    {
     "data": {
      "text/html": [
       "<div>\n",
       "<style scoped>\n",
       "    .dataframe tbody tr th:only-of-type {\n",
       "        vertical-align: middle;\n",
       "    }\n",
       "\n",
       "    .dataframe tbody tr th {\n",
       "        vertical-align: top;\n",
       "    }\n",
       "\n",
       "    .dataframe thead th {\n",
       "        text-align: right;\n",
       "    }\n",
       "</style>\n",
       "<table border=\"1\" class=\"dataframe\">\n",
       "  <thead>\n",
       "    <tr style=\"text-align: right;\">\n",
       "      <th></th>\n",
       "      <th>key</th>\n",
       "      <th>Temperature</th>\n",
       "    </tr>\n",
       "  </thead>\n",
       "  <tbody>\n",
       "    <tr>\n",
       "      <th>count</th>\n",
       "      <td>15907.000000</td>\n",
       "      <td>13006.000000</td>\n",
       "    </tr>\n",
       "    <tr>\n",
       "      <th>mean</th>\n",
       "      <td>1607.880870</td>\n",
       "      <td>1591.840920</td>\n",
       "    </tr>\n",
       "    <tr>\n",
       "      <th>std</th>\n",
       "      <td>942.212073</td>\n",
       "      <td>21.375851</td>\n",
       "    </tr>\n",
       "    <tr>\n",
       "      <th>min</th>\n",
       "      <td>1.000000</td>\n",
       "      <td>1191.000000</td>\n",
       "    </tr>\n",
       "    <tr>\n",
       "      <th>25%</th>\n",
       "      <td>790.000000</td>\n",
       "      <td>1581.000000</td>\n",
       "    </tr>\n",
       "    <tr>\n",
       "      <th>50%</th>\n",
       "      <td>1618.000000</td>\n",
       "      <td>1591.000000</td>\n",
       "    </tr>\n",
       "    <tr>\n",
       "      <th>75%</th>\n",
       "      <td>2427.000000</td>\n",
       "      <td>1601.000000</td>\n",
       "    </tr>\n",
       "    <tr>\n",
       "      <th>max</th>\n",
       "      <td>3241.000000</td>\n",
       "      <td>1705.000000</td>\n",
       "    </tr>\n",
       "  </tbody>\n",
       "</table>\n",
       "</div>"
      ],
      "text/plain": [
       "                key   Temperature\n",
       "count  15907.000000  13006.000000\n",
       "mean    1607.880870   1591.840920\n",
       "std      942.212073     21.375851\n",
       "min        1.000000   1191.000000\n",
       "25%      790.000000   1581.000000\n",
       "50%     1618.000000   1591.000000\n",
       "75%     2427.000000   1601.000000\n",
       "max     3241.000000   1705.000000"
      ]
     },
     "metadata": {},
     "output_type": "display_data"
    }
   ],
   "source": [
    "### просмотр общих данных таблицы\n",
    "display(df_5.describe())"
   ]
  },
  {
   "cell_type": "code",
   "execution_count": 25,
   "metadata": {},
   "outputs": [
    {
     "data": {
      "image/png": "[encoded data removed]",
      "text/plain": [
       "<Figure size 1080x432 with 1 Axes>"
      ]
     },
     "metadata": {
      "needs_background": "light"
     },
     "output_type": "display_data"
    }
   ],
   "source": [
    "### посмотрим график распределения по количеству газа в партии\n",
    "plt.figure(figsize=(15,6))\n",
    "ax_5 = sns.histplot(data=df_5[['Temperature']], binwidth=0.5)\n",
    "ax_5.set_xlabel('Температура в партии')\n",
    "ax_5.set_ylabel('Количество значений')\n",
    "plt.title('График распределения температуры')\n",
    "plt.grid()\n",
    "plt.show()"
   ]
  },
  {
   "cell_type": "code",
   "execution_count": 26,
   "metadata": {},
   "outputs": [
    {
     "data": {
      "text/plain": [
       "'Количество партий без значений температуры: 739, или 22.8%'"
      ]
     },
     "metadata": {},
     "output_type": "display_data"
    }
   ],
   "source": [
    "### определим партии без температуры\n",
    "df_5_query = df_5[df_5.isnull().any(1)]\n",
    "bad_parties = list(df_5_query['key'].unique())\n",
    "cnt_bad_parties = len(df_5_query['key'].unique())\n",
    "cnt_parties = df_5['key'].max()\n",
    "display(f'Количество партий без значений температуры: {cnt_bad_parties}, или {round((cnt_bad_parties/cnt_parties)*100,2)}%')"
   ]
  },
  {
   "cell_type": "code",
   "execution_count": 27,
   "metadata": {},
   "outputs": [
    {
     "data": {
      "text/html": [
       "<div>\n",
       "<style scoped>\n",
       "    .dataframe tbody tr th:only-of-type {\n",
       "        vertical-align: middle;\n",
       "    }\n",
       "\n",
       "    .dataframe tbody tr th {\n",
       "        vertical-align: top;\n",
       "    }\n",
       "\n",
       "    .dataframe thead th {\n",
       "        text-align: right;\n",
       "    }\n",
       "</style>\n",
       "<table border=\"1\" class=\"dataframe\">\n",
       "  <thead>\n",
       "    <tr style=\"text-align: right;\">\n",
       "      <th></th>\n",
       "      <th>key</th>\n",
       "      <th>MesaureTime</th>\n",
       "      <th>Temperature</th>\n",
       "      <th>str_rank</th>\n",
       "    </tr>\n",
       "  </thead>\n",
       "  <tbody>\n",
       "    <tr>\n",
       "      <th>0</th>\n",
       "      <td>1</td>\n",
       "      <td>11:16:18</td>\n",
       "      <td>1571.0</td>\n",
       "      <td>first</td>\n",
       "    </tr>\n",
       "    <tr>\n",
       "      <th>1</th>\n",
       "      <td>1</td>\n",
       "      <td>11:25:53</td>\n",
       "      <td>1604.0</td>\n",
       "      <td>None</td>\n",
       "    </tr>\n",
       "    <tr>\n",
       "      <th>2</th>\n",
       "      <td>1</td>\n",
       "      <td>11:29:11</td>\n",
       "      <td>1618.0</td>\n",
       "      <td>None</td>\n",
       "    </tr>\n",
       "    <tr>\n",
       "      <th>3</th>\n",
       "      <td>1</td>\n",
       "      <td>11:30:01</td>\n",
       "      <td>1601.0</td>\n",
       "      <td>None</td>\n",
       "    </tr>\n",
       "    <tr>\n",
       "      <th>4</th>\n",
       "      <td>1</td>\n",
       "      <td>11:30:39</td>\n",
       "      <td>1613.0</td>\n",
       "      <td>last</td>\n",
       "    </tr>\n",
       "    <tr>\n",
       "      <th>5</th>\n",
       "      <td>2</td>\n",
       "      <td>11:37:27</td>\n",
       "      <td>1581.0</td>\n",
       "      <td>first</td>\n",
       "    </tr>\n",
       "    <tr>\n",
       "      <th>6</th>\n",
       "      <td>2</td>\n",
       "      <td>11:38:00</td>\n",
       "      <td>1577.0</td>\n",
       "      <td>None</td>\n",
       "    </tr>\n",
       "    <tr>\n",
       "      <th>7</th>\n",
       "      <td>2</td>\n",
       "      <td>11:49:38</td>\n",
       "      <td>1589.0</td>\n",
       "      <td>None</td>\n",
       "    </tr>\n",
       "    <tr>\n",
       "      <th>8</th>\n",
       "      <td>2</td>\n",
       "      <td>11:55:50</td>\n",
       "      <td>1604.0</td>\n",
       "      <td>None</td>\n",
       "    </tr>\n",
       "    <tr>\n",
       "      <th>9</th>\n",
       "      <td>2</td>\n",
       "      <td>11:58:24</td>\n",
       "      <td>1608.0</td>\n",
       "      <td>None</td>\n",
       "    </tr>\n",
       "    <tr>\n",
       "      <th>10</th>\n",
       "      <td>2</td>\n",
       "      <td>11:59:12</td>\n",
       "      <td>1602.0</td>\n",
       "      <td>last</td>\n",
       "    </tr>\n",
       "  </tbody>\n",
       "</table>\n",
       "</div>"
      ],
      "text/plain": [
       "    key MesaureTime  Temperature str_rank\n",
       "0     1    11:16:18       1571.0    first\n",
       "1     1    11:25:53       1604.0     None\n",
       "2     1    11:29:11       1618.0     None\n",
       "3     1    11:30:01       1601.0     None\n",
       "4     1    11:30:39       1613.0     last\n",
       "5     2    11:37:27       1581.0    first\n",
       "6     2    11:38:00       1577.0     None\n",
       "7     2    11:49:38       1589.0     None\n",
       "8     2    11:55:50       1604.0     None\n",
       "9     2    11:58:24       1608.0     None\n",
       "10    2    11:59:12       1602.0     last"
      ]
     },
     "execution_count": 27,
     "metadata": {},
     "output_type": "execute_result"
    }
   ],
   "source": [
    "### ранжируем значения для последующей обработки\n",
    "df_5['index_int'] = df_5.index\n",
    "df_5['temp_rank'] = df_5.groupby(['key'])['index_int'].rank()\n",
    "### создадим словарь значений\n",
    "dict_cnt_keys_5 = df_5['key'].value_counts().sort_index().to_dict()\n",
    "### подготовим функцию\n",
    "def cnt_observation_2(row):\n",
    "    x = row['key']\n",
    "    y = dict_cnt_keys_5.get(x)\n",
    "    return y\n",
    "### применим функцию\n",
    "df_5['cnt_observations'] = df_5.apply(cnt_observation_2, axis=1)\n",
    "### присвоим названия первым и последним партиям\n",
    "def str_rank(row):\n",
    "    a = row['temp_rank']\n",
    "    b = row['cnt_observations']\n",
    "    c = None\n",
    "    if a == 1:\n",
    "        c = 'first'\n",
    "    if a == b:\n",
    "        c = 'last'\n",
    "    return c\n",
    "### применим функцию и уберем лишние столбцы    \n",
    "df_5['str_rank'] = df_5.apply(str_rank, axis=1)\n",
    "df_5 = df_5.drop(['index_int', 'temp_rank', 'cnt_observations'], axis=1)\n",
    "df_5.head(11)"
   ]
  },
  {
   "cell_type": "code",
   "execution_count": 28,
   "metadata": {},
   "outputs": [
    {
     "data": {
      "text/html": [
       "<div>\n",
       "<style scoped>\n",
       "    .dataframe tbody tr th:only-of-type {\n",
       "        vertical-align: middle;\n",
       "    }\n",
       "\n",
       "    .dataframe tbody tr th {\n",
       "        vertical-align: top;\n",
       "    }\n",
       "\n",
       "    .dataframe thead th {\n",
       "        text-align: right;\n",
       "    }\n",
       "</style>\n",
       "<table border=\"1\" class=\"dataframe\">\n",
       "  <thead>\n",
       "    <tr style=\"text-align: right;\">\n",
       "      <th></th>\n",
       "      <th>key</th>\n",
       "      <th>MesaureTime</th>\n",
       "      <th>Temperature</th>\n",
       "      <th>str_rank</th>\n",
       "    </tr>\n",
       "  </thead>\n",
       "  <tbody>\n",
       "    <tr>\n",
       "      <th>12259</th>\n",
       "      <td>2498</td>\n",
       "      <td>02:03:49</td>\n",
       "      <td>1591.0</td>\n",
       "      <td>first</td>\n",
       "    </tr>\n",
       "    <tr>\n",
       "      <th>12263</th>\n",
       "      <td>2498</td>\n",
       "      <td>02:25:31</td>\n",
       "      <td>1594.0</td>\n",
       "      <td>last</td>\n",
       "    </tr>\n",
       "    <tr>\n",
       "      <th>12264</th>\n",
       "      <td>2499</td>\n",
       "      <td>02:40:25</td>\n",
       "      <td>1569.0</td>\n",
       "      <td>first</td>\n",
       "    </tr>\n",
       "    <tr>\n",
       "      <th>12266</th>\n",
       "      <td>2499</td>\n",
       "      <td>03:00:28</td>\n",
       "      <td>1603.0</td>\n",
       "      <td>last</td>\n",
       "    </tr>\n",
       "  </tbody>\n",
       "</table>\n",
       "</div>"
      ],
      "text/plain": [
       "        key MesaureTime  Temperature str_rank\n",
       "12259  2498    02:03:49       1591.0    first\n",
       "12263  2498    02:25:31       1594.0     last\n",
       "12264  2499    02:40:25       1569.0    first\n",
       "12266  2499    03:00:28       1603.0     last"
      ]
     },
     "metadata": {},
     "output_type": "display_data"
    },
    {
     "name": "stdout",
     "output_type": "stream",
     "text": [
      "<class 'pandas.core.frame.DataFrame'>\n",
      "Int64Index: 4948 entries, 0 to 12266\n",
      "Data columns (total 4 columns):\n",
      " #   Column       Non-Null Count  Dtype  \n",
      "---  ------       --------------  -----  \n",
      " 0   key          4948 non-null   int64  \n",
      " 1   MesaureTime  4948 non-null   object \n",
      " 2   Temperature  4948 non-null   float64\n",
      " 3   str_rank     4948 non-null   object \n",
      "dtypes: float64(1), int64(1), object(2)\n",
      "memory usage: 193.3+ KB\n"
     ]
    },
    {
     "data": {
      "text/plain": [
       "None"
      ]
     },
     "metadata": {},
     "output_type": "display_data"
    }
   ],
   "source": [
    "### в соотвествии с условием заказчика уберем аномальные значени и плохие партии\n",
    "df_5_query_2 = df_5.query(\"Temperature > 1500 and key not in @bad_parties\").dropna()\n",
    "display(df_5_query_2.tail(4))\n",
    "display(df_5_query_2.info())"
   ]
  },
  {
   "cell_type": "code",
   "execution_count": 29,
   "metadata": {},
   "outputs": [
    {
     "data": {
      "text/html": [
       "<div>\n",
       "<style scoped>\n",
       "    .dataframe tbody tr th:only-of-type {\n",
       "        vertical-align: middle;\n",
       "    }\n",
       "\n",
       "    .dataframe tbody tr th {\n",
       "        vertical-align: top;\n",
       "    }\n",
       "\n",
       "    .dataframe thead th {\n",
       "        text-align: right;\n",
       "    }\n",
       "</style>\n",
       "<table border=\"1\" class=\"dataframe\">\n",
       "  <thead>\n",
       "    <tr style=\"text-align: right;\">\n",
       "      <th></th>\n",
       "      <th>key</th>\n",
       "      <th>mesaure_time</th>\n",
       "      <th>temperature</th>\n",
       "      <th>str_rank</th>\n",
       "    </tr>\n",
       "  </thead>\n",
       "  <tbody>\n",
       "    <tr>\n",
       "      <th>0</th>\n",
       "      <td>1</td>\n",
       "      <td>11:16:18</td>\n",
       "      <td>1571.0</td>\n",
       "      <td>first</td>\n",
       "    </tr>\n",
       "  </tbody>\n",
       "</table>\n",
       "</div>"
      ],
      "text/plain": [
       "   key mesaure_time  temperature str_rank\n",
       "0    1     11:16:18       1571.0    first"
      ]
     },
     "execution_count": 29,
     "metadata": {},
     "output_type": "execute_result"
    }
   ],
   "source": [
    "### скорректируем названия колонок, для корректного соединения таблиц в дальнейшем\n",
    "df_5_query_2.columns = ['key', 'mesaure_time', 'temperature', 'str_rank']\n",
    "df_5_query_2.head(1)"
   ]
  },
  {
   "cell_type": "markdown",
   "metadata": {},
   "source": [
    "#### Вывод"
   ]
  },
  {
   "cell_type": "markdown",
   "metadata": {},
   "source": [
    "- По условию заказчика аномальные партии с температурой ниже 1500 градусов - удалены.\n",
    "- Всего плохих партий - 739 шт, или приблизительно 23%.\n",
    "- Промежуточные строки с значениями температуры удалены, так как для использования в дальнейшем потребуются только начальные и конечные значения. \n",
    "- Наиболее частое значение температуры находится в пределах от 1580 до 1590 градусов."
   ]
  },
  {
   "cell_type": "markdown",
   "metadata": {},
   "source": [
    "### Таблица steel.data_wire"
   ]
  },
  {
   "cell_type": "code",
   "execution_count": 30,
   "metadata": {},
   "outputs": [
    {
     "data": {
      "text/plain": [
       "'steel.data_wire'"
      ]
     },
     "metadata": {},
     "output_type": "display_data"
    },
    {
     "data": {
      "text/html": [
       "<div>\n",
       "<style scoped>\n",
       "    .dataframe tbody tr th:only-of-type {\n",
       "        vertical-align: middle;\n",
       "    }\n",
       "\n",
       "    .dataframe tbody tr th {\n",
       "        vertical-align: top;\n",
       "    }\n",
       "\n",
       "    .dataframe thead th {\n",
       "        text-align: right;\n",
       "    }\n",
       "</style>\n",
       "<table border=\"1\" class=\"dataframe\">\n",
       "  <thead>\n",
       "    <tr style=\"text-align: right;\">\n",
       "      <th></th>\n",
       "      <th>key</th>\n",
       "      <th>Wire 1</th>\n",
       "      <th>Wire 2</th>\n",
       "      <th>Wire 3</th>\n",
       "      <th>Wire 4</th>\n",
       "      <th>Wire 5</th>\n",
       "      <th>Wire 6</th>\n",
       "      <th>Wire 7</th>\n",
       "      <th>Wire 8</th>\n",
       "      <th>Wire 9</th>\n",
       "    </tr>\n",
       "  </thead>\n",
       "  <tbody>\n",
       "    <tr>\n",
       "      <th>0</th>\n",
       "      <td>1</td>\n",
       "      <td>60.059998</td>\n",
       "      <td>NaN</td>\n",
       "      <td>NaN</td>\n",
       "      <td>NaN</td>\n",
       "      <td>NaN</td>\n",
       "      <td>NaN</td>\n",
       "      <td>NaN</td>\n",
       "      <td>NaN</td>\n",
       "      <td>NaN</td>\n",
       "    </tr>\n",
       "    <tr>\n",
       "      <th>1</th>\n",
       "      <td>2</td>\n",
       "      <td>96.052315</td>\n",
       "      <td>NaN</td>\n",
       "      <td>NaN</td>\n",
       "      <td>NaN</td>\n",
       "      <td>NaN</td>\n",
       "      <td>NaN</td>\n",
       "      <td>NaN</td>\n",
       "      <td>NaN</td>\n",
       "      <td>NaN</td>\n",
       "    </tr>\n",
       "    <tr>\n",
       "      <th>2</th>\n",
       "      <td>3</td>\n",
       "      <td>91.160157</td>\n",
       "      <td>NaN</td>\n",
       "      <td>NaN</td>\n",
       "      <td>NaN</td>\n",
       "      <td>NaN</td>\n",
       "      <td>NaN</td>\n",
       "      <td>NaN</td>\n",
       "      <td>NaN</td>\n",
       "      <td>NaN</td>\n",
       "    </tr>\n",
       "  </tbody>\n",
       "</table>\n",
       "</div>"
      ],
      "text/plain": [
       "   key     Wire 1  Wire 2  Wire 3  Wire 4  Wire 5  Wire 6  Wire 7  Wire 8  \\\n",
       "0    1  60.059998     NaN     NaN     NaN     NaN     NaN     NaN     NaN   \n",
       "1    2  96.052315     NaN     NaN     NaN     NaN     NaN     NaN     NaN   \n",
       "2    3  91.160157     NaN     NaN     NaN     NaN     NaN     NaN     NaN   \n",
       "\n",
       "   Wire 9  \n",
       "0     NaN  \n",
       "1     NaN  \n",
       "2     NaN  "
      ]
     },
     "metadata": {},
     "output_type": "display_data"
    },
    {
     "name": "stdout",
     "output_type": "stream",
     "text": [
      "<class 'pandas.core.frame.DataFrame'>\n",
      "RangeIndex: 3081 entries, 0 to 3080\n",
      "Data columns (total 10 columns):\n",
      " #   Column  Non-Null Count  Dtype  \n",
      "---  ------  --------------  -----  \n",
      " 0   key     3081 non-null   int64  \n",
      " 1   Wire 1  3055 non-null   float64\n",
      " 2   Wire 2  1079 non-null   float64\n",
      " 3   Wire 3  63 non-null     float64\n",
      " 4   Wire 4  14 non-null     float64\n",
      " 5   Wire 5  1 non-null      float64\n",
      " 6   Wire 6  73 non-null     float64\n",
      " 7   Wire 7  11 non-null     float64\n",
      " 8   Wire 8  19 non-null     float64\n",
      " 9   Wire 9  29 non-null     float64\n",
      "dtypes: float64(9), int64(1)\n",
      "memory usage: 240.8 KB\n"
     ]
    },
    {
     "data": {
      "text/plain": [
       "'_ _ _ _ _ _ _ _ _ _ _ _ _ _ _ _ _ _ _ _ _'"
      ]
     },
     "metadata": {},
     "output_type": "display_data"
    }
   ],
   "source": [
    "### срез для таблицы steel.data_wire\n",
    "query_6 = '''\n",
    "SELECT *\n",
    "FROM steel.data_wire;\n",
    "'''\n",
    "### преобразование в табличную форму библиотеки пандас\n",
    "df_6 = pd.read_sql_query(query_6, con=engine) \n",
    "df_info('steel.data_wire', df_6)"
   ]
  },
  {
   "cell_type": "code",
   "execution_count": 31,
   "metadata": {
    "scrolled": false
   },
   "outputs": [
    {
     "data": {
      "text/html": [
       "<div>\n",
       "<style scoped>\n",
       "    .dataframe tbody tr th:only-of-type {\n",
       "        vertical-align: middle;\n",
       "    }\n",
       "\n",
       "    .dataframe tbody tr th {\n",
       "        vertical-align: top;\n",
       "    }\n",
       "\n",
       "    .dataframe thead th {\n",
       "        text-align: right;\n",
       "    }\n",
       "</style>\n",
       "<table border=\"1\" class=\"dataframe\">\n",
       "  <thead>\n",
       "    <tr style=\"text-align: right;\">\n",
       "      <th></th>\n",
       "      <th>key</th>\n",
       "      <th>Wire 1</th>\n",
       "      <th>Wire 2</th>\n",
       "      <th>Wire 3</th>\n",
       "      <th>Wire 4</th>\n",
       "      <th>Wire 5</th>\n",
       "      <th>Wire 6</th>\n",
       "      <th>Wire 7</th>\n",
       "      <th>Wire 8</th>\n",
       "      <th>Wire 9</th>\n",
       "      <th>wire_sum</th>\n",
       "    </tr>\n",
       "  </thead>\n",
       "  <tbody>\n",
       "    <tr>\n",
       "      <th>count</th>\n",
       "      <td>3081.000000</td>\n",
       "      <td>3081.000000</td>\n",
       "      <td>3081.000000</td>\n",
       "      <td>3081.000000</td>\n",
       "      <td>3081.000000</td>\n",
       "      <td>3081.000000</td>\n",
       "      <td>3081.000000</td>\n",
       "      <td>3081.000000</td>\n",
       "      <td>3081.000000</td>\n",
       "      <td>3081.000000</td>\n",
       "      <td>3081.000000</td>\n",
       "    </tr>\n",
       "    <tr>\n",
       "      <th>mean</th>\n",
       "      <td>1623.426485</td>\n",
       "      <td>100.044411</td>\n",
       "      <td>17.712733</td>\n",
       "      <td>3.874524</td>\n",
       "      <td>0.261019</td>\n",
       "      <td>0.004911</td>\n",
       "      <td>1.137695</td>\n",
       "      <td>0.035842</td>\n",
       "      <td>0.330697</td>\n",
       "      <td>0.321492</td>\n",
       "      <td>123.723326</td>\n",
       "    </tr>\n",
       "    <tr>\n",
       "      <th>std</th>\n",
       "      <td>932.996726</td>\n",
       "      <td>42.841120</td>\n",
       "      <td>33.517734</td>\n",
       "      <td>30.310417</td>\n",
       "      <td>4.293865</td>\n",
       "      <td>0.272615</td>\n",
       "      <td>8.958111</td>\n",
       "      <td>0.774190</td>\n",
       "      <td>4.392677</td>\n",
       "      <td>3.806904</td>\n",
       "      <td>66.082966</td>\n",
       "    </tr>\n",
       "    <tr>\n",
       "      <th>min</th>\n",
       "      <td>1.000000</td>\n",
       "      <td>0.000000</td>\n",
       "      <td>0.000000</td>\n",
       "      <td>0.000000</td>\n",
       "      <td>0.000000</td>\n",
       "      <td>0.000000</td>\n",
       "      <td>0.000000</td>\n",
       "      <td>0.000000</td>\n",
       "      <td>0.000000</td>\n",
       "      <td>0.000000</td>\n",
       "      <td>1.918800</td>\n",
       "    </tr>\n",
       "    <tr>\n",
       "      <th>25%</th>\n",
       "      <td>823.000000</td>\n",
       "      <td>70.281120</td>\n",
       "      <td>0.000000</td>\n",
       "      <td>0.000000</td>\n",
       "      <td>0.000000</td>\n",
       "      <td>0.000000</td>\n",
       "      <td>0.000000</td>\n",
       "      <td>0.000000</td>\n",
       "      <td>0.000000</td>\n",
       "      <td>0.000000</td>\n",
       "      <td>86.112000</td>\n",
       "    </tr>\n",
       "    <tr>\n",
       "      <th>50%</th>\n",
       "      <td>1619.000000</td>\n",
       "      <td>100.114563</td>\n",
       "      <td>0.000000</td>\n",
       "      <td>0.000000</td>\n",
       "      <td>0.000000</td>\n",
       "      <td>0.000000</td>\n",
       "      <td>0.000000</td>\n",
       "      <td>0.000000</td>\n",
       "      <td>0.000000</td>\n",
       "      <td>0.000000</td>\n",
       "      <td>114.179523</td>\n",
       "    </tr>\n",
       "    <tr>\n",
       "      <th>75%</th>\n",
       "      <td>2434.000000</td>\n",
       "      <td>125.798405</td>\n",
       "      <td>23.162880</td>\n",
       "      <td>0.000000</td>\n",
       "      <td>0.000000</td>\n",
       "      <td>0.000000</td>\n",
       "      <td>0.000000</td>\n",
       "      <td>0.000000</td>\n",
       "      <td>0.000000</td>\n",
       "      <td>0.000000</td>\n",
       "      <td>150.181198</td>\n",
       "    </tr>\n",
       "    <tr>\n",
       "      <th>max</th>\n",
       "      <td>3241.000000</td>\n",
       "      <td>330.314424</td>\n",
       "      <td>282.780152</td>\n",
       "      <td>385.008668</td>\n",
       "      <td>113.231044</td>\n",
       "      <td>15.132000</td>\n",
       "      <td>180.454575</td>\n",
       "      <td>32.847674</td>\n",
       "      <td>102.762401</td>\n",
       "      <td>90.053604</td>\n",
       "      <td>663.851766</td>\n",
       "    </tr>\n",
       "  </tbody>\n",
       "</table>\n",
       "</div>"
      ],
      "text/plain": [
       "               key       Wire 1       Wire 2       Wire 3       Wire 4  \\\n",
       "count  3081.000000  3081.000000  3081.000000  3081.000000  3081.000000   \n",
       "mean   1623.426485   100.044411    17.712733     3.874524     0.261019   \n",
       "std     932.996726    42.841120    33.517734    30.310417     4.293865   \n",
       "min       1.000000     0.000000     0.000000     0.000000     0.000000   \n",
       "25%     823.000000    70.281120     0.000000     0.000000     0.000000   \n",
       "50%    1619.000000   100.114563     0.000000     0.000000     0.000000   \n",
       "75%    2434.000000   125.798405    23.162880     0.000000     0.000000   \n",
       "max    3241.000000   330.314424   282.780152   385.008668   113.231044   \n",
       "\n",
       "            Wire 5       Wire 6       Wire 7       Wire 8       Wire 9  \\\n",
       "count  3081.000000  3081.000000  3081.000000  3081.000000  3081.000000   \n",
       "mean      0.004911     1.137695     0.035842     0.330697     0.321492   \n",
       "std       0.272615     8.958111     0.774190     4.392677     3.806904   \n",
       "min       0.000000     0.000000     0.000000     0.000000     0.000000   \n",
       "25%       0.000000     0.000000     0.000000     0.000000     0.000000   \n",
       "50%       0.000000     0.000000     0.000000     0.000000     0.000000   \n",
       "75%       0.000000     0.000000     0.000000     0.000000     0.000000   \n",
       "max      15.132000   180.454575    32.847674   102.762401    90.053604   \n",
       "\n",
       "          wire_sum  \n",
       "count  3081.000000  \n",
       "mean    123.723326  \n",
       "std      66.082966  \n",
       "min       1.918800  \n",
       "25%      86.112000  \n",
       "50%     114.179523  \n",
       "75%     150.181198  \n",
       "max     663.851766  "
      ]
     },
     "metadata": {},
     "output_type": "display_data"
    },
    {
     "name": "stdout",
     "output_type": "stream",
     "text": [
      "<class 'pandas.core.frame.DataFrame'>\n",
      "RangeIndex: 3081 entries, 0 to 3080\n",
      "Data columns (total 11 columns):\n",
      " #   Column    Non-Null Count  Dtype  \n",
      "---  ------    --------------  -----  \n",
      " 0   key       3081 non-null   int64  \n",
      " 1   Wire 1    3081 non-null   float64\n",
      " 2   Wire 2    3081 non-null   float64\n",
      " 3   Wire 3    3081 non-null   float64\n",
      " 4   Wire 4    3081 non-null   float64\n",
      " 5   Wire 5    3081 non-null   float64\n",
      " 6   Wire 6    3081 non-null   float64\n",
      " 7   Wire 7    3081 non-null   float64\n",
      " 8   Wire 8    3081 non-null   float64\n",
      " 9   Wire 9    3081 non-null   float64\n",
      " 10  wire_sum  3081 non-null   float64\n",
      "dtypes: float64(10), int64(1)\n",
      "memory usage: 264.9 KB\n"
     ]
    },
    {
     "data": {
      "text/plain": [
       "None"
      ]
     },
     "metadata": {},
     "output_type": "display_data"
    }
   ],
   "source": [
    "### заполнение пропусков нулем\n",
    "df_6 = df_6.fillna(0)\n",
    "### выведем колонки в отдельную переменную\n",
    "df_6_cols = ['Wire 1', 'Wire 2', 'Wire 3', 'Wire 4', 'Wire 5', 'Wire 6', 'Wire 7', 'Wire 8', 'Wire 9']\n",
    "df_6['wire_sum'] = df_6[df_6_cols].sum(axis=1)\n",
    "### просмотр общих данных таблицы\n",
    "display(df_6.describe())\n",
    "display(df_6.info())"
   ]
  },
  {
   "cell_type": "code",
   "execution_count": 32,
   "metadata": {},
   "outputs": [
    {
     "data": {
      "image/png": "[encoded data removed]",
      "text/plain": [
       "<Figure size 1080x432 with 1 Axes>"
      ]
     },
     "metadata": {
      "needs_background": "light"
     },
     "output_type": "display_data"
    }
   ],
   "source": [
    "### построим график распределения\n",
    "plt.figure(figsize=(15,6))\n",
    "ax_6 = sns.barplot(data=df_6.drop(['key', 'wire_sum'], axis=1), palette='bright')\n",
    "ax_6.set_xlabel('Тип проволочной добавки')\n",
    "ax_6.set_ylabel('Среднее количество добавки')\n",
    "plt.title('График распределения среднего количества проволочных добавок')\n",
    "plt.grid()\n",
    "plt.show()"
   ]
  },
  {
   "cell_type": "code",
   "execution_count": 33,
   "metadata": {},
   "outputs": [
    {
     "data": {
      "text/html": [
       "<div>\n",
       "<style scoped>\n",
       "    .dataframe tbody tr th:only-of-type {\n",
       "        vertical-align: middle;\n",
       "    }\n",
       "\n",
       "    .dataframe tbody tr th {\n",
       "        vertical-align: top;\n",
       "    }\n",
       "\n",
       "    .dataframe thead th {\n",
       "        text-align: right;\n",
       "    }\n",
       "</style>\n",
       "<table border=\"1\" class=\"dataframe\">\n",
       "  <thead>\n",
       "    <tr style=\"text-align: right;\">\n",
       "      <th></th>\n",
       "      <th>wire_1</th>\n",
       "      <th>wire_2</th>\n",
       "      <th>wire_3</th>\n",
       "      <th>wire_4</th>\n",
       "      <th>wire_5</th>\n",
       "      <th>wire_6</th>\n",
       "      <th>wire_7</th>\n",
       "      <th>wire_8</th>\n",
       "      <th>wire_9</th>\n",
       "      <th>wire_sum</th>\n",
       "    </tr>\n",
       "    <tr>\n",
       "      <th>key</th>\n",
       "      <th></th>\n",
       "      <th></th>\n",
       "      <th></th>\n",
       "      <th></th>\n",
       "      <th></th>\n",
       "      <th></th>\n",
       "      <th></th>\n",
       "      <th></th>\n",
       "      <th></th>\n",
       "      <th></th>\n",
       "    </tr>\n",
       "  </thead>\n",
       "  <tbody>\n",
       "    <tr>\n",
       "      <th>1</th>\n",
       "      <td>60.059998</td>\n",
       "      <td>0.0</td>\n",
       "      <td>0.0</td>\n",
       "      <td>0.0</td>\n",
       "      <td>0.0</td>\n",
       "      <td>0.0</td>\n",
       "      <td>0.0</td>\n",
       "      <td>0.0</td>\n",
       "      <td>0.0</td>\n",
       "      <td>60.059998</td>\n",
       "    </tr>\n",
       "  </tbody>\n",
       "</table>\n",
       "</div>"
      ],
      "text/plain": [
       "        wire_1  wire_2  wire_3  wire_4  wire_5  wire_6  wire_7  wire_8  \\\n",
       "key                                                                      \n",
       "1    60.059998     0.0     0.0     0.0     0.0     0.0     0.0     0.0   \n",
       "\n",
       "     wire_9   wire_sum  \n",
       "key                     \n",
       "1       0.0  60.059998  "
      ]
     },
     "execution_count": 33,
     "metadata": {},
     "output_type": "execute_result"
    }
   ],
   "source": [
    "### скорректируем названия колонок, для корректного соединения таблиц в дальнейшем\n",
    "df_6.columns = ['key', 'wire_1', 'wire_2', 'wire_3', 'wire_4', 'wire_5', 'wire_6',\n",
    "                'wire_7', 'wire_8', 'wire_9', 'wire_sum']\n",
    "df_6 = df_6.set_index('key')\n",
    "df_6.head(1)"
   ]
  },
  {
   "cell_type": "markdown",
   "metadata": {},
   "source": [
    "#### Вывод"
   ]
  },
  {
   "cell_type": "markdown",
   "metadata": {},
   "source": [
    "- В данных очень много пропусков. \n",
    "- Добавка из проволочных материалов под номером 5, например, добавлялась лишь в одной партии.\n",
    "- Пропуск в данных означает отсутсвие добавки.\n",
    "- Для упрощения расчетов, пропуски заполнены нулем.\n",
    "- Наибольшее количество проволочных материалов у добавки под номером 1."
   ]
  },
  {
   "cell_type": "markdown",
   "metadata": {},
   "source": [
    "### Таблица steel.data_wire_time"
   ]
  },
  {
   "cell_type": "code",
   "execution_count": 34,
   "metadata": {},
   "outputs": [
    {
     "data": {
      "text/plain": [
       "'steel.data_wire_time'"
      ]
     },
     "metadata": {},
     "output_type": "display_data"
    },
    {
     "data": {
      "text/html": [
       "<div>\n",
       "<style scoped>\n",
       "    .dataframe tbody tr th:only-of-type {\n",
       "        vertical-align: middle;\n",
       "    }\n",
       "\n",
       "    .dataframe tbody tr th {\n",
       "        vertical-align: top;\n",
       "    }\n",
       "\n",
       "    .dataframe thead th {\n",
       "        text-align: right;\n",
       "    }\n",
       "</style>\n",
       "<table border=\"1\" class=\"dataframe\">\n",
       "  <thead>\n",
       "    <tr style=\"text-align: right;\">\n",
       "      <th></th>\n",
       "      <th>key</th>\n",
       "      <th>Wire 1</th>\n",
       "      <th>Wire 2</th>\n",
       "      <th>Wire 3</th>\n",
       "      <th>Wire 4</th>\n",
       "      <th>Wire 5</th>\n",
       "      <th>Wire 6</th>\n",
       "      <th>Wire 7</th>\n",
       "      <th>Wire 8</th>\n",
       "      <th>Wire 9</th>\n",
       "    </tr>\n",
       "  </thead>\n",
       "  <tbody>\n",
       "    <tr>\n",
       "      <th>0</th>\n",
       "      <td>1</td>\n",
       "      <td>11:11:41</td>\n",
       "      <td>None</td>\n",
       "      <td>None</td>\n",
       "      <td>None</td>\n",
       "      <td>None</td>\n",
       "      <td>None</td>\n",
       "      <td>None</td>\n",
       "      <td>None</td>\n",
       "      <td>None</td>\n",
       "    </tr>\n",
       "    <tr>\n",
       "      <th>1</th>\n",
       "      <td>2</td>\n",
       "      <td>11:46:10</td>\n",
       "      <td>None</td>\n",
       "      <td>None</td>\n",
       "      <td>None</td>\n",
       "      <td>None</td>\n",
       "      <td>None</td>\n",
       "      <td>None</td>\n",
       "      <td>None</td>\n",
       "      <td>None</td>\n",
       "    </tr>\n",
       "    <tr>\n",
       "      <th>2</th>\n",
       "      <td>3</td>\n",
       "      <td>12:13:47</td>\n",
       "      <td>None</td>\n",
       "      <td>None</td>\n",
       "      <td>None</td>\n",
       "      <td>None</td>\n",
       "      <td>None</td>\n",
       "      <td>None</td>\n",
       "      <td>None</td>\n",
       "      <td>None</td>\n",
       "    </tr>\n",
       "  </tbody>\n",
       "</table>\n",
       "</div>"
      ],
      "text/plain": [
       "   key    Wire 1 Wire 2 Wire 3 Wire 4 Wire 5 Wire 6 Wire 7 Wire 8 Wire 9\n",
       "0    1  11:11:41   None   None   None   None   None   None   None   None\n",
       "1    2  11:46:10   None   None   None   None   None   None   None   None\n",
       "2    3  12:13:47   None   None   None   None   None   None   None   None"
      ]
     },
     "metadata": {},
     "output_type": "display_data"
    },
    {
     "name": "stdout",
     "output_type": "stream",
     "text": [
      "<class 'pandas.core.frame.DataFrame'>\n",
      "RangeIndex: 3081 entries, 0 to 3080\n",
      "Data columns (total 10 columns):\n",
      " #   Column  Non-Null Count  Dtype \n",
      "---  ------  --------------  ----- \n",
      " 0   key     3081 non-null   int64 \n",
      " 1   Wire 1  3055 non-null   object\n",
      " 2   Wire 2  1079 non-null   object\n",
      " 3   Wire 3  63 non-null     object\n",
      " 4   Wire 4  14 non-null     object\n",
      " 5   Wire 5  1 non-null      object\n",
      " 6   Wire 6  73 non-null     object\n",
      " 7   Wire 7  11 non-null     object\n",
      " 8   Wire 8  19 non-null     object\n",
      " 9   Wire 9  29 non-null     object\n",
      "dtypes: int64(1), object(9)\n",
      "memory usage: 240.8+ KB\n"
     ]
    },
    {
     "data": {
      "text/plain": [
       "'_ _ _ _ _ _ _ _ _ _ _ _ _ _ _ _ _ _ _ _ _'"
      ]
     },
     "metadata": {},
     "output_type": "display_data"
    }
   ],
   "source": [
    "### срез для таблицы steel.data_wire_time\n",
    "query_7 = '''\n",
    "SELECT *\n",
    "FROM steel.data_wire_time;\n",
    "'''\n",
    "### преобразование в табличную форму библиотеки пандас\n",
    "df_7 = pd.read_sql_query(query_7, con=engine) \n",
    "df_info('steel.data_wire_time', df_7)"
   ]
  },
  {
   "cell_type": "code",
   "execution_count": 35,
   "metadata": {},
   "outputs": [
    {
     "data": {
      "text/html": [
       "<div>\n",
       "<style scoped>\n",
       "    .dataframe tbody tr th:only-of-type {\n",
       "        vertical-align: middle;\n",
       "    }\n",
       "\n",
       "    .dataframe tbody tr th {\n",
       "        vertical-align: top;\n",
       "    }\n",
       "\n",
       "    .dataframe thead th {\n",
       "        text-align: right;\n",
       "    }\n",
       "</style>\n",
       "<table border=\"1\" class=\"dataframe\">\n",
       "  <thead>\n",
       "    <tr style=\"text-align: right;\">\n",
       "      <th></th>\n",
       "      <th>key</th>\n",
       "      <th>Wire 1</th>\n",
       "      <th>Wire 2</th>\n",
       "      <th>Wire 3</th>\n",
       "      <th>Wire 4</th>\n",
       "      <th>Wire 5</th>\n",
       "      <th>Wire 6</th>\n",
       "      <th>Wire 7</th>\n",
       "      <th>Wire 8</th>\n",
       "      <th>Wire 9</th>\n",
       "      <th>max_time_wire</th>\n",
       "      <th>min_time_wire</th>\n",
       "      <th>time_dif_sec_wire</th>\n",
       "    </tr>\n",
       "  </thead>\n",
       "  <tbody>\n",
       "    <tr>\n",
       "      <th>0</th>\n",
       "      <td>1</td>\n",
       "      <td>11:11:41</td>\n",
       "      <td>00:00:00</td>\n",
       "      <td>00:00:00</td>\n",
       "      <td>00:00:00</td>\n",
       "      <td>00:00:00</td>\n",
       "      <td>00:00:00</td>\n",
       "      <td>00:00:00</td>\n",
       "      <td>00:00:00</td>\n",
       "      <td>00:00:00</td>\n",
       "      <td>1900-01-01 11:11:41</td>\n",
       "      <td>1900-01-01 11:11:41</td>\n",
       "      <td>0</td>\n",
       "    </tr>\n",
       "    <tr>\n",
       "      <th>1</th>\n",
       "      <td>2</td>\n",
       "      <td>11:46:10</td>\n",
       "      <td>00:00:00</td>\n",
       "      <td>00:00:00</td>\n",
       "      <td>00:00:00</td>\n",
       "      <td>00:00:00</td>\n",
       "      <td>00:00:00</td>\n",
       "      <td>00:00:00</td>\n",
       "      <td>00:00:00</td>\n",
       "      <td>00:00:00</td>\n",
       "      <td>1900-01-01 11:46:10</td>\n",
       "      <td>1900-01-01 11:46:10</td>\n",
       "      <td>0</td>\n",
       "    </tr>\n",
       "    <tr>\n",
       "      <th>2</th>\n",
       "      <td>3</td>\n",
       "      <td>12:13:47</td>\n",
       "      <td>00:00:00</td>\n",
       "      <td>00:00:00</td>\n",
       "      <td>00:00:00</td>\n",
       "      <td>00:00:00</td>\n",
       "      <td>00:00:00</td>\n",
       "      <td>00:00:00</td>\n",
       "      <td>00:00:00</td>\n",
       "      <td>00:00:00</td>\n",
       "      <td>1900-01-01 12:13:47</td>\n",
       "      <td>1900-01-01 12:13:47</td>\n",
       "      <td>0</td>\n",
       "    </tr>\n",
       "  </tbody>\n",
       "</table>\n",
       "</div>"
      ],
      "text/plain": [
       "   key    Wire 1    Wire 2    Wire 3    Wire 4    Wire 5    Wire 6    Wire 7  \\\n",
       "0    1  11:11:41  00:00:00  00:00:00  00:00:00  00:00:00  00:00:00  00:00:00   \n",
       "1    2  11:46:10  00:00:00  00:00:00  00:00:00  00:00:00  00:00:00  00:00:00   \n",
       "2    3  12:13:47  00:00:00  00:00:00  00:00:00  00:00:00  00:00:00  00:00:00   \n",
       "\n",
       "     Wire 8    Wire 9       max_time_wire       min_time_wire  \\\n",
       "0  00:00:00  00:00:00 1900-01-01 11:11:41 1900-01-01 11:11:41   \n",
       "1  00:00:00  00:00:00 1900-01-01 11:46:10 1900-01-01 11:46:10   \n",
       "2  00:00:00  00:00:00 1900-01-01 12:13:47 1900-01-01 12:13:47   \n",
       "\n",
       "   time_dif_sec_wire  \n",
       "0                  0  \n",
       "1                  0  \n",
       "2                  0  "
      ]
     },
     "metadata": {},
     "output_type": "display_data"
    },
    {
     "data": {
      "text/html": [
       "<div>\n",
       "<style scoped>\n",
       "    .dataframe tbody tr th:only-of-type {\n",
       "        vertical-align: middle;\n",
       "    }\n",
       "\n",
       "    .dataframe tbody tr th {\n",
       "        vertical-align: top;\n",
       "    }\n",
       "\n",
       "    .dataframe thead th {\n",
       "        text-align: right;\n",
       "    }\n",
       "</style>\n",
       "<table border=\"1\" class=\"dataframe\">\n",
       "  <thead>\n",
       "    <tr style=\"text-align: right;\">\n",
       "      <th></th>\n",
       "      <th>wire_1_time</th>\n",
       "      <th>wire_2_time</th>\n",
       "      <th>wire_3_time</th>\n",
       "      <th>wire_4_time</th>\n",
       "      <th>wire_5_time</th>\n",
       "      <th>wire_6_time</th>\n",
       "      <th>wire_7_time</th>\n",
       "      <th>wire_8_time</th>\n",
       "      <th>wire_9_time</th>\n",
       "      <th>max_time_wire</th>\n",
       "      <th>min_time_wire</th>\n",
       "      <th>time_dif_sec_wire</th>\n",
       "    </tr>\n",
       "    <tr>\n",
       "      <th>key</th>\n",
       "      <th></th>\n",
       "      <th></th>\n",
       "      <th></th>\n",
       "      <th></th>\n",
       "      <th></th>\n",
       "      <th></th>\n",
       "      <th></th>\n",
       "      <th></th>\n",
       "      <th></th>\n",
       "      <th></th>\n",
       "      <th></th>\n",
       "      <th></th>\n",
       "    </tr>\n",
       "  </thead>\n",
       "  <tbody>\n",
       "    <tr>\n",
       "      <th>745</th>\n",
       "      <td>23:56:02</td>\n",
       "      <td>00:01:56</td>\n",
       "      <td>00:00:00</td>\n",
       "      <td>00:00:00</td>\n",
       "      <td>00:00:00</td>\n",
       "      <td>00:00:00</td>\n",
       "      <td>00:00:00</td>\n",
       "      <td>00:00:00</td>\n",
       "      <td>00:00:00</td>\n",
       "      <td>1900-01-01 23:56:02</td>\n",
       "      <td>1900-01-01 00:01:56</td>\n",
       "      <td>86046</td>\n",
       "    </tr>\n",
       "  </tbody>\n",
       "</table>\n",
       "</div>"
      ],
      "text/plain": [
       "    wire_1_time wire_2_time wire_3_time wire_4_time wire_5_time wire_6_time  \\\n",
       "key                                                                           \n",
       "745    23:56:02    00:01:56    00:00:00    00:00:00    00:00:00    00:00:00   \n",
       "\n",
       "    wire_7_time wire_8_time wire_9_time       max_time_wire  \\\n",
       "key                                                           \n",
       "745    00:00:00    00:00:00    00:00:00 1900-01-01 23:56:02   \n",
       "\n",
       "          min_time_wire  time_dif_sec_wire  \n",
       "key                                         \n",
       "745 1900-01-01 00:01:56              86046  "
      ]
     },
     "metadata": {},
     "output_type": "display_data"
    }
   ],
   "source": [
    "### проверка на адекватность\n",
    "df_7 = df_7.fillna(plug)\n",
    "### создание столбца с максимальным значением в строке\n",
    "df_7['max_time_wire'] = df_7[df_6_cols].max(axis=1)\n",
    "### создание столбца с минимальным значением не равным заглушке\n",
    "def second_min_2(x):\n",
    "    list_val = []\n",
    "    for i in range(1, 10):   \n",
    "        k = x[f'Wire {i}']\n",
    "        if k != plug:\n",
    "            list_val.append(k)       \n",
    "    a = min(list_val)\n",
    "    return a\n",
    "df_7['min_time_wire'] = df_7[df_6_cols].apply(second_min_2, axis=1)\n",
    "df_7['max_time_wire'] = pd.to_datetime(df_7['max_time_wire'].astype(str), format='%H:%M:%S')\n",
    "df_7['min_time_wire'] = pd.to_datetime(df_7['min_time_wire'].astype(str), format='%H:%M:%S')\n",
    "df_7['time_dif_sec_wire'] = (df_7['max_time_wire'] - df_7['min_time_wire']).dt.seconds\n",
    "display(df_7.head(3))\n",
    "### скорректируем названия колонок, для корректного соединения таблиц в дальнейшем\n",
    "df_7.columns = ['key', 'wire_1_time', 'wire_2_time', 'wire_3_time', 'wire_4_time', 'wire_5_time', 'wire_6_time',\n",
    "                'wire_7_time', 'wire_8_time', 'wire_9_time', 'max_time_wire', 'min_time_wire', 'time_dif_sec_wire']\n",
    "df_7 = df_7.set_index('key')\n",
    "### выведем строку с максимальным значением для проверки адекватности\n",
    "max_val_time_dif_2 = df_7['time_dif_sec_wire'].max()\n",
    "display(df_7.loc[(df_7['time_dif_sec_wire'] == max_val_time_dif_2)])"
   ]
  },
  {
   "cell_type": "markdown",
   "metadata": {},
   "source": [
    "#### Вывод"
   ]
  },
  {
   "cell_type": "markdown",
   "metadata": {},
   "source": [
    "- В данных очень много пропусков, но они идентичны таблице `steel.data_wire`.\n",
    "- Добавка под номером 5, добавлялась лишь в одной партии, аналогично с предыдущей таблицей.\n",
    "- Пропуски заполнены заглушкой `00:00:00`.\n",
    "- Данные проверены на адекватность, наибольшее значение разницы не превышает суток.\n",
    "- Полученное максимальное значение показало 23 часа между проволочными материалами, но это из-за формата времени без конкретной даты, поэтому все адекватно."
   ]
  },
  {
   "cell_type": "markdown",
   "metadata": {},
   "source": [
    "### Объединение признаков"
   ]
  },
  {
   "cell_type": "code",
   "execution_count": 36,
   "metadata": {},
   "outputs": [
    {
     "data": {
      "text/html": [
       "<div>\n",
       "<style scoped>\n",
       "    .dataframe tbody tr th:only-of-type {\n",
       "        vertical-align: middle;\n",
       "    }\n",
       "\n",
       "    .dataframe tbody tr th {\n",
       "        vertical-align: top;\n",
       "    }\n",
       "\n",
       "    .dataframe thead th {\n",
       "        text-align: right;\n",
       "    }\n",
       "</style>\n",
       "<table border=\"1\" class=\"dataframe\">\n",
       "  <thead>\n",
       "    <tr style=\"text-align: right;\">\n",
       "      <th></th>\n",
       "      <th>cnt_observations</th>\n",
       "      <th>begin_heat</th>\n",
       "      <th>end_heat</th>\n",
       "      <th>active_power</th>\n",
       "      <th>reactive_power</th>\n",
       "      <th>time_heat_sec</th>\n",
       "      <th>power_diff</th>\n",
       "      <th>power_sum</th>\n",
       "      <th>div_act_react</th>\n",
       "    </tr>\n",
       "    <tr>\n",
       "      <th>key</th>\n",
       "      <th></th>\n",
       "      <th></th>\n",
       "      <th></th>\n",
       "      <th></th>\n",
       "      <th></th>\n",
       "      <th></th>\n",
       "      <th></th>\n",
       "      <th></th>\n",
       "      <th></th>\n",
       "    </tr>\n",
       "  </thead>\n",
       "  <tbody>\n",
       "    <tr>\n",
       "      <th>1</th>\n",
       "      <td>5</td>\n",
       "      <td>1900-01-01 11:02:14</td>\n",
       "      <td>1900-01-01 11:28:37</td>\n",
       "      <td>0.975629</td>\n",
       "      <td>0.636648</td>\n",
       "      <td>1098</td>\n",
       "      <td>0.338981</td>\n",
       "      <td>1.612278</td>\n",
       "      <td>1.538898</td>\n",
       "    </tr>\n",
       "    <tr>\n",
       "      <th>2</th>\n",
       "      <td>4</td>\n",
       "      <td>1900-01-01 11:34:14</td>\n",
       "      <td>1900-01-01 11:53:18</td>\n",
       "      <td>0.763150</td>\n",
       "      <td>0.499528</td>\n",
       "      <td>811</td>\n",
       "      <td>0.263622</td>\n",
       "      <td>1.262677</td>\n",
       "      <td>1.551834</td>\n",
       "    </tr>\n",
       "    <tr>\n",
       "      <th>3</th>\n",
       "      <td>5</td>\n",
       "      <td>1900-01-01 12:06:54</td>\n",
       "      <td>1900-01-01 12:32:19</td>\n",
       "      <td>0.505176</td>\n",
       "      <td>0.319815</td>\n",
       "      <td>655</td>\n",
       "      <td>0.185361</td>\n",
       "      <td>0.824992</td>\n",
       "      <td>1.583120</td>\n",
       "    </tr>\n",
       "    <tr>\n",
       "      <th>4</th>\n",
       "      <td>4</td>\n",
       "      <td>1900-01-01 12:39:37</td>\n",
       "      <td>1900-01-01 12:57:50</td>\n",
       "      <td>0.802313</td>\n",
       "      <td>0.515074</td>\n",
       "      <td>741</td>\n",
       "      <td>0.287238</td>\n",
       "      <td>1.317387</td>\n",
       "      <td>1.563487</td>\n",
       "    </tr>\n",
       "    <tr>\n",
       "      <th>5</th>\n",
       "      <td>4</td>\n",
       "      <td>1900-01-01 13:11:13</td>\n",
       "      <td>1900-01-01 13:33:55</td>\n",
       "      <td>0.836793</td>\n",
       "      <td>0.563161</td>\n",
       "      <td>869</td>\n",
       "      <td>0.273633</td>\n",
       "      <td>1.399954</td>\n",
       "      <td>1.480428</td>\n",
       "    </tr>\n",
       "  </tbody>\n",
       "</table>\n",
       "</div>"
      ],
      "text/plain": [
       "     cnt_observations          begin_heat            end_heat  active_power  \\\n",
       "key                                                                           \n",
       "1                   5 1900-01-01 11:02:14 1900-01-01 11:28:37      0.975629   \n",
       "2                   4 1900-01-01 11:34:14 1900-01-01 11:53:18      0.763150   \n",
       "3                   5 1900-01-01 12:06:54 1900-01-01 12:32:19      0.505176   \n",
       "4                   4 1900-01-01 12:39:37 1900-01-01 12:57:50      0.802313   \n",
       "5                   4 1900-01-01 13:11:13 1900-01-01 13:33:55      0.836793   \n",
       "\n",
       "     reactive_power  time_heat_sec  power_diff  power_sum  div_act_react  \n",
       "key                                                                       \n",
       "1          0.636648           1098    0.338981   1.612278       1.538898  \n",
       "2          0.499528            811    0.263622   1.262677       1.551834  \n",
       "3          0.319815            655    0.185361   0.824992       1.583120  \n",
       "4          0.515074            741    0.287238   1.317387       1.563487  \n",
       "5          0.563161            869    0.273633   1.399954       1.480428  "
      ]
     },
     "execution_count": 36,
     "metadata": {},
     "output_type": "execute_result"
    }
   ],
   "source": [
    "### преобразуем таблицу df_1\n",
    "df_1_agg_func = {'key'             : 'count', \n",
    "                 'begin_heat'      : 'first',\n",
    "                 'end_heat'        : 'last',\n",
    "                 'active_power'    : 'mean',\n",
    "                 'reactive_power'  : 'mean',\n",
    "                 'cnt_observations': 'count',\n",
    "                 'time_heat_sec'   : 'sum',\n",
    "                 'power_diff'      : 'mean',\n",
    "                 'power_sum'       : 'mean',\n",
    "                 'div_act_react'   : 'mean'}\n",
    "df_1_true = df_1.groupby(by=['key']).agg(df_1_agg_func).drop(['cnt_observations'], axis=1)\\\n",
    "                .rename(columns={'key':'cnt_observations'})\n",
    "### выведем полученный результат\n",
    "df_1_true.head()"
   ]
  },
  {
   "cell_type": "code",
   "execution_count": 37,
   "metadata": {
    "scrolled": false
   },
   "outputs": [
    {
     "data": {
      "text/html": [
       "<div>\n",
       "<style scoped>\n",
       "    .dataframe tbody tr th:only-of-type {\n",
       "        vertical-align: middle;\n",
       "    }\n",
       "\n",
       "    .dataframe tbody tr th {\n",
       "        vertical-align: top;\n",
       "    }\n",
       "\n",
       "    .dataframe thead th {\n",
       "        text-align: right;\n",
       "    }\n",
       "</style>\n",
       "<table border=\"1\" class=\"dataframe\">\n",
       "  <thead>\n",
       "    <tr style=\"text-align: right;\">\n",
       "      <th></th>\n",
       "      <th>mesaure_time_first</th>\n",
       "      <th>temperature_first</th>\n",
       "    </tr>\n",
       "    <tr>\n",
       "      <th>key</th>\n",
       "      <th></th>\n",
       "      <th></th>\n",
       "    </tr>\n",
       "  </thead>\n",
       "  <tbody>\n",
       "    <tr>\n",
       "      <th>1</th>\n",
       "      <td>11:16:18</td>\n",
       "      <td>1571.0</td>\n",
       "    </tr>\n",
       "    <tr>\n",
       "      <th>2</th>\n",
       "      <td>11:37:27</td>\n",
       "      <td>1581.0</td>\n",
       "    </tr>\n",
       "    <tr>\n",
       "      <th>3</th>\n",
       "      <td>12:13:17</td>\n",
       "      <td>1596.0</td>\n",
       "    </tr>\n",
       "  </tbody>\n",
       "</table>\n",
       "</div>"
      ],
      "text/plain": [
       "    mesaure_time_first  temperature_first\n",
       "key                                      \n",
       "1             11:16:18             1571.0\n",
       "2             11:37:27             1581.0\n",
       "3             12:13:17             1596.0"
      ]
     },
     "execution_count": 37,
     "metadata": {},
     "output_type": "execute_result"
    }
   ],
   "source": [
    "### разделим таблицу c данными о температуре на две с начальным и конечным значением (first)\n",
    "df_5_query_2_first = df_5_query_2.query('str_rank == \"first\"').set_index('key')\n",
    "df_5_query_2_first.columns = ['mesaure_time_first', 'temperature_first', 'str_rank']\n",
    "df_5_query_2_first = df_5_query_2_first[['mesaure_time_first', 'temperature_first']]\n",
    "df_5_query_2_first.head(3)"
   ]
  },
  {
   "cell_type": "code",
   "execution_count": 38,
   "metadata": {},
   "outputs": [
    {
     "data": {
      "text/html": [
       "<div>\n",
       "<style scoped>\n",
       "    .dataframe tbody tr th:only-of-type {\n",
       "        vertical-align: middle;\n",
       "    }\n",
       "\n",
       "    .dataframe tbody tr th {\n",
       "        vertical-align: top;\n",
       "    }\n",
       "\n",
       "    .dataframe thead th {\n",
       "        text-align: right;\n",
       "    }\n",
       "</style>\n",
       "<table border=\"1\" class=\"dataframe\">\n",
       "  <thead>\n",
       "    <tr style=\"text-align: right;\">\n",
       "      <th></th>\n",
       "      <th>mesaure_time_last</th>\n",
       "      <th>temperature_last</th>\n",
       "    </tr>\n",
       "    <tr>\n",
       "      <th>key</th>\n",
       "      <th></th>\n",
       "      <th></th>\n",
       "    </tr>\n",
       "  </thead>\n",
       "  <tbody>\n",
       "    <tr>\n",
       "      <th>1</th>\n",
       "      <td>11:30:39</td>\n",
       "      <td>1613.0</td>\n",
       "    </tr>\n",
       "    <tr>\n",
       "      <th>2</th>\n",
       "      <td>11:59:12</td>\n",
       "      <td>1602.0</td>\n",
       "    </tr>\n",
       "    <tr>\n",
       "      <th>3</th>\n",
       "      <td>12:34:57</td>\n",
       "      <td>1599.0</td>\n",
       "    </tr>\n",
       "  </tbody>\n",
       "</table>\n",
       "</div>"
      ],
      "text/plain": [
       "    mesaure_time_last  temperature_last\n",
       "key                                    \n",
       "1            11:30:39            1613.0\n",
       "2            11:59:12            1602.0\n",
       "3            12:34:57            1599.0"
      ]
     },
     "execution_count": 38,
     "metadata": {},
     "output_type": "execute_result"
    }
   ],
   "source": [
    "### разделим таблицу c данными о температуре на две с начальным и конечным значением (last)\n",
    "df_5_query_2_last = df_5_query_2.query('str_rank == \"last\"').set_index('key')\n",
    "df_5_query_2_last.columns = ['mesaure_time_last', 'temperature_last', 'str_rank']\n",
    "df_5_query_2_last = df_5_query_2_last[['mesaure_time_last', 'temperature_last']]\n",
    "df_5_query_2_last.head(3)"
   ]
  },
  {
   "cell_type": "code",
   "execution_count": 39,
   "metadata": {},
   "outputs": [
    {
     "data": {
      "text/html": [
       "<div>\n",
       "<style scoped>\n",
       "    .dataframe tbody tr th:only-of-type {\n",
       "        vertical-align: middle;\n",
       "    }\n",
       "\n",
       "    .dataframe tbody tr th {\n",
       "        vertical-align: top;\n",
       "    }\n",
       "\n",
       "    .dataframe thead th {\n",
       "        text-align: right;\n",
       "    }\n",
       "</style>\n",
       "<table border=\"1\" class=\"dataframe\">\n",
       "  <thead>\n",
       "    <tr style=\"text-align: right;\">\n",
       "      <th></th>\n",
       "      <th>cnt_observations</th>\n",
       "      <th>begin_heat</th>\n",
       "      <th>end_heat</th>\n",
       "      <th>active_power</th>\n",
       "      <th>reactive_power</th>\n",
       "      <th>time_heat_sec</th>\n",
       "      <th>power_diff</th>\n",
       "      <th>power_sum</th>\n",
       "      <th>div_act_react</th>\n",
       "      <th>bulk_1</th>\n",
       "      <th>bulk_2</th>\n",
       "      <th>bulk_3</th>\n",
       "      <th>bulk_4</th>\n",
       "      <th>bulk_5</th>\n",
       "      <th>bulk_6</th>\n",
       "      <th>bulk_7</th>\n",
       "      <th>bulk_8</th>\n",
       "      <th>bulk_9</th>\n",
       "      <th>bulk_10</th>\n",
       "      <th>bulk_11</th>\n",
       "      <th>bulk_12</th>\n",
       "      <th>bulk_13</th>\n",
       "      <th>bulk_14</th>\n",
       "      <th>bulk_15</th>\n",
       "      <th>bulk_sum</th>\n",
       "      <th>bulk_1_time</th>\n",
       "      <th>bulk_2_time</th>\n",
       "      <th>bulk_3_time</th>\n",
       "      <th>bulk_4_time</th>\n",
       "      <th>bulk_5_time</th>\n",
       "      <th>bulk_6_time</th>\n",
       "      <th>bulk_7_time</th>\n",
       "      <th>bulk_8_time</th>\n",
       "      <th>bulk_9_time</th>\n",
       "      <th>bulk_10_time</th>\n",
       "      <th>bulk_11_time</th>\n",
       "      <th>bulk_12_time</th>\n",
       "      <th>bulk_13_time</th>\n",
       "      <th>bulk_14_time</th>\n",
       "      <th>bulk_15_time</th>\n",
       "      <th>max_time_bulk</th>\n",
       "      <th>min_time_bulk</th>\n",
       "      <th>time_dif_sec_bulk</th>\n",
       "      <th>gas</th>\n",
       "      <th>mesaure_time_first</th>\n",
       "      <th>temperature_first</th>\n",
       "      <th>mesaure_time_last</th>\n",
       "      <th>temperature_last</th>\n",
       "      <th>wire_1</th>\n",
       "      <th>wire_2</th>\n",
       "      <th>wire_3</th>\n",
       "      <th>wire_4</th>\n",
       "      <th>wire_5</th>\n",
       "      <th>wire_6</th>\n",
       "      <th>wire_7</th>\n",
       "      <th>wire_8</th>\n",
       "      <th>wire_9</th>\n",
       "      <th>wire_sum</th>\n",
       "      <th>wire_1_time</th>\n",
       "      <th>wire_2_time</th>\n",
       "      <th>wire_3_time</th>\n",
       "      <th>wire_4_time</th>\n",
       "      <th>wire_5_time</th>\n",
       "      <th>wire_6_time</th>\n",
       "      <th>wire_7_time</th>\n",
       "      <th>wire_8_time</th>\n",
       "      <th>wire_9_time</th>\n",
       "      <th>max_time_wire</th>\n",
       "      <th>min_time_wire</th>\n",
       "      <th>time_dif_sec_wire</th>\n",
       "    </tr>\n",
       "    <tr>\n",
       "      <th>key</th>\n",
       "      <th></th>\n",
       "      <th></th>\n",
       "      <th></th>\n",
       "      <th></th>\n",
       "      <th></th>\n",
       "      <th></th>\n",
       "      <th></th>\n",
       "      <th></th>\n",
       "      <th></th>\n",
       "      <th></th>\n",
       "      <th></th>\n",
       "      <th></th>\n",
       "      <th></th>\n",
       "      <th></th>\n",
       "      <th></th>\n",
       "      <th></th>\n",
       "      <th></th>\n",
       "      <th></th>\n",
       "      <th></th>\n",
       "      <th></th>\n",
       "      <th></th>\n",
       "      <th></th>\n",
       "      <th></th>\n",
       "      <th></th>\n",
       "      <th></th>\n",
       "      <th></th>\n",
       "      <th></th>\n",
       "      <th></th>\n",
       "      <th></th>\n",
       "      <th></th>\n",
       "      <th></th>\n",
       "      <th></th>\n",
       "      <th></th>\n",
       "      <th></th>\n",
       "      <th></th>\n",
       "      <th></th>\n",
       "      <th></th>\n",
       "      <th></th>\n",
       "      <th></th>\n",
       "      <th></th>\n",
       "      <th></th>\n",
       "      <th></th>\n",
       "      <th></th>\n",
       "      <th></th>\n",
       "      <th></th>\n",
       "      <th></th>\n",
       "      <th></th>\n",
       "      <th></th>\n",
       "      <th></th>\n",
       "      <th></th>\n",
       "      <th></th>\n",
       "      <th></th>\n",
       "      <th></th>\n",
       "      <th></th>\n",
       "      <th></th>\n",
       "      <th></th>\n",
       "      <th></th>\n",
       "      <th></th>\n",
       "      <th></th>\n",
       "      <th></th>\n",
       "      <th></th>\n",
       "      <th></th>\n",
       "      <th></th>\n",
       "      <th></th>\n",
       "      <th></th>\n",
       "      <th></th>\n",
       "      <th></th>\n",
       "      <th></th>\n",
       "      <th></th>\n",
       "      <th></th>\n",
       "    </tr>\n",
       "  </thead>\n",
       "  <tbody>\n",
       "    <tr>\n",
       "      <th>1</th>\n",
       "      <td>5</td>\n",
       "      <td>1900-01-01 11:02:14</td>\n",
       "      <td>1900-01-01 11:28:37</td>\n",
       "      <td>0.975629</td>\n",
       "      <td>0.636648</td>\n",
       "      <td>1098</td>\n",
       "      <td>0.338981</td>\n",
       "      <td>1.612278</td>\n",
       "      <td>1.538898</td>\n",
       "      <td>0.0</td>\n",
       "      <td>0.0</td>\n",
       "      <td>0.0</td>\n",
       "      <td>43.0</td>\n",
       "      <td>0.0</td>\n",
       "      <td>0.0</td>\n",
       "      <td>0.0</td>\n",
       "      <td>0.0</td>\n",
       "      <td>0.0</td>\n",
       "      <td>0.0</td>\n",
       "      <td>0.0</td>\n",
       "      <td>206.0</td>\n",
       "      <td>0.0</td>\n",
       "      <td>150.0</td>\n",
       "      <td>154.0</td>\n",
       "      <td>553.0</td>\n",
       "      <td>00:00:00</td>\n",
       "      <td>00:00:00</td>\n",
       "      <td>00:00:00</td>\n",
       "      <td>11:21:30</td>\n",
       "      <td>00:00:00</td>\n",
       "      <td>00:00:00</td>\n",
       "      <td>00:00:00</td>\n",
       "      <td>00:00:00</td>\n",
       "      <td>00:00:00</td>\n",
       "      <td>00:00:00</td>\n",
       "      <td>00:00:00</td>\n",
       "      <td>11:03:52</td>\n",
       "      <td>00:00:00</td>\n",
       "      <td>11:03:52</td>\n",
       "      <td>11:03:52</td>\n",
       "      <td>1900-01-01 11:21:30</td>\n",
       "      <td>1900-01-01 11:03:52</td>\n",
       "      <td>1058</td>\n",
       "      <td>29.749986</td>\n",
       "      <td>11:16:18</td>\n",
       "      <td>1571.0</td>\n",
       "      <td>11:30:39</td>\n",
       "      <td>1613.0</td>\n",
       "      <td>60.059998</td>\n",
       "      <td>0.0</td>\n",
       "      <td>0.0</td>\n",
       "      <td>0.0</td>\n",
       "      <td>0.0</td>\n",
       "      <td>0.0</td>\n",
       "      <td>0.0</td>\n",
       "      <td>0.0</td>\n",
       "      <td>0.0</td>\n",
       "      <td>60.059998</td>\n",
       "      <td>11:11:41</td>\n",
       "      <td>00:00:00</td>\n",
       "      <td>00:00:00</td>\n",
       "      <td>00:00:00</td>\n",
       "      <td>00:00:00</td>\n",
       "      <td>00:00:00</td>\n",
       "      <td>00:00:00</td>\n",
       "      <td>00:00:00</td>\n",
       "      <td>00:00:00</td>\n",
       "      <td>1900-01-01 11:11:41</td>\n",
       "      <td>1900-01-01 11:11:41</td>\n",
       "      <td>0</td>\n",
       "    </tr>\n",
       "    <tr>\n",
       "      <th>2</th>\n",
       "      <td>4</td>\n",
       "      <td>1900-01-01 11:34:14</td>\n",
       "      <td>1900-01-01 11:53:18</td>\n",
       "      <td>0.763150</td>\n",
       "      <td>0.499528</td>\n",
       "      <td>811</td>\n",
       "      <td>0.263622</td>\n",
       "      <td>1.262677</td>\n",
       "      <td>1.551834</td>\n",
       "      <td>0.0</td>\n",
       "      <td>0.0</td>\n",
       "      <td>0.0</td>\n",
       "      <td>73.0</td>\n",
       "      <td>0.0</td>\n",
       "      <td>0.0</td>\n",
       "      <td>0.0</td>\n",
       "      <td>0.0</td>\n",
       "      <td>0.0</td>\n",
       "      <td>0.0</td>\n",
       "      <td>0.0</td>\n",
       "      <td>206.0</td>\n",
       "      <td>0.0</td>\n",
       "      <td>149.0</td>\n",
       "      <td>154.0</td>\n",
       "      <td>582.0</td>\n",
       "      <td>00:00:00</td>\n",
       "      <td>00:00:00</td>\n",
       "      <td>00:00:00</td>\n",
       "      <td>11:46:38</td>\n",
       "      <td>00:00:00</td>\n",
       "      <td>00:00:00</td>\n",
       "      <td>00:00:00</td>\n",
       "      <td>00:00:00</td>\n",
       "      <td>00:00:00</td>\n",
       "      <td>00:00:00</td>\n",
       "      <td>00:00:00</td>\n",
       "      <td>11:40:20</td>\n",
       "      <td>00:00:00</td>\n",
       "      <td>11:40:20</td>\n",
       "      <td>11:40:20</td>\n",
       "      <td>1900-01-01 11:46:38</td>\n",
       "      <td>1900-01-01 11:40:20</td>\n",
       "      <td>378</td>\n",
       "      <td>12.555561</td>\n",
       "      <td>11:37:27</td>\n",
       "      <td>1581.0</td>\n",
       "      <td>11:59:12</td>\n",
       "      <td>1602.0</td>\n",
       "      <td>96.052315</td>\n",
       "      <td>0.0</td>\n",
       "      <td>0.0</td>\n",
       "      <td>0.0</td>\n",
       "      <td>0.0</td>\n",
       "      <td>0.0</td>\n",
       "      <td>0.0</td>\n",
       "      <td>0.0</td>\n",
       "      <td>0.0</td>\n",
       "      <td>96.052315</td>\n",
       "      <td>11:46:10</td>\n",
       "      <td>00:00:00</td>\n",
       "      <td>00:00:00</td>\n",
       "      <td>00:00:00</td>\n",
       "      <td>00:00:00</td>\n",
       "      <td>00:00:00</td>\n",
       "      <td>00:00:00</td>\n",
       "      <td>00:00:00</td>\n",
       "      <td>00:00:00</td>\n",
       "      <td>1900-01-01 11:46:10</td>\n",
       "      <td>1900-01-01 11:46:10</td>\n",
       "      <td>0</td>\n",
       "    </tr>\n",
       "    <tr>\n",
       "      <th>3</th>\n",
       "      <td>5</td>\n",
       "      <td>1900-01-01 12:06:54</td>\n",
       "      <td>1900-01-01 12:32:19</td>\n",
       "      <td>0.505176</td>\n",
       "      <td>0.319815</td>\n",
       "      <td>655</td>\n",
       "      <td>0.185361</td>\n",
       "      <td>0.824992</td>\n",
       "      <td>1.583120</td>\n",
       "      <td>0.0</td>\n",
       "      <td>0.0</td>\n",
       "      <td>0.0</td>\n",
       "      <td>34.0</td>\n",
       "      <td>0.0</td>\n",
       "      <td>0.0</td>\n",
       "      <td>0.0</td>\n",
       "      <td>0.0</td>\n",
       "      <td>0.0</td>\n",
       "      <td>0.0</td>\n",
       "      <td>0.0</td>\n",
       "      <td>205.0</td>\n",
       "      <td>0.0</td>\n",
       "      <td>152.0</td>\n",
       "      <td>153.0</td>\n",
       "      <td>544.0</td>\n",
       "      <td>00:00:00</td>\n",
       "      <td>00:00:00</td>\n",
       "      <td>00:00:00</td>\n",
       "      <td>12:31:06</td>\n",
       "      <td>00:00:00</td>\n",
       "      <td>00:00:00</td>\n",
       "      <td>00:00:00</td>\n",
       "      <td>00:00:00</td>\n",
       "      <td>00:00:00</td>\n",
       "      <td>00:00:00</td>\n",
       "      <td>00:00:00</td>\n",
       "      <td>12:09:40</td>\n",
       "      <td>00:00:00</td>\n",
       "      <td>12:09:40</td>\n",
       "      <td>12:09:40</td>\n",
       "      <td>1900-01-01 12:31:06</td>\n",
       "      <td>1900-01-01 12:09:40</td>\n",
       "      <td>1286</td>\n",
       "      <td>28.554793</td>\n",
       "      <td>12:13:17</td>\n",
       "      <td>1596.0</td>\n",
       "      <td>12:34:57</td>\n",
       "      <td>1599.0</td>\n",
       "      <td>91.160157</td>\n",
       "      <td>0.0</td>\n",
       "      <td>0.0</td>\n",
       "      <td>0.0</td>\n",
       "      <td>0.0</td>\n",
       "      <td>0.0</td>\n",
       "      <td>0.0</td>\n",
       "      <td>0.0</td>\n",
       "      <td>0.0</td>\n",
       "      <td>91.160157</td>\n",
       "      <td>12:13:47</td>\n",
       "      <td>00:00:00</td>\n",
       "      <td>00:00:00</td>\n",
       "      <td>00:00:00</td>\n",
       "      <td>00:00:00</td>\n",
       "      <td>00:00:00</td>\n",
       "      <td>00:00:00</td>\n",
       "      <td>00:00:00</td>\n",
       "      <td>00:00:00</td>\n",
       "      <td>1900-01-01 12:13:47</td>\n",
       "      <td>1900-01-01 12:13:47</td>\n",
       "      <td>0</td>\n",
       "    </tr>\n",
       "  </tbody>\n",
       "</table>\n",
       "</div>"
      ],
      "text/plain": [
       "     cnt_observations          begin_heat            end_heat  active_power  \\\n",
       "key                                                                           \n",
       "1                   5 1900-01-01 11:02:14 1900-01-01 11:28:37      0.975629   \n",
       "2                   4 1900-01-01 11:34:14 1900-01-01 11:53:18      0.763150   \n",
       "3                   5 1900-01-01 12:06:54 1900-01-01 12:32:19      0.505176   \n",
       "\n",
       "     reactive_power  time_heat_sec  power_diff  power_sum  div_act_react  \\\n",
       "key                                                                        \n",
       "1          0.636648           1098    0.338981   1.612278       1.538898   \n",
       "2          0.499528            811    0.263622   1.262677       1.551834   \n",
       "3          0.319815            655    0.185361   0.824992       1.583120   \n",
       "\n",
       "     bulk_1  bulk_2  bulk_3  bulk_4  bulk_5  bulk_6  bulk_7  bulk_8  bulk_9  \\\n",
       "key                                                                           \n",
       "1       0.0     0.0     0.0    43.0     0.0     0.0     0.0     0.0     0.0   \n",
       "2       0.0     0.0     0.0    73.0     0.0     0.0     0.0     0.0     0.0   \n",
       "3       0.0     0.0     0.0    34.0     0.0     0.0     0.0     0.0     0.0   \n",
       "\n",
       "     bulk_10  bulk_11  bulk_12  bulk_13  bulk_14  bulk_15  bulk_sum  \\\n",
       "key                                                                   \n",
       "1        0.0      0.0    206.0      0.0    150.0    154.0     553.0   \n",
       "2        0.0      0.0    206.0      0.0    149.0    154.0     582.0   \n",
       "3        0.0      0.0    205.0      0.0    152.0    153.0     544.0   \n",
       "\n",
       "    bulk_1_time bulk_2_time bulk_3_time bulk_4_time bulk_5_time bulk_6_time  \\\n",
       "key                                                                           \n",
       "1      00:00:00    00:00:00    00:00:00    11:21:30    00:00:00    00:00:00   \n",
       "2      00:00:00    00:00:00    00:00:00    11:46:38    00:00:00    00:00:00   \n",
       "3      00:00:00    00:00:00    00:00:00    12:31:06    00:00:00    00:00:00   \n",
       "\n",
       "    bulk_7_time bulk_8_time bulk_9_time bulk_10_time bulk_11_time  \\\n",
       "key                                                                 \n",
       "1      00:00:00    00:00:00    00:00:00     00:00:00     00:00:00   \n",
       "2      00:00:00    00:00:00    00:00:00     00:00:00     00:00:00   \n",
       "3      00:00:00    00:00:00    00:00:00     00:00:00     00:00:00   \n",
       "\n",
       "    bulk_12_time bulk_13_time bulk_14_time bulk_15_time       max_time_bulk  \\\n",
       "key                                                                           \n",
       "1       11:03:52     00:00:00     11:03:52     11:03:52 1900-01-01 11:21:30   \n",
       "2       11:40:20     00:00:00     11:40:20     11:40:20 1900-01-01 11:46:38   \n",
       "3       12:09:40     00:00:00     12:09:40     12:09:40 1900-01-01 12:31:06   \n",
       "\n",
       "          min_time_bulk  time_dif_sec_bulk        gas mesaure_time_first  \\\n",
       "key                                                                        \n",
       "1   1900-01-01 11:03:52               1058  29.749986           11:16:18   \n",
       "2   1900-01-01 11:40:20                378  12.555561           11:37:27   \n",
       "3   1900-01-01 12:09:40               1286  28.554793           12:13:17   \n",
       "\n",
       "     temperature_first mesaure_time_last  temperature_last     wire_1  wire_2  \\\n",
       "key                                                                             \n",
       "1               1571.0          11:30:39            1613.0  60.059998     0.0   \n",
       "2               1581.0          11:59:12            1602.0  96.052315     0.0   \n",
       "3               1596.0          12:34:57            1599.0  91.160157     0.0   \n",
       "\n",
       "     wire_3  wire_4  wire_5  wire_6  wire_7  wire_8  wire_9   wire_sum  \\\n",
       "key                                                                      \n",
       "1       0.0     0.0     0.0     0.0     0.0     0.0     0.0  60.059998   \n",
       "2       0.0     0.0     0.0     0.0     0.0     0.0     0.0  96.052315   \n",
       "3       0.0     0.0     0.0     0.0     0.0     0.0     0.0  91.160157   \n",
       "\n",
       "    wire_1_time wire_2_time wire_3_time wire_4_time wire_5_time wire_6_time  \\\n",
       "key                                                                           \n",
       "1      11:11:41    00:00:00    00:00:00    00:00:00    00:00:00    00:00:00   \n",
       "2      11:46:10    00:00:00    00:00:00    00:00:00    00:00:00    00:00:00   \n",
       "3      12:13:47    00:00:00    00:00:00    00:00:00    00:00:00    00:00:00   \n",
       "\n",
       "    wire_7_time wire_8_time wire_9_time       max_time_wire  \\\n",
       "key                                                           \n",
       "1      00:00:00    00:00:00    00:00:00 1900-01-01 11:11:41   \n",
       "2      00:00:00    00:00:00    00:00:00 1900-01-01 11:46:10   \n",
       "3      00:00:00    00:00:00    00:00:00 1900-01-01 12:13:47   \n",
       "\n",
       "          min_time_wire  time_dif_sec_wire  \n",
       "key                                         \n",
       "1   1900-01-01 11:11:41                  0  \n",
       "2   1900-01-01 11:46:10                  0  \n",
       "3   1900-01-01 12:13:47                  0  "
      ]
     },
     "execution_count": 39,
     "metadata": {},
     "output_type": "execute_result"
    }
   ],
   "source": [
    "### выведем объединенную таблшицу\n",
    "df_union = df_1_true.join([df_2, df_3, df_4, df_5_query_2_first, df_5_query_2_last, df_6, df_7], how='inner')\n",
    "### cбросим ограничения на число столбцов\n",
    "pd.set_option('display.max_columns', None)\n",
    "df_union.head(3)"
   ]
  },
  {
   "cell_type": "markdown",
   "metadata": {},
   "source": [
    "### Анализ технологического процесса на примере одной партии"
   ]
  },
  {
   "cell_type": "code",
   "execution_count": 40,
   "metadata": {},
   "outputs": [
    {
     "data": {
      "text/plain": [
       "cnt_observations                        5\n",
       "begin_heat            1900-01-01 22:38:42\n",
       "end_heat              1900-01-01 23:08:15\n",
       "active_power                     0.535343\n",
       "reactive_power                   0.387874\n",
       "time_heat_sec                         714\n",
       "power_diff                       0.147469\n",
       "power_sum                        0.923218\n",
       "div_act_react                    1.384633\n",
       "bulk_1                                0.0\n",
       "bulk_2                                0.0\n",
       "bulk_3                                0.0\n",
       "bulk_4                                0.0\n",
       "bulk_5                                0.0\n",
       "bulk_6                                0.0\n",
       "bulk_7                                0.0\n",
       "bulk_8                                0.0\n",
       "bulk_9                                0.0\n",
       "bulk_10                               0.0\n",
       "bulk_11                               0.0\n",
       "bulk_12                               0.0\n",
       "bulk_13                               0.0\n",
       "bulk_14                             153.0\n",
       "bulk_15                             202.0\n",
       "bulk_sum                            355.0\n",
       "bulk_1_time                      00:00:00\n",
       "bulk_2_time                      00:00:00\n",
       "bulk_3_time                      00:00:00\n",
       "bulk_4_time                      00:00:00\n",
       "bulk_5_time                      00:00:00\n",
       "bulk_6_time                      00:00:00\n",
       "bulk_7_time                      00:00:00\n",
       "bulk_8_time                      00:00:00\n",
       "bulk_9_time                      00:00:00\n",
       "bulk_10_time                     00:00:00\n",
       "bulk_11_time                     00:00:00\n",
       "bulk_12_time                     00:00:00\n",
       "bulk_13_time                     00:00:00\n",
       "bulk_14_time                     22:46:31\n",
       "bulk_15_time                     22:46:31\n",
       "max_time_bulk         1900-01-01 22:46:31\n",
       "min_time_bulk         1900-01-01 22:46:31\n",
       "time_dif_sec_bulk                       0\n",
       "gas                             15.175933\n",
       "mesaure_time_first               22:42:34\n",
       "temperature_first                  1611.0\n",
       "mesaure_time_last                23:10:16\n",
       "temperature_last                   1599.0\n",
       "wire_1                         110.204636\n",
       "wire_2                          50.144638\n",
       "wire_3                                0.0\n",
       "wire_4                                0.0\n",
       "wire_5                                0.0\n",
       "wire_6                                0.0\n",
       "wire_7                                0.0\n",
       "wire_8                                0.0\n",
       "wire_9                                0.0\n",
       "wire_sum                       160.349274\n",
       "wire_1_time                      22:52:33\n",
       "wire_2_time                      23:05:53\n",
       "wire_3_time                      00:00:00\n",
       "wire_4_time                      00:00:00\n",
       "wire_5_time                      00:00:00\n",
       "wire_6_time                      00:00:00\n",
       "wire_7_time                      00:00:00\n",
       "wire_8_time                      00:00:00\n",
       "wire_9_time                      00:00:00\n",
       "max_time_wire         1900-01-01 23:05:53\n",
       "min_time_wire         1900-01-01 22:52:33\n",
       "time_dif_sec_wire                     800\n",
       "Name: 17, dtype: object"
      ]
     },
     "execution_count": 40,
     "metadata": {},
     "output_type": "execute_result"
    }
   ],
   "source": [
    "### cбросим ограничения на количество выводимых рядов\n",
    "pd.set_option('display.max_rows', None)\n",
    "### посмотрим последовательность для партии с номером 17\n",
    "df_union.loc[17]"
   ]
  },
  {
   "cell_type": "markdown",
   "metadata": {},
   "source": [
    "**Технологический процесс по обработке стали на примерее партии с номером 17:**\n",
    "1. Начало нагрева электродами в 22:38:42\n",
    "2. Измерение температуры в 22:42:34, температура составила 1611.0 градусов\n",
    "2. Добавление сыпучих добавок под номерами 14 и 15 в 22:46:31, общим объемом 355.0 единиц\n",
    "3. Добавление проволочных добавок под номером 1 в 22:52:33, объемом 110.2 единиц\n",
    "4. Добавление проволочных добавок под номером 2 в 23:05:53, объемом 50.1 единиц\n",
    "6. Конец нагрева электродами в 23:08:15\n",
    "7. Измерение температуры в 23:10:16, температура составила 1599.0 градусов"
   ]
  },
  {
   "cell_type": "markdown",
   "metadata": {},
   "source": [
    "#### Вывод"
   ]
  },
  {
   "cell_type": "markdown",
   "metadata": {},
   "source": [
    "Последовательность технологического процесса для партии 17 совпадает с информацией от заказчика."
   ]
  },
  {
   "cell_type": "markdown",
   "metadata": {},
   "source": [
    "### Анализ объединенных признаков"
   ]
  },
  {
   "cell_type": "code",
   "execution_count": 41,
   "metadata": {},
   "outputs": [
    {
     "data": {
      "text/plain": [
       "'Таблица объединенных признаков без информации о времени'"
      ]
     },
     "metadata": {},
     "output_type": "display_data"
    },
    {
     "data": {
      "text/html": [
       "<div>\n",
       "<style scoped>\n",
       "    .dataframe tbody tr th:only-of-type {\n",
       "        vertical-align: middle;\n",
       "    }\n",
       "\n",
       "    .dataframe tbody tr th {\n",
       "        vertical-align: top;\n",
       "    }\n",
       "\n",
       "    .dataframe thead th {\n",
       "        text-align: right;\n",
       "    }\n",
       "</style>\n",
       "<table border=\"1\" class=\"dataframe\">\n",
       "  <thead>\n",
       "    <tr style=\"text-align: right;\">\n",
       "      <th></th>\n",
       "      <th>cnt_observations</th>\n",
       "      <th>active_power</th>\n",
       "      <th>reactive_power</th>\n",
       "      <th>time_heat_sec</th>\n",
       "      <th>power_diff</th>\n",
       "      <th>power_sum</th>\n",
       "      <th>div_act_react</th>\n",
       "      <th>bulk_1</th>\n",
       "      <th>bulk_2</th>\n",
       "      <th>bulk_3</th>\n",
       "      <th>bulk_4</th>\n",
       "      <th>bulk_5</th>\n",
       "      <th>bulk_6</th>\n",
       "      <th>bulk_7</th>\n",
       "      <th>bulk_8</th>\n",
       "      <th>bulk_9</th>\n",
       "      <th>bulk_10</th>\n",
       "      <th>bulk_11</th>\n",
       "      <th>bulk_12</th>\n",
       "      <th>bulk_13</th>\n",
       "      <th>bulk_14</th>\n",
       "      <th>bulk_15</th>\n",
       "      <th>bulk_sum</th>\n",
       "      <th>time_dif_sec_bulk</th>\n",
       "      <th>gas</th>\n",
       "      <th>temperature_first</th>\n",
       "      <th>temperature_last</th>\n",
       "      <th>wire_1</th>\n",
       "      <th>wire_2</th>\n",
       "      <th>wire_3</th>\n",
       "      <th>wire_4</th>\n",
       "      <th>wire_6</th>\n",
       "      <th>wire_7</th>\n",
       "      <th>wire_8</th>\n",
       "      <th>wire_9</th>\n",
       "      <th>wire_sum</th>\n",
       "      <th>time_dif_sec_wire</th>\n",
       "    </tr>\n",
       "    <tr>\n",
       "      <th>key</th>\n",
       "      <th></th>\n",
       "      <th></th>\n",
       "      <th></th>\n",
       "      <th></th>\n",
       "      <th></th>\n",
       "      <th></th>\n",
       "      <th></th>\n",
       "      <th></th>\n",
       "      <th></th>\n",
       "      <th></th>\n",
       "      <th></th>\n",
       "      <th></th>\n",
       "      <th></th>\n",
       "      <th></th>\n",
       "      <th></th>\n",
       "      <th></th>\n",
       "      <th></th>\n",
       "      <th></th>\n",
       "      <th></th>\n",
       "      <th></th>\n",
       "      <th></th>\n",
       "      <th></th>\n",
       "      <th></th>\n",
       "      <th></th>\n",
       "      <th></th>\n",
       "      <th></th>\n",
       "      <th></th>\n",
       "      <th></th>\n",
       "      <th></th>\n",
       "      <th></th>\n",
       "      <th></th>\n",
       "      <th></th>\n",
       "      <th></th>\n",
       "      <th></th>\n",
       "      <th></th>\n",
       "      <th></th>\n",
       "      <th></th>\n",
       "    </tr>\n",
       "  </thead>\n",
       "  <tbody>\n",
       "    <tr>\n",
       "      <th>1</th>\n",
       "      <td>5</td>\n",
       "      <td>0.975629</td>\n",
       "      <td>0.636648</td>\n",
       "      <td>1098</td>\n",
       "      <td>0.338981</td>\n",
       "      <td>1.612278</td>\n",
       "      <td>1.538898</td>\n",
       "      <td>0.0</td>\n",
       "      <td>0.0</td>\n",
       "      <td>0.0</td>\n",
       "      <td>43.0</td>\n",
       "      <td>0.0</td>\n",
       "      <td>0.0</td>\n",
       "      <td>0.0</td>\n",
       "      <td>0.0</td>\n",
       "      <td>0.0</td>\n",
       "      <td>0.0</td>\n",
       "      <td>0.0</td>\n",
       "      <td>206.0</td>\n",
       "      <td>0.0</td>\n",
       "      <td>150.0</td>\n",
       "      <td>154.0</td>\n",
       "      <td>553.0</td>\n",
       "      <td>1058</td>\n",
       "      <td>29.749986</td>\n",
       "      <td>1571.0</td>\n",
       "      <td>1613.0</td>\n",
       "      <td>60.059998</td>\n",
       "      <td>0.0</td>\n",
       "      <td>0.0</td>\n",
       "      <td>0.0</td>\n",
       "      <td>0.0</td>\n",
       "      <td>0.0</td>\n",
       "      <td>0.0</td>\n",
       "      <td>0.0</td>\n",
       "      <td>60.059998</td>\n",
       "      <td>0</td>\n",
       "    </tr>\n",
       "    <tr>\n",
       "      <th>2</th>\n",
       "      <td>4</td>\n",
       "      <td>0.763150</td>\n",
       "      <td>0.499528</td>\n",
       "      <td>811</td>\n",
       "      <td>0.263622</td>\n",
       "      <td>1.262677</td>\n",
       "      <td>1.551834</td>\n",
       "      <td>0.0</td>\n",
       "      <td>0.0</td>\n",
       "      <td>0.0</td>\n",
       "      <td>73.0</td>\n",
       "      <td>0.0</td>\n",
       "      <td>0.0</td>\n",
       "      <td>0.0</td>\n",
       "      <td>0.0</td>\n",
       "      <td>0.0</td>\n",
       "      <td>0.0</td>\n",
       "      <td>0.0</td>\n",
       "      <td>206.0</td>\n",
       "      <td>0.0</td>\n",
       "      <td>149.0</td>\n",
       "      <td>154.0</td>\n",
       "      <td>582.0</td>\n",
       "      <td>378</td>\n",
       "      <td>12.555561</td>\n",
       "      <td>1581.0</td>\n",
       "      <td>1602.0</td>\n",
       "      <td>96.052315</td>\n",
       "      <td>0.0</td>\n",
       "      <td>0.0</td>\n",
       "      <td>0.0</td>\n",
       "      <td>0.0</td>\n",
       "      <td>0.0</td>\n",
       "      <td>0.0</td>\n",
       "      <td>0.0</td>\n",
       "      <td>96.052315</td>\n",
       "      <td>0</td>\n",
       "    </tr>\n",
       "    <tr>\n",
       "      <th>3</th>\n",
       "      <td>5</td>\n",
       "      <td>0.505176</td>\n",
       "      <td>0.319815</td>\n",
       "      <td>655</td>\n",
       "      <td>0.185361</td>\n",
       "      <td>0.824992</td>\n",
       "      <td>1.583120</td>\n",
       "      <td>0.0</td>\n",
       "      <td>0.0</td>\n",
       "      <td>0.0</td>\n",
       "      <td>34.0</td>\n",
       "      <td>0.0</td>\n",
       "      <td>0.0</td>\n",
       "      <td>0.0</td>\n",
       "      <td>0.0</td>\n",
       "      <td>0.0</td>\n",
       "      <td>0.0</td>\n",
       "      <td>0.0</td>\n",
       "      <td>205.0</td>\n",
       "      <td>0.0</td>\n",
       "      <td>152.0</td>\n",
       "      <td>153.0</td>\n",
       "      <td>544.0</td>\n",
       "      <td>1286</td>\n",
       "      <td>28.554793</td>\n",
       "      <td>1596.0</td>\n",
       "      <td>1599.0</td>\n",
       "      <td>91.160157</td>\n",
       "      <td>0.0</td>\n",
       "      <td>0.0</td>\n",
       "      <td>0.0</td>\n",
       "      <td>0.0</td>\n",
       "      <td>0.0</td>\n",
       "      <td>0.0</td>\n",
       "      <td>0.0</td>\n",
       "      <td>91.160157</td>\n",
       "      <td>0</td>\n",
       "    </tr>\n",
       "  </tbody>\n",
       "</table>\n",
       "</div>"
      ],
      "text/plain": [
       "     cnt_observations  active_power  reactive_power  time_heat_sec  \\\n",
       "key                                                                  \n",
       "1                   5      0.975629        0.636648           1098   \n",
       "2                   4      0.763150        0.499528            811   \n",
       "3                   5      0.505176        0.319815            655   \n",
       "\n",
       "     power_diff  power_sum  div_act_react  bulk_1  bulk_2  bulk_3  bulk_4  \\\n",
       "key                                                                         \n",
       "1      0.338981   1.612278       1.538898     0.0     0.0     0.0    43.0   \n",
       "2      0.263622   1.262677       1.551834     0.0     0.0     0.0    73.0   \n",
       "3      0.185361   0.824992       1.583120     0.0     0.0     0.0    34.0   \n",
       "\n",
       "     bulk_5  bulk_6  bulk_7  bulk_8  bulk_9  bulk_10  bulk_11  bulk_12  \\\n",
       "key                                                                      \n",
       "1       0.0     0.0     0.0     0.0     0.0      0.0      0.0    206.0   \n",
       "2       0.0     0.0     0.0     0.0     0.0      0.0      0.0    206.0   \n",
       "3       0.0     0.0     0.0     0.0     0.0      0.0      0.0    205.0   \n",
       "\n",
       "     bulk_13  bulk_14  bulk_15  bulk_sum  time_dif_sec_bulk        gas  \\\n",
       "key                                                                      \n",
       "1        0.0    150.0    154.0     553.0               1058  29.749986   \n",
       "2        0.0    149.0    154.0     582.0                378  12.555561   \n",
       "3        0.0    152.0    153.0     544.0               1286  28.554793   \n",
       "\n",
       "     temperature_first  temperature_last     wire_1  wire_2  wire_3  wire_4  \\\n",
       "key                                                                           \n",
       "1               1571.0            1613.0  60.059998     0.0     0.0     0.0   \n",
       "2               1581.0            1602.0  96.052315     0.0     0.0     0.0   \n",
       "3               1596.0            1599.0  91.160157     0.0     0.0     0.0   \n",
       "\n",
       "     wire_6  wire_7  wire_8  wire_9   wire_sum  time_dif_sec_wire  \n",
       "key                                                                \n",
       "1       0.0     0.0     0.0     0.0  60.059998                  0  \n",
       "2       0.0     0.0     0.0     0.0  96.052315                  0  \n",
       "3       0.0     0.0     0.0     0.0  91.160157                  0  "
      ]
     },
     "metadata": {},
     "output_type": "display_data"
    },
    {
     "name": "stdout",
     "output_type": "stream",
     "text": [
      "<class 'pandas.core.frame.DataFrame'>\n",
      "Int64Index: 2325 entries, 1 to 2499\n",
      "Data columns (total 37 columns):\n",
      " #   Column             Non-Null Count  Dtype  \n",
      "---  ------             --------------  -----  \n",
      " 0   cnt_observations   2325 non-null   int64  \n",
      " 1   active_power       2325 non-null   float64\n",
      " 2   reactive_power     2325 non-null   float64\n",
      " 3   time_heat_sec      2325 non-null   int64  \n",
      " 4   power_diff         2325 non-null   float64\n",
      " 5   power_sum          2325 non-null   float64\n",
      " 6   div_act_react      2325 non-null   float64\n",
      " 7   bulk_1             2325 non-null   float64\n",
      " 8   bulk_2             2325 non-null   float64\n",
      " 9   bulk_3             2325 non-null   float64\n",
      " 10  bulk_4             2325 non-null   float64\n",
      " 11  bulk_5             2325 non-null   float64\n",
      " 12  bulk_6             2325 non-null   float64\n",
      " 13  bulk_7             2325 non-null   float64\n",
      " 14  bulk_8             2325 non-null   float64\n",
      " 15  bulk_9             2325 non-null   float64\n",
      " 16  bulk_10            2325 non-null   float64\n",
      " 17  bulk_11            2325 non-null   float64\n",
      " 18  bulk_12            2325 non-null   float64\n",
      " 19  bulk_13            2325 non-null   float64\n",
      " 20  bulk_14            2325 non-null   float64\n",
      " 21  bulk_15            2325 non-null   float64\n",
      " 22  bulk_sum           2325 non-null   float64\n",
      " 23  time_dif_sec_bulk  2325 non-null   int64  \n",
      " 24  gas                2325 non-null   float64\n",
      " 25  temperature_first  2325 non-null   float64\n",
      " 26  temperature_last   2325 non-null   float64\n",
      " 27  wire_1             2325 non-null   float64\n",
      " 28  wire_2             2325 non-null   float64\n",
      " 29  wire_3             2325 non-null   float64\n",
      " 30  wire_4             2325 non-null   float64\n",
      " 31  wire_6             2325 non-null   float64\n",
      " 32  wire_7             2325 non-null   float64\n",
      " 33  wire_8             2325 non-null   float64\n",
      " 34  wire_9             2325 non-null   float64\n",
      " 35  wire_sum           2325 non-null   float64\n",
      " 36  time_dif_sec_wire  2325 non-null   int64  \n",
      "dtypes: float64(33), int64(4)\n",
      "memory usage: 754.8 KB\n"
     ]
    },
    {
     "data": {
      "text/plain": [
       "'_ _ _ _ _ _ _ _ _ _ _ _ _ _ _ _ _ _ _ _ _'"
      ]
     },
     "metadata": {},
     "output_type": "display_data"
    }
   ],
   "source": [
    "### удаление ненужных столбцов\n",
    "df_one = df_union.drop(['begin_heat', 'end_heat', 'bulk_1_time', 'bulk_2_time', 'bulk_3_time', 'bulk_4_time', \n",
    "                        'bulk_5_time', 'bulk_6_time', 'bulk_7_time', 'bulk_8_time', 'bulk_9_time', 'bulk_10_time', \n",
    "                        'bulk_11_time', 'bulk_12_time', 'bulk_13_time', 'bulk_14_time', 'bulk_15_time', \n",
    "                        'max_time_bulk', 'min_time_bulk', 'mesaure_time_first', 'mesaure_time_last', 'wire_1_time', \n",
    "                        'wire_2_time', 'wire_3_time', 'wire_4_time', 'wire_5_time', 'wire_6_time', 'wire_7_time', \n",
    "                        'wire_8_time', 'wire_9_time', 'max_time_wire', 'min_time_wire', 'wire_5'], axis=1)\n",
    "df_info('Таблица объединенных признаков без информации о времени', df_one)"
   ]
  },
  {
   "cell_type": "code",
   "execution_count": 42,
   "metadata": {},
   "outputs": [
    {
     "data": {
      "text/plain": [
       "cnt_observations  time_heat_sec       0.798765\n",
       "active_power      reactive_power      0.922915\n",
       "                  power_diff          0.731490\n",
       "                  power_sum           0.985784\n",
       "reactive_power    active_power        0.922915\n",
       "                  power_sum           0.974482\n",
       "time_heat_sec     cnt_observations    0.798765\n",
       "power_diff        active_power        0.731490\n",
       "                  div_act_react       0.747631\n",
       "power_sum         active_power        0.985784\n",
       "                  reactive_power      0.974482\n",
       "div_act_react     power_diff          0.747631\n",
       "bulk_7            wire_4              0.740570\n",
       "bulk_9            wire_8              0.974968\n",
       "bulk_12           bulk_sum            0.867932\n",
       "bulk_sum          bulk_12             0.867932\n",
       "wire_4            bulk_7              0.740570\n",
       "wire_8            bulk_9              0.974968\n",
       "dtype: float64"
      ]
     },
     "execution_count": 42,
     "metadata": {},
     "output_type": "execute_result"
    }
   ],
   "source": [
    "### посмотрим корреляцию между всеми признаками и отберем наиболее существенные\n",
    "df_one_corr = df_one.corr().unstack()[(df_one.corr().unstack() < 1) & (abs(df_one.corr().unstack()) > 0.7)]\n",
    "df_one_corr"
   ]
  },
  {
   "cell_type": "markdown",
   "metadata": {},
   "source": [
    "**Высокая корреляция наблюдается между следующими признаками:**\n",
    "\n",
    "1.Наименее интересные, изза наличия утечки признака\n",
    "- активная и реактивная мощность (взаимосвязаны через значение полной мощности)\n",
    "- активная мощность и суммарная мощность (производный признак)\n",
    "- реактивная мощность и суммарная мощность (производный признак)\n",
    "- сыпучая добавка с номером 9 и проволочная добавка с номером 8 (низкое количество добавок в исходных данных)\n",
    "- сыпучая добавка 12 и суммарное количество добавок (производный признак)\n",
    "\n",
    "2.Более интересные так как связаны не напрямую\n",
    "- количество наблюдений и время нагрева\n",
    "- сыпучая добавка с номером 7 и проволочная добавка с номером 4"
   ]
  },
  {
   "cell_type": "code",
   "execution_count": 43,
   "metadata": {},
   "outputs": [
    {
     "data": {
      "text/html": [
       "<div>\n",
       "<style scoped>\n",
       "    .dataframe tbody tr th:only-of-type {\n",
       "        vertical-align: middle;\n",
       "    }\n",
       "\n",
       "    .dataframe tbody tr th {\n",
       "        vertical-align: top;\n",
       "    }\n",
       "\n",
       "    .dataframe thead th {\n",
       "        text-align: right;\n",
       "    }\n",
       "</style>\n",
       "<table border=\"1\" class=\"dataframe\">\n",
       "  <thead>\n",
       "    <tr style=\"text-align: right;\">\n",
       "      <th></th>\n",
       "      <th>cnt_observations</th>\n",
       "      <th>active_power</th>\n",
       "      <th>reactive_power</th>\n",
       "      <th>time_heat_sec</th>\n",
       "      <th>power_diff</th>\n",
       "      <th>power_sum</th>\n",
       "      <th>div_act_react</th>\n",
       "      <th>bulk_1</th>\n",
       "      <th>bulk_2</th>\n",
       "      <th>bulk_3</th>\n",
       "      <th>bulk_4</th>\n",
       "      <th>bulk_5</th>\n",
       "      <th>bulk_6</th>\n",
       "      <th>bulk_7</th>\n",
       "      <th>bulk_8</th>\n",
       "      <th>bulk_9</th>\n",
       "      <th>bulk_10</th>\n",
       "      <th>bulk_11</th>\n",
       "      <th>bulk_12</th>\n",
       "      <th>bulk_13</th>\n",
       "      <th>bulk_14</th>\n",
       "      <th>bulk_15</th>\n",
       "      <th>bulk_sum</th>\n",
       "      <th>time_dif_sec_bulk</th>\n",
       "      <th>gas</th>\n",
       "      <th>temperature_first</th>\n",
       "      <th>temperature_last</th>\n",
       "      <th>wire_1</th>\n",
       "      <th>wire_2</th>\n",
       "      <th>wire_3</th>\n",
       "      <th>wire_4</th>\n",
       "      <th>wire_6</th>\n",
       "      <th>wire_7</th>\n",
       "      <th>wire_8</th>\n",
       "      <th>wire_9</th>\n",
       "      <th>wire_sum</th>\n",
       "      <th>time_dif_sec_wire</th>\n",
       "    </tr>\n",
       "  </thead>\n",
       "  <tbody>\n",
       "    <tr>\n",
       "      <th>count</th>\n",
       "      <td>2325.000000</td>\n",
       "      <td>2325.000000</td>\n",
       "      <td>2325.000000</td>\n",
       "      <td>2325.000000</td>\n",
       "      <td>2325.000000</td>\n",
       "      <td>2325.000000</td>\n",
       "      <td>2325.000000</td>\n",
       "      <td>2325.000000</td>\n",
       "      <td>2325.000000</td>\n",
       "      <td>2325.000000</td>\n",
       "      <td>2325.000000</td>\n",
       "      <td>2325.000000</td>\n",
       "      <td>2325.000000</td>\n",
       "      <td>2325.000000</td>\n",
       "      <td>2325.000000</td>\n",
       "      <td>2325.000000</td>\n",
       "      <td>2325.000000</td>\n",
       "      <td>2325.000000</td>\n",
       "      <td>2325.000000</td>\n",
       "      <td>2325.000000</td>\n",
       "      <td>2325.000000</td>\n",
       "      <td>2325.000000</td>\n",
       "      <td>2325.000000</td>\n",
       "      <td>2325.000000</td>\n",
       "      <td>2325.000000</td>\n",
       "      <td>2325.000000</td>\n",
       "      <td>2325.000000</td>\n",
       "      <td>2325.000000</td>\n",
       "      <td>2325.000000</td>\n",
       "      <td>2325.000000</td>\n",
       "      <td>2325.000000</td>\n",
       "      <td>2325.000000</td>\n",
       "      <td>2325.000000</td>\n",
       "      <td>2325.000000</td>\n",
       "      <td>2325.000000</td>\n",
       "      <td>2325.000000</td>\n",
       "      <td>2325.000000</td>\n",
       "    </tr>\n",
       "    <tr>\n",
       "      <th>mean</th>\n",
       "      <td>4.696344</td>\n",
       "      <td>0.669310</td>\n",
       "      <td>0.499457</td>\n",
       "      <td>808.035269</td>\n",
       "      <td>0.169853</td>\n",
       "      <td>1.168767</td>\n",
       "      <td>1.361584</td>\n",
       "      <td>3.433548</td>\n",
       "      <td>1.424946</td>\n",
       "      <td>47.296774</td>\n",
       "      <td>37.331613</td>\n",
       "      <td>2.644731</td>\n",
       "      <td>22.468817</td>\n",
       "      <td>2.008172</td>\n",
       "      <td>0.021075</td>\n",
       "      <td>0.445591</td>\n",
       "      <td>5.061505</td>\n",
       "      <td>4.252473</td>\n",
       "      <td>208.507957</td>\n",
       "      <td>1.069247</td>\n",
       "      <td>153.971613</td>\n",
       "      <td>120.026667</td>\n",
       "      <td>609.964731</td>\n",
       "      <td>1267.028817</td>\n",
       "      <td>11.378942</td>\n",
       "      <td>1587.365161</td>\n",
       "      <td>1593.366022</td>\n",
       "      <td>102.412198</td>\n",
       "      <td>17.605637</td>\n",
       "      <td>3.240481</td>\n",
       "      <td>0.307077</td>\n",
       "      <td>0.980504</td>\n",
       "      <td>0.006371</td>\n",
       "      <td>0.311847</td>\n",
       "      <td>0.317658</td>\n",
       "      <td>125.181774</td>\n",
       "      <td>327.930753</td>\n",
       "    </tr>\n",
       "    <tr>\n",
       "      <th>std</th>\n",
       "      <td>1.605930</td>\n",
       "      <td>0.196986</td>\n",
       "      <td>0.147451</td>\n",
       "      <td>340.829330</td>\n",
       "      <td>0.083257</td>\n",
       "      <td>0.337874</td>\n",
       "      <td>0.132109</td>\n",
       "      <td>12.421994</td>\n",
       "      <td>19.098442</td>\n",
       "      <td>75.228262</td>\n",
       "      <td>58.670377</td>\n",
       "      <td>22.421296</td>\n",
       "      <td>55.831097</td>\n",
       "      <td>30.702509</td>\n",
       "      <td>1.016213</td>\n",
       "      <td>6.225965</td>\n",
       "      <td>20.934742</td>\n",
       "      <td>22.534166</td>\n",
       "      <td>157.137873</td>\n",
       "      <td>14.247231</td>\n",
       "      <td>81.398153</td>\n",
       "      <td>84.674380</td>\n",
       "      <td>287.569669</td>\n",
       "      <td>7587.597740</td>\n",
       "      <td>6.395632</td>\n",
       "      <td>23.623144</td>\n",
       "      <td>11.209581</td>\n",
       "      <td>43.535263</td>\n",
       "      <td>33.642919</td>\n",
       "      <td>27.966585</td>\n",
       "      <td>4.761821</td>\n",
       "      <td>8.700682</td>\n",
       "      <td>0.205882</td>\n",
       "      <td>4.406475</td>\n",
       "      <td>3.459510</td>\n",
       "      <td>63.685486</td>\n",
       "      <td>3994.593048</td>\n",
       "    </tr>\n",
       "    <tr>\n",
       "      <th>min</th>\n",
       "      <td>1.000000</td>\n",
       "      <td>0.186226</td>\n",
       "      <td>0.130062</td>\n",
       "      <td>57.000000</td>\n",
       "      <td>-0.376792</td>\n",
       "      <td>0.317899</td>\n",
       "      <td>0.687735</td>\n",
       "      <td>0.000000</td>\n",
       "      <td>0.000000</td>\n",
       "      <td>0.000000</td>\n",
       "      <td>0.000000</td>\n",
       "      <td>0.000000</td>\n",
       "      <td>0.000000</td>\n",
       "      <td>0.000000</td>\n",
       "      <td>0.000000</td>\n",
       "      <td>0.000000</td>\n",
       "      <td>0.000000</td>\n",
       "      <td>0.000000</td>\n",
       "      <td>0.000000</td>\n",
       "      <td>0.000000</td>\n",
       "      <td>0.000000</td>\n",
       "      <td>0.000000</td>\n",
       "      <td>19.000000</td>\n",
       "      <td>0.000000</td>\n",
       "      <td>0.008399</td>\n",
       "      <td>1519.000000</td>\n",
       "      <td>1541.000000</td>\n",
       "      <td>0.000000</td>\n",
       "      <td>0.000000</td>\n",
       "      <td>0.000000</td>\n",
       "      <td>0.000000</td>\n",
       "      <td>0.000000</td>\n",
       "      <td>0.000000</td>\n",
       "      <td>0.000000</td>\n",
       "      <td>0.000000</td>\n",
       "      <td>1.918800</td>\n",
       "      <td>0.000000</td>\n",
       "    </tr>\n",
       "    <tr>\n",
       "      <th>25%</th>\n",
       "      <td>4.000000</td>\n",
       "      <td>0.526458</td>\n",
       "      <td>0.392566</td>\n",
       "      <td>581.000000</td>\n",
       "      <td>0.118304</td>\n",
       "      <td>0.921566</td>\n",
       "      <td>1.294044</td>\n",
       "      <td>0.000000</td>\n",
       "      <td>0.000000</td>\n",
       "      <td>0.000000</td>\n",
       "      <td>0.000000</td>\n",
       "      <td>0.000000</td>\n",
       "      <td>0.000000</td>\n",
       "      <td>0.000000</td>\n",
       "      <td>0.000000</td>\n",
       "      <td>0.000000</td>\n",
       "      <td>0.000000</td>\n",
       "      <td>0.000000</td>\n",
       "      <td>105.000000</td>\n",
       "      <td>0.000000</td>\n",
       "      <td>105.000000</td>\n",
       "      <td>0.000000</td>\n",
       "      <td>440.000000</td>\n",
       "      <td>235.000000</td>\n",
       "      <td>7.282948</td>\n",
       "      <td>1571.000000</td>\n",
       "      <td>1587.000000</td>\n",
       "      <td>73.207679</td>\n",
       "      <td>0.000000</td>\n",
       "      <td>0.000000</td>\n",
       "      <td>0.000000</td>\n",
       "      <td>0.000000</td>\n",
       "      <td>0.000000</td>\n",
       "      <td>0.000000</td>\n",
       "      <td>0.000000</td>\n",
       "      <td>89.013596</td>\n",
       "      <td>0.000000</td>\n",
       "    </tr>\n",
       "    <tr>\n",
       "      <th>50%</th>\n",
       "      <td>5.000000</td>\n",
       "      <td>0.644934</td>\n",
       "      <td>0.487958</td>\n",
       "      <td>778.000000</td>\n",
       "      <td>0.163787</td>\n",
       "      <td>1.138426</td>\n",
       "      <td>1.373487</td>\n",
       "      <td>0.000000</td>\n",
       "      <td>0.000000</td>\n",
       "      <td>0.000000</td>\n",
       "      <td>0.000000</td>\n",
       "      <td>0.000000</td>\n",
       "      <td>0.000000</td>\n",
       "      <td>0.000000</td>\n",
       "      <td>0.000000</td>\n",
       "      <td>0.000000</td>\n",
       "      <td>0.000000</td>\n",
       "      <td>0.000000</td>\n",
       "      <td>206.000000</td>\n",
       "      <td>0.000000</td>\n",
       "      <td>149.000000</td>\n",
       "      <td>107.000000</td>\n",
       "      <td>609.000000</td>\n",
       "      <td>421.000000</td>\n",
       "      <td>10.100950</td>\n",
       "      <td>1587.000000</td>\n",
       "      <td>1593.000000</td>\n",
       "      <td>101.087998</td>\n",
       "      <td>0.000000</td>\n",
       "      <td>0.000000</td>\n",
       "      <td>0.000000</td>\n",
       "      <td>0.000000</td>\n",
       "      <td>0.000000</td>\n",
       "      <td>0.000000</td>\n",
       "      <td>0.000000</td>\n",
       "      <td>116.101440</td>\n",
       "      <td>0.000000</td>\n",
       "    </tr>\n",
       "    <tr>\n",
       "      <th>75%</th>\n",
       "      <td>6.000000</td>\n",
       "      <td>0.792080</td>\n",
       "      <td>0.592560</td>\n",
       "      <td>993.000000</td>\n",
       "      <td>0.219136</td>\n",
       "      <td>1.381760</td>\n",
       "      <td>1.441510</td>\n",
       "      <td>0.000000</td>\n",
       "      <td>0.000000</td>\n",
       "      <td>80.000000</td>\n",
       "      <td>77.000000</td>\n",
       "      <td>0.000000</td>\n",
       "      <td>0.000000</td>\n",
       "      <td>0.000000</td>\n",
       "      <td>0.000000</td>\n",
       "      <td>0.000000</td>\n",
       "      <td>0.000000</td>\n",
       "      <td>0.000000</td>\n",
       "      <td>283.000000</td>\n",
       "      <td>0.000000</td>\n",
       "      <td>204.000000</td>\n",
       "      <td>204.000000</td>\n",
       "      <td>796.000000</td>\n",
       "      <td>758.000000</td>\n",
       "      <td>14.217691</td>\n",
       "      <td>1603.000000</td>\n",
       "      <td>1598.000000</td>\n",
       "      <td>128.069763</td>\n",
       "      <td>23.102560</td>\n",
       "      <td>0.000000</td>\n",
       "      <td>0.000000</td>\n",
       "      <td>0.000000</td>\n",
       "      <td>0.000000</td>\n",
       "      <td>0.000000</td>\n",
       "      <td>0.000000</td>\n",
       "      <td>151.550872</td>\n",
       "      <td>79.000000</td>\n",
       "    </tr>\n",
       "    <tr>\n",
       "      <th>max</th>\n",
       "      <td>16.000000</td>\n",
       "      <td>1.421416</td>\n",
       "      <td>1.134983</td>\n",
       "      <td>4189.000000</td>\n",
       "      <td>0.522428</td>\n",
       "      <td>2.525446</td>\n",
       "      <td>1.955859</td>\n",
       "      <td>185.000000</td>\n",
       "      <td>325.000000</td>\n",
       "      <td>454.000000</td>\n",
       "      <td>281.000000</td>\n",
       "      <td>603.000000</td>\n",
       "      <td>503.000000</td>\n",
       "      <td>772.000000</td>\n",
       "      <td>49.000000</td>\n",
       "      <td>147.000000</td>\n",
       "      <td>159.000000</td>\n",
       "      <td>313.000000</td>\n",
       "      <td>1849.000000</td>\n",
       "      <td>305.000000</td>\n",
       "      <td>636.000000</td>\n",
       "      <td>405.000000</td>\n",
       "      <td>3235.000000</td>\n",
       "      <td>86198.000000</td>\n",
       "      <td>77.995040</td>\n",
       "      <td>1660.000000</td>\n",
       "      <td>1653.000000</td>\n",
       "      <td>330.314424</td>\n",
       "      <td>282.780152</td>\n",
       "      <td>385.008668</td>\n",
       "      <td>113.231044</td>\n",
       "      <td>180.454575</td>\n",
       "      <td>8.490040</td>\n",
       "      <td>102.762401</td>\n",
       "      <td>62.025600</td>\n",
       "      <td>568.777664</td>\n",
       "      <td>86046.000000</td>\n",
       "    </tr>\n",
       "  </tbody>\n",
       "</table>\n",
       "</div>"
      ],
      "text/plain": [
       "       cnt_observations  active_power  reactive_power  time_heat_sec  \\\n",
       "count       2325.000000   2325.000000     2325.000000    2325.000000   \n",
       "mean           4.696344      0.669310        0.499457     808.035269   \n",
       "std            1.605930      0.196986        0.147451     340.829330   \n",
       "min            1.000000      0.186226        0.130062      57.000000   \n",
       "25%            4.000000      0.526458        0.392566     581.000000   \n",
       "50%            5.000000      0.644934        0.487958     778.000000   \n",
       "75%            6.000000      0.792080        0.592560     993.000000   \n",
       "max           16.000000      1.421416        1.134983    4189.000000   \n",
       "\n",
       "        power_diff    power_sum  div_act_react       bulk_1       bulk_2  \\\n",
       "count  2325.000000  2325.000000    2325.000000  2325.000000  2325.000000   \n",
       "mean      0.169853     1.168767       1.361584     3.433548     1.424946   \n",
       "std       0.083257     0.337874       0.132109    12.421994    19.098442   \n",
       "min      -0.376792     0.317899       0.687735     0.000000     0.000000   \n",
       "25%       0.118304     0.921566       1.294044     0.000000     0.000000   \n",
       "50%       0.163787     1.138426       1.373487     0.000000     0.000000   \n",
       "75%       0.219136     1.381760       1.441510     0.000000     0.000000   \n",
       "max       0.522428     2.525446       1.955859   185.000000   325.000000   \n",
       "\n",
       "            bulk_3       bulk_4       bulk_5       bulk_6       bulk_7  \\\n",
       "count  2325.000000  2325.000000  2325.000000  2325.000000  2325.000000   \n",
       "mean     47.296774    37.331613     2.644731    22.468817     2.008172   \n",
       "std      75.228262    58.670377    22.421296    55.831097    30.702509   \n",
       "min       0.000000     0.000000     0.000000     0.000000     0.000000   \n",
       "25%       0.000000     0.000000     0.000000     0.000000     0.000000   \n",
       "50%       0.000000     0.000000     0.000000     0.000000     0.000000   \n",
       "75%      80.000000    77.000000     0.000000     0.000000     0.000000   \n",
       "max     454.000000   281.000000   603.000000   503.000000   772.000000   \n",
       "\n",
       "            bulk_8       bulk_9      bulk_10      bulk_11      bulk_12  \\\n",
       "count  2325.000000  2325.000000  2325.000000  2325.000000  2325.000000   \n",
       "mean      0.021075     0.445591     5.061505     4.252473   208.507957   \n",
       "std       1.016213     6.225965    20.934742    22.534166   157.137873   \n",
       "min       0.000000     0.000000     0.000000     0.000000     0.000000   \n",
       "25%       0.000000     0.000000     0.000000     0.000000   105.000000   \n",
       "50%       0.000000     0.000000     0.000000     0.000000   206.000000   \n",
       "75%       0.000000     0.000000     0.000000     0.000000   283.000000   \n",
       "max      49.000000   147.000000   159.000000   313.000000  1849.000000   \n",
       "\n",
       "           bulk_13      bulk_14      bulk_15     bulk_sum  time_dif_sec_bulk  \\\n",
       "count  2325.000000  2325.000000  2325.000000  2325.000000        2325.000000   \n",
       "mean      1.069247   153.971613   120.026667   609.964731        1267.028817   \n",
       "std      14.247231    81.398153    84.674380   287.569669        7587.597740   \n",
       "min       0.000000     0.000000     0.000000    19.000000           0.000000   \n",
       "25%       0.000000   105.000000     0.000000   440.000000         235.000000   \n",
       "50%       0.000000   149.000000   107.000000   609.000000         421.000000   \n",
       "75%       0.000000   204.000000   204.000000   796.000000         758.000000   \n",
       "max     305.000000   636.000000   405.000000  3235.000000       86198.000000   \n",
       "\n",
       "               gas  temperature_first  temperature_last       wire_1  \\\n",
       "count  2325.000000        2325.000000       2325.000000  2325.000000   \n",
       "mean     11.378942        1587.365161       1593.366022   102.412198   \n",
       "std       6.395632          23.623144         11.209581    43.535263   \n",
       "min       0.008399        1519.000000       1541.000000     0.000000   \n",
       "25%       7.282948        1571.000000       1587.000000    73.207679   \n",
       "50%      10.100950        1587.000000       1593.000000   101.087998   \n",
       "75%      14.217691        1603.000000       1598.000000   128.069763   \n",
       "max      77.995040        1660.000000       1653.000000   330.314424   \n",
       "\n",
       "            wire_2       wire_3       wire_4       wire_6       wire_7  \\\n",
       "count  2325.000000  2325.000000  2325.000000  2325.000000  2325.000000   \n",
       "mean     17.605637     3.240481     0.307077     0.980504     0.006371   \n",
       "std      33.642919    27.966585     4.761821     8.700682     0.205882   \n",
       "min       0.000000     0.000000     0.000000     0.000000     0.000000   \n",
       "25%       0.000000     0.000000     0.000000     0.000000     0.000000   \n",
       "50%       0.000000     0.000000     0.000000     0.000000     0.000000   \n",
       "75%      23.102560     0.000000     0.000000     0.000000     0.000000   \n",
       "max     282.780152   385.008668   113.231044   180.454575     8.490040   \n",
       "\n",
       "            wire_8       wire_9     wire_sum  time_dif_sec_wire  \n",
       "count  2325.000000  2325.000000  2325.000000        2325.000000  \n",
       "mean      0.311847     0.317658   125.181774         327.930753  \n",
       "std       4.406475     3.459510    63.685486        3994.593048  \n",
       "min       0.000000     0.000000     1.918800           0.000000  \n",
       "25%       0.000000     0.000000    89.013596           0.000000  \n",
       "50%       0.000000     0.000000   116.101440           0.000000  \n",
       "75%       0.000000     0.000000   151.550872          79.000000  \n",
       "max     102.762401    62.025600   568.777664       86046.000000  "
      ]
     },
     "execution_count": 43,
     "metadata": {},
     "output_type": "execute_result"
    }
   ],
   "source": [
    "### посмотрим общие данные по признакам\n",
    "df_one.describe()"
   ]
  },
  {
   "cell_type": "code",
   "execution_count": 44,
   "metadata": {},
   "outputs": [
    {
     "data": {
      "image/png": "[encoded data removed]",
      "text/plain": [
       "<Figure size 1080x432 with 1 Axes>"
      ]
     },
     "metadata": {
      "needs_background": "light"
     },
     "output_type": "display_data"
    }
   ],
   "source": [
    "## построим графики распределения признаков\n",
    "plt.figure(figsize=(15,6))\n",
    "ax_7 = sns.boxplot(data=df_one[['active_power', 'reactive_power', 'power_diff', \n",
    "                                'power_sum', 'div_act_react']], orient='horizontal')\n",
    "ax_7.set_xlabel('Значение мощности')\n",
    "plt.title('График распределения признаков мощности')\n",
    "plt.grid()\n",
    "plt.show()"
   ]
  },
  {
   "cell_type": "code",
   "execution_count": 45,
   "metadata": {},
   "outputs": [
    {
     "data": {
      "image/png": "[encoded data removed]",
      "text/plain": [
       "<Figure size 1080x144 with 1 Axes>"
      ]
     },
     "metadata": {
      "needs_background": "light"
     },
     "output_type": "display_data"
    }
   ],
   "source": [
    "## построим графики распределения признаков\n",
    "plt.figure(figsize=(15,2))\n",
    "ax_8 = sns.boxplot(data=df_one[['cnt_observations']], orient='horizontal')\n",
    "ax_8.set_xlabel('Количество наблюдений')\n",
    "plt.title('График распределения количества наблюдений')\n",
    "plt.grid()\n",
    "plt.show()"
   ]
  },
  {
   "cell_type": "code",
   "execution_count": 46,
   "metadata": {},
   "outputs": [
    {
     "data": {
      "image/png": "[encoded data removed]",
      "text/plain": [
       "<Figure size 1080x144 with 1 Axes>"
      ]
     },
     "metadata": {
      "needs_background": "light"
     },
     "output_type": "display_data"
    }
   ],
   "source": [
    "## построим графики распределения признаков\n",
    "plt.figure(figsize=(15,2))\n",
    "ax_9 = sns.boxplot(data=df_one[['gas']], orient='horizontal')\n",
    "ax_9.set_xlabel('Количество газа')\n",
    "plt.title('График распределения подачи газа')\n",
    "plt.grid()\n",
    "plt.show()"
   ]
  },
  {
   "cell_type": "code",
   "execution_count": 47,
   "metadata": {},
   "outputs": [
    {
     "data": {
      "image/png": "[encoded data removed]",
      "text/plain": [
       "<Figure size 1080x432 with 1 Axes>"
      ]
     },
     "metadata": {
      "needs_background": "light"
     },
     "output_type": "display_data"
    }
   ],
   "source": [
    "## построим графики распределения признаков\n",
    "plt.figure(figsize=(15,6))\n",
    "ax_10 = sns.boxplot(data=df_one[['bulk_1', 'bulk_2', 'bulk_3', 'bulk_4', 'bulk_5', 'bulk_6', \n",
    "                                'bulk_7', 'bulk_8', 'bulk_9', 'bulk_10', 'bulk_11', 'bulk_12', \n",
    "                                'bulk_13', 'bulk_14', 'bulk_15', 'bulk_sum']], orient='horizontal')\n",
    "ax_10.set_xlabel('Количество сыпучих добавок')\n",
    "plt.title('График распределения сыпучих добавок')\n",
    "plt.grid()\n",
    "plt.show()"
   ]
  },
  {
   "cell_type": "code",
   "execution_count": 48,
   "metadata": {},
   "outputs": [
    {
     "data": {
      "image/png": "[encoded data removed]",
      "text/plain": [
       "<Figure size 1080x432 with 1 Axes>"
      ]
     },
     "metadata": {
      "needs_background": "light"
     },
     "output_type": "display_data"
    }
   ],
   "source": [
    "## построим графики распределения признаков\n",
    "plt.figure(figsize=(15,6))\n",
    "ax_11 = sns.boxplot(data=df_one[['wire_1', 'wire_2', 'wire_3', 'wire_4', 'wire_6', 'wire_7', \n",
    "                                'wire_8', 'wire_9', 'wire_sum']], orient='horizontal')\n",
    "ax_11.set_xlabel('Количество проволочных добавок')\n",
    "plt.title('График распределения проволочных добавок')\n",
    "plt.grid()\n",
    "plt.show()"
   ]
  },
  {
   "cell_type": "code",
   "execution_count": 49,
   "metadata": {},
   "outputs": [
    {
     "data": {
      "image/png": "[encoded data removed]",
      "text/plain": [
       "<Figure size 1080x144 with 1 Axes>"
      ]
     },
     "metadata": {
      "needs_background": "light"
     },
     "output_type": "display_data"
    }
   ],
   "source": [
    "## построим графики распределения признаков\n",
    "plt.figure(figsize=(15,2))\n",
    "ax_12 = sns.boxplot(data=df_one[['time_heat_sec']], orient='horizontal')\n",
    "ax_12.set_xlabel('Значение времени в секундах')\n",
    "plt.title('График распределения времени нагрева')\n",
    "plt.grid()\n",
    "plt.show()"
   ]
  },
  {
   "cell_type": "code",
   "execution_count": 50,
   "metadata": {},
   "outputs": [
    {
     "data": {
      "image/png": "[encoded data removed]",
      "text/plain": [
       "<Figure size 1080x288 with 1 Axes>"
      ]
     },
     "metadata": {
      "needs_background": "light"
     },
     "output_type": "display_data"
    }
   ],
   "source": [
    "## построим графики распределения признаков\n",
    "plt.figure(figsize=(15,4))\n",
    "ax_13 = sns.boxplot(data=df_one[['time_dif_sec_bulk', 'time_dif_sec_wire']], orient='horizontal')\n",
    "ax_13.set_xlabel('Значение времени в секундах')\n",
    "plt.title('График распределения времени подачи сыпучих и проволочных добавок')\n",
    "plt.grid()\n",
    "plt.show()"
   ]
  },
  {
   "cell_type": "code",
   "execution_count": 51,
   "metadata": {},
   "outputs": [
    {
     "data": {
      "image/png": "[encoded data removed]",
      "text/plain": [
       "<Figure size 1080x432 with 1 Axes>"
      ]
     },
     "metadata": {
      "needs_background": "light"
     },
     "output_type": "display_data"
    }
   ],
   "source": [
    "## построим графики распределения признаков\n",
    "plt.figure(figsize=(15,6))\n",
    "ax_14 = sns.boxplot(data=df_one[['temperature_first', 'temperature_last']], orient='horizontal')\n",
    "ax_14.set_xlabel('Значение температуры')\n",
    "plt.title('График распределения начальной и конечной температуры')\n",
    "plt.grid()\n",
    "plt.show()"
   ]
  },
  {
   "cell_type": "markdown",
   "metadata": {},
   "source": [
    "#### Вывод"
   ]
  },
  {
   "cell_type": "markdown",
   "metadata": {},
   "source": [
    "- В объединенной таблице признаков пропуски отсутствуют.\n",
    "- Высокая корреляция на уровне 0.9 наблюдается между признаками, которые или образованы из других признаков, либо имеют схожие черты как минимальные данные об определенных добавках.\n",
    "- Проволочная добавка под номером 5 удалена, так как после фильтрации единственная партия с данной добавкой была удалена."
   ]
  },
  {
   "cell_type": "markdown",
   "metadata": {},
   "source": [
    "## Обучение моделей"
   ]
  },
  {
   "cell_type": "markdown",
   "metadata": {},
   "source": [
    "### Подготовка признаков перед обучением"
   ]
  },
  {
   "cell_type": "code",
   "execution_count": 52,
   "metadata": {},
   "outputs": [
    {
     "data": {
      "text/plain": [
       "'features_train shape: (1743, 36)'"
      ]
     },
     "metadata": {},
     "output_type": "display_data"
    },
    {
     "data": {
      "text/plain": [
       "'target_train shape: (1743,)'"
      ]
     },
     "metadata": {},
     "output_type": "display_data"
    },
    {
     "data": {
      "text/plain": [
       "'features_test shape: (582, 36)'"
      ]
     },
     "metadata": {},
     "output_type": "display_data"
    },
    {
     "data": {
      "text/plain": [
       "'target_test shape: (582,)'"
      ]
     },
     "metadata": {},
     "output_type": "display_data"
    }
   ],
   "source": [
    "### разделим данные на обучающую и тестовую выборки в соотношении 1 к 4\n",
    "target = df_one['temperature_last']\n",
    "features = df_one.drop(['temperature_last'], axis=1)\n",
    "### поделим на выборки\n",
    "features_train, features_test, target_train, target_test = train_test_split(features, target, test_size=0.25, \n",
    "                                                                            random_state=RANDOM_STATE)\n",
    "### проверим размерности выборок\n",
    "display(f'features_train shape: {features_train.shape}')\n",
    "display(f'target_train shape: {target_train.shape}')\n",
    "display(f'features_test shape: {features_test.shape}')\n",
    "display(f'target_test shape: {target_test.shape}')"
   ]
  },
  {
   "cell_type": "code",
   "execution_count": 53,
   "metadata": {},
   "outputs": [
    {
     "data": {
      "text/plain": [
       "'features_train shape: (1743, 36)'"
      ]
     },
     "metadata": {},
     "output_type": "display_data"
    },
    {
     "data": {
      "text/plain": [
       "'features_test shape: (582, 36)'"
      ]
     },
     "metadata": {},
     "output_type": "display_data"
    }
   ],
   "source": [
    "### масштабирование признаков\n",
    "scaler = StandardScaler()\n",
    "scaler.fit(features_train) \n",
    "### преобразуем выборки\n",
    "features_train = scaler.transform(features_train)                               \n",
    "features_test = scaler.transform(features_test) \n",
    "### уберем предупреждение `SettingWithCopy`\n",
    "pd.options.mode.chained_assignment = None\n",
    "### получим заголовки для признаков и скорректируем преобразованные выборки\n",
    "features_train = pd.DataFrame(features_train, columns = features.columns, index=target_train.index)                                \n",
    "features_test = pd.DataFrame(features_test, columns = features.columns, index=target_test.index)\n",
    "### проверим размерности выборок\n",
    "display(f'features_train shape: {features_train.shape}')\n",
    "display(f'features_test shape: {features_test.shape}')"
   ]
  },
  {
   "cell_type": "markdown",
   "metadata": {},
   "source": [
    "### Модель DummyRegressor"
   ]
  },
  {
   "cell_type": "code",
   "execution_count": 54,
   "metadata": {
    "scrolled": true
   },
   "outputs": [
    {
     "name": "stdout",
     "output_type": "stream",
     "text": [
      "Fitting 10 folds for each of 2 candidates, totalling 20 fits\n",
      "[CV] END ....................................strategy=median; total time=   0.0s\n",
      "[CV] END ....................................strategy=median; total time=   0.0s\n",
      "[CV] END ....................................strategy=median; total time=   0.0s\n",
      "[CV] END ....................................strategy=median; total time=   0.0s\n",
      "[CV] END ....................................strategy=median; total time=   0.0s\n",
      "[CV] END ....................................strategy=median; total time=   0.0s\n",
      "[CV] END ....................................strategy=median; total time=   0.0s\n",
      "[CV] END ....................................strategy=median; total time=   0.0s\n",
      "[CV] END ....................................strategy=median; total time=   0.0s\n",
      "[CV] END ....................................strategy=median; total time=   0.0s\n",
      "[CV] END ......................................strategy=mean; total time=   0.0s\n",
      "[CV] END ......................................strategy=mean; total time=   0.0s\n",
      "[CV] END ......................................strategy=mean; total time=   0.0s\n",
      "[CV] END ......................................strategy=mean; total time=   0.0s\n",
      "[CV] END ......................................strategy=mean; total time=   0.0s\n",
      "[CV] END ......................................strategy=mean; total time=   0.0s\n",
      "[CV] END ......................................strategy=mean; total time=   0.0s\n",
      "[CV] END ......................................strategy=mean; total time=   0.0s\n",
      "[CV] END ......................................strategy=mean; total time=   0.0s\n",
      "[CV] END ......................................strategy=mean; total time=   0.0s\n"
     ]
    },
    {
     "data": {
      "text/plain": [
       "8.138623973727423"
      ]
     },
     "metadata": {},
     "output_type": "display_data"
    },
    {
     "data": {
      "text/plain": [
       "{'strategy': 'median'}"
      ]
     },
     "metadata": {},
     "output_type": "display_data"
    },
    {
     "name": "stdout",
     "output_type": "stream",
     "text": [
      "CPU times: user 37.6 ms, sys: 125 µs, total: 37.7 ms\n",
      "Wall time: 35.9 ms\n"
     ]
    }
   ],
   "source": [
    "%%time\n",
    "start_0 = t.time()\n",
    "### обучим модель DummyRegressor с помощью gridsearch для расчета MAE\n",
    "# параметры по сетке\n",
    "parameters_0 = {'strategy': ['median', 'mean']}\n",
    "dum_reg = DummyRegressor()\n",
    "clf_0 = GridSearchCV(dum_reg, parameters_0, scoring='neg_mean_absolute_error', cv=10, n_jobs=-1, verbose=2)\n",
    "clf_0.fit(features_train, target_train)\n",
    "score_0 = abs(clf_0.best_score_)\n",
    "display(score_0)\n",
    "display(clf_0.best_params_)\n",
    "end_0 = t.time() - start_0"
   ]
  },
  {
   "cell_type": "markdown",
   "metadata": {},
   "source": [
    "### Модель LinearRegression"
   ]
  },
  {
   "cell_type": "code",
   "execution_count": 67,
   "metadata": {},
   "outputs": [
    {
     "data": {
      "text/html": [
       "<div>\n",
       "<style scoped>\n",
       "    .dataframe tbody tr th:only-of-type {\n",
       "        vertical-align: middle;\n",
       "    }\n",
       "\n",
       "    .dataframe tbody tr th {\n",
       "        vertical-align: top;\n",
       "    }\n",
       "\n",
       "    .dataframe thead th {\n",
       "        text-align: right;\n",
       "    }\n",
       "</style>\n",
       "<table border=\"1\" class=\"dataframe\">\n",
       "  <thead>\n",
       "    <tr style=\"text-align: right;\">\n",
       "      <th></th>\n",
       "      <th>active_power</th>\n",
       "      <th>time_heat_sec</th>\n",
       "      <th>div_act_react</th>\n",
       "      <th>bulk_1</th>\n",
       "      <th>bulk_2</th>\n",
       "      <th>bulk_3</th>\n",
       "      <th>bulk_4</th>\n",
       "      <th>bulk_5</th>\n",
       "      <th>bulk_6</th>\n",
       "      <th>bulk_8</th>\n",
       "      <th>bulk_10</th>\n",
       "      <th>bulk_11</th>\n",
       "      <th>bulk_12</th>\n",
       "      <th>bulk_13</th>\n",
       "      <th>bulk_14</th>\n",
       "      <th>bulk_15</th>\n",
       "      <th>time_dif_sec_bulk</th>\n",
       "      <th>gas</th>\n",
       "      <th>temperature_first</th>\n",
       "      <th>wire_1</th>\n",
       "      <th>wire_2</th>\n",
       "      <th>wire_3</th>\n",
       "      <th>wire_4</th>\n",
       "      <th>wire_6</th>\n",
       "      <th>wire_7</th>\n",
       "      <th>wire_8</th>\n",
       "      <th>wire_9</th>\n",
       "      <th>wire_sum</th>\n",
       "      <th>time_dif_sec_wire</th>\n",
       "    </tr>\n",
       "    <tr>\n",
       "      <th>key</th>\n",
       "      <th></th>\n",
       "      <th></th>\n",
       "      <th></th>\n",
       "      <th></th>\n",
       "      <th></th>\n",
       "      <th></th>\n",
       "      <th></th>\n",
       "      <th></th>\n",
       "      <th></th>\n",
       "      <th></th>\n",
       "      <th></th>\n",
       "      <th></th>\n",
       "      <th></th>\n",
       "      <th></th>\n",
       "      <th></th>\n",
       "      <th></th>\n",
       "      <th></th>\n",
       "      <th></th>\n",
       "      <th></th>\n",
       "      <th></th>\n",
       "      <th></th>\n",
       "      <th></th>\n",
       "      <th></th>\n",
       "      <th></th>\n",
       "      <th></th>\n",
       "      <th></th>\n",
       "      <th></th>\n",
       "      <th></th>\n",
       "      <th></th>\n",
       "    </tr>\n",
       "  </thead>\n",
       "  <tbody>\n",
       "    <tr>\n",
       "      <th>170</th>\n",
       "      <td>-0.244338</td>\n",
       "      <td>-0.050177</td>\n",
       "      <td>1.661199</td>\n",
       "      <td>-0.268828</td>\n",
       "      <td>-0.075504</td>\n",
       "      <td>1.990054</td>\n",
       "      <td>-0.633151</td>\n",
       "      <td>-0.131204</td>\n",
       "      <td>5.631237</td>\n",
       "      <td>-0.023959</td>\n",
       "      <td>-0.248116</td>\n",
       "      <td>-0.192524</td>\n",
       "      <td>-0.633274</td>\n",
       "      <td>-0.07639</td>\n",
       "      <td>1.449228</td>\n",
       "      <td>-1.418014</td>\n",
       "      <td>-0.031411</td>\n",
       "      <td>0.942575</td>\n",
       "      <td>0.068985</td>\n",
       "      <td>0.411922</td>\n",
       "      <td>1.944157</td>\n",
       "      <td>-0.11813</td>\n",
       "      <td>-0.064304</td>\n",
       "      <td>-0.116706</td>\n",
       "      <td>-0.033398</td>\n",
       "      <td>-0.081822</td>\n",
       "      <td>-0.086167</td>\n",
       "      <td>1.215735</td>\n",
       "      <td>0.160018</td>\n",
       "    </tr>\n",
       "    <tr>\n",
       "      <th>1142</th>\n",
       "      <td>-1.292643</td>\n",
       "      <td>-0.668167</td>\n",
       "      <td>0.127864</td>\n",
       "      <td>-0.268828</td>\n",
       "      <td>-0.075504</td>\n",
       "      <td>2.335438</td>\n",
       "      <td>-0.633151</td>\n",
       "      <td>-0.131204</td>\n",
       "      <td>-0.409159</td>\n",
       "      <td>-0.023959</td>\n",
       "      <td>-0.248116</td>\n",
       "      <td>-0.192524</td>\n",
       "      <td>-0.321183</td>\n",
       "      <td>-0.07639</td>\n",
       "      <td>-0.439751</td>\n",
       "      <td>-0.201746</td>\n",
       "      <td>9.847339</td>\n",
       "      <td>2.887817</td>\n",
       "      <td>0.784705</td>\n",
       "      <td>-0.222401</td>\n",
       "      <td>-0.527455</td>\n",
       "      <td>-0.11813</td>\n",
       "      <td>-0.064304</td>\n",
       "      <td>-0.116706</td>\n",
       "      <td>-0.033398</td>\n",
       "      <td>-0.081822</td>\n",
       "      <td>-0.086167</td>\n",
       "      <td>-0.513007</td>\n",
       "      <td>-0.082537</td>\n",
       "    </tr>\n",
       "    <tr>\n",
       "      <th>548</th>\n",
       "      <td>1.684358</td>\n",
       "      <td>0.898775</td>\n",
       "      <td>1.826674</td>\n",
       "      <td>-0.268828</td>\n",
       "      <td>-0.075504</td>\n",
       "      <td>-0.055682</td>\n",
       "      <td>-0.633151</td>\n",
       "      <td>-0.131204</td>\n",
       "      <td>1.126828</td>\n",
       "      <td>-0.023959</td>\n",
       "      <td>-0.248116</td>\n",
       "      <td>-0.192524</td>\n",
       "      <td>-0.639643</td>\n",
       "      <td>-0.07639</td>\n",
       "      <td>1.290797</td>\n",
       "      <td>-1.418014</td>\n",
       "      <td>-0.059145</td>\n",
       "      <td>0.717900</td>\n",
       "      <td>-2.457085</td>\n",
       "      <td>-0.961313</td>\n",
       "      <td>-0.527455</td>\n",
       "      <td>-0.11813</td>\n",
       "      <td>-0.064304</td>\n",
       "      <td>-0.116706</td>\n",
       "      <td>-0.033398</td>\n",
       "      <td>-0.081822</td>\n",
       "      <td>-0.086167</td>\n",
       "      <td>-1.008245</td>\n",
       "      <td>-0.082537</td>\n",
       "    </tr>\n",
       "  </tbody>\n",
       "</table>\n",
       "</div>"
      ],
      "text/plain": [
       "      active_power  time_heat_sec  div_act_react    bulk_1    bulk_2  \\\n",
       "key                                                                    \n",
       "170      -0.244338      -0.050177       1.661199 -0.268828 -0.075504   \n",
       "1142     -1.292643      -0.668167       0.127864 -0.268828 -0.075504   \n",
       "548       1.684358       0.898775       1.826674 -0.268828 -0.075504   \n",
       "\n",
       "        bulk_3    bulk_4    bulk_5    bulk_6    bulk_8   bulk_10   bulk_11  \\\n",
       "key                                                                          \n",
       "170   1.990054 -0.633151 -0.131204  5.631237 -0.023959 -0.248116 -0.192524   \n",
       "1142  2.335438 -0.633151 -0.131204 -0.409159 -0.023959 -0.248116 -0.192524   \n",
       "548  -0.055682 -0.633151 -0.131204  1.126828 -0.023959 -0.248116 -0.192524   \n",
       "\n",
       "       bulk_12  bulk_13   bulk_14   bulk_15  time_dif_sec_bulk       gas  \\\n",
       "key                                                                        \n",
       "170  -0.633274 -0.07639  1.449228 -1.418014          -0.031411  0.942575   \n",
       "1142 -0.321183 -0.07639 -0.439751 -0.201746           9.847339  2.887817   \n",
       "548  -0.639643 -0.07639  1.290797 -1.418014          -0.059145  0.717900   \n",
       "\n",
       "      temperature_first    wire_1    wire_2   wire_3    wire_4    wire_6  \\\n",
       "key                                                                        \n",
       "170            0.068985  0.411922  1.944157 -0.11813 -0.064304 -0.116706   \n",
       "1142           0.784705 -0.222401 -0.527455 -0.11813 -0.064304 -0.116706   \n",
       "548           -2.457085 -0.961313 -0.527455 -0.11813 -0.064304 -0.116706   \n",
       "\n",
       "        wire_7    wire_8    wire_9  wire_sum  time_dif_sec_wire  \n",
       "key                                                              \n",
       "170  -0.033398 -0.081822 -0.086167  1.215735           0.160018  \n",
       "1142 -0.033398 -0.081822 -0.086167 -0.513007          -0.082537  \n",
       "548  -0.033398 -0.081822 -0.086167 -1.008245          -0.082537  "
      ]
     },
     "execution_count": 67,
     "metadata": {},
     "output_type": "execute_result"
    }
   ],
   "source": [
    "### удалим высокороррелирующие признаки для линейной модели\n",
    "features_train_linear = features_train.drop(['cnt_observations', 'reactive_power', 'power_diff',\n",
    "                                             'power_sum', 'bulk_7', 'bulk_9', 'bulk_sum'], axis=1)\n",
    "features_train_linear.head(3)"
   ]
  },
  {
   "cell_type": "code",
   "execution_count": 68,
   "metadata": {
    "scrolled": true
   },
   "outputs": [
    {
     "name": "stdout",
     "output_type": "stream",
     "text": [
      "Fitting 10 folds for each of 4 candidates, totalling 40 fits\n",
      "[CV] END ..................fit_intercept=True, positive=True; total time=   0.0s\n",
      "[CV] END ..................fit_intercept=True, positive=True; total time=   0.0s\n",
      "[CV] END ..................fit_intercept=True, positive=True; total time=   0.0s\n",
      "[CV] END ..................fit_intercept=True, positive=True; total time=   0.0s\n",
      "[CV] END ..................fit_intercept=True, positive=True; total time=   0.0s\n",
      "[CV] END ..................fit_intercept=True, positive=True; total time=   0.0s\n",
      "[CV] END ..................fit_intercept=True, positive=True; total time=   0.0s\n",
      "[CV] END ..................fit_intercept=True, positive=True; total time=   0.0s\n",
      "[CV] END ..................fit_intercept=True, positive=True; total time=   0.0s\n",
      "[CV] END ..................fit_intercept=True, positive=True; total time=   0.0s\n",
      "[CV] END .................fit_intercept=True, positive=False; total time=   0.0s\n",
      "[CV] END .................fit_intercept=True, positive=False; total time=   0.0s\n",
      "[CV] END .................fit_intercept=True, positive=False; total time=   0.1s\n",
      "[CV] END .................fit_intercept=True, positive=False; total time=   0.0s\n",
      "[CV] END .................fit_intercept=True, positive=False; total time=   0.0s\n",
      "[CV] END .................fit_intercept=True, positive=False; total time=   0.1s\n",
      "[CV] END .................fit_intercept=True, positive=False; total time=   0.0s\n",
      "[CV] END .................fit_intercept=True, positive=False; total time=   0.1s\n",
      "[CV] END .................fit_intercept=True, positive=False; total time=   0.0s\n",
      "[CV] END .................fit_intercept=True, positive=False; total time=   0.0s\n",
      "[CV] END .................fit_intercept=False, positive=True; total time=   0.0s\n",
      "[CV] END .................fit_intercept=False, positive=True; total time=   0.1s\n",
      "[CV] END .................fit_intercept=False, positive=True; total time=   0.0s\n",
      "[CV] END .................fit_intercept=False, positive=True; total time=   0.0s\n",
      "[CV] END .................fit_intercept=False, positive=True; total time=   0.0s\n",
      "[CV] END .................fit_intercept=False, positive=True; total time=   0.0s\n",
      "[CV] END .................fit_intercept=False, positive=True; total time=   0.0s\n",
      "[CV] END .................fit_intercept=False, positive=True; total time=   0.0s\n",
      "[CV] END .................fit_intercept=False, positive=True; total time=   0.0s\n",
      "[CV] END .................fit_intercept=False, positive=True; total time=   0.0s\n",
      "[CV] END ................fit_intercept=False, positive=False; total time=   0.0s\n",
      "[CV] END ................fit_intercept=False, positive=False; total time=   0.1s\n",
      "[CV] END ................fit_intercept=False, positive=False; total time=   0.2s\n",
      "[CV] END ................fit_intercept=False, positive=False; total time=   0.1s\n",
      "[CV] END ................fit_intercept=False, positive=False; total time=   0.1s\n",
      "[CV] END ................fit_intercept=False, positive=False; total time=   0.1s\n",
      "[CV] END ................fit_intercept=False, positive=False; total time=   0.1s\n",
      "[CV] END ................fit_intercept=False, positive=False; total time=   0.1s\n",
      "[CV] END ................fit_intercept=False, positive=False; total time=   0.1s\n",
      "[CV] END ................fit_intercept=False, positive=False; total time=   0.1s\n"
     ]
    },
    {
     "data": {
      "text/plain": [
       "6.5883385678144375"
      ]
     },
     "metadata": {},
     "output_type": "display_data"
    },
    {
     "data": {
      "text/plain": [
       "{'fit_intercept': True, 'positive': True}"
      ]
     },
     "metadata": {},
     "output_type": "display_data"
    },
    {
     "name": "stdout",
     "output_type": "stream",
     "text": [
      "CPU times: user 754 ms, sys: 877 ms, total: 1.63 s\n",
      "Wall time: 1.64 s\n"
     ]
    }
   ],
   "source": [
    "%%time\n",
    "start_1 = t.time()\n",
    "### обучим модель LinearRegression с помощью gridsearch для расчета MAE\n",
    "# параметры по сетке\n",
    "parameters_1 = {\n",
    "    'fit_intercept': [True, False],\n",
    "    'positive': [True, False]\n",
    "}\n",
    "lin_reg = LinearRegression()\n",
    "clf_1 = GridSearchCV(lin_reg, parameters_1, scoring='neg_mean_absolute_error', cv=10, n_jobs=-1, verbose=2)\n",
    "clf_1.fit(features_train_linear, target_train)\n",
    "score_1 = abs(clf_1.best_score_)\n",
    "display(score_1)\n",
    "display(clf_1.best_params_)\n",
    "end_1 = t.time() - start_1"
   ]
  },
  {
   "cell_type": "markdown",
   "metadata": {},
   "source": [
    "### Модель RandomForestRegressor"
   ]
  },
  {
   "cell_type": "code",
   "execution_count": 56,
   "metadata": {
    "scrolled": true
   },
   "outputs": [
    {
     "name": "stdout",
     "output_type": "stream",
     "text": [
      "Fitting 10 folds for each of 8 candidates, totalling 80 fits\n",
      "[CV] END ...max_depth=5, min_samples_leaf=6, n_estimators=10; total time=   0.2s\n",
      "[CV] END ...max_depth=5, min_samples_leaf=6, n_estimators=10; total time=   0.1s\n",
      "[CV] END ...max_depth=5, min_samples_leaf=6, n_estimators=10; total time=   0.1s\n",
      "[CV] END ...max_depth=5, min_samples_leaf=6, n_estimators=10; total time=   0.1s\n",
      "[CV] END ...max_depth=5, min_samples_leaf=6, n_estimators=10; total time=   0.1s\n",
      "[CV] END ...max_depth=5, min_samples_leaf=6, n_estimators=10; total time=   0.1s\n",
      "[CV] END ...max_depth=5, min_samples_leaf=6, n_estimators=10; total time=   0.1s\n",
      "[CV] END ...max_depth=5, min_samples_leaf=6, n_estimators=10; total time=   0.1s\n",
      "[CV] END ...max_depth=5, min_samples_leaf=6, n_estimators=10; total time=   0.1s\n",
      "[CV] END ...max_depth=5, min_samples_leaf=6, n_estimators=10; total time=   0.1s\n",
      "[CV] END ...max_depth=5, min_samples_leaf=6, n_estimators=30; total time=   0.2s\n",
      "[CV] END ...max_depth=5, min_samples_leaf=6, n_estimators=30; total time=   0.2s\n",
      "[CV] END ...max_depth=5, min_samples_leaf=6, n_estimators=30; total time=   0.2s\n",
      "[CV] END ...max_depth=5, min_samples_leaf=6, n_estimators=30; total time=   0.2s\n",
      "[CV] END ...max_depth=5, min_samples_leaf=6, n_estimators=30; total time=   0.2s\n",
      "[CV] END ...max_depth=5, min_samples_leaf=6, n_estimators=30; total time=   0.2s\n",
      "[CV] END ...max_depth=5, min_samples_leaf=6, n_estimators=30; total time=   0.2s\n",
      "[CV] END ...max_depth=5, min_samples_leaf=6, n_estimators=30; total time=   0.2s\n",
      "[CV] END ...max_depth=5, min_samples_leaf=6, n_estimators=30; total time=   0.2s\n",
      "[CV] END ...max_depth=5, min_samples_leaf=6, n_estimators=30; total time=   0.2s\n",
      "[CV] END ...max_depth=5, min_samples_leaf=7, n_estimators=10; total time=   0.1s\n",
      "[CV] END ...max_depth=5, min_samples_leaf=7, n_estimators=10; total time=   0.1s\n",
      "[CV] END ...max_depth=5, min_samples_leaf=7, n_estimators=10; total time=   0.1s\n",
      "[CV] END ...max_depth=5, min_samples_leaf=7, n_estimators=10; total time=   0.1s\n",
      "[CV] END ...max_depth=5, min_samples_leaf=7, n_estimators=10; total time=   0.1s\n",
      "[CV] END ...max_depth=5, min_samples_leaf=7, n_estimators=10; total time=   0.1s\n",
      "[CV] END ...max_depth=5, min_samples_leaf=7, n_estimators=10; total time=   0.1s\n",
      "[CV] END ...max_depth=5, min_samples_leaf=7, n_estimators=10; total time=   0.1s\n",
      "[CV] END ...max_depth=5, min_samples_leaf=7, n_estimators=10; total time=   0.1s\n",
      "[CV] END ...max_depth=5, min_samples_leaf=7, n_estimators=10; total time=   0.1s\n",
      "[CV] END ...max_depth=5, min_samples_leaf=7, n_estimators=30; total time=   0.2s\n",
      "[CV] END ...max_depth=5, min_samples_leaf=7, n_estimators=30; total time=   0.2s\n",
      "[CV] END ...max_depth=5, min_samples_leaf=7, n_estimators=30; total time=   0.2s\n",
      "[CV] END ...max_depth=5, min_samples_leaf=7, n_estimators=30; total time=   0.2s\n",
      "[CV] END ...max_depth=5, min_samples_leaf=7, n_estimators=30; total time=   0.2s\n",
      "[CV] END ...max_depth=5, min_samples_leaf=7, n_estimators=30; total time=   0.2s\n",
      "[CV] END ...max_depth=5, min_samples_leaf=7, n_estimators=30; total time=   0.2s\n",
      "[CV] END ...max_depth=5, min_samples_leaf=7, n_estimators=30; total time=   0.2s\n",
      "[CV] END ...max_depth=5, min_samples_leaf=7, n_estimators=30; total time=   0.2s\n",
      "[CV] END ...max_depth=5, min_samples_leaf=7, n_estimators=30; total time=   0.2s\n",
      "[CV] END ..max_depth=10, min_samples_leaf=6, n_estimators=10; total time=   0.1s\n",
      "[CV] END ..max_depth=10, min_samples_leaf=6, n_estimators=10; total time=   0.1s\n",
      "[CV] END ..max_depth=10, min_samples_leaf=6, n_estimators=10; total time=   0.1s\n",
      "[CV] END ..max_depth=10, min_samples_leaf=6, n_estimators=10; total time=   0.1s\n",
      "[CV] END ..max_depth=10, min_samples_leaf=6, n_estimators=10; total time=   0.1s\n",
      "[CV] END ..max_depth=10, min_samples_leaf=6, n_estimators=10; total time=   0.1s\n",
      "[CV] END ..max_depth=10, min_samples_leaf=6, n_estimators=10; total time=   0.1s\n",
      "[CV] END ..max_depth=10, min_samples_leaf=6, n_estimators=10; total time=   0.1s\n",
      "[CV] END ..max_depth=10, min_samples_leaf=6, n_estimators=10; total time=   0.1s\n",
      "[CV] END ..max_depth=10, min_samples_leaf=6, n_estimators=10; total time=   0.1s\n",
      "[CV] END ..max_depth=10, min_samples_leaf=6, n_estimators=30; total time=   0.3s\n",
      "[CV] END ..max_depth=10, min_samples_leaf=6, n_estimators=30; total time=   0.3s\n",
      "[CV] END ..max_depth=10, min_samples_leaf=6, n_estimators=30; total time=   0.3s\n",
      "[CV] END ..max_depth=10, min_samples_leaf=6, n_estimators=30; total time=   0.3s\n",
      "[CV] END ..max_depth=10, min_samples_leaf=6, n_estimators=30; total time=   0.3s\n",
      "[CV] END ..max_depth=10, min_samples_leaf=6, n_estimators=30; total time=   0.3s\n",
      "[CV] END ..max_depth=10, min_samples_leaf=6, n_estimators=30; total time=   0.3s\n",
      "[CV] END ..max_depth=10, min_samples_leaf=6, n_estimators=30; total time=   0.3s\n",
      "[CV] END ..max_depth=10, min_samples_leaf=6, n_estimators=30; total time=   0.3s\n",
      "[CV] END ..max_depth=10, min_samples_leaf=6, n_estimators=30; total time=   0.4s\n",
      "[CV] END ..max_depth=10, min_samples_leaf=7, n_estimators=10; total time=   0.1s\n",
      "[CV] END ..max_depth=10, min_samples_leaf=7, n_estimators=10; total time=   0.1s\n",
      "[CV] END ..max_depth=10, min_samples_leaf=7, n_estimators=10; total time=   0.1s\n",
      "[CV] END ..max_depth=10, min_samples_leaf=7, n_estimators=10; total time=   0.1s\n",
      "[CV] END ..max_depth=10, min_samples_leaf=7, n_estimators=10; total time=   0.1s\n",
      "[CV] END ..max_depth=10, min_samples_leaf=7, n_estimators=10; total time=   0.1s\n",
      "[CV] END ..max_depth=10, min_samples_leaf=7, n_estimators=10; total time=   0.1s\n",
      "[CV] END ..max_depth=10, min_samples_leaf=7, n_estimators=10; total time=   0.1s\n",
      "[CV] END ..max_depth=10, min_samples_leaf=7, n_estimators=10; total time=   0.1s\n",
      "[CV] END ..max_depth=10, min_samples_leaf=7, n_estimators=10; total time=   0.1s\n",
      "[CV] END ..max_depth=10, min_samples_leaf=7, n_estimators=30; total time=   0.4s\n",
      "[CV] END ..max_depth=10, min_samples_leaf=7, n_estimators=30; total time=   0.3s\n",
      "[CV] END ..max_depth=10, min_samples_leaf=7, n_estimators=30; total time=   0.4s\n",
      "[CV] END ..max_depth=10, min_samples_leaf=7, n_estimators=30; total time=   0.3s\n",
      "[CV] END ..max_depth=10, min_samples_leaf=7, n_estimators=30; total time=   0.3s\n",
      "[CV] END ..max_depth=10, min_samples_leaf=7, n_estimators=30; total time=   0.3s\n",
      "[CV] END ..max_depth=10, min_samples_leaf=7, n_estimators=30; total time=   0.3s\n",
      "[CV] END ..max_depth=10, min_samples_leaf=7, n_estimators=30; total time=   0.3s\n",
      "[CV] END ..max_depth=10, min_samples_leaf=7, n_estimators=30; total time=   0.3s\n",
      "[CV] END ..max_depth=10, min_samples_leaf=7, n_estimators=30; total time=   0.3s\n"
     ]
    },
    {
     "data": {
      "text/plain": [
       "6.184246526451936"
      ]
     },
     "metadata": {},
     "output_type": "display_data"
    },
    {
     "data": {
      "text/plain": [
       "{'max_depth': 10, 'min_samples_leaf': 6, 'n_estimators': 30}"
      ]
     },
     "metadata": {},
     "output_type": "display_data"
    },
    {
     "name": "stdout",
     "output_type": "stream",
     "text": [
      "CPU times: user 15 s, sys: 40.4 ms, total: 15 s\n",
      "Wall time: 15.2 s\n"
     ]
    }
   ],
   "source": [
    "%%time\n",
    "start_2 = t.time()\n",
    "### обучим модель RandomForestRegressor с помощью gridsearch для расчета MAE\n",
    "# параметры по сетке\n",
    "parameters_2 = {\n",
    "    'n_estimators': [10, 30],\n",
    "    'max_depth': [5, 10],\n",
    "    'min_samples_leaf': [6, 7]\n",
    "}\n",
    "ran_for = RandomForestRegressor(random_state=RANDOM_STATE)\n",
    "clf_2 = GridSearchCV(ran_for, parameters_2, scoring='neg_mean_absolute_error', cv=10, n_jobs=-1, verbose=2)\n",
    "clf_2.fit(features_train, target_train)\n",
    "score_2 = abs(clf_2.best_score_)\n",
    "display(score_2)\n",
    "display(clf_2.best_params_)\n",
    "end_2 = t.time() - start_2"
   ]
  },
  {
   "cell_type": "markdown",
   "metadata": {},
   "source": [
    "### Модель LGBMRegressor"
   ]
  },
  {
   "cell_type": "code",
   "execution_count": 57,
   "metadata": {
    "scrolled": true
   },
   "outputs": [
    {
     "name": "stdout",
     "output_type": "stream",
     "text": [
      "Fitting 10 folds for each of 4 candidates, totalling 40 fits\n",
      "[CV] END ................learning_rate=0.05, n_estimators=10; total time=   0.2s\n",
      "[CV] END ................learning_rate=0.05, n_estimators=10; total time=   0.4s\n",
      "[CV] END ................learning_rate=0.05, n_estimators=10; total time=   0.2s\n",
      "[CV] END ................learning_rate=0.05, n_estimators=10; total time=   0.3s\n",
      "[CV] END ................learning_rate=0.05, n_estimators=10; total time=   0.3s\n",
      "[CV] END ................learning_rate=0.05, n_estimators=10; total time=   0.2s\n",
      "[CV] END ................learning_rate=0.05, n_estimators=10; total time=   0.2s\n",
      "[CV] END ................learning_rate=0.05, n_estimators=10; total time=   0.3s\n",
      "[CV] END ................learning_rate=0.05, n_estimators=10; total time=   0.2s\n",
      "[CV] END ................learning_rate=0.05, n_estimators=10; total time=   0.4s\n",
      "[CV] END ................learning_rate=0.05, n_estimators=30; total time=   0.4s\n",
      "[CV] END ................learning_rate=0.05, n_estimators=30; total time=   0.6s\n",
      "[CV] END ................learning_rate=0.05, n_estimators=30; total time=   0.6s\n",
      "[CV] END ................learning_rate=0.05, n_estimators=30; total time=   0.6s\n",
      "[CV] END ................learning_rate=0.05, n_estimators=30; total time=   0.4s\n",
      "[CV] END ................learning_rate=0.05, n_estimators=30; total time=   0.7s\n",
      "[CV] END ................learning_rate=0.05, n_estimators=30; total time=   0.5s\n",
      "[CV] END ................learning_rate=0.05, n_estimators=30; total time=   0.5s\n",
      "[CV] END ................learning_rate=0.05, n_estimators=30; total time=   0.4s\n",
      "[CV] END ................learning_rate=0.05, n_estimators=30; total time=   0.5s\n",
      "[CV] END .................learning_rate=0.1, n_estimators=10; total time=   0.2s\n",
      "[CV] END .................learning_rate=0.1, n_estimators=10; total time=   0.3s\n",
      "[CV] END .................learning_rate=0.1, n_estimators=10; total time=   0.2s\n",
      "[CV] END .................learning_rate=0.1, n_estimators=10; total time=   0.2s\n",
      "[CV] END .................learning_rate=0.1, n_estimators=10; total time=   0.4s\n",
      "[CV] END .................learning_rate=0.1, n_estimators=10; total time=   0.3s\n",
      "[CV] END .................learning_rate=0.1, n_estimators=10; total time=   0.2s\n",
      "[CV] END .................learning_rate=0.1, n_estimators=10; total time=   0.2s\n",
      "[CV] END .................learning_rate=0.1, n_estimators=10; total time=   0.2s\n",
      "[CV] END .................learning_rate=0.1, n_estimators=10; total time=   0.2s\n",
      "[CV] END .................learning_rate=0.1, n_estimators=30; total time=   0.5s\n",
      "[CV] END .................learning_rate=0.1, n_estimators=30; total time=   0.7s\n",
      "[CV] END .................learning_rate=0.1, n_estimators=30; total time=   0.4s\n",
      "[CV] END .................learning_rate=0.1, n_estimators=30; total time=   0.6s\n",
      "[CV] END .................learning_rate=0.1, n_estimators=30; total time=   0.6s\n",
      "[CV] END .................learning_rate=0.1, n_estimators=30; total time=   0.5s\n",
      "[CV] END .................learning_rate=0.1, n_estimators=30; total time=   0.6s\n",
      "[CV] END .................learning_rate=0.1, n_estimators=30; total time=   0.5s\n",
      "[CV] END .................learning_rate=0.1, n_estimators=30; total time=   0.5s\n",
      "[CV] END .................learning_rate=0.1, n_estimators=30; total time=   0.5s\n"
     ]
    },
    {
     "data": {
      "text/plain": [
       "6.0767576927195615"
      ]
     },
     "metadata": {},
     "output_type": "display_data"
    },
    {
     "data": {
      "text/plain": [
       "{'learning_rate': 0.1, 'n_estimators': 30}"
      ]
     },
     "metadata": {},
     "output_type": "display_data"
    },
    {
     "name": "stdout",
     "output_type": "stream",
     "text": [
      "CPU times: user 16.3 s, sys: 67.2 ms, total: 16.3 s\n",
      "Wall time: 16.4 s\n"
     ]
    }
   ],
   "source": [
    "%%time\n",
    "start_3 = t.time()\n",
    "### обучим модель LGBMRegressor с помощью gridsearch для расчета MAE\n",
    "## параметры по сетке\n",
    "parameters_3 = {\n",
    "    'n_estimators' : [10, 30],\n",
    "    'learning_rate' : [0.05, 0.1]\n",
    "}\n",
    "lgb_reg = LGBMRegressor(random_state=RANDOM_STATE)\n",
    "clf_3 = GridSearchCV(lgb_reg, parameters_3, scoring='neg_mean_absolute_error', cv=10, n_jobs=-1, verbose=2)\n",
    "clf_3.fit(features_train, target_train)\n",
    "score_3 = abs(clf_3.best_score_)\n",
    "display(score_3)\n",
    "display(clf_3.best_params_)\n",
    "end_3 = t.time() - start_3"
   ]
  },
  {
   "cell_type": "markdown",
   "metadata": {},
   "source": [
    "### Модель CatBoostRegressor"
   ]
  },
  {
   "cell_type": "code",
   "execution_count": 58,
   "metadata": {
    "scrolled": true
   },
   "outputs": [
    {
     "name": "stdout",
     "output_type": "stream",
     "text": [
      "Fitting 10 folds for each of 4 candidates, totalling 40 fits\n",
      "0:\tlearn: 11.2334700\ttotal: 49.7ms\tremaining: 49.7s\n",
      "500:\tlearn: 6.5125431\ttotal: 1.37s\tremaining: 1.36s\n",
      "999:\tlearn: 5.3972442\ttotal: 2.66s\tremaining: 0us\n",
      "[CV] END ...........................depth=5, iterations=1000; total time=   3.4s\n",
      "0:\tlearn: 11.2609119\ttotal: 3.05ms\tremaining: 3.04s\n",
      "500:\tlearn: 6.4428666\ttotal: 1.29s\tremaining: 1.29s\n",
      "999:\tlearn: 5.2936326\ttotal: 2.61s\tremaining: 0us\n",
      "[CV] END ...........................depth=5, iterations=1000; total time=   3.4s\n",
      "0:\tlearn: 11.1519329\ttotal: 3.49ms\tremaining: 3.49s\n",
      "500:\tlearn: 6.2712726\ttotal: 1.37s\tremaining: 1.37s\n",
      "999:\tlearn: 5.1594195\ttotal: 2.76s\tremaining: 0us\n",
      "[CV] END ...........................depth=5, iterations=1000; total time=   3.7s\n",
      "0:\tlearn: 11.2695552\ttotal: 3.08ms\tremaining: 3.08s\n",
      "500:\tlearn: 6.3624018\ttotal: 1.32s\tremaining: 1.31s\n",
      "999:\tlearn: 5.2237148\ttotal: 2.64s\tremaining: 0us\n",
      "[CV] END ...........................depth=5, iterations=1000; total time=   3.3s\n",
      "0:\tlearn: 11.3107057\ttotal: 2.94ms\tremaining: 2.94s\n",
      "500:\tlearn: 6.5275981\ttotal: 1.31s\tremaining: 1.31s\n",
      "999:\tlearn: 5.3634309\ttotal: 2.6s\tremaining: 0us\n",
      "[CV] END ...........................depth=5, iterations=1000; total time=   3.4s\n",
      "0:\tlearn: 11.2020195\ttotal: 3.14ms\tremaining: 3.13s\n",
      "500:\tlearn: 6.4469887\ttotal: 1.37s\tremaining: 1.36s\n",
      "999:\tlearn: 5.3532050\ttotal: 2.69s\tremaining: 0us\n",
      "[CV] END ...........................depth=5, iterations=1000; total time=   3.4s\n",
      "0:\tlearn: 11.1972456\ttotal: 3.13ms\tremaining: 3.13s\n",
      "500:\tlearn: 6.4777917\ttotal: 1.3s\tremaining: 1.3s\n",
      "999:\tlearn: 5.4177149\ttotal: 2.63s\tremaining: 0us\n",
      "[CV] END ...........................depth=5, iterations=1000; total time=   3.4s\n",
      "0:\tlearn: 11.3434124\ttotal: 3.42ms\tremaining: 3.41s\n",
      "500:\tlearn: 6.5143062\ttotal: 1.35s\tremaining: 1.35s\n",
      "999:\tlearn: 5.3789567\ttotal: 2.66s\tremaining: 0us\n",
      "[CV] END ...........................depth=5, iterations=1000; total time=   3.4s\n",
      "0:\tlearn: 11.2497915\ttotal: 3.11ms\tremaining: 3.11s\n",
      "500:\tlearn: 6.5158132\ttotal: 1.37s\tremaining: 1.37s\n",
      "999:\tlearn: 5.3832355\ttotal: 2.71s\tremaining: 0us\n",
      "[CV] END ...........................depth=5, iterations=1000; total time=   3.5s\n",
      "0:\tlearn: 11.3309197\ttotal: 3.17ms\tremaining: 3.17s\n",
      "500:\tlearn: 6.4991168\ttotal: 1.33s\tremaining: 1.32s\n",
      "999:\tlearn: 5.2988979\ttotal: 2.63s\tremaining: 0us\n",
      "[CV] END ...........................depth=5, iterations=1000; total time=   3.5s\n",
      "0:\tlearn: 11.2334700\ttotal: 2.92ms\tremaining: 4.38s\n",
      "500:\tlearn: 6.5125431\ttotal: 1.3s\tremaining: 2.59s\n",
      "1000:\tlearn: 5.3953192\ttotal: 2.67s\tremaining: 1.33s\n",
      "1499:\tlearn: 4.6566608\ttotal: 4.25s\tremaining: 0us\n",
      "[CV] END ...........................depth=5, iterations=1500; total time=   5.7s\n",
      "0:\tlearn: 11.2609119\ttotal: 3.32ms\tremaining: 4.97s\n",
      "500:\tlearn: 6.4428666\ttotal: 1.47s\tremaining: 2.93s\n",
      "1000:\tlearn: 5.2913238\ttotal: 2.79s\tremaining: 1.39s\n",
      "1499:\tlearn: 4.5872152\ttotal: 4.15s\tremaining: 0us\n",
      "[CV] END ...........................depth=5, iterations=1500; total time=   5.0s\n",
      "0:\tlearn: 11.1519329\ttotal: 3.5ms\tremaining: 5.25s\n",
      "500:\tlearn: 6.2712726\ttotal: 1.31s\tremaining: 2.6s\n",
      "1000:\tlearn: 5.1576608\ttotal: 2.64s\tremaining: 1.32s\n",
      "1499:\tlearn: 4.4855134\ttotal: 4.01s\tremaining: 0us\n",
      "[CV] END ...........................depth=5, iterations=1500; total time=   4.8s\n",
      "0:\tlearn: 11.2695552\ttotal: 3.23ms\tremaining: 4.85s\n",
      "500:\tlearn: 6.3624018\ttotal: 1.34s\tremaining: 2.67s\n",
      "1000:\tlearn: 5.2208788\ttotal: 2.67s\tremaining: 1.33s\n",
      "1499:\tlearn: 4.5320120\ttotal: 4s\tremaining: 0us\n",
      "[CV] END ...........................depth=5, iterations=1500; total time=   5.0s\n",
      "0:\tlearn: 11.3107057\ttotal: 3.16ms\tremaining: 4.74s\n",
      "500:\tlearn: 6.5275981\ttotal: 1.31s\tremaining: 2.61s\n",
      "1000:\tlearn: 5.3609960\ttotal: 2.63s\tremaining: 1.31s\n",
      "1499:\tlearn: 4.6209684\ttotal: 3.97s\tremaining: 0us\n",
      "[CV] END ...........................depth=5, iterations=1500; total time=   4.9s\n",
      "0:\tlearn: 11.2020195\ttotal: 2.98ms\tremaining: 4.46s\n",
      "500:\tlearn: 6.4469887\ttotal: 1.32s\tremaining: 2.63s\n",
      "1000:\tlearn: 5.3505558\ttotal: 2.67s\tremaining: 1.33s\n",
      "1499:\tlearn: 4.6232170\ttotal: 4.02s\tremaining: 0us\n",
      "[CV] END ...........................depth=5, iterations=1500; total time=   5.1s\n",
      "0:\tlearn: 11.1972456\ttotal: 3.11ms\tremaining: 4.66s\n",
      "500:\tlearn: 6.4777917\ttotal: 1.3s\tremaining: 2.6s\n",
      "1000:\tlearn: 5.4164359\ttotal: 2.64s\tremaining: 1.31s\n",
      "1499:\tlearn: 4.6759702\ttotal: 4.13s\tremaining: 0us\n",
      "[CV] END ...........................depth=5, iterations=1500; total time=   5.1s\n",
      "0:\tlearn: 11.3434124\ttotal: 3.15ms\tremaining: 4.73s\n",
      "500:\tlearn: 6.5143062\ttotal: 1.31s\tremaining: 2.62s\n",
      "1000:\tlearn: 5.3786278\ttotal: 2.65s\tremaining: 1.32s\n",
      "1499:\tlearn: 4.6950163\ttotal: 3.97s\tremaining: 0us\n",
      "[CV] END ...........................depth=5, iterations=1500; total time=   5.0s\n",
      "0:\tlearn: 11.2497915\ttotal: 3.27ms\tremaining: 4.9s\n",
      "500:\tlearn: 6.5158132\ttotal: 1.33s\tremaining: 2.66s\n",
      "1000:\tlearn: 5.3813866\ttotal: 2.68s\tremaining: 1.33s\n",
      "1499:\tlearn: 4.6454651\ttotal: 4.04s\tremaining: 0us\n",
      "[CV] END ...........................depth=5, iterations=1500; total time=   5.0s\n",
      "0:\tlearn: 11.3309197\ttotal: 3.04ms\tremaining: 4.56s\n",
      "500:\tlearn: 6.4991168\ttotal: 1.31s\tremaining: 2.62s\n",
      "1000:\tlearn: 5.2968087\ttotal: 2.64s\tremaining: 1.32s\n",
      "1499:\tlearn: 4.6025450\ttotal: 4s\tremaining: 0us\n",
      "[CV] END ...........................depth=5, iterations=1500; total time=   5.2s\n",
      "0:\tlearn: 11.2323398\ttotal: 48.8ms\tremaining: 48.7s\n",
      "500:\tlearn: 4.3399688\ttotal: 21.1s\tremaining: 21.1s\n",
      "999:\tlearn: 2.5143187\ttotal: 42.6s\tremaining: 0us\n",
      "[CV] END ..........................depth=10, iterations=1000; total time=  45.1s\n",
      "0:\tlearn: 11.2583996\ttotal: 44.7ms\tremaining: 44.7s\n",
      "500:\tlearn: 4.2634971\ttotal: 21.6s\tremaining: 21.6s\n",
      "999:\tlearn: 2.6081796\ttotal: 43.3s\tremaining: 0us\n",
      "[CV] END ..........................depth=10, iterations=1000; total time=  44.6s\n",
      "0:\tlearn: 11.1484468\ttotal: 41.6ms\tremaining: 41.5s\n",
      "500:\tlearn: 4.2322471\ttotal: 21.5s\tremaining: 21.4s\n",
      "999:\tlearn: 2.4443623\ttotal: 43.1s\tremaining: 0us\n",
      "[CV] END ..........................depth=10, iterations=1000; total time=  44.2s\n",
      "0:\tlearn: 11.2631539\ttotal: 43.3ms\tremaining: 43.3s\n",
      "500:\tlearn: 4.0877466\ttotal: 21.5s\tremaining: 21.4s\n",
      "999:\tlearn: 2.3195950\ttotal: 43.5s\tremaining: 0us\n",
      "[CV] END ..........................depth=10, iterations=1000; total time=  44.6s\n",
      "0:\tlearn: 11.3023410\ttotal: 49.8ms\tremaining: 49.8s\n",
      "500:\tlearn: 4.3307698\ttotal: 21.9s\tremaining: 21.8s\n",
      "999:\tlearn: 2.5324733\ttotal: 43.1s\tremaining: 0us\n",
      "[CV] END ..........................depth=10, iterations=1000; total time=  44.2s\n",
      "0:\tlearn: 11.1975230\ttotal: 41.6ms\tremaining: 41.6s\n",
      "500:\tlearn: 4.2347439\ttotal: 21s\tremaining: 20.9s\n",
      "999:\tlearn: 2.3545886\ttotal: 43.1s\tremaining: 0us\n",
      "[CV] END ..........................depth=10, iterations=1000; total time=  44.2s\n",
      "0:\tlearn: 11.1955519\ttotal: 44.1ms\tremaining: 44s\n",
      "500:\tlearn: 4.2616561\ttotal: 21.5s\tremaining: 21.4s\n",
      "999:\tlearn: 2.4931784\ttotal: 43.5s\tremaining: 0us\n",
      "[CV] END ..........................depth=10, iterations=1000; total time=  44.5s\n",
      "0:\tlearn: 11.3344857\ttotal: 45.3ms\tremaining: 45.3s\n",
      "500:\tlearn: 4.3206791\ttotal: 22.5s\tremaining: 22.4s\n",
      "999:\tlearn: 2.4401938\ttotal: 43.8s\tremaining: 0us\n",
      "[CV] END ..........................depth=10, iterations=1000; total time=  44.9s\n",
      "0:\tlearn: 11.2372228\ttotal: 41.9ms\tremaining: 41.9s\n",
      "500:\tlearn: 4.3219737\ttotal: 22.2s\tremaining: 22.1s\n",
      "999:\tlearn: 2.5019958\ttotal: 44s\tremaining: 0us\n",
      "[CV] END ..........................depth=10, iterations=1000; total time=  45.1s\n",
      "0:\tlearn: 11.3214429\ttotal: 46.4ms\tremaining: 46.4s\n",
      "500:\tlearn: 4.2760990\ttotal: 22.1s\tremaining: 22.1s\n",
      "999:\tlearn: 2.4294245\ttotal: 45.8s\tremaining: 0us\n",
      "[CV] END ..........................depth=10, iterations=1000; total time=  46.9s\n",
      "0:\tlearn: 11.2323398\ttotal: 44.5ms\tremaining: 1m 6s\n",
      "500:\tlearn: 4.3399688\ttotal: 24.4s\tremaining: 48.6s\n",
      "1000:\tlearn: 2.5105567\ttotal: 47.1s\tremaining: 23.5s\n",
      "1499:\tlearn: 1.5010793\ttotal: 1m 9s\tremaining: 0us\n",
      "[CV] END ..........................depth=10, iterations=1500; total time= 1.2min\n",
      "0:\tlearn: 11.2583996\ttotal: 43.1ms\tremaining: 1m 4s\n",
      "500:\tlearn: 4.2634971\ttotal: 21s\tremaining: 41.9s\n",
      "1000:\tlearn: 2.6055735\ttotal: 42s\tremaining: 21s\n",
      "1499:\tlearn: 1.5542060\ttotal: 1m 2s\tremaining: 0us\n",
      "[CV] END ..........................depth=10, iterations=1500; total time= 1.1min\n",
      "0:\tlearn: 11.1484468\ttotal: 39.4ms\tremaining: 59.1s\n",
      "500:\tlearn: 4.2322471\ttotal: 20.9s\tremaining: 41.7s\n",
      "1000:\tlearn: 2.4435953\ttotal: 42.9s\tremaining: 21.4s\n",
      "1499:\tlearn: 1.3829600\ttotal: 1m 3s\tremaining: 0us\n",
      "[CV] END ..........................depth=10, iterations=1500; total time= 1.1min\n",
      "0:\tlearn: 11.2631539\ttotal: 45.6ms\tremaining: 1m 8s\n",
      "500:\tlearn: 4.0877466\ttotal: 21.7s\tremaining: 43.3s\n",
      "1000:\tlearn: 2.3163311\ttotal: 44.5s\tremaining: 22.2s\n",
      "1499:\tlearn: 1.3575048\ttotal: 1m 7s\tremaining: 0us\n",
      "[CV] END ..........................depth=10, iterations=1500; total time= 1.1min\n",
      "0:\tlearn: 11.3023410\ttotal: 45.4ms\tremaining: 1m 8s\n",
      "500:\tlearn: 4.3307698\ttotal: 23.8s\tremaining: 47.5s\n",
      "1000:\tlearn: 2.5296911\ttotal: 47s\tremaining: 23.4s\n",
      "1499:\tlearn: 1.5178705\ttotal: 1m 9s\tremaining: 0us\n",
      "[CV] END ..........................depth=10, iterations=1500; total time= 1.2min\n",
      "0:\tlearn: 11.1975230\ttotal: 44.6ms\tremaining: 1m 6s\n",
      "500:\tlearn: 4.2347439\ttotal: 23.3s\tremaining: 46.4s\n",
      "1000:\tlearn: 2.3503761\ttotal: 45.5s\tremaining: 22.7s\n",
      "1499:\tlearn: 1.3705007\ttotal: 1m 7s\tremaining: 0us\n",
      "[CV] END ..........................depth=10, iterations=1500; total time= 1.2min\n",
      "0:\tlearn: 11.1955519\ttotal: 41.1ms\tremaining: 1m 1s\n",
      "500:\tlearn: 4.2616561\ttotal: 21.7s\tremaining: 43.4s\n",
      "1000:\tlearn: 2.4890226\ttotal: 43.5s\tremaining: 21.7s\n",
      "1499:\tlearn: 1.4368732\ttotal: 1m 6s\tremaining: 0us\n",
      "[CV] END ..........................depth=10, iterations=1500; total time= 1.1min\n",
      "0:\tlearn: 11.3344857\ttotal: 45.3ms\tremaining: 1m 7s\n",
      "500:\tlearn: 4.3206791\ttotal: 22.3s\tremaining: 44.4s\n",
      "1000:\tlearn: 2.4360072\ttotal: 44.6s\tremaining: 22.2s\n",
      "1499:\tlearn: 1.3919831\ttotal: 1m 6s\tremaining: 0us\n",
      "[CV] END ..........................depth=10, iterations=1500; total time= 1.1min\n",
      "0:\tlearn: 11.2372228\ttotal: 47.8ms\tremaining: 1m 11s\n",
      "500:\tlearn: 4.3219737\ttotal: 22.2s\tremaining: 44.3s\n",
      "1000:\tlearn: 2.4976239\ttotal: 45.1s\tremaining: 22.5s\n",
      "1499:\tlearn: 1.4924286\ttotal: 1m 7s\tremaining: 0us\n",
      "[CV] END ..........................depth=10, iterations=1500; total time= 1.2min\n",
      "0:\tlearn: 11.3214429\ttotal: 53ms\tremaining: 1m 19s\n",
      "500:\tlearn: 4.2760990\ttotal: 22.3s\tremaining: 44.5s\n",
      "1000:\tlearn: 2.4277440\ttotal: 44.6s\tremaining: 22.2s\n",
      "1499:\tlearn: 1.4445660\ttotal: 1m 6s\tremaining: 0us\n",
      "[CV] END ..........................depth=10, iterations=1500; total time= 1.1min\n",
      "0:\tlearn: 11.2570424\ttotal: 2.98ms\tremaining: 4.47s\n",
      "500:\tlearn: 6.5416557\ttotal: 1.37s\tremaining: 2.73s\n",
      "1000:\tlearn: 5.4553680\ttotal: 2.81s\tremaining: 1.4s\n",
      "1499:\tlearn: 4.7654921\ttotal: 4.19s\tremaining: 0us\n"
     ]
    },
    {
     "data": {
      "text/plain": [
       "5.857465471251567"
      ]
     },
     "metadata": {},
     "output_type": "display_data"
    },
    {
     "data": {
      "text/plain": [
       "{'depth': 5, 'iterations': 1500}"
      ]
     },
     "metadata": {},
     "output_type": "display_data"
    },
    {
     "name": "stdout",
     "output_type": "stream",
     "text": [
      "CPU times: user 19min 35s, sys: 4.76 s, total: 19min 40s\n",
      "Wall time: 20min 25s\n"
     ]
    }
   ],
   "source": [
    "%%time\n",
    "start_4 = t.time()\n",
    "### обучим модель CatBoostRegressor с помощью gridsearch для расчета MAE\n",
    "### параметры по сетке\n",
    "parameters_4 = {\n",
    "    'depth' : [5, 10],\n",
    "    'iterations' : [1000, 1500]\n",
    "}\n",
    "cbc_reg = CatBoostRegressor(random_state=RANDOM_STATE, learning_rate=0.02, verbose=500)\n",
    "clf_4 = GridSearchCV(cbc_reg, parameters_4, scoring='neg_mean_absolute_error', cv=10, n_jobs=-1, verbose=2)\n",
    "clf_4.fit(features_train, target_train)\n",
    "score_4 = abs(clf_4.best_score_)\n",
    "display(score_4)\n",
    "display(clf_4.best_params_)\n",
    "end_4 = t.time() - start_4"
   ]
  },
  {
   "cell_type": "markdown",
   "metadata": {},
   "source": [
    "### Модель KerasRegressor"
   ]
  },
  {
   "cell_type": "code",
   "execution_count": 59,
   "metadata": {},
   "outputs": [
    {
     "name": "stdout",
     "output_type": "stream",
     "text": [
      "Model: \"sequential\"\n",
      "_________________________________________________________________\n",
      " Layer (type)                Output Shape              Param #   \n",
      "=================================================================\n",
      " dense (Dense)               (None, 1024)              37888     \n",
      "                                                                 \n",
      " dense_1 (Dense)             (None, 1024)              1049600   \n",
      "                                                                 \n",
      " dense_2 (Dense)             (None, 1024)              1049600   \n",
      "                                                                 \n",
      " dense_3 (Dense)             (None, 1024)              1049600   \n",
      "                                                                 \n",
      " dense_4 (Dense)             (None, 1)                 1025      \n",
      "                                                                 \n",
      "=================================================================\n",
      "Total params: 3,187,713\n",
      "Trainable params: 3,187,713\n",
      "Non-trainable params: 0\n",
      "_________________________________________________________________\n"
     ]
    },
    {
     "name": "stderr",
     "output_type": "stream",
     "text": [
      "2023-07-08 11:39:02.629075: I tensorflow/core/platform/cpu_feature_guard.cc:151] This TensorFlow binary is optimized with oneAPI Deep Neural Network Library (oneDNN) to use the following CPU instructions in performance-critical operations:  AVX2 AVX512F FMA\n",
      "To enable them in other operations, rebuild TensorFlow with the appropriate compiler flags.\n"
     ]
    }
   ],
   "source": [
    "### определим базовую модель\n",
    "def Base_Model():\n",
    "    model = Sequential()\n",
    "    model.add(Dense(1024, input_dim=features_train.shape[1], activation='relu')) \n",
    "    model.add(Dense(1024, activation='elu'))\n",
    "    model.add(Dense(1024, activation='selu')) \n",
    "    model.add(Dense(1024, activation='elu')) \n",
    "    model.add(Dense(1, activation='linear'))\n",
    "    model.compile(loss='mse', optimizer='adam')   \n",
    "    return model\n",
    "### посмотрим схему модели\n",
    "Base_Model().summary()"
   ]
  },
  {
   "cell_type": "code",
   "execution_count": 60,
   "metadata": {
    "scrolled": true
   },
   "outputs": [
    {
     "name": "stderr",
     "output_type": "stream",
     "text": [
      "<timed exec>:10: DeprecationWarning: KerasRegressor is deprecated, use Sci-Keras (https://github.com/adriangb/scikeras) instead.\n"
     ]
    },
    {
     "name": "stdout",
     "output_type": "stream",
     "text": [
      "Fitting 10 folds for each of 4 candidates, totalling 40 fits\n",
      "523/523 [==============================] - 20s 36ms/step - loss: 56614.8555\n",
      "[CV] END ..........................batch_size=3, nb_epoch=30; total time=  20.8s\n",
      "523/523 [==============================] - 19s 36ms/step - loss: 56996.4375\n",
      "[CV] END ..........................batch_size=3, nb_epoch=30; total time=  20.1s\n",
      "523/523 [==============================] - 19s 36ms/step - loss: 57266.8945\n",
      "[CV] END ..........................batch_size=3, nb_epoch=30; total time=  19.8s\n",
      "523/523 [==============================] - 19s 36ms/step - loss: 64198.9180\n",
      "[CV] END ..........................batch_size=3, nb_epoch=30; total time=  20.1s\n",
      "523/523 [==============================] - 19s 36ms/step - loss: 60420.8398\n",
      "[CV] END ..........................batch_size=3, nb_epoch=30; total time=  20.3s\n",
      "523/523 [==============================] - 19s 36ms/step - loss: 57132.9414\n",
      "[CV] END ..........................batch_size=3, nb_epoch=30; total time=  19.9s\n",
      "523/523 [==============================] - 19s 37ms/step - loss: 59593.2734\n",
      "[CV] END ..........................batch_size=3, nb_epoch=30; total time=  20.2s\n",
      "523/523 [==============================] - 18s 34ms/step - loss: 62167.8203\n",
      "[CV] END ..........................batch_size=3, nb_epoch=30; total time=  19.1s\n",
      "523/523 [==============================] - 18s 34ms/step - loss: 58790.4609\n",
      "[CV] END ..........................batch_size=3, nb_epoch=30; total time=  19.1s\n",
      "523/523 [==============================] - 19s 35ms/step - loss: 60722.9453\n",
      "[CV] END ..........................batch_size=3, nb_epoch=30; total time=  19.7s\n",
      "523/523 [==============================] - 19s 35ms/step - loss: 57976.4062\n",
      "[CV] END ..........................batch_size=3, nb_epoch=50; total time=  19.4s\n",
      "523/523 [==============================] - 18s 34ms/step - loss: 59011.1367\n",
      "[CV] END ..........................batch_size=3, nb_epoch=50; total time=  19.3s\n",
      "523/523 [==============================] - 18s 34ms/step - loss: 58238.1055\n",
      "[CV] END ..........................batch_size=3, nb_epoch=50; total time=  19.2s\n",
      "523/523 [==============================] - 18s 34ms/step - loss: 67226.3047\n",
      "[CV] END ..........................batch_size=3, nb_epoch=50; total time=  18.7s\n",
      "523/523 [==============================] - 18s 34ms/step - loss: 60644.7383\n",
      "[CV] END ..........................batch_size=3, nb_epoch=50; total time=  18.9s\n",
      "523/523 [==============================] - 18s 34ms/step - loss: 57778.0859\n",
      "[CV] END ..........................batch_size=3, nb_epoch=50; total time=  18.7s\n",
      "523/523 [==============================] - 17s 33ms/step - loss: 61617.5859\n",
      "[CV] END ..........................batch_size=3, nb_epoch=50; total time=  18.5s\n",
      "523/523 [==============================] - 17s 32ms/step - loss: 57305.5547\n",
      "[CV] END ..........................batch_size=3, nb_epoch=50; total time=  18.1s\n",
      "523/523 [==============================] - 17s 32ms/step - loss: 61051.8477\n",
      "[CV] END ..........................batch_size=3, nb_epoch=50; total time=  18.0s\n",
      "523/523 [==============================] - 17s 33ms/step - loss: 61417.4531\n",
      "[CV] END ..........................batch_size=3, nb_epoch=50; total time=  18.3s\n",
      "314/314 [==============================] - 11s 33ms/step - loss: 93651.5547\n",
      "[CV] END ..........................batch_size=5, nb_epoch=30; total time=  11.5s\n",
      "314/314 [==============================] - 11s 33ms/step - loss: 95111.3281\n",
      "[CV] END ..........................batch_size=5, nb_epoch=30; total time=  11.6s\n",
      "314/314 [==============================] - 12s 36ms/step - loss: 93242.0000\n",
      "[CV] END ..........................batch_size=5, nb_epoch=30; total time=  12.8s\n",
      "314/314 [==============================] - 11s 35ms/step - loss: 81582.3906\n",
      "[CV] END ..........................batch_size=5, nb_epoch=30; total time=  12.3s\n",
      "314/314 [==============================] - 11s 35ms/step - loss: 82658.2266\n",
      "[CV] END ..........................batch_size=5, nb_epoch=30; total time=  12.0s\n",
      "314/314 [==============================] - 11s 34ms/step - loss: 82583.7656\n",
      "[CV] END ..........................batch_size=5, nb_epoch=30; total time=  11.8s\n",
      "314/314 [==============================] - 11s 35ms/step - loss: 83497.1250\n",
      "[CV] END ..........................batch_size=5, nb_epoch=30; total time=  12.1s\n",
      "314/314 [==============================] - 11s 35ms/step - loss: 84390.0703\n",
      "[CV] END ..........................batch_size=5, nb_epoch=30; total time=  12.0s\n",
      "314/314 [==============================] - 11s 34ms/step - loss: 82450.1406\n",
      "[CV] END ..........................batch_size=5, nb_epoch=30; total time=  11.9s\n",
      "314/314 [==============================] - 12s 36ms/step - loss: 84678.4453\n",
      "[CV] END ..........................batch_size=5, nb_epoch=30; total time=  12.5s\n",
      "314/314 [==============================] - 11s 34ms/step - loss: 93264.8672\n",
      "[CV] END ..........................batch_size=5, nb_epoch=50; total time=  11.8s\n",
      "314/314 [==============================] - 11s 34ms/step - loss: 94457.8906\n",
      "[CV] END ..........................batch_size=5, nb_epoch=50; total time=  11.8s\n",
      "314/314 [==============================] - 11s 35ms/step - loss: 92562.3672\n",
      "[CV] END ..........................batch_size=5, nb_epoch=50; total time=  11.9s\n",
      "314/314 [==============================] - 12s 36ms/step - loss: 81065.2266\n",
      "[CV] END ..........................batch_size=5, nb_epoch=50; total time=  12.4s\n",
      "314/314 [==============================] - 11s 35ms/step - loss: 82630.7031\n",
      "[CV] END ..........................batch_size=5, nb_epoch=50; total time=  12.1s\n",
      "314/314 [==============================] - 11s 35ms/step - loss: 81505.0938\n",
      "[CV] END ..........................batch_size=5, nb_epoch=50; total time=  12.0s\n",
      "314/314 [==============================] - 11s 35ms/step - loss: 82454.2812\n",
      "[CV] END ..........................batch_size=5, nb_epoch=50; total time=  11.9s\n",
      "314/314 [==============================] - 11s 35ms/step - loss: 82806.3828\n",
      "[CV] END ..........................batch_size=5, nb_epoch=50; total time=  12.0s\n",
      "314/314 [==============================] - 11s 35ms/step - loss: 83308.7891\n",
      "[CV] END ..........................batch_size=5, nb_epoch=50; total time=  12.5s\n",
      "314/314 [==============================] - 11s 34ms/step - loss: 85566.5703\n",
      "[CV] END ..........................batch_size=5, nb_epoch=50; total time=  11.9s\n",
      "581/581 [==============================] - 20s 33ms/step - loss: 52300.4531\n"
     ]
    },
    {
     "data": {
      "text/plain": [
       "11.123427473797978"
      ]
     },
     "metadata": {},
     "output_type": "display_data"
    },
    {
     "data": {
      "text/plain": [
       "{'batch_size': 3, 'nb_epoch': 30}"
      ]
     },
     "metadata": {},
     "output_type": "display_data"
    },
    {
     "name": "stdout",
     "output_type": "stream",
     "text": [
      "CPU times: user 9min 17s, sys: 1min 12s, total: 10min 30s\n",
      "Wall time: 10min 47s\n"
     ]
    }
   ],
   "source": [
    "%%time\n",
    "start_5 = t.time()\n",
    "### зафиксируем рандом\n",
    "tf.random.set_seed(RANDOM_STATE)\n",
    "### обучим модель KerasRegressor с помощью gridsearch для расчета MAE\n",
    "### параметры по сетке\n",
    "parameters_5 = {\n",
    "    'nb_epoch' : [30, 50],\n",
    "    'batch_size' : [3, 5]\n",
    "}\n",
    "ker_reg = KerasRegressor(build_fn=Base_Model)\n",
    "clf_5 = GridSearchCV(ker_reg, parameters_5, scoring='neg_mean_absolute_error', cv=10, n_jobs=-1, verbose=2)\n",
    "clf_5.fit(features_train, target_train)\n",
    "score_5 = abs(clf_5.best_score_)\n",
    "display(score_5)\n",
    "display(clf_5.best_params_)\n",
    "end_5 = t.time() - start_5"
   ]
  },
  {
   "cell_type": "markdown",
   "metadata": {},
   "source": [
    "### Итоги обучения"
   ]
  },
  {
   "cell_type": "code",
   "execution_count": 69,
   "metadata": {},
   "outputs": [
    {
     "data": {
      "text/html": [
       "<div>\n",
       "<style scoped>\n",
       "    .dataframe tbody tr th:only-of-type {\n",
       "        vertical-align: middle;\n",
       "    }\n",
       "\n",
       "    .dataframe tbody tr th {\n",
       "        vertical-align: top;\n",
       "    }\n",
       "\n",
       "    .dataframe thead th {\n",
       "        text-align: right;\n",
       "    }\n",
       "</style>\n",
       "<table border=\"1\" class=\"dataframe\">\n",
       "  <thead>\n",
       "    <tr style=\"text-align: right;\">\n",
       "      <th></th>\n",
       "      <th>DummyRegressor</th>\n",
       "      <th>LinearRegression</th>\n",
       "      <th>RandomForestRegressor</th>\n",
       "      <th>LGBMRegressor</th>\n",
       "      <th>CatBoostRegressor</th>\n",
       "      <th>KerasRegressor</th>\n",
       "    </tr>\n",
       "    <tr>\n",
       "      <th>Metrics</th>\n",
       "      <th></th>\n",
       "      <th></th>\n",
       "      <th></th>\n",
       "      <th></th>\n",
       "      <th></th>\n",
       "      <th></th>\n",
       "    </tr>\n",
       "  </thead>\n",
       "  <tbody>\n",
       "    <tr>\n",
       "      <th>mae</th>\n",
       "      <td>8.138624</td>\n",
       "      <td>6.588339</td>\n",
       "      <td>6.184247</td>\n",
       "      <td>6.076758</td>\n",
       "      <td>5.857465</td>\n",
       "      <td>11.123427</td>\n",
       "    </tr>\n",
       "    <tr>\n",
       "      <th>time_learn, min</th>\n",
       "      <td>0.000597</td>\n",
       "      <td>0.027269</td>\n",
       "      <td>0.253201</td>\n",
       "      <td>0.273208</td>\n",
       "      <td>20.418501</td>\n",
       "      <td>10.786504</td>\n",
       "    </tr>\n",
       "  </tbody>\n",
       "</table>\n",
       "</div>"
      ],
      "text/plain": [
       "                 DummyRegressor  LinearRegression  RandomForestRegressor  \\\n",
       "Metrics                                                                    \n",
       "mae                    8.138624          6.588339               6.184247   \n",
       "time_learn, min        0.000597          0.027269               0.253201   \n",
       "\n",
       "                 LGBMRegressor  CatBoostRegressor  KerasRegressor  \n",
       "Metrics                                                            \n",
       "mae                   6.076758           5.857465       11.123427  \n",
       "time_learn, min       0.273208          20.418501       10.786504  "
      ]
     },
     "metadata": {},
     "output_type": "display_data"
    }
   ],
   "source": [
    "### выведем результаты как таблицу с данными\n",
    "total_row_0 = ['mae', score_0, score_1, score_2, score_3, score_4, score_5]\n",
    "total_row_1 = ['time_learn, min', end_0/60, end_1/60, end_2/60, end_3/60, end_4/60, end_5/60]\n",
    "data_temp_scores = pd.DataFrame([total_row_0, total_row_1])\n",
    "data_temp_scores.columns = ['Metrics', 'DummyRegressor', 'LinearRegression', 'RandomForestRegressor', 'LGBMRegressor', \n",
    "                            'CatBoostRegressor', 'KerasRegressor']\n",
    "display(data_temp_scores.set_index('Metrics'))"
   ]
  },
  {
   "cell_type": "markdown",
   "metadata": {},
   "source": [
    "#### Вывод"
   ]
  },
  {
   "cell_type": "markdown",
   "metadata": {},
   "source": [
    "Лучшая модель - модель CatBoostRegressor, с показателем метрики МАЕ равным 5.857, но достаточно длительным временем обучения, порядка 20 минут. Для теста будем использовать именно эту модель."
   ]
  },
  {
   "cell_type": "markdown",
   "metadata": {},
   "source": [
    "### Тестирование лучшей модели"
   ]
  },
  {
   "cell_type": "code",
   "execution_count": 62,
   "metadata": {},
   "outputs": [
    {
     "name": "stdout",
     "output_type": "stream",
     "text": [
      "0:\tlearn: 11.2570424\ttotal: 3.31ms\tremaining: 4.96s\n",
      "500:\tlearn: 6.5416557\ttotal: 1.35s\tremaining: 2.69s\n",
      "1000:\tlearn: 5.4553680\ttotal: 2.7s\tremaining: 1.35s\n",
      "1499:\tlearn: 4.7654921\ttotal: 4.04s\tremaining: 0us\n"
     ]
    },
    {
     "data": {
      "text/plain": [
       "'Значение метрики МАЕ, на тестовой выборке составляет: 5.771'"
      ]
     },
     "metadata": {},
     "output_type": "display_data"
    },
    {
     "data": {
      "text/plain": [
       "'Значение метрики R2, на тестовой выборке составляет: 0.499'"
      ]
     },
     "metadata": {},
     "output_type": "display_data"
    }
   ],
   "source": [
    "### проведем тестирование, метрика МАЕ должна быть не выше 6,8\n",
    "cbc_reg_test = CatBoostRegressor(random_state=RANDOM_STATE, learning_rate=0.02, depth=5, iterations=1500, verbose=500)\n",
    "cbc_reg_test.fit(features_train, target_train)\n",
    "predictions = cbc_reg_test.predict(features_test)\n",
    "score_test_mae = round(mean_absolute_error(target_test, predictions), 3)\n",
    "score_test_r2 = round(r2_score(target_test, predictions), 3)\n",
    "display(f'Значение метрики МАЕ, на тестовой выборке составляет: {score_test_mae}')\n",
    "display(f'Значение метрики R2, на тестовой выборке составляет: {score_test_r2}')"
   ]
  },
  {
   "cell_type": "markdown",
   "metadata": {},
   "source": [
    "#### Вывод"
   ]
  },
  {
   "cell_type": "markdown",
   "metadata": {},
   "source": [
    "- Значение метрики МАЕ ниже 6.8 и составляет 5.771, задача тестирования выполнена верно. \n",
    "- Значение метрики R2 равно 0.5, что говорит о точности модели на уровне 50%"
   ]
  },
  {
   "cell_type": "markdown",
   "metadata": {},
   "source": [
    "### Анализ наиболее важных признаков для обучения модели"
   ]
  },
  {
   "cell_type": "code",
   "execution_count": 63,
   "metadata": {},
   "outputs": [],
   "source": [
    "### создадим функцию отображения наиболее важных параметров для обучения\n",
    "def features_importances_plot(features_importances, features_names, model_name):\n",
    "    feat_importances = pd.Series(features_importances, index=features_names).sort_values(ascending=False)\n",
    "    plt.figure(figsize=(15,5))\n",
    "    sns.barplot(x=feat_importances.index, y=feat_importances.values)\n",
    "    plt.grid()\n",
    "    plt.title(f'Наиболее значимые признаки для модели {model_name}')\n",
    "    plt.xticks(rotation=90);"
   ]
  },
  {
   "cell_type": "code",
   "execution_count": 64,
   "metadata": {},
   "outputs": [
    {
     "data": {
      "image/png": "[encoded data removed]",
      "text/plain": [
       "<Figure size 1080x360 with 1 Axes>"
      ]
     },
     "metadata": {
      "needs_background": "light"
     },
     "output_type": "display_data"
    }
   ],
   "source": [
    "### применим функцию для модели CatBoost\n",
    "features_importances_plot(features_importances=cbc_reg_test.feature_importances_, \n",
    "                          features_names=features_train.columns, model_name='CatBoost')"
   ]
  },
  {
   "cell_type": "markdown",
   "metadata": {},
   "source": [
    "#### Вывод"
   ]
  },
  {
   "cell_type": "markdown",
   "metadata": {},
   "source": [
    "В графике видны два наиболее важных параметра для обучения модели, это начальная температура и время нагрева электродами в секундах. Остальные параметры наименее важные."
   ]
  }
 ],
 "metadata": {
  "ExecuteTimeLog": [
   {
    "duration": 935,
    "start_time": "2023-06-26T10:59:12.260Z"
   },
   {
    "duration": 10916,
    "start_time": "2023-06-26T11:04:26.975Z"
   },
   {
    "duration": 4,
    "start_time": "2023-06-26T11:05:12.768Z"
   },
   {
    "duration": 4,
    "start_time": "2023-06-26T11:07:20.096Z"
   },
   {
    "duration": 6,
    "start_time": "2023-06-26T11:08:36.925Z"
   },
   {
    "duration": 125,
    "start_time": "2023-06-26T11:09:38.462Z"
   },
   {
    "duration": 120,
    "start_time": "2023-06-26T11:09:44.965Z"
   },
   {
    "duration": 16,
    "start_time": "2023-06-26T11:14:16.799Z"
   },
   {
    "duration": 17,
    "start_time": "2023-06-26T11:14:43.708Z"
   },
   {
    "duration": 16,
    "start_time": "2023-06-26T11:18:18.703Z"
   },
   {
    "duration": 24,
    "start_time": "2023-06-26T11:18:22.453Z"
   },
   {
    "duration": 16,
    "start_time": "2023-06-26T11:18:52.709Z"
   },
   {
    "duration": 16,
    "start_time": "2023-06-26T11:19:26.702Z"
   },
   {
    "duration": 11,
    "start_time": "2023-06-26T11:20:31.624Z"
   },
   {
    "duration": 14,
    "start_time": "2023-06-26T11:21:12.808Z"
   },
   {
    "duration": 57,
    "start_time": "2023-06-26T11:21:24.967Z"
   },
   {
    "duration": 4,
    "start_time": "2023-06-26T11:23:22.407Z"
   },
   {
    "duration": 28,
    "start_time": "2023-06-26T11:23:46.853Z"
   },
   {
    "duration": 27,
    "start_time": "2023-06-26T11:24:05.303Z"
   },
   {
    "duration": 26,
    "start_time": "2023-06-26T11:24:27.138Z"
   },
   {
    "duration": 49,
    "start_time": "2023-06-26T11:24:52.356Z"
   },
   {
    "duration": 33,
    "start_time": "2023-06-26T11:25:15.251Z"
   },
   {
    "duration": 36,
    "start_time": "2023-06-26T11:25:36.580Z"
   },
   {
    "duration": 35,
    "start_time": "2023-06-26T11:26:23.688Z"
   },
   {
    "duration": 177,
    "start_time": "2023-06-26T11:26:44.006Z"
   },
   {
    "duration": 66,
    "start_time": "2023-06-26T11:26:49.955Z"
   },
   {
    "duration": 45,
    "start_time": "2023-06-26T11:26:56.241Z"
   },
   {
    "duration": 39,
    "start_time": "2023-06-26T11:28:48.057Z"
   },
   {
    "duration": 73,
    "start_time": "2023-06-26T11:46:53.743Z"
   },
   {
    "duration": 32,
    "start_time": "2023-06-26T11:47:05.607Z"
   },
   {
    "duration": 33,
    "start_time": "2023-06-26T11:47:16.094Z"
   },
   {
    "duration": 221,
    "start_time": "2023-06-26T13:05:32.907Z"
   },
   {
    "duration": 94,
    "start_time": "2023-06-26T13:05:51.793Z"
   },
   {
    "duration": 109,
    "start_time": "2023-06-26T13:06:18.343Z"
   },
   {
    "duration": 100,
    "start_time": "2023-06-26T13:09:04.361Z"
   },
   {
    "duration": 240,
    "start_time": "2023-06-26T13:09:24.005Z"
   },
   {
    "duration": 103,
    "start_time": "2023-06-26T13:10:51.704Z"
   },
   {
    "duration": 15,
    "start_time": "2023-06-26T13:11:05.063Z"
   },
   {
    "duration": 28,
    "start_time": "2023-06-26T13:11:35.757Z"
   },
   {
    "duration": 18,
    "start_time": "2023-06-26T13:11:56.506Z"
   },
   {
    "duration": 30,
    "start_time": "2023-06-26T13:15:03.983Z"
   },
   {
    "duration": 1786,
    "start_time": "2023-06-26T13:18:08.209Z"
   },
   {
    "duration": 21,
    "start_time": "2023-06-26T13:18:19.012Z"
   },
   {
    "duration": 229,
    "start_time": "2023-06-26T13:18:51.922Z"
   },
   {
    "duration": 153,
    "start_time": "2023-06-26T13:19:03.064Z"
   },
   {
    "duration": 40,
    "start_time": "2023-06-26T13:19:36.013Z"
   },
   {
    "duration": 111,
    "start_time": "2023-06-26T13:19:56.803Z"
   },
   {
    "duration": 107,
    "start_time": "2023-06-26T13:20:10.645Z"
   },
   {
    "duration": 28,
    "start_time": "2023-06-26T13:20:22.004Z"
   },
   {
    "duration": 56,
    "start_time": "2023-06-26T13:23:33.062Z"
   },
   {
    "duration": 31,
    "start_time": "2023-06-26T13:26:09.709Z"
   },
   {
    "duration": 40,
    "start_time": "2023-06-26T13:28:28.287Z"
   },
   {
    "duration": 56,
    "start_time": "2023-06-26T13:28:35.870Z"
   },
   {
    "duration": 34,
    "start_time": "2023-06-26T13:28:48.209Z"
   },
   {
    "duration": 32,
    "start_time": "2023-06-26T13:29:09.061Z"
   },
   {
    "duration": 30,
    "start_time": "2023-06-26T13:30:09.995Z"
   },
   {
    "duration": 32,
    "start_time": "2023-06-26T13:33:29.394Z"
   },
   {
    "duration": 100,
    "start_time": "2023-06-26T13:35:57.842Z"
   },
   {
    "duration": 46,
    "start_time": "2023-06-26T13:36:29.869Z"
   },
   {
    "duration": 27,
    "start_time": "2023-06-26T13:37:47.032Z"
   },
   {
    "duration": 29,
    "start_time": "2023-06-26T13:38:02.147Z"
   },
   {
    "duration": 47,
    "start_time": "2023-06-26T13:38:11.808Z"
   },
   {
    "duration": 52,
    "start_time": "2023-06-26T13:38:40.266Z"
   },
   {
    "duration": 57,
    "start_time": "2023-06-26T13:39:31.026Z"
   },
   {
    "duration": 32,
    "start_time": "2023-06-26T13:40:24.600Z"
   },
   {
    "duration": 101,
    "start_time": "2023-06-26T13:41:32.048Z"
   },
   {
    "duration": 53,
    "start_time": "2023-06-26T13:41:38.068Z"
   },
   {
    "duration": 40,
    "start_time": "2023-06-26T13:41:51.593Z"
   },
   {
    "duration": 29,
    "start_time": "2023-06-26T13:44:58.225Z"
   },
   {
    "duration": 21,
    "start_time": "2023-06-26T13:45:35.955Z"
   },
   {
    "duration": 18,
    "start_time": "2023-06-26T13:50:02.707Z"
   },
   {
    "duration": 32,
    "start_time": "2023-06-26T14:01:04.087Z"
   },
   {
    "duration": 25,
    "start_time": "2023-06-26T14:10:14.345Z"
   },
   {
    "duration": 2539,
    "start_time": "2023-06-26T14:15:04.692Z"
   },
   {
    "duration": 0,
    "start_time": "2023-06-26T14:15:07.232Z"
   },
   {
    "duration": 24,
    "start_time": "2023-06-26T14:15:16.788Z"
   },
   {
    "duration": 2648,
    "start_time": "2023-06-26T14:15:43.954Z"
   },
   {
    "duration": 2123,
    "start_time": "2023-06-26T14:15:50.562Z"
   },
   {
    "duration": 2306,
    "start_time": "2023-06-26T14:15:53.458Z"
   },
   {
    "duration": 2189,
    "start_time": "2023-06-26T14:17:08.692Z"
   },
   {
    "duration": 30,
    "start_time": "2023-06-26T14:17:35.522Z"
   },
   {
    "duration": 17,
    "start_time": "2023-06-26T14:17:39.724Z"
   },
   {
    "duration": 21,
    "start_time": "2023-06-26T14:17:44.553Z"
   },
   {
    "duration": 1325,
    "start_time": "2023-06-26T14:22:28.210Z"
   },
   {
    "duration": 2643,
    "start_time": "2023-06-26T14:32:59.521Z"
   },
   {
    "duration": 39,
    "start_time": "2023-06-26T14:37:27.714Z"
   },
   {
    "duration": 38,
    "start_time": "2023-06-26T14:37:37.506Z"
   },
   {
    "duration": 31,
    "start_time": "2023-06-26T14:37:52.563Z"
   },
   {
    "duration": 99,
    "start_time": "2023-06-26T14:38:00.047Z"
   },
   {
    "duration": 72,
    "start_time": "2023-06-26T14:38:03.664Z"
   },
   {
    "duration": 19,
    "start_time": "2023-06-26T14:38:06.240Z"
   },
   {
    "duration": 23,
    "start_time": "2023-06-26T14:38:09.544Z"
   },
   {
    "duration": 143,
    "start_time": "2023-06-26T14:38:20.412Z"
   },
   {
    "duration": 75,
    "start_time": "2023-06-26T14:38:21.560Z"
   },
   {
    "duration": 25,
    "start_time": "2023-06-26T14:38:22.833Z"
   },
   {
    "duration": 28,
    "start_time": "2023-06-26T14:38:23.833Z"
   },
   {
    "duration": 915,
    "start_time": "2023-06-27T10:11:03.343Z"
   },
   {
    "duration": 3,
    "start_time": "2023-06-27T10:11:04.260Z"
   },
   {
    "duration": 9642,
    "start_time": "2023-06-27T10:11:04.264Z"
   },
   {
    "duration": 4,
    "start_time": "2023-06-27T10:11:13.908Z"
   },
   {
    "duration": 236,
    "start_time": "2023-06-27T10:11:13.914Z"
   },
   {
    "duration": 55,
    "start_time": "2023-06-27T10:11:14.151Z"
   },
   {
    "duration": 20,
    "start_time": "2023-06-27T10:11:14.208Z"
   },
   {
    "duration": 47,
    "start_time": "2023-06-27T10:11:14.230Z"
   },
   {
    "duration": 50,
    "start_time": "2023-06-27T10:11:14.280Z"
   },
   {
    "duration": 60,
    "start_time": "2023-06-27T10:11:14.332Z"
   },
   {
    "duration": 27,
    "start_time": "2023-06-27T10:11:14.394Z"
   },
   {
    "duration": 126,
    "start_time": "2023-06-27T10:11:14.422Z"
   },
   {
    "duration": 38,
    "start_time": "2023-06-27T10:11:14.549Z"
   },
   {
    "duration": 31,
    "start_time": "2023-06-27T10:11:14.589Z"
   },
   {
    "duration": 6,
    "start_time": "2023-06-27T10:14:15.556Z"
   },
   {
    "duration": 29,
    "start_time": "2023-06-27T10:16:30.004Z"
   },
   {
    "duration": 19,
    "start_time": "2023-06-27T10:17:04.932Z"
   },
   {
    "duration": 72,
    "start_time": "2023-06-27T10:18:25.303Z"
   },
   {
    "duration": 9,
    "start_time": "2023-06-27T10:44:53.830Z"
   },
   {
    "duration": 21,
    "start_time": "2023-06-27T10:45:23.109Z"
   },
   {
    "duration": 14,
    "start_time": "2023-06-27T10:45:43.232Z"
   },
   {
    "duration": 35,
    "start_time": "2023-06-27T10:45:46.924Z"
   },
   {
    "duration": 14,
    "start_time": "2023-06-27T10:50:30.764Z"
   },
   {
    "duration": 128,
    "start_time": "2023-06-27T10:55:54.619Z"
   },
   {
    "duration": 17,
    "start_time": "2023-06-27T11:13:57.726Z"
   },
   {
    "duration": 31,
    "start_time": "2023-06-27T11:14:19.769Z"
   },
   {
    "duration": 25,
    "start_time": "2023-06-27T11:15:12.561Z"
   },
   {
    "duration": 17,
    "start_time": "2023-06-27T11:16:35.516Z"
   },
   {
    "duration": 347,
    "start_time": "2023-06-27T11:17:04.898Z"
   },
   {
    "duration": 85,
    "start_time": "2023-06-27T11:19:45.463Z"
   },
   {
    "duration": 92,
    "start_time": "2023-06-27T11:20:16.512Z"
   },
   {
    "duration": 18,
    "start_time": "2023-06-27T11:20:26.343Z"
   },
   {
    "duration": 402,
    "start_time": "2023-06-27T11:34:06.822Z"
   },
   {
    "duration": 17,
    "start_time": "2023-06-27T11:36:15.966Z"
   },
   {
    "duration": 352,
    "start_time": "2023-06-27T11:36:28.455Z"
   },
   {
    "duration": 348,
    "start_time": "2023-06-27T11:37:58.599Z"
   },
   {
    "duration": 103,
    "start_time": "2023-06-27T11:38:54.224Z"
   },
   {
    "duration": 126,
    "start_time": "2023-06-27T11:39:19.415Z"
   },
   {
    "duration": 22,
    "start_time": "2023-06-27T11:39:38.116Z"
   },
   {
    "duration": 136,
    "start_time": "2023-06-27T11:39:52.861Z"
   },
   {
    "duration": 110,
    "start_time": "2023-06-27T11:39:58.418Z"
   },
   {
    "duration": 109,
    "start_time": "2023-06-27T11:44:19.822Z"
   },
   {
    "duration": 137,
    "start_time": "2023-06-27T11:45:23.294Z"
   },
   {
    "duration": 1066,
    "start_time": "2023-06-27T11:46:15.700Z"
   },
   {
    "duration": 24,
    "start_time": "2023-06-27T11:48:22.260Z"
   },
   {
    "duration": 1590,
    "start_time": "2023-06-27T11:48:56.807Z"
   },
   {
    "duration": 523,
    "start_time": "2023-06-27T11:49:36.035Z"
   },
   {
    "duration": 471,
    "start_time": "2023-06-27T11:49:48.340Z"
   },
   {
    "duration": 61,
    "start_time": "2023-06-27T11:50:03.964Z"
   },
   {
    "duration": 52,
    "start_time": "2023-06-27T11:50:08.924Z"
   },
   {
    "duration": 751,
    "start_time": "2023-06-27T11:58:29.110Z"
   },
   {
    "duration": 87,
    "start_time": "2023-06-27T11:58:40.264Z"
   },
   {
    "duration": 30,
    "start_time": "2023-06-27T11:58:41.015Z"
   },
   {
    "duration": 19,
    "start_time": "2023-06-27T11:58:41.631Z"
   },
   {
    "duration": 94,
    "start_time": "2023-06-27T11:58:42.329Z"
   },
   {
    "duration": 99,
    "start_time": "2023-06-27T11:58:43.120Z"
   },
   {
    "duration": 804,
    "start_time": "2023-06-27T12:13:42.018Z"
   },
   {
    "duration": 144,
    "start_time": "2023-06-27T12:13:58.610Z"
   },
   {
    "duration": 31,
    "start_time": "2023-06-27T12:13:58.767Z"
   },
   {
    "duration": 18,
    "start_time": "2023-06-27T12:13:58.799Z"
   },
   {
    "duration": 128,
    "start_time": "2023-06-27T12:13:58.820Z"
   },
   {
    "duration": 93,
    "start_time": "2023-06-27T12:13:58.949Z"
   },
   {
    "duration": 72,
    "start_time": "2023-06-27T12:13:59.043Z"
   },
   {
    "duration": 55,
    "start_time": "2023-06-27T12:13:59.117Z"
   },
   {
    "duration": 29,
    "start_time": "2023-06-27T12:13:59.174Z"
   },
   {
    "duration": 76,
    "start_time": "2023-06-27T12:13:59.204Z"
   },
   {
    "duration": 36,
    "start_time": "2023-06-27T12:13:59.282Z"
   },
   {
    "duration": 53,
    "start_time": "2023-06-27T12:13:59.319Z"
   },
   {
    "duration": 680,
    "start_time": "2023-06-27T12:14:46.028Z"
   },
   {
    "duration": 130,
    "start_time": "2023-06-27T12:15:04.419Z"
   },
   {
    "duration": 33,
    "start_time": "2023-06-27T12:15:04.551Z"
   },
   {
    "duration": 15,
    "start_time": "2023-06-27T12:15:04.586Z"
   },
   {
    "duration": 111,
    "start_time": "2023-06-27T12:15:04.603Z"
   },
   {
    "duration": 127,
    "start_time": "2023-06-27T12:15:04.716Z"
   },
   {
    "duration": 1,
    "start_time": "2023-06-27T12:15:04.844Z"
   },
   {
    "duration": 0,
    "start_time": "2023-06-27T12:15:04.845Z"
   },
   {
    "duration": 0,
    "start_time": "2023-06-27T12:15:04.847Z"
   },
   {
    "duration": 0,
    "start_time": "2023-06-27T12:15:04.847Z"
   },
   {
    "duration": 0,
    "start_time": "2023-06-27T12:15:04.848Z"
   },
   {
    "duration": 0,
    "start_time": "2023-06-27T12:15:04.849Z"
   },
   {
    "duration": 718,
    "start_time": "2023-06-27T12:15:32.118Z"
   },
   {
    "duration": 156,
    "start_time": "2023-06-27T12:17:41.026Z"
   },
   {
    "duration": 33,
    "start_time": "2023-06-27T12:17:41.184Z"
   },
   {
    "duration": 18,
    "start_time": "2023-06-27T12:17:41.219Z"
   },
   {
    "duration": 133,
    "start_time": "2023-06-27T12:17:41.239Z"
   },
   {
    "duration": 98,
    "start_time": "2023-06-27T12:17:41.374Z"
   },
   {
    "duration": 42,
    "start_time": "2023-06-27T12:17:41.473Z"
   },
   {
    "duration": 59,
    "start_time": "2023-06-27T12:17:41.516Z"
   },
   {
    "duration": 24,
    "start_time": "2023-06-27T12:17:41.576Z"
   },
   {
    "duration": 68,
    "start_time": "2023-06-27T12:17:41.602Z"
   },
   {
    "duration": 32,
    "start_time": "2023-06-27T12:17:41.673Z"
   },
   {
    "duration": 31,
    "start_time": "2023-06-27T12:17:41.707Z"
   },
   {
    "duration": 742,
    "start_time": "2023-06-27T12:59:30.925Z"
   },
   {
    "duration": 669,
    "start_time": "2023-06-27T12:59:40.625Z"
   },
   {
    "duration": 3,
    "start_time": "2023-06-27T12:59:41.296Z"
   },
   {
    "duration": 9661,
    "start_time": "2023-06-27T12:59:41.300Z"
   },
   {
    "duration": 3,
    "start_time": "2023-06-27T12:59:50.963Z"
   },
   {
    "duration": 252,
    "start_time": "2023-06-27T12:59:50.968Z"
   },
   {
    "duration": 30,
    "start_time": "2023-06-27T12:59:51.221Z"
   },
   {
    "duration": 18,
    "start_time": "2023-06-27T12:59:51.268Z"
   },
   {
    "duration": 105,
    "start_time": "2023-06-27T12:59:51.288Z"
   },
   {
    "duration": 94,
    "start_time": "2023-06-27T12:59:51.395Z"
   },
   {
    "duration": 42,
    "start_time": "2023-06-27T12:59:51.491Z"
   },
   {
    "duration": 53,
    "start_time": "2023-06-27T12:59:51.535Z"
   },
   {
    "duration": 24,
    "start_time": "2023-06-27T12:59:51.590Z"
   },
   {
    "duration": 121,
    "start_time": "2023-06-27T12:59:51.616Z"
   },
   {
    "duration": 42,
    "start_time": "2023-06-27T12:59:51.739Z"
   },
   {
    "duration": 33,
    "start_time": "2023-06-27T12:59:51.785Z"
   },
   {
    "duration": 49,
    "start_time": "2023-06-27T14:07:54.259Z"
   },
   {
    "duration": 50,
    "start_time": "2023-06-27T14:09:37.267Z"
   },
   {
    "duration": 81,
    "start_time": "2023-06-27T14:20:37.633Z"
   },
   {
    "duration": 29,
    "start_time": "2023-06-27T14:20:45.829Z"
   },
   {
    "duration": 43,
    "start_time": "2023-06-27T14:21:08.222Z"
   },
   {
    "duration": 81,
    "start_time": "2023-06-27T14:21:08.843Z"
   },
   {
    "duration": 49,
    "start_time": "2023-06-27T14:25:12.902Z"
   },
   {
    "duration": 61,
    "start_time": "2023-06-27T14:25:13.406Z"
   },
   {
    "duration": 23,
    "start_time": "2023-06-27T14:25:26.330Z"
   },
   {
    "duration": 13,
    "start_time": "2023-06-27T14:28:49.355Z"
   },
   {
    "duration": 70,
    "start_time": "2023-06-27T14:33:05.311Z"
   },
   {
    "duration": 23,
    "start_time": "2023-06-27T14:33:11.715Z"
   },
   {
    "duration": 4,
    "start_time": "2023-06-27T14:33:42.702Z"
   },
   {
    "duration": 22,
    "start_time": "2023-06-27T14:34:18.703Z"
   },
   {
    "duration": 23,
    "start_time": "2023-06-27T14:37:13.619Z"
   },
   {
    "duration": 26,
    "start_time": "2023-06-27T14:37:33.355Z"
   },
   {
    "duration": 1546,
    "start_time": "2023-06-27T14:43:35.051Z"
   },
   {
    "duration": 2156,
    "start_time": "2023-06-27T14:44:09.303Z"
   },
   {
    "duration": 2864,
    "start_time": "2023-06-27T14:45:07.515Z"
   },
   {
    "duration": 3345,
    "start_time": "2023-06-27T14:45:37.927Z"
   },
   {
    "duration": 3149,
    "start_time": "2023-06-27T14:46:00.220Z"
   },
   {
    "duration": 201,
    "start_time": "2023-06-27T15:00:02.308Z"
   },
   {
    "duration": 152,
    "start_time": "2023-06-27T15:00:11.508Z"
   },
   {
    "duration": 112,
    "start_time": "2023-06-27T15:00:16.540Z"
   },
   {
    "duration": 156,
    "start_time": "2023-06-27T15:00:20.156Z"
   },
   {
    "duration": 117,
    "start_time": "2023-06-27T15:00:53.215Z"
   },
   {
    "duration": 40,
    "start_time": "2023-06-27T15:01:44.576Z"
   },
   {
    "duration": 2561,
    "start_time": "2023-06-27T15:01:52.500Z"
   },
   {
    "duration": 2288,
    "start_time": "2023-06-27T15:02:24.316Z"
   },
   {
    "duration": 7,
    "start_time": "2023-06-27T15:02:33.993Z"
   },
   {
    "duration": 4,
    "start_time": "2023-06-27T15:02:43.144Z"
   },
   {
    "duration": 6,
    "start_time": "2023-06-27T15:02:51.532Z"
   },
   {
    "duration": 25,
    "start_time": "2023-06-27T15:07:43.334Z"
   },
   {
    "duration": 25,
    "start_time": "2023-06-27T15:07:55.036Z"
   },
   {
    "duration": 41,
    "start_time": "2023-06-27T15:08:13.368Z"
   },
   {
    "duration": 33,
    "start_time": "2023-06-27T15:08:14.052Z"
   },
   {
    "duration": 20,
    "start_time": "2023-06-27T15:11:22.522Z"
   },
   {
    "duration": 404,
    "start_time": "2023-06-27T15:12:00.916Z"
   },
   {
    "duration": 21,
    "start_time": "2023-06-27T15:12:48.771Z"
   },
   {
    "duration": 39,
    "start_time": "2023-06-27T15:13:05.084Z"
   },
   {
    "duration": 40,
    "start_time": "2023-06-27T15:13:12.560Z"
   },
   {
    "duration": 38,
    "start_time": "2023-06-27T15:13:13.256Z"
   },
   {
    "duration": 26,
    "start_time": "2023-06-27T15:13:42.063Z"
   },
   {
    "duration": 37,
    "start_time": "2023-06-27T15:13:45.512Z"
   },
   {
    "duration": 23,
    "start_time": "2023-06-27T15:13:46.112Z"
   },
   {
    "duration": 1789,
    "start_time": "2023-06-27T15:14:13.945Z"
   },
   {
    "duration": 12,
    "start_time": "2023-06-27T15:15:28.304Z"
   },
   {
    "duration": 10,
    "start_time": "2023-06-27T15:15:35.424Z"
   },
   {
    "duration": 38,
    "start_time": "2023-06-27T15:16:13.256Z"
   },
   {
    "duration": 9,
    "start_time": "2023-06-27T15:16:13.840Z"
   },
   {
    "duration": 136,
    "start_time": "2023-06-27T15:16:26.551Z"
   },
   {
    "duration": 8,
    "start_time": "2023-06-27T15:16:45.200Z"
   },
   {
    "duration": 38,
    "start_time": "2023-06-27T15:18:40.108Z"
   },
   {
    "duration": 9,
    "start_time": "2023-06-27T15:18:40.717Z"
   },
   {
    "duration": 80,
    "start_time": "2023-06-27T15:19:07.360Z"
   },
   {
    "duration": 39,
    "start_time": "2023-06-27T15:19:13.016Z"
   },
   {
    "duration": 81,
    "start_time": "2023-06-27T15:19:13.552Z"
   },
   {
    "duration": 37,
    "start_time": "2023-06-27T15:19:22.151Z"
   },
   {
    "duration": 9,
    "start_time": "2023-06-27T15:19:22.638Z"
   },
   {
    "duration": 54,
    "start_time": "2023-06-27T15:24:08.898Z"
   },
   {
    "duration": 9,
    "start_time": "2023-06-27T15:24:09.422Z"
   },
   {
    "duration": 40,
    "start_time": "2023-06-27T15:24:27.496Z"
   },
   {
    "duration": 10,
    "start_time": "2023-06-27T15:24:27.959Z"
   },
   {
    "duration": 10,
    "start_time": "2023-06-27T15:24:42.704Z"
   },
   {
    "duration": 26,
    "start_time": "2023-06-27T15:24:48.312Z"
   },
   {
    "duration": 924,
    "start_time": "2023-06-29T07:03:59.103Z"
   },
   {
    "duration": 3,
    "start_time": "2023-06-29T07:04:00.030Z"
   },
   {
    "duration": 10173,
    "start_time": "2023-06-29T07:04:00.035Z"
   },
   {
    "duration": 3,
    "start_time": "2023-06-29T07:04:10.211Z"
   },
   {
    "duration": 532,
    "start_time": "2023-06-29T07:04:10.216Z"
   },
   {
    "duration": 41,
    "start_time": "2023-06-29T07:04:10.750Z"
   },
   {
    "duration": 20,
    "start_time": "2023-06-29T07:04:10.793Z"
   },
   {
    "duration": 163,
    "start_time": "2023-06-29T07:04:10.814Z"
   },
   {
    "duration": 114,
    "start_time": "2023-06-29T07:04:10.979Z"
   },
   {
    "duration": 112,
    "start_time": "2023-06-29T07:04:11.097Z"
   },
   {
    "duration": 94,
    "start_time": "2023-06-29T07:04:11.212Z"
   },
   {
    "duration": 114,
    "start_time": "2023-06-29T07:04:11.308Z"
   },
   {
    "duration": 51,
    "start_time": "2023-06-29T07:04:11.424Z"
   },
   {
    "duration": 62,
    "start_time": "2023-06-29T07:04:11.477Z"
   },
   {
    "duration": 193,
    "start_time": "2023-06-29T07:04:11.541Z"
   },
   {
    "duration": 78,
    "start_time": "2023-06-29T07:04:11.736Z"
   },
   {
    "duration": 80,
    "start_time": "2023-06-29T07:04:11.816Z"
   },
   {
    "duration": 4,
    "start_time": "2023-06-29T07:05:47.571Z"
   },
   {
    "duration": 44,
    "start_time": "2023-06-29T07:15:57.423Z"
   },
   {
    "duration": 44,
    "start_time": "2023-06-29T07:16:27.634Z"
   },
   {
    "duration": 26,
    "start_time": "2023-06-29T07:37:37.006Z"
   },
   {
    "duration": 31,
    "start_time": "2023-06-29T07:37:44.308Z"
   },
   {
    "duration": 36,
    "start_time": "2023-06-29T08:22:47.652Z"
   },
   {
    "duration": 120,
    "start_time": "2023-06-29T08:22:57.299Z"
   },
   {
    "duration": 32,
    "start_time": "2023-06-29T08:22:57.855Z"
   },
   {
    "duration": 30,
    "start_time": "2023-06-29T08:23:27.248Z"
   },
   {
    "duration": 122,
    "start_time": "2023-06-29T08:23:30.291Z"
   },
   {
    "duration": 32,
    "start_time": "2023-06-29T08:23:30.831Z"
   },
   {
    "duration": 17,
    "start_time": "2023-06-29T08:24:29.118Z"
   },
   {
    "duration": 5,
    "start_time": "2023-06-29T08:24:46.689Z"
   },
   {
    "duration": 15,
    "start_time": "2023-06-29T08:24:57.766Z"
   },
   {
    "duration": 241,
    "start_time": "2023-06-29T08:30:17.767Z"
   },
   {
    "duration": 5,
    "start_time": "2023-06-29T08:30:28.501Z"
   },
   {
    "duration": 93,
    "start_time": "2023-06-29T08:30:46.838Z"
   },
   {
    "duration": 23,
    "start_time": "2023-06-29T08:30:58.033Z"
   },
   {
    "duration": 5,
    "start_time": "2023-06-29T08:32:30.659Z"
   },
   {
    "duration": 13,
    "start_time": "2023-06-29T08:32:31.614Z"
   },
   {
    "duration": 20,
    "start_time": "2023-06-29T08:33:23.167Z"
   },
   {
    "duration": 121,
    "start_time": "2023-06-29T08:34:11.416Z"
   },
   {
    "duration": 5270,
    "start_time": "2023-06-29T08:34:12.255Z"
   },
   {
    "duration": 0,
    "start_time": "2023-06-29T08:34:17.527Z"
   },
   {
    "duration": 19,
    "start_time": "2023-06-29T08:34:17.734Z"
   },
   {
    "duration": 36,
    "start_time": "2023-06-29T08:34:50.717Z"
   },
   {
    "duration": 13,
    "start_time": "2023-06-29T08:35:07.222Z"
   },
   {
    "duration": 24,
    "start_time": "2023-06-29T08:35:13.410Z"
   },
   {
    "duration": 4,
    "start_time": "2023-06-29T08:35:33.669Z"
   },
   {
    "duration": 19,
    "start_time": "2023-06-29T08:35:34.415Z"
   },
   {
    "duration": 4,
    "start_time": "2023-06-29T08:37:31.166Z"
   },
   {
    "duration": 29,
    "start_time": "2023-06-29T08:37:32.054Z"
   },
   {
    "duration": 50,
    "start_time": "2023-06-29T08:37:37.667Z"
   },
   {
    "duration": 4,
    "start_time": "2023-06-29T08:38:25.453Z"
   },
   {
    "duration": 44,
    "start_time": "2023-06-29T08:38:26.630Z"
   },
   {
    "duration": 4,
    "start_time": "2023-06-29T08:40:18.557Z"
   },
   {
    "duration": 45,
    "start_time": "2023-06-29T08:40:19.933Z"
   },
   {
    "duration": 4,
    "start_time": "2023-06-29T08:40:43.768Z"
   },
   {
    "duration": 294,
    "start_time": "2023-06-29T08:40:45.269Z"
   },
   {
    "duration": 3,
    "start_time": "2023-06-29T08:41:47.045Z"
   },
   {
    "duration": 70,
    "start_time": "2023-06-29T08:41:47.624Z"
   },
   {
    "duration": 15,
    "start_time": "2023-06-29T08:43:10.910Z"
   },
   {
    "duration": 8,
    "start_time": "2023-06-29T08:43:18.994Z"
   },
   {
    "duration": 7,
    "start_time": "2023-06-29T08:43:25.557Z"
   },
   {
    "duration": 7,
    "start_time": "2023-06-29T08:43:47.164Z"
   },
   {
    "duration": 4,
    "start_time": "2023-06-29T08:44:01.559Z"
   },
   {
    "duration": 67,
    "start_time": "2023-06-29T08:44:02.725Z"
   },
   {
    "duration": 4,
    "start_time": "2023-06-29T08:44:15.054Z"
   },
   {
    "duration": 72,
    "start_time": "2023-06-29T08:44:16.122Z"
   },
   {
    "duration": 119,
    "start_time": "2023-06-29T08:44:35.658Z"
   },
   {
    "duration": 34,
    "start_time": "2023-06-29T08:44:36.320Z"
   },
   {
    "duration": 3,
    "start_time": "2023-06-29T08:44:37.844Z"
   },
   {
    "duration": 42,
    "start_time": "2023-06-29T08:44:39.261Z"
   },
   {
    "duration": 3,
    "start_time": "2023-06-29T08:44:57.007Z"
   },
   {
    "duration": 201,
    "start_time": "2023-06-29T08:44:57.853Z"
   },
   {
    "duration": 4,
    "start_time": "2023-06-29T08:45:34.059Z"
   },
   {
    "duration": 93,
    "start_time": "2023-06-29T08:45:35.068Z"
   },
   {
    "duration": 4,
    "start_time": "2023-06-29T08:46:02.112Z"
   },
   {
    "duration": 65,
    "start_time": "2023-06-29T08:46:03.011Z"
   },
   {
    "duration": 5,
    "start_time": "2023-06-29T08:46:22.805Z"
   },
   {
    "duration": 63,
    "start_time": "2023-06-29T08:46:23.818Z"
   },
   {
    "duration": 4,
    "start_time": "2023-06-29T08:47:00.107Z"
   },
   {
    "duration": 64,
    "start_time": "2023-06-29T08:47:01.004Z"
   },
   {
    "duration": 4,
    "start_time": "2023-06-29T08:48:07.853Z"
   },
   {
    "duration": 61,
    "start_time": "2023-06-29T08:48:08.836Z"
   },
   {
    "duration": 3,
    "start_time": "2023-06-29T08:48:36.763Z"
   },
   {
    "duration": 45,
    "start_time": "2023-06-29T08:48:37.904Z"
   },
   {
    "duration": 2877,
    "start_time": "2023-06-29T08:49:11.126Z"
   },
   {
    "duration": 3,
    "start_time": "2023-06-29T08:49:36.330Z"
   },
   {
    "duration": 2952,
    "start_time": "2023-06-29T08:49:37.307Z"
   },
   {
    "duration": 5,
    "start_time": "2023-06-29T08:50:25.220Z"
   },
   {
    "duration": 3,
    "start_time": "2023-06-29T08:51:17.158Z"
   },
   {
    "duration": 3,
    "start_time": "2023-06-29T08:51:51.282Z"
   },
   {
    "duration": 4,
    "start_time": "2023-06-29T08:52:24.568Z"
   },
   {
    "duration": 5,
    "start_time": "2023-06-29T08:53:02.498Z"
   },
   {
    "duration": 3579,
    "start_time": "2023-06-29T08:53:02.504Z"
   },
   {
    "duration": 118,
    "start_time": "2023-06-29T08:55:14.619Z"
   },
   {
    "duration": 3,
    "start_time": "2023-06-29T08:55:15.204Z"
   },
   {
    "duration": 4,
    "start_time": "2023-06-29T08:55:16.784Z"
   },
   {
    "duration": 3125,
    "start_time": "2023-06-29T08:55:18.107Z"
   },
   {
    "duration": 119,
    "start_time": "2023-06-29T08:55:32.248Z"
   },
   {
    "duration": 34,
    "start_time": "2023-06-29T08:55:32.903Z"
   },
   {
    "duration": 4,
    "start_time": "2023-06-29T08:55:34.759Z"
   },
   {
    "duration": 3309,
    "start_time": "2023-06-29T08:55:35.806Z"
   },
   {
    "duration": 55,
    "start_time": "2023-06-29T09:49:41.464Z"
   },
   {
    "duration": 3784,
    "start_time": "2023-06-29T09:49:49.724Z"
   },
   {
    "duration": 4,
    "start_time": "2023-06-29T09:51:41.779Z"
   },
   {
    "duration": 4304,
    "start_time": "2023-06-29T09:51:43.533Z"
   },
   {
    "duration": 3,
    "start_time": "2023-06-29T09:52:20.732Z"
   },
   {
    "duration": 18267,
    "start_time": "2023-06-29T09:52:23.141Z"
   },
   {
    "duration": 4,
    "start_time": "2023-06-29T09:52:47.753Z"
   },
   {
    "duration": 3603,
    "start_time": "2023-06-29T09:52:48.827Z"
   },
   {
    "duration": 3,
    "start_time": "2023-06-29T09:53:41.101Z"
   },
   {
    "duration": 2649,
    "start_time": "2023-06-29T09:53:43.449Z"
   },
   {
    "duration": 3,
    "start_time": "2023-06-29T09:58:01.307Z"
   },
   {
    "duration": 1598,
    "start_time": "2023-06-29T09:58:07.094Z"
   },
   {
    "duration": 4,
    "start_time": "2023-06-29T09:58:51.704Z"
   },
   {
    "duration": 20,
    "start_time": "2023-06-29T09:58:53.931Z"
   },
   {
    "duration": 4,
    "start_time": "2023-06-29T10:01:37.386Z"
   },
   {
    "duration": 7352,
    "start_time": "2023-06-29T10:01:40.827Z"
   },
   {
    "duration": 2,
    "start_time": "2023-06-29T10:16:16.482Z"
   },
   {
    "duration": 2,
    "start_time": "2023-06-29T10:16:17.739Z"
   },
   {
    "duration": 12,
    "start_time": "2023-06-29T10:16:51.400Z"
   },
   {
    "duration": 13,
    "start_time": "2023-06-29T10:16:54.691Z"
   },
   {
    "duration": 8,
    "start_time": "2023-06-29T10:17:00.280Z"
   },
   {
    "duration": 11,
    "start_time": "2023-06-29T10:17:08.205Z"
   },
   {
    "duration": 7,
    "start_time": "2023-06-29T10:17:59.035Z"
   },
   {
    "duration": 8,
    "start_time": "2023-06-29T10:18:08.107Z"
   },
   {
    "duration": 143,
    "start_time": "2023-06-29T10:20:57.636Z"
   },
   {
    "duration": 39,
    "start_time": "2023-06-29T10:20:58.190Z"
   },
   {
    "duration": 4,
    "start_time": "2023-06-29T10:23:31.494Z"
   },
   {
    "duration": 26,
    "start_time": "2023-06-29T10:23:42.642Z"
   },
   {
    "duration": 5,
    "start_time": "2023-06-29T10:24:38.606Z"
   },
   {
    "duration": 16,
    "start_time": "2023-06-29T10:24:39.130Z"
   },
   {
    "duration": 4,
    "start_time": "2023-06-29T10:30:53.617Z"
   },
   {
    "duration": 1127,
    "start_time": "2023-06-29T10:30:55.184Z"
   },
   {
    "duration": 3,
    "start_time": "2023-06-29T10:31:20.172Z"
   },
   {
    "duration": 11310,
    "start_time": "2023-06-29T10:31:20.652Z"
   },
   {
    "duration": 5,
    "start_time": "2023-06-29T10:32:27.351Z"
   },
   {
    "duration": 20,
    "start_time": "2023-06-29T10:32:28.111Z"
   },
   {
    "duration": 16,
    "start_time": "2023-06-29T10:42:19.744Z"
   },
   {
    "duration": 15,
    "start_time": "2023-06-29T10:43:06.197Z"
   },
   {
    "duration": 16,
    "start_time": "2023-06-29T10:43:12.431Z"
   },
   {
    "duration": 52,
    "start_time": "2023-06-29T10:44:18.597Z"
   },
   {
    "duration": 4013,
    "start_time": "2023-06-29T10:45:45.690Z"
   },
   {
    "duration": 4561,
    "start_time": "2023-06-29T10:46:14.105Z"
   },
   {
    "duration": 126,
    "start_time": "2023-06-29T10:46:27.491Z"
   },
   {
    "duration": 105,
    "start_time": "2023-06-29T10:46:34.691Z"
   },
   {
    "duration": 109,
    "start_time": "2023-06-29T10:47:01.605Z"
   },
   {
    "duration": 3,
    "start_time": "2023-06-29T10:47:13.246Z"
   },
   {
    "duration": 40,
    "start_time": "2023-06-29T10:48:02.459Z"
   },
   {
    "duration": 23,
    "start_time": "2023-06-29T10:48:33.193Z"
   },
   {
    "duration": 23,
    "start_time": "2023-06-29T10:48:37.006Z"
   },
   {
    "duration": 20,
    "start_time": "2023-06-29T10:49:57.301Z"
   },
   {
    "duration": 54,
    "start_time": "2023-06-29T10:50:49.684Z"
   },
   {
    "duration": 133,
    "start_time": "2023-06-29T10:51:11.807Z"
   },
   {
    "duration": 30,
    "start_time": "2023-06-29T10:51:12.380Z"
   },
   {
    "duration": 2,
    "start_time": "2023-06-29T10:51:14.484Z"
   },
   {
    "duration": 63,
    "start_time": "2023-06-29T10:51:15.218Z"
   },
   {
    "duration": 19,
    "start_time": "2023-06-29T10:51:33.589Z"
   },
   {
    "duration": 19,
    "start_time": "2023-06-29T10:54:23.267Z"
   },
   {
    "duration": 17,
    "start_time": "2023-06-29T10:54:37.405Z"
   },
   {
    "duration": 18,
    "start_time": "2023-06-29T10:54:48.974Z"
   },
   {
    "duration": 18,
    "start_time": "2023-06-29T10:54:51.315Z"
   },
   {
    "duration": 756,
    "start_time": "2023-06-29T10:55:02.149Z"
   },
   {
    "duration": 2847,
    "start_time": "2023-06-29T10:55:34.519Z"
   },
   {
    "duration": 693,
    "start_time": "2023-06-29T10:55:44.424Z"
   },
   {
    "duration": 794,
    "start_time": "2023-06-29T10:55:50.830Z"
   },
   {
    "duration": 16,
    "start_time": "2023-06-29T10:56:48.776Z"
   },
   {
    "duration": 15,
    "start_time": "2023-06-29T10:57:36.836Z"
   },
   {
    "duration": 15,
    "start_time": "2023-06-29T10:58:01.067Z"
   },
   {
    "duration": 7952,
    "start_time": "2023-06-29T10:58:17.514Z"
   },
   {
    "duration": 7031,
    "start_time": "2023-06-29T11:05:53.887Z"
   },
   {
    "duration": 8540,
    "start_time": "2023-06-29T12:31:05.814Z"
   },
   {
    "duration": 848,
    "start_time": "2023-06-29T12:31:24.432Z"
   },
   {
    "duration": 991,
    "start_time": "2023-06-29T12:31:31.299Z"
   },
   {
    "duration": 24,
    "start_time": "2023-06-29T12:32:10.495Z"
   },
   {
    "duration": 29,
    "start_time": "2023-06-29T12:32:57.571Z"
   },
   {
    "duration": 29,
    "start_time": "2023-06-29T12:33:10.178Z"
   },
   {
    "duration": 104,
    "start_time": "2023-06-29T12:33:35.974Z"
   },
   {
    "duration": 231,
    "start_time": "2023-06-29T12:33:40.874Z"
   },
   {
    "duration": 32,
    "start_time": "2023-06-29T12:34:05.508Z"
   },
   {
    "duration": 153,
    "start_time": "2023-06-29T12:34:16.538Z"
   },
   {
    "duration": 34,
    "start_time": "2023-06-29T12:34:17.162Z"
   },
   {
    "duration": 4,
    "start_time": "2023-06-29T12:34:18.976Z"
   },
   {
    "duration": 27,
    "start_time": "2023-06-29T12:34:19.706Z"
   },
   {
    "duration": 26,
    "start_time": "2023-06-29T12:35:13.786Z"
   },
   {
    "duration": 124,
    "start_time": "2023-06-29T12:35:18.164Z"
   },
   {
    "duration": 48,
    "start_time": "2023-06-29T12:35:18.744Z"
   },
   {
    "duration": 3,
    "start_time": "2023-06-29T12:35:19.994Z"
   },
   {
    "duration": 36,
    "start_time": "2023-06-29T12:35:20.636Z"
   },
   {
    "duration": 20,
    "start_time": "2023-06-29T12:36:19.613Z"
   },
   {
    "duration": 27,
    "start_time": "2023-06-29T12:36:37.740Z"
   },
   {
    "duration": 24,
    "start_time": "2023-06-29T12:36:50.618Z"
   },
   {
    "duration": 25,
    "start_time": "2023-06-29T12:37:01.540Z"
   },
   {
    "duration": 18,
    "start_time": "2023-06-29T12:45:57.096Z"
   },
   {
    "duration": 207,
    "start_time": "2023-06-29T12:47:01.847Z"
   },
   {
    "duration": 232,
    "start_time": "2023-06-29T12:47:08.807Z"
   },
   {
    "duration": 823,
    "start_time": "2023-06-29T12:48:10.954Z"
   },
   {
    "duration": 264,
    "start_time": "2023-06-29T12:48:18.401Z"
   },
   {
    "duration": 12,
    "start_time": "2023-06-29T12:49:08.040Z"
   },
   {
    "duration": 14,
    "start_time": "2023-06-29T13:13:21.429Z"
   },
   {
    "duration": 12,
    "start_time": "2023-06-29T13:13:32.204Z"
   },
   {
    "duration": 212,
    "start_time": "2023-06-29T13:13:36.710Z"
   },
   {
    "duration": 34,
    "start_time": "2023-06-29T13:15:23.308Z"
   },
   {
    "duration": 4666,
    "start_time": "2023-06-29T13:16:42.316Z"
   },
   {
    "duration": 4809,
    "start_time": "2023-06-29T13:17:05.701Z"
   },
   {
    "duration": 4638,
    "start_time": "2023-06-29T13:17:20.802Z"
   },
   {
    "duration": 4,
    "start_time": "2023-06-29T13:20:47.418Z"
   },
   {
    "duration": 31,
    "start_time": "2023-06-29T13:20:56.633Z"
   },
   {
    "duration": 20,
    "start_time": "2023-06-29T13:21:22.300Z"
   },
   {
    "duration": 11,
    "start_time": "2023-06-29T13:21:55.838Z"
   },
   {
    "duration": 27,
    "start_time": "2023-06-29T13:22:01.101Z"
   },
   {
    "duration": 4,
    "start_time": "2023-06-29T13:34:39.900Z"
   },
   {
    "duration": 16,
    "start_time": "2023-06-29T13:35:10.502Z"
   },
   {
    "duration": 24,
    "start_time": "2023-06-29T13:48:56.022Z"
   },
   {
    "duration": 41,
    "start_time": "2023-06-29T13:49:10.976Z"
   },
   {
    "duration": 4894,
    "start_time": "2023-06-29T13:49:27.391Z"
   },
   {
    "duration": 1214,
    "start_time": "2023-06-29T13:49:50.497Z"
   },
   {
    "duration": 496,
    "start_time": "2023-06-29T13:49:57.778Z"
   },
   {
    "duration": 3997,
    "start_time": "2023-06-29T13:50:47.081Z"
   },
   {
    "duration": 14045,
    "start_time": "2023-06-29T13:51:31.989Z"
   },
   {
    "duration": 1012,
    "start_time": "2023-06-29T13:52:05.588Z"
   },
   {
    "duration": 32,
    "start_time": "2023-06-29T14:01:56.997Z"
   },
   {
    "duration": 1072,
    "start_time": "2023-06-29T14:02:07.497Z"
   },
   {
    "duration": 33,
    "start_time": "2023-06-29T14:02:20.338Z"
   },
   {
    "duration": 4,
    "start_time": "2023-06-29T14:02:28.245Z"
   },
   {
    "duration": 327,
    "start_time": "2023-06-29T14:08:56.567Z"
   },
   {
    "duration": 299,
    "start_time": "2023-06-29T14:09:11.746Z"
   },
   {
    "duration": 35,
    "start_time": "2023-06-29T14:11:50.950Z"
   },
   {
    "duration": 368,
    "start_time": "2023-06-29T14:11:55.612Z"
   },
   {
    "duration": 3828,
    "start_time": "2023-06-29T14:12:48.991Z"
   },
   {
    "duration": 313,
    "start_time": "2023-06-29T14:15:07.314Z"
   },
   {
    "duration": 12,
    "start_time": "2023-06-29T14:22:55.920Z"
   },
   {
    "duration": 53,
    "start_time": "2023-06-29T14:24:46.741Z"
   },
   {
    "duration": 14,
    "start_time": "2023-06-29T14:26:17.807Z"
   },
   {
    "duration": 1156,
    "start_time": "2023-06-29T14:32:51.409Z"
   },
   {
    "duration": 4,
    "start_time": "2023-06-29T14:32:52.577Z"
   },
   {
    "duration": 108620,
    "start_time": "2023-06-29T14:32:52.586Z"
   },
   {
    "duration": 6,
    "start_time": "2023-06-29T14:34:41.208Z"
   },
   {
    "duration": 649,
    "start_time": "2023-06-29T14:34:41.216Z"
   },
   {
    "duration": 54,
    "start_time": "2023-06-29T14:34:41.872Z"
   },
   {
    "duration": 20,
    "start_time": "2023-06-29T14:34:41.928Z"
   },
   {
    "duration": 158,
    "start_time": "2023-06-29T14:34:41.951Z"
   },
   {
    "duration": 140,
    "start_time": "2023-06-29T14:34:42.111Z"
   },
   {
    "duration": 127,
    "start_time": "2023-06-29T14:34:42.254Z"
   },
   {
    "duration": 115,
    "start_time": "2023-06-29T14:34:42.386Z"
   },
   {
    "duration": 122,
    "start_time": "2023-06-29T14:34:42.509Z"
   },
   {
    "duration": 52,
    "start_time": "2023-06-29T14:34:42.633Z"
   },
   {
    "duration": 22,
    "start_time": "2023-06-29T14:34:42.695Z"
   },
   {
    "duration": 9,
    "start_time": "2023-06-29T14:34:42.719Z"
   },
   {
    "duration": 9,
    "start_time": "2023-06-29T14:34:42.730Z"
   },
   {
    "duration": 7,
    "start_time": "2023-06-29T14:34:42.740Z"
   },
   {
    "duration": 170,
    "start_time": "2023-06-29T14:34:42.749Z"
   },
   {
    "duration": 221,
    "start_time": "2023-06-29T14:34:42.921Z"
   },
   {
    "duration": 108,
    "start_time": "2023-06-29T14:34:43.144Z"
   },
   {
    "duration": 129,
    "start_time": "2023-06-29T14:34:43.253Z"
   },
   {
    "duration": 946,
    "start_time": "2023-06-29T16:59:27.389Z"
   },
   {
    "duration": 3,
    "start_time": "2023-06-29T16:59:28.337Z"
   },
   {
    "duration": 9897,
    "start_time": "2023-06-29T16:59:28.344Z"
   },
   {
    "duration": 3,
    "start_time": "2023-06-29T16:59:38.245Z"
   },
   {
    "duration": 244,
    "start_time": "2023-06-29T16:59:38.250Z"
   },
   {
    "duration": 41,
    "start_time": "2023-06-29T16:59:38.496Z"
   },
   {
    "duration": 26,
    "start_time": "2023-06-29T16:59:38.540Z"
   },
   {
    "duration": 145,
    "start_time": "2023-06-29T16:59:38.569Z"
   },
   {
    "duration": 115,
    "start_time": "2023-06-29T16:59:38.717Z"
   },
   {
    "duration": 47,
    "start_time": "2023-06-29T16:59:38.834Z"
   },
   {
    "duration": 84,
    "start_time": "2023-06-29T16:59:38.882Z"
   },
   {
    "duration": 55,
    "start_time": "2023-06-29T16:59:38.967Z"
   },
   {
    "duration": 26,
    "start_time": "2023-06-29T16:59:39.023Z"
   },
   {
    "duration": 2,
    "start_time": "2023-06-29T16:59:39.051Z"
   },
   {
    "duration": 50,
    "start_time": "2023-06-29T16:59:39.055Z"
   },
   {
    "duration": 18,
    "start_time": "2023-06-29T16:59:39.107Z"
   },
   {
    "duration": 25,
    "start_time": "2023-06-29T16:59:39.127Z"
   },
   {
    "duration": 86,
    "start_time": "2023-06-29T16:59:39.154Z"
   },
   {
    "duration": 121,
    "start_time": "2023-06-29T16:59:39.243Z"
   },
   {
    "duration": 51,
    "start_time": "2023-06-29T16:59:39.366Z"
   },
   {
    "duration": 64,
    "start_time": "2023-06-29T16:59:39.419Z"
   },
   {
    "duration": 21,
    "start_time": "2023-06-29T17:00:01.485Z"
   },
   {
    "duration": 32,
    "start_time": "2023-06-29T17:00:42.709Z"
   },
   {
    "duration": 25,
    "start_time": "2023-06-29T17:10:41.595Z"
   },
   {
    "duration": 23,
    "start_time": "2023-06-29T17:14:07.150Z"
   },
   {
    "duration": 37,
    "start_time": "2023-06-29T17:15:24.359Z"
   },
   {
    "duration": 30,
    "start_time": "2023-06-29T17:26:01.631Z"
   },
   {
    "duration": 30,
    "start_time": "2023-06-29T18:37:49.134Z"
   },
   {
    "duration": 1128,
    "start_time": "2023-06-29T21:05:01.646Z"
   },
   {
    "duration": 3,
    "start_time": "2023-06-29T21:05:02.776Z"
   },
   {
    "duration": 8654,
    "start_time": "2023-06-29T21:05:02.780Z"
   },
   {
    "duration": 5,
    "start_time": "2023-06-29T21:05:11.439Z"
   },
   {
    "duration": 491,
    "start_time": "2023-06-29T21:05:11.446Z"
   },
   {
    "duration": 39,
    "start_time": "2023-06-29T21:05:11.939Z"
   },
   {
    "duration": 33,
    "start_time": "2023-06-29T21:05:11.980Z"
   },
   {
    "duration": 119,
    "start_time": "2023-06-29T21:05:12.015Z"
   },
   {
    "duration": 97,
    "start_time": "2023-06-29T21:05:12.136Z"
   },
   {
    "duration": 74,
    "start_time": "2023-06-29T21:05:12.236Z"
   },
   {
    "duration": 64,
    "start_time": "2023-06-29T21:05:12.311Z"
   },
   {
    "duration": 76,
    "start_time": "2023-06-29T21:05:12.377Z"
   },
   {
    "duration": 28,
    "start_time": "2023-06-29T21:05:12.455Z"
   },
   {
    "duration": 3,
    "start_time": "2023-06-29T21:05:12.484Z"
   },
   {
    "duration": 8,
    "start_time": "2023-06-29T21:05:12.488Z"
   },
   {
    "duration": 6,
    "start_time": "2023-06-29T21:05:12.497Z"
   },
   {
    "duration": 54,
    "start_time": "2023-06-29T21:05:12.505Z"
   },
   {
    "duration": 25,
    "start_time": "2023-06-29T21:05:12.561Z"
   },
   {
    "duration": 64,
    "start_time": "2023-06-29T21:05:12.587Z"
   },
   {
    "duration": 141,
    "start_time": "2023-06-29T21:05:12.652Z"
   },
   {
    "duration": 69,
    "start_time": "2023-06-29T21:05:12.795Z"
   },
   {
    "duration": 59,
    "start_time": "2023-06-29T21:05:12.866Z"
   },
   {
    "duration": 86,
    "start_time": "2023-06-29T21:07:52.397Z"
   },
   {
    "duration": 91,
    "start_time": "2023-06-29T21:08:58.260Z"
   },
   {
    "duration": 102,
    "start_time": "2023-06-29T21:09:15.263Z"
   },
   {
    "duration": 85,
    "start_time": "2023-06-29T21:09:28.662Z"
   },
   {
    "duration": 2,
    "start_time": "2023-06-29T21:10:58.968Z"
   },
   {
    "duration": 9,
    "start_time": "2023-06-29T21:11:16.802Z"
   },
   {
    "duration": 7,
    "start_time": "2023-06-29T21:11:38.559Z"
   },
   {
    "duration": 9,
    "start_time": "2023-06-29T21:11:44.901Z"
   },
   {
    "duration": 61,
    "start_time": "2023-06-29T21:12:04.538Z"
   },
   {
    "duration": 9,
    "start_time": "2023-06-29T21:12:15.721Z"
   },
   {
    "duration": 10,
    "start_time": "2023-06-29T21:12:23.351Z"
   },
   {
    "duration": 8,
    "start_time": "2023-06-29T21:13:21.996Z"
   },
   {
    "duration": 7,
    "start_time": "2023-06-29T21:15:04.622Z"
   },
   {
    "duration": 19,
    "start_time": "2023-06-29T21:16:20.151Z"
   },
   {
    "duration": 15,
    "start_time": "2023-06-29T21:17:43.969Z"
   },
   {
    "duration": 46,
    "start_time": "2023-06-29T21:18:37.357Z"
   },
   {
    "duration": 17,
    "start_time": "2023-06-29T21:19:50.114Z"
   },
   {
    "duration": 44,
    "start_time": "2023-06-29T21:21:23.444Z"
   },
   {
    "duration": 54,
    "start_time": "2023-06-29T21:23:01.332Z"
   },
   {
    "duration": 14,
    "start_time": "2023-06-29T21:23:12.404Z"
   },
   {
    "duration": 1826,
    "start_time": "2023-06-30T09:07:06.764Z"
   },
   {
    "duration": 3,
    "start_time": "2023-06-30T09:07:08.592Z"
   },
   {
    "duration": 9694,
    "start_time": "2023-06-30T09:07:08.596Z"
   },
   {
    "duration": 3,
    "start_time": "2023-06-30T09:07:18.293Z"
   },
   {
    "duration": 241,
    "start_time": "2023-06-30T09:07:18.298Z"
   },
   {
    "duration": 59,
    "start_time": "2023-06-30T09:07:18.541Z"
   },
   {
    "duration": 22,
    "start_time": "2023-06-30T09:07:18.602Z"
   },
   {
    "duration": 139,
    "start_time": "2023-06-30T09:07:18.626Z"
   },
   {
    "duration": 107,
    "start_time": "2023-06-30T09:07:18.766Z"
   },
   {
    "duration": 85,
    "start_time": "2023-06-30T09:07:18.876Z"
   },
   {
    "duration": 62,
    "start_time": "2023-06-30T09:07:18.963Z"
   },
   {
    "duration": 58,
    "start_time": "2023-06-30T09:07:19.027Z"
   },
   {
    "duration": 70,
    "start_time": "2023-06-30T09:07:19.087Z"
   },
   {
    "duration": 259,
    "start_time": "2023-06-30T09:07:19.158Z"
   },
   {
    "duration": 0,
    "start_time": "2023-06-30T09:07:19.418Z"
   },
   {
    "duration": 1,
    "start_time": "2023-06-30T09:07:19.420Z"
   },
   {
    "duration": 0,
    "start_time": "2023-06-30T09:07:19.422Z"
   },
   {
    "duration": 0,
    "start_time": "2023-06-30T09:07:19.423Z"
   },
   {
    "duration": 0,
    "start_time": "2023-06-30T09:07:19.425Z"
   },
   {
    "duration": 0,
    "start_time": "2023-06-30T09:07:19.426Z"
   },
   {
    "duration": 0,
    "start_time": "2023-06-30T09:07:19.428Z"
   },
   {
    "duration": 0,
    "start_time": "2023-06-30T09:07:19.429Z"
   },
   {
    "duration": 0,
    "start_time": "2023-06-30T09:07:19.430Z"
   },
   {
    "duration": 3,
    "start_time": "2023-06-30T09:50:16.210Z"
   },
   {
    "duration": 278,
    "start_time": "2023-06-30T10:19:30.908Z"
   },
   {
    "duration": 209,
    "start_time": "2023-06-30T10:20:16.605Z"
   },
   {
    "duration": 231,
    "start_time": "2023-06-30T10:20:32.723Z"
   },
   {
    "duration": 223,
    "start_time": "2023-06-30T10:20:50.334Z"
   },
   {
    "duration": 222,
    "start_time": "2023-06-30T10:20:59.730Z"
   },
   {
    "duration": 755,
    "start_time": "2023-06-30T10:22:29.492Z"
   },
   {
    "duration": 769,
    "start_time": "2023-06-30T10:22:37.886Z"
   },
   {
    "duration": 736,
    "start_time": "2023-06-30T10:23:03.880Z"
   },
   {
    "duration": 653,
    "start_time": "2023-06-30T10:24:04.156Z"
   },
   {
    "duration": 197,
    "start_time": "2023-06-30T10:25:03.603Z"
   },
   {
    "duration": 254,
    "start_time": "2023-06-30T10:30:00.545Z"
   },
   {
    "duration": 71,
    "start_time": "2023-06-30T10:30:01.259Z"
   },
   {
    "duration": 4,
    "start_time": "2023-06-30T10:30:03.520Z"
   },
   {
    "duration": 279,
    "start_time": "2023-06-30T10:30:04.501Z"
   },
   {
    "duration": 71,
    "start_time": "2023-06-30T10:36:36.127Z"
   },
   {
    "duration": 234,
    "start_time": "2023-06-30T10:36:36.811Z"
   },
   {
    "duration": 209,
    "start_time": "2023-06-30T10:37:07.293Z"
   },
   {
    "duration": 221,
    "start_time": "2023-06-30T10:37:24.585Z"
   },
   {
    "duration": 76,
    "start_time": "2023-06-30T10:37:31.893Z"
   },
   {
    "duration": 271,
    "start_time": "2023-06-30T10:37:32.501Z"
   },
   {
    "duration": 261,
    "start_time": "2023-06-30T11:54:42.494Z"
   },
   {
    "duration": 2281,
    "start_time": "2023-06-30T11:55:50.102Z"
   },
   {
    "duration": 269,
    "start_time": "2023-06-30T11:56:22.702Z"
   },
   {
    "duration": 280,
    "start_time": "2023-06-30T12:01:31.177Z"
   },
   {
    "duration": 139,
    "start_time": "2023-06-30T12:02:39.109Z"
   },
   {
    "duration": 197,
    "start_time": "2023-06-30T12:02:43.538Z"
   },
   {
    "duration": 46,
    "start_time": "2023-06-30T12:03:00.378Z"
   },
   {
    "duration": 367,
    "start_time": "2023-06-30T12:04:52.874Z"
   },
   {
    "duration": 81,
    "start_time": "2023-06-30T12:11:10.246Z"
   },
   {
    "duration": 36,
    "start_time": "2023-06-30T12:21:27.259Z"
   },
   {
    "duration": 150,
    "start_time": "2023-06-30T12:28:48.612Z"
   },
   {
    "duration": 39,
    "start_time": "2023-06-30T12:29:02.164Z"
   },
   {
    "duration": 20,
    "start_time": "2023-06-30T12:29:08.398Z"
   },
   {
    "duration": 7,
    "start_time": "2023-06-30T12:33:40.036Z"
   },
   {
    "duration": 25,
    "start_time": "2023-06-30T12:33:45.780Z"
   },
   {
    "duration": 34,
    "start_time": "2023-06-30T12:33:56.141Z"
   },
   {
    "duration": 35,
    "start_time": "2023-06-30T12:34:05.802Z"
   },
   {
    "duration": 9,
    "start_time": "2023-06-30T12:34:26.022Z"
   },
   {
    "duration": 24,
    "start_time": "2023-06-30T12:34:41.329Z"
   },
   {
    "duration": 16,
    "start_time": "2023-06-30T12:36:28.702Z"
   },
   {
    "duration": 17,
    "start_time": "2023-06-30T12:40:22.320Z"
   },
   {
    "duration": 11,
    "start_time": "2023-06-30T12:41:15.522Z"
   },
   {
    "duration": 19,
    "start_time": "2023-06-30T12:41:18.988Z"
   },
   {
    "duration": 16,
    "start_time": "2023-06-30T12:41:46.344Z"
   },
   {
    "duration": 32,
    "start_time": "2023-06-30T12:41:54.105Z"
   },
   {
    "duration": 32,
    "start_time": "2023-06-30T12:42:23.570Z"
   },
   {
    "duration": 36,
    "start_time": "2023-06-30T12:42:49.278Z"
   },
   {
    "duration": 4,
    "start_time": "2023-06-30T12:43:02.384Z"
   },
   {
    "duration": 944,
    "start_time": "2023-07-01T07:25:03.692Z"
   },
   {
    "duration": 2,
    "start_time": "2023-07-01T07:25:04.639Z"
   },
   {
    "duration": 9260,
    "start_time": "2023-07-01T07:25:04.653Z"
   },
   {
    "duration": 3,
    "start_time": "2023-07-01T07:25:13.916Z"
   },
   {
    "duration": 238,
    "start_time": "2023-07-01T07:25:13.921Z"
   },
   {
    "duration": 37,
    "start_time": "2023-07-01T07:25:14.160Z"
   },
   {
    "duration": 19,
    "start_time": "2023-07-01T07:25:14.199Z"
   },
   {
    "duration": 136,
    "start_time": "2023-07-01T07:25:14.220Z"
   },
   {
    "duration": 110,
    "start_time": "2023-07-01T07:25:14.358Z"
   },
   {
    "duration": 50,
    "start_time": "2023-07-01T07:25:14.471Z"
   },
   {
    "duration": 84,
    "start_time": "2023-07-01T07:25:14.523Z"
   },
   {
    "duration": 60,
    "start_time": "2023-07-01T07:25:14.609Z"
   },
   {
    "duration": 233,
    "start_time": "2023-07-01T07:25:14.670Z"
   },
   {
    "duration": 27,
    "start_time": "2023-07-01T07:25:14.905Z"
   },
   {
    "duration": 31,
    "start_time": "2023-07-01T07:25:14.933Z"
   },
   {
    "duration": 140,
    "start_time": "2023-07-01T07:25:14.966Z"
   },
   {
    "duration": 17,
    "start_time": "2023-07-01T07:25:15.108Z"
   },
   {
    "duration": 28,
    "start_time": "2023-07-01T07:25:15.127Z"
   },
   {
    "duration": 69,
    "start_time": "2023-07-01T07:25:15.157Z"
   },
   {
    "duration": 37,
    "start_time": "2023-07-01T07:25:15.228Z"
   },
   {
    "duration": 323,
    "start_time": "2023-07-01T07:41:29.442Z"
   },
   {
    "duration": 118,
    "start_time": "2023-07-01T07:42:00.811Z"
   },
   {
    "duration": 112,
    "start_time": "2023-07-01T07:42:49.762Z"
   },
   {
    "duration": 107,
    "start_time": "2023-07-01T07:43:01.635Z"
   },
   {
    "duration": 165,
    "start_time": "2023-07-01T07:43:42.659Z"
   },
   {
    "duration": 60,
    "start_time": "2023-07-01T07:44:16.044Z"
   },
   {
    "duration": 149,
    "start_time": "2023-07-01T07:45:13.003Z"
   },
   {
    "duration": 117,
    "start_time": "2023-07-01T07:46:09.836Z"
   },
   {
    "duration": 296,
    "start_time": "2023-07-01T07:46:17.261Z"
   },
   {
    "duration": 139,
    "start_time": "2023-07-01T07:46:27.860Z"
   },
   {
    "duration": 109,
    "start_time": "2023-07-01T07:50:16.816Z"
   },
   {
    "duration": 107,
    "start_time": "2023-07-01T07:50:30.952Z"
   },
   {
    "duration": 106,
    "start_time": "2023-07-01T07:52:27.721Z"
   },
   {
    "duration": 110,
    "start_time": "2023-07-01T07:52:33.377Z"
   },
   {
    "duration": 105,
    "start_time": "2023-07-01T07:52:42.688Z"
   },
   {
    "duration": 117,
    "start_time": "2023-07-01T07:56:41.317Z"
   },
   {
    "duration": 154,
    "start_time": "2023-07-01T08:03:43.329Z"
   },
   {
    "duration": 106,
    "start_time": "2023-07-01T08:03:54.385Z"
   },
   {
    "duration": 122,
    "start_time": "2023-07-01T08:04:10.234Z"
   },
   {
    "duration": 110,
    "start_time": "2023-07-01T08:08:41.381Z"
   },
   {
    "duration": 115,
    "start_time": "2023-07-01T08:08:54.638Z"
   },
   {
    "duration": 115,
    "start_time": "2023-07-01T08:09:09.014Z"
   },
   {
    "duration": 122,
    "start_time": "2023-07-01T08:10:18.247Z"
   },
   {
    "duration": 113,
    "start_time": "2023-07-01T08:10:24.534Z"
   },
   {
    "duration": 122,
    "start_time": "2023-07-01T08:17:29.587Z"
   },
   {
    "duration": 135,
    "start_time": "2023-07-01T08:17:45.291Z"
   },
   {
    "duration": 116,
    "start_time": "2023-07-01T08:17:50.612Z"
   },
   {
    "duration": 130,
    "start_time": "2023-07-01T08:17:55.451Z"
   },
   {
    "duration": 118,
    "start_time": "2023-07-01T08:18:07.739Z"
   },
   {
    "duration": 77,
    "start_time": "2023-07-01T08:18:18.548Z"
   },
   {
    "duration": 213,
    "start_time": "2023-07-01T09:07:08.277Z"
   },
   {
    "duration": 154,
    "start_time": "2023-07-01T09:09:29.593Z"
   },
   {
    "duration": 354,
    "start_time": "2023-07-01T09:09:41.950Z"
   },
   {
    "duration": 62,
    "start_time": "2023-07-01T09:11:47.166Z"
   },
   {
    "duration": 27,
    "start_time": "2023-07-01T09:14:28.311Z"
   },
   {
    "duration": 132,
    "start_time": "2023-07-01T09:14:50.512Z"
   },
   {
    "duration": 227,
    "start_time": "2023-07-01T09:14:59.998Z"
   },
   {
    "duration": 67,
    "start_time": "2023-07-01T09:16:40.248Z"
   },
   {
    "duration": 66,
    "start_time": "2023-07-01T09:16:55.078Z"
   },
   {
    "duration": 145,
    "start_time": "2023-07-01T09:17:34.911Z"
   },
   {
    "duration": 94,
    "start_time": "2023-07-01T09:19:00.338Z"
   },
   {
    "duration": 268,
    "start_time": "2023-07-01T09:25:07.076Z"
   },
   {
    "duration": 192,
    "start_time": "2023-07-01T09:25:17.852Z"
   },
   {
    "duration": 268,
    "start_time": "2023-07-01T09:31:31.944Z"
   },
   {
    "duration": 257,
    "start_time": "2023-07-01T09:31:40.319Z"
   },
   {
    "duration": 167,
    "start_time": "2023-07-01T09:33:41.808Z"
   },
   {
    "duration": 164,
    "start_time": "2023-07-01T09:33:57.754Z"
   },
   {
    "duration": 127,
    "start_time": "2023-07-01T09:38:54.788Z"
   },
   {
    "duration": 125,
    "start_time": "2023-07-01T09:39:10.845Z"
   },
   {
    "duration": 179,
    "start_time": "2023-07-01T09:39:35.732Z"
   },
   {
    "duration": 157,
    "start_time": "2023-07-01T09:40:24.221Z"
   },
   {
    "duration": 166,
    "start_time": "2023-07-01T09:43:23.883Z"
   },
   {
    "duration": 125,
    "start_time": "2023-07-01T09:48:34.945Z"
   },
   {
    "duration": 99,
    "start_time": "2023-07-01T09:48:50.211Z"
   },
   {
    "duration": 114,
    "start_time": "2023-07-01T09:48:54.970Z"
   },
   {
    "duration": 123,
    "start_time": "2023-07-01T09:49:04.242Z"
   },
   {
    "duration": 105,
    "start_time": "2023-07-01T09:49:14.706Z"
   },
   {
    "duration": 109,
    "start_time": "2023-07-01T09:52:41.503Z"
   },
   {
    "duration": 116,
    "start_time": "2023-07-01T09:52:55.630Z"
   },
   {
    "duration": 113,
    "start_time": "2023-07-01T09:54:22.232Z"
   },
   {
    "duration": 130,
    "start_time": "2023-07-01T09:54:27.258Z"
   },
   {
    "duration": 107,
    "start_time": "2023-07-01T09:54:35.128Z"
   },
   {
    "duration": 111,
    "start_time": "2023-07-01T09:54:44.592Z"
   },
   {
    "duration": 60,
    "start_time": "2023-07-01T09:55:07.170Z"
   },
   {
    "duration": 113,
    "start_time": "2023-07-01T14:42:21.368Z"
   },
   {
    "duration": 16,
    "start_time": "2023-07-01T14:42:26.582Z"
   },
   {
    "duration": 788,
    "start_time": "2023-07-02T09:38:02.925Z"
   },
   {
    "duration": 2,
    "start_time": "2023-07-02T09:38:03.715Z"
   },
   {
    "duration": 9182,
    "start_time": "2023-07-02T09:38:03.719Z"
   },
   {
    "duration": 3,
    "start_time": "2023-07-02T09:38:12.903Z"
   },
   {
    "duration": 197,
    "start_time": "2023-07-02T09:38:12.908Z"
   },
   {
    "duration": 31,
    "start_time": "2023-07-02T09:38:13.106Z"
   },
   {
    "duration": 39,
    "start_time": "2023-07-02T09:38:13.138Z"
   },
   {
    "duration": 104,
    "start_time": "2023-07-02T09:38:13.179Z"
   },
   {
    "duration": 101,
    "start_time": "2023-07-02T09:38:13.284Z"
   },
   {
    "duration": 59,
    "start_time": "2023-07-02T09:38:13.386Z"
   },
   {
    "duration": 72,
    "start_time": "2023-07-02T09:38:13.446Z"
   },
   {
    "duration": 35,
    "start_time": "2023-07-02T09:38:13.519Z"
   },
   {
    "duration": 205,
    "start_time": "2023-07-02T09:38:13.555Z"
   },
   {
    "duration": 25,
    "start_time": "2023-07-02T09:38:13.768Z"
   },
   {
    "duration": 13,
    "start_time": "2023-07-02T09:38:13.795Z"
   },
   {
    "duration": 116,
    "start_time": "2023-07-02T09:38:13.809Z"
   },
   {
    "duration": 32,
    "start_time": "2023-07-02T09:38:13.927Z"
   },
   {
    "duration": 7,
    "start_time": "2023-07-02T09:38:13.961Z"
   },
   {
    "duration": 49,
    "start_time": "2023-07-02T09:38:13.970Z"
   },
   {
    "duration": 55,
    "start_time": "2023-07-02T09:38:14.021Z"
   },
   {
    "duration": 23,
    "start_time": "2023-07-02T09:39:06.346Z"
   },
   {
    "duration": 8,
    "start_time": "2023-07-02T09:39:42.832Z"
   },
   {
    "duration": 72,
    "start_time": "2023-07-02T09:39:52.711Z"
   },
   {
    "duration": 10,
    "start_time": "2023-07-02T09:40:00.685Z"
   },
   {
    "duration": 9,
    "start_time": "2023-07-02T09:40:07.135Z"
   },
   {
    "duration": 9,
    "start_time": "2023-07-02T09:40:46.463Z"
   },
   {
    "duration": 7,
    "start_time": "2023-07-02T09:41:02.784Z"
   },
   {
    "duration": 6,
    "start_time": "2023-07-02T09:41:48.456Z"
   },
   {
    "duration": 12,
    "start_time": "2023-07-02T09:41:54.494Z"
   },
   {
    "duration": 13,
    "start_time": "2023-07-02T09:42:21.595Z"
   },
   {
    "duration": 9,
    "start_time": "2023-07-02T09:42:45.721Z"
   },
   {
    "duration": 17,
    "start_time": "2023-07-02T09:42:53.932Z"
   },
   {
    "duration": 9,
    "start_time": "2023-07-02T09:42:58.876Z"
   },
   {
    "duration": 28,
    "start_time": "2023-07-02T09:43:19.200Z"
   },
   {
    "duration": 12,
    "start_time": "2023-07-02T09:43:33.598Z"
   },
   {
    "duration": 17,
    "start_time": "2023-07-02T09:44:41.314Z"
   },
   {
    "duration": 17,
    "start_time": "2023-07-02T09:46:04.611Z"
   },
   {
    "duration": 14,
    "start_time": "2023-07-02T09:46:10.907Z"
   },
   {
    "duration": 12,
    "start_time": "2023-07-02T09:46:57.191Z"
   },
   {
    "duration": 15,
    "start_time": "2023-07-02T09:47:04.948Z"
   },
   {
    "duration": 15,
    "start_time": "2023-07-02T09:47:17.932Z"
   },
   {
    "duration": 15,
    "start_time": "2023-07-02T09:47:24.652Z"
   },
   {
    "duration": 7,
    "start_time": "2023-07-02T09:47:26.785Z"
   },
   {
    "duration": 11,
    "start_time": "2023-07-02T09:51:34.313Z"
   },
   {
    "duration": 3,
    "start_time": "2023-07-02T09:51:43.256Z"
   },
   {
    "duration": 22,
    "start_time": "2023-07-02T09:57:02.334Z"
   },
   {
    "duration": 4,
    "start_time": "2023-07-02T09:57:29.844Z"
   },
   {
    "duration": 39,
    "start_time": "2023-07-02T10:08:05.697Z"
   },
   {
    "duration": 20,
    "start_time": "2023-07-02T10:08:55.237Z"
   },
   {
    "duration": 20,
    "start_time": "2023-07-02T10:13:51.690Z"
   },
   {
    "duration": 15,
    "start_time": "2023-07-02T10:14:12.840Z"
   },
   {
    "duration": 10,
    "start_time": "2023-07-02T10:14:20.898Z"
   },
   {
    "duration": 16,
    "start_time": "2023-07-02T10:14:33.714Z"
   },
   {
    "duration": 17,
    "start_time": "2023-07-02T10:16:05.218Z"
   },
   {
    "duration": 14,
    "start_time": "2023-07-02T10:16:17.310Z"
   },
   {
    "duration": 16,
    "start_time": "2023-07-02T10:16:21.494Z"
   },
   {
    "duration": 29,
    "start_time": "2023-07-02T10:17:17.526Z"
   },
   {
    "duration": 84,
    "start_time": "2023-07-02T10:21:21.718Z"
   },
   {
    "duration": 133,
    "start_time": "2023-07-02T10:21:32.142Z"
   },
   {
    "duration": 84,
    "start_time": "2023-07-02T10:21:36.293Z"
   },
   {
    "duration": 13,
    "start_time": "2023-07-02T10:21:44.838Z"
   },
   {
    "duration": 11,
    "start_time": "2023-07-02T10:22:31.662Z"
   },
   {
    "duration": 11,
    "start_time": "2023-07-02T10:22:37.270Z"
   },
   {
    "duration": 26,
    "start_time": "2023-07-02T10:23:48.194Z"
   },
   {
    "duration": 7,
    "start_time": "2023-07-02T10:27:26.626Z"
   },
   {
    "duration": 37,
    "start_time": "2023-07-02T10:27:34.355Z"
   },
   {
    "duration": 19,
    "start_time": "2023-07-02T10:32:15.013Z"
   },
   {
    "duration": 15,
    "start_time": "2023-07-02T10:32:33.702Z"
   },
   {
    "duration": 16,
    "start_time": "2023-07-02T10:32:55.006Z"
   },
   {
    "duration": 7,
    "start_time": "2023-07-02T10:33:41.566Z"
   },
   {
    "duration": 9,
    "start_time": "2023-07-02T10:34:31.038Z"
   },
   {
    "duration": 16,
    "start_time": "2023-07-02T10:36:37.921Z"
   },
   {
    "duration": 353,
    "start_time": "2023-07-02T10:36:43.903Z"
   },
   {
    "duration": 17,
    "start_time": "2023-07-02T10:36:47.562Z"
   },
   {
    "duration": 109,
    "start_time": "2023-07-02T10:36:49.803Z"
   },
   {
    "duration": 17,
    "start_time": "2023-07-02T10:36:50.206Z"
   },
   {
    "duration": 8,
    "start_time": "2023-07-02T10:36:50.606Z"
   },
   {
    "duration": 2,
    "start_time": "2023-07-02T10:36:51.032Z"
   },
   {
    "duration": 15,
    "start_time": "2023-07-02T10:36:51.648Z"
   },
   {
    "duration": 18,
    "start_time": "2023-07-02T10:39:03.841Z"
   },
   {
    "duration": 18,
    "start_time": "2023-07-02T10:39:16.806Z"
   },
   {
    "duration": 20,
    "start_time": "2023-07-02T10:40:03.563Z"
   },
   {
    "duration": 340,
    "start_time": "2023-07-02T10:40:10.139Z"
   },
   {
    "duration": 20,
    "start_time": "2023-07-02T10:40:15.435Z"
   },
   {
    "duration": 11,
    "start_time": "2023-07-02T10:40:34.062Z"
   },
   {
    "duration": 22,
    "start_time": "2023-07-02T10:40:45.819Z"
   },
   {
    "duration": 19,
    "start_time": "2023-07-02T10:41:27.312Z"
   },
   {
    "duration": 9,
    "start_time": "2023-07-02T10:41:33.699Z"
   },
   {
    "duration": 20,
    "start_time": "2023-07-02T10:41:45.763Z"
   },
   {
    "duration": 90,
    "start_time": "2023-07-02T10:41:49.999Z"
   },
   {
    "duration": 7,
    "start_time": "2023-07-02T10:41:55.899Z"
   },
   {
    "duration": 15,
    "start_time": "2023-07-02T10:42:06.337Z"
   },
   {
    "duration": 16,
    "start_time": "2023-07-02T10:42:13.851Z"
   },
   {
    "duration": 82,
    "start_time": "2023-07-02T10:44:25.646Z"
   },
   {
    "duration": 56,
    "start_time": "2023-07-02T10:44:30.511Z"
   },
   {
    "duration": 14,
    "start_time": "2023-07-02T10:44:30.995Z"
   },
   {
    "duration": 7,
    "start_time": "2023-07-02T10:44:31.453Z"
   },
   {
    "duration": 2,
    "start_time": "2023-07-02T10:44:31.895Z"
   },
   {
    "duration": 15,
    "start_time": "2023-07-02T10:44:32.533Z"
   },
   {
    "duration": 11,
    "start_time": "2023-07-02T10:44:46.918Z"
   },
   {
    "duration": 17,
    "start_time": "2023-07-02T10:44:55.150Z"
   },
   {
    "duration": 169,
    "start_time": "2023-07-02T10:45:02.846Z"
   },
   {
    "duration": 96,
    "start_time": "2023-07-02T10:45:08.612Z"
   },
   {
    "duration": 92,
    "start_time": "2023-07-02T10:45:13.237Z"
   },
   {
    "duration": 16,
    "start_time": "2023-07-02T10:45:15.219Z"
   },
   {
    "duration": 15,
    "start_time": "2023-07-02T10:45:22.038Z"
   },
   {
    "duration": 14,
    "start_time": "2023-07-02T10:45:24.495Z"
   },
   {
    "duration": 53,
    "start_time": "2023-07-02T10:45:35.307Z"
   },
   {
    "duration": 14,
    "start_time": "2023-07-02T10:45:35.751Z"
   },
   {
    "duration": 6,
    "start_time": "2023-07-02T10:45:36.303Z"
   },
   {
    "duration": 2,
    "start_time": "2023-07-02T10:45:38.365Z"
   },
   {
    "duration": 16,
    "start_time": "2023-07-02T10:45:39.106Z"
   },
   {
    "duration": 19,
    "start_time": "2023-07-02T10:45:45.395Z"
   },
   {
    "duration": 21,
    "start_time": "2023-07-02T10:45:51.656Z"
   },
   {
    "duration": 17,
    "start_time": "2023-07-02T10:45:54.559Z"
   },
   {
    "duration": 15,
    "start_time": "2023-07-02T10:46:03.351Z"
   },
   {
    "duration": 22,
    "start_time": "2023-07-02T10:48:36.210Z"
   },
   {
    "duration": 90,
    "start_time": "2023-07-02T10:49:05.007Z"
   },
   {
    "duration": 23,
    "start_time": "2023-07-02T10:49:08.546Z"
   },
   {
    "duration": 113,
    "start_time": "2023-07-02T10:49:21.521Z"
   },
   {
    "duration": 19,
    "start_time": "2023-07-02T10:49:22.016Z"
   },
   {
    "duration": 10,
    "start_time": "2023-07-02T10:49:22.515Z"
   },
   {
    "duration": 2,
    "start_time": "2023-07-02T10:49:23.040Z"
   },
   {
    "duration": 18,
    "start_time": "2023-07-02T10:49:23.590Z"
   },
   {
    "duration": 86,
    "start_time": "2023-07-02T10:51:04.289Z"
   },
   {
    "duration": 84,
    "start_time": "2023-07-02T10:51:09.801Z"
   },
   {
    "duration": 87,
    "start_time": "2023-07-02T10:51:52.795Z"
   },
   {
    "duration": 129,
    "start_time": "2023-07-02T10:52:06.730Z"
   },
   {
    "duration": 147,
    "start_time": "2023-07-02T10:52:31.155Z"
   },
   {
    "duration": 18,
    "start_time": "2023-07-02T10:54:52.500Z"
   },
   {
    "duration": 12742,
    "start_time": "2023-07-02T10:55:16.845Z"
   },
   {
    "duration": 1346,
    "start_time": "2023-07-02T10:55:38.357Z"
   },
   {
    "duration": 14,
    "start_time": "2023-07-02T10:55:59.940Z"
   },
   {
    "duration": 85,
    "start_time": "2023-07-02T10:58:56.095Z"
   },
   {
    "duration": 120,
    "start_time": "2023-07-02T10:59:04.888Z"
   },
   {
    "duration": 111,
    "start_time": "2023-07-02T10:59:30.127Z"
   },
   {
    "duration": 15,
    "start_time": "2023-07-02T11:01:10.595Z"
   },
   {
    "duration": 25,
    "start_time": "2023-07-02T11:03:15.711Z"
   },
   {
    "duration": 105,
    "start_time": "2023-07-02T11:03:27.508Z"
   },
   {
    "duration": 107,
    "start_time": "2023-07-02T11:06:37.102Z"
   },
   {
    "duration": 81,
    "start_time": "2023-07-02T11:06:54.323Z"
   },
   {
    "duration": 119,
    "start_time": "2023-07-02T11:06:58.051Z"
   },
   {
    "duration": 239,
    "start_time": "2023-07-02T11:07:02.790Z"
   },
   {
    "duration": 227,
    "start_time": "2023-07-02T11:07:19.436Z"
   },
   {
    "duration": 265,
    "start_time": "2023-07-02T11:07:44.407Z"
   },
   {
    "duration": 232,
    "start_time": "2023-07-02T11:07:51.008Z"
   },
   {
    "duration": 229,
    "start_time": "2023-07-02T11:08:37.549Z"
   },
   {
    "duration": 262,
    "start_time": "2023-07-02T11:08:55.607Z"
   },
   {
    "duration": 226,
    "start_time": "2023-07-02T11:09:03.436Z"
   },
   {
    "duration": 256,
    "start_time": "2023-07-02T11:09:07.132Z"
   },
   {
    "duration": 268,
    "start_time": "2023-07-02T11:09:10.941Z"
   },
   {
    "duration": 53,
    "start_time": "2023-07-02T11:11:35.855Z"
   },
   {
    "duration": 48,
    "start_time": "2023-07-02T11:12:07.794Z"
   },
   {
    "duration": 98,
    "start_time": "2023-07-02T11:13:49.031Z"
   },
   {
    "duration": 7,
    "start_time": "2023-07-02T11:14:04.880Z"
   },
   {
    "duration": 10,
    "start_time": "2023-07-02T11:14:10.304Z"
   },
   {
    "duration": 13,
    "start_time": "2023-07-02T11:14:26.217Z"
   },
   {
    "duration": 11,
    "start_time": "2023-07-02T11:14:53.807Z"
   },
   {
    "duration": 15,
    "start_time": "2023-07-02T11:15:00.288Z"
   },
   {
    "duration": 21,
    "start_time": "2023-07-02T11:15:21.936Z"
   },
   {
    "duration": 12,
    "start_time": "2023-07-02T11:15:51.399Z"
   },
   {
    "duration": 9,
    "start_time": "2023-07-02T11:16:06.890Z"
   },
   {
    "duration": 15,
    "start_time": "2023-07-02T11:16:18.803Z"
   },
   {
    "duration": 13,
    "start_time": "2023-07-02T11:16:43.538Z"
   },
   {
    "duration": 16,
    "start_time": "2023-07-02T11:16:51.747Z"
   },
   {
    "duration": 13,
    "start_time": "2023-07-02T11:17:03.323Z"
   },
   {
    "duration": 89,
    "start_time": "2023-07-02T11:20:14.915Z"
   },
   {
    "duration": 16,
    "start_time": "2023-07-02T11:20:24.051Z"
   },
   {
    "duration": 21,
    "start_time": "2023-07-02T11:21:06.190Z"
   },
   {
    "duration": 15,
    "start_time": "2023-07-02T11:21:45.196Z"
   },
   {
    "duration": 23,
    "start_time": "2023-07-02T11:36:48.096Z"
   },
   {
    "duration": 190,
    "start_time": "2023-07-02T11:36:54.497Z"
   },
   {
    "duration": 21,
    "start_time": "2023-07-02T11:36:54.908Z"
   },
   {
    "duration": 10,
    "start_time": "2023-07-02T11:36:55.330Z"
   },
   {
    "duration": 367,
    "start_time": "2023-07-02T11:36:56.308Z"
   },
   {
    "duration": 16,
    "start_time": "2023-07-02T11:36:57.927Z"
   },
   {
    "duration": 14,
    "start_time": "2023-07-02T11:40:28.499Z"
   },
   {
    "duration": 18,
    "start_time": "2023-07-02T11:42:12.219Z"
   },
   {
    "duration": 7,
    "start_time": "2023-07-02T11:42:15.955Z"
   },
   {
    "duration": 12,
    "start_time": "2023-07-02T11:43:19.021Z"
   },
   {
    "duration": 13,
    "start_time": "2023-07-02T11:43:30.604Z"
   },
   {
    "duration": 20,
    "start_time": "2023-07-02T11:43:34.302Z"
   },
   {
    "duration": 22,
    "start_time": "2023-07-02T11:44:16.142Z"
   },
   {
    "duration": 24,
    "start_time": "2023-07-02T11:44:41.638Z"
   },
   {
    "duration": 186,
    "start_time": "2023-07-02T11:45:15.358Z"
   },
   {
    "duration": 357,
    "start_time": "2023-07-02T11:45:23.255Z"
   },
   {
    "duration": 396,
    "start_time": "2023-07-02T11:45:37.021Z"
   },
   {
    "duration": 318,
    "start_time": "2023-07-02T11:45:49.517Z"
   },
   {
    "duration": 143,
    "start_time": "2023-07-02T11:46:08.205Z"
   },
   {
    "duration": 423,
    "start_time": "2023-07-02T11:46:12.493Z"
   },
   {
    "duration": 279,
    "start_time": "2023-07-02T11:46:25.456Z"
   },
   {
    "duration": 352,
    "start_time": "2023-07-02T11:46:30.400Z"
   },
   {
    "duration": 396,
    "start_time": "2023-07-02T11:46:38.144Z"
   },
   {
    "duration": 28,
    "start_time": "2023-07-02T11:46:43.698Z"
   },
   {
    "duration": 9,
    "start_time": "2023-07-02T12:25:11.695Z"
   },
   {
    "duration": 64,
    "start_time": "2023-07-02T12:25:32.539Z"
   },
   {
    "duration": 27,
    "start_time": "2023-07-02T12:25:33.087Z"
   },
   {
    "duration": 11,
    "start_time": "2023-07-02T12:25:33.729Z"
   },
   {
    "duration": 256,
    "start_time": "2023-07-02T12:25:36.200Z"
   },
   {
    "duration": 19,
    "start_time": "2023-07-02T12:25:37.817Z"
   },
   {
    "duration": 291,
    "start_time": "2023-07-02T12:28:02.843Z"
   },
   {
    "duration": 21,
    "start_time": "2023-07-02T12:29:11.303Z"
   },
   {
    "duration": 11,
    "start_time": "2023-07-02T12:30:21.724Z"
   },
   {
    "duration": 86,
    "start_time": "2023-07-02T12:30:37.636Z"
   },
   {
    "duration": 19,
    "start_time": "2023-07-02T12:30:38.121Z"
   },
   {
    "duration": 14,
    "start_time": "2023-07-02T12:30:38.607Z"
   },
   {
    "duration": 10,
    "start_time": "2023-07-02T12:31:35.197Z"
   },
   {
    "duration": 111,
    "start_time": "2023-07-02T12:32:21.406Z"
   },
   {
    "duration": 87,
    "start_time": "2023-07-02T12:32:42.199Z"
   },
   {
    "duration": 92,
    "start_time": "2023-07-02T12:33:30.166Z"
   },
   {
    "duration": 9,
    "start_time": "2023-07-02T12:33:50.499Z"
   },
   {
    "duration": 9,
    "start_time": "2023-07-02T12:34:07.053Z"
   },
   {
    "duration": 9,
    "start_time": "2023-07-02T12:34:13.327Z"
   },
   {
    "duration": 122,
    "start_time": "2023-07-02T12:34:19.902Z"
   },
   {
    "duration": 18,
    "start_time": "2023-07-02T12:34:20.302Z"
   },
   {
    "duration": 10,
    "start_time": "2023-07-02T12:34:21.003Z"
   },
   {
    "duration": 62,
    "start_time": "2023-07-02T12:34:28.014Z"
   },
   {
    "duration": 18,
    "start_time": "2023-07-02T12:34:28.503Z"
   },
   {
    "duration": 10,
    "start_time": "2023-07-02T12:34:29.239Z"
   },
   {
    "duration": 9,
    "start_time": "2023-07-02T12:34:56.039Z"
   },
   {
    "duration": 9,
    "start_time": "2023-07-02T12:35:12.920Z"
   },
   {
    "duration": 10,
    "start_time": "2023-07-02T12:35:17.614Z"
   },
   {
    "duration": 284,
    "start_time": "2023-07-02T12:35:37.568Z"
   },
   {
    "duration": 24,
    "start_time": "2023-07-02T12:35:43.168Z"
   },
   {
    "duration": 45,
    "start_time": "2023-07-02T17:36:00.101Z"
   },
   {
    "duration": 18,
    "start_time": "2023-07-02T17:42:19.919Z"
   },
   {
    "duration": 21,
    "start_time": "2023-07-02T17:42:36.111Z"
   },
   {
    "duration": 24,
    "start_time": "2023-07-02T17:42:38.144Z"
   },
   {
    "duration": 201,
    "start_time": "2023-07-02T17:42:49.344Z"
   },
   {
    "duration": 131,
    "start_time": "2023-07-02T17:54:16.185Z"
   },
   {
    "duration": 532,
    "start_time": "2023-07-02T17:54:42.899Z"
   },
   {
    "duration": 731,
    "start_time": "2023-07-02T17:54:47.592Z"
   },
   {
    "duration": 740,
    "start_time": "2023-07-02T17:55:34.800Z"
   },
   {
    "duration": 739,
    "start_time": "2023-07-02T17:55:52.744Z"
   },
   {
    "duration": 735,
    "start_time": "2023-07-02T17:55:57.951Z"
   },
   {
    "duration": 570,
    "start_time": "2023-07-02T17:56:05.928Z"
   },
   {
    "duration": 709,
    "start_time": "2023-07-02T17:56:13.351Z"
   },
   {
    "duration": 762,
    "start_time": "2023-07-02T17:56:18.439Z"
   },
   {
    "duration": 602,
    "start_time": "2023-07-02T17:56:27.431Z"
   },
   {
    "duration": 709,
    "start_time": "2023-07-02T17:56:32.616Z"
   },
   {
    "duration": 555,
    "start_time": "2023-07-02T17:56:39.807Z"
   },
   {
    "duration": 751,
    "start_time": "2023-07-02T17:56:47.456Z"
   },
   {
    "duration": 865,
    "start_time": "2023-07-02T18:00:23.946Z"
   },
   {
    "duration": 980,
    "start_time": "2023-07-02T18:01:13.783Z"
   },
   {
    "duration": 655,
    "start_time": "2023-07-02T18:01:19.893Z"
   },
   {
    "duration": 850,
    "start_time": "2023-07-02T18:01:33.214Z"
   },
   {
    "duration": 779,
    "start_time": "2023-07-02T18:04:01.357Z"
   },
   {
    "duration": 885,
    "start_time": "2023-07-02T18:10:28.417Z"
   },
   {
    "duration": 644,
    "start_time": "2023-07-02T18:15:39.998Z"
   },
   {
    "duration": 592,
    "start_time": "2023-07-02T18:16:21.318Z"
   },
   {
    "duration": 742,
    "start_time": "2023-07-02T18:17:19.694Z"
   },
   {
    "duration": 616,
    "start_time": "2023-07-02T18:17:29.086Z"
   },
   {
    "duration": 791,
    "start_time": "2023-07-02T18:17:33.526Z"
   },
   {
    "duration": 686,
    "start_time": "2023-07-02T18:17:38.550Z"
   },
   {
    "duration": 481,
    "start_time": "2023-07-02T18:19:33.375Z"
   },
   {
    "duration": 508,
    "start_time": "2023-07-02T18:19:51.313Z"
   },
   {
    "duration": 444,
    "start_time": "2023-07-02T18:21:01.616Z"
   },
   {
    "duration": 416,
    "start_time": "2023-07-02T18:21:20.121Z"
   },
   {
    "duration": 434,
    "start_time": "2023-07-02T18:21:29.312Z"
   },
   {
    "duration": 712,
    "start_time": "2023-07-02T18:21:46.905Z"
   },
   {
    "duration": 170,
    "start_time": "2023-07-02T18:22:15.991Z"
   },
   {
    "duration": 634,
    "start_time": "2023-07-02T18:22:20.466Z"
   },
   {
    "duration": 744,
    "start_time": "2023-07-02T18:22:38.209Z"
   },
   {
    "duration": 740,
    "start_time": "2023-07-02T18:23:04.363Z"
   },
   {
    "duration": 762,
    "start_time": "2023-07-02T18:23:11.835Z"
   },
   {
    "duration": 835,
    "start_time": "2023-07-02T18:23:18.122Z"
   },
   {
    "duration": 115,
    "start_time": "2023-07-02T18:23:41.554Z"
   },
   {
    "duration": 44,
    "start_time": "2023-07-02T18:23:42.269Z"
   },
   {
    "duration": 18,
    "start_time": "2023-07-02T18:23:42.834Z"
   },
   {
    "duration": 100,
    "start_time": "2023-07-02T18:23:43.402Z"
   },
   {
    "duration": 115,
    "start_time": "2023-07-02T18:23:44.123Z"
   },
   {
    "duration": 822,
    "start_time": "2023-07-02T18:23:56.387Z"
   },
   {
    "duration": 156,
    "start_time": "2023-07-02T18:24:03.634Z"
   },
   {
    "duration": 42,
    "start_time": "2023-07-02T18:24:04.192Z"
   },
   {
    "duration": 18,
    "start_time": "2023-07-02T18:24:04.731Z"
   },
   {
    "duration": 107,
    "start_time": "2023-07-02T18:24:05.418Z"
   },
   {
    "duration": 101,
    "start_time": "2023-07-02T18:24:06.404Z"
   },
   {
    "duration": 12,
    "start_time": "2023-07-02T18:24:29.803Z"
   },
   {
    "duration": 13,
    "start_time": "2023-07-02T18:27:26.805Z"
   },
   {
    "duration": 13,
    "start_time": "2023-07-02T18:27:33.792Z"
   },
   {
    "duration": 18,
    "start_time": "2023-07-02T18:27:40.093Z"
   },
   {
    "duration": 8,
    "start_time": "2023-07-02T18:27:52.966Z"
   },
   {
    "duration": 4,
    "start_time": "2023-07-02T18:28:21.890Z"
   },
   {
    "duration": 8,
    "start_time": "2023-07-02T18:28:21.896Z"
   },
   {
    "duration": 15,
    "start_time": "2023-07-02T18:28:21.906Z"
   },
   {
    "duration": 6,
    "start_time": "2023-07-02T18:28:21.923Z"
   },
   {
    "duration": 12,
    "start_time": "2023-07-02T18:28:21.932Z"
   },
   {
    "duration": 336,
    "start_time": "2023-07-02T18:28:21.946Z"
   },
   {
    "duration": 41,
    "start_time": "2023-07-02T18:28:22.286Z"
   },
   {
    "duration": 19,
    "start_time": "2023-07-02T18:28:22.329Z"
   },
   {
    "duration": 114,
    "start_time": "2023-07-02T18:28:22.371Z"
   },
   {
    "duration": 94,
    "start_time": "2023-07-02T18:28:22.487Z"
   },
   {
    "duration": 676,
    "start_time": "2023-07-02T18:28:22.583Z"
   },
   {
    "duration": 3,
    "start_time": "2023-07-02T18:28:42.897Z"
   },
   {
    "duration": 6,
    "start_time": "2023-07-02T18:28:42.903Z"
   },
   {
    "duration": 15,
    "start_time": "2023-07-02T18:28:42.911Z"
   },
   {
    "duration": 10,
    "start_time": "2023-07-02T18:28:42.928Z"
   },
   {
    "duration": 9,
    "start_time": "2023-07-02T18:28:42.940Z"
   },
   {
    "duration": 311,
    "start_time": "2023-07-02T18:28:42.951Z"
   },
   {
    "duration": 45,
    "start_time": "2023-07-02T18:28:43.270Z"
   },
   {
    "duration": 18,
    "start_time": "2023-07-02T18:28:43.317Z"
   },
   {
    "duration": 144,
    "start_time": "2023-07-02T18:28:43.337Z"
   },
   {
    "duration": 120,
    "start_time": "2023-07-02T18:28:43.486Z"
   },
   {
    "duration": 883,
    "start_time": "2023-07-02T18:28:43.607Z"
   },
   {
    "duration": 1356,
    "start_time": "2023-07-03T19:20:09.048Z"
   },
   {
    "duration": 2,
    "start_time": "2023-07-03T19:20:10.407Z"
   },
   {
    "duration": 3,
    "start_time": "2023-07-03T19:20:10.411Z"
   },
   {
    "duration": 6951,
    "start_time": "2023-07-03T19:20:10.416Z"
   },
   {
    "duration": 4,
    "start_time": "2023-07-03T19:20:17.369Z"
   },
   {
    "duration": 642,
    "start_time": "2023-07-03T19:20:17.400Z"
   },
   {
    "duration": 90,
    "start_time": "2023-07-03T19:20:18.044Z"
   },
   {
    "duration": 21,
    "start_time": "2023-07-03T19:20:18.137Z"
   },
   {
    "duration": 183,
    "start_time": "2023-07-03T19:20:18.159Z"
   },
   {
    "duration": 125,
    "start_time": "2023-07-03T19:20:18.345Z"
   },
   {
    "duration": 564,
    "start_time": "2023-07-03T19:20:18.472Z"
   },
   {
    "duration": 102,
    "start_time": "2023-07-03T19:20:19.037Z"
   },
   {
    "duration": 75,
    "start_time": "2023-07-03T19:20:19.141Z"
   },
   {
    "duration": 102,
    "start_time": "2023-07-03T19:20:19.218Z"
   },
   {
    "duration": 211,
    "start_time": "2023-07-03T19:20:19.322Z"
   },
   {
    "duration": 58,
    "start_time": "2023-07-03T19:20:19.534Z"
   },
   {
    "duration": 16,
    "start_time": "2023-07-03T19:20:19.594Z"
   },
   {
    "duration": 193,
    "start_time": "2023-07-03T19:20:19.611Z"
   },
   {
    "duration": 18,
    "start_time": "2023-07-03T19:20:19.806Z"
   },
   {
    "duration": 10,
    "start_time": "2023-07-03T19:20:19.826Z"
   },
   {
    "duration": 268,
    "start_time": "2023-07-03T19:20:19.838Z"
   },
   {
    "duration": 14,
    "start_time": "2023-07-03T19:20:20.107Z"
   },
   {
    "duration": 67,
    "start_time": "2023-07-03T19:20:20.122Z"
   },
   {
    "duration": 45,
    "start_time": "2023-07-03T19:20:20.190Z"
   },
   {
    "duration": 67,
    "start_time": "2023-07-03T19:20:20.237Z"
   },
   {
    "duration": 221,
    "start_time": "2023-07-03T19:20:20.306Z"
   },
   {
    "duration": 8,
    "start_time": "2023-07-03T19:24:05.328Z"
   },
   {
    "duration": 11,
    "start_time": "2023-07-03T19:25:25.781Z"
   },
   {
    "duration": 675,
    "start_time": "2023-07-03T19:30:02.106Z"
   },
   {
    "duration": 122,
    "start_time": "2023-07-03T19:31:25.264Z"
   },
   {
    "duration": 695,
    "start_time": "2023-07-03T19:32:26.152Z"
   },
   {
    "duration": 277,
    "start_time": "2023-07-03T19:45:22.583Z"
   },
   {
    "duration": 380,
    "start_time": "2023-07-03T19:46:58.035Z"
   },
   {
    "duration": 437,
    "start_time": "2023-07-03T19:47:32.032Z"
   },
   {
    "duration": 311,
    "start_time": "2023-07-03T19:47:39.127Z"
   },
   {
    "duration": 249,
    "start_time": "2023-07-03T19:49:05.791Z"
   },
   {
    "duration": 234,
    "start_time": "2023-07-03T19:49:12.446Z"
   },
   {
    "duration": 143,
    "start_time": "2023-07-03T19:50:56.549Z"
   },
   {
    "duration": 148,
    "start_time": "2023-07-03T19:51:20.500Z"
   },
   {
    "duration": 181,
    "start_time": "2023-07-03T19:51:43.587Z"
   },
   {
    "duration": 220,
    "start_time": "2023-07-03T19:51:49.825Z"
   },
   {
    "duration": 184,
    "start_time": "2023-07-03T19:51:57.225Z"
   },
   {
    "duration": 185,
    "start_time": "2023-07-03T19:52:01.396Z"
   },
   {
    "duration": 244,
    "start_time": "2023-07-03T19:52:11.693Z"
   },
   {
    "duration": 759,
    "start_time": "2023-07-03T19:55:49.455Z"
   },
   {
    "duration": 646,
    "start_time": "2023-07-03T19:57:13.941Z"
   },
   {
    "duration": 23,
    "start_time": "2023-07-03T20:00:16.245Z"
   },
   {
    "duration": 22,
    "start_time": "2023-07-03T20:00:21.912Z"
   },
   {
    "duration": 3954,
    "start_time": "2023-07-03T20:01:14.102Z"
   },
   {
    "duration": 13,
    "start_time": "2023-07-03T20:01:42.524Z"
   },
   {
    "duration": 522,
    "start_time": "2023-07-03T20:01:47.142Z"
   },
   {
    "duration": 13,
    "start_time": "2023-07-03T20:01:58.890Z"
   },
   {
    "duration": 686,
    "start_time": "2023-07-03T20:02:07.514Z"
   },
   {
    "duration": 13,
    "start_time": "2023-07-03T20:03:24.739Z"
   },
   {
    "duration": 629,
    "start_time": "2023-07-03T20:03:34.305Z"
   },
   {
    "duration": 623,
    "start_time": "2023-07-03T20:03:54.092Z"
   },
   {
    "duration": 534,
    "start_time": "2023-07-03T20:05:21.287Z"
   },
   {
    "duration": 16,
    "start_time": "2023-07-03T20:05:43.349Z"
   },
   {
    "duration": 30,
    "start_time": "2023-07-03T20:05:58.393Z"
   },
   {
    "duration": 4041,
    "start_time": "2023-07-03T20:06:06.846Z"
   },
   {
    "duration": 22,
    "start_time": "2023-07-03T20:06:25.314Z"
   },
   {
    "duration": 11,
    "start_time": "2023-07-03T20:06:32.083Z"
   },
   {
    "duration": 22,
    "start_time": "2023-07-03T20:06:42.340Z"
   },
   {
    "duration": 20,
    "start_time": "2023-07-03T20:06:50.645Z"
   },
   {
    "duration": 12,
    "start_time": "2023-07-03T20:06:56.741Z"
   },
   {
    "duration": 12,
    "start_time": "2023-07-03T20:07:03.541Z"
   },
   {
    "duration": 67,
    "start_time": "2023-07-03T20:07:10.863Z"
   },
   {
    "duration": 3279,
    "start_time": "2023-07-03T20:07:15.580Z"
   },
   {
    "duration": 13,
    "start_time": "2023-07-03T20:08:04.882Z"
   },
   {
    "duration": 699,
    "start_time": "2023-07-03T20:08:16.148Z"
   },
   {
    "duration": 620,
    "start_time": "2023-07-03T20:08:52.143Z"
   },
   {
    "duration": 12,
    "start_time": "2023-07-03T20:12:18.322Z"
   },
   {
    "duration": 13,
    "start_time": "2023-07-03T20:12:27.868Z"
   },
   {
    "duration": 9,
    "start_time": "2023-07-03T20:14:50.762Z"
   },
   {
    "duration": 11,
    "start_time": "2023-07-03T20:14:59.433Z"
   },
   {
    "duration": 16,
    "start_time": "2023-07-03T20:15:22.097Z"
   },
   {
    "duration": 14,
    "start_time": "2023-07-03T20:21:23.856Z"
   },
   {
    "duration": 3,
    "start_time": "2023-07-03T20:22:47.105Z"
   },
   {
    "duration": 4,
    "start_time": "2023-07-03T20:22:47.110Z"
   },
   {
    "duration": 4,
    "start_time": "2023-07-03T20:22:47.115Z"
   },
   {
    "duration": 7,
    "start_time": "2023-07-03T20:22:47.120Z"
   },
   {
    "duration": 4,
    "start_time": "2023-07-03T20:22:47.129Z"
   },
   {
    "duration": 349,
    "start_time": "2023-07-03T20:22:47.135Z"
   },
   {
    "duration": 28,
    "start_time": "2023-07-03T20:22:47.485Z"
   },
   {
    "duration": 25,
    "start_time": "2023-07-03T20:22:47.514Z"
   },
   {
    "duration": 114,
    "start_time": "2023-07-03T20:22:47.540Z"
   },
   {
    "duration": 94,
    "start_time": "2023-07-03T20:22:47.656Z"
   },
   {
    "duration": 236,
    "start_time": "2023-07-03T20:22:47.751Z"
   },
   {
    "duration": 14,
    "start_time": "2023-07-03T20:22:47.989Z"
   },
   {
    "duration": 623,
    "start_time": "2023-07-03T20:22:48.004Z"
   },
   {
    "duration": 102,
    "start_time": "2023-07-03T20:22:48.630Z"
   },
   {
    "duration": 457,
    "start_time": "2023-07-03T20:22:48.734Z"
   },
   {
    "duration": 453,
    "start_time": "2023-07-03T20:23:39.443Z"
   },
   {
    "duration": 441,
    "start_time": "2023-07-03T20:40:12.383Z"
   },
   {
    "duration": 3,
    "start_time": "2023-07-03T20:40:27.984Z"
   },
   {
    "duration": 15,
    "start_time": "2023-07-03T20:40:27.988Z"
   },
   {
    "duration": 27,
    "start_time": "2023-07-03T20:40:28.004Z"
   },
   {
    "duration": 6,
    "start_time": "2023-07-03T20:40:28.032Z"
   },
   {
    "duration": 15,
    "start_time": "2023-07-03T20:40:28.040Z"
   },
   {
    "duration": 357,
    "start_time": "2023-07-03T20:40:28.057Z"
   },
   {
    "duration": 28,
    "start_time": "2023-07-03T20:40:28.415Z"
   },
   {
    "duration": 16,
    "start_time": "2023-07-03T20:40:28.445Z"
   },
   {
    "duration": 128,
    "start_time": "2023-07-03T20:40:28.462Z"
   },
   {
    "duration": 96,
    "start_time": "2023-07-03T20:40:28.592Z"
   },
   {
    "duration": 261,
    "start_time": "2023-07-03T20:40:28.690Z"
   },
   {
    "duration": 10,
    "start_time": "2023-07-03T20:40:28.952Z"
   },
   {
    "duration": 687,
    "start_time": "2023-07-03T20:40:28.964Z"
   },
   {
    "duration": 122,
    "start_time": "2023-07-03T20:40:29.655Z"
   },
   {
    "duration": 54,
    "start_time": "2023-07-03T20:40:29.779Z"
   },
   {
    "duration": 684,
    "start_time": "2023-07-03T20:40:29.834Z"
   },
   {
    "duration": 48,
    "start_time": "2023-07-03T20:41:22.905Z"
   },
   {
    "duration": 677,
    "start_time": "2023-07-03T20:43:14.181Z"
   },
   {
    "duration": 539,
    "start_time": "2023-07-03T20:45:29.091Z"
   },
   {
    "duration": 554,
    "start_time": "2023-07-03T20:46:06.438Z"
   },
   {
    "duration": 636,
    "start_time": "2023-07-03T20:47:44.987Z"
   },
   {
    "duration": 728,
    "start_time": "2023-07-03T20:48:32.260Z"
   },
   {
    "duration": 607,
    "start_time": "2023-07-03T20:48:49.476Z"
   },
   {
    "duration": 648,
    "start_time": "2023-07-03T20:49:42.900Z"
   },
   {
    "duration": 209,
    "start_time": "2023-07-03T20:53:26.604Z"
   },
   {
    "duration": 51,
    "start_time": "2023-07-03T20:58:44.207Z"
   },
   {
    "duration": 71,
    "start_time": "2023-07-03T20:58:58.984Z"
   },
   {
    "duration": 71,
    "start_time": "2023-07-03T20:59:54.605Z"
   },
   {
    "duration": 196,
    "start_time": "2023-07-03T21:00:54.091Z"
   },
   {
    "duration": 60,
    "start_time": "2023-07-03T21:02:15.388Z"
   },
   {
    "duration": 209,
    "start_time": "2023-07-03T21:02:45.185Z"
   },
   {
    "duration": 3,
    "start_time": "2023-07-03T21:02:51.081Z"
   },
   {
    "duration": 5,
    "start_time": "2023-07-03T21:02:51.086Z"
   },
   {
    "duration": 11,
    "start_time": "2023-07-03T21:02:51.093Z"
   },
   {
    "duration": 5,
    "start_time": "2023-07-03T21:02:51.105Z"
   },
   {
    "duration": 7,
    "start_time": "2023-07-03T21:02:51.111Z"
   },
   {
    "duration": 346,
    "start_time": "2023-07-03T21:02:51.119Z"
   },
   {
    "duration": 27,
    "start_time": "2023-07-03T21:02:51.466Z"
   },
   {
    "duration": 18,
    "start_time": "2023-07-03T21:02:51.495Z"
   },
   {
    "duration": 108,
    "start_time": "2023-07-03T21:02:51.514Z"
   },
   {
    "duration": 100,
    "start_time": "2023-07-03T21:02:51.624Z"
   },
   {
    "duration": 229,
    "start_time": "2023-07-03T21:02:51.725Z"
   },
   {
    "duration": 7,
    "start_time": "2023-07-03T21:02:51.956Z"
   },
   {
    "duration": 621,
    "start_time": "2023-07-03T21:02:51.964Z"
   },
   {
    "duration": 102,
    "start_time": "2023-07-03T21:02:52.587Z"
   },
   {
    "duration": 49,
    "start_time": "2023-07-03T21:02:52.690Z"
   },
   {
    "duration": 692,
    "start_time": "2023-07-03T21:02:52.740Z"
   },
   {
    "duration": 116,
    "start_time": "2023-07-03T21:02:53.433Z"
   },
   {
    "duration": 1292,
    "start_time": "2023-07-03T21:02:53.550Z"
   },
   {
    "duration": 55,
    "start_time": "2023-07-03T21:03:22.749Z"
   },
   {
    "duration": 448,
    "start_time": "2023-07-03T21:03:47.586Z"
   },
   {
    "duration": 731,
    "start_time": "2023-07-03T21:04:05.730Z"
   },
   {
    "duration": 189,
    "start_time": "2023-07-03T21:04:29.476Z"
   },
   {
    "duration": 21,
    "start_time": "2023-07-03T21:07:33.442Z"
   },
   {
    "duration": 381,
    "start_time": "2023-07-03T21:10:03.421Z"
   },
   {
    "duration": 528,
    "start_time": "2023-07-03T21:11:15.686Z"
   },
   {
    "duration": 509,
    "start_time": "2023-07-03T21:19:21.012Z"
   },
   {
    "duration": 2,
    "start_time": "2023-07-03T21:19:29.474Z"
   },
   {
    "duration": 13,
    "start_time": "2023-07-03T21:19:29.478Z"
   },
   {
    "duration": 13,
    "start_time": "2023-07-03T21:19:29.492Z"
   },
   {
    "duration": 16,
    "start_time": "2023-07-03T21:19:29.507Z"
   },
   {
    "duration": 13,
    "start_time": "2023-07-03T21:19:29.525Z"
   },
   {
    "duration": 335,
    "start_time": "2023-07-03T21:19:29.540Z"
   },
   {
    "duration": 25,
    "start_time": "2023-07-03T21:19:29.876Z"
   },
   {
    "duration": 15,
    "start_time": "2023-07-03T21:19:29.902Z"
   },
   {
    "duration": 113,
    "start_time": "2023-07-03T21:19:29.918Z"
   },
   {
    "duration": 89,
    "start_time": "2023-07-03T21:19:30.032Z"
   },
   {
    "duration": 1469,
    "start_time": "2023-07-03T21:29:49.718Z"
   },
   {
    "duration": 1603,
    "start_time": "2023-07-03T21:30:51.019Z"
   },
   {
    "duration": 40,
    "start_time": "2023-07-03T21:36:07.097Z"
   },
   {
    "duration": 142,
    "start_time": "2023-07-03T21:36:54.741Z"
   },
   {
    "duration": 1169,
    "start_time": "2023-07-03T21:37:06.889Z"
   },
   {
    "duration": 2,
    "start_time": "2023-07-03T21:37:08.060Z"
   },
   {
    "duration": 8,
    "start_time": "2023-07-03T21:37:08.063Z"
   },
   {
    "duration": 6076,
    "start_time": "2023-07-03T21:37:08.072Z"
   },
   {
    "duration": 3,
    "start_time": "2023-07-03T21:37:14.150Z"
   },
   {
    "duration": 412,
    "start_time": "2023-07-03T21:37:14.154Z"
   },
   {
    "duration": 43,
    "start_time": "2023-07-03T21:37:14.568Z"
   },
   {
    "duration": 16,
    "start_time": "2023-07-03T21:37:14.612Z"
   },
   {
    "duration": 118,
    "start_time": "2023-07-03T21:37:14.629Z"
   },
   {
    "duration": 102,
    "start_time": "2023-07-03T21:37:14.748Z"
   },
   {
    "duration": 259,
    "start_time": "2023-07-03T21:37:14.851Z"
   },
   {
    "duration": 8,
    "start_time": "2023-07-03T21:37:15.111Z"
   },
   {
    "duration": 607,
    "start_time": "2023-07-03T21:37:15.121Z"
   },
   {
    "duration": 116,
    "start_time": "2023-07-03T21:37:15.731Z"
   },
   {
    "duration": 52,
    "start_time": "2023-07-03T21:37:15.849Z"
   },
   {
    "duration": 800,
    "start_time": "2023-07-03T21:37:15.902Z"
   },
   {
    "duration": 112,
    "start_time": "2023-07-03T21:37:16.704Z"
   },
   {
    "duration": 210,
    "start_time": "2023-07-03T21:37:16.818Z"
   },
   {
    "duration": 56,
    "start_time": "2023-07-03T21:37:17.029Z"
   },
   {
    "duration": 12,
    "start_time": "2023-07-03T21:37:17.086Z"
   },
   {
    "duration": 404,
    "start_time": "2023-07-03T21:37:17.099Z"
   },
   {
    "duration": 116,
    "start_time": "2023-07-03T21:37:17.505Z"
   },
   {
    "duration": 12,
    "start_time": "2023-07-03T21:37:17.622Z"
   },
   {
    "duration": 1708,
    "start_time": "2023-07-03T21:37:17.636Z"
   },
   {
    "duration": 7,
    "start_time": "2023-07-03T21:37:19.345Z"
   },
   {
    "duration": 287,
    "start_time": "2023-07-03T21:37:19.354Z"
   },
   {
    "duration": 22,
    "start_time": "2023-07-03T21:37:19.642Z"
   },
   {
    "duration": 96,
    "start_time": "2023-07-03T21:37:19.665Z"
   },
   {
    "duration": 42,
    "start_time": "2023-07-03T21:37:19.762Z"
   },
   {
    "duration": 463,
    "start_time": "2023-07-03T21:37:19.805Z"
   },
   {
    "duration": 85,
    "start_time": "2023-07-03T21:37:20.270Z"
   },
   {
    "duration": 145,
    "start_time": "2023-07-03T21:37:20.357Z"
   },
   {
    "duration": 196,
    "start_time": "2023-07-03T21:42:40.721Z"
   },
   {
    "duration": 3,
    "start_time": "2023-07-03T21:44:02.840Z"
   },
   {
    "duration": 25,
    "start_time": "2023-07-03T21:44:02.845Z"
   },
   {
    "duration": 12,
    "start_time": "2023-07-03T21:44:02.871Z"
   },
   {
    "duration": 15,
    "start_time": "2023-07-03T21:44:02.884Z"
   },
   {
    "duration": 15,
    "start_time": "2023-07-03T21:44:02.901Z"
   },
   {
    "duration": 370,
    "start_time": "2023-07-03T21:44:02.917Z"
   },
   {
    "duration": 28,
    "start_time": "2023-07-03T21:44:03.289Z"
   },
   {
    "duration": 16,
    "start_time": "2023-07-03T21:44:03.319Z"
   },
   {
    "duration": 112,
    "start_time": "2023-07-03T21:44:03.337Z"
   },
   {
    "duration": 100,
    "start_time": "2023-07-03T21:44:03.451Z"
   },
   {
    "duration": 250,
    "start_time": "2023-07-03T21:44:03.553Z"
   },
   {
    "duration": 8,
    "start_time": "2023-07-03T21:44:03.804Z"
   },
   {
    "duration": 693,
    "start_time": "2023-07-03T21:44:03.814Z"
   },
   {
    "duration": 107,
    "start_time": "2023-07-03T21:44:04.510Z"
   },
   {
    "duration": 59,
    "start_time": "2023-07-03T21:44:04.618Z"
   },
   {
    "duration": 716,
    "start_time": "2023-07-03T21:44:04.679Z"
   },
   {
    "duration": 109,
    "start_time": "2023-07-03T21:44:05.397Z"
   },
   {
    "duration": 231,
    "start_time": "2023-07-03T21:44:05.508Z"
   },
   {
    "duration": 55,
    "start_time": "2023-07-03T21:44:05.741Z"
   },
   {
    "duration": 13,
    "start_time": "2023-07-03T21:44:05.798Z"
   },
   {
    "duration": 467,
    "start_time": "2023-07-03T21:44:05.812Z"
   },
   {
    "duration": 111,
    "start_time": "2023-07-03T21:44:06.280Z"
   },
   {
    "duration": 12,
    "start_time": "2023-07-03T21:44:06.392Z"
   },
   {
    "duration": 1614,
    "start_time": "2023-07-03T21:44:06.406Z"
   },
   {
    "duration": 10,
    "start_time": "2023-07-03T21:44:08.022Z"
   },
   {
    "duration": 261,
    "start_time": "2023-07-03T21:44:08.033Z"
   },
   {
    "duration": 24,
    "start_time": "2023-07-03T21:44:08.295Z"
   },
   {
    "duration": 95,
    "start_time": "2023-07-03T21:44:08.320Z"
   },
   {
    "duration": 39,
    "start_time": "2023-07-03T21:44:08.417Z"
   },
   {
    "duration": 449,
    "start_time": "2023-07-03T21:44:08.457Z"
   },
   {
    "duration": 82,
    "start_time": "2023-07-03T21:44:08.907Z"
   },
   {
    "duration": 132,
    "start_time": "2023-07-03T21:44:08.990Z"
   },
   {
    "duration": 1623,
    "start_time": "2023-07-04T07:49:32.968Z"
   },
   {
    "duration": 3,
    "start_time": "2023-07-04T07:49:34.593Z"
   },
   {
    "duration": 12,
    "start_time": "2023-07-04T07:49:34.597Z"
   },
   {
    "duration": 15269,
    "start_time": "2023-07-04T07:49:34.612Z"
   },
   {
    "duration": 4,
    "start_time": "2023-07-04T07:49:49.884Z"
   },
   {
    "duration": 551,
    "start_time": "2023-07-04T07:49:49.890Z"
   },
   {
    "duration": 52,
    "start_time": "2023-07-04T07:49:50.457Z"
   },
   {
    "duration": 22,
    "start_time": "2023-07-04T07:49:50.511Z"
   },
   {
    "duration": 152,
    "start_time": "2023-07-04T07:49:50.556Z"
   },
   {
    "duration": 130,
    "start_time": "2023-07-04T07:49:50.711Z"
   },
   {
    "duration": 330,
    "start_time": "2023-07-04T07:49:50.843Z"
   },
   {
    "duration": 13,
    "start_time": "2023-07-04T07:49:51.177Z"
   },
   {
    "duration": 781,
    "start_time": "2023-07-04T07:49:51.192Z"
   },
   {
    "duration": 138,
    "start_time": "2023-07-04T07:49:51.976Z"
   },
   {
    "duration": 78,
    "start_time": "2023-07-04T07:49:52.116Z"
   },
   {
    "duration": 937,
    "start_time": "2023-07-04T07:49:52.197Z"
   },
   {
    "duration": 138,
    "start_time": "2023-07-04T07:49:53.136Z"
   },
   {
    "duration": 252,
    "start_time": "2023-07-04T07:49:53.275Z"
   },
   {
    "duration": 69,
    "start_time": "2023-07-04T07:49:53.529Z"
   },
   {
    "duration": 16,
    "start_time": "2023-07-04T07:49:53.600Z"
   },
   {
    "duration": 527,
    "start_time": "2023-07-04T07:49:53.618Z"
   },
   {
    "duration": 147,
    "start_time": "2023-07-04T07:49:54.147Z"
   },
   {
    "duration": 17,
    "start_time": "2023-07-04T07:49:54.296Z"
   },
   {
    "duration": 2354,
    "start_time": "2023-07-04T07:49:54.315Z"
   },
   {
    "duration": 18,
    "start_time": "2023-07-04T07:49:56.671Z"
   },
   {
    "duration": 340,
    "start_time": "2023-07-04T07:49:56.692Z"
   },
   {
    "duration": 49,
    "start_time": "2023-07-04T07:49:57.035Z"
   },
   {
    "duration": 107,
    "start_time": "2023-07-04T07:49:57.087Z"
   },
   {
    "duration": 65,
    "start_time": "2023-07-04T07:49:57.196Z"
   },
   {
    "duration": 558,
    "start_time": "2023-07-04T07:49:57.263Z"
   },
   {
    "duration": 105,
    "start_time": "2023-07-04T07:49:57.822Z"
   },
   {
    "duration": 171,
    "start_time": "2023-07-04T07:49:57.929Z"
   },
   {
    "duration": 12,
    "start_time": "2023-07-04T07:53:18.167Z"
   },
   {
    "duration": 16,
    "start_time": "2023-07-04T08:03:06.660Z"
   },
   {
    "duration": 6,
    "start_time": "2023-07-04T08:04:47.990Z"
   },
   {
    "duration": 28,
    "start_time": "2023-07-04T08:11:15.112Z"
   },
   {
    "duration": 238,
    "start_time": "2023-07-04T08:27:45.602Z"
   },
   {
    "duration": 11,
    "start_time": "2023-07-04T08:30:15.088Z"
   },
   {
    "duration": 5,
    "start_time": "2023-07-04T08:32:11.032Z"
   },
   {
    "duration": 21,
    "start_time": "2023-07-04T08:33:36.951Z"
   },
   {
    "duration": 1001,
    "start_time": "2023-07-04T08:58:29.726Z"
   },
   {
    "duration": 1496,
    "start_time": "2023-07-04T08:58:43.098Z"
   },
   {
    "duration": 3,
    "start_time": "2023-07-04T08:58:44.597Z"
   },
   {
    "duration": 10,
    "start_time": "2023-07-04T08:58:44.602Z"
   },
   {
    "duration": 9670,
    "start_time": "2023-07-04T08:58:44.615Z"
   },
   {
    "duration": 7,
    "start_time": "2023-07-04T08:58:54.290Z"
   },
   {
    "duration": 637,
    "start_time": "2023-07-04T08:58:54.298Z"
   },
   {
    "duration": 68,
    "start_time": "2023-07-04T08:58:54.937Z"
   },
   {
    "duration": 32,
    "start_time": "2023-07-04T08:58:55.007Z"
   },
   {
    "duration": 167,
    "start_time": "2023-07-04T08:58:55.041Z"
   },
   {
    "duration": 133,
    "start_time": "2023-07-04T08:58:55.211Z"
   },
   {
    "duration": 364,
    "start_time": "2023-07-04T08:58:55.352Z"
   },
   {
    "duration": 11,
    "start_time": "2023-07-04T08:58:55.718Z"
   },
   {
    "duration": 812,
    "start_time": "2023-07-04T08:58:55.730Z"
   },
   {
    "duration": 30,
    "start_time": "2023-07-04T08:58:56.544Z"
   },
   {
    "duration": 163,
    "start_time": "2023-07-04T08:58:56.576Z"
   },
   {
    "duration": 80,
    "start_time": "2023-07-04T08:58:56.741Z"
   },
   {
    "duration": 1004,
    "start_time": "2023-07-04T08:58:56.822Z"
   },
   {
    "duration": 27,
    "start_time": "2023-07-04T08:58:57.828Z"
   },
   {
    "duration": 138,
    "start_time": "2023-07-04T08:58:57.861Z"
   },
   {
    "duration": 1591,
    "start_time": "2023-07-04T08:58:58.001Z"
   },
   {
    "duration": 0,
    "start_time": "2023-07-04T08:58:59.594Z"
   },
   {
    "duration": 0,
    "start_time": "2023-07-04T08:58:59.596Z"
   },
   {
    "duration": 0,
    "start_time": "2023-07-04T08:58:59.597Z"
   },
   {
    "duration": 0,
    "start_time": "2023-07-04T08:58:59.599Z"
   },
   {
    "duration": 0,
    "start_time": "2023-07-04T08:58:59.600Z"
   },
   {
    "duration": 0,
    "start_time": "2023-07-04T08:58:59.601Z"
   },
   {
    "duration": 0,
    "start_time": "2023-07-04T08:58:59.603Z"
   },
   {
    "duration": 0,
    "start_time": "2023-07-04T08:58:59.604Z"
   },
   {
    "duration": 0,
    "start_time": "2023-07-04T08:58:59.605Z"
   },
   {
    "duration": 0,
    "start_time": "2023-07-04T08:58:59.607Z"
   },
   {
    "duration": 0,
    "start_time": "2023-07-04T08:58:59.608Z"
   },
   {
    "duration": 0,
    "start_time": "2023-07-04T08:58:59.610Z"
   },
   {
    "duration": 0,
    "start_time": "2023-07-04T08:58:59.611Z"
   },
   {
    "duration": 0,
    "start_time": "2023-07-04T08:58:59.613Z"
   },
   {
    "duration": 0,
    "start_time": "2023-07-04T08:58:59.614Z"
   },
   {
    "duration": 0,
    "start_time": "2023-07-04T08:58:59.615Z"
   },
   {
    "duration": 1479,
    "start_time": "2023-07-04T09:00:18.711Z"
   },
   {
    "duration": 3,
    "start_time": "2023-07-04T09:00:20.193Z"
   },
   {
    "duration": 61,
    "start_time": "2023-07-04T09:00:20.198Z"
   },
   {
    "duration": 11493,
    "start_time": "2023-07-04T09:00:20.262Z"
   },
   {
    "duration": 9,
    "start_time": "2023-07-04T09:00:31.757Z"
   },
   {
    "duration": 567,
    "start_time": "2023-07-04T09:00:31.769Z"
   },
   {
    "duration": 66,
    "start_time": "2023-07-04T09:00:32.338Z"
   },
   {
    "duration": 23,
    "start_time": "2023-07-04T09:00:32.407Z"
   },
   {
    "duration": 174,
    "start_time": "2023-07-04T09:00:32.433Z"
   },
   {
    "duration": 169,
    "start_time": "2023-07-04T09:00:32.611Z"
   },
   {
    "duration": 355,
    "start_time": "2023-07-04T09:00:32.788Z"
   },
   {
    "duration": 26,
    "start_time": "2023-07-04T09:00:33.145Z"
   },
   {
    "duration": 813,
    "start_time": "2023-07-04T09:00:33.176Z"
   },
   {
    "duration": 20,
    "start_time": "2023-07-04T09:00:33.992Z"
   },
   {
    "duration": 197,
    "start_time": "2023-07-04T09:00:34.015Z"
   },
   {
    "duration": 88,
    "start_time": "2023-07-04T09:00:34.214Z"
   },
   {
    "duration": 1087,
    "start_time": "2023-07-04T09:00:34.304Z"
   },
   {
    "duration": 22,
    "start_time": "2023-07-04T09:00:35.394Z"
   },
   {
    "duration": 179,
    "start_time": "2023-07-04T09:00:35.419Z"
   },
   {
    "duration": 315,
    "start_time": "2023-07-04T09:00:35.600Z"
   },
   {
    "duration": 78,
    "start_time": "2023-07-04T09:00:35.918Z"
   },
   {
    "duration": 25,
    "start_time": "2023-07-04T09:00:35.999Z"
   },
   {
    "duration": 622,
    "start_time": "2023-07-04T09:00:36.027Z"
   },
   {
    "duration": 196,
    "start_time": "2023-07-04T09:00:36.651Z"
   },
   {
    "duration": 50,
    "start_time": "2023-07-04T09:00:36.850Z"
   },
   {
    "duration": 2618,
    "start_time": "2023-07-04T09:00:36.903Z"
   },
   {
    "duration": 11,
    "start_time": "2023-07-04T09:00:39.523Z"
   },
   {
    "duration": 326,
    "start_time": "2023-07-04T09:00:39.553Z"
   },
   {
    "duration": 31,
    "start_time": "2023-07-04T09:00:39.881Z"
   },
   {
    "duration": 45,
    "start_time": "2023-07-04T09:00:39.914Z"
   },
   {
    "duration": 124,
    "start_time": "2023-07-04T09:00:39.961Z"
   },
   {
    "duration": 78,
    "start_time": "2023-07-04T09:00:40.087Z"
   },
   {
    "duration": 566,
    "start_time": "2023-07-04T09:00:40.167Z"
   },
   {
    "duration": 27,
    "start_time": "2023-07-04T09:00:40.735Z"
   },
   {
    "duration": 148,
    "start_time": "2023-07-04T09:00:40.764Z"
   },
   {
    "duration": 234,
    "start_time": "2023-07-04T09:00:40.915Z"
   },
   {
    "duration": 28,
    "start_time": "2023-07-04T09:02:11.401Z"
   },
   {
    "duration": 449,
    "start_time": "2023-07-04T12:16:38.082Z"
   },
   {
    "duration": 191,
    "start_time": "2023-07-04T12:16:48.511Z"
   },
   {
    "duration": 26,
    "start_time": "2023-07-04T12:17:01.596Z"
   },
   {
    "duration": 28,
    "start_time": "2023-07-04T12:38:31.471Z"
   },
   {
    "duration": 27,
    "start_time": "2023-07-04T12:39:11.832Z"
   },
   {
    "duration": 13,
    "start_time": "2023-07-04T12:49:12.421Z"
   },
   {
    "duration": 16,
    "start_time": "2023-07-04T12:49:20.706Z"
   },
   {
    "duration": 6,
    "start_time": "2023-07-04T12:49:34.036Z"
   },
   {
    "duration": 38,
    "start_time": "2023-07-04T12:49:37.374Z"
   },
   {
    "duration": 31,
    "start_time": "2023-07-04T12:51:14.304Z"
   },
   {
    "duration": 52,
    "start_time": "2023-07-04T12:51:35.632Z"
   },
   {
    "duration": 45,
    "start_time": "2023-07-04T12:52:09.135Z"
   },
   {
    "duration": 82,
    "start_time": "2023-07-04T12:58:50.010Z"
   },
   {
    "duration": 100,
    "start_time": "2023-07-04T12:58:56.058Z"
   },
   {
    "duration": 200,
    "start_time": "2023-07-04T12:59:02.502Z"
   },
   {
    "duration": 30,
    "start_time": "2023-07-04T12:59:09.416Z"
   },
   {
    "duration": 34,
    "start_time": "2023-07-04T12:59:40.405Z"
   },
   {
    "duration": 27,
    "start_time": "2023-07-04T13:00:59.102Z"
   },
   {
    "duration": 22,
    "start_time": "2023-07-04T13:16:20.346Z"
   },
   {
    "duration": 53,
    "start_time": "2023-07-04T13:18:40.531Z"
   },
   {
    "duration": 61,
    "start_time": "2023-07-04T13:18:48.430Z"
   },
   {
    "duration": 26,
    "start_time": "2023-07-04T13:19:09.235Z"
   },
   {
    "duration": 21,
    "start_time": "2023-07-04T13:19:25.613Z"
   },
   {
    "duration": 3,
    "start_time": "2023-07-04T13:20:31.982Z"
   },
   {
    "duration": 6,
    "start_time": "2023-07-04T13:20:31.988Z"
   },
   {
    "duration": 12,
    "start_time": "2023-07-04T13:20:31.996Z"
   },
   {
    "duration": 9,
    "start_time": "2023-07-04T13:20:32.010Z"
   },
   {
    "duration": 29,
    "start_time": "2023-07-04T13:20:32.022Z"
   },
   {
    "duration": 587,
    "start_time": "2023-07-04T13:20:32.053Z"
   },
   {
    "duration": 72,
    "start_time": "2023-07-04T13:20:32.643Z"
   },
   {
    "duration": 33,
    "start_time": "2023-07-04T13:20:32.717Z"
   },
   {
    "duration": 185,
    "start_time": "2023-07-04T13:20:32.762Z"
   },
   {
    "duration": 143,
    "start_time": "2023-07-04T13:20:32.949Z"
   },
   {
    "duration": 352,
    "start_time": "2023-07-04T13:20:33.094Z"
   },
   {
    "duration": 26,
    "start_time": "2023-07-04T13:20:33.454Z"
   },
   {
    "duration": 904,
    "start_time": "2023-07-04T13:20:33.485Z"
   },
   {
    "duration": 18,
    "start_time": "2023-07-04T13:20:34.396Z"
   },
   {
    "duration": 187,
    "start_time": "2023-07-04T13:20:34.417Z"
   },
   {
    "duration": 91,
    "start_time": "2023-07-04T13:20:34.606Z"
   },
   {
    "duration": 1018,
    "start_time": "2023-07-04T13:20:34.703Z"
   },
   {
    "duration": 62,
    "start_time": "2023-07-04T13:20:35.723Z"
   },
   {
    "duration": 179,
    "start_time": "2023-07-04T13:20:35.787Z"
   },
   {
    "duration": 357,
    "start_time": "2023-07-04T13:20:35.968Z"
   },
   {
    "duration": 101,
    "start_time": "2023-07-04T13:20:36.327Z"
   },
   {
    "duration": 18,
    "start_time": "2023-07-04T13:20:36.430Z"
   },
   {
    "duration": 621,
    "start_time": "2023-07-04T13:20:36.450Z"
   },
   {
    "duration": 467,
    "start_time": "2023-07-04T13:20:37.073Z"
   },
   {
    "duration": 42,
    "start_time": "2023-07-04T13:20:37.543Z"
   },
   {
    "duration": 3027,
    "start_time": "2023-07-04T13:20:37.587Z"
   },
   {
    "duration": 12,
    "start_time": "2023-07-04T13:20:40.617Z"
   },
   {
    "duration": 402,
    "start_time": "2023-07-04T13:20:40.631Z"
   },
   {
    "duration": 55,
    "start_time": "2023-07-04T13:20:41.035Z"
   },
   {
    "duration": 13,
    "start_time": "2023-07-04T13:20:41.096Z"
   },
   {
    "duration": 160,
    "start_time": "2023-07-04T13:20:41.111Z"
   },
   {
    "duration": 90,
    "start_time": "2023-07-04T13:20:41.275Z"
   },
   {
    "duration": 661,
    "start_time": "2023-07-04T13:20:41.367Z"
   },
   {
    "duration": 31,
    "start_time": "2023-07-04T13:20:42.030Z"
   },
   {
    "duration": 165,
    "start_time": "2023-07-04T13:20:42.068Z"
   },
   {
    "duration": 252,
    "start_time": "2023-07-04T13:20:42.235Z"
   },
   {
    "duration": 35,
    "start_time": "2023-07-04T13:20:42.489Z"
   },
   {
    "duration": 58,
    "start_time": "2023-07-04T13:20:42.527Z"
   },
   {
    "duration": 47,
    "start_time": "2023-07-04T13:20:42.588Z"
   },
   {
    "duration": 25,
    "start_time": "2023-07-04T13:20:49.179Z"
   },
   {
    "duration": 16,
    "start_time": "2023-07-04T13:21:10.223Z"
   },
   {
    "duration": 9,
    "start_time": "2023-07-04T13:21:18.817Z"
   },
   {
    "duration": 17,
    "start_time": "2023-07-04T13:21:18.829Z"
   },
   {
    "duration": 151,
    "start_time": "2023-07-04T13:21:18.849Z"
   },
   {
    "duration": 10,
    "start_time": "2023-07-04T13:21:19.002Z"
   },
   {
    "duration": 13,
    "start_time": "2023-07-04T13:21:19.015Z"
   },
   {
    "duration": 613,
    "start_time": "2023-07-04T13:21:19.030Z"
   },
   {
    "duration": 65,
    "start_time": "2023-07-04T13:21:19.645Z"
   },
   {
    "duration": 33,
    "start_time": "2023-07-04T13:21:19.713Z"
   },
   {
    "duration": 168,
    "start_time": "2023-07-04T13:21:19.749Z"
   },
   {
    "duration": 135,
    "start_time": "2023-07-04T13:21:19.919Z"
   },
   {
    "duration": 368,
    "start_time": "2023-07-04T13:21:20.056Z"
   },
   {
    "duration": 13,
    "start_time": "2023-07-04T13:21:20.427Z"
   },
   {
    "duration": 1227,
    "start_time": "2023-07-04T13:21:20.442Z"
   },
   {
    "duration": 21,
    "start_time": "2023-07-04T13:21:21.678Z"
   },
   {
    "duration": 236,
    "start_time": "2023-07-04T13:21:21.704Z"
   },
   {
    "duration": 82,
    "start_time": "2023-07-04T13:21:21.942Z"
   },
   {
    "duration": 1414,
    "start_time": "2023-07-04T13:21:22.026Z"
   },
   {
    "duration": 46,
    "start_time": "2023-07-04T13:21:23.442Z"
   },
   {
    "duration": 164,
    "start_time": "2023-07-04T13:21:23.501Z"
   },
   {
    "duration": 363,
    "start_time": "2023-07-04T13:21:23.668Z"
   },
   {
    "duration": 94,
    "start_time": "2023-07-04T13:21:24.033Z"
   },
   {
    "duration": 18,
    "start_time": "2023-07-04T13:21:24.129Z"
   },
   {
    "duration": 619,
    "start_time": "2023-07-04T13:21:24.149Z"
   },
   {
    "duration": 209,
    "start_time": "2023-07-04T13:21:24.770Z"
   },
   {
    "duration": 23,
    "start_time": "2023-07-04T13:21:24.986Z"
   },
   {
    "duration": 2692,
    "start_time": "2023-07-04T13:21:25.011Z"
   },
   {
    "duration": 15,
    "start_time": "2023-07-04T13:21:27.706Z"
   },
   {
    "duration": 384,
    "start_time": "2023-07-04T13:21:27.724Z"
   },
   {
    "duration": 59,
    "start_time": "2023-07-04T13:21:28.111Z"
   },
   {
    "duration": 30,
    "start_time": "2023-07-04T13:21:28.174Z"
   },
   {
    "duration": 180,
    "start_time": "2023-07-04T13:21:28.207Z"
   },
   {
    "duration": 98,
    "start_time": "2023-07-04T13:21:28.389Z"
   },
   {
    "duration": 821,
    "start_time": "2023-07-04T13:21:28.492Z"
   },
   {
    "duration": 21,
    "start_time": "2023-07-04T13:21:29.315Z"
   },
   {
    "duration": 203,
    "start_time": "2023-07-04T13:21:29.338Z"
   },
   {
    "duration": 623,
    "start_time": "2023-07-04T13:21:29.543Z"
   },
   {
    "duration": 38,
    "start_time": "2023-07-04T13:21:30.169Z"
   },
   {
    "duration": 57,
    "start_time": "2023-07-04T13:21:30.209Z"
   },
   {
    "duration": 0,
    "start_time": "2023-07-04T13:21:30.268Z"
   },
   {
    "duration": 5,
    "start_time": "2023-07-04T13:21:53.842Z"
   },
   {
    "duration": 54,
    "start_time": "2023-07-04T13:21:53.850Z"
   },
   {
    "duration": 10,
    "start_time": "2023-07-04T13:21:53.907Z"
   },
   {
    "duration": 9,
    "start_time": "2023-07-04T13:21:53.920Z"
   },
   {
    "duration": 62,
    "start_time": "2023-07-04T13:21:53.931Z"
   },
   {
    "duration": 542,
    "start_time": "2023-07-04T13:21:53.995Z"
   },
   {
    "duration": 79,
    "start_time": "2023-07-04T13:21:54.539Z"
   },
   {
    "duration": 37,
    "start_time": "2023-07-04T13:21:54.620Z"
   },
   {
    "duration": 154,
    "start_time": "2023-07-04T13:21:54.659Z"
   },
   {
    "duration": 192,
    "start_time": "2023-07-04T13:21:54.816Z"
   },
   {
    "duration": 439,
    "start_time": "2023-07-04T13:21:55.010Z"
   },
   {
    "duration": 24,
    "start_time": "2023-07-04T13:21:55.451Z"
   },
   {
    "duration": 876,
    "start_time": "2023-07-04T13:21:55.478Z"
   },
   {
    "duration": 18,
    "start_time": "2023-07-04T13:21:56.356Z"
   },
   {
    "duration": 225,
    "start_time": "2023-07-04T13:21:56.376Z"
   },
   {
    "duration": 91,
    "start_time": "2023-07-04T13:21:56.603Z"
   },
   {
    "duration": 959,
    "start_time": "2023-07-04T13:21:56.696Z"
   },
   {
    "duration": 25,
    "start_time": "2023-07-04T13:21:57.657Z"
   },
   {
    "duration": 181,
    "start_time": "2023-07-04T13:21:57.695Z"
   },
   {
    "duration": 301,
    "start_time": "2023-07-04T13:21:57.881Z"
   },
   {
    "duration": 84,
    "start_time": "2023-07-04T13:21:58.185Z"
   },
   {
    "duration": 28,
    "start_time": "2023-07-04T13:21:58.273Z"
   },
   {
    "duration": 696,
    "start_time": "2023-07-04T13:21:58.303Z"
   },
   {
    "duration": 453,
    "start_time": "2023-07-04T13:21:59.002Z"
   },
   {
    "duration": 44,
    "start_time": "2023-07-04T13:21:59.457Z"
   },
   {
    "duration": 2593,
    "start_time": "2023-07-04T13:21:59.505Z"
   },
   {
    "duration": 10,
    "start_time": "2023-07-04T13:22:02.101Z"
   },
   {
    "duration": 386,
    "start_time": "2023-07-04T13:22:02.117Z"
   },
   {
    "duration": 45,
    "start_time": "2023-07-04T13:22:02.508Z"
   },
   {
    "duration": 19,
    "start_time": "2023-07-04T13:22:02.562Z"
   },
   {
    "duration": 193,
    "start_time": "2023-07-04T13:22:02.583Z"
   },
   {
    "duration": 62,
    "start_time": "2023-07-04T13:22:02.784Z"
   },
   {
    "duration": 670,
    "start_time": "2023-07-04T13:22:02.848Z"
   },
   {
    "duration": 22,
    "start_time": "2023-07-04T13:22:03.520Z"
   },
   {
    "duration": 151,
    "start_time": "2023-07-04T13:22:03.545Z"
   },
   {
    "duration": 230,
    "start_time": "2023-07-04T13:22:03.698Z"
   },
   {
    "duration": 60,
    "start_time": "2023-07-04T13:22:03.930Z"
   },
   {
    "duration": 34,
    "start_time": "2023-07-04T13:22:03.992Z"
   },
   {
    "duration": 1,
    "start_time": "2023-07-04T13:22:04.027Z"
   },
   {
    "duration": 1635,
    "start_time": "2023-07-04T13:27:08.298Z"
   },
   {
    "duration": 4,
    "start_time": "2023-07-04T13:27:09.936Z"
   },
   {
    "duration": 259,
    "start_time": "2023-07-04T13:27:09.942Z"
   },
   {
    "duration": 13490,
    "start_time": "2023-07-04T13:27:10.204Z"
   },
   {
    "duration": 4,
    "start_time": "2023-07-04T13:27:23.696Z"
   },
   {
    "duration": 687,
    "start_time": "2023-07-04T13:27:23.703Z"
   },
   {
    "duration": 46,
    "start_time": "2023-07-04T13:27:24.393Z"
   },
   {
    "duration": 40,
    "start_time": "2023-07-04T13:27:24.441Z"
   },
   {
    "duration": 166,
    "start_time": "2023-07-04T13:27:24.483Z"
   },
   {
    "duration": 132,
    "start_time": "2023-07-04T13:27:24.655Z"
   },
   {
    "duration": 336,
    "start_time": "2023-07-04T13:27:24.789Z"
   },
   {
    "duration": 10,
    "start_time": "2023-07-04T13:27:25.127Z"
   },
   {
    "duration": 856,
    "start_time": "2023-07-04T13:27:25.139Z"
   },
   {
    "duration": 14,
    "start_time": "2023-07-04T13:27:25.996Z"
   },
   {
    "duration": 169,
    "start_time": "2023-07-04T13:27:26.012Z"
   },
   {
    "duration": 80,
    "start_time": "2023-07-04T13:27:26.182Z"
   },
   {
    "duration": 1005,
    "start_time": "2023-07-04T13:27:26.274Z"
   },
   {
    "duration": 21,
    "start_time": "2023-07-04T13:27:27.282Z"
   },
   {
    "duration": 147,
    "start_time": "2023-07-04T13:27:27.304Z"
   },
   {
    "duration": 325,
    "start_time": "2023-07-04T13:27:27.460Z"
   },
   {
    "duration": 73,
    "start_time": "2023-07-04T13:27:27.787Z"
   },
   {
    "duration": 32,
    "start_time": "2023-07-04T13:27:27.867Z"
   },
   {
    "duration": 702,
    "start_time": "2023-07-04T13:27:27.902Z"
   },
   {
    "duration": 218,
    "start_time": "2023-07-04T13:27:28.610Z"
   },
   {
    "duration": 25,
    "start_time": "2023-07-04T13:27:28.831Z"
   },
   {
    "duration": 2773,
    "start_time": "2023-07-04T13:27:28.858Z"
   },
   {
    "duration": 18,
    "start_time": "2023-07-04T13:27:31.636Z"
   },
   {
    "duration": 396,
    "start_time": "2023-07-04T13:27:31.660Z"
   },
   {
    "duration": 32,
    "start_time": "2023-07-04T13:27:32.058Z"
   },
   {
    "duration": 11,
    "start_time": "2023-07-04T13:27:32.092Z"
   },
   {
    "duration": 143,
    "start_time": "2023-07-04T13:27:32.104Z"
   },
   {
    "duration": 93,
    "start_time": "2023-07-04T13:27:32.250Z"
   },
   {
    "duration": 688,
    "start_time": "2023-07-04T13:27:32.345Z"
   },
   {
    "duration": 27,
    "start_time": "2023-07-04T13:27:33.035Z"
   },
   {
    "duration": 150,
    "start_time": "2023-07-04T13:27:33.068Z"
   },
   {
    "duration": 195,
    "start_time": "2023-07-04T13:27:33.220Z"
   },
   {
    "duration": 73,
    "start_time": "2023-07-04T13:27:33.417Z"
   },
   {
    "duration": 140,
    "start_time": "2023-07-04T13:27:33.493Z"
   },
   {
    "duration": 0,
    "start_time": "2023-07-04T13:27:33.638Z"
   },
   {
    "duration": 15,
    "start_time": "2023-07-04T13:27:44.504Z"
   },
   {
    "duration": 17,
    "start_time": "2023-07-04T13:28:04.733Z"
   },
   {
    "duration": 14,
    "start_time": "2023-07-04T13:28:17.006Z"
   },
   {
    "duration": 19,
    "start_time": "2023-07-04T13:28:20.706Z"
   },
   {
    "duration": 19,
    "start_time": "2023-07-04T13:28:24.880Z"
   },
   {
    "duration": 14,
    "start_time": "2023-07-04T13:28:28.128Z"
   },
   {
    "duration": 26,
    "start_time": "2023-07-04T13:28:40.651Z"
   },
   {
    "duration": 14,
    "start_time": "2023-07-04T13:28:53.270Z"
   },
   {
    "duration": 15,
    "start_time": "2023-07-04T13:28:53.286Z"
   },
   {
    "duration": 11,
    "start_time": "2023-07-04T13:28:53.304Z"
   },
   {
    "duration": 18,
    "start_time": "2023-07-04T13:28:53.318Z"
   },
   {
    "duration": 60,
    "start_time": "2023-07-04T13:28:53.339Z"
   },
   {
    "duration": 725,
    "start_time": "2023-07-04T13:28:53.402Z"
   },
   {
    "duration": 77,
    "start_time": "2023-07-04T13:28:54.129Z"
   },
   {
    "duration": 30,
    "start_time": "2023-07-04T13:28:54.208Z"
   },
   {
    "duration": 156,
    "start_time": "2023-07-04T13:28:54.240Z"
   },
   {
    "duration": 163,
    "start_time": "2023-07-04T13:28:54.398Z"
   },
   {
    "duration": 357,
    "start_time": "2023-07-04T13:28:54.563Z"
   },
   {
    "duration": 12,
    "start_time": "2023-07-04T13:28:54.922Z"
   },
   {
    "duration": 879,
    "start_time": "2023-07-04T13:28:54.936Z"
   },
   {
    "duration": 16,
    "start_time": "2023-07-04T13:28:55.819Z"
   },
   {
    "duration": 199,
    "start_time": "2023-07-04T13:28:55.838Z"
   },
   {
    "duration": 104,
    "start_time": "2023-07-04T13:28:56.039Z"
   },
   {
    "duration": 953,
    "start_time": "2023-07-04T13:28:56.145Z"
   },
   {
    "duration": 21,
    "start_time": "2023-07-04T13:28:57.100Z"
   },
   {
    "duration": 160,
    "start_time": "2023-07-04T13:28:57.123Z"
   },
   {
    "duration": 292,
    "start_time": "2023-07-04T13:28:57.285Z"
   },
   {
    "duration": 77,
    "start_time": "2023-07-04T13:28:57.583Z"
   },
   {
    "duration": 23,
    "start_time": "2023-07-04T13:28:57.669Z"
   },
   {
    "duration": 627,
    "start_time": "2023-07-04T13:28:57.696Z"
   },
   {
    "duration": 545,
    "start_time": "2023-07-04T13:28:58.327Z"
   },
   {
    "duration": 28,
    "start_time": "2023-07-04T13:28:58.876Z"
   },
   {
    "duration": 2480,
    "start_time": "2023-07-04T13:28:58.906Z"
   },
   {
    "duration": 14,
    "start_time": "2023-07-04T13:29:01.388Z"
   },
   {
    "duration": 356,
    "start_time": "2023-07-04T13:29:01.404Z"
   },
   {
    "duration": 47,
    "start_time": "2023-07-04T13:29:01.763Z"
   },
   {
    "duration": 31,
    "start_time": "2023-07-04T13:29:01.813Z"
   },
   {
    "duration": 176,
    "start_time": "2023-07-04T13:29:01.846Z"
   },
   {
    "duration": 74,
    "start_time": "2023-07-04T13:29:02.024Z"
   },
   {
    "duration": 621,
    "start_time": "2023-07-04T13:29:02.100Z"
   },
   {
    "duration": 37,
    "start_time": "2023-07-04T13:29:02.724Z"
   },
   {
    "duration": 165,
    "start_time": "2023-07-04T13:29:02.763Z"
   },
   {
    "duration": 191,
    "start_time": "2023-07-04T13:29:02.930Z"
   },
   {
    "duration": 61,
    "start_time": "2023-07-04T13:29:03.123Z"
   },
   {
    "duration": 14,
    "start_time": "2023-07-04T13:29:03.186Z"
   },
   {
    "duration": 14,
    "start_time": "2023-07-04T13:29:03.202Z"
   },
   {
    "duration": 3,
    "start_time": "2023-07-04T13:40:12.046Z"
   },
   {
    "duration": 42,
    "start_time": "2023-07-04T13:40:12.057Z"
   },
   {
    "duration": 6,
    "start_time": "2023-07-04T13:40:12.102Z"
   },
   {
    "duration": 16,
    "start_time": "2023-07-04T13:40:12.110Z"
   },
   {
    "duration": 18,
    "start_time": "2023-07-04T13:40:12.128Z"
   },
   {
    "duration": 782,
    "start_time": "2023-07-04T13:40:12.148Z"
   },
   {
    "duration": 57,
    "start_time": "2023-07-04T13:40:12.933Z"
   },
   {
    "duration": 22,
    "start_time": "2023-07-04T13:40:12.992Z"
   },
   {
    "duration": 183,
    "start_time": "2023-07-04T13:40:13.016Z"
   },
   {
    "duration": 128,
    "start_time": "2023-07-04T13:40:13.204Z"
   },
   {
    "duration": 348,
    "start_time": "2023-07-04T13:40:13.335Z"
   },
   {
    "duration": 10,
    "start_time": "2023-07-04T13:40:13.685Z"
   },
   {
    "duration": 756,
    "start_time": "2023-07-04T13:40:13.698Z"
   },
   {
    "duration": 22,
    "start_time": "2023-07-04T13:40:14.470Z"
   },
   {
    "duration": 146,
    "start_time": "2023-07-04T13:40:14.493Z"
   },
   {
    "duration": 81,
    "start_time": "2023-07-04T13:40:14.642Z"
   },
   {
    "duration": 914,
    "start_time": "2023-07-04T13:40:14.725Z"
   },
   {
    "duration": 44,
    "start_time": "2023-07-04T13:40:15.641Z"
   },
   {
    "duration": 143,
    "start_time": "2023-07-04T13:40:15.688Z"
   },
   {
    "duration": 259,
    "start_time": "2023-07-04T13:40:15.832Z"
   },
   {
    "duration": 67,
    "start_time": "2023-07-04T13:40:16.092Z"
   },
   {
    "duration": 24,
    "start_time": "2023-07-04T13:40:16.160Z"
   },
   {
    "duration": 746,
    "start_time": "2023-07-04T13:40:16.186Z"
   },
   {
    "duration": 172,
    "start_time": "2023-07-04T13:40:16.933Z"
   },
   {
    "duration": 18,
    "start_time": "2023-07-04T13:40:17.107Z"
   },
   {
    "duration": 2604,
    "start_time": "2023-07-04T13:40:17.127Z"
   },
   {
    "duration": 22,
    "start_time": "2023-07-04T13:40:19.733Z"
   },
   {
    "duration": 326,
    "start_time": "2023-07-04T13:40:19.762Z"
   },
   {
    "duration": 31,
    "start_time": "2023-07-04T13:40:20.090Z"
   },
   {
    "duration": 9,
    "start_time": "2023-07-04T13:40:20.123Z"
   },
   {
    "duration": 151,
    "start_time": "2023-07-04T13:40:20.156Z"
   },
   {
    "duration": 76,
    "start_time": "2023-07-04T13:40:20.310Z"
   },
   {
    "duration": 612,
    "start_time": "2023-07-04T13:40:20.388Z"
   },
   {
    "duration": 14,
    "start_time": "2023-07-04T13:40:21.003Z"
   },
   {
    "duration": 145,
    "start_time": "2023-07-04T13:40:21.018Z"
   },
   {
    "duration": 465,
    "start_time": "2023-07-04T13:40:21.165Z"
   },
   {
    "duration": 50,
    "start_time": "2023-07-04T13:40:21.634Z"
   },
   {
    "duration": 35,
    "start_time": "2023-07-04T13:40:21.686Z"
   },
   {
    "duration": 54,
    "start_time": "2023-07-04T13:40:21.723Z"
   },
   {
    "duration": 3,
    "start_time": "2023-07-04T13:43:39.009Z"
   },
   {
    "duration": 6,
    "start_time": "2023-07-04T13:43:39.014Z"
   },
   {
    "duration": 5,
    "start_time": "2023-07-04T13:43:39.022Z"
   },
   {
    "duration": 6,
    "start_time": "2023-07-04T13:43:39.029Z"
   },
   {
    "duration": 8,
    "start_time": "2023-07-04T13:43:39.037Z"
   },
   {
    "duration": 480,
    "start_time": "2023-07-04T13:43:39.046Z"
   },
   {
    "duration": 55,
    "start_time": "2023-07-04T13:43:39.528Z"
   },
   {
    "duration": 21,
    "start_time": "2023-07-04T13:43:39.585Z"
   },
   {
    "duration": 130,
    "start_time": "2023-07-04T13:43:39.609Z"
   },
   {
    "duration": 120,
    "start_time": "2023-07-04T13:43:39.742Z"
   },
   {
    "duration": 317,
    "start_time": "2023-07-04T13:43:39.872Z"
   },
   {
    "duration": 10,
    "start_time": "2023-07-04T13:43:40.191Z"
   },
   {
    "duration": 778,
    "start_time": "2023-07-04T13:43:40.202Z"
   },
   {
    "duration": 14,
    "start_time": "2023-07-04T13:43:40.982Z"
   },
   {
    "duration": 142,
    "start_time": "2023-07-04T13:43:40.998Z"
   },
   {
    "duration": 80,
    "start_time": "2023-07-04T13:43:41.142Z"
   },
   {
    "duration": 868,
    "start_time": "2023-07-04T13:43:41.223Z"
   },
   {
    "duration": 19,
    "start_time": "2023-07-04T13:43:42.093Z"
   },
   {
    "duration": 134,
    "start_time": "2023-07-04T13:43:42.114Z"
   },
   {
    "duration": 255,
    "start_time": "2023-07-04T13:43:42.250Z"
   },
   {
    "duration": 64,
    "start_time": "2023-07-04T13:43:42.507Z"
   },
   {
    "duration": 15,
    "start_time": "2023-07-04T13:43:42.577Z"
   },
   {
    "duration": 744,
    "start_time": "2023-07-04T13:43:42.594Z"
   },
   {
    "duration": 145,
    "start_time": "2023-07-04T13:43:43.343Z"
   },
   {
    "duration": 17,
    "start_time": "2023-07-04T13:43:43.490Z"
   },
   {
    "duration": 2312,
    "start_time": "2023-07-04T13:43:43.509Z"
   },
   {
    "duration": 10,
    "start_time": "2023-07-04T13:43:45.823Z"
   },
   {
    "duration": 340,
    "start_time": "2023-07-04T13:43:45.835Z"
   },
   {
    "duration": 31,
    "start_time": "2023-07-04T13:43:46.177Z"
   },
   {
    "duration": 9,
    "start_time": "2023-07-04T13:43:46.210Z"
   },
   {
    "duration": 144,
    "start_time": "2023-07-04T13:43:46.221Z"
   },
   {
    "duration": 58,
    "start_time": "2023-07-04T13:43:46.367Z"
   },
   {
    "duration": 578,
    "start_time": "2023-07-04T13:43:46.426Z"
   },
   {
    "duration": 15,
    "start_time": "2023-07-04T13:43:47.005Z"
   },
   {
    "duration": 117,
    "start_time": "2023-07-04T13:43:47.021Z"
   },
   {
    "duration": 477,
    "start_time": "2023-07-04T13:43:47.140Z"
   },
   {
    "duration": 48,
    "start_time": "2023-07-04T13:43:47.619Z"
   },
   {
    "duration": 16,
    "start_time": "2023-07-04T13:43:47.672Z"
   },
   {
    "duration": 22,
    "start_time": "2023-07-04T13:43:47.690Z"
   },
   {
    "duration": 37,
    "start_time": "2023-07-04T13:47:16.549Z"
   },
   {
    "duration": 12,
    "start_time": "2023-07-04T13:48:09.422Z"
   },
   {
    "duration": 3,
    "start_time": "2023-07-04T13:50:13.979Z"
   },
   {
    "duration": 15,
    "start_time": "2023-07-04T13:50:13.986Z"
   },
   {
    "duration": 5,
    "start_time": "2023-07-04T13:50:14.003Z"
   },
   {
    "duration": 8,
    "start_time": "2023-07-04T13:50:14.010Z"
   },
   {
    "duration": 8,
    "start_time": "2023-07-04T13:50:14.019Z"
   },
   {
    "duration": 396,
    "start_time": "2023-07-04T13:50:14.029Z"
   },
   {
    "duration": 42,
    "start_time": "2023-07-04T13:50:14.427Z"
   },
   {
    "duration": 20,
    "start_time": "2023-07-04T13:50:14.471Z"
   },
   {
    "duration": 122,
    "start_time": "2023-07-04T13:50:14.492Z"
   },
   {
    "duration": 106,
    "start_time": "2023-07-04T13:50:14.615Z"
   },
   {
    "duration": 301,
    "start_time": "2023-07-04T13:50:14.723Z"
   },
   {
    "duration": 10,
    "start_time": "2023-07-04T13:50:15.027Z"
   },
   {
    "duration": 753,
    "start_time": "2023-07-04T13:50:15.039Z"
   },
   {
    "duration": 13,
    "start_time": "2023-07-04T13:50:15.795Z"
   },
   {
    "duration": 124,
    "start_time": "2023-07-04T13:50:15.812Z"
   },
   {
    "duration": 65,
    "start_time": "2023-07-04T13:50:15.937Z"
   },
   {
    "duration": 793,
    "start_time": "2023-07-04T13:50:16.005Z"
   },
   {
    "duration": 16,
    "start_time": "2023-07-04T13:50:16.800Z"
   },
   {
    "duration": 120,
    "start_time": "2023-07-04T13:50:16.817Z"
   },
   {
    "duration": 245,
    "start_time": "2023-07-04T13:50:16.938Z"
   },
   {
    "duration": 59,
    "start_time": "2023-07-04T13:50:17.185Z"
   },
   {
    "duration": 26,
    "start_time": "2023-07-04T13:50:17.245Z"
   },
   {
    "duration": 727,
    "start_time": "2023-07-04T13:50:17.273Z"
   },
   {
    "duration": 143,
    "start_time": "2023-07-04T13:50:18.003Z"
   },
   {
    "duration": 20,
    "start_time": "2023-07-04T13:50:18.148Z"
   },
   {
    "duration": 2275,
    "start_time": "2023-07-04T13:50:18.169Z"
   },
   {
    "duration": 16,
    "start_time": "2023-07-04T13:50:20.454Z"
   },
   {
    "duration": 306,
    "start_time": "2023-07-04T13:50:20.472Z"
   },
   {
    "duration": 27,
    "start_time": "2023-07-04T13:50:20.780Z"
   },
   {
    "duration": 10,
    "start_time": "2023-07-04T13:50:20.809Z"
   },
   {
    "duration": 120,
    "start_time": "2023-07-04T13:50:20.820Z"
   },
   {
    "duration": 57,
    "start_time": "2023-07-04T13:50:20.942Z"
   },
   {
    "duration": 535,
    "start_time": "2023-07-04T13:50:21.001Z"
   },
   {
    "duration": 20,
    "start_time": "2023-07-04T13:50:21.538Z"
   },
   {
    "duration": 107,
    "start_time": "2023-07-04T13:50:21.559Z"
   },
   {
    "duration": 404,
    "start_time": "2023-07-04T13:50:21.668Z"
   },
   {
    "duration": 21,
    "start_time": "2023-07-04T13:50:22.074Z"
   },
   {
    "duration": 0,
    "start_time": "2023-07-04T13:50:22.096Z"
   },
   {
    "duration": 0,
    "start_time": "2023-07-04T13:50:22.098Z"
   },
   {
    "duration": 380,
    "start_time": "2023-07-04T13:50:33.148Z"
   },
   {
    "duration": 1339,
    "start_time": "2023-07-04T13:50:47.108Z"
   },
   {
    "duration": 3,
    "start_time": "2023-07-04T13:50:48.450Z"
   },
   {
    "duration": 22,
    "start_time": "2023-07-04T13:50:48.454Z"
   },
   {
    "duration": 11246,
    "start_time": "2023-07-04T13:50:48.480Z"
   },
   {
    "duration": 3,
    "start_time": "2023-07-04T13:50:59.728Z"
   },
   {
    "duration": 545,
    "start_time": "2023-07-04T13:50:59.733Z"
   },
   {
    "duration": 38,
    "start_time": "2023-07-04T13:51:00.280Z"
   },
   {
    "duration": 38,
    "start_time": "2023-07-04T13:51:00.319Z"
   },
   {
    "duration": 148,
    "start_time": "2023-07-04T13:51:00.359Z"
   },
   {
    "duration": 106,
    "start_time": "2023-07-04T13:51:00.510Z"
   },
   {
    "duration": 308,
    "start_time": "2023-07-04T13:51:00.619Z"
   },
   {
    "duration": 33,
    "start_time": "2023-07-04T13:51:00.929Z"
   },
   {
    "duration": 752,
    "start_time": "2023-07-04T13:51:00.964Z"
   },
   {
    "duration": 13,
    "start_time": "2023-07-04T13:51:01.718Z"
   },
   {
    "duration": 160,
    "start_time": "2023-07-04T13:51:01.733Z"
   },
   {
    "duration": 82,
    "start_time": "2023-07-04T13:51:01.894Z"
   },
   {
    "duration": 909,
    "start_time": "2023-07-04T13:51:01.978Z"
   },
   {
    "duration": 17,
    "start_time": "2023-07-04T13:51:02.889Z"
   },
   {
    "duration": 122,
    "start_time": "2023-07-04T13:51:02.908Z"
   },
   {
    "duration": 243,
    "start_time": "2023-07-04T13:51:03.032Z"
   },
   {
    "duration": 61,
    "start_time": "2023-07-04T13:51:03.277Z"
   },
   {
    "duration": 20,
    "start_time": "2023-07-04T13:51:03.339Z"
   },
   {
    "duration": 504,
    "start_time": "2023-07-04T13:51:03.362Z"
   },
   {
    "duration": 127,
    "start_time": "2023-07-04T13:51:03.868Z"
   },
   {
    "duration": 15,
    "start_time": "2023-07-04T13:51:03.997Z"
   },
   {
    "duration": 2318,
    "start_time": "2023-07-04T13:51:04.014Z"
   },
   {
    "duration": 25,
    "start_time": "2023-07-04T13:51:06.334Z"
   },
   {
    "duration": 280,
    "start_time": "2023-07-04T13:51:06.364Z"
   },
   {
    "duration": 34,
    "start_time": "2023-07-04T13:51:06.651Z"
   },
   {
    "duration": 9,
    "start_time": "2023-07-04T13:51:06.687Z"
   },
   {
    "duration": 120,
    "start_time": "2023-07-04T13:51:06.697Z"
   },
   {
    "duration": 59,
    "start_time": "2023-07-04T13:51:06.819Z"
   },
   {
    "duration": 544,
    "start_time": "2023-07-04T13:51:06.880Z"
   },
   {
    "duration": 14,
    "start_time": "2023-07-04T13:51:07.427Z"
   },
   {
    "duration": 112,
    "start_time": "2023-07-04T13:51:07.454Z"
   },
   {
    "duration": 152,
    "start_time": "2023-07-04T13:51:07.567Z"
   },
   {
    "duration": 142,
    "start_time": "2023-07-04T13:51:07.721Z"
   },
   {
    "duration": 0,
    "start_time": "2023-07-04T13:51:07.865Z"
   },
   {
    "duration": 0,
    "start_time": "2023-07-04T13:51:07.866Z"
   },
   {
    "duration": 0,
    "start_time": "2023-07-04T13:51:07.867Z"
   },
   {
    "duration": 356,
    "start_time": "2023-07-04T13:51:25.839Z"
   },
   {
    "duration": 25,
    "start_time": "2023-07-04T13:51:57.630Z"
   },
   {
    "duration": 19,
    "start_time": "2023-07-04T13:52:16.046Z"
   },
   {
    "duration": 14,
    "start_time": "2023-07-04T13:52:26.975Z"
   },
   {
    "duration": 18,
    "start_time": "2023-07-04T13:52:30.321Z"
   },
   {
    "duration": 20,
    "start_time": "2023-07-04T13:53:06.716Z"
   },
   {
    "duration": 19,
    "start_time": "2023-07-04T13:54:10.245Z"
   },
   {
    "duration": 15,
    "start_time": "2023-07-04T13:54:40.131Z"
   },
   {
    "duration": 3,
    "start_time": "2023-07-04T13:55:03.089Z"
   },
   {
    "duration": 20,
    "start_time": "2023-07-04T13:55:03.094Z"
   },
   {
    "duration": 8,
    "start_time": "2023-07-04T13:55:03.116Z"
   },
   {
    "duration": 17,
    "start_time": "2023-07-04T13:55:03.126Z"
   },
   {
    "duration": 48,
    "start_time": "2023-07-04T13:55:03.146Z"
   },
   {
    "duration": 545,
    "start_time": "2023-07-04T13:55:03.196Z"
   },
   {
    "duration": 40,
    "start_time": "2023-07-04T13:55:03.752Z"
   },
   {
    "duration": 18,
    "start_time": "2023-07-04T13:55:03.793Z"
   },
   {
    "duration": 130,
    "start_time": "2023-07-04T13:55:03.813Z"
   },
   {
    "duration": 116,
    "start_time": "2023-07-04T13:55:03.945Z"
   },
   {
    "duration": 323,
    "start_time": "2023-07-04T13:55:04.062Z"
   },
   {
    "duration": 9,
    "start_time": "2023-07-04T13:55:04.387Z"
   },
   {
    "duration": 723,
    "start_time": "2023-07-04T13:55:04.398Z"
   },
   {
    "duration": 13,
    "start_time": "2023-07-04T13:55:05.124Z"
   },
   {
    "duration": 158,
    "start_time": "2023-07-04T13:55:05.138Z"
   },
   {
    "duration": 94,
    "start_time": "2023-07-04T13:55:05.298Z"
   },
   {
    "duration": 828,
    "start_time": "2023-07-04T13:55:05.393Z"
   },
   {
    "duration": 28,
    "start_time": "2023-07-04T13:55:06.223Z"
   },
   {
    "duration": 176,
    "start_time": "2023-07-04T13:55:06.255Z"
   },
   {
    "duration": 233,
    "start_time": "2023-07-04T13:55:06.432Z"
   },
   {
    "duration": 60,
    "start_time": "2023-07-04T13:55:06.668Z"
   },
   {
    "duration": 13,
    "start_time": "2023-07-04T13:55:06.729Z"
   },
   {
    "duration": 522,
    "start_time": "2023-07-04T13:55:06.744Z"
   },
   {
    "duration": 329,
    "start_time": "2023-07-04T13:55:07.269Z"
   },
   {
    "duration": 14,
    "start_time": "2023-07-04T13:55:07.599Z"
   },
   {
    "duration": 2248,
    "start_time": "2023-07-04T13:55:07.615Z"
   },
   {
    "duration": 10,
    "start_time": "2023-07-04T13:55:09.865Z"
   },
   {
    "duration": 302,
    "start_time": "2023-07-04T13:55:09.876Z"
   },
   {
    "duration": 26,
    "start_time": "2023-07-04T13:55:10.179Z"
   },
   {
    "duration": 9,
    "start_time": "2023-07-04T13:55:10.206Z"
   },
   {
    "duration": 110,
    "start_time": "2023-07-04T13:55:10.216Z"
   },
   {
    "duration": 57,
    "start_time": "2023-07-04T13:55:10.328Z"
   },
   {
    "duration": 559,
    "start_time": "2023-07-04T13:55:10.387Z"
   },
   {
    "duration": 24,
    "start_time": "2023-07-04T13:55:10.948Z"
   },
   {
    "duration": 111,
    "start_time": "2023-07-04T13:55:10.974Z"
   },
   {
    "duration": 184,
    "start_time": "2023-07-04T13:55:11.087Z"
   },
   {
    "duration": 23,
    "start_time": "2023-07-04T13:55:11.272Z"
   },
   {
    "duration": 14,
    "start_time": "2023-07-04T13:55:11.296Z"
   },
   {
    "duration": 16,
    "start_time": "2023-07-04T13:55:11.311Z"
   },
   {
    "duration": 81,
    "start_time": "2023-07-04T13:55:11.329Z"
   },
   {
    "duration": 30,
    "start_time": "2023-07-04T13:55:44.967Z"
   },
   {
    "duration": 10,
    "start_time": "2023-07-04T13:56:04.211Z"
   },
   {
    "duration": 57,
    "start_time": "2023-07-04T13:59:24.264Z"
   },
   {
    "duration": 18,
    "start_time": "2023-07-04T14:00:14.852Z"
   },
   {
    "duration": 7,
    "start_time": "2023-07-04T14:00:48.514Z"
   },
   {
    "duration": 118,
    "start_time": "2023-07-04T14:02:55.275Z"
   },
   {
    "duration": 89,
    "start_time": "2023-07-04T14:03:20.731Z"
   },
   {
    "duration": 11,
    "start_time": "2023-07-04T14:04:26.688Z"
   },
   {
    "duration": 71,
    "start_time": "2023-07-04T14:23:59.132Z"
   },
   {
    "duration": 1405,
    "start_time": "2023-07-04T20:56:42.235Z"
   },
   {
    "duration": 3,
    "start_time": "2023-07-04T20:56:43.642Z"
   },
   {
    "duration": 60,
    "start_time": "2023-07-04T20:56:43.648Z"
   },
   {
    "duration": 6161,
    "start_time": "2023-07-04T20:56:43.711Z"
   },
   {
    "duration": 3,
    "start_time": "2023-07-04T20:56:49.874Z"
   },
   {
    "duration": 485,
    "start_time": "2023-07-04T20:56:49.878Z"
   },
   {
    "duration": 59,
    "start_time": "2023-07-04T20:56:50.365Z"
   },
   {
    "duration": 27,
    "start_time": "2023-07-04T20:56:50.426Z"
   },
   {
    "duration": 182,
    "start_time": "2023-07-04T20:56:50.455Z"
   },
   {
    "duration": 120,
    "start_time": "2023-07-04T20:56:50.641Z"
   },
   {
    "duration": 282,
    "start_time": "2023-07-04T20:56:50.763Z"
   },
   {
    "duration": 10,
    "start_time": "2023-07-04T20:56:51.047Z"
   },
   {
    "duration": 704,
    "start_time": "2023-07-04T20:56:51.058Z"
   },
   {
    "duration": 13,
    "start_time": "2023-07-04T20:56:51.764Z"
   },
   {
    "duration": 122,
    "start_time": "2023-07-04T20:56:51.779Z"
   },
   {
    "duration": 65,
    "start_time": "2023-07-04T20:56:51.903Z"
   },
   {
    "duration": 848,
    "start_time": "2023-07-04T20:56:51.969Z"
   },
   {
    "duration": 17,
    "start_time": "2023-07-04T20:56:52.820Z"
   },
   {
    "duration": 136,
    "start_time": "2023-07-04T20:56:52.839Z"
   },
   {
    "duration": 211,
    "start_time": "2023-07-04T20:56:52.977Z"
   },
   {
    "duration": 61,
    "start_time": "2023-07-04T20:56:53.190Z"
   },
   {
    "duration": 13,
    "start_time": "2023-07-04T20:56:53.253Z"
   },
   {
    "duration": 509,
    "start_time": "2023-07-04T20:56:53.267Z"
   },
   {
    "duration": 125,
    "start_time": "2023-07-04T20:56:53.778Z"
   },
   {
    "duration": 15,
    "start_time": "2023-07-04T20:56:53.905Z"
   },
   {
    "duration": 2194,
    "start_time": "2023-07-04T20:56:53.923Z"
   },
   {
    "duration": 11,
    "start_time": "2023-07-04T20:56:56.119Z"
   },
   {
    "duration": 288,
    "start_time": "2023-07-04T20:56:56.134Z"
   },
   {
    "duration": 25,
    "start_time": "2023-07-04T20:56:56.424Z"
   },
   {
    "duration": 9,
    "start_time": "2023-07-04T20:56:56.451Z"
   },
   {
    "duration": 107,
    "start_time": "2023-07-04T20:56:56.463Z"
   },
   {
    "duration": 71,
    "start_time": "2023-07-04T20:56:56.572Z"
   },
   {
    "duration": 537,
    "start_time": "2023-07-04T20:56:56.645Z"
   },
   {
    "duration": 22,
    "start_time": "2023-07-04T20:56:57.191Z"
   },
   {
    "duration": 105,
    "start_time": "2023-07-04T20:56:57.215Z"
   },
   {
    "duration": 196,
    "start_time": "2023-07-04T20:56:57.322Z"
   },
   {
    "duration": 26,
    "start_time": "2023-07-04T20:56:57.520Z"
   },
   {
    "duration": 14,
    "start_time": "2023-07-04T20:56:57.548Z"
   },
   {
    "duration": 45,
    "start_time": "2023-07-04T20:56:57.563Z"
   },
   {
    "duration": 101,
    "start_time": "2023-07-04T20:56:57.611Z"
   },
   {
    "duration": 16,
    "start_time": "2023-07-04T20:56:57.714Z"
   },
   {
    "duration": 4,
    "start_time": "2023-07-04T21:02:54.160Z"
   },
   {
    "duration": 4,
    "start_time": "2023-07-04T21:03:24.070Z"
   },
   {
    "duration": 3676,
    "start_time": "2023-07-04T21:10:37.146Z"
   },
   {
    "duration": 66,
    "start_time": "2023-07-04T21:12:15.632Z"
   },
   {
    "duration": 57,
    "start_time": "2023-07-04T21:12:40.123Z"
   },
   {
    "duration": 118,
    "start_time": "2023-07-04T21:14:41.247Z"
   },
   {
    "duration": 41,
    "start_time": "2023-07-04T21:16:19.850Z"
   },
   {
    "duration": 38,
    "start_time": "2023-07-04T21:17:56.817Z"
   },
   {
    "duration": 120,
    "start_time": "2023-07-04T21:40:53.302Z"
   },
   {
    "duration": 46,
    "start_time": "2023-07-04T21:51:51.889Z"
   },
   {
    "duration": 42,
    "start_time": "2023-07-04T21:52:05.104Z"
   },
   {
    "duration": 115,
    "start_time": "2023-07-04T21:53:16.817Z"
   },
   {
    "duration": 516,
    "start_time": "2023-07-04T22:03:51.263Z"
   },
   {
    "duration": 19,
    "start_time": "2023-07-04T22:05:35.448Z"
   },
   {
    "duration": 22,
    "start_time": "2023-07-04T22:11:01.515Z"
   },
   {
    "duration": 1398,
    "start_time": "2023-07-04T22:11:11.330Z"
   },
   {
    "duration": 493,
    "start_time": "2023-07-04T22:11:26.419Z"
   },
   {
    "duration": 31,
    "start_time": "2023-07-04T22:11:35.562Z"
   },
   {
    "duration": 70,
    "start_time": "2023-07-04T22:11:43.508Z"
   },
   {
    "duration": 15,
    "start_time": "2023-07-04T22:11:48.701Z"
   },
   {
    "duration": 224,
    "start_time": "2023-07-04T22:21:24.693Z"
   },
   {
    "duration": 29846,
    "start_time": "2023-07-04T22:22:44.691Z"
   },
   {
    "duration": 5038,
    "start_time": "2023-07-04T22:24:56.936Z"
   },
   {
    "duration": 5227,
    "start_time": "2023-07-04T22:25:19.129Z"
   },
   {
    "duration": 24081,
    "start_time": "2023-07-04T22:26:25.622Z"
   },
   {
    "duration": 13429,
    "start_time": "2023-07-04T22:26:57.429Z"
   },
   {
    "duration": 24700,
    "start_time": "2023-07-04T22:27:23.547Z"
   },
   {
    "duration": 24151,
    "start_time": "2023-07-04T22:29:44.544Z"
   },
   {
    "duration": 25010,
    "start_time": "2023-07-04T22:30:15.640Z"
   },
   {
    "duration": 8206,
    "start_time": "2023-07-04T22:31:19.850Z"
   },
   {
    "duration": 1892,
    "start_time": "2023-07-05T14:07:46.770Z"
   },
   {
    "duration": 2,
    "start_time": "2023-07-05T14:07:48.665Z"
   },
   {
    "duration": 12,
    "start_time": "2023-07-05T14:07:48.669Z"
   },
   {
    "duration": 10170,
    "start_time": "2023-07-05T14:07:48.683Z"
   },
   {
    "duration": 3,
    "start_time": "2023-07-05T14:07:58.854Z"
   },
   {
    "duration": 140,
    "start_time": "2023-07-05T14:07:58.859Z"
   },
   {
    "duration": 47,
    "start_time": "2023-07-05T14:07:59.001Z"
   },
   {
    "duration": 19,
    "start_time": "2023-07-05T14:07:59.050Z"
   },
   {
    "duration": 124,
    "start_time": "2023-07-05T14:07:59.071Z"
   },
   {
    "duration": 97,
    "start_time": "2023-07-05T14:07:59.199Z"
   },
   {
    "duration": 285,
    "start_time": "2023-07-05T14:07:59.298Z"
   },
   {
    "duration": 11,
    "start_time": "2023-07-05T14:07:59.585Z"
   },
   {
    "duration": 784,
    "start_time": "2023-07-05T14:07:59.599Z"
   },
   {
    "duration": 12,
    "start_time": "2023-07-05T14:08:00.385Z"
   },
   {
    "duration": 134,
    "start_time": "2023-07-05T14:08:00.399Z"
   },
   {
    "duration": 63,
    "start_time": "2023-07-05T14:08:00.535Z"
   },
   {
    "duration": 726,
    "start_time": "2023-07-05T14:08:00.599Z"
   },
   {
    "duration": 20,
    "start_time": "2023-07-05T14:08:01.327Z"
   },
   {
    "duration": 63,
    "start_time": "2023-07-05T14:08:01.350Z"
   },
   {
    "duration": 125,
    "start_time": "2023-07-05T14:08:01.415Z"
   },
   {
    "duration": 0,
    "start_time": "2023-07-05T14:08:01.543Z"
   },
   {
    "duration": 0,
    "start_time": "2023-07-05T14:08:01.544Z"
   },
   {
    "duration": 0,
    "start_time": "2023-07-05T14:08:01.545Z"
   },
   {
    "duration": 0,
    "start_time": "2023-07-05T14:08:01.546Z"
   },
   {
    "duration": 0,
    "start_time": "2023-07-05T14:08:01.548Z"
   },
   {
    "duration": 0,
    "start_time": "2023-07-05T14:08:01.549Z"
   },
   {
    "duration": 0,
    "start_time": "2023-07-05T14:08:01.550Z"
   },
   {
    "duration": 0,
    "start_time": "2023-07-05T14:08:01.551Z"
   },
   {
    "duration": 0,
    "start_time": "2023-07-05T14:08:01.552Z"
   },
   {
    "duration": 0,
    "start_time": "2023-07-05T14:08:01.554Z"
   },
   {
    "duration": 0,
    "start_time": "2023-07-05T14:08:01.555Z"
   },
   {
    "duration": 0,
    "start_time": "2023-07-05T14:08:01.556Z"
   },
   {
    "duration": 0,
    "start_time": "2023-07-05T14:08:01.557Z"
   },
   {
    "duration": 0,
    "start_time": "2023-07-05T14:08:01.558Z"
   },
   {
    "duration": 0,
    "start_time": "2023-07-05T14:08:01.559Z"
   },
   {
    "duration": 0,
    "start_time": "2023-07-05T14:08:01.560Z"
   },
   {
    "duration": 0,
    "start_time": "2023-07-05T14:08:01.561Z"
   },
   {
    "duration": 0,
    "start_time": "2023-07-05T14:08:01.562Z"
   },
   {
    "duration": 0,
    "start_time": "2023-07-05T14:08:01.563Z"
   },
   {
    "duration": 0,
    "start_time": "2023-07-05T14:08:01.564Z"
   },
   {
    "duration": 0,
    "start_time": "2023-07-05T14:08:01.565Z"
   },
   {
    "duration": 0,
    "start_time": "2023-07-05T14:08:01.566Z"
   },
   {
    "duration": 0,
    "start_time": "2023-07-05T14:08:01.613Z"
   },
   {
    "duration": 0,
    "start_time": "2023-07-05T14:08:01.615Z"
   },
   {
    "duration": 0,
    "start_time": "2023-07-05T14:08:01.616Z"
   },
   {
    "duration": 0,
    "start_time": "2023-07-05T14:08:01.618Z"
   },
   {
    "duration": 0,
    "start_time": "2023-07-05T14:08:01.620Z"
   },
   {
    "duration": 12,
    "start_time": "2023-07-05T14:10:27.934Z"
   },
   {
    "duration": 4,
    "start_time": "2023-07-05T14:16:04.345Z"
   },
   {
    "duration": 218,
    "start_time": "2023-07-05T14:16:14.296Z"
   },
   {
    "duration": 1481,
    "start_time": "2023-07-05T14:16:25.645Z"
   },
   {
    "duration": 2,
    "start_time": "2023-07-05T14:16:27.128Z"
   },
   {
    "duration": 25,
    "start_time": "2023-07-05T14:16:27.132Z"
   },
   {
    "duration": 9489,
    "start_time": "2023-07-05T14:16:27.159Z"
   },
   {
    "duration": 3,
    "start_time": "2023-07-05T14:16:36.651Z"
   },
   {
    "duration": 148,
    "start_time": "2023-07-05T14:16:36.655Z"
   },
   {
    "duration": 37,
    "start_time": "2023-07-05T14:16:36.805Z"
   },
   {
    "duration": 21,
    "start_time": "2023-07-05T14:16:36.844Z"
   },
   {
    "duration": 123,
    "start_time": "2023-07-05T14:16:36.867Z"
   },
   {
    "duration": 107,
    "start_time": "2023-07-05T14:16:36.992Z"
   },
   {
    "duration": 300,
    "start_time": "2023-07-05T14:16:37.101Z"
   },
   {
    "duration": 16,
    "start_time": "2023-07-05T14:16:37.403Z"
   },
   {
    "duration": 782,
    "start_time": "2023-07-05T14:16:37.421Z"
   },
   {
    "duration": 24,
    "start_time": "2023-07-05T14:16:38.206Z"
   },
   {
    "duration": 62,
    "start_time": "2023-07-05T14:16:38.233Z"
   },
   {
    "duration": 71,
    "start_time": "2023-07-05T14:16:38.297Z"
   },
   {
    "duration": 732,
    "start_time": "2023-07-05T14:16:38.370Z"
   },
   {
    "duration": 24,
    "start_time": "2023-07-05T14:16:39.105Z"
   },
   {
    "duration": 62,
    "start_time": "2023-07-05T14:16:39.130Z"
   },
   {
    "duration": 204,
    "start_time": "2023-07-05T14:16:39.194Z"
   },
   {
    "duration": 28,
    "start_time": "2023-07-05T14:16:39.413Z"
   },
   {
    "duration": 11,
    "start_time": "2023-07-05T14:16:39.443Z"
   },
   {
    "duration": 523,
    "start_time": "2023-07-05T14:16:39.455Z"
   },
   {
    "duration": 162,
    "start_time": "2023-07-05T14:16:39.980Z"
   },
   {
    "duration": 16,
    "start_time": "2023-07-05T14:16:40.143Z"
   },
   {
    "duration": 2112,
    "start_time": "2023-07-05T14:16:40.160Z"
   },
   {
    "duration": 8,
    "start_time": "2023-07-05T14:16:42.274Z"
   },
   {
    "duration": 294,
    "start_time": "2023-07-05T14:16:42.286Z"
   },
   {
    "duration": 39,
    "start_time": "2023-07-05T14:16:42.581Z"
   },
   {
    "duration": 9,
    "start_time": "2023-07-05T14:16:42.621Z"
   },
   {
    "duration": 49,
    "start_time": "2023-07-05T14:16:42.633Z"
   },
   {
    "duration": 78,
    "start_time": "2023-07-05T14:16:42.683Z"
   },
   {
    "duration": 524,
    "start_time": "2023-07-05T14:16:42.763Z"
   },
   {
    "duration": 16,
    "start_time": "2023-07-05T14:16:43.289Z"
   },
   {
    "duration": 33,
    "start_time": "2023-07-05T14:16:43.314Z"
   },
   {
    "duration": 176,
    "start_time": "2023-07-05T14:16:43.349Z"
   },
   {
    "duration": 22,
    "start_time": "2023-07-05T14:16:43.527Z"
   },
   {
    "duration": 13,
    "start_time": "2023-07-05T14:16:43.551Z"
   },
   {
    "duration": 22,
    "start_time": "2023-07-05T14:16:43.566Z"
   },
   {
    "duration": 79,
    "start_time": "2023-07-05T14:16:43.590Z"
   },
   {
    "duration": 8,
    "start_time": "2023-07-05T14:16:43.671Z"
   },
   {
    "duration": 67,
    "start_time": "2023-07-05T14:16:43.681Z"
   },
   {
    "duration": 36,
    "start_time": "2023-07-05T14:16:43.749Z"
   },
   {
    "duration": 133,
    "start_time": "2023-07-05T14:16:43.787Z"
   },
   {
    "duration": 17,
    "start_time": "2023-07-05T14:16:43.922Z"
   },
   {
    "duration": 24,
    "start_time": "2023-07-05T14:16:43.941Z"
   },
   {
    "duration": 231,
    "start_time": "2023-07-05T14:16:43.968Z"
   },
   {
    "duration": 1786,
    "start_time": "2023-07-05T14:19:22.352Z"
   },
   {
    "duration": 3,
    "start_time": "2023-07-05T14:19:24.140Z"
   },
   {
    "duration": 26,
    "start_time": "2023-07-05T14:19:24.144Z"
   },
   {
    "duration": 11570,
    "start_time": "2023-07-05T14:19:24.172Z"
   },
   {
    "duration": 3,
    "start_time": "2023-07-05T14:19:35.744Z"
   },
   {
    "duration": 133,
    "start_time": "2023-07-05T14:19:35.748Z"
   },
   {
    "duration": 55,
    "start_time": "2023-07-05T14:19:35.882Z"
   },
   {
    "duration": 18,
    "start_time": "2023-07-05T14:19:35.939Z"
   },
   {
    "duration": 129,
    "start_time": "2023-07-05T14:19:35.959Z"
   },
   {
    "duration": 100,
    "start_time": "2023-07-05T14:19:36.091Z"
   },
   {
    "duration": 288,
    "start_time": "2023-07-05T14:19:36.193Z"
   },
   {
    "duration": 9,
    "start_time": "2023-07-05T14:19:36.483Z"
   },
   {
    "duration": 780,
    "start_time": "2023-07-05T14:19:36.494Z"
   },
   {
    "duration": 14,
    "start_time": "2023-07-05T14:19:37.275Z"
   },
   {
    "duration": 73,
    "start_time": "2023-07-05T14:19:37.292Z"
   },
   {
    "duration": 77,
    "start_time": "2023-07-05T14:19:37.367Z"
   },
   {
    "duration": 762,
    "start_time": "2023-07-05T14:19:37.445Z"
   },
   {
    "duration": 21,
    "start_time": "2023-07-05T14:19:38.212Z"
   },
   {
    "duration": 51,
    "start_time": "2023-07-05T14:19:38.235Z"
   },
   {
    "duration": 136,
    "start_time": "2023-07-05T14:19:38.288Z"
   },
   {
    "duration": 0,
    "start_time": "2023-07-05T14:19:38.426Z"
   },
   {
    "duration": 0,
    "start_time": "2023-07-05T14:19:38.427Z"
   },
   {
    "duration": 0,
    "start_time": "2023-07-05T14:19:38.428Z"
   },
   {
    "duration": 0,
    "start_time": "2023-07-05T14:19:38.430Z"
   },
   {
    "duration": 0,
    "start_time": "2023-07-05T14:19:38.431Z"
   },
   {
    "duration": 0,
    "start_time": "2023-07-05T14:19:38.433Z"
   },
   {
    "duration": 0,
    "start_time": "2023-07-05T14:19:38.434Z"
   },
   {
    "duration": 0,
    "start_time": "2023-07-05T14:19:38.435Z"
   },
   {
    "duration": 0,
    "start_time": "2023-07-05T14:19:38.436Z"
   },
   {
    "duration": 0,
    "start_time": "2023-07-05T14:19:38.437Z"
   },
   {
    "duration": 0,
    "start_time": "2023-07-05T14:19:38.438Z"
   },
   {
    "duration": 0,
    "start_time": "2023-07-05T14:19:38.440Z"
   },
   {
    "duration": 0,
    "start_time": "2023-07-05T14:19:38.441Z"
   },
   {
    "duration": 0,
    "start_time": "2023-07-05T14:19:38.442Z"
   },
   {
    "duration": 0,
    "start_time": "2023-07-05T14:19:38.443Z"
   },
   {
    "duration": 0,
    "start_time": "2023-07-05T14:19:38.445Z"
   },
   {
    "duration": 0,
    "start_time": "2023-07-05T14:19:38.446Z"
   },
   {
    "duration": 0,
    "start_time": "2023-07-05T14:19:38.447Z"
   },
   {
    "duration": 0,
    "start_time": "2023-07-05T14:19:38.448Z"
   },
   {
    "duration": 0,
    "start_time": "2023-07-05T14:19:38.449Z"
   },
   {
    "duration": 0,
    "start_time": "2023-07-05T14:19:38.450Z"
   },
   {
    "duration": 0,
    "start_time": "2023-07-05T14:19:38.451Z"
   },
   {
    "duration": 0,
    "start_time": "2023-07-05T14:19:38.452Z"
   },
   {
    "duration": 0,
    "start_time": "2023-07-05T14:19:38.453Z"
   },
   {
    "duration": 0,
    "start_time": "2023-07-05T14:19:38.454Z"
   },
   {
    "duration": 0,
    "start_time": "2023-07-05T14:19:38.455Z"
   },
   {
    "duration": 0,
    "start_time": "2023-07-05T14:19:38.456Z"
   },
   {
    "duration": 1636,
    "start_time": "2023-07-05T14:27:11.358Z"
   },
   {
    "duration": 3,
    "start_time": "2023-07-05T14:27:12.996Z"
   },
   {
    "duration": 7,
    "start_time": "2023-07-05T14:27:13.000Z"
   },
   {
    "duration": 9523,
    "start_time": "2023-07-05T14:27:13.009Z"
   },
   {
    "duration": 4,
    "start_time": "2023-07-05T14:27:22.534Z"
   },
   {
    "duration": 196,
    "start_time": "2023-07-05T14:27:22.540Z"
   },
   {
    "duration": 34,
    "start_time": "2023-07-05T14:27:22.738Z"
   },
   {
    "duration": 52,
    "start_time": "2023-07-05T14:27:22.773Z"
   },
   {
    "duration": 123,
    "start_time": "2023-07-05T14:27:22.827Z"
   },
   {
    "duration": 110,
    "start_time": "2023-07-05T14:27:22.953Z"
   },
   {
    "duration": 292,
    "start_time": "2023-07-05T14:27:23.064Z"
   },
   {
    "duration": 10,
    "start_time": "2023-07-05T14:27:23.357Z"
   },
   {
    "duration": 829,
    "start_time": "2023-07-05T14:27:23.368Z"
   },
   {
    "duration": 17,
    "start_time": "2023-07-05T14:27:24.198Z"
   },
   {
    "duration": 108,
    "start_time": "2023-07-05T14:27:24.216Z"
   },
   {
    "duration": 69,
    "start_time": "2023-07-05T14:27:24.325Z"
   },
   {
    "duration": 751,
    "start_time": "2023-07-05T14:27:24.414Z"
   },
   {
    "duration": 20,
    "start_time": "2023-07-05T14:27:25.167Z"
   },
   {
    "duration": 58,
    "start_time": "2023-07-05T14:27:25.189Z"
   },
   {
    "duration": 224,
    "start_time": "2023-07-05T14:27:25.249Z"
   },
   {
    "duration": 40,
    "start_time": "2023-07-05T14:27:25.475Z"
   },
   {
    "duration": 13,
    "start_time": "2023-07-05T14:27:25.516Z"
   },
   {
    "duration": 486,
    "start_time": "2023-07-05T14:27:25.530Z"
   },
   {
    "duration": 164,
    "start_time": "2023-07-05T14:27:26.017Z"
   },
   {
    "duration": 32,
    "start_time": "2023-07-05T14:27:26.184Z"
   },
   {
    "duration": 1968,
    "start_time": "2023-07-05T14:27:26.218Z"
   },
   {
    "duration": 8,
    "start_time": "2023-07-05T14:27:28.188Z"
   },
   {
    "duration": 283,
    "start_time": "2023-07-05T14:27:28.200Z"
   },
   {
    "duration": 37,
    "start_time": "2023-07-05T14:27:28.485Z"
   },
   {
    "duration": 10,
    "start_time": "2023-07-05T14:27:28.524Z"
   },
   {
    "duration": 47,
    "start_time": "2023-07-05T14:27:28.535Z"
   },
   {
    "duration": 73,
    "start_time": "2023-07-05T14:27:28.584Z"
   },
   {
    "duration": 508,
    "start_time": "2023-07-05T14:27:28.659Z"
   },
   {
    "duration": 15,
    "start_time": "2023-07-05T14:27:29.168Z"
   },
   {
    "duration": 51,
    "start_time": "2023-07-05T14:27:29.185Z"
   },
   {
    "duration": 145,
    "start_time": "2023-07-05T14:27:29.238Z"
   },
   {
    "duration": 30,
    "start_time": "2023-07-05T14:27:29.384Z"
   },
   {
    "duration": 13,
    "start_time": "2023-07-05T14:27:29.416Z"
   },
   {
    "duration": 26,
    "start_time": "2023-07-05T14:27:29.431Z"
   },
   {
    "duration": 61,
    "start_time": "2023-07-05T14:27:29.459Z"
   },
   {
    "duration": 8,
    "start_time": "2023-07-05T14:27:29.522Z"
   },
   {
    "duration": 47,
    "start_time": "2023-07-05T14:27:29.532Z"
   },
   {
    "duration": 70,
    "start_time": "2023-07-05T14:27:29.581Z"
   },
   {
    "duration": 154,
    "start_time": "2023-07-05T14:27:29.653Z"
   },
   {
    "duration": 16,
    "start_time": "2023-07-05T14:27:29.813Z"
   },
   {
    "duration": 35,
    "start_time": "2023-07-05T14:27:29.831Z"
   },
   {
    "duration": 215,
    "start_time": "2023-07-05T14:27:29.868Z"
   },
   {
    "duration": 87,
    "start_time": "2023-07-05T14:28:43.209Z"
   },
   {
    "duration": 249,
    "start_time": "2023-07-05T14:28:55.896Z"
   },
   {
    "duration": 1706,
    "start_time": "2023-07-05T14:29:46.514Z"
   },
   {
    "duration": 3,
    "start_time": "2023-07-05T14:29:48.222Z"
   },
   {
    "duration": 10,
    "start_time": "2023-07-05T14:29:48.227Z"
   },
   {
    "duration": 9323,
    "start_time": "2023-07-05T14:29:48.239Z"
   },
   {
    "duration": 3,
    "start_time": "2023-07-05T14:29:57.564Z"
   },
   {
    "duration": 143,
    "start_time": "2023-07-05T14:29:57.568Z"
   },
   {
    "duration": 35,
    "start_time": "2023-07-05T14:29:57.712Z"
   },
   {
    "duration": 19,
    "start_time": "2023-07-05T14:29:57.749Z"
   },
   {
    "duration": 122,
    "start_time": "2023-07-05T14:29:57.770Z"
   },
   {
    "duration": 106,
    "start_time": "2023-07-05T14:29:57.894Z"
   },
   {
    "duration": 316,
    "start_time": "2023-07-05T14:29:58.002Z"
   },
   {
    "duration": 9,
    "start_time": "2023-07-05T14:29:58.320Z"
   },
   {
    "duration": 741,
    "start_time": "2023-07-05T14:29:58.331Z"
   },
   {
    "duration": 13,
    "start_time": "2023-07-05T14:29:59.074Z"
   },
   {
    "duration": 58,
    "start_time": "2023-07-05T14:29:59.088Z"
   },
   {
    "duration": 71,
    "start_time": "2023-07-05T14:29:59.148Z"
   },
   {
    "duration": 809,
    "start_time": "2023-07-05T14:29:59.220Z"
   },
   {
    "duration": 20,
    "start_time": "2023-07-05T14:30:00.031Z"
   },
   {
    "duration": 118,
    "start_time": "2023-07-05T14:30:00.052Z"
   },
   {
    "duration": 123,
    "start_time": "2023-07-05T14:30:00.172Z"
   },
   {
    "duration": 0,
    "start_time": "2023-07-05T14:30:00.297Z"
   },
   {
    "duration": 0,
    "start_time": "2023-07-05T14:30:00.299Z"
   },
   {
    "duration": 0,
    "start_time": "2023-07-05T14:30:00.300Z"
   },
   {
    "duration": 0,
    "start_time": "2023-07-05T14:30:00.301Z"
   },
   {
    "duration": 0,
    "start_time": "2023-07-05T14:30:00.302Z"
   },
   {
    "duration": 0,
    "start_time": "2023-07-05T14:30:00.313Z"
   },
   {
    "duration": 0,
    "start_time": "2023-07-05T14:30:00.314Z"
   },
   {
    "duration": 0,
    "start_time": "2023-07-05T14:30:00.315Z"
   },
   {
    "duration": 0,
    "start_time": "2023-07-05T14:30:00.316Z"
   },
   {
    "duration": 0,
    "start_time": "2023-07-05T14:30:00.318Z"
   },
   {
    "duration": 0,
    "start_time": "2023-07-05T14:30:00.319Z"
   },
   {
    "duration": 0,
    "start_time": "2023-07-05T14:30:00.320Z"
   },
   {
    "duration": 0,
    "start_time": "2023-07-05T14:30:00.321Z"
   },
   {
    "duration": 0,
    "start_time": "2023-07-05T14:30:00.322Z"
   },
   {
    "duration": 0,
    "start_time": "2023-07-05T14:30:00.323Z"
   },
   {
    "duration": 0,
    "start_time": "2023-07-05T14:30:00.324Z"
   },
   {
    "duration": 0,
    "start_time": "2023-07-05T14:30:00.325Z"
   },
   {
    "duration": 0,
    "start_time": "2023-07-05T14:30:00.326Z"
   },
   {
    "duration": 0,
    "start_time": "2023-07-05T14:30:00.327Z"
   },
   {
    "duration": 1,
    "start_time": "2023-07-05T14:30:00.328Z"
   },
   {
    "duration": 0,
    "start_time": "2023-07-05T14:30:00.330Z"
   },
   {
    "duration": 0,
    "start_time": "2023-07-05T14:30:00.331Z"
   },
   {
    "duration": 0,
    "start_time": "2023-07-05T14:30:00.331Z"
   },
   {
    "duration": 0,
    "start_time": "2023-07-05T14:30:00.332Z"
   },
   {
    "duration": 0,
    "start_time": "2023-07-05T14:30:00.333Z"
   },
   {
    "duration": 0,
    "start_time": "2023-07-05T14:30:00.334Z"
   },
   {
    "duration": 0,
    "start_time": "2023-07-05T14:30:00.335Z"
   },
   {
    "duration": 13,
    "start_time": "2023-07-05T14:30:30.930Z"
   },
   {
    "duration": 1620,
    "start_time": "2023-07-05T14:31:12.489Z"
   },
   {
    "duration": 2,
    "start_time": "2023-07-05T14:31:14.112Z"
   },
   {
    "duration": 35,
    "start_time": "2023-07-05T14:31:14.116Z"
   },
   {
    "duration": 9610,
    "start_time": "2023-07-05T14:31:14.153Z"
   },
   {
    "duration": 3,
    "start_time": "2023-07-05T14:31:23.765Z"
   },
   {
    "duration": 131,
    "start_time": "2023-07-05T14:31:23.770Z"
   },
   {
    "duration": 38,
    "start_time": "2023-07-05T14:31:23.917Z"
   },
   {
    "duration": 18,
    "start_time": "2023-07-05T14:31:23.957Z"
   },
   {
    "duration": 141,
    "start_time": "2023-07-05T14:31:23.977Z"
   },
   {
    "duration": 96,
    "start_time": "2023-07-05T14:31:24.120Z"
   },
   {
    "duration": 263,
    "start_time": "2023-07-05T14:31:24.218Z"
   },
   {
    "duration": 9,
    "start_time": "2023-07-05T14:31:24.482Z"
   },
   {
    "duration": 716,
    "start_time": "2023-07-05T14:31:24.493Z"
   },
   {
    "duration": 12,
    "start_time": "2023-07-05T14:31:25.213Z"
   },
   {
    "duration": 56,
    "start_time": "2023-07-05T14:31:25.226Z"
   },
   {
    "duration": 75,
    "start_time": "2023-07-05T14:31:25.284Z"
   },
   {
    "duration": 711,
    "start_time": "2023-07-05T14:31:25.361Z"
   },
   {
    "duration": 16,
    "start_time": "2023-07-05T14:31:26.074Z"
   },
   {
    "duration": 48,
    "start_time": "2023-07-05T14:31:26.092Z"
   },
   {
    "duration": 124,
    "start_time": "2023-07-05T14:31:26.141Z"
   },
   {
    "duration": 0,
    "start_time": "2023-07-05T14:31:26.268Z"
   },
   {
    "duration": 0,
    "start_time": "2023-07-05T14:31:26.269Z"
   },
   {
    "duration": 0,
    "start_time": "2023-07-05T14:31:26.270Z"
   },
   {
    "duration": 0,
    "start_time": "2023-07-05T14:31:26.272Z"
   },
   {
    "duration": 0,
    "start_time": "2023-07-05T14:31:26.273Z"
   },
   {
    "duration": 0,
    "start_time": "2023-07-05T14:31:26.274Z"
   },
   {
    "duration": 0,
    "start_time": "2023-07-05T14:31:26.275Z"
   },
   {
    "duration": 0,
    "start_time": "2023-07-05T14:31:26.276Z"
   },
   {
    "duration": 0,
    "start_time": "2023-07-05T14:31:26.276Z"
   },
   {
    "duration": 0,
    "start_time": "2023-07-05T14:31:26.278Z"
   },
   {
    "duration": 0,
    "start_time": "2023-07-05T14:31:26.279Z"
   },
   {
    "duration": 0,
    "start_time": "2023-07-05T14:31:26.280Z"
   },
   {
    "duration": 0,
    "start_time": "2023-07-05T14:31:26.281Z"
   },
   {
    "duration": 0,
    "start_time": "2023-07-05T14:31:26.282Z"
   },
   {
    "duration": 0,
    "start_time": "2023-07-05T14:31:26.284Z"
   },
   {
    "duration": 0,
    "start_time": "2023-07-05T14:31:26.285Z"
   },
   {
    "duration": 0,
    "start_time": "2023-07-05T14:31:26.314Z"
   },
   {
    "duration": 0,
    "start_time": "2023-07-05T14:31:26.315Z"
   },
   {
    "duration": 0,
    "start_time": "2023-07-05T14:31:26.316Z"
   },
   {
    "duration": 0,
    "start_time": "2023-07-05T14:31:26.317Z"
   },
   {
    "duration": 0,
    "start_time": "2023-07-05T14:31:26.318Z"
   },
   {
    "duration": 0,
    "start_time": "2023-07-05T14:31:26.319Z"
   },
   {
    "duration": 0,
    "start_time": "2023-07-05T14:31:26.320Z"
   },
   {
    "duration": 0,
    "start_time": "2023-07-05T14:31:26.321Z"
   },
   {
    "duration": 0,
    "start_time": "2023-07-05T14:31:26.322Z"
   },
   {
    "duration": 0,
    "start_time": "2023-07-05T14:31:26.324Z"
   },
   {
    "duration": 0,
    "start_time": "2023-07-05T14:31:26.324Z"
   },
   {
    "duration": 1672,
    "start_time": "2023-07-05T14:31:47.996Z"
   },
   {
    "duration": 3,
    "start_time": "2023-07-05T14:31:49.671Z"
   },
   {
    "duration": 16,
    "start_time": "2023-07-05T14:31:49.676Z"
   },
   {
    "duration": 10063,
    "start_time": "2023-07-05T14:31:49.694Z"
   },
   {
    "duration": 6,
    "start_time": "2023-07-05T14:31:59.759Z"
   },
   {
    "duration": 140,
    "start_time": "2023-07-05T14:31:59.767Z"
   },
   {
    "duration": 37,
    "start_time": "2023-07-05T14:31:59.909Z"
   },
   {
    "duration": 18,
    "start_time": "2023-07-05T14:31:59.948Z"
   },
   {
    "duration": 125,
    "start_time": "2023-07-05T14:31:59.968Z"
   },
   {
    "duration": 95,
    "start_time": "2023-07-05T14:32:00.095Z"
   },
   {
    "duration": 274,
    "start_time": "2023-07-05T14:32:00.192Z"
   },
   {
    "duration": 9,
    "start_time": "2023-07-05T14:32:00.468Z"
   },
   {
    "duration": 798,
    "start_time": "2023-07-05T14:32:00.479Z"
   },
   {
    "duration": 12,
    "start_time": "2023-07-05T14:32:01.279Z"
   },
   {
    "duration": 88,
    "start_time": "2023-07-05T14:32:01.292Z"
   },
   {
    "duration": 126,
    "start_time": "2023-07-05T14:32:01.382Z"
   },
   {
    "duration": 775,
    "start_time": "2023-07-05T14:32:01.510Z"
   },
   {
    "duration": 29,
    "start_time": "2023-07-05T14:32:02.287Z"
   },
   {
    "duration": 47,
    "start_time": "2023-07-05T14:32:02.318Z"
   },
   {
    "duration": 260,
    "start_time": "2023-07-05T14:32:02.366Z"
   },
   {
    "duration": 26,
    "start_time": "2023-07-05T14:32:02.628Z"
   },
   {
    "duration": 12,
    "start_time": "2023-07-05T14:32:02.655Z"
   },
   {
    "duration": 446,
    "start_time": "2023-07-05T14:32:02.669Z"
   },
   {
    "duration": 154,
    "start_time": "2023-07-05T14:32:03.117Z"
   },
   {
    "duration": 15,
    "start_time": "2023-07-05T14:32:03.272Z"
   },
   {
    "duration": 1825,
    "start_time": "2023-07-05T14:32:03.288Z"
   },
   {
    "duration": 9,
    "start_time": "2023-07-05T14:32:05.114Z"
   },
   {
    "duration": 274,
    "start_time": "2023-07-05T14:32:05.126Z"
   },
   {
    "duration": 26,
    "start_time": "2023-07-05T14:32:05.402Z"
   },
   {
    "duration": 8,
    "start_time": "2023-07-05T14:32:05.429Z"
   },
   {
    "duration": 46,
    "start_time": "2023-07-05T14:32:05.438Z"
   },
   {
    "duration": 61,
    "start_time": "2023-07-05T14:32:05.486Z"
   },
   {
    "duration": 473,
    "start_time": "2023-07-05T14:32:05.548Z"
   },
   {
    "duration": 14,
    "start_time": "2023-07-05T14:32:06.023Z"
   },
   {
    "duration": 70,
    "start_time": "2023-07-05T14:32:06.038Z"
   },
   {
    "duration": 140,
    "start_time": "2023-07-05T14:32:06.110Z"
   },
   {
    "duration": 21,
    "start_time": "2023-07-05T14:32:06.251Z"
   },
   {
    "duration": 29,
    "start_time": "2023-07-05T14:32:06.273Z"
   },
   {
    "duration": 16,
    "start_time": "2023-07-05T14:32:06.304Z"
   },
   {
    "duration": 60,
    "start_time": "2023-07-05T14:32:06.322Z"
   },
   {
    "duration": 9,
    "start_time": "2023-07-05T14:32:06.385Z"
   },
   {
    "duration": 48,
    "start_time": "2023-07-05T14:32:06.395Z"
   },
   {
    "duration": 33,
    "start_time": "2023-07-05T14:32:06.444Z"
   },
   {
    "duration": 122,
    "start_time": "2023-07-05T14:32:06.479Z"
   },
   {
    "duration": 16,
    "start_time": "2023-07-05T14:32:06.602Z"
   },
   {
    "duration": 14,
    "start_time": "2023-07-05T14:32:06.619Z"
   },
   {
    "duration": 255,
    "start_time": "2023-07-05T14:32:06.634Z"
   },
   {
    "duration": 3,
    "start_time": "2023-07-05T14:32:33.778Z"
   },
   {
    "duration": 14,
    "start_time": "2023-07-05T14:32:40.960Z"
   },
   {
    "duration": 15,
    "start_time": "2023-07-05T14:32:48.137Z"
   },
   {
    "duration": 6558,
    "start_time": "2023-07-05T14:32:55.681Z"
   },
   {
    "duration": 6826,
    "start_time": "2023-07-05T14:33:22.182Z"
   },
   {
    "duration": 18,
    "start_time": "2023-07-05T14:33:33.526Z"
   },
   {
    "duration": 3,
    "start_time": "2023-07-05T14:33:38.024Z"
   },
   {
    "duration": 1647,
    "start_time": "2023-07-05T14:36:09.530Z"
   },
   {
    "duration": 2,
    "start_time": "2023-07-05T14:36:11.179Z"
   },
   {
    "duration": 12,
    "start_time": "2023-07-05T14:36:11.183Z"
   },
   {
    "duration": 10878,
    "start_time": "2023-07-05T14:36:11.197Z"
   },
   {
    "duration": 4,
    "start_time": "2023-07-05T14:36:22.076Z"
   },
   {
    "duration": 170,
    "start_time": "2023-07-05T14:36:22.081Z"
   },
   {
    "duration": 36,
    "start_time": "2023-07-05T14:36:22.253Z"
   },
   {
    "duration": 50,
    "start_time": "2023-07-05T14:36:22.291Z"
   },
   {
    "duration": 115,
    "start_time": "2023-07-05T14:36:22.342Z"
   },
   {
    "duration": 111,
    "start_time": "2023-07-05T14:36:22.460Z"
   },
   {
    "duration": 305,
    "start_time": "2023-07-05T14:36:22.573Z"
   },
   {
    "duration": 9,
    "start_time": "2023-07-05T14:36:22.879Z"
   },
   {
    "duration": 788,
    "start_time": "2023-07-05T14:36:22.890Z"
   },
   {
    "duration": 13,
    "start_time": "2023-07-05T14:36:23.680Z"
   },
   {
    "duration": 68,
    "start_time": "2023-07-05T14:36:23.694Z"
   },
   {
    "duration": 81,
    "start_time": "2023-07-05T14:36:23.764Z"
   },
   {
    "duration": 785,
    "start_time": "2023-07-05T14:36:23.847Z"
   },
   {
    "duration": 17,
    "start_time": "2023-07-05T14:36:24.634Z"
   },
   {
    "duration": 41,
    "start_time": "2023-07-05T14:36:24.652Z"
   },
   {
    "duration": 207,
    "start_time": "2023-07-05T14:36:24.714Z"
   },
   {
    "duration": 26,
    "start_time": "2023-07-05T14:36:24.923Z"
   },
   {
    "duration": 11,
    "start_time": "2023-07-05T14:36:24.950Z"
   },
   {
    "duration": 497,
    "start_time": "2023-07-05T14:36:24.962Z"
   },
   {
    "duration": 169,
    "start_time": "2023-07-05T14:36:25.461Z"
   },
   {
    "duration": 17,
    "start_time": "2023-07-05T14:36:25.632Z"
   },
   {
    "duration": 1863,
    "start_time": "2023-07-05T14:36:25.650Z"
   },
   {
    "duration": 9,
    "start_time": "2023-07-05T14:36:27.514Z"
   },
   {
    "duration": 265,
    "start_time": "2023-07-05T14:36:27.526Z"
   },
   {
    "duration": 31,
    "start_time": "2023-07-05T14:36:27.792Z"
   },
   {
    "duration": 10,
    "start_time": "2023-07-05T14:36:27.824Z"
   },
   {
    "duration": 67,
    "start_time": "2023-07-05T14:36:27.836Z"
   },
   {
    "duration": 47,
    "start_time": "2023-07-05T14:36:27.904Z"
   },
   {
    "duration": 482,
    "start_time": "2023-07-05T14:36:27.953Z"
   },
   {
    "duration": 14,
    "start_time": "2023-07-05T14:36:28.436Z"
   },
   {
    "duration": 53,
    "start_time": "2023-07-05T14:36:28.452Z"
   },
   {
    "duration": 144,
    "start_time": "2023-07-05T14:36:28.506Z"
   },
   {
    "duration": 20,
    "start_time": "2023-07-05T14:36:28.651Z"
   },
   {
    "duration": 18,
    "start_time": "2023-07-05T14:36:28.672Z"
   },
   {
    "duration": 23,
    "start_time": "2023-07-05T14:36:28.691Z"
   },
   {
    "duration": 60,
    "start_time": "2023-07-05T14:36:28.716Z"
   },
   {
    "duration": 8,
    "start_time": "2023-07-05T14:36:28.777Z"
   },
   {
    "duration": 67,
    "start_time": "2023-07-05T14:36:28.786Z"
   },
   {
    "duration": 33,
    "start_time": "2023-07-05T14:36:28.855Z"
   },
   {
    "duration": 111,
    "start_time": "2023-07-05T14:36:28.889Z"
   },
   {
    "duration": 18,
    "start_time": "2023-07-05T14:36:29.001Z"
   },
   {
    "duration": 27,
    "start_time": "2023-07-05T14:36:29.020Z"
   },
   {
    "duration": 205,
    "start_time": "2023-07-05T14:36:29.049Z"
   },
   {
    "duration": 6350,
    "start_time": "2023-07-05T14:36:29.256Z"
   },
   {
    "duration": 2086,
    "start_time": "2023-07-05T14:38:16.831Z"
   },
   {
    "duration": 103,
    "start_time": "2023-07-05T14:42:47.365Z"
   },
   {
    "duration": 186642,
    "start_time": "2023-07-05T14:42:54.796Z"
   },
   {
    "duration": 1447145,
    "start_time": "2023-07-05T14:46:18.425Z"
   },
   {
    "duration": 13,
    "start_time": "2023-07-05T15:10:25.572Z"
   },
   {
    "duration": 1932,
    "start_time": "2023-07-05T19:53:36.042Z"
   },
   {
    "duration": 3,
    "start_time": "2023-07-05T19:53:37.976Z"
   },
   {
    "duration": 10,
    "start_time": "2023-07-05T19:53:37.980Z"
   },
   {
    "duration": 14216,
    "start_time": "2023-07-05T19:53:37.991Z"
   },
   {
    "duration": 3,
    "start_time": "2023-07-05T19:53:52.209Z"
   },
   {
    "duration": 283,
    "start_time": "2023-07-05T19:53:52.218Z"
   },
   {
    "duration": 64,
    "start_time": "2023-07-05T19:53:52.503Z"
   },
   {
    "duration": 20,
    "start_time": "2023-07-05T19:53:52.569Z"
   },
   {
    "duration": 151,
    "start_time": "2023-07-05T19:53:52.590Z"
   },
   {
    "duration": 146,
    "start_time": "2023-07-05T19:53:52.743Z"
   },
   {
    "duration": 371,
    "start_time": "2023-07-05T19:53:52.891Z"
   },
   {
    "duration": 14,
    "start_time": "2023-07-05T19:53:53.263Z"
   },
   {
    "duration": 964,
    "start_time": "2023-07-05T19:53:53.278Z"
   },
   {
    "duration": 19,
    "start_time": "2023-07-05T19:53:54.253Z"
   },
   {
    "duration": 77,
    "start_time": "2023-07-05T19:53:54.274Z"
   },
   {
    "duration": 77,
    "start_time": "2023-07-05T19:53:54.353Z"
   },
   {
    "duration": 1041,
    "start_time": "2023-07-05T19:53:54.432Z"
   },
   {
    "duration": 20,
    "start_time": "2023-07-05T19:53:55.475Z"
   },
   {
    "duration": 108,
    "start_time": "2023-07-05T19:53:55.497Z"
   },
   {
    "duration": 319,
    "start_time": "2023-07-05T19:53:55.607Z"
   },
   {
    "duration": 58,
    "start_time": "2023-07-05T19:53:55.933Z"
   },
   {
    "duration": 12,
    "start_time": "2023-07-05T19:53:55.992Z"
   },
   {
    "duration": 614,
    "start_time": "2023-07-05T19:53:56.006Z"
   },
   {
    "duration": 252,
    "start_time": "2023-07-05T19:53:56.627Z"
   },
   {
    "duration": 17,
    "start_time": "2023-07-05T19:53:56.881Z"
   },
   {
    "duration": 2474,
    "start_time": "2023-07-05T19:53:56.900Z"
   },
   {
    "duration": 9,
    "start_time": "2023-07-05T19:53:59.376Z"
   },
   {
    "duration": 424,
    "start_time": "2023-07-05T19:53:59.386Z"
   },
   {
    "duration": 49,
    "start_time": "2023-07-05T19:53:59.812Z"
   },
   {
    "duration": 12,
    "start_time": "2023-07-05T19:53:59.863Z"
   },
   {
    "duration": 62,
    "start_time": "2023-07-05T19:53:59.877Z"
   },
   {
    "duration": 88,
    "start_time": "2023-07-05T19:53:59.941Z"
   },
   {
    "duration": 662,
    "start_time": "2023-07-05T19:54:00.031Z"
   },
   {
    "duration": 17,
    "start_time": "2023-07-05T19:54:00.694Z"
   },
   {
    "duration": 83,
    "start_time": "2023-07-05T19:54:00.713Z"
   },
   {
    "duration": 209,
    "start_time": "2023-07-05T19:54:00.798Z"
   },
   {
    "duration": 35,
    "start_time": "2023-07-05T19:54:01.009Z"
   },
   {
    "duration": 61,
    "start_time": "2023-07-05T19:54:01.046Z"
   },
   {
    "duration": 58,
    "start_time": "2023-07-05T19:54:01.109Z"
   },
   {
    "duration": 126,
    "start_time": "2023-07-05T19:54:01.169Z"
   },
   {
    "duration": 11,
    "start_time": "2023-07-05T19:54:01.299Z"
   },
   {
    "duration": 175,
    "start_time": "2023-07-05T19:54:01.311Z"
   },
   {
    "duration": 42,
    "start_time": "2023-07-05T19:54:01.488Z"
   },
   {
    "duration": 143,
    "start_time": "2023-07-05T19:54:01.531Z"
   },
   {
    "duration": 17,
    "start_time": "2023-07-05T19:54:01.689Z"
   },
   {
    "duration": 34,
    "start_time": "2023-07-05T19:54:01.708Z"
   },
   {
    "duration": 3443,
    "start_time": "2023-07-05T19:54:01.744Z"
   },
   {
    "duration": 8715,
    "start_time": "2023-07-05T19:54:05.192Z"
   },
   {
    "duration": 1427659,
    "start_time": "2023-07-05T19:54:13.909Z"
   },
   {
    "duration": 1956949,
    "start_time": "2023-07-05T20:18:01.619Z"
   },
   {
    "duration": 16,
    "start_time": "2023-07-05T20:50:38.570Z"
   },
   {
    "duration": 3,
    "start_time": "2023-07-05T21:18:30.137Z"
   },
   {
    "duration": 1855,
    "start_time": "2023-07-06T07:01:34.131Z"
   },
   {
    "duration": 3,
    "start_time": "2023-07-06T07:01:35.988Z"
   },
   {
    "duration": 25,
    "start_time": "2023-07-06T07:01:36.003Z"
   },
   {
    "duration": 19141,
    "start_time": "2023-07-06T07:01:36.030Z"
   },
   {
    "duration": 4,
    "start_time": "2023-07-06T07:01:55.174Z"
   },
   {
    "duration": 577,
    "start_time": "2023-07-06T07:01:55.180Z"
   },
   {
    "duration": 59,
    "start_time": "2023-07-06T07:01:55.759Z"
   },
   {
    "duration": 25,
    "start_time": "2023-07-06T07:01:55.821Z"
   },
   {
    "duration": 145,
    "start_time": "2023-07-06T07:01:55.848Z"
   },
   {
    "duration": 148,
    "start_time": "2023-07-06T07:01:55.996Z"
   },
   {
    "duration": 334,
    "start_time": "2023-07-06T07:01:56.146Z"
   },
   {
    "duration": 27,
    "start_time": "2023-07-06T07:01:56.482Z"
   },
   {
    "duration": 883,
    "start_time": "2023-07-06T07:01:56.514Z"
   },
   {
    "duration": 30,
    "start_time": "2023-07-06T07:01:57.401Z"
   },
   {
    "duration": 149,
    "start_time": "2023-07-06T07:01:57.433Z"
   },
   {
    "duration": 72,
    "start_time": "2023-07-06T07:01:57.584Z"
   },
   {
    "duration": 836,
    "start_time": "2023-07-06T07:01:57.658Z"
   },
   {
    "duration": 38,
    "start_time": "2023-07-06T07:01:58.495Z"
   },
   {
    "duration": 143,
    "start_time": "2023-07-06T07:01:58.535Z"
   },
   {
    "duration": 255,
    "start_time": "2023-07-06T07:01:58.680Z"
   },
   {
    "duration": 59,
    "start_time": "2023-07-06T07:01:58.936Z"
   },
   {
    "duration": 23,
    "start_time": "2023-07-06T07:01:58.997Z"
   },
   {
    "duration": 574,
    "start_time": "2023-07-06T07:01:59.022Z"
   },
   {
    "duration": 255,
    "start_time": "2023-07-06T07:01:59.604Z"
   },
   {
    "duration": 17,
    "start_time": "2023-07-06T07:01:59.861Z"
   },
   {
    "duration": 2345,
    "start_time": "2023-07-06T07:01:59.880Z"
   },
   {
    "duration": 12,
    "start_time": "2023-07-06T07:02:02.227Z"
   },
   {
    "duration": 346,
    "start_time": "2023-07-06T07:02:02.243Z"
   },
   {
    "duration": 45,
    "start_time": "2023-07-06T07:02:02.591Z"
   },
   {
    "duration": 26,
    "start_time": "2023-07-06T07:02:02.638Z"
   },
   {
    "duration": 141,
    "start_time": "2023-07-06T07:02:02.666Z"
   },
   {
    "duration": 62,
    "start_time": "2023-07-06T07:02:02.808Z"
   },
   {
    "duration": 569,
    "start_time": "2023-07-06T07:02:02.872Z"
   },
   {
    "duration": 14,
    "start_time": "2023-07-06T07:02:03.443Z"
   },
   {
    "duration": 123,
    "start_time": "2023-07-06T07:02:03.459Z"
   },
   {
    "duration": 191,
    "start_time": "2023-07-06T07:02:03.583Z"
   },
   {
    "duration": 34,
    "start_time": "2023-07-06T07:02:03.776Z"
   },
   {
    "duration": 48,
    "start_time": "2023-07-06T07:02:03.815Z"
   },
   {
    "duration": 30,
    "start_time": "2023-07-06T07:02:03.865Z"
   },
   {
    "duration": 117,
    "start_time": "2023-07-06T07:02:03.897Z"
   },
   {
    "duration": 10,
    "start_time": "2023-07-06T07:02:04.016Z"
   },
   {
    "duration": 71,
    "start_time": "2023-07-06T07:02:04.028Z"
   },
   {
    "duration": 49,
    "start_time": "2023-07-06T07:02:04.101Z"
   },
   {
    "duration": 123,
    "start_time": "2023-07-06T07:02:04.152Z"
   },
   {
    "duration": 12,
    "start_time": "2023-07-06T07:02:04.277Z"
   },
   {
    "duration": 26,
    "start_time": "2023-07-06T07:02:04.306Z"
   },
   {
    "duration": 3486,
    "start_time": "2023-07-06T07:02:04.333Z"
   },
   {
    "duration": 7636,
    "start_time": "2023-07-06T07:02:07.829Z"
   },
   {
    "duration": 3132675,
    "start_time": "2023-07-06T07:02:15.468Z"
   },
   {
    "duration": 1926698,
    "start_time": "2023-07-06T07:54:28.149Z"
   },
   {
    "duration": 2,
    "start_time": "2023-07-06T08:26:34.849Z"
   },
   {
    "duration": 14,
    "start_time": "2023-07-06T08:26:34.853Z"
   },
   {
    "duration": 13,
    "start_time": "2023-07-06T08:38:57.739Z"
   },
   {
    "duration": 4990,
    "start_time": "2023-07-06T08:39:39.352Z"
   },
   {
    "duration": 1055,
    "start_time": "2023-07-06T09:18:01.630Z"
   },
   {
    "duration": 50,
    "start_time": "2023-07-06T09:19:06.451Z"
   },
   {
    "duration": 654,
    "start_time": "2023-07-06T09:24:57.891Z"
   },
   {
    "duration": 42254,
    "start_time": "2023-07-06T09:25:06.977Z"
   },
   {
    "duration": 48,
    "start_time": "2023-07-06T09:26:35.309Z"
   },
   {
    "duration": 144911,
    "start_time": "2023-07-06T09:26:37.023Z"
   },
   {
    "duration": 66538,
    "start_time": "2023-07-06T09:29:53.391Z"
   },
   {
    "duration": 122,
    "start_time": "2023-07-06T10:02:16.890Z"
   },
   {
    "duration": 122287,
    "start_time": "2023-07-06T10:02:18.946Z"
   },
   {
    "duration": 13,
    "start_time": "2023-07-06T10:27:15.573Z"
   },
   {
    "duration": 176102,
    "start_time": "2023-07-06T10:29:44.231Z"
   },
   {
    "duration": 88,
    "start_time": "2023-07-06T10:34:02.625Z"
   },
   {
    "duration": 165513,
    "start_time": "2023-07-06T10:34:10.515Z"
   },
   {
    "duration": 71,
    "start_time": "2023-07-06T10:36:56.031Z"
   },
   {
    "duration": 103710,
    "start_time": "2023-07-06T10:43:20.717Z"
   },
   {
    "duration": 12,
    "start_time": "2023-07-06T10:45:04.430Z"
   },
   {
    "duration": 162,
    "start_time": "2023-07-06T10:50:20.576Z"
   },
   {
    "duration": 33,
    "start_time": "2023-07-06T10:50:26.873Z"
   },
   {
    "duration": 27,
    "start_time": "2023-07-06T10:51:08.961Z"
   },
   {
    "duration": 328,
    "start_time": "2023-07-06T10:51:42.823Z"
   },
   {
    "duration": 29,
    "start_time": "2023-07-06T10:51:46.852Z"
   },
   {
    "duration": 30,
    "start_time": "2023-07-06T10:52:18.758Z"
   },
   {
    "duration": 27,
    "start_time": "2023-07-06T10:52:34.666Z"
   },
   {
    "duration": 28,
    "start_time": "2023-07-06T10:52:46.840Z"
   },
   {
    "duration": 34,
    "start_time": "2023-07-06T10:54:47.593Z"
   },
   {
    "duration": 36,
    "start_time": "2023-07-06T10:56:54.833Z"
   },
   {
    "duration": 32903,
    "start_time": "2023-07-06T10:57:01.226Z"
   },
   {
    "duration": 56,
    "start_time": "2023-07-06T10:57:45.490Z"
   },
   {
    "duration": 31292,
    "start_time": "2023-07-06T10:57:46.863Z"
   },
   {
    "duration": 48,
    "start_time": "2023-07-06T10:58:23.378Z"
   },
   {
    "duration": 32845,
    "start_time": "2023-07-06T10:58:24.505Z"
   },
   {
    "duration": 46,
    "start_time": "2023-07-06T11:00:26.097Z"
   },
   {
    "duration": 30597,
    "start_time": "2023-07-06T11:00:26.537Z"
   },
   {
    "duration": 25860,
    "start_time": "2023-07-06T11:00:59.986Z"
   },
   {
    "duration": 45,
    "start_time": "2023-07-06T11:03:07.421Z"
   },
   {
    "duration": 101,
    "start_time": "2023-07-06T11:03:08.937Z"
   },
   {
    "duration": 6,
    "start_time": "2023-07-06T11:04:50.146Z"
   },
   {
    "duration": 31988,
    "start_time": "2023-07-06T11:05:33.864Z"
   },
   {
    "duration": 69,
    "start_time": "2023-07-06T11:06:05.858Z"
   },
   {
    "duration": 33705,
    "start_time": "2023-07-06T11:06:08.326Z"
   },
   {
    "duration": 52,
    "start_time": "2023-07-06T11:06:51.917Z"
   },
   {
    "duration": 27931,
    "start_time": "2023-07-06T11:06:53.090Z"
   },
   {
    "duration": 97,
    "start_time": "2023-07-06T11:09:03.152Z"
   },
   {
    "duration": 61971,
    "start_time": "2023-07-06T11:09:05.025Z"
   },
   {
    "duration": 67,
    "start_time": "2023-07-06T11:15:09.043Z"
   },
   {
    "duration": 61879,
    "start_time": "2023-07-06T11:15:09.749Z"
   },
   {
    "duration": 712,
    "start_time": "2023-07-06T11:50:53.897Z"
   },
   {
    "duration": 54606,
    "start_time": "2023-07-06T11:50:56.706Z"
   },
   {
    "duration": 56,
    "start_time": "2023-07-06T11:53:35.803Z"
   },
   {
    "duration": 77,
    "start_time": "2023-07-06T11:54:28.997Z"
   },
   {
    "duration": 41506,
    "start_time": "2023-07-06T11:54:32.201Z"
   },
   {
    "duration": 5,
    "start_time": "2023-07-06T11:55:43.265Z"
   },
   {
    "duration": 12,
    "start_time": "2023-07-06T11:55:43.272Z"
   },
   {
    "duration": 6,
    "start_time": "2023-07-06T11:55:43.287Z"
   },
   {
    "duration": 9,
    "start_time": "2023-07-06T11:55:43.294Z"
   },
   {
    "duration": 6,
    "start_time": "2023-07-06T11:55:43.306Z"
   },
   {
    "duration": 439,
    "start_time": "2023-07-06T11:55:43.315Z"
   },
   {
    "duration": 69,
    "start_time": "2023-07-06T11:55:43.756Z"
   },
   {
    "duration": 22,
    "start_time": "2023-07-06T11:55:43.828Z"
   },
   {
    "duration": 197,
    "start_time": "2023-07-06T11:55:43.852Z"
   },
   {
    "duration": 141,
    "start_time": "2023-07-06T11:55:44.053Z"
   },
   {
    "duration": 326,
    "start_time": "2023-07-06T11:55:44.202Z"
   },
   {
    "duration": 13,
    "start_time": "2023-07-06T11:55:44.531Z"
   },
   {
    "duration": 1215,
    "start_time": "2023-07-06T11:55:44.546Z"
   },
   {
    "duration": 20,
    "start_time": "2023-07-06T11:55:45.764Z"
   },
   {
    "duration": 151,
    "start_time": "2023-07-06T11:55:45.803Z"
   },
   {
    "duration": 116,
    "start_time": "2023-07-06T11:55:45.956Z"
   },
   {
    "duration": 928,
    "start_time": "2023-07-06T11:55:46.074Z"
   },
   {
    "duration": 26,
    "start_time": "2023-07-06T11:55:47.004Z"
   },
   {
    "duration": 144,
    "start_time": "2023-07-06T11:55:47.032Z"
   },
   {
    "duration": 300,
    "start_time": "2023-07-06T11:55:47.179Z"
   },
   {
    "duration": 75,
    "start_time": "2023-07-06T11:55:47.481Z"
   },
   {
    "duration": 16,
    "start_time": "2023-07-06T11:55:47.558Z"
   },
   {
    "duration": 503,
    "start_time": "2023-07-06T11:55:47.578Z"
   },
   {
    "duration": 131,
    "start_time": "2023-07-06T11:55:48.083Z"
   },
   {
    "duration": 18,
    "start_time": "2023-07-06T11:55:48.216Z"
   },
   {
    "duration": 2335,
    "start_time": "2023-07-06T11:55:48.236Z"
   },
   {
    "duration": 10,
    "start_time": "2023-07-06T11:55:50.573Z"
   },
   {
    "duration": 457,
    "start_time": "2023-07-06T11:55:50.585Z"
   },
   {
    "duration": 40,
    "start_time": "2023-07-06T11:55:51.044Z"
   },
   {
    "duration": 14,
    "start_time": "2023-07-06T11:55:51.104Z"
   },
   {
    "duration": 114,
    "start_time": "2023-07-06T11:55:51.120Z"
   },
   {
    "duration": 94,
    "start_time": "2023-07-06T11:55:51.236Z"
   },
   {
    "duration": 591,
    "start_time": "2023-07-06T11:55:51.333Z"
   },
   {
    "duration": 22,
    "start_time": "2023-07-06T11:55:51.927Z"
   },
   {
    "duration": 135,
    "start_time": "2023-07-06T11:55:51.951Z"
   },
   {
    "duration": 207,
    "start_time": "2023-07-06T11:55:52.088Z"
   },
   {
    "duration": 36,
    "start_time": "2023-07-06T11:55:52.302Z"
   },
   {
    "duration": 19,
    "start_time": "2023-07-06T11:55:52.341Z"
   },
   {
    "duration": 47,
    "start_time": "2023-07-06T11:55:52.363Z"
   },
   {
    "duration": 74,
    "start_time": "2023-07-06T11:55:52.412Z"
   },
   {
    "duration": 27,
    "start_time": "2023-07-06T11:55:52.488Z"
   },
   {
    "duration": 74,
    "start_time": "2023-07-06T11:55:52.517Z"
   },
   {
    "duration": 39,
    "start_time": "2023-07-06T11:55:52.601Z"
   },
   {
    "duration": 155,
    "start_time": "2023-07-06T11:55:52.642Z"
   },
   {
    "duration": 19,
    "start_time": "2023-07-06T11:55:52.803Z"
   },
   {
    "duration": 22,
    "start_time": "2023-07-06T11:55:52.824Z"
   },
   {
    "duration": 4355,
    "start_time": "2023-07-06T11:55:52.849Z"
   },
   {
    "duration": 7673,
    "start_time": "2023-07-06T11:55:57.206Z"
   },
   {
    "duration": 3,
    "start_time": "2023-07-06T11:56:11.953Z"
   },
   {
    "duration": 76,
    "start_time": "2023-07-06T11:56:12.520Z"
   },
   {
    "duration": 43604,
    "start_time": "2023-07-06T11:56:13.014Z"
   },
   {
    "duration": 19,
    "start_time": "2023-07-06T11:56:56.621Z"
   },
   {
    "duration": 82,
    "start_time": "2023-07-06T11:57:21.702Z"
   },
   {
    "duration": 109082,
    "start_time": "2023-07-06T11:57:23.830Z"
   },
   {
    "duration": 3761,
    "start_time": "2023-07-06T11:59:30.935Z"
   },
   {
    "duration": 4,
    "start_time": "2023-07-06T11:59:34.699Z"
   },
   {
    "duration": 23,
    "start_time": "2023-07-06T11:59:34.705Z"
   },
   {
    "duration": 14116,
    "start_time": "2023-07-06T11:59:34.731Z"
   },
   {
    "duration": 4,
    "start_time": "2023-07-06T11:59:48.850Z"
   },
   {
    "duration": 431,
    "start_time": "2023-07-06T11:59:48.856Z"
   },
   {
    "duration": 54,
    "start_time": "2023-07-06T11:59:49.289Z"
   },
   {
    "duration": 22,
    "start_time": "2023-07-06T11:59:49.345Z"
   },
   {
    "duration": 150,
    "start_time": "2023-07-06T11:59:49.369Z"
   },
   {
    "duration": 111,
    "start_time": "2023-07-06T11:59:49.522Z"
   },
   {
    "duration": 351,
    "start_time": "2023-07-06T11:59:49.635Z"
   },
   {
    "duration": 22,
    "start_time": "2023-07-06T11:59:49.988Z"
   },
   {
    "duration": 1051,
    "start_time": "2023-07-06T11:59:50.013Z"
   },
   {
    "duration": 17,
    "start_time": "2023-07-06T11:59:51.067Z"
   },
   {
    "duration": 141,
    "start_time": "2023-07-06T11:59:51.102Z"
   },
   {
    "duration": 94,
    "start_time": "2023-07-06T11:59:51.246Z"
   },
   {
    "duration": 777,
    "start_time": "2023-07-06T11:59:51.342Z"
   },
   {
    "duration": 23,
    "start_time": "2023-07-06T11:59:52.121Z"
   },
   {
    "duration": 173,
    "start_time": "2023-07-06T11:59:52.147Z"
   },
   {
    "duration": 237,
    "start_time": "2023-07-06T11:59:52.322Z"
   },
   {
    "duration": 74,
    "start_time": "2023-07-06T11:59:52.562Z"
   },
   {
    "duration": 15,
    "start_time": "2023-07-06T11:59:52.638Z"
   },
   {
    "duration": 567,
    "start_time": "2023-07-06T11:59:52.655Z"
   },
   {
    "duration": 163,
    "start_time": "2023-07-06T11:59:53.225Z"
   },
   {
    "duration": 18,
    "start_time": "2023-07-06T11:59:53.390Z"
   },
   {
    "duration": 2500,
    "start_time": "2023-07-06T11:59:53.410Z"
   },
   {
    "duration": 9,
    "start_time": "2023-07-06T11:59:55.911Z"
   },
   {
    "duration": 363,
    "start_time": "2023-07-06T11:59:55.925Z"
   },
   {
    "duration": 34,
    "start_time": "2023-07-06T11:59:56.290Z"
   },
   {
    "duration": 9,
    "start_time": "2023-07-06T11:59:56.326Z"
   },
   {
    "duration": 120,
    "start_time": "2023-07-06T11:59:56.337Z"
   },
   {
    "duration": 60,
    "start_time": "2023-07-06T11:59:56.459Z"
   },
   {
    "duration": 528,
    "start_time": "2023-07-06T11:59:56.521Z"
   },
   {
    "duration": 17,
    "start_time": "2023-07-06T11:59:57.051Z"
   },
   {
    "duration": 129,
    "start_time": "2023-07-06T11:59:57.070Z"
   },
   {
    "duration": 169,
    "start_time": "2023-07-06T11:59:57.201Z"
   },
   {
    "duration": 50,
    "start_time": "2023-07-06T11:59:57.373Z"
   },
   {
    "duration": 19,
    "start_time": "2023-07-06T11:59:57.425Z"
   },
   {
    "duration": 97,
    "start_time": "2023-07-06T11:59:57.445Z"
   },
   {
    "duration": 95,
    "start_time": "2023-07-06T11:59:57.544Z"
   },
   {
    "duration": 12,
    "start_time": "2023-07-06T11:59:57.641Z"
   },
   {
    "duration": 71,
    "start_time": "2023-07-06T11:59:57.655Z"
   },
   {
    "duration": 77,
    "start_time": "2023-07-06T11:59:57.728Z"
   },
   {
    "duration": 124,
    "start_time": "2023-07-06T11:59:57.808Z"
   },
   {
    "duration": 14,
    "start_time": "2023-07-06T11:59:57.934Z"
   },
   {
    "duration": 25,
    "start_time": "2023-07-06T11:59:57.950Z"
   },
   {
    "duration": 3630,
    "start_time": "2023-07-06T11:59:57.977Z"
   },
   {
    "duration": 7433,
    "start_time": "2023-07-06T12:00:01.609Z"
   },
   {
    "duration": 179,
    "start_time": "2023-07-06T12:03:53.555Z"
   },
   {
    "duration": 105008,
    "start_time": "2023-07-06T12:03:54.328Z"
   },
   {
    "duration": 71,
    "start_time": "2023-07-06T12:06:39.597Z"
   },
   {
    "duration": 108499,
    "start_time": "2023-07-06T12:06:40.913Z"
   },
   {
    "duration": 109821,
    "start_time": "2023-07-06T12:09:58.298Z"
   },
   {
    "duration": 114902,
    "start_time": "2023-07-06T12:12:09.018Z"
   },
   {
    "duration": 95,
    "start_time": "2023-07-06T12:16:05.619Z"
   },
   {
    "duration": 158411,
    "start_time": "2023-07-06T12:16:08.129Z"
   },
   {
    "duration": 105,
    "start_time": "2023-07-06T12:19:01.540Z"
   },
   {
    "duration": 314370,
    "start_time": "2023-07-06T12:19:04.343Z"
   },
   {
    "duration": 687850,
    "start_time": "2023-07-06T12:25:23.765Z"
   },
   {
    "duration": 136,
    "start_time": "2023-07-06T12:56:55.098Z"
   },
   {
    "duration": 155630,
    "start_time": "2023-07-06T12:56:57.289Z"
   },
   {
    "duration": 2066,
    "start_time": "2023-07-06T13:00:00.851Z"
   },
   {
    "duration": 4979,
    "start_time": "2023-07-06T13:00:06.072Z"
   },
   {
    "duration": 68,
    "start_time": "2023-07-06T13:00:23.403Z"
   },
   {
    "duration": 51019,
    "start_time": "2023-07-06T13:02:51.542Z"
   },
   {
    "duration": 3735,
    "start_time": "2023-07-06T13:04:00.232Z"
   },
   {
    "duration": 10177,
    "start_time": "2023-07-06T13:04:04.004Z"
   },
   {
    "duration": 125,
    "start_time": "2023-07-06T13:05:00.996Z"
   },
   {
    "duration": 23881,
    "start_time": "2023-07-06T13:05:03.666Z"
   },
   {
    "duration": 99,
    "start_time": "2023-07-06T13:06:20.413Z"
   },
   {
    "duration": 174284,
    "start_time": "2023-07-06T13:06:22.866Z"
   },
   {
    "duration": 1540,
    "start_time": "2023-07-06T13:13:56.983Z"
   },
   {
    "duration": 891308,
    "start_time": "2023-07-06T13:14:00.546Z"
   },
   {
    "duration": 1084,
    "start_time": "2023-07-06T13:30:24.166Z"
   },
   {
    "duration": 14095,
    "start_time": "2023-07-06T13:31:20.848Z"
   },
   {
    "duration": 0,
    "start_time": "2023-07-06T13:31:34.947Z"
   },
   {
    "duration": 0,
    "start_time": "2023-07-06T13:31:34.948Z"
   },
   {
    "duration": 0,
    "start_time": "2023-07-06T13:31:34.950Z"
   },
   {
    "duration": 0,
    "start_time": "2023-07-06T13:31:34.951Z"
   },
   {
    "duration": 0,
    "start_time": "2023-07-06T13:31:34.953Z"
   },
   {
    "duration": 0,
    "start_time": "2023-07-06T13:31:34.954Z"
   },
   {
    "duration": 0,
    "start_time": "2023-07-06T13:31:34.955Z"
   },
   {
    "duration": 0,
    "start_time": "2023-07-06T13:31:34.957Z"
   },
   {
    "duration": 0,
    "start_time": "2023-07-06T13:31:34.958Z"
   },
   {
    "duration": 0,
    "start_time": "2023-07-06T13:31:34.960Z"
   },
   {
    "duration": 0,
    "start_time": "2023-07-06T13:31:34.962Z"
   },
   {
    "duration": 0,
    "start_time": "2023-07-06T13:31:34.963Z"
   },
   {
    "duration": 0,
    "start_time": "2023-07-06T13:31:34.965Z"
   },
   {
    "duration": 0,
    "start_time": "2023-07-06T13:31:34.966Z"
   },
   {
    "duration": 0,
    "start_time": "2023-07-06T13:31:34.968Z"
   },
   {
    "duration": 0,
    "start_time": "2023-07-06T13:31:34.969Z"
   },
   {
    "duration": 0,
    "start_time": "2023-07-06T13:31:34.971Z"
   },
   {
    "duration": 0,
    "start_time": "2023-07-06T13:31:34.972Z"
   },
   {
    "duration": 0,
    "start_time": "2023-07-06T13:31:34.974Z"
   },
   {
    "duration": 0,
    "start_time": "2023-07-06T13:31:34.976Z"
   },
   {
    "duration": 0,
    "start_time": "2023-07-06T13:31:34.977Z"
   },
   {
    "duration": 0,
    "start_time": "2023-07-06T13:31:35.002Z"
   },
   {
    "duration": 0,
    "start_time": "2023-07-06T13:31:35.004Z"
   },
   {
    "duration": 0,
    "start_time": "2023-07-06T13:31:35.005Z"
   },
   {
    "duration": 0,
    "start_time": "2023-07-06T13:31:35.007Z"
   },
   {
    "duration": 0,
    "start_time": "2023-07-06T13:31:35.008Z"
   },
   {
    "duration": 0,
    "start_time": "2023-07-06T13:31:35.009Z"
   },
   {
    "duration": 0,
    "start_time": "2023-07-06T13:31:35.011Z"
   },
   {
    "duration": 0,
    "start_time": "2023-07-06T13:31:35.012Z"
   },
   {
    "duration": 0,
    "start_time": "2023-07-06T13:31:35.013Z"
   },
   {
    "duration": 0,
    "start_time": "2023-07-06T13:31:35.014Z"
   },
   {
    "duration": 0,
    "start_time": "2023-07-06T13:31:35.016Z"
   },
   {
    "duration": 0,
    "start_time": "2023-07-06T13:31:35.017Z"
   },
   {
    "duration": 0,
    "start_time": "2023-07-06T13:31:35.018Z"
   },
   {
    "duration": 0,
    "start_time": "2023-07-06T13:31:35.019Z"
   },
   {
    "duration": 0,
    "start_time": "2023-07-06T13:31:35.020Z"
   },
   {
    "duration": 0,
    "start_time": "2023-07-06T13:31:35.022Z"
   },
   {
    "duration": 0,
    "start_time": "2023-07-06T13:31:35.023Z"
   },
   {
    "duration": 0,
    "start_time": "2023-07-06T13:31:35.025Z"
   },
   {
    "duration": 0,
    "start_time": "2023-07-06T13:31:35.026Z"
   },
   {
    "duration": 0,
    "start_time": "2023-07-06T13:31:35.027Z"
   },
   {
    "duration": 0,
    "start_time": "2023-07-06T13:31:35.029Z"
   },
   {
    "duration": 0,
    "start_time": "2023-07-06T13:31:35.030Z"
   },
   {
    "duration": 0,
    "start_time": "2023-07-06T13:31:35.031Z"
   },
   {
    "duration": 0,
    "start_time": "2023-07-06T13:31:35.033Z"
   },
   {
    "duration": 0,
    "start_time": "2023-07-06T13:31:35.034Z"
   },
   {
    "duration": 0,
    "start_time": "2023-07-06T13:31:35.038Z"
   },
   {
    "duration": 209,
    "start_time": "2023-07-06T13:31:52.369Z"
   },
   {
    "duration": 7085,
    "start_time": "2023-07-06T13:32:01.728Z"
   },
   {
    "duration": 3,
    "start_time": "2023-07-06T13:32:08.816Z"
   },
   {
    "duration": 22,
    "start_time": "2023-07-06T13:32:08.820Z"
   },
   {
    "duration": 14906,
    "start_time": "2023-07-06T13:32:08.845Z"
   },
   {
    "duration": 4,
    "start_time": "2023-07-06T13:32:23.753Z"
   },
   {
    "duration": 464,
    "start_time": "2023-07-06T13:32:23.760Z"
   },
   {
    "duration": 43,
    "start_time": "2023-07-06T13:32:24.226Z"
   },
   {
    "duration": 46,
    "start_time": "2023-07-06T13:32:24.271Z"
   },
   {
    "duration": 165,
    "start_time": "2023-07-06T13:32:24.319Z"
   },
   {
    "duration": 115,
    "start_time": "2023-07-06T13:32:24.487Z"
   },
   {
    "duration": 377,
    "start_time": "2023-07-06T13:32:24.604Z"
   },
   {
    "duration": 12,
    "start_time": "2023-07-06T13:32:24.983Z"
   },
   {
    "duration": 1007,
    "start_time": "2023-07-06T13:32:24.997Z"
   },
   {
    "duration": 19,
    "start_time": "2023-07-06T13:32:26.006Z"
   },
   {
    "duration": 169,
    "start_time": "2023-07-06T13:32:26.027Z"
   },
   {
    "duration": 73,
    "start_time": "2023-07-06T13:32:26.198Z"
   },
   {
    "duration": 828,
    "start_time": "2023-07-06T13:32:26.274Z"
   },
   {
    "duration": 20,
    "start_time": "2023-07-06T13:32:27.104Z"
   },
   {
    "duration": 141,
    "start_time": "2023-07-06T13:32:27.126Z"
   },
   {
    "duration": 247,
    "start_time": "2023-07-06T13:32:27.270Z"
   },
   {
    "duration": 74,
    "start_time": "2023-07-06T13:32:27.519Z"
   },
   {
    "duration": 15,
    "start_time": "2023-07-06T13:32:27.596Z"
   },
   {
    "duration": 516,
    "start_time": "2023-07-06T13:32:27.613Z"
   },
   {
    "duration": 148,
    "start_time": "2023-07-06T13:32:28.131Z"
   },
   {
    "duration": 27,
    "start_time": "2023-07-06T13:32:28.281Z"
   },
   {
    "duration": 2556,
    "start_time": "2023-07-06T13:32:28.310Z"
   },
   {
    "duration": 9,
    "start_time": "2023-07-06T13:32:30.868Z"
   },
   {
    "duration": 366,
    "start_time": "2023-07-06T13:32:30.881Z"
   },
   {
    "duration": 29,
    "start_time": "2023-07-06T13:32:31.249Z"
   },
   {
    "duration": 33,
    "start_time": "2023-07-06T13:32:31.279Z"
   },
   {
    "duration": 139,
    "start_time": "2023-07-06T13:32:31.315Z"
   },
   {
    "duration": 60,
    "start_time": "2023-07-06T13:32:31.456Z"
   },
   {
    "duration": 548,
    "start_time": "2023-07-06T13:32:31.519Z"
   },
   {
    "duration": 33,
    "start_time": "2023-07-06T13:32:32.069Z"
   },
   {
    "duration": 118,
    "start_time": "2023-07-06T13:32:32.104Z"
   },
   {
    "duration": 194,
    "start_time": "2023-07-06T13:32:32.224Z"
   },
   {
    "duration": 30,
    "start_time": "2023-07-06T13:32:32.420Z"
   },
   {
    "duration": 42,
    "start_time": "2023-07-06T13:32:32.453Z"
   },
   {
    "duration": 32,
    "start_time": "2023-07-06T13:32:32.497Z"
   },
   {
    "duration": 92,
    "start_time": "2023-07-06T13:32:32.532Z"
   },
   {
    "duration": 13,
    "start_time": "2023-07-06T13:32:32.627Z"
   },
   {
    "duration": 93,
    "start_time": "2023-07-06T13:32:32.642Z"
   },
   {
    "duration": 41,
    "start_time": "2023-07-06T13:32:32.737Z"
   },
   {
    "duration": 146,
    "start_time": "2023-07-06T13:32:32.780Z"
   },
   {
    "duration": 15,
    "start_time": "2023-07-06T13:32:32.927Z"
   },
   {
    "duration": 61,
    "start_time": "2023-07-06T13:32:32.944Z"
   },
   {
    "duration": 2999,
    "start_time": "2023-07-06T13:32:33.007Z"
   },
   {
    "duration": 7304,
    "start_time": "2023-07-06T13:32:36.008Z"
   },
   {
    "duration": 390,
    "start_time": "2023-07-06T13:32:57.852Z"
   },
   {
    "duration": 399877,
    "start_time": "2023-07-06T13:33:15.933Z"
   },
   {
    "duration": 1894,
    "start_time": "2023-07-06T13:39:55.813Z"
   },
   {
    "duration": 15480,
    "start_time": "2023-07-06T13:39:57.709Z"
   },
   {
    "duration": 84,
    "start_time": "2023-07-06T13:40:46.749Z"
   },
   {
    "duration": 204466,
    "start_time": "2023-07-06T13:40:48.345Z"
   },
   {
    "duration": 203470,
    "start_time": "2023-07-06T13:44:37.962Z"
   },
   {
    "duration": 72,
    "start_time": "2023-07-06T13:48:37.044Z"
   },
   {
    "duration": 206231,
    "start_time": "2023-07-06T13:48:39.186Z"
   },
   {
    "duration": 72,
    "start_time": "2023-07-06T13:52:14.787Z"
   },
   {
    "duration": 208874,
    "start_time": "2023-07-06T13:52:16.137Z"
   },
   {
    "duration": 61,
    "start_time": "2023-07-06T13:57:12.961Z"
   },
   {
    "duration": 69,
    "start_time": "2023-07-06T13:58:28.474Z"
   },
   {
    "duration": 23366,
    "start_time": "2023-07-06T13:58:28.546Z"
   },
   {
    "duration": 76,
    "start_time": "2023-07-06T13:58:59.552Z"
   },
   {
    "duration": 23372,
    "start_time": "2023-07-06T13:59:00.234Z"
   },
   {
    "duration": 83,
    "start_time": "2023-07-06T14:00:58.957Z"
   },
   {
    "duration": 107,
    "start_time": "2023-07-06T14:01:16.897Z"
   },
   {
    "duration": 96,
    "start_time": "2023-07-06T14:01:35.838Z"
   },
   {
    "duration": 213466,
    "start_time": "2023-07-06T14:01:35.936Z"
   },
   {
    "duration": 11098,
    "start_time": "2023-07-06T14:07:08.208Z"
   },
   {
    "duration": 2,
    "start_time": "2023-07-06T14:07:19.308Z"
   },
   {
    "duration": 14,
    "start_time": "2023-07-06T14:07:19.312Z"
   },
   {
    "duration": 12897,
    "start_time": "2023-07-06T14:07:19.327Z"
   },
   {
    "duration": 3,
    "start_time": "2023-07-06T14:07:32.227Z"
   },
   {
    "duration": 468,
    "start_time": "2023-07-06T14:07:32.232Z"
   },
   {
    "duration": 40,
    "start_time": "2023-07-06T14:07:32.701Z"
   },
   {
    "duration": 19,
    "start_time": "2023-07-06T14:07:32.743Z"
   },
   {
    "duration": 153,
    "start_time": "2023-07-06T14:07:32.763Z"
   },
   {
    "duration": 105,
    "start_time": "2023-07-06T14:07:32.918Z"
   },
   {
    "duration": 311,
    "start_time": "2023-07-06T14:07:33.025Z"
   },
   {
    "duration": 10,
    "start_time": "2023-07-06T14:07:33.338Z"
   },
   {
    "duration": 918,
    "start_time": "2023-07-06T14:07:33.349Z"
   },
   {
    "duration": 12,
    "start_time": "2023-07-06T14:07:34.270Z"
   },
   {
    "duration": 153,
    "start_time": "2023-07-06T14:07:34.284Z"
   },
   {
    "duration": 77,
    "start_time": "2023-07-06T14:07:34.438Z"
   },
   {
    "duration": 760,
    "start_time": "2023-07-06T14:07:34.516Z"
   },
   {
    "duration": 36,
    "start_time": "2023-07-06T14:07:35.277Z"
   },
   {
    "duration": 141,
    "start_time": "2023-07-06T14:07:35.315Z"
   },
   {
    "duration": 233,
    "start_time": "2023-07-06T14:07:35.458Z"
   },
   {
    "duration": 67,
    "start_time": "2023-07-06T14:07:35.693Z"
   },
   {
    "duration": 12,
    "start_time": "2023-07-06T14:07:35.762Z"
   },
   {
    "duration": 493,
    "start_time": "2023-07-06T14:07:35.776Z"
   },
   {
    "duration": 125,
    "start_time": "2023-07-06T14:07:36.271Z"
   },
   {
    "duration": 21,
    "start_time": "2023-07-06T14:07:36.398Z"
   },
   {
    "duration": 2419,
    "start_time": "2023-07-06T14:07:36.421Z"
   },
   {
    "duration": 9,
    "start_time": "2023-07-06T14:07:38.842Z"
   },
   {
    "duration": 296,
    "start_time": "2023-07-06T14:07:38.853Z"
   },
   {
    "duration": 26,
    "start_time": "2023-07-06T14:07:39.151Z"
   },
   {
    "duration": 41,
    "start_time": "2023-07-06T14:07:39.179Z"
   },
   {
    "duration": 121,
    "start_time": "2023-07-06T14:07:39.222Z"
   },
   {
    "duration": 61,
    "start_time": "2023-07-06T14:07:39.344Z"
   },
   {
    "duration": 514,
    "start_time": "2023-07-06T14:07:39.406Z"
   },
   {
    "duration": 14,
    "start_time": "2023-07-06T14:07:39.923Z"
   },
   {
    "duration": 114,
    "start_time": "2023-07-06T14:07:39.939Z"
   },
   {
    "duration": 176,
    "start_time": "2023-07-06T14:07:40.056Z"
   },
   {
    "duration": 25,
    "start_time": "2023-07-06T14:07:40.234Z"
   },
   {
    "duration": 12,
    "start_time": "2023-07-06T14:07:40.261Z"
   },
   {
    "duration": 36,
    "start_time": "2023-07-06T14:07:40.275Z"
   },
   {
    "duration": 77,
    "start_time": "2023-07-06T14:07:40.313Z"
   },
   {
    "duration": 11,
    "start_time": "2023-07-06T14:07:40.394Z"
   },
   {
    "duration": 84,
    "start_time": "2023-07-06T14:07:40.407Z"
   },
   {
    "duration": 47,
    "start_time": "2023-07-06T14:07:40.492Z"
   },
   {
    "duration": 160,
    "start_time": "2023-07-06T14:07:40.542Z"
   },
   {
    "duration": 20,
    "start_time": "2023-07-06T14:07:40.706Z"
   },
   {
    "duration": 18,
    "start_time": "2023-07-06T14:07:40.728Z"
   },
   {
    "duration": 2276,
    "start_time": "2023-07-06T14:07:40.748Z"
   },
   {
    "duration": 16329,
    "start_time": "2023-07-06T14:07:43.108Z"
   },
   {
    "duration": 89569,
    "start_time": "2023-07-06T14:07:59.439Z"
   },
   {
    "duration": 1525783,
    "start_time": "2023-07-06T14:09:29.010Z"
   },
   {
    "duration": 3,
    "start_time": "2023-07-06T14:34:54.794Z"
   },
   {
    "duration": 331,
    "start_time": "2023-07-06T14:34:54.799Z"
   },
   {
    "duration": 1026385,
    "start_time": "2023-07-06T14:34:55.132Z"
   },
   {
    "duration": 13,
    "start_time": "2023-07-06T14:52:01.519Z"
   },
   {
    "duration": 12198,
    "start_time": "2023-07-06T20:08:40.209Z"
   },
   {
    "duration": 3,
    "start_time": "2023-07-06T20:08:52.408Z"
   },
   {
    "duration": 24,
    "start_time": "2023-07-06T20:08:52.412Z"
   },
   {
    "duration": 8198,
    "start_time": "2023-07-06T20:08:52.438Z"
   },
   {
    "duration": 4,
    "start_time": "2023-07-06T20:09:00.637Z"
   },
   {
    "duration": 700,
    "start_time": "2023-07-06T20:09:00.642Z"
   },
   {
    "duration": 35,
    "start_time": "2023-07-06T20:09:01.344Z"
   },
   {
    "duration": 35,
    "start_time": "2023-07-06T20:09:01.380Z"
   },
   {
    "duration": 133,
    "start_time": "2023-07-06T20:09:01.416Z"
   },
   {
    "duration": 103,
    "start_time": "2023-07-06T20:09:01.552Z"
   },
   {
    "duration": 290,
    "start_time": "2023-07-06T20:09:01.656Z"
   },
   {
    "duration": 10,
    "start_time": "2023-07-06T20:09:01.947Z"
   },
   {
    "duration": 902,
    "start_time": "2023-07-06T20:09:01.958Z"
   },
   {
    "duration": 13,
    "start_time": "2023-07-06T20:09:02.862Z"
   },
   {
    "duration": 179,
    "start_time": "2023-07-06T20:09:02.876Z"
   },
   {
    "duration": 70,
    "start_time": "2023-07-06T20:09:03.057Z"
   },
   {
    "duration": 760,
    "start_time": "2023-07-06T20:09:03.130Z"
   },
   {
    "duration": 23,
    "start_time": "2023-07-06T20:09:03.892Z"
   },
   {
    "duration": 174,
    "start_time": "2023-07-06T20:09:03.917Z"
   },
   {
    "duration": 213,
    "start_time": "2023-07-06T20:09:04.092Z"
   },
   {
    "duration": 81,
    "start_time": "2023-07-06T20:09:04.307Z"
   },
   {
    "duration": 11,
    "start_time": "2023-07-06T20:09:04.390Z"
   },
   {
    "duration": 454,
    "start_time": "2023-07-06T20:09:04.403Z"
   },
   {
    "duration": 164,
    "start_time": "2023-07-06T20:09:04.859Z"
   },
   {
    "duration": 16,
    "start_time": "2023-07-06T20:09:05.024Z"
   },
   {
    "duration": 2233,
    "start_time": "2023-07-06T20:09:05.042Z"
   },
   {
    "duration": 11,
    "start_time": "2023-07-06T20:09:07.278Z"
   },
   {
    "duration": 310,
    "start_time": "2023-07-06T20:09:07.305Z"
   },
   {
    "duration": 26,
    "start_time": "2023-07-06T20:09:07.618Z"
   },
   {
    "duration": 10,
    "start_time": "2023-07-06T20:09:07.646Z"
   },
   {
    "duration": 148,
    "start_time": "2023-07-06T20:09:07.657Z"
   },
   {
    "duration": 50,
    "start_time": "2023-07-06T20:09:07.807Z"
   },
   {
    "duration": 510,
    "start_time": "2023-07-06T20:09:07.859Z"
   },
   {
    "duration": 14,
    "start_time": "2023-07-06T20:09:08.371Z"
   },
   {
    "duration": 136,
    "start_time": "2023-07-06T20:09:08.387Z"
   },
   {
    "duration": 155,
    "start_time": "2023-07-06T20:09:08.525Z"
   },
   {
    "duration": 30,
    "start_time": "2023-07-06T20:09:08.682Z"
   },
   {
    "duration": 13,
    "start_time": "2023-07-06T20:09:08.714Z"
   },
   {
    "duration": 12,
    "start_time": "2023-07-06T20:09:08.728Z"
   },
   {
    "duration": 76,
    "start_time": "2023-07-06T20:09:08.742Z"
   },
   {
    "duration": 9,
    "start_time": "2023-07-06T20:09:08.819Z"
   },
   {
    "duration": 43,
    "start_time": "2023-07-06T20:09:08.830Z"
   },
   {
    "duration": 55,
    "start_time": "2023-07-06T20:09:08.875Z"
   },
   {
    "duration": 116,
    "start_time": "2023-07-06T20:09:08.932Z"
   },
   {
    "duration": 14,
    "start_time": "2023-07-06T20:09:09.050Z"
   },
   {
    "duration": 17,
    "start_time": "2023-07-06T20:09:09.065Z"
   },
   {
    "duration": 1721,
    "start_time": "2023-07-06T20:09:09.083Z"
   },
   {
    "duration": 14606,
    "start_time": "2023-07-06T20:09:10.806Z"
   },
   {
    "duration": 20395,
    "start_time": "2023-07-06T20:09:25.414Z"
   },
   {
    "duration": 1424454,
    "start_time": "2023-07-06T20:09:45.811Z"
   },
   {
    "duration": 2,
    "start_time": "2023-07-06T20:33:30.267Z"
   },
   {
    "duration": 345,
    "start_time": "2023-07-06T20:33:30.271Z"
   },
   {
    "duration": 18,
    "start_time": "2023-07-06T20:37:28.771Z"
   },
   {
    "duration": 0,
    "start_time": "2023-07-06T20:37:28.792Z"
   },
   {
    "duration": 1019162,
    "start_time": "2023-07-06T20:37:30.958Z"
   },
   {
    "duration": 12,
    "start_time": "2023-07-06T20:54:30.122Z"
   },
   {
    "duration": 5951,
    "start_time": "2023-07-06T21:21:07.862Z"
   },
   {
    "duration": 6006,
    "start_time": "2023-07-06T21:21:22.548Z"
   },
   {
    "duration": 17,
    "start_time": "2023-07-06T21:24:19.607Z"
   },
   {
    "duration": 18,
    "start_time": "2023-07-06T21:27:19.143Z"
   },
   {
    "duration": 18,
    "start_time": "2023-07-06T21:28:37.551Z"
   },
   {
    "duration": 20,
    "start_time": "2023-07-06T21:37:26.876Z"
   },
   {
    "duration": 16,
    "start_time": "2023-07-06T21:37:44.930Z"
   },
   {
    "duration": 8576,
    "start_time": "2023-07-07T06:57:50.765Z"
   },
   {
    "duration": 4,
    "start_time": "2023-07-07T06:57:59.344Z"
   },
   {
    "duration": 9,
    "start_time": "2023-07-07T06:57:59.350Z"
   },
   {
    "duration": 10411,
    "start_time": "2023-07-07T06:57:59.363Z"
   },
   {
    "duration": 4,
    "start_time": "2023-07-07T06:58:09.776Z"
   },
   {
    "duration": 244,
    "start_time": "2023-07-07T06:58:09.782Z"
   },
   {
    "duration": 78,
    "start_time": "2023-07-07T06:58:10.028Z"
   },
   {
    "duration": 53,
    "start_time": "2023-07-07T06:58:10.108Z"
   },
   {
    "duration": 161,
    "start_time": "2023-07-07T06:58:10.164Z"
   },
   {
    "duration": 120,
    "start_time": "2023-07-07T06:58:10.328Z"
   },
   {
    "duration": 310,
    "start_time": "2023-07-07T06:58:10.460Z"
   },
   {
    "duration": 13,
    "start_time": "2023-07-07T06:58:10.773Z"
   },
   {
    "duration": 949,
    "start_time": "2023-07-07T06:58:10.789Z"
   },
   {
    "duration": 22,
    "start_time": "2023-07-07T06:58:11.740Z"
   },
   {
    "duration": 98,
    "start_time": "2023-07-07T06:58:11.764Z"
   },
   {
    "duration": 106,
    "start_time": "2023-07-07T06:58:11.864Z"
   },
   {
    "duration": 1240,
    "start_time": "2023-07-07T06:58:11.972Z"
   },
   {
    "duration": 28,
    "start_time": "2023-07-07T06:58:13.216Z"
   },
   {
    "duration": 70,
    "start_time": "2023-07-07T06:58:13.261Z"
   },
   {
    "duration": 413,
    "start_time": "2023-07-07T06:58:13.334Z"
   },
   {
    "duration": 45,
    "start_time": "2023-07-07T06:58:13.759Z"
   },
   {
    "duration": 19,
    "start_time": "2023-07-07T06:58:13.806Z"
   },
   {
    "duration": 644,
    "start_time": "2023-07-07T06:58:13.826Z"
   },
   {
    "duration": 110,
    "start_time": "2023-07-07T06:58:14.472Z"
   },
   {
    "duration": 38,
    "start_time": "2023-07-07T06:58:14.584Z"
   },
   {
    "duration": 2937,
    "start_time": "2023-07-07T06:58:14.628Z"
   },
   {
    "duration": 11,
    "start_time": "2023-07-07T06:58:17.567Z"
   },
   {
    "duration": 523,
    "start_time": "2023-07-07T06:58:17.584Z"
   },
   {
    "duration": 58,
    "start_time": "2023-07-07T06:58:18.110Z"
   },
   {
    "duration": 14,
    "start_time": "2023-07-07T06:58:18.171Z"
   },
   {
    "duration": 90,
    "start_time": "2023-07-07T06:58:18.187Z"
   },
   {
    "duration": 92,
    "start_time": "2023-07-07T06:58:18.280Z"
   },
   {
    "duration": 580,
    "start_time": "2023-07-07T06:58:18.374Z"
   },
   {
    "duration": 26,
    "start_time": "2023-07-07T06:58:18.959Z"
   },
   {
    "duration": 57,
    "start_time": "2023-07-07T06:58:18.987Z"
   },
   {
    "duration": 176,
    "start_time": "2023-07-07T06:58:19.046Z"
   },
   {
    "duration": 52,
    "start_time": "2023-07-07T06:58:19.226Z"
   },
   {
    "duration": 29,
    "start_time": "2023-07-07T06:58:19.280Z"
   },
   {
    "duration": 23,
    "start_time": "2023-07-07T06:58:19.311Z"
   },
   {
    "duration": 71,
    "start_time": "2023-07-07T06:58:19.336Z"
   },
   {
    "duration": 11,
    "start_time": "2023-07-07T06:58:19.409Z"
   },
   {
    "duration": 95,
    "start_time": "2023-07-07T06:58:19.422Z"
   },
   {
    "duration": 77,
    "start_time": "2023-07-07T06:58:19.520Z"
   },
   {
    "duration": 129,
    "start_time": "2023-07-07T06:58:19.598Z"
   },
   {
    "duration": 13,
    "start_time": "2023-07-07T06:58:19.729Z"
   },
   {
    "duration": 17,
    "start_time": "2023-07-07T06:58:19.759Z"
   },
   {
    "duration": 2591,
    "start_time": "2023-07-07T06:58:19.778Z"
   },
   {
    "duration": 16043,
    "start_time": "2023-07-07T06:58:22.371Z"
   },
   {
    "duration": 2179746,
    "start_time": "2023-07-07T06:58:38.416Z"
   },
   {
    "duration": 1611759,
    "start_time": "2023-07-07T07:34:58.164Z"
   },
   {
    "duration": 3,
    "start_time": "2023-07-07T08:01:49.925Z"
   },
   {
    "duration": 361,
    "start_time": "2023-07-07T08:01:49.930Z"
   },
   {
    "duration": 1036484,
    "start_time": "2023-07-07T08:01:50.293Z"
   },
   {
    "duration": 15,
    "start_time": "2023-07-07T08:19:06.779Z"
   },
   {
    "duration": 6632,
    "start_time": "2023-07-07T08:19:06.796Z"
   },
   {
    "duration": 693,
    "start_time": "2023-07-07T10:34:10.110Z"
   },
   {
    "duration": 6,
    "start_time": "2023-07-07T10:35:06.202Z"
   },
   {
    "duration": 29,
    "start_time": "2023-07-07T10:35:06.866Z"
   },
   {
    "duration": 448,
    "start_time": "2023-07-07T10:35:33.051Z"
   },
   {
    "duration": 4,
    "start_time": "2023-07-07T10:36:21.905Z"
   },
   {
    "duration": 1355,
    "start_time": "2023-07-07T10:36:22.552Z"
   },
   {
    "duration": 5,
    "start_time": "2023-07-07T10:36:28.800Z"
   },
   {
    "duration": 430,
    "start_time": "2023-07-07T10:36:29.305Z"
   },
   {
    "duration": 6,
    "start_time": "2023-07-07T10:37:28.346Z"
   },
   {
    "duration": 434,
    "start_time": "2023-07-07T10:37:28.829Z"
   },
   {
    "duration": 427,
    "start_time": "2023-07-07T10:38:35.568Z"
   },
   {
    "duration": 0,
    "start_time": "2023-07-08T09:22:34.480Z"
   },
   {
    "duration": 65,
    "start_time": "2023-07-08T09:22:37.731Z"
   },
   {
    "duration": 18,
    "start_time": "2023-07-08T09:22:46.829Z"
   },
   {
    "duration": 3236,
    "start_time": "2023-07-08T10:14:56.690Z"
   },
   {
    "duration": 2,
    "start_time": "2023-07-08T10:14:59.928Z"
   },
   {
    "duration": 16806,
    "start_time": "2023-07-08T10:14:59.931Z"
   },
   {
    "duration": 3,
    "start_time": "2023-07-08T10:15:16.739Z"
   },
   {
    "duration": 335,
    "start_time": "2023-07-08T10:15:16.744Z"
   },
   {
    "duration": 28,
    "start_time": "2023-07-08T10:15:17.080Z"
   },
   {
    "duration": 15,
    "start_time": "2023-07-08T10:15:17.109Z"
   },
   {
    "duration": 111,
    "start_time": "2023-07-08T10:15:17.126Z"
   },
   {
    "duration": 94,
    "start_time": "2023-07-08T10:15:17.239Z"
   },
   {
    "duration": 243,
    "start_time": "2023-07-08T10:15:17.336Z"
   },
   {
    "duration": 8,
    "start_time": "2023-07-08T10:15:17.581Z"
   },
   {
    "duration": 642,
    "start_time": "2023-07-08T10:15:17.600Z"
   },
   {
    "duration": 11,
    "start_time": "2023-07-08T10:15:18.244Z"
   },
   {
    "duration": 102,
    "start_time": "2023-07-08T10:15:18.256Z"
   },
   {
    "duration": 50,
    "start_time": "2023-07-08T10:15:18.359Z"
   },
   {
    "duration": 641,
    "start_time": "2023-07-08T10:15:18.411Z"
   },
   {
    "duration": 15,
    "start_time": "2023-07-08T10:15:19.054Z"
   },
   {
    "duration": 93,
    "start_time": "2023-07-08T10:15:19.071Z"
   },
   {
    "duration": 193,
    "start_time": "2023-07-08T10:15:19.165Z"
   },
   {
    "duration": 53,
    "start_time": "2023-07-08T10:15:19.360Z"
   },
   {
    "duration": 10,
    "start_time": "2023-07-08T10:15:19.415Z"
   },
   {
    "duration": 399,
    "start_time": "2023-07-08T10:15:19.426Z"
   },
   {
    "duration": 107,
    "start_time": "2023-07-08T10:15:19.826Z"
   },
   {
    "duration": 13,
    "start_time": "2023-07-08T10:15:19.934Z"
   },
   {
    "duration": 2492,
    "start_time": "2023-07-08T10:15:19.949Z"
   },
   {
    "duration": 6,
    "start_time": "2023-07-08T10:15:22.443Z"
   },
   {
    "duration": 302,
    "start_time": "2023-07-08T10:15:22.451Z"
   },
   {
    "duration": 20,
    "start_time": "2023-07-08T10:15:22.756Z"
   },
   {
    "duration": 6,
    "start_time": "2023-07-08T10:15:22.778Z"
   },
   {
    "duration": 89,
    "start_time": "2023-07-08T10:15:22.799Z"
   },
   {
    "duration": 37,
    "start_time": "2023-07-08T10:15:22.889Z"
   },
   {
    "duration": 429,
    "start_time": "2023-07-08T10:15:22.927Z"
   },
   {
    "duration": 12,
    "start_time": "2023-07-08T10:15:23.357Z"
   },
   {
    "duration": 85,
    "start_time": "2023-07-08T10:15:23.370Z"
   },
   {
    "duration": 135,
    "start_time": "2023-07-08T10:15:23.457Z"
   },
   {
    "duration": 22,
    "start_time": "2023-07-08T10:15:23.593Z"
   },
   {
    "duration": 11,
    "start_time": "2023-07-08T10:15:23.616Z"
   },
   {
    "duration": 10,
    "start_time": "2023-07-08T10:15:23.629Z"
   },
   {
    "duration": 63,
    "start_time": "2023-07-08T10:15:23.641Z"
   },
   {
    "duration": 9,
    "start_time": "2023-07-08T10:15:23.706Z"
   },
   {
    "duration": 62,
    "start_time": "2023-07-08T10:15:23.717Z"
   },
   {
    "duration": 50,
    "start_time": "2023-07-08T10:15:23.781Z"
   },
   {
    "duration": 86,
    "start_time": "2023-07-08T10:15:23.833Z"
   },
   {
    "duration": 11,
    "start_time": "2023-07-08T10:15:23.921Z"
   },
   {
    "duration": 20,
    "start_time": "2023-07-08T10:15:23.933Z"
   },
   {
    "duration": 40,
    "start_time": "2023-07-08T10:24:44.543Z"
   },
   {
    "duration": 1383,
    "start_time": "2023-07-08T10:25:04.825Z"
   },
   {
    "duration": 14839,
    "start_time": "2023-07-08T10:25:09.417Z"
   },
   {
    "duration": 4,
    "start_time": "2023-07-08T10:27:47.308Z"
   },
   {
    "duration": 5100,
    "start_time": "2023-07-08T10:28:03.043Z"
   },
   {
    "duration": 47,
    "start_time": "2023-07-08T10:41:49.220Z"
   },
   {
    "duration": 3092,
    "start_time": "2023-07-08T10:41:55.044Z"
   },
   {
    "duration": 2,
    "start_time": "2023-07-08T10:41:58.139Z"
   },
   {
    "duration": 8788,
    "start_time": "2023-07-08T10:41:58.143Z"
   },
   {
    "duration": 3,
    "start_time": "2023-07-08T10:42:06.932Z"
   },
   {
    "duration": 375,
    "start_time": "2023-07-08T10:42:06.937Z"
   },
   {
    "duration": 30,
    "start_time": "2023-07-08T10:42:07.314Z"
   },
   {
    "duration": 17,
    "start_time": "2023-07-08T10:42:07.346Z"
   },
   {
    "duration": 121,
    "start_time": "2023-07-08T10:42:07.364Z"
   },
   {
    "duration": 100,
    "start_time": "2023-07-08T10:42:07.487Z"
   },
   {
    "duration": 261,
    "start_time": "2023-07-08T10:42:07.589Z"
   },
   {
    "duration": 8,
    "start_time": "2023-07-08T10:42:07.852Z"
   },
   {
    "duration": 679,
    "start_time": "2023-07-08T10:42:07.862Z"
   },
   {
    "duration": 9,
    "start_time": "2023-07-08T10:42:08.543Z"
   },
   {
    "duration": 121,
    "start_time": "2023-07-08T10:42:08.554Z"
   },
   {
    "duration": 53,
    "start_time": "2023-07-08T10:42:08.677Z"
   },
   {
    "duration": 619,
    "start_time": "2023-07-08T10:42:08.731Z"
   },
   {
    "duration": 15,
    "start_time": "2023-07-08T10:42:09.351Z"
   },
   {
    "duration": 92,
    "start_time": "2023-07-08T10:42:09.367Z"
   },
   {
    "duration": 197,
    "start_time": "2023-07-08T10:42:09.460Z"
   },
   {
    "duration": 51,
    "start_time": "2023-07-08T10:42:09.659Z"
   },
   {
    "duration": 9,
    "start_time": "2023-07-08T10:42:09.712Z"
   },
   {
    "duration": 377,
    "start_time": "2023-07-08T10:42:09.723Z"
   },
   {
    "duration": 94,
    "start_time": "2023-07-08T10:42:10.101Z"
   },
   {
    "duration": 13,
    "start_time": "2023-07-08T10:42:10.196Z"
   },
   {
    "duration": 1667,
    "start_time": "2023-07-08T10:42:10.210Z"
   },
   {
    "duration": 6,
    "start_time": "2023-07-08T10:42:11.879Z"
   },
   {
    "duration": 271,
    "start_time": "2023-07-08T10:42:11.887Z"
   },
   {
    "duration": 23,
    "start_time": "2023-07-08T10:42:12.162Z"
   },
   {
    "duration": 7,
    "start_time": "2023-07-08T10:42:12.200Z"
   },
   {
    "duration": 93,
    "start_time": "2023-07-08T10:42:12.209Z"
   },
   {
    "duration": 51,
    "start_time": "2023-07-08T10:42:12.303Z"
   },
   {
    "duration": 463,
    "start_time": "2023-07-08T10:42:12.356Z"
   },
   {
    "duration": 12,
    "start_time": "2023-07-08T10:42:12.820Z"
   },
   {
    "duration": 79,
    "start_time": "2023-07-08T10:42:12.833Z"
   },
   {
    "duration": 158,
    "start_time": "2023-07-08T10:42:12.914Z"
   },
   {
    "duration": 27,
    "start_time": "2023-07-08T10:42:13.073Z"
   },
   {
    "duration": 12,
    "start_time": "2023-07-08T10:42:13.101Z"
   },
   {
    "duration": 14,
    "start_time": "2023-07-08T10:42:13.114Z"
   },
   {
    "duration": 52,
    "start_time": "2023-07-08T10:42:13.129Z"
   },
   {
    "duration": 26,
    "start_time": "2023-07-08T10:42:13.182Z"
   },
   {
    "duration": 56,
    "start_time": "2023-07-08T10:42:13.210Z"
   },
   {
    "duration": 53,
    "start_time": "2023-07-08T10:42:13.268Z"
   },
   {
    "duration": 90,
    "start_time": "2023-07-08T10:42:13.322Z"
   },
   {
    "duration": 620,
    "start_time": "2023-07-08T10:42:13.413Z"
   },
   {
    "duration": 543,
    "start_time": "2023-07-08T10:42:56.988Z"
   },
   {
    "duration": 406,
    "start_time": "2023-07-08T10:51:26.262Z"
   },
   {
    "duration": 659,
    "start_time": "2023-07-08T10:52:40.476Z"
   },
   {
    "duration": 648,
    "start_time": "2023-07-08T10:53:05.428Z"
   },
   {
    "duration": 179,
    "start_time": "2023-07-08T10:54:02.971Z"
   },
   {
    "duration": 299,
    "start_time": "2023-07-08T10:54:08.747Z"
   },
   {
    "duration": 191,
    "start_time": "2023-07-08T10:54:10.836Z"
   },
   {
    "duration": 146,
    "start_time": "2023-07-08T10:54:16.307Z"
   },
   {
    "duration": 126,
    "start_time": "2023-07-08T10:54:20.316Z"
   },
   {
    "duration": 191,
    "start_time": "2023-07-08T10:55:27.173Z"
   },
   {
    "duration": 158,
    "start_time": "2023-07-08T10:55:36.910Z"
   },
   {
    "duration": 107,
    "start_time": "2023-07-08T10:55:40.676Z"
   },
   {
    "duration": 109,
    "start_time": "2023-07-08T10:55:42.276Z"
   },
   {
    "duration": 101,
    "start_time": "2023-07-08T10:55:47.940Z"
   },
   {
    "duration": 91,
    "start_time": "2023-07-08T10:55:52.028Z"
   },
   {
    "duration": 103,
    "start_time": "2023-07-08T10:55:54.900Z"
   },
   {
    "duration": 96,
    "start_time": "2023-07-08T10:55:58.404Z"
   },
   {
    "duration": 91,
    "start_time": "2023-07-08T10:56:01.341Z"
   },
   {
    "duration": 98,
    "start_time": "2023-07-08T10:56:08.717Z"
   },
   {
    "duration": 300,
    "start_time": "2023-07-08T10:56:19.538Z"
   },
   {
    "duration": 197,
    "start_time": "2023-07-08T10:56:23.870Z"
   },
   {
    "duration": 96,
    "start_time": "2023-07-08T10:58:47.783Z"
   },
   {
    "duration": 80,
    "start_time": "2023-07-08T10:58:51.414Z"
   },
   {
    "duration": 120,
    "start_time": "2023-07-08T10:58:58.079Z"
   },
   {
    "duration": 99,
    "start_time": "2023-07-08T10:59:05.007Z"
   },
   {
    "duration": 134,
    "start_time": "2023-07-08T11:00:03.383Z"
   },
   {
    "duration": 341,
    "start_time": "2023-07-08T11:00:14.296Z"
   },
   {
    "duration": 180,
    "start_time": "2023-07-08T11:00:20.466Z"
   },
   {
    "duration": 210,
    "start_time": "2023-07-08T11:00:24.999Z"
   },
   {
    "duration": 490,
    "start_time": "2023-07-08T11:00:46.226Z"
   },
   {
    "duration": 434,
    "start_time": "2023-07-08T11:01:00.017Z"
   },
   {
    "duration": 422,
    "start_time": "2023-07-08T11:01:06.639Z"
   },
   {
    "duration": 205,
    "start_time": "2023-07-08T11:01:09.248Z"
   },
   {
    "duration": 235,
    "start_time": "2023-07-08T11:01:21.672Z"
   },
   {
    "duration": 238,
    "start_time": "2023-07-08T11:01:26.953Z"
   },
   {
    "duration": 14935,
    "start_time": "2023-07-08T11:01:42.992Z"
   },
   {
    "duration": 274,
    "start_time": "2023-07-08T11:02:12.744Z"
   },
   {
    "duration": 105,
    "start_time": "2023-07-08T11:02:22.368Z"
   },
   {
    "duration": 87,
    "start_time": "2023-07-08T11:02:33.833Z"
   },
   {
    "duration": 87,
    "start_time": "2023-07-08T11:02:40.544Z"
   },
   {
    "duration": 89,
    "start_time": "2023-07-08T11:02:41.225Z"
   },
   {
    "duration": 156,
    "start_time": "2023-07-08T11:02:52.930Z"
   },
   {
    "duration": 1171,
    "start_time": "2023-07-08T11:03:12.753Z"
   },
   {
    "duration": 198,
    "start_time": "2023-07-08T11:03:26.721Z"
   },
   {
    "duration": 139,
    "start_time": "2023-07-08T11:08:11.565Z"
   },
   {
    "duration": 119,
    "start_time": "2023-07-08T11:09:02.149Z"
   },
   {
    "duration": 93,
    "start_time": "2023-07-08T11:09:25.150Z"
   },
   {
    "duration": 219,
    "start_time": "2023-07-08T11:09:59.158Z"
   },
   {
    "duration": 295,
    "start_time": "2023-07-08T11:10:29.903Z"
   },
   {
    "duration": 114,
    "start_time": "2023-07-08T11:11:12.671Z"
   },
   {
    "duration": 110,
    "start_time": "2023-07-08T11:11:37.648Z"
   },
   {
    "duration": 114,
    "start_time": "2023-07-08T11:11:49.952Z"
   },
   {
    "duration": 171,
    "start_time": "2023-07-08T11:12:38.713Z"
   },
   {
    "duration": 176,
    "start_time": "2023-07-08T11:12:50.704Z"
   },
   {
    "duration": 193,
    "start_time": "2023-07-08T11:13:16.457Z"
   },
   {
    "duration": 3000,
    "start_time": "2023-07-08T11:17:44.954Z"
   },
   {
    "duration": 2,
    "start_time": "2023-07-08T11:17:47.956Z"
   },
   {
    "duration": 8351,
    "start_time": "2023-07-08T11:17:47.959Z"
   },
   {
    "duration": 3,
    "start_time": "2023-07-08T11:17:56.312Z"
   },
   {
    "duration": 327,
    "start_time": "2023-07-08T11:17:56.316Z"
   },
   {
    "duration": 28,
    "start_time": "2023-07-08T11:17:56.645Z"
   },
   {
    "duration": 30,
    "start_time": "2023-07-08T11:17:56.675Z"
   },
   {
    "duration": 102,
    "start_time": "2023-07-08T11:17:56.707Z"
   },
   {
    "duration": 102,
    "start_time": "2023-07-08T11:17:56.811Z"
   },
   {
    "duration": 243,
    "start_time": "2023-07-08T11:17:56.915Z"
   },
   {
    "duration": 8,
    "start_time": "2023-07-08T11:17:57.160Z"
   },
   {
    "duration": 649,
    "start_time": "2023-07-08T11:17:57.169Z"
   },
   {
    "duration": 17,
    "start_time": "2023-07-08T11:17:57.820Z"
   },
   {
    "duration": 106,
    "start_time": "2023-07-08T11:17:57.839Z"
   },
   {
    "duration": 51,
    "start_time": "2023-07-08T11:17:57.946Z"
   },
   {
    "duration": 635,
    "start_time": "2023-07-08T11:17:57.999Z"
   },
   {
    "duration": 16,
    "start_time": "2023-07-08T11:17:58.635Z"
   },
   {
    "duration": 99,
    "start_time": "2023-07-08T11:17:58.652Z"
   },
   {
    "duration": 192,
    "start_time": "2023-07-08T11:17:58.752Z"
   },
   {
    "duration": 52,
    "start_time": "2023-07-08T11:17:58.946Z"
   },
   {
    "duration": 11,
    "start_time": "2023-07-08T11:17:58.999Z"
   },
   {
    "duration": 372,
    "start_time": "2023-07-08T11:17:59.012Z"
   },
   {
    "duration": 98,
    "start_time": "2023-07-08T11:17:59.386Z"
   },
   {
    "duration": 15,
    "start_time": "2023-07-08T11:17:59.486Z"
   },
   {
    "duration": 1752,
    "start_time": "2023-07-08T11:17:59.502Z"
   },
   {
    "duration": 9,
    "start_time": "2023-07-08T11:18:01.256Z"
   },
   {
    "duration": 270,
    "start_time": "2023-07-08T11:18:01.267Z"
   },
   {
    "duration": 24,
    "start_time": "2023-07-08T11:18:01.541Z"
   },
   {
    "duration": 50,
    "start_time": "2023-07-08T11:18:01.567Z"
   },
   {
    "duration": 141,
    "start_time": "2023-07-08T11:18:01.618Z"
   },
   {
    "duration": 42,
    "start_time": "2023-07-08T11:18:01.760Z"
   },
   {
    "duration": 465,
    "start_time": "2023-07-08T11:18:01.804Z"
   },
   {
    "duration": 12,
    "start_time": "2023-07-08T11:18:02.270Z"
   },
   {
    "duration": 191,
    "start_time": "2023-07-08T11:18:02.283Z"
   },
   {
    "duration": 141,
    "start_time": "2023-07-08T11:18:02.476Z"
   },
   {
    "duration": 20,
    "start_time": "2023-07-08T11:18:02.618Z"
   },
   {
    "duration": 36,
    "start_time": "2023-07-08T11:18:02.640Z"
   },
   {
    "duration": 40,
    "start_time": "2023-07-08T11:18:02.677Z"
   },
   {
    "duration": 81,
    "start_time": "2023-07-08T11:18:02.719Z"
   },
   {
    "duration": 9,
    "start_time": "2023-07-08T11:18:02.801Z"
   },
   {
    "duration": 63,
    "start_time": "2023-07-08T11:18:02.811Z"
   },
   {
    "duration": 37,
    "start_time": "2023-07-08T11:18:02.875Z"
   },
   {
    "duration": 81,
    "start_time": "2023-07-08T11:18:02.913Z"
   },
   {
    "duration": 185,
    "start_time": "2023-07-08T11:18:02.995Z"
   },
   {
    "duration": 119,
    "start_time": "2023-07-08T11:18:03.182Z"
   },
   {
    "duration": 108,
    "start_time": "2023-07-08T11:18:03.302Z"
   },
   {
    "duration": 324,
    "start_time": "2023-07-08T11:18:03.411Z"
   },
   {
    "duration": 220,
    "start_time": "2023-07-08T11:18:03.737Z"
   },
   {
    "duration": 104,
    "start_time": "2023-07-08T11:18:03.958Z"
   },
   {
    "duration": 129,
    "start_time": "2023-07-08T11:18:04.064Z"
   },
   {
    "duration": 147,
    "start_time": "2023-07-08T11:18:04.195Z"
   },
   {
    "duration": 10,
    "start_time": "2023-07-08T11:18:04.344Z"
   },
   {
    "duration": 13,
    "start_time": "2023-07-08T11:18:04.355Z"
   },
   {
    "duration": 60,
    "start_time": "2023-07-08T11:18:04.369Z"
   },
   {
    "duration": 1476,
    "start_time": "2023-07-08T11:18:04.430Z"
   },
   {
    "duration": 15196,
    "start_time": "2023-07-08T11:18:05.908Z"
   },
   {
    "duration": 16399,
    "start_time": "2023-07-08T11:18:21.105Z"
   },
   {
    "duration": 1225115,
    "start_time": "2023-07-08T11:18:37.505Z"
   },
   {
    "duration": 410,
    "start_time": "2023-07-08T11:39:02.622Z"
   },
   {
    "duration": 647195,
    "start_time": "2023-07-08T11:39:03.034Z"
   },
   {
    "duration": 10,
    "start_time": "2023-07-08T11:49:50.230Z"
   },
   {
    "duration": 5119,
    "start_time": "2023-07-08T11:49:50.241Z"
   },
   {
    "duration": 4,
    "start_time": "2023-07-08T11:49:55.361Z"
   },
   {
    "duration": 358,
    "start_time": "2023-07-08T11:49:55.366Z"
   },
   {
    "duration": 1602,
    "start_time": "2023-07-08T12:15:49.776Z"
   },
   {
    "duration": 29,
    "start_time": "2023-07-08T12:17:57.916Z"
   },
   {
    "duration": 29,
    "start_time": "2023-07-08T12:18:35.995Z"
   },
   {
    "duration": 1642,
    "start_time": "2023-07-08T12:18:36.962Z"
   },
   {
    "duration": 15,
    "start_time": "2023-07-08T12:19:03.690Z"
   }
  ],
  "kernelspec": {
   "display_name": "Python 3 (ipykernel)",
   "language": "python",
   "name": "python3"
  },
  "language_info": {
   "codemirror_mode": {
    "name": "ipython",
    "version": 3
   },
   "file_extension": ".py",
   "mimetype": "text/x-python",
   "name": "python",
   "nbconvert_exporter": "python",
   "pygments_lexer": "ipython3",
   "version": "3.9.18"
  },
  "toc": {
   "base_numbering": 1,
   "nav_menu": {},
   "number_sections": true,
   "sideBar": true,
   "skip_h1_title": true,
   "title_cell": "Table of Contents",
   "title_sidebar": "Contents",
   "toc_cell": false,
   "toc_position": {
    "height": "calc(100% - 180px)",
    "left": "10px",
    "top": "150px",
    "width": "248.993px"
   },
   "toc_section_display": true,
   "toc_window_display": true
  }
 },
 "nbformat": 4,
 "nbformat_minor": 2
}
