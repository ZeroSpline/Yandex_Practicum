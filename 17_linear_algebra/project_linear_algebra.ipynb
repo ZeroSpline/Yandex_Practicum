{
 "cells": [
  {
   "cell_type": "markdown",
   "metadata": {
    "toc": true
   },
   "source": [
    "<h1>Содержание<span class=\"tocSkip\"></span></h1>\n",
    "<div class=\"toc\"><ul class=\"toc-item\"><li><span><a href=\"#Загрузка-данных\" data-toc-modified-id=\"Загрузка-данных-1\"><span class=\"toc-item-num\">1&nbsp;&nbsp;</span>Загрузка данных</a></span><ul class=\"toc-item\"><li><span><a href=\"#Вывод\" data-toc-modified-id=\"Вывод-1.1\"><span class=\"toc-item-num\">1.1&nbsp;&nbsp;</span>Вывод</a></span></li></ul></li><li><span><a href=\"#Умножение-матриц\" data-toc-modified-id=\"Умножение-матриц-2\"><span class=\"toc-item-num\">2&nbsp;&nbsp;</span>Умножение матриц</a></span><ul class=\"toc-item\"><li><span><a href=\"#Вывод\" data-toc-modified-id=\"Вывод-2.1\"><span class=\"toc-item-num\">2.1&nbsp;&nbsp;</span>Вывод</a></span></li></ul></li><li><span><a href=\"#Алгоритм-преобразования\" data-toc-modified-id=\"Алгоритм-преобразования-3\"><span class=\"toc-item-num\">3&nbsp;&nbsp;</span>Алгоритм преобразования</a></span><ul class=\"toc-item\"><li><span><a href=\"#Вывод\" data-toc-modified-id=\"Вывод-3.1\"><span class=\"toc-item-num\">3.1&nbsp;&nbsp;</span>Вывод</a></span></li></ul></li><li><span><a href=\"#Проверка-алгоритма\" data-toc-modified-id=\"Проверка-алгоритма-4\"><span class=\"toc-item-num\">4&nbsp;&nbsp;</span>Проверка алгоритма</a></span><ul class=\"toc-item\"><li><span><a href=\"#Вывод\" data-toc-modified-id=\"Вывод-4.1\"><span class=\"toc-item-num\">4.1&nbsp;&nbsp;</span>Вывод</a></span></li></ul></li></ul></div>"
   ]
  },
  {
   "cell_type": "markdown",
   "metadata": {},
   "source": [
    "## Загрузка данных"
   ]
  },
  {
   "cell_type": "code",
   "execution_count": 1,
   "metadata": {},
   "outputs": [],
   "source": [
    "### импорт библиотек\n",
    "import numpy as np\n",
    "import pandas as pd\n",
    "from sklearn.linear_model import LinearRegression\n",
    "from sklearn.metrics import r2_score"
   ]
  },
  {
   "cell_type": "code",
   "execution_count": 2,
   "metadata": {
    "scrolled": false
   },
   "outputs": [
    {
     "data": {
      "text/html": [
       "<div>\n",
       "<style scoped>\n",
       "    .dataframe tbody tr th:only-of-type {\n",
       "        vertical-align: middle;\n",
       "    }\n",
       "\n",
       "    .dataframe tbody tr th {\n",
       "        vertical-align: top;\n",
       "    }\n",
       "\n",
       "    .dataframe thead th {\n",
       "        text-align: right;\n",
       "    }\n",
       "</style>\n",
       "<table border=\"1\" class=\"dataframe\">\n",
       "  <thead>\n",
       "    <tr style=\"text-align: right;\">\n",
       "      <th></th>\n",
       "      <th>Пол</th>\n",
       "      <th>Возраст</th>\n",
       "      <th>Зарплата</th>\n",
       "      <th>Члены семьи</th>\n",
       "      <th>Страховые выплаты</th>\n",
       "    </tr>\n",
       "  </thead>\n",
       "  <tbody>\n",
       "    <tr>\n",
       "      <th>0</th>\n",
       "      <td>1</td>\n",
       "      <td>41.0</td>\n",
       "      <td>49600.0</td>\n",
       "      <td>1</td>\n",
       "      <td>0</td>\n",
       "    </tr>\n",
       "    <tr>\n",
       "      <th>1</th>\n",
       "      <td>0</td>\n",
       "      <td>46.0</td>\n",
       "      <td>38000.0</td>\n",
       "      <td>1</td>\n",
       "      <td>1</td>\n",
       "    </tr>\n",
       "    <tr>\n",
       "      <th>2</th>\n",
       "      <td>0</td>\n",
       "      <td>29.0</td>\n",
       "      <td>21000.0</td>\n",
       "      <td>0</td>\n",
       "      <td>0</td>\n",
       "    </tr>\n",
       "    <tr>\n",
       "      <th>3</th>\n",
       "      <td>0</td>\n",
       "      <td>21.0</td>\n",
       "      <td>41700.0</td>\n",
       "      <td>2</td>\n",
       "      <td>0</td>\n",
       "    </tr>\n",
       "    <tr>\n",
       "      <th>4</th>\n",
       "      <td>1</td>\n",
       "      <td>28.0</td>\n",
       "      <td>26100.0</td>\n",
       "      <td>0</td>\n",
       "      <td>0</td>\n",
       "    </tr>\n",
       "  </tbody>\n",
       "</table>\n",
       "</div>"
      ],
      "text/plain": [
       "   Пол  Возраст  Зарплата  Члены семьи  Страховые выплаты\n",
       "0    1     41.0   49600.0            1                  0\n",
       "1    0     46.0   38000.0            1                  1\n",
       "2    0     29.0   21000.0            0                  0\n",
       "3    0     21.0   41700.0            2                  0\n",
       "4    1     28.0   26100.0            0                  0"
      ]
     },
     "metadata": {},
     "output_type": "display_data"
    },
    {
     "name": "stdout",
     "output_type": "stream",
     "text": [
      "<class 'pandas.core.frame.DataFrame'>\n",
      "RangeIndex: 5000 entries, 0 to 4999\n",
      "Data columns (total 5 columns):\n",
      " #   Column             Non-Null Count  Dtype  \n",
      "---  ------             --------------  -----  \n",
      " 0   Пол                5000 non-null   int64  \n",
      " 1   Возраст            5000 non-null   float64\n",
      " 2   Зарплата           5000 non-null   float64\n",
      " 3   Члены семьи        5000 non-null   int64  \n",
      " 4   Страховые выплаты  5000 non-null   int64  \n",
      "dtypes: float64(2), int64(3)\n",
      "memory usage: 195.4 KB\n"
     ]
    },
    {
     "data": {
      "text/plain": [
       "None"
      ]
     },
     "metadata": {},
     "output_type": "display_data"
    },
    {
     "data": {
      "text/html": [
       "<div>\n",
       "<style scoped>\n",
       "    .dataframe tbody tr th:only-of-type {\n",
       "        vertical-align: middle;\n",
       "    }\n",
       "\n",
       "    .dataframe tbody tr th {\n",
       "        vertical-align: top;\n",
       "    }\n",
       "\n",
       "    .dataframe thead th {\n",
       "        text-align: right;\n",
       "    }\n",
       "</style>\n",
       "<table border=\"1\" class=\"dataframe\">\n",
       "  <thead>\n",
       "    <tr style=\"text-align: right;\">\n",
       "      <th></th>\n",
       "      <th>Пол</th>\n",
       "      <th>Возраст</th>\n",
       "      <th>Зарплата</th>\n",
       "      <th>Члены семьи</th>\n",
       "      <th>Страховые выплаты</th>\n",
       "    </tr>\n",
       "  </thead>\n",
       "  <tbody>\n",
       "    <tr>\n",
       "      <th>count</th>\n",
       "      <td>5000.000000</td>\n",
       "      <td>5000.000000</td>\n",
       "      <td>5000.000000</td>\n",
       "      <td>5000.000000</td>\n",
       "      <td>5000.000000</td>\n",
       "    </tr>\n",
       "    <tr>\n",
       "      <th>mean</th>\n",
       "      <td>0.499000</td>\n",
       "      <td>30.952800</td>\n",
       "      <td>39916.360000</td>\n",
       "      <td>1.194200</td>\n",
       "      <td>0.148000</td>\n",
       "    </tr>\n",
       "    <tr>\n",
       "      <th>std</th>\n",
       "      <td>0.500049</td>\n",
       "      <td>8.440807</td>\n",
       "      <td>9900.083569</td>\n",
       "      <td>1.091387</td>\n",
       "      <td>0.463183</td>\n",
       "    </tr>\n",
       "    <tr>\n",
       "      <th>min</th>\n",
       "      <td>0.000000</td>\n",
       "      <td>18.000000</td>\n",
       "      <td>5300.000000</td>\n",
       "      <td>0.000000</td>\n",
       "      <td>0.000000</td>\n",
       "    </tr>\n",
       "    <tr>\n",
       "      <th>25%</th>\n",
       "      <td>0.000000</td>\n",
       "      <td>24.000000</td>\n",
       "      <td>33300.000000</td>\n",
       "      <td>0.000000</td>\n",
       "      <td>0.000000</td>\n",
       "    </tr>\n",
       "    <tr>\n",
       "      <th>50%</th>\n",
       "      <td>0.000000</td>\n",
       "      <td>30.000000</td>\n",
       "      <td>40200.000000</td>\n",
       "      <td>1.000000</td>\n",
       "      <td>0.000000</td>\n",
       "    </tr>\n",
       "    <tr>\n",
       "      <th>75%</th>\n",
       "      <td>1.000000</td>\n",
       "      <td>37.000000</td>\n",
       "      <td>46600.000000</td>\n",
       "      <td>2.000000</td>\n",
       "      <td>0.000000</td>\n",
       "    </tr>\n",
       "    <tr>\n",
       "      <th>max</th>\n",
       "      <td>1.000000</td>\n",
       "      <td>65.000000</td>\n",
       "      <td>79000.000000</td>\n",
       "      <td>6.000000</td>\n",
       "      <td>5.000000</td>\n",
       "    </tr>\n",
       "  </tbody>\n",
       "</table>\n",
       "</div>"
      ],
      "text/plain": [
       "               Пол      Возраст      Зарплата  Члены семьи  Страховые выплаты\n",
       "count  5000.000000  5000.000000   5000.000000  5000.000000        5000.000000\n",
       "mean      0.499000    30.952800  39916.360000     1.194200           0.148000\n",
       "std       0.500049     8.440807   9900.083569     1.091387           0.463183\n",
       "min       0.000000    18.000000   5300.000000     0.000000           0.000000\n",
       "25%       0.000000    24.000000  33300.000000     0.000000           0.000000\n",
       "50%       0.000000    30.000000  40200.000000     1.000000           0.000000\n",
       "75%       1.000000    37.000000  46600.000000     2.000000           0.000000\n",
       "max       1.000000    65.000000  79000.000000     6.000000           5.000000"
      ]
     },
     "metadata": {},
     "output_type": "display_data"
    },
    {
     "data": {
      "text/plain": [
       "'Количество пропусков:'"
      ]
     },
     "metadata": {},
     "output_type": "display_data"
    },
    {
     "data": {
      "text/plain": [
       "Пол                  0\n",
       "Возраст              0\n",
       "Зарплата             0\n",
       "Члены семьи          0\n",
       "Страховые выплаты    0\n",
       "dtype: int64"
      ]
     },
     "metadata": {},
     "output_type": "display_data"
    }
   ],
   "source": [
    "### получение информации о таблице\n",
    "df = pd.read_csv('/datasets/insurance.csv')\n",
    "display(df.head(5))\n",
    "display(df.info())\n",
    "display(df.describe())\n",
    "display('Количество пропусков:', df.isna().sum())"
   ]
  },
  {
   "cell_type": "code",
   "execution_count": 3,
   "metadata": {},
   "outputs": [
    {
     "data": {
      "text/plain": [
       "'Остаток от деления:'"
      ]
     },
     "metadata": {},
     "output_type": "display_data"
    },
    {
     "data": {
      "text/plain": [
       "0.999999999992724"
      ]
     },
     "metadata": {},
     "output_type": "display_data"
    },
    {
     "data": {
      "text/html": [
       "<div>\n",
       "<style scoped>\n",
       "    .dataframe tbody tr th:only-of-type {\n",
       "        vertical-align: middle;\n",
       "    }\n",
       "\n",
       "    .dataframe tbody tr th {\n",
       "        vertical-align: top;\n",
       "    }\n",
       "\n",
       "    .dataframe thead th {\n",
       "        text-align: right;\n",
       "    }\n",
       "</style>\n",
       "<table border=\"1\" class=\"dataframe\">\n",
       "  <thead>\n",
       "    <tr style=\"text-align: right;\">\n",
       "      <th></th>\n",
       "      <th>0</th>\n",
       "    </tr>\n",
       "    <tr>\n",
       "      <th>Зарплата</th>\n",
       "      <th></th>\n",
       "    </tr>\n",
       "  </thead>\n",
       "  <tbody>\n",
       "    <tr>\n",
       "      <th>32200.0</th>\n",
       "      <td>5.456968e-11</td>\n",
       "    </tr>\n",
       "    <tr>\n",
       "      <th>32700.0</th>\n",
       "      <td>7.275958e-11</td>\n",
       "    </tr>\n",
       "    <tr>\n",
       "      <th>64100.0</th>\n",
       "      <td>1.000000e+00</td>\n",
       "    </tr>\n",
       "    <tr>\n",
       "      <th>64400.0</th>\n",
       "      <td>7.275958e-12</td>\n",
       "    </tr>\n",
       "    <tr>\n",
       "      <th>64900.0</th>\n",
       "      <td>7.275958e-12</td>\n",
       "    </tr>\n",
       "    <tr>\n",
       "      <th>65100.0</th>\n",
       "      <td>2.000000e+00</td>\n",
       "    </tr>\n",
       "  </tbody>\n",
       "</table>\n",
       "</div>"
      ],
      "text/plain": [
       "                     0\n",
       "Зарплата              \n",
       "32200.0   5.456968e-11\n",
       "32700.0   7.275958e-11\n",
       "64100.0   1.000000e+00\n",
       "64400.0   7.275958e-12\n",
       "64900.0   7.275958e-12\n",
       "65100.0   2.000000e+00"
      ]
     },
     "metadata": {},
     "output_type": "display_data"
    }
   ],
   "source": [
    "### Проверим на остаток от деления столбец Зарплата\n",
    "display('Остаток от деления:', (df['Зарплата'] % 1).max())\n",
    "div_1 = df['Зарплата'][(df['Зарплата'] % 1) > 0]\n",
    "div_2 = pd.Series([x for x in (df['Зарплата'] % 1) if x > 0], index=div_1.index)\n",
    "div = pd.concat([div_1, div_2], sort=False, axis=1)\n",
    "display(div.groupby('Зарплата').sum())"
   ]
  },
  {
   "cell_type": "code",
   "execution_count": 4,
   "metadata": {
    "scrolled": false
   },
   "outputs": [
    {
     "name": "stdout",
     "output_type": "stream",
     "text": [
      "<class 'pandas.core.frame.DataFrame'>\n",
      "RangeIndex: 5000 entries, 0 to 4999\n",
      "Data columns (total 5 columns):\n",
      " #   Column             Non-Null Count  Dtype\n",
      "---  ------             --------------  -----\n",
      " 0   Пол                5000 non-null   int64\n",
      " 1   Возраст            5000 non-null   int64\n",
      " 2   Зарплата           5000 non-null   int64\n",
      " 3   Члены семьи        5000 non-null   int64\n",
      " 4   Страховые выплаты  5000 non-null   int64\n",
      "dtypes: int64(5)\n",
      "memory usage: 195.4 KB\n"
     ]
    },
    {
     "data": {
      "text/plain": [
       "None"
      ]
     },
     "metadata": {},
     "output_type": "display_data"
    }
   ],
   "source": [
    "### Изменим тип данных\n",
    "df['Возраст'] = df['Возраст'].astype('int')\n",
    "df['Зарплата'] = df['Зарплата'].astype('int')\n",
    "display(df.info())"
   ]
  },
  {
   "cell_type": "markdown",
   "metadata": {},
   "source": [
    "### Вывод"
   ]
  },
  {
   "cell_type": "markdown",
   "metadata": {},
   "source": [
    "Изучив данные, можно сделать следующие заключения:\n",
    "- Заполнение пропусков не требуется в виду их отсутствия\n",
    "- В столбцах `Возраст` и `Зарплата` тип данных изменен на `int`\n",
    "- Сумма остатков от деления на 1 в столбце `Зарплата` близка к нулю, изменение формата данных существенного влияния не окажет"
   ]
  },
  {
   "cell_type": "markdown",
   "metadata": {},
   "source": [
    "## Умножение матриц"
   ]
  },
  {
   "cell_type": "markdown",
   "metadata": {},
   "source": [
    "В этом задании вы можете записывать формулы в *Jupyter Notebook.*\n",
    "\n",
    "Чтобы записать формулу внутри текста, окружите её символами доллара \\\\$; если снаружи —  двойными символами \\\\$\\\\$. Эти формулы записываются на языке вёрстки *LaTeX.* \n",
    "\n",
    "Для примера мы записали формулы линейной регрессии. Можете их скопировать и отредактировать, чтобы решить задачу.\n",
    "\n",
    "Работать в *LaTeX* необязательно."
   ]
  },
  {
   "cell_type": "markdown",
   "metadata": {},
   "source": [
    "Обозначения:\n",
    "\n",
    "- $X$ — матрица признаков (нулевой столбец состоит из единиц)\n",
    "\n",
    "- $y$ — вектор целевого признака\n",
    "\n",
    "- $P$ — матрица, на которую умножаются признаки\n",
    "\n",
    "- $w$ — вектор весов линейной регрессии (нулевой элемент равен сдвигу)"
   ]
  },
  {
   "cell_type": "markdown",
   "metadata": {},
   "source": [
    "Предсказания:\n",
    "\n",
    "$$\n",
    "a = Xw\n",
    "$$\n",
    "\n",
    "Задача обучения:\n",
    "\n",
    "$$\n",
    "w = \\arg\\min_w MSE(Xw, y)\n",
    "$$\n",
    "\n",
    "Формула обучения:\n",
    "\n",
    "$$\n",
    "w = (X^T X)^{-1} X^T y\n",
    "$$"
   ]
  },
  {
   "cell_type": "markdown",
   "metadata": {},
   "source": [
    "**Вопрос:**  Если признаки умножить на обратимую матрицу, изменится ли качество линейной регрессии?\n",
    "\n",
    "**Ответ:** Не изменится\n",
    "\n",
    "**Обоснование:**\n",
    "\n",
    "(1) Представим матрицу признаков Х, как умножение матрицы X на матрицу P:\n",
    "\n",
    "$$\n",
    "a_1 = XP ((XP)^T XP)^{-1} (XP)^T y\n",
    "$$\n",
    "\n",
    "(2) Используем следующее свойство:\n",
    "\n",
    "$$\n",
    "(XP)^T = P^T X^T\n",
    "$$\n",
    "\n",
    "(3) Раскроем скобки:\n",
    "\n",
    "$$\n",
    "a_1 = XP ((P^T X^T) XP)^{-1} P^T X^T y\n",
    "$$\n",
    "\n",
    "(4) Воспользуемся свойством:\n",
    "\n",
    "$$\n",
    "{(X^T X P)^{-1} = P^{-1} (X^T X)^{-1}}\n",
    "$$\n",
    "\n",
    "(5) Еще раз раскроем скобки:\n",
    "\n",
    "$$\n",
    "a_1 = XP P^{-1} {(X^T X)^{-1}} (P^T)^{-1} P^T X^T y\n",
    "$$\n",
    "\n",
    "(6) Применим правило умножения матриц, при перемножении на обратимую получим единичную матрицу:\n",
    "\n",
    "$$\n",
    "P P^{-1} = E\n",
    "$$\n",
    "\n",
    "(7) Упростим выражение:\n",
    "\n",
    "$$\n",
    "a_1 = XE {(X^T X)^{-1}} (P^T)^{-1} P^T X^T y\n",
    "$$\n",
    "\n",
    "(8) Применим следующее свойство:\n",
    "\n",
    "$$\n",
    "(P^T)^{-1} P^T = Е\n",
    "$$\n",
    "\n",
    "(9) И еще раз упростим выражение:\n",
    "\n",
    "$$\n",
    "a_1 = X {(X^T X)^{-1}} X^T y = X ((X^T X)^{-1} X^T y) = Xw\n",
    "$$\n"
   ]
  },
  {
   "cell_type": "markdown",
   "metadata": {},
   "source": [
    "### Вывод"
   ]
  },
  {
   "cell_type": "markdown",
   "metadata": {},
   "source": [
    "После проведенных преобразований, можно с уверенность сказать что качество линейной регрессии не изменится если матрицу признаков умножить на обратную матрицу."
   ]
  },
  {
   "cell_type": "markdown",
   "metadata": {},
   "source": [
    "## Алгоритм преобразования"
   ]
  },
  {
   "cell_type": "markdown",
   "metadata": {},
   "source": [
    "**Алгоритм**\n",
    "\n",
    "1. Поиск случайной обратимой матрицы `P` с помощью инструментов numpy\n",
    "2. Умножение случайной обратимой матрицы на исходную матрицу признаков `X`\n",
    "3. Получение \"зашифрованной\" матрицы признаков `Z`"
   ]
  },
  {
   "cell_type": "markdown",
   "metadata": {},
   "source": [
    "**Обоснование**\n",
    "\n",
    "В соответствии с проверкой выше в пункте 2, умножение на обратимую матрицу не изменит результата линейной регрессии."
   ]
  },
  {
   "cell_type": "markdown",
   "metadata": {},
   "source": [
    "Рассмотрим пример:\n",
    "\n",
    "Возьмем матрицу X со следующими данными:\n",
    "\n",
    "$\n",
    "X =\n",
    "$\n",
    "$\\begin {pmatrix} \n",
    "1 & 2\\\\\n",
    "3 & 4\\\\\n",
    "5 & 6\\\\\n",
    "\\end {pmatrix}$\n",
    "\n",
    "И обратную матрицу P:\n",
    "\n",
    "$\n",
    "P =\n",
    "$\n",
    "$\\begin {pmatrix} \n",
    "1 & 0\\\\\n",
    "2 & 3\\\\\n",
    "\\end {pmatrix}$\n",
    "\n",
    "Получим:\n",
    "\n",
    "$\n",
    "Z = XP = \n",
    "$\n",
    "$\\begin {pmatrix} \n",
    "1*1 + 2*2 & 1*0 + 2*3\\\\\n",
    "3*1 + 4*2 & 3*0 + 4*3\\\\\n",
    "5*1 + 6*2 & 5*0 + 6*3\\\\\n",
    "\\end {pmatrix}$\n",
    "$\n",
    "= \n",
    "$\n",
    "$\\begin {pmatrix} \n",
    "5 & 6\\\\\n",
    "11 & 12\\\\\n",
    "17 & 18\\\\\n",
    "\\end {pmatrix}$"
   ]
  },
  {
   "cell_type": "markdown",
   "metadata": {},
   "source": [
    "Таким образом видно, что размерность исходной матрицы остается неизменной при умножении, но каждый элемент внутри умножен на \"коэффициент\", что позволяет изменить внешний вид первоначальных данных для их \"зашифровки\". А также обратную матрицу можно использовать, как ключ для обратной \"дешифровки\" и выгрузки исходных признаков."
   ]
  },
  {
   "cell_type": "markdown",
   "metadata": {},
   "source": [
    "### Вывод"
   ]
  },
  {
   "cell_type": "markdown",
   "metadata": {},
   "source": [
    "По наглядному примеру можем увидеть как формируются коэффициенты перед каждым значением исходной матрицы. Важно сохранять обратную матрицу для последующей возможной \"дешифровки\" признаков."
   ]
  },
  {
   "cell_type": "markdown",
   "metadata": {},
   "source": [
    "## Проверка алгоритма"
   ]
  },
  {
   "cell_type": "code",
   "execution_count": 5,
   "metadata": {
    "scrolled": true
   },
   "outputs": [
    {
     "data": {
      "text/plain": [
       "(5000, 4)"
      ]
     },
     "metadata": {},
     "output_type": "display_data"
    },
    {
     "data": {
      "text/plain": [
       "(5000,)"
      ]
     },
     "metadata": {},
     "output_type": "display_data"
    }
   ],
   "source": [
    "### Разделим таблицу на признаки и цели\n",
    "features = df.drop('Страховые выплаты', axis=1)\n",
    "target = df['Страховые выплаты']\n",
    "display(features.shape)\n",
    "display(target.shape)"
   ]
  },
  {
   "cell_type": "code",
   "execution_count": 6,
   "metadata": {},
   "outputs": [
    {
     "data": {
      "text/html": [
       "<div>\n",
       "<style scoped>\n",
       "    .dataframe tbody tr th:only-of-type {\n",
       "        vertical-align: middle;\n",
       "    }\n",
       "\n",
       "    .dataframe tbody tr th {\n",
       "        vertical-align: top;\n",
       "    }\n",
       "\n",
       "    .dataframe thead th {\n",
       "        text-align: right;\n",
       "    }\n",
       "</style>\n",
       "<table border=\"1\" class=\"dataframe\">\n",
       "  <thead>\n",
       "    <tr style=\"text-align: right;\">\n",
       "      <th></th>\n",
       "      <th>0</th>\n",
       "      <th>1</th>\n",
       "      <th>2</th>\n",
       "      <th>3</th>\n",
       "    </tr>\n",
       "  </thead>\n",
       "  <tbody>\n",
       "    <tr>\n",
       "      <th>0</th>\n",
       "      <td>-3934.059406</td>\n",
       "      <td>12264.435644</td>\n",
       "      <td>13267.950495</td>\n",
       "      <td>-14231.465347</td>\n",
       "    </tr>\n",
       "    <tr>\n",
       "      <th>1</th>\n",
       "      <td>-3015.693069</td>\n",
       "      <td>9391.415842</td>\n",
       "      <td>10168.089109</td>\n",
       "      <td>-10899.762376</td>\n",
       "    </tr>\n",
       "    <tr>\n",
       "      <th>2</th>\n",
       "      <td>-1667.386139</td>\n",
       "      <td>5188.831683</td>\n",
       "      <td>5620.178218</td>\n",
       "      <td>-6022.524752</td>\n",
       "    </tr>\n",
       "    <tr>\n",
       "      <th>3</th>\n",
       "      <td>-3304.712871</td>\n",
       "      <td>10315.227723</td>\n",
       "      <td>11151.405941</td>\n",
       "      <td>-11968.584158</td>\n",
       "    </tr>\n",
       "    <tr>\n",
       "      <th>4</th>\n",
       "      <td>-2071.455446</td>\n",
       "      <td>6451.673267</td>\n",
       "      <td>6983.287129</td>\n",
       "      <td>-7486.900990</td>\n",
       "    </tr>\n",
       "  </tbody>\n",
       "</table>\n",
       "</div>"
      ],
      "text/plain": [
       "             0             1             2             3\n",
       "0 -3934.059406  12264.435644  13267.950495 -14231.465347\n",
       "1 -3015.693069   9391.415842  10168.089109 -10899.762376\n",
       "2 -1667.386139   5188.831683   5620.178218  -6022.524752\n",
       "3 -3304.712871  10315.227723  11151.405941 -11968.584158\n",
       "4 -2071.455446   6451.673267   6983.287129  -7486.900990"
      ]
     },
     "metadata": {},
     "output_type": "display_data"
    },
    {
     "data": {
      "text/plain": [
       "array([[-0.24752475,  0.14851485, -0.03960396,  0.22772277],\n",
       "       [-0.13861386, -0.31683168,  0.21782178,  0.24752475],\n",
       "       [-0.07920792,  0.24752475,  0.26732673, -0.28712871],\n",
       "       [ 0.58415842,  0.04950495, -0.34653465, -0.25742574]])"
      ]
     },
     "metadata": {},
     "output_type": "display_data"
    }
   ],
   "source": [
    "### Функция зашифровки признаков\n",
    "np.random.seed(42)\n",
    "def crypted_features(features):\n",
    "    crypto_features = features\n",
    "    n = features.shape[1]\n",
    "    ### Проверка на обратимость\n",
    "    try:\n",
    "        matrix = np.random.randint(1, 7, (n,n))\n",
    "        inv = np.linalg.inv(matrix)\n",
    "        crypto_features = crypto_features @ inv\n",
    "        return crypto_features, inv\n",
    "    except:\n",
    "        crypted_features(features)\n",
    "        return crypto_features, inv\n",
    "### Получение \"зашифрованных\" признаков и ключа\n",
    "crypto_features, inv = crypted_features(features)\n",
    "display(crypto_features.head())\n",
    "display(inv)"
   ]
  },
  {
   "cell_type": "code",
   "execution_count": 7,
   "metadata": {},
   "outputs": [
    {
     "data": {
      "text/plain": [
       "0.6270326719"
      ]
     },
     "metadata": {},
     "output_type": "display_data"
    }
   ],
   "source": [
    "### Обучим вручную модель линейной регрессии для незашифрованных признаков\n",
    "class self_LinearRegression:\n",
    "    def fit(self, train_features, train_target):\n",
    "        X = np.concatenate((np.ones((train_features.shape[0], 1)), train_features), axis=1)\n",
    "        y = train_target\n",
    "        w = np.linalg.inv(X.T.dot(X)).dot(X.T).dot(y)\n",
    "        self.w = w[1:]\n",
    "        self.w0 = w[0]\n",
    "\n",
    "    def predict(self, test_features):\n",
    "        return test_features.dot(self.w) + self.w0\n",
    "\n",
    "### Получим предсказания для незашифрованных признаков   \n",
    "model = self_LinearRegression()\n",
    "model.fit(features, target)\n",
    "predictions = round(model.predict(features), 0)\n",
    "r2 = round((r2_score(target, predictions)), 10)\n",
    "display(r2)"
   ]
  },
  {
   "cell_type": "code",
   "execution_count": 8,
   "metadata": {},
   "outputs": [
    {
     "data": {
      "text/plain": [
       "0.6270326719"
      ]
     },
     "metadata": {},
     "output_type": "display_data"
    }
   ],
   "source": [
    "### Обучим вручную модель линейной регрессии для зашифрованных признаков\n",
    "### Получим предсказания для незашифрованных признаков   \n",
    "model_one = self_LinearRegression()\n",
    "model_one.fit(crypto_features, target)\n",
    "predictions_one = round(model_one.predict(crypto_features), 0)\n",
    "r2_one = round((r2_score(target, predictions_one)), 10)\n",
    "display(r2_one)"
   ]
  },
  {
   "cell_type": "code",
   "execution_count": 9,
   "metadata": {
    "scrolled": true
   },
   "outputs": [
    {
     "data": {
      "text/html": [
       "<div>\n",
       "<style scoped>\n",
       "    .dataframe tbody tr th:only-of-type {\n",
       "        vertical-align: middle;\n",
       "    }\n",
       "\n",
       "    .dataframe tbody tr th {\n",
       "        vertical-align: top;\n",
       "    }\n",
       "\n",
       "    .dataframe thead th {\n",
       "        text-align: right;\n",
       "    }\n",
       "</style>\n",
       "<table border=\"1\" class=\"dataframe\">\n",
       "  <thead>\n",
       "    <tr style=\"text-align: right;\">\n",
       "      <th></th>\n",
       "      <th>Качество модели</th>\n",
       "      <th>Результат R2</th>\n",
       "    </tr>\n",
       "  </thead>\n",
       "  <tbody>\n",
       "    <tr>\n",
       "      <th>0</th>\n",
       "      <td>До преобразования</td>\n",
       "      <td>0.627033</td>\n",
       "    </tr>\n",
       "    <tr>\n",
       "      <th>1</th>\n",
       "      <td>После преобразования</td>\n",
       "      <td>0.627033</td>\n",
       "    </tr>\n",
       "  </tbody>\n",
       "</table>\n",
       "</div>"
      ],
      "text/plain": [
       "        Качество модели  Результат R2\n",
       "0     До преобразования      0.627033\n",
       "1  После преобразования      0.627033"
      ]
     },
     "metadata": {},
     "output_type": "display_data"
    }
   ],
   "source": [
    "### Сравнительная таблица\n",
    "columns = ['Качество модели', 'Результат R2']\n",
    "data = pd.DataFrame([['До преобразования', r2],\n",
    "                     ['После преобразования', r2_one]], columns=columns)\n",
    "display(data)"
   ]
  },
  {
   "cell_type": "code",
   "execution_count": 10,
   "metadata": {},
   "outputs": [
    {
     "data": {
      "text/html": [
       "<div>\n",
       "<style scoped>\n",
       "    .dataframe tbody tr th:only-of-type {\n",
       "        vertical-align: middle;\n",
       "    }\n",
       "\n",
       "    .dataframe tbody tr th {\n",
       "        vertical-align: top;\n",
       "    }\n",
       "\n",
       "    .dataframe thead th {\n",
       "        text-align: right;\n",
       "    }\n",
       "</style>\n",
       "<table border=\"1\" class=\"dataframe\">\n",
       "  <thead>\n",
       "    <tr style=\"text-align: right;\">\n",
       "      <th></th>\n",
       "      <th>0</th>\n",
       "      <th>1</th>\n",
       "      <th>2</th>\n",
       "      <th>3</th>\n",
       "    </tr>\n",
       "  </thead>\n",
       "  <tbody>\n",
       "    <tr>\n",
       "      <th>0</th>\n",
       "      <td>1</td>\n",
       "      <td>41</td>\n",
       "      <td>49600</td>\n",
       "      <td>1</td>\n",
       "    </tr>\n",
       "    <tr>\n",
       "      <th>1</th>\n",
       "      <td>0</td>\n",
       "      <td>46</td>\n",
       "      <td>38000</td>\n",
       "      <td>1</td>\n",
       "    </tr>\n",
       "    <tr>\n",
       "      <th>2</th>\n",
       "      <td>0</td>\n",
       "      <td>29</td>\n",
       "      <td>21000</td>\n",
       "      <td>0</td>\n",
       "    </tr>\n",
       "    <tr>\n",
       "      <th>3</th>\n",
       "      <td>0</td>\n",
       "      <td>21</td>\n",
       "      <td>41700</td>\n",
       "      <td>2</td>\n",
       "    </tr>\n",
       "    <tr>\n",
       "      <th>4</th>\n",
       "      <td>1</td>\n",
       "      <td>28</td>\n",
       "      <td>26100</td>\n",
       "      <td>0</td>\n",
       "    </tr>\n",
       "  </tbody>\n",
       "</table>\n",
       "</div>"
      ],
      "text/plain": [
       "   0   1      2  3\n",
       "0  1  41  49600  1\n",
       "1  0  46  38000  1\n",
       "2  0  29  21000  0\n",
       "3  0  21  41700  2\n",
       "4  1  28  26100  0"
      ]
     },
     "metadata": {},
     "output_type": "display_data"
    }
   ],
   "source": [
    "### Используем ключ для поиска исходных признаков\n",
    "decrypted_features = round(crypto_features @ np.linalg.inv(inv), 0).astype('int')\n",
    "display(decrypted_features.head(5))"
   ]
  },
  {
   "cell_type": "markdown",
   "metadata": {},
   "source": [
    "### Вывод"
   ]
  },
  {
   "cell_type": "markdown",
   "metadata": {},
   "source": [
    "- Как видно из сводной таблицы расчета метрик для линейной регрессии, умножение исходной матрицы признаков на обратную матрицу вообще не изменило результат. \n",
    "- Также по ключу восстановлена исходная матрица принаков для подтверждения расчетов и наглядности результатов."
   ]
  }
 ],
 "metadata": {
  "ExecuteTimeLog": [
   {
    "duration": 413,
    "start_time": "2022-12-30T21:03:11.065Z"
   },
   {
    "duration": 114,
    "start_time": "2022-12-30T21:04:40.781Z"
   },
   {
    "duration": 49,
    "start_time": "2023-01-03T21:12:53.455Z"
   },
   {
    "duration": 380,
    "start_time": "2023-01-03T21:13:02.786Z"
   },
   {
    "duration": 114,
    "start_time": "2023-01-03T21:13:03.168Z"
   },
   {
    "duration": 4,
    "start_time": "2023-01-03T21:13:03.284Z"
   },
   {
    "duration": 6,
    "start_time": "2023-01-03T21:13:30.763Z"
   },
   {
    "duration": 730,
    "start_time": "2023-01-03T22:03:38.721Z"
   },
   {
    "duration": 49,
    "start_time": "2023-01-03T22:06:36.192Z"
   },
   {
    "duration": 10,
    "start_time": "2023-01-03T22:09:13.999Z"
   },
   {
    "duration": 26,
    "start_time": "2023-01-03T22:10:03.584Z"
   },
   {
    "duration": 9,
    "start_time": "2023-01-03T22:10:22.921Z"
   },
   {
    "duration": 10,
    "start_time": "2023-01-03T22:12:50.270Z"
   },
   {
    "duration": 12,
    "start_time": "2023-01-03T22:13:17.150Z"
   },
   {
    "duration": 11,
    "start_time": "2023-01-03T22:15:02.186Z"
   },
   {
    "duration": 58,
    "start_time": "2023-01-03T22:15:36.427Z"
   },
   {
    "duration": 12,
    "start_time": "2023-01-03T22:15:47.123Z"
   },
   {
    "duration": 12,
    "start_time": "2023-01-03T22:15:48.659Z"
   },
   {
    "duration": 16,
    "start_time": "2023-01-03T22:18:05.824Z"
   },
   {
    "duration": 12,
    "start_time": "2023-01-03T22:18:08.039Z"
   },
   {
    "duration": 15,
    "start_time": "2023-01-03T22:18:17.679Z"
   },
   {
    "duration": 11,
    "start_time": "2023-01-03T22:18:23.336Z"
   },
   {
    "duration": 10,
    "start_time": "2023-01-03T22:18:31.184Z"
   },
   {
    "duration": 14,
    "start_time": "2023-01-03T22:18:36.343Z"
   },
   {
    "duration": 10,
    "start_time": "2023-01-03T22:18:37.320Z"
   },
   {
    "duration": 101,
    "start_time": "2023-01-03T22:20:23.474Z"
   },
   {
    "duration": 10,
    "start_time": "2023-01-03T22:21:43.998Z"
   },
   {
    "duration": 19,
    "start_time": "2023-01-03T22:21:50.053Z"
   },
   {
    "duration": 12,
    "start_time": "2023-01-03T22:21:50.788Z"
   },
   {
    "duration": 12,
    "start_time": "2023-01-03T22:21:51.404Z"
   },
   {
    "duration": 1021,
    "start_time": "2023-01-03T23:15:49.089Z"
   },
   {
    "duration": 48,
    "start_time": "2023-01-03T23:15:50.112Z"
   },
   {
    "duration": 6,
    "start_time": "2023-01-03T23:15:50.162Z"
   },
   {
    "duration": 69,
    "start_time": "2023-01-03T23:15:50.169Z"
   },
   {
    "duration": 112,
    "start_time": "2023-01-03T23:15:50.241Z"
   },
   {
    "duration": 185,
    "start_time": "2023-01-03T23:15:50.359Z"
   },
   {
    "duration": 150,
    "start_time": "2023-01-03T23:18:37.512Z"
   },
   {
    "duration": 56,
    "start_time": "2023-01-03T23:19:18.822Z"
   },
   {
    "duration": 57,
    "start_time": "2023-01-03T23:19:26.974Z"
   },
   {
    "duration": 68,
    "start_time": "2023-01-03T23:23:08.978Z"
   },
   {
    "duration": 69,
    "start_time": "2023-01-03T23:23:40.936Z"
   },
   {
    "duration": 70,
    "start_time": "2023-01-03T23:25:27.194Z"
   },
   {
    "duration": 55,
    "start_time": "2023-01-03T23:25:45.765Z"
   },
   {
    "duration": 266,
    "start_time": "2023-01-03T23:35:20.112Z"
   },
   {
    "duration": 32250,
    "start_time": "2023-01-03T23:35:54.708Z"
   },
   {
    "duration": 203,
    "start_time": "2023-01-03T23:36:27.901Z"
   },
   {
    "duration": 212,
    "start_time": "2023-01-03T23:38:17.997Z"
   },
   {
    "duration": 233,
    "start_time": "2023-01-03T23:39:44.268Z"
   },
   {
    "duration": 260,
    "start_time": "2023-01-03T23:44:06.639Z"
   },
   {
    "duration": 6,
    "start_time": "2023-01-03T23:55:44.529Z"
   },
   {
    "duration": 64,
    "start_time": "2023-01-03T23:58:12.432Z"
   },
   {
    "duration": 5,
    "start_time": "2023-01-03T23:59:44.560Z"
   },
   {
    "duration": 248,
    "start_time": "2023-01-04T00:00:48.159Z"
   },
   {
    "duration": 231,
    "start_time": "2023-01-04T00:02:08.084Z"
   },
   {
    "duration": 21,
    "start_time": "2023-01-04T00:03:30.760Z"
   },
   {
    "duration": 12,
    "start_time": "2023-01-04T00:03:43.175Z"
   },
   {
    "duration": 16,
    "start_time": "2023-01-04T00:05:12.024Z"
   },
   {
    "duration": 1003,
    "start_time": "2023-01-04T00:05:18.599Z"
   },
   {
    "duration": 52,
    "start_time": "2023-01-04T00:05:19.604Z"
   },
   {
    "duration": 7,
    "start_time": "2023-01-04T00:05:19.658Z"
   },
   {
    "duration": 70,
    "start_time": "2023-01-04T00:05:19.667Z"
   },
   {
    "duration": 101,
    "start_time": "2023-01-04T00:05:19.740Z"
   },
   {
    "duration": 109,
    "start_time": "2023-01-04T00:05:19.842Z"
   },
   {
    "duration": 181,
    "start_time": "2023-01-04T00:05:19.954Z"
   },
   {
    "duration": 13,
    "start_time": "2023-01-04T00:05:47.284Z"
   },
   {
    "duration": 10,
    "start_time": "2023-01-04T00:07:08.236Z"
   },
   {
    "duration": 8,
    "start_time": "2023-01-04T00:07:11.649Z"
   },
   {
    "duration": 8,
    "start_time": "2023-01-04T00:08:10.146Z"
   },
   {
    "duration": 1045,
    "start_time": "2023-01-04T00:08:54.458Z"
   },
   {
    "duration": 50,
    "start_time": "2023-01-04T00:08:55.505Z"
   },
   {
    "duration": 6,
    "start_time": "2023-01-04T00:08:55.557Z"
   },
   {
    "duration": 70,
    "start_time": "2023-01-04T00:08:55.565Z"
   },
   {
    "duration": 106,
    "start_time": "2023-01-04T00:08:55.638Z"
   },
   {
    "duration": 26,
    "start_time": "2023-01-04T00:08:55.836Z"
   },
   {
    "duration": 184,
    "start_time": "2023-01-04T00:08:55.863Z"
   },
   {
    "duration": 44,
    "start_time": "2023-01-04T00:09:10.164Z"
   },
   {
    "duration": 1069,
    "start_time": "2023-01-05T08:06:52.744Z"
   },
   {
    "duration": 133,
    "start_time": "2023-01-05T08:06:53.815Z"
   },
   {
    "duration": 6,
    "start_time": "2023-01-05T08:06:53.949Z"
   },
   {
    "duration": 15,
    "start_time": "2023-01-05T08:06:53.956Z"
   },
   {
    "duration": 104,
    "start_time": "2023-01-05T08:06:54.022Z"
   },
   {
    "duration": 114,
    "start_time": "2023-01-05T08:06:54.129Z"
   },
   {
    "duration": 198,
    "start_time": "2023-01-05T08:06:54.245Z"
   },
   {
    "duration": 63,
    "start_time": "2023-01-05T08:10:34.492Z"
   },
   {
    "duration": 64,
    "start_time": "2023-01-05T08:11:19.937Z"
   },
   {
    "duration": 68,
    "start_time": "2023-01-05T08:11:49.827Z"
   },
   {
    "duration": 59,
    "start_time": "2023-01-05T08:12:31.480Z"
   },
   {
    "duration": 65,
    "start_time": "2023-01-05T08:12:58.135Z"
   },
   {
    "duration": 63,
    "start_time": "2023-01-05T08:13:11.608Z"
   },
   {
    "duration": 68,
    "start_time": "2023-01-05T08:13:28.575Z"
   },
   {
    "duration": 97,
    "start_time": "2023-01-05T08:15:13.274Z"
   },
   {
    "duration": 13,
    "start_time": "2023-01-05T08:16:22.475Z"
   },
   {
    "duration": 6,
    "start_time": "2023-01-05T08:22:55.945Z"
   },
   {
    "duration": 4,
    "start_time": "2023-01-05T08:23:41.499Z"
   },
   {
    "duration": 5,
    "start_time": "2023-01-05T08:23:44.931Z"
   },
   {
    "duration": 76,
    "start_time": "2023-01-05T08:24:41.204Z"
   },
   {
    "duration": 3,
    "start_time": "2023-01-05T08:24:48.812Z"
   },
   {
    "duration": 6,
    "start_time": "2023-01-05T08:24:53.500Z"
   },
   {
    "duration": 4,
    "start_time": "2023-01-05T08:25:08.613Z"
   },
   {
    "duration": 3,
    "start_time": "2023-01-05T08:25:14.324Z"
   },
   {
    "duration": 5,
    "start_time": "2023-01-05T08:25:17.484Z"
   },
   {
    "duration": 13,
    "start_time": "2023-01-05T08:46:47.979Z"
   },
   {
    "duration": 13,
    "start_time": "2023-01-05T08:47:40.805Z"
   },
   {
    "duration": 13,
    "start_time": "2023-01-05T08:48:11.237Z"
   },
   {
    "duration": 1029,
    "start_time": "2023-01-05T08:50:16.844Z"
   },
   {
    "duration": 76,
    "start_time": "2023-01-05T08:50:17.875Z"
   },
   {
    "duration": 17,
    "start_time": "2023-01-05T08:50:17.953Z"
   },
   {
    "duration": 6,
    "start_time": "2023-01-05T08:50:17.972Z"
   },
   {
    "duration": 51,
    "start_time": "2023-01-05T08:50:17.980Z"
   },
   {
    "duration": 91,
    "start_time": "2023-01-05T08:50:18.033Z"
   },
   {
    "duration": 113,
    "start_time": "2023-01-05T08:50:18.125Z"
   },
   {
    "duration": 89,
    "start_time": "2023-01-05T08:50:18.240Z"
   },
   {
    "duration": 14,
    "start_time": "2023-01-05T08:51:14.448Z"
   },
   {
    "duration": 3,
    "start_time": "2023-01-05T08:51:22.746Z"
   },
   {
    "duration": 84,
    "start_time": "2023-01-05T08:51:22.751Z"
   },
   {
    "duration": 14,
    "start_time": "2023-01-05T08:51:22.837Z"
   },
   {
    "duration": 15,
    "start_time": "2023-01-05T08:52:21.794Z"
   },
   {
    "duration": 2,
    "start_time": "2023-01-05T08:52:46.645Z"
   },
   {
    "duration": 65,
    "start_time": "2023-01-05T08:52:46.649Z"
   },
   {
    "duration": 6,
    "start_time": "2023-01-05T08:52:46.715Z"
   },
   {
    "duration": 13,
    "start_time": "2023-01-05T08:52:46.722Z"
   },
   {
    "duration": 2,
    "start_time": "2023-01-05T08:53:04.433Z"
   },
   {
    "duration": 68,
    "start_time": "2023-01-05T08:53:04.437Z"
   },
   {
    "duration": 5,
    "start_time": "2023-01-05T08:53:04.507Z"
   },
   {
    "duration": 18,
    "start_time": "2023-01-05T08:53:04.514Z"
   },
   {
    "duration": 3,
    "start_time": "2023-01-05T08:56:38.596Z"
   },
   {
    "duration": 69,
    "start_time": "2023-01-05T08:56:38.601Z"
   },
   {
    "duration": 112,
    "start_time": "2023-01-05T08:56:38.672Z"
   },
   {
    "duration": 0,
    "start_time": "2023-01-05T08:56:38.785Z"
   },
   {
    "duration": 3184,
    "start_time": "2023-01-05T09:01:00.867Z"
   },
   {
    "duration": 3,
    "start_time": "2023-01-05T09:01:40.211Z"
   },
   {
    "duration": 68,
    "start_time": "2023-01-05T09:01:40.216Z"
   },
   {
    "duration": 10,
    "start_time": "2023-01-05T09:01:40.285Z"
   },
   {
    "duration": 23,
    "start_time": "2023-01-05T09:01:40.297Z"
   },
   {
    "duration": 8,
    "start_time": "2023-01-05T09:02:04.699Z"
   },
   {
    "duration": 10,
    "start_time": "2023-01-05T09:02:12.428Z"
   },
   {
    "duration": 2,
    "start_time": "2023-01-05T09:02:18.737Z"
   },
   {
    "duration": 99,
    "start_time": "2023-01-05T09:02:18.741Z"
   },
   {
    "duration": 9,
    "start_time": "2023-01-05T09:02:18.842Z"
   },
   {
    "duration": 53,
    "start_time": "2023-01-05T09:02:18.852Z"
   },
   {
    "duration": 3,
    "start_time": "2023-01-05T09:05:52.400Z"
   },
   {
    "duration": 88,
    "start_time": "2023-01-05T09:05:52.404Z"
   },
   {
    "duration": 13,
    "start_time": "2023-01-05T09:05:52.493Z"
   },
   {
    "duration": 0,
    "start_time": "2023-01-05T09:05:52.507Z"
   },
   {
    "duration": 3,
    "start_time": "2023-01-05T09:07:30.294Z"
   },
   {
    "duration": 91,
    "start_time": "2023-01-05T09:07:30.300Z"
   },
   {
    "duration": 10,
    "start_time": "2023-01-05T09:07:30.393Z"
   },
   {
    "duration": 39,
    "start_time": "2023-01-05T09:07:30.405Z"
   },
   {
    "duration": 4,
    "start_time": "2023-01-05T09:09:49.781Z"
   },
   {
    "duration": 102,
    "start_time": "2023-01-05T09:09:49.787Z"
   },
   {
    "duration": 11,
    "start_time": "2023-01-05T09:09:49.891Z"
   },
   {
    "duration": 46,
    "start_time": "2023-01-05T09:09:49.905Z"
   },
   {
    "duration": 3,
    "start_time": "2023-01-05T09:10:18.110Z"
   },
   {
    "duration": 81,
    "start_time": "2023-01-05T09:10:18.116Z"
   },
   {
    "duration": 9,
    "start_time": "2023-01-05T09:10:18.198Z"
   },
   {
    "duration": 0,
    "start_time": "2023-01-05T09:10:18.209Z"
   },
   {
    "duration": 3,
    "start_time": "2023-01-05T09:12:22.543Z"
   },
   {
    "duration": 72,
    "start_time": "2023-01-05T09:12:22.548Z"
   },
   {
    "duration": 13,
    "start_time": "2023-01-05T09:12:22.621Z"
   },
   {
    "duration": 0,
    "start_time": "2023-01-05T09:12:22.635Z"
   },
   {
    "duration": 3,
    "start_time": "2023-01-05T09:12:49.411Z"
   },
   {
    "duration": 69,
    "start_time": "2023-01-05T09:12:49.416Z"
   },
   {
    "duration": 17,
    "start_time": "2023-01-05T09:12:49.487Z"
   },
   {
    "duration": 0,
    "start_time": "2023-01-05T09:12:49.505Z"
   },
   {
    "duration": 3,
    "start_time": "2023-01-05T09:13:33.331Z"
   },
   {
    "duration": 66,
    "start_time": "2023-01-05T09:13:33.336Z"
   },
   {
    "duration": 19,
    "start_time": "2023-01-05T09:13:33.404Z"
   },
   {
    "duration": 0,
    "start_time": "2023-01-05T09:13:33.424Z"
   },
   {
    "duration": 3,
    "start_time": "2023-01-05T09:13:59.393Z"
   },
   {
    "duration": 83,
    "start_time": "2023-01-05T09:13:59.399Z"
   },
   {
    "duration": 9,
    "start_time": "2023-01-05T09:13:59.484Z"
   },
   {
    "duration": 14,
    "start_time": "2023-01-05T09:13:59.495Z"
   },
   {
    "duration": 4,
    "start_time": "2023-01-05T09:14:15.843Z"
   },
   {
    "duration": 79,
    "start_time": "2023-01-05T09:14:15.850Z"
   },
   {
    "duration": 16,
    "start_time": "2023-01-05T09:14:15.931Z"
   },
   {
    "duration": 0,
    "start_time": "2023-01-05T09:14:15.949Z"
   },
   {
    "duration": 3,
    "start_time": "2023-01-05T09:14:24.183Z"
   },
   {
    "duration": 111,
    "start_time": "2023-01-05T09:14:24.188Z"
   },
   {
    "duration": 26,
    "start_time": "2023-01-05T09:14:24.301Z"
   },
   {
    "duration": 28,
    "start_time": "2023-01-05T09:14:24.329Z"
   },
   {
    "duration": 3,
    "start_time": "2023-01-05T09:22:15.010Z"
   },
   {
    "duration": 83,
    "start_time": "2023-01-05T09:22:15.015Z"
   },
   {
    "duration": 16,
    "start_time": "2023-01-05T09:22:15.099Z"
   },
   {
    "duration": 33,
    "start_time": "2023-01-05T09:22:15.117Z"
   },
   {
    "duration": 2,
    "start_time": "2023-01-05T09:22:53.604Z"
   },
   {
    "duration": 95,
    "start_time": "2023-01-05T09:22:53.608Z"
   },
   {
    "duration": 16,
    "start_time": "2023-01-05T09:22:53.705Z"
   },
   {
    "duration": 25,
    "start_time": "2023-01-05T09:22:53.723Z"
   },
   {
    "duration": 3,
    "start_time": "2023-01-05T09:24:32.759Z"
   },
   {
    "duration": 95,
    "start_time": "2023-01-05T09:24:32.764Z"
   },
   {
    "duration": 9,
    "start_time": "2023-01-05T09:24:32.861Z"
   },
   {
    "duration": 29,
    "start_time": "2023-01-05T09:24:32.871Z"
   },
   {
    "duration": 3,
    "start_time": "2023-01-05T09:30:37.958Z"
   },
   {
    "duration": 65,
    "start_time": "2023-01-05T09:30:37.963Z"
   },
   {
    "duration": 9,
    "start_time": "2023-01-05T09:30:38.030Z"
   },
   {
    "duration": 12,
    "start_time": "2023-01-05T09:30:38.041Z"
   },
   {
    "duration": 4,
    "start_time": "2023-01-05T09:30:54.062Z"
   },
   {
    "duration": 77,
    "start_time": "2023-01-05T09:30:54.068Z"
   },
   {
    "duration": 11,
    "start_time": "2023-01-05T09:30:54.147Z"
   },
   {
    "duration": 19,
    "start_time": "2023-01-05T09:30:54.161Z"
   },
   {
    "duration": 2,
    "start_time": "2023-01-05T09:32:49.414Z"
   },
   {
    "duration": 66,
    "start_time": "2023-01-05T09:32:49.418Z"
   },
   {
    "duration": 10,
    "start_time": "2023-01-05T09:32:49.486Z"
   },
   {
    "duration": 12,
    "start_time": "2023-01-05T09:32:49.498Z"
   },
   {
    "duration": 2,
    "start_time": "2023-01-05T09:38:01.251Z"
   },
   {
    "duration": 84,
    "start_time": "2023-01-05T09:38:01.255Z"
   },
   {
    "duration": 21,
    "start_time": "2023-01-05T09:38:01.341Z"
   },
   {
    "duration": 0,
    "start_time": "2023-01-05T09:38:01.364Z"
   },
   {
    "duration": 3,
    "start_time": "2023-01-05T09:38:22.556Z"
   },
   {
    "duration": 67,
    "start_time": "2023-01-05T09:38:22.561Z"
   },
   {
    "duration": 360,
    "start_time": "2023-01-05T09:38:22.629Z"
   },
   {
    "duration": 13,
    "start_time": "2023-01-05T09:38:22.991Z"
   },
   {
    "duration": 3,
    "start_time": "2023-01-05T09:41:32.812Z"
   },
   {
    "duration": 66,
    "start_time": "2023-01-05T09:41:32.817Z"
   },
   {
    "duration": 72,
    "start_time": "2023-01-05T09:41:32.885Z"
   },
   {
    "duration": 0,
    "start_time": "2023-01-05T09:41:32.959Z"
   },
   {
    "duration": 3,
    "start_time": "2023-01-05T09:43:38.971Z"
   },
   {
    "duration": 77,
    "start_time": "2023-01-05T09:43:38.975Z"
   },
   {
    "duration": 101,
    "start_time": "2023-01-05T09:43:39.053Z"
   },
   {
    "duration": 0,
    "start_time": "2023-01-05T09:43:39.156Z"
   },
   {
    "duration": 3,
    "start_time": "2023-01-05T09:44:06.669Z"
   },
   {
    "duration": 77,
    "start_time": "2023-01-05T09:44:06.674Z"
   },
   {
    "duration": 8,
    "start_time": "2023-01-05T09:44:06.752Z"
   },
   {
    "duration": 18,
    "start_time": "2023-01-05T09:44:06.762Z"
   },
   {
    "duration": 3,
    "start_time": "2023-01-05T09:44:57.438Z"
   },
   {
    "duration": 92,
    "start_time": "2023-01-05T09:44:57.444Z"
   },
   {
    "duration": 8,
    "start_time": "2023-01-05T09:44:57.539Z"
   },
   {
    "duration": 35,
    "start_time": "2023-01-05T09:44:57.550Z"
   },
   {
    "duration": 3,
    "start_time": "2023-01-05T09:45:07.630Z"
   },
   {
    "duration": 87,
    "start_time": "2023-01-05T09:45:07.635Z"
   },
   {
    "duration": 9,
    "start_time": "2023-01-05T09:45:07.724Z"
   },
   {
    "duration": 25,
    "start_time": "2023-01-05T09:45:07.735Z"
   },
   {
    "duration": 4,
    "start_time": "2023-01-05T09:45:25.839Z"
   },
   {
    "duration": 75,
    "start_time": "2023-01-05T09:45:25.845Z"
   },
   {
    "duration": 10,
    "start_time": "2023-01-05T09:45:25.922Z"
   },
   {
    "duration": 14,
    "start_time": "2023-01-05T09:45:25.933Z"
   },
   {
    "duration": 3,
    "start_time": "2023-01-05T09:46:10.650Z"
   },
   {
    "duration": 82,
    "start_time": "2023-01-05T09:46:10.655Z"
   },
   {
    "duration": 14,
    "start_time": "2023-01-05T09:46:10.740Z"
   },
   {
    "duration": 13,
    "start_time": "2023-01-05T09:46:10.756Z"
   },
   {
    "duration": 3,
    "start_time": "2023-01-05T09:55:38.823Z"
   },
   {
    "duration": 65,
    "start_time": "2023-01-05T09:55:38.828Z"
   },
   {
    "duration": 21,
    "start_time": "2023-01-05T09:55:38.895Z"
   },
   {
    "duration": 0,
    "start_time": "2023-01-05T09:55:38.917Z"
   },
   {
    "duration": 3,
    "start_time": "2023-01-05T09:56:05.452Z"
   },
   {
    "duration": 72,
    "start_time": "2023-01-05T09:56:05.457Z"
   },
   {
    "duration": 11,
    "start_time": "2023-01-05T09:56:05.530Z"
   },
   {
    "duration": 16,
    "start_time": "2023-01-05T09:56:05.543Z"
   },
   {
    "duration": 2,
    "start_time": "2023-01-05T09:56:25.540Z"
   },
   {
    "duration": 68,
    "start_time": "2023-01-05T09:56:25.544Z"
   },
   {
    "duration": 16,
    "start_time": "2023-01-05T09:56:25.614Z"
   },
   {
    "duration": 14,
    "start_time": "2023-01-05T09:56:25.632Z"
   },
   {
    "duration": 3,
    "start_time": "2023-01-05T09:56:47.648Z"
   },
   {
    "duration": 72,
    "start_time": "2023-01-05T09:56:47.653Z"
   },
   {
    "duration": 12,
    "start_time": "2023-01-05T09:56:47.727Z"
   },
   {
    "duration": 13,
    "start_time": "2023-01-05T09:56:47.741Z"
   },
   {
    "duration": 3,
    "start_time": "2023-01-05T09:57:06.015Z"
   },
   {
    "duration": 104,
    "start_time": "2023-01-05T09:57:06.020Z"
   },
   {
    "duration": 17,
    "start_time": "2023-01-05T09:57:06.126Z"
   },
   {
    "duration": 17,
    "start_time": "2023-01-05T09:57:06.146Z"
   },
   {
    "duration": 4,
    "start_time": "2023-01-05T09:57:18.921Z"
   },
   {
    "duration": 79,
    "start_time": "2023-01-05T09:57:18.927Z"
   },
   {
    "duration": 20,
    "start_time": "2023-01-05T09:57:19.008Z"
   },
   {
    "duration": 15,
    "start_time": "2023-01-05T09:57:19.030Z"
   },
   {
    "duration": 3,
    "start_time": "2023-01-05T09:58:39.703Z"
   },
   {
    "duration": 115,
    "start_time": "2023-01-05T09:58:39.708Z"
   },
   {
    "duration": 19,
    "start_time": "2023-01-05T09:58:39.826Z"
   },
   {
    "duration": 0,
    "start_time": "2023-01-05T09:58:39.847Z"
   },
   {
    "duration": 3,
    "start_time": "2023-01-05T09:59:41.721Z"
   },
   {
    "duration": 79,
    "start_time": "2023-01-05T09:59:41.726Z"
   },
   {
    "duration": 18,
    "start_time": "2023-01-05T09:59:41.806Z"
   },
   {
    "duration": 16,
    "start_time": "2023-01-05T09:59:41.826Z"
   },
   {
    "duration": 4,
    "start_time": "2023-01-05T10:00:05.000Z"
   },
   {
    "duration": 78,
    "start_time": "2023-01-05T10:00:05.006Z"
   },
   {
    "duration": 16,
    "start_time": "2023-01-05T10:00:05.085Z"
   },
   {
    "duration": 0,
    "start_time": "2023-01-05T10:00:05.102Z"
   },
   {
    "duration": 5,
    "start_time": "2023-01-05T10:10:24.144Z"
   },
   {
    "duration": 122,
    "start_time": "2023-01-05T10:10:24.152Z"
   },
   {
    "duration": 46,
    "start_time": "2023-01-05T10:10:24.276Z"
   },
   {
    "duration": 17,
    "start_time": "2023-01-05T10:10:24.325Z"
   },
   {
    "duration": 4,
    "start_time": "2023-01-05T10:11:50.909Z"
   },
   {
    "duration": 92,
    "start_time": "2023-01-05T10:11:50.916Z"
   },
   {
    "duration": 22,
    "start_time": "2023-01-05T10:11:51.011Z"
   },
   {
    "duration": 0,
    "start_time": "2023-01-05T10:11:51.035Z"
   },
   {
    "duration": 3,
    "start_time": "2023-01-05T10:12:06.847Z"
   },
   {
    "duration": 82,
    "start_time": "2023-01-05T10:12:06.854Z"
   },
   {
    "duration": 13,
    "start_time": "2023-01-05T10:12:06.938Z"
   },
   {
    "duration": 14,
    "start_time": "2023-01-05T10:12:06.953Z"
   },
   {
    "duration": 3,
    "start_time": "2023-01-05T10:12:20.424Z"
   },
   {
    "duration": 71,
    "start_time": "2023-01-05T10:12:20.429Z"
   },
   {
    "duration": 22,
    "start_time": "2023-01-05T10:12:20.502Z"
   },
   {
    "duration": 14,
    "start_time": "2023-01-05T10:12:20.527Z"
   },
   {
    "duration": 2,
    "start_time": "2023-01-05T10:15:11.045Z"
   },
   {
    "duration": 86,
    "start_time": "2023-01-05T10:15:11.049Z"
   },
   {
    "duration": 16,
    "start_time": "2023-01-05T10:15:11.136Z"
   },
   {
    "duration": 17,
    "start_time": "2023-01-05T10:15:11.153Z"
   },
   {
    "duration": 3,
    "start_time": "2023-01-05T10:31:17.124Z"
   },
   {
    "duration": 68,
    "start_time": "2023-01-05T10:31:17.129Z"
   },
   {
    "duration": 14,
    "start_time": "2023-01-05T10:31:17.199Z"
   },
   {
    "duration": 12,
    "start_time": "2023-01-05T10:31:17.215Z"
   },
   {
    "duration": 20,
    "start_time": "2023-01-05T10:32:41.266Z"
   },
   {
    "duration": 1059,
    "start_time": "2023-01-05T10:32:50.344Z"
   },
   {
    "duration": 71,
    "start_time": "2023-01-05T10:32:51.405Z"
   },
   {
    "duration": 111,
    "start_time": "2023-01-05T10:32:51.477Z"
   },
   {
    "duration": 0,
    "start_time": "2023-01-05T10:32:51.590Z"
   },
   {
    "duration": 0,
    "start_time": "2023-01-05T10:32:51.591Z"
   },
   {
    "duration": 0,
    "start_time": "2023-01-05T10:32:51.592Z"
   },
   {
    "duration": 0,
    "start_time": "2023-01-05T10:32:51.594Z"
   },
   {
    "duration": 0,
    "start_time": "2023-01-05T10:32:51.595Z"
   },
   {
    "duration": 0,
    "start_time": "2023-01-05T10:32:51.597Z"
   },
   {
    "duration": 1165,
    "start_time": "2023-01-05T10:33:13.391Z"
   },
   {
    "duration": 72,
    "start_time": "2023-01-05T10:33:14.558Z"
   },
   {
    "duration": 16,
    "start_time": "2023-01-05T10:33:14.631Z"
   },
   {
    "duration": 17,
    "start_time": "2023-01-05T10:33:14.649Z"
   },
   {
    "duration": 11,
    "start_time": "2023-01-05T10:33:14.667Z"
   },
   {
    "duration": 48,
    "start_time": "2023-01-05T10:33:14.680Z"
   },
   {
    "duration": 95,
    "start_time": "2023-01-05T10:33:14.730Z"
   },
   {
    "duration": 100,
    "start_time": "2023-01-05T10:33:14.827Z"
   },
   {
    "duration": 94,
    "start_time": "2023-01-05T10:33:14.929Z"
   },
   {
    "duration": 1045,
    "start_time": "2023-01-05T10:57:37.458Z"
   },
   {
    "duration": 72,
    "start_time": "2023-01-05T10:57:38.505Z"
   },
   {
    "duration": 19,
    "start_time": "2023-01-05T10:57:38.579Z"
   },
   {
    "duration": 28,
    "start_time": "2023-01-05T10:57:38.600Z"
   },
   {
    "duration": 6,
    "start_time": "2023-01-05T10:57:38.630Z"
   },
   {
    "duration": 18,
    "start_time": "2023-01-05T10:57:38.638Z"
   },
   {
    "duration": 10,
    "start_time": "2023-01-05T10:57:38.723Z"
   },
   {
    "duration": 189,
    "start_time": "2023-01-05T10:57:38.735Z"
   },
   {
    "duration": 127,
    "start_time": "2023-01-05T10:57:38.925Z"
   },
   {
    "duration": 1114,
    "start_time": "2023-01-05T14:58:20.923Z"
   },
   {
    "duration": 78,
    "start_time": "2023-01-05T14:58:22.039Z"
   },
   {
    "duration": 21,
    "start_time": "2023-01-05T14:58:22.121Z"
   },
   {
    "duration": 14,
    "start_time": "2023-01-05T14:58:22.144Z"
   },
   {
    "duration": 25,
    "start_time": "2023-01-05T14:58:22.159Z"
   },
   {
    "duration": 46,
    "start_time": "2023-01-05T14:58:22.186Z"
   },
   {
    "duration": 94,
    "start_time": "2023-01-05T14:58:22.234Z"
   },
   {
    "duration": 194,
    "start_time": "2023-01-05T14:58:22.332Z"
   },
   {
    "duration": 102,
    "start_time": "2023-01-05T14:58:22.530Z"
   },
   {
    "duration": 1084,
    "start_time": "2023-01-05T15:27:20.841Z"
   },
   {
    "duration": 125,
    "start_time": "2023-01-05T15:27:21.927Z"
   },
   {
    "duration": 21,
    "start_time": "2023-01-05T15:27:22.054Z"
   },
   {
    "duration": 44,
    "start_time": "2023-01-05T15:27:22.078Z"
   },
   {
    "duration": 8,
    "start_time": "2023-01-05T15:27:22.124Z"
   },
   {
    "duration": 138,
    "start_time": "2023-01-05T15:27:22.134Z"
   },
   {
    "duration": 0,
    "start_time": "2023-01-05T15:27:22.273Z"
   },
   {
    "duration": 0,
    "start_time": "2023-01-05T15:27:22.275Z"
   },
   {
    "duration": 0,
    "start_time": "2023-01-05T15:27:22.277Z"
   },
   {
    "duration": 10,
    "start_time": "2023-01-05T15:27:58.845Z"
   },
   {
    "duration": 9,
    "start_time": "2023-01-05T15:28:09.604Z"
   },
   {
    "duration": 10,
    "start_time": "2023-01-05T15:28:16.229Z"
   },
   {
    "duration": 10,
    "start_time": "2023-01-05T15:29:31.999Z"
   },
   {
    "duration": 10,
    "start_time": "2023-01-05T15:29:52.313Z"
   },
   {
    "duration": 11,
    "start_time": "2023-01-05T15:30:20.176Z"
   },
   {
    "duration": 6,
    "start_time": "2023-01-05T15:30:52.432Z"
   },
   {
    "duration": 9,
    "start_time": "2023-01-05T15:32:09.761Z"
   },
   {
    "duration": 17,
    "start_time": "2023-01-05T15:32:35.820Z"
   },
   {
    "duration": 5,
    "start_time": "2023-01-05T15:32:44.370Z"
   },
   {
    "duration": 5,
    "start_time": "2023-01-05T15:32:55.905Z"
   },
   {
    "duration": 8,
    "start_time": "2023-01-05T15:32:59.778Z"
   },
   {
    "duration": 10,
    "start_time": "2023-01-05T15:33:56.596Z"
   },
   {
    "duration": 10,
    "start_time": "2023-01-05T15:34:05.180Z"
   },
   {
    "duration": 7,
    "start_time": "2023-01-05T15:34:14.732Z"
   },
   {
    "duration": 1046,
    "start_time": "2023-01-05T15:35:25.673Z"
   },
   {
    "duration": 78,
    "start_time": "2023-01-05T15:35:26.721Z"
   },
   {
    "duration": 24,
    "start_time": "2023-01-05T15:35:26.802Z"
   },
   {
    "duration": 20,
    "start_time": "2023-01-05T15:35:26.829Z"
   },
   {
    "duration": 8,
    "start_time": "2023-01-05T15:35:26.851Z"
   },
   {
    "duration": 22,
    "start_time": "2023-01-05T15:35:26.861Z"
   },
   {
    "duration": 17,
    "start_time": "2023-01-05T15:35:26.913Z"
   },
   {
    "duration": 88,
    "start_time": "2023-01-05T15:35:26.931Z"
   },
   {
    "duration": 105,
    "start_time": "2023-01-05T15:35:27.021Z"
   },
   {
    "duration": 1041,
    "start_time": "2023-01-05T15:35:54.924Z"
   },
   {
    "duration": 71,
    "start_time": "2023-01-05T15:35:55.967Z"
   },
   {
    "duration": 19,
    "start_time": "2023-01-05T15:35:56.040Z"
   },
   {
    "duration": 13,
    "start_time": "2023-01-05T15:35:56.061Z"
   },
   {
    "duration": 23,
    "start_time": "2023-01-05T15:35:56.075Z"
   },
   {
    "duration": 9,
    "start_time": "2023-01-05T15:35:56.112Z"
   },
   {
    "duration": 17,
    "start_time": "2023-01-05T15:35:56.123Z"
   },
   {
    "duration": 181,
    "start_time": "2023-01-05T15:35:56.142Z"
   },
   {
    "duration": 199,
    "start_time": "2023-01-05T15:35:56.326Z"
   },
   {
    "duration": 299,
    "start_time": "2023-01-05T15:41:32.818Z"
   },
   {
    "duration": 196,
    "start_time": "2023-01-05T15:43:19.869Z"
   },
   {
    "duration": 5,
    "start_time": "2023-01-05T15:46:05.155Z"
   },
   {
    "duration": 18,
    "start_time": "2023-01-05T15:46:11.471Z"
   },
   {
    "duration": 11,
    "start_time": "2023-01-05T15:46:50.264Z"
   },
   {
    "duration": 9,
    "start_time": "2023-01-05T15:47:54.248Z"
   },
   {
    "duration": 76,
    "start_time": "2023-01-05T15:48:15.241Z"
   },
   {
    "duration": 16,
    "start_time": "2023-01-05T15:49:22.810Z"
   },
   {
    "duration": 1091,
    "start_time": "2023-01-05T15:55:21.895Z"
   },
   {
    "duration": 74,
    "start_time": "2023-01-05T15:55:22.988Z"
   },
   {
    "duration": 16,
    "start_time": "2023-01-05T15:55:23.063Z"
   },
   {
    "duration": 32,
    "start_time": "2023-01-05T15:55:23.081Z"
   },
   {
    "duration": 6,
    "start_time": "2023-01-05T15:55:23.114Z"
   },
   {
    "duration": 10,
    "start_time": "2023-01-05T15:55:23.121Z"
   },
   {
    "duration": 85,
    "start_time": "2023-01-05T15:55:23.132Z"
   },
   {
    "duration": 111,
    "start_time": "2023-01-05T15:55:23.220Z"
   },
   {
    "duration": 86,
    "start_time": "2023-01-05T15:55:23.334Z"
   },
   {
    "duration": 105,
    "start_time": "2023-01-05T15:55:23.423Z"
   },
   {
    "duration": 1222,
    "start_time": "2023-01-07T18:56:29.374Z"
   },
   {
    "duration": 179,
    "start_time": "2023-01-07T18:56:30.599Z"
   },
   {
    "duration": 19,
    "start_time": "2023-01-07T18:56:30.780Z"
   },
   {
    "duration": 15,
    "start_time": "2023-01-07T18:56:30.802Z"
   },
   {
    "duration": 36,
    "start_time": "2023-01-07T18:56:30.818Z"
   },
   {
    "duration": 26,
    "start_time": "2023-01-07T18:56:30.856Z"
   },
   {
    "duration": 71,
    "start_time": "2023-01-07T18:56:30.884Z"
   },
   {
    "duration": 106,
    "start_time": "2023-01-07T18:56:30.958Z"
   },
   {
    "duration": 189,
    "start_time": "2023-01-07T18:56:31.067Z"
   },
   {
    "duration": 21,
    "start_time": "2023-01-07T18:56:31.259Z"
   },
   {
    "duration": 13,
    "start_time": "2023-01-07T20:01:37.858Z"
   },
   {
    "duration": 12,
    "start_time": "2023-01-07T20:01:52.253Z"
   },
   {
    "duration": 183,
    "start_time": "2023-01-07T20:18:11.535Z"
   },
   {
    "duration": 94,
    "start_time": "2023-01-07T20:18:21.569Z"
   },
   {
    "duration": 104,
    "start_time": "2023-01-07T20:18:34.712Z"
   },
   {
    "duration": 23,
    "start_time": "2023-01-07T20:23:36.046Z"
   },
   {
    "duration": 1182,
    "start_time": "2023-01-07T20:23:47.923Z"
   },
   {
    "duration": 92,
    "start_time": "2023-01-07T20:23:49.107Z"
   },
   {
    "duration": 25,
    "start_time": "2023-01-07T20:23:49.201Z"
   },
   {
    "duration": 16,
    "start_time": "2023-01-07T20:23:49.252Z"
   },
   {
    "duration": 8,
    "start_time": "2023-01-07T20:23:49.270Z"
   },
   {
    "duration": 76,
    "start_time": "2023-01-07T20:23:49.280Z"
   },
   {
    "duration": 107,
    "start_time": "2023-01-07T20:23:49.358Z"
   },
   {
    "duration": 8,
    "start_time": "2023-01-07T20:23:49.552Z"
   },
   {
    "duration": 202,
    "start_time": "2023-01-07T20:23:49.563Z"
   },
   {
    "duration": 21,
    "start_time": "2023-01-07T20:23:49.768Z"
   },
   {
    "duration": 18,
    "start_time": "2023-01-07T20:25:09.044Z"
   },
   {
    "duration": 20,
    "start_time": "2023-01-07T20:25:12.710Z"
   },
   {
    "duration": 11,
    "start_time": "2023-01-07T20:25:15.976Z"
   },
   {
    "duration": 12,
    "start_time": "2023-01-07T20:25:20.799Z"
   },
   {
    "duration": 17,
    "start_time": "2023-01-07T20:25:21.910Z"
   },
   {
    "duration": 16,
    "start_time": "2023-01-07T20:25:42.771Z"
   },
   {
    "duration": 18,
    "start_time": "2023-01-07T20:27:01.217Z"
   },
   {
    "duration": 1218,
    "start_time": "2023-01-07T20:27:23.610Z"
   },
   {
    "duration": 87,
    "start_time": "2023-01-07T20:27:24.830Z"
   },
   {
    "duration": 18,
    "start_time": "2023-01-07T20:27:24.919Z"
   },
   {
    "duration": 32,
    "start_time": "2023-01-07T20:27:24.939Z"
   },
   {
    "duration": 9,
    "start_time": "2023-01-07T20:27:24.973Z"
   },
   {
    "duration": 18,
    "start_time": "2023-01-07T20:27:24.984Z"
   },
   {
    "duration": 204,
    "start_time": "2023-01-07T20:27:25.051Z"
   },
   {
    "duration": 199,
    "start_time": "2023-01-07T20:27:25.256Z"
   },
   {
    "duration": 101,
    "start_time": "2023-01-07T20:27:25.463Z"
   },
   {
    "duration": 27,
    "start_time": "2023-01-07T20:27:25.566Z"
   },
   {
    "duration": 11,
    "start_time": "2023-01-07T20:32:20.885Z"
   },
   {
    "duration": 1204,
    "start_time": "2023-01-07T20:32:31.038Z"
   },
   {
    "duration": 246,
    "start_time": "2023-01-07T20:32:32.244Z"
   },
   {
    "duration": 19,
    "start_time": "2023-01-07T20:32:32.492Z"
   },
   {
    "duration": 20,
    "start_time": "2023-01-07T20:32:32.513Z"
   },
   {
    "duration": 9,
    "start_time": "2023-01-07T20:32:32.558Z"
   },
   {
    "duration": 42,
    "start_time": "2023-01-07T20:32:32.569Z"
   },
   {
    "duration": 54,
    "start_time": "2023-01-07T20:32:32.614Z"
   },
   {
    "duration": 204,
    "start_time": "2023-01-07T20:32:32.672Z"
   },
   {
    "duration": 181,
    "start_time": "2023-01-07T20:32:32.878Z"
   },
   {
    "duration": 20,
    "start_time": "2023-01-07T20:32:33.061Z"
   },
   {
    "duration": 20,
    "start_time": "2023-01-07T20:33:13.339Z"
   },
   {
    "duration": 9,
    "start_time": "2023-01-07T20:33:18.842Z"
   },
   {
    "duration": 1881,
    "start_time": "2023-01-07T20:39:03.106Z"
   },
   {
    "duration": 91,
    "start_time": "2023-01-07T20:39:04.989Z"
   },
   {
    "duration": 18,
    "start_time": "2023-01-07T20:39:05.082Z"
   },
   {
    "duration": 19,
    "start_time": "2023-01-07T20:39:05.102Z"
   },
   {
    "duration": 16,
    "start_time": "2023-01-07T20:39:05.151Z"
   },
   {
    "duration": 21,
    "start_time": "2023-01-07T20:39:05.169Z"
   },
   {
    "duration": 163,
    "start_time": "2023-01-07T20:39:05.193Z"
   },
   {
    "duration": 116,
    "start_time": "2023-01-07T20:39:05.359Z"
   },
   {
    "duration": 188,
    "start_time": "2023-01-07T20:39:05.477Z"
   },
   {
    "duration": 21,
    "start_time": "2023-01-07T20:39:05.668Z"
   },
   {
    "duration": 1232,
    "start_time": "2023-01-08T07:20:34.309Z"
   },
   {
    "duration": 114,
    "start_time": "2023-01-08T07:20:35.543Z"
   },
   {
    "duration": 20,
    "start_time": "2023-01-08T07:20:35.659Z"
   },
   {
    "duration": 40,
    "start_time": "2023-01-08T07:20:35.682Z"
   },
   {
    "duration": 7,
    "start_time": "2023-01-08T07:20:35.724Z"
   },
   {
    "duration": 17,
    "start_time": "2023-01-08T07:20:35.733Z"
   },
   {
    "duration": 177,
    "start_time": "2023-01-08T07:20:35.752Z"
   },
   {
    "duration": 111,
    "start_time": "2023-01-08T07:20:35.932Z"
   },
   {
    "duration": 82,
    "start_time": "2023-01-08T07:20:36.049Z"
   },
   {
    "duration": 113,
    "start_time": "2023-01-08T07:20:36.133Z"
   }
  ],
  "kernelspec": {
   "display_name": "Python 3 (ipykernel)",
   "language": "python",
   "name": "python3"
  },
  "language_info": {
   "codemirror_mode": {
    "name": "ipython",
    "version": 3
   },
   "file_extension": ".py",
   "mimetype": "text/x-python",
   "name": "python",
   "nbconvert_exporter": "python",
   "pygments_lexer": "ipython3",
   "version": "3.9.18"
  },
  "toc": {
   "base_numbering": 1,
   "nav_menu": {},
   "number_sections": true,
   "sideBar": true,
   "skip_h1_title": true,
   "title_cell": "Содержание",
   "title_sidebar": "Contents",
   "toc_cell": true,
   "toc_position": {
    "height": "calc(100% - 180px)",
    "left": "10px",
    "top": "150px",
    "width": "408.889px"
   },
   "toc_section_display": true,
   "toc_window_display": true
  }
 },
 "nbformat": 4,
 "nbformat_minor": 2
}
