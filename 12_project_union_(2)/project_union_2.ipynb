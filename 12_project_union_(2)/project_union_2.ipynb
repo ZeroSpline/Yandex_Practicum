{
 "cells": [
  {
   "cell_type": "markdown",
   "metadata": {},
   "source": [
    "### Шаг 1. Откройте файлы с данными"
   ]
  },
  {
   "cell_type": "code",
   "execution_count": 1,
   "metadata": {},
   "outputs": [],
   "source": [
    "# импорт библиотек\n",
    "import pandas as pd\n",
    "import math\n",
    "import matplotlib.pyplot as plt \n",
    "from sklearn.preprocessing import StandardScaler\n",
    "from sklearn.ensemble import RandomForestClassifier\n",
    "from sklearn.tree import DecisionTreeClassifier\n",
    "from sklearn.linear_model import LogisticRegression \n",
    "from sklearn.model_selection import cross_val_score\n",
    "from sklearn.model_selection import GridSearchCV\n",
    "from sklearn.metrics import f1_score , roc_auc_score, roc_curve "
   ]
  },
  {
   "cell_type": "code",
   "execution_count": 2,
   "metadata": {},
   "outputs": [
    {
     "name": "stdout",
     "output_type": "stream",
     "text": [
      "<class 'pandas.core.frame.DataFrame'>\n",
      "RangeIndex: 65229 entries, 0 to 65228\n",
      "Data columns (total 25 columns):\n",
      " #   Column                          Non-Null Count  Dtype  \n",
      "---  ------                          --------------  -----  \n",
      " 0   id                              65229 non-null  int64  \n",
      " 1   is_canceled                     65229 non-null  int64  \n",
      " 2   lead_time                       65229 non-null  float64\n",
      " 3   arrival_date_year               65229 non-null  int64  \n",
      " 4   arrival_date_month              65229 non-null  object \n",
      " 5   arrival_date_week_number        65229 non-null  int64  \n",
      " 6   arrival_date_day_of_month       65229 non-null  int64  \n",
      " 7   stays_in_weekend_nights         65229 non-null  int64  \n",
      " 8   stays_in_week_nights            65229 non-null  int64  \n",
      " 9   adults                          65229 non-null  float64\n",
      " 10  children                        65229 non-null  float64\n",
      " 11  babies                          65229 non-null  float64\n",
      " 12  meal                            65229 non-null  object \n",
      " 13  country                         65229 non-null  object \n",
      " 14  distribution_channel            65229 non-null  object \n",
      " 15  is_repeated_guest               65229 non-null  int64  \n",
      " 16  previous_cancellations          65229 non-null  int64  \n",
      " 17  previous_bookings_not_canceled  65229 non-null  int64  \n",
      " 18  reserved_room_type              65229 non-null  object \n",
      " 19  booking_changes                 65229 non-null  int64  \n",
      " 20  days_in_waiting_list            65229 non-null  int64  \n",
      " 21  customer_type                   65229 non-null  object \n",
      " 22  required_car_parking_spaces     65229 non-null  int64  \n",
      " 23  total_of_special_requests       65229 non-null  int64  \n",
      " 24  total_nights                    65229 non-null  int64  \n",
      "dtypes: float64(4), int64(15), object(6)\n",
      "memory usage: 12.4+ MB\n"
     ]
    },
    {
     "data": {
      "text/plain": [
       "None"
      ]
     },
     "metadata": {},
     "output_type": "display_data"
    },
    {
     "data": {
      "text/html": [
       "<div>\n",
       "<style scoped>\n",
       "    .dataframe tbody tr th:only-of-type {\n",
       "        vertical-align: middle;\n",
       "    }\n",
       "\n",
       "    .dataframe tbody tr th {\n",
       "        vertical-align: top;\n",
       "    }\n",
       "\n",
       "    .dataframe thead th {\n",
       "        text-align: right;\n",
       "    }\n",
       "</style>\n",
       "<table border=\"1\" class=\"dataframe\">\n",
       "  <thead>\n",
       "    <tr style=\"text-align: right;\">\n",
       "      <th></th>\n",
       "      <th>id</th>\n",
       "      <th>is_canceled</th>\n",
       "      <th>lead_time</th>\n",
       "      <th>arrival_date_year</th>\n",
       "      <th>arrival_date_month</th>\n",
       "      <th>arrival_date_week_number</th>\n",
       "      <th>arrival_date_day_of_month</th>\n",
       "      <th>stays_in_weekend_nights</th>\n",
       "      <th>stays_in_week_nights</th>\n",
       "      <th>adults</th>\n",
       "      <th>children</th>\n",
       "      <th>babies</th>\n",
       "      <th>meal</th>\n",
       "      <th>country</th>\n",
       "      <th>distribution_channel</th>\n",
       "      <th>is_repeated_guest</th>\n",
       "      <th>previous_cancellations</th>\n",
       "      <th>previous_bookings_not_canceled</th>\n",
       "      <th>reserved_room_type</th>\n",
       "      <th>booking_changes</th>\n",
       "      <th>days_in_waiting_list</th>\n",
       "      <th>customer_type</th>\n",
       "      <th>required_car_parking_spaces</th>\n",
       "      <th>total_of_special_requests</th>\n",
       "      <th>total_nights</th>\n",
       "    </tr>\n",
       "  </thead>\n",
       "  <tbody>\n",
       "    <tr>\n",
       "      <th>65226</th>\n",
       "      <td>84094</td>\n",
       "      <td>0</td>\n",
       "      <td>7.0</td>\n",
       "      <td>2016</td>\n",
       "      <td>December</td>\n",
       "      <td>53</td>\n",
       "      <td>31</td>\n",
       "      <td>2</td>\n",
       "      <td>4</td>\n",
       "      <td>2.0</td>\n",
       "      <td>0.0</td>\n",
       "      <td>0.0</td>\n",
       "      <td>BB</td>\n",
       "      <td>FRA</td>\n",
       "      <td>TA/TO</td>\n",
       "      <td>0</td>\n",
       "      <td>0</td>\n",
       "      <td>0</td>\n",
       "      <td>D</td>\n",
       "      <td>0</td>\n",
       "      <td>0</td>\n",
       "      <td>Transient</td>\n",
       "      <td>0</td>\n",
       "      <td>1</td>\n",
       "      <td>6</td>\n",
       "    </tr>\n",
       "    <tr>\n",
       "      <th>65227</th>\n",
       "      <td>84117</td>\n",
       "      <td>0</td>\n",
       "      <td>17.0</td>\n",
       "      <td>2016</td>\n",
       "      <td>December</td>\n",
       "      <td>53</td>\n",
       "      <td>30</td>\n",
       "      <td>2</td>\n",
       "      <td>5</td>\n",
       "      <td>2.0</td>\n",
       "      <td>0.0</td>\n",
       "      <td>0.0</td>\n",
       "      <td>SC</td>\n",
       "      <td>FRA</td>\n",
       "      <td>TA/TO</td>\n",
       "      <td>0</td>\n",
       "      <td>0</td>\n",
       "      <td>0</td>\n",
       "      <td>A</td>\n",
       "      <td>0</td>\n",
       "      <td>0</td>\n",
       "      <td>Transient</td>\n",
       "      <td>0</td>\n",
       "      <td>1</td>\n",
       "      <td>7</td>\n",
       "    </tr>\n",
       "    <tr>\n",
       "      <th>65228</th>\n",
       "      <td>84121</td>\n",
       "      <td>0</td>\n",
       "      <td>107.0</td>\n",
       "      <td>2016</td>\n",
       "      <td>December</td>\n",
       "      <td>53</td>\n",
       "      <td>31</td>\n",
       "      <td>2</td>\n",
       "      <td>5</td>\n",
       "      <td>2.0</td>\n",
       "      <td>0.0</td>\n",
       "      <td>0.0</td>\n",
       "      <td>BB</td>\n",
       "      <td>FRA</td>\n",
       "      <td>TA/TO</td>\n",
       "      <td>0</td>\n",
       "      <td>0</td>\n",
       "      <td>0</td>\n",
       "      <td>A</td>\n",
       "      <td>0</td>\n",
       "      <td>0</td>\n",
       "      <td>Transient</td>\n",
       "      <td>0</td>\n",
       "      <td>0</td>\n",
       "      <td>7</td>\n",
       "    </tr>\n",
       "  </tbody>\n",
       "</table>\n",
       "</div>"
      ],
      "text/plain": [
       "          id  is_canceled  lead_time  arrival_date_year arrival_date_month  \\\n",
       "65226  84094            0        7.0               2016           December   \n",
       "65227  84117            0       17.0               2016           December   \n",
       "65228  84121            0      107.0               2016           December   \n",
       "\n",
       "       arrival_date_week_number  arrival_date_day_of_month  \\\n",
       "65226                        53                         31   \n",
       "65227                        53                         30   \n",
       "65228                        53                         31   \n",
       "\n",
       "       stays_in_weekend_nights  stays_in_week_nights  adults  children  \\\n",
       "65226                        2                     4     2.0       0.0   \n",
       "65227                        2                     5     2.0       0.0   \n",
       "65228                        2                     5     2.0       0.0   \n",
       "\n",
       "       babies       meal country distribution_channel  is_repeated_guest  \\\n",
       "65226     0.0  BB            FRA                TA/TO                  0   \n",
       "65227     0.0  SC            FRA                TA/TO                  0   \n",
       "65228     0.0  BB            FRA                TA/TO                  0   \n",
       "\n",
       "       previous_cancellations  previous_bookings_not_canceled  \\\n",
       "65226                       0                               0   \n",
       "65227                       0                               0   \n",
       "65228                       0                               0   \n",
       "\n",
       "      reserved_room_type  booking_changes  days_in_waiting_list customer_type  \\\n",
       "65226   D                               0                     0     Transient   \n",
       "65227   A                               0                     0     Transient   \n",
       "65228   A                               0                     0     Transient   \n",
       "\n",
       "       required_car_parking_spaces  total_of_special_requests  total_nights  \n",
       "65226                            0                          1             6  \n",
       "65227                            0                          1             7  \n",
       "65228                            0                          0             7  "
      ]
     },
     "metadata": {},
     "output_type": "display_data"
    },
    {
     "data": {
      "text/plain": [
       "'df_train'"
      ]
     },
     "metadata": {},
     "output_type": "display_data"
    }
   ],
   "source": [
    "# открытие требующихся файлов\n",
    "df_train = pd.read_csv('hotel_train.csv')\n",
    "df_test = pd.read_csv('hotel_test.csv')\n",
    "# уберем ограничение на вывод колонок\n",
    "pd.set_option('display.max_columns', 50) \n",
    "# получение общей информации о таблице df_train\n",
    "display(df_train.info())\n",
    "display(df_train.tail(3),'df_train')"
   ]
  },
  {
   "cell_type": "code",
   "execution_count": 3,
   "metadata": {
    "scrolled": false
   },
   "outputs": [
    {
     "name": "stdout",
     "output_type": "stream",
     "text": [
      "<class 'pandas.core.frame.DataFrame'>\n",
      "RangeIndex: 32412 entries, 0 to 32411\n",
      "Data columns (total 25 columns):\n",
      " #   Column                          Non-Null Count  Dtype  \n",
      "---  ------                          --------------  -----  \n",
      " 0   id                              32412 non-null  int64  \n",
      " 1   is_canceled                     32412 non-null  int64  \n",
      " 2   lead_time                       32412 non-null  float64\n",
      " 3   arrival_date_year               32412 non-null  int64  \n",
      " 4   arrival_date_month              32412 non-null  object \n",
      " 5   arrival_date_week_number        32412 non-null  int64  \n",
      " 6   arrival_date_day_of_month       32412 non-null  int64  \n",
      " 7   stays_in_weekend_nights         32412 non-null  int64  \n",
      " 8   stays_in_week_nights            32412 non-null  int64  \n",
      " 9   adults                          32412 non-null  float64\n",
      " 10  children                        32412 non-null  float64\n",
      " 11  babies                          32412 non-null  float64\n",
      " 12  meal                            32412 non-null  object \n",
      " 13  country                         32412 non-null  object \n",
      " 14  distribution_channel            32412 non-null  object \n",
      " 15  is_repeated_guest               32412 non-null  int64  \n",
      " 16  previous_cancellations          32412 non-null  int64  \n",
      " 17  previous_bookings_not_canceled  32412 non-null  int64  \n",
      " 18  reserved_room_type              32412 non-null  object \n",
      " 19  booking_changes                 32412 non-null  int64  \n",
      " 20  days_in_waiting_list            32412 non-null  int64  \n",
      " 21  customer_type                   32412 non-null  object \n",
      " 22  required_car_parking_spaces     32412 non-null  int64  \n",
      " 23  total_of_special_requests       32412 non-null  int64  \n",
      " 24  total_nights                    32412 non-null  int64  \n",
      "dtypes: float64(4), int64(15), object(6)\n",
      "memory usage: 6.2+ MB\n"
     ]
    },
    {
     "data": {
      "text/plain": [
       "None"
      ]
     },
     "metadata": {},
     "output_type": "display_data"
    },
    {
     "data": {
      "text/html": [
       "<div>\n",
       "<style scoped>\n",
       "    .dataframe tbody tr th:only-of-type {\n",
       "        vertical-align: middle;\n",
       "    }\n",
       "\n",
       "    .dataframe tbody tr th {\n",
       "        vertical-align: top;\n",
       "    }\n",
       "\n",
       "    .dataframe thead th {\n",
       "        text-align: right;\n",
       "    }\n",
       "</style>\n",
       "<table border=\"1\" class=\"dataframe\">\n",
       "  <thead>\n",
       "    <tr style=\"text-align: right;\">\n",
       "      <th></th>\n",
       "      <th>id</th>\n",
       "      <th>is_canceled</th>\n",
       "      <th>lead_time</th>\n",
       "      <th>arrival_date_year</th>\n",
       "      <th>arrival_date_month</th>\n",
       "      <th>arrival_date_week_number</th>\n",
       "      <th>arrival_date_day_of_month</th>\n",
       "      <th>stays_in_weekend_nights</th>\n",
       "      <th>stays_in_week_nights</th>\n",
       "      <th>adults</th>\n",
       "      <th>children</th>\n",
       "      <th>babies</th>\n",
       "      <th>meal</th>\n",
       "      <th>country</th>\n",
       "      <th>distribution_channel</th>\n",
       "      <th>is_repeated_guest</th>\n",
       "      <th>previous_cancellations</th>\n",
       "      <th>previous_bookings_not_canceled</th>\n",
       "      <th>reserved_room_type</th>\n",
       "      <th>booking_changes</th>\n",
       "      <th>days_in_waiting_list</th>\n",
       "      <th>customer_type</th>\n",
       "      <th>required_car_parking_spaces</th>\n",
       "      <th>total_of_special_requests</th>\n",
       "      <th>total_nights</th>\n",
       "    </tr>\n",
       "  </thead>\n",
       "  <tbody>\n",
       "    <tr>\n",
       "      <th>32409</th>\n",
       "      <td>97901</td>\n",
       "      <td>0</td>\n",
       "      <td>23.0</td>\n",
       "      <td>2017</td>\n",
       "      <td>August</td>\n",
       "      <td>35</td>\n",
       "      <td>30</td>\n",
       "      <td>2</td>\n",
       "      <td>5</td>\n",
       "      <td>2.0</td>\n",
       "      <td>0.0</td>\n",
       "      <td>0.0</td>\n",
       "      <td>BB</td>\n",
       "      <td>BEL</td>\n",
       "      <td>TA/TO</td>\n",
       "      <td>0</td>\n",
       "      <td>0</td>\n",
       "      <td>0</td>\n",
       "      <td>A</td>\n",
       "      <td>0</td>\n",
       "      <td>0</td>\n",
       "      <td>Transient</td>\n",
       "      <td>0</td>\n",
       "      <td>0</td>\n",
       "      <td>7</td>\n",
       "    </tr>\n",
       "    <tr>\n",
       "      <th>32410</th>\n",
       "      <td>97902</td>\n",
       "      <td>0</td>\n",
       "      <td>34.0</td>\n",
       "      <td>2017</td>\n",
       "      <td>August</td>\n",
       "      <td>35</td>\n",
       "      <td>31</td>\n",
       "      <td>2</td>\n",
       "      <td>5</td>\n",
       "      <td>2.0</td>\n",
       "      <td>0.0</td>\n",
       "      <td>0.0</td>\n",
       "      <td>BB</td>\n",
       "      <td>DEU</td>\n",
       "      <td>TA/TO</td>\n",
       "      <td>0</td>\n",
       "      <td>0</td>\n",
       "      <td>0</td>\n",
       "      <td>D</td>\n",
       "      <td>0</td>\n",
       "      <td>0</td>\n",
       "      <td>Transient</td>\n",
       "      <td>0</td>\n",
       "      <td>4</td>\n",
       "      <td>7</td>\n",
       "    </tr>\n",
       "    <tr>\n",
       "      <th>32411</th>\n",
       "      <td>97903</td>\n",
       "      <td>0</td>\n",
       "      <td>109.0</td>\n",
       "      <td>2017</td>\n",
       "      <td>August</td>\n",
       "      <td>35</td>\n",
       "      <td>31</td>\n",
       "      <td>2</td>\n",
       "      <td>5</td>\n",
       "      <td>2.0</td>\n",
       "      <td>0.0</td>\n",
       "      <td>0.0</td>\n",
       "      <td>BB</td>\n",
       "      <td>GBR</td>\n",
       "      <td>TA/TO</td>\n",
       "      <td>0</td>\n",
       "      <td>0</td>\n",
       "      <td>0</td>\n",
       "      <td>A</td>\n",
       "      <td>0</td>\n",
       "      <td>0</td>\n",
       "      <td>Transient</td>\n",
       "      <td>0</td>\n",
       "      <td>0</td>\n",
       "      <td>7</td>\n",
       "    </tr>\n",
       "  </tbody>\n",
       "</table>\n",
       "</div>"
      ],
      "text/plain": [
       "          id  is_canceled  lead_time  arrival_date_year arrival_date_month  \\\n",
       "32409  97901            0       23.0               2017             August   \n",
       "32410  97902            0       34.0               2017             August   \n",
       "32411  97903            0      109.0               2017             August   \n",
       "\n",
       "       arrival_date_week_number  arrival_date_day_of_month  \\\n",
       "32409                        35                         30   \n",
       "32410                        35                         31   \n",
       "32411                        35                         31   \n",
       "\n",
       "       stays_in_weekend_nights  stays_in_week_nights  adults  children  \\\n",
       "32409                        2                     5     2.0       0.0   \n",
       "32410                        2                     5     2.0       0.0   \n",
       "32411                        2                     5     2.0       0.0   \n",
       "\n",
       "       babies       meal country distribution_channel  is_repeated_guest  \\\n",
       "32409     0.0  BB            BEL                TA/TO                  0   \n",
       "32410     0.0  BB            DEU                TA/TO                  0   \n",
       "32411     0.0  BB            GBR                TA/TO                  0   \n",
       "\n",
       "       previous_cancellations  previous_bookings_not_canceled  \\\n",
       "32409                       0                               0   \n",
       "32410                       0                               0   \n",
       "32411                       0                               0   \n",
       "\n",
       "      reserved_room_type  booking_changes  days_in_waiting_list customer_type  \\\n",
       "32409   A                               0                     0     Transient   \n",
       "32410   D                               0                     0     Transient   \n",
       "32411   A                               0                     0     Transient   \n",
       "\n",
       "       required_car_parking_spaces  total_of_special_requests  total_nights  \n",
       "32409                            0                          0             7  \n",
       "32410                            0                          4             7  \n",
       "32411                            0                          0             7  "
      ]
     },
     "metadata": {},
     "output_type": "display_data"
    },
    {
     "data": {
      "text/plain": [
       "'df_test'"
      ]
     },
     "metadata": {},
     "output_type": "display_data"
    }
   ],
   "source": [
    "# получение общей информации о таблице df_test\n",
    "display(df_test.info())\n",
    "display(df_test.tail(3),'df_test')"
   ]
  },
  {
   "cell_type": "markdown",
   "metadata": {},
   "source": [
    "#### Вывод"
   ]
  },
  {
   "cell_type": "markdown",
   "metadata": {},
   "source": [
    "Таблицы открываются правильно, без ошибок."
   ]
  },
  {
   "cell_type": "markdown",
   "metadata": {},
   "source": [
    "### Шаг 2. Предобработка и исследовательский анализ данных"
   ]
  },
  {
   "cell_type": "markdown",
   "metadata": {},
   "source": [
    "#### Предобработка данных"
   ]
  },
  {
   "cell_type": "code",
   "execution_count": 4,
   "metadata": {
    "scrolled": false
   },
   "outputs": [
    {
     "data": {
      "text/plain": [
       "id                                             261\n",
       "is_canceled                                      1\n",
       "lead_time                                     48.0\n",
       "arrival_date_year                             2015\n",
       "arrival_date_month                            July\n",
       "arrival_date_week_number                        29\n",
       "arrival_date_day_of_month                       16\n",
       "stays_in_weekend_nights                          0\n",
       "stays_in_week_nights                             1\n",
       "adults                                         1.0\n",
       "children                                       0.0\n",
       "babies                                         0.0\n",
       "meal                                     BB       \n",
       "country                                        PRT\n",
       "distribution_channel                        Direct\n",
       "is_repeated_guest                                0\n",
       "previous_cancellations                           0\n",
       "previous_bookings_not_canceled                   0\n",
       "reserved_room_type                A               \n",
       "booking_changes                                  0\n",
       "days_in_waiting_list                             0\n",
       "customer_type                            Transient\n",
       "required_car_parking_spaces                      0\n",
       "total_of_special_requests                        0\n",
       "total_nights                                     1\n",
       "Name: 256, dtype: object"
      ]
     },
     "metadata": {},
     "output_type": "display_data"
    },
    {
     "data": {
      "text/plain": [
       "array(['GBR', 'PRT', 'ESP', 'IRL', 'FRA', 'ROU', 'NOR', 'USA', 'DEU',\n",
       "       'BEL', 'CHE', 'CN', 'GRC', 'NLD', 'ARG', 'RUS', 'SWE', 'POL',\n",
       "       'EST', 'CZE', 'ITA', 'FIN', 'DNK', 'MOZ', 'BWA', 'LUX', 'BRA',\n",
       "       'SVN', 'ALB', 'CHN', 'MEX', 'MAR', 'SMR', 'LVA', 'CHL', 'AUT',\n",
       "       'LTU', 'TUR', 'ISR', 'IND', 'CYM', 'AUS', 'CPV', 'ZWE', 'DZA',\n",
       "       'KOR', 'CRI', 'HUN', 'TUN', 'ARE', 'HRV', 'HKG', 'IRN', 'GIB',\n",
       "       'JEY', 'URY', 'ZAF', 'COL', 'GGY', 'KWT', 'CYP', 'KAZ', 'THA',\n",
       "       'DOM', 'NGA', 'BLR', 'VEN', 'UKR', 'ARM', 'JPN', 'LKA', 'MYS',\n",
       "       'BIH', 'MUS', 'OMN', 'SUR', 'JAM', 'BGR', 'CIV', 'SRB', 'JOR',\n",
       "       'SYR', 'PHL', 'PRI', 'SGP', 'BDI', 'LBN', 'AGO', 'VNM', 'AZE',\n",
       "       'PLW', 'NZL', 'EGY', 'MDV', 'CMR', 'MLT', 'SVK', 'MWI', 'STP',\n",
       "       'TWN', 'IDN', 'SEN', 'PER', 'SAU', 'KNA', 'ETH', 'ECU', 'IRQ',\n",
       "       'AND', 'HND', 'PAK', 'GEO', 'ZMB', 'QAT', 'KHM', 'MCO', 'BGD',\n",
       "       'ISL', 'UZB', 'IMN', 'TJK', 'NIC', 'BEN', 'MAC', 'VGB', 'TZA',\n",
       "       'GAB', 'MKD', 'TMP', 'GLP', 'KEN', 'LIE', 'MMR', 'PAN', 'BFA',\n",
       "       'LBY', 'GNB', 'MLI', 'BHR', 'NAM', 'BOL', 'SYC', 'PRY', 'BRB',\n",
       "       'ABW', 'SLV', 'DMA', 'CUB', 'PYF', 'UGA', 'GUY', 'LCA', 'ATA',\n",
       "       'RWA', 'MNE'], dtype=object)"
      ]
     },
     "execution_count": 4,
     "metadata": {},
     "output_type": "execute_result"
    }
   ],
   "source": [
    "# выведем случайную строку для выявления лишних пробелов\n",
    "display(df_train.loc[256])\n",
    "# посмотрим все уникальные значения столбца с наименованием страны\n",
    "df_train.country.unique()"
   ]
  },
  {
   "cell_type": "code",
   "execution_count": 5,
   "metadata": {
    "scrolled": false
   },
   "outputs": [],
   "source": [
    "# удаление столбца id\n",
    "df_train = df_train.drop(['id'], axis=1)\n",
    "df_test = df_test.drop(['id'], axis=1)\n",
    "# преобразование типов данных\n",
    "for value in ('adults', 'babies', 'children', 'lead_time'):\n",
    "    df_train[value] = df_train[value].astype('int')\n",
    "    df_test[value] = df_test[value].astype('int')\n",
    "# удаление лишних пробелов\n",
    "df_train['reserved_room_type'] = df_train['reserved_room_type'].str.strip()\n",
    "df_test['reserved_room_type'] = df_test['reserved_room_type'].str.strip()\n",
    "df_train['meal'] = df_train['meal'].str.strip()\n",
    "df_test['meal'] = df_test['meal'].str.strip()    "
   ]
  },
  {
   "cell_type": "code",
   "execution_count": 6,
   "metadata": {},
   "outputs": [
    {
     "name": "stdout",
     "output_type": "stream",
     "text": [
      "<class 'pandas.core.frame.DataFrame'>\n",
      "RangeIndex: 65229 entries, 0 to 65228\n",
      "Data columns (total 24 columns):\n",
      " #   Column                          Non-Null Count  Dtype \n",
      "---  ------                          --------------  ----- \n",
      " 0   is_canceled                     65229 non-null  int64 \n",
      " 1   lead_time                       65229 non-null  int64 \n",
      " 2   arrival_date_year               65229 non-null  int64 \n",
      " 3   arrival_date_month              65229 non-null  object\n",
      " 4   arrival_date_week_number        65229 non-null  int64 \n",
      " 5   arrival_date_day_of_month       65229 non-null  int64 \n",
      " 6   stays_in_weekend_nights         65229 non-null  int64 \n",
      " 7   stays_in_week_nights            65229 non-null  int64 \n",
      " 8   adults                          65229 non-null  int64 \n",
      " 9   children                        65229 non-null  int64 \n",
      " 10  babies                          65229 non-null  int64 \n",
      " 11  meal                            65229 non-null  object\n",
      " 12  country                         65229 non-null  object\n",
      " 13  distribution_channel            65229 non-null  object\n",
      " 14  is_repeated_guest               65229 non-null  int64 \n",
      " 15  previous_cancellations          65229 non-null  int64 \n",
      " 16  previous_bookings_not_canceled  65229 non-null  int64 \n",
      " 17  reserved_room_type              65229 non-null  object\n",
      " 18  booking_changes                 65229 non-null  int64 \n",
      " 19  days_in_waiting_list            65229 non-null  int64 \n",
      " 20  customer_type                   65229 non-null  object\n",
      " 21  required_car_parking_spaces     65229 non-null  int64 \n",
      " 22  total_of_special_requests       65229 non-null  int64 \n",
      " 23  total_nights                    65229 non-null  int64 \n",
      "dtypes: int64(18), object(6)\n",
      "memory usage: 11.9+ MB\n"
     ]
    },
    {
     "data": {
      "text/plain": [
       "None"
      ]
     },
     "metadata": {},
     "output_type": "display_data"
    },
    {
     "name": "stdout",
     "output_type": "stream",
     "text": [
      "<class 'pandas.core.frame.DataFrame'>\n",
      "RangeIndex: 32412 entries, 0 to 32411\n",
      "Data columns (total 24 columns):\n",
      " #   Column                          Non-Null Count  Dtype \n",
      "---  ------                          --------------  ----- \n",
      " 0   is_canceled                     32412 non-null  int64 \n",
      " 1   lead_time                       32412 non-null  int64 \n",
      " 2   arrival_date_year               32412 non-null  int64 \n",
      " 3   arrival_date_month              32412 non-null  object\n",
      " 4   arrival_date_week_number        32412 non-null  int64 \n",
      " 5   arrival_date_day_of_month       32412 non-null  int64 \n",
      " 6   stays_in_weekend_nights         32412 non-null  int64 \n",
      " 7   stays_in_week_nights            32412 non-null  int64 \n",
      " 8   adults                          32412 non-null  int64 \n",
      " 9   children                        32412 non-null  int64 \n",
      " 10  babies                          32412 non-null  int64 \n",
      " 11  meal                            32412 non-null  object\n",
      " 12  country                         32412 non-null  object\n",
      " 13  distribution_channel            32412 non-null  object\n",
      " 14  is_repeated_guest               32412 non-null  int64 \n",
      " 15  previous_cancellations          32412 non-null  int64 \n",
      " 16  previous_bookings_not_canceled  32412 non-null  int64 \n",
      " 17  reserved_room_type              32412 non-null  object\n",
      " 18  booking_changes                 32412 non-null  int64 \n",
      " 19  days_in_waiting_list            32412 non-null  int64 \n",
      " 20  customer_type                   32412 non-null  object\n",
      " 21  required_car_parking_spaces     32412 non-null  int64 \n",
      " 22  total_of_special_requests       32412 non-null  int64 \n",
      " 23  total_nights                    32412 non-null  int64 \n",
      "dtypes: int64(18), object(6)\n",
      "memory usage: 5.9+ MB\n"
     ]
    },
    {
     "data": {
      "text/plain": [
       "None"
      ]
     },
     "metadata": {},
     "output_type": "display_data"
    }
   ],
   "source": [
    "# проверка на дубликаты\n",
    "df_train.drop_duplicates()\n",
    "df_test.drop_duplicates()\n",
    "display(df_train.info())\n",
    "display(df_test.info())"
   ]
  },
  {
   "cell_type": "markdown",
   "metadata": {},
   "source": [
    "##### Вывод"
   ]
  },
  {
   "cell_type": "markdown",
   "metadata": {},
   "source": [
    "- Лишние пробелы обнаружены и удалены только в двух столбцах: `meal` и `reserved_room_type`\n",
    "- Удален столбец `id` так как имеет повторяющийся характер как у индекса\n",
    "- Дубликатов не обнаружено\n",
    "- Пропусков в данных нет\n",
    "- Требующиеся значения преобразованы и приведены к корректному типу данных"
   ]
  },
  {
   "cell_type": "markdown",
   "metadata": {},
   "source": [
    "#### Исследовательский анализ"
   ]
  },
  {
   "cell_type": "code",
   "execution_count": 7,
   "metadata": {},
   "outputs": [
    {
     "data": {
      "text/plain": [
       "PRT    28831\n",
       "FRA     5974\n",
       "GBR     5109\n",
       "ESP     4900\n",
       "DEU     3887\n",
       "ITA     2327\n",
       "IRL     1445\n",
       "Name: country, dtype: int64"
      ]
     },
     "metadata": {},
     "output_type": "display_data"
    },
    {
     "data": {
      "text/plain": [
       "PRT    9887\n",
       "GBR    3927\n",
       "FRA    3477\n",
       "DEU    2378\n",
       "ESP    1932\n",
       "ITA    1153\n",
       "IRL    1060\n",
       "Name: country, dtype: int64"
      ]
     },
     "metadata": {},
     "output_type": "display_data"
    }
   ],
   "source": [
    "# создание функции для приведения названия страны к формату int\n",
    "display(df_train.country.value_counts().head(7))\n",
    "display(df_test.country.value_counts().head(7))\n",
    "def country_func(row):\n",
    "    country_row = row['country']\n",
    "    if country_row == 'PRT':\n",
    "        return 1\n",
    "    elif country_row == 'FRA':\n",
    "        return 2\n",
    "    elif country_row == 'GBR':\n",
    "        return 3\n",
    "    elif country_row == 'ESP':\n",
    "        return 4\n",
    "    elif country_row == 'DEU':\n",
    "        return 5\n",
    "    elif country_row == 'ITA':\n",
    "        return 6\n",
    "    else:\n",
    "        return 7\n",
    "# создание корректного столбца, где страны выражены цифрами\n",
    "df_train['country_numeric'] = df_train.apply(country_func, axis=1)\n",
    "df_test['country_numeric'] = df_test.apply(country_func, axis=1)\n",
    "# удаление столбца со странами, где тип данных object\n",
    "df_train = df_train.drop(['country'], axis=1)\n",
    "df_test = df_test.drop(['country'], axis=1)"
   ]
  },
  {
   "cell_type": "code",
   "execution_count": 8,
   "metadata": {},
   "outputs": [],
   "source": [
    "# создание функции для приведения названия месяца к формату int\n",
    "def month(row):\n",
    "    month = row['arrival_date_month']    \n",
    "    if month == 'January':     \n",
    "        return 1\n",
    "    elif month == 'February':     \n",
    "        return 2\n",
    "    elif month == 'March':     \n",
    "        return 3\n",
    "    elif month == 'April':     \n",
    "        return 4    \n",
    "    elif month == 'May':     \n",
    "        return 5\n",
    "    elif month == 'June':     \n",
    "        return 6\n",
    "    elif month == 'July':     \n",
    "        return 7\n",
    "    elif month == 'August':     \n",
    "        return 8  \n",
    "    elif month == 'September':     \n",
    "        return 9\n",
    "    elif month == 'October':     \n",
    "        return 10\n",
    "    elif month == 'November':     \n",
    "        return 11\n",
    "    elif month == 'December':     \n",
    "        return 12  \n",
    "# создание корректного столбца, где месяцы выражены цифрами\n",
    "df_train['arrival_date_month_numeric'] = df_train.apply(month, axis=1)\n",
    "df_test['arrival_date_month_numeric'] = df_test.apply(month, axis=1)\n",
    "# удаление столбца с месяцами, где тип данных object\n",
    "df_train = df_train.drop(['arrival_date_month'], axis=1)\n",
    "df_test = df_test.drop(['arrival_date_month'], axis=1)"
   ]
  },
  {
   "cell_type": "code",
   "execution_count": 9,
   "metadata": {},
   "outputs": [],
   "source": [
    "# создание функции для приведения опции заказа к формату int\n",
    "def meal_to_num(row):\n",
    "    meal_value = row['meal']    \n",
    "    if meal_value == 'SC':     \n",
    "        return 1\n",
    "    elif meal_value == 'BB':     \n",
    "        return 2\n",
    "    elif meal_value == 'HB':     \n",
    "        return 3\n",
    "    elif meal_value == 'FB':     \n",
    "        return 4    \n",
    "# создание корректного столбца, где опции заказа выражены цифрами\n",
    "df_train['meal_numeric'] = df_train.apply(meal_to_num, axis=1)\n",
    "df_test['meal_numeric'] = df_test.apply(meal_to_num, axis=1)\n",
    "# удаление столбца, где тип данных object\n",
    "df_train = df_train.drop(['meal'], axis=1)\n",
    "df_test = df_test.drop(['meal'], axis=1)"
   ]
  },
  {
   "cell_type": "code",
   "execution_count": 10,
   "metadata": {},
   "outputs": [],
   "source": [
    "# создание функции для приведения типа заказчика к формату int\n",
    "def customer_to_num(row):\n",
    "    customer_value = row['customer_type']    \n",
    "    if customer_value == 'Contract':     \n",
    "        return 1\n",
    "    elif customer_value == 'Group':     \n",
    "        return 2\n",
    "    elif customer_value == 'Transient':     \n",
    "        return 3\n",
    "    elif customer_value == 'Transient-Party':     \n",
    "        return 4    \n",
    "# создание корректного столбца, где тип заказчика выражен цифрами\n",
    "df_train['customer_type_numeric'] = df_train.apply(customer_to_num, axis=1)\n",
    "df_test['customer_type_numeric'] = df_test.apply(customer_to_num, axis=1)\n",
    "# удаление столбца, где тип данных object\n",
    "df_train = df_train.drop(['customer_type'], axis=1)\n",
    "df_test = df_test.drop(['customer_type'], axis=1)"
   ]
  },
  {
   "cell_type": "code",
   "execution_count": 11,
   "metadata": {},
   "outputs": [],
   "source": [
    "# создание функции для приведения каналов дистрибуции к формату int\n",
    "def channel_to_num(row):\n",
    "    channel_value = row['distribution_channel']    \n",
    "    if channel_value == 'Direct':     \n",
    "        return 1\n",
    "    elif channel_value == 'TA/TO':     \n",
    "        return 2\n",
    "    elif channel_value == 'Corporate':     \n",
    "        return 3\n",
    "    elif channel_value == 'GDS':     \n",
    "        return 4    \n",
    "# создание корректного столбца, где каналы дистрибуции выражены цифрами\n",
    "df_train['distribution_channel_numeric'] = df_train.apply(channel_to_num, axis=1)\n",
    "df_test['distribution_channel_numeric'] = df_test.apply(channel_to_num, axis=1)\n",
    "# удаление столбца, где тип данных object\n",
    "df_train = df_train.drop(['distribution_channel'], axis=1)\n",
    "df_test = df_test.drop(['distribution_channel'], axis=1)"
   ]
  },
  {
   "cell_type": "code",
   "execution_count": 12,
   "metadata": {},
   "outputs": [],
   "source": [
    "# создание функции для приведения типа комнаты к формату int\n",
    "def roomtype_to_num(row):\n",
    "    room_value = row['reserved_room_type']    \n",
    "    if room_value == 'A':     \n",
    "        return 1\n",
    "    elif room_value == 'B':     \n",
    "        return 2\n",
    "    elif room_value == 'C':     \n",
    "        return 3\n",
    "    elif room_value == 'D':     \n",
    "        return 4   \n",
    "    elif room_value == 'E':     \n",
    "        return 5\n",
    "    elif room_value == 'F':     \n",
    "        return 6\n",
    "    elif room_value == 'G':     \n",
    "        return 7  \n",
    "# создание корректного столбца, где тип комнаты выражен цифрами\n",
    "df_train['reserved_room_type_numeric'] = df_train.apply(roomtype_to_num, axis=1)\n",
    "df_test['reserved_room_type_numeric'] = df_test.apply(roomtype_to_num, axis=1)"
   ]
  },
  {
   "cell_type": "code",
   "execution_count": 13,
   "metadata": {
    "scrolled": true
   },
   "outputs": [
    {
     "data": {
      "text/plain": [
       "'Количество строк в df_train, которые не прошли \"проверку\":'"
      ]
     },
     "metadata": {},
     "output_type": "display_data"
    },
    {
     "data": {
      "text/plain": [
       "166"
      ]
     },
     "metadata": {},
     "output_type": "display_data"
    },
    {
     "data": {
      "text/plain": [
       "'Количество строк в df_test, которые не прошли \"проверку\":'"
      ]
     },
     "metadata": {},
     "output_type": "display_data"
    },
    {
     "data": {
      "text/plain": [
       "69"
      ]
     },
     "metadata": {},
     "output_type": "display_data"
    },
    {
     "data": {
      "text/plain": [
       "(65063, 25)"
      ]
     },
     "metadata": {},
     "output_type": "display_data"
    },
    {
     "data": {
      "text/plain": [
       "(32343, 25)"
      ]
     },
     "metadata": {},
     "output_type": "display_data"
    }
   ],
   "source": [
    "# проверим данные на \"адекватность\"\n",
    "display('Количество строк в df_train, которые не прошли \"проверку\":', df_train.query('children >= 0 and babies >= 0 and adults == 0').shape[0])\n",
    "display('Количество строк в df_test, которые не прошли \"проверку\":', df_test.query('children >= 0 and babies >= 0 and adults == 0').shape[0])\n",
    "# удаление данных строк из таблиц\n",
    "train_index = list(df_train.query('children >= 0 and babies >= 0 and adults == 0').index)\n",
    "test_index = list(df_test.query('children >= 0 and babies >= 0 and adults == 0').index)\n",
    "df_train = df_train.drop(index=train_index)\n",
    "df_test = df_test.drop(index=test_index)\n",
    "# df_train.loc[64980]\n",
    "# df_test.loc[31418]\n",
    "display(df_train.shape)\n",
    "display(df_test.shape)"
   ]
  },
  {
   "cell_type": "code",
   "execution_count": 14,
   "metadata": {},
   "outputs": [
    {
     "data": {
      "text/plain": [
       "2     16768\n",
       "3     15608\n",
       "1     12101\n",
       "4      9592\n",
       "5      4269\n",
       "7      3848\n",
       "6      2067\n",
       "8       541\n",
       "9       151\n",
       "10      118\n",
       "Name: total_nights, dtype: int64"
      ]
     },
     "metadata": {},
     "output_type": "display_data"
    },
    {
     "data": {
      "text/plain": [
       "2     16768\n",
       "3     15608\n",
       "1     12101\n",
       "4      9592\n",
       "5      4269\n",
       "7      3848\n",
       "6      2067\n",
       "8       541\n",
       "9       151\n",
       "10      118\n",
       "Name: total_nights_step_two, dtype: int64"
      ]
     },
     "metadata": {},
     "output_type": "display_data"
    },
    {
     "data": {
      "text/plain": [
       "3     8379\n",
       "2     6756\n",
       "4     5806\n",
       "1     5456\n",
       "5     2403\n",
       "7     2279\n",
       "6      935\n",
       "8      212\n",
       "9       62\n",
       "10      55\n",
       "Name: total_nights, dtype: int64"
      ]
     },
     "metadata": {},
     "output_type": "display_data"
    },
    {
     "data": {
      "text/plain": [
       "3     8379\n",
       "2     6756\n",
       "4     5806\n",
       "1     5456\n",
       "5     2403\n",
       "7     2279\n",
       "6      935\n",
       "8      212\n",
       "9       62\n",
       "10      55\n",
       "Name: total_nights_step_two, dtype: int64"
      ]
     },
     "metadata": {},
     "output_type": "display_data"
    }
   ],
   "source": [
    "# проверим данные из столбцов о количестве ночей и выведем на экран\n",
    "df_train['total_nights_step_two'] = df_train['stays_in_weekend_nights'] + df_train['stays_in_week_nights']\n",
    "df_test['total_nights_step_two'] = df_test['stays_in_weekend_nights'] + df_test['stays_in_week_nights']\n",
    "display(df_train.total_nights.value_counts())\n",
    "display(df_train.total_nights_step_two.value_counts())\n",
    "display(df_test.total_nights.value_counts())\n",
    "display(df_test.total_nights_step_two.value_counts())\n",
    "# удалим столбцы добавленные ранее для расчетов\n",
    "df_train = df_train.drop(['total_nights_step_two'], axis=1)\n",
    "df_test = df_test.drop(['total_nights_step_two'], axis=1)\n",
    "# удалим столбцы лишние столбцы с количеством ночей\n",
    "df_train = df_train.drop(['stays_in_week_nights'], axis=1)\n",
    "df_test = df_test.drop(['stays_in_week_nights'], axis=1)"
   ]
  },
  {
   "cell_type": "code",
   "execution_count": 15,
   "metadata": {
    "scrolled": true
   },
   "outputs": [
    {
     "data": {
      "image/png": "[encoded data removed]",
      "text/plain": [
       "<Figure size 432x288 with 1 Axes>"
      ]
     },
     "metadata": {
      "needs_background": "light"
     },
     "output_type": "display_data"
    }
   ],
   "source": [
    "# проверим на аномальные количества детей\n",
    "df_train['babies'].plot(style='.', legend=True, ylabel='Количество детей');"
   ]
  },
  {
   "cell_type": "code",
   "execution_count": 16,
   "metadata": {},
   "outputs": [
    {
     "data": {
      "image/png": "[encoded data removed]",
      "text/plain": [
       "<Figure size 432x288 with 1 Axes>"
      ]
     },
     "metadata": {
      "needs_background": "light"
     },
     "output_type": "display_data"
    }
   ],
   "source": [
    "# проверим на аномальные количества детей\n",
    "df_test['babies'].plot(style='.', legend=True, ylabel='Количество детей');"
   ]
  },
  {
   "cell_type": "code",
   "execution_count": 17,
   "metadata": {},
   "outputs": [
    {
     "data": {
      "text/plain": [
       "(65061, 24)"
      ]
     },
     "execution_count": 17,
     "metadata": {},
     "output_type": "execute_result"
    }
   ],
   "source": [
    "# удаление аномальных строк из таблицы\n",
    "train_index_two = list(df_train.query('babies >= 9').index)\n",
    "df_train = df_train.drop(index=train_index_two)\n",
    "# df_train.loc[41528]\n",
    "df_train.shape"
   ]
  },
  {
   "cell_type": "code",
   "execution_count": 18,
   "metadata": {
    "scrolled": true
   },
   "outputs": [
    {
     "data": {
      "image/png": "[encoded data removed]",
      "text/plain": [
       "<Figure size 432x288 with 1 Axes>"
      ]
     },
     "metadata": {
      "needs_background": "light"
     },
     "output_type": "display_data"
    }
   ],
   "source": [
    "# посмотриv на количество вносимых изменений\n",
    "df_train['booking_changes'].plot(style='.', legend=True, ylabel='Количество изменений');"
   ]
  },
  {
   "cell_type": "code",
   "execution_count": 19,
   "metadata": {},
   "outputs": [
    {
     "data": {
      "image/png": "[encoded data removed]",
      "text/plain": [
       "<Figure size 432x288 with 1 Axes>"
      ]
     },
     "metadata": {
      "needs_background": "light"
     },
     "output_type": "display_data"
    }
   ],
   "source": [
    "# посмотриv на количество вносимых изменений\n",
    "df_test['booking_changes'].plot(style='.', legend=True, ylabel='Количество изменений');"
   ]
  },
  {
   "cell_type": "code",
   "execution_count": 20,
   "metadata": {},
   "outputs": [
    {
     "data": {
      "text/plain": [
       "(65037, 24)"
      ]
     },
     "metadata": {},
     "output_type": "display_data"
    },
    {
     "data": {
      "text/plain": [
       "(32336, 24)"
      ]
     },
     "metadata": {},
     "output_type": "display_data"
    }
   ],
   "source": [
    "# удаление аномальных строк из таблицы\n",
    "train_index_thr = list(df_train.query('booking_changes > 7').index)\n",
    "test_index_thr = list(df_test.query('booking_changes > 7').index)\n",
    "df_train = df_train.drop(index=train_index_thr)\n",
    "df_test = df_test.drop(index=test_index_thr)\n",
    "# df_train.loc[64035]\n",
    "# df_test.loc[32301]\n",
    "display(df_train.shape)\n",
    "display(df_test.shape)"
   ]
  },
  {
   "cell_type": "code",
   "execution_count": 21,
   "metadata": {},
   "outputs": [
    {
     "data": {
      "image/png": "[encoded data removed]",
      "text/plain": [
       "<Figure size 432x288 with 1 Axes>"
      ]
     },
     "metadata": {
      "needs_background": "light"
     },
     "output_type": "display_data"
    },
    {
     "data": {
      "image/png": "[encoded data removed]",
      "text/plain": [
       "<Figure size 432x288 with 1 Axes>"
      ]
     },
     "metadata": {
      "needs_background": "light"
     },
     "output_type": "display_data"
    },
    {
     "data": {
      "image/png": "[encoded data removed]",
      "text/plain": [
       "<Figure size 432x288 with 1 Axes>"
      ]
     },
     "metadata": {
      "needs_background": "light"
     },
     "output_type": "display_data"
    },
    {
     "data": {
      "image/png": "[encoded data removed]",
      "text/plain": [
       "<Figure size 432x288 with 1 Axes>"
      ]
     },
     "metadata": {
      "needs_background": "light"
     },
     "output_type": "display_data"
    }
   ],
   "source": [
    "# выведем на экран соотношение закрытых и не закрытых заказов\n",
    "df_train.plot(y='is_canceled', title='Соотношение отмененных и неотмененных заказов', kind='hist', bins=2, range=(0, 1));\n",
    "# выведем на экран распределение по типам заказчиков\n",
    "df_train.plot(y='customer_type_numeric', title='Распределение по типу заказчика', kind='hist', bins=4, range=(1, 4));\n",
    "# выведем на экран распределение по типам комнат\n",
    "df_train.plot(y='reserved_room_type_numeric', title='Распределение по типу комнаты', kind='hist', bins=7, range=(1, 8));\n",
    "# выведем на экран распределение по количеству ночей\n",
    "df_train.plot(y='total_nights', title='Распределение по количеству ночей', kind='hist', bins=7, range=(1, 8));"
   ]
  },
  {
   "cell_type": "code",
   "execution_count": 22,
   "metadata": {},
   "outputs": [
    {
     "data": {
      "image/png": "[encoded data removed]",
      "text/plain": [
       "<Figure size 432x288 with 1 Axes>"
      ]
     },
     "metadata": {
      "needs_background": "light"
     },
     "output_type": "display_data"
    }
   ],
   "source": [
    "# выведем график \"ящик с усами\" для количества дней между бронированием и прибытием\n",
    "plt.ylim(-10, 400)\n",
    "df_train.boxplot(column='lead_time');"
   ]
  },
  {
   "cell_type": "code",
   "execution_count": 23,
   "metadata": {
    "scrolled": false
   },
   "outputs": [
    {
     "data": {
      "text/html": [
       "<div>\n",
       "<style scoped>\n",
       "    .dataframe tbody tr th:only-of-type {\n",
       "        vertical-align: middle;\n",
       "    }\n",
       "\n",
       "    .dataframe tbody tr th {\n",
       "        vertical-align: top;\n",
       "    }\n",
       "\n",
       "    .dataframe thead th {\n",
       "        text-align: right;\n",
       "    }\n",
       "</style>\n",
       "<table border=\"1\" class=\"dataframe\">\n",
       "  <thead>\n",
       "    <tr style=\"text-align: right;\">\n",
       "      <th></th>\n",
       "      <th>customer_type_numeric</th>\n",
       "      <th>meal_numeric</th>\n",
       "      <th>reserved_room_type_numeric</th>\n",
       "      <th>total_nights</th>\n",
       "    </tr>\n",
       "  </thead>\n",
       "  <tbody>\n",
       "    <tr>\n",
       "      <th>customer_type_numeric</th>\n",
       "      <td>1.000000</td>\n",
       "      <td>0.152698</td>\n",
       "      <td>-0.116098</td>\n",
       "      <td>0.003371</td>\n",
       "    </tr>\n",
       "    <tr>\n",
       "      <th>meal_numeric</th>\n",
       "      <td>0.152698</td>\n",
       "      <td>1.000000</td>\n",
       "      <td>-0.056443</td>\n",
       "      <td>-0.021271</td>\n",
       "    </tr>\n",
       "    <tr>\n",
       "      <th>reserved_room_type_numeric</th>\n",
       "      <td>-0.116098</td>\n",
       "      <td>-0.056443</td>\n",
       "      <td>1.000000</td>\n",
       "      <td>0.528431</td>\n",
       "    </tr>\n",
       "    <tr>\n",
       "      <th>total_nights</th>\n",
       "      <td>0.003371</td>\n",
       "      <td>-0.021271</td>\n",
       "      <td>0.528431</td>\n",
       "      <td>1.000000</td>\n",
       "    </tr>\n",
       "  </tbody>\n",
       "</table>\n",
       "</div>"
      ],
      "text/plain": [
       "                            customer_type_numeric  meal_numeric  \\\n",
       "customer_type_numeric                    1.000000      0.152698   \n",
       "meal_numeric                             0.152698      1.000000   \n",
       "reserved_room_type_numeric              -0.116098     -0.056443   \n",
       "total_nights                             0.003371     -0.021271   \n",
       "\n",
       "                            reserved_room_type_numeric  total_nights  \n",
       "customer_type_numeric                        -0.116098      0.003371  \n",
       "meal_numeric                                 -0.056443     -0.021271  \n",
       "reserved_room_type_numeric                    1.000000      0.528431  \n",
       "total_nights                                  0.528431      1.000000  "
      ]
     },
     "execution_count": 23,
     "metadata": {},
     "output_type": "execute_result"
    },
    {
     "data": {
      "image/png": "[encoded data removed]",
      "text/plain": [
       "<Figure size 864x864 with 16 Axes>"
      ]
     },
     "metadata": {
      "needs_background": "light"
     },
     "output_type": "display_data"
    }
   ],
   "source": [
    "# создание сводной таблицы для анализа завсимостей\n",
    "df_train_pivot = df_train.pivot_table(index='lead_time', values=['reserved_room_type_numeric', 'customer_type_numeric', 'total_nights', 'meal_numeric'])\n",
    "# построение матрицы диаграмм рассеивания\n",
    "pd.plotting.scatter_matrix(df_train_pivot, figsize=(12, 12));\n",
    "# получение значений корреляции\n",
    "df_train_pivot.corr()"
   ]
  },
  {
   "cell_type": "markdown",
   "metadata": {},
   "source": [
    "##### Вывод"
   ]
  },
  {
   "cell_type": "markdown",
   "metadata": {},
   "source": [
    "- Столбец `country` преобразован в категориальный формат где топ 6 стран по количеству заказов соответсвуют цифрам от 1 до 6, все остальные объединены в группу с цифрой 7\n",
    "- Из таблиц удалены строки не прошедшие проверку на адекватность: были номера без взрослых, но с детьми (менее 1% данных)\n",
    "- Удален столбец `stays_in_week_nights` так как по столбцам `stays_in_weekend_nights` и `total_nights` можно его воссоздать\n",
    "- Соотношение отмененных заказов к неотмененным 1:2\n",
    "- Наиболее частый тип заказчика `Transient`\n",
    "- Чаще всего оформляют бронь на комнаты типа `A`\n",
    "- Медианное количество дней между бронированием и подтверждением составляет 60-70 дней\n",
    "- Среди данных о количестве детей есть цифры 9 и 10, что является выбросом (менее 1% данных). Данные были удалены.\n",
    "- Среди данных о количество вносимых изменений есть цифры больше 7, что также является выбросом (менее 1% данных). Данные были удалены.\n",
    "- Чаще всего заказывают номера на 1,2,3 и 4 ночи\n",
    "- Заказчик `Transient`как правило заказывает опцию \"завтрак включен\", а также номера категории `A` и `B`\n",
    "- Чаще всего бронируют на 2-3 ночи номера категории `A` и `B` с опцией \"завтрак включен\""
   ]
  },
  {
   "cell_type": "markdown",
   "metadata": {},
   "source": [
    "### Шаг 3. Формулировка ML-задачи на основе бизнес-задачи"
   ]
  },
  {
   "cell_type": "code",
   "execution_count": 24,
   "metadata": {},
   "outputs": [
    {
     "data": {
      "text/html": [
       "<div>\n",
       "<style scoped>\n",
       "    .dataframe tbody tr th:only-of-type {\n",
       "        vertical-align: middle;\n",
       "    }\n",
       "\n",
       "    .dataframe tbody tr th {\n",
       "        vertical-align: top;\n",
       "    }\n",
       "\n",
       "    .dataframe thead th {\n",
       "        text-align: right;\n",
       "    }\n",
       "</style>\n",
       "<table border=\"1\" class=\"dataframe\">\n",
       "  <thead>\n",
       "    <tr style=\"text-align: right;\">\n",
       "      <th></th>\n",
       "      <th>is_canceled</th>\n",
       "      <th>lead_time</th>\n",
       "      <th>arrival_date_year</th>\n",
       "      <th>arrival_date_week_number</th>\n",
       "      <th>arrival_date_day_of_month</th>\n",
       "      <th>stays_in_weekend_nights</th>\n",
       "      <th>adults</th>\n",
       "      <th>children</th>\n",
       "      <th>babies</th>\n",
       "      <th>is_repeated_guest</th>\n",
       "      <th>previous_cancellations</th>\n",
       "      <th>previous_bookings_not_canceled</th>\n",
       "      <th>booking_changes</th>\n",
       "      <th>days_in_waiting_list</th>\n",
       "      <th>required_car_parking_spaces</th>\n",
       "      <th>total_of_special_requests</th>\n",
       "      <th>total_nights</th>\n",
       "      <th>country_numeric</th>\n",
       "      <th>arrival_date_month_numeric</th>\n",
       "      <th>meal_numeric</th>\n",
       "      <th>customer_type_numeric</th>\n",
       "      <th>distribution_channel_numeric</th>\n",
       "      <th>reserved_room_type_numeric</th>\n",
       "      <th>expected_profit</th>\n",
       "    </tr>\n",
       "  </thead>\n",
       "  <tbody>\n",
       "    <tr>\n",
       "      <th>0</th>\n",
       "      <td>0</td>\n",
       "      <td>7</td>\n",
       "      <td>2015</td>\n",
       "      <td>27</td>\n",
       "      <td>1</td>\n",
       "      <td>0</td>\n",
       "      <td>1</td>\n",
       "      <td>0</td>\n",
       "      <td>0</td>\n",
       "      <td>0</td>\n",
       "      <td>0</td>\n",
       "      <td>0</td>\n",
       "      <td>0</td>\n",
       "      <td>0</td>\n",
       "      <td>0</td>\n",
       "      <td>0</td>\n",
       "      <td>1</td>\n",
       "      <td>3</td>\n",
       "      <td>7</td>\n",
       "      <td>2</td>\n",
       "      <td>3</td>\n",
       "      <td>1</td>\n",
       "      <td>1</td>\n",
       "      <td>1000.0</td>\n",
       "    </tr>\n",
       "    <tr>\n",
       "      <th>1</th>\n",
       "      <td>0</td>\n",
       "      <td>14</td>\n",
       "      <td>2015</td>\n",
       "      <td>27</td>\n",
       "      <td>1</td>\n",
       "      <td>0</td>\n",
       "      <td>2</td>\n",
       "      <td>0</td>\n",
       "      <td>0</td>\n",
       "      <td>0</td>\n",
       "      <td>0</td>\n",
       "      <td>0</td>\n",
       "      <td>0</td>\n",
       "      <td>0</td>\n",
       "      <td>0</td>\n",
       "      <td>1</td>\n",
       "      <td>2</td>\n",
       "      <td>3</td>\n",
       "      <td>7</td>\n",
       "      <td>2</td>\n",
       "      <td>3</td>\n",
       "      <td>2</td>\n",
       "      <td>1</td>\n",
       "      <td>2000.0</td>\n",
       "    </tr>\n",
       "    <tr>\n",
       "      <th>2</th>\n",
       "      <td>0</td>\n",
       "      <td>0</td>\n",
       "      <td>2015</td>\n",
       "      <td>27</td>\n",
       "      <td>1</td>\n",
       "      <td>0</td>\n",
       "      <td>2</td>\n",
       "      <td>0</td>\n",
       "      <td>0</td>\n",
       "      <td>0</td>\n",
       "      <td>0</td>\n",
       "      <td>0</td>\n",
       "      <td>0</td>\n",
       "      <td>0</td>\n",
       "      <td>0</td>\n",
       "      <td>0</td>\n",
       "      <td>2</td>\n",
       "      <td>1</td>\n",
       "      <td>7</td>\n",
       "      <td>2</td>\n",
       "      <td>3</td>\n",
       "      <td>1</td>\n",
       "      <td>3</td>\n",
       "      <td>980.0</td>\n",
       "    </tr>\n",
       "    <tr>\n",
       "      <th>3</th>\n",
       "      <td>0</td>\n",
       "      <td>9</td>\n",
       "      <td>2015</td>\n",
       "      <td>27</td>\n",
       "      <td>1</td>\n",
       "      <td>0</td>\n",
       "      <td>2</td>\n",
       "      <td>0</td>\n",
       "      <td>0</td>\n",
       "      <td>0</td>\n",
       "      <td>0</td>\n",
       "      <td>0</td>\n",
       "      <td>0</td>\n",
       "      <td>0</td>\n",
       "      <td>0</td>\n",
       "      <td>1</td>\n",
       "      <td>2</td>\n",
       "      <td>1</td>\n",
       "      <td>7</td>\n",
       "      <td>4</td>\n",
       "      <td>3</td>\n",
       "      <td>1</td>\n",
       "      <td>3</td>\n",
       "      <td>980.0</td>\n",
       "    </tr>\n",
       "    <tr>\n",
       "      <th>4</th>\n",
       "      <td>1</td>\n",
       "      <td>85</td>\n",
       "      <td>2015</td>\n",
       "      <td>27</td>\n",
       "      <td>1</td>\n",
       "      <td>0</td>\n",
       "      <td>2</td>\n",
       "      <td>0</td>\n",
       "      <td>0</td>\n",
       "      <td>0</td>\n",
       "      <td>0</td>\n",
       "      <td>0</td>\n",
       "      <td>0</td>\n",
       "      <td>0</td>\n",
       "      <td>0</td>\n",
       "      <td>1</td>\n",
       "      <td>3</td>\n",
       "      <td>1</td>\n",
       "      <td>7</td>\n",
       "      <td>2</td>\n",
       "      <td>3</td>\n",
       "      <td>2</td>\n",
       "      <td>1</td>\n",
       "      <td>-1800.0</td>\n",
       "    </tr>\n",
       "  </tbody>\n",
       "</table>\n",
       "</div>"
      ],
      "text/plain": [
       "   is_canceled  lead_time  arrival_date_year  arrival_date_week_number  \\\n",
       "0            0          7               2015                        27   \n",
       "1            0         14               2015                        27   \n",
       "2            0          0               2015                        27   \n",
       "3            0          9               2015                        27   \n",
       "4            1         85               2015                        27   \n",
       "\n",
       "   arrival_date_day_of_month  stays_in_weekend_nights  adults  children  \\\n",
       "0                          1                        0       1         0   \n",
       "1                          1                        0       2         0   \n",
       "2                          1                        0       2         0   \n",
       "3                          1                        0       2         0   \n",
       "4                          1                        0       2         0   \n",
       "\n",
       "   babies  is_repeated_guest  previous_cancellations  \\\n",
       "0       0                  0                       0   \n",
       "1       0                  0                       0   \n",
       "2       0                  0                       0   \n",
       "3       0                  0                       0   \n",
       "4       0                  0                       0   \n",
       "\n",
       "   previous_bookings_not_canceled  booking_changes  days_in_waiting_list  \\\n",
       "0                               0                0                     0   \n",
       "1                               0                0                     0   \n",
       "2                               0                0                     0   \n",
       "3                               0                0                     0   \n",
       "4                               0                0                     0   \n",
       "\n",
       "   required_car_parking_spaces  total_of_special_requests  total_nights  \\\n",
       "0                            0                          0             1   \n",
       "1                            0                          1             2   \n",
       "2                            0                          0             2   \n",
       "3                            0                          1             2   \n",
       "4                            0                          1             3   \n",
       "\n",
       "   country_numeric  arrival_date_month_numeric  meal_numeric  \\\n",
       "0                3                           7             2   \n",
       "1                3                           7             2   \n",
       "2                1                           7             2   \n",
       "3                1                           7             4   \n",
       "4                1                           7             2   \n",
       "\n",
       "   customer_type_numeric  distribution_channel_numeric  \\\n",
       "0                      3                             1   \n",
       "1                      3                             2   \n",
       "2                      3                             1   \n",
       "3                      3                             1   \n",
       "4                      3                             2   \n",
       "\n",
       "   reserved_room_type_numeric  expected_profit  \n",
       "0                           1           1000.0  \n",
       "1                           1           2000.0  \n",
       "2                           3            980.0  \n",
       "3                           3            980.0  \n",
       "4                           1          -1800.0  "
      ]
     },
     "metadata": {},
     "output_type": "display_data"
    },
    {
     "data": {
      "text/html": [
       "<div>\n",
       "<style scoped>\n",
       "    .dataframe tbody tr th:only-of-type {\n",
       "        vertical-align: middle;\n",
       "    }\n",
       "\n",
       "    .dataframe tbody tr th {\n",
       "        vertical-align: top;\n",
       "    }\n",
       "\n",
       "    .dataframe thead th {\n",
       "        text-align: right;\n",
       "    }\n",
       "</style>\n",
       "<table border=\"1\" class=\"dataframe\">\n",
       "  <thead>\n",
       "    <tr style=\"text-align: right;\">\n",
       "      <th></th>\n",
       "      <th>is_canceled</th>\n",
       "      <th>lead_time</th>\n",
       "      <th>arrival_date_year</th>\n",
       "      <th>arrival_date_week_number</th>\n",
       "      <th>arrival_date_day_of_month</th>\n",
       "      <th>stays_in_weekend_nights</th>\n",
       "      <th>adults</th>\n",
       "      <th>children</th>\n",
       "      <th>babies</th>\n",
       "      <th>is_repeated_guest</th>\n",
       "      <th>previous_cancellations</th>\n",
       "      <th>previous_bookings_not_canceled</th>\n",
       "      <th>booking_changes</th>\n",
       "      <th>days_in_waiting_list</th>\n",
       "      <th>required_car_parking_spaces</th>\n",
       "      <th>total_of_special_requests</th>\n",
       "      <th>total_nights</th>\n",
       "      <th>country_numeric</th>\n",
       "      <th>arrival_date_month_numeric</th>\n",
       "      <th>meal_numeric</th>\n",
       "      <th>customer_type_numeric</th>\n",
       "      <th>distribution_channel_numeric</th>\n",
       "      <th>reserved_room_type_numeric</th>\n",
       "      <th>expected_profit</th>\n",
       "    </tr>\n",
       "  </thead>\n",
       "  <tbody>\n",
       "    <tr>\n",
       "      <th>0</th>\n",
       "      <td>1</td>\n",
       "      <td>74</td>\n",
       "      <td>2017</td>\n",
       "      <td>1</td>\n",
       "      <td>1</td>\n",
       "      <td>1</td>\n",
       "      <td>2</td>\n",
       "      <td>0</td>\n",
       "      <td>0</td>\n",
       "      <td>0</td>\n",
       "      <td>0</td>\n",
       "      <td>0</td>\n",
       "      <td>0</td>\n",
       "      <td>0</td>\n",
       "      <td>0</td>\n",
       "      <td>0</td>\n",
       "      <td>1</td>\n",
       "      <td>1</td>\n",
       "      <td>1</td>\n",
       "      <td>2</td>\n",
       "      <td>3</td>\n",
       "      <td>2</td>\n",
       "      <td>1</td>\n",
       "      <td>-1400.0</td>\n",
       "    </tr>\n",
       "    <tr>\n",
       "      <th>1</th>\n",
       "      <td>1</td>\n",
       "      <td>62</td>\n",
       "      <td>2017</td>\n",
       "      <td>1</td>\n",
       "      <td>1</td>\n",
       "      <td>2</td>\n",
       "      <td>2</td>\n",
       "      <td>0</td>\n",
       "      <td>0</td>\n",
       "      <td>0</td>\n",
       "      <td>0</td>\n",
       "      <td>0</td>\n",
       "      <td>0</td>\n",
       "      <td>0</td>\n",
       "      <td>0</td>\n",
       "      <td>1</td>\n",
       "      <td>4</td>\n",
       "      <td>7</td>\n",
       "      <td>1</td>\n",
       "      <td>2</td>\n",
       "      <td>3</td>\n",
       "      <td>2</td>\n",
       "      <td>1</td>\n",
       "      <td>-1400.0</td>\n",
       "    </tr>\n",
       "    <tr>\n",
       "      <th>2</th>\n",
       "      <td>1</td>\n",
       "      <td>62</td>\n",
       "      <td>2017</td>\n",
       "      <td>1</td>\n",
       "      <td>1</td>\n",
       "      <td>2</td>\n",
       "      <td>2</td>\n",
       "      <td>0</td>\n",
       "      <td>0</td>\n",
       "      <td>0</td>\n",
       "      <td>0</td>\n",
       "      <td>0</td>\n",
       "      <td>0</td>\n",
       "      <td>0</td>\n",
       "      <td>0</td>\n",
       "      <td>1</td>\n",
       "      <td>4</td>\n",
       "      <td>7</td>\n",
       "      <td>1</td>\n",
       "      <td>2</td>\n",
       "      <td>3</td>\n",
       "      <td>2</td>\n",
       "      <td>1</td>\n",
       "      <td>-1400.0</td>\n",
       "    </tr>\n",
       "    <tr>\n",
       "      <th>3</th>\n",
       "      <td>1</td>\n",
       "      <td>71</td>\n",
       "      <td>2017</td>\n",
       "      <td>1</td>\n",
       "      <td>1</td>\n",
       "      <td>2</td>\n",
       "      <td>1</td>\n",
       "      <td>0</td>\n",
       "      <td>0</td>\n",
       "      <td>0</td>\n",
       "      <td>0</td>\n",
       "      <td>0</td>\n",
       "      <td>0</td>\n",
       "      <td>0</td>\n",
       "      <td>0</td>\n",
       "      <td>1</td>\n",
       "      <td>4</td>\n",
       "      <td>1</td>\n",
       "      <td>1</td>\n",
       "      <td>2</td>\n",
       "      <td>3</td>\n",
       "      <td>2</td>\n",
       "      <td>1</td>\n",
       "      <td>-1400.0</td>\n",
       "    </tr>\n",
       "    <tr>\n",
       "      <th>4</th>\n",
       "      <td>1</td>\n",
       "      <td>172</td>\n",
       "      <td>2017</td>\n",
       "      <td>1</td>\n",
       "      <td>1</td>\n",
       "      <td>2</td>\n",
       "      <td>2</td>\n",
       "      <td>0</td>\n",
       "      <td>0</td>\n",
       "      <td>0</td>\n",
       "      <td>0</td>\n",
       "      <td>0</td>\n",
       "      <td>0</td>\n",
       "      <td>0</td>\n",
       "      <td>0</td>\n",
       "      <td>0</td>\n",
       "      <td>7</td>\n",
       "      <td>7</td>\n",
       "      <td>1</td>\n",
       "      <td>2</td>\n",
       "      <td>3</td>\n",
       "      <td>2</td>\n",
       "      <td>1</td>\n",
       "      <td>-1400.0</td>\n",
       "    </tr>\n",
       "  </tbody>\n",
       "</table>\n",
       "</div>"
      ],
      "text/plain": [
       "   is_canceled  lead_time  arrival_date_year  arrival_date_week_number  \\\n",
       "0            1         74               2017                         1   \n",
       "1            1         62               2017                         1   \n",
       "2            1         62               2017                         1   \n",
       "3            1         71               2017                         1   \n",
       "4            1        172               2017                         1   \n",
       "\n",
       "   arrival_date_day_of_month  stays_in_weekend_nights  adults  children  \\\n",
       "0                          1                        1       2         0   \n",
       "1                          1                        2       2         0   \n",
       "2                          1                        2       2         0   \n",
       "3                          1                        2       1         0   \n",
       "4                          1                        2       2         0   \n",
       "\n",
       "   babies  is_repeated_guest  previous_cancellations  \\\n",
       "0       0                  0                       0   \n",
       "1       0                  0                       0   \n",
       "2       0                  0                       0   \n",
       "3       0                  0                       0   \n",
       "4       0                  0                       0   \n",
       "\n",
       "   previous_bookings_not_canceled  booking_changes  days_in_waiting_list  \\\n",
       "0                               0                0                     0   \n",
       "1                               0                0                     0   \n",
       "2                               0                0                     0   \n",
       "3                               0                0                     0   \n",
       "4                               0                0                     0   \n",
       "\n",
       "   required_car_parking_spaces  total_of_special_requests  total_nights  \\\n",
       "0                            0                          0             1   \n",
       "1                            0                          1             4   \n",
       "2                            0                          1             4   \n",
       "3                            0                          1             4   \n",
       "4                            0                          0             7   \n",
       "\n",
       "   country_numeric  arrival_date_month_numeric  meal_numeric  \\\n",
       "0                1                           1             2   \n",
       "1                7                           1             2   \n",
       "2                7                           1             2   \n",
       "3                1                           1             2   \n",
       "4                7                           1             2   \n",
       "\n",
       "   customer_type_numeric  distribution_channel_numeric  \\\n",
       "0                      3                             2   \n",
       "1                      3                             2   \n",
       "2                      3                             2   \n",
       "3                      3                             2   \n",
       "4                      3                             2   \n",
       "\n",
       "   reserved_room_type_numeric  expected_profit  \n",
       "0                           1          -1400.0  \n",
       "1                           1          -1400.0  \n",
       "2                           1          -1400.0  \n",
       "3                           1          -1400.0  \n",
       "4                           1          -1400.0  "
      ]
     },
     "metadata": {},
     "output_type": "display_data"
    }
   ],
   "source": [
    "# расчет прибыли (убытков) отеля без внедрения депозитов\n",
    "def expected_profit(row):\n",
    "    var = row['reserved_room_type']\n",
    "    val = row['is_canceled']\n",
    "    \n",
    "    if var == 'A' and val == 0:\n",
    "        value = row['total_nights'] * 1000\n",
    "        if row['arrival_date_month_numeric'] in (3, 4, 5, 9, 10, 11):\n",
    "            value = (value * 1.2) - (math.floor(row['total_nights'] / 2) * 400) - 400\n",
    "            return value\n",
    "        elif row['arrival_date_month_numeric'] in (6, 7, 8):\n",
    "            value = (value * 1.4) - (math.floor(row['total_nights'] / 2) * 400) - 400\n",
    "            return value\n",
    "        elif row['arrival_date_month_numeric'] in (12, 1, 2):\n",
    "            value = (value * 1.0) - (math.floor(row['total_nights'] / 2) * 400) - 400\n",
    "            return value\n",
    "    elif var == 'A' and val == 1:\n",
    "        value = 0 - 1 * 1000\n",
    "        if row['arrival_date_month_numeric'] in (3, 4, 5, 9, 10, 11):\n",
    "            value = value * 1.2 - 400\n",
    "            return value\n",
    "        elif row['arrival_date_month_numeric'] in (6, 7, 8):\n",
    "            value = value * 1.4 - 400\n",
    "            return value\n",
    "        elif row['arrival_date_month_numeric'] in (12, 1, 2):\n",
    "            value = value * 1.0 - 400\n",
    "            return value  \n",
    "        \n",
    "    elif var == 'B' and val == 0:\n",
    "        value = row['total_nights'] * 800\n",
    "        if row['arrival_date_month_numeric'] in (3, 4, 5, 9, 10, 11):\n",
    "            value = (value * 1.2) - (math.floor(row['total_nights'] / 2) * 350) - 350\n",
    "            return value\n",
    "        elif row['arrival_date_month_numeric'] in (6, 7, 8):\n",
    "            value = (value * 1.4) - (math.floor(row['total_nights'] / 2) * 350) - 350\n",
    "            return value\n",
    "        elif row['arrival_date_month_numeric'] in (12, 1, 2):\n",
    "            value = (value * 1.0) - (math.floor(row['total_nights'] / 2) * 350) - 350\n",
    "            return value\n",
    "    elif var == 'B' and val == 1:\n",
    "        value = 0 - 1 * 800\n",
    "        if row['arrival_date_month_numeric'] in (3, 4, 5, 9, 10, 11):\n",
    "            value = value * 1.2 - 350\n",
    "            return value\n",
    "        elif row['arrival_date_month_numeric'] in (6, 7, 8):\n",
    "            value = value * 1.4 - 350\n",
    "            return value\n",
    "        elif row['arrival_date_month_numeric'] in (12, 1, 2):\n",
    "            value = value * 1.0 - 350\n",
    "            return value\n",
    "        \n",
    "    elif var == 'C' and val == 0:\n",
    "        value = row['total_nights'] * 600\n",
    "        if row['arrival_date_month_numeric'] in (3, 4, 5, 9, 10, 11):\n",
    "            value = (value * 1.2) - (math.floor(row['total_nights'] / 2) * 350) - 350\n",
    "            return value\n",
    "        elif row['arrival_date_month_numeric'] in (6, 7, 8):\n",
    "            value = (value * 1.4) - (math.floor(row['total_nights'] / 2) * 350) - 350\n",
    "            return value\n",
    "        elif row['arrival_date_month_numeric'] in (12, 1, 2):\n",
    "            value = (value * 1.0) - (math.floor(row['total_nights'] / 2) * 350) - 350\n",
    "            return value\n",
    "    elif var == 'C' and val == 1:\n",
    "        value = 0 - 1 * 600\n",
    "        if row['arrival_date_month_numeric'] in (3, 4, 5, 9, 10, 11):\n",
    "            value = value * 1.2 - 350\n",
    "            return value\n",
    "        elif row['arrival_date_month_numeric'] in (6, 7, 8):\n",
    "            value = value * 1.4 - 350\n",
    "            return value\n",
    "        elif row['arrival_date_month_numeric'] in (12, 1, 2):\n",
    "            value = value * 1.0 - 350\n",
    "            return value        \n",
    "        \n",
    "    elif var == 'D' and val == 0:\n",
    "        value = row['total_nights'] * 550\n",
    "        if row['arrival_date_month_numeric'] in (3, 4, 5, 9, 10, 11):\n",
    "            value = (value * 1.2) - (math.floor(row['total_nights'] / 2) * 150) - 150\n",
    "            return value\n",
    "        elif row['arrival_date_month_numeric'] in (6, 7, 8):\n",
    "            value = (value * 1.4) - (math.floor(row['total_nights'] / 2) * 150) - 150\n",
    "            return value\n",
    "        elif row['arrival_date_month_numeric'] in (12, 1, 2):\n",
    "            value = (value * 1.0) - (math.floor(row['total_nights'] / 2) * 150) - 150\n",
    "            return value\n",
    "    elif var == 'D' and val == 1:\n",
    "        value = 0 - 1 * 550\n",
    "        if row['arrival_date_month_numeric'] in (3, 4, 5, 9, 10, 11):\n",
    "            value = value * 1.2 - 150\n",
    "            return value\n",
    "        elif row['arrival_date_month_numeric'] in (6, 7, 8):\n",
    "            value = value * 1.4 - 150\n",
    "            return value\n",
    "        elif row['arrival_date_month_numeric'] in (12, 1, 2):\n",
    "            value = value * 1.0 - 150\n",
    "            return value         \n",
    " \n",
    "    elif var == 'E' and val == 0:\n",
    "        value = row['total_nights'] * 500\n",
    "        if row['arrival_date_month_numeric'] in (3, 4, 5, 9, 10, 11):\n",
    "            value = (value * 1.2) - (math.floor(row['total_nights'] / 2) * 150) - 150\n",
    "            return value\n",
    "        elif row['arrival_date_month_numeric'] in (6, 7, 8):\n",
    "            value = (value * 1.4) - (math.floor(row['total_nights'] / 2) * 150) - 150\n",
    "            return value\n",
    "        elif row['arrival_date_month_numeric'] in (12, 1, 2):\n",
    "            value = (value * 1.0) - (math.floor(row['total_nights'] / 2) * 150) - 150\n",
    "            return value\n",
    "    elif var == 'E' and val == 1:\n",
    "        value = 0 - 1 * 500\n",
    "        if row['arrival_date_month_numeric'] in (3, 4, 5, 9, 10, 11):\n",
    "            value = value * 1.2 - 150\n",
    "            return value\n",
    "        elif row['arrival_date_month_numeric'] in (6, 7, 8):\n",
    "            value = value * 1.4 - 150\n",
    "            return value\n",
    "        elif row['arrival_date_month_numeric'] in (12, 1, 2):\n",
    "            value = value * 1.0 - 150\n",
    "            return value\n",
    " \n",
    "    elif var == 'F' and val == 0:\n",
    "        value = row['total_nights'] * 450\n",
    "        if row['arrival_date_month_numeric'] in (3, 4, 5, 9, 10, 11):\n",
    "            value = (value * 1.2) - (math.floor(row['total_nights'] / 2) * 150) - 150\n",
    "            return value\n",
    "        elif row['arrival_date_month_numeric'] in (6, 7, 8):\n",
    "            value = (value * 1.4) - (math.floor(row['total_nights'] / 2) * 150) - 150\n",
    "            return value\n",
    "        elif row['arrival_date_month_numeric'] in (12, 1, 2):\n",
    "            value = (value * 1.0) - (math.floor(row['total_nights'] / 2) * 150) - 150\n",
    "            return value\n",
    "    elif var == 'F' and val == 1:\n",
    "        value = 0 - 1 * 450\n",
    "        if row['arrival_date_month_numeric'] in (3, 4, 5, 9, 10, 11):\n",
    "            value = value * 1.2 - 150\n",
    "            return value\n",
    "        elif row['arrival_date_month_numeric'] in (6, 7, 8):\n",
    "            value = value * 1.4 - 150\n",
    "            return value\n",
    "        elif row['arrival_date_month_numeric'] in (12, 1, 2):\n",
    "            value = value * 1.0 - 150\n",
    "            return value\n",
    " \n",
    "    elif var == 'G' and val == 0:\n",
    "        value = row['total_nights'] * 350\n",
    "        if row['arrival_date_month_numeric'] in (3, 4, 5, 9, 10, 11):\n",
    "            value = (value * 1.2) - (math.floor(row['total_nights'] / 2) * 150) - 150\n",
    "            return value\n",
    "        elif row['arrival_date_month_numeric'] in (6, 7, 8):\n",
    "            value = (value * 1.4) - (math.floor(row['total_nights'] / 2) * 150) - 150\n",
    "            return value\n",
    "        elif row['arrival_date_month_numeric'] in (12, 1, 2):\n",
    "            value = (value * 1.0) - (math.floor(row['total_nights'] / 2) * 150) - 150\n",
    "            return value\n",
    "    elif var == 'G' and val == 1:\n",
    "        value = 0 - 1 * 350\n",
    "        if row['arrival_date_month_numeric'] in (3, 4, 5, 9, 10, 11):\n",
    "            value = value * 1.2 - 150\n",
    "            return value\n",
    "        elif row['arrival_date_month_numeric'] in (6, 7, 8):\n",
    "            value = value * 1.4 - 150\n",
    "            return value\n",
    "        elif row['arrival_date_month_numeric'] in (12, 1, 2):\n",
    "            value = value * 1.0 - 150\n",
    "            return value\n",
    "        \n",
    "# прменим функцию расчета прибыли (убытков) отеля\n",
    "df_train['expected_profit'] = df_train.apply(expected_profit, axis=1)\n",
    "df_test['expected_profit'] = df_test.apply(expected_profit, axis=1)\n",
    "# удаление столбца, где тип данных object\n",
    "df_train = df_train.drop(['reserved_room_type'], axis=1)\n",
    "df_test = df_test.drop(['reserved_room_type'], axis=1)\n",
    "# выведем таблицы с результатами на экран\n",
    "display(df_train.head(5))\n",
    "display(df_test.head(5))"
   ]
  },
  {
   "cell_type": "code",
   "execution_count": 25,
   "metadata": {
    "scrolled": false
   },
   "outputs": [
    {
     "data": {
      "text/plain": [
       "arrival_date_month_numeric\n",
       "1     1404100.0\n",
       "2     1982800.0\n",
       "3     5039830.0\n",
       "4     4129910.0\n",
       "5     4743990.0\n",
       "6     4740640.0\n",
       "7     7563220.0\n",
       "8     8742400.0\n",
       "9     8018650.0\n",
       "10    8516700.0\n",
       "11    6806210.0\n",
       "12    4183500.0\n",
       "Name: expected_profit, dtype: float64"
      ]
     },
     "metadata": {},
     "output_type": "display_data"
    },
    {
     "data": {
      "text/plain": [
       "'df_train_profit:'"
      ]
     },
     "metadata": {},
     "output_type": "display_data"
    },
    {
     "data": {
      "text/plain": [
       "65871950.0"
      ]
     },
     "metadata": {},
     "output_type": "display_data"
    },
    {
     "data": {
      "text/plain": [
       "arrival_date_month_numeric\n",
       "1    2167850.0\n",
       "2    2919300.0\n",
       "3    5057710.0\n",
       "4    4133580.0\n",
       "5    3847390.0\n",
       "6    4361830.0\n",
       "7    4999870.0\n",
       "8    5001020.0\n",
       "Name: expected_profit, dtype: float64"
      ]
     },
     "metadata": {},
     "output_type": "display_data"
    },
    {
     "data": {
      "text/plain": [
       "'df_test_profit:'"
      ]
     },
     "metadata": {},
     "output_type": "display_data"
    },
    {
     "data": {
      "text/plain": [
       "32488550.0"
      ]
     },
     "metadata": {},
     "output_type": "display_data"
    }
   ],
   "source": [
    "# выведем на экран значение прибыли отеля по месяцам и суммарно по всем данным таблицы df_train\n",
    "display(df_train.groupby(by='arrival_date_month_numeric')['expected_profit'].sum())\n",
    "display('df_train_profit:', df_train.expected_profit.sum())\n",
    "# выведем на экран значение прибыли отеля по месяцам и суммарно по всем данным таблицые df_test\n",
    "df_before_model = df_test.groupby(by='arrival_date_month_numeric')['expected_profit'].sum()\n",
    "display(df_before_model)\n",
    "df_before_model_total = df_test.expected_profit.sum()\n",
    "display('df_test_profit:', df_before_model_total)"
   ]
  },
  {
   "cell_type": "code",
   "execution_count": 26,
   "metadata": {},
   "outputs": [
    {
     "data": {
      "text/html": [
       "<div>\n",
       "<style scoped>\n",
       "    .dataframe tbody tr th:only-of-type {\n",
       "        vertical-align: middle;\n",
       "    }\n",
       "\n",
       "    .dataframe tbody tr th {\n",
       "        vertical-align: top;\n",
       "    }\n",
       "\n",
       "    .dataframe thead th {\n",
       "        text-align: right;\n",
       "    }\n",
       "</style>\n",
       "<table border=\"1\" class=\"dataframe\">\n",
       "  <thead>\n",
       "    <tr style=\"text-align: right;\">\n",
       "      <th></th>\n",
       "      <th>is_canceled</th>\n",
       "      <th>lead_time</th>\n",
       "      <th>arrival_date_year</th>\n",
       "      <th>arrival_date_week_number</th>\n",
       "      <th>arrival_date_day_of_month</th>\n",
       "      <th>stays_in_weekend_nights</th>\n",
       "      <th>adults</th>\n",
       "      <th>children</th>\n",
       "      <th>babies</th>\n",
       "      <th>is_repeated_guest</th>\n",
       "      <th>previous_cancellations</th>\n",
       "      <th>previous_bookings_not_canceled</th>\n",
       "      <th>booking_changes</th>\n",
       "      <th>days_in_waiting_list</th>\n",
       "      <th>required_car_parking_spaces</th>\n",
       "      <th>total_of_special_requests</th>\n",
       "      <th>total_nights</th>\n",
       "      <th>country_numeric</th>\n",
       "      <th>arrival_date_month_numeric</th>\n",
       "      <th>meal_numeric</th>\n",
       "      <th>customer_type_numeric</th>\n",
       "      <th>distribution_channel_numeric</th>\n",
       "      <th>reserved_room_type_numeric</th>\n",
       "      <th>expected_profit</th>\n",
       "      <th>profit_with_deposit</th>\n",
       "    </tr>\n",
       "  </thead>\n",
       "  <tbody>\n",
       "    <tr>\n",
       "      <th>0</th>\n",
       "      <td>0</td>\n",
       "      <td>7</td>\n",
       "      <td>2015</td>\n",
       "      <td>27</td>\n",
       "      <td>1</td>\n",
       "      <td>0</td>\n",
       "      <td>1</td>\n",
       "      <td>0</td>\n",
       "      <td>0</td>\n",
       "      <td>0</td>\n",
       "      <td>0</td>\n",
       "      <td>0</td>\n",
       "      <td>0</td>\n",
       "      <td>0</td>\n",
       "      <td>0</td>\n",
       "      <td>0</td>\n",
       "      <td>1</td>\n",
       "      <td>3</td>\n",
       "      <td>7</td>\n",
       "      <td>2</td>\n",
       "      <td>3</td>\n",
       "      <td>1</td>\n",
       "      <td>1</td>\n",
       "      <td>1000.0</td>\n",
       "      <td>1000.0</td>\n",
       "    </tr>\n",
       "    <tr>\n",
       "      <th>1</th>\n",
       "      <td>0</td>\n",
       "      <td>14</td>\n",
       "      <td>2015</td>\n",
       "      <td>27</td>\n",
       "      <td>1</td>\n",
       "      <td>0</td>\n",
       "      <td>2</td>\n",
       "      <td>0</td>\n",
       "      <td>0</td>\n",
       "      <td>0</td>\n",
       "      <td>0</td>\n",
       "      <td>0</td>\n",
       "      <td>0</td>\n",
       "      <td>0</td>\n",
       "      <td>0</td>\n",
       "      <td>1</td>\n",
       "      <td>2</td>\n",
       "      <td>3</td>\n",
       "      <td>7</td>\n",
       "      <td>2</td>\n",
       "      <td>3</td>\n",
       "      <td>2</td>\n",
       "      <td>1</td>\n",
       "      <td>2000.0</td>\n",
       "      <td>2000.0</td>\n",
       "    </tr>\n",
       "    <tr>\n",
       "      <th>2</th>\n",
       "      <td>0</td>\n",
       "      <td>0</td>\n",
       "      <td>2015</td>\n",
       "      <td>27</td>\n",
       "      <td>1</td>\n",
       "      <td>0</td>\n",
       "      <td>2</td>\n",
       "      <td>0</td>\n",
       "      <td>0</td>\n",
       "      <td>0</td>\n",
       "      <td>0</td>\n",
       "      <td>0</td>\n",
       "      <td>0</td>\n",
       "      <td>0</td>\n",
       "      <td>0</td>\n",
       "      <td>0</td>\n",
       "      <td>2</td>\n",
       "      <td>1</td>\n",
       "      <td>7</td>\n",
       "      <td>2</td>\n",
       "      <td>3</td>\n",
       "      <td>1</td>\n",
       "      <td>3</td>\n",
       "      <td>980.0</td>\n",
       "      <td>980.0</td>\n",
       "    </tr>\n",
       "    <tr>\n",
       "      <th>3</th>\n",
       "      <td>0</td>\n",
       "      <td>9</td>\n",
       "      <td>2015</td>\n",
       "      <td>27</td>\n",
       "      <td>1</td>\n",
       "      <td>0</td>\n",
       "      <td>2</td>\n",
       "      <td>0</td>\n",
       "      <td>0</td>\n",
       "      <td>0</td>\n",
       "      <td>0</td>\n",
       "      <td>0</td>\n",
       "      <td>0</td>\n",
       "      <td>0</td>\n",
       "      <td>0</td>\n",
       "      <td>1</td>\n",
       "      <td>2</td>\n",
       "      <td>1</td>\n",
       "      <td>7</td>\n",
       "      <td>4</td>\n",
       "      <td>3</td>\n",
       "      <td>1</td>\n",
       "      <td>3</td>\n",
       "      <td>980.0</td>\n",
       "      <td>980.0</td>\n",
       "    </tr>\n",
       "    <tr>\n",
       "      <th>4</th>\n",
       "      <td>1</td>\n",
       "      <td>85</td>\n",
       "      <td>2015</td>\n",
       "      <td>27</td>\n",
       "      <td>1</td>\n",
       "      <td>0</td>\n",
       "      <td>2</td>\n",
       "      <td>0</td>\n",
       "      <td>0</td>\n",
       "      <td>0</td>\n",
       "      <td>0</td>\n",
       "      <td>0</td>\n",
       "      <td>0</td>\n",
       "      <td>0</td>\n",
       "      <td>0</td>\n",
       "      <td>1</td>\n",
       "      <td>3</td>\n",
       "      <td>1</td>\n",
       "      <td>7</td>\n",
       "      <td>2</td>\n",
       "      <td>3</td>\n",
       "      <td>2</td>\n",
       "      <td>1</td>\n",
       "      <td>-1800.0</td>\n",
       "      <td>-360.0</td>\n",
       "    </tr>\n",
       "  </tbody>\n",
       "</table>\n",
       "</div>"
      ],
      "text/plain": [
       "   is_canceled  lead_time  arrival_date_year  arrival_date_week_number  \\\n",
       "0            0          7               2015                        27   \n",
       "1            0         14               2015                        27   \n",
       "2            0          0               2015                        27   \n",
       "3            0          9               2015                        27   \n",
       "4            1         85               2015                        27   \n",
       "\n",
       "   arrival_date_day_of_month  stays_in_weekend_nights  adults  children  \\\n",
       "0                          1                        0       1         0   \n",
       "1                          1                        0       2         0   \n",
       "2                          1                        0       2         0   \n",
       "3                          1                        0       2         0   \n",
       "4                          1                        0       2         0   \n",
       "\n",
       "   babies  is_repeated_guest  previous_cancellations  \\\n",
       "0       0                  0                       0   \n",
       "1       0                  0                       0   \n",
       "2       0                  0                       0   \n",
       "3       0                  0                       0   \n",
       "4       0                  0                       0   \n",
       "\n",
       "   previous_bookings_not_canceled  booking_changes  days_in_waiting_list  \\\n",
       "0                               0                0                     0   \n",
       "1                               0                0                     0   \n",
       "2                               0                0                     0   \n",
       "3                               0                0                     0   \n",
       "4                               0                0                     0   \n",
       "\n",
       "   required_car_parking_spaces  total_of_special_requests  total_nights  \\\n",
       "0                            0                          0             1   \n",
       "1                            0                          1             2   \n",
       "2                            0                          0             2   \n",
       "3                            0                          1             2   \n",
       "4                            0                          1             3   \n",
       "\n",
       "   country_numeric  arrival_date_month_numeric  meal_numeric  \\\n",
       "0                3                           7             2   \n",
       "1                3                           7             2   \n",
       "2                1                           7             2   \n",
       "3                1                           7             4   \n",
       "4                1                           7             2   \n",
       "\n",
       "   customer_type_numeric  distribution_channel_numeric  \\\n",
       "0                      3                             1   \n",
       "1                      3                             2   \n",
       "2                      3                             1   \n",
       "3                      3                             1   \n",
       "4                      3                             2   \n",
       "\n",
       "   reserved_room_type_numeric  expected_profit  profit_with_deposit  \n",
       "0                           1           1000.0               1000.0  \n",
       "1                           1           2000.0               2000.0  \n",
       "2                           3            980.0                980.0  \n",
       "3                           3            980.0                980.0  \n",
       "4                           1          -1800.0               -360.0  "
      ]
     },
     "metadata": {},
     "output_type": "display_data"
    },
    {
     "data": {
      "text/html": [
       "<div>\n",
       "<style scoped>\n",
       "    .dataframe tbody tr th:only-of-type {\n",
       "        vertical-align: middle;\n",
       "    }\n",
       "\n",
       "    .dataframe tbody tr th {\n",
       "        vertical-align: top;\n",
       "    }\n",
       "\n",
       "    .dataframe thead th {\n",
       "        text-align: right;\n",
       "    }\n",
       "</style>\n",
       "<table border=\"1\" class=\"dataframe\">\n",
       "  <thead>\n",
       "    <tr style=\"text-align: right;\">\n",
       "      <th></th>\n",
       "      <th>is_canceled</th>\n",
       "      <th>lead_time</th>\n",
       "      <th>arrival_date_year</th>\n",
       "      <th>arrival_date_week_number</th>\n",
       "      <th>arrival_date_day_of_month</th>\n",
       "      <th>stays_in_weekend_nights</th>\n",
       "      <th>adults</th>\n",
       "      <th>children</th>\n",
       "      <th>babies</th>\n",
       "      <th>is_repeated_guest</th>\n",
       "      <th>previous_cancellations</th>\n",
       "      <th>previous_bookings_not_canceled</th>\n",
       "      <th>booking_changes</th>\n",
       "      <th>days_in_waiting_list</th>\n",
       "      <th>required_car_parking_spaces</th>\n",
       "      <th>total_of_special_requests</th>\n",
       "      <th>total_nights</th>\n",
       "      <th>country_numeric</th>\n",
       "      <th>arrival_date_month_numeric</th>\n",
       "      <th>meal_numeric</th>\n",
       "      <th>customer_type_numeric</th>\n",
       "      <th>distribution_channel_numeric</th>\n",
       "      <th>reserved_room_type_numeric</th>\n",
       "      <th>expected_profit</th>\n",
       "      <th>profit_with_deposit</th>\n",
       "    </tr>\n",
       "  </thead>\n",
       "  <tbody>\n",
       "    <tr>\n",
       "      <th>0</th>\n",
       "      <td>1</td>\n",
       "      <td>74</td>\n",
       "      <td>2017</td>\n",
       "      <td>1</td>\n",
       "      <td>1</td>\n",
       "      <td>1</td>\n",
       "      <td>2</td>\n",
       "      <td>0</td>\n",
       "      <td>0</td>\n",
       "      <td>0</td>\n",
       "      <td>0</td>\n",
       "      <td>0</td>\n",
       "      <td>0</td>\n",
       "      <td>0</td>\n",
       "      <td>0</td>\n",
       "      <td>0</td>\n",
       "      <td>1</td>\n",
       "      <td>1</td>\n",
       "      <td>1</td>\n",
       "      <td>2</td>\n",
       "      <td>3</td>\n",
       "      <td>2</td>\n",
       "      <td>1</td>\n",
       "      <td>-1400.0</td>\n",
       "      <td>-280.0</td>\n",
       "    </tr>\n",
       "    <tr>\n",
       "      <th>1</th>\n",
       "      <td>1</td>\n",
       "      <td>62</td>\n",
       "      <td>2017</td>\n",
       "      <td>1</td>\n",
       "      <td>1</td>\n",
       "      <td>2</td>\n",
       "      <td>2</td>\n",
       "      <td>0</td>\n",
       "      <td>0</td>\n",
       "      <td>0</td>\n",
       "      <td>0</td>\n",
       "      <td>0</td>\n",
       "      <td>0</td>\n",
       "      <td>0</td>\n",
       "      <td>0</td>\n",
       "      <td>1</td>\n",
       "      <td>4</td>\n",
       "      <td>7</td>\n",
       "      <td>1</td>\n",
       "      <td>2</td>\n",
       "      <td>3</td>\n",
       "      <td>2</td>\n",
       "      <td>1</td>\n",
       "      <td>-1400.0</td>\n",
       "      <td>-280.0</td>\n",
       "    </tr>\n",
       "    <tr>\n",
       "      <th>2</th>\n",
       "      <td>1</td>\n",
       "      <td>62</td>\n",
       "      <td>2017</td>\n",
       "      <td>1</td>\n",
       "      <td>1</td>\n",
       "      <td>2</td>\n",
       "      <td>2</td>\n",
       "      <td>0</td>\n",
       "      <td>0</td>\n",
       "      <td>0</td>\n",
       "      <td>0</td>\n",
       "      <td>0</td>\n",
       "      <td>0</td>\n",
       "      <td>0</td>\n",
       "      <td>0</td>\n",
       "      <td>1</td>\n",
       "      <td>4</td>\n",
       "      <td>7</td>\n",
       "      <td>1</td>\n",
       "      <td>2</td>\n",
       "      <td>3</td>\n",
       "      <td>2</td>\n",
       "      <td>1</td>\n",
       "      <td>-1400.0</td>\n",
       "      <td>-280.0</td>\n",
       "    </tr>\n",
       "    <tr>\n",
       "      <th>3</th>\n",
       "      <td>1</td>\n",
       "      <td>71</td>\n",
       "      <td>2017</td>\n",
       "      <td>1</td>\n",
       "      <td>1</td>\n",
       "      <td>2</td>\n",
       "      <td>1</td>\n",
       "      <td>0</td>\n",
       "      <td>0</td>\n",
       "      <td>0</td>\n",
       "      <td>0</td>\n",
       "      <td>0</td>\n",
       "      <td>0</td>\n",
       "      <td>0</td>\n",
       "      <td>0</td>\n",
       "      <td>1</td>\n",
       "      <td>4</td>\n",
       "      <td>1</td>\n",
       "      <td>1</td>\n",
       "      <td>2</td>\n",
       "      <td>3</td>\n",
       "      <td>2</td>\n",
       "      <td>1</td>\n",
       "      <td>-1400.0</td>\n",
       "      <td>-280.0</td>\n",
       "    </tr>\n",
       "    <tr>\n",
       "      <th>4</th>\n",
       "      <td>1</td>\n",
       "      <td>172</td>\n",
       "      <td>2017</td>\n",
       "      <td>1</td>\n",
       "      <td>1</td>\n",
       "      <td>2</td>\n",
       "      <td>2</td>\n",
       "      <td>0</td>\n",
       "      <td>0</td>\n",
       "      <td>0</td>\n",
       "      <td>0</td>\n",
       "      <td>0</td>\n",
       "      <td>0</td>\n",
       "      <td>0</td>\n",
       "      <td>0</td>\n",
       "      <td>0</td>\n",
       "      <td>7</td>\n",
       "      <td>7</td>\n",
       "      <td>1</td>\n",
       "      <td>2</td>\n",
       "      <td>3</td>\n",
       "      <td>2</td>\n",
       "      <td>1</td>\n",
       "      <td>-1400.0</td>\n",
       "      <td>-280.0</td>\n",
       "    </tr>\n",
       "  </tbody>\n",
       "</table>\n",
       "</div>"
      ],
      "text/plain": [
       "   is_canceled  lead_time  arrival_date_year  arrival_date_week_number  \\\n",
       "0            1         74               2017                         1   \n",
       "1            1         62               2017                         1   \n",
       "2            1         62               2017                         1   \n",
       "3            1         71               2017                         1   \n",
       "4            1        172               2017                         1   \n",
       "\n",
       "   arrival_date_day_of_month  stays_in_weekend_nights  adults  children  \\\n",
       "0                          1                        1       2         0   \n",
       "1                          1                        2       2         0   \n",
       "2                          1                        2       2         0   \n",
       "3                          1                        2       1         0   \n",
       "4                          1                        2       2         0   \n",
       "\n",
       "   babies  is_repeated_guest  previous_cancellations  \\\n",
       "0       0                  0                       0   \n",
       "1       0                  0                       0   \n",
       "2       0                  0                       0   \n",
       "3       0                  0                       0   \n",
       "4       0                  0                       0   \n",
       "\n",
       "   previous_bookings_not_canceled  booking_changes  days_in_waiting_list  \\\n",
       "0                               0                0                     0   \n",
       "1                               0                0                     0   \n",
       "2                               0                0                     0   \n",
       "3                               0                0                     0   \n",
       "4                               0                0                     0   \n",
       "\n",
       "   required_car_parking_spaces  total_of_special_requests  total_nights  \\\n",
       "0                            0                          0             1   \n",
       "1                            0                          1             4   \n",
       "2                            0                          1             4   \n",
       "3                            0                          1             4   \n",
       "4                            0                          0             7   \n",
       "\n",
       "   country_numeric  arrival_date_month_numeric  meal_numeric  \\\n",
       "0                1                           1             2   \n",
       "1                7                           1             2   \n",
       "2                7                           1             2   \n",
       "3                1                           1             2   \n",
       "4                7                           1             2   \n",
       "\n",
       "   customer_type_numeric  distribution_channel_numeric  \\\n",
       "0                      3                             2   \n",
       "1                      3                             2   \n",
       "2                      3                             2   \n",
       "3                      3                             2   \n",
       "4                      3                             2   \n",
       "\n",
       "   reserved_room_type_numeric  expected_profit  profit_with_deposit  \n",
       "0                           1          -1400.0               -280.0  \n",
       "1                           1          -1400.0               -280.0  \n",
       "2                           1          -1400.0               -280.0  \n",
       "3                           1          -1400.0               -280.0  \n",
       "4                           1          -1400.0               -280.0  "
      ]
     },
     "metadata": {},
     "output_type": "display_data"
    }
   ],
   "source": [
    "# расчет депозитов\n",
    "def profit_with_deposit(row):\n",
    "    var = row['reserved_room_type_numeric']\n",
    "    val = row['is_canceled']\n",
    "    profit = row['expected_profit']\n",
    "    \n",
    "    if var == 1 and val == 0:\n",
    "        value = profit\n",
    "        return value \n",
    "    elif var == 1 and val == 1:\n",
    "        value = 1 * 1000\n",
    "        if row['arrival_date_month_numeric'] in (3, 4, 5, 9, 10, 11):\n",
    "            value = ((value * 1.2) + 400) * 0.8 - ((value * 1.2) + 400)\n",
    "            return value\n",
    "        elif row['arrival_date_month_numeric'] in (6, 7, 8):\n",
    "            value = ((value * 1.4) + 400) * 0.8 - ((value * 1.4) + 400)\n",
    "            return value\n",
    "        elif row['arrival_date_month_numeric'] in (12, 1, 2):\n",
    "            value = ((value * 1.0) + 400) * 0.8 - ((value * 1.0) + 400)\n",
    "            return value \n",
    "    \n",
    "    if var == 2 and val == 0:\n",
    "        value = profit\n",
    "        return value \n",
    "    elif var == 2 and val == 1:\n",
    "        value = 1 * 800\n",
    "        if row['arrival_date_month_numeric'] in (3, 4, 5, 9, 10, 11):\n",
    "            value = ((value * 1.2) + 350) * 0.8 - ((value * 1.2) + 350)\n",
    "            return value\n",
    "        elif row['arrival_date_month_numeric'] in (6, 7, 8):\n",
    "            value = ((value * 1.4) + 350) * 0.8 - ((value * 1.4) + 350)\n",
    "            return value\n",
    "        elif row['arrival_date_month_numeric'] in (12, 1, 2):\n",
    "            value = ((value * 1.0) + 350) * 0.8 - ((value * 1.0) + 350)\n",
    "            return value \n",
    "    \n",
    "    if var == 3 and val == 0:\n",
    "        value = profit\n",
    "        return value \n",
    "    elif var == 3 and val == 1:\n",
    "        value = 1 * 600\n",
    "        if row['arrival_date_month_numeric'] in (3, 4, 5, 9, 10, 11):\n",
    "            value = ((value * 1.2) + 350) * 0.8 - ((value * 1.2) + 350)\n",
    "            return value\n",
    "        elif row['arrival_date_month_numeric'] in (6, 7, 8):\n",
    "            value = ((value * 1.4) + 350) * 0.8 - ((value * 1.4) + 350)\n",
    "            return value\n",
    "        elif row['arrival_date_month_numeric'] in (12, 1, 2):\n",
    "            value = ((value * 1.0) + 350) * 0.8 - ((value * 1.0) + 350)\n",
    "            return value\n",
    "    \n",
    "    if var == 4 and val == 0:\n",
    "        value = profit\n",
    "        return value \n",
    "    elif var == 4 and val == 1:\n",
    "        value = 1 * 550\n",
    "        if row['arrival_date_month_numeric'] in (3, 4, 5, 9, 10, 11):\n",
    "            value = ((value * 1.2) + 150) * 0.8 - ((value * 1.2) + 150)\n",
    "            return value\n",
    "        elif row['arrival_date_month_numeric'] in (6, 7, 8):\n",
    "            value = ((value * 1.4) + 150) * 0.8 - ((value * 1.4) + 150)\n",
    "            return value\n",
    "        elif row['arrival_date_month_numeric'] in (12, 1, 2):\n",
    "            value = ((value * 1.0) + 150) * 0.8 - ((value * 1.0) + 150)\n",
    "            return value\n",
    "    \n",
    "    if var == 5 and val == 0:\n",
    "        value = profit\n",
    "        return value \n",
    "    elif var == 5 and val == 1:\n",
    "        value = 1 * 500\n",
    "        if row['arrival_date_month_numeric'] in (3, 4, 5, 9, 10, 11):\n",
    "            value = ((value * 1.2) + 150) * 0.8 - ((value * 1.2) + 150)\n",
    "            return value\n",
    "        elif row['arrival_date_month_numeric'] in (6, 7, 8):\n",
    "            value = ((value * 1.4) + 150) * 0.8 - ((value * 1.4) + 150)\n",
    "            return value\n",
    "        elif row['arrival_date_month_numeric'] in (12, 1, 2):\n",
    "            value = ((value * 1.0) + 150) * 0.8 - ((value * 1.0) + 150)\n",
    "            return value         \n",
    "    \n",
    "    if var == 6 and val == 0:\n",
    "        value = profit\n",
    "        return value \n",
    "    elif var == 6 and val == 1:\n",
    "        value = 1 * 450\n",
    "        if row['arrival_date_month_numeric'] in (3, 4, 5, 9, 10, 11):\n",
    "            value = ((value * 1.2) + 150) * 0.8 - ((value * 1.2) + 150)\n",
    "            return value\n",
    "        elif row['arrival_date_month_numeric'] in (6, 7, 8):\n",
    "            value = ((value * 1.4) + 150) * 0.8 - ((value * 1.4) + 150)\n",
    "            return value\n",
    "        elif row['arrival_date_month_numeric'] in (12, 1, 2):\n",
    "            value = ((value * 1.0) + 150) * 0.8 - ((value * 1.0) + 150)\n",
    "            return value          \n",
    "    \n",
    "    if var == 7 and val == 0:\n",
    "        value = profit\n",
    "        return value \n",
    "    elif var == 7 and val == 1:\n",
    "        value = 1 * 350\n",
    "        if row['arrival_date_month_numeric'] in (3, 4, 5, 9, 10, 11):\n",
    "            value = ((value * 1.2) + 150) * 0.8 - ((value * 1.2) + 150)\n",
    "            return value\n",
    "        elif row['arrival_date_month_numeric'] in (6, 7, 8):\n",
    "            value = ((value * 1.4) + 150) * 0.8 - ((value * 1.4) + 150)\n",
    "            return value\n",
    "        elif row['arrival_date_month_numeric'] in (12, 1, 2):\n",
    "            value = ((value * 1.0) + 150) * 0.8 - ((value * 1.0) + 150)\n",
    "            return value        \n",
    "        \n",
    "# прменим функцию расчета прибыли с учетом депозита \n",
    "df_train['profit_with_deposit'] = df_train.apply(profit_with_deposit, axis=1)\n",
    "df_test['profit_with_deposit'] = df_test.apply(profit_with_deposit, axis=1)\n",
    "# выведем таблицы с результатами на экран\n",
    "display(df_train.head(5))\n",
    "display(df_test.head(5))"
   ]
  },
  {
   "cell_type": "code",
   "execution_count": 27,
   "metadata": {},
   "outputs": [
    {
     "data": {
      "text/plain": [
       "arrival_date_month_numeric\n",
       "1      1914500.0\n",
       "2      3234680.0\n",
       "3      6500878.0\n",
       "4      6251254.0\n",
       "5      6647486.0\n",
       "6      7300680.0\n",
       "7     10460804.0\n",
       "8     12154968.0\n",
       "9     12110066.0\n",
       "10    12690460.0\n",
       "11     8993666.0\n",
       "12     6080980.0\n",
       "Name: profit_with_deposit, dtype: float64"
      ]
     },
     "metadata": {},
     "output_type": "display_data"
    },
    {
     "data": {
      "text/plain": [
       "'df_train_profit_depo:'"
      ]
     },
     "metadata": {},
     "output_type": "display_data"
    },
    {
     "data": {
      "text/plain": [
       "94340422.0"
      ]
     },
     "metadata": {},
     "output_type": "display_data"
    },
    {
     "data": {
      "text/plain": [
       "arrival_date_month_numeric\n",
       "1    3246890.0\n",
       "2    4040620.0\n",
       "3    6616014.0\n",
       "4    6557636.0\n",
       "5    6462390.0\n",
       "6    7012870.0\n",
       "7    6615886.0\n",
       "8    6336620.0\n",
       "Name: profit_with_deposit, dtype: float64"
      ]
     },
     "metadata": {},
     "output_type": "display_data"
    },
    {
     "data": {
      "text/plain": [
       "'df_test_profit_depo:'"
      ]
     },
     "metadata": {},
     "output_type": "display_data"
    },
    {
     "data": {
      "text/plain": [
       "46888926.0"
      ]
     },
     "metadata": {},
     "output_type": "display_data"
    }
   ],
   "source": [
    "# выведем на экран значение прибыли отеля по месяцам и суммарно по всем данным таблицы df_train с учетом депозитов\n",
    "display(df_train.groupby(by='arrival_date_month_numeric')['profit_with_deposit'].sum())\n",
    "display('df_train_profit_depo:', df_train.profit_with_deposit.sum())\n",
    "# выведем на экран значение прибыли отеля по месяцам и суммарно по всем данным таблицые df_test с учетом депозитов\n",
    "df_before_model_all_deposit = df_test.groupby(by='arrival_date_month_numeric')['profit_with_deposit'].sum()\n",
    "display(df_before_model_all_deposit)\n",
    "df_before_model_all_deposit_total = df_test.profit_with_deposit.sum()\n",
    "display('df_test_profit_depo:', df_before_model_all_deposit_total)"
   ]
  },
  {
   "cell_type": "markdown",
   "metadata": {},
   "source": [
    "<div class=\"alert alert-success\">\n",
    "<h2>Комментарий ревьюера v2<a class=\"tocSkip\"></a></h2>\n",
    "    \n",
    "**Отлично!** ✔️: 👍</div>"
   ]
  },
  {
   "cell_type": "markdown",
   "metadata": {},
   "source": [
    "#### Вывод"
   ]
  },
  {
   "cell_type": "markdown",
   "metadata": {},
   "source": [
    "- Без введения депозитов, отель показывает прибыль без убытков в разрезе мясецев\n",
    "- С учетом введения депозитов в прошлом, теоритически прибыль могла возрасти на 46% при условии предсказывания каждого варианта отказа."
   ]
  },
  {
   "cell_type": "markdown",
   "metadata": {},
   "source": [
    "### Шаг 4. Разработка модели ML"
   ]
  },
  {
   "cell_type": "code",
   "execution_count": 28,
   "metadata": {},
   "outputs": [
    {
     "data": {
      "text/plain": [
       "'features_one shape: (65037, 22)'"
      ]
     },
     "metadata": {},
     "output_type": "display_data"
    },
    {
     "data": {
      "text/plain": [
       "'target_one shape: (65037,)'"
      ]
     },
     "metadata": {},
     "output_type": "display_data"
    },
    {
     "data": {
      "text/plain": [
       "'features_test shape: (32336, 22)'"
      ]
     },
     "metadata": {},
     "output_type": "display_data"
    },
    {
     "data": {
      "text/plain": [
       "'target_test shape: (32336,)'"
      ]
     },
     "metadata": {},
     "output_type": "display_data"
    }
   ],
   "source": [
    "# обозначим признаки и цели для таблицы df_train\n",
    "target_one = df_train['is_canceled']\n",
    "features_one = df_train.drop(['is_canceled', 'expected_profit', 'profit_with_deposit'], axis=1)\n",
    "# обозначим признаки и цели для таблицы df_test\n",
    "target_test = df_test['is_canceled']\n",
    "features_test = df_test.drop(['is_canceled', 'expected_profit', 'profit_with_deposit'], axis=1)\n",
    "# проверим размерности выборок\n",
    "display(f'features_one shape: {features_one.shape}')\n",
    "display(f'target_one shape: {target_one.shape}')\n",
    "display(f'features_test shape: {features_test.shape}')\n",
    "display(f'target_test shape: {target_test.shape}')"
   ]
  },
  {
   "cell_type": "code",
   "execution_count": 29,
   "metadata": {},
   "outputs": [],
   "source": [
    "# создадим список названий столбцов\n",
    "column_list = list(features_one.columns)\n",
    "# стандартизируем данные и настроим на признаках\n",
    "scaler = StandardScaler()\n",
    "scaler.fit(features_one) \n",
    "# преобразуем выборки\n",
    "features_one = scaler.transform(features_one) \n",
    "features_test = scaler.transform(features_test) \n",
    "# уберем предупреждение `SettingWithCopy`\n",
    "pd.options.mode.chained_assignment = None\n",
    "# получим заголовки для признаков и скорректируем преобразованные выборки\n",
    "features_one = pd.DataFrame(features_one, columns = column_list, index=target_one.index)\n",
    "features_test = pd.DataFrame(features_test, columns = column_list, index=target_test.index)"
   ]
  },
  {
   "cell_type": "markdown",
   "metadata": {},
   "source": [
    "#### Выбор метрики и гиперпараметров"
   ]
  },
  {
   "cell_type": "markdown",
   "metadata": {},
   "source": [
    "Так как полнота и точность оценивают качество прогноза положительного класса с разных позиций. Recall описывает, как хорошо модель разобралась в особенностях класса и распознала его. Precision выявляет, не преувеличивает ли модель, присваивая положительные метки. Поэтому оптимальным решением будет выбор  F1 меры и `ROC-AUC`"
   ]
  },
  {
   "cell_type": "code",
   "execution_count": 30,
   "metadata": {},
   "outputs": [],
   "source": [
    "# # методом кросс валидации подберем предварительные результаты по модели случайного леса\n",
    "# model_one = RandomForestClassifier(class_weight='balanced', random_state=42)\n",
    "# scores_one = cross_val_score(model_one, features_one, target_one, scoring='f1', cv=5) \n",
    "# final_one = scores_one.mean()\n",
    "# display(final_one)\n",
    "# # методом кросс валидации подберем предварительные результаты по модели решающего дерева\n",
    "# model_two = DecisionTreeClassifier(class_weight='balanced', random_state=42)\n",
    "# scores_two = cross_val_score(model_two, features_one, target_one, scoring='f1', cv=5) \n",
    "# final_two = scores_two.mean()\n",
    "# display(final_two)\n",
    "# # методом кросс валидации подберем предварительные результаты по модели логистической регрессии\n",
    "# model_thr = LogisticRegression(class_weight='balanced', random_state=42)\n",
    "# scores_thr = cross_val_score(model_thr, features_one, target_one, scoring='f1', cv=5) \n",
    "# final_thr = scores_thr.mean()\n",
    "# display(final_thr)"
   ]
  },
  {
   "cell_type": "markdown",
   "metadata": {},
   "source": [
    "#### Случайный лес"
   ]
  },
  {
   "cell_type": "code",
   "execution_count": 31,
   "metadata": {},
   "outputs": [
    {
     "data": {
      "text/plain": [
       "0.6477254592186273"
      ]
     },
     "metadata": {},
     "output_type": "display_data"
    },
    {
     "data": {
      "text/plain": [
       "{'max_depth': 5, 'min_samples_leaf': 8, 'n_estimators': 13}"
      ]
     },
     "metadata": {},
     "output_type": "display_data"
    },
    {
     "name": "stdout",
     "output_type": "stream",
     "text": [
      "CPU times: user 3min 40s, sys: 326 ms, total: 3min 40s\n",
      "Wall time: 3min 42s\n"
     ]
    }
   ],
   "source": [
    "%%time\n",
    "### обучим модель случайного леса с помощью gridsearch для расчета f1 меры\n",
    "# параметры по сетке\n",
    "parameters = {\n",
    "    'n_estimators': [11, 13, 15],\n",
    "    'max_depth': [5, 7, 9, 11],\n",
    "    'min_samples_leaf': [6, 7, 8, 9]\n",
    "}\n",
    "ran_for = RandomForestClassifier(class_weight='balanced', random_state=42)\n",
    "clf = GridSearchCV(ran_for, parameters, scoring='f1', cv=15, n_jobs=-1)\n",
    "clf.fit(features_one, target_one)\n",
    "display(clf.best_score_)\n",
    "display(clf.best_params_)"
   ]
  },
  {
   "cell_type": "code",
   "execution_count": 32,
   "metadata": {},
   "outputs": [
    {
     "data": {
      "text/plain": [
       "0.7970432624790206"
      ]
     },
     "metadata": {},
     "output_type": "display_data"
    },
    {
     "data": {
      "text/plain": [
       "{'max_depth': 5, 'min_samples_leaf': 8, 'n_estimators': 15}"
      ]
     },
     "metadata": {},
     "output_type": "display_data"
    },
    {
     "name": "stdout",
     "output_type": "stream",
     "text": [
      "CPU times: user 3min 45s, sys: 360 ms, total: 3min 45s\n",
      "Wall time: 3min 46s\n"
     ]
    }
   ],
   "source": [
    "%%time\n",
    "### обучим модель случайного леса с помощью gridsearch для расчета roc-auc\n",
    "clf_roc_auc = GridSearchCV(ran_for, parameters, scoring='roc_auc', cv=15, n_jobs=-1)\n",
    "clf_roc_auc.fit(features_one, target_one)\n",
    "display(clf_roc_auc.best_score_)\n",
    "display(clf_roc_auc.best_params_)"
   ]
  },
  {
   "cell_type": "markdown",
   "metadata": {},
   "source": [
    "#### Решающее дерево"
   ]
  },
  {
   "cell_type": "code",
   "execution_count": 33,
   "metadata": {},
   "outputs": [
    {
     "data": {
      "text/plain": [
       "0.6476312807421208"
      ]
     },
     "metadata": {},
     "output_type": "display_data"
    },
    {
     "data": {
      "text/plain": [
       "{'max_depth': 5, 'max_features': 4, 'min_samples_leaf': 7}"
      ]
     },
     "metadata": {},
     "output_type": "display_data"
    },
    {
     "name": "stdout",
     "output_type": "stream",
     "text": [
      "CPU times: user 30.1 s, sys: 16 ms, total: 30.1 s\n",
      "Wall time: 30.1 s\n"
     ]
    }
   ],
   "source": [
    "%%time\n",
    "### обучим модель решающего дерева с помощью gridsearch для расчета f1 меры\n",
    "# параметры по сетке\n",
    "parameters_two = {\n",
    "    'max_depth': [1, 3, 5, 7, 9],\n",
    "    'min_samples_leaf': [5, 6, 7, 8],\n",
    "    'max_features': [2, 3, 4]\n",
    "}\n",
    "dec_thr = DecisionTreeClassifier(class_weight='balanced', random_state=42)\n",
    "clf_two = GridSearchCV(dec_thr, parameters_two, scoring='f1', cv=15, n_jobs=-1)\n",
    "clf_two.fit(features_one, target_one)\n",
    "display(clf_two.best_score_)\n",
    "display(clf_two.best_params_)"
   ]
  },
  {
   "cell_type": "code",
   "execution_count": 34,
   "metadata": {},
   "outputs": [
    {
     "data": {
      "text/plain": [
       "0.7627665537633478"
      ]
     },
     "metadata": {},
     "output_type": "display_data"
    },
    {
     "data": {
      "text/plain": [
       "{'max_depth': 9, 'max_features': 3, 'min_samples_leaf': 7}"
      ]
     },
     "metadata": {},
     "output_type": "display_data"
    },
    {
     "name": "stdout",
     "output_type": "stream",
     "text": [
      "CPU times: user 30.8 s, sys: 44 ms, total: 30.8 s\n",
      "Wall time: 31 s\n"
     ]
    }
   ],
   "source": [
    "%%time\n",
    "### обучим модель решающего дерева с помощью gridsearch для расчета roc-auc\n",
    "clf_two_roc_auc = GridSearchCV(dec_thr, parameters_two, scoring='roc_auc', cv=15, n_jobs=-1)\n",
    "clf_two_roc_auc.fit(features_one, target_one)\n",
    "display(clf_two_roc_auc.best_score_)\n",
    "display(clf_two_roc_auc.best_params_)"
   ]
  },
  {
   "cell_type": "markdown",
   "metadata": {},
   "source": [
    "#### Логистическая регрессия"
   ]
  },
  {
   "cell_type": "code",
   "execution_count": 35,
   "metadata": {},
   "outputs": [
    {
     "data": {
      "text/plain": [
       "0.5834010658869809"
      ]
     },
     "metadata": {},
     "output_type": "display_data"
    },
    {
     "data": {
      "text/plain": [
       "{'max_iter': 10000, 'penalty': 'l2', 'solver': 'newton-cg'}"
      ]
     },
     "metadata": {},
     "output_type": "display_data"
    },
    {
     "name": "stdout",
     "output_type": "stream",
     "text": [
      "CPU times: user 4min 4s, sys: 4min 27s, total: 8min 31s\n",
      "Wall time: 8min 32s\n"
     ]
    }
   ],
   "source": [
    "%%time\n",
    "### обучим модель логистической регрессии с помощью gridsearch для расчета f1 меры\n",
    "# параметры по сетке\n",
    "parameters_thr = {\n",
    "    'solver': ['liblinear', 'lbfgs', 'newton-cg'],\n",
    "    'penalty': ['l2'],\n",
    "    'max_iter': [10000, 15000]\n",
    "}\n",
    "log_reg = LogisticRegression(class_weight='balanced', random_state=42)\n",
    "clf_thr = GridSearchCV(log_reg, parameters_thr, scoring='f1', cv=15, n_jobs=-1)\n",
    "clf_thr.fit(features_one, target_one)\n",
    "display(clf_thr.best_score_)\n",
    "display(clf_thr.best_params_)"
   ]
  },
  {
   "cell_type": "code",
   "execution_count": 36,
   "metadata": {},
   "outputs": [
    {
     "data": {
      "text/plain": [
       "0.7752816785863034"
      ]
     },
     "metadata": {},
     "output_type": "display_data"
    },
    {
     "data": {
      "text/plain": [
       "{'max_iter': 10000, 'penalty': 'l2', 'solver': 'liblinear'}"
      ]
     },
     "metadata": {},
     "output_type": "display_data"
    },
    {
     "name": "stdout",
     "output_type": "stream",
     "text": [
      "CPU times: user 3min 58s, sys: 4min 55s, total: 8min 54s\n",
      "Wall time: 8min 55s\n"
     ]
    }
   ],
   "source": [
    "%%time\n",
    "### обучим модель логистической регрессии с помощью gridsearch для расчета roc-auc\n",
    "clf_thr_roc_auc = GridSearchCV(log_reg, parameters_thr, scoring='roc_auc', cv=15, n_jobs=-1)\n",
    "clf_thr_roc_auc.fit(features_one, target_one)\n",
    "display(clf_thr_roc_auc.best_score_)\n",
    "display(clf_thr_roc_auc.best_params_)"
   ]
  },
  {
   "cell_type": "markdown",
   "metadata": {},
   "source": [
    "#### Тестирование лучшей модели"
   ]
  },
  {
   "cell_type": "code",
   "execution_count": 37,
   "metadata": {},
   "outputs": [
    {
     "data": {
      "text/plain": [
       "'Результат модели случайного леса на тестовой выборке: 0.6684446599587828'"
      ]
     },
     "metadata": {},
     "output_type": "display_data"
    }
   ],
   "source": [
    "# обучим модель на выборке\n",
    "model_test = RandomForestClassifier(random_state=42, max_depth=5, min_samples_leaf=8, n_estimators=4, class_weight='balanced') \n",
    "model_test.fit(features_one, target_one)\n",
    "# тестирование модели решающего дерева\n",
    "predictions_test = pd.Series(model_test.predict(features_test), index=features_test.index) \n",
    "result_test = f1_score(target_test, predictions_test)\n",
    "# выведем результат на экран\n",
    "display(f'Результат модели случайного леса на тестовой выборке: {result_test}')"
   ]
  },
  {
   "cell_type": "code",
   "execution_count": 38,
   "metadata": {},
   "outputs": [
    {
     "data": {
      "text/plain": [
       "arrival_date_month_numeric\n",
       "1    2823690.0\n",
       "2    3622100.0\n",
       "3    6143038.0\n",
       "4    5921852.0\n",
       "5    5723902.0\n",
       "6    6312294.0\n",
       "7    5888494.0\n",
       "8    5705092.0\n",
       "Name: predictions_deposit_profit, dtype: float64"
      ]
     },
     "metadata": {},
     "output_type": "display_data"
    },
    {
     "data": {
      "text/plain": [
       "'df_test_model_depo:'"
      ]
     },
     "metadata": {},
     "output_type": "display_data"
    },
    {
     "data": {
      "text/plain": [
       "42140462.0"
      ]
     },
     "metadata": {},
     "output_type": "display_data"
    }
   ],
   "source": [
    "# добавим столбец в таблицу\n",
    "df_test['predictions_deposit'] = predictions_test\n",
    "# функция расчета итоговой прибыли от депозитов с учетом предсказаний модели\n",
    "def predict_depo(row):\n",
    "    profit = row['expected_profit']\n",
    "    depo_profit = row['profit_with_deposit']\n",
    "    cancel = row['is_canceled']\n",
    "    predict = row['predictions_deposit']\n",
    "    if (predict == 0 and cancel == 0) or (predict == 1 and cancel == 0) or (predict == 0 and cancel == 1):\n",
    "        value = profit\n",
    "        return value\n",
    "    elif predict == 1 and cancel == 1:\n",
    "        value = depo_profit\n",
    "        return value\n",
    "# применим функцию к таблице\n",
    "df_test['predictions_deposit_profit'] = df_test.apply(predict_depo, axis=1)        \n",
    "# выведем на экран значение прибыли отеля по месяцам и суммарно по всем данным таблицые df_test с учетом работы модели\n",
    "df_after_model = df_test.groupby(by='arrival_date_month_numeric')['predictions_deposit_profit'].sum()\n",
    "display(df_after_model)\n",
    "df_after_model_total = df_test.predictions_deposit_profit.sum()\n",
    "display('df_test_model_depo:', df_after_model_total)"
   ]
  },
  {
   "cell_type": "code",
   "execution_count": 44,
   "metadata": {},
   "outputs": [
    {
     "data": {
      "text/plain": [
       "(arrival_date_month_numeric\n",
       " 1     655840.0\n",
       " 2     702800.0\n",
       " 3    1085328.0\n",
       " 4    1788272.0\n",
       " 5    1876512.0\n",
       " 6    1950464.0\n",
       " 7     888624.0\n",
       " 8     704072.0\n",
       " dtype: float64,\n",
       " 9251912.0)"
      ]
     },
     "execution_count": 44,
     "metadata": {},
     "output_type": "execute_result"
    }
   ],
   "source": [
    "# функция расчета окупаемости\n",
    "BUDGET = 400000\n",
    "def budget_model_profit(series_before, series_after):\n",
    "    value_month = series_after - series_before\n",
    "    value_total = series_after.sum() - series_before.sum() - BUDGET\n",
    "    return value_month, value_total\n",
    "# посчитаем окупаемость модели\n",
    "budget_model_profit(df_before_model, df_after_model)"
   ]
  },
  {
   "cell_type": "code",
   "execution_count": 39,
   "metadata": {},
   "outputs": [
    {
     "data": {
      "text/plain": [
       "'ROC-AUC для модели решающего дерева:'"
      ]
     },
     "metadata": {},
     "output_type": "display_data"
    },
    {
     "data": {
      "text/plain": [
       "0.8029138251280585"
      ]
     },
     "metadata": {},
     "output_type": "display_data"
    },
    {
     "data": {
      "image/png": "[encoded data removed]",
      "text/plain": [
       "<Figure size 432x288 with 1 Axes>"
      ]
     },
     "metadata": {
      "needs_background": "light"
     },
     "output_type": "display_data"
    }
   ],
   "source": [
    "# рассчитаем вероятности\n",
    "probabilities_test = model_test.predict_proba(features_test)\n",
    "probabilities_test_a = probabilities_test[:, 1]\n",
    "auc_roc = roc_auc_score(target_test, probabilities_test_a)\n",
    "# посчитаем площадь под кривой\n",
    "display('ROC-AUC для модели решающего дерева:', auc_roc)\n",
    "# рассчитаем значения FPR, TPR и порога\n",
    "fpr, tpr, thresholds = roc_curve(target_test, probabilities_test_a)  \n",
    "# построим график с сеткой\n",
    "plt.figure()\n",
    "plt.grid(True)\n",
    "plt.plot(fpr, tpr, color='b')\n",
    "# ROC-кривая случайной модели \n",
    "plt.plot([0, 1], [0, 1], linestyle='--')\n",
    "# установим границы осей от 0 до 1\n",
    "plt.ylim([0.0, 1.0])\n",
    "plt.xlim([0.0, 1.0])\n",
    "# подшишем оси\n",
    "plt.xlabel('False Positive Rate')\n",
    "plt.ylabel('True Positive Rate')\n",
    "# укажем заголовок\n",
    "plt.title('ROC-кривая для полученной модели')\n",
    "plt.legend(['Решающее дерево'])\n",
    "plt.show()"
   ]
  },
  {
   "cell_type": "markdown",
   "metadata": {},
   "source": [
    "#### Вывод"
   ]
  },
  {
   "cell_type": "markdown",
   "metadata": {},
   "source": [
    "- Модель случайного леса предсказывает более удачно отказ от брони на обучающих данных (f1 = 0.647, Roc-Auc = 0.797)\n",
    "- При внедрении депозитов и предсказывающей модели прибыль отеля за `тестовый` период увеличивается на 9,7 млн. руб.\n",
    "- Бюджет на разработку в размере 400 тыс. рублей окупится уже в первый месяц"
   ]
  },
  {
   "cell_type": "markdown",
   "metadata": {},
   "source": [
    "### Шаг 5. Опишите портрет «ненадёжного» клиента"
   ]
  },
  {
   "cell_type": "code",
   "execution_count": 40,
   "metadata": {
    "scrolled": false
   },
   "outputs": [
    {
     "data": {
      "text/plain": [
       "'meal_numeric'"
      ]
     },
     "metadata": {},
     "output_type": "display_data"
    },
    {
     "data": {
      "text/plain": [
       "2    18881\n",
       "3     2808\n",
       "1     1990\n",
       "4      311\n",
       "Name: meal_numeric, dtype: int64"
      ]
     },
     "metadata": {},
     "output_type": "display_data"
    },
    {
     "data": {
      "text/plain": [
       "'customer_type_numeric'"
      ]
     },
     "metadata": {},
     "output_type": "display_data"
    },
    {
     "data": {
      "text/plain": [
       "3    17987\n",
       "4     4889\n",
       "1     1090\n",
       "2       24\n",
       "Name: customer_type_numeric, dtype: int64"
      ]
     },
     "metadata": {},
     "output_type": "display_data"
    },
    {
     "data": {
      "text/plain": [
       "'reserved_room_type_numeric'"
      ]
     },
     "metadata": {},
     "output_type": "display_data"
    },
    {
     "data": {
      "text/plain": [
       "1    19719\n",
       "4     2870\n",
       "5      608\n",
       "6      345\n",
       "2      214\n",
       "7      191\n",
       "3       43\n",
       "Name: reserved_room_type_numeric, dtype: int64"
      ]
     },
     "metadata": {},
     "output_type": "display_data"
    },
    {
     "data": {
      "text/plain": [
       "'previous_bookings_not_canceled'"
      ]
     },
     "metadata": {},
     "output_type": "display_data"
    },
    {
     "data": {
      "text/plain": [
       "0     23892\n",
       "1        35\n",
       "2        13\n",
       "3         9\n",
       "4         8\n",
       "25        8\n",
       "5         7\n",
       "6         3\n",
       "12        3\n",
       "8         2\n",
       "10        2\n",
       "11        2\n",
       "48        1\n",
       "58        1\n",
       "27        1\n",
       "44        1\n",
       "29        1\n",
       "15        1\n",
       "Name: previous_bookings_not_canceled, dtype: int64"
      ]
     },
     "metadata": {},
     "output_type": "display_data"
    },
    {
     "data": {
      "text/plain": [
       "'booking_changes'"
      ]
     },
     "metadata": {},
     "output_type": "display_data"
    },
    {
     "data": {
      "text/plain": [
       "0    22676\n",
       "1      898\n",
       "2      305\n",
       "3       60\n",
       "4       31\n",
       "5       10\n",
       "6        8\n",
       "7        2\n",
       "Name: booking_changes, dtype: int64"
      ]
     },
     "metadata": {},
     "output_type": "display_data"
    },
    {
     "data": {
      "text/plain": [
       "'days_in_waiting_list'"
      ]
     },
     "metadata": {},
     "output_type": "display_data"
    },
    {
     "data": {
      "text/plain": [
       "0      21871\n",
       "39       185\n",
       "31       125\n",
       "44       108\n",
       "35        93\n",
       "       ...  \n",
       "14         1\n",
       "30         1\n",
       "27         1\n",
       "5          1\n",
       "193        1\n",
       "Name: days_in_waiting_list, Length: 73, dtype: int64"
      ]
     },
     "metadata": {},
     "output_type": "display_data"
    },
    {
     "data": {
      "text/plain": [
       "'total_of_special_requests'"
      ]
     },
     "metadata": {},
     "output_type": "display_data"
    },
    {
     "data": {
      "text/plain": [
       "0    19473\n",
       "1     3054\n",
       "2     1248\n",
       "3      202\n",
       "4       13\n",
       "Name: total_of_special_requests, dtype: int64"
      ]
     },
     "metadata": {},
     "output_type": "display_data"
    }
   ],
   "source": [
    "# получим срез по отмененным бронированиям\n",
    "df_canceled = df_train.query('is_canceled == 1')\n",
    "# выведем количественные значения значения\n",
    "display('meal_numeric', df_canceled.meal_numeric.value_counts())\n",
    "display('customer_type_numeric', df_canceled.customer_type_numeric.value_counts())\n",
    "display('reserved_room_type_numeric', df_canceled.reserved_room_type_numeric.value_counts())\n",
    "display('previous_bookings_not_canceled', df_canceled.previous_bookings_not_canceled.value_counts())\n",
    "display('booking_changes', df_canceled.booking_changes.value_counts())\n",
    "display('days_in_waiting_list', df_canceled.days_in_waiting_list.value_counts())\n",
    "display('total_of_special_requests', df_canceled.total_of_special_requests.value_counts())"
   ]
  },
  {
   "cell_type": "markdown",
   "metadata": {},
   "source": [
    "#### Вывод"
   ]
  },
  {
   "cell_type": "markdown",
   "metadata": {},
   "source": [
    "Ненадежный клиент чаще всего обладает следующими признаками:\n",
    "- Опция заказа со статусом `BB`\n",
    "- Тип заказчика `Transient` и `Transient-Party`\n",
    "- Тип забронированной комнаты `A`\n",
    "- Не имеет ранее подтвержденных заказов\n",
    "- Не вносит изменений параметров заказа\n",
    "- Ноль дней заказ ожидал подтверждения\n",
    "- Отсутствуют специальные отметки"
   ]
  }
 ],
 "metadata": {
  "ExecuteTimeLog": [
   {
    "duration": 379,
    "start_time": "2022-09-26T12:39:18.504Z"
   },
   {
    "duration": 239,
    "start_time": "2022-09-26T12:40:26.843Z"
   },
   {
    "duration": 275,
    "start_time": "2022-09-26T12:40:31.540Z"
   },
   {
    "duration": 221,
    "start_time": "2022-09-26T12:40:35.480Z"
   },
   {
    "duration": 156,
    "start_time": "2022-09-26T12:40:50.203Z"
   },
   {
    "duration": 545,
    "start_time": "2022-09-26T12:41:45.885Z"
   },
   {
    "duration": 255,
    "start_time": "2022-09-26T12:42:28.690Z"
   },
   {
    "duration": 238,
    "start_time": "2022-09-26T12:44:52.285Z"
   },
   {
    "duration": 7,
    "start_time": "2022-09-26T12:45:29.054Z"
   },
   {
    "duration": 119,
    "start_time": "2022-09-26T12:46:13.629Z"
   },
   {
    "duration": 14219,
    "start_time": "2022-09-26T12:47:54.605Z"
   },
   {
    "duration": 253,
    "start_time": "2022-09-26T12:48:08.827Z"
   },
   {
    "duration": 240,
    "start_time": "2022-09-26T12:48:33.081Z"
   },
   {
    "duration": 232,
    "start_time": "2022-09-26T12:48:38.690Z"
   },
   {
    "duration": 252,
    "start_time": "2022-09-26T12:48:46.830Z"
   },
   {
    "duration": 64,
    "start_time": "2022-09-26T12:49:17.417Z"
   },
   {
    "duration": 2,
    "start_time": "2022-09-26T12:49:23.847Z"
   },
   {
    "duration": 217,
    "start_time": "2022-09-26T12:49:27.545Z"
   },
   {
    "duration": 272,
    "start_time": "2022-09-26T12:49:31.808Z"
   },
   {
    "duration": 277,
    "start_time": "2022-09-26T12:49:51.951Z"
   },
   {
    "duration": 50,
    "start_time": "2022-09-26T12:50:21.983Z"
   },
   {
    "duration": 281,
    "start_time": "2022-09-26T12:50:26.353Z"
   },
   {
    "duration": 242,
    "start_time": "2022-09-26T12:50:40.868Z"
   },
   {
    "duration": 39,
    "start_time": "2022-09-26T12:51:28.319Z"
   },
   {
    "duration": 50,
    "start_time": "2022-09-27T11:56:45.687Z"
   },
   {
    "duration": 443,
    "start_time": "2022-09-27T11:56:48.990Z"
   },
   {
    "duration": 903,
    "start_time": "2022-09-27T11:56:49.564Z"
   },
   {
    "duration": 268,
    "start_time": "2022-09-27T11:56:56.719Z"
   },
   {
    "duration": 292,
    "start_time": "2022-09-27T11:57:05.181Z"
   },
   {
    "duration": 294,
    "start_time": "2022-09-27T12:02:18.352Z"
   },
   {
    "duration": 39,
    "start_time": "2022-09-27T12:24:08.755Z"
   },
   {
    "duration": 265,
    "start_time": "2022-09-27T12:25:30.335Z"
   },
   {
    "duration": 255,
    "start_time": "2022-09-27T12:25:55.720Z"
   },
   {
    "duration": 35,
    "start_time": "2022-09-27T12:30:03.441Z"
   },
   {
    "duration": 4,
    "start_time": "2022-09-27T12:30:19.597Z"
   },
   {
    "duration": 4,
    "start_time": "2022-09-27T12:30:24.527Z"
   },
   {
    "duration": 34,
    "start_time": "2022-09-27T12:30:31.461Z"
   },
   {
    "duration": 38,
    "start_time": "2022-09-27T12:30:41.821Z"
   },
   {
    "duration": 10,
    "start_time": "2022-09-27T12:31:18.019Z"
   },
   {
    "duration": 5,
    "start_time": "2022-09-27T12:31:29.390Z"
   },
   {
    "duration": 5,
    "start_time": "2022-09-27T12:31:34.590Z"
   },
   {
    "duration": 4,
    "start_time": "2022-09-27T12:31:41.263Z"
   },
   {
    "duration": 10,
    "start_time": "2022-09-27T12:33:18.286Z"
   },
   {
    "duration": 7,
    "start_time": "2022-09-27T12:33:24.600Z"
   },
   {
    "duration": 8,
    "start_time": "2022-09-27T12:33:30.656Z"
   },
   {
    "duration": 7,
    "start_time": "2022-09-27T13:05:35.666Z"
   },
   {
    "duration": 8,
    "start_time": "2022-09-27T13:05:48.857Z"
   },
   {
    "duration": 7,
    "start_time": "2022-09-27T13:05:57.479Z"
   },
   {
    "duration": 4,
    "start_time": "2022-09-27T13:06:37.159Z"
   },
   {
    "duration": 27,
    "start_time": "2022-09-27T13:06:50.969Z"
   },
   {
    "duration": 31,
    "start_time": "2022-09-27T13:07:28.391Z"
   },
   {
    "duration": 21,
    "start_time": "2022-09-27T13:07:37.532Z"
   },
   {
    "duration": 7,
    "start_time": "2022-09-27T13:10:26.178Z"
   },
   {
    "duration": 6,
    "start_time": "2022-09-27T13:10:32.916Z"
   },
   {
    "duration": 14,
    "start_time": "2022-09-27T13:11:50.501Z"
   },
   {
    "duration": 8,
    "start_time": "2022-09-27T13:11:53.878Z"
   },
   {
    "duration": 10,
    "start_time": "2022-09-27T13:14:38.655Z"
   },
   {
    "duration": 11,
    "start_time": "2022-09-27T13:15:58.806Z"
   },
   {
    "duration": 11,
    "start_time": "2022-09-27T13:17:26.159Z"
   },
   {
    "duration": 12,
    "start_time": "2022-09-27T13:17:58.142Z"
   },
   {
    "duration": 16,
    "start_time": "2022-09-27T13:19:59.347Z"
   },
   {
    "duration": 33,
    "start_time": "2022-09-27T13:24:27.657Z"
   },
   {
    "duration": 9,
    "start_time": "2022-09-27T13:25:38.357Z"
   },
   {
    "duration": 27,
    "start_time": "2022-09-27T13:26:24.452Z"
   },
   {
    "duration": 56,
    "start_time": "2022-09-27T13:28:50.268Z"
   },
   {
    "duration": 12,
    "start_time": "2022-09-27T13:53:09.967Z"
   },
   {
    "duration": 442,
    "start_time": "2022-09-27T13:53:20.566Z"
   },
   {
    "duration": 287,
    "start_time": "2022-09-27T13:53:21.010Z"
   },
   {
    "duration": 35,
    "start_time": "2022-09-27T13:53:21.299Z"
   },
   {
    "duration": 78,
    "start_time": "2022-09-27T13:53:21.336Z"
   },
   {
    "duration": 75,
    "start_time": "2022-09-27T14:02:09.585Z"
   },
   {
    "duration": 405,
    "start_time": "2022-09-27T14:02:17.012Z"
   },
   {
    "duration": 292,
    "start_time": "2022-09-27T14:02:17.419Z"
   },
   {
    "duration": 37,
    "start_time": "2022-09-27T14:02:17.713Z"
   },
   {
    "duration": 53,
    "start_time": "2022-09-27T14:02:17.752Z"
   },
   {
    "duration": 28,
    "start_time": "2022-09-27T14:02:17.807Z"
   },
   {
    "duration": 8,
    "start_time": "2022-09-27T14:04:06.542Z"
   },
   {
    "duration": 12,
    "start_time": "2022-09-27T14:04:19.274Z"
   },
   {
    "duration": 12,
    "start_time": "2022-09-27T14:05:40.550Z"
   },
   {
    "duration": 8,
    "start_time": "2022-09-27T14:06:38.410Z"
   },
   {
    "duration": 8,
    "start_time": "2022-09-27T14:07:00.861Z"
   },
   {
    "duration": 9,
    "start_time": "2022-09-27T14:09:06.753Z"
   },
   {
    "duration": 74,
    "start_time": "2022-09-27T14:09:43.864Z"
   },
   {
    "duration": 422,
    "start_time": "2022-09-27T14:09:52.097Z"
   },
   {
    "duration": 298,
    "start_time": "2022-09-27T14:09:52.528Z"
   },
   {
    "duration": 34,
    "start_time": "2022-09-27T14:09:52.828Z"
   },
   {
    "duration": 52,
    "start_time": "2022-09-27T14:09:52.864Z"
   },
   {
    "duration": 7,
    "start_time": "2022-09-27T14:09:52.918Z"
   },
   {
    "duration": 31,
    "start_time": "2022-09-27T14:10:07.516Z"
   },
   {
    "duration": 8,
    "start_time": "2022-09-27T14:11:57.068Z"
   },
   {
    "duration": 7,
    "start_time": "2022-09-27T14:12:32.708Z"
   },
   {
    "duration": 8,
    "start_time": "2022-09-27T14:12:50.756Z"
   },
   {
    "duration": 8,
    "start_time": "2022-09-27T14:14:12.876Z"
   },
   {
    "duration": 7,
    "start_time": "2022-09-27T14:14:44.285Z"
   },
   {
    "duration": 30,
    "start_time": "2022-09-27T14:15:03.483Z"
   },
   {
    "duration": 48,
    "start_time": "2022-09-27T14:16:31.268Z"
   },
   {
    "duration": 12,
    "start_time": "2022-09-27T14:18:19.547Z"
   },
   {
    "duration": 6,
    "start_time": "2022-09-27T14:20:36.202Z"
   },
   {
    "duration": 41,
    "start_time": "2022-09-28T13:38:36.934Z"
   },
   {
    "duration": 335,
    "start_time": "2022-09-28T13:38:46.656Z"
   },
   {
    "duration": 887,
    "start_time": "2022-09-28T13:38:46.993Z"
   },
   {
    "duration": 33,
    "start_time": "2022-09-28T13:38:47.882Z"
   },
   {
    "duration": 29,
    "start_time": "2022-09-28T13:38:47.918Z"
   },
   {
    "duration": 26,
    "start_time": "2022-09-28T13:38:47.949Z"
   },
   {
    "duration": 96,
    "start_time": "2022-09-28T13:38:47.977Z"
   },
   {
    "duration": 9,
    "start_time": "2022-09-28T13:40:12.857Z"
   },
   {
    "duration": 55,
    "start_time": "2022-09-28T13:43:53.044Z"
   },
   {
    "duration": 45,
    "start_time": "2022-09-28T13:44:06.049Z"
   },
   {
    "duration": 391,
    "start_time": "2022-09-28T13:44:56.800Z"
   },
   {
    "duration": 402,
    "start_time": "2022-09-28T13:45:08.133Z"
   },
   {
    "duration": 401,
    "start_time": "2022-09-28T13:45:20.897Z"
   },
   {
    "duration": 9,
    "start_time": "2022-09-28T13:45:52.640Z"
   },
   {
    "duration": 6,
    "start_time": "2022-09-28T13:46:03.651Z"
   },
   {
    "duration": 9,
    "start_time": "2022-09-28T13:46:11.852Z"
   },
   {
    "duration": 4,
    "start_time": "2022-09-28T13:46:21.059Z"
   },
   {
    "duration": 36,
    "start_time": "2022-09-28T13:46:35.353Z"
   },
   {
    "duration": 398,
    "start_time": "2022-09-28T13:46:51.857Z"
   },
   {
    "duration": 611,
    "start_time": "2022-09-28T13:47:08.943Z"
   },
   {
    "duration": 578,
    "start_time": "2022-09-28T13:47:13.996Z"
   },
   {
    "duration": 650,
    "start_time": "2022-09-28T13:47:37.013Z"
   },
   {
    "duration": 6,
    "start_time": "2022-09-28T13:47:45.028Z"
   },
   {
    "duration": 644,
    "start_time": "2022-09-28T13:48:29.711Z"
   },
   {
    "duration": 17,
    "start_time": "2022-09-28T13:48:47.822Z"
   },
   {
    "duration": 12,
    "start_time": "2022-09-28T13:50:25.395Z"
   },
   {
    "duration": 326,
    "start_time": "2022-09-28T13:50:33.356Z"
   },
   {
    "duration": 234,
    "start_time": "2022-09-28T13:50:33.684Z"
   },
   {
    "duration": 27,
    "start_time": "2022-09-28T13:50:33.920Z"
   },
   {
    "duration": 25,
    "start_time": "2022-09-28T13:50:33.949Z"
   },
   {
    "duration": 32,
    "start_time": "2022-09-28T13:50:33.975Z"
   },
   {
    "duration": 597,
    "start_time": "2022-09-28T13:50:34.009Z"
   },
   {
    "duration": 1267,
    "start_time": "2022-09-28T13:52:20.548Z"
   },
   {
    "duration": 344,
    "start_time": "2022-09-28T13:52:51.832Z"
   },
   {
    "duration": 237,
    "start_time": "2022-09-28T13:52:52.177Z"
   },
   {
    "duration": 30,
    "start_time": "2022-09-28T13:52:52.415Z"
   },
   {
    "duration": 23,
    "start_time": "2022-09-28T13:52:52.448Z"
   },
   {
    "duration": 600,
    "start_time": "2022-09-28T13:52:52.473Z"
   },
   {
    "duration": 7,
    "start_time": "2022-09-28T13:52:53.075Z"
   },
   {
    "duration": 374,
    "start_time": "2022-09-28T13:54:17.477Z"
   },
   {
    "duration": 63,
    "start_time": "2022-09-28T13:55:06.391Z"
   },
   {
    "duration": 8,
    "start_time": "2022-09-28T13:57:32.049Z"
   },
   {
    "duration": 14,
    "start_time": "2022-09-28T13:57:43.773Z"
   },
   {
    "duration": 9,
    "start_time": "2022-09-28T13:59:12.701Z"
   },
   {
    "duration": 120,
    "start_time": "2022-09-28T14:00:33.934Z"
   },
   {
    "duration": 9,
    "start_time": "2022-09-28T14:00:56.940Z"
   },
   {
    "duration": 157,
    "start_time": "2022-09-28T14:02:09.341Z"
   },
   {
    "duration": 254,
    "start_time": "2022-09-28T14:03:00.453Z"
   },
   {
    "duration": 224,
    "start_time": "2022-09-28T14:03:14.308Z"
   },
   {
    "duration": 159,
    "start_time": "2022-09-28T14:03:20.900Z"
   },
   {
    "duration": 156,
    "start_time": "2022-09-28T14:03:24.144Z"
   },
   {
    "duration": 159,
    "start_time": "2022-09-28T14:05:00.316Z"
   },
   {
    "duration": 185,
    "start_time": "2022-09-28T14:05:33.627Z"
   },
   {
    "duration": 193,
    "start_time": "2022-09-28T14:05:42.115Z"
   },
   {
    "duration": 2,
    "start_time": "2022-09-28T14:06:13.565Z"
   },
   {
    "duration": 182,
    "start_time": "2022-09-28T14:07:54.197Z"
   },
   {
    "duration": 184,
    "start_time": "2022-09-28T14:07:56.115Z"
   },
   {
    "duration": 3,
    "start_time": "2022-09-28T14:12:33.667Z"
   },
   {
    "duration": 2,
    "start_time": "2022-09-28T14:12:46.668Z"
   },
   {
    "duration": 2,
    "start_time": "2022-09-28T14:12:56.851Z"
   },
   {
    "duration": 192,
    "start_time": "2022-09-28T14:13:48.691Z"
   },
   {
    "duration": 179,
    "start_time": "2022-09-28T14:14:07.628Z"
   },
   {
    "duration": 73,
    "start_time": "2022-09-28T14:15:04.742Z"
   },
   {
    "duration": 369,
    "start_time": "2022-09-29T14:19:49.686Z"
   },
   {
    "duration": 518,
    "start_time": "2022-09-29T14:19:50.057Z"
   },
   {
    "duration": 37,
    "start_time": "2022-09-29T14:19:50.577Z"
   },
   {
    "duration": 29,
    "start_time": "2022-09-29T14:19:50.640Z"
   },
   {
    "duration": 669,
    "start_time": "2022-09-29T14:19:50.670Z"
   },
   {
    "duration": 683,
    "start_time": "2022-09-29T14:19:51.341Z"
   },
   {
    "duration": 236,
    "start_time": "2022-09-29T14:19:52.026Z"
   },
   {
    "duration": 84,
    "start_time": "2022-09-29T14:19:52.264Z"
   },
   {
    "duration": 1,
    "start_time": "2022-09-29T14:19:52.350Z"
   },
   {
    "duration": 64,
    "start_time": "2022-09-29T14:38:51.435Z"
   },
   {
    "duration": 68,
    "start_time": "2022-09-29T14:39:00.441Z"
   },
   {
    "duration": 77,
    "start_time": "2022-09-29T14:40:57.726Z"
   },
   {
    "duration": 60,
    "start_time": "2022-09-29T14:41:03.533Z"
   },
   {
    "duration": 80,
    "start_time": "2022-09-29T14:42:54.385Z"
   },
   {
    "duration": 233,
    "start_time": "2022-09-29T14:43:04.370Z"
   },
   {
    "duration": 218,
    "start_time": "2022-09-29T14:43:28.945Z"
   },
   {
    "duration": 239,
    "start_time": "2022-09-29T14:43:37.919Z"
   },
   {
    "duration": 220,
    "start_time": "2022-09-29T14:43:52.974Z"
   },
   {
    "duration": 49,
    "start_time": "2022-09-29T14:43:59.664Z"
   },
   {
    "duration": 222,
    "start_time": "2022-09-29T14:44:10.913Z"
   },
   {
    "duration": 55,
    "start_time": "2022-09-29T14:44:16.937Z"
   },
   {
    "duration": 245,
    "start_time": "2022-09-29T14:44:38.399Z"
   },
   {
    "duration": 228,
    "start_time": "2022-09-29T14:44:43.064Z"
   },
   {
    "duration": 231,
    "start_time": "2022-09-29T14:45:30.164Z"
   },
   {
    "duration": 237,
    "start_time": "2022-09-29T14:46:59.249Z"
   },
   {
    "duration": 416,
    "start_time": "2022-09-29T14:47:08.743Z"
   },
   {
    "duration": 285,
    "start_time": "2022-09-29T14:47:09.162Z"
   },
   {
    "duration": 45,
    "start_time": "2022-09-29T14:47:09.449Z"
   },
   {
    "duration": 55,
    "start_time": "2022-09-29T14:47:09.497Z"
   },
   {
    "duration": 679,
    "start_time": "2022-09-29T14:47:09.554Z"
   },
   {
    "duration": 449,
    "start_time": "2022-09-29T14:47:10.235Z"
   },
   {
    "duration": 236,
    "start_time": "2022-09-29T14:47:10.686Z"
   },
   {
    "duration": 249,
    "start_time": "2022-09-29T14:47:10.924Z"
   },
   {
    "duration": 3,
    "start_time": "2022-09-29T14:47:11.175Z"
   },
   {
    "duration": 101,
    "start_time": "2022-09-29T14:47:42.698Z"
   },
   {
    "duration": 238,
    "start_time": "2022-09-29T14:48:00.057Z"
   },
   {
    "duration": 268,
    "start_time": "2022-09-29T14:48:07.099Z"
   },
   {
    "duration": 222,
    "start_time": "2022-09-29T14:50:39.249Z"
   },
   {
    "duration": 228,
    "start_time": "2022-09-29T14:51:05.011Z"
   },
   {
    "duration": 52,
    "start_time": "2022-09-29T14:51:46.188Z"
   },
   {
    "duration": 238,
    "start_time": "2022-09-29T14:51:51.345Z"
   },
   {
    "duration": 26,
    "start_time": "2022-09-29T14:52:35.198Z"
   },
   {
    "duration": 46,
    "start_time": "2022-09-29T14:52:49.305Z"
   },
   {
    "duration": 223,
    "start_time": "2022-09-29T14:52:52.936Z"
   },
   {
    "duration": 214,
    "start_time": "2022-09-29T14:53:39.625Z"
   },
   {
    "duration": 232,
    "start_time": "2022-09-29T14:53:52.118Z"
   },
   {
    "duration": 229,
    "start_time": "2022-09-29T15:02:11.265Z"
   },
   {
    "duration": 92,
    "start_time": "2022-09-29T15:02:20.954Z"
   },
   {
    "duration": 25,
    "start_time": "2022-09-29T15:02:50.646Z"
   },
   {
    "duration": 236,
    "start_time": "2022-09-29T15:02:55.113Z"
   },
   {
    "duration": 219,
    "start_time": "2022-09-29T15:04:14.507Z"
   },
   {
    "duration": 45,
    "start_time": "2022-09-29T15:04:20.673Z"
   },
   {
    "duration": 229,
    "start_time": "2022-09-29T15:04:24.916Z"
   },
   {
    "duration": 227,
    "start_time": "2022-09-29T15:04:31.621Z"
   },
   {
    "duration": 227,
    "start_time": "2022-09-29T15:05:41.254Z"
   },
   {
    "duration": 381,
    "start_time": "2022-09-29T15:05:47.783Z"
   },
   {
    "duration": 318,
    "start_time": "2022-09-29T15:05:48.166Z"
   },
   {
    "duration": 59,
    "start_time": "2022-09-29T15:05:48.486Z"
   },
   {
    "duration": 30,
    "start_time": "2022-09-29T15:05:48.547Z"
   },
   {
    "duration": 721,
    "start_time": "2022-09-29T15:05:48.579Z"
   },
   {
    "duration": 521,
    "start_time": "2022-09-29T15:05:49.302Z"
   },
   {
    "duration": 240,
    "start_time": "2022-09-29T15:05:49.825Z"
   },
   {
    "duration": 238,
    "start_time": "2022-09-29T15:05:50.067Z"
   },
   {
    "duration": 3,
    "start_time": "2022-09-29T15:05:50.307Z"
   },
   {
    "duration": 225,
    "start_time": "2022-09-29T15:08:51.114Z"
   },
   {
    "duration": 215,
    "start_time": "2022-09-29T15:09:05.586Z"
   },
   {
    "duration": 214,
    "start_time": "2022-09-29T15:10:40.041Z"
   },
   {
    "duration": 100,
    "start_time": "2022-09-29T15:10:55.858Z"
   },
   {
    "duration": 51,
    "start_time": "2022-09-29T15:13:21.081Z"
   },
   {
    "duration": 69,
    "start_time": "2022-09-29T15:13:28.833Z"
   },
   {
    "duration": 53,
    "start_time": "2022-09-29T15:13:42.556Z"
   },
   {
    "duration": 224,
    "start_time": "2022-09-29T15:17:53.069Z"
   },
   {
    "duration": 225,
    "start_time": "2022-09-29T15:18:09.038Z"
   },
   {
    "duration": 229,
    "start_time": "2022-09-29T15:19:38.804Z"
   },
   {
    "duration": 218,
    "start_time": "2022-09-29T15:21:20.355Z"
   },
   {
    "duration": 218,
    "start_time": "2022-09-29T15:22:57.672Z"
   },
   {
    "duration": 224,
    "start_time": "2022-09-29T15:24:21.432Z"
   },
   {
    "duration": 231,
    "start_time": "2022-09-29T15:24:26.546Z"
   },
   {
    "duration": 232,
    "start_time": "2022-09-29T15:25:27.679Z"
   },
   {
    "duration": 370,
    "start_time": "2022-09-29T15:26:40.189Z"
   },
   {
    "duration": 317,
    "start_time": "2022-09-29T15:26:40.561Z"
   },
   {
    "duration": 60,
    "start_time": "2022-09-29T15:26:40.880Z"
   },
   {
    "duration": 31,
    "start_time": "2022-09-29T15:26:40.943Z"
   },
   {
    "duration": 715,
    "start_time": "2022-09-29T15:26:40.976Z"
   },
   {
    "duration": 448,
    "start_time": "2022-09-29T15:26:41.692Z"
   },
   {
    "duration": 234,
    "start_time": "2022-09-29T15:26:42.142Z"
   },
   {
    "duration": 244,
    "start_time": "2022-09-29T15:26:42.377Z"
   },
   {
    "duration": 3,
    "start_time": "2022-09-29T15:26:42.622Z"
   },
   {
    "duration": 1893,
    "start_time": "2022-09-29T15:28:05.905Z"
   },
   {
    "duration": 428,
    "start_time": "2022-09-29T15:28:22.637Z"
   },
   {
    "duration": 299,
    "start_time": "2022-09-29T15:28:23.066Z"
   },
   {
    "duration": 34,
    "start_time": "2022-09-29T15:28:23.367Z"
   },
   {
    "duration": 53,
    "start_time": "2022-09-29T15:28:23.403Z"
   },
   {
    "duration": 712,
    "start_time": "2022-09-29T15:28:23.458Z"
   },
   {
    "duration": 469,
    "start_time": "2022-09-29T15:28:24.172Z"
   },
   {
    "duration": 233,
    "start_time": "2022-09-29T15:28:24.642Z"
   },
   {
    "duration": 242,
    "start_time": "2022-09-29T15:28:24.877Z"
   },
   {
    "duration": 3,
    "start_time": "2022-09-29T15:28:25.121Z"
   },
   {
    "duration": 52,
    "start_time": "2022-09-29T15:29:04.710Z"
   },
   {
    "duration": 355,
    "start_time": "2022-09-29T15:29:24.397Z"
   },
   {
    "duration": 300,
    "start_time": "2022-09-29T15:29:24.754Z"
   },
   {
    "duration": 62,
    "start_time": "2022-09-29T15:29:25.056Z"
   },
   {
    "duration": 27,
    "start_time": "2022-09-29T15:29:25.140Z"
   },
   {
    "duration": 719,
    "start_time": "2022-09-29T15:29:25.169Z"
   },
   {
    "duration": 457,
    "start_time": "2022-09-29T15:29:25.890Z"
   },
   {
    "duration": 230,
    "start_time": "2022-09-29T15:29:26.349Z"
   },
   {
    "duration": 250,
    "start_time": "2022-09-29T15:29:26.581Z"
   },
   {
    "duration": 2,
    "start_time": "2022-09-29T15:29:26.838Z"
   },
   {
    "duration": 34,
    "start_time": "2022-09-29T15:29:44.366Z"
   },
   {
    "duration": 1183,
    "start_time": "2022-09-29T15:30:05.990Z"
   },
   {
    "duration": 408,
    "start_time": "2022-09-29T15:30:22.751Z"
   },
   {
    "duration": 294,
    "start_time": "2022-09-29T15:30:23.162Z"
   },
   {
    "duration": 34,
    "start_time": "2022-09-29T15:30:23.457Z"
   },
   {
    "duration": 51,
    "start_time": "2022-09-29T15:30:23.492Z"
   },
   {
    "duration": 693,
    "start_time": "2022-09-29T15:30:23.545Z"
   },
   {
    "duration": 512,
    "start_time": "2022-09-29T15:30:24.240Z"
   },
   {
    "duration": 232,
    "start_time": "2022-09-29T15:30:24.754Z"
   },
   {
    "duration": 248,
    "start_time": "2022-09-29T15:30:24.988Z"
   },
   {
    "duration": 2,
    "start_time": "2022-09-29T15:30:25.239Z"
   },
   {
    "duration": 236,
    "start_time": "2022-09-29T15:31:34.677Z"
   },
   {
    "duration": 243,
    "start_time": "2022-09-29T15:31:49.940Z"
   },
   {
    "duration": 224,
    "start_time": "2022-09-29T15:32:32.485Z"
   },
   {
    "duration": 473,
    "start_time": "2022-09-29T15:35:00.550Z"
   },
   {
    "duration": 476,
    "start_time": "2022-09-29T15:35:12.609Z"
   },
   {
    "duration": 473,
    "start_time": "2022-09-29T15:35:41.790Z"
   },
   {
    "duration": 457,
    "start_time": "2022-09-29T15:36:19.685Z"
   },
   {
    "duration": 108,
    "start_time": "2022-09-29T15:36:41.832Z"
   },
   {
    "duration": 97,
    "start_time": "2022-09-29T15:36:46.482Z"
   },
   {
    "duration": 461,
    "start_time": "2022-09-29T15:36:50.661Z"
   },
   {
    "duration": 447,
    "start_time": "2022-09-29T15:38:15.661Z"
   },
   {
    "duration": 451,
    "start_time": "2022-09-29T15:41:51.736Z"
   },
   {
    "duration": 444,
    "start_time": "2022-09-29T15:42:25.463Z"
   },
   {
    "duration": 452,
    "start_time": "2022-09-29T15:42:33.505Z"
   },
   {
    "duration": 447,
    "start_time": "2022-09-29T15:42:46.377Z"
   },
   {
    "duration": 466,
    "start_time": "2022-09-29T15:43:39.997Z"
   },
   {
    "duration": 454,
    "start_time": "2022-09-29T15:44:30.390Z"
   },
   {
    "duration": 53,
    "start_time": "2022-09-29T18:03:01.491Z"
   },
   {
    "duration": 434,
    "start_time": "2022-09-29T18:03:08.242Z"
   },
   {
    "duration": 522,
    "start_time": "2022-09-29T18:03:08.679Z"
   },
   {
    "duration": 40,
    "start_time": "2022-09-29T18:03:09.203Z"
   },
   {
    "duration": 32,
    "start_time": "2022-09-29T18:03:09.245Z"
   },
   {
    "duration": 709,
    "start_time": "2022-09-29T18:03:09.279Z"
   },
   {
    "duration": 624,
    "start_time": "2022-09-29T18:03:09.990Z"
   },
   {
    "duration": 232,
    "start_time": "2022-09-29T18:03:10.617Z"
   },
   {
    "duration": 481,
    "start_time": "2022-09-29T18:03:10.851Z"
   },
   {
    "duration": 4,
    "start_time": "2022-09-29T18:03:11.334Z"
   },
   {
    "duration": 443,
    "start_time": "2022-09-29T18:11:13.038Z"
   },
   {
    "duration": 280,
    "start_time": "2022-09-29T18:11:13.484Z"
   },
   {
    "duration": 34,
    "start_time": "2022-09-29T18:11:13.766Z"
   },
   {
    "duration": 51,
    "start_time": "2022-09-29T18:11:13.801Z"
   },
   {
    "duration": 684,
    "start_time": "2022-09-29T18:11:13.854Z"
   },
   {
    "duration": 500,
    "start_time": "2022-09-29T18:11:14.540Z"
   },
   {
    "duration": 226,
    "start_time": "2022-09-29T18:11:15.042Z"
   },
   {
    "duration": 480,
    "start_time": "2022-09-29T18:11:15.270Z"
   },
   {
    "duration": 2,
    "start_time": "2022-09-29T18:11:15.752Z"
   },
   {
    "duration": 458,
    "start_time": "2022-09-29T18:11:32.106Z"
   },
   {
    "duration": 445,
    "start_time": "2022-09-29T18:11:48.907Z"
   },
   {
    "duration": 0,
    "start_time": "2022-09-29T18:14:20.653Z"
   },
   {
    "duration": 2,
    "start_time": "2022-09-29T18:14:23.459Z"
   },
   {
    "duration": 0,
    "start_time": "2022-09-29T18:16:03.567Z"
   },
   {
    "duration": 72,
    "start_time": "2022-09-29T18:16:09.311Z"
   },
   {
    "duration": 55,
    "start_time": "2022-09-29T18:16:44.710Z"
   },
   {
    "duration": 52305,
    "start_time": "2022-09-29T18:17:18.264Z"
   },
   {
    "duration": 56213,
    "start_time": "2022-09-29T18:18:12.248Z"
   },
   {
    "duration": 678,
    "start_time": "2022-09-29T18:19:15.772Z"
   },
   {
    "duration": 771,
    "start_time": "2022-09-29T18:23:26.976Z"
   },
   {
    "duration": 1849,
    "start_time": "2022-09-29T18:25:30.984Z"
   },
   {
    "duration": 739,
    "start_time": "2022-09-29T18:26:03.050Z"
   },
   {
    "duration": 2009,
    "start_time": "2022-09-29T18:26:16.363Z"
   },
   {
    "duration": 739,
    "start_time": "2022-09-29T18:26:23.140Z"
   },
   {
    "duration": 303,
    "start_time": "2022-09-29T18:31:34.436Z"
   },
   {
    "duration": 301,
    "start_time": "2022-09-29T18:37:27.681Z"
   },
   {
    "duration": 284,
    "start_time": "2022-09-29T18:46:16.971Z"
   },
   {
    "duration": 272,
    "start_time": "2022-09-29T18:47:34.837Z"
   },
   {
    "duration": 278,
    "start_time": "2022-09-29T18:48:46.173Z"
   },
   {
    "duration": 275,
    "start_time": "2022-09-29T18:49:28.125Z"
   },
   {
    "duration": 278,
    "start_time": "2022-09-29T18:49:59.286Z"
   },
   {
    "duration": 448,
    "start_time": "2022-09-29T18:50:31.239Z"
   },
   {
    "duration": 505,
    "start_time": "2022-09-29T18:50:31.689Z"
   },
   {
    "duration": 64,
    "start_time": "2022-09-29T18:50:32.196Z"
   },
   {
    "duration": 26,
    "start_time": "2022-09-29T18:50:32.262Z"
   },
   {
    "duration": 685,
    "start_time": "2022-09-29T18:50:32.289Z"
   },
   {
    "duration": 456,
    "start_time": "2022-09-29T18:50:32.976Z"
   },
   {
    "duration": 238,
    "start_time": "2022-09-29T18:50:33.438Z"
   },
   {
    "duration": 753,
    "start_time": "2022-09-29T18:50:33.677Z"
   },
   {
    "duration": 2,
    "start_time": "2022-09-29T18:50:34.432Z"
   },
   {
    "duration": 79,
    "start_time": "2022-09-29T18:56:00.942Z"
   },
   {
    "duration": 283,
    "start_time": "2022-09-29T18:56:22.931Z"
   },
   {
    "duration": 264,
    "start_time": "2022-09-29T18:59:10.944Z"
   },
   {
    "duration": 262,
    "start_time": "2022-09-29T19:00:05.037Z"
   },
   {
    "duration": 299,
    "start_time": "2022-09-29T19:02:14.188Z"
   },
   {
    "duration": 290,
    "start_time": "2022-09-29T19:05:52.491Z"
   },
   {
    "duration": 69,
    "start_time": "2022-09-29T19:09:11.699Z"
   },
   {
    "duration": 0,
    "start_time": "2022-09-29T19:15:42.984Z"
   },
   {
    "duration": 0,
    "start_time": "2022-09-29T19:16:01.778Z"
   },
   {
    "duration": 574,
    "start_time": "2022-09-29T19:20:29.102Z"
   },
   {
    "duration": 1124,
    "start_time": "2022-09-29T19:20:29.678Z"
   },
   {
    "duration": 1035,
    "start_time": "2022-09-29T19:23:57.175Z"
   },
   {
    "duration": 1648,
    "start_time": "2022-09-29T19:25:14.178Z"
   },
   {
    "duration": 1139,
    "start_time": "2022-09-29T19:25:25.377Z"
   },
   {
    "duration": 801,
    "start_time": "2022-09-29T19:26:19.181Z"
   },
   {
    "duration": 880,
    "start_time": "2022-09-29T19:27:19.180Z"
   },
   {
    "duration": 431,
    "start_time": "2022-09-30T07:37:03.580Z"
   },
   {
    "duration": 452,
    "start_time": "2022-09-30T07:37:04.013Z"
   },
   {
    "duration": 32,
    "start_time": "2022-09-30T07:37:04.467Z"
   },
   {
    "duration": 23,
    "start_time": "2022-09-30T07:37:04.501Z"
   },
   {
    "duration": 732,
    "start_time": "2022-09-30T07:37:04.526Z"
   },
   {
    "duration": 623,
    "start_time": "2022-09-30T07:37:05.260Z"
   },
   {
    "duration": 226,
    "start_time": "2022-09-30T07:37:05.885Z"
   },
   {
    "duration": 523,
    "start_time": "2022-09-30T07:37:06.112Z"
   },
   {
    "duration": 3,
    "start_time": "2022-09-30T07:37:06.636Z"
   },
   {
    "duration": 1256,
    "start_time": "2022-09-30T07:37:54.248Z"
   },
   {
    "duration": 389,
    "start_time": "2022-09-30T07:38:13.129Z"
   },
   {
    "duration": 256,
    "start_time": "2022-09-30T07:38:13.520Z"
   },
   {
    "duration": 42,
    "start_time": "2022-09-30T07:38:13.777Z"
   },
   {
    "duration": 25,
    "start_time": "2022-09-30T07:38:13.820Z"
   },
   {
    "duration": 732,
    "start_time": "2022-09-30T07:38:13.848Z"
   },
   {
    "duration": 455,
    "start_time": "2022-09-30T07:38:14.581Z"
   },
   {
    "duration": 217,
    "start_time": "2022-09-30T07:38:15.038Z"
   },
   {
    "duration": 501,
    "start_time": "2022-09-30T07:38:15.257Z"
   },
   {
    "duration": 3,
    "start_time": "2022-09-30T07:38:15.759Z"
   },
   {
    "duration": 501,
    "start_time": "2022-09-30T07:38:25.615Z"
   },
   {
    "duration": 87,
    "start_time": "2022-09-30T07:41:32.871Z"
   },
   {
    "duration": 413,
    "start_time": "2022-09-30T07:41:50.212Z"
   },
   {
    "duration": 261,
    "start_time": "2022-09-30T07:41:50.627Z"
   },
   {
    "duration": 36,
    "start_time": "2022-09-30T07:41:50.889Z"
   },
   {
    "duration": 105,
    "start_time": "2022-09-30T07:41:50.927Z"
   },
   {
    "duration": 0,
    "start_time": "2022-09-30T07:41:51.033Z"
   },
   {
    "duration": 0,
    "start_time": "2022-09-30T07:41:51.035Z"
   },
   {
    "duration": 0,
    "start_time": "2022-09-30T07:41:51.036Z"
   },
   {
    "duration": 0,
    "start_time": "2022-09-30T07:41:51.037Z"
   },
   {
    "duration": 0,
    "start_time": "2022-09-30T07:41:51.038Z"
   },
   {
    "duration": 514,
    "start_time": "2022-09-30T07:42:15.023Z"
   },
   {
    "duration": 19,
    "start_time": "2022-09-30T08:14:53.534Z"
   },
   {
    "duration": 425,
    "start_time": "2022-09-30T08:15:03.336Z"
   },
   {
    "duration": 311,
    "start_time": "2022-09-30T08:15:03.763Z"
   },
   {
    "duration": 77,
    "start_time": "2022-09-30T08:15:04.076Z"
   },
   {
    "duration": 89,
    "start_time": "2022-09-30T08:15:04.155Z"
   },
   {
    "duration": 792,
    "start_time": "2022-09-30T08:15:04.247Z"
   },
   {
    "duration": 509,
    "start_time": "2022-09-30T08:15:05.041Z"
   },
   {
    "duration": 240,
    "start_time": "2022-09-30T08:15:05.551Z"
   },
   {
    "duration": 908,
    "start_time": "2022-09-30T08:15:05.792Z"
   },
   {
    "duration": 3,
    "start_time": "2022-09-30T08:15:06.702Z"
   },
   {
    "duration": 1025,
    "start_time": "2022-09-30T08:20:09.908Z"
   },
   {
    "duration": 1084,
    "start_time": "2022-09-30T08:34:47.721Z"
   },
   {
    "duration": 1020,
    "start_time": "2022-09-30T08:34:58.066Z"
   },
   {
    "duration": 979,
    "start_time": "2022-09-30T08:35:25.047Z"
   },
   {
    "duration": 1016,
    "start_time": "2022-09-30T08:35:30.161Z"
   },
   {
    "duration": 1001,
    "start_time": "2022-09-30T08:35:39.400Z"
   },
   {
    "duration": 2347,
    "start_time": "2022-09-30T08:36:16.204Z"
   },
   {
    "duration": 1079,
    "start_time": "2022-09-30T08:36:24.915Z"
   },
   {
    "duration": 1272,
    "start_time": "2022-09-30T08:38:25.169Z"
   },
   {
    "duration": 909,
    "start_time": "2022-09-30T08:44:45.860Z"
   },
   {
    "duration": 1089,
    "start_time": "2022-09-30T08:45:50.036Z"
   },
   {
    "duration": 45,
    "start_time": "2022-09-30T09:04:46.700Z"
   },
   {
    "duration": 2,
    "start_time": "2022-09-30T09:05:08.241Z"
   },
   {
    "duration": 1042,
    "start_time": "2022-09-30T09:05:13.249Z"
   },
   {
    "duration": 990,
    "start_time": "2022-09-30T09:08:08.607Z"
   },
   {
    "duration": 1017,
    "start_time": "2022-09-30T09:13:00.149Z"
   },
   {
    "duration": 1046,
    "start_time": "2022-09-30T09:14:17.305Z"
   },
   {
    "duration": 383,
    "start_time": "2022-09-30T11:41:36.870Z"
   },
   {
    "duration": 266,
    "start_time": "2022-09-30T11:41:37.255Z"
   },
   {
    "duration": 33,
    "start_time": "2022-09-30T11:41:37.522Z"
   },
   {
    "duration": 99,
    "start_time": "2022-09-30T11:41:37.557Z"
   },
   {
    "duration": 705,
    "start_time": "2022-09-30T11:41:37.658Z"
   },
   {
    "duration": 453,
    "start_time": "2022-09-30T11:41:38.365Z"
   },
   {
    "duration": 242,
    "start_time": "2022-09-30T11:41:38.820Z"
   },
   {
    "duration": 1081,
    "start_time": "2022-09-30T11:41:39.064Z"
   },
   {
    "duration": 2,
    "start_time": "2022-09-30T11:41:40.147Z"
   },
   {
    "duration": 1112,
    "start_time": "2022-09-30T11:45:49.339Z"
   },
   {
    "duration": 1744,
    "start_time": "2022-09-30T11:59:04.073Z"
   },
   {
    "duration": 1767,
    "start_time": "2022-09-30T12:02:18.239Z"
   },
   {
    "duration": 1754,
    "start_time": "2022-09-30T12:03:07.414Z"
   },
   {
    "duration": 1725,
    "start_time": "2022-09-30T12:03:50.399Z"
   },
   {
    "duration": 236,
    "start_time": "2022-09-30T12:10:16.235Z"
   },
   {
    "duration": 70,
    "start_time": "2022-09-30T12:10:33.459Z"
   },
   {
    "duration": 1935,
    "start_time": "2022-09-30T12:12:37.904Z"
   },
   {
    "duration": 372,
    "start_time": "2022-09-30T12:12:50.171Z"
   },
   {
    "duration": 248,
    "start_time": "2022-09-30T12:12:50.545Z"
   },
   {
    "duration": 36,
    "start_time": "2022-09-30T12:12:50.794Z"
   },
   {
    "duration": 91,
    "start_time": "2022-09-30T12:12:50.832Z"
   },
   {
    "duration": 716,
    "start_time": "2022-09-30T12:12:50.924Z"
   },
   {
    "duration": 453,
    "start_time": "2022-09-30T12:12:51.642Z"
   },
   {
    "duration": 218,
    "start_time": "2022-09-30T12:12:52.096Z"
   },
   {
    "duration": 1931,
    "start_time": "2022-09-30T12:12:52.316Z"
   },
   {
    "duration": 5,
    "start_time": "2022-09-30T12:15:51.803Z"
   },
   {
    "duration": 5,
    "start_time": "2022-09-30T12:16:04.131Z"
   },
   {
    "duration": 29,
    "start_time": "2022-09-30T12:18:39.906Z"
   },
   {
    "duration": 77,
    "start_time": "2022-09-30T12:19:41.384Z"
   },
   {
    "duration": 10,
    "start_time": "2022-09-30T12:19:48.529Z"
   },
   {
    "duration": 27,
    "start_time": "2022-09-30T12:20:00.920Z"
   },
   {
    "duration": 7,
    "start_time": "2022-09-30T12:23:36.562Z"
   },
   {
    "duration": 8,
    "start_time": "2022-09-30T12:23:52.868Z"
   },
   {
    "duration": 10,
    "start_time": "2022-09-30T12:24:14.139Z"
   },
   {
    "duration": 15,
    "start_time": "2022-09-30T12:24:40.004Z"
   },
   {
    "duration": 12,
    "start_time": "2022-09-30T12:24:55.324Z"
   },
   {
    "duration": 16,
    "start_time": "2022-09-30T12:25:14.113Z"
   },
   {
    "duration": 15,
    "start_time": "2022-09-30T12:26:18.513Z"
   },
   {
    "duration": 15,
    "start_time": "2022-09-30T12:26:40.728Z"
   },
   {
    "duration": 13,
    "start_time": "2022-09-30T12:27:06.913Z"
   },
   {
    "duration": 724,
    "start_time": "2022-09-30T13:18:45.928Z"
   },
   {
    "duration": 40,
    "start_time": "2022-09-30T13:21:39.832Z"
   },
   {
    "duration": 2033,
    "start_time": "2022-09-30T13:35:02.645Z"
   },
   {
    "duration": 859,
    "start_time": "2022-09-30T13:35:31.307Z"
   },
   {
    "duration": 989,
    "start_time": "2022-09-30T13:35:58.756Z"
   },
   {
    "duration": 1043,
    "start_time": "2022-09-30T13:36:07.757Z"
   },
   {
    "duration": 295,
    "start_time": "2022-09-30T13:36:08.802Z"
   },
   {
    "duration": 58,
    "start_time": "2022-09-30T13:36:09.098Z"
   },
   {
    "duration": 105,
    "start_time": "2022-09-30T13:36:09.158Z"
   },
   {
    "duration": 779,
    "start_time": "2022-09-30T13:36:09.265Z"
   },
   {
    "duration": 752,
    "start_time": "2022-09-30T13:36:10.046Z"
   },
   {
    "duration": 498,
    "start_time": "2022-09-30T13:36:10.800Z"
   },
   {
    "duration": 245,
    "start_time": "2022-09-30T13:36:11.300Z"
   },
   {
    "duration": 2084,
    "start_time": "2022-09-30T13:36:11.547Z"
   },
   {
    "duration": 21,
    "start_time": "2022-09-30T13:36:13.633Z"
   },
   {
    "duration": 25,
    "start_time": "2022-09-30T13:36:13.656Z"
   },
   {
    "duration": 175,
    "start_time": "2022-09-30T13:36:13.684Z"
   },
   {
    "duration": 765,
    "start_time": "2022-09-30T13:36:54.813Z"
   },
   {
    "duration": 1025,
    "start_time": "2022-09-30T13:37:11.126Z"
   },
   {
    "duration": 1130,
    "start_time": "2022-09-30T13:37:18.496Z"
   },
   {
    "duration": 516,
    "start_time": "2022-09-30T13:37:19.630Z"
   },
   {
    "duration": 88,
    "start_time": "2022-09-30T13:37:20.148Z"
   },
   {
    "duration": 212,
    "start_time": "2022-09-30T13:37:20.237Z"
   },
   {
    "duration": 1384,
    "start_time": "2022-09-30T13:37:20.451Z"
   },
   {
    "duration": 764,
    "start_time": "2022-09-30T13:37:21.836Z"
   },
   {
    "duration": 524,
    "start_time": "2022-09-30T13:37:22.602Z"
   },
   {
    "duration": 226,
    "start_time": "2022-09-30T13:37:23.128Z"
   },
   {
    "duration": 1947,
    "start_time": "2022-09-30T13:37:23.356Z"
   },
   {
    "duration": 21,
    "start_time": "2022-09-30T13:37:25.313Z"
   },
   {
    "duration": 18,
    "start_time": "2022-09-30T13:37:25.336Z"
   },
   {
    "duration": 138,
    "start_time": "2022-09-30T13:37:25.356Z"
   },
   {
    "duration": 3083,
    "start_time": "2022-09-30T13:38:02.700Z"
   },
   {
    "duration": 739,
    "start_time": "2022-09-30T13:40:13.207Z"
   },
   {
    "duration": 824,
    "start_time": "2022-09-30T13:40:18.008Z"
   },
   {
    "duration": 729,
    "start_time": "2022-09-30T13:43:14.800Z"
   },
   {
    "duration": 1101,
    "start_time": "2022-09-30T13:44:05.341Z"
   },
   {
    "duration": 291,
    "start_time": "2022-09-30T13:44:06.445Z"
   },
   {
    "duration": 32,
    "start_time": "2022-09-30T13:44:06.739Z"
   },
   {
    "duration": 114,
    "start_time": "2022-09-30T13:44:06.773Z"
   },
   {
    "duration": 750,
    "start_time": "2022-09-30T13:44:06.889Z"
   },
   {
    "duration": 809,
    "start_time": "2022-09-30T13:44:07.641Z"
   },
   {
    "duration": 1564,
    "start_time": "2022-09-30T13:44:08.451Z"
   },
   {
    "duration": 498,
    "start_time": "2022-09-30T13:44:10.017Z"
   },
   {
    "duration": 236,
    "start_time": "2022-09-30T13:44:10.521Z"
   },
   {
    "duration": 2014,
    "start_time": "2022-09-30T13:44:10.759Z"
   },
   {
    "duration": 35,
    "start_time": "2022-09-30T13:44:12.776Z"
   },
   {
    "duration": 31,
    "start_time": "2022-09-30T13:44:12.812Z"
   },
   {
    "duration": 144,
    "start_time": "2022-09-30T13:44:12.847Z"
   },
   {
    "duration": 1091,
    "start_time": "2022-09-30T13:46:37.349Z"
   },
   {
    "duration": 320,
    "start_time": "2022-09-30T13:46:38.443Z"
   },
   {
    "duration": 78,
    "start_time": "2022-09-30T13:46:38.765Z"
   },
   {
    "duration": 124,
    "start_time": "2022-09-30T13:46:38.846Z"
   },
   {
    "duration": 889,
    "start_time": "2022-09-30T13:46:38.972Z"
   },
   {
    "duration": 1011,
    "start_time": "2022-09-30T13:46:39.863Z"
   },
   {
    "duration": 960,
    "start_time": "2022-09-30T13:46:40.875Z"
   },
   {
    "duration": 627,
    "start_time": "2022-09-30T13:46:41.837Z"
   },
   {
    "duration": 272,
    "start_time": "2022-09-30T13:46:42.466Z"
   },
   {
    "duration": 2098,
    "start_time": "2022-09-30T13:46:42.742Z"
   },
   {
    "duration": 18,
    "start_time": "2022-09-30T13:46:44.844Z"
   },
   {
    "duration": 33,
    "start_time": "2022-09-30T13:46:44.864Z"
   },
   {
    "duration": 133,
    "start_time": "2022-09-30T13:46:44.898Z"
   },
   {
    "duration": 20,
    "start_time": "2022-09-30T13:50:26.122Z"
   },
   {
    "duration": 681,
    "start_time": "2022-09-30T13:51:48.227Z"
   },
   {
    "duration": 1804,
    "start_time": "2022-09-30T13:51:53.422Z"
   },
   {
    "duration": 1039,
    "start_time": "2022-09-30T13:53:03.052Z"
   },
   {
    "duration": 276,
    "start_time": "2022-09-30T13:53:04.093Z"
   },
   {
    "duration": 52,
    "start_time": "2022-09-30T13:53:04.371Z"
   },
   {
    "duration": 101,
    "start_time": "2022-09-30T13:53:04.425Z"
   },
   {
    "duration": 739,
    "start_time": "2022-09-30T13:53:04.528Z"
   },
   {
    "duration": 703,
    "start_time": "2022-09-30T13:53:05.270Z"
   },
   {
    "duration": 692,
    "start_time": "2022-09-30T13:53:05.974Z"
   },
   {
    "duration": 707,
    "start_time": "2022-09-30T13:53:06.668Z"
   },
   {
    "duration": 456,
    "start_time": "2022-09-30T13:53:07.376Z"
   },
   {
    "duration": 219,
    "start_time": "2022-09-30T13:53:07.834Z"
   },
   {
    "duration": 2574,
    "start_time": "2022-09-30T13:53:08.054Z"
   },
   {
    "duration": 15,
    "start_time": "2022-09-30T13:53:10.630Z"
   },
   {
    "duration": 313,
    "start_time": "2022-09-30T13:53:10.647Z"
   },
   {
    "duration": 0,
    "start_time": "2022-09-30T13:53:10.962Z"
   },
   {
    "duration": 1103,
    "start_time": "2022-09-30T13:55:05.237Z"
   },
   {
    "duration": 288,
    "start_time": "2022-09-30T13:55:06.342Z"
   },
   {
    "duration": 35,
    "start_time": "2022-09-30T13:55:06.632Z"
   },
   {
    "duration": 117,
    "start_time": "2022-09-30T13:55:06.669Z"
   },
   {
    "duration": 758,
    "start_time": "2022-09-30T13:55:06.789Z"
   },
   {
    "duration": 754,
    "start_time": "2022-09-30T13:55:07.549Z"
   },
   {
    "duration": 754,
    "start_time": "2022-09-30T13:55:08.305Z"
   },
   {
    "duration": 730,
    "start_time": "2022-09-30T13:55:09.061Z"
   },
   {
    "duration": 491,
    "start_time": "2022-09-30T13:55:09.792Z"
   },
   {
    "duration": 245,
    "start_time": "2022-09-30T13:55:10.285Z"
   },
   {
    "duration": 1925,
    "start_time": "2022-09-30T13:55:10.532Z"
   },
   {
    "duration": 14,
    "start_time": "2022-09-30T13:55:12.459Z"
   },
   {
    "duration": 175,
    "start_time": "2022-09-30T13:55:12.475Z"
   },
   {
    "duration": 0,
    "start_time": "2022-09-30T13:55:12.652Z"
   },
   {
    "duration": 717,
    "start_time": "2022-09-30T14:00:49.095Z"
   },
   {
    "duration": 1192,
    "start_time": "2022-09-30T14:01:10.705Z"
   },
   {
    "duration": 300,
    "start_time": "2022-09-30T14:01:11.899Z"
   },
   {
    "duration": 44,
    "start_time": "2022-09-30T14:01:12.201Z"
   },
   {
    "duration": 121,
    "start_time": "2022-09-30T14:01:12.247Z"
   },
   {
    "duration": 916,
    "start_time": "2022-09-30T14:01:12.370Z"
   },
   {
    "duration": 816,
    "start_time": "2022-09-30T14:01:13.288Z"
   },
   {
    "duration": 773,
    "start_time": "2022-09-30T14:01:14.107Z"
   },
   {
    "duration": 813,
    "start_time": "2022-09-30T14:01:14.883Z"
   },
   {
    "duration": 804,
    "start_time": "2022-09-30T14:01:15.698Z"
   },
   {
    "duration": 535,
    "start_time": "2022-09-30T14:01:16.504Z"
   },
   {
    "duration": 239,
    "start_time": "2022-09-30T14:01:17.045Z"
   },
   {
    "duration": 2070,
    "start_time": "2022-09-30T14:01:17.286Z"
   },
   {
    "duration": 18,
    "start_time": "2022-09-30T14:01:19.358Z"
   },
   {
    "duration": 189,
    "start_time": "2022-09-30T14:01:19.379Z"
   },
   {
    "duration": 0,
    "start_time": "2022-09-30T14:01:19.570Z"
   },
   {
    "duration": 1948,
    "start_time": "2022-09-30T14:02:15.433Z"
   },
   {
    "duration": 18,
    "start_time": "2022-09-30T14:02:18.033Z"
   },
   {
    "duration": 23,
    "start_time": "2022-09-30T14:02:21.728Z"
   },
   {
    "duration": 14,
    "start_time": "2022-09-30T14:03:05.317Z"
   },
   {
    "duration": 18,
    "start_time": "2022-09-30T14:07:49.032Z"
   },
   {
    "duration": 2,
    "start_time": "2022-09-30T14:08:00.941Z"
   },
   {
    "duration": 65,
    "start_time": "2022-09-30T14:08:05.003Z"
   },
   {
    "duration": 78,
    "start_time": "2022-09-30T14:08:31.149Z"
   },
   {
    "duration": 58,
    "start_time": "2022-09-30T14:08:42.311Z"
   },
   {
    "duration": 65,
    "start_time": "2022-09-30T14:08:45.694Z"
   },
   {
    "duration": 58,
    "start_time": "2022-09-30T14:08:52.645Z"
   },
   {
    "duration": 59,
    "start_time": "2022-09-30T14:09:21.347Z"
   },
   {
    "duration": 68,
    "start_time": "2022-09-30T14:09:32.692Z"
   },
   {
    "duration": 69,
    "start_time": "2022-09-30T14:10:10.899Z"
   },
   {
    "duration": 97,
    "start_time": "2022-09-30T14:10:37.068Z"
   },
   {
    "duration": 57,
    "start_time": "2022-09-30T14:11:07.337Z"
   },
   {
    "duration": 75,
    "start_time": "2022-09-30T14:12:18.392Z"
   },
   {
    "duration": 56,
    "start_time": "2022-09-30T14:13:11.132Z"
   },
   {
    "duration": 67,
    "start_time": "2022-09-30T14:13:41.383Z"
   },
   {
    "duration": 59,
    "start_time": "2022-09-30T14:14:54.308Z"
   },
   {
    "duration": 64,
    "start_time": "2022-09-30T14:15:36.184Z"
   },
   {
    "duration": 1178,
    "start_time": "2022-09-30T14:15:42.205Z"
   },
   {
    "duration": 290,
    "start_time": "2022-09-30T14:15:43.385Z"
   },
   {
    "duration": 58,
    "start_time": "2022-09-30T14:15:43.677Z"
   },
   {
    "duration": 112,
    "start_time": "2022-09-30T14:15:43.738Z"
   },
   {
    "duration": 820,
    "start_time": "2022-09-30T14:15:43.852Z"
   },
   {
    "duration": 688,
    "start_time": "2022-09-30T14:15:44.674Z"
   },
   {
    "duration": 721,
    "start_time": "2022-09-30T14:15:45.364Z"
   },
   {
    "duration": 674,
    "start_time": "2022-09-30T14:15:46.088Z"
   },
   {
    "duration": 708,
    "start_time": "2022-09-30T14:15:46.764Z"
   },
   {
    "duration": 473,
    "start_time": "2022-09-30T14:15:47.475Z"
   },
   {
    "duration": 220,
    "start_time": "2022-09-30T14:15:47.949Z"
   },
   {
    "duration": 1856,
    "start_time": "2022-09-30T14:15:48.171Z"
   },
   {
    "duration": 16,
    "start_time": "2022-09-30T14:15:50.028Z"
   },
   {
    "duration": 87,
    "start_time": "2022-09-30T14:15:50.046Z"
   },
   {
    "duration": 12,
    "start_time": "2022-09-30T14:16:13.288Z"
   },
   {
    "duration": 21,
    "start_time": "2022-09-30T14:16:18.857Z"
   },
   {
    "duration": 12,
    "start_time": "2022-09-30T14:16:32.888Z"
   },
   {
    "duration": 17,
    "start_time": "2022-09-30T14:16:40.248Z"
   },
   {
    "duration": 1031,
    "start_time": "2022-10-01T20:43:27.487Z"
   },
   {
    "duration": 918,
    "start_time": "2022-10-01T20:43:28.519Z"
   },
   {
    "duration": 29,
    "start_time": "2022-10-01T20:43:29.438Z"
   },
   {
    "duration": 94,
    "start_time": "2022-10-01T20:43:29.469Z"
   },
   {
    "duration": 595,
    "start_time": "2022-10-01T20:43:29.564Z"
   },
   {
    "duration": 567,
    "start_time": "2022-10-01T20:43:30.160Z"
   },
   {
    "duration": 567,
    "start_time": "2022-10-01T20:43:30.728Z"
   },
   {
    "duration": 558,
    "start_time": "2022-10-01T20:43:31.296Z"
   },
   {
    "duration": 566,
    "start_time": "2022-10-01T20:43:31.856Z"
   },
   {
    "duration": 554,
    "start_time": "2022-10-01T20:43:32.424Z"
   },
   {
    "duration": 195,
    "start_time": "2022-10-01T20:43:32.980Z"
   },
   {
    "duration": 1483,
    "start_time": "2022-10-01T20:43:33.177Z"
   },
   {
    "duration": 18,
    "start_time": "2022-10-01T20:43:34.661Z"
   },
   {
    "duration": 83,
    "start_time": "2022-10-01T20:43:34.681Z"
   },
   {
    "duration": 33,
    "start_time": "2022-10-01T20:48:46.721Z"
   },
   {
    "duration": 3,
    "start_time": "2022-10-01T20:50:18.616Z"
   },
   {
    "duration": 161,
    "start_time": "2022-10-01T20:53:43.084Z"
   },
   {
    "duration": 8286,
    "start_time": "2022-10-01T20:53:44.234Z"
   },
   {
    "duration": 11300,
    "start_time": "2022-10-01T20:53:52.522Z"
   },
   {
    "duration": 248,
    "start_time": "2022-10-01T20:54:03.823Z"
   },
   {
    "duration": 7434,
    "start_time": "2022-10-01T20:54:05.530Z"
   },
   {
    "duration": 9264,
    "start_time": "2022-10-01T20:54:12.965Z"
   },
   {
    "duration": 155,
    "start_time": "2022-10-01T20:54:24.147Z"
   },
   {
    "duration": 7652,
    "start_time": "2022-10-01T20:54:25.483Z"
   },
   {
    "duration": 9094,
    "start_time": "2022-10-01T20:54:33.137Z"
   },
   {
    "duration": 100,
    "start_time": "2022-10-01T21:09:20.597Z"
   },
   {
    "duration": 88,
    "start_time": "2022-10-01T21:09:27.589Z"
   },
   {
    "duration": 14,
    "start_time": "2022-10-01T21:09:40.292Z"
   },
   {
    "duration": 77,
    "start_time": "2022-10-01T21:09:42.421Z"
   },
   {
    "duration": 7479,
    "start_time": "2022-10-01T21:09:44.013Z"
   },
   {
    "duration": 12137,
    "start_time": "2022-10-01T21:09:51.494Z"
   },
   {
    "duration": 1060,
    "start_time": "2022-10-01T21:23:34.328Z"
   },
   {
    "duration": 249,
    "start_time": "2022-10-01T21:23:35.390Z"
   },
   {
    "duration": 36,
    "start_time": "2022-10-01T21:23:35.641Z"
   },
   {
    "duration": 100,
    "start_time": "2022-10-01T21:23:35.679Z"
   },
   {
    "duration": 649,
    "start_time": "2022-10-01T21:23:35.781Z"
   },
   {
    "duration": 565,
    "start_time": "2022-10-01T21:23:36.431Z"
   },
   {
    "duration": 581,
    "start_time": "2022-10-01T21:23:36.997Z"
   },
   {
    "duration": 571,
    "start_time": "2022-10-01T21:23:37.579Z"
   },
   {
    "duration": 529,
    "start_time": "2022-10-01T21:23:38.151Z"
   },
   {
    "duration": 401,
    "start_time": "2022-10-01T21:23:38.682Z"
   },
   {
    "duration": 190,
    "start_time": "2022-10-01T21:23:39.084Z"
   },
   {
    "duration": 1474,
    "start_time": "2022-10-01T21:23:39.275Z"
   },
   {
    "duration": 15,
    "start_time": "2022-10-01T21:23:40.750Z"
   },
   {
    "duration": 12,
    "start_time": "2022-10-01T21:23:40.766Z"
   },
   {
    "duration": 109,
    "start_time": "2022-10-01T21:23:40.779Z"
   },
   {
    "duration": 7484,
    "start_time": "2022-10-01T21:23:40.889Z"
   },
   {
    "duration": 14899,
    "start_time": "2022-10-01T21:23:58.624Z"
   },
   {
    "duration": 156,
    "start_time": "2022-10-01T21:32:07.834Z"
   },
   {
    "duration": 2,
    "start_time": "2022-10-01T21:34:46.413Z"
   },
   {
    "duration": 2,
    "start_time": "2022-10-01T21:34:47.613Z"
   },
   {
    "duration": 2,
    "start_time": "2022-10-01T21:34:48.429Z"
   },
   {
    "duration": 3,
    "start_time": "2022-10-01T21:35:53.742Z"
   },
   {
    "duration": 117,
    "start_time": "2022-10-01T21:36:38.415Z"
   },
   {
    "duration": 3,
    "start_time": "2022-10-01T21:37:04.423Z"
   },
   {
    "duration": 33,
    "start_time": "2022-10-01T21:37:07.022Z"
   },
   {
    "duration": 39,
    "start_time": "2022-10-01T21:37:47.656Z"
   },
   {
    "duration": 3,
    "start_time": "2022-10-01T21:38:10.568Z"
   },
   {
    "duration": 45,
    "start_time": "2022-10-01T21:38:15.992Z"
   },
   {
    "duration": 2,
    "start_time": "2022-10-01T21:38:17.439Z"
   },
   {
    "duration": 2,
    "start_time": "2022-10-01T21:38:17.991Z"
   },
   {
    "duration": 3,
    "start_time": "2022-10-01T21:38:18.567Z"
   },
   {
    "duration": 249,
    "start_time": "2022-10-01T21:38:19.815Z"
   },
   {
    "duration": 247,
    "start_time": "2022-10-01T21:38:26.247Z"
   },
   {
    "duration": 1029,
    "start_time": "2022-10-01T21:38:35.845Z"
   },
   {
    "duration": 245,
    "start_time": "2022-10-01T21:38:36.876Z"
   },
   {
    "duration": 28,
    "start_time": "2022-10-01T21:38:37.125Z"
   },
   {
    "duration": 94,
    "start_time": "2022-10-01T21:38:37.155Z"
   },
   {
    "duration": 610,
    "start_time": "2022-10-01T21:38:37.251Z"
   },
   {
    "duration": 552,
    "start_time": "2022-10-01T21:38:37.863Z"
   },
   {
    "duration": 556,
    "start_time": "2022-10-01T21:38:38.417Z"
   },
   {
    "duration": 543,
    "start_time": "2022-10-01T21:38:38.975Z"
   },
   {
    "duration": 556,
    "start_time": "2022-10-01T21:38:39.521Z"
   },
   {
    "duration": 406,
    "start_time": "2022-10-01T21:38:40.079Z"
   },
   {
    "duration": 206,
    "start_time": "2022-10-01T21:38:40.487Z"
   },
   {
    "duration": 1513,
    "start_time": "2022-10-01T21:38:40.695Z"
   },
   {
    "duration": 26,
    "start_time": "2022-10-01T21:38:42.209Z"
   },
   {
    "duration": 35,
    "start_time": "2022-10-01T21:38:42.237Z"
   },
   {
    "duration": 3,
    "start_time": "2022-10-01T21:38:42.273Z"
   },
   {
    "duration": 7,
    "start_time": "2022-10-01T21:38:42.277Z"
   },
   {
    "duration": 7,
    "start_time": "2022-10-01T21:38:42.285Z"
   },
   {
    "duration": 270,
    "start_time": "2022-10-01T21:38:42.294Z"
   },
   {
    "duration": 21,
    "start_time": "2022-10-01T21:39:56.417Z"
   },
   {
    "duration": 10,
    "start_time": "2022-10-01T23:17:07.401Z"
   },
   {
    "duration": 12,
    "start_time": "2022-10-01T23:17:42.234Z"
   },
   {
    "duration": 13,
    "start_time": "2022-10-01T23:18:35.362Z"
   },
   {
    "duration": 1005,
    "start_time": "2022-10-01T23:22:13.390Z"
   },
   {
    "duration": 244,
    "start_time": "2022-10-01T23:22:14.397Z"
   },
   {
    "duration": 29,
    "start_time": "2022-10-01T23:22:14.643Z"
   },
   {
    "duration": 98,
    "start_time": "2022-10-01T23:22:14.674Z"
   },
   {
    "duration": 575,
    "start_time": "2022-10-01T23:22:14.773Z"
   },
   {
    "duration": 558,
    "start_time": "2022-10-01T23:22:15.350Z"
   },
   {
    "duration": 576,
    "start_time": "2022-10-01T23:22:15.910Z"
   },
   {
    "duration": 529,
    "start_time": "2022-10-01T23:22:16.488Z"
   },
   {
    "duration": 572,
    "start_time": "2022-10-01T23:22:17.019Z"
   },
   {
    "duration": 469,
    "start_time": "2022-10-01T23:22:17.593Z"
   },
   {
    "duration": 203,
    "start_time": "2022-10-01T23:22:18.064Z"
   },
   {
    "duration": 1439,
    "start_time": "2022-10-01T23:22:18.268Z"
   },
   {
    "duration": 23,
    "start_time": "2022-10-01T23:22:19.708Z"
   },
   {
    "duration": 34,
    "start_time": "2022-10-01T23:22:19.732Z"
   },
   {
    "duration": 2,
    "start_time": "2022-10-01T23:22:19.767Z"
   },
   {
    "duration": 7,
    "start_time": "2022-10-01T23:22:19.771Z"
   },
   {
    "duration": 6,
    "start_time": "2022-10-01T23:22:19.779Z"
   },
   {
    "duration": 266,
    "start_time": "2022-10-01T23:22:19.787Z"
   },
   {
    "duration": 1181,
    "start_time": "2022-10-02T07:40:13.740Z"
   },
   {
    "duration": 942,
    "start_time": "2022-10-02T07:40:14.923Z"
   },
   {
    "duration": 39,
    "start_time": "2022-10-02T07:40:15.867Z"
   },
   {
    "duration": 120,
    "start_time": "2022-10-02T07:40:15.908Z"
   },
   {
    "duration": 677,
    "start_time": "2022-10-02T07:40:16.030Z"
   },
   {
    "duration": 629,
    "start_time": "2022-10-02T07:40:16.709Z"
   },
   {
    "duration": 625,
    "start_time": "2022-10-02T07:40:17.340Z"
   },
   {
    "duration": 642,
    "start_time": "2022-10-02T07:40:17.967Z"
   },
   {
    "duration": 627,
    "start_time": "2022-10-02T07:40:18.611Z"
   },
   {
    "duration": 717,
    "start_time": "2022-10-02T07:40:19.242Z"
   },
   {
    "duration": 237,
    "start_time": "2022-10-02T07:40:19.961Z"
   },
   {
    "duration": 1780,
    "start_time": "2022-10-02T07:40:20.200Z"
   },
   {
    "duration": 21,
    "start_time": "2022-10-02T07:40:21.982Z"
   },
   {
    "duration": 54,
    "start_time": "2022-10-02T07:40:22.005Z"
   },
   {
    "duration": 3,
    "start_time": "2022-10-02T07:40:22.060Z"
   },
   {
    "duration": 7,
    "start_time": "2022-10-02T07:40:22.065Z"
   },
   {
    "duration": 13,
    "start_time": "2022-10-02T07:40:22.074Z"
   },
   {
    "duration": 321,
    "start_time": "2022-10-02T07:40:22.089Z"
   },
   {
    "duration": 112,
    "start_time": "2022-10-02T07:41:28.508Z"
   },
   {
    "duration": 40,
    "start_time": "2022-10-02T07:41:45.972Z"
   },
   {
    "duration": 752,
    "start_time": "2022-10-02T07:41:50.105Z"
   },
   {
    "duration": 4784,
    "start_time": "2022-10-02T07:43:01.566Z"
   },
   {
    "duration": 1127,
    "start_time": "2022-10-02T19:25:39.524Z"
   },
   {
    "duration": 464,
    "start_time": "2022-10-02T19:25:40.653Z"
   },
   {
    "duration": 31,
    "start_time": "2022-10-02T19:25:41.119Z"
   },
   {
    "duration": 101,
    "start_time": "2022-10-02T19:25:41.152Z"
   },
   {
    "duration": 609,
    "start_time": "2022-10-02T19:25:41.255Z"
   },
   {
    "duration": 560,
    "start_time": "2022-10-02T19:25:41.865Z"
   },
   {
    "duration": 559,
    "start_time": "2022-10-02T19:25:42.427Z"
   },
   {
    "duration": 571,
    "start_time": "2022-10-02T19:25:42.988Z"
   },
   {
    "duration": 544,
    "start_time": "2022-10-02T19:25:43.561Z"
   },
   {
    "duration": 637,
    "start_time": "2022-10-02T19:25:44.107Z"
   },
   {
    "duration": 195,
    "start_time": "2022-10-02T19:25:44.746Z"
   },
   {
    "duration": 1486,
    "start_time": "2022-10-02T19:25:44.943Z"
   },
   {
    "duration": 22,
    "start_time": "2022-10-02T19:25:46.431Z"
   },
   {
    "duration": 36,
    "start_time": "2022-10-02T19:25:46.455Z"
   },
   {
    "duration": 2,
    "start_time": "2022-10-02T19:25:46.493Z"
   },
   {
    "duration": 6,
    "start_time": "2022-10-02T19:25:46.497Z"
   },
   {
    "duration": 34,
    "start_time": "2022-10-02T19:25:46.505Z"
   },
   {
    "duration": 69376,
    "start_time": "2022-10-02T19:25:46.541Z"
   },
   {
    "duration": 4185,
    "start_time": "2022-10-02T19:26:55.918Z"
   },
   {
    "duration": 438,
    "start_time": "2022-10-02T19:27:00.105Z"
   },
   {
    "duration": 37190,
    "start_time": "2022-10-02T19:27:23.651Z"
   },
   {
    "duration": 45,
    "start_time": "2022-10-02T19:31:08.332Z"
   },
   {
    "duration": 36616,
    "start_time": "2022-10-02T19:31:10.339Z"
   },
   {
    "duration": 4223,
    "start_time": "2022-10-02T19:31:46.957Z"
   },
   {
    "duration": 364,
    "start_time": "2022-10-02T19:31:51.182Z"
   },
   {
    "duration": 4114,
    "start_time": "2022-10-02T19:32:03.917Z"
   },
   {
    "duration": 4091,
    "start_time": "2022-10-02T19:32:10.053Z"
   },
   {
    "duration": 37016,
    "start_time": "2022-10-02T19:32:42.790Z"
   },
   {
    "duration": 1085,
    "start_time": "2022-10-02T19:37:12.280Z"
   },
   {
    "duration": 1016,
    "start_time": "2022-10-02T19:37:19.769Z"
   },
   {
    "duration": 14,
    "start_time": "2022-10-02T19:39:50.540Z"
   },
   {
    "duration": 1143,
    "start_time": "2022-10-02T19:39:56.811Z"
   },
   {
    "duration": 20,
    "start_time": "2022-10-02T19:40:22.194Z"
   },
   {
    "duration": 18,
    "start_time": "2022-10-02T19:41:58.196Z"
   },
   {
    "duration": 1213,
    "start_time": "2022-10-02T19:42:25.061Z"
   },
   {
    "duration": 1023,
    "start_time": "2022-10-02T19:42:31.221Z"
   },
   {
    "duration": 1108,
    "start_time": "2022-10-02T19:42:36.964Z"
   },
   {
    "duration": 1092,
    "start_time": "2022-10-02T19:42:47.749Z"
   },
   {
    "duration": 18903,
    "start_time": "2022-10-02T19:43:17.566Z"
   },
   {
    "duration": 23416,
    "start_time": "2022-10-02T19:43:57.734Z"
   },
   {
    "duration": 2,
    "start_time": "2022-10-02T19:44:37.905Z"
   },
   {
    "duration": 370,
    "start_time": "2022-10-02T19:53:26.552Z"
   },
   {
    "duration": 272,
    "start_time": "2022-10-02T19:54:18.278Z"
   },
   {
    "duration": 385,
    "start_time": "2022-10-02T19:54:28.070Z"
   },
   {
    "duration": 345,
    "start_time": "2022-10-02T19:54:55.862Z"
   },
   {
    "duration": 3,
    "start_time": "2022-10-02T19:56:40.862Z"
   },
   {
    "duration": 42,
    "start_time": "2022-10-02T19:56:45.752Z"
   },
   {
    "duration": 37,
    "start_time": "2022-10-02T19:56:46.583Z"
   },
   {
    "duration": 23,
    "start_time": "2022-10-02T19:57:05.015Z"
   },
   {
    "duration": 38480,
    "start_time": "2022-10-02T19:57:09.200Z"
   },
   {
    "duration": 38009,
    "start_time": "2022-10-02T19:58:03.641Z"
   },
   {
    "duration": 4519,
    "start_time": "2022-10-02T19:58:48.120Z"
   },
   {
    "duration": 619,
    "start_time": "2022-10-02T19:58:56.521Z"
   },
   {
    "duration": 319,
    "start_time": "2022-10-02T19:59:03.216Z"
   },
   {
    "duration": 305,
    "start_time": "2022-10-02T19:59:13.817Z"
   },
   {
    "duration": 352,
    "start_time": "2022-10-02T20:00:22.544Z"
   },
   {
    "duration": 417,
    "start_time": "2022-10-02T20:00:55.522Z"
   },
   {
    "duration": 298,
    "start_time": "2022-10-02T20:01:17.898Z"
   },
   {
    "duration": 16,
    "start_time": "2022-10-02T20:09:51.368Z"
   },
   {
    "duration": 3,
    "start_time": "2022-10-02T20:10:03.944Z"
   },
   {
    "duration": 20,
    "start_time": "2022-10-02T20:10:08.065Z"
   },
   {
    "duration": 38844,
    "start_time": "2022-10-02T20:16:04.621Z"
   },
   {
    "duration": 4454,
    "start_time": "2022-10-02T20:16:43.466Z"
   },
   {
    "duration": 604,
    "start_time": "2022-10-02T20:17:19.140Z"
   },
   {
    "duration": 16,
    "start_time": "2022-10-02T20:17:21.860Z"
   },
   {
    "duration": 15,
    "start_time": "2022-10-02T20:52:54.892Z"
   },
   {
    "duration": 1069,
    "start_time": "2022-10-02T20:56:51.255Z"
   },
   {
    "duration": 25,
    "start_time": "2022-10-02T20:56:53.895Z"
   },
   {
    "duration": 1048,
    "start_time": "2022-10-02T20:59:36.552Z"
   },
   {
    "duration": 1139,
    "start_time": "2022-10-02T21:01:59.420Z"
   },
   {
    "duration": 279,
    "start_time": "2022-10-02T21:02:00.561Z"
   },
   {
    "duration": 31,
    "start_time": "2022-10-02T21:02:00.842Z"
   },
   {
    "duration": 113,
    "start_time": "2022-10-02T21:02:00.875Z"
   },
   {
    "duration": 611,
    "start_time": "2022-10-02T21:02:00.989Z"
   },
   {
    "duration": 603,
    "start_time": "2022-10-02T21:02:01.602Z"
   },
   {
    "duration": 591,
    "start_time": "2022-10-02T21:02:02.207Z"
   },
   {
    "duration": 580,
    "start_time": "2022-10-02T21:02:02.800Z"
   },
   {
    "duration": 584,
    "start_time": "2022-10-02T21:02:03.382Z"
   },
   {
    "duration": 430,
    "start_time": "2022-10-02T21:02:03.968Z"
   },
   {
    "duration": 205,
    "start_time": "2022-10-02T21:02:04.400Z"
   },
   {
    "duration": 967,
    "start_time": "2022-10-02T21:02:04.606Z"
   },
   {
    "duration": 1560,
    "start_time": "2022-10-02T21:02:05.575Z"
   },
   {
    "duration": 18,
    "start_time": "2022-10-02T21:02:07.139Z"
   },
   {
    "duration": 84,
    "start_time": "2022-10-02T21:02:07.159Z"
   },
   {
    "duration": 39,
    "start_time": "2022-10-02T21:02:07.245Z"
   },
   {
    "duration": 39294,
    "start_time": "2022-10-02T21:02:07.286Z"
   },
   {
    "duration": 4549,
    "start_time": "2022-10-02T21:02:46.581Z"
   },
   {
    "duration": 812,
    "start_time": "2022-10-02T21:02:51.132Z"
   },
   {
    "duration": 446,
    "start_time": "2022-10-02T21:02:51.946Z"
   },
   {
    "duration": 19,
    "start_time": "2022-10-02T21:02:52.394Z"
   },
   {
    "duration": 20,
    "start_time": "2022-10-02T21:03:08.572Z"
   },
   {
    "duration": 7,
    "start_time": "2022-10-02T21:12:29.256Z"
   },
   {
    "duration": 53,
    "start_time": "2022-10-02T21:13:19.305Z"
   },
   {
    "duration": 1702,
    "start_time": "2022-10-02T21:13:39.074Z"
   },
   {
    "duration": 6,
    "start_time": "2022-10-02T21:14:29.212Z"
   },
   {
    "duration": 61,
    "start_time": "2022-10-02T21:15:00.780Z"
   },
   {
    "duration": 5,
    "start_time": "2022-10-02T21:15:05.083Z"
   },
   {
    "duration": 5,
    "start_time": "2022-10-02T21:15:09.995Z"
   },
   {
    "duration": 7,
    "start_time": "2022-10-02T21:15:29.275Z"
   },
   {
    "duration": 294,
    "start_time": "2022-10-02T21:16:06.196Z"
   },
   {
    "duration": 7,
    "start_time": "2022-10-02T21:16:07.316Z"
   },
   {
    "duration": 6,
    "start_time": "2022-10-02T21:16:48.636Z"
   },
   {
    "duration": 6,
    "start_time": "2022-10-02T21:17:02.772Z"
   },
   {
    "duration": 6,
    "start_time": "2022-10-02T21:18:16.797Z"
   },
   {
    "duration": 9,
    "start_time": "2022-10-02T21:23:12.416Z"
   },
   {
    "duration": 7,
    "start_time": "2022-10-02T21:23:14.712Z"
   },
   {
    "duration": 20,
    "start_time": "2022-10-02T21:23:21.056Z"
   },
   {
    "duration": 5,
    "start_time": "2022-10-02T21:24:42.482Z"
   },
   {
    "duration": 5,
    "start_time": "2022-10-02T21:24:52.289Z"
   },
   {
    "duration": 8,
    "start_time": "2022-10-02T21:25:07.426Z"
   },
   {
    "duration": 111,
    "start_time": "2022-10-02T21:27:55.892Z"
   },
   {
    "duration": 3,
    "start_time": "2022-10-02T21:28:06.437Z"
   },
   {
    "duration": 23,
    "start_time": "2022-10-02T21:28:46.941Z"
   },
   {
    "duration": 9,
    "start_time": "2022-10-02T21:29:17.176Z"
   },
   {
    "duration": 21,
    "start_time": "2022-10-02T21:32:08.503Z"
   },
   {
    "duration": 16,
    "start_time": "2022-10-02T21:32:37.032Z"
   },
   {
    "duration": 16,
    "start_time": "2022-10-02T21:32:40.600Z"
   },
   {
    "duration": 6,
    "start_time": "2022-10-02T21:36:29.330Z"
   },
   {
    "duration": 12,
    "start_time": "2022-10-02T21:37:32.684Z"
   },
   {
    "duration": 21,
    "start_time": "2022-10-02T21:39:06.220Z"
   },
   {
    "duration": 8,
    "start_time": "2022-10-02T21:39:38.805Z"
   },
   {
    "duration": 6,
    "start_time": "2022-10-02T21:40:06.965Z"
   },
   {
    "duration": 7,
    "start_time": "2022-10-02T21:41:08.206Z"
   },
   {
    "duration": 7,
    "start_time": "2022-10-02T21:41:22.638Z"
   },
   {
    "duration": 9,
    "start_time": "2022-10-02T21:43:26.999Z"
   },
   {
    "duration": 11,
    "start_time": "2022-10-02T21:44:02.056Z"
   },
   {
    "duration": 11,
    "start_time": "2022-10-02T21:44:27.665Z"
   },
   {
    "duration": 13,
    "start_time": "2022-10-02T21:44:59.624Z"
   },
   {
    "duration": 15,
    "start_time": "2022-10-02T21:45:50.066Z"
   },
   {
    "duration": 18,
    "start_time": "2022-10-02T21:47:12.114Z"
   },
   {
    "duration": 19,
    "start_time": "2022-10-02T21:48:35.339Z"
   },
   {
    "duration": 27,
    "start_time": "2022-10-02T21:51:40.886Z"
   },
   {
    "duration": 60,
    "start_time": "2022-10-02T21:59:54.571Z"
   },
   {
    "duration": 1084,
    "start_time": "2022-10-02T22:04:51.372Z"
   },
   {
    "duration": 298,
    "start_time": "2022-10-02T22:04:52.458Z"
   },
   {
    "duration": 34,
    "start_time": "2022-10-02T22:04:52.757Z"
   },
   {
    "duration": 120,
    "start_time": "2022-10-02T22:04:52.793Z"
   },
   {
    "duration": 688,
    "start_time": "2022-10-02T22:04:52.915Z"
   },
   {
    "duration": 663,
    "start_time": "2022-10-02T22:04:53.604Z"
   },
   {
    "duration": 665,
    "start_time": "2022-10-02T22:04:54.269Z"
   },
   {
    "duration": 637,
    "start_time": "2022-10-02T22:04:54.938Z"
   },
   {
    "duration": 627,
    "start_time": "2022-10-02T22:04:55.577Z"
   },
   {
    "duration": 435,
    "start_time": "2022-10-02T22:04:56.206Z"
   },
   {
    "duration": 205,
    "start_time": "2022-10-02T22:04:56.642Z"
   },
   {
    "duration": 986,
    "start_time": "2022-10-02T22:04:56.848Z"
   },
   {
    "duration": 1580,
    "start_time": "2022-10-02T22:04:57.838Z"
   },
   {
    "duration": 27,
    "start_time": "2022-10-02T22:04:59.420Z"
   },
   {
    "duration": 45,
    "start_time": "2022-10-02T22:04:59.448Z"
   },
   {
    "duration": 65,
    "start_time": "2022-10-02T22:04:59.495Z"
   },
   {
    "duration": 38641,
    "start_time": "2022-10-02T22:04:59.561Z"
   },
   {
    "duration": 4546,
    "start_time": "2022-10-02T22:05:38.203Z"
   },
   {
    "duration": 792,
    "start_time": "2022-10-02T22:05:42.750Z"
   },
   {
    "duration": 417,
    "start_time": "2022-10-02T22:05:43.544Z"
   },
   {
    "duration": 6,
    "start_time": "2022-10-02T22:05:43.962Z"
   },
   {
    "duration": 37,
    "start_time": "2022-10-02T22:05:43.970Z"
   },
   {
    "duration": 1139,
    "start_time": "2022-10-03T20:07:09.343Z"
   },
   {
    "duration": 479,
    "start_time": "2022-10-03T20:07:10.484Z"
   },
   {
    "duration": 32,
    "start_time": "2022-10-03T20:07:10.965Z"
   },
   {
    "duration": 107,
    "start_time": "2022-10-03T20:07:10.998Z"
   },
   {
    "duration": 632,
    "start_time": "2022-10-03T20:07:11.106Z"
   },
   {
    "duration": 605,
    "start_time": "2022-10-03T20:07:11.739Z"
   },
   {
    "duration": 605,
    "start_time": "2022-10-03T20:07:12.345Z"
   },
   {
    "duration": 569,
    "start_time": "2022-10-03T20:07:12.951Z"
   },
   {
    "duration": 582,
    "start_time": "2022-10-03T20:07:13.522Z"
   },
   {
    "duration": 621,
    "start_time": "2022-10-03T20:07:14.106Z"
   },
   {
    "duration": 208,
    "start_time": "2022-10-03T20:07:14.729Z"
   },
   {
    "duration": 998,
    "start_time": "2022-10-03T20:07:14.939Z"
   },
   {
    "duration": 1575,
    "start_time": "2022-10-03T20:07:15.939Z"
   },
   {
    "duration": 23,
    "start_time": "2022-10-03T20:07:17.516Z"
   },
   {
    "duration": 42,
    "start_time": "2022-10-03T20:07:17.541Z"
   },
   {
    "duration": 66,
    "start_time": "2022-10-03T20:07:17.585Z"
   },
   {
    "duration": 38894,
    "start_time": "2022-10-03T20:07:17.652Z"
   },
   {
    "duration": 4502,
    "start_time": "2022-10-03T20:07:56.548Z"
   },
   {
    "duration": 687,
    "start_time": "2022-10-03T20:08:01.052Z"
   },
   {
    "duration": 439,
    "start_time": "2022-10-03T20:08:01.741Z"
   },
   {
    "duration": 6,
    "start_time": "2022-10-03T20:08:02.182Z"
   },
   {
    "duration": 55,
    "start_time": "2022-10-03T20:08:02.190Z"
   },
   {
    "duration": 1277,
    "start_time": "2022-10-04T13:09:55.520Z"
   },
   {
    "duration": 530,
    "start_time": "2022-10-04T13:09:56.799Z"
   },
   {
    "duration": 302,
    "start_time": "2022-10-04T13:10:41.372Z"
   },
   {
    "duration": 295,
    "start_time": "2022-10-04T13:10:56.860Z"
   },
   {
    "duration": 52,
    "start_time": "2022-10-04T13:11:43.229Z"
   },
   {
    "duration": 39,
    "start_time": "2022-10-04T13:12:46.446Z"
   },
   {
    "duration": 289,
    "start_time": "2022-10-04T13:12:50.570Z"
   },
   {
    "duration": 1345,
    "start_time": "2022-10-04T13:17:46.917Z"
   },
   {
    "duration": 1114,
    "start_time": "2022-10-04T13:17:55.897Z"
   },
   {
    "duration": 5,
    "start_time": "2022-10-04T13:18:34.667Z"
   },
   {
    "duration": 6,
    "start_time": "2022-10-04T13:19:34.203Z"
   },
   {
    "duration": 8,
    "start_time": "2022-10-04T13:22:53.012Z"
   },
   {
    "duration": 16,
    "start_time": "2022-10-04T13:28:32.796Z"
   },
   {
    "duration": 35,
    "start_time": "2022-10-04T13:30:01.722Z"
   },
   {
    "duration": 25,
    "start_time": "2022-10-04T13:31:01.662Z"
   },
   {
    "duration": 33,
    "start_time": "2022-10-04T13:31:14.415Z"
   },
   {
    "duration": 9,
    "start_time": "2022-10-04T13:31:27.201Z"
   },
   {
    "duration": 42,
    "start_time": "2022-10-04T13:38:36.480Z"
   },
   {
    "duration": 113,
    "start_time": "2022-10-04T13:39:10.901Z"
   },
   {
    "duration": 116,
    "start_time": "2022-10-04T13:39:17.411Z"
   },
   {
    "duration": 154,
    "start_time": "2022-10-04T13:40:42.971Z"
   },
   {
    "duration": 153,
    "start_time": "2022-10-04T13:41:11.927Z"
   },
   {
    "duration": 9,
    "start_time": "2022-10-04T13:50:27.884Z"
   },
   {
    "duration": 1163,
    "start_time": "2022-10-04T13:50:35.427Z"
   },
   {
    "duration": 293,
    "start_time": "2022-10-04T13:50:36.592Z"
   },
   {
    "duration": 30,
    "start_time": "2022-10-04T13:50:36.887Z"
   },
   {
    "duration": 33,
    "start_time": "2022-10-04T13:50:36.919Z"
   },
   {
    "duration": 99,
    "start_time": "2022-10-04T13:50:36.954Z"
   },
   {
    "duration": 125,
    "start_time": "2022-10-04T13:50:37.055Z"
   },
   {
    "duration": 642,
    "start_time": "2022-10-04T13:50:37.182Z"
   },
   {
    "duration": 678,
    "start_time": "2022-10-04T13:50:37.826Z"
   },
   {
    "duration": 666,
    "start_time": "2022-10-04T13:50:38.506Z"
   },
   {
    "duration": 661,
    "start_time": "2022-10-04T13:50:39.174Z"
   },
   {
    "duration": 655,
    "start_time": "2022-10-04T13:50:39.837Z"
   },
   {
    "duration": 3,
    "start_time": "2022-10-04T13:50:40.494Z"
   },
   {
    "duration": 720,
    "start_time": "2022-10-04T13:50:40.498Z"
   },
   {
    "duration": 241,
    "start_time": "2022-10-04T13:50:41.220Z"
   },
   {
    "duration": 2108,
    "start_time": "2022-10-04T13:50:41.463Z"
   },
   {
    "duration": 1701,
    "start_time": "2022-10-04T13:50:43.573Z"
   },
   {
    "duration": 16,
    "start_time": "2022-10-04T13:50:45.276Z"
   },
   {
    "duration": 78,
    "start_time": "2022-10-04T13:50:45.294Z"
   },
   {
    "duration": 36,
    "start_time": "2022-10-04T13:50:45.373Z"
   },
   {
    "duration": 44507,
    "start_time": "2022-10-04T13:50:45.411Z"
   },
   {
    "duration": 70004,
    "start_time": "2022-10-04T13:51:29.919Z"
   },
   {
    "duration": 727,
    "start_time": "2022-10-04T13:52:39.925Z"
   },
   {
    "duration": 419,
    "start_time": "2022-10-04T13:52:40.655Z"
   },
   {
    "duration": 5,
    "start_time": "2022-10-04T13:52:41.076Z"
   },
   {
    "duration": 66,
    "start_time": "2022-10-04T13:52:41.083Z"
   },
   {
    "duration": 849,
    "start_time": "2022-10-04T13:54:48.972Z"
   },
   {
    "duration": 4900,
    "start_time": "2022-10-04T13:58:44.561Z"
   },
   {
    "duration": 4687,
    "start_time": "2022-10-04T13:59:22.258Z"
   },
   {
    "duration": 4656,
    "start_time": "2022-10-04T13:59:34.490Z"
   },
   {
    "duration": 4860,
    "start_time": "2022-10-04T13:59:45.885Z"
   },
   {
    "duration": 43392,
    "start_time": "2022-10-04T14:00:03.987Z"
   },
   {
    "duration": 4941,
    "start_time": "2022-10-04T14:01:02.417Z"
   },
   {
    "duration": 19,
    "start_time": "2022-10-04T14:07:27.501Z"
   },
   {
    "duration": 20,
    "start_time": "2022-10-04T14:07:57.717Z"
   },
   {
    "duration": 17,
    "start_time": "2022-10-04T14:08:26.947Z"
   },
   {
    "duration": 19,
    "start_time": "2022-10-04T14:09:07.616Z"
   },
   {
    "duration": 21,
    "start_time": "2022-10-04T14:09:16.744Z"
   },
   {
    "duration": 20,
    "start_time": "2022-10-04T14:10:55.797Z"
   },
   {
    "duration": 20,
    "start_time": "2022-10-04T14:11:55.140Z"
   },
   {
    "duration": 26,
    "start_time": "2022-10-04T14:12:16.376Z"
   },
   {
    "duration": 19,
    "start_time": "2022-10-04T14:12:27.633Z"
   },
   {
    "duration": 20,
    "start_time": "2022-10-04T14:12:55.539Z"
   },
   {
    "duration": 23,
    "start_time": "2022-10-04T14:13:13.536Z"
   },
   {
    "duration": 12,
    "start_time": "2022-10-04T14:13:28.576Z"
   },
   {
    "duration": 25,
    "start_time": "2022-10-04T14:13:33.554Z"
   },
   {
    "duration": 40,
    "start_time": "2022-10-04T14:13:58.731Z"
   },
   {
    "duration": 34,
    "start_time": "2022-10-04T14:14:09.205Z"
   },
   {
    "duration": 28,
    "start_time": "2022-10-04T14:14:22.164Z"
   },
   {
    "duration": 13,
    "start_time": "2022-10-04T14:14:30.817Z"
   },
   {
    "duration": 13,
    "start_time": "2022-10-04T14:16:16.935Z"
   },
   {
    "duration": 14,
    "start_time": "2022-10-04T14:16:54.719Z"
   },
   {
    "duration": 18,
    "start_time": "2022-10-04T14:22:16.589Z"
   },
   {
    "duration": 17,
    "start_time": "2022-10-04T14:22:22.753Z"
   },
   {
    "duration": 20,
    "start_time": "2022-10-04T14:22:44.293Z"
   },
   {
    "duration": 28,
    "start_time": "2022-10-04T14:22:56.414Z"
   },
   {
    "duration": 1204,
    "start_time": "2022-10-04T14:23:13.030Z"
   },
   {
    "duration": 1043,
    "start_time": "2022-10-04T14:23:29.219Z"
   },
   {
    "duration": 1417,
    "start_time": "2022-10-04T14:24:04.445Z"
   },
   {
    "duration": 20,
    "start_time": "2022-10-04T14:24:24.882Z"
   },
   {
    "duration": 4,
    "start_time": "2022-10-04T14:24:52.440Z"
   },
   {
    "duration": 273,
    "start_time": "2022-10-04T14:24:52.447Z"
   },
   {
    "duration": 37,
    "start_time": "2022-10-04T14:24:52.722Z"
   },
   {
    "duration": 11,
    "start_time": "2022-10-04T14:24:52.760Z"
   },
   {
    "duration": 105,
    "start_time": "2022-10-04T14:24:52.773Z"
   },
   {
    "duration": 115,
    "start_time": "2022-10-04T14:24:52.880Z"
   },
   {
    "duration": 601,
    "start_time": "2022-10-04T14:24:52.997Z"
   },
   {
    "duration": 597,
    "start_time": "2022-10-04T14:24:53.600Z"
   },
   {
    "duration": 597,
    "start_time": "2022-10-04T14:24:54.199Z"
   },
   {
    "duration": 611,
    "start_time": "2022-10-04T14:24:54.798Z"
   },
   {
    "duration": 592,
    "start_time": "2022-10-04T14:24:55.411Z"
   },
   {
    "duration": 47,
    "start_time": "2022-10-04T14:24:56.005Z"
   },
   {
    "duration": 25,
    "start_time": "2022-10-04T14:25:07.638Z"
   },
   {
    "duration": 24,
    "start_time": "2022-10-04T14:25:11.762Z"
   },
   {
    "duration": 1132,
    "start_time": "2022-10-04T14:25:15.761Z"
   },
   {
    "duration": 35,
    "start_time": "2022-10-04T14:25:26.026Z"
   },
   {
    "duration": 37,
    "start_time": "2022-10-04T14:25:40.772Z"
   },
   {
    "duration": 4,
    "start_time": "2022-10-04T14:25:51.158Z"
   },
   {
    "duration": 260,
    "start_time": "2022-10-04T14:25:51.165Z"
   },
   {
    "duration": 38,
    "start_time": "2022-10-04T14:25:51.427Z"
   },
   {
    "duration": 9,
    "start_time": "2022-10-04T14:25:51.466Z"
   },
   {
    "duration": 113,
    "start_time": "2022-10-04T14:25:51.477Z"
   },
   {
    "duration": 108,
    "start_time": "2022-10-04T14:25:51.593Z"
   },
   {
    "duration": 643,
    "start_time": "2022-10-04T14:25:51.703Z"
   },
   {
    "duration": 605,
    "start_time": "2022-10-04T14:25:52.348Z"
   },
   {
    "duration": 586,
    "start_time": "2022-10-04T14:25:52.955Z"
   },
   {
    "duration": 583,
    "start_time": "2022-10-04T14:25:53.542Z"
   },
   {
    "duration": 579,
    "start_time": "2022-10-04T14:25:54.127Z"
   },
   {
    "duration": 52,
    "start_time": "2022-10-04T14:25:59.877Z"
   },
   {
    "duration": 3,
    "start_time": "2022-10-04T14:26:23.248Z"
   },
   {
    "duration": 259,
    "start_time": "2022-10-04T14:26:23.253Z"
   },
   {
    "duration": 38,
    "start_time": "2022-10-04T14:26:23.514Z"
   },
   {
    "duration": 9,
    "start_time": "2022-10-04T14:26:23.554Z"
   },
   {
    "duration": 108,
    "start_time": "2022-10-04T14:26:23.565Z"
   },
   {
    "duration": 117,
    "start_time": "2022-10-04T14:26:23.674Z"
   },
   {
    "duration": 617,
    "start_time": "2022-10-04T14:26:23.793Z"
   },
   {
    "duration": 602,
    "start_time": "2022-10-04T14:26:24.411Z"
   },
   {
    "duration": 594,
    "start_time": "2022-10-04T14:26:25.015Z"
   },
   {
    "duration": 621,
    "start_time": "2022-10-04T14:26:25.611Z"
   },
   {
    "duration": 654,
    "start_time": "2022-10-04T14:26:26.235Z"
   },
   {
    "duration": 49,
    "start_time": "2022-10-04T14:26:32.149Z"
   },
   {
    "duration": 4,
    "start_time": "2022-10-04T14:26:38.630Z"
   },
   {
    "duration": 232,
    "start_time": "2022-10-04T14:26:38.636Z"
   },
   {
    "duration": 31,
    "start_time": "2022-10-04T14:26:38.870Z"
   },
   {
    "duration": 8,
    "start_time": "2022-10-04T14:26:38.903Z"
   },
   {
    "duration": 79,
    "start_time": "2022-10-04T14:26:38.934Z"
   },
   {
    "duration": 107,
    "start_time": "2022-10-04T14:26:39.015Z"
   },
   {
    "duration": 614,
    "start_time": "2022-10-04T14:26:39.133Z"
   },
   {
    "duration": 606,
    "start_time": "2022-10-04T14:26:39.749Z"
   },
   {
    "duration": 603,
    "start_time": "2022-10-04T14:26:40.356Z"
   },
   {
    "duration": 614,
    "start_time": "2022-10-04T14:26:40.961Z"
   },
   {
    "duration": 587,
    "start_time": "2022-10-04T14:26:41.578Z"
   },
   {
    "duration": 49,
    "start_time": "2022-10-04T14:26:42.167Z"
   },
   {
    "duration": 837,
    "start_time": "2022-10-04T14:27:01.061Z"
   },
   {
    "duration": 3,
    "start_time": "2022-10-04T14:27:10.813Z"
   },
   {
    "duration": 264,
    "start_time": "2022-10-04T14:27:10.820Z"
   },
   {
    "duration": 49,
    "start_time": "2022-10-04T14:27:11.086Z"
   },
   {
    "duration": 12,
    "start_time": "2022-10-04T14:27:11.137Z"
   },
   {
    "duration": 112,
    "start_time": "2022-10-04T14:27:11.152Z"
   },
   {
    "duration": 118,
    "start_time": "2022-10-04T14:27:11.266Z"
   },
   {
    "duration": 699,
    "start_time": "2022-10-04T14:27:11.386Z"
   },
   {
    "duration": 647,
    "start_time": "2022-10-04T14:27:12.087Z"
   },
   {
    "duration": 670,
    "start_time": "2022-10-04T14:27:12.735Z"
   },
   {
    "duration": 598,
    "start_time": "2022-10-04T14:27:13.406Z"
   },
   {
    "duration": 610,
    "start_time": "2022-10-04T14:27:14.006Z"
   },
   {
    "duration": 964,
    "start_time": "2022-10-04T14:27:14.618Z"
   },
   {
    "duration": 4,
    "start_time": "2022-10-04T14:27:20.368Z"
   },
   {
    "duration": 268,
    "start_time": "2022-10-04T14:27:20.375Z"
   },
   {
    "duration": 42,
    "start_time": "2022-10-04T14:27:20.646Z"
   },
   {
    "duration": 14,
    "start_time": "2022-10-04T14:27:20.689Z"
   },
   {
    "duration": 140,
    "start_time": "2022-10-04T14:27:20.706Z"
   },
   {
    "duration": 119,
    "start_time": "2022-10-04T14:27:20.848Z"
   },
   {
    "duration": 660,
    "start_time": "2022-10-04T14:27:20.969Z"
   },
   {
    "duration": 642,
    "start_time": "2022-10-04T14:27:21.630Z"
   },
   {
    "duration": 602,
    "start_time": "2022-10-04T14:27:22.273Z"
   },
   {
    "duration": 603,
    "start_time": "2022-10-04T14:27:22.877Z"
   },
   {
    "duration": 588,
    "start_time": "2022-10-04T14:27:23.482Z"
   },
   {
    "duration": 701,
    "start_time": "2022-10-04T14:27:26.030Z"
   },
   {
    "duration": 30,
    "start_time": "2022-10-04T14:27:27.062Z"
   },
   {
    "duration": 38,
    "start_time": "2022-10-04T14:28:06.254Z"
   },
   {
    "duration": 4,
    "start_time": "2022-10-04T14:28:10.106Z"
   },
   {
    "duration": 273,
    "start_time": "2022-10-04T14:28:10.113Z"
   },
   {
    "duration": 62,
    "start_time": "2022-10-04T14:28:10.388Z"
   },
   {
    "duration": 14,
    "start_time": "2022-10-04T14:28:10.453Z"
   },
   {
    "duration": 149,
    "start_time": "2022-10-04T14:28:10.470Z"
   },
   {
    "duration": 113,
    "start_time": "2022-10-04T14:28:10.621Z"
   },
   {
    "duration": 633,
    "start_time": "2022-10-04T14:28:10.736Z"
   },
   {
    "duration": 667,
    "start_time": "2022-10-04T14:28:11.370Z"
   },
   {
    "duration": 613,
    "start_time": "2022-10-04T14:28:12.039Z"
   },
   {
    "duration": 595,
    "start_time": "2022-10-04T14:28:12.654Z"
   },
   {
    "duration": 584,
    "start_time": "2022-10-04T14:28:13.250Z"
   },
   {
    "duration": 53,
    "start_time": "2022-10-04T14:28:13.835Z"
   },
   {
    "duration": 1256,
    "start_time": "2022-10-04T14:28:55.803Z"
   },
   {
    "duration": 31,
    "start_time": "2022-10-04T14:29:05.551Z"
   },
   {
    "duration": 3,
    "start_time": "2022-10-04T14:29:12.798Z"
   },
   {
    "duration": 225,
    "start_time": "2022-10-04T14:29:12.804Z"
   },
   {
    "duration": 33,
    "start_time": "2022-10-04T14:29:13.031Z"
   },
   {
    "duration": 9,
    "start_time": "2022-10-04T14:29:13.065Z"
   },
   {
    "duration": 94,
    "start_time": "2022-10-04T14:29:13.076Z"
   },
   {
    "duration": 110,
    "start_time": "2022-10-04T14:29:13.172Z"
   },
   {
    "duration": 626,
    "start_time": "2022-10-04T14:29:13.284Z"
   },
   {
    "duration": 632,
    "start_time": "2022-10-04T14:29:13.912Z"
   },
   {
    "duration": 590,
    "start_time": "2022-10-04T14:29:14.546Z"
   },
   {
    "duration": 612,
    "start_time": "2022-10-04T14:29:15.137Z"
   },
   {
    "duration": 617,
    "start_time": "2022-10-04T14:29:15.751Z"
   },
   {
    "duration": 63,
    "start_time": "2022-10-04T14:29:16.371Z"
   },
   {
    "duration": 10,
    "start_time": "2022-10-04T14:34:49.979Z"
   },
   {
    "duration": 18,
    "start_time": "2022-10-04T14:36:33.843Z"
   },
   {
    "duration": 30,
    "start_time": "2022-10-04T14:37:38.675Z"
   },
   {
    "duration": 35,
    "start_time": "2022-10-04T14:40:15.834Z"
   },
   {
    "duration": 1713,
    "start_time": "2022-10-04T14:40:28.169Z"
   },
   {
    "duration": 3,
    "start_time": "2022-10-04T14:40:45.020Z"
   },
   {
    "duration": 226,
    "start_time": "2022-10-04T14:40:45.034Z"
   },
   {
    "duration": 35,
    "start_time": "2022-10-04T14:40:45.262Z"
   },
   {
    "duration": 11,
    "start_time": "2022-10-04T14:40:45.299Z"
   },
   {
    "duration": 98,
    "start_time": "2022-10-04T14:40:45.312Z"
   },
   {
    "duration": 128,
    "start_time": "2022-10-04T14:40:45.413Z"
   },
   {
    "duration": 624,
    "start_time": "2022-10-04T14:40:45.542Z"
   },
   {
    "duration": 660,
    "start_time": "2022-10-04T14:40:46.168Z"
   },
   {
    "duration": 633,
    "start_time": "2022-10-04T14:40:46.830Z"
   },
   {
    "duration": 659,
    "start_time": "2022-10-04T14:40:47.465Z"
   },
   {
    "duration": 634,
    "start_time": "2022-10-04T14:40:48.126Z"
   },
   {
    "duration": 45,
    "start_time": "2022-10-04T14:40:48.762Z"
   },
   {
    "duration": 50,
    "start_time": "2022-10-04T14:40:48.809Z"
   },
   {
    "duration": 13,
    "start_time": "2022-10-04T14:40:55.370Z"
   },
   {
    "duration": 4,
    "start_time": "2022-10-05T18:52:43.708Z"
   },
   {
    "duration": 2,
    "start_time": "2022-10-05T18:52:44.402Z"
   },
   {
    "duration": 55,
    "start_time": "2022-10-05T18:53:50.914Z"
   },
   {
    "duration": 1166,
    "start_time": "2022-10-05T18:53:56.820Z"
   },
   {
    "duration": 556,
    "start_time": "2022-10-05T18:53:57.988Z"
   },
   {
    "duration": 36,
    "start_time": "2022-10-05T18:53:58.546Z"
   },
   {
    "duration": 10,
    "start_time": "2022-10-05T18:53:58.584Z"
   },
   {
    "duration": 126,
    "start_time": "2022-10-05T18:53:58.595Z"
   },
   {
    "duration": 125,
    "start_time": "2022-10-05T18:53:58.733Z"
   },
   {
    "duration": 799,
    "start_time": "2022-10-05T18:53:58.861Z"
   },
   {
    "duration": 732,
    "start_time": "2022-10-05T18:53:59.662Z"
   },
   {
    "duration": 715,
    "start_time": "2022-10-05T18:54:00.396Z"
   },
   {
    "duration": 708,
    "start_time": "2022-10-05T18:54:01.113Z"
   },
   {
    "duration": 717,
    "start_time": "2022-10-05T18:54:01.823Z"
   },
   {
    "duration": 50,
    "start_time": "2022-10-05T18:54:02.542Z"
   },
   {
    "duration": 78,
    "start_time": "2022-10-05T18:54:02.594Z"
   },
   {
    "duration": 3,
    "start_time": "2022-10-05T18:54:02.674Z"
   },
   {
    "duration": 6,
    "start_time": "2022-10-05T18:54:02.679Z"
   },
   {
    "duration": 705,
    "start_time": "2022-10-05T18:54:02.687Z"
   },
   {
    "duration": 228,
    "start_time": "2022-10-05T18:57:14.046Z"
   },
   {
    "duration": 287,
    "start_time": "2022-10-05T18:57:38.820Z"
   },
   {
    "duration": 222,
    "start_time": "2022-10-05T18:57:50.188Z"
   },
   {
    "duration": 307,
    "start_time": "2022-10-05T18:58:07.806Z"
   },
   {
    "duration": 209,
    "start_time": "2022-10-05T18:58:14.925Z"
   },
   {
    "duration": 231,
    "start_time": "2022-10-05T18:58:24.285Z"
   },
   {
    "duration": 214,
    "start_time": "2022-10-05T18:58:33.428Z"
   },
   {
    "duration": 269,
    "start_time": "2022-10-05T18:58:38.893Z"
   },
   {
    "duration": 1041,
    "start_time": "2022-10-05T19:17:52.324Z"
   },
   {
    "duration": 450,
    "start_time": "2022-10-05T19:17:53.367Z"
   },
   {
    "duration": 34,
    "start_time": "2022-10-05T19:17:53.818Z"
   },
   {
    "duration": 10,
    "start_time": "2022-10-05T19:17:53.854Z"
   },
   {
    "duration": 115,
    "start_time": "2022-10-05T19:17:53.865Z"
   },
   {
    "duration": 134,
    "start_time": "2022-10-05T19:17:53.981Z"
   },
   {
    "duration": 722,
    "start_time": "2022-10-05T19:17:54.116Z"
   },
   {
    "duration": 618,
    "start_time": "2022-10-05T19:17:54.840Z"
   },
   {
    "duration": 639,
    "start_time": "2022-10-05T19:17:55.460Z"
   },
   {
    "duration": 595,
    "start_time": "2022-10-05T19:17:56.102Z"
   },
   {
    "duration": 605,
    "start_time": "2022-10-05T19:17:56.698Z"
   },
   {
    "duration": 48,
    "start_time": "2022-10-05T19:17:57.305Z"
   },
   {
    "duration": 69,
    "start_time": "2022-10-05T19:17:57.355Z"
   },
   {
    "duration": 2,
    "start_time": "2022-10-05T19:17:57.426Z"
   },
   {
    "duration": 11,
    "start_time": "2022-10-05T19:17:57.430Z"
   },
   {
    "duration": 1733,
    "start_time": "2022-10-05T19:17:57.443Z"
   },
   {
    "duration": 0,
    "start_time": "2022-10-05T19:17:59.178Z"
   },
   {
    "duration": 0,
    "start_time": "2022-10-05T19:17:59.179Z"
   },
   {
    "duration": 0,
    "start_time": "2022-10-05T19:17:59.180Z"
   },
   {
    "duration": 0,
    "start_time": "2022-10-05T19:17:59.181Z"
   },
   {
    "duration": 0,
    "start_time": "2022-10-05T19:17:59.182Z"
   },
   {
    "duration": 0,
    "start_time": "2022-10-05T19:17:59.184Z"
   },
   {
    "duration": 0,
    "start_time": "2022-10-05T19:17:59.185Z"
   },
   {
    "duration": 0,
    "start_time": "2022-10-05T19:17:59.186Z"
   },
   {
    "duration": 0,
    "start_time": "2022-10-05T19:17:59.200Z"
   },
   {
    "duration": 0,
    "start_time": "2022-10-05T19:17:59.201Z"
   },
   {
    "duration": 0,
    "start_time": "2022-10-05T19:17:59.203Z"
   },
   {
    "duration": 923,
    "start_time": "2022-10-05T19:18:39.369Z"
   },
   {
    "duration": 416,
    "start_time": "2022-10-05T19:18:56.146Z"
   },
   {
    "duration": 342,
    "start_time": "2022-10-05T19:19:10.605Z"
   },
   {
    "duration": 368,
    "start_time": "2022-10-05T19:19:19.586Z"
   },
   {
    "duration": 288,
    "start_time": "2022-10-05T19:19:25.025Z"
   },
   {
    "duration": 464,
    "start_time": "2022-10-05T19:20:26.571Z"
   },
   {
    "duration": 442,
    "start_time": "2022-10-05T19:20:34.866Z"
   },
   {
    "duration": 529,
    "start_time": "2022-10-05T19:20:40.634Z"
   },
   {
    "duration": 417,
    "start_time": "2022-10-05T19:37:48.790Z"
   },
   {
    "duration": 4,
    "start_time": "2022-10-05T19:40:43.599Z"
   },
   {
    "duration": 114,
    "start_time": "2022-10-05T19:42:22.440Z"
   },
   {
    "duration": 118,
    "start_time": "2022-10-05T19:43:05.032Z"
   },
   {
    "duration": 111,
    "start_time": "2022-10-05T19:44:17.529Z"
   },
   {
    "duration": 121,
    "start_time": "2022-10-05T19:45:30.571Z"
   },
   {
    "duration": 120,
    "start_time": "2022-10-05T19:45:37.427Z"
   },
   {
    "duration": 109,
    "start_time": "2022-10-05T19:45:43.474Z"
   },
   {
    "duration": 129,
    "start_time": "2022-10-05T19:47:12.019Z"
   },
   {
    "duration": 222,
    "start_time": "2022-10-05T19:47:17.404Z"
   },
   {
    "duration": 120,
    "start_time": "2022-10-05T19:47:20.955Z"
   },
   {
    "duration": 125,
    "start_time": "2022-10-05T19:47:33.267Z"
   },
   {
    "duration": 122,
    "start_time": "2022-10-05T19:48:31.270Z"
   },
   {
    "duration": 114,
    "start_time": "2022-10-05T19:48:37.579Z"
   },
   {
    "duration": 123,
    "start_time": "2022-10-05T19:48:40.779Z"
   },
   {
    "duration": 120,
    "start_time": "2022-10-05T19:48:46.756Z"
   },
   {
    "duration": 136,
    "start_time": "2022-10-05T19:49:25.436Z"
   },
   {
    "duration": 128,
    "start_time": "2022-10-05T19:49:29.468Z"
   },
   {
    "duration": 136,
    "start_time": "2022-10-05T19:50:06.309Z"
   },
   {
    "duration": 16,
    "start_time": "2022-10-05T19:50:27.630Z"
   },
   {
    "duration": 128,
    "start_time": "2022-10-05T19:52:30.111Z"
   },
   {
    "duration": 123,
    "start_time": "2022-10-05T19:52:34.784Z"
   },
   {
    "duration": 132,
    "start_time": "2022-10-05T19:53:02.689Z"
   },
   {
    "duration": 124,
    "start_time": "2022-10-05T19:53:08.312Z"
   },
   {
    "duration": 201,
    "start_time": "2022-10-05T19:54:08.841Z"
   },
   {
    "duration": 280,
    "start_time": "2022-10-05T19:54:19.208Z"
   },
   {
    "duration": 0,
    "start_time": "2022-10-05T20:07:30.203Z"
   },
   {
    "duration": 1,
    "start_time": "2022-10-05T20:07:30.205Z"
   },
   {
    "duration": 0,
    "start_time": "2022-10-05T20:07:30.207Z"
   },
   {
    "duration": 0,
    "start_time": "2022-10-05T20:07:30.210Z"
   },
   {
    "duration": 0,
    "start_time": "2022-10-05T20:07:30.212Z"
   },
   {
    "duration": 0,
    "start_time": "2022-10-05T20:07:30.213Z"
   },
   {
    "duration": 0,
    "start_time": "2022-10-05T20:07:30.215Z"
   },
   {
    "duration": 0,
    "start_time": "2022-10-05T20:07:30.217Z"
   },
   {
    "duration": 0,
    "start_time": "2022-10-05T20:07:30.219Z"
   },
   {
    "duration": 0,
    "start_time": "2022-10-05T20:07:30.221Z"
   },
   {
    "duration": 1,
    "start_time": "2022-10-05T20:07:30.222Z"
   },
   {
    "duration": 0,
    "start_time": "2022-10-05T20:07:30.225Z"
   },
   {
    "duration": 0,
    "start_time": "2022-10-05T20:07:30.226Z"
   },
   {
    "duration": 0,
    "start_time": "2022-10-05T20:07:30.228Z"
   },
   {
    "duration": 0,
    "start_time": "2022-10-05T20:07:30.229Z"
   },
   {
    "duration": 0,
    "start_time": "2022-10-05T20:07:30.231Z"
   },
   {
    "duration": 0,
    "start_time": "2022-10-05T20:07:30.233Z"
   },
   {
    "duration": 0,
    "start_time": "2022-10-05T20:07:30.234Z"
   },
   {
    "duration": 4,
    "start_time": "2022-10-05T20:34:19.532Z"
   },
   {
    "duration": 251,
    "start_time": "2022-10-05T20:34:19.538Z"
   },
   {
    "duration": 34,
    "start_time": "2022-10-05T20:34:19.791Z"
   },
   {
    "duration": 8,
    "start_time": "2022-10-05T20:34:19.827Z"
   },
   {
    "duration": 120,
    "start_time": "2022-10-05T20:34:19.837Z"
   },
   {
    "duration": 156,
    "start_time": "2022-10-05T20:34:19.959Z"
   },
   {
    "duration": 634,
    "start_time": "2022-10-05T20:34:20.117Z"
   },
   {
    "duration": 632,
    "start_time": "2022-10-05T20:34:20.753Z"
   },
   {
    "duration": 595,
    "start_time": "2022-10-05T20:34:21.388Z"
   },
   {
    "duration": 588,
    "start_time": "2022-10-05T20:34:21.985Z"
   },
   {
    "duration": 592,
    "start_time": "2022-10-05T20:34:22.574Z"
   },
   {
    "duration": 57,
    "start_time": "2022-10-05T20:34:23.167Z"
   },
   {
    "duration": 40,
    "start_time": "2022-10-05T20:34:23.226Z"
   },
   {
    "duration": 2,
    "start_time": "2022-10-05T20:34:23.268Z"
   },
   {
    "duration": 31,
    "start_time": "2022-10-05T20:34:23.271Z"
   },
   {
    "duration": 497,
    "start_time": "2022-10-05T20:34:23.303Z"
   },
   {
    "duration": 138,
    "start_time": "2022-10-05T20:34:23.801Z"
   },
   {
    "duration": 44,
    "start_time": "2022-10-05T20:35:51.257Z"
   },
   {
    "duration": 1284,
    "start_time": "2022-10-05T20:35:56.390Z"
   },
   {
    "duration": 460,
    "start_time": "2022-10-05T20:35:57.677Z"
   },
   {
    "duration": 34,
    "start_time": "2022-10-05T20:35:58.139Z"
   },
   {
    "duration": 33,
    "start_time": "2022-10-05T20:35:58.175Z"
   },
   {
    "duration": 104,
    "start_time": "2022-10-05T20:35:58.210Z"
   },
   {
    "duration": 118,
    "start_time": "2022-10-05T20:35:58.315Z"
   },
   {
    "duration": 596,
    "start_time": "2022-10-05T20:35:58.434Z"
   },
   {
    "duration": 633,
    "start_time": "2022-10-05T20:35:59.032Z"
   },
   {
    "duration": 599,
    "start_time": "2022-10-05T20:35:59.667Z"
   },
   {
    "duration": 590,
    "start_time": "2022-10-05T20:36:00.268Z"
   },
   {
    "duration": 575,
    "start_time": "2022-10-05T20:36:00.859Z"
   },
   {
    "duration": 71,
    "start_time": "2022-10-05T20:36:01.436Z"
   },
   {
    "duration": 45,
    "start_time": "2022-10-05T20:36:01.509Z"
   },
   {
    "duration": 2,
    "start_time": "2022-10-05T20:36:01.556Z"
   },
   {
    "duration": 17,
    "start_time": "2022-10-05T20:36:01.559Z"
   },
   {
    "duration": 440,
    "start_time": "2022-10-05T20:36:01.577Z"
   },
   {
    "duration": 130,
    "start_time": "2022-10-05T20:36:02.019Z"
   },
   {
    "duration": 512,
    "start_time": "2022-10-05T20:36:02.151Z"
   },
   {
    "duration": 456,
    "start_time": "2022-10-05T20:37:47.265Z"
   },
   {
    "duration": 116,
    "start_time": "2022-10-05T20:38:06.536Z"
   },
   {
    "duration": 53,
    "start_time": "2022-10-05T20:39:27.273Z"
   },
   {
    "duration": 198,
    "start_time": "2022-10-05T20:40:46.562Z"
   },
   {
    "duration": 4,
    "start_time": "2022-10-05T20:41:06.338Z"
   },
   {
    "duration": 131,
    "start_time": "2022-10-05T20:41:15.644Z"
   },
   {
    "duration": 198,
    "start_time": "2022-10-05T20:41:52.132Z"
   },
   {
    "duration": 2,
    "start_time": "2022-10-05T20:42:11.156Z"
   },
   {
    "duration": 13,
    "start_time": "2022-10-05T20:53:11.179Z"
   },
   {
    "duration": 940,
    "start_time": "2022-10-05T20:53:18.450Z"
   },
   {
    "duration": 871,
    "start_time": "2022-10-05T20:53:32.570Z"
   },
   {
    "duration": 919,
    "start_time": "2022-10-05T20:53:39.667Z"
   },
   {
    "duration": 961,
    "start_time": "2022-10-05T20:54:19.675Z"
   },
   {
    "duration": 195,
    "start_time": "2022-10-05T20:56:13.597Z"
   },
   {
    "duration": 213,
    "start_time": "2022-10-05T20:56:44.157Z"
   },
   {
    "duration": 192,
    "start_time": "2022-10-05T20:58:37.141Z"
   },
   {
    "duration": 240,
    "start_time": "2022-10-05T20:59:25.503Z"
   },
   {
    "duration": 209,
    "start_time": "2022-10-05T20:59:40.366Z"
   },
   {
    "duration": 204,
    "start_time": "2022-10-05T21:01:07.056Z"
   },
   {
    "duration": 212,
    "start_time": "2022-10-05T21:01:23.079Z"
   },
   {
    "duration": 372,
    "start_time": "2022-10-05T21:01:28.584Z"
   },
   {
    "duration": 328,
    "start_time": "2022-10-05T21:01:37.248Z"
   },
   {
    "duration": 5,
    "start_time": "2022-10-05T21:01:42.137Z"
   },
   {
    "duration": 260,
    "start_time": "2022-10-05T21:01:42.143Z"
   },
   {
    "duration": 33,
    "start_time": "2022-10-05T21:01:42.405Z"
   },
   {
    "duration": 10,
    "start_time": "2022-10-05T21:01:42.440Z"
   },
   {
    "duration": 111,
    "start_time": "2022-10-05T21:01:42.451Z"
   },
   {
    "duration": 108,
    "start_time": "2022-10-05T21:01:42.564Z"
   },
   {
    "duration": 628,
    "start_time": "2022-10-05T21:01:42.673Z"
   },
   {
    "duration": 601,
    "start_time": "2022-10-05T21:01:43.302Z"
   },
   {
    "duration": 662,
    "start_time": "2022-10-05T21:01:43.906Z"
   },
   {
    "duration": 574,
    "start_time": "2022-10-05T21:01:44.570Z"
   },
   {
    "duration": 598,
    "start_time": "2022-10-05T21:01:45.145Z"
   },
   {
    "duration": 56,
    "start_time": "2022-10-05T21:01:45.745Z"
   },
   {
    "duration": 39,
    "start_time": "2022-10-05T21:01:45.803Z"
   },
   {
    "duration": 219,
    "start_time": "2022-10-05T21:01:45.844Z"
   },
   {
    "duration": 18,
    "start_time": "2022-10-05T21:01:53.952Z"
   },
   {
    "duration": 44,
    "start_time": "2022-10-05T21:02:34.819Z"
   },
   {
    "duration": 3,
    "start_time": "2022-10-05T21:02:51.624Z"
   },
   {
    "duration": 243,
    "start_time": "2022-10-05T21:02:51.629Z"
   },
   {
    "duration": 44,
    "start_time": "2022-10-05T21:02:51.874Z"
   },
   {
    "duration": 9,
    "start_time": "2022-10-05T21:02:51.920Z"
   },
   {
    "duration": 98,
    "start_time": "2022-10-05T21:02:51.931Z"
   },
   {
    "duration": 109,
    "start_time": "2022-10-05T21:02:52.030Z"
   },
   {
    "duration": 622,
    "start_time": "2022-10-05T21:02:52.140Z"
   },
   {
    "duration": 607,
    "start_time": "2022-10-05T21:02:52.763Z"
   },
   {
    "duration": 615,
    "start_time": "2022-10-05T21:02:53.372Z"
   },
   {
    "duration": 666,
    "start_time": "2022-10-05T21:02:53.989Z"
   },
   {
    "duration": 588,
    "start_time": "2022-10-05T21:02:54.656Z"
   },
   {
    "duration": 56,
    "start_time": "2022-10-05T21:02:55.246Z"
   },
   {
    "duration": 42,
    "start_time": "2022-10-05T21:02:55.304Z"
   },
   {
    "duration": 213,
    "start_time": "2022-10-05T21:02:55.349Z"
   },
   {
    "duration": 16,
    "start_time": "2022-10-05T21:02:55.564Z"
   },
   {
    "duration": 221,
    "start_time": "2022-10-05T21:02:55.581Z"
   },
   {
    "duration": 440,
    "start_time": "2022-10-05T21:04:08.450Z"
   },
   {
    "duration": 166,
    "start_time": "2022-10-05T21:04:29.954Z"
   },
   {
    "duration": 317,
    "start_time": "2022-10-05T21:04:32.073Z"
   },
   {
    "duration": 3,
    "start_time": "2022-10-05T21:04:38.767Z"
   },
   {
    "duration": 260,
    "start_time": "2022-10-05T21:04:38.772Z"
   },
   {
    "duration": 35,
    "start_time": "2022-10-05T21:04:39.035Z"
   },
   {
    "duration": 33,
    "start_time": "2022-10-05T21:04:39.072Z"
   },
   {
    "duration": 77,
    "start_time": "2022-10-05T21:04:39.107Z"
   },
   {
    "duration": 104,
    "start_time": "2022-10-05T21:04:39.201Z"
   },
   {
    "duration": 618,
    "start_time": "2022-10-05T21:04:39.306Z"
   },
   {
    "duration": 579,
    "start_time": "2022-10-05T21:04:39.925Z"
   },
   {
    "duration": 592,
    "start_time": "2022-10-05T21:04:40.506Z"
   },
   {
    "duration": 613,
    "start_time": "2022-10-05T21:04:41.099Z"
   },
   {
    "duration": 580,
    "start_time": "2022-10-05T21:04:41.714Z"
   },
   {
    "duration": 48,
    "start_time": "2022-10-05T21:04:42.295Z"
   },
   {
    "duration": 70,
    "start_time": "2022-10-05T21:04:42.345Z"
   },
   {
    "duration": 195,
    "start_time": "2022-10-05T21:04:42.416Z"
   },
   {
    "duration": 161,
    "start_time": "2022-10-05T21:04:42.613Z"
   },
   {
    "duration": 30,
    "start_time": "2022-10-05T21:04:42.776Z"
   },
   {
    "duration": 221,
    "start_time": "2022-10-05T21:04:42.808Z"
   },
   {
    "duration": 21,
    "start_time": "2022-10-05T21:05:17.898Z"
   },
   {
    "duration": 9,
    "start_time": "2022-10-05T21:05:50.307Z"
   },
   {
    "duration": 177,
    "start_time": "2022-10-05T21:05:55.154Z"
   },
   {
    "duration": 22,
    "start_time": "2022-10-05T21:06:34.939Z"
   },
   {
    "duration": 11,
    "start_time": "2022-10-05T21:06:44.156Z"
   },
   {
    "duration": 19,
    "start_time": "2022-10-05T21:06:52.443Z"
   },
   {
    "duration": 17,
    "start_time": "2022-10-05T21:07:02.046Z"
   },
   {
    "duration": 9,
    "start_time": "2022-10-05T21:09:30.632Z"
   },
   {
    "duration": 149,
    "start_time": "2022-10-05T21:09:39.078Z"
   },
   {
    "duration": 8,
    "start_time": "2022-10-05T21:09:49.086Z"
   },
   {
    "duration": 17,
    "start_time": "2022-10-05T21:10:17.079Z"
   },
   {
    "duration": 27,
    "start_time": "2022-10-05T21:10:39.071Z"
   },
   {
    "duration": 3,
    "start_time": "2022-10-05T21:12:02.541Z"
   },
   {
    "duration": 219,
    "start_time": "2022-10-05T21:12:02.546Z"
   },
   {
    "duration": 41,
    "start_time": "2022-10-05T21:12:02.767Z"
   },
   {
    "duration": 10,
    "start_time": "2022-10-05T21:12:02.810Z"
   },
   {
    "duration": 98,
    "start_time": "2022-10-05T21:12:02.822Z"
   },
   {
    "duration": 108,
    "start_time": "2022-10-05T21:12:02.922Z"
   },
   {
    "duration": 585,
    "start_time": "2022-10-05T21:12:03.031Z"
   },
   {
    "duration": 574,
    "start_time": "2022-10-05T21:12:03.617Z"
   },
   {
    "duration": 633,
    "start_time": "2022-10-05T21:12:04.194Z"
   },
   {
    "duration": 560,
    "start_time": "2022-10-05T21:12:04.829Z"
   },
   {
    "duration": 572,
    "start_time": "2022-10-05T21:12:05.391Z"
   },
   {
    "duration": 51,
    "start_time": "2022-10-05T21:12:05.964Z"
   },
   {
    "duration": 32,
    "start_time": "2022-10-05T21:12:06.017Z"
   },
   {
    "duration": 225,
    "start_time": "2022-10-05T21:12:06.051Z"
   },
   {
    "duration": 181,
    "start_time": "2022-10-05T21:12:06.279Z"
   },
   {
    "duration": 13,
    "start_time": "2022-10-05T21:12:06.463Z"
   },
   {
    "duration": 206,
    "start_time": "2022-10-05T21:12:06.478Z"
   },
   {
    "duration": 171,
    "start_time": "2022-10-05T21:12:06.685Z"
   },
   {
    "duration": 19,
    "start_time": "2022-10-05T21:12:06.857Z"
   },
   {
    "duration": 442,
    "start_time": "2022-10-05T21:12:06.877Z"
   },
   {
    "duration": 140,
    "start_time": "2022-10-05T21:12:07.321Z"
   },
   {
    "duration": 999,
    "start_time": "2022-10-05T21:12:07.463Z"
   },
   {
    "duration": 1548,
    "start_time": "2022-10-06T10:27:03.250Z"
   },
   {
    "duration": 532,
    "start_time": "2022-10-06T10:27:04.801Z"
   },
   {
    "duration": 38,
    "start_time": "2022-10-06T10:27:05.340Z"
   },
   {
    "duration": 9,
    "start_time": "2022-10-06T10:27:05.380Z"
   },
   {
    "duration": 117,
    "start_time": "2022-10-06T10:27:05.391Z"
   },
   {
    "duration": 128,
    "start_time": "2022-10-06T10:27:05.509Z"
   },
   {
    "duration": 670,
    "start_time": "2022-10-06T10:27:05.642Z"
   },
   {
    "duration": 693,
    "start_time": "2022-10-06T10:27:06.315Z"
   },
   {
    "duration": 632,
    "start_time": "2022-10-06T10:27:07.010Z"
   },
   {
    "duration": 642,
    "start_time": "2022-10-06T10:27:07.652Z"
   },
   {
    "duration": 628,
    "start_time": "2022-10-06T10:27:08.296Z"
   },
   {
    "duration": 58,
    "start_time": "2022-10-06T10:27:08.926Z"
   },
   {
    "duration": 64,
    "start_time": "2022-10-06T10:27:08.986Z"
   },
   {
    "duration": 230,
    "start_time": "2022-10-06T10:27:09.052Z"
   },
   {
    "duration": 192,
    "start_time": "2022-10-06T10:27:09.283Z"
   },
   {
    "duration": 18,
    "start_time": "2022-10-06T10:27:09.476Z"
   },
   {
    "duration": 258,
    "start_time": "2022-10-06T10:27:09.496Z"
   },
   {
    "duration": 232,
    "start_time": "2022-10-06T10:27:09.757Z"
   },
   {
    "duration": 97,
    "start_time": "2022-10-06T10:27:09.991Z"
   },
   {
    "duration": 489,
    "start_time": "2022-10-06T10:27:10.089Z"
   },
   {
    "duration": 166,
    "start_time": "2022-10-06T10:27:10.580Z"
   },
   {
    "duration": 1001,
    "start_time": "2022-10-06T10:27:10.748Z"
   },
   {
    "duration": 843,
    "start_time": "2022-10-06T10:36:53.955Z"
   },
   {
    "duration": 728,
    "start_time": "2022-10-06T10:37:20.054Z"
   },
   {
    "duration": 684,
    "start_time": "2022-10-06T10:37:26.301Z"
   },
   {
    "duration": 668,
    "start_time": "2022-10-06T10:38:08.757Z"
   },
   {
    "duration": 630,
    "start_time": "2022-10-06T10:38:26.880Z"
   },
   {
    "duration": 762,
    "start_time": "2022-10-06T10:38:34.062Z"
   },
   {
    "duration": 641,
    "start_time": "2022-10-06T10:38:49.724Z"
   },
   {
    "duration": 674,
    "start_time": "2022-10-06T10:39:10.822Z"
   },
   {
    "duration": 644,
    "start_time": "2022-10-06T10:39:29.571Z"
   },
   {
    "duration": 639,
    "start_time": "2022-10-06T10:39:38.603Z"
   },
   {
    "duration": 631,
    "start_time": "2022-10-06T10:39:50.098Z"
   },
   {
    "duration": 1829,
    "start_time": "2022-10-06T11:04:06.591Z"
   },
   {
    "duration": 17,
    "start_time": "2022-10-06T11:06:20.952Z"
   },
   {
    "duration": 1306,
    "start_time": "2022-10-06T11:13:49.662Z"
   },
   {
    "duration": 4,
    "start_time": "2022-10-06T11:14:11.601Z"
   },
   {
    "duration": 329,
    "start_time": "2022-10-06T11:14:11.608Z"
   },
   {
    "duration": 41,
    "start_time": "2022-10-06T11:14:11.939Z"
   },
   {
    "duration": 9,
    "start_time": "2022-10-06T11:14:11.981Z"
   },
   {
    "duration": 102,
    "start_time": "2022-10-06T11:14:11.992Z"
   },
   {
    "duration": 127,
    "start_time": "2022-10-06T11:14:12.096Z"
   },
   {
    "duration": 666,
    "start_time": "2022-10-06T11:14:12.225Z"
   },
   {
    "duration": 659,
    "start_time": "2022-10-06T11:14:12.892Z"
   },
   {
    "duration": 652,
    "start_time": "2022-10-06T11:14:13.552Z"
   },
   {
    "duration": 686,
    "start_time": "2022-10-06T11:14:14.206Z"
   },
   {
    "duration": 624,
    "start_time": "2022-10-06T11:14:14.894Z"
   },
   {
    "duration": 62,
    "start_time": "2022-10-06T11:14:15.520Z"
   },
   {
    "duration": 66,
    "start_time": "2022-10-06T11:14:15.585Z"
   },
   {
    "duration": 213,
    "start_time": "2022-10-06T11:14:15.653Z"
   },
   {
    "duration": 192,
    "start_time": "2022-10-06T11:14:15.867Z"
   },
   {
    "duration": 15,
    "start_time": "2022-10-06T11:14:16.060Z"
   },
   {
    "duration": 267,
    "start_time": "2022-10-06T11:14:16.077Z"
   },
   {
    "duration": 233,
    "start_time": "2022-10-06T11:14:16.346Z"
   },
   {
    "duration": 34,
    "start_time": "2022-10-06T11:14:16.581Z"
   },
   {
    "duration": 653,
    "start_time": "2022-10-06T11:14:16.616Z"
   },
   {
    "duration": 156,
    "start_time": "2022-10-06T11:14:17.270Z"
   },
   {
    "duration": 1092,
    "start_time": "2022-10-06T11:14:17.428Z"
   },
   {
    "duration": 16,
    "start_time": "2022-10-06T11:14:18.521Z"
   },
   {
    "duration": 1718,
    "start_time": "2022-10-06T11:14:18.540Z"
   },
   {
    "duration": 14,
    "start_time": "2022-10-06T11:14:20.259Z"
   },
   {
    "duration": 6,
    "start_time": "2022-10-06T11:14:42.832Z"
   },
   {
    "duration": 245,
    "start_time": "2022-10-06T11:14:42.846Z"
   },
   {
    "duration": 51,
    "start_time": "2022-10-06T11:14:43.093Z"
   },
   {
    "duration": 13,
    "start_time": "2022-10-06T11:14:43.146Z"
   },
   {
    "duration": 99,
    "start_time": "2022-10-06T11:14:43.160Z"
   },
   {
    "duration": 139,
    "start_time": "2022-10-06T11:14:43.261Z"
   },
   {
    "duration": 660,
    "start_time": "2022-10-06T11:14:43.402Z"
   },
   {
    "duration": 654,
    "start_time": "2022-10-06T11:14:44.064Z"
   },
   {
    "duration": 661,
    "start_time": "2022-10-06T11:14:44.721Z"
   },
   {
    "duration": 687,
    "start_time": "2022-10-06T11:14:45.384Z"
   },
   {
    "duration": 707,
    "start_time": "2022-10-06T11:14:46.073Z"
   },
   {
    "duration": 61,
    "start_time": "2022-10-06T11:14:46.782Z"
   },
   {
    "duration": 38,
    "start_time": "2022-10-06T11:14:46.844Z"
   },
   {
    "duration": 214,
    "start_time": "2022-10-06T11:14:46.884Z"
   },
   {
    "duration": 199,
    "start_time": "2022-10-06T11:14:47.100Z"
   },
   {
    "duration": 14,
    "start_time": "2022-10-06T11:14:47.301Z"
   },
   {
    "duration": 250,
    "start_time": "2022-10-06T11:14:47.316Z"
   },
   {
    "duration": 206,
    "start_time": "2022-10-06T11:14:47.568Z"
   },
   {
    "duration": 23,
    "start_time": "2022-10-06T11:14:47.776Z"
   },
   {
    "duration": 748,
    "start_time": "2022-10-06T11:14:47.800Z"
   },
   {
    "duration": 142,
    "start_time": "2022-10-06T11:14:48.550Z"
   },
   {
    "duration": 972,
    "start_time": "2022-10-06T11:14:48.694Z"
   },
   {
    "duration": 5,
    "start_time": "2022-10-06T11:14:49.667Z"
   },
   {
    "duration": 1682,
    "start_time": "2022-10-06T11:14:49.675Z"
   },
   {
    "duration": 12,
    "start_time": "2022-10-06T11:14:51.359Z"
   },
   {
    "duration": 17,
    "start_time": "2022-10-06T11:15:04.348Z"
   },
   {
    "duration": 18,
    "start_time": "2022-10-06T11:15:15.813Z"
   },
   {
    "duration": 9,
    "start_time": "2022-10-06T12:00:44.051Z"
   },
   {
    "duration": 15,
    "start_time": "2022-10-06T12:01:01.126Z"
   },
   {
    "duration": 0,
    "start_time": "2022-10-06T12:01:01.144Z"
   },
   {
    "duration": 0,
    "start_time": "2022-10-06T12:01:01.145Z"
   },
   {
    "duration": 40,
    "start_time": "2022-10-06T12:01:01.167Z"
   },
   {
    "duration": 0,
    "start_time": "2022-10-06T12:01:01.209Z"
   },
   {
    "duration": 0,
    "start_time": "2022-10-06T12:01:01.210Z"
   },
   {
    "duration": 0,
    "start_time": "2022-10-06T12:01:01.212Z"
   },
   {
    "duration": 0,
    "start_time": "2022-10-06T12:01:01.213Z"
   },
   {
    "duration": 49,
    "start_time": "2022-10-06T12:01:39.907Z"
   },
   {
    "duration": 36,
    "start_time": "2022-10-06T12:01:41.907Z"
   },
   {
    "duration": 40492,
    "start_time": "2022-10-06T12:01:45.722Z"
   },
   {
    "duration": 4483,
    "start_time": "2022-10-06T12:02:26.217Z"
   },
   {
    "duration": 733,
    "start_time": "2022-10-06T12:02:30.702Z"
   },
   {
    "duration": 430,
    "start_time": "2022-10-06T12:02:31.438Z"
   },
   {
    "duration": 11,
    "start_time": "2022-10-06T12:02:31.870Z"
   },
   {
    "duration": 0,
    "start_time": "2022-10-06T12:02:31.883Z"
   },
   {
    "duration": 11,
    "start_time": "2022-10-06T12:22:23.557Z"
   },
   {
    "duration": 10,
    "start_time": "2022-10-06T12:23:20.875Z"
   },
   {
    "duration": 9,
    "start_time": "2022-10-06T12:23:26.953Z"
   },
   {
    "duration": 9,
    "start_time": "2022-10-06T12:23:41.739Z"
   },
   {
    "duration": 8,
    "start_time": "2022-10-06T12:26:20.957Z"
   },
   {
    "duration": 12,
    "start_time": "2022-10-06T12:26:38.134Z"
   },
   {
    "duration": 14,
    "start_time": "2022-10-06T12:37:28.835Z"
   },
   {
    "duration": 8,
    "start_time": "2022-10-06T13:05:37.798Z"
   },
   {
    "duration": 77,
    "start_time": "2022-10-06T13:06:09.259Z"
   },
   {
    "duration": 9,
    "start_time": "2022-10-06T13:06:12.800Z"
   },
   {
    "duration": 23,
    "start_time": "2022-10-06T13:31:33.116Z"
   },
   {
    "duration": 25,
    "start_time": "2022-10-06T13:31:49.844Z"
   },
   {
    "duration": 1289,
    "start_time": "2022-10-06T13:32:02.184Z"
   },
   {
    "duration": 1313,
    "start_time": "2022-10-06T13:32:13.391Z"
   },
   {
    "duration": 1330,
    "start_time": "2022-10-06T13:38:11.291Z"
   },
   {
    "duration": 1393,
    "start_time": "2022-10-06T13:38:58.139Z"
   },
   {
    "duration": 1359,
    "start_time": "2022-10-06T13:39:08.716Z"
   },
   {
    "duration": 1303,
    "start_time": "2022-10-06T13:39:20.252Z"
   },
   {
    "duration": 1338,
    "start_time": "2022-10-06T13:39:30.507Z"
   },
   {
    "duration": 1394,
    "start_time": "2022-10-06T13:41:35.748Z"
   },
   {
    "duration": 1289,
    "start_time": "2022-10-06T13:43:04.581Z"
   },
   {
    "duration": 4,
    "start_time": "2022-10-06T13:43:51.717Z"
   },
   {
    "duration": 268,
    "start_time": "2022-10-06T13:43:51.724Z"
   },
   {
    "duration": 43,
    "start_time": "2022-10-06T13:43:51.994Z"
   },
   {
    "duration": 11,
    "start_time": "2022-10-06T13:43:52.039Z"
   },
   {
    "duration": 100,
    "start_time": "2022-10-06T13:43:52.053Z"
   },
   {
    "duration": 121,
    "start_time": "2022-10-06T13:43:52.155Z"
   },
   {
    "duration": 632,
    "start_time": "2022-10-06T13:43:52.278Z"
   },
   {
    "duration": 592,
    "start_time": "2022-10-06T13:43:52.911Z"
   },
   {
    "duration": 579,
    "start_time": "2022-10-06T13:43:53.504Z"
   },
   {
    "duration": 600,
    "start_time": "2022-10-06T13:43:54.085Z"
   },
   {
    "duration": 574,
    "start_time": "2022-10-06T13:43:54.687Z"
   },
   {
    "duration": 39,
    "start_time": "2022-10-06T13:43:55.262Z"
   },
   {
    "duration": 54,
    "start_time": "2022-10-06T13:43:55.302Z"
   },
   {
    "duration": 203,
    "start_time": "2022-10-06T13:43:55.358Z"
   },
   {
    "duration": 174,
    "start_time": "2022-10-06T13:43:55.563Z"
   },
   {
    "duration": 13,
    "start_time": "2022-10-06T13:43:55.739Z"
   },
   {
    "duration": 212,
    "start_time": "2022-10-06T13:43:55.753Z"
   },
   {
    "duration": 177,
    "start_time": "2022-10-06T13:43:55.967Z"
   },
   {
    "duration": 22,
    "start_time": "2022-10-06T13:43:56.146Z"
   },
   {
    "duration": 681,
    "start_time": "2022-10-06T13:43:56.170Z"
   },
   {
    "duration": 150,
    "start_time": "2022-10-06T13:43:56.852Z"
   },
   {
    "duration": 945,
    "start_time": "2022-10-06T13:43:57.004Z"
   },
   {
    "duration": 1580,
    "start_time": "2022-10-06T13:43:57.950Z"
   },
   {
    "duration": 14,
    "start_time": "2022-10-06T13:43:59.532Z"
   },
   {
    "duration": 1363,
    "start_time": "2022-10-06T13:43:59.548Z"
   },
   {
    "duration": 1274,
    "start_time": "2022-10-06T13:44:44.294Z"
   },
   {
    "duration": 16,
    "start_time": "2022-10-06T13:45:45.458Z"
   },
   {
    "duration": 12,
    "start_time": "2022-10-06T13:57:03.927Z"
   },
   {
    "duration": 1334,
    "start_time": "2022-10-06T14:46:24.798Z"
   },
   {
    "duration": 1588,
    "start_time": "2022-10-07T07:46:49.301Z"
   },
   {
    "duration": 497,
    "start_time": "2022-10-07T07:46:50.892Z"
   },
   {
    "duration": 50,
    "start_time": "2022-10-07T07:46:51.391Z"
   },
   {
    "duration": 11,
    "start_time": "2022-10-07T07:46:51.444Z"
   },
   {
    "duration": 122,
    "start_time": "2022-10-07T07:46:51.457Z"
   },
   {
    "duration": 151,
    "start_time": "2022-10-07T07:46:51.582Z"
   },
   {
    "duration": 677,
    "start_time": "2022-10-07T07:46:51.735Z"
   },
   {
    "duration": 694,
    "start_time": "2022-10-07T07:46:52.414Z"
   },
   {
    "duration": 646,
    "start_time": "2022-10-07T07:46:53.111Z"
   },
   {
    "duration": 641,
    "start_time": "2022-10-07T07:46:53.761Z"
   },
   {
    "duration": 640,
    "start_time": "2022-10-07T07:46:54.404Z"
   },
   {
    "duration": 77,
    "start_time": "2022-10-07T07:46:55.046Z"
   },
   {
    "duration": 49,
    "start_time": "2022-10-07T07:46:55.125Z"
   },
   {
    "duration": 257,
    "start_time": "2022-10-07T07:46:55.175Z"
   },
   {
    "duration": 208,
    "start_time": "2022-10-07T07:46:55.433Z"
   },
   {
    "duration": 17,
    "start_time": "2022-10-07T07:46:55.643Z"
   },
   {
    "duration": 248,
    "start_time": "2022-10-07T07:46:55.662Z"
   },
   {
    "duration": 213,
    "start_time": "2022-10-07T07:46:55.912Z"
   },
   {
    "duration": 113,
    "start_time": "2022-10-07T07:46:56.127Z"
   },
   {
    "duration": 672,
    "start_time": "2022-10-07T07:46:56.242Z"
   },
   {
    "duration": 158,
    "start_time": "2022-10-07T07:46:56.916Z"
   },
   {
    "duration": 1043,
    "start_time": "2022-10-07T07:46:57.076Z"
   },
   {
    "duration": 1856,
    "start_time": "2022-10-07T07:46:58.121Z"
   },
   {
    "duration": 18,
    "start_time": "2022-10-07T07:46:59.980Z"
   },
   {
    "duration": 1465,
    "start_time": "2022-10-07T07:47:00.020Z"
   },
   {
    "duration": 35,
    "start_time": "2022-10-07T07:47:01.487Z"
   },
   {
    "duration": 85,
    "start_time": "2022-10-07T07:47:01.524Z"
   },
   {
    "duration": 43,
    "start_time": "2022-10-07T07:47:01.613Z"
   },
   {
    "duration": 27766,
    "start_time": "2022-10-07T07:47:01.658Z"
   },
   {
    "duration": 1104,
    "start_time": "2022-10-07T07:47:29.427Z"
   },
   {
    "duration": 599,
    "start_time": "2022-10-07T07:47:30.533Z"
   },
   {
    "duration": 344,
    "start_time": "2022-10-07T07:47:31.135Z"
   },
   {
    "duration": 121,
    "start_time": "2022-10-07T07:47:31.481Z"
   },
   {
    "duration": 0,
    "start_time": "2022-10-07T07:47:31.604Z"
   },
   {
    "duration": 16,
    "start_time": "2022-10-07T07:50:01.034Z"
   },
   {
    "duration": 46,
    "start_time": "2022-10-07T07:50:11.582Z"
   },
   {
    "duration": 46,
    "start_time": "2022-10-07T07:51:04.149Z"
   },
   {
    "duration": 5,
    "start_time": "2022-10-07T07:51:39.002Z"
   },
   {
    "duration": 283,
    "start_time": "2022-10-07T07:51:39.009Z"
   },
   {
    "duration": 46,
    "start_time": "2022-10-07T07:51:39.294Z"
   },
   {
    "duration": 10,
    "start_time": "2022-10-07T07:51:39.342Z"
   },
   {
    "duration": 107,
    "start_time": "2022-10-07T07:51:39.354Z"
   },
   {
    "duration": 117,
    "start_time": "2022-10-07T07:51:39.462Z"
   },
   {
    "duration": 675,
    "start_time": "2022-10-07T07:51:39.581Z"
   },
   {
    "duration": 667,
    "start_time": "2022-10-07T07:51:40.258Z"
   },
   {
    "duration": 656,
    "start_time": "2022-10-07T07:51:40.927Z"
   },
   {
    "duration": 663,
    "start_time": "2022-10-07T07:51:41.584Z"
   },
   {
    "duration": 679,
    "start_time": "2022-10-07T07:51:42.250Z"
   },
   {
    "duration": 45,
    "start_time": "2022-10-07T07:51:42.931Z"
   },
   {
    "duration": 65,
    "start_time": "2022-10-07T07:51:42.978Z"
   },
   {
    "duration": 221,
    "start_time": "2022-10-07T07:51:43.045Z"
   },
   {
    "duration": 200,
    "start_time": "2022-10-07T07:51:43.268Z"
   },
   {
    "duration": 13,
    "start_time": "2022-10-07T07:51:43.471Z"
   },
   {
    "duration": 238,
    "start_time": "2022-10-07T07:51:43.486Z"
   },
   {
    "duration": 212,
    "start_time": "2022-10-07T07:51:43.726Z"
   },
   {
    "duration": 22,
    "start_time": "2022-10-07T07:51:43.940Z"
   },
   {
    "duration": 661,
    "start_time": "2022-10-07T07:51:43.963Z"
   },
   {
    "duration": 148,
    "start_time": "2022-10-07T07:51:44.626Z"
   },
   {
    "duration": 1048,
    "start_time": "2022-10-07T07:51:44.776Z"
   },
   {
    "duration": 1727,
    "start_time": "2022-10-07T07:51:45.826Z"
   },
   {
    "duration": 15,
    "start_time": "2022-10-07T07:51:47.555Z"
   },
   {
    "duration": 1519,
    "start_time": "2022-10-07T07:51:47.572Z"
   },
   {
    "duration": 30,
    "start_time": "2022-10-07T07:51:49.092Z"
   },
   {
    "duration": 14,
    "start_time": "2022-10-07T07:51:49.124Z"
   },
   {
    "duration": 54,
    "start_time": "2022-10-07T07:51:49.140Z"
   },
   {
    "duration": 41,
    "start_time": "2022-10-07T07:53:06.311Z"
   },
   {
    "duration": 36,
    "start_time": "2022-10-07T07:53:41.212Z"
   },
   {
    "duration": 14,
    "start_time": "2022-10-07T07:53:52.950Z"
   },
   {
    "duration": 18,
    "start_time": "2022-10-07T07:54:54.733Z"
   },
   {
    "duration": 20,
    "start_time": "2022-10-07T07:55:22.415Z"
   },
   {
    "duration": 18,
    "start_time": "2022-10-07T07:55:39.375Z"
   },
   {
    "duration": 44,
    "start_time": "2022-10-07T07:56:10.127Z"
   },
   {
    "duration": 27,
    "start_time": "2022-10-07T07:57:47.497Z"
   },
   {
    "duration": 40,
    "start_time": "2022-10-07T07:57:52.736Z"
   },
   {
    "duration": 34,
    "start_time": "2022-10-07T07:58:08.371Z"
   },
   {
    "duration": 45,
    "start_time": "2022-10-07T08:16:51.808Z"
   },
   {
    "duration": 34,
    "start_time": "2022-10-07T08:17:19.716Z"
   },
   {
    "duration": 38,
    "start_time": "2022-10-07T08:17:43.673Z"
   },
   {
    "duration": 43,
    "start_time": "2022-10-07T08:17:48.148Z"
   },
   {
    "duration": 34,
    "start_time": "2022-10-07T08:19:02.004Z"
   },
   {
    "duration": 30,
    "start_time": "2022-10-07T08:19:11.381Z"
   },
   {
    "duration": 28,
    "start_time": "2022-10-07T08:19:40.596Z"
   },
   {
    "duration": 17,
    "start_time": "2022-10-07T08:20:16.907Z"
   },
   {
    "duration": 48,
    "start_time": "2022-10-07T08:20:18.610Z"
   },
   {
    "duration": 34,
    "start_time": "2022-10-07T08:21:03.757Z"
   },
   {
    "duration": 4,
    "start_time": "2022-10-07T08:21:11.938Z"
   },
   {
    "duration": 276,
    "start_time": "2022-10-07T08:21:11.944Z"
   },
   {
    "duration": 40,
    "start_time": "2022-10-07T08:21:12.222Z"
   },
   {
    "duration": 12,
    "start_time": "2022-10-07T08:21:12.265Z"
   },
   {
    "duration": 122,
    "start_time": "2022-10-07T08:21:12.279Z"
   },
   {
    "duration": 125,
    "start_time": "2022-10-07T08:21:12.402Z"
   },
   {
    "duration": 723,
    "start_time": "2022-10-07T08:21:12.529Z"
   },
   {
    "duration": 693,
    "start_time": "2022-10-07T08:21:13.254Z"
   },
   {
    "duration": 681,
    "start_time": "2022-10-07T08:21:13.950Z"
   },
   {
    "duration": 722,
    "start_time": "2022-10-07T08:21:14.632Z"
   },
   {
    "duration": 662,
    "start_time": "2022-10-07T08:21:15.356Z"
   },
   {
    "duration": 52,
    "start_time": "2022-10-07T08:21:16.021Z"
   },
   {
    "duration": 80,
    "start_time": "2022-10-07T08:21:16.075Z"
   },
   {
    "duration": 300,
    "start_time": "2022-10-07T08:21:16.158Z"
   },
   {
    "duration": 206,
    "start_time": "2022-10-07T08:21:16.460Z"
   },
   {
    "duration": 17,
    "start_time": "2022-10-07T08:21:16.667Z"
   },
   {
    "duration": 251,
    "start_time": "2022-10-07T08:21:16.686Z"
   },
   {
    "duration": 220,
    "start_time": "2022-10-07T08:21:16.939Z"
   },
   {
    "duration": 26,
    "start_time": "2022-10-07T08:21:17.161Z"
   },
   {
    "duration": 826,
    "start_time": "2022-10-07T08:21:17.188Z"
   },
   {
    "duration": 162,
    "start_time": "2022-10-07T08:21:18.021Z"
   },
   {
    "duration": 1228,
    "start_time": "2022-10-07T08:21:18.184Z"
   },
   {
    "duration": 1854,
    "start_time": "2022-10-07T08:21:19.421Z"
   },
   {
    "duration": 17,
    "start_time": "2022-10-07T08:21:21.279Z"
   },
   {
    "duration": 1662,
    "start_time": "2022-10-07T08:21:21.320Z"
   },
   {
    "duration": 19,
    "start_time": "2022-10-07T08:21:22.984Z"
   },
   {
    "duration": 46,
    "start_time": "2022-10-07T08:21:23.022Z"
   },
   {
    "duration": 64,
    "start_time": "2022-10-07T08:21:23.070Z"
   },
   {
    "duration": 4,
    "start_time": "2022-10-07T08:29:16.757Z"
   },
   {
    "duration": 22327,
    "start_time": "2022-10-07T08:31:06.770Z"
   },
   {
    "duration": 42331,
    "start_time": "2022-10-07T08:35:16.203Z"
   },
   {
    "duration": 42729,
    "start_time": "2022-10-07T08:37:38.193Z"
   },
   {
    "duration": 5,
    "start_time": "2022-10-07T08:39:36.300Z"
   },
   {
    "duration": 48219,
    "start_time": "2022-10-07T08:42:08.015Z"
   },
   {
    "duration": 61,
    "start_time": "2022-10-07T09:13:00.723Z"
   },
   {
    "duration": 11386,
    "start_time": "2022-10-07T09:13:21.271Z"
   },
   {
    "duration": 2159,
    "start_time": "2022-10-07T09:27:11.012Z"
   },
   {
    "duration": 4,
    "start_time": "2022-10-07T09:27:13.173Z"
   },
   {
    "duration": 7891,
    "start_time": "2022-10-07T09:27:13.179Z"
   },
   {
    "duration": 7907,
    "start_time": "2022-10-07T09:28:13.054Z"
   },
   {
    "duration": 22467,
    "start_time": "2022-10-07T09:28:39.340Z"
   },
   {
    "duration": 25754,
    "start_time": "2022-10-07T09:29:35.247Z"
   },
   {
    "duration": 16051,
    "start_time": "2022-10-07T09:30:06.880Z"
   },
   {
    "duration": 145,
    "start_time": "2022-10-07T09:31:00.483Z"
   },
   {
    "duration": 58,
    "start_time": "2022-10-07T09:31:21.462Z"
   },
   {
    "duration": 17421,
    "start_time": "2022-10-07T09:31:37.168Z"
   },
   {
    "duration": 37996,
    "start_time": "2022-10-07T09:32:56.196Z"
   },
   {
    "duration": 1624,
    "start_time": "2022-10-07T09:33:37.978Z"
   },
   {
    "duration": 337,
    "start_time": "2022-10-07T09:33:39.604Z"
   },
   {
    "duration": 43,
    "start_time": "2022-10-07T09:33:39.943Z"
   },
   {
    "duration": 42,
    "start_time": "2022-10-07T09:33:39.989Z"
   },
   {
    "duration": 124,
    "start_time": "2022-10-07T09:33:40.033Z"
   },
   {
    "duration": 135,
    "start_time": "2022-10-07T09:33:40.159Z"
   },
   {
    "duration": 701,
    "start_time": "2022-10-07T09:33:40.296Z"
   },
   {
    "duration": 679,
    "start_time": "2022-10-07T09:33:40.999Z"
   },
   {
    "duration": 1490,
    "start_time": "2022-10-07T09:33:41.680Z"
   },
   {
    "duration": 1150,
    "start_time": "2022-10-07T09:33:43.223Z"
   },
   {
    "duration": 688,
    "start_time": "2022-10-07T09:33:44.378Z"
   },
   {
    "duration": 75,
    "start_time": "2022-10-07T09:33:45.069Z"
   },
   {
    "duration": 89,
    "start_time": "2022-10-07T09:33:45.146Z"
   },
   {
    "duration": 253,
    "start_time": "2022-10-07T09:33:45.238Z"
   },
   {
    "duration": 250,
    "start_time": "2022-10-07T09:33:45.493Z"
   },
   {
    "duration": 19,
    "start_time": "2022-10-07T09:33:45.746Z"
   },
   {
    "duration": 268,
    "start_time": "2022-10-07T09:33:45.767Z"
   },
   {
    "duration": 239,
    "start_time": "2022-10-07T09:33:46.037Z"
   },
   {
    "duration": 120,
    "start_time": "2022-10-07T09:33:46.278Z"
   },
   {
    "duration": 683,
    "start_time": "2022-10-07T09:33:46.400Z"
   },
   {
    "duration": 165,
    "start_time": "2022-10-07T09:33:47.086Z"
   },
   {
    "duration": 1080,
    "start_time": "2022-10-07T09:33:47.252Z"
   },
   {
    "duration": 2027,
    "start_time": "2022-10-07T09:33:48.334Z"
   },
   {
    "duration": 24,
    "start_time": "2022-10-07T09:33:50.362Z"
   },
   {
    "duration": 1468,
    "start_time": "2022-10-07T09:33:50.388Z"
   },
   {
    "duration": 23,
    "start_time": "2022-10-07T09:33:51.861Z"
   },
   {
    "duration": 43,
    "start_time": "2022-10-07T09:33:51.886Z"
   },
   {
    "duration": 43,
    "start_time": "2022-10-07T09:33:51.932Z"
   },
   {
    "duration": 45843,
    "start_time": "2022-10-07T09:33:51.979Z"
   },
   {
    "duration": 3,
    "start_time": "2022-10-07T09:34:37.825Z"
   },
   {
    "duration": 0,
    "start_time": "2022-10-07T10:03:48.064Z"
   },
   {
    "duration": 0,
    "start_time": "2022-10-07T10:03:48.065Z"
   },
   {
    "duration": 0,
    "start_time": "2022-10-07T10:03:48.066Z"
   },
   {
    "duration": 0,
    "start_time": "2022-10-07T10:03:48.067Z"
   },
   {
    "duration": 0,
    "start_time": "2022-10-07T10:03:48.069Z"
   },
   {
    "duration": 0,
    "start_time": "2022-10-07T10:03:48.070Z"
   },
   {
    "duration": 0,
    "start_time": "2022-10-07T10:03:48.071Z"
   },
   {
    "duration": 0,
    "start_time": "2022-10-07T10:03:48.071Z"
   },
   {
    "duration": 0,
    "start_time": "2022-10-07T10:03:48.072Z"
   },
   {
    "duration": 0,
    "start_time": "2022-10-07T10:03:48.073Z"
   },
   {
    "duration": 0,
    "start_time": "2022-10-07T10:03:48.075Z"
   },
   {
    "duration": 0,
    "start_time": "2022-10-07T10:03:48.076Z"
   },
   {
    "duration": 0,
    "start_time": "2022-10-07T10:03:48.077Z"
   },
   {
    "duration": 0,
    "start_time": "2022-10-07T10:03:48.078Z"
   },
   {
    "duration": 0,
    "start_time": "2022-10-07T10:03:48.079Z"
   },
   {
    "duration": 0,
    "start_time": "2022-10-07T10:03:48.080Z"
   },
   {
    "duration": 0,
    "start_time": "2022-10-07T10:03:48.081Z"
   },
   {
    "duration": 1,
    "start_time": "2022-10-07T10:03:48.120Z"
   },
   {
    "duration": 0,
    "start_time": "2022-10-07T10:03:48.122Z"
   },
   {
    "duration": 0,
    "start_time": "2022-10-07T10:03:48.123Z"
   },
   {
    "duration": 0,
    "start_time": "2022-10-07T10:03:48.124Z"
   },
   {
    "duration": 0,
    "start_time": "2022-10-07T10:03:48.125Z"
   },
   {
    "duration": 0,
    "start_time": "2022-10-07T10:03:48.126Z"
   },
   {
    "duration": 0,
    "start_time": "2022-10-07T10:03:48.128Z"
   },
   {
    "duration": 0,
    "start_time": "2022-10-07T10:03:48.129Z"
   },
   {
    "duration": 0,
    "start_time": "2022-10-07T10:03:48.130Z"
   },
   {
    "duration": 0,
    "start_time": "2022-10-07T10:03:48.131Z"
   },
   {
    "duration": 0,
    "start_time": "2022-10-07T10:03:48.132Z"
   },
   {
    "duration": 1,
    "start_time": "2022-10-07T10:03:48.132Z"
   },
   {
    "duration": 4,
    "start_time": "2022-10-07T10:06:20.746Z"
   },
   {
    "duration": 271,
    "start_time": "2022-10-07T10:06:20.755Z"
   },
   {
    "duration": 34,
    "start_time": "2022-10-07T10:06:21.029Z"
   },
   {
    "duration": 11,
    "start_time": "2022-10-07T10:06:21.065Z"
   },
   {
    "duration": 126,
    "start_time": "2022-10-07T10:06:21.077Z"
   },
   {
    "duration": 131,
    "start_time": "2022-10-07T10:06:21.207Z"
   },
   {
    "duration": 692,
    "start_time": "2022-10-07T10:06:21.340Z"
   },
   {
    "duration": 637,
    "start_time": "2022-10-07T10:06:22.035Z"
   },
   {
    "duration": 642,
    "start_time": "2022-10-07T10:06:22.674Z"
   },
   {
    "duration": 620,
    "start_time": "2022-10-07T10:06:23.317Z"
   },
   {
    "duration": 597,
    "start_time": "2022-10-07T10:06:23.939Z"
   },
   {
    "duration": 44,
    "start_time": "2022-10-07T10:06:24.538Z"
   },
   {
    "duration": 70,
    "start_time": "2022-10-07T10:06:24.584Z"
   },
   {
    "duration": 235,
    "start_time": "2022-10-07T10:06:24.656Z"
   },
   {
    "duration": 195,
    "start_time": "2022-10-07T10:06:24.896Z"
   },
   {
    "duration": 13,
    "start_time": "2022-10-07T10:06:25.093Z"
   },
   {
    "duration": 247,
    "start_time": "2022-10-07T10:06:25.108Z"
   },
   {
    "duration": 283,
    "start_time": "2022-10-07T10:06:25.357Z"
   },
   {
    "duration": 23,
    "start_time": "2022-10-07T10:06:25.643Z"
   },
   {
    "duration": 651,
    "start_time": "2022-10-07T10:06:25.669Z"
   },
   {
    "duration": 157,
    "start_time": "2022-10-07T10:06:26.322Z"
   },
   {
    "duration": 957,
    "start_time": "2022-10-07T10:06:26.481Z"
   },
   {
    "duration": 1802,
    "start_time": "2022-10-07T10:06:27.439Z"
   },
   {
    "duration": 17,
    "start_time": "2022-10-07T10:06:29.243Z"
   },
   {
    "duration": 1395,
    "start_time": "2022-10-07T10:06:29.261Z"
   },
   {
    "duration": 15,
    "start_time": "2022-10-07T10:06:30.658Z"
   },
   {
    "duration": 64,
    "start_time": "2022-10-07T10:06:30.674Z"
   },
   {
    "duration": 55,
    "start_time": "2022-10-07T10:06:30.740Z"
   },
   {
    "duration": 37224,
    "start_time": "2022-10-07T10:06:30.798Z"
   },
   {
    "duration": 21778,
    "start_time": "2022-10-07T10:09:01.978Z"
   },
   {
    "duration": 9835,
    "start_time": "2022-10-07T10:09:34.660Z"
   },
   {
    "duration": 3446,
    "start_time": "2022-10-07T10:10:40.092Z"
   },
   {
    "duration": 11273,
    "start_time": "2022-10-07T10:10:55.440Z"
   },
   {
    "duration": 2501,
    "start_time": "2022-10-07T10:11:32.601Z"
   },
   {
    "duration": 70518,
    "start_time": "2022-10-07T10:12:12.254Z"
   },
   {
    "duration": 87177,
    "start_time": "2022-10-07T10:14:44.095Z"
   },
   {
    "duration": 280303,
    "start_time": "2022-10-07T10:17:12.628Z"
   },
   {
    "duration": 0,
    "start_time": "2022-10-07T11:08:18.424Z"
   },
   {
    "duration": 14466,
    "start_time": "2022-10-07T11:09:42.564Z"
   },
   {
    "duration": 15928,
    "start_time": "2022-10-07T11:21:36.400Z"
   },
   {
    "duration": 16725,
    "start_time": "2022-10-07T11:24:46.054Z"
   },
   {
    "duration": 289164,
    "start_time": "2022-10-07T11:27:45.264Z"
   },
   {
    "duration": 91422,
    "start_time": "2022-10-07T11:32:34.431Z"
   },
   {
    "duration": 17078,
    "start_time": "2022-10-07T11:34:05.855Z"
   },
   {
    "duration": 674653,
    "start_time": "2022-10-07T11:36:26.324Z"
   },
   {
    "duration": 1549,
    "start_time": "2022-10-07T12:14:00.693Z"
   },
   {
    "duration": 306,
    "start_time": "2022-10-07T12:14:02.245Z"
   },
   {
    "duration": 82,
    "start_time": "2022-10-07T12:14:02.561Z"
   },
   {
    "duration": 13,
    "start_time": "2022-10-07T12:14:02.646Z"
   },
   {
    "duration": 165,
    "start_time": "2022-10-07T12:14:02.661Z"
   },
   {
    "duration": 177,
    "start_time": "2022-10-07T12:14:02.828Z"
   },
   {
    "duration": 802,
    "start_time": "2022-10-07T12:14:03.007Z"
   },
   {
    "duration": 799,
    "start_time": "2022-10-07T12:14:03.812Z"
   },
   {
    "duration": 725,
    "start_time": "2022-10-07T12:14:04.620Z"
   },
   {
    "duration": 691,
    "start_time": "2022-10-07T12:14:05.347Z"
   },
   {
    "duration": 696,
    "start_time": "2022-10-07T12:14:06.041Z"
   },
   {
    "duration": 55,
    "start_time": "2022-10-07T12:14:06.739Z"
   },
   {
    "duration": 65,
    "start_time": "2022-10-07T12:14:06.821Z"
   },
   {
    "duration": 278,
    "start_time": "2022-10-07T12:14:06.890Z"
   },
   {
    "duration": 273,
    "start_time": "2022-10-07T12:14:07.171Z"
   },
   {
    "duration": 21,
    "start_time": "2022-10-07T12:14:07.446Z"
   },
   {
    "duration": 366,
    "start_time": "2022-10-07T12:14:07.470Z"
   },
   {
    "duration": 240,
    "start_time": "2022-10-07T12:14:07.840Z"
   },
   {
    "duration": 122,
    "start_time": "2022-10-07T12:14:08.082Z"
   },
   {
    "duration": 774,
    "start_time": "2022-10-07T12:14:08.207Z"
   },
   {
    "duration": 260,
    "start_time": "2022-10-07T12:14:08.983Z"
   },
   {
    "duration": 1266,
    "start_time": "2022-10-07T12:14:09.245Z"
   },
   {
    "duration": 2003,
    "start_time": "2022-10-07T12:14:10.514Z"
   },
   {
    "duration": 26,
    "start_time": "2022-10-07T12:14:12.521Z"
   },
   {
    "duration": 1972,
    "start_time": "2022-10-07T12:14:12.549Z"
   },
   {
    "duration": 26,
    "start_time": "2022-10-07T12:14:14.523Z"
   },
   {
    "duration": 20,
    "start_time": "2022-10-07T12:14:14.554Z"
   },
   {
    "duration": 86,
    "start_time": "2022-10-07T12:14:14.577Z"
   },
   {
    "duration": 44259,
    "start_time": "2022-10-07T12:14:14.665Z"
   },
   {
    "duration": 701405,
    "start_time": "2022-10-07T12:14:58.930Z"
   },
   {
    "duration": 697036,
    "start_time": "2022-10-07T12:26:40.337Z"
   },
   {
    "duration": 90651,
    "start_time": "2022-10-07T12:38:17.375Z"
   },
   {
    "duration": 91611,
    "start_time": "2022-10-07T12:39:48.028Z"
   },
   {
    "duration": 16255,
    "start_time": "2022-10-07T12:41:19.642Z"
   },
   {
    "duration": 17765,
    "start_time": "2022-10-07T12:41:35.899Z"
   },
   {
    "duration": 123,
    "start_time": "2022-10-07T12:41:53.666Z"
   },
   {
    "duration": 0,
    "start_time": "2022-10-07T12:41:53.791Z"
   },
   {
    "duration": 0,
    "start_time": "2022-10-07T12:41:53.792Z"
   },
   {
    "duration": 95844,
    "start_time": "2022-10-07T12:42:47.944Z"
   },
   {
    "duration": 94397,
    "start_time": "2022-10-07T12:44:23.791Z"
   },
   {
    "duration": 16138,
    "start_time": "2022-10-07T12:45:58.191Z"
   },
   {
    "duration": 16034,
    "start_time": "2022-10-07T12:46:14.331Z"
   },
   {
    "duration": 6,
    "start_time": "2022-10-07T12:49:18.069Z"
   },
   {
    "duration": 34633,
    "start_time": "2022-10-07T12:50:20.165Z"
   },
   {
    "duration": 38126,
    "start_time": "2022-10-07T12:50:54.800Z"
   },
   {
    "duration": 17511,
    "start_time": "2022-10-07T12:51:32.928Z"
   },
   {
    "duration": 17002,
    "start_time": "2022-10-07T12:51:50.441Z"
   },
   {
    "duration": 95023,
    "start_time": "2022-10-07T12:52:50.465Z"
   },
   {
    "duration": 96471,
    "start_time": "2022-10-07T12:54:25.490Z"
   },
   {
    "duration": 72,
    "start_time": "2022-10-07T12:56:01.963Z"
   },
   {
    "duration": 133872,
    "start_time": "2022-10-07T12:56:19.066Z"
   },
   {
    "duration": 97488,
    "start_time": "2022-10-07T12:58:55.904Z"
   },
   {
    "duration": 96335,
    "start_time": "2022-10-07T13:00:33.394Z"
   },
   {
    "duration": 71,
    "start_time": "2022-10-07T13:02:31.257Z"
   },
   {
    "duration": 16,
    "start_time": "2022-10-07T13:02:32.001Z"
   },
   {
    "duration": 22,
    "start_time": "2022-10-07T13:03:19.655Z"
   },
   {
    "duration": 16,
    "start_time": "2022-10-07T13:03:50.235Z"
   },
   {
    "duration": 21,
    "start_time": "2022-10-07T13:05:58.178Z"
   },
   {
    "duration": 489,
    "start_time": "2022-10-07T13:09:25.100Z"
   },
   {
    "duration": 503,
    "start_time": "2022-10-07T13:10:15.884Z"
   },
   {
    "duration": 535,
    "start_time": "2022-10-07T13:11:23.691Z"
   },
   {
    "duration": 455,
    "start_time": "2022-10-07T13:12:50.504Z"
   },
   {
    "duration": 3,
    "start_time": "2022-10-07T13:23:16.420Z"
   },
   {
    "duration": 126220,
    "start_time": "2022-10-07T13:24:40.812Z"
   },
   {
    "duration": 126489,
    "start_time": "2022-10-07T13:26:47.034Z"
   },
   {
    "duration": 1385,
    "start_time": "2022-10-07T13:37:57.332Z"
   },
   {
    "duration": 317,
    "start_time": "2022-10-07T13:37:58.719Z"
   },
   {
    "duration": 42,
    "start_time": "2022-10-07T13:37:59.039Z"
   },
   {
    "duration": 40,
    "start_time": "2022-10-07T13:37:59.084Z"
   },
   {
    "duration": 107,
    "start_time": "2022-10-07T13:37:59.126Z"
   },
   {
    "duration": 122,
    "start_time": "2022-10-07T13:37:59.235Z"
   },
   {
    "duration": 672,
    "start_time": "2022-10-07T13:37:59.358Z"
   },
   {
    "duration": 644,
    "start_time": "2022-10-07T13:38:00.032Z"
   },
   {
    "duration": 632,
    "start_time": "2022-10-07T13:38:00.678Z"
   },
   {
    "duration": 647,
    "start_time": "2022-10-07T13:38:01.313Z"
   },
   {
    "duration": 627,
    "start_time": "2022-10-07T13:38:01.962Z"
   },
   {
    "duration": 57,
    "start_time": "2022-10-07T13:38:02.591Z"
   },
   {
    "duration": 43,
    "start_time": "2022-10-07T13:38:02.651Z"
   },
   {
    "duration": 251,
    "start_time": "2022-10-07T13:38:02.696Z"
   },
   {
    "duration": 199,
    "start_time": "2022-10-07T13:38:02.949Z"
   },
   {
    "duration": 15,
    "start_time": "2022-10-07T13:38:03.150Z"
   },
   {
    "duration": 238,
    "start_time": "2022-10-07T13:38:03.167Z"
   },
   {
    "duration": 198,
    "start_time": "2022-10-07T13:38:03.408Z"
   },
   {
    "duration": 102,
    "start_time": "2022-10-07T13:38:03.608Z"
   },
   {
    "duration": 676,
    "start_time": "2022-10-07T13:38:03.720Z"
   },
   {
    "duration": 161,
    "start_time": "2022-10-07T13:38:04.398Z"
   },
   {
    "duration": 1030,
    "start_time": "2022-10-07T13:38:04.561Z"
   },
   {
    "duration": 1833,
    "start_time": "2022-10-07T13:38:05.593Z"
   },
   {
    "duration": 16,
    "start_time": "2022-10-07T13:38:07.428Z"
   },
   {
    "duration": 1446,
    "start_time": "2022-10-07T13:38:07.447Z"
   },
   {
    "duration": 36,
    "start_time": "2022-10-07T13:38:08.895Z"
   },
   {
    "duration": 22,
    "start_time": "2022-10-07T13:38:08.933Z"
   },
   {
    "duration": 72,
    "start_time": "2022-10-07T13:38:08.960Z"
   },
   {
    "duration": 3,
    "start_time": "2022-10-07T13:38:09.034Z"
   },
   {
    "duration": 127990,
    "start_time": "2022-10-07T13:38:09.039Z"
   },
   {
    "duration": 142147,
    "start_time": "2022-10-07T13:40:17.031Z"
   },
   {
    "duration": 31440,
    "start_time": "2022-10-07T13:42:39.180Z"
   },
   {
    "duration": 31268,
    "start_time": "2022-10-07T13:43:10.622Z"
   },
   {
    "duration": 14177,
    "start_time": "2022-10-07T13:43:41.892Z"
   },
   {
    "duration": 14817,
    "start_time": "2022-10-07T13:43:56.071Z"
   },
   {
    "duration": 102,
    "start_time": "2022-10-07T13:44:10.890Z"
   },
   {
    "duration": 554,
    "start_time": "2022-10-07T13:44:10.994Z"
   },
   {
    "duration": 79,
    "start_time": "2022-10-07T13:44:11.551Z"
   },
   {
    "duration": 7,
    "start_time": "2022-10-07T14:05:28.776Z"
   },
   {
    "duration": 241,
    "start_time": "2022-10-07T14:11:15.955Z"
   },
   {
    "duration": 165,
    "start_time": "2022-10-07T14:11:49.971Z"
   },
   {
    "duration": 169,
    "start_time": "2022-10-07T14:12:13.851Z"
   },
   {
    "duration": 245,
    "start_time": "2022-10-07T14:12:32.923Z"
   },
   {
    "duration": 2097,
    "start_time": "2022-10-08T08:02:21.161Z"
   },
   {
    "duration": 535,
    "start_time": "2022-10-08T08:02:23.260Z"
   },
   {
    "duration": 36,
    "start_time": "2022-10-08T08:02:23.799Z"
   },
   {
    "duration": 13,
    "start_time": "2022-10-08T08:02:23.855Z"
   },
   {
    "duration": 119,
    "start_time": "2022-10-08T08:02:23.870Z"
   },
   {
    "duration": 133,
    "start_time": "2022-10-08T08:02:23.991Z"
   },
   {
    "duration": 679,
    "start_time": "2022-10-08T08:02:24.126Z"
   },
   {
    "duration": 655,
    "start_time": "2022-10-08T08:02:24.807Z"
   },
   {
    "duration": 694,
    "start_time": "2022-10-08T08:02:25.465Z"
   },
   {
    "duration": 667,
    "start_time": "2022-10-08T08:02:26.161Z"
   },
   {
    "duration": 664,
    "start_time": "2022-10-08T08:02:26.830Z"
   },
   {
    "duration": 74,
    "start_time": "2022-10-08T08:02:27.496Z"
   },
   {
    "duration": 53,
    "start_time": "2022-10-08T08:02:27.572Z"
   },
   {
    "duration": 270,
    "start_time": "2022-10-08T08:02:27.627Z"
   },
   {
    "duration": 204,
    "start_time": "2022-10-08T08:02:27.899Z"
   },
   {
    "duration": 21,
    "start_time": "2022-10-08T08:02:28.105Z"
   },
   {
    "duration": 260,
    "start_time": "2022-10-08T08:02:28.128Z"
   },
   {
    "duration": 208,
    "start_time": "2022-10-08T08:02:28.389Z"
   },
   {
    "duration": 142,
    "start_time": "2022-10-08T08:02:28.599Z"
   },
   {
    "duration": 671,
    "start_time": "2022-10-08T08:02:28.742Z"
   },
   {
    "duration": 162,
    "start_time": "2022-10-08T08:02:29.414Z"
   },
   {
    "duration": 1072,
    "start_time": "2022-10-08T08:02:29.578Z"
   },
   {
    "duration": 1935,
    "start_time": "2022-10-08T08:02:30.653Z"
   },
   {
    "duration": 18,
    "start_time": "2022-10-08T08:02:32.589Z"
   },
   {
    "duration": 1474,
    "start_time": "2022-10-08T08:02:32.608Z"
   },
   {
    "duration": 23,
    "start_time": "2022-10-08T08:02:34.084Z"
   },
   {
    "duration": 47,
    "start_time": "2022-10-08T08:02:34.113Z"
   },
   {
    "duration": 55,
    "start_time": "2022-10-08T08:02:34.162Z"
   },
   {
    "duration": 3,
    "start_time": "2022-10-08T08:02:34.219Z"
   },
   {
    "duration": 132987,
    "start_time": "2022-10-08T08:02:34.223Z"
   },
   {
    "duration": 133437,
    "start_time": "2022-10-08T08:04:47.212Z"
   },
   {
    "duration": 33957,
    "start_time": "2022-10-08T08:07:00.655Z"
   },
   {
    "duration": 34906,
    "start_time": "2022-10-08T08:07:34.614Z"
   },
   {
    "duration": 20793,
    "start_time": "2022-10-08T08:08:09.522Z"
   },
   {
    "duration": 19492,
    "start_time": "2022-10-08T08:08:30.317Z"
   },
   {
    "duration": 75,
    "start_time": "2022-10-08T08:08:49.810Z"
   },
   {
    "duration": 518,
    "start_time": "2022-10-08T08:08:49.887Z"
   },
   {
    "duration": 182,
    "start_time": "2022-10-08T08:08:50.407Z"
   },
   {
    "duration": 74,
    "start_time": "2022-10-08T08:08:50.591Z"
   },
   {
    "duration": 55,
    "start_time": "2022-10-09T14:17:12.654Z"
   },
   {
    "duration": 1463,
    "start_time": "2022-10-09T14:17:22.575Z"
   },
   {
    "duration": 475,
    "start_time": "2022-10-09T14:17:24.040Z"
   },
   {
    "duration": 31,
    "start_time": "2022-10-09T14:17:24.516Z"
   },
   {
    "duration": 10,
    "start_time": "2022-10-09T14:17:24.549Z"
   },
   {
    "duration": 70,
    "start_time": "2022-10-09T14:17:31.650Z"
   },
   {
    "duration": 11,
    "start_time": "2022-10-09T14:18:45.493Z"
   },
   {
    "duration": 10,
    "start_time": "2022-10-09T14:18:55.909Z"
   },
   {
    "duration": 10,
    "start_time": "2022-10-09T14:19:23.956Z"
   },
   {
    "duration": 10,
    "start_time": "2022-10-09T14:19:46.590Z"
   },
   {
    "duration": 11,
    "start_time": "2022-10-09T14:19:57.205Z"
   },
   {
    "duration": 10,
    "start_time": "2022-10-09T14:20:18.317Z"
   },
   {
    "duration": 10,
    "start_time": "2022-10-09T14:20:40.645Z"
   },
   {
    "duration": 10,
    "start_time": "2022-10-09T14:38:14.057Z"
   },
   {
    "duration": 10,
    "start_time": "2022-10-09T14:38:52.817Z"
   },
   {
    "duration": 71,
    "start_time": "2022-10-09T14:49:38.866Z"
   },
   {
    "duration": 25,
    "start_time": "2022-10-09T14:50:56.090Z"
   },
   {
    "duration": 67,
    "start_time": "2022-10-09T14:51:19.882Z"
   },
   {
    "duration": 13,
    "start_time": "2022-10-09T14:52:05.290Z"
   },
   {
    "duration": 15,
    "start_time": "2022-10-09T14:52:17.285Z"
   },
   {
    "duration": 17,
    "start_time": "2022-10-09T14:52:29.036Z"
   },
   {
    "duration": 15,
    "start_time": "2022-10-09T14:52:54.128Z"
   },
   {
    "duration": 17,
    "start_time": "2022-10-09T14:53:49.491Z"
   },
   {
    "duration": 15,
    "start_time": "2022-10-09T14:55:17.926Z"
   },
   {
    "duration": 26,
    "start_time": "2022-10-09T14:55:26.429Z"
   },
   {
    "duration": 31,
    "start_time": "2022-10-09T14:55:31.766Z"
   },
   {
    "duration": 1375,
    "start_time": "2022-10-09T15:01:08.578Z"
   },
   {
    "duration": 15,
    "start_time": "2022-10-09T15:01:14.642Z"
   },
   {
    "duration": 16,
    "start_time": "2022-10-09T15:01:21.883Z"
   },
   {
    "duration": 65,
    "start_time": "2022-10-09T15:05:48.195Z"
   },
   {
    "duration": 61,
    "start_time": "2022-10-09T15:06:24.725Z"
   },
   {
    "duration": 14,
    "start_time": "2022-10-09T15:06:41.460Z"
   },
   {
    "duration": 23,
    "start_time": "2022-10-09T15:07:04.044Z"
   },
   {
    "duration": 17,
    "start_time": "2022-10-09T15:08:13.224Z"
   },
   {
    "duration": 19,
    "start_time": "2022-10-09T15:08:31.141Z"
   },
   {
    "duration": 19,
    "start_time": "2022-10-09T15:08:44.424Z"
   },
   {
    "duration": 20,
    "start_time": "2022-10-09T15:10:17.286Z"
   },
   {
    "duration": 16,
    "start_time": "2022-10-09T15:10:29.534Z"
   },
   {
    "duration": 101,
    "start_time": "2022-10-09T15:11:57.294Z"
   },
   {
    "duration": 67,
    "start_time": "2022-10-09T15:12:10.455Z"
   },
   {
    "duration": 56,
    "start_time": "2022-10-09T15:12:18.287Z"
   },
   {
    "duration": 13,
    "start_time": "2022-10-09T15:12:23.010Z"
   },
   {
    "duration": 51,
    "start_time": "2022-10-09T15:12:27.916Z"
   },
   {
    "duration": 18,
    "start_time": "2022-10-09T15:13:49.945Z"
   },
   {
    "duration": 18,
    "start_time": "2022-10-09T15:14:04.337Z"
   },
   {
    "duration": 46,
    "start_time": "2022-10-09T15:14:55.954Z"
   },
   {
    "duration": 88,
    "start_time": "2022-10-09T15:15:03.517Z"
   },
   {
    "duration": 42,
    "start_time": "2022-10-09T15:15:45.347Z"
   },
   {
    "duration": 38,
    "start_time": "2022-10-09T15:15:55.043Z"
   },
   {
    "duration": 60,
    "start_time": "2022-10-09T15:23:49.575Z"
   },
   {
    "duration": 49,
    "start_time": "2022-10-09T15:24:14.524Z"
   },
   {
    "duration": 75,
    "start_time": "2022-10-09T15:24:25.020Z"
   },
   {
    "duration": 87,
    "start_time": "2022-10-09T15:29:48.220Z"
   },
   {
    "duration": 52,
    "start_time": "2022-10-09T15:29:55.139Z"
   },
   {
    "duration": 69,
    "start_time": "2022-10-09T15:30:23.083Z"
   },
   {
    "duration": 47,
    "start_time": "2022-10-09T15:32:27.325Z"
   },
   {
    "duration": 47,
    "start_time": "2022-10-09T15:32:37.741Z"
   },
   {
    "duration": 47,
    "start_time": "2022-10-09T15:32:48.437Z"
   },
   {
    "duration": 49,
    "start_time": "2022-10-09T15:32:57.157Z"
   },
   {
    "duration": 49,
    "start_time": "2022-10-09T15:33:07.677Z"
   },
   {
    "duration": 86,
    "start_time": "2022-10-09T15:35:07.095Z"
   },
   {
    "duration": 50,
    "start_time": "2022-10-09T15:35:11.687Z"
   },
   {
    "duration": 47,
    "start_time": "2022-10-09T15:35:35.326Z"
   },
   {
    "duration": 15,
    "start_time": "2022-10-09T15:36:40.392Z"
   },
   {
    "duration": 15,
    "start_time": "2022-10-09T15:36:49.225Z"
   },
   {
    "duration": 50,
    "start_time": "2022-10-09T15:38:41.354Z"
   },
   {
    "duration": 15,
    "start_time": "2022-10-09T15:38:46.137Z"
   },
   {
    "duration": 47,
    "start_time": "2022-10-09T15:41:51.779Z"
   },
   {
    "duration": 19,
    "start_time": "2022-10-09T15:42:15.869Z"
   },
   {
    "duration": 457,
    "start_time": "2022-10-09T15:43:51.127Z"
   },
   {
    "duration": 3,
    "start_time": "2022-10-09T15:44:09.317Z"
   },
   {
    "duration": 265,
    "start_time": "2022-10-09T15:44:09.322Z"
   },
   {
    "duration": 49,
    "start_time": "2022-10-09T15:44:09.589Z"
   },
   {
    "duration": 9,
    "start_time": "2022-10-09T15:44:09.640Z"
   },
   {
    "duration": 91,
    "start_time": "2022-10-09T15:44:09.650Z"
   },
   {
    "duration": 130,
    "start_time": "2022-10-09T15:44:09.743Z"
   },
   {
    "duration": 42,
    "start_time": "2022-10-09T15:44:09.874Z"
   },
   {
    "duration": 4,
    "start_time": "2022-10-09T15:44:41.380Z"
   },
   {
    "duration": 256,
    "start_time": "2022-10-09T15:44:41.385Z"
   },
   {
    "duration": 35,
    "start_time": "2022-10-09T15:44:41.643Z"
   },
   {
    "duration": 10,
    "start_time": "2022-10-09T15:44:41.679Z"
   },
   {
    "duration": 97,
    "start_time": "2022-10-09T15:44:41.690Z"
   },
   {
    "duration": 119,
    "start_time": "2022-10-09T15:44:41.789Z"
   },
   {
    "duration": 5,
    "start_time": "2022-10-09T15:44:46.328Z"
   },
   {
    "duration": 264,
    "start_time": "2022-10-09T15:44:46.335Z"
   },
   {
    "duration": 45,
    "start_time": "2022-10-09T15:44:46.600Z"
   },
   {
    "duration": 9,
    "start_time": "2022-10-09T15:44:46.647Z"
   },
   {
    "duration": 89,
    "start_time": "2022-10-09T15:44:46.658Z"
   },
   {
    "duration": 118,
    "start_time": "2022-10-09T15:44:46.749Z"
   },
   {
    "duration": 422,
    "start_time": "2022-10-09T15:44:46.869Z"
   },
   {
    "duration": 417,
    "start_time": "2022-10-09T15:45:35.130Z"
   },
   {
    "duration": 607,
    "start_time": "2022-10-09T15:47:12.543Z"
   },
   {
    "duration": 574,
    "start_time": "2022-10-09T15:47:37.129Z"
   },
   {
    "duration": 4,
    "start_time": "2022-10-09T15:52:33.049Z"
   },
   {
    "duration": 4,
    "start_time": "2022-10-09T15:53:58.024Z"
   },
   {
    "duration": 4,
    "start_time": "2022-10-09T15:55:14.656Z"
   },
   {
    "duration": 234,
    "start_time": "2022-10-09T15:55:14.662Z"
   },
   {
    "duration": 41,
    "start_time": "2022-10-09T15:55:14.898Z"
   },
   {
    "duration": 11,
    "start_time": "2022-10-09T15:55:14.940Z"
   },
   {
    "duration": 90,
    "start_time": "2022-10-09T15:55:14.953Z"
   },
   {
    "duration": 114,
    "start_time": "2022-10-09T15:55:15.045Z"
   },
   {
    "duration": 642,
    "start_time": "2022-10-09T15:55:15.160Z"
   },
   {
    "duration": 640,
    "start_time": "2022-10-09T15:55:15.804Z"
   },
   {
    "duration": 601,
    "start_time": "2022-10-09T15:55:16.447Z"
   },
   {
    "duration": 559,
    "start_time": "2022-10-09T15:55:17.050Z"
   },
   {
    "duration": 588,
    "start_time": "2022-10-09T15:55:17.612Z"
   },
   {
    "duration": 572,
    "start_time": "2022-10-09T15:55:18.202Z"
   },
   {
    "duration": 78,
    "start_time": "2022-10-09T15:55:18.776Z"
   },
   {
    "duration": 40,
    "start_time": "2022-10-09T15:55:18.855Z"
   },
   {
    "duration": 244,
    "start_time": "2022-10-09T15:55:18.897Z"
   },
   {
    "duration": 177,
    "start_time": "2022-10-09T15:55:19.142Z"
   },
   {
    "duration": 19,
    "start_time": "2022-10-09T15:55:19.320Z"
   },
   {
    "duration": 211,
    "start_time": "2022-10-09T15:55:19.341Z"
   },
   {
    "duration": 263,
    "start_time": "2022-10-09T15:55:19.554Z"
   },
   {
    "duration": 34,
    "start_time": "2022-10-09T15:55:19.819Z"
   },
   {
    "duration": 627,
    "start_time": "2022-10-09T15:55:19.855Z"
   },
   {
    "duration": 144,
    "start_time": "2022-10-09T15:55:20.484Z"
   },
   {
    "duration": 904,
    "start_time": "2022-10-09T15:55:20.633Z"
   },
   {
    "duration": 16,
    "start_time": "2022-10-09T15:55:32.637Z"
   },
   {
    "duration": 4,
    "start_time": "2022-10-09T15:55:49.720Z"
   },
   {
    "duration": 4,
    "start_time": "2022-10-09T15:55:59.527Z"
   },
   {
    "duration": 18,
    "start_time": "2022-10-09T15:56:28.453Z"
   },
   {
    "duration": 4,
    "start_time": "2022-10-09T15:56:52.524Z"
   },
   {
    "duration": 1012,
    "start_time": "2022-10-09T16:02:49.998Z"
   },
   {
    "duration": 4,
    "start_time": "2022-10-09T16:03:01.382Z"
   },
   {
    "duration": 283,
    "start_time": "2022-10-09T16:03:01.389Z"
   },
   {
    "duration": 32,
    "start_time": "2022-10-09T16:03:01.674Z"
   },
   {
    "duration": 27,
    "start_time": "2022-10-09T16:03:01.708Z"
   },
   {
    "duration": 83,
    "start_time": "2022-10-09T16:03:01.737Z"
   },
   {
    "duration": 123,
    "start_time": "2022-10-09T16:03:01.822Z"
   },
   {
    "duration": 675,
    "start_time": "2022-10-09T16:03:01.946Z"
   },
   {
    "duration": 583,
    "start_time": "2022-10-09T16:03:02.622Z"
   },
   {
    "duration": 572,
    "start_time": "2022-10-09T16:03:03.207Z"
   },
   {
    "duration": 588,
    "start_time": "2022-10-09T16:03:03.781Z"
   },
   {
    "duration": 588,
    "start_time": "2022-10-09T16:03:04.372Z"
   },
   {
    "duration": 571,
    "start_time": "2022-10-09T16:03:04.962Z"
   },
   {
    "duration": 42,
    "start_time": "2022-10-09T16:03:05.535Z"
   },
   {
    "duration": 68,
    "start_time": "2022-10-09T16:03:05.579Z"
   },
   {
    "duration": 208,
    "start_time": "2022-10-09T16:03:05.649Z"
   },
   {
    "duration": 178,
    "start_time": "2022-10-09T16:03:05.859Z"
   },
   {
    "duration": 13,
    "start_time": "2022-10-09T16:03:06.038Z"
   },
   {
    "duration": 244,
    "start_time": "2022-10-09T16:03:06.052Z"
   },
   {
    "duration": 268,
    "start_time": "2022-10-09T16:03:06.298Z"
   },
   {
    "duration": 24,
    "start_time": "2022-10-09T16:03:06.567Z"
   },
   {
    "duration": 626,
    "start_time": "2022-10-09T16:03:06.593Z"
   },
   {
    "duration": 147,
    "start_time": "2022-10-09T16:03:07.221Z"
   },
   {
    "duration": 1059,
    "start_time": "2022-10-09T16:03:07.369Z"
   },
   {
    "duration": 1604,
    "start_time": "2022-10-09T16:03:08.430Z"
   },
   {
    "duration": 14,
    "start_time": "2022-10-09T16:03:10.036Z"
   },
   {
    "duration": 1314,
    "start_time": "2022-10-09T16:03:10.052Z"
   },
   {
    "duration": 14,
    "start_time": "2022-10-09T16:03:11.368Z"
   },
   {
    "duration": 1372,
    "start_time": "2022-10-09T16:16:18.888Z"
   },
   {
    "duration": 260,
    "start_time": "2022-10-09T16:16:20.262Z"
   },
   {
    "duration": 39,
    "start_time": "2022-10-09T16:16:20.524Z"
   },
   {
    "duration": 12,
    "start_time": "2022-10-09T16:16:20.565Z"
   },
   {
    "duration": 102,
    "start_time": "2022-10-09T16:16:20.579Z"
   },
   {
    "duration": 140,
    "start_time": "2022-10-09T16:16:20.683Z"
   },
   {
    "duration": 677,
    "start_time": "2022-10-09T16:16:20.825Z"
   },
   {
    "duration": 624,
    "start_time": "2022-10-09T16:16:21.503Z"
   },
   {
    "duration": 607,
    "start_time": "2022-10-09T16:16:22.129Z"
   },
   {
    "duration": 644,
    "start_time": "2022-10-09T16:16:22.740Z"
   },
   {
    "duration": 613,
    "start_time": "2022-10-09T16:16:23.386Z"
   },
   {
    "duration": 581,
    "start_time": "2022-10-09T16:16:24.001Z"
   },
   {
    "duration": 57,
    "start_time": "2022-10-09T16:16:24.583Z"
   },
   {
    "duration": 40,
    "start_time": "2022-10-09T16:16:24.641Z"
   },
   {
    "duration": 226,
    "start_time": "2022-10-09T16:16:24.682Z"
   },
   {
    "duration": 174,
    "start_time": "2022-10-09T16:16:24.910Z"
   },
   {
    "duration": 17,
    "start_time": "2022-10-09T16:16:25.086Z"
   },
   {
    "duration": 226,
    "start_time": "2022-10-09T16:16:25.105Z"
   },
   {
    "duration": 184,
    "start_time": "2022-10-09T16:16:25.334Z"
   },
   {
    "duration": 117,
    "start_time": "2022-10-09T16:16:25.520Z"
   },
   {
    "duration": 604,
    "start_time": "2022-10-09T16:16:25.639Z"
   },
   {
    "duration": 189,
    "start_time": "2022-10-09T16:16:26.245Z"
   },
   {
    "duration": 1000,
    "start_time": "2022-10-09T16:16:26.437Z"
   },
   {
    "duration": 1660,
    "start_time": "2022-10-09T16:16:27.439Z"
   },
   {
    "duration": 34,
    "start_time": "2022-10-09T16:16:29.101Z"
   },
   {
    "duration": 1357,
    "start_time": "2022-10-09T16:16:29.137Z"
   },
   {
    "duration": 17,
    "start_time": "2022-10-09T16:16:30.496Z"
   },
   {
    "duration": 14,
    "start_time": "2022-10-09T16:16:30.535Z"
   },
   {
    "duration": 56,
    "start_time": "2022-10-09T16:16:30.550Z"
   },
   {
    "duration": 5,
    "start_time": "2022-10-09T16:16:30.607Z"
   },
   {
    "duration": 128547,
    "start_time": "2022-10-09T16:16:30.614Z"
   },
   {
    "duration": 127622,
    "start_time": "2022-10-09T16:18:39.163Z"
   },
   {
    "duration": 30951,
    "start_time": "2022-10-09T16:20:46.787Z"
   },
   {
    "duration": 29746,
    "start_time": "2022-10-09T16:21:17.739Z"
   },
   {
    "duration": 330255,
    "start_time": "2022-10-09T16:21:47.487Z"
   },
   {
    "duration": 336206,
    "start_time": "2022-10-09T16:27:17.744Z"
   },
   {
    "duration": 56,
    "start_time": "2022-10-09T16:32:53.952Z"
   },
   {
    "duration": 460,
    "start_time": "2022-10-09T16:32:54.010Z"
   },
   {
    "duration": 149,
    "start_time": "2022-10-09T16:32:54.472Z"
   },
   {
    "duration": 41,
    "start_time": "2022-10-09T16:32:54.623Z"
   },
   {
    "duration": 242608,
    "start_time": "2022-10-09T16:41:30.492Z"
   },
   {
    "duration": 238065,
    "start_time": "2022-10-09T16:45:33.102Z"
   },
   {
    "duration": 29808,
    "start_time": "2022-10-09T16:49:31.169Z"
   },
   {
    "duration": 30276,
    "start_time": "2022-10-09T16:50:00.980Z"
   },
   {
    "duration": 403294,
    "start_time": "2022-10-09T16:50:31.258Z"
   },
   {
    "duration": 330926,
    "start_time": "2022-10-09T16:57:14.637Z"
   },
   {
    "duration": 70,
    "start_time": "2022-10-09T17:02:45.564Z"
   },
   {
    "duration": 441,
    "start_time": "2022-10-09T17:02:45.636Z"
   },
   {
    "duration": 174,
    "start_time": "2022-10-09T17:02:46.079Z"
   },
   {
    "duration": 39,
    "start_time": "2022-10-09T17:02:46.256Z"
   },
   {
    "duration": 222679,
    "start_time": "2022-10-09T17:12:07.097Z"
   },
   {
    "duration": 222534,
    "start_time": "2022-10-09T17:15:49.778Z"
   },
   {
    "duration": 102,
    "start_time": "2022-10-09T18:21:41.445Z"
   },
   {
    "duration": 484,
    "start_time": "2022-10-09T18:22:16.375Z"
   },
   {
    "duration": 144,
    "start_time": "2022-10-09T18:22:19.301Z"
   },
   {
    "duration": 430,
    "start_time": "2022-10-09T18:25:01.481Z"
   },
   {
    "duration": 17,
    "start_time": "2022-10-09T18:29:21.843Z"
   },
   {
    "duration": 15,
    "start_time": "2022-10-09T18:29:55.302Z"
   },
   {
    "duration": 1388,
    "start_time": "2022-10-09T18:30:53.166Z"
   },
   {
    "duration": 1415,
    "start_time": "2022-10-09T18:31:15.713Z"
   },
   {
    "duration": 265,
    "start_time": "2022-10-09T18:31:17.130Z"
   },
   {
    "duration": 46,
    "start_time": "2022-10-09T18:31:17.397Z"
   },
   {
    "duration": 10,
    "start_time": "2022-10-09T18:31:17.445Z"
   },
   {
    "duration": 98,
    "start_time": "2022-10-09T18:31:17.457Z"
   },
   {
    "duration": 130,
    "start_time": "2022-10-09T18:31:17.557Z"
   },
   {
    "duration": 635,
    "start_time": "2022-10-09T18:31:17.689Z"
   },
   {
    "duration": 612,
    "start_time": "2022-10-09T18:31:18.326Z"
   },
   {
    "duration": 578,
    "start_time": "2022-10-09T18:31:18.940Z"
   },
   {
    "duration": 600,
    "start_time": "2022-10-09T18:31:19.521Z"
   },
   {
    "duration": 571,
    "start_time": "2022-10-09T18:31:20.122Z"
   },
   {
    "duration": 563,
    "start_time": "2022-10-09T18:31:20.695Z"
   },
   {
    "duration": 40,
    "start_time": "2022-10-09T18:31:21.260Z"
   },
   {
    "duration": 56,
    "start_time": "2022-10-09T18:31:21.301Z"
   },
   {
    "duration": 206,
    "start_time": "2022-10-09T18:31:21.359Z"
   },
   {
    "duration": 169,
    "start_time": "2022-10-09T18:31:21.566Z"
   },
   {
    "duration": 14,
    "start_time": "2022-10-09T18:31:21.737Z"
   },
   {
    "duration": 216,
    "start_time": "2022-10-09T18:31:21.752Z"
   },
   {
    "duration": 175,
    "start_time": "2022-10-09T18:31:21.970Z"
   },
   {
    "duration": 100,
    "start_time": "2022-10-09T18:31:22.147Z"
   },
   {
    "duration": 567,
    "start_time": "2022-10-09T18:31:22.249Z"
   },
   {
    "duration": 152,
    "start_time": "2022-10-09T18:31:22.817Z"
   },
   {
    "duration": 899,
    "start_time": "2022-10-09T18:31:22.970Z"
   },
   {
    "duration": 1619,
    "start_time": "2022-10-09T18:31:23.871Z"
   },
   {
    "duration": 14,
    "start_time": "2022-10-09T18:31:25.492Z"
   },
   {
    "duration": 1370,
    "start_time": "2022-10-09T18:31:25.508Z"
   },
   {
    "duration": 14,
    "start_time": "2022-10-09T18:31:26.879Z"
   },
   {
    "duration": 12,
    "start_time": "2022-10-09T18:31:26.896Z"
   },
   {
    "duration": 39,
    "start_time": "2022-10-09T18:31:26.932Z"
   },
   {
    "duration": 3,
    "start_time": "2022-10-09T18:31:26.972Z"
   },
   {
    "duration": 213644,
    "start_time": "2022-10-09T18:31:26.976Z"
   },
   {
    "duration": 217845,
    "start_time": "2022-10-09T18:35:00.622Z"
   },
   {
    "duration": 1249,
    "start_time": "2022-10-09T18:38:49.896Z"
   },
   {
    "duration": 251,
    "start_time": "2022-10-09T18:38:51.147Z"
   },
   {
    "duration": 45,
    "start_time": "2022-10-09T18:38:51.402Z"
   },
   {
    "duration": 8,
    "start_time": "2022-10-09T18:38:51.449Z"
   },
   {
    "duration": 95,
    "start_time": "2022-10-09T18:38:51.459Z"
   },
   {
    "duration": 121,
    "start_time": "2022-10-09T18:38:51.556Z"
   },
   {
    "duration": 651,
    "start_time": "2022-10-09T18:38:51.679Z"
   },
   {
    "duration": 629,
    "start_time": "2022-10-09T18:38:52.331Z"
   },
   {
    "duration": 599,
    "start_time": "2022-10-09T18:38:52.963Z"
   },
   {
    "duration": 604,
    "start_time": "2022-10-09T18:38:53.564Z"
   },
   {
    "duration": 601,
    "start_time": "2022-10-09T18:38:54.170Z"
   },
   {
    "duration": 585,
    "start_time": "2022-10-09T18:38:54.773Z"
   },
   {
    "duration": 44,
    "start_time": "2022-10-09T18:38:55.359Z"
   },
   {
    "duration": 64,
    "start_time": "2022-10-09T18:38:55.404Z"
   },
   {
    "duration": 227,
    "start_time": "2022-10-09T18:38:55.469Z"
   },
   {
    "duration": 180,
    "start_time": "2022-10-09T18:38:55.698Z"
   },
   {
    "duration": 13,
    "start_time": "2022-10-09T18:38:55.879Z"
   },
   {
    "duration": 215,
    "start_time": "2022-10-09T18:38:55.893Z"
   },
   {
    "duration": 216,
    "start_time": "2022-10-09T18:38:56.110Z"
   },
   {
    "duration": 122,
    "start_time": "2022-10-09T18:38:56.328Z"
   },
   {
    "duration": 606,
    "start_time": "2022-10-09T18:38:56.452Z"
   },
   {
    "duration": 136,
    "start_time": "2022-10-09T18:38:57.060Z"
   },
   {
    "duration": 915,
    "start_time": "2022-10-09T18:38:57.198Z"
   },
   {
    "duration": 1687,
    "start_time": "2022-10-09T18:38:58.115Z"
   },
   {
    "duration": 30,
    "start_time": "2022-10-09T18:38:59.803Z"
   },
   {
    "duration": 1321,
    "start_time": "2022-10-09T18:38:59.835Z"
   },
   {
    "duration": 15,
    "start_time": "2022-10-09T18:39:01.159Z"
   },
   {
    "duration": 26,
    "start_time": "2022-10-09T18:39:01.176Z"
   },
   {
    "duration": 60,
    "start_time": "2022-10-09T18:39:01.203Z"
   },
   {
    "duration": 3,
    "start_time": "2022-10-09T18:39:01.265Z"
   },
   {
    "duration": 222134,
    "start_time": "2022-10-09T18:39:01.269Z"
   },
   {
    "duration": 226140,
    "start_time": "2022-10-09T18:42:43.405Z"
   },
   {
    "duration": 30106,
    "start_time": "2022-10-09T18:46:29.547Z"
   },
   {
    "duration": 31017,
    "start_time": "2022-10-09T18:46:59.655Z"
   },
   {
    "duration": 512566,
    "start_time": "2022-10-09T18:47:30.674Z"
   },
   {
    "duration": 535168,
    "start_time": "2022-10-09T18:56:03.242Z"
   },
   {
    "duration": 153,
    "start_time": "2022-10-09T19:04:58.412Z"
   },
   {
    "duration": 513,
    "start_time": "2022-10-09T19:04:58.566Z"
   },
   {
    "duration": 176,
    "start_time": "2022-10-09T19:04:59.081Z"
   },
   {
    "duration": 33,
    "start_time": "2022-10-09T19:04:59.258Z"
   },
   {
    "duration": 7,
    "start_time": "2022-10-09T19:24:51.350Z"
   },
   {
    "duration": 6,
    "start_time": "2022-10-09T19:25:17.424Z"
   },
   {
    "duration": 51,
    "start_time": "2022-10-09T19:25:33.944Z"
   },
   {
    "duration": 7,
    "start_time": "2022-10-09T19:26:09.599Z"
   }
  ],
  "kernelspec": {
   "display_name": "Python 3 (ipykernel)",
   "language": "python",
   "name": "python3"
  },
  "language_info": {
   "codemirror_mode": {
    "name": "ipython",
    "version": 3
   },
   "file_extension": ".py",
   "mimetype": "text/x-python",
   "name": "python",
   "nbconvert_exporter": "python",
   "pygments_lexer": "ipython3",
   "version": "3.9.18"
  },
  "toc": {
   "base_numbering": 1,
   "nav_menu": {},
   "number_sections": true,
   "sideBar": true,
   "skip_h1_title": true,
   "title_cell": "Table of Contents",
   "title_sidebar": "Contents",
   "toc_cell": false,
   "toc_position": {
    "height": "calc(100% - 180px)",
    "left": "10px",
    "top": "150px",
    "width": "408.875px"
   },
   "toc_section_display": true,
   "toc_window_display": true
  }
 },
 "nbformat": 4,
 "nbformat_minor": 2
}
