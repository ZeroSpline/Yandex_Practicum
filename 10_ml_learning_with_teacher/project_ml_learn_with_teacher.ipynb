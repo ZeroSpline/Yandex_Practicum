{
 "cells": [
  {
   "cell_type": "markdown",
   "metadata": {
    "toc": true
   },
   "source": [
    "<h1>Содержание<span class=\"tocSkip\"></span></h1>\n",
    "<div class=\"toc\"><ul class=\"toc-item\"><li><span><a href=\"#Подготовка-данных\" data-toc-modified-id=\"Подготовка-данных-1\"><span class=\"toc-item-num\">1&nbsp;&nbsp;</span>Подготовка данных</a></span></li><li><span><a href=\"#Исследование-задачи\" data-toc-modified-id=\"Исследование-задачи-2\"><span class=\"toc-item-num\">2&nbsp;&nbsp;</span>Исследование задачи</a></span><ul class=\"toc-item\"><li><span><a href=\"#Случайный-лес\" data-toc-modified-id=\"Случайный-лес-2.1\"><span class=\"toc-item-num\">2.1&nbsp;&nbsp;</span>Случайный лес</a></span><ul class=\"toc-item\"><li><span><a href=\"#Вывод\" data-toc-modified-id=\"Вывод-2.1.1\"><span class=\"toc-item-num\">2.1.1&nbsp;&nbsp;</span>Вывод</a></span></li></ul></li><li><span><a href=\"#Решающее-дерево\" data-toc-modified-id=\"Решающее-дерево-2.2\"><span class=\"toc-item-num\">2.2&nbsp;&nbsp;</span>Решающее дерево</a></span><ul class=\"toc-item\"><li><span><a href=\"#Вывод\" data-toc-modified-id=\"Вывод-2.2.1\"><span class=\"toc-item-num\">2.2.1&nbsp;&nbsp;</span>Вывод</a></span></li></ul></li><li><span><a href=\"#Логистическая-регрессия\" data-toc-modified-id=\"Логистическая-регрессия-2.3\"><span class=\"toc-item-num\">2.3&nbsp;&nbsp;</span>Логистическая регрессия</a></span><ul class=\"toc-item\"><li><span><a href=\"#Вывод\" data-toc-modified-id=\"Вывод-2.3.1\"><span class=\"toc-item-num\">2.3.1&nbsp;&nbsp;</span>Вывод</a></span></li></ul></li></ul></li><li><span><a href=\"#Борьба-с-дисбалансом\" data-toc-modified-id=\"Борьба-с-дисбалансом-3\"><span class=\"toc-item-num\">3&nbsp;&nbsp;</span>Борьба с дисбалансом</a></span><ul class=\"toc-item\"><li><span><a href=\"#Обновление-модели-случайного-леса\" data-toc-modified-id=\"Обновление-модели-случайного-леса-3.1\"><span class=\"toc-item-num\">3.1&nbsp;&nbsp;</span>Обновление модели случайного леса</a></span><ul class=\"toc-item\"><li><span><a href=\"#Вариант-1-(без-учета-class_weight)\" data-toc-modified-id=\"Вариант-1-(без-учета-class_weight)-3.1.1\"><span class=\"toc-item-num\">3.1.1&nbsp;&nbsp;</span>Вариант 1 (без учета class_weight)</a></span></li><li><span><a href=\"#Вариант-2-(без-увеличенной-выборки)\" data-toc-modified-id=\"Вариант-2-(без-увеличенной-выборки)-3.1.2\"><span class=\"toc-item-num\">3.1.2&nbsp;&nbsp;</span>Вариант 2 (без увеличенной выборки)</a></span></li></ul></li><li><span><a href=\"#Обновление-модели-решающего-дерева\" data-toc-modified-id=\"Обновление-модели-решающего-дерева-3.2\"><span class=\"toc-item-num\">3.2&nbsp;&nbsp;</span>Обновление модели решающего дерева</a></span><ul class=\"toc-item\"><li><span><a href=\"#Вариант-1-(без-учета-class_weight)\" data-toc-modified-id=\"Вариант-1-(без-учета-class_weight)-3.2.1\"><span class=\"toc-item-num\">3.2.1&nbsp;&nbsp;</span>Вариант 1 (без учета class_weight)</a></span></li><li><span><a href=\"#Вариант-2-(без-увеличенной-выборки)\" data-toc-modified-id=\"Вариант-2-(без-увеличенной-выборки)-3.2.2\"><span class=\"toc-item-num\">3.2.2&nbsp;&nbsp;</span>Вариант 2 (без увеличенной выборки)</a></span></li></ul></li><li><span><a href=\"#Обновление-модели-логистической-регрессии\" data-toc-modified-id=\"Обновление-модели-логистической-регрессии-3.3\"><span class=\"toc-item-num\">3.3&nbsp;&nbsp;</span>Обновление модели логистической регрессии</a></span><ul class=\"toc-item\"><li><span><a href=\"#Вариант-1-(без-учета-class_weight)\" data-toc-modified-id=\"Вариант-1-(без-учета-class_weight)-3.3.1\"><span class=\"toc-item-num\">3.3.1&nbsp;&nbsp;</span>Вариант 1 (без учета class_weight)</a></span></li><li><span><a href=\"#Вариант-2-(без-увеличенной-выборки)\" data-toc-modified-id=\"Вариант-2-(без-увеличенной-выборки)-3.3.2\"><span class=\"toc-item-num\">3.3.2&nbsp;&nbsp;</span>Вариант 2 (без увеличенной выборки)</a></span></li></ul></li><li><span><a href=\"#ROC-кривые-для-моделей-с-увеличенной-выборкой\" data-toc-modified-id=\"ROC-кривые-для-моделей-с-увеличенной-выборкой-3.4\"><span class=\"toc-item-num\">3.4&nbsp;&nbsp;</span>ROC-кривые для моделей с увеличенной выборкой</a></span></li><li><span><a href=\"#ROC-кривые-для-моделей-с-class_weight\" data-toc-modified-id=\"ROC-кривые-для-моделей-с-class_weight-3.5\"><span class=\"toc-item-num\">3.5&nbsp;&nbsp;</span>ROC-кривые для моделей с class_weight</a></span></li><li><span><a href=\"#Вывод\" data-toc-modified-id=\"Вывод-3.6\"><span class=\"toc-item-num\">3.6&nbsp;&nbsp;</span>Вывод</a></span></li></ul></li><li><span><a href=\"#Тестирование-модели\" data-toc-modified-id=\"Тестирование-модели-4\"><span class=\"toc-item-num\">4&nbsp;&nbsp;</span>Тестирование модели</a></span></li></ul></div>"
   ]
  },
  {
   "cell_type": "markdown",
   "metadata": {},
   "source": [
    "## Подготовка данных"
   ]
  },
  {
   "cell_type": "code",
   "execution_count": 1,
   "metadata": {},
   "outputs": [],
   "source": [
    "# импорт библиотек для исследования\n",
    "import pandas as pd\n",
    "import matplotlib.pyplot as plt\n",
    "from sklearn.model_selection import train_test_split\n",
    "from sklearn.preprocessing import StandardScaler\n",
    "from sklearn.ensemble import RandomForestClassifier\n",
    "from sklearn.tree import DecisionTreeClassifier\n",
    "from sklearn.linear_model import LogisticRegression \n",
    "from sklearn.metrics import confusion_matrix, f1_score , roc_auc_score, roc_curve \n",
    "from sklearn.utils import shuffle"
   ]
  },
  {
   "cell_type": "code",
   "execution_count": 2,
   "metadata": {},
   "outputs": [
    {
     "data": {
      "text/plain": [
       "(6000, 11)"
      ]
     },
     "metadata": {},
     "output_type": "display_data"
    },
    {
     "data": {
      "text/plain": [
       "(2000, 11)"
      ]
     },
     "metadata": {},
     "output_type": "display_data"
    },
    {
     "data": {
      "text/plain": [
       "(2000, 11)"
      ]
     },
     "metadata": {},
     "output_type": "display_data"
    }
   ],
   "source": [
    "# откроем файл и заполним пропуски\n",
    "df = pd.read_csv('Churn.csv')\n",
    "df['Tenure'] = df['Tenure'].fillna(0)\n",
    "# уберем лишние столбцы, которые помешают при получении дополнительных данных\n",
    "df_cor = df.drop(['CustomerId', 'Surname', 'RowNumber'], axis=1)\n",
    "df_ohe = pd.get_dummies(df_cor, drop_first=True)\n",
    "# обозначим признаки и цели\n",
    "target = df_ohe['Exited']\n",
    "features = df_ohe.drop('Exited', axis=1)\n",
    "# проведем деление на выборки в соотношении 60:20:20\n",
    "features_train, features_test, target_train, target_test = train_test_split(features, target, test_size=0.4, stratify=target, random_state=57117)\n",
    "features_test, features_valid, target_test, target_valid = train_test_split(features_test, target_test, test_size=0.5, random_state=57117)\n",
    "# выведем размеры выборок на экран\n",
    "display(features_train.shape)\n",
    "display(features_valid.shape)\n",
    "display(features_test.shape)"
   ]
  },
  {
   "cell_type": "code",
   "execution_count": 3,
   "metadata": {},
   "outputs": [],
   "source": [
    "# стандартизируем данные и настроим на признаках\n",
    "scaler = StandardScaler()\n",
    "scaler.fit(features_train) \n",
    "# преобразуем выборки\n",
    "features_train = scaler.transform(features_train)\n",
    "features_valid = scaler.transform(features_valid) \n",
    "features_test = scaler.transform(features_test) \n",
    "# уберем предупреждение `SettingWithCopy`\n",
    "pd.options.mode.chained_assignment = None\n",
    "# получим заголовки для признаков и скорректируем преобразованные выборки\n",
    "column_list = list(features.columns)\n",
    "features_train = pd.DataFrame(features_train, columns = column_list, index=target_train.index)\n",
    "features_valid = pd.DataFrame(features_valid, columns = column_list, index=target_valid.index)\n",
    "features_test = pd.DataFrame(features_test, columns = column_list, index=target_test.index)"
   ]
  },
  {
   "cell_type": "markdown",
   "metadata": {},
   "source": [
    "## Исследование задачи"
   ]
  },
  {
   "cell_type": "markdown",
   "metadata": {},
   "source": [
    "### Случайный лес"
   ]
  },
  {
   "cell_type": "code",
   "execution_count": 4,
   "metadata": {},
   "outputs": [
    {
     "data": {
      "text/plain": [
       "'Результат наилучшей модели: 0.6428571428571429, при количестве \"деревьев\": 8, и глубине: 49'"
      ]
     },
     "metadata": {},
     "output_type": "display_data"
    },
    {
     "data": {
      "text/plain": [
       "array([[1544,   57],\n",
       "       [ 196,  203]], dtype=int64)"
      ]
     },
     "metadata": {},
     "output_type": "display_data"
    },
    {
     "name": "stdout",
     "output_type": "stream",
     "text": [
      "CPU times: total: 17.6 s\n",
      "Wall time: 17.7 s\n"
     ]
    }
   ],
   "source": [
    "%%time\n",
    "# обозначим переменные для получения лучших результатов используя цикл\n",
    "f1_score_one = 0\n",
    "best_est = 0\n",
    "max_depth_one = 0\n",
    "# используем цикл\n",
    "for est in range(1, 10):\n",
    "    for max_m in range(1, 50):\n",
    "        model_one = RandomForestClassifier(random_state=57117, n_estimators=est, max_depth=max_m, min_samples_leaf=5) \n",
    "        model_one.fit(features_train, target_train)  \n",
    "        predictions_valid = model_one.predict(features_valid) \n",
    "        result_one = f1_score(target_valid, predictions_valid)   \n",
    "        if result_one > f1_score_one:       \n",
    "            f1_score_one = result_one\n",
    "            max_depth_one = max_m\n",
    "            best_est = est\n",
    "# выведем результаты    \n",
    "display(f'Результат наилучшей модели: {f1_score_one}, при количестве \"деревьев\": {best_est}, и глубине: {max_m}')\n",
    "display(confusion_matrix(target_valid, predictions_valid))"
   ]
  },
  {
   "cell_type": "markdown",
   "metadata": {},
   "source": [
    "#### Вывод"
   ]
  },
  {
   "cell_type": "markdown",
   "metadata": {},
   "source": [
    "Результат наилучшей модели для случайного леса составил: 0.642, при количестве \"деревьев\" : 8, и глубине: 49"
   ]
  },
  {
   "cell_type": "markdown",
   "metadata": {},
   "source": [
    "### Решающее дерево"
   ]
  },
  {
   "cell_type": "code",
   "execution_count": 5,
   "metadata": {
    "scrolled": true
   },
   "outputs": [
    {
     "data": {
      "text/plain": [
       "'Результат наилучшей модели: 0.6017441860465116, при глубине модели: 7'"
      ]
     },
     "metadata": {},
     "output_type": "display_data"
    },
    {
     "data": {
      "text/plain": [
       "array([[1498,  103],\n",
       "       [ 184,  215]], dtype=int64)"
      ]
     },
     "metadata": {},
     "output_type": "display_data"
    }
   ],
   "source": [
    "# обозначим переменные для получения лучших результатов\n",
    "depth_max = 0\n",
    "f1_score_two = 0\n",
    "# используем цикл\n",
    "for depth in range(1, 10):\n",
    "    model_two = DecisionTreeClassifier(random_state=57117, max_depth=depth)\n",
    "    model_two.fit(features_train, target_train)\n",
    "    predictions_valid_two = model_two.predict(features_valid)\n",
    "    result_two = f1_score(target_valid, predictions_valid_two)\n",
    "    if result_two > f1_score_two:\n",
    "        depth_max = depth\n",
    "        f1_score_two = result_two\n",
    "# выведем результаты           \n",
    "display(f'Результат наилучшей модели: {f1_score_two}, при глубине модели: {depth_max}')\n",
    "display(confusion_matrix(target_valid, predictions_valid_two))"
   ]
  },
  {
   "cell_type": "markdown",
   "metadata": {},
   "source": [
    "#### Вывод"
   ]
  },
  {
   "cell_type": "markdown",
   "metadata": {},
   "source": [
    "Результат наилучшей модели для решающего дерева составил: 0.601, при глубине модели: 7"
   ]
  },
  {
   "cell_type": "markdown",
   "metadata": {},
   "source": [
    "### Логистическая регрессия"
   ]
  },
  {
   "cell_type": "code",
   "execution_count": 6,
   "metadata": {
    "scrolled": true
   },
   "outputs": [
    {
     "data": {
      "text/plain": [
       "'Результат для логистической регресии: 0.35081374321880654'"
      ]
     },
     "metadata": {},
     "output_type": "display_data"
    },
    {
     "data": {
      "text/plain": [
       "array([[1544,   57],\n",
       "       [ 302,   97]], dtype=int64)"
      ]
     },
     "metadata": {},
     "output_type": "display_data"
    }
   ],
   "source": [
    "# обучим модель\n",
    "model_three = LogisticRegression(random_state=57117, solver='liblinear', max_iter=10000, penalty='l2') \n",
    "model_three.fit(features_train, target_train)\n",
    "predictions_valid_three = model_three.predict(features_valid) \n",
    "result_three = f1_score(target_valid, predictions_valid_three)\n",
    "# выведем результаты  \n",
    "display(f'Результат для логистической регресии: {result_three}')\n",
    "display(confusion_matrix(target_valid, predictions_valid_three))"
   ]
  },
  {
   "cell_type": "markdown",
   "metadata": {},
   "source": [
    "#### Вывод"
   ]
  },
  {
   "cell_type": "markdown",
   "metadata": {},
   "source": [
    "Результат для логистической регресии: 0.350"
   ]
  },
  {
   "cell_type": "markdown",
   "metadata": {},
   "source": [
    "## Борьба с дисбалансом"
   ]
  },
  {
   "cell_type": "code",
   "execution_count": 7,
   "metadata": {
    "scrolled": false
   },
   "outputs": [
    {
     "data": {
      "text/plain": [
       "0    7963\n",
       "1    2037\n",
       "Name: Exited, dtype: int64"
      ]
     },
     "execution_count": 7,
     "metadata": {},
     "output_type": "execute_result"
    },
    {
     "data": {
      "image/png": "[encoded data removed]",
      "text/plain": [
       "<Figure size 700x500 with 1 Axes>"
      ]
     },
     "metadata": {},
     "output_type": "display_data"
    }
   ],
   "source": [
    "# выведем график с дисбалансом классов и рассчитаем их количество\n",
    "target.plot(xlabel='Exited', kind='hist', figsize=(7,5), legend=False);\n",
    "target.value_counts()"
   ]
  },
  {
   "cell_type": "code",
   "execution_count": 8,
   "metadata": {},
   "outputs": [],
   "source": [
    "# создадим функцию для уведичения выборки\n",
    "def upsample(features, target, repeat):\n",
    "    features_zeros = features[target == 0]\n",
    "    features_ones = features[target == 1]\n",
    "    target_zeros = target[target == 0]\n",
    "    target_ones = target[target == 1]\n",
    "    features_upsampled = pd.concat([features_zeros] + [features_ones] * repeat)\n",
    "    target_upsampled = pd.concat([target_zeros] + [target_ones] * repeat)\n",
    "    features_upsampled, target_upsampled = shuffle(features_upsampled, target_upsampled, random_state=57117)\n",
    "    return features_upsampled, target_upsampled\n",
    "# применим функцию на тренировочной выборке\n",
    "features_upsampled, target_upsampled = upsample(features_train, target_train, 4)"
   ]
  },
  {
   "cell_type": "markdown",
   "metadata": {},
   "source": [
    "### Обновление модели случайного леса"
   ]
  },
  {
   "cell_type": "markdown",
   "metadata": {},
   "source": [
    "#### Вариант 1 (без учета class_weight)"
   ]
  },
  {
   "cell_type": "code",
   "execution_count": 9,
   "metadata": {
    "scrolled": true
   },
   "outputs": [
    {
     "data": {
      "text/plain": [
       "'Значение результата F1 для модели случайного леса с учетом увеличения выборки:'"
      ]
     },
     "metadata": {},
     "output_type": "display_data"
    },
    {
     "data": {
      "text/plain": [
       "0.6192090395480226"
      ]
     },
     "metadata": {},
     "output_type": "display_data"
    },
    {
     "data": {
      "text/plain": [
       "'AUC-ROC для случайного леса:'"
      ]
     },
     "metadata": {},
     "output_type": "display_data"
    },
    {
     "data": {
      "text/plain": [
       "0.8487787238239258"
      ]
     },
     "metadata": {},
     "output_type": "display_data"
    }
   ],
   "source": [
    "# обучим заново модель случайного леса с учетом баланса классов \n",
    "model_one_cor = RandomForestClassifier(random_state=57117, n_estimators=8, max_depth=49, min_samples_leaf=5) \n",
    "model_one_cor.fit(features_upsampled, target_upsampled)\n",
    "predicted_valid_one_cor = model_one_cor.predict(features_valid)\n",
    "# выведем результат на экран\n",
    "display(\"Значение результата F1 для модели случайного леса с учетом увеличения выборки:\", f1_score(target_valid, predicted_valid_one_cor))\n",
    "# рассчитаем вероятности на валидационной выборке\n",
    "probabilities_valid_one = model_one_cor.predict_proba(features_valid)\n",
    "probabilities_valid_one_a = probabilities_valid_one[:, 1]\n",
    "auc_roc_one = roc_auc_score(target_valid, probabilities_valid_one_a)\n",
    "# посчитаем площадь под кривой\n",
    "display('AUC-ROC для случайного леса:', auc_roc_one)"
   ]
  },
  {
   "cell_type": "markdown",
   "metadata": {},
   "source": [
    "#### Вариант 2 (без увеличенной выборки)"
   ]
  },
  {
   "cell_type": "code",
   "execution_count": 10,
   "metadata": {},
   "outputs": [
    {
     "data": {
      "text/plain": [
       "'Значение результата F1 для модели случайного леса с учетом баланса классов:'"
      ]
     },
     "metadata": {},
     "output_type": "display_data"
    },
    {
     "data": {
      "text/plain": [
       "0.5940366972477065"
      ]
     },
     "metadata": {},
     "output_type": "display_data"
    },
    {
     "data": {
      "text/plain": [
       "'AUC-ROC для случайного леса:'"
      ]
     },
     "metadata": {},
     "output_type": "display_data"
    },
    {
     "data": {
      "text/plain": [
       "0.8393524410651865"
      ]
     },
     "metadata": {},
     "output_type": "display_data"
    }
   ],
   "source": [
    "# обучим заново модель случайного леса с учетом баланса классов \n",
    "model_one_cor_weight = RandomForestClassifier(random_state=57117, n_estimators=8, max_depth=49, min_samples_leaf=5, class_weight='balanced') \n",
    "model_one_cor_weight.fit(features_train, target_train)\n",
    "predicted_valid_one_cor_weight = model_one_cor_weight.predict(features_valid)\n",
    "# выведем результат на экран\n",
    "display(\"Значение результата F1 для модели случайного леса с учетом баланса классов:\", f1_score(target_valid, predicted_valid_one_cor_weight))\n",
    "# рассчитаем вероятности на валидационной выборке\n",
    "probabilities_valid_one_weight = model_one_cor_weight.predict_proba(features_valid)\n",
    "probabilities_valid_one_a_weight = probabilities_valid_one_weight[:, 1]\n",
    "auc_roc_one_weight = roc_auc_score(target_valid, probabilities_valid_one_a_weight)\n",
    "# посчитаем площадь под кривой\n",
    "display('AUC-ROC для случайного леса:', auc_roc_one_weight)"
   ]
  },
  {
   "cell_type": "markdown",
   "metadata": {},
   "source": [
    "### Обновление модели решающего дерева"
   ]
  },
  {
   "cell_type": "markdown",
   "metadata": {},
   "source": [
    "#### Вариант 1 (без учета class_weight)"
   ]
  },
  {
   "cell_type": "code",
   "execution_count": 11,
   "metadata": {
    "scrolled": true
   },
   "outputs": [
    {
     "data": {
      "text/plain": [
       "'Значение результата F1 для модели решающего дерева с учетом баланса классов:'"
      ]
     },
     "metadata": {},
     "output_type": "display_data"
    },
    {
     "data": {
      "text/plain": [
       "0.5588785046728972"
      ]
     },
     "metadata": {},
     "output_type": "display_data"
    },
    {
     "data": {
      "text/plain": [
       "'AUC-ROC для модели решающего дерева:'"
      ]
     },
     "metadata": {},
     "output_type": "display_data"
    },
    {
     "data": {
      "text/plain": [
       "0.8295551495853939"
      ]
     },
     "metadata": {},
     "output_type": "display_data"
    }
   ],
   "source": [
    "# обучим заново модель решающего дерева с учетом баланса классов\n",
    "model_two_cor = DecisionTreeClassifier(random_state=57117, max_depth=7)\n",
    "model_two_cor.fit(features_upsampled, target_upsampled)\n",
    "predicted_valid_two_cor = model_two_cor.predict(features_valid)\n",
    "# выведем результат на экран\n",
    "display(\"Значение результата F1 для модели решающего дерева с учетом баланса классов:\", f1_score(target_valid, predicted_valid_two_cor))\n",
    "# рассчитаем вероятности на валидационной выборке\n",
    "probabilities_valid_two = model_two_cor.predict_proba(features_valid)\n",
    "probabilities_valid_two_a = probabilities_valid_two[:, 1]\n",
    "auc_roc_two = roc_auc_score(target_valid, probabilities_valid_two_a)\n",
    "# посчитаем площадь под кривой\n",
    "display('AUC-ROC для модели решающего дерева:', auc_roc_two)"
   ]
  },
  {
   "cell_type": "markdown",
   "metadata": {},
   "source": [
    "#### Вариант 2 (без увеличенной выборки)"
   ]
  },
  {
   "cell_type": "code",
   "execution_count": 12,
   "metadata": {},
   "outputs": [
    {
     "data": {
      "text/plain": [
       "'Значение результата F1 для модели решающего дерева с учетом баланса классов:'"
      ]
     },
     "metadata": {},
     "output_type": "display_data"
    },
    {
     "data": {
      "text/plain": [
       "0.5636192271442036"
      ]
     },
     "metadata": {},
     "output_type": "display_data"
    },
    {
     "data": {
      "text/plain": [
       "'AUC-ROC для модели решающего дерева:'"
      ]
     },
     "metadata": {},
     "output_type": "display_data"
    },
    {
     "data": {
      "text/plain": [
       "0.8314767242904263"
      ]
     },
     "metadata": {},
     "output_type": "display_data"
    }
   ],
   "source": [
    "# обучим заново модель решающего дерева с учетом баланса классов\n",
    "model_two_cor_weight = DecisionTreeClassifier(random_state=57117, max_depth=7, class_weight='balanced')\n",
    "model_two_cor_weight.fit(features_train, target_train)\n",
    "predicted_valid_two_cor_weight = model_two_cor_weight.predict(features_valid)\n",
    "# выведем результат на экран\n",
    "display(\"Значение результата F1 для модели решающего дерева с учетом баланса классов:\", f1_score(target_valid, predicted_valid_two_cor_weight))\n",
    "# рассчитаем вероятности на валидационной выборке\n",
    "probabilities_valid_two_weight = model_two_cor_weight.predict_proba(features_valid)\n",
    "probabilities_valid_two_a_weight = probabilities_valid_two_weight[:, 1]\n",
    "auc_roc_two_weight = roc_auc_score(target_valid, probabilities_valid_two_a_weight)\n",
    "# посчитаем площадь под кривой\n",
    "display('AUC-ROC для модели решающего дерева:', auc_roc_two_weight)"
   ]
  },
  {
   "cell_type": "markdown",
   "metadata": {},
   "source": [
    "### Обновление модели логистической регрессии"
   ]
  },
  {
   "cell_type": "markdown",
   "metadata": {},
   "source": [
    "#### Вариант 1 (без учета class_weight)"
   ]
  },
  {
   "cell_type": "code",
   "execution_count": 13,
   "metadata": {},
   "outputs": [
    {
     "data": {
      "text/plain": [
       "'Значение результата F1 для модели логистической регрессии с учетом баланса классов:'"
      ]
     },
     "metadata": {},
     "output_type": "display_data"
    },
    {
     "data": {
      "text/plain": [
       "0.49578414839797647"
      ]
     },
     "metadata": {},
     "output_type": "display_data"
    },
    {
     "data": {
      "text/plain": [
       "'AUC-ROC для модели логистической регрессии:'"
      ]
     },
     "metadata": {},
     "output_type": "display_data"
    },
    {
     "data": {
      "text/plain": [
       "0.7898337348680883"
      ]
     },
     "metadata": {},
     "output_type": "display_data"
    }
   ],
   "source": [
    "# обучим заново модель логистической регрессии с учетом баланса классов\n",
    "model_three_cor = LogisticRegression(random_state=57117, solver='liblinear', max_iter=10000, penalty='l2')\n",
    "model_three_cor.fit(features_upsampled, target_upsampled)\n",
    "predicted_valid_three_cor = model_three_cor.predict(features_valid)\n",
    "# выведем результат на экран\n",
    "display(\"Значение результата F1 для модели логистической регрессии с учетом баланса классов:\", f1_score(target_valid, predicted_valid_three_cor))\n",
    "# рассчитаем вероятности на валидационной выборке\n",
    "probabilities_valid_three = model_three_cor.predict_proba(features_valid)\n",
    "probabilities_valid_three_a = probabilities_valid_three[:, 1]\n",
    "auc_roc_three = roc_auc_score(target_valid, probabilities_valid_three_a)\n",
    "# посчитаем площадь под кривой\n",
    "display('AUC-ROC для модели логистической регрессии:', auc_roc_three)"
   ]
  },
  {
   "cell_type": "markdown",
   "metadata": {},
   "source": [
    "#### Вариант 2 (без увеличенной выборки)"
   ]
  },
  {
   "cell_type": "code",
   "execution_count": 14,
   "metadata": {
    "scrolled": true
   },
   "outputs": [
    {
     "data": {
      "text/plain": [
       "'Значение результата F1 для модели логистической регрессии с учетом баланса классов:'"
      ]
     },
     "metadata": {},
     "output_type": "display_data"
    },
    {
     "data": {
      "text/plain": [
       "0.4961636828644501"
      ]
     },
     "metadata": {},
     "output_type": "display_data"
    },
    {
     "data": {
      "text/plain": [
       "'AUC-ROC для модели логистической регрессии:'"
      ]
     },
     "metadata": {},
     "output_type": "display_data"
    },
    {
     "data": {
      "text/plain": [
       "0.7897930334894074"
      ]
     },
     "metadata": {},
     "output_type": "display_data"
    }
   ],
   "source": [
    "# обучим заново модель логистической регрессии с учетом баланса классов\n",
    "model_three_cor_weight = LogisticRegression(random_state=57117, solver='liblinear', max_iter=10000, penalty='l2', class_weight='balanced')\n",
    "model_three_cor_weight.fit(features_train, target_train)\n",
    "predicted_valid_three_cor_weight = model_three_cor_weight.predict(features_valid)\n",
    "# выведем результат на экран\n",
    "display(\"Значение результата F1 для модели логистической регрессии с учетом баланса классов:\", f1_score(target_valid, predicted_valid_three_cor_weight))\n",
    "# рассчитаем вероятности на валидационной выборке\n",
    "probabilities_valid_three_weight = model_three_cor_weight.predict_proba(features_valid)\n",
    "probabilities_valid_three_a_weight = probabilities_valid_three_weight[:, 1]\n",
    "auc_roc_three_weight = roc_auc_score(target_valid, probabilities_valid_three_a_weight)\n",
    "# посчитаем площадь под кривой\n",
    "display('AUC-ROC для модели логистической регрессии:', auc_roc_three_weight)"
   ]
  },
  {
   "cell_type": "markdown",
   "metadata": {},
   "source": [
    "### ROC-кривые для моделей с увеличенной выборкой"
   ]
  },
  {
   "cell_type": "code",
   "execution_count": 15,
   "metadata": {},
   "outputs": [
    {
     "data": {
      "image/png": "[encoded data removed]",
      "text/plain": [
       "<Figure size 640x480 with 1 Axes>"
      ]
     },
     "metadata": {},
     "output_type": "display_data"
    }
   ],
   "source": [
    "# рассчитаем значения FPR, TPR и порога\n",
    "fpr_one, tpr_one, thresholds_one = roc_curve(target_valid, probabilities_valid_one_a) \n",
    "fpr_two, tpr_two, thresholds_two = roc_curve(target_valid, probabilities_valid_two_a) \n",
    "fpr_three, tpr_three, thresholds_three = roc_curve(target_valid, probabilities_valid_three_a) \n",
    "# построим график с сеткой\n",
    "plt.figure()\n",
    "plt.grid(True)\n",
    "plt.plot(fpr_one, tpr_one, color='m')\n",
    "plt.plot(fpr_two, tpr_two, color='g')\n",
    "plt.plot(fpr_three, tpr_three, color='b')\n",
    "# ROC-кривая случайной модели \n",
    "plt.plot([0, 1], [0, 1], linestyle='--')\n",
    "# установим границы осей от 0 до 1\n",
    "plt.ylim([0.0, 1.0])\n",
    "plt.xlim([0.0, 1.0])\n",
    "# подшишем оси\n",
    "plt.xlabel('False Positive Rate')\n",
    "plt.ylabel('True Positive Rate')\n",
    "# укажем заголовок\n",
    "plt.title('ROC-кривые для обученных моделей с увеличенной выборкой')\n",
    "plt.legend(['Случайный лес', 'Решающее дерево', 'Логистическая регрессия'])\n",
    "plt.show()"
   ]
  },
  {
   "cell_type": "markdown",
   "metadata": {},
   "source": [
    "### ROC-кривые для моделей с class_weight"
   ]
  },
  {
   "cell_type": "code",
   "execution_count": 16,
   "metadata": {},
   "outputs": [
    {
     "data": {
      "image/png": "[encoded data removed]",
      "text/plain": [
       "<Figure size 640x480 with 1 Axes>"
      ]
     },
     "metadata": {},
     "output_type": "display_data"
    }
   ],
   "source": [
    "# рассчитаем значения FPR, TPR и порога\n",
    "fpr_one_weight, tpr_one_weight, thresholds_one_weight = roc_curve(target_valid, probabilities_valid_one_a_weight) \n",
    "fpr_two_weight, tpr_two_weight, thresholds_two_weight = roc_curve(target_valid, probabilities_valid_two_a_weight) \n",
    "fpr_three_weight, tpr_three_weight, thresholds_three_weight = roc_curve(target_valid, probabilities_valid_three_a_weight) \n",
    "# построим график с сеткой\n",
    "plt.figure()\n",
    "plt.grid(True)\n",
    "plt.plot(fpr_one, tpr_one, color='m')\n",
    "plt.plot(fpr_two, tpr_two, color='g')\n",
    "plt.plot(fpr_three, tpr_three, color='b')\n",
    "# ROC-кривая случайной модели \n",
    "plt.plot([0, 1], [0, 1], linestyle='--')\n",
    "# установим границы осей от 0 до 1\n",
    "plt.ylim([0.0, 1.0])\n",
    "plt.xlim([0.0, 1.0])\n",
    "# подшишем оси\n",
    "plt.xlabel('False Positive Rate')\n",
    "plt.ylabel('True Positive Rate')\n",
    "# укажем заголовок\n",
    "plt.title('ROC-кривые для обученных моделей с class_weight')\n",
    "plt.legend(['Случайный лес', 'Решающее дерево', 'Логистическая регрессия'])\n",
    "plt.show()"
   ]
  },
  {
   "cell_type": "markdown",
   "metadata": {},
   "source": [
    "### Вывод"
   ]
  },
  {
   "cell_type": "markdown",
   "metadata": {},
   "source": [
    "- Для случайного леса\n",
    "    - Значение результата F1 для модели случайного леса c увеличенной выборкой: 0.619\n",
    "    - Площадь под кривой AUC-ROC: 0.848\n",
    "    - Значение результата F1 для модели случайного леса с class_weight: 0.594\n",
    "    - Площадь под кривой AUC-ROC: 0.839\n",
    "- Для решающего дерева\n",
    "    - Значение результата F1 для модели решающего дерева с увеличенной выборкой: 0.558\n",
    "    - Площадь под кривой AUC-ROC: 0.829\n",
    "    - Значение результата F1 для модели решающего дерева с class_weight: 0.563\n",
    "    - Площадь под кривой AUC-ROC: 0.831\n",
    "- Для логистической модели\n",
    "    - Значение результата F1 для модели логистической регрессии с увеличенной выборкой: 0.495\n",
    "    - Площадь под кривой AUC-ROC: 0.789\n",
    "    - Значение результата F1 для модели логистической регрессии с class_weight: 0.496\n",
    "    - Площадь под кривой AUC-ROC: 0.789"
   ]
  },
  {
   "cell_type": "markdown",
   "metadata": {},
   "source": [
    "## Тестирование модели"
   ]
  },
  {
   "cell_type": "code",
   "execution_count": 17,
   "metadata": {},
   "outputs": [
    {
     "data": {
      "text/plain": [
       "'Результат модели случайного леса на тестовой выборке: 0.5967365967365967'"
      ]
     },
     "metadata": {},
     "output_type": "display_data"
    }
   ],
   "source": [
    "# объединим обучающие и валидационные выборки \n",
    "features_train_valid = pd.concat([features_train, features_valid])\n",
    "target_train_valid = pd.concat([target_train, target_valid])\n",
    "\n",
    "# обучим модель на выборке полученной соединением обучающей и валидационной\n",
    "model_test = RandomForestClassifier(random_state=57117, n_estimators=8, max_depth=49, min_samples_leaf=5, class_weight='balanced') \n",
    "model_test.fit(features_train_valid, target_train_valid)\n",
    "\n",
    "# тестирование модели случайного леса\n",
    "predictions_test = model_test.predict(features_test) \n",
    "result_test = f1_score(target_test, predictions_test)\n",
    "\n",
    "# выведем результат на экран\n",
    "display(f'Результат модели случайного леса на тестовой выборке: {result_test}')"
   ]
  }
 ],
 "metadata": {
  "ExecuteTimeLog": [
   {
    "duration": 397,
    "start_time": "2022-08-19T08:39:07.483Z"
   },
   {
    "duration": 95,
    "start_time": "2022-08-19T08:39:08.280Z"
   },
   {
    "duration": 58,
    "start_time": "2022-08-19T08:39:12.663Z"
   },
   {
    "duration": 45,
    "start_time": "2022-08-19T08:39:22.689Z"
   },
   {
    "duration": 45,
    "start_time": "2022-08-19T08:41:21.143Z"
   },
   {
    "duration": 57,
    "start_time": "2022-08-19T08:52:21.523Z"
   },
   {
    "duration": 702,
    "start_time": "2022-08-19T08:52:24.568Z"
   },
   {
    "duration": 46,
    "start_time": "2022-08-19T08:52:25.271Z"
   },
   {
    "duration": 44,
    "start_time": "2022-08-19T08:52:26.035Z"
   },
   {
    "duration": 3,
    "start_time": "2022-08-19T08:52:47.191Z"
   },
   {
    "duration": 205,
    "start_time": "2022-08-19T08:54:45.842Z"
   },
   {
    "duration": 46,
    "start_time": "2022-08-19T08:54:58.562Z"
   },
   {
    "duration": 2,
    "start_time": "2022-08-19T08:56:14.313Z"
   },
   {
    "duration": 57,
    "start_time": "2022-08-19T10:32:41.557Z"
   },
   {
    "duration": 41,
    "start_time": "2022-08-19T10:33:03.205Z"
   },
   {
    "duration": 62,
    "start_time": "2022-08-19T10:33:58.093Z"
   },
   {
    "duration": 47,
    "start_time": "2022-08-19T10:34:05.082Z"
   },
   {
    "duration": 38,
    "start_time": "2022-08-19T10:34:10.973Z"
   },
   {
    "duration": 47,
    "start_time": "2022-08-19T10:36:31.811Z"
   },
   {
    "duration": 57,
    "start_time": "2022-08-19T10:36:35.524Z"
   },
   {
    "duration": 65,
    "start_time": "2022-08-19T10:38:37.466Z"
   },
   {
    "duration": 53,
    "start_time": "2022-08-19T10:38:44.008Z"
   },
   {
    "duration": 58,
    "start_time": "2022-08-19T10:38:49.267Z"
   },
   {
    "duration": 41,
    "start_time": "2022-08-19T10:38:57.511Z"
   },
   {
    "duration": 46,
    "start_time": "2022-08-19T10:39:35.050Z"
   },
   {
    "duration": 41,
    "start_time": "2022-08-19T10:40:15.935Z"
   },
   {
    "duration": 46,
    "start_time": "2022-08-19T10:40:47.611Z"
   },
   {
    "duration": 49,
    "start_time": "2022-08-19T10:42:26.434Z"
   },
   {
    "duration": 41,
    "start_time": "2022-08-19T10:42:38.735Z"
   },
   {
    "duration": 49,
    "start_time": "2022-08-19T10:42:47.131Z"
   },
   {
    "duration": 74,
    "start_time": "2022-08-19T10:43:06.561Z"
   },
   {
    "duration": 80,
    "start_time": "2022-08-19T10:43:14.737Z"
   },
   {
    "duration": 53,
    "start_time": "2022-08-19T10:43:42.040Z"
   },
   {
    "duration": 57,
    "start_time": "2022-08-19T10:45:29.903Z"
   },
   {
    "duration": 52,
    "start_time": "2022-08-19T10:46:09.556Z"
   },
   {
    "duration": 303,
    "start_time": "2022-08-19T10:47:08.332Z"
   },
   {
    "duration": 303,
    "start_time": "2022-08-19T10:48:32.936Z"
   },
   {
    "duration": 317,
    "start_time": "2022-08-19T10:49:43.565Z"
   },
   {
    "duration": 87,
    "start_time": "2022-08-19T10:53:04.581Z"
   },
   {
    "duration": 92,
    "start_time": "2022-08-19T10:53:09.481Z"
   },
   {
    "duration": 81,
    "start_time": "2022-08-19T10:53:17.548Z"
   },
   {
    "duration": 1153,
    "start_time": "2022-08-19T10:58:09.034Z"
   },
   {
    "duration": 92,
    "start_time": "2022-08-19T10:58:10.189Z"
   },
   {
    "duration": 6,
    "start_time": "2022-08-19T10:58:10.283Z"
   },
   {
    "duration": 55,
    "start_time": "2022-08-19T10:58:41.610Z"
   },
   {
    "duration": 63,
    "start_time": "2022-08-19T10:58:50.826Z"
   },
   {
    "duration": 63,
    "start_time": "2022-08-19T10:59:21.812Z"
   },
   {
    "duration": 110,
    "start_time": "2022-08-19T11:05:10.374Z"
   },
   {
    "duration": 83,
    "start_time": "2022-08-19T11:05:32.280Z"
   },
   {
    "duration": 72,
    "start_time": "2022-08-19T11:05:55.313Z"
   },
   {
    "duration": 201,
    "start_time": "2022-08-19T11:06:05.968Z"
   },
   {
    "duration": 64,
    "start_time": "2022-08-19T11:06:10.709Z"
   },
   {
    "duration": 70,
    "start_time": "2022-08-19T11:06:26.812Z"
   },
   {
    "duration": 69,
    "start_time": "2022-08-19T11:06:35.713Z"
   },
   {
    "duration": 88,
    "start_time": "2022-08-19T11:07:51.354Z"
   },
   {
    "duration": 88,
    "start_time": "2022-08-19T11:07:59.562Z"
   },
   {
    "duration": 98,
    "start_time": "2022-08-19T11:09:03.135Z"
   },
   {
    "duration": 72,
    "start_time": "2022-08-19T11:09:20.622Z"
   },
   {
    "duration": 82,
    "start_time": "2022-08-19T11:10:02.631Z"
   },
   {
    "duration": 62,
    "start_time": "2022-08-19T11:10:15.111Z"
   },
   {
    "duration": 71,
    "start_time": "2022-08-19T11:17:33.610Z"
   },
   {
    "duration": 59,
    "start_time": "2022-08-19T11:17:39.515Z"
   },
   {
    "duration": 63,
    "start_time": "2022-08-19T11:18:27.685Z"
   },
   {
    "duration": 4,
    "start_time": "2022-08-19T11:20:59.199Z"
   },
   {
    "duration": 12535,
    "start_time": "2022-08-19T11:23:12.748Z"
   },
   {
    "duration": 27,
    "start_time": "2022-08-19T11:35:38.385Z"
   },
   {
    "duration": 3,
    "start_time": "2022-08-19T11:35:55.977Z"
   },
   {
    "duration": 4296,
    "start_time": "2022-08-19T11:35:59.551Z"
   },
   {
    "duration": 2078,
    "start_time": "2022-08-19T11:36:32.250Z"
   },
   {
    "duration": 185,
    "start_time": "2022-08-19T11:36:41.530Z"
   },
   {
    "duration": 48300,
    "start_time": "2022-08-19T11:36:48.474Z"
   },
   {
    "duration": 12225,
    "start_time": "2022-08-19T11:37:43.649Z"
   },
   {
    "duration": 12123,
    "start_time": "2022-08-19T11:38:18.302Z"
   },
   {
    "duration": 210,
    "start_time": "2022-08-19T11:41:39.310Z"
   },
   {
    "duration": 10,
    "start_time": "2022-08-19T11:42:42.843Z"
   },
   {
    "duration": 3,
    "start_time": "2022-08-19T11:43:03.944Z"
   },
   {
    "duration": 54,
    "start_time": "2022-08-19T11:43:07.440Z"
   },
   {
    "duration": 75,
    "start_time": "2022-08-19T11:43:13.111Z"
   },
   {
    "duration": 44,
    "start_time": "2022-08-19T11:43:16.848Z"
   },
   {
    "duration": 9,
    "start_time": "2022-08-19T11:44:43.727Z"
   },
   {
    "duration": 19,
    "start_time": "2022-08-19T11:44:56.582Z"
   },
   {
    "duration": 178,
    "start_time": "2022-08-19T11:45:48.106Z"
   },
   {
    "duration": 17,
    "start_time": "2022-08-19T11:45:52.036Z"
   },
   {
    "duration": 10,
    "start_time": "2022-08-19T11:46:11.504Z"
   },
   {
    "duration": 11,
    "start_time": "2022-08-19T11:46:21.558Z"
   },
   {
    "duration": 15,
    "start_time": "2022-08-19T11:47:04.407Z"
   },
   {
    "duration": 359,
    "start_time": "2022-08-19T11:47:15.135Z"
   },
   {
    "duration": 18,
    "start_time": "2022-08-19T11:48:25.200Z"
   },
   {
    "duration": 4,
    "start_time": "2022-08-19T12:01:08.165Z"
   },
   {
    "duration": 12081,
    "start_time": "2022-08-19T12:02:26.992Z"
   },
   {
    "duration": 201,
    "start_time": "2022-08-19T12:03:01.238Z"
   },
   {
    "duration": 140,
    "start_time": "2022-08-19T12:03:24.765Z"
   },
   {
    "duration": 1114,
    "start_time": "2022-08-23T08:56:24.026Z"
   },
   {
    "duration": 99,
    "start_time": "2022-08-23T08:56:25.142Z"
   },
   {
    "duration": 12944,
    "start_time": "2022-08-23T08:56:25.242Z"
   },
   {
    "duration": 243,
    "start_time": "2022-08-23T08:56:38.187Z"
   },
   {
    "duration": 81,
    "start_time": "2022-08-23T08:56:38.432Z"
   },
   {
    "duration": 131,
    "start_time": "2022-08-23T08:56:42.601Z"
   },
   {
    "duration": 40,
    "start_time": "2022-08-23T08:56:58.389Z"
   },
   {
    "duration": 1049,
    "start_time": "2022-08-23T12:57:42.678Z"
   },
   {
    "duration": 66,
    "start_time": "2022-08-23T12:57:43.728Z"
   },
   {
    "duration": 9907,
    "start_time": "2022-08-23T12:57:43.796Z"
   },
   {
    "duration": 180,
    "start_time": "2022-08-23T12:57:53.710Z"
   },
   {
    "duration": 31,
    "start_time": "2022-08-23T12:57:53.891Z"
   },
   {
    "duration": 39319,
    "start_time": "2022-08-23T12:59:28.324Z"
   },
   {
    "duration": 531,
    "start_time": "2022-08-23T13:00:33.367Z"
   },
   {
    "duration": 208,
    "start_time": "2022-08-23T13:00:42.683Z"
   },
   {
    "duration": 20,
    "start_time": "2022-08-23T13:00:58.317Z"
   },
   {
    "duration": 198,
    "start_time": "2022-08-23T13:03:22.293Z"
   },
   {
    "duration": 175,
    "start_time": "2022-08-23T13:03:32.844Z"
   },
   {
    "duration": 38490,
    "start_time": "2022-08-23T13:03:40.153Z"
   },
   {
    "duration": 39331,
    "start_time": "2022-08-23T13:04:32.227Z"
   },
   {
    "duration": 65,
    "start_time": "2022-08-23T13:05:11.560Z"
   },
   {
    "duration": 25,
    "start_time": "2022-08-23T13:05:42.495Z"
   },
   {
    "duration": 111,
    "start_time": "2022-08-23T13:56:41.329Z"
   },
   {
    "duration": 3,
    "start_time": "2022-08-23T13:57:04.932Z"
   },
   {
    "duration": 16,
    "start_time": "2022-08-23T13:57:08.409Z"
   },
   {
    "duration": 62,
    "start_time": "2022-08-23T13:57:47.881Z"
   },
   {
    "duration": 59,
    "start_time": "2022-08-23T13:57:51.153Z"
   },
   {
    "duration": 18,
    "start_time": "2022-08-23T14:00:47.113Z"
   },
   {
    "duration": 17,
    "start_time": "2022-08-23T14:03:15.672Z"
   },
   {
    "duration": 1029,
    "start_time": "2022-08-23T14:03:34.505Z"
   },
   {
    "duration": 79,
    "start_time": "2022-08-23T14:03:35.536Z"
   },
   {
    "duration": 39522,
    "start_time": "2022-08-23T14:03:35.616Z"
   },
   {
    "duration": 194,
    "start_time": "2022-08-23T14:04:15.140Z"
   },
   {
    "duration": 175,
    "start_time": "2022-08-23T14:04:15.337Z"
   },
   {
    "duration": 145,
    "start_time": "2022-08-23T14:04:15.513Z"
   },
   {
    "duration": 18,
    "start_time": "2022-08-23T14:08:05.585Z"
   },
   {
    "duration": 3,
    "start_time": "2022-08-23T14:08:14.919Z"
   },
   {
    "duration": 17,
    "start_time": "2022-08-23T14:09:39.998Z"
   },
   {
    "duration": 18,
    "start_time": "2022-08-23T14:11:39.262Z"
   },
   {
    "duration": 9,
    "start_time": "2022-08-23T14:12:00.586Z"
   },
   {
    "duration": 4,
    "start_time": "2022-08-23T14:12:14.886Z"
   },
   {
    "duration": 17,
    "start_time": "2022-08-23T14:12:34.636Z"
   },
   {
    "duration": 6,
    "start_time": "2022-08-23T14:13:08.470Z"
   },
   {
    "duration": 5,
    "start_time": "2022-08-23T14:13:17.399Z"
   },
   {
    "duration": 4,
    "start_time": "2022-08-23T14:13:53.261Z"
   },
   {
    "duration": 16,
    "start_time": "2022-08-23T14:13:57.940Z"
   },
   {
    "duration": 19,
    "start_time": "2022-08-23T14:14:51.533Z"
   },
   {
    "duration": 20,
    "start_time": "2022-08-23T14:18:57.541Z"
   },
   {
    "duration": 5,
    "start_time": "2022-08-23T14:20:16.901Z"
   },
   {
    "duration": 20,
    "start_time": "2022-08-23T14:20:30.748Z"
   },
   {
    "duration": 9,
    "start_time": "2022-08-23T14:21:04.156Z"
   },
   {
    "duration": 8,
    "start_time": "2022-08-23T14:25:44.188Z"
   },
   {
    "duration": 20,
    "start_time": "2022-08-23T14:28:23.773Z"
   },
   {
    "duration": 19,
    "start_time": "2022-08-23T14:28:45.148Z"
   },
   {
    "duration": 5,
    "start_time": "2022-08-23T14:29:23.676Z"
   },
   {
    "duration": 18,
    "start_time": "2022-08-23T14:30:00.284Z"
   },
   {
    "duration": 17,
    "start_time": "2022-08-23T14:32:09.011Z"
   },
   {
    "duration": 7,
    "start_time": "2022-08-23T14:32:34.890Z"
   },
   {
    "duration": 8,
    "start_time": "2022-08-23T14:33:27.538Z"
   },
   {
    "duration": 14,
    "start_time": "2022-08-23T14:33:56.906Z"
   },
   {
    "duration": 1048,
    "start_time": "2022-08-23T14:34:14.595Z"
   },
   {
    "duration": 63,
    "start_time": "2022-08-23T14:34:15.645Z"
   },
   {
    "duration": 39170,
    "start_time": "2022-08-23T14:34:15.710Z"
   },
   {
    "duration": 185,
    "start_time": "2022-08-23T14:34:54.882Z"
   },
   {
    "duration": 51,
    "start_time": "2022-08-23T14:34:55.068Z"
   },
   {
    "duration": 200,
    "start_time": "2022-08-23T14:34:55.120Z"
   },
   {
    "duration": 4,
    "start_time": "2022-08-23T14:35:35.821Z"
   },
   {
    "duration": 19,
    "start_time": "2022-08-23T14:35:41.693Z"
   },
   {
    "duration": 18,
    "start_time": "2022-08-23T14:36:16.706Z"
   },
   {
    "duration": 18,
    "start_time": "2022-08-23T14:36:21.829Z"
   },
   {
    "duration": 63,
    "start_time": "2022-08-23T14:37:29.109Z"
   },
   {
    "duration": 68,
    "start_time": "2022-08-23T14:37:36.477Z"
   },
   {
    "duration": 59,
    "start_time": "2022-08-23T14:38:27.304Z"
   },
   {
    "duration": 16,
    "start_time": "2022-08-23T14:40:16.308Z"
   },
   {
    "duration": 17,
    "start_time": "2022-08-23T14:40:32.830Z"
   },
   {
    "duration": 4,
    "start_time": "2022-08-23T14:40:38.189Z"
   },
   {
    "duration": 18,
    "start_time": "2022-08-23T14:40:52.813Z"
   },
   {
    "duration": 49,
    "start_time": "2022-08-24T09:10:23.943Z"
   },
   {
    "duration": 1108,
    "start_time": "2022-08-24T09:10:31.888Z"
   },
   {
    "duration": 112,
    "start_time": "2022-08-24T09:10:32.998Z"
   },
   {
    "duration": 36178,
    "start_time": "2022-08-24T09:10:33.112Z"
   },
   {
    "duration": 174,
    "start_time": "2022-08-24T09:11:09.292Z"
   },
   {
    "duration": 26,
    "start_time": "2022-08-24T09:11:09.467Z"
   },
   {
    "duration": 273,
    "start_time": "2022-08-24T09:11:09.495Z"
   },
   {
    "duration": 1072,
    "start_time": "2022-08-24T09:12:49.169Z"
   },
   {
    "duration": 162,
    "start_time": "2022-08-24T09:12:50.242Z"
   },
   {
    "duration": 0,
    "start_time": "2022-08-24T09:12:50.405Z"
   },
   {
    "duration": 0,
    "start_time": "2022-08-24T09:12:50.406Z"
   },
   {
    "duration": 0,
    "start_time": "2022-08-24T09:12:50.407Z"
   },
   {
    "duration": 0,
    "start_time": "2022-08-24T09:12:50.408Z"
   },
   {
    "duration": 58,
    "start_time": "2022-08-24T09:13:39.307Z"
   },
   {
    "duration": 45415,
    "start_time": "2022-08-24T09:13:43.570Z"
   },
   {
    "duration": 201,
    "start_time": "2022-08-24T09:14:28.988Z"
   },
   {
    "duration": 94,
    "start_time": "2022-08-24T09:14:29.191Z"
   },
   {
    "duration": 103,
    "start_time": "2022-08-24T09:14:29.288Z"
   },
   {
    "duration": 63,
    "start_time": "2022-08-24T09:14:58.411Z"
   },
   {
    "duration": 18,
    "start_time": "2022-08-24T09:16:29.173Z"
   },
   {
    "duration": 21,
    "start_time": "2022-08-24T09:21:23.458Z"
   },
   {
    "duration": 977,
    "start_time": "2022-08-24T09:28:31.020Z"
   },
   {
    "duration": 71,
    "start_time": "2022-08-24T09:28:31.999Z"
   },
   {
    "duration": 35910,
    "start_time": "2022-08-24T09:28:32.071Z"
   },
   {
    "duration": 164,
    "start_time": "2022-08-24T09:29:07.985Z"
   },
   {
    "duration": 41,
    "start_time": "2022-08-24T09:29:08.151Z"
   },
   {
    "duration": 250,
    "start_time": "2022-08-24T09:29:08.193Z"
   },
   {
    "duration": 5,
    "start_time": "2022-08-24T09:29:59.442Z"
   },
   {
    "duration": 715,
    "start_time": "2022-08-24T10:37:50.230Z"
   },
   {
    "duration": 10,
    "start_time": "2022-08-24T10:40:21.518Z"
   },
   {
    "duration": 10,
    "start_time": "2022-08-24T10:40:26.559Z"
   },
   {
    "duration": 769,
    "start_time": "2022-08-24T10:40:38.000Z"
   },
   {
    "duration": 705,
    "start_time": "2022-08-24T10:40:49.239Z"
   },
   {
    "duration": 703,
    "start_time": "2022-08-24T10:41:27.185Z"
   },
   {
    "duration": 719,
    "start_time": "2022-08-24T10:41:35.638Z"
   },
   {
    "duration": 420,
    "start_time": "2022-08-24T10:42:18.775Z"
   },
   {
    "duration": 403,
    "start_time": "2022-08-24T10:44:12.479Z"
   },
   {
    "duration": 29,
    "start_time": "2022-08-24T10:47:17.931Z"
   },
   {
    "duration": 29,
    "start_time": "2022-08-24T10:47:35.970Z"
   },
   {
    "duration": 18,
    "start_time": "2022-08-24T10:49:32.657Z"
   },
   {
    "duration": 19,
    "start_time": "2022-08-24T14:02:52.278Z"
   },
   {
    "duration": 16,
    "start_time": "2022-08-24T14:03:03.319Z"
   },
   {
    "duration": 17,
    "start_time": "2022-08-24T14:03:13.239Z"
   },
   {
    "duration": 11,
    "start_time": "2022-08-24T14:04:09.919Z"
   },
   {
    "duration": 64,
    "start_time": "2022-08-24T14:04:46.814Z"
   },
   {
    "duration": 59,
    "start_time": "2022-08-24T14:12:40.709Z"
   },
   {
    "duration": 72,
    "start_time": "2022-08-24T14:12:53.927Z"
   },
   {
    "duration": 61,
    "start_time": "2022-08-24T14:13:09.999Z"
   },
   {
    "duration": 75,
    "start_time": "2022-08-24T14:13:40.084Z"
   },
   {
    "duration": 62,
    "start_time": "2022-08-24T14:16:00.440Z"
   },
   {
    "duration": 73,
    "start_time": "2022-08-24T14:16:07.821Z"
   },
   {
    "duration": 61,
    "start_time": "2022-08-24T14:16:15.368Z"
   },
   {
    "duration": 68,
    "start_time": "2022-08-24T14:16:26.244Z"
   },
   {
    "duration": 60,
    "start_time": "2022-08-24T14:16:37.124Z"
   },
   {
    "duration": 87,
    "start_time": "2022-08-24T14:16:48.116Z"
   },
   {
    "duration": 78,
    "start_time": "2022-08-24T14:19:26.364Z"
   },
   {
    "duration": 37,
    "start_time": "2022-08-24T14:20:37.975Z"
   },
   {
    "duration": 35610,
    "start_time": "2022-08-24T14:21:04.235Z"
   },
   {
    "duration": 115,
    "start_time": "2022-08-24T14:22:55.374Z"
   },
   {
    "duration": 824,
    "start_time": "2022-08-24T14:24:35.363Z"
   },
   {
    "duration": 1002,
    "start_time": "2022-08-24T14:27:53.291Z"
   },
   {
    "duration": 4,
    "start_time": "2022-08-24T14:28:07.777Z"
   },
   {
    "duration": 939,
    "start_time": "2022-08-24T14:28:11.447Z"
   },
   {
    "duration": 1135,
    "start_time": "2022-08-24T14:28:47.578Z"
   },
   {
    "duration": 1254,
    "start_time": "2022-08-24T14:31:49.241Z"
   },
   {
    "duration": 1363,
    "start_time": "2022-08-24T14:32:08.547Z"
   },
   {
    "duration": 1440,
    "start_time": "2022-08-24T14:32:43.877Z"
   },
   {
    "duration": 1176,
    "start_time": "2022-08-24T14:33:09.945Z"
   },
   {
    "duration": 946,
    "start_time": "2022-08-24T14:38:30.146Z"
   },
   {
    "duration": 3,
    "start_time": "2022-08-24T14:38:54.249Z"
   },
   {
    "duration": 1052,
    "start_time": "2022-08-24T14:39:14.436Z"
   },
   {
    "duration": 1003,
    "start_time": "2022-08-24T14:39:50.586Z"
   },
   {
    "duration": 6,
    "start_time": "2022-08-24T14:40:22.802Z"
   },
   {
    "duration": 1106,
    "start_time": "2022-08-24T14:40:28.653Z"
   },
   {
    "duration": 75,
    "start_time": "2022-08-24T14:40:29.761Z"
   },
   {
    "duration": 37434,
    "start_time": "2022-08-24T14:40:29.838Z"
   },
   {
    "duration": 176,
    "start_time": "2022-08-24T14:41:07.273Z"
   },
   {
    "duration": 39,
    "start_time": "2022-08-24T14:41:07.451Z"
   },
   {
    "duration": 1099,
    "start_time": "2022-08-24T14:41:07.492Z"
   },
   {
    "duration": 530,
    "start_time": "2022-08-24T14:41:08.593Z"
   },
   {
    "duration": 27,
    "start_time": "2022-08-24T14:41:09.124Z"
   },
   {
    "duration": 33,
    "start_time": "2022-08-24T14:41:09.153Z"
   },
   {
    "duration": 1019,
    "start_time": "2022-08-24T14:42:57.575Z"
   },
   {
    "duration": 996,
    "start_time": "2022-08-24T14:43:43.992Z"
   },
   {
    "duration": 11,
    "start_time": "2022-08-24T14:44:37.662Z"
   },
   {
    "duration": 830,
    "start_time": "2022-08-24T14:44:38.766Z"
   },
   {
    "duration": 52,
    "start_time": "2022-08-24T14:44:40.038Z"
   },
   {
    "duration": 82,
    "start_time": "2022-08-24T14:44:41.209Z"
   },
   {
    "duration": 431,
    "start_time": "2022-08-24T14:46:14.248Z"
   },
   {
    "duration": 445,
    "start_time": "2022-08-24T14:46:32.271Z"
   },
   {
    "duration": 954,
    "start_time": "2022-08-25T07:42:39.256Z"
   },
   {
    "duration": 190,
    "start_time": "2022-08-25T07:42:40.213Z"
   },
   {
    "duration": 34337,
    "start_time": "2022-08-25T07:42:40.405Z"
   },
   {
    "duration": 162,
    "start_time": "2022-08-25T07:43:14.744Z"
   },
   {
    "duration": 105,
    "start_time": "2022-08-25T07:43:14.907Z"
   },
   {
    "duration": 100,
    "start_time": "2022-08-25T07:43:15.014Z"
   },
   {
    "duration": 746,
    "start_time": "2022-08-25T07:43:15.115Z"
   },
   {
    "duration": 54,
    "start_time": "2022-08-25T07:43:15.862Z"
   },
   {
    "duration": 98,
    "start_time": "2022-08-25T07:43:15.917Z"
   },
   {
    "duration": 505,
    "start_time": "2022-08-25T07:43:16.108Z"
   },
   {
    "duration": 28,
    "start_time": "2022-08-25T07:43:16.614Z"
   },
   {
    "duration": 15,
    "start_time": "2022-08-25T07:43:16.643Z"
   },
   {
    "duration": 397,
    "start_time": "2022-08-25T07:47:17.087Z"
   },
   {
    "duration": 8,
    "start_time": "2022-08-25T07:47:47.194Z"
   },
   {
    "duration": 9,
    "start_time": "2022-08-25T07:48:13.393Z"
   },
   {
    "duration": 387,
    "start_time": "2022-08-25T07:50:18.097Z"
   },
   {
    "duration": 125,
    "start_time": "2022-08-25T07:51:26.633Z"
   },
   {
    "duration": 122,
    "start_time": "2022-08-25T07:52:15.960Z"
   },
   {
    "duration": 117,
    "start_time": "2022-08-25T07:52:54.448Z"
   },
   {
    "duration": 1282,
    "start_time": "2022-08-25T07:56:13.243Z"
   },
   {
    "duration": 168,
    "start_time": "2022-08-25T07:56:14.527Z"
   },
   {
    "duration": 0,
    "start_time": "2022-08-25T07:56:14.697Z"
   },
   {
    "duration": 0,
    "start_time": "2022-08-25T07:56:14.698Z"
   },
   {
    "duration": 0,
    "start_time": "2022-08-25T07:56:14.700Z"
   },
   {
    "duration": 0,
    "start_time": "2022-08-25T07:56:14.701Z"
   },
   {
    "duration": 0,
    "start_time": "2022-08-25T07:56:14.702Z"
   },
   {
    "duration": 0,
    "start_time": "2022-08-25T07:56:14.702Z"
   },
   {
    "duration": 0,
    "start_time": "2022-08-25T07:56:14.706Z"
   },
   {
    "duration": 0,
    "start_time": "2022-08-25T07:56:14.707Z"
   },
   {
    "duration": 0,
    "start_time": "2022-08-25T07:56:14.708Z"
   },
   {
    "duration": 0,
    "start_time": "2022-08-25T07:56:14.709Z"
   },
   {
    "duration": 0,
    "start_time": "2022-08-25T07:56:14.710Z"
   },
   {
    "duration": 0,
    "start_time": "2022-08-25T07:56:14.711Z"
   },
   {
    "duration": 0,
    "start_time": "2022-08-25T07:56:14.712Z"
   },
   {
    "duration": 59,
    "start_time": "2022-08-25T07:58:59.406Z"
   },
   {
    "duration": 71,
    "start_time": "2022-08-25T07:59:09.389Z"
   },
   {
    "duration": 77,
    "start_time": "2022-08-25T08:00:34.032Z"
   },
   {
    "duration": 71,
    "start_time": "2022-08-25T08:00:58.390Z"
   },
   {
    "duration": 81,
    "start_time": "2022-08-25T08:01:08.869Z"
   },
   {
    "duration": 60,
    "start_time": "2022-08-25T08:02:29.415Z"
   },
   {
    "duration": 1331,
    "start_time": "2022-08-25T08:02:35.431Z"
   },
   {
    "duration": 65,
    "start_time": "2022-08-25T08:02:36.764Z"
   },
   {
    "duration": 33122,
    "start_time": "2022-08-25T08:02:36.831Z"
   },
   {
    "duration": 166,
    "start_time": "2022-08-25T08:03:09.955Z"
   },
   {
    "duration": 20,
    "start_time": "2022-08-25T08:03:10.123Z"
   },
   {
    "duration": 101,
    "start_time": "2022-08-25T08:03:10.207Z"
   },
   {
    "duration": 790,
    "start_time": "2022-08-25T08:03:10.310Z"
   },
   {
    "duration": 142,
    "start_time": "2022-08-25T08:03:11.106Z"
   },
   {
    "duration": 64,
    "start_time": "2022-08-25T08:03:11.251Z"
   },
   {
    "duration": 119,
    "start_time": "2022-08-25T08:03:11.317Z"
   },
   {
    "duration": 177,
    "start_time": "2022-08-25T08:03:11.437Z"
   },
   {
    "duration": 291,
    "start_time": "2022-08-25T08:03:11.617Z"
   },
   {
    "duration": 35,
    "start_time": "2022-08-25T08:03:11.909Z"
   },
   {
    "duration": 7,
    "start_time": "2022-08-25T08:03:11.946Z"
   },
   {
    "duration": 51,
    "start_time": "2022-08-25T08:03:11.955Z"
   },
   {
    "duration": 811,
    "start_time": "2022-08-25T08:04:15.348Z"
   },
   {
    "duration": 3134,
    "start_time": "2022-08-25T08:04:21.712Z"
   },
   {
    "duration": 176,
    "start_time": "2022-08-25T08:04:29.005Z"
   },
   {
    "duration": 3,
    "start_time": "2022-08-25T08:08:41.325Z"
   },
   {
    "duration": 4,
    "start_time": "2022-08-25T08:14:42.799Z"
   },
   {
    "duration": 1220,
    "start_time": "2022-08-25T08:14:47.826Z"
   },
   {
    "duration": 66,
    "start_time": "2022-08-25T08:14:49.047Z"
   },
   {
    "duration": 31906,
    "start_time": "2022-08-25T08:14:49.114Z"
   },
   {
    "duration": 159,
    "start_time": "2022-08-25T08:15:21.022Z"
   },
   {
    "duration": 31,
    "start_time": "2022-08-25T08:15:21.182Z"
   },
   {
    "duration": 192,
    "start_time": "2022-08-25T08:15:21.214Z"
   },
   {
    "duration": 756,
    "start_time": "2022-08-25T08:15:21.408Z"
   },
   {
    "duration": 125,
    "start_time": "2022-08-25T08:15:22.165Z"
   },
   {
    "duration": 56,
    "start_time": "2022-08-25T08:15:22.292Z"
   },
   {
    "duration": 129,
    "start_time": "2022-08-25T08:15:22.350Z"
   },
   {
    "duration": 125,
    "start_time": "2022-08-25T08:15:22.481Z"
   },
   {
    "duration": 200,
    "start_time": "2022-08-25T08:15:22.609Z"
   },
   {
    "duration": 32,
    "start_time": "2022-08-25T08:15:22.811Z"
   },
   {
    "duration": 8,
    "start_time": "2022-08-25T08:15:22.845Z"
   },
   {
    "duration": 12,
    "start_time": "2022-08-25T08:15:22.854Z"
   },
   {
    "duration": 59,
    "start_time": "2022-08-25T08:15:59.322Z"
   },
   {
    "duration": 31670,
    "start_time": "2022-08-25T08:22:28.412Z"
   },
   {
    "duration": 126259,
    "start_time": "2022-08-25T08:23:08.897Z"
   },
   {
    "duration": 31635,
    "start_time": "2022-08-25T08:26:52.311Z"
   },
   {
    "duration": 170,
    "start_time": "2022-08-25T08:29:54.664Z"
   },
   {
    "duration": 151,
    "start_time": "2022-08-25T08:32:07.121Z"
   },
   {
    "duration": 22,
    "start_time": "2022-08-25T08:33:15.137Z"
   },
   {
    "duration": 56,
    "start_time": "2022-08-25T08:34:52.151Z"
   },
   {
    "duration": 20,
    "start_time": "2022-08-25T08:35:01.920Z"
   },
   {
    "duration": 10,
    "start_time": "2022-08-25T08:45:47.117Z"
   },
   {
    "duration": 1215,
    "start_time": "2022-08-25T08:51:22.013Z"
   },
   {
    "duration": 123,
    "start_time": "2022-08-25T08:53:25.565Z"
   },
   {
    "duration": 137,
    "start_time": "2022-08-25T08:57:56.115Z"
   },
   {
    "duration": 114,
    "start_time": "2022-08-25T09:04:47.269Z"
   },
   {
    "duration": 1282,
    "start_time": "2022-08-25T09:27:03.690Z"
   },
   {
    "duration": 54,
    "start_time": "2022-08-25T09:27:34.833Z"
   },
   {
    "duration": 124,
    "start_time": "2022-08-25T09:29:07.794Z"
   },
   {
    "duration": 44,
    "start_time": "2022-08-25T09:33:24.369Z"
   },
   {
    "duration": 106,
    "start_time": "2022-08-25T09:35:56.848Z"
   },
   {
    "duration": 56,
    "start_time": "2022-08-25T09:38:20.432Z"
   },
   {
    "duration": 7,
    "start_time": "2022-08-25T09:39:19.623Z"
   },
   {
    "duration": 9,
    "start_time": "2022-08-25T09:40:25.927Z"
   },
   {
    "duration": 1369,
    "start_time": "2022-08-25T09:40:38.907Z"
   },
   {
    "duration": 73,
    "start_time": "2022-08-25T09:40:40.279Z"
   },
   {
    "duration": 32507,
    "start_time": "2022-08-25T09:40:40.353Z"
   },
   {
    "duration": 165,
    "start_time": "2022-08-25T09:41:12.863Z"
   },
   {
    "duration": 78,
    "start_time": "2022-08-25T09:41:13.030Z"
   },
   {
    "duration": 108,
    "start_time": "2022-08-25T09:41:13.110Z"
   },
   {
    "duration": 1257,
    "start_time": "2022-08-25T09:41:13.220Z"
   },
   {
    "duration": 129,
    "start_time": "2022-08-25T09:41:14.478Z"
   },
   {
    "duration": 51,
    "start_time": "2022-08-25T09:41:14.609Z"
   },
   {
    "duration": 121,
    "start_time": "2022-08-25T09:41:14.662Z"
   },
   {
    "duration": 131,
    "start_time": "2022-08-25T09:41:14.784Z"
   },
   {
    "duration": 306,
    "start_time": "2022-08-25T09:41:14.917Z"
   },
   {
    "duration": 58,
    "start_time": "2022-08-25T09:41:15.224Z"
   },
   {
    "duration": 23,
    "start_time": "2022-08-25T09:41:15.284Z"
   },
   {
    "duration": 11,
    "start_time": "2022-08-25T09:41:15.308Z"
   },
   {
    "duration": 3308,
    "start_time": "2022-08-26T01:15:34.560Z"
   },
   {
    "duration": 229,
    "start_time": "2022-08-26T01:16:02.729Z"
   },
   {
    "duration": 47,
    "start_time": "2022-08-26T01:16:36.062Z"
   },
   {
    "duration": 49,
    "start_time": "2022-08-26T01:16:47.366Z"
   },
   {
    "duration": 52,
    "start_time": "2022-08-26T01:21:57.526Z"
   },
   {
    "duration": 2107,
    "start_time": "2022-08-26T06:15:47.289Z"
   },
   {
    "duration": 170,
    "start_time": "2022-08-26T06:15:49.399Z"
   },
   {
    "duration": 50,
    "start_time": "2022-08-26T06:15:49.571Z"
   },
   {
    "duration": 21,
    "start_time": "2022-08-26T06:15:49.622Z"
   },
   {
    "duration": 121,
    "start_time": "2022-08-26T06:15:49.645Z"
   },
   {
    "duration": 0,
    "start_time": "2022-08-26T06:15:49.768Z"
   },
   {
    "duration": 0,
    "start_time": "2022-08-26T06:15:49.769Z"
   },
   {
    "duration": 0,
    "start_time": "2022-08-26T06:15:49.770Z"
   },
   {
    "duration": 0,
    "start_time": "2022-08-26T06:15:49.771Z"
   },
   {
    "duration": 0,
    "start_time": "2022-08-26T06:15:49.773Z"
   },
   {
    "duration": 0,
    "start_time": "2022-08-26T06:15:49.774Z"
   },
   {
    "duration": 0,
    "start_time": "2022-08-26T06:15:49.775Z"
   },
   {
    "duration": 0,
    "start_time": "2022-08-26T06:15:49.792Z"
   },
   {
    "duration": 0,
    "start_time": "2022-08-26T06:15:49.793Z"
   },
   {
    "duration": 0,
    "start_time": "2022-08-26T06:15:49.794Z"
   },
   {
    "duration": 0,
    "start_time": "2022-08-26T06:15:49.795Z"
   },
   {
    "duration": 0,
    "start_time": "2022-08-26T06:15:49.797Z"
   },
   {
    "duration": 0,
    "start_time": "2022-08-26T06:15:49.798Z"
   },
   {
    "duration": 26,
    "start_time": "2022-08-26T06:16:09.352Z"
   },
   {
    "duration": 19,
    "start_time": "2022-08-26T06:27:14.698Z"
   },
   {
    "duration": 1936,
    "start_time": "2022-08-26T06:57:33.223Z"
   },
   {
    "duration": 58,
    "start_time": "2022-08-26T06:57:35.161Z"
   },
   {
    "duration": 49,
    "start_time": "2022-08-26T06:57:35.221Z"
   },
   {
    "duration": 39154,
    "start_time": "2022-08-26T06:57:35.272Z"
   },
   {
    "duration": 204,
    "start_time": "2022-08-26T06:58:14.428Z"
   },
   {
    "duration": 161,
    "start_time": "2022-08-26T06:58:14.633Z"
   },
   {
    "duration": 16,
    "start_time": "2022-08-26T06:58:14.796Z"
   },
   {
    "duration": 1546,
    "start_time": "2022-08-26T06:58:14.813Z"
   },
   {
    "duration": 154,
    "start_time": "2022-08-26T06:58:16.361Z"
   },
   {
    "duration": 76,
    "start_time": "2022-08-26T06:58:16.518Z"
   },
   {
    "duration": 148,
    "start_time": "2022-08-26T06:58:16.596Z"
   },
   {
    "duration": 154,
    "start_time": "2022-08-26T06:58:16.746Z"
   },
   {
    "duration": 134,
    "start_time": "2022-08-26T06:58:16.991Z"
   },
   {
    "duration": 69,
    "start_time": "2022-08-26T06:58:17.127Z"
   },
   {
    "duration": 8,
    "start_time": "2022-08-26T06:58:17.197Z"
   },
   {
    "duration": 85,
    "start_time": "2022-08-26T06:58:17.207Z"
   },
   {
    "duration": 56,
    "start_time": "2022-08-26T08:53:19.674Z"
   },
   {
    "duration": 1646,
    "start_time": "2022-08-26T08:53:26.741Z"
   },
   {
    "duration": 196,
    "start_time": "2022-08-26T08:53:28.389Z"
   },
   {
    "duration": 16,
    "start_time": "2022-08-26T08:53:28.587Z"
   },
   {
    "duration": 40096,
    "start_time": "2022-08-26T08:53:28.606Z"
   },
   {
    "duration": 200,
    "start_time": "2022-08-26T08:54:08.704Z"
   },
   {
    "duration": 93,
    "start_time": "2022-08-26T08:54:08.905Z"
   },
   {
    "duration": 16,
    "start_time": "2022-08-26T08:54:09.091Z"
   },
   {
    "duration": 1606,
    "start_time": "2022-08-26T08:54:09.109Z"
   },
   {
    "duration": 153,
    "start_time": "2022-08-26T08:54:10.717Z"
   },
   {
    "duration": 77,
    "start_time": "2022-08-26T08:54:10.874Z"
   },
   {
    "duration": 140,
    "start_time": "2022-08-26T08:54:10.953Z"
   },
   {
    "duration": 205,
    "start_time": "2022-08-26T08:54:11.095Z"
   },
   {
    "duration": 169,
    "start_time": "2022-08-26T08:54:11.392Z"
   },
   {
    "duration": 68,
    "start_time": "2022-08-26T08:54:11.563Z"
   },
   {
    "duration": 8,
    "start_time": "2022-08-26T08:54:11.632Z"
   },
   {
    "duration": 58,
    "start_time": "2022-08-26T08:54:11.642Z"
   },
   {
    "duration": 67,
    "start_time": "2022-08-26T08:54:14.709Z"
   },
   {
    "duration": 69,
    "start_time": "2022-08-26T08:54:52.932Z"
   },
   {
    "duration": 63,
    "start_time": "2022-08-26T08:56:15.904Z"
   },
   {
    "duration": 73,
    "start_time": "2022-08-26T08:56:40.580Z"
   },
   {
    "duration": 71,
    "start_time": "2022-08-26T09:06:49.685Z"
   },
   {
    "duration": 1435,
    "start_time": "2022-08-26T09:09:16.292Z"
   },
   {
    "duration": 69,
    "start_time": "2022-08-26T09:09:17.729Z"
   },
   {
    "duration": 15,
    "start_time": "2022-08-26T09:09:17.800Z"
   },
   {
    "duration": 38563,
    "start_time": "2022-08-26T09:09:17.817Z"
   },
   {
    "duration": 164,
    "start_time": "2022-08-26T09:09:56.383Z"
   },
   {
    "duration": 142,
    "start_time": "2022-08-26T09:09:56.549Z"
   },
   {
    "duration": 14,
    "start_time": "2022-08-26T09:09:56.693Z"
   },
   {
    "duration": 1511,
    "start_time": "2022-08-26T09:09:56.708Z"
   },
   {
    "duration": 144,
    "start_time": "2022-08-26T09:09:58.221Z"
   },
   {
    "duration": 64,
    "start_time": "2022-08-26T09:09:58.366Z"
   },
   {
    "duration": 146,
    "start_time": "2022-08-26T09:09:58.432Z"
   },
   {
    "duration": 213,
    "start_time": "2022-08-26T09:09:58.580Z"
   },
   {
    "duration": 231,
    "start_time": "2022-08-26T09:09:58.795Z"
   },
   {
    "duration": 70,
    "start_time": "2022-08-26T09:09:59.029Z"
   },
   {
    "duration": 8,
    "start_time": "2022-08-26T09:09:59.101Z"
   },
   {
    "duration": 82,
    "start_time": "2022-08-26T09:09:59.111Z"
   },
   {
    "duration": 736,
    "start_time": "2022-08-26T09:10:43.789Z"
   },
   {
    "duration": 171,
    "start_time": "2022-08-26T09:11:40.843Z"
   },
   {
    "duration": 67,
    "start_time": "2022-08-26T09:12:21.063Z"
   },
   {
    "duration": 58,
    "start_time": "2022-08-26T09:12:27.855Z"
   },
   {
    "duration": 12,
    "start_time": "2022-08-26T09:15:57.764Z"
   },
   {
    "duration": 5208,
    "start_time": "2022-08-26T09:18:22.237Z"
   },
   {
    "duration": 5722,
    "start_time": "2022-08-26T09:18:51.307Z"
   },
   {
    "duration": 17237,
    "start_time": "2022-08-26T09:19:04.794Z"
   },
   {
    "duration": 54,
    "start_time": "2022-08-26T09:44:36.517Z"
   },
   {
    "duration": 1699782,
    "start_time": "2022-08-26T09:46:18.457Z"
   },
   {
    "duration": 1690503,
    "start_time": "2022-08-26T10:30:08.885Z"
   },
   {
    "duration": 159,
    "start_time": "2022-08-26T10:58:19.549Z"
   },
   {
    "duration": 17179,
    "start_time": "2022-08-26T11:32:44.863Z"
   },
   {
    "duration": 135615,
    "start_time": "2022-08-26T11:34:21.797Z"
   },
   {
    "duration": 5,
    "start_time": "2022-08-26T11:38:32.650Z"
   },
   {
    "duration": 4,
    "start_time": "2022-08-26T11:38:39.738Z"
   },
   {
    "duration": 16,
    "start_time": "2022-08-26T11:39:10.363Z"
   },
   {
    "duration": 4,
    "start_time": "2022-08-26T11:39:27.483Z"
   },
   {
    "duration": 12,
    "start_time": "2022-08-26T11:39:46.114Z"
   },
   {
    "duration": 8,
    "start_time": "2022-08-26T11:40:02.803Z"
   },
   {
    "duration": 6,
    "start_time": "2022-08-26T11:40:22.882Z"
   },
   {
    "duration": 6,
    "start_time": "2022-08-26T11:40:35.131Z"
   },
   {
    "duration": 5,
    "start_time": "2022-08-26T11:40:41.074Z"
   },
   {
    "duration": 6,
    "start_time": "2022-08-26T11:40:58.282Z"
   },
   {
    "duration": 157,
    "start_time": "2022-08-26T11:42:50.281Z"
   },
   {
    "duration": 160,
    "start_time": "2022-08-26T11:43:06.652Z"
   },
   {
    "duration": 179,
    "start_time": "2022-08-26T11:44:27.907Z"
   },
   {
    "duration": 160,
    "start_time": "2022-08-26T11:44:33.636Z"
   },
   {
    "duration": 159,
    "start_time": "2022-08-26T11:45:17.514Z"
   },
   {
    "duration": 155,
    "start_time": "2022-08-26T11:45:27.709Z"
   },
   {
    "duration": 13,
    "start_time": "2022-08-26T11:46:07.535Z"
   },
   {
    "duration": 96,
    "start_time": "2022-08-26T11:46:57.744Z"
   },
   {
    "duration": 462,
    "start_time": "2022-08-26T11:47:05.421Z"
   },
   {
    "duration": 15,
    "start_time": "2022-08-26T11:47:17.441Z"
   },
   {
    "duration": 16,
    "start_time": "2022-08-26T11:47:26.605Z"
   },
   {
    "duration": 626,
    "start_time": "2022-08-26T11:47:28.604Z"
   },
   {
    "duration": 13,
    "start_time": "2022-08-26T11:47:34.617Z"
   },
   {
    "duration": 486,
    "start_time": "2022-08-26T11:47:37.322Z"
   },
   {
    "duration": 134,
    "start_time": "2022-08-26T11:48:53.252Z"
   },
   {
    "duration": 137,
    "start_time": "2022-08-26T11:49:28.107Z"
   },
   {
    "duration": 140,
    "start_time": "2022-08-26T11:49:43.427Z"
   },
   {
    "duration": 163,
    "start_time": "2022-08-26T11:50:01.740Z"
   },
   {
    "duration": 132,
    "start_time": "2022-08-26T11:50:48.573Z"
   },
   {
    "duration": 139,
    "start_time": "2022-08-26T11:52:24.043Z"
   },
   {
    "duration": 137,
    "start_time": "2022-08-26T11:54:50.817Z"
   },
   {
    "duration": 45,
    "start_time": "2022-08-26T11:59:00.119Z"
   },
   {
    "duration": 476,
    "start_time": "2022-08-26T11:59:04.538Z"
   },
   {
    "duration": 453,
    "start_time": "2022-08-26T12:02:23.246Z"
   },
   {
    "duration": 352,
    "start_time": "2022-08-26T12:08:40.633Z"
   },
   {
    "duration": 467,
    "start_time": "2022-08-26T12:09:12.552Z"
   },
   {
    "duration": 201,
    "start_time": "2022-08-26T12:09:51.885Z"
   },
   {
    "duration": 349,
    "start_time": "2022-08-26T12:11:02.423Z"
   },
   {
    "duration": 36,
    "start_time": "2022-08-26T12:12:00.864Z"
   },
   {
    "duration": 36,
    "start_time": "2022-08-26T12:12:20.734Z"
   },
   {
    "duration": 42,
    "start_time": "2022-08-26T12:12:49.280Z"
   },
   {
    "duration": 52,
    "start_time": "2022-08-26T12:20:30.972Z"
   },
   {
    "duration": 51,
    "start_time": "2022-08-26T12:21:20.658Z"
   },
   {
    "duration": 68,
    "start_time": "2022-08-26T12:24:06.640Z"
   },
   {
    "duration": 99,
    "start_time": "2022-08-26T12:25:35.006Z"
   },
   {
    "duration": 172,
    "start_time": "2022-08-26T12:28:06.476Z"
   },
   {
    "duration": 36,
    "start_time": "2022-08-26T12:37:33.860Z"
   },
   {
    "duration": 11,
    "start_time": "2022-08-26T12:37:38.523Z"
   },
   {
    "duration": 96,
    "start_time": "2022-08-26T12:37:40.506Z"
   },
   {
    "duration": 41,
    "start_time": "2022-08-26T13:00:13.832Z"
   },
   {
    "duration": 32,
    "start_time": "2022-08-26T13:00:22.404Z"
   },
   {
    "duration": 12,
    "start_time": "2022-08-26T13:03:58.175Z"
   },
   {
    "duration": 17,
    "start_time": "2022-08-26T13:04:09.111Z"
   },
   {
    "duration": 22,
    "start_time": "2022-08-26T13:04:16.408Z"
   },
   {
    "duration": 58,
    "start_time": "2022-08-26T13:04:23.282Z"
   },
   {
    "duration": 26,
    "start_time": "2022-08-26T13:04:42.881Z"
   },
   {
    "duration": 36,
    "start_time": "2022-08-26T13:04:51.112Z"
   },
   {
    "duration": 47,
    "start_time": "2022-08-26T13:05:23.392Z"
   },
   {
    "duration": 33,
    "start_time": "2022-08-26T13:05:43.140Z"
   },
   {
    "duration": 28,
    "start_time": "2022-08-26T13:06:41.538Z"
   },
   {
    "duration": 162,
    "start_time": "2022-08-26T13:07:28.269Z"
   },
   {
    "duration": 164,
    "start_time": "2022-08-26T13:07:38.425Z"
   },
   {
    "duration": 227,
    "start_time": "2022-08-26T13:07:51.946Z"
   },
   {
    "duration": 175,
    "start_time": "2022-08-26T13:08:05.338Z"
   },
   {
    "duration": 174,
    "start_time": "2022-08-26T13:09:55.182Z"
   },
   {
    "duration": 31,
    "start_time": "2022-08-26T13:11:56.408Z"
   },
   {
    "duration": 17,
    "start_time": "2022-08-26T13:12:01.527Z"
   },
   {
    "duration": 15,
    "start_time": "2022-08-26T13:12:06.237Z"
   },
   {
    "duration": 159,
    "start_time": "2022-08-26T13:12:55.535Z"
   },
   {
    "duration": 176,
    "start_time": "2022-08-26T13:13:05.814Z"
   },
   {
    "duration": 153,
    "start_time": "2022-08-26T13:13:37.727Z"
   },
   {
    "duration": 158,
    "start_time": "2022-08-26T13:13:49.055Z"
   },
   {
    "duration": 151,
    "start_time": "2022-08-26T13:14:06.897Z"
   },
   {
    "duration": 146,
    "start_time": "2022-08-26T13:16:38.055Z"
   },
   {
    "duration": 147,
    "start_time": "2022-08-26T13:16:52.727Z"
   },
   {
    "duration": 138,
    "start_time": "2022-08-26T13:17:07.815Z"
   },
   {
    "duration": 165,
    "start_time": "2022-08-26T13:17:13.215Z"
   },
   {
    "duration": 142,
    "start_time": "2022-08-26T13:17:25.758Z"
   },
   {
    "duration": 162,
    "start_time": "2022-08-26T13:17:33.558Z"
   },
   {
    "duration": 144,
    "start_time": "2022-08-26T13:17:40.923Z"
   },
   {
    "duration": 21,
    "start_time": "2022-08-26T13:17:44.355Z"
   },
   {
    "duration": 355,
    "start_time": "2022-08-26T13:18:13.409Z"
   },
   {
    "duration": 28,
    "start_time": "2022-08-26T13:18:32.743Z"
   },
   {
    "duration": 172,
    "start_time": "2022-08-26T13:19:05.342Z"
   },
   {
    "duration": 364,
    "start_time": "2022-08-26T13:19:53.439Z"
   },
   {
    "duration": 32,
    "start_time": "2022-08-26T13:20:22.018Z"
   },
   {
    "duration": 150,
    "start_time": "2022-08-26T13:20:36.510Z"
   },
   {
    "duration": 144,
    "start_time": "2022-08-26T13:20:43.309Z"
   },
   {
    "duration": 192,
    "start_time": "2022-08-26T13:21:51.374Z"
   },
   {
    "duration": 187,
    "start_time": "2022-08-26T13:22:00.091Z"
   },
   {
    "duration": 152,
    "start_time": "2022-08-26T13:24:45.686Z"
   },
   {
    "duration": 164,
    "start_time": "2022-08-26T13:28:52.049Z"
   },
   {
    "duration": 165,
    "start_time": "2022-08-26T13:34:31.531Z"
   },
   {
    "duration": 160,
    "start_time": "2022-08-26T13:36:40.575Z"
   },
   {
    "duration": 190,
    "start_time": "2022-08-26T13:37:27.571Z"
   },
   {
    "duration": 167,
    "start_time": "2022-08-26T13:37:50.365Z"
   },
   {
    "duration": 159,
    "start_time": "2022-08-26T13:38:40.608Z"
   },
   {
    "duration": 151,
    "start_time": "2022-08-26T13:38:50.678Z"
   },
   {
    "duration": 550,
    "start_time": "2022-08-26T13:38:53.251Z"
   },
   {
    "duration": 397,
    "start_time": "2022-08-26T13:38:59.308Z"
   },
   {
    "duration": 57,
    "start_time": "2022-08-26T13:39:02.859Z"
   },
   {
    "duration": 45,
    "start_time": "2022-08-26T13:39:06.847Z"
   },
   {
    "duration": 91,
    "start_time": "2022-08-26T13:39:10.125Z"
   },
   {
    "duration": 20,
    "start_time": "2022-08-26T13:39:44.252Z"
   },
   {
    "duration": 197,
    "start_time": "2022-08-26T13:40:12.033Z"
   },
   {
    "duration": 170,
    "start_time": "2022-08-26T13:40:23.060Z"
   },
   {
    "duration": 182,
    "start_time": "2022-08-26T13:40:34.086Z"
   },
   {
    "duration": 157,
    "start_time": "2022-08-26T13:40:41.443Z"
   },
   {
    "duration": 153,
    "start_time": "2022-08-26T13:40:51.036Z"
   },
   {
    "duration": 162,
    "start_time": "2022-08-26T13:41:15.658Z"
   },
   {
    "duration": 18,
    "start_time": "2022-08-26T13:41:51.209Z"
   },
   {
    "duration": 17,
    "start_time": "2022-08-26T13:42:01.868Z"
   },
   {
    "duration": 614,
    "start_time": "2022-08-26T13:42:05.731Z"
   },
   {
    "duration": 471,
    "start_time": "2022-08-26T13:42:11.298Z"
   },
   {
    "duration": 38,
    "start_time": "2022-08-26T13:42:28.074Z"
   },
   {
    "duration": 19,
    "start_time": "2022-08-26T13:42:44.077Z"
   },
   {
    "duration": 22,
    "start_time": "2022-08-26T13:42:50.987Z"
   },
   {
    "duration": 36,
    "start_time": "2022-08-26T13:43:01.928Z"
   },
   {
    "duration": 20,
    "start_time": "2022-08-26T13:43:13.729Z"
   },
   {
    "duration": 27,
    "start_time": "2022-08-26T13:43:26.886Z"
   },
   {
    "duration": 22,
    "start_time": "2022-08-26T13:43:36.186Z"
   },
   {
    "duration": 19,
    "start_time": "2022-08-26T13:43:49.204Z"
   },
   {
    "duration": 676,
    "start_time": "2022-08-26T13:44:07.659Z"
   },
   {
    "duration": 497,
    "start_time": "2022-08-26T13:44:30.115Z"
   },
   {
    "duration": 53,
    "start_time": "2022-08-26T13:44:48.875Z"
   },
   {
    "duration": 50,
    "start_time": "2022-08-26T13:44:54.804Z"
   },
   {
    "duration": 55,
    "start_time": "2022-08-26T13:45:04.291Z"
   },
   {
    "duration": 662,
    "start_time": "2022-08-26T13:45:24.426Z"
   },
   {
    "duration": 69,
    "start_time": "2022-08-26T13:45:51.882Z"
   },
   {
    "duration": 43,
    "start_time": "2022-08-26T13:45:55.307Z"
   },
   {
    "duration": 149,
    "start_time": "2022-08-26T13:46:01.067Z"
   },
   {
    "duration": 54,
    "start_time": "2022-08-26T13:46:11.442Z"
   },
   {
    "duration": 161,
    "start_time": "2022-08-26T13:46:17.025Z"
   },
   {
    "duration": 159,
    "start_time": "2022-08-26T13:46:26.628Z"
   },
   {
    "duration": 33,
    "start_time": "2022-08-26T13:46:39.269Z"
   },
   {
    "duration": 10,
    "start_time": "2022-08-26T13:46:45.707Z"
   },
   {
    "duration": 26,
    "start_time": "2022-08-26T13:46:48.268Z"
   },
   {
    "duration": 33,
    "start_time": "2022-08-26T13:46:59.748Z"
   },
   {
    "duration": 15,
    "start_time": "2022-08-26T13:49:02.546Z"
   },
   {
    "duration": 22,
    "start_time": "2022-08-26T13:49:40.619Z"
   },
   {
    "duration": 1438,
    "start_time": "2022-08-29T11:04:25.760Z"
   },
   {
    "duration": 114,
    "start_time": "2022-08-29T11:04:27.200Z"
   },
   {
    "duration": 14,
    "start_time": "2022-08-29T11:04:27.316Z"
   },
   {
    "duration": 1510674,
    "start_time": "2022-08-29T11:04:27.332Z"
   },
   {
    "duration": 174,
    "start_time": "2022-08-29T11:29:38.007Z"
   },
   {
    "duration": 36,
    "start_time": "2022-08-29T11:29:38.182Z"
   },
   {
    "duration": 281,
    "start_time": "2022-08-29T11:29:38.301Z"
   },
   {
    "duration": 18,
    "start_time": "2022-08-29T11:29:38.584Z"
   },
   {
    "duration": 416,
    "start_time": "2022-08-29T11:29:38.604Z"
   },
   {
    "duration": 392,
    "start_time": "2022-08-29T11:29:39.022Z"
   },
   {
    "duration": 36,
    "start_time": "2022-08-29T11:29:39.416Z"
   },
   {
    "duration": 59,
    "start_time": "2022-08-29T11:29:39.453Z"
   },
   {
    "duration": 94,
    "start_time": "2022-08-29T11:29:39.514Z"
   },
   {
    "duration": 296,
    "start_time": "2022-08-29T11:29:39.610Z"
   },
   {
    "duration": 237,
    "start_time": "2022-08-29T11:29:39.910Z"
   },
   {
    "duration": 144,
    "start_time": "2022-08-29T11:29:40.149Z"
   },
   {
    "duration": 32,
    "start_time": "2022-08-29T11:29:40.295Z"
   },
   {
    "duration": 8,
    "start_time": "2022-08-29T11:29:40.330Z"
   },
   {
    "duration": 61,
    "start_time": "2022-08-29T11:29:40.339Z"
   },
   {
    "duration": 383,
    "start_time": "2022-08-29T11:40:45.264Z"
   },
   {
    "duration": 29,
    "start_time": "2022-08-29T11:42:44.641Z"
   },
   {
    "duration": 9,
    "start_time": "2022-08-29T11:43:15.849Z"
   },
   {
    "duration": 11,
    "start_time": "2022-08-29T11:43:18.016Z"
   },
   {
    "duration": 37,
    "start_time": "2022-08-29T11:44:20.088Z"
   },
   {
    "duration": 422,
    "start_time": "2022-08-29T11:45:37.421Z"
   },
   {
    "duration": 390,
    "start_time": "2022-08-29T11:46:17.719Z"
   },
   {
    "duration": 124,
    "start_time": "2022-08-29T11:46:36.227Z"
   },
   {
    "duration": 366,
    "start_time": "2022-08-29T11:46:58.366Z"
   },
   {
    "duration": 396,
    "start_time": "2022-08-29T11:47:16.057Z"
   },
   {
    "duration": 29,
    "start_time": "2022-08-29T11:48:59.825Z"
   },
   {
    "duration": 32,
    "start_time": "2022-08-29T11:49:13.182Z"
   },
   {
    "duration": 12,
    "start_time": "2022-08-29T11:49:17.797Z"
   },
   {
    "duration": 9,
    "start_time": "2022-08-29T11:49:23.444Z"
   },
   {
    "duration": 10,
    "start_time": "2022-08-29T11:49:30.120Z"
   },
   {
    "duration": 9,
    "start_time": "2022-08-29T11:49:37.318Z"
   },
   {
    "duration": 9,
    "start_time": "2022-08-29T11:49:44.594Z"
   },
   {
    "duration": 35,
    "start_time": "2022-08-29T11:49:51.408Z"
   },
   {
    "duration": 31,
    "start_time": "2022-08-29T11:49:57.199Z"
   },
   {
    "duration": 389,
    "start_time": "2022-08-29T11:50:37.625Z"
   },
   {
    "duration": 387,
    "start_time": "2022-08-29T11:50:58.735Z"
   },
   {
    "duration": 19,
    "start_time": "2022-08-29T11:51:23.932Z"
   },
   {
    "duration": 513,
    "start_time": "2022-08-29T11:51:28.502Z"
   },
   {
    "duration": 461,
    "start_time": "2022-08-29T11:51:33.797Z"
   },
   {
    "duration": 51,
    "start_time": "2022-08-29T11:51:38.102Z"
   },
   {
    "duration": 43,
    "start_time": "2022-08-29T11:51:40.830Z"
   },
   {
    "duration": 85,
    "start_time": "2022-08-29T11:51:44.422Z"
   },
   {
    "duration": 42,
    "start_time": "2022-08-29T11:51:47.262Z"
   },
   {
    "duration": 175,
    "start_time": "2022-08-29T11:51:50.038Z"
   },
   {
    "duration": 147,
    "start_time": "2022-08-29T11:51:53.504Z"
   },
   {
    "duration": 37,
    "start_time": "2022-08-29T11:52:03.940Z"
   },
   {
    "duration": 36,
    "start_time": "2022-08-29T11:52:14.957Z"
   },
   {
    "duration": 34,
    "start_time": "2022-08-29T11:52:20.620Z"
   },
   {
    "duration": 17,
    "start_time": "2022-08-29T11:57:08.847Z"
   },
   {
    "duration": 591,
    "start_time": "2022-08-29T11:57:12.096Z"
   },
   {
    "duration": 427,
    "start_time": "2022-08-29T11:57:15.266Z"
   },
   {
    "duration": 46,
    "start_time": "2022-08-29T11:57:28.719Z"
   },
   {
    "duration": 43,
    "start_time": "2022-08-29T11:57:32.922Z"
   },
   {
    "duration": 166,
    "start_time": "2022-08-29T11:57:37.451Z"
   },
   {
    "duration": 121,
    "start_time": "2022-08-29T11:57:42.783Z"
   },
   {
    "duration": 151,
    "start_time": "2022-08-29T11:57:45.621Z"
   },
   {
    "duration": 128,
    "start_time": "2022-08-29T11:57:47.827Z"
   },
   {
    "duration": 31,
    "start_time": "2022-08-29T11:57:52.209Z"
   },
   {
    "duration": 12,
    "start_time": "2022-08-29T11:58:30.932Z"
   },
   {
    "duration": 546,
    "start_time": "2022-08-29T11:59:20.244Z"
   },
   {
    "duration": 389,
    "start_time": "2022-08-29T11:59:22.249Z"
   },
   {
    "duration": 169,
    "start_time": "2022-08-29T12:00:06.602Z"
   },
   {
    "duration": 13,
    "start_time": "2022-08-29T12:00:06.773Z"
   },
   {
    "duration": 702,
    "start_time": "2022-08-29T12:00:06.788Z"
   },
   {
    "duration": 423,
    "start_time": "2022-08-29T12:00:07.501Z"
   },
   {
    "duration": 48,
    "start_time": "2022-08-29T12:00:07.926Z"
   },
   {
    "duration": 62,
    "start_time": "2022-08-29T12:00:07.976Z"
   },
   {
    "duration": 163,
    "start_time": "2022-08-29T12:00:08.040Z"
   },
   {
    "duration": 198,
    "start_time": "2022-08-29T12:00:08.205Z"
   },
   {
    "duration": 240,
    "start_time": "2022-08-29T12:00:08.406Z"
   },
   {
    "duration": 147,
    "start_time": "2022-08-29T12:00:08.647Z"
   },
   {
    "duration": 33,
    "start_time": "2022-08-29T12:00:08.800Z"
   },
   {
    "duration": 13,
    "start_time": "2022-08-29T12:00:50.924Z"
   },
   {
    "duration": 13,
    "start_time": "2022-08-29T12:00:57.492Z"
   },
   {
    "duration": 12,
    "start_time": "2022-08-29T12:00:59.459Z"
   },
   {
    "duration": 14,
    "start_time": "2022-08-29T12:01:11.184Z"
   },
   {
    "duration": 682,
    "start_time": "2022-08-29T12:01:11.201Z"
   },
   {
    "duration": 437,
    "start_time": "2022-08-29T12:01:11.885Z"
   },
   {
    "duration": 49,
    "start_time": "2022-08-29T12:01:12.324Z"
   },
   {
    "duration": 62,
    "start_time": "2022-08-29T12:01:12.374Z"
   },
   {
    "duration": 165,
    "start_time": "2022-08-29T12:01:12.437Z"
   },
   {
    "duration": 204,
    "start_time": "2022-08-29T12:01:12.603Z"
   },
   {
    "duration": 238,
    "start_time": "2022-08-29T12:01:12.809Z"
   },
   {
    "duration": 141,
    "start_time": "2022-08-29T12:01:13.049Z"
   },
   {
    "duration": 33,
    "start_time": "2022-08-29T12:01:13.192Z"
   },
   {
    "duration": 17,
    "start_time": "2022-08-29T12:01:53.927Z"
   },
   {
    "duration": 14,
    "start_time": "2022-08-29T12:01:58.590Z"
   },
   {
    "duration": 753,
    "start_time": "2022-08-29T12:01:58.606Z"
   },
   {
    "duration": 405,
    "start_time": "2022-08-29T12:01:59.361Z"
   },
   {
    "duration": 67,
    "start_time": "2022-08-29T12:01:59.768Z"
   },
   {
    "duration": 63,
    "start_time": "2022-08-29T12:01:59.837Z"
   },
   {
    "duration": 200,
    "start_time": "2022-08-29T12:01:59.902Z"
   },
   {
    "duration": 199,
    "start_time": "2022-08-29T12:02:00.104Z"
   },
   {
    "duration": 235,
    "start_time": "2022-08-29T12:02:00.308Z"
   },
   {
    "duration": 144,
    "start_time": "2022-08-29T12:02:00.545Z"
   },
   {
    "duration": 38,
    "start_time": "2022-08-29T12:02:00.692Z"
   },
   {
    "duration": 13,
    "start_time": "2022-08-29T12:02:13.164Z"
   },
   {
    "duration": 13,
    "start_time": "2022-08-29T12:02:19.022Z"
   },
   {
    "duration": 566,
    "start_time": "2022-08-29T12:02:19.038Z"
   },
   {
    "duration": 397,
    "start_time": "2022-08-29T12:02:19.606Z"
   },
   {
    "duration": 51,
    "start_time": "2022-08-29T12:02:20.005Z"
   },
   {
    "duration": 67,
    "start_time": "2022-08-29T12:02:20.057Z"
   },
   {
    "duration": 175,
    "start_time": "2022-08-29T12:02:20.126Z"
   },
   {
    "duration": 199,
    "start_time": "2022-08-29T12:02:20.303Z"
   },
   {
    "duration": 224,
    "start_time": "2022-08-29T12:02:20.503Z"
   },
   {
    "duration": 142,
    "start_time": "2022-08-29T12:02:20.728Z"
   },
   {
    "duration": 38,
    "start_time": "2022-08-29T12:02:20.872Z"
   },
   {
    "duration": 589,
    "start_time": "2022-08-29T12:02:45.587Z"
   },
   {
    "duration": 32,
    "start_time": "2022-08-29T12:02:52.042Z"
   },
   {
    "duration": 560,
    "start_time": "2022-08-29T12:03:06.221Z"
   },
   {
    "duration": 545,
    "start_time": "2022-08-29T12:03:42.435Z"
   },
   {
    "duration": 395,
    "start_time": "2022-08-29T12:04:33.098Z"
   },
   {
    "duration": 30,
    "start_time": "2022-08-29T12:04:39.972Z"
   },
   {
    "duration": 555,
    "start_time": "2022-08-29T12:05:37.387Z"
   },
   {
    "duration": 12,
    "start_time": "2022-08-29T12:06:29.097Z"
   },
   {
    "duration": 512,
    "start_time": "2022-08-29T12:07:27.194Z"
   },
   {
    "duration": 31,
    "start_time": "2022-08-29T12:07:34.827Z"
   },
   {
    "duration": 357,
    "start_time": "2022-08-29T12:07:55.969Z"
   },
   {
    "duration": 138,
    "start_time": "2022-08-29T12:08:11.140Z"
   },
   {
    "duration": 132,
    "start_time": "2022-08-29T12:08:13.481Z"
   },
   {
    "duration": 32,
    "start_time": "2022-08-29T12:08:19.895Z"
   },
   {
    "duration": 164,
    "start_time": "2022-08-29T12:15:41.702Z"
   },
   {
    "duration": 12,
    "start_time": "2022-08-29T12:15:41.868Z"
   },
   {
    "duration": 526,
    "start_time": "2022-08-29T12:15:41.882Z"
   },
   {
    "duration": 459,
    "start_time": "2022-08-29T12:15:42.410Z"
   },
   {
    "duration": 53,
    "start_time": "2022-08-29T12:15:42.871Z"
   },
   {
    "duration": 36,
    "start_time": "2022-08-29T12:15:42.926Z"
   },
   {
    "duration": 144,
    "start_time": "2022-08-29T12:15:42.963Z"
   },
   {
    "duration": 293,
    "start_time": "2022-08-29T12:15:43.109Z"
   },
   {
    "duration": 230,
    "start_time": "2022-08-29T12:15:43.407Z"
   },
   {
    "duration": 130,
    "start_time": "2022-08-29T12:15:43.639Z"
   },
   {
    "duration": 35,
    "start_time": "2022-08-29T12:15:43.771Z"
   },
   {
    "duration": 27,
    "start_time": "2022-08-29T12:17:20.530Z"
   },
   {
    "duration": 33,
    "start_time": "2022-08-29T12:17:27.584Z"
   },
   {
    "duration": 55,
    "start_time": "2022-08-30T11:12:41.832Z"
   },
   {
    "duration": 1469,
    "start_time": "2022-08-30T11:13:35.790Z"
   },
   {
    "duration": 111,
    "start_time": "2022-08-30T11:13:37.261Z"
   },
   {
    "duration": 12,
    "start_time": "2022-08-30T11:13:37.374Z"
   },
   {
    "duration": 1272716,
    "start_time": "2022-08-30T11:13:37.388Z"
   },
   {
    "duration": 141,
    "start_time": "2022-08-30T11:34:50.106Z"
   },
   {
    "duration": 150,
    "start_time": "2022-08-30T11:34:50.249Z"
   },
   {
    "duration": 207,
    "start_time": "2022-08-30T11:34:50.401Z"
   },
   {
    "duration": 12,
    "start_time": "2022-08-30T11:34:50.610Z"
   },
   {
    "duration": 382,
    "start_time": "2022-08-30T11:34:50.624Z"
   },
   {
    "duration": 339,
    "start_time": "2022-08-30T11:34:51.008Z"
   },
   {
    "duration": 36,
    "start_time": "2022-08-30T11:34:51.349Z"
   },
   {
    "duration": 45,
    "start_time": "2022-08-30T11:34:51.401Z"
   },
   {
    "duration": 155,
    "start_time": "2022-08-30T11:34:51.447Z"
   },
   {
    "duration": 124,
    "start_time": "2022-08-30T11:34:51.605Z"
   },
   {
    "duration": 219,
    "start_time": "2022-08-30T11:34:51.801Z"
   },
   {
    "duration": 127,
    "start_time": "2022-08-30T11:34:52.022Z"
   },
   {
    "duration": 27,
    "start_time": "2022-08-30T11:34:52.151Z"
   },
   {
    "duration": 1281,
    "start_time": "2022-08-30T12:08:24.065Z"
   },
   {
    "duration": 62,
    "start_time": "2022-08-30T12:08:25.348Z"
   },
   {
    "duration": 13,
    "start_time": "2022-08-30T12:08:25.414Z"
   },
   {
    "duration": 13751,
    "start_time": "2022-08-30T12:08:25.428Z"
   },
   {
    "duration": 136,
    "start_time": "2022-08-30T12:08:39.181Z"
   },
   {
    "duration": 89,
    "start_time": "2022-08-30T12:08:39.318Z"
   },
   {
    "duration": 262,
    "start_time": "2022-08-30T12:08:39.409Z"
   },
   {
    "duration": 12,
    "start_time": "2022-08-30T12:08:39.672Z"
   },
   {
    "duration": 424,
    "start_time": "2022-08-30T12:08:39.686Z"
   },
   {
    "duration": 374,
    "start_time": "2022-08-30T12:08:40.112Z"
   },
   {
    "duration": 47,
    "start_time": "2022-08-30T12:08:40.487Z"
   },
   {
    "duration": 38,
    "start_time": "2022-08-30T12:08:40.535Z"
   },
   {
    "duration": 132,
    "start_time": "2022-08-30T12:08:40.575Z"
   },
   {
    "duration": 107,
    "start_time": "2022-08-30T12:08:40.799Z"
   },
   {
    "duration": 279,
    "start_time": "2022-08-30T12:08:40.907Z"
   },
   {
    "duration": 225,
    "start_time": "2022-08-30T12:08:41.189Z"
   },
   {
    "duration": 36,
    "start_time": "2022-08-30T12:08:41.416Z"
   },
   {
    "duration": 254,
    "start_time": "2022-08-30T12:10:28.663Z"
   },
   {
    "duration": 31,
    "start_time": "2022-08-30T12:11:02.854Z"
   },
   {
    "duration": 123,
    "start_time": "2022-08-30T12:11:49.877Z"
   },
   {
    "duration": 138,
    "start_time": "2022-08-30T12:11:58.437Z"
   },
   {
    "duration": 168,
    "start_time": "2022-08-30T12:12:01.335Z"
   },
   {
    "duration": 25,
    "start_time": "2022-08-30T12:17:57.662Z"
   },
   {
    "duration": 26,
    "start_time": "2022-08-30T12:18:58.770Z"
   },
   {
    "duration": 28,
    "start_time": "2022-08-30T12:19:07.434Z"
   },
   {
    "duration": 27,
    "start_time": "2022-08-30T12:19:53.177Z"
   },
   {
    "duration": 153,
    "start_time": "2022-08-30T12:40:16.490Z"
   },
   {
    "duration": 155,
    "start_time": "2022-08-30T12:40:44.242Z"
   },
   {
    "duration": 153,
    "start_time": "2022-08-30T12:40:52.072Z"
   },
   {
    "duration": 85,
    "start_time": "2022-08-30T12:42:25.146Z"
   },
   {
    "duration": 79,
    "start_time": "2022-08-30T12:42:31.491Z"
   },
   {
    "duration": 152,
    "start_time": "2022-08-30T12:43:19.482Z"
   },
   {
    "duration": 149,
    "start_time": "2022-08-30T12:43:22.265Z"
   },
   {
    "duration": 66,
    "start_time": "2022-08-30T12:45:26.463Z"
   },
   {
    "duration": 72,
    "start_time": "2022-08-30T12:46:16.740Z"
   },
   {
    "duration": 72,
    "start_time": "2022-08-30T12:46:58.123Z"
   },
   {
    "duration": 67,
    "start_time": "2022-08-30T12:47:04.642Z"
   },
   {
    "duration": 11,
    "start_time": "2022-08-30T12:47:35.619Z"
   },
   {
    "duration": 74,
    "start_time": "2022-08-30T12:47:43.282Z"
   },
   {
    "duration": 1272,
    "start_time": "2022-08-30T12:47:51.454Z"
   },
   {
    "duration": 64,
    "start_time": "2022-08-30T12:47:52.728Z"
   },
   {
    "duration": 14,
    "start_time": "2022-08-30T12:47:52.793Z"
   },
   {
    "duration": 13587,
    "start_time": "2022-08-30T12:47:52.810Z"
   },
   {
    "duration": 141,
    "start_time": "2022-08-30T12:48:06.399Z"
   },
   {
    "duration": 66,
    "start_time": "2022-08-30T12:48:06.542Z"
   },
   {
    "duration": 255,
    "start_time": "2022-08-30T12:48:06.610Z"
   },
   {
    "duration": 12,
    "start_time": "2022-08-30T12:48:06.867Z"
   },
   {
    "duration": 108,
    "start_time": "2022-08-30T12:48:06.880Z"
   },
   {
    "duration": 75,
    "start_time": "2022-08-30T12:48:06.999Z"
   },
   {
    "duration": 50,
    "start_time": "2022-08-30T12:48:07.076Z"
   },
   {
    "duration": 32,
    "start_time": "2022-08-30T12:48:07.127Z"
   },
   {
    "duration": 140,
    "start_time": "2022-08-30T12:48:07.161Z"
   },
   {
    "duration": 199,
    "start_time": "2022-08-30T12:48:07.303Z"
   },
   {
    "duration": 250,
    "start_time": "2022-08-30T12:48:07.504Z"
   },
   {
    "duration": 243,
    "start_time": "2022-08-30T12:48:07.757Z"
   },
   {
    "duration": 79,
    "start_time": "2022-08-30T12:48:08.001Z"
   },
   {
    "duration": 56,
    "start_time": "2022-08-30T12:55:35.366Z"
   },
   {
    "duration": 67,
    "start_time": "2022-08-30T12:55:39.307Z"
   },
   {
    "duration": 1288,
    "start_time": "2022-10-01T23:09:00.439Z"
   },
   {
    "duration": 186,
    "start_time": "2022-10-01T23:09:01.729Z"
   },
   {
    "duration": 13,
    "start_time": "2022-10-01T23:09:01.917Z"
   },
   {
    "duration": 12128,
    "start_time": "2022-10-01T23:09:01.932Z"
   },
   {
    "duration": 131,
    "start_time": "2022-10-01T23:09:14.061Z"
   },
   {
    "duration": 130,
    "start_time": "2022-10-01T23:09:14.193Z"
   },
   {
    "duration": 225,
    "start_time": "2022-10-01T23:09:14.325Z"
   },
   {
    "duration": 11,
    "start_time": "2022-10-01T23:09:14.552Z"
   },
   {
    "duration": 99,
    "start_time": "2022-10-01T23:09:14.564Z"
   },
   {
    "duration": 84,
    "start_time": "2022-10-01T23:09:14.666Z"
   },
   {
    "duration": 36,
    "start_time": "2022-10-01T23:09:14.752Z"
   },
   {
    "duration": 48,
    "start_time": "2022-10-01T23:09:14.789Z"
   },
   {
    "duration": 93,
    "start_time": "2022-10-01T23:09:14.838Z"
   },
   {
    "duration": 201,
    "start_time": "2022-10-01T23:09:15.023Z"
   },
   {
    "duration": 250,
    "start_time": "2022-10-01T23:09:15.225Z"
   },
   {
    "duration": 202,
    "start_time": "2022-10-01T23:09:15.477Z"
   },
   {
    "duration": 69,
    "start_time": "2022-10-01T23:09:15.680Z"
   },
   {
    "duration": 101,
    "start_time": "2022-10-01T23:09:15.751Z"
   },
   {
    "duration": 2504,
    "start_time": "2022-10-01T23:09:24.988Z"
   },
   {
    "duration": 11,
    "start_time": "2022-10-01T23:11:18.717Z"
   },
   {
    "duration": 11,
    "start_time": "2022-10-01T23:12:24.447Z"
   },
   {
    "duration": 676,
    "start_time": "2022-10-01T23:12:45.248Z"
   },
   {
    "duration": 2441,
    "start_time": "2022-10-01T23:13:08.807Z"
   },
   {
    "duration": 599,
    "start_time": "2022-10-01T23:13:55.071Z"
   },
   {
    "duration": 601,
    "start_time": "2022-10-01T23:14:18.855Z"
   },
   {
    "duration": 48,
    "start_time": "2022-10-02T19:55:20.667Z"
   }
  ],
  "kernelspec": {
   "display_name": "Python 3 (ipykernel)",
   "language": "python",
   "name": "python3"
  },
  "language_info": {
   "codemirror_mode": {
    "name": "ipython",
    "version": 3
   },
   "file_extension": ".py",
   "mimetype": "text/x-python",
   "name": "python",
   "nbconvert_exporter": "python",
   "pygments_lexer": "ipython3",
   "version": "3.9.18"
  },
  "toc": {
   "base_numbering": 1,
   "nav_menu": {},
   "number_sections": true,
   "sideBar": true,
   "skip_h1_title": true,
   "title_cell": "Содержание",
   "title_sidebar": "Contents",
   "toc_cell": true,
   "toc_position": {
    "height": "calc(100% - 180px)",
    "left": "10px",
    "top": "150px",
    "width": "366.188px"
   },
   "toc_section_display": true,
   "toc_window_display": true
  }
 },
 "nbformat": 4,
 "nbformat_minor": 2
}
