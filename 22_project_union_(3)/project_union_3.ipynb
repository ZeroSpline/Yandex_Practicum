{
 "cells": [
  {
   "cell_type": "code",
   "execution_count": 1,
   "id": "0ea64127",
   "metadata": {},
   "outputs": [
    {
     "name": "stdout",
     "output_type": "stream",
     "text": [
      "Collecting scorch\n",
      "  Downloading scorch-0.2.0-py3-none-any.whl (16 kB)\n",
      "Requirement already satisfied: tqdm in /opt/conda/lib/python3.9/site-packages (from scorch) (4.61.2)\n",
      "Collecting docopt-ng>=0.7\n",
      "  Downloading docopt_ng-0.8.1-py2.py3-none-any.whl (16 kB)\n",
      "Requirement already satisfied: numpy in /opt/conda/lib/python3.9/site-packages (from scorch) (1.21.1)\n",
      "Requirement already satisfied: scipy>=0.17.0 in /opt/conda/lib/python3.9/site-packages (from scorch) (1.9.1)\n",
      "Installing collected packages: docopt-ng, scorch\n",
      "Successfully installed docopt-ng-0.8.1 scorch-0.2.0\n"
     ]
    }
   ],
   "source": [
    "!pip install scorch"
   ]
  },
  {
   "cell_type": "code",
   "execution_count": 2,
   "id": "553a3ba5",
   "metadata": {},
   "outputs": [
    {
     "name": "stdout",
     "output_type": "stream",
     "text": [
      "Collecting package metadata (current_repodata.json): done\n",
      "Solving environment: done\n",
      "\n",
      "\n",
      "==> WARNING: A newer version of conda exists. <==\n",
      "  current version: 4.10.2\n",
      "  latest version: 23.3.1\n",
      "\n",
      "Please update conda by running\n",
      "\n",
      "    $ conda update -n base conda\n",
      "\n",
      "\n",
      "\n",
      "## Package Plan ##\n",
      "\n",
      "  environment location: /opt/conda\n",
      "\n",
      "  added / updated specs:\n",
      "    - skorch\n",
      "\n",
      "\n",
      "The following packages will be downloaded:\n",
      "\n",
      "    package                    |            build\n",
      "    ---------------------------|-----------------\n",
      "    ca-certificates-2022.12.7  |       ha878542_0         143 KB  conda-forge\n",
      "    certifi-2022.12.7          |     pyhd8ed1ab_0         147 KB  conda-forge\n",
      "    joblib-1.2.0               |     pyhd8ed1ab_0         205 KB  conda-forge\n",
      "    scikit-learn-0.24.2        |   py39h4dfa638_0         7.6 MB  conda-forge\n",
      "    scipy-1.6.3                |   py39hee8e79c_0        20.7 MB  conda-forge\n",
      "    skorch-0.9.0               |     pyh7b7c402_0          93 KB  conda-forge\n",
      "    tabulate-0.9.0             |     pyhd8ed1ab_1          35 KB  conda-forge\n",
      "    threadpoolctl-3.1.0        |     pyh8a188c0_0          18 KB  conda-forge\n",
      "    ------------------------------------------------------------\n",
      "                                           Total:        28.9 MB\n",
      "\n",
      "The following NEW packages will be INSTALLED:\n",
      "\n",
      "  joblib             conda-forge/noarch::joblib-1.2.0-pyhd8ed1ab_0\n",
      "  scikit-learn       conda-forge/linux-64::scikit-learn-0.24.2-py39h4dfa638_0\n",
      "  scipy              conda-forge/linux-64::scipy-1.6.3-py39hee8e79c_0\n",
      "  skorch             conda-forge/noarch::skorch-0.9.0-pyh7b7c402_0\n",
      "  tabulate           conda-forge/noarch::tabulate-0.9.0-pyhd8ed1ab_1\n",
      "  threadpoolctl      conda-forge/noarch::threadpoolctl-3.1.0-pyh8a188c0_0\n",
      "\n",
      "The following packages will be UPDATED:\n",
      "\n",
      "  ca-certificates                      2022.6.15-ha878542_0 --> 2022.12.7-ha878542_0\n",
      "  certifi                            2022.6.15-pyhd8ed1ab_1 --> 2022.12.7-pyhd8ed1ab_0\n",
      "\n",
      "\n",
      "\n",
      "Downloading and Extracting Packages\n",
      "tabulate-0.9.0       | 35 KB     | ##################################### | 100% \n",
      "skorch-0.9.0         | 93 KB     | ##################################### | 100% \n",
      "ca-certificates-2022 | 143 KB    | ##################################### | 100% \n",
      "threadpoolctl-3.1.0  | 18 KB     | ##################################### | 100% \n",
      "scipy-1.6.3          | 20.7 MB   | ##################################### | 100% \n",
      "joblib-1.2.0         | 205 KB    | ##################################### | 100% \n",
      "scikit-learn-0.24.2  | 7.6 MB    | ##################################### | 100% \n",
      "certifi-2022.12.7    | 147 KB    | ##################################### | 100% \n",
      "Preparing transaction: done\n",
      "Verifying transaction: done\n",
      "Executing transaction: done\n",
      "\n",
      "Note: you may need to restart the kernel to use updated packages.\n"
     ]
    }
   ],
   "source": [
    "conda install -c conda-forge skorch"
   ]
  },
  {
   "cell_type": "code",
   "execution_count": 3,
   "id": "9fac341b",
   "metadata": {},
   "outputs": [],
   "source": [
    "# импорт библиотек\n",
    "import pandas as pd\n",
    "import matplotlib.pyplot as plt\n",
    "import seaborn as sns\n",
    "from sqlalchemy import create_engine\n",
    "import numpy as np\n",
    "from sklearn.preprocessing import StandardScaler, OneHotEncoder\n",
    "from sklearn.model_selection import train_test_split\n",
    "import warnings\n",
    "from sklearn.linear_model import LogisticRegression\n",
    "from sklearn.model_selection import GridSearchCV\n",
    "from sklearn.ensemble import RandomForestClassifier\n",
    "from catboost import CatBoostClassifier\n",
    "from lightgbm import LGBMClassifier\n",
    "from sklearn.utils import compute_class_weight\n",
    "import time\n",
    "import torch\n",
    "import torch.nn as nn\n",
    "import random\n",
    "from sklearn. metrics import f1_score, roc_curve, roc_auc_score\n",
    "import scorch\n",
    "from skorch import NeuralNetBinaryClassifier\n",
    "from sklearn.model_selection import RandomizedSearchCV\n",
    "from sklearn.metrics import confusion_matrix, recall_score, precision_score, precision_recall_curve"
   ]
  },
  {
   "cell_type": "markdown",
   "id": "dc0e2666",
   "metadata": {
    "ExecuteTime": {
     "end_time": "2022-05-05T04:58:05.692448Z",
     "start_time": "2022-05-05T04:58:05.688565Z"
    }
   },
   "source": [
    "## Подключитесь к базе. Загрузите таблицы sql"
   ]
  },
  {
   "cell_type": "code",
   "execution_count": 4,
   "id": "3f70b580",
   "metadata": {},
   "outputs": [],
   "source": [
    "db_config = {\n",
    "    'user': 'praktikum_student', \n",
    "    # имя пользователя,\n",
    "    'pwd': 'Sdf4$2;d-d30pp', \n",
    "    # пароль,\n",
    "    'host': 'rc1b-wcoijxj3yxfsf3fs.mdb.yandexcloud.net',\n",
    "    'port': 6432, \n",
    "    # порт подключения,\n",
    "    'db': 'data-science-vehicle-db' \n",
    "    # название базы данных,\n",
    "}  \n",
    "\n",
    "connection_string = 'postgresql://{}:{}@{}:{}/{}'.format(\n",
    "    db_config['user'],\n",
    "    db_config['pwd'],\n",
    "    db_config['host'],\n",
    "    db_config['port'],\n",
    "    db_config['db'],\n",
    ")\n",
    "# создание подключения\n",
    "engine = create_engine(connection_string) "
   ]
  },
  {
   "cell_type": "markdown",
   "id": "549cdb49",
   "metadata": {},
   "source": [
    "### Вывод"
   ]
  },
  {
   "cell_type": "markdown",
   "id": "f60c5eac",
   "metadata": {},
   "source": [
    "Подключение к базе выполнено успешно."
   ]
  },
  {
   "cell_type": "markdown",
   "id": "bffe61ba",
   "metadata": {},
   "source": [
    "## Проведите первичное исследование таблиц"
   ]
  },
  {
   "cell_type": "markdown",
   "id": "a794ee17",
   "metadata": {},
   "source": [
    "### Таблица vehicles"
   ]
  },
  {
   "cell_type": "code",
   "execution_count": 5,
   "id": "b67403c5",
   "metadata": {},
   "outputs": [
    {
     "data": {
      "text/html": [
       "<div>\n",
       "<style scoped>\n",
       "    .dataframe tbody tr th:only-of-type {\n",
       "        vertical-align: middle;\n",
       "    }\n",
       "\n",
       "    .dataframe tbody tr th {\n",
       "        vertical-align: top;\n",
       "    }\n",
       "\n",
       "    .dataframe thead th {\n",
       "        text-align: right;\n",
       "    }\n",
       "</style>\n",
       "<table border=\"1\" class=\"dataframe\">\n",
       "  <thead>\n",
       "    <tr style=\"text-align: right;\">\n",
       "      <th></th>\n",
       "      <th>id</th>\n",
       "      <th>case_id</th>\n",
       "      <th>party_number</th>\n",
       "      <th>vehicle_type</th>\n",
       "      <th>vehicle_transmission</th>\n",
       "      <th>vehicle_age</th>\n",
       "    </tr>\n",
       "  </thead>\n",
       "  <tbody>\n",
       "    <tr>\n",
       "      <th>0</th>\n",
       "      <td>1175713</td>\n",
       "      <td>5305032</td>\n",
       "      <td>2</td>\n",
       "      <td>sedan</td>\n",
       "      <td>manual</td>\n",
       "      <td>3.0</td>\n",
       "    </tr>\n",
       "    <tr>\n",
       "      <th>1</th>\n",
       "      <td>1</td>\n",
       "      <td>3858022</td>\n",
       "      <td>1</td>\n",
       "      <td>sedan</td>\n",
       "      <td>auto</td>\n",
       "      <td>3.0</td>\n",
       "    </tr>\n",
       "    <tr>\n",
       "      <th>2</th>\n",
       "      <td>1175712</td>\n",
       "      <td>5305030</td>\n",
       "      <td>1</td>\n",
       "      <td>sedan</td>\n",
       "      <td>auto</td>\n",
       "      <td>3.0</td>\n",
       "    </tr>\n",
       "  </tbody>\n",
       "</table>\n",
       "</div>"
      ],
      "text/plain": [
       "        id  case_id  party_number vehicle_type vehicle_transmission  \\\n",
       "0  1175713  5305032             2        sedan               manual   \n",
       "1        1  3858022             1        sedan                 auto   \n",
       "2  1175712  5305030             1        sedan                 auto   \n",
       "\n",
       "   vehicle_age  \n",
       "0          3.0  \n",
       "1          3.0  \n",
       "2          3.0  "
      ]
     },
     "metadata": {},
     "output_type": "display_data"
    },
    {
     "name": "stdout",
     "output_type": "stream",
     "text": [
      "<class 'pandas.core.frame.DataFrame'>\n",
      "RangeIndex: 1021234 entries, 0 to 1021233\n",
      "Data columns (total 6 columns):\n",
      " #   Column                Non-Null Count    Dtype  \n",
      "---  ------                --------------    -----  \n",
      " 0   id                    1021234 non-null  int64  \n",
      " 1   case_id               1021234 non-null  object \n",
      " 2   party_number          1021234 non-null  int64  \n",
      " 3   vehicle_type          1021234 non-null  object \n",
      " 4   vehicle_transmission  997575 non-null   object \n",
      " 5   vehicle_age           996652 non-null   float64\n",
      "dtypes: float64(1), int64(2), object(3)\n",
      "memory usage: 46.7+ MB\n"
     ]
    },
    {
     "data": {
      "text/plain": [
       "None"
      ]
     },
     "metadata": {},
     "output_type": "display_data"
    }
   ],
   "source": [
    "# проверка работы запроса\n",
    "query1 = '''\n",
    "SELECT *\n",
    "FROM vehicles;\n",
    "'''\n",
    "# выведем первую таблицу\n",
    "sample_df1 = pd.read_sql_query(query1, con=engine) \n",
    "display(sample_df1.head(3))\n",
    "# выведем общую информацию\n",
    "display(sample_df1.info())"
   ]
  },
  {
   "cell_type": "code",
   "execution_count": 6,
   "id": "ee465767",
   "metadata": {
    "scrolled": true
   },
   "outputs": [
    {
     "data": {
      "text/plain": [
       "id                          0\n",
       "case_id                     0\n",
       "party_number                0\n",
       "vehicle_type                0\n",
       "vehicle_transmission    23659\n",
       "vehicle_age             24582\n",
       "dtype: int64"
      ]
     },
     "metadata": {},
     "output_type": "display_data"
    }
   ],
   "source": [
    "# выведем информацию о наличии пропусков\n",
    "display(sample_df1.isnull().sum())"
   ]
  },
  {
   "cell_type": "markdown",
   "id": "2f4ab7c6",
   "metadata": {},
   "source": [
    "### Таблица collisions"
   ]
  },
  {
   "cell_type": "code",
   "execution_count": 7,
   "id": "f349406b",
   "metadata": {},
   "outputs": [
    {
     "data": {
      "text/html": [
       "<div>\n",
       "<style scoped>\n",
       "    .dataframe tbody tr th:only-of-type {\n",
       "        vertical-align: middle;\n",
       "    }\n",
       "\n",
       "    .dataframe tbody tr th {\n",
       "        vertical-align: top;\n",
       "    }\n",
       "\n",
       "    .dataframe thead th {\n",
       "        text-align: right;\n",
       "    }\n",
       "</style>\n",
       "<table border=\"1\" class=\"dataframe\">\n",
       "  <thead>\n",
       "    <tr style=\"text-align: right;\">\n",
       "      <th></th>\n",
       "      <th>case_id</th>\n",
       "      <th>county_city_location</th>\n",
       "      <th>county_location</th>\n",
       "      <th>distance</th>\n",
       "      <th>direction</th>\n",
       "      <th>intersection</th>\n",
       "      <th>weather_1</th>\n",
       "      <th>location_type</th>\n",
       "      <th>collision_damage</th>\n",
       "      <th>party_count</th>\n",
       "      <th>primary_collision_factor</th>\n",
       "      <th>pcf_violation_category</th>\n",
       "      <th>type_of_collision</th>\n",
       "      <th>motor_vehicle_involved_with</th>\n",
       "      <th>road_surface</th>\n",
       "      <th>road_condition_1</th>\n",
       "      <th>lighting</th>\n",
       "      <th>control_device</th>\n",
       "      <th>collision_date</th>\n",
       "      <th>collision_time</th>\n",
       "    </tr>\n",
       "  </thead>\n",
       "  <tbody>\n",
       "    <tr>\n",
       "      <th>0</th>\n",
       "      <td>4083072</td>\n",
       "      <td>1942</td>\n",
       "      <td>los angeles</td>\n",
       "      <td>528.0</td>\n",
       "      <td>north</td>\n",
       "      <td>0.0</td>\n",
       "      <td>cloudy</td>\n",
       "      <td>highway</td>\n",
       "      <td>small damage</td>\n",
       "      <td>2</td>\n",
       "      <td>vehicle code violation</td>\n",
       "      <td>unsafe lane change</td>\n",
       "      <td>sideswipe</td>\n",
       "      <td>other motor vehicle</td>\n",
       "      <td>wet</td>\n",
       "      <td>normal</td>\n",
       "      <td>daylight</td>\n",
       "      <td>none</td>\n",
       "      <td>2009-01-22</td>\n",
       "      <td>07:25:00</td>\n",
       "    </tr>\n",
       "    <tr>\n",
       "      <th>1</th>\n",
       "      <td>4083075</td>\n",
       "      <td>4313</td>\n",
       "      <td>santa clara</td>\n",
       "      <td>0.0</td>\n",
       "      <td>None</td>\n",
       "      <td>1.0</td>\n",
       "      <td>clear</td>\n",
       "      <td>None</td>\n",
       "      <td>small damage</td>\n",
       "      <td>1</td>\n",
       "      <td>vehicle code violation</td>\n",
       "      <td>improper passing</td>\n",
       "      <td>hit object</td>\n",
       "      <td>fixed object</td>\n",
       "      <td>dry</td>\n",
       "      <td>normal</td>\n",
       "      <td>dark with street lights</td>\n",
       "      <td>functioning</td>\n",
       "      <td>2009-01-03</td>\n",
       "      <td>02:26:00</td>\n",
       "    </tr>\n",
       "    <tr>\n",
       "      <th>2</th>\n",
       "      <td>4083073</td>\n",
       "      <td>0109</td>\n",
       "      <td>alameda</td>\n",
       "      <td>0.0</td>\n",
       "      <td>None</td>\n",
       "      <td>1.0</td>\n",
       "      <td>clear</td>\n",
       "      <td>None</td>\n",
       "      <td>scratch</td>\n",
       "      <td>2</td>\n",
       "      <td>vehicle code violation</td>\n",
       "      <td>improper turning</td>\n",
       "      <td>broadside</td>\n",
       "      <td>other motor vehicle</td>\n",
       "      <td>dry</td>\n",
       "      <td>normal</td>\n",
       "      <td>dark with street lights</td>\n",
       "      <td>functioning</td>\n",
       "      <td>2009-01-11</td>\n",
       "      <td>03:32:00</td>\n",
       "    </tr>\n",
       "  </tbody>\n",
       "</table>\n",
       "</div>"
      ],
      "text/plain": [
       "   case_id county_city_location county_location  distance direction  \\\n",
       "0  4083072                 1942     los angeles     528.0     north   \n",
       "1  4083075                 4313     santa clara       0.0      None   \n",
       "2  4083073                 0109         alameda       0.0      None   \n",
       "\n",
       "   intersection weather_1 location_type collision_damage  party_count  \\\n",
       "0           0.0    cloudy       highway     small damage            2   \n",
       "1           1.0     clear          None     small damage            1   \n",
       "2           1.0     clear          None          scratch            2   \n",
       "\n",
       "  primary_collision_factor pcf_violation_category type_of_collision  \\\n",
       "0   vehicle code violation     unsafe lane change         sideswipe   \n",
       "1   vehicle code violation       improper passing        hit object   \n",
       "2   vehicle code violation       improper turning         broadside   \n",
       "\n",
       "  motor_vehicle_involved_with road_surface road_condition_1  \\\n",
       "0         other motor vehicle          wet           normal   \n",
       "1                fixed object          dry           normal   \n",
       "2         other motor vehicle          dry           normal   \n",
       "\n",
       "                  lighting control_device collision_date collision_time  \n",
       "0                 daylight           none     2009-01-22       07:25:00  \n",
       "1  dark with street lights    functioning     2009-01-03       02:26:00  \n",
       "2  dark with street lights    functioning     2009-01-11       03:32:00  "
      ]
     },
     "metadata": {},
     "output_type": "display_data"
    },
    {
     "name": "stdout",
     "output_type": "stream",
     "text": [
      "<class 'pandas.core.frame.DataFrame'>\n",
      "RangeIndex: 1400000 entries, 0 to 1399999\n",
      "Data columns (total 20 columns):\n",
      " #   Column                       Non-Null Count    Dtype  \n",
      "---  ------                       --------------    -----  \n",
      " 0   case_id                      1400000 non-null  object \n",
      " 1   county_city_location         1400000 non-null  object \n",
      " 2   county_location              1400000 non-null  object \n",
      " 3   distance                     1400000 non-null  float64\n",
      " 4   direction                    1059358 non-null  object \n",
      " 5   intersection                 1387781 non-null  float64\n",
      " 6   weather_1                    1392741 non-null  object \n",
      " 7   location_type                518779 non-null   object \n",
      " 8   collision_damage             1400000 non-null  object \n",
      " 9   party_count                  1400000 non-null  int64  \n",
      " 10  primary_collision_factor     1391834 non-null  object \n",
      " 11  pcf_violation_category       1372046 non-null  object \n",
      " 12  type_of_collision            1388176 non-null  object \n",
      " 13  motor_vehicle_involved_with  1393181 non-null  object \n",
      " 14  road_surface                 1386907 non-null  object \n",
      " 15  road_condition_1             1388012 non-null  object \n",
      " 16  lighting                     1391407 non-null  object \n",
      " 17  control_device               1391593 non-null  object \n",
      " 18  collision_date               1400000 non-null  object \n",
      " 19  collision_time               1387692 non-null  object \n",
      "dtypes: float64(2), int64(1), object(17)\n",
      "memory usage: 213.6+ MB\n"
     ]
    },
    {
     "data": {
      "text/plain": [
       "None"
      ]
     },
     "metadata": {},
     "output_type": "display_data"
    }
   ],
   "source": [
    "# проверка работы запроса\n",
    "query2 = '''\n",
    "SELECT *\n",
    "FROM collisions;\n",
    "'''\n",
    "# выведем вторую таблицу\n",
    "sample_df2 = pd.read_sql_query(query2, con=engine) \n",
    "display(sample_df2.head(3))\n",
    "# выведем общую информацию\n",
    "display(sample_df2.info())"
   ]
  },
  {
   "cell_type": "code",
   "execution_count": 8,
   "id": "f0b9baa5",
   "metadata": {
    "scrolled": false
   },
   "outputs": [
    {
     "data": {
      "text/plain": [
       "case_id                             0\n",
       "county_city_location                0\n",
       "county_location                     0\n",
       "distance                            0\n",
       "direction                      340642\n",
       "intersection                    12219\n",
       "weather_1                        7259\n",
       "location_type                  881221\n",
       "collision_damage                    0\n",
       "party_count                         0\n",
       "primary_collision_factor         8166\n",
       "pcf_violation_category          27954\n",
       "type_of_collision               11824\n",
       "motor_vehicle_involved_with      6819\n",
       "road_surface                    13093\n",
       "road_condition_1                11988\n",
       "lighting                         8593\n",
       "control_device                   8407\n",
       "collision_date                      0\n",
       "collision_time                  12308\n",
       "dtype: int64"
      ]
     },
     "metadata": {},
     "output_type": "display_data"
    }
   ],
   "source": [
    "# выведем информацию о наличии пропусков\n",
    "display(sample_df2.isnull().sum())"
   ]
  },
  {
   "cell_type": "markdown",
   "id": "27896463",
   "metadata": {},
   "source": [
    "### Таблица parties"
   ]
  },
  {
   "cell_type": "code",
   "execution_count": 9,
   "id": "b7628c0a",
   "metadata": {},
   "outputs": [
    {
     "data": {
      "text/html": [
       "<div>\n",
       "<style scoped>\n",
       "    .dataframe tbody tr th:only-of-type {\n",
       "        vertical-align: middle;\n",
       "    }\n",
       "\n",
       "    .dataframe tbody tr th {\n",
       "        vertical-align: top;\n",
       "    }\n",
       "\n",
       "    .dataframe thead th {\n",
       "        text-align: right;\n",
       "    }\n",
       "</style>\n",
       "<table border=\"1\" class=\"dataframe\">\n",
       "  <thead>\n",
       "    <tr style=\"text-align: right;\">\n",
       "      <th></th>\n",
       "      <th>id</th>\n",
       "      <th>case_id</th>\n",
       "      <th>party_number</th>\n",
       "      <th>party_type</th>\n",
       "      <th>at_fault</th>\n",
       "      <th>insurance_premium</th>\n",
       "      <th>party_sobriety</th>\n",
       "      <th>party_drug_physical</th>\n",
       "      <th>cellphone_in_use</th>\n",
       "    </tr>\n",
       "  </thead>\n",
       "  <tbody>\n",
       "    <tr>\n",
       "      <th>0</th>\n",
       "      <td>22</td>\n",
       "      <td>3899454</td>\n",
       "      <td>1</td>\n",
       "      <td>road signs</td>\n",
       "      <td>1</td>\n",
       "      <td>29.0</td>\n",
       "      <td>had not been drinking</td>\n",
       "      <td>None</td>\n",
       "      <td>0.0</td>\n",
       "    </tr>\n",
       "    <tr>\n",
       "      <th>1</th>\n",
       "      <td>23</td>\n",
       "      <td>3899454</td>\n",
       "      <td>2</td>\n",
       "      <td>road signs</td>\n",
       "      <td>0</td>\n",
       "      <td>7.0</td>\n",
       "      <td>had not been drinking</td>\n",
       "      <td>None</td>\n",
       "      <td>0.0</td>\n",
       "    </tr>\n",
       "    <tr>\n",
       "      <th>2</th>\n",
       "      <td>29</td>\n",
       "      <td>3899462</td>\n",
       "      <td>2</td>\n",
       "      <td>car</td>\n",
       "      <td>0</td>\n",
       "      <td>21.0</td>\n",
       "      <td>had not been drinking</td>\n",
       "      <td>None</td>\n",
       "      <td>0.0</td>\n",
       "    </tr>\n",
       "  </tbody>\n",
       "</table>\n",
       "</div>"
      ],
      "text/plain": [
       "   id  case_id  party_number  party_type  at_fault  insurance_premium  \\\n",
       "0  22  3899454             1  road signs         1               29.0   \n",
       "1  23  3899454             2  road signs         0                7.0   \n",
       "2  29  3899462             2         car         0               21.0   \n",
       "\n",
       "          party_sobriety party_drug_physical  cellphone_in_use  \n",
       "0  had not been drinking                None               0.0  \n",
       "1  had not been drinking                None               0.0  \n",
       "2  had not been drinking                None               0.0  "
      ]
     },
     "metadata": {},
     "output_type": "display_data"
    },
    {
     "name": "stdout",
     "output_type": "stream",
     "text": [
      "<class 'pandas.core.frame.DataFrame'>\n",
      "RangeIndex: 2000000 entries, 0 to 1999999\n",
      "Data columns (total 9 columns):\n",
      " #   Column               Dtype  \n",
      "---  ------               -----  \n",
      " 0   id                   int64  \n",
      " 1   case_id              object \n",
      " 2   party_number         int64  \n",
      " 3   party_type           object \n",
      " 4   at_fault             int64  \n",
      " 5   insurance_premium    float64\n",
      " 6   party_sobriety       object \n",
      " 7   party_drug_physical  object \n",
      " 8   cellphone_in_use     float64\n",
      "dtypes: float64(2), int64(3), object(4)\n",
      "memory usage: 137.3+ MB\n"
     ]
    },
    {
     "data": {
      "text/plain": [
       "None"
      ]
     },
     "metadata": {},
     "output_type": "display_data"
    }
   ],
   "source": [
    "# проверка работы запроса\n",
    "query3 = '''\n",
    "SELECT *\n",
    "FROM parties\n",
    "LIMIT 2000000;\n",
    "'''\n",
    "# выведем третью таблицу\n",
    "sample_df3 = pd.read_sql_query(query3, con=engine) \n",
    "display(sample_df3.head(3))\n",
    "# выведем общую информацию\n",
    "display(sample_df3.info())"
   ]
  },
  {
   "cell_type": "code",
   "execution_count": 10,
   "id": "bb92b15d",
   "metadata": {},
   "outputs": [
    {
     "data": {
      "text/plain": [
       "id                           0\n",
       "case_id                      0\n",
       "party_number                 0\n",
       "party_type                3622\n",
       "at_fault                     0\n",
       "insurance_premium       340199\n",
       "party_sobriety           61385\n",
       "party_drug_physical    1649995\n",
       "cellphone_in_use        404458\n",
       "dtype: int64"
      ]
     },
     "metadata": {},
     "output_type": "display_data"
    }
   ],
   "source": [
    "# выведем информацию о наличии пропусков\n",
    "display(sample_df3.isnull().sum())"
   ]
  },
  {
   "cell_type": "markdown",
   "id": "b11ae02e",
   "metadata": {},
   "source": [
    "### Таблица case_ids"
   ]
  },
  {
   "cell_type": "code",
   "execution_count": 11,
   "id": "3816db58",
   "metadata": {},
   "outputs": [
    {
     "data": {
      "text/html": [
       "<div>\n",
       "<style scoped>\n",
       "    .dataframe tbody tr th:only-of-type {\n",
       "        vertical-align: middle;\n",
       "    }\n",
       "\n",
       "    .dataframe tbody tr th {\n",
       "        vertical-align: top;\n",
       "    }\n",
       "\n",
       "    .dataframe thead th {\n",
       "        text-align: right;\n",
       "    }\n",
       "</style>\n",
       "<table border=\"1\" class=\"dataframe\">\n",
       "  <thead>\n",
       "    <tr style=\"text-align: right;\">\n",
       "      <th></th>\n",
       "      <th>case_id</th>\n",
       "      <th>db_year</th>\n",
       "    </tr>\n",
       "  </thead>\n",
       "  <tbody>\n",
       "    <tr>\n",
       "      <th>0</th>\n",
       "      <td>0081715</td>\n",
       "      <td>2021</td>\n",
       "    </tr>\n",
       "    <tr>\n",
       "      <th>1</th>\n",
       "      <td>0726202</td>\n",
       "      <td>2021</td>\n",
       "    </tr>\n",
       "    <tr>\n",
       "      <th>2</th>\n",
       "      <td>3858022</td>\n",
       "      <td>2021</td>\n",
       "    </tr>\n",
       "  </tbody>\n",
       "</table>\n",
       "</div>"
      ],
      "text/plain": [
       "   case_id db_year\n",
       "0  0081715    2021\n",
       "1  0726202    2021\n",
       "2  3858022    2021"
      ]
     },
     "metadata": {},
     "output_type": "display_data"
    },
    {
     "name": "stdout",
     "output_type": "stream",
     "text": [
      "<class 'pandas.core.frame.DataFrame'>\n",
      "RangeIndex: 1400000 entries, 0 to 1399999\n",
      "Data columns (total 2 columns):\n",
      " #   Column   Non-Null Count    Dtype \n",
      "---  ------   --------------    ----- \n",
      " 0   case_id  1400000 non-null  object\n",
      " 1   db_year  1400000 non-null  object\n",
      "dtypes: object(2)\n",
      "memory usage: 21.4+ MB\n"
     ]
    },
    {
     "data": {
      "text/plain": [
       "None"
      ]
     },
     "metadata": {},
     "output_type": "display_data"
    }
   ],
   "source": [
    "# проверка работы запроса\n",
    "query4 = '''\n",
    "SELECT *\n",
    "FROM case_ids;\n",
    "'''\n",
    "# выведем четвертую таблицу\n",
    "sample_df4 = pd.read_sql_query(query4, con=engine) \n",
    "display(sample_df4.head(3))\n",
    "# выведем общую информацию\n",
    "display(sample_df4.info())"
   ]
  },
  {
   "cell_type": "code",
   "execution_count": 12,
   "id": "8a267a2a",
   "metadata": {},
   "outputs": [
    {
     "data": {
      "text/plain": [
       "case_id    0\n",
       "db_year    0\n",
       "dtype: int64"
      ]
     },
     "metadata": {},
     "output_type": "display_data"
    }
   ],
   "source": [
    "# выведем информацию о наличии пропусков\n",
    "display(sample_df4.isnull().sum())"
   ]
  },
  {
   "cell_type": "markdown",
   "id": "1466d8d1",
   "metadata": {},
   "source": [
    "### Вывод"
   ]
  },
  {
   "cell_type": "markdown",
   "id": "e074feef",
   "metadata": {},
   "source": [
    "- Все четыре таблицы, для выполнения задания - доступны. \n",
    "- Таблица `parties` не открывается если не ограничить выдачу результатов. Без ограничения, ломается ядро jupiter.\n",
    "- В таблицах `vehicles`, `collisions` и `parties` имеются пропуски, но в таблице `case_ids` пропуски отсутсвуют.\n",
    "- Для связи все таблицы имеют общий ключ `case_id`."
   ]
  },
  {
   "cell_type": "markdown",
   "id": "2c487468",
   "metadata": {},
   "source": [
    "##  Проведите статистический анализ факторов ДТП"
   ]
  },
  {
   "cell_type": "markdown",
   "id": "1ad4a469",
   "metadata": {},
   "source": [
    "### Определение месяца с наибольшим количеством аварий"
   ]
  },
  {
   "cell_type": "code",
   "execution_count": 13,
   "id": "a919dec5",
   "metadata": {},
   "outputs": [
    {
     "data": {
      "text/html": [
       "<div>\n",
       "<style scoped>\n",
       "    .dataframe tbody tr th:only-of-type {\n",
       "        vertical-align: middle;\n",
       "    }\n",
       "\n",
       "    .dataframe tbody tr th {\n",
       "        vertical-align: top;\n",
       "    }\n",
       "\n",
       "    .dataframe thead th {\n",
       "        text-align: right;\n",
       "    }\n",
       "</style>\n",
       "<table border=\"1\" class=\"dataframe\">\n",
       "  <thead>\n",
       "    <tr style=\"text-align: right;\">\n",
       "      <th></th>\n",
       "      <th>month</th>\n",
       "      <th>cnt</th>\n",
       "    </tr>\n",
       "  </thead>\n",
       "  <tbody>\n",
       "    <tr>\n",
       "      <th>0</th>\n",
       "      <td>1.0</td>\n",
       "      <td>132044</td>\n",
       "    </tr>\n",
       "    <tr>\n",
       "      <th>1</th>\n",
       "      <td>2.0</td>\n",
       "      <td>128858</td>\n",
       "    </tr>\n",
       "    <tr>\n",
       "      <th>2</th>\n",
       "      <td>3.0</td>\n",
       "      <td>139581</td>\n",
       "    </tr>\n",
       "    <tr>\n",
       "      <th>3</th>\n",
       "      <td>4.0</td>\n",
       "      <td>130180</td>\n",
       "    </tr>\n",
       "    <tr>\n",
       "      <th>4</th>\n",
       "      <td>5.0</td>\n",
       "      <td>130316</td>\n",
       "    </tr>\n",
       "    <tr>\n",
       "      <th>5</th>\n",
       "      <td>6.0</td>\n",
       "      <td>102594</td>\n",
       "    </tr>\n",
       "    <tr>\n",
       "      <th>6</th>\n",
       "      <td>7.0</td>\n",
       "      <td>102227</td>\n",
       "    </tr>\n",
       "    <tr>\n",
       "      <th>7</th>\n",
       "      <td>8.0</td>\n",
       "      <td>104089</td>\n",
       "    </tr>\n",
       "    <tr>\n",
       "      <th>8</th>\n",
       "      <td>9.0</td>\n",
       "      <td>105159</td>\n",
       "    </tr>\n",
       "    <tr>\n",
       "      <th>9</th>\n",
       "      <td>10.0</td>\n",
       "      <td>112237</td>\n",
       "    </tr>\n",
       "    <tr>\n",
       "      <th>10</th>\n",
       "      <td>11.0</td>\n",
       "      <td>104770</td>\n",
       "    </tr>\n",
       "    <tr>\n",
       "      <th>11</th>\n",
       "      <td>12.0</td>\n",
       "      <td>107945</td>\n",
       "    </tr>\n",
       "  </tbody>\n",
       "</table>\n",
       "</div>"
      ],
      "text/plain": [
       "    month     cnt\n",
       "0     1.0  132044\n",
       "1     2.0  128858\n",
       "2     3.0  139581\n",
       "3     4.0  130180\n",
       "4     5.0  130316\n",
       "5     6.0  102594\n",
       "6     7.0  102227\n",
       "7     8.0  104089\n",
       "8     9.0  105159\n",
       "9    10.0  112237\n",
       "10   11.0  104770\n",
       "11   12.0  107945"
      ]
     },
     "metadata": {},
     "output_type": "display_data"
    }
   ],
   "source": [
    "# сформируем запрос\n",
    "query_3_col = '''\n",
    "SELECT EXTRACT(MONTH FROM c.collision_date) AS month,\n",
    "       COUNT(c.case_id) AS cnt\n",
    "FROM collisions AS c\n",
    "GROUP BY EXTRACT(MONTH FROM c.collision_date);\n",
    "'''\n",
    "# выведем как таблицу\n",
    "df_3_col = pd.read_sql_query(query_3_col, con=engine) \n",
    "display(df_3_col)"
   ]
  },
  {
   "cell_type": "code",
   "execution_count": 14,
   "id": "e1b5822e",
   "metadata": {
    "scrolled": true
   },
   "outputs": [
    {
     "data": {
      "image/png": "[encoded data removed]",
      "text/plain": [
       "<Figure size 432x288 with 1 Axes>"
      ]
     },
     "metadata": {
      "needs_background": "light"
     },
     "output_type": "display_data"
    }
   ],
   "source": [
    "# построение стобчатого графика \n",
    "plt.bar(x = df_3_col.month, height = df_3_col.cnt, color = 'blue', edgecolor = 'black');\n",
    "plt.title('Столбчатая диаграмма распределения количества аварий по месяцам')\n",
    "plt.xlabel('Месяц')\n",
    "plt.ylabel('Количество аварий');"
   ]
  },
  {
   "cell_type": "markdown",
   "id": "7d70c55c",
   "metadata": {},
   "source": [
    "#### Вывод"
   ]
  },
  {
   "cell_type": "markdown",
   "id": "20572b2e",
   "metadata": {},
   "source": [
    "- Месяц с наибольшим количеством аварий - `март`, общее количество `139 581`.\n",
    "    Скорее всего связано с гололедом и частым переходом температуры из положительной в отрицательную. \n",
    "- Месяц с наименьшим количеством аварий - `июль`, общее количество `102 227`.\n",
    "    Скорее всего связано с оттоком людей в отпуска и как следствие меньше машин - меньше аварий."
   ]
  },
  {
   "cell_type": "markdown",
   "id": "a953d2ea",
   "metadata": {},
   "source": [
    "### Задачи для коллег (совещание)"
   ]
  },
  {
   "cell_type": "markdown",
   "id": "3c50cf8b",
   "metadata": {},
   "source": [
    "1. Провести анализ серьёзности повреждений транспортного средства, исходя из состояния дороги в момент ДТП\n",
    "2. Найти среднюю сумму страховки для всех типов повреждений\n",
    "3. Провести анализ серьёзности повреждений транспортного средства, исходя из погодных условий в момент ДТП\n",
    "4. Провести анализ серьёзности повреждений транспортного средства, исходя из возраста автомобиля в момент ДТП\n",
    "5. Найти пять регионов с самым большим количеством ДТП \n",
    "6. Найти самые частые причины ДТП\n",
    "7. найти самый частый тип кузова, участвующий в ДТП"
   ]
  },
  {
   "cell_type": "markdown",
   "id": "d83d8649",
   "metadata": {},
   "source": [
    "### Решение для задачи №1"
   ]
  },
  {
   "cell_type": "markdown",
   "id": "d87d998f",
   "metadata": {},
   "source": [
    "Провести анализ серьёзности повреждений транспортного средства, исходя из состояния дороги в момент ДТП"
   ]
  },
  {
   "cell_type": "code",
   "execution_count": 15,
   "id": "2d4d6348",
   "metadata": {
    "scrolled": false
   },
   "outputs": [],
   "source": [
    "# сформируем запрос\n",
    "query_3_1 = '''\n",
    "SELECT *,\n",
    "       SUM(cnt) OVER (PARTITION BY road_surface) AS cnt_total\n",
    "FROM \n",
    "    (SELECT c.road_surface,\n",
    "           c.collision_damage AS col_dam,\n",
    "           COUNT(p.case_id) AS cnt\n",
    "    FROM collisions AS c\n",
    "    JOIN parties AS p ON c.case_id = p.case_id\n",
    "     GROUP BY c.road_surface,\n",
    "              c.collision_damage\n",
    "     ORDER BY road_surface) AS temp\n",
    "'''\n",
    "# выведем как таблицу\n",
    "df_3_1 = pd.read_sql_query(query_3_1, con=engine) \n",
    "# display(df_3_1.head(30))"
   ]
  },
  {
   "cell_type": "code",
   "execution_count": 16,
   "id": "2c643a5a",
   "metadata": {},
   "outputs": [
    {
     "data": {
      "image/png": "[encoded data removed]",
      "text/plain": [
       "<Figure size 648x648 with 2 Axes>"
      ]
     },
     "metadata": {
      "needs_background": "light"
     },
     "output_type": "display_data"
    }
   ],
   "source": [
    "# создадим сводную таблицу для построения хитмап\n",
    "rr1 = df_3_1.pivot('road_surface', 'col_dam', 'cnt')\n",
    "# строим хитмэп\n",
    "plt.figure(figsize=(9, 9)) # задаём размер графика\n",
    "sns.heatmap(rr1, # датафрейм с данными\n",
    "            linewidths=.5, # добавляем линии\n",
    "            annot=True, # добавляем подписи\n",
    "            fmt='', # задаём исходный формат\n",
    "            cmap= 'coolwarm', # цветовая тема\n",
    "            center=10000, vmin=10000, vmax=1500000) # параметры отрисовки\n",
    "plt.title('Тепловая карта') # название графика\n",
    "plt.show() "
   ]
  },
  {
   "cell_type": "markdown",
   "id": "f8ca0a7f",
   "metadata": {},
   "source": [
    "#### Вывод"
   ]
  },
  {
   "cell_type": "markdown",
   "id": "b637f80a",
   "metadata": {},
   "source": [
    "Зависимость степени повреждений от состояния покрытия выявила следующие закономерности:\n",
    "- Покрытие типа `dry` имеет самые высокие показатели количества повреждений\n",
    "- Самое частое повреждение это `small_damage` на покрытии дороги типа `dry`\n",
    "- Самое редкое повреждение `fatal` на любом виде покрытия, но реже всего на покрытии `slippery`\n",
    "- Покрытие дороги с самыми минимальными показателями повреждений соответствует типу `slippery`"
   ]
  },
  {
   "cell_type": "markdown",
   "id": "af87f802",
   "metadata": {},
   "source": [
    "### Решение для задачи №2"
   ]
  },
  {
   "cell_type": "markdown",
   "id": "76deea5d",
   "metadata": {},
   "source": [
    "Найти среднюю сумму страховки для всех типов повреждений"
   ]
  },
  {
   "cell_type": "code",
   "execution_count": 17,
   "id": "337ab0ec",
   "metadata": {},
   "outputs": [
    {
     "data": {
      "text/html": [
       "<div>\n",
       "<style scoped>\n",
       "    .dataframe tbody tr th:only-of-type {\n",
       "        vertical-align: middle;\n",
       "    }\n",
       "\n",
       "    .dataframe tbody tr th {\n",
       "        vertical-align: top;\n",
       "    }\n",
       "\n",
       "    .dataframe thead th {\n",
       "        text-align: right;\n",
       "    }\n",
       "</style>\n",
       "<table border=\"1\" class=\"dataframe\">\n",
       "  <thead>\n",
       "    <tr style=\"text-align: right;\">\n",
       "      <th></th>\n",
       "      <th>col_dam</th>\n",
       "      <th>mean_prem</th>\n",
       "    </tr>\n",
       "  </thead>\n",
       "  <tbody>\n",
       "    <tr>\n",
       "      <th>0</th>\n",
       "      <td>fatal</td>\n",
       "      <td>39.0</td>\n",
       "    </tr>\n",
       "    <tr>\n",
       "      <th>1</th>\n",
       "      <td>middle damage</td>\n",
       "      <td>34.0</td>\n",
       "    </tr>\n",
       "    <tr>\n",
       "      <th>2</th>\n",
       "      <td>scratch</td>\n",
       "      <td>36.0</td>\n",
       "    </tr>\n",
       "    <tr>\n",
       "      <th>3</th>\n",
       "      <td>severe damage</td>\n",
       "      <td>35.0</td>\n",
       "    </tr>\n",
       "    <tr>\n",
       "      <th>4</th>\n",
       "      <td>small damage</td>\n",
       "      <td>30.0</td>\n",
       "    </tr>\n",
       "  </tbody>\n",
       "</table>\n",
       "</div>"
      ],
      "text/plain": [
       "         col_dam  mean_prem\n",
       "0          fatal       39.0\n",
       "1  middle damage       34.0\n",
       "2        scratch       36.0\n",
       "3  severe damage       35.0\n",
       "4   small damage       30.0"
      ]
     },
     "metadata": {},
     "output_type": "display_data"
    }
   ],
   "source": [
    "# сформируем запрос\n",
    "query_3_2 = '''\n",
    "SELECT col_dam,\n",
    "       ROUND(sum_prem/cnt, 2) AS mean_prem\n",
    "FROM\n",
    "(SELECT c.collision_damage AS col_dam,\n",
    "       COUNT(p.case_id) AS cnt,\n",
    "       SUM(p.insurance_premium) AS sum_prem \n",
    "FROM collisions AS c\n",
    "JOIN parties AS p ON c.case_id = p.case_id\n",
    "GROUP BY c.collision_damage) AS temp;\n",
    "'''\n",
    "# выведем как таблицу\n",
    "df_3_2 = pd.read_sql_query(query_3_2, con=engine) \n",
    "display(df_3_2.head(10))"
   ]
  },
  {
   "cell_type": "code",
   "execution_count": 18,
   "id": "50f8e242",
   "metadata": {},
   "outputs": [
    {
     "data": {
      "image/png": "[encoded data removed]",
      "text/plain": [
       "<Figure size 432x288 with 1 Axes>"
      ]
     },
     "metadata": {
      "needs_background": "light"
     },
     "output_type": "display_data"
    }
   ],
   "source": [
    "# построение стобчатого графика \n",
    "plt.bar(x = df_3_2.col_dam, height = df_3_2.mean_prem, color = 'green', edgecolor = 'black');\n",
    "plt.title('Столбчатая диаграмма распределения средней страховой премии по типам повреждений')\n",
    "plt.xlabel('Тип повреждения')\n",
    "plt.ylabel('Средний размер страховой премии (тыс. $)');"
   ]
  },
  {
   "cell_type": "markdown",
   "id": "f3acf9e3",
   "metadata": {},
   "source": [
    "#### Вывод"
   ]
  },
  {
   "cell_type": "markdown",
   "id": "382976b3",
   "metadata": {},
   "source": [
    "- Из предыдущей задачи известно, что количество поврждений отличается друг от друга многократно, здесь же можно сделать вывод, что стоимость страховки в среднем составляет около 37 тыс. $, вне зависимости от типа повреждений. \n",
    "- Тип повреждения `fatal` в среднем самый дорогой, что и не удивительно. Но стоимость премии за `царапину` в среднем выше чем за `small damage`."
   ]
  },
  {
   "cell_type": "markdown",
   "id": "90264d5a",
   "metadata": {},
   "source": [
    "## Создайте модель для оценки водительского риска"
   ]
  },
  {
   "cell_type": "markdown",
   "id": "f1f17dac",
   "metadata": {},
   "source": [
    "### Шаг 1 (Предварительная подготовка набора данных на основе предположения заказчика)"
   ]
  },
  {
   "cell_type": "code",
   "execution_count": 19,
   "id": "3b03256e",
   "metadata": {
    "scrolled": true
   },
   "outputs": [
    {
     "data": {
      "text/html": [
       "<div>\n",
       "<style scoped>\n",
       "    .dataframe tbody tr th:only-of-type {\n",
       "        vertical-align: middle;\n",
       "    }\n",
       "\n",
       "    .dataframe tbody tr th {\n",
       "        vertical-align: top;\n",
       "    }\n",
       "\n",
       "    .dataframe thead th {\n",
       "        text-align: right;\n",
       "    }\n",
       "</style>\n",
       "<table border=\"1\" class=\"dataframe\">\n",
       "  <thead>\n",
       "    <tr style=\"text-align: right;\">\n",
       "      <th></th>\n",
       "      <th>case_id</th>\n",
       "      <th>county_city_location</th>\n",
       "      <th>county_location</th>\n",
       "      <th>distance</th>\n",
       "      <th>direction</th>\n",
       "      <th>intersection</th>\n",
       "      <th>weather_1</th>\n",
       "      <th>location_type</th>\n",
       "      <th>collision_damage</th>\n",
       "      <th>party_count</th>\n",
       "      <th>primary_collision_factor</th>\n",
       "      <th>pcf_violation_category</th>\n",
       "      <th>type_of_collision</th>\n",
       "      <th>motor_vehicle_involved_with</th>\n",
       "      <th>road_surface</th>\n",
       "      <th>road_condition_1</th>\n",
       "      <th>lighting</th>\n",
       "      <th>control_device</th>\n",
       "      <th>collision_date</th>\n",
       "      <th>collision_time</th>\n",
       "      <th>id</th>\n",
       "      <th>case_id</th>\n",
       "      <th>party_number</th>\n",
       "      <th>party_type</th>\n",
       "      <th>at_fault</th>\n",
       "      <th>insurance_premium</th>\n",
       "      <th>party_sobriety</th>\n",
       "      <th>party_drug_physical</th>\n",
       "      <th>cellphone_in_use</th>\n",
       "      <th>id</th>\n",
       "      <th>case_id</th>\n",
       "      <th>party_number</th>\n",
       "      <th>vehicle_type</th>\n",
       "      <th>vehicle_transmission</th>\n",
       "      <th>vehicle_age</th>\n",
       "    </tr>\n",
       "  </thead>\n",
       "  <tbody>\n",
       "    <tr>\n",
       "      <th>0</th>\n",
       "      <td>5403242</td>\n",
       "      <td>5400</td>\n",
       "      <td>tulare</td>\n",
       "      <td>2640.0</td>\n",
       "      <td>north</td>\n",
       "      <td>0.0</td>\n",
       "      <td>clear</td>\n",
       "      <td>None</td>\n",
       "      <td>fatal</td>\n",
       "      <td>2</td>\n",
       "      <td>vehicle code violation</td>\n",
       "      <td>improper turning</td>\n",
       "      <td>hit object</td>\n",
       "      <td>fixed object</td>\n",
       "      <td>dry</td>\n",
       "      <td>normal</td>\n",
       "      <td>daylight</td>\n",
       "      <td>none</td>\n",
       "      <td>2012-01-07</td>\n",
       "      <td>None</td>\n",
       "      <td>2312905</td>\n",
       "      <td>5403242</td>\n",
       "      <td>2</td>\n",
       "      <td>road bumper</td>\n",
       "      <td>0</td>\n",
       "      <td>NaN</td>\n",
       "      <td>None</td>\n",
       "      <td>None</td>\n",
       "      <td>NaN</td>\n",
       "      <td>1275239</td>\n",
       "      <td>5403242</td>\n",
       "      <td>1</td>\n",
       "      <td>coupe</td>\n",
       "      <td>manual</td>\n",
       "      <td>7.0</td>\n",
       "    </tr>\n",
       "    <tr>\n",
       "      <th>1</th>\n",
       "      <td>5403299</td>\n",
       "      <td>1942</td>\n",
       "      <td>los angeles</td>\n",
       "      <td>549.0</td>\n",
       "      <td>east</td>\n",
       "      <td>0.0</td>\n",
       "      <td>clear</td>\n",
       "      <td>None</td>\n",
       "      <td>fatal</td>\n",
       "      <td>2</td>\n",
       "      <td>vehicle code violation</td>\n",
       "      <td>pedestrian violation</td>\n",
       "      <td>other</td>\n",
       "      <td>other object</td>\n",
       "      <td>dry</td>\n",
       "      <td>normal</td>\n",
       "      <td>dark with street lights</td>\n",
       "      <td>functioning</td>\n",
       "      <td>2012-01-10</td>\n",
       "      <td>17:30:00</td>\n",
       "      <td>2313004</td>\n",
       "      <td>5403299</td>\n",
       "      <td>2</td>\n",
       "      <td>road signs</td>\n",
       "      <td>1</td>\n",
       "      <td>48.0</td>\n",
       "      <td>had been drinking, under influence</td>\n",
       "      <td>under drug influence</td>\n",
       "      <td>0.0</td>\n",
       "      <td>1275335</td>\n",
       "      <td>5403299</td>\n",
       "      <td>1</td>\n",
       "      <td>sedan</td>\n",
       "      <td>manual</td>\n",
       "      <td>4.0</td>\n",
       "    </tr>\n",
       "    <tr>\n",
       "      <th>2</th>\n",
       "      <td>5403299</td>\n",
       "      <td>1942</td>\n",
       "      <td>los angeles</td>\n",
       "      <td>549.0</td>\n",
       "      <td>east</td>\n",
       "      <td>0.0</td>\n",
       "      <td>clear</td>\n",
       "      <td>None</td>\n",
       "      <td>fatal</td>\n",
       "      <td>2</td>\n",
       "      <td>vehicle code violation</td>\n",
       "      <td>pedestrian violation</td>\n",
       "      <td>other</td>\n",
       "      <td>other object</td>\n",
       "      <td>dry</td>\n",
       "      <td>normal</td>\n",
       "      <td>dark with street lights</td>\n",
       "      <td>functioning</td>\n",
       "      <td>2012-01-10</td>\n",
       "      <td>17:30:00</td>\n",
       "      <td>2313004</td>\n",
       "      <td>5403299</td>\n",
       "      <td>2</td>\n",
       "      <td>road signs</td>\n",
       "      <td>1</td>\n",
       "      <td>48.0</td>\n",
       "      <td>had been drinking, under influence</td>\n",
       "      <td>under drug influence</td>\n",
       "      <td>0.0</td>\n",
       "      <td>1275336</td>\n",
       "      <td>5403299</td>\n",
       "      <td>2</td>\n",
       "      <td>hatchback</td>\n",
       "      <td>manual</td>\n",
       "      <td>7.0</td>\n",
       "    </tr>\n",
       "  </tbody>\n",
       "</table>\n",
       "</div>"
      ],
      "text/plain": [
       "   case_id county_city_location county_location  distance direction  \\\n",
       "0  5403242                 5400          tulare    2640.0     north   \n",
       "1  5403299                 1942     los angeles     549.0      east   \n",
       "2  5403299                 1942     los angeles     549.0      east   \n",
       "\n",
       "   intersection weather_1 location_type collision_damage  party_count  \\\n",
       "0           0.0     clear          None            fatal            2   \n",
       "1           0.0     clear          None            fatal            2   \n",
       "2           0.0     clear          None            fatal            2   \n",
       "\n",
       "  primary_collision_factor pcf_violation_category type_of_collision  \\\n",
       "0   vehicle code violation       improper turning        hit object   \n",
       "1   vehicle code violation   pedestrian violation             other   \n",
       "2   vehicle code violation   pedestrian violation             other   \n",
       "\n",
       "  motor_vehicle_involved_with road_surface road_condition_1  \\\n",
       "0                fixed object          dry           normal   \n",
       "1                other object          dry           normal   \n",
       "2                other object          dry           normal   \n",
       "\n",
       "                  lighting control_device collision_date collision_time  \\\n",
       "0                 daylight           none     2012-01-07           None   \n",
       "1  dark with street lights    functioning     2012-01-10       17:30:00   \n",
       "2  dark with street lights    functioning     2012-01-10       17:30:00   \n",
       "\n",
       "        id  case_id  party_number   party_type  at_fault  insurance_premium  \\\n",
       "0  2312905  5403242             2  road bumper         0                NaN   \n",
       "1  2313004  5403299             2   road signs         1               48.0   \n",
       "2  2313004  5403299             2   road signs         1               48.0   \n",
       "\n",
       "                       party_sobriety   party_drug_physical  cellphone_in_use  \\\n",
       "0                                None                  None               NaN   \n",
       "1  had been drinking, under influence  under drug influence               0.0   \n",
       "2  had been drinking, under influence  under drug influence               0.0   \n",
       "\n",
       "        id  case_id  party_number vehicle_type vehicle_transmission  \\\n",
       "0  1275239  5403242             1        coupe               manual   \n",
       "1  1275335  5403299             1        sedan               manual   \n",
       "2  1275336  5403299             2    hatchback               manual   \n",
       "\n",
       "   vehicle_age  \n",
       "0          7.0  \n",
       "1          4.0  \n",
       "2          7.0  "
      ]
     },
     "metadata": {},
     "output_type": "display_data"
    }
   ],
   "source": [
    "# сформируем запрос\n",
    "query_4_col = '''\n",
    "SELECT *\n",
    "FROM collisions AS c\n",
    "JOIN parties AS p ON c.case_id = p.case_id\n",
    "JOIN vehicles AS v ON c.case_id = v.case_id\n",
    "WHERE c.collision_damage != 'scratch'\n",
    "      AND EXTRACT(YEAR FROM c.collision_date) = 2012\n",
    "'''\n",
    "# выведем как таблицу\n",
    "pd.set_option('display.max_columns', None)\n",
    "df_4 = pd.read_sql_query(query_4_col, con=engine) \n",
    "display(df_4.head(3))"
   ]
  },
  {
   "cell_type": "markdown",
   "id": "d9d19648",
   "metadata": {},
   "source": [
    "### Шаг 2 (Первичный отбор факторов, необходимых для модели)"
   ]
  },
  {
   "cell_type": "code",
   "execution_count": 20,
   "id": "633bb364",
   "metadata": {},
   "outputs": [
    {
     "name": "stdout",
     "output_type": "stream",
     "text": [
      "<class 'pandas.core.frame.DataFrame'>\n",
      "RangeIndex: 131460 entries, 0 to 131459\n",
      "Data columns (total 16 columns):\n",
      " #   Column                Non-Null Count   Dtype  \n",
      "---  ------                --------------   -----  \n",
      " 0   county_city_location  131460 non-null  object \n",
      " 1   direction             99086 non-null   object \n",
      " 2   weather_1             130987 non-null  object \n",
      " 3   location_type         56814 non-null   object \n",
      " 4   road_surface          130537 non-null  object \n",
      " 5   road_condition_1      130759 non-null  object \n",
      " 6   lighting              131023 non-null  object \n",
      " 7   control_device        130927 non-null  object \n",
      " 8   at_fault              131460 non-null  int64  \n",
      " 9   insurance_premium     121419 non-null  float64\n",
      " 10  party_sobriety        128729 non-null  object \n",
      " 11  party_drug_physical   13366 non-null   object \n",
      " 12  cellphone_in_use      115749 non-null  float64\n",
      " 13  vehicle_type          131460 non-null  object \n",
      " 14  vehicle_transmission  129202 non-null  object \n",
      " 15  vehicle_age           127780 non-null  float64\n",
      "dtypes: float64(3), int64(1), object(12)\n",
      "memory usage: 16.0+ MB\n"
     ]
    },
    {
     "data": {
      "text/plain": [
       "None"
      ]
     },
     "metadata": {},
     "output_type": "display_data"
    }
   ],
   "source": [
    "# удалим ненужные столбцы\n",
    "df_4 = df_4.drop(['case_id', 'county_location', 'distance', 'intersection', 'collision_damage', 'party_count', \n",
    "           'primary_collision_factor', 'pcf_violation_category', 'type_of_collision', \n",
    "           'motor_vehicle_involved_with', 'collision_date', 'collision_time', 'id', \n",
    "           'case_id', 'party_number', 'party_type', 'id', 'case_id', 'party_number'], axis= 1)\n",
    "display(df_4.info())"
   ]
  },
  {
   "cell_type": "code",
   "execution_count": 21,
   "id": "c42cf6da",
   "metadata": {},
   "outputs": [
    {
     "data": {
      "text/plain": [
       "county_city_location         0\n",
       "direction                32374\n",
       "weather_1                  473\n",
       "location_type            74646\n",
       "road_surface               923\n",
       "road_condition_1           701\n",
       "lighting                   437\n",
       "control_device             533\n",
       "at_fault                     0\n",
       "insurance_premium        10041\n",
       "party_sobriety            2731\n",
       "party_drug_physical     118094\n",
       "cellphone_in_use         15711\n",
       "vehicle_type                 0\n",
       "vehicle_transmission      2258\n",
       "vehicle_age               3680\n",
       "dtype: int64"
      ]
     },
     "metadata": {},
     "output_type": "display_data"
    }
   ],
   "source": [
    "# выведем информацию о наличии пропусков\n",
    "display(df_4.isnull().sum())"
   ]
  },
  {
   "cell_type": "markdown",
   "id": "d8b05f39",
   "metadata": {},
   "source": [
    "#### Вывод"
   ]
  },
  {
   "cell_type": "markdown",
   "id": "38363e17",
   "metadata": {},
   "source": [
    "Причины удаления столбцов:\n",
    "- Не характеризуют причину или риск аварии такие столбцы как `case_id`, `collision_date`, `collision_time`, `id`.\n",
    "- Для столбца `county_location` уже имеется аналогичный столбец с числовыми значениями.\n",
    "- Столбцы, которые описывают уже сам факт ДТП такие как `party_number`, `party_type`, `collision_damage`, `party_count`, `primary_collision_factor`, `pcf_violation_category`, `type_of_collision`, `distance`, `intersection`.\n",
    "- Применен фильтр по данному столбцу `motor_vehicle_involved_with` в первичном запросе."
   ]
  },
  {
   "cell_type": "markdown",
   "id": "b76b919c",
   "metadata": {},
   "source": [
    "### Шаг 3 (Подготовка данных)"
   ]
  },
  {
   "cell_type": "markdown",
   "id": "3116b346",
   "metadata": {},
   "source": [
    "#### Заполнение пропусков, удаление дубликатов и приведение типа данных"
   ]
  },
  {
   "cell_type": "code",
   "execution_count": 22,
   "id": "bf8140bf",
   "metadata": {},
   "outputs": [
    {
     "data": {
      "text/plain": [
       "county_city_location    0\n",
       "direction               0\n",
       "weather_1               0\n",
       "location_type           0\n",
       "road_surface            0\n",
       "road_condition_1        0\n",
       "lighting                0\n",
       "control_device          0\n",
       "at_fault                0\n",
       "insurance_premium       0\n",
       "party_sobriety          0\n",
       "party_drug_physical     0\n",
       "cellphone_in_use        0\n",
       "vehicle_type            0\n",
       "vehicle_transmission    0\n",
       "vehicle_age             0\n",
       "dtype: int64"
      ]
     },
     "metadata": {},
     "output_type": "display_data"
    }
   ],
   "source": [
    "# заполнение отсутствующих данных в столбце `direction`\n",
    "df_4['direction'] = df_4['direction'].fillna('unknown')\n",
    "# заполнение отсутствующих данных в столбце `weather_1`\n",
    "df_4['weather_1'] = df_4['weather_1'].fillna('unknown')\n",
    "# заполнение отсутствующих данных в столбце `location_type`\n",
    "df_4['location_type'] = df_4['location_type'].fillna('unknown')\n",
    "# заполнение отсутствующих данных в столбце `road_surface`\n",
    "df_4['road_surface'] = df_4['road_surface'].fillna('unknown')\n",
    "# заполнение отсутствующих данных в столбце `road_condition_1`\n",
    "df_4['road_condition_1'] = df_4['road_condition_1'].fillna('unknown')\n",
    "# заполнение отсутствующих данных в столбце `lighting`\n",
    "df_4['lighting'] = df_4['lighting'].fillna('unknown')\n",
    "# заполнение отсутствующих данных в столбце `control_device`\n",
    "df_4['control_device'] = df_4['control_device'].fillna('none')\n",
    "# расчет медианного значения для столбца `insurance_premium`\n",
    "prem_med = df_4['insurance_premium'].median()\n",
    "# заполнение отсутствующих данных в столбце `insurance_premium`\n",
    "df_4['insurance_premium'] = df_4['insurance_premium'].fillna(prem_med)\n",
    "# заполнение отсутствующих данных в столбце `party_sobriety`\n",
    "df_4['party_sobriety'] = df_4['party_sobriety'].fillna('not applicable')\n",
    "# заполнение отсутствующих данных в столбце `party_drug_physical`\n",
    "df_4['party_drug_physical'] = df_4['party_drug_physical'].fillna('unknown')\n",
    "# заполнение отсутствующих данных в столбце `cellphone_in_use`\n",
    "df_4['cellphone_in_use'] = df_4['cellphone_in_use'].fillna(0)\n",
    "# заполнение отсутствующих данных в столбце `vehicle_transmission`\n",
    "df_4['vehicle_transmission'] = df_4['vehicle_transmission'].fillna('manual')\n",
    "# расчет медианного значения для столбца `vehicle_age`\n",
    "age_med = df_4['vehicle_age'].median()\n",
    "# заполнение отсутствующих данных в столбце `vehicle_age`\n",
    "df_4['vehicle_age'] = df_4['vehicle_age'].fillna(age_med)\n",
    "\n",
    "# выведем информацию о наличии пропусков\n",
    "display(df_4.isnull().sum())"
   ]
  },
  {
   "cell_type": "code",
   "execution_count": null,
   "id": "c116129c",
   "metadata": {},
   "outputs": [],
   "source": [
    "# изменение типа данных\n",
    "df_4['county_city_location'] = df_4['county_city_location'].astype('int')\n",
    "# удалим дублирующиеся данные в таблице\n",
    "df_4 = df_4.drop_duplicates()\n",
    "df_4.info()"
   ]
  },
  {
   "cell_type": "markdown",
   "id": "94249b73",
   "metadata": {},
   "source": [
    "#### Подготовка выборок"
   ]
  },
  {
   "cell_type": "code",
   "execution_count": 24,
   "id": "f2710c43",
   "metadata": {},
   "outputs": [
    {
     "data": {
      "text/plain": [
       "'X_train: (87772, 15)'"
      ]
     },
     "metadata": {},
     "output_type": "display_data"
    },
    {
     "data": {
      "text/plain": [
       "'X_test: (37617, 15)'"
      ]
     },
     "metadata": {},
     "output_type": "display_data"
    },
    {
     "data": {
      "text/plain": [
       "'y_train: (87772,)'"
      ]
     },
     "metadata": {},
     "output_type": "display_data"
    },
    {
     "data": {
      "text/plain": [
       "'y_test: (37617,)'"
      ]
     },
     "metadata": {},
     "output_type": "display_data"
    }
   ],
   "source": [
    "# создадим копию таблицы\n",
    "new_df = df_4.copy()\n",
    "# обозначим признаки и цели\n",
    "features = new_df.drop('at_fault', axis=1)\n",
    "target = new_df['at_fault']\n",
    "# разделим на выборки\n",
    "X_train, X_test, y_train, y_test = train_test_split(features, target, test_size=0.3, shuffle=True, random_state=571)\n",
    "# выведем размерности выборок на экран\n",
    "display(f'X_train: {X_train.shape}')\n",
    "display(f'X_test: {X_test.shape}')\n",
    "display(f'y_train: {y_train.shape}')\n",
    "display(f'y_test: {y_test.shape}')"
   ]
  },
  {
   "cell_type": "markdown",
   "id": "28eab074",
   "metadata": {},
   "source": [
    "#### Масштабирование признаков"
   ]
  },
  {
   "cell_type": "code",
   "execution_count": 25,
   "id": "706cba8f",
   "metadata": {},
   "outputs": [],
   "source": [
    "# обозначим категориальные и количественные признаки\n",
    "categorical = ['direction', 'weather_1', 'location_type', 'road_surface', \n",
    "               'road_condition_1', 'lighting', 'control_device', 'party_sobriety', \n",
    "               'party_drug_physical', 'cellphone_in_use', 'vehicle_type', 'vehicle_transmission']\n",
    "numeric = ['county_city_location', 'insurance_premium', 'vehicle_age']"
   ]
  },
  {
   "cell_type": "code",
   "execution_count": 26,
   "id": "653bea53",
   "metadata": {},
   "outputs": [
    {
     "data": {
      "text/html": [
       "<div>\n",
       "<style scoped>\n",
       "    .dataframe tbody tr th:only-of-type {\n",
       "        vertical-align: middle;\n",
       "    }\n",
       "\n",
       "    .dataframe tbody tr th {\n",
       "        vertical-align: top;\n",
       "    }\n",
       "\n",
       "    .dataframe thead th {\n",
       "        text-align: right;\n",
       "    }\n",
       "</style>\n",
       "<table border=\"1\" class=\"dataframe\">\n",
       "  <thead>\n",
       "    <tr style=\"text-align: right;\">\n",
       "      <th></th>\n",
       "      <th>county_city_location</th>\n",
       "      <th>direction</th>\n",
       "      <th>weather_1</th>\n",
       "      <th>location_type</th>\n",
       "      <th>road_surface</th>\n",
       "      <th>road_condition_1</th>\n",
       "      <th>lighting</th>\n",
       "      <th>control_device</th>\n",
       "      <th>insurance_premium</th>\n",
       "      <th>party_sobriety</th>\n",
       "      <th>party_drug_physical</th>\n",
       "      <th>cellphone_in_use</th>\n",
       "      <th>vehicle_type</th>\n",
       "      <th>vehicle_transmission</th>\n",
       "      <th>vehicle_age</th>\n",
       "    </tr>\n",
       "  </thead>\n",
       "  <tbody>\n",
       "    <tr>\n",
       "      <th>42636</th>\n",
       "      <td>0.593267</td>\n",
       "      <td>south</td>\n",
       "      <td>clear</td>\n",
       "      <td>unknown</td>\n",
       "      <td>dry</td>\n",
       "      <td>normal</td>\n",
       "      <td>daylight</td>\n",
       "      <td>none</td>\n",
       "      <td>-1.009503</td>\n",
       "      <td>had not been drinking</td>\n",
       "      <td>unknown</td>\n",
       "      <td>0.0</td>\n",
       "      <td>sedan</td>\n",
       "      <td>auto</td>\n",
       "      <td>1.536495</td>\n",
       "    </tr>\n",
       "    <tr>\n",
       "      <th>31622</th>\n",
       "      <td>2.161716</td>\n",
       "      <td>unknown</td>\n",
       "      <td>clear</td>\n",
       "      <td>unknown</td>\n",
       "      <td>dry</td>\n",
       "      <td>normal</td>\n",
       "      <td>daylight</td>\n",
       "      <td>functioning</td>\n",
       "      <td>2.071541</td>\n",
       "      <td>had not been drinking</td>\n",
       "      <td>unknown</td>\n",
       "      <td>0.0</td>\n",
       "      <td>sedan</td>\n",
       "      <td>auto</td>\n",
       "      <td>1.536495</td>\n",
       "    </tr>\n",
       "    <tr>\n",
       "      <th>50346</th>\n",
       "      <td>-0.733942</td>\n",
       "      <td>west</td>\n",
       "      <td>cloudy</td>\n",
       "      <td>unknown</td>\n",
       "      <td>wet</td>\n",
       "      <td>normal</td>\n",
       "      <td>dark with street lights</td>\n",
       "      <td>none</td>\n",
       "      <td>-1.194365</td>\n",
       "      <td>had been drinking, under influence</td>\n",
       "      <td>under drug influence</td>\n",
       "      <td>0.0</td>\n",
       "      <td>hatchback</td>\n",
       "      <td>manual</td>\n",
       "      <td>-0.587643</td>\n",
       "    </tr>\n",
       "  </tbody>\n",
       "</table>\n",
       "</div>"
      ],
      "text/plain": [
       "       county_city_location direction weather_1 location_type road_surface  \\\n",
       "42636              0.593267     south     clear       unknown          dry   \n",
       "31622              2.161716   unknown     clear       unknown          dry   \n",
       "50346             -0.733942      west    cloudy       unknown          wet   \n",
       "\n",
       "      road_condition_1                 lighting control_device  \\\n",
       "42636           normal                 daylight           none   \n",
       "31622           normal                 daylight    functioning   \n",
       "50346           normal  dark with street lights           none   \n",
       "\n",
       "       insurance_premium                      party_sobriety  \\\n",
       "42636          -1.009503               had not been drinking   \n",
       "31622           2.071541               had not been drinking   \n",
       "50346          -1.194365  had been drinking, under influence   \n",
       "\n",
       "        party_drug_physical  cellphone_in_use vehicle_type  \\\n",
       "42636               unknown               0.0        sedan   \n",
       "31622               unknown               0.0        sedan   \n",
       "50346  under drug influence               0.0    hatchback   \n",
       "\n",
       "      vehicle_transmission  vehicle_age  \n",
       "42636                 auto     1.536495  \n",
       "31622                 auto     1.536495  \n",
       "50346               manual    -0.587643  "
      ]
     },
     "metadata": {},
     "output_type": "display_data"
    },
    {
     "data": {
      "text/html": [
       "<div>\n",
       "<style scoped>\n",
       "    .dataframe tbody tr th:only-of-type {\n",
       "        vertical-align: middle;\n",
       "    }\n",
       "\n",
       "    .dataframe tbody tr th {\n",
       "        vertical-align: top;\n",
       "    }\n",
       "\n",
       "    .dataframe thead th {\n",
       "        text-align: right;\n",
       "    }\n",
       "</style>\n",
       "<table border=\"1\" class=\"dataframe\">\n",
       "  <thead>\n",
       "    <tr style=\"text-align: right;\">\n",
       "      <th></th>\n",
       "      <th>county_city_location</th>\n",
       "      <th>direction</th>\n",
       "      <th>weather_1</th>\n",
       "      <th>location_type</th>\n",
       "      <th>road_surface</th>\n",
       "      <th>road_condition_1</th>\n",
       "      <th>lighting</th>\n",
       "      <th>control_device</th>\n",
       "      <th>insurance_premium</th>\n",
       "      <th>party_sobriety</th>\n",
       "      <th>party_drug_physical</th>\n",
       "      <th>cellphone_in_use</th>\n",
       "      <th>vehicle_type</th>\n",
       "      <th>vehicle_transmission</th>\n",
       "      <th>vehicle_age</th>\n",
       "    </tr>\n",
       "  </thead>\n",
       "  <tbody>\n",
       "    <tr>\n",
       "      <th>54604</th>\n",
       "      <td>2.160935</td>\n",
       "      <td>unknown</td>\n",
       "      <td>clear</td>\n",
       "      <td>unknown</td>\n",
       "      <td>dry</td>\n",
       "      <td>normal</td>\n",
       "      <td>daylight</td>\n",
       "      <td>functioning</td>\n",
       "      <td>-0.886261</td>\n",
       "      <td>had not been drinking</td>\n",
       "      <td>unknown</td>\n",
       "      <td>0.0</td>\n",
       "      <td>sedan</td>\n",
       "      <td>auto</td>\n",
       "      <td>-0.284195</td>\n",
       "    </tr>\n",
       "    <tr>\n",
       "      <th>88359</th>\n",
       "      <td>-0.733942</td>\n",
       "      <td>unknown</td>\n",
       "      <td>cloudy</td>\n",
       "      <td>unknown</td>\n",
       "      <td>dry</td>\n",
       "      <td>normal</td>\n",
       "      <td>daylight</td>\n",
       "      <td>functioning</td>\n",
       "      <td>-1.255986</td>\n",
       "      <td>had not been drinking</td>\n",
       "      <td>unknown</td>\n",
       "      <td>0.0</td>\n",
       "      <td>coupe</td>\n",
       "      <td>manual</td>\n",
       "      <td>-0.891092</td>\n",
       "    </tr>\n",
       "    <tr>\n",
       "      <th>131160</th>\n",
       "      <td>0.593267</td>\n",
       "      <td>south</td>\n",
       "      <td>clear</td>\n",
       "      <td>highway</td>\n",
       "      <td>dry</td>\n",
       "      <td>normal</td>\n",
       "      <td>daylight</td>\n",
       "      <td>none</td>\n",
       "      <td>-0.639777</td>\n",
       "      <td>had not been drinking</td>\n",
       "      <td>unknown</td>\n",
       "      <td>0.0</td>\n",
       "      <td>sedan</td>\n",
       "      <td>auto</td>\n",
       "      <td>-1.497988</td>\n",
       "    </tr>\n",
       "  </tbody>\n",
       "</table>\n",
       "</div>"
      ],
      "text/plain": [
       "        county_city_location direction weather_1 location_type road_surface  \\\n",
       "54604               2.160935   unknown     clear       unknown          dry   \n",
       "88359              -0.733942   unknown    cloudy       unknown          dry   \n",
       "131160              0.593267     south     clear       highway          dry   \n",
       "\n",
       "       road_condition_1  lighting control_device  insurance_premium  \\\n",
       "54604            normal  daylight    functioning          -0.886261   \n",
       "88359            normal  daylight    functioning          -1.255986   \n",
       "131160           normal  daylight           none          -0.639777   \n",
       "\n",
       "               party_sobriety party_drug_physical  cellphone_in_use  \\\n",
       "54604   had not been drinking             unknown               0.0   \n",
       "88359   had not been drinking             unknown               0.0   \n",
       "131160  had not been drinking             unknown               0.0   \n",
       "\n",
       "       vehicle_type vehicle_transmission  vehicle_age  \n",
       "54604         sedan                 auto    -0.284195  \n",
       "88359         coupe               manual    -0.891092  \n",
       "131160        sedan                 auto    -1.497988  "
      ]
     },
     "metadata": {},
     "output_type": "display_data"
    }
   ],
   "source": [
    "# уберем предупреждения\n",
    "warnings.filterwarnings('ignore')\n",
    "# используем scaler для преобразования числовых данных\n",
    "scaler = StandardScaler()  \n",
    "scaler.fit(X_train[numeric]) \n",
    "X_train[numeric] = scaler.transform(X_train[numeric])\n",
    "X_test[numeric] = scaler.transform(X_test[numeric])\n",
    "display(X_train.head(3))\n",
    "display(X_test.head(3))"
   ]
  },
  {
   "cell_type": "markdown",
   "id": "8e2ef0bb",
   "metadata": {},
   "source": [
    "#### Категоризируем признаки"
   ]
  },
  {
   "cell_type": "code",
   "execution_count": 27,
   "id": "48e96f3e",
   "metadata": {},
   "outputs": [
    {
     "data": {
      "text/html": [
       "<div>\n",
       "<style scoped>\n",
       "    .dataframe tbody tr th:only-of-type {\n",
       "        vertical-align: middle;\n",
       "    }\n",
       "\n",
       "    .dataframe tbody tr th {\n",
       "        vertical-align: top;\n",
       "    }\n",
       "\n",
       "    .dataframe thead th {\n",
       "        text-align: right;\n",
       "    }\n",
       "</style>\n",
       "<table border=\"1\" class=\"dataframe\">\n",
       "  <thead>\n",
       "    <tr style=\"text-align: right;\">\n",
       "      <th></th>\n",
       "      <th>county_city_location</th>\n",
       "      <th>insurance_premium</th>\n",
       "      <th>vehicle_age</th>\n",
       "      <th>dir_east</th>\n",
       "      <th>dir_north</th>\n",
       "      <th>dir_south</th>\n",
       "      <th>dir_unknown</th>\n",
       "      <th>dir_west</th>\n",
       "      <th>w_clear</th>\n",
       "      <th>w_cloudy</th>\n",
       "      <th>w_fog</th>\n",
       "      <th>w_other</th>\n",
       "      <th>w_raining</th>\n",
       "      <th>w_snowing</th>\n",
       "      <th>w_unknown</th>\n",
       "      <th>w_wind</th>\n",
       "      <th>loctype_highway</th>\n",
       "      <th>loctype_intersection</th>\n",
       "      <th>loctype_ramp</th>\n",
       "      <th>loctype_unknown</th>\n",
       "      <th>r_surf_dry</th>\n",
       "      <th>r_surf_slippery</th>\n",
       "      <th>r_surf_snowy</th>\n",
       "      <th>r_surf_unknown</th>\n",
       "      <th>r_surf_wet</th>\n",
       "      <th>r_con_construction</th>\n",
       "      <th>r_con_flooded</th>\n",
       "      <th>r_con_holes</th>\n",
       "      <th>r_con_loose_material</th>\n",
       "      <th>r_con_normal</th>\n",
       "      <th>r_con_obstruction</th>\n",
       "      <th>r_con_other</th>\n",
       "      <th>r_con_reduced_width</th>\n",
       "      <th>r_con_unknown</th>\n",
       "      <th>light_dark_no_lights</th>\n",
       "      <th>light_dark_with_lights</th>\n",
       "      <th>light_dark_not_func_lights</th>\n",
       "      <th>light_daylight</th>\n",
       "      <th>light_dusk_dawn</th>\n",
       "      <th>light_unknown</th>\n",
       "      <th>con_dev_func</th>\n",
       "      <th>con_dev_none</th>\n",
       "      <th>con_dev_not_func</th>\n",
       "      <th>con_dev_obs</th>\n",
       "      <th>sobr_diu</th>\n",
       "      <th>sobr_dnui</th>\n",
       "      <th>sobr_dui</th>\n",
       "      <th>sobr_nd</th>\n",
       "      <th>sobr_iu</th>\n",
       "      <th>sobr_na</th>\n",
       "      <th>drug_G</th>\n",
       "      <th>drug_F</th>\n",
       "      <th>drug_H</th>\n",
       "      <th>drug_I</th>\n",
       "      <th>drug_E</th>\n",
       "      <th>drug_unknown</th>\n",
       "      <th>cell_0</th>\n",
       "      <th>cell_1</th>\n",
       "      <th>vehicle_type_coupe</th>\n",
       "      <th>vehicle_type_hatchback</th>\n",
       "      <th>vehicle_type_minivan</th>\n",
       "      <th>vehicle_type_other</th>\n",
       "      <th>vehicle_type_sedan</th>\n",
       "      <th>transmission_auto</th>\n",
       "      <th>transmission_manual</th>\n",
       "    </tr>\n",
       "  </thead>\n",
       "  <tbody>\n",
       "    <tr>\n",
       "      <th>42636</th>\n",
       "      <td>0.593267</td>\n",
       "      <td>-1.009503</td>\n",
       "      <td>1.536495</td>\n",
       "      <td>0.0</td>\n",
       "      <td>0.0</td>\n",
       "      <td>1.0</td>\n",
       "      <td>0.0</td>\n",
       "      <td>0.0</td>\n",
       "      <td>1.0</td>\n",
       "      <td>0.0</td>\n",
       "      <td>0.0</td>\n",
       "      <td>0.0</td>\n",
       "      <td>0.0</td>\n",
       "      <td>0.0</td>\n",
       "      <td>0.0</td>\n",
       "      <td>0.0</td>\n",
       "      <td>0.0</td>\n",
       "      <td>0.0</td>\n",
       "      <td>0.0</td>\n",
       "      <td>1.0</td>\n",
       "      <td>1.0</td>\n",
       "      <td>0.0</td>\n",
       "      <td>0.0</td>\n",
       "      <td>0.0</td>\n",
       "      <td>0.0</td>\n",
       "      <td>0.0</td>\n",
       "      <td>0.0</td>\n",
       "      <td>0.0</td>\n",
       "      <td>0.0</td>\n",
       "      <td>1.0</td>\n",
       "      <td>0.0</td>\n",
       "      <td>0.0</td>\n",
       "      <td>0.0</td>\n",
       "      <td>0.0</td>\n",
       "      <td>0.0</td>\n",
       "      <td>0.0</td>\n",
       "      <td>0.0</td>\n",
       "      <td>1.0</td>\n",
       "      <td>0.0</td>\n",
       "      <td>0.0</td>\n",
       "      <td>0.0</td>\n",
       "      <td>1.0</td>\n",
       "      <td>0.0</td>\n",
       "      <td>0.0</td>\n",
       "      <td>0.0</td>\n",
       "      <td>0.0</td>\n",
       "      <td>0.0</td>\n",
       "      <td>1.0</td>\n",
       "      <td>0.0</td>\n",
       "      <td>0.0</td>\n",
       "      <td>0.0</td>\n",
       "      <td>0.0</td>\n",
       "      <td>0.0</td>\n",
       "      <td>0.0</td>\n",
       "      <td>0.0</td>\n",
       "      <td>1.0</td>\n",
       "      <td>1.0</td>\n",
       "      <td>0.0</td>\n",
       "      <td>0.0</td>\n",
       "      <td>0.0</td>\n",
       "      <td>0.0</td>\n",
       "      <td>0.0</td>\n",
       "      <td>1.0</td>\n",
       "      <td>1.0</td>\n",
       "      <td>0.0</td>\n",
       "    </tr>\n",
       "    <tr>\n",
       "      <th>31622</th>\n",
       "      <td>2.161716</td>\n",
       "      <td>2.071541</td>\n",
       "      <td>1.536495</td>\n",
       "      <td>0.0</td>\n",
       "      <td>0.0</td>\n",
       "      <td>0.0</td>\n",
       "      <td>1.0</td>\n",
       "      <td>0.0</td>\n",
       "      <td>1.0</td>\n",
       "      <td>0.0</td>\n",
       "      <td>0.0</td>\n",
       "      <td>0.0</td>\n",
       "      <td>0.0</td>\n",
       "      <td>0.0</td>\n",
       "      <td>0.0</td>\n",
       "      <td>0.0</td>\n",
       "      <td>0.0</td>\n",
       "      <td>0.0</td>\n",
       "      <td>0.0</td>\n",
       "      <td>1.0</td>\n",
       "      <td>1.0</td>\n",
       "      <td>0.0</td>\n",
       "      <td>0.0</td>\n",
       "      <td>0.0</td>\n",
       "      <td>0.0</td>\n",
       "      <td>0.0</td>\n",
       "      <td>0.0</td>\n",
       "      <td>0.0</td>\n",
       "      <td>0.0</td>\n",
       "      <td>1.0</td>\n",
       "      <td>0.0</td>\n",
       "      <td>0.0</td>\n",
       "      <td>0.0</td>\n",
       "      <td>0.0</td>\n",
       "      <td>0.0</td>\n",
       "      <td>0.0</td>\n",
       "      <td>0.0</td>\n",
       "      <td>1.0</td>\n",
       "      <td>0.0</td>\n",
       "      <td>0.0</td>\n",
       "      <td>1.0</td>\n",
       "      <td>0.0</td>\n",
       "      <td>0.0</td>\n",
       "      <td>0.0</td>\n",
       "      <td>0.0</td>\n",
       "      <td>0.0</td>\n",
       "      <td>0.0</td>\n",
       "      <td>1.0</td>\n",
       "      <td>0.0</td>\n",
       "      <td>0.0</td>\n",
       "      <td>0.0</td>\n",
       "      <td>0.0</td>\n",
       "      <td>0.0</td>\n",
       "      <td>0.0</td>\n",
       "      <td>0.0</td>\n",
       "      <td>1.0</td>\n",
       "      <td>1.0</td>\n",
       "      <td>0.0</td>\n",
       "      <td>0.0</td>\n",
       "      <td>0.0</td>\n",
       "      <td>0.0</td>\n",
       "      <td>0.0</td>\n",
       "      <td>1.0</td>\n",
       "      <td>1.0</td>\n",
       "      <td>0.0</td>\n",
       "    </tr>\n",
       "    <tr>\n",
       "      <th>50346</th>\n",
       "      <td>-0.733942</td>\n",
       "      <td>-1.194365</td>\n",
       "      <td>-0.587643</td>\n",
       "      <td>0.0</td>\n",
       "      <td>0.0</td>\n",
       "      <td>0.0</td>\n",
       "      <td>0.0</td>\n",
       "      <td>1.0</td>\n",
       "      <td>0.0</td>\n",
       "      <td>1.0</td>\n",
       "      <td>0.0</td>\n",
       "      <td>0.0</td>\n",
       "      <td>0.0</td>\n",
       "      <td>0.0</td>\n",
       "      <td>0.0</td>\n",
       "      <td>0.0</td>\n",
       "      <td>0.0</td>\n",
       "      <td>0.0</td>\n",
       "      <td>0.0</td>\n",
       "      <td>1.0</td>\n",
       "      <td>0.0</td>\n",
       "      <td>0.0</td>\n",
       "      <td>0.0</td>\n",
       "      <td>0.0</td>\n",
       "      <td>1.0</td>\n",
       "      <td>0.0</td>\n",
       "      <td>0.0</td>\n",
       "      <td>0.0</td>\n",
       "      <td>0.0</td>\n",
       "      <td>1.0</td>\n",
       "      <td>0.0</td>\n",
       "      <td>0.0</td>\n",
       "      <td>0.0</td>\n",
       "      <td>0.0</td>\n",
       "      <td>0.0</td>\n",
       "      <td>1.0</td>\n",
       "      <td>0.0</td>\n",
       "      <td>0.0</td>\n",
       "      <td>0.0</td>\n",
       "      <td>0.0</td>\n",
       "      <td>0.0</td>\n",
       "      <td>1.0</td>\n",
       "      <td>0.0</td>\n",
       "      <td>0.0</td>\n",
       "      <td>0.0</td>\n",
       "      <td>0.0</td>\n",
       "      <td>1.0</td>\n",
       "      <td>0.0</td>\n",
       "      <td>0.0</td>\n",
       "      <td>0.0</td>\n",
       "      <td>0.0</td>\n",
       "      <td>0.0</td>\n",
       "      <td>0.0</td>\n",
       "      <td>0.0</td>\n",
       "      <td>1.0</td>\n",
       "      <td>0.0</td>\n",
       "      <td>1.0</td>\n",
       "      <td>0.0</td>\n",
       "      <td>0.0</td>\n",
       "      <td>1.0</td>\n",
       "      <td>0.0</td>\n",
       "      <td>0.0</td>\n",
       "      <td>0.0</td>\n",
       "      <td>0.0</td>\n",
       "      <td>1.0</td>\n",
       "    </tr>\n",
       "  </tbody>\n",
       "</table>\n",
       "</div>"
      ],
      "text/plain": [
       "       county_city_location  insurance_premium  vehicle_age  dir_east  \\\n",
       "42636              0.593267          -1.009503     1.536495       0.0   \n",
       "31622              2.161716           2.071541     1.536495       0.0   \n",
       "50346             -0.733942          -1.194365    -0.587643       0.0   \n",
       "\n",
       "       dir_north  dir_south  dir_unknown  dir_west  w_clear  w_cloudy  w_fog  \\\n",
       "42636        0.0        1.0          0.0       0.0      1.0       0.0    0.0   \n",
       "31622        0.0        0.0          1.0       0.0      1.0       0.0    0.0   \n",
       "50346        0.0        0.0          0.0       1.0      0.0       1.0    0.0   \n",
       "\n",
       "       w_other  w_raining  w_snowing  w_unknown  w_wind  loctype_highway  \\\n",
       "42636      0.0        0.0        0.0        0.0     0.0              0.0   \n",
       "31622      0.0        0.0        0.0        0.0     0.0              0.0   \n",
       "50346      0.0        0.0        0.0        0.0     0.0              0.0   \n",
       "\n",
       "       loctype_intersection  loctype_ramp  loctype_unknown  r_surf_dry  \\\n",
       "42636                   0.0           0.0              1.0         1.0   \n",
       "31622                   0.0           0.0              1.0         1.0   \n",
       "50346                   0.0           0.0              1.0         0.0   \n",
       "\n",
       "       r_surf_slippery  r_surf_snowy  r_surf_unknown  r_surf_wet  \\\n",
       "42636              0.0           0.0             0.0         0.0   \n",
       "31622              0.0           0.0             0.0         0.0   \n",
       "50346              0.0           0.0             0.0         1.0   \n",
       "\n",
       "       r_con_construction  r_con_flooded  r_con_holes  r_con_loose_material  \\\n",
       "42636                 0.0            0.0          0.0                   0.0   \n",
       "31622                 0.0            0.0          0.0                   0.0   \n",
       "50346                 0.0            0.0          0.0                   0.0   \n",
       "\n",
       "       r_con_normal  r_con_obstruction  r_con_other  r_con_reduced_width  \\\n",
       "42636           1.0                0.0          0.0                  0.0   \n",
       "31622           1.0                0.0          0.0                  0.0   \n",
       "50346           1.0                0.0          0.0                  0.0   \n",
       "\n",
       "       r_con_unknown  light_dark_no_lights  light_dark_with_lights  \\\n",
       "42636            0.0                   0.0                     0.0   \n",
       "31622            0.0                   0.0                     0.0   \n",
       "50346            0.0                   0.0                     1.0   \n",
       "\n",
       "       light_dark_not_func_lights  light_daylight  light_dusk_dawn  \\\n",
       "42636                         0.0             1.0              0.0   \n",
       "31622                         0.0             1.0              0.0   \n",
       "50346                         0.0             0.0              0.0   \n",
       "\n",
       "       light_unknown  con_dev_func  con_dev_none  con_dev_not_func  \\\n",
       "42636            0.0           0.0           1.0               0.0   \n",
       "31622            0.0           1.0           0.0               0.0   \n",
       "50346            0.0           0.0           1.0               0.0   \n",
       "\n",
       "       con_dev_obs  sobr_diu  sobr_dnui  sobr_dui  sobr_nd  sobr_iu  sobr_na  \\\n",
       "42636          0.0       0.0        0.0       0.0      1.0      0.0      0.0   \n",
       "31622          0.0       0.0        0.0       0.0      1.0      0.0      0.0   \n",
       "50346          0.0       0.0        0.0       1.0      0.0      0.0      0.0   \n",
       "\n",
       "       drug_G  drug_F  drug_H  drug_I  drug_E  drug_unknown  cell_0  cell_1  \\\n",
       "42636     0.0     0.0     0.0     0.0     0.0           1.0     1.0     0.0   \n",
       "31622     0.0     0.0     0.0     0.0     0.0           1.0     1.0     0.0   \n",
       "50346     0.0     0.0     0.0     0.0     1.0           0.0     1.0     0.0   \n",
       "\n",
       "       vehicle_type_coupe  vehicle_type_hatchback  vehicle_type_minivan  \\\n",
       "42636                 0.0                     0.0                   0.0   \n",
       "31622                 0.0                     0.0                   0.0   \n",
       "50346                 0.0                     1.0                   0.0   \n",
       "\n",
       "       vehicle_type_other  vehicle_type_sedan  transmission_auto  \\\n",
       "42636                 0.0                 1.0                1.0   \n",
       "31622                 0.0                 1.0                1.0   \n",
       "50346                 0.0                 0.0                0.0   \n",
       "\n",
       "       transmission_manual  \n",
       "42636                  0.0  \n",
       "31622                  0.0  \n",
       "50346                  1.0  "
      ]
     },
     "metadata": {},
     "output_type": "display_data"
    },
    {
     "data": {
      "text/plain": [
       "'X_train_new: (87772, 65)'"
      ]
     },
     "metadata": {},
     "output_type": "display_data"
    }
   ],
   "source": [
    "# используем ohe для преобразования категориальных данных\n",
    "ohe = OneHotEncoder(handle_unknown='error') \n",
    "# преобразуем обучающую выборку\n",
    "X_train_cop = X_train.copy()\n",
    "X_train_cop = X_train_cop.reset_index(drop=True)\n",
    "transformed_train = ohe.fit_transform(X_train_cop[categorical])\n",
    "transformed_train = pd.DataFrame(transformed_train.toarray(), columns =(list(ohe.categories_[0])+\n",
    "                                                                        list(ohe.categories_[1])+\n",
    "                                                                        list(ohe.categories_[2])+\n",
    "                                                                        list(ohe.categories_[3])+\n",
    "                                                                        list(ohe.categories_[4])+\n",
    "                                                                        list(ohe.categories_[5])+\n",
    "                                                                        list(ohe.categories_[6])+\n",
    "                                                                        list(ohe.categories_[7])+\n",
    "                                                                        list(ohe.categories_[8])+\n",
    "                                                                        list(ohe.categories_[9])+\n",
    "                                                                        list(ohe.categories_[10])+\n",
    "                                                                        list(ohe.categories_[11])))\n",
    "X_train_new = X_train_cop.join(transformed_train, rsuffix='_right')\n",
    "X_train_new = X_train_new.drop(categorical, axis=1)\n",
    "X_train_new.columns = ['county_city_location', 'insurance_premium', 'vehicle_age', 'dir_east', 'dir_north', 'dir_south', \n",
    "                       'dir_unknown', 'dir_west', 'w_clear','w_cloudy', 'w_fog', 'w_other', 'w_raining', 'w_snowing', \n",
    "                       'w_unknown', 'w_wind', 'loctype_highway', 'loctype_intersection', 'loctype_ramp', 'loctype_unknown',\n",
    "                       'r_surf_dry', 'r_surf_slippery', 'r_surf_snowy', 'r_surf_unknown', 'r_surf_wet', 'r_con_construction',\n",
    "                       'r_con_flooded', 'r_con_holes', 'r_con_loose_material', 'r_con_normal', 'r_con_obstruction', \n",
    "                       'r_con_other', 'r_con_reduced_width', 'r_con_unknown', 'light_dark_no_lights', 'light_dark_with_lights', \n",
    "                       'light_dark_not_func_lights', 'light_daylight','light_dusk_dawn', 'light_unknown', 'con_dev_func', \n",
    "                       'con_dev_none', 'con_dev_not_func', 'con_dev_obs', 'sobr_diu', 'sobr_dnui', 'sobr_dui', 'sobr_nd',\n",
    "                       'sobr_iu', 'sobr_na', 'drug_G', 'drug_F', 'drug_H', 'drug_I', 'drug_E', 'drug_unknown', 'cell_0',\n",
    "                       'cell_1', 'vehicle_type_coupe', 'vehicle_type_hatchback', 'vehicle_type_minivan', 'vehicle_type_other',\n",
    "                       'vehicle_type_sedan', 'transmission_auto', 'transmission_manual']\n",
    "X_train_new = X_train_new.set_index(X_train.index)\n",
    "display(X_train_new.head(3))\n",
    "display(f'X_train_new: {X_train_new.shape}')"
   ]
  },
  {
   "cell_type": "code",
   "execution_count": 28,
   "id": "5059ef92",
   "metadata": {},
   "outputs": [
    {
     "data": {
      "text/html": [
       "<div>\n",
       "<style scoped>\n",
       "    .dataframe tbody tr th:only-of-type {\n",
       "        vertical-align: middle;\n",
       "    }\n",
       "\n",
       "    .dataframe tbody tr th {\n",
       "        vertical-align: top;\n",
       "    }\n",
       "\n",
       "    .dataframe thead th {\n",
       "        text-align: right;\n",
       "    }\n",
       "</style>\n",
       "<table border=\"1\" class=\"dataframe\">\n",
       "  <thead>\n",
       "    <tr style=\"text-align: right;\">\n",
       "      <th></th>\n",
       "      <th>county_city_location</th>\n",
       "      <th>insurance_premium</th>\n",
       "      <th>vehicle_age</th>\n",
       "      <th>dir_east</th>\n",
       "      <th>dir_north</th>\n",
       "      <th>dir_south</th>\n",
       "      <th>dir_unknown</th>\n",
       "      <th>dir_west</th>\n",
       "      <th>w_clear</th>\n",
       "      <th>w_cloudy</th>\n",
       "      <th>w_fog</th>\n",
       "      <th>w_other</th>\n",
       "      <th>w_raining</th>\n",
       "      <th>w_snowing</th>\n",
       "      <th>w_unknown</th>\n",
       "      <th>w_wind</th>\n",
       "      <th>loctype_highway</th>\n",
       "      <th>loctype_intersection</th>\n",
       "      <th>loctype_ramp</th>\n",
       "      <th>loctype_unknown</th>\n",
       "      <th>r_surf_dry</th>\n",
       "      <th>r_surf_slippery</th>\n",
       "      <th>r_surf_snowy</th>\n",
       "      <th>r_surf_unknown</th>\n",
       "      <th>r_surf_wet</th>\n",
       "      <th>r_con_construction</th>\n",
       "      <th>r_con_flooded</th>\n",
       "      <th>r_con_holes</th>\n",
       "      <th>r_con_loose_material</th>\n",
       "      <th>r_con_normal</th>\n",
       "      <th>r_con_obstruction</th>\n",
       "      <th>r_con_other</th>\n",
       "      <th>r_con_reduced_width</th>\n",
       "      <th>r_con_unknown</th>\n",
       "      <th>light_dark_no_lights</th>\n",
       "      <th>light_dark_with_lights</th>\n",
       "      <th>light_dark_not_func_lights</th>\n",
       "      <th>light_daylight</th>\n",
       "      <th>light_dusk_dawn</th>\n",
       "      <th>light_unknown</th>\n",
       "      <th>con_dev_func</th>\n",
       "      <th>con_dev_none</th>\n",
       "      <th>con_dev_not_func</th>\n",
       "      <th>con_dev_obs</th>\n",
       "      <th>sobr_diu</th>\n",
       "      <th>sobr_dnui</th>\n",
       "      <th>sobr_dui</th>\n",
       "      <th>sobr_nd</th>\n",
       "      <th>sobr_iu</th>\n",
       "      <th>sobr_na</th>\n",
       "      <th>drug_G</th>\n",
       "      <th>drug_F</th>\n",
       "      <th>drug_H</th>\n",
       "      <th>drug_I</th>\n",
       "      <th>drug_E</th>\n",
       "      <th>drug_unknown</th>\n",
       "      <th>cell_0</th>\n",
       "      <th>cell_1</th>\n",
       "      <th>vehicle_type_coupe</th>\n",
       "      <th>vehicle_type_hatchback</th>\n",
       "      <th>vehicle_type_minivan</th>\n",
       "      <th>vehicle_type_other</th>\n",
       "      <th>vehicle_type_sedan</th>\n",
       "      <th>transmission_auto</th>\n",
       "      <th>transmission_manual</th>\n",
       "    </tr>\n",
       "  </thead>\n",
       "  <tbody>\n",
       "    <tr>\n",
       "      <th>54604</th>\n",
       "      <td>2.160935</td>\n",
       "      <td>-0.886261</td>\n",
       "      <td>-0.284195</td>\n",
       "      <td>0.0</td>\n",
       "      <td>0.0</td>\n",
       "      <td>0.0</td>\n",
       "      <td>1.0</td>\n",
       "      <td>0.0</td>\n",
       "      <td>1.0</td>\n",
       "      <td>0.0</td>\n",
       "      <td>0.0</td>\n",
       "      <td>0.0</td>\n",
       "      <td>0.0</td>\n",
       "      <td>0.0</td>\n",
       "      <td>0.0</td>\n",
       "      <td>0.0</td>\n",
       "      <td>0.0</td>\n",
       "      <td>0.0</td>\n",
       "      <td>0.0</td>\n",
       "      <td>1.0</td>\n",
       "      <td>1.0</td>\n",
       "      <td>0.0</td>\n",
       "      <td>0.0</td>\n",
       "      <td>0.0</td>\n",
       "      <td>0.0</td>\n",
       "      <td>0.0</td>\n",
       "      <td>0.0</td>\n",
       "      <td>0.0</td>\n",
       "      <td>0.0</td>\n",
       "      <td>1.0</td>\n",
       "      <td>0.0</td>\n",
       "      <td>0.0</td>\n",
       "      <td>0.0</td>\n",
       "      <td>0.0</td>\n",
       "      <td>0.0</td>\n",
       "      <td>0.0</td>\n",
       "      <td>0.0</td>\n",
       "      <td>1.0</td>\n",
       "      <td>0.0</td>\n",
       "      <td>0.0</td>\n",
       "      <td>1.0</td>\n",
       "      <td>0.0</td>\n",
       "      <td>0.0</td>\n",
       "      <td>0.0</td>\n",
       "      <td>0.0</td>\n",
       "      <td>0.0</td>\n",
       "      <td>0.0</td>\n",
       "      <td>1.0</td>\n",
       "      <td>0.0</td>\n",
       "      <td>0.0</td>\n",
       "      <td>0.0</td>\n",
       "      <td>0.0</td>\n",
       "      <td>0.0</td>\n",
       "      <td>0.0</td>\n",
       "      <td>0.0</td>\n",
       "      <td>1.0</td>\n",
       "      <td>1.0</td>\n",
       "      <td>0.0</td>\n",
       "      <td>0.0</td>\n",
       "      <td>0.0</td>\n",
       "      <td>0.0</td>\n",
       "      <td>0.0</td>\n",
       "      <td>1.0</td>\n",
       "      <td>1.0</td>\n",
       "      <td>0.0</td>\n",
       "    </tr>\n",
       "    <tr>\n",
       "      <th>88359</th>\n",
       "      <td>-0.733942</td>\n",
       "      <td>-1.255986</td>\n",
       "      <td>-0.891092</td>\n",
       "      <td>0.0</td>\n",
       "      <td>0.0</td>\n",
       "      <td>0.0</td>\n",
       "      <td>1.0</td>\n",
       "      <td>0.0</td>\n",
       "      <td>0.0</td>\n",
       "      <td>1.0</td>\n",
       "      <td>0.0</td>\n",
       "      <td>0.0</td>\n",
       "      <td>0.0</td>\n",
       "      <td>0.0</td>\n",
       "      <td>0.0</td>\n",
       "      <td>0.0</td>\n",
       "      <td>0.0</td>\n",
       "      <td>0.0</td>\n",
       "      <td>0.0</td>\n",
       "      <td>1.0</td>\n",
       "      <td>1.0</td>\n",
       "      <td>0.0</td>\n",
       "      <td>0.0</td>\n",
       "      <td>0.0</td>\n",
       "      <td>0.0</td>\n",
       "      <td>0.0</td>\n",
       "      <td>0.0</td>\n",
       "      <td>0.0</td>\n",
       "      <td>0.0</td>\n",
       "      <td>1.0</td>\n",
       "      <td>0.0</td>\n",
       "      <td>0.0</td>\n",
       "      <td>0.0</td>\n",
       "      <td>0.0</td>\n",
       "      <td>0.0</td>\n",
       "      <td>0.0</td>\n",
       "      <td>0.0</td>\n",
       "      <td>1.0</td>\n",
       "      <td>0.0</td>\n",
       "      <td>0.0</td>\n",
       "      <td>1.0</td>\n",
       "      <td>0.0</td>\n",
       "      <td>0.0</td>\n",
       "      <td>0.0</td>\n",
       "      <td>0.0</td>\n",
       "      <td>0.0</td>\n",
       "      <td>0.0</td>\n",
       "      <td>1.0</td>\n",
       "      <td>0.0</td>\n",
       "      <td>0.0</td>\n",
       "      <td>0.0</td>\n",
       "      <td>0.0</td>\n",
       "      <td>0.0</td>\n",
       "      <td>0.0</td>\n",
       "      <td>0.0</td>\n",
       "      <td>1.0</td>\n",
       "      <td>1.0</td>\n",
       "      <td>0.0</td>\n",
       "      <td>1.0</td>\n",
       "      <td>0.0</td>\n",
       "      <td>0.0</td>\n",
       "      <td>0.0</td>\n",
       "      <td>0.0</td>\n",
       "      <td>0.0</td>\n",
       "      <td>1.0</td>\n",
       "    </tr>\n",
       "    <tr>\n",
       "      <th>131160</th>\n",
       "      <td>0.593267</td>\n",
       "      <td>-0.639777</td>\n",
       "      <td>-1.497988</td>\n",
       "      <td>0.0</td>\n",
       "      <td>0.0</td>\n",
       "      <td>1.0</td>\n",
       "      <td>0.0</td>\n",
       "      <td>0.0</td>\n",
       "      <td>1.0</td>\n",
       "      <td>0.0</td>\n",
       "      <td>0.0</td>\n",
       "      <td>0.0</td>\n",
       "      <td>0.0</td>\n",
       "      <td>0.0</td>\n",
       "      <td>0.0</td>\n",
       "      <td>0.0</td>\n",
       "      <td>1.0</td>\n",
       "      <td>0.0</td>\n",
       "      <td>0.0</td>\n",
       "      <td>0.0</td>\n",
       "      <td>1.0</td>\n",
       "      <td>0.0</td>\n",
       "      <td>0.0</td>\n",
       "      <td>0.0</td>\n",
       "      <td>0.0</td>\n",
       "      <td>0.0</td>\n",
       "      <td>0.0</td>\n",
       "      <td>0.0</td>\n",
       "      <td>0.0</td>\n",
       "      <td>1.0</td>\n",
       "      <td>0.0</td>\n",
       "      <td>0.0</td>\n",
       "      <td>0.0</td>\n",
       "      <td>0.0</td>\n",
       "      <td>0.0</td>\n",
       "      <td>0.0</td>\n",
       "      <td>0.0</td>\n",
       "      <td>1.0</td>\n",
       "      <td>0.0</td>\n",
       "      <td>0.0</td>\n",
       "      <td>0.0</td>\n",
       "      <td>1.0</td>\n",
       "      <td>0.0</td>\n",
       "      <td>0.0</td>\n",
       "      <td>0.0</td>\n",
       "      <td>0.0</td>\n",
       "      <td>0.0</td>\n",
       "      <td>1.0</td>\n",
       "      <td>0.0</td>\n",
       "      <td>0.0</td>\n",
       "      <td>0.0</td>\n",
       "      <td>0.0</td>\n",
       "      <td>0.0</td>\n",
       "      <td>0.0</td>\n",
       "      <td>0.0</td>\n",
       "      <td>1.0</td>\n",
       "      <td>1.0</td>\n",
       "      <td>0.0</td>\n",
       "      <td>0.0</td>\n",
       "      <td>0.0</td>\n",
       "      <td>0.0</td>\n",
       "      <td>0.0</td>\n",
       "      <td>1.0</td>\n",
       "      <td>1.0</td>\n",
       "      <td>0.0</td>\n",
       "    </tr>\n",
       "  </tbody>\n",
       "</table>\n",
       "</div>"
      ],
      "text/plain": [
       "        county_city_location  insurance_premium  vehicle_age  dir_east  \\\n",
       "54604               2.160935          -0.886261    -0.284195       0.0   \n",
       "88359              -0.733942          -1.255986    -0.891092       0.0   \n",
       "131160              0.593267          -0.639777    -1.497988       0.0   \n",
       "\n",
       "        dir_north  dir_south  dir_unknown  dir_west  w_clear  w_cloudy  w_fog  \\\n",
       "54604         0.0        0.0          1.0       0.0      1.0       0.0    0.0   \n",
       "88359         0.0        0.0          1.0       0.0      0.0       1.0    0.0   \n",
       "131160        0.0        1.0          0.0       0.0      1.0       0.0    0.0   \n",
       "\n",
       "        w_other  w_raining  w_snowing  w_unknown  w_wind  loctype_highway  \\\n",
       "54604       0.0        0.0        0.0        0.0     0.0              0.0   \n",
       "88359       0.0        0.0        0.0        0.0     0.0              0.0   \n",
       "131160      0.0        0.0        0.0        0.0     0.0              1.0   \n",
       "\n",
       "        loctype_intersection  loctype_ramp  loctype_unknown  r_surf_dry  \\\n",
       "54604                    0.0           0.0              1.0         1.0   \n",
       "88359                    0.0           0.0              1.0         1.0   \n",
       "131160                   0.0           0.0              0.0         1.0   \n",
       "\n",
       "        r_surf_slippery  r_surf_snowy  r_surf_unknown  r_surf_wet  \\\n",
       "54604               0.0           0.0             0.0         0.0   \n",
       "88359               0.0           0.0             0.0         0.0   \n",
       "131160              0.0           0.0             0.0         0.0   \n",
       "\n",
       "        r_con_construction  r_con_flooded  r_con_holes  r_con_loose_material  \\\n",
       "54604                  0.0            0.0          0.0                   0.0   \n",
       "88359                  0.0            0.0          0.0                   0.0   \n",
       "131160                 0.0            0.0          0.0                   0.0   \n",
       "\n",
       "        r_con_normal  r_con_obstruction  r_con_other  r_con_reduced_width  \\\n",
       "54604            1.0                0.0          0.0                  0.0   \n",
       "88359            1.0                0.0          0.0                  0.0   \n",
       "131160           1.0                0.0          0.0                  0.0   \n",
       "\n",
       "        r_con_unknown  light_dark_no_lights  light_dark_with_lights  \\\n",
       "54604             0.0                   0.0                     0.0   \n",
       "88359             0.0                   0.0                     0.0   \n",
       "131160            0.0                   0.0                     0.0   \n",
       "\n",
       "        light_dark_not_func_lights  light_daylight  light_dusk_dawn  \\\n",
       "54604                          0.0             1.0              0.0   \n",
       "88359                          0.0             1.0              0.0   \n",
       "131160                         0.0             1.0              0.0   \n",
       "\n",
       "        light_unknown  con_dev_func  con_dev_none  con_dev_not_func  \\\n",
       "54604             0.0           1.0           0.0               0.0   \n",
       "88359             0.0           1.0           0.0               0.0   \n",
       "131160            0.0           0.0           1.0               0.0   \n",
       "\n",
       "        con_dev_obs  sobr_diu  sobr_dnui  sobr_dui  sobr_nd  sobr_iu  sobr_na  \\\n",
       "54604           0.0       0.0        0.0       0.0      1.0      0.0      0.0   \n",
       "88359           0.0       0.0        0.0       0.0      1.0      0.0      0.0   \n",
       "131160          0.0       0.0        0.0       0.0      1.0      0.0      0.0   \n",
       "\n",
       "        drug_G  drug_F  drug_H  drug_I  drug_E  drug_unknown  cell_0  cell_1  \\\n",
       "54604      0.0     0.0     0.0     0.0     0.0           1.0     1.0     0.0   \n",
       "88359      0.0     0.0     0.0     0.0     0.0           1.0     1.0     0.0   \n",
       "131160     0.0     0.0     0.0     0.0     0.0           1.0     1.0     0.0   \n",
       "\n",
       "        vehicle_type_coupe  vehicle_type_hatchback  vehicle_type_minivan  \\\n",
       "54604                  0.0                     0.0                   0.0   \n",
       "88359                  1.0                     0.0                   0.0   \n",
       "131160                 0.0                     0.0                   0.0   \n",
       "\n",
       "        vehicle_type_other  vehicle_type_sedan  transmission_auto  \\\n",
       "54604                  0.0                 1.0                1.0   \n",
       "88359                  0.0                 0.0                0.0   \n",
       "131160                 0.0                 1.0                1.0   \n",
       "\n",
       "        transmission_manual  \n",
       "54604                   0.0  \n",
       "88359                   1.0  \n",
       "131160                  0.0  "
      ]
     },
     "metadata": {},
     "output_type": "display_data"
    },
    {
     "data": {
      "text/plain": [
       "'X_test_new: (37617, 65)'"
      ]
     },
     "metadata": {},
     "output_type": "display_data"
    }
   ],
   "source": [
    "# преобразуем тестовую выборку\n",
    "X_test_cop = X_test.copy()\n",
    "X_test_cop = X_test_cop.reset_index(drop=True)\n",
    "transformed_test = ohe.transform(X_test_cop[categorical])\n",
    "transformed_test = pd.DataFrame(transformed_test.toarray(), columns =(list(ohe.categories_[0])+\n",
    "                                                                        list(ohe.categories_[1])+\n",
    "                                                                        list(ohe.categories_[2])+\n",
    "                                                                        list(ohe.categories_[3])+\n",
    "                                                                        list(ohe.categories_[4])+\n",
    "                                                                        list(ohe.categories_[5])+\n",
    "                                                                        list(ohe.categories_[6])+\n",
    "                                                                        list(ohe.categories_[7])+\n",
    "                                                                        list(ohe.categories_[8])+\n",
    "                                                                        list(ohe.categories_[9])+\n",
    "                                                                        list(ohe.categories_[10])+\n",
    "                                                                        list(ohe.categories_[11])))\n",
    "X_test_new = X_test_cop.join(transformed_test, rsuffix='_right')\n",
    "X_test_new = X_test_new.drop(categorical, axis=1)\n",
    "X_test_new.columns = ['county_city_location', 'insurance_premium', 'vehicle_age', 'dir_east', 'dir_north', 'dir_south', \n",
    "                       'dir_unknown', 'dir_west', 'w_clear','w_cloudy', 'w_fog', 'w_other', 'w_raining', 'w_snowing', \n",
    "                       'w_unknown', 'w_wind', 'loctype_highway', 'loctype_intersection', 'loctype_ramp', 'loctype_unknown',\n",
    "                       'r_surf_dry', 'r_surf_slippery', 'r_surf_snowy', 'r_surf_unknown', 'r_surf_wet', 'r_con_construction',\n",
    "                       'r_con_flooded', 'r_con_holes', 'r_con_loose_material', 'r_con_normal', 'r_con_obstruction', \n",
    "                       'r_con_other', 'r_con_reduced_width', 'r_con_unknown', 'light_dark_no_lights', 'light_dark_with_lights', \n",
    "                       'light_dark_not_func_lights', 'light_daylight','light_dusk_dawn', 'light_unknown', 'con_dev_func', \n",
    "                       'con_dev_none', 'con_dev_not_func', 'con_dev_obs', 'sobr_diu', 'sobr_dnui', 'sobr_dui', 'sobr_nd',\n",
    "                       'sobr_iu', 'sobr_na', 'drug_G', 'drug_F', 'drug_H', 'drug_I', 'drug_E', 'drug_unknown', 'cell_0',\n",
    "                       'cell_1', 'vehicle_type_coupe', 'vehicle_type_hatchback', 'vehicle_type_minivan', 'vehicle_type_other',\n",
    "                       'vehicle_type_sedan', 'transmission_auto', 'transmission_manual']\n",
    "X_test_new = X_test_new.set_index(X_test.index)\n",
    "display(X_test_new.head(3))\n",
    "display(f'X_test_new: {X_test_new.shape}')"
   ]
  },
  {
   "cell_type": "markdown",
   "id": "1a143bb1",
   "metadata": {},
   "source": [
    "#### Вывод"
   ]
  },
  {
   "cell_type": "markdown",
   "id": "dbbfc100",
   "metadata": {},
   "source": [
    "1. В процессе подготовки данных были заполнены пропуски: \n",
    "- Заглушкой `unknown`, либо наиболее подходящим значением в сторону наибольшей группы категорий, например `none`, `not applicable`, `0` или `manual`. \n",
    "- В данных, имеющие тип `float`, заполнены медианой.\n",
    "2. Удалены дублирующиеся строки.\n",
    "3. Выборки разделены на обучающую и тестовую в соотношении 70/30.\n",
    "4. Проведены категоризация признаков методом OHE.\n",
    "5. Проведено масштабирование признаков с помощью StandardScaler."
   ]
  },
  {
   "cell_type": "markdown",
   "id": "7488afea",
   "metadata": {},
   "source": [
    "### Выбор метрики"
   ]
  },
  {
   "cell_type": "markdown",
   "id": "a94b1628",
   "metadata": {},
   "source": [
    "При рассмотрении `Precision`, `Recall` и `F1` меры, выбор пал именно на последнюю. Так как `Recall` описывает, как хорошо модель разобралась в особенностях класса и распознала его, а `Precision` выявляет, не преувеличивает ли модель, присваивая положительные метки. Поэтому оптимальным решением будет выбор `F1` меры, как средне гармонического между `Precision` и `Recall`. "
   ]
  },
  {
   "cell_type": "markdown",
   "id": "7d2fe35c",
   "metadata": {},
   "source": [
    "## Проведите анализ важности факторов ДТП"
   ]
  },
  {
   "cell_type": "markdown",
   "id": "507408a9",
   "metadata": {},
   "source": [
    "### Модель LogisticRegression"
   ]
  },
  {
   "cell_type": "code",
   "execution_count": 29,
   "id": "79ab66a7",
   "metadata": {},
   "outputs": [
    {
     "data": {
      "text/plain": [
       "0.538469663978216"
      ]
     },
     "metadata": {},
     "output_type": "display_data"
    },
    {
     "data": {
      "text/plain": [
       "{'C': 10000.0, 'max_iter': 5000, 'solver': 'lbfgs'}"
      ]
     },
     "metadata": {},
     "output_type": "display_data"
    },
    {
     "name": "stdout",
     "output_type": "stream",
     "text": [
      "CPU times: user 4min 38s, sys: 3min 32s, total: 8min 11s\n",
      "Wall time: 8min 12s\n"
     ]
    }
   ],
   "source": [
    "%%time\n",
    "start_0 = time.time()\n",
    "### обучим модель LogisticRegression с помощью GridSearchCV для расчета f1 меры\n",
    "# параметры по сетке\n",
    "parameters_0 = {\n",
    "    'max_iter': [5000, 10000], \n",
    "    'C': [1e3, 1e4],\n",
    "    'solver': ['newton-cg', 'lbfgs'] \n",
    "}\n",
    "log_reg0 = LogisticRegression(random_state=42, class_weight='balanced')\n",
    "clf_0 = GridSearchCV(log_reg0, parameters_0, scoring='f1', cv=3, n_jobs=-1)\n",
    "clf_0.fit(X_train_new, y_train)\n",
    "score_0 = clf_0.best_score_\n",
    "display(score_0)\n",
    "display(clf_0.best_params_)\n",
    "end_0 = time.time() - start_0"
   ]
  },
  {
   "cell_type": "markdown",
   "id": "cbdcd4bf",
   "metadata": {},
   "source": [
    "### Модель RandomForestClassifier"
   ]
  },
  {
   "cell_type": "code",
   "execution_count": 47,
   "id": "23428929",
   "metadata": {},
   "outputs": [
    {
     "data": {
      "text/plain": [
       "0.5705435998173022"
      ]
     },
     "metadata": {},
     "output_type": "display_data"
    },
    {
     "data": {
      "text/plain": [
       "{'max_depth': 60, 'min_samples_leaf': 10, 'n_estimators': 100}"
      ]
     },
     "metadata": {},
     "output_type": "display_data"
    },
    {
     "name": "stdout",
     "output_type": "stream",
     "text": [
      "CPU times: user 2min 33s, sys: 639 ms, total: 2min 34s\n",
      "Wall time: 2min 34s\n"
     ]
    }
   ],
   "source": [
    "%%time\n",
    "start_1 = time.time()\n",
    "### обучим модель RandomForestClassifier с помощью GridSearchCV для расчета f1 меры\n",
    "# параметры по сетке\n",
    "parameters_1 = {\n",
    "    'n_estimators': [100, 150],\n",
    "    'max_depth': [60, 90],\n",
    "    'min_samples_leaf': [9, 10]\n",
    "}\n",
    "ran_for1 = RandomForestClassifier(random_state=42, class_weight='balanced')\n",
    "clf_1 = GridSearchCV(ran_for1, parameters_1, scoring='f1', cv=3, n_jobs=-1)\n",
    "clf_1.fit(X_train_new, y_train)\n",
    "score_1 = clf_1.best_score_\n",
    "display(score_1)\n",
    "display(clf_1.best_params_)\n",
    "end_1 = time.time() - start_1"
   ]
  },
  {
   "cell_type": "markdown",
   "id": "c39a4059",
   "metadata": {},
   "source": [
    "### Модель CatBoostClassifier"
   ]
  },
  {
   "cell_type": "code",
   "execution_count": 31,
   "id": "3838b85c",
   "metadata": {},
   "outputs": [],
   "source": [
    "### создадим баланс классов\n",
    "classes = np.unique(y_train)\n",
    "weights = compute_class_weight(class_weight='balanced', classes=classes, y=y_train)\n",
    "class_weights = dict(zip(classes, weights))"
   ]
  },
  {
   "cell_type": "code",
   "execution_count": 32,
   "id": "b5eafa87",
   "metadata": {
    "scrolled": true
   },
   "outputs": [
    {
     "name": "stdout",
     "output_type": "stream",
     "text": [
      "0:\tlearn: 0.6915486\ttotal: 82.8ms\tremaining: 1m 22s\n",
      "100:\tlearn: 0.6263238\ttotal: 3.22s\tremaining: 28.7s\n",
      "200:\tlearn: 0.6114867\ttotal: 6.49s\tremaining: 25.8s\n",
      "300:\tlearn: 0.6037778\ttotal: 9.71s\tremaining: 22.5s\n",
      "400:\tlearn: 0.5983471\ttotal: 12.9s\tremaining: 19.3s\n",
      "500:\tlearn: 0.5941163\ttotal: 16.2s\tremaining: 16.1s\n",
      "600:\tlearn: 0.5901565\ttotal: 19.5s\tremaining: 12.9s\n",
      "700:\tlearn: 0.5866617\ttotal: 22.8s\tremaining: 9.71s\n",
      "800:\tlearn: 0.5833903\ttotal: 26.4s\tremaining: 6.56s\n",
      "900:\tlearn: 0.5804161\ttotal: 29.9s\tremaining: 3.28s\n",
      "999:\tlearn: 0.5772855\ttotal: 33.3s\tremaining: 0us\n",
      "0:\tlearn: 0.6915897\ttotal: 32.5ms\tremaining: 32.4s\n",
      "100:\tlearn: 0.6275740\ttotal: 3.3s\tremaining: 29.4s\n",
      "200:\tlearn: 0.6127672\ttotal: 6.51s\tremaining: 25.9s\n",
      "300:\tlearn: 0.6051668\ttotal: 9.66s\tremaining: 22.4s\n",
      "400:\tlearn: 0.6000089\ttotal: 12.9s\tremaining: 19.3s\n",
      "500:\tlearn: 0.5953781\ttotal: 16.3s\tremaining: 16.2s\n",
      "600:\tlearn: 0.5912931\ttotal: 19.8s\tremaining: 13.2s\n",
      "700:\tlearn: 0.5875394\ttotal: 23.4s\tremaining: 9.99s\n",
      "800:\tlearn: 0.5840700\ttotal: 26.6s\tremaining: 6.62s\n",
      "900:\tlearn: 0.5808451\ttotal: 29.8s\tremaining: 3.27s\n",
      "999:\tlearn: 0.5776212\ttotal: 33.1s\tremaining: 0us\n",
      "0:\tlearn: 0.6915919\ttotal: 31.7ms\tremaining: 31.7s\n",
      "100:\tlearn: 0.6275979\ttotal: 3.2s\tremaining: 28.5s\n",
      "200:\tlearn: 0.6127560\ttotal: 6.49s\tremaining: 25.8s\n",
      "300:\tlearn: 0.6052689\ttotal: 9.96s\tremaining: 23.1s\n",
      "400:\tlearn: 0.5998984\ttotal: 13.4s\tremaining: 19.9s\n",
      "500:\tlearn: 0.5955391\ttotal: 16.8s\tremaining: 16.7s\n",
      "600:\tlearn: 0.5917966\ttotal: 20.2s\tremaining: 13.4s\n",
      "700:\tlearn: 0.5882399\ttotal: 23.6s\tremaining: 10.1s\n",
      "800:\tlearn: 0.5848801\ttotal: 27.2s\tremaining: 6.75s\n",
      "900:\tlearn: 0.5816738\ttotal: 30.4s\tremaining: 3.34s\n",
      "999:\tlearn: 0.5781307\ttotal: 33.6s\tremaining: 0us\n",
      "0:\tlearn: 0.6900422\ttotal: 31.9ms\tremaining: 31.8s\n",
      "100:\tlearn: 0.6112029\ttotal: 3.41s\tremaining: 30.3s\n",
      "200:\tlearn: 0.5985022\ttotal: 6.8s\tremaining: 27s\n",
      "300:\tlearn: 0.5899210\ttotal: 10s\tremaining: 23.2s\n",
      "400:\tlearn: 0.5832515\ttotal: 13.2s\tremaining: 19.8s\n",
      "500:\tlearn: 0.5769215\ttotal: 16.4s\tremaining: 16.4s\n",
      "600:\tlearn: 0.5701539\ttotal: 19.7s\tremaining: 13.1s\n",
      "700:\tlearn: 0.5627699\ttotal: 22.9s\tremaining: 9.79s\n",
      "800:\tlearn: 0.5562285\ttotal: 26.3s\tremaining: 6.53s\n",
      "900:\tlearn: 0.5500476\ttotal: 29.5s\tremaining: 3.24s\n",
      "999:\tlearn: 0.5444689\ttotal: 32.8s\tremaining: 0us\n",
      "0:\tlearn: 0.6901288\ttotal: 32.6ms\tremaining: 32.6s\n",
      "100:\tlearn: 0.6129218\ttotal: 3.28s\tremaining: 29.2s\n",
      "200:\tlearn: 0.6004496\ttotal: 6.68s\tremaining: 26.6s\n",
      "300:\tlearn: 0.5923195\ttotal: 10s\tremaining: 23.3s\n",
      "400:\tlearn: 0.5847241\ttotal: 13.4s\tremaining: 20.1s\n",
      "500:\tlearn: 0.5781622\ttotal: 17s\tremaining: 16.9s\n",
      "600:\tlearn: 0.5714561\ttotal: 20.3s\tremaining: 13.5s\n",
      "700:\tlearn: 0.5647264\ttotal: 23.5s\tremaining: 10s\n",
      "800:\tlearn: 0.5578177\ttotal: 26.9s\tremaining: 6.67s\n",
      "900:\tlearn: 0.5512268\ttotal: 30.1s\tremaining: 3.31s\n",
      "999:\tlearn: 0.5452232\ttotal: 33.5s\tremaining: 0us\n",
      "0:\tlearn: 0.6900990\ttotal: 36.7ms\tremaining: 36.6s\n",
      "100:\tlearn: 0.6125410\ttotal: 3.54s\tremaining: 31.5s\n",
      "200:\tlearn: 0.6002201\ttotal: 7.08s\tremaining: 28.2s\n",
      "300:\tlearn: 0.5914507\ttotal: 10.3s\tremaining: 24s\n",
      "400:\tlearn: 0.5849096\ttotal: 13.5s\tremaining: 20.2s\n",
      "500:\tlearn: 0.5782092\ttotal: 16.9s\tremaining: 16.8s\n",
      "600:\tlearn: 0.5713741\ttotal: 20.1s\tremaining: 13.3s\n",
      "700:\tlearn: 0.5643213\ttotal: 23.5s\tremaining: 10s\n",
      "800:\tlearn: 0.5580766\ttotal: 26.9s\tremaining: 6.67s\n",
      "900:\tlearn: 0.5520621\ttotal: 30.4s\tremaining: 3.34s\n",
      "999:\tlearn: 0.5463071\ttotal: 33.9s\tremaining: 0us\n",
      "0:\tlearn: 0.6915486\ttotal: 35.3ms\tremaining: 53s\n",
      "100:\tlearn: 0.6263238\ttotal: 3.33s\tremaining: 46.2s\n",
      "200:\tlearn: 0.6114867\ttotal: 6.56s\tremaining: 42.4s\n",
      "300:\tlearn: 0.6037778\ttotal: 9.79s\tremaining: 39s\n",
      "400:\tlearn: 0.5983471\ttotal: 13.1s\tremaining: 35.8s\n",
      "500:\tlearn: 0.5941163\ttotal: 16.3s\tremaining: 32.4s\n",
      "600:\tlearn: 0.5901565\ttotal: 19.6s\tremaining: 29.3s\n",
      "700:\tlearn: 0.5866617\ttotal: 22.9s\tremaining: 26.1s\n",
      "800:\tlearn: 0.5833903\ttotal: 26.1s\tremaining: 22.8s\n",
      "900:\tlearn: 0.5804161\ttotal: 29.2s\tremaining: 19.4s\n",
      "1000:\tlearn: 0.5772555\ttotal: 32.4s\tremaining: 16.2s\n",
      "1100:\tlearn: 0.5739453\ttotal: 35.7s\tremaining: 12.9s\n",
      "1200:\tlearn: 0.5703608\ttotal: 39s\tremaining: 9.7s\n",
      "1300:\tlearn: 0.5666603\ttotal: 42.3s\tremaining: 6.47s\n",
      "1400:\tlearn: 0.5633212\ttotal: 45.6s\tremaining: 3.22s\n",
      "1499:\tlearn: 0.5600204\ttotal: 49.7s\tremaining: 0us\n",
      "0:\tlearn: 0.6915897\ttotal: 31.7ms\tremaining: 47.6s\n",
      "100:\tlearn: 0.6275740\ttotal: 3.35s\tremaining: 46.4s\n",
      "200:\tlearn: 0.6127672\ttotal: 6.81s\tremaining: 44s\n",
      "300:\tlearn: 0.6051668\ttotal: 10.2s\tremaining: 40.7s\n",
      "400:\tlearn: 0.6000089\ttotal: 13.6s\tremaining: 37.2s\n",
      "500:\tlearn: 0.5953781\ttotal: 16.8s\tremaining: 33.5s\n",
      "600:\tlearn: 0.5912931\ttotal: 20.1s\tremaining: 30s\n",
      "700:\tlearn: 0.5875394\ttotal: 23.2s\tremaining: 26.4s\n",
      "800:\tlearn: 0.5840700\ttotal: 26.5s\tremaining: 23.1s\n",
      "900:\tlearn: 0.5808451\ttotal: 29.8s\tremaining: 19.8s\n",
      "1000:\tlearn: 0.5776203\ttotal: 33.2s\tremaining: 16.6s\n",
      "1100:\tlearn: 0.5741172\ttotal: 37s\tremaining: 13.4s\n",
      "1200:\tlearn: 0.5706415\ttotal: 40.6s\tremaining: 10.1s\n",
      "1300:\tlearn: 0.5670798\ttotal: 44s\tremaining: 6.73s\n",
      "1400:\tlearn: 0.5635739\ttotal: 47.3s\tremaining: 3.34s\n",
      "1499:\tlearn: 0.5602039\ttotal: 50.8s\tremaining: 0us\n",
      "0:\tlearn: 0.6915919\ttotal: 31.7ms\tremaining: 47.5s\n",
      "100:\tlearn: 0.6275979\ttotal: 3.29s\tremaining: 45.6s\n",
      "200:\tlearn: 0.6127560\ttotal: 6.76s\tremaining: 43.7s\n",
      "300:\tlearn: 0.6052689\ttotal: 10.3s\tremaining: 40.8s\n",
      "400:\tlearn: 0.5998984\ttotal: 14.1s\tremaining: 38.5s\n",
      "500:\tlearn: 0.5955391\ttotal: 17.6s\tremaining: 35.1s\n",
      "600:\tlearn: 0.5917966\ttotal: 20.9s\tremaining: 31.3s\n",
      "700:\tlearn: 0.5882399\ttotal: 24.1s\tremaining: 27.5s\n",
      "800:\tlearn: 0.5848801\ttotal: 27.5s\tremaining: 24s\n",
      "900:\tlearn: 0.5816738\ttotal: 30.7s\tremaining: 20.4s\n",
      "1000:\tlearn: 0.5781057\ttotal: 34s\tremaining: 17s\n",
      "1100:\tlearn: 0.5747097\ttotal: 37.3s\tremaining: 13.5s\n",
      "1200:\tlearn: 0.5710148\ttotal: 40.6s\tremaining: 10.1s\n",
      "1300:\tlearn: 0.5674813\ttotal: 43.9s\tremaining: 6.72s\n",
      "1400:\tlearn: 0.5642350\ttotal: 47.2s\tremaining: 3.34s\n",
      "1499:\tlearn: 0.5611486\ttotal: 50.5s\tremaining: 0us\n",
      "0:\tlearn: 0.6900422\ttotal: 31.4ms\tremaining: 47.1s\n",
      "100:\tlearn: 0.6112029\ttotal: 3.24s\tremaining: 44.9s\n",
      "200:\tlearn: 0.5985022\ttotal: 6.48s\tremaining: 41.9s\n",
      "300:\tlearn: 0.5899210\ttotal: 9.6s\tremaining: 38.3s\n",
      "400:\tlearn: 0.5832515\ttotal: 12.8s\tremaining: 35.2s\n",
      "500:\tlearn: 0.5769215\ttotal: 16.2s\tremaining: 32.4s\n",
      "600:\tlearn: 0.5701539\ttotal: 19.7s\tremaining: 29.5s\n",
      "700:\tlearn: 0.5627699\ttotal: 23.3s\tremaining: 26.6s\n",
      "800:\tlearn: 0.5562285\ttotal: 26.9s\tremaining: 23.5s\n",
      "900:\tlearn: 0.5500476\ttotal: 30.4s\tremaining: 20.2s\n",
      "1000:\tlearn: 0.5444061\ttotal: 33.9s\tremaining: 16.9s\n",
      "1100:\tlearn: 0.5391694\ttotal: 37.2s\tremaining: 13.5s\n",
      "1200:\tlearn: 0.5334852\ttotal: 40.7s\tremaining: 10.1s\n",
      "1300:\tlearn: 0.5284891\ttotal: 44.4s\tremaining: 6.79s\n",
      "1400:\tlearn: 0.5237925\ttotal: 48.1s\tremaining: 3.4s\n",
      "1499:\tlearn: 0.5190448\ttotal: 51.9s\tremaining: 0us\n",
      "0:\tlearn: 0.6901288\ttotal: 35.6ms\tremaining: 53.3s\n",
      "100:\tlearn: 0.6129218\ttotal: 3.46s\tremaining: 47.9s\n",
      "200:\tlearn: 0.6004496\ttotal: 6.75s\tremaining: 43.7s\n",
      "300:\tlearn: 0.5923195\ttotal: 9.96s\tremaining: 39.7s\n",
      "400:\tlearn: 0.5847241\ttotal: 13.3s\tremaining: 36.5s\n",
      "500:\tlearn: 0.5781622\ttotal: 16.6s\tremaining: 33.1s\n",
      "600:\tlearn: 0.5714561\ttotal: 19.9s\tremaining: 29.8s\n",
      "700:\tlearn: 0.5647264\ttotal: 23.4s\tremaining: 26.6s\n",
      "800:\tlearn: 0.5578177\ttotal: 27s\tremaining: 23.6s\n",
      "900:\tlearn: 0.5512268\ttotal: 30.6s\tremaining: 20.4s\n",
      "1000:\tlearn: 0.5451319\ttotal: 34.4s\tremaining: 17.1s\n",
      "1100:\tlearn: 0.5395297\ttotal: 37.8s\tremaining: 13.7s\n",
      "1200:\tlearn: 0.5338456\ttotal: 41.3s\tremaining: 10.3s\n",
      "1300:\tlearn: 0.5288498\ttotal: 44.6s\tremaining: 6.82s\n",
      "1400:\tlearn: 0.5240687\ttotal: 48.1s\tremaining: 3.4s\n",
      "1499:\tlearn: 0.5189915\ttotal: 51.5s\tremaining: 0us\n",
      "0:\tlearn: 0.6900990\ttotal: 31.9ms\tremaining: 47.8s\n",
      "100:\tlearn: 0.6125410\ttotal: 3.18s\tremaining: 44.1s\n",
      "200:\tlearn: 0.6002201\ttotal: 6.4s\tremaining: 41.4s\n",
      "300:\tlearn: 0.5914507\ttotal: 9.7s\tremaining: 38.6s\n",
      "400:\tlearn: 0.5849096\ttotal: 12.9s\tremaining: 35.4s\n",
      "500:\tlearn: 0.5782092\ttotal: 16.3s\tremaining: 32.5s\n",
      "600:\tlearn: 0.5713741\ttotal: 19.8s\tremaining: 29.6s\n",
      "700:\tlearn: 0.5643213\ttotal: 23s\tremaining: 26.2s\n",
      "800:\tlearn: 0.5580766\ttotal: 26.4s\tremaining: 23s\n",
      "900:\tlearn: 0.5520621\ttotal: 29.7s\tremaining: 19.8s\n",
      "1000:\tlearn: 0.5462813\ttotal: 33.2s\tremaining: 16.6s\n",
      "1100:\tlearn: 0.5407858\ttotal: 36.8s\tremaining: 13.3s\n",
      "1200:\tlearn: 0.5353354\ttotal: 40.2s\tremaining: 10s\n",
      "1300:\tlearn: 0.5299367\ttotal: 43.9s\tremaining: 6.71s\n",
      "1400:\tlearn: 0.5249613\ttotal: 47.3s\tremaining: 3.35s\n",
      "1499:\tlearn: 0.5204836\ttotal: 50.6s\tremaining: 0us\n",
      "0:\tlearn: 0.6917199\ttotal: 43.6ms\tremaining: 1m 5s\n",
      "100:\tlearn: 0.6276777\ttotal: 4.3s\tremaining: 59.6s\n",
      "200:\tlearn: 0.6138683\ttotal: 8.9s\tremaining: 57.5s\n",
      "300:\tlearn: 0.6071803\ttotal: 13.6s\tremaining: 54.2s\n",
      "400:\tlearn: 0.6028878\ttotal: 18.2s\tremaining: 49.9s\n",
      "500:\tlearn: 0.5992390\ttotal: 22.6s\tremaining: 45s\n",
      "600:\tlearn: 0.5958989\ttotal: 27s\tremaining: 40.4s\n",
      "700:\tlearn: 0.5932219\ttotal: 31.4s\tremaining: 35.7s\n",
      "800:\tlearn: 0.5905532\ttotal: 35.8s\tremaining: 31.3s\n",
      "900:\tlearn: 0.5880163\ttotal: 40.6s\tremaining: 27s\n",
      "1000:\tlearn: 0.5856813\ttotal: 45.3s\tremaining: 22.6s\n",
      "1100:\tlearn: 0.5831876\ttotal: 50s\tremaining: 18.1s\n",
      "1200:\tlearn: 0.5805473\ttotal: 54.5s\tremaining: 13.6s\n",
      "1300:\tlearn: 0.5778424\ttotal: 58.9s\tremaining: 9s\n",
      "1400:\tlearn: 0.5751369\ttotal: 1m 3s\tremaining: 4.48s\n",
      "1499:\tlearn: 0.5727590\ttotal: 1m 7s\tremaining: 0us\n"
     ]
    },
    {
     "data": {
      "text/plain": [
       "0.5837626117756823"
      ]
     },
     "metadata": {},
     "output_type": "display_data"
    },
    {
     "data": {
      "text/plain": [
       "{'depth': 10, 'iterations': 1500, 'learning_rate': 0.01}"
      ]
     },
     "metadata": {},
     "output_type": "display_data"
    },
    {
     "name": "stdout",
     "output_type": "stream",
     "text": [
      "CPU times: user 9min 33s, sys: 5.52 s, total: 9min 39s\n",
      "Wall time: 9min 54s\n"
     ]
    }
   ],
   "source": [
    "%%time\n",
    "start_2 = time.time()\n",
    "### обучим модель CatBoostClassifier с помощью GridSearchCV для расчета f1 меры\n",
    "### параметры по сетке\n",
    "parameters_2 = {\n",
    "    'depth' : [10, 20],\n",
    "    'iterations' : [1000, 1500],\n",
    "    'learning_rate': [0.01, 0.02]\n",
    "}\n",
    "cbc_clf2 = CatBoostClassifier(random_state=42, class_weights=class_weights, verbose=100)\n",
    "clf_2 = GridSearchCV(cbc_clf2, parameters_2, scoring='f1', cv=3, n_jobs=-1)\n",
    "clf_2.fit(X_train_new, y_train)\n",
    "score_2 = clf_2.best_score_\n",
    "display(score_2)\n",
    "display(clf_2.best_params_)\n",
    "end_2 = time.time() - start_2"
   ]
  },
  {
   "cell_type": "markdown",
   "id": "cc02a918",
   "metadata": {},
   "source": [
    "### Модель LGBMClassifier"
   ]
  },
  {
   "cell_type": "code",
   "execution_count": 33,
   "id": "97e1eedc",
   "metadata": {},
   "outputs": [
    {
     "data": {
      "text/plain": [
       "0.5794313395861408"
      ]
     },
     "metadata": {},
     "output_type": "display_data"
    },
    {
     "data": {
      "text/plain": [
       "{'learning_rate': 0.15, 'min_child_samples': 30, 'n_estimators': 30}"
      ]
     },
     "metadata": {},
     "output_type": "display_data"
    },
    {
     "name": "stdout",
     "output_type": "stream",
     "text": [
      "CPU times: user 5min 33s, sys: 5.63 s, total: 5min 39s\n",
      "Wall time: 5min 41s\n"
     ]
    }
   ],
   "source": [
    "%%time\n",
    "start_3 = time.time()\n",
    "### обучим модель LightGBM с помощью GridSearchCV для расчета f1 меры\n",
    "## параметры по сетке\n",
    "parameters_3 = {\n",
    "    'n_estimators' : [10, 30],\n",
    "    'learning_rate' : [0.15, 0.1], \n",
    "    'min_child_samples': [25, 30]\n",
    "}\n",
    "lgb_clf3 = LGBMClassifier(random_state=42, class_weight='balanced')\n",
    "clf_3 = GridSearchCV(lgb_clf3, parameters_3, scoring='f1', cv=3, n_jobs=-1)\n",
    "clf_3.fit(X_train_new, y_train)\n",
    "score_3 = clf_3.best_score_\n",
    "display(score_3)\n",
    "display(clf_3.best_params_)\n",
    "end_3 = time.time() - start_3"
   ]
  },
  {
   "cell_type": "markdown",
   "id": "35190e0a",
   "metadata": {},
   "source": [
    "### Полносвязная нейросеть"
   ]
  },
  {
   "cell_type": "code",
   "execution_count": 34,
   "id": "ffe30a13",
   "metadata": {},
   "outputs": [
    {
     "data": {
      "text/plain": [
       "'X_train_t'"
      ]
     },
     "metadata": {},
     "output_type": "display_data"
    },
    {
     "data": {
      "text/plain": [
       "torch.Size([87772, 65])"
      ]
     },
     "metadata": {},
     "output_type": "display_data"
    },
    {
     "data": {
      "text/plain": [
       "'X_test_t'"
      ]
     },
     "metadata": {},
     "output_type": "display_data"
    },
    {
     "data": {
      "text/plain": [
       "torch.Size([37617, 65])"
      ]
     },
     "metadata": {},
     "output_type": "display_data"
    },
    {
     "data": {
      "text/plain": [
       "'y_train_t'"
      ]
     },
     "metadata": {},
     "output_type": "display_data"
    },
    {
     "data": {
      "text/plain": [
       "torch.Size([87772])"
      ]
     },
     "metadata": {},
     "output_type": "display_data"
    },
    {
     "data": {
      "text/plain": [
       "'y_test_t'"
      ]
     },
     "metadata": {},
     "output_type": "display_data"
    },
    {
     "data": {
      "text/plain": [
       "torch.Size([37617])"
      ]
     },
     "metadata": {},
     "output_type": "display_data"
    }
   ],
   "source": [
    "# преобразуем в тензоры\n",
    "X_train_t = torch.FloatTensor(X_train_new.values)\n",
    "X_test_t = torch.FloatTensor(X_test_new.values)\n",
    "y_train_t = torch.FloatTensor(y_train.values)\n",
    "y_test_t = torch.FloatTensor(y_test.values)\n",
    "# выведем размерности тензоров на экран\n",
    "display('X_train_t', X_train_t.shape)\n",
    "display('X_test_t', X_test_t.shape)\n",
    "display('y_train_t', y_train_t.shape)\n",
    "display('y_test_t', y_test_t.shape)"
   ]
  },
  {
   "cell_type": "code",
   "execution_count": 35,
   "id": "5094d5bf",
   "metadata": {},
   "outputs": [
    {
     "data": {
      "text/plain": [
       "'Количество нейронов на входном слое: 65'"
      ]
     },
     "metadata": {},
     "output_type": "display_data"
    },
    {
     "data": {
      "text/plain": [
       "'Количество нейронов на первом скрытом слое: 65'"
      ]
     },
     "metadata": {},
     "output_type": "display_data"
    },
    {
     "data": {
      "text/plain": [
       "'Количество нейронов на втором скрытом слое: 65'"
      ]
     },
     "metadata": {},
     "output_type": "display_data"
    },
    {
     "data": {
      "text/plain": [
       "'Количество нейронов на третьем скрытом слое: 65'"
      ]
     },
     "metadata": {},
     "output_type": "display_data"
    },
    {
     "data": {
      "text/plain": [
       "'Количество нейронов на четвертом скрытом слое: 65'"
      ]
     },
     "metadata": {},
     "output_type": "display_data"
    },
    {
     "data": {
      "text/plain": [
       "'Количество нейронов на пятом скрытом слое: 65'"
      ]
     },
     "metadata": {},
     "output_type": "display_data"
    },
    {
     "data": {
      "text/plain": [
       "'Количество нейронов на выходе: 1'"
      ]
     },
     "metadata": {},
     "output_type": "display_data"
    }
   ],
   "source": [
    "# зафиксируем рандом, для повторяемости результатов\n",
    "random.seed(42)\n",
    "np.random.seed(42)\n",
    "torch.manual_seed(42)\n",
    "# определим количество нейронов для базовой модели\n",
    "n_in_neurons = int(X_train_t.shape[1])\n",
    "n_hidden_neurons_1 = 65\n",
    "n_hidden_neurons_2 = 65\n",
    "n_hidden_neurons_3 = 65\n",
    "n_hidden_neurons_4 = 65\n",
    "n_hidden_neurons_5 = 65\n",
    "n_out_neurons = 1\n",
    "# выведем на экран\n",
    "display(f'Количество нейронов на входном слое: {n_in_neurons}')\n",
    "display(f'Количество нейронов на первом скрытом слое: {n_hidden_neurons_1}')\n",
    "display(f'Количество нейронов на втором скрытом слое: {n_hidden_neurons_2}')\n",
    "display(f'Количество нейронов на третьем скрытом слое: {n_hidden_neurons_3}')\n",
    "display(f'Количество нейронов на четвертом скрытом слое: {n_hidden_neurons_4}')\n",
    "display(f'Количество нейронов на пятом скрытом слое: {n_hidden_neurons_5}')\n",
    "display(f'Количество нейронов на выходе: {n_out_neurons}')"
   ]
  },
  {
   "cell_type": "code",
   "execution_count": 36,
   "id": "59153f5b",
   "metadata": {},
   "outputs": [],
   "source": [
    "# архитектура сети с четырьмя скрытыми слоями\n",
    "class Model_NeuralNet(nn.Module):\n",
    "    def __init__(self, activation_1, activation_2): \n",
    "        super(Model_NeuralNet, self).__init__()\n",
    "        self.layer1 = nn.Linear(n_in_neurons, n_hidden_neurons_1)\n",
    "        self.act1 = activation_1\n",
    "        self.layer2 = nn.Linear(n_hidden_neurons_1, n_hidden_neurons_2)\n",
    "        self.act2 = activation_2\n",
    "        self.layer3 = nn.Linear(n_hidden_neurons_2, n_hidden_neurons_3)\n",
    "        self.act3 = activation_1\n",
    "        self.layer4 = nn.Linear(n_hidden_neurons_3, n_hidden_neurons_4)\n",
    "        self.act4 = activation_2\n",
    "        self.layer5 = nn.Linear(n_hidden_neurons_4, n_hidden_neurons_5)\n",
    "        self.act5 = activation_1\n",
    "        self.layer6 = nn.Linear(n_hidden_neurons_5, 1)\n",
    "        \n",
    "    def forward(self, x):\n",
    "        x = self.layer1(x)\n",
    "        x = self.act1(x)\n",
    "        x = self.layer2(x)\n",
    "        x = self.act2(x)\n",
    "        x = self.layer3(x)\n",
    "        x = self.act3(x)\n",
    "        x = self.layer4(x)\n",
    "        x = self.act4(x)\n",
    "        x = self.layer5(x)\n",
    "        x = self.act5(x)\n",
    "        x = self.layer6(x)\n",
    "        return x"
   ]
  },
  {
   "cell_type": "code",
   "execution_count": 37,
   "id": "9a237cd3",
   "metadata": {
    "scrolled": true
   },
   "outputs": [
    {
     "name": "stdout",
     "output_type": "stream",
     "text": [
      "Fitting 3 folds for each of 4 candidates, totalling 12 fits\n",
      "  epoch    train_loss    valid_acc    valid_loss     dur\n",
      "-------  ------------  -----------  ------------  ------\n",
      "      1        \u001b[36m0.6827\u001b[0m       \u001b[32m0.6415\u001b[0m        \u001b[35m0.6398\u001b[0m  4.4952\n",
      "      2        \u001b[36m0.6371\u001b[0m       \u001b[32m0.6463\u001b[0m        \u001b[35m0.6325\u001b[0m  4.5032\n",
      "      3        \u001b[36m0.6327\u001b[0m       \u001b[32m0.6488\u001b[0m        \u001b[35m0.6296\u001b[0m  4.8924\n",
      "      4        \u001b[36m0.6309\u001b[0m       \u001b[32m0.6492\u001b[0m        \u001b[35m0.6282\u001b[0m  4.5182\n",
      "      5        \u001b[36m0.6300\u001b[0m       0.6492        \u001b[35m0.6274\u001b[0m  4.6726\n",
      "      6        \u001b[36m0.6295\u001b[0m       \u001b[32m0.6496\u001b[0m        \u001b[35m0.6270\u001b[0m  4.4020\n",
      "      7        \u001b[36m0.6291\u001b[0m       \u001b[32m0.6502\u001b[0m        \u001b[35m0.6268\u001b[0m  4.6671\n",
      "      8        \u001b[36m0.6289\u001b[0m       0.6497        \u001b[35m0.6266\u001b[0m  4.4040\n",
      "      9        \u001b[36m0.6286\u001b[0m       0.6500        \u001b[35m0.6264\u001b[0m  4.4947\n",
      "     10        \u001b[36m0.6284\u001b[0m       \u001b[32m0.6507\u001b[0m        \u001b[35m0.6263\u001b[0m  4.5821\n",
      "[CV 1/3] END module__activation_1=Sigmoid(), module__activation_2=Sigmoid();, score=0.503 total time=  47.7s\n",
      "  epoch    train_loss    valid_acc    valid_loss     dur\n",
      "-------  ------------  -----------  ------------  ------\n",
      "      1        \u001b[36m0.6893\u001b[0m       \u001b[32m0.6278\u001b[0m        \u001b[35m0.6624\u001b[0m  5.0081\n",
      "      2        \u001b[36m0.6388\u001b[0m       \u001b[32m0.6401\u001b[0m        \u001b[35m0.6401\u001b[0m  5.0853\n",
      "      3        \u001b[36m0.6324\u001b[0m       \u001b[32m0.6408\u001b[0m        \u001b[35m0.6390\u001b[0m  5.0952\n",
      "      4        \u001b[36m0.6314\u001b[0m       \u001b[32m0.6412\u001b[0m        \u001b[35m0.6384\u001b[0m  4.6716\n",
      "      5        \u001b[36m0.6306\u001b[0m       0.6410        \u001b[35m0.6376\u001b[0m  4.6130\n",
      "      6        \u001b[36m0.6296\u001b[0m       \u001b[32m0.6421\u001b[0m        \u001b[35m0.6360\u001b[0m  4.9003\n",
      "      7        \u001b[36m0.6286\u001b[0m       \u001b[32m0.6427\u001b[0m        \u001b[35m0.6347\u001b[0m  5.1826\n",
      "      8        \u001b[36m0.6280\u001b[0m       0.6427        \u001b[35m0.6342\u001b[0m  5.1722\n",
      "      9        \u001b[36m0.6276\u001b[0m       \u001b[32m0.6433\u001b[0m        \u001b[35m0.6339\u001b[0m  4.6988\n",
      "     10        \u001b[36m0.6273\u001b[0m       \u001b[32m0.6442\u001b[0m        \u001b[35m0.6337\u001b[0m  4.8118\n",
      "[CV 2/3] END module__activation_1=Sigmoid(), module__activation_2=Sigmoid();, score=0.519 total time=  51.4s\n",
      "  epoch    train_loss    valid_acc    valid_loss     dur\n",
      "-------  ------------  -----------  ------------  ------\n",
      "      1        \u001b[36m0.6860\u001b[0m       \u001b[32m0.6297\u001b[0m        \u001b[35m0.6548\u001b[0m  4.8967\n",
      "      2        \u001b[36m0.6375\u001b[0m       \u001b[32m0.6371\u001b[0m        \u001b[35m0.6414\u001b[0m  4.8970\n",
      "      3        \u001b[36m0.6331\u001b[0m       0.6364        \u001b[35m0.6405\u001b[0m  5.0911\n",
      "      4        \u001b[36m0.6313\u001b[0m       0.6357        \u001b[35m0.6390\u001b[0m  4.8867\n",
      "      5        \u001b[36m0.6297\u001b[0m       0.6340        \u001b[35m0.6384\u001b[0m  4.6819\n",
      "      6        \u001b[36m0.6290\u001b[0m       0.6333        \u001b[35m0.6383\u001b[0m  4.4984\n",
      "      7        \u001b[36m0.6286\u001b[0m       0.6333        \u001b[35m0.6382\u001b[0m  4.5036\n",
      "      8        \u001b[36m0.6284\u001b[0m       0.6333        \u001b[35m0.6380\u001b[0m  4.5798\n",
      "      9        \u001b[36m0.6282\u001b[0m       0.6339        \u001b[35m0.6379\u001b[0m  4.3877\n",
      "     10        \u001b[36m0.6281\u001b[0m       0.6345        \u001b[35m0.6377\u001b[0m  4.7068\n",
      "[CV 3/3] END module__activation_1=Sigmoid(), module__activation_2=Sigmoid();, score=0.445 total time=  49.2s\n",
      "  epoch    train_loss    valid_acc    valid_loss     dur\n",
      "-------  ------------  -----------  ------------  ------\n",
      "      1        \u001b[36m0.6598\u001b[0m       \u001b[32m0.6454\u001b[0m        \u001b[35m0.6334\u001b[0m  4.5976\n",
      "      2        \u001b[36m0.6341\u001b[0m       \u001b[32m0.6486\u001b[0m        \u001b[35m0.6283\u001b[0m  4.9958\n",
      "      3        \u001b[36m0.6323\u001b[0m       0.6462        \u001b[35m0.6283\u001b[0m  4.5900\n",
      "      4        \u001b[36m0.6316\u001b[0m       \u001b[32m0.6495\u001b[0m        \u001b[35m0.6276\u001b[0m  4.9058\n",
      "      5        \u001b[36m0.6311\u001b[0m       \u001b[32m0.6504\u001b[0m        \u001b[35m0.6272\u001b[0m  4.9809\n",
      "      6        \u001b[36m0.6307\u001b[0m       0.6488        \u001b[35m0.6268\u001b[0m  4.8976\n",
      "      7        \u001b[36m0.6303\u001b[0m       0.6483        \u001b[35m0.6265\u001b[0m  4.8832\n",
      "      8        \u001b[36m0.6300\u001b[0m       0.6495        \u001b[35m0.6263\u001b[0m  4.6891\n",
      "      9        \u001b[36m0.6297\u001b[0m       0.6497        \u001b[35m0.6261\u001b[0m  4.6961\n",
      "     10        \u001b[36m0.6294\u001b[0m       0.6483        \u001b[35m0.6260\u001b[0m  4.7913\n",
      "[CV 1/3] END module__activation_1=Sigmoid(), module__activation_2=Tanh();, score=0.512 total time=  50.1s\n",
      "  epoch    train_loss    valid_acc    valid_loss     dur\n",
      "-------  ------------  -----------  ------------  ------\n",
      "      1        \u001b[36m0.6652\u001b[0m       \u001b[32m0.6395\u001b[0m        \u001b[35m0.6405\u001b[0m  5.3072\n",
      "      2        \u001b[36m0.6343\u001b[0m       0.6389        \u001b[35m0.6366\u001b[0m  5.0172\n",
      "      3        \u001b[36m0.6317\u001b[0m       0.6387        \u001b[35m0.6357\u001b[0m  4.9917\n",
      "      4        \u001b[36m0.6307\u001b[0m       0.6379        \u001b[35m0.6351\u001b[0m  5.1873\n",
      "      5        \u001b[36m0.6300\u001b[0m       0.6388        \u001b[35m0.6347\u001b[0m  4.6761\n",
      "      6        \u001b[36m0.6295\u001b[0m       0.6394        \u001b[35m0.6344\u001b[0m  4.8990\n",
      "      7        \u001b[36m0.6290\u001b[0m       \u001b[32m0.6399\u001b[0m        \u001b[35m0.6341\u001b[0m  4.9177\n",
      "      8        \u001b[36m0.6284\u001b[0m       \u001b[32m0.6414\u001b[0m        \u001b[35m0.6336\u001b[0m  5.0829\n",
      "      9        \u001b[36m0.6277\u001b[0m       \u001b[32m0.6422\u001b[0m        \u001b[35m0.6330\u001b[0m  4.9239\n",
      "     10        \u001b[36m0.6270\u001b[0m       \u001b[32m0.6426\u001b[0m        \u001b[35m0.6325\u001b[0m  4.5769\n",
      "[CV 2/3] END module__activation_1=Sigmoid(), module__activation_2=Tanh();, score=0.515 total time=  51.7s\n",
      "  epoch    train_loss    valid_acc    valid_loss     dur\n",
      "-------  ------------  -----------  ------------  ------\n",
      "      1        \u001b[36m0.6635\u001b[0m       \u001b[32m0.6196\u001b[0m        \u001b[35m0.6511\u001b[0m  4.9027\n",
      "      2        \u001b[36m0.6341\u001b[0m       \u001b[32m0.6231\u001b[0m        \u001b[35m0.6431\u001b[0m  4.5113\n",
      "      3        \u001b[36m0.6318\u001b[0m       \u001b[32m0.6249\u001b[0m        \u001b[35m0.6413\u001b[0m  4.6749\n",
      "      4        \u001b[36m0.6309\u001b[0m       \u001b[32m0.6273\u001b[0m        \u001b[35m0.6403\u001b[0m  4.6019\n",
      "      5        \u001b[36m0.6303\u001b[0m       \u001b[32m0.6285\u001b[0m        \u001b[35m0.6397\u001b[0m  4.5851\n",
      "      6        \u001b[36m0.6299\u001b[0m       \u001b[32m0.6304\u001b[0m        \u001b[35m0.6393\u001b[0m  4.8238\n",
      "      7        \u001b[36m0.6295\u001b[0m       \u001b[32m0.6314\u001b[0m        \u001b[35m0.6390\u001b[0m  4.7861\n",
      "      8        \u001b[36m0.6291\u001b[0m       0.6309        \u001b[35m0.6386\u001b[0m  4.8062\n",
      "      9        \u001b[36m0.6288\u001b[0m       \u001b[32m0.6318\u001b[0m        \u001b[35m0.6382\u001b[0m  5.2892\n",
      "     10        \u001b[36m0.6284\u001b[0m       \u001b[32m0.6321\u001b[0m        \u001b[35m0.6377\u001b[0m  5.6943\n",
      "[CV 3/3] END module__activation_1=Sigmoid(), module__activation_2=Tanh();, score=0.434 total time=  51.2s\n",
      "  epoch    train_loss    valid_acc    valid_loss     dur\n",
      "-------  ------------  -----------  ------------  ------\n",
      "      1        \u001b[36m0.6516\u001b[0m       \u001b[32m0.6494\u001b[0m        \u001b[35m0.6291\u001b[0m  5.0823\n",
      "      2        \u001b[36m0.6322\u001b[0m       0.6463        \u001b[35m0.6285\u001b[0m  4.6970\n",
      "      3        \u001b[36m0.6310\u001b[0m       \u001b[32m0.6497\u001b[0m        \u001b[35m0.6276\u001b[0m  5.1875\n",
      "      4        \u001b[36m0.6302\u001b[0m       0.6492        \u001b[35m0.6271\u001b[0m  5.2757\n",
      "      5        \u001b[36m0.6292\u001b[0m       0.6487        \u001b[35m0.6252\u001b[0m  5.1905\n",
      "      6        \u001b[36m0.6244\u001b[0m       0.6491        \u001b[35m0.6195\u001b[0m  4.6891\n",
      "      7        \u001b[36m0.6214\u001b[0m       0.6491        \u001b[35m0.6180\u001b[0m  4.8773\n",
      "      8        \u001b[36m0.6201\u001b[0m       0.6486        \u001b[35m0.6173\u001b[0m  4.4853\n",
      "      9        \u001b[36m0.6191\u001b[0m       0.6492        \u001b[35m0.6167\u001b[0m  4.4864\n",
      "     10        \u001b[36m0.6182\u001b[0m       \u001b[32m0.6503\u001b[0m        \u001b[35m0.6161\u001b[0m  4.9768\n",
      "[CV 1/3] END module__activation_1=Tanh(), module__activation_2=Sigmoid();, score=0.522 total time=  50.6s\n",
      "  epoch    train_loss    valid_acc    valid_loss     dur\n",
      "-------  ------------  -----------  ------------  ------\n",
      "      1        \u001b[36m0.6526\u001b[0m       \u001b[32m0.6402\u001b[0m        \u001b[35m0.6374\u001b[0m  4.7934\n",
      "      2        \u001b[36m0.6319\u001b[0m       0.6395        \u001b[35m0.6358\u001b[0m  4.6921\n",
      "      3        \u001b[36m0.6305\u001b[0m       0.6396        \u001b[35m0.6353\u001b[0m  4.7000\n",
      "      4        \u001b[36m0.6295\u001b[0m       0.6394        \u001b[35m0.6349\u001b[0m  4.6807\n",
      "      5        \u001b[36m0.6286\u001b[0m       0.6392        \u001b[35m0.6344\u001b[0m  4.6913\n",
      "      6        \u001b[36m0.6278\u001b[0m       \u001b[32m0.6407\u001b[0m        \u001b[35m0.6339\u001b[0m  4.5865\n",
      "      7        \u001b[36m0.6270\u001b[0m       \u001b[32m0.6414\u001b[0m        \u001b[35m0.6333\u001b[0m  4.4891\n",
      "      8        \u001b[36m0.6261\u001b[0m       \u001b[32m0.6415\u001b[0m        \u001b[35m0.6326\u001b[0m  4.5760\n",
      "      9        \u001b[36m0.6238\u001b[0m       0.6401        \u001b[35m0.6289\u001b[0m  5.3948\n",
      "     10        \u001b[36m0.6196\u001b[0m       \u001b[32m0.6425\u001b[0m        \u001b[35m0.6268\u001b[0m  5.0667\n",
      "[CV 2/3] END module__activation_1=Tanh(), module__activation_2=Sigmoid();, score=0.537 total time=  49.4s\n",
      "  epoch    train_loss    valid_acc    valid_loss     dur\n",
      "-------  ------------  -----------  ------------  ------\n",
      "      1        \u001b[36m0.6507\u001b[0m       \u001b[32m0.6281\u001b[0m        \u001b[35m0.6439\u001b[0m  4.5054\n",
      "      2        \u001b[36m0.6317\u001b[0m       \u001b[32m0.6295\u001b[0m        \u001b[35m0.6400\u001b[0m  5.0809\n",
      "      3        \u001b[36m0.6304\u001b[0m       \u001b[32m0.6298\u001b[0m        \u001b[35m0.6390\u001b[0m  4.7907\n",
      "      4        \u001b[36m0.6296\u001b[0m       \u001b[32m0.6303\u001b[0m        \u001b[35m0.6385\u001b[0m  5.1888\n",
      "      5        \u001b[36m0.6289\u001b[0m       \u001b[32m0.6323\u001b[0m        \u001b[35m0.6380\u001b[0m  4.7924\n",
      "      6        \u001b[36m0.6281\u001b[0m       \u001b[32m0.6328\u001b[0m        \u001b[35m0.6367\u001b[0m  4.5979\n",
      "      7        \u001b[36m0.6256\u001b[0m       \u001b[32m0.6355\u001b[0m        \u001b[35m0.6307\u001b[0m  5.0039\n",
      "      8        \u001b[36m0.6217\u001b[0m       \u001b[32m0.6405\u001b[0m        \u001b[35m0.6267\u001b[0m  5.4162\n",
      "      9        \u001b[36m0.6196\u001b[0m       \u001b[32m0.6414\u001b[0m        \u001b[35m0.6252\u001b[0m  5.2757\n",
      "     10        \u001b[36m0.6184\u001b[0m       0.6414        \u001b[35m0.6242\u001b[0m  4.5736\n",
      "[CV 3/3] END module__activation_1=Tanh(), module__activation_2=Sigmoid();, score=0.512 total time=  51.5s\n",
      "  epoch    train_loss    valid_acc    valid_loss     dur\n",
      "-------  ------------  -----------  ------------  ------\n",
      "      1        \u001b[36m0.6407\u001b[0m       \u001b[32m0.6468\u001b[0m        \u001b[35m0.6211\u001b[0m  4.9018\n",
      "      2        \u001b[36m0.6246\u001b[0m       \u001b[32m0.6492\u001b[0m        \u001b[35m0.6201\u001b[0m  4.9981\n",
      "      3        \u001b[36m0.6230\u001b[0m       0.6468        0.6202  5.2807\n",
      "      4        \u001b[36m0.6222\u001b[0m       0.6480        \u001b[35m0.6197\u001b[0m  5.3866\n",
      "      5        \u001b[36m0.6215\u001b[0m       0.6490        \u001b[35m0.6187\u001b[0m  5.1843\n",
      "      6        \u001b[36m0.6208\u001b[0m       \u001b[32m0.6503\u001b[0m        \u001b[35m0.6177\u001b[0m  5.5031\n",
      "      7        \u001b[36m0.6204\u001b[0m       \u001b[32m0.6527\u001b[0m        0.6182  4.3177\n",
      "      8        \u001b[36m0.6199\u001b[0m       0.6518        0.6185  4.7023\n",
      "      9        \u001b[36m0.6194\u001b[0m       0.6516        \u001b[35m0.6176\u001b[0m  4.8875\n",
      "     10        \u001b[36m0.6190\u001b[0m       0.6507        0.6179  5.1816\n",
      "[CV 1/3] END module__activation_1=Tanh(), module__activation_2=Tanh();, score=0.533 total time=  52.6s\n",
      "  epoch    train_loss    valid_acc    valid_loss     dur\n",
      "-------  ------------  -----------  ------------  ------\n",
      "      1        \u001b[36m0.6430\u001b[0m       \u001b[32m0.6344\u001b[0m        \u001b[35m0.6383\u001b[0m  4.7986\n",
      "      2        \u001b[36m0.6261\u001b[0m       \u001b[32m0.6415\u001b[0m        \u001b[35m0.6287\u001b[0m  4.6003\n",
      "      3        \u001b[36m0.6232\u001b[0m       0.6412        \u001b[35m0.6275\u001b[0m  4.6883\n",
      "      4        \u001b[36m0.6220\u001b[0m       0.6414        \u001b[35m0.6267\u001b[0m  4.7792\n",
      "      5        \u001b[36m0.6213\u001b[0m       \u001b[32m0.6429\u001b[0m        \u001b[35m0.6262\u001b[0m  4.7876\n",
      "      6        \u001b[36m0.6208\u001b[0m       0.6427        \u001b[35m0.6260\u001b[0m  4.8931\n",
      "      7        \u001b[36m0.6204\u001b[0m       0.6427        \u001b[35m0.6259\u001b[0m  4.8874\n",
      "      8        \u001b[36m0.6200\u001b[0m       0.6423        \u001b[35m0.6259\u001b[0m  5.0770\n",
      "      9        \u001b[36m0.6196\u001b[0m       \u001b[32m0.6438\u001b[0m        \u001b[35m0.6257\u001b[0m  4.4941\n",
      "     10        \u001b[36m0.6191\u001b[0m       \u001b[32m0.6446\u001b[0m        \u001b[35m0.6254\u001b[0m  4.7820\n",
      "[CV 2/3] END module__activation_1=Tanh(), module__activation_2=Tanh();, score=0.524 total time=  49.7s\n",
      "  epoch    train_loss    valid_acc    valid_loss     dur\n",
      "-------  ------------  -----------  ------------  ------\n",
      "      1        \u001b[36m0.6403\u001b[0m       \u001b[32m0.6280\u001b[0m        \u001b[35m0.6331\u001b[0m  5.2660\n",
      "      2        \u001b[36m0.6239\u001b[0m       \u001b[32m0.6371\u001b[0m        \u001b[35m0.6274\u001b[0m  5.0048\n",
      "      3        \u001b[36m0.6219\u001b[0m       \u001b[32m0.6395\u001b[0m        \u001b[35m0.6263\u001b[0m  4.7949\n",
      "      4        \u001b[36m0.6210\u001b[0m       \u001b[32m0.6421\u001b[0m        \u001b[35m0.6260\u001b[0m  4.9881\n",
      "      5        \u001b[36m0.6204\u001b[0m       \u001b[32m0.6423\u001b[0m        \u001b[35m0.6258\u001b[0m  5.0832\n",
      "      6        \u001b[36m0.6200\u001b[0m       \u001b[32m0.6431\u001b[0m        \u001b[35m0.6258\u001b[0m  4.9946\n",
      "      7        \u001b[36m0.6196\u001b[0m       0.6421        0.6258  4.8965\n",
      "      8        \u001b[36m0.6193\u001b[0m       0.6412        0.6259  5.2989\n",
      "      9        \u001b[36m0.6190\u001b[0m       0.6413        0.6260  5.2054\n",
      "     10        \u001b[36m0.6186\u001b[0m       0.6407        0.6261  4.8088\n",
      "[CV 3/3] END module__activation_1=Tanh(), module__activation_2=Tanh();, score=0.537 total time=  52.3s\n",
      "  epoch    train_loss    valid_acc    valid_loss     dur\n",
      "-------  ------------  -----------  ------------  ------\n",
      "      1        \u001b[36m0.6361\u001b[0m       \u001b[32m0.6435\u001b[0m        \u001b[35m0.6269\u001b[0m  6.8994\n",
      "      2        \u001b[36m0.6219\u001b[0m       0.6420        \u001b[35m0.6268\u001b[0m  7.0147\n",
      "      3        \u001b[36m0.6207\u001b[0m       0.6412        \u001b[35m0.6258\u001b[0m  6.9836\n",
      "      4        \u001b[36m0.6201\u001b[0m       0.6418        \u001b[35m0.6249\u001b[0m  7.0764\n",
      "      5        \u001b[36m0.6195\u001b[0m       0.6434        \u001b[35m0.6240\u001b[0m  6.8828\n",
      "      6        \u001b[36m0.6188\u001b[0m       \u001b[32m0.6446\u001b[0m        \u001b[35m0.6237\u001b[0m  7.4752\n",
      "      7        \u001b[36m0.6182\u001b[0m       0.6433        \u001b[35m0.6234\u001b[0m  7.4764\n",
      "      8        \u001b[36m0.6176\u001b[0m       0.6443        0.6235  7.4792\n",
      "      9        \u001b[36m0.6171\u001b[0m       0.6444        \u001b[35m0.6234\u001b[0m  6.7658\n",
      "     10        \u001b[36m0.6166\u001b[0m       \u001b[32m0.6453\u001b[0m        0.6235  7.8893\n"
     ]
    },
    {
     "data": {
      "text/plain": [
       "0.5313735009833519"
      ]
     },
     "metadata": {},
     "output_type": "display_data"
    },
    {
     "data": {
      "text/plain": [
       "{'module__activation_2': Tanh(), 'module__activation_1': Tanh()}"
      ]
     },
     "metadata": {},
     "output_type": "display_data"
    },
    {
     "name": "stdout",
     "output_type": "stream",
     "text": [
      "CPU times: user 11min 9s, sys: 4.15 s, total: 11min 13s\n",
      "Wall time: 11min 19s\n"
     ]
    }
   ],
   "source": [
    "%%time\n",
    "start_4 = time.time()\n",
    "# создадим модель на основе нейросети для перебора параметров\n",
    "skorch_classifier = NeuralNetBinaryClassifier(\n",
    "    module=Model_NeuralNet,\n",
    "    optimizer=torch.optim.Adam, \n",
    "    max_epochs=10, \n",
    "    lr=1.0e-3)\n",
    "# параметры для перебора\n",
    "parameters_4 = {'module__activation_1': [nn.Sigmoid(), nn.Tanh()],\n",
    "                'module__activation_2': [nn.Sigmoid(), nn.Tanh()]}\n",
    "# используем RandomizedSearchCV для расчетов\n",
    "clf_4 = RandomizedSearchCV(skorch_classifier, parameters_4, cv=3, scoring='f1', verbose=3) \n",
    "clf_4.fit(X_train_t, y_train_t) \n",
    "score_4 = clf_4.best_score_\n",
    "display(score_4)\n",
    "display(clf_4.best_params_)\n",
    "end_4 = time.time() - start_4"
   ]
  },
  {
   "cell_type": "markdown",
   "id": "b4208555",
   "metadata": {},
   "source": [
    "### Результаты расчета метрики F1 при помощи GridSearchCV"
   ]
  },
  {
   "cell_type": "code",
   "execution_count": 48,
   "id": "0f6d5f65",
   "metadata": {
    "scrolled": true
   },
   "outputs": [
    {
     "data": {
      "text/html": [
       "<div>\n",
       "<style scoped>\n",
       "    .dataframe tbody tr th:only-of-type {\n",
       "        vertical-align: middle;\n",
       "    }\n",
       "\n",
       "    .dataframe tbody tr th {\n",
       "        vertical-align: top;\n",
       "    }\n",
       "\n",
       "    .dataframe thead th {\n",
       "        text-align: right;\n",
       "    }\n",
       "</style>\n",
       "<table border=\"1\" class=\"dataframe\">\n",
       "  <thead>\n",
       "    <tr style=\"text-align: right;\">\n",
       "      <th></th>\n",
       "      <th>LogisticRegression</th>\n",
       "      <th>RandomForestClassifier</th>\n",
       "      <th>CatBoostClassifier</th>\n",
       "      <th>LGBMClassifier</th>\n",
       "      <th>NeuralNet</th>\n",
       "    </tr>\n",
       "    <tr>\n",
       "      <th>Metrics</th>\n",
       "      <th></th>\n",
       "      <th></th>\n",
       "      <th></th>\n",
       "      <th></th>\n",
       "      <th></th>\n",
       "    </tr>\n",
       "  </thead>\n",
       "  <tbody>\n",
       "    <tr>\n",
       "      <th>f1</th>\n",
       "      <td>0.538470</td>\n",
       "      <td>0.570544</td>\n",
       "      <td>0.583763</td>\n",
       "      <td>0.579431</td>\n",
       "      <td>0.531374</td>\n",
       "    </tr>\n",
       "    <tr>\n",
       "      <th>time_learn, min</th>\n",
       "      <td>8.202224</td>\n",
       "      <td>2.575237</td>\n",
       "      <td>9.901165</td>\n",
       "      <td>5.698013</td>\n",
       "      <td>11.328257</td>\n",
       "    </tr>\n",
       "  </tbody>\n",
       "</table>\n",
       "</div>"
      ],
      "text/plain": [
       "                 LogisticRegression  RandomForestClassifier  \\\n",
       "Metrics                                                       \n",
       "f1                         0.538470                0.570544   \n",
       "time_learn, min            8.202224                2.575237   \n",
       "\n",
       "                 CatBoostClassifier  LGBMClassifier  NeuralNet  \n",
       "Metrics                                                         \n",
       "f1                         0.583763        0.579431   0.531374  \n",
       "time_learn, min            9.901165        5.698013  11.328257  "
      ]
     },
     "metadata": {},
     "output_type": "display_data"
    }
   ],
   "source": [
    "### выведем результаты как таблицу с данными\n",
    "total_row_0 = ['f1', score_0, score_1, score_2, score_3, score_4]\n",
    "total_row_1 = ['time_learn, min', end_0/60, end_1/60, end_2/60, end_3/60, end_4/60]\n",
    "data_temp_scores = pd.DataFrame([total_row_0, total_row_1])\n",
    "data_temp_scores.columns = ['Metrics', 'LogisticRegression', 'RandomForestClassifier', 'CatBoostClassifier', 'LGBMClassifier', 'NeuralNet']\n",
    "display(data_temp_scores.set_index('Metrics'))"
   ]
  },
  {
   "cell_type": "markdown",
   "id": "c51aba0e",
   "metadata": {},
   "source": [
    "### Вывод"
   ]
  },
  {
   "cell_type": "markdown",
   "id": "69ff763d",
   "metadata": {},
   "source": [
    "Лучше всего себя показала модель `CatBoostClassifier` с показтелем метрики f1 на уровне `0.583` при достаточно недолгом времени обучения, составляющее около 10 минут."
   ]
  },
  {
   "cell_type": "markdown",
   "id": "456e990d",
   "metadata": {},
   "source": [
    "## Выводы"
   ]
  },
  {
   "cell_type": "markdown",
   "id": "4c6126cb",
   "metadata": {},
   "source": [
    "### Тестирование лучшей модели"
   ]
  },
  {
   "cell_type": "code",
   "execution_count": 54,
   "id": "dd8b764f",
   "metadata": {},
   "outputs": [
    {
     "name": "stdout",
     "output_type": "stream",
     "text": [
      "0:\tlearn: 0.6901887\ttotal: 48.4ms\tremaining: 48.3s\n",
      "100:\tlearn: 0.6138148\ttotal: 4.33s\tremaining: 38.5s\n",
      "200:\tlearn: 0.6029014\ttotal: 9.57s\tremaining: 38s\n",
      "300:\tlearn: 0.5961438\ttotal: 14.3s\tremaining: 33.3s\n",
      "400:\tlearn: 0.5905240\ttotal: 18.9s\tremaining: 28.2s\n",
      "500:\tlearn: 0.5857278\ttotal: 23.3s\tremaining: 23.2s\n",
      "600:\tlearn: 0.5804902\ttotal: 27.4s\tremaining: 18.2s\n",
      "700:\tlearn: 0.5753052\ttotal: 31.8s\tremaining: 13.5s\n",
      "800:\tlearn: 0.5705137\ttotal: 36.7s\tremaining: 9.11s\n",
      "900:\tlearn: 0.5659015\ttotal: 41.8s\tremaining: 4.59s\n",
      "999:\tlearn: 0.5613966\ttotal: 46.5s\tremaining: 0us\n"
     ]
    },
    {
     "data": {
      "text/plain": [
       "'Результат f1 меры для модели CatBoostClassifier на тестовой выборке: 0.5899729428616902'"
      ]
     },
     "metadata": {},
     "output_type": "display_data"
    },
    {
     "data": {
      "text/plain": [
       "'Результат Полноты для модели CatBoostClassifier на тестовой выборке: 0.5374354810647799'"
      ]
     },
     "metadata": {},
     "output_type": "display_data"
    },
    {
     "data": {
      "text/plain": [
       "'Результат Точности для модели CatBoostClassifier на тестовой выборке: 0.6538950042337003'"
      ]
     },
     "metadata": {},
     "output_type": "display_data"
    }
   ],
   "source": [
    "# получим значение метрики на тестовой выборке для лучшей модели\n",
    "model_test = CatBoostClassifier(random_state=42, class_weights=class_weights, verbose=100, \n",
    "                                depth=10, iterations=1000, learning_rate=0.02)\n",
    "model_test.fit(X_train_new, y_train)\n",
    "# тестирование модели случайного леса\n",
    "predictions_test = model_test.predict(X_test_new) \n",
    "result_test = f1_score(y_test, predictions_test)\n",
    "# выведем результат на экран для метрики f1\n",
    "display(f'Результат f1 меры для модели CatBoostClassifier на тестовой выборке: {result_test}')\n",
    "# выведем результатs на экран для полноты и точности\n",
    "recall = recall_score(y_test, predictions_test)\n",
    "display(f'Результат Полноты для модели CatBoostClassifier на тестовой выборке: {recall}')\n",
    "precision = precision_score(y_test, predictions_test) \n",
    "display(f'Результат Точности для модели CatBoostClassifier на тестовой выборке: {precision}')"
   ]
  },
  {
   "cell_type": "markdown",
   "id": "753fe01c",
   "metadata": {},
   "source": [
    "### Матрица ошибок и PR кривая"
   ]
  },
  {
   "cell_type": "code",
   "execution_count": 55,
   "id": "6362ee50",
   "metadata": {},
   "outputs": [
    {
     "data": {
      "text/plain": [
       "array([[15469,  4905],\n",
       "       [ 7976,  9267]])"
      ]
     },
     "metadata": {},
     "output_type": "display_data"
    },
    {
     "data": {
      "image/png": "[encoded data removed]",
      "text/plain": [
       "<Figure size 432x432 with 1 Axes>"
      ]
     },
     "metadata": {
      "needs_background": "light"
     },
     "output_type": "display_data"
    }
   ],
   "source": [
    "# выведем на экран матрицу ошибок\n",
    "matrix = confusion_matrix(y_test, predictions_test)\n",
    "display(matrix)\n",
    "# рассчитаем вероятности\n",
    "probabilities = model_test.predict_proba(X_test_new)\n",
    "precision, recall, thresholds = precision_recall_curve(y_test, probabilities[:, 1])\n",
    "# построим pr кривую\n",
    "plt.figure(figsize=(6, 6))\n",
    "plt.step(recall, precision, where='post')\n",
    "plt.xlabel('Recall')\n",
    "plt.ylabel('Precision')\n",
    "plt.ylim([0.0, 1.05])\n",
    "plt.xlim([0.0, 1.0])\n",
    "plt.title('Кривая Precision-Recall')\n",
    "plt.show() "
   ]
  },
  {
   "cell_type": "markdown",
   "id": "70f1fd20",
   "metadata": {},
   "source": [
    "### ROC кривая"
   ]
  },
  {
   "cell_type": "code",
   "execution_count": 56,
   "id": "068a8b9a",
   "metadata": {
    "scrolled": true
   },
   "outputs": [
    {
     "data": {
      "text/plain": [
       "'AUC-ROC для модели CatBoostClassifier:'"
      ]
     },
     "metadata": {},
     "output_type": "display_data"
    },
    {
     "data": {
      "text/plain": [
       "0.6483437344462016"
      ]
     },
     "metadata": {},
     "output_type": "display_data"
    },
    {
     "data": {
      "image/png": "[encoded data removed]",
      "text/plain": [
       "<Figure size 432x288 with 1 Axes>"
      ]
     },
     "metadata": {
      "needs_background": "light"
     },
     "output_type": "display_data"
    }
   ],
   "source": [
    "# рассчитаем auc_roc\n",
    "auc_roc = roc_auc_score(y_test, predictions_test)\n",
    "# посчитаем площадь под кривой\n",
    "display('AUC-ROC для модели CatBoostClassifier:', auc_roc)\n",
    "# рассчитаем значения FPR, TPR и порога\n",
    "fpr, tpr, thresholds = roc_curve(y_test, predictions_test) \n",
    "# построим график с сеткой\n",
    "plt.figure()\n",
    "plt.grid(True)\n",
    "plt.plot(fpr, tpr, color='m')\n",
    "# ROC-кривая случайной модели \n",
    "plt.plot([0, 1], [0, 1], linestyle='--')\n",
    "# установим границы осей от 0 до 1\n",
    "plt.ylim([0.0, 1.0])\n",
    "plt.xlim([0.0, 1.0])\n",
    "# подшишем оси\n",
    "plt.xlabel('False Positive Rate')\n",
    "plt.ylabel('True Positive Rate')\n",
    "# укажем заголовок\n",
    "plt.title('ROC-кривая для обученной модели')\n",
    "plt.legend(['CatBoostClassifier '])\n",
    "plt.show()"
   ]
  },
  {
   "cell_type": "markdown",
   "id": "3d0d37d7",
   "metadata": {},
   "source": [
    "### Наиболее влияющие признаки на наличие ДТП"
   ]
  },
  {
   "cell_type": "markdown",
   "id": "33183f84",
   "metadata": {},
   "source": [
    "Признаками наиболее влияющими на ДТП являются:\n",
    "- Погода, признак `weather_1`\n",
    "- Освещенность, признак `lighting`\n",
    "- Уровень трезвости, признак `party_sobriety`\n",
    "- Наличие принятых лекарств, признак `party_drug_physical`"
   ]
  },
  {
   "cell_type": "markdown",
   "id": "898a8921",
   "metadata": {},
   "source": [
    "#### Определение зависимости тревозвости от количества ДТП"
   ]
  },
  {
   "cell_type": "markdown",
   "id": "c383d25e",
   "metadata": {},
   "source": [
    "Сформируем запрос и построим столбчатый график для зависимости уровня трезвости от количества ДТП"
   ]
  },
  {
   "cell_type": "code",
   "execution_count": 57,
   "id": "1f6e60a4",
   "metadata": {},
   "outputs": [
    {
     "data": {
      "text/html": [
       "<div>\n",
       "<style scoped>\n",
       "    .dataframe tbody tr th:only-of-type {\n",
       "        vertical-align: middle;\n",
       "    }\n",
       "\n",
       "    .dataframe tbody tr th {\n",
       "        vertical-align: top;\n",
       "    }\n",
       "\n",
       "    .dataframe thead th {\n",
       "        text-align: right;\n",
       "    }\n",
       "</style>\n",
       "<table border=\"1\" class=\"dataframe\">\n",
       "  <thead>\n",
       "    <tr style=\"text-align: right;\">\n",
       "      <th></th>\n",
       "      <th>type_sobriety</th>\n",
       "      <th>sum_fault</th>\n",
       "      <th>cnt</th>\n",
       "      <th>percentage</th>\n",
       "    </tr>\n",
       "  </thead>\n",
       "  <tbody>\n",
       "    <tr>\n",
       "      <th>0</th>\n",
       "      <td>had been drinking, impairment unknown</td>\n",
       "      <td>17052</td>\n",
       "      <td>21419</td>\n",
       "      <td>80.0</td>\n",
       "    </tr>\n",
       "    <tr>\n",
       "      <th>1</th>\n",
       "      <td>had been drinking, not under influence</td>\n",
       "      <td>11944</td>\n",
       "      <td>17650</td>\n",
       "      <td>68.0</td>\n",
       "    </tr>\n",
       "    <tr>\n",
       "      <th>2</th>\n",
       "      <td>had been drinking, under influence</td>\n",
       "      <td>105946</td>\n",
       "      <td>112413</td>\n",
       "      <td>94.0</td>\n",
       "    </tr>\n",
       "    <tr>\n",
       "      <th>3</th>\n",
       "      <td>had not been drinking</td>\n",
       "      <td>928820</td>\n",
       "      <td>2124727</td>\n",
       "      <td>44.0</td>\n",
       "    </tr>\n",
       "    <tr>\n",
       "      <th>4</th>\n",
       "      <td>impairment unknown</td>\n",
       "      <td>182724</td>\n",
       "      <td>232901</td>\n",
       "      <td>78.0</td>\n",
       "    </tr>\n",
       "    <tr>\n",
       "      <th>5</th>\n",
       "      <td>not applicable</td>\n",
       "      <td>12801</td>\n",
       "      <td>169343</td>\n",
       "      <td>8.0</td>\n",
       "    </tr>\n",
       "    <tr>\n",
       "      <th>6</th>\n",
       "      <td>None</td>\n",
       "      <td>28840</td>\n",
       "      <td>73955</td>\n",
       "      <td>39.0</td>\n",
       "    </tr>\n",
       "  </tbody>\n",
       "</table>\n",
       "</div>"
      ],
      "text/plain": [
       "                            type_sobriety  sum_fault      cnt  percentage\n",
       "0   had been drinking, impairment unknown      17052    21419        80.0\n",
       "1  had been drinking, not under influence      11944    17650        68.0\n",
       "2      had been drinking, under influence     105946   112413        94.0\n",
       "3                   had not been drinking     928820  2124727        44.0\n",
       "4                      impairment unknown     182724   232901        78.0\n",
       "5                          not applicable      12801   169343         8.0\n",
       "6                                    None      28840    73955        39.0"
      ]
     },
     "metadata": {},
     "output_type": "display_data"
    }
   ],
   "source": [
    "# сформируем запрос\n",
    "query_6_4_1 = '''\n",
    "SELECT *,\n",
    "       ROUND((sum_fault::numeric / cnt) * 100, 0) AS percentage\n",
    "FROM\n",
    "(SELECT p.party_sobriety AS type_sobriety,\n",
    "       SUM(p.at_fault) AS sum_fault,\n",
    "       COUNT(p.at_fault) AS cnt\n",
    "FROM parties AS p\n",
    "GROUP BY p.party_sobriety) AS temp;\n",
    "'''\n",
    "# выведем как таблицу\n",
    "df_6_4_1 = pd.read_sql_query(query_6_4_1, con=engine) \n",
    "display(df_6_4_1)"
   ]
  },
  {
   "cell_type": "code",
   "execution_count": 58,
   "id": "b4c0b52e",
   "metadata": {},
   "outputs": [
    {
     "data": {
      "image/png": "[encoded data removed]",
      "text/plain": [
       "<Figure size 864x576 with 1 Axes>"
      ]
     },
     "metadata": {
      "needs_background": "light"
     },
     "output_type": "display_data"
    }
   ],
   "source": [
    "# построение графика \n",
    "df_6_4_1['type_sobriety'] = df_6_4_1['type_sobriety'].astype('str')\n",
    "fig1, ax1 = plt.subplots()\n",
    "# график построен для наглядности только для групп со значением had been drinking\n",
    "ax1.bar(df_6_4_1.type_sobriety[0:3], df_6_4_1.cnt[0:3], color = 'skyblue', edgecolor = 'grey', width = 1, label = 'Всего ДТП')\n",
    "ax1.bar(df_6_4_1.type_sobriety[0:3], df_6_4_1.sum_fault[0:3], color = 'gold', edgecolor = 'grey', width = 0.55, label = 'Является виновником')\n",
    "fig1.set_figwidth(12)\n",
    "fig1.set_figheight(8)\n",
    "ax1.set_xlabel('Группа по трезвости участника ДТП')\n",
    "ax1.set_ylabel('Количество случаев')\n",
    "plt.xticks(rotation=45)\n",
    "plt.grid()\n",
    "plt.legend(title='Распределение по количеству:')\n",
    "plt.title('График зависимости группы трезвости участников ДТП от всего количества ДТП')\n",
    "plt.show()"
   ]
  },
  {
   "cell_type": "markdown",
   "id": "ccc98f3d",
   "metadata": {},
   "source": [
    "#### Вывод"
   ]
  },
  {
   "cell_type": "markdown",
   "id": "72c36dd0",
   "metadata": {},
   "source": [
    "Из графика можно заметить, что от 68% до 94% случаев, при наличии опьянения - ДТП состоится. Это определенно группы риска, за которыми нужно внимательно наблюдать и сигнализировать о наличии таких водителей."
   ]
  },
  {
   "cell_type": "markdown",
   "id": "f27f8d3d",
   "metadata": {},
   "source": [
    "**Предлагаемое решение**"
   ]
  },
  {
   "cell_type": "markdown",
   "id": "97551625",
   "metadata": {},
   "source": [
    "Перед поездкой, водитель должен зафиксировать количество выдыхаемого воздуха на наличие алкогольного опьянения. Путем отправки результата в специальный чат, приложив фото алкометра с показателем промиле на экране."
   ]
  },
  {
   "cell_type": "markdown",
   "id": "5ff9bf64",
   "metadata": {},
   "source": [
    "#### Определение зависимости наличия принятия лекарств от количества ДТП"
   ]
  },
  {
   "cell_type": "markdown",
   "id": "3d87477f",
   "metadata": {},
   "source": [
    "Сформируем запрос и построим столбчатый график для зависимости наличия принятия лекарств от количества ДТП"
   ]
  },
  {
   "cell_type": "code",
   "execution_count": 59,
   "id": "6bcbec12",
   "metadata": {},
   "outputs": [
    {
     "data": {
      "text/html": [
       "<div>\n",
       "<style scoped>\n",
       "    .dataframe tbody tr th:only-of-type {\n",
       "        vertical-align: middle;\n",
       "    }\n",
       "\n",
       "    .dataframe tbody tr th {\n",
       "        vertical-align: top;\n",
       "    }\n",
       "\n",
       "    .dataframe thead th {\n",
       "        text-align: right;\n",
       "    }\n",
       "</style>\n",
       "<table border=\"1\" class=\"dataframe\">\n",
       "  <thead>\n",
       "    <tr style=\"text-align: right;\">\n",
       "      <th></th>\n",
       "      <th>type_drug</th>\n",
       "      <th>sum_fault</th>\n",
       "      <th>cnt</th>\n",
       "      <th>percentage</th>\n",
       "    </tr>\n",
       "  </thead>\n",
       "  <tbody>\n",
       "    <tr>\n",
       "      <th>0</th>\n",
       "      <td>G</td>\n",
       "      <td>182724</td>\n",
       "      <td>232901</td>\n",
       "      <td>78.0</td>\n",
       "    </tr>\n",
       "    <tr>\n",
       "      <th>1</th>\n",
       "      <td>impairment - physical</td>\n",
       "      <td>1874</td>\n",
       "      <td>4188</td>\n",
       "      <td>45.0</td>\n",
       "    </tr>\n",
       "    <tr>\n",
       "      <th>2</th>\n",
       "      <td>not applicable</td>\n",
       "      <td>12801</td>\n",
       "      <td>169343</td>\n",
       "      <td>8.0</td>\n",
       "    </tr>\n",
       "    <tr>\n",
       "      <th>3</th>\n",
       "      <td>sleepy/fatigued</td>\n",
       "      <td>12066</td>\n",
       "      <td>12641</td>\n",
       "      <td>95.0</td>\n",
       "    </tr>\n",
       "    <tr>\n",
       "      <th>4</th>\n",
       "      <td>under drug influence</td>\n",
       "      <td>12161</td>\n",
       "      <td>13215</td>\n",
       "      <td>92.0</td>\n",
       "    </tr>\n",
       "    <tr>\n",
       "      <th>5</th>\n",
       "      <td>None</td>\n",
       "      <td>1066501</td>\n",
       "      <td>2320120</td>\n",
       "      <td>46.0</td>\n",
       "    </tr>\n",
       "  </tbody>\n",
       "</table>\n",
       "</div>"
      ],
      "text/plain": [
       "               type_drug  sum_fault      cnt  percentage\n",
       "0                      G     182724   232901        78.0\n",
       "1  impairment - physical       1874     4188        45.0\n",
       "2         not applicable      12801   169343         8.0\n",
       "3        sleepy/fatigued      12066    12641        95.0\n",
       "4   under drug influence      12161    13215        92.0\n",
       "5                   None    1066501  2320120        46.0"
      ]
     },
     "metadata": {},
     "output_type": "display_data"
    }
   ],
   "source": [
    "# сформируем запрос\n",
    "query_6_4_2 = '''\n",
    "SELECT *,\n",
    "       ROUND((sum_fault::numeric / cnt) * 100, 0) AS percentage\n",
    "FROM\n",
    "(SELECT p.party_drug_physical AS type_drug,\n",
    "       SUM(p.at_fault) AS sum_fault,\n",
    "       COUNT(p.at_fault) AS cnt\n",
    "FROM parties AS p\n",
    "GROUP BY p.party_drug_physical) AS temp;\n",
    "'''\n",
    "# выведем как таблицу\n",
    "df_6_4_2 = pd.read_sql_query(query_6_4_2, con=engine) \n",
    "display(df_6_4_2)"
   ]
  },
  {
   "cell_type": "code",
   "execution_count": 60,
   "id": "937e6ece",
   "metadata": {},
   "outputs": [
    {
     "data": {
      "image/png": "[encoded data removed]",
      "text/plain": [
       "<Figure size 864x576 with 1 Axes>"
      ]
     },
     "metadata": {
      "needs_background": "light"
     },
     "output_type": "display_data"
    }
   ],
   "source": [
    "# построение графика \n",
    "df_6_4_2['type_drug'] = df_6_4_2['type_drug'].astype('str')\n",
    "fig2, ax2 = plt.subplots()\n",
    "# график построен для наглядности, без групп у которых не определено наличие принятия лекарств\n",
    "ax2.bar(df_6_4_2.type_drug[[1,3,4]], df_6_4_2.cnt[[1,3,4]], color = 'skyblue', edgecolor = 'grey', width = 1, label = 'Всего ДТП')\n",
    "ax2.bar(df_6_4_2.type_drug[[1,3,4]], df_6_4_2.sum_fault[[1,3,4]], color = 'gold', edgecolor = 'grey', width = 0.55, label = 'Является виновником')\n",
    "fig2.set_figwidth(12)\n",
    "fig2.set_figheight(8)\n",
    "ax2.set_xlabel('Группа по физическому состоянию и принятию лекарств')\n",
    "ax2.set_ylabel('Количество случаев')\n",
    "plt.xticks(rotation=45)\n",
    "plt.grid()\n",
    "plt.legend(title='Распределение по количеству:')\n",
    "plt.title('График зависимости группы по физическому состоянию и принятию лекарств от всего количества ДТП')\n",
    "plt.show()"
   ]
  },
  {
   "cell_type": "markdown",
   "id": "09a5fd15",
   "metadata": {},
   "source": [
    "#### Вывод"
   ]
  },
  {
   "cell_type": "markdown",
   "id": "512966f0",
   "metadata": {},
   "source": [
    "Из графика можно заметить, что от 45% до 95% случаев, при наличии у водителя физической усталости или у находящихся под действием лекарств, приведет к ДТП. Это определенно группы риска, за которыми нужно внимательно наблюдать и сигнализировать о наличии таких водителей."
   ]
  },
  {
   "cell_type": "markdown",
   "id": "bed97252",
   "metadata": {},
   "source": [
    "**Предлагаемое решение**"
   ]
  },
  {
   "cell_type": "markdown",
   "id": "1a014bc8",
   "metadata": {},
   "source": [
    "Перед поездкой, водитель должен указать в анкете приложения находится ли он под действием лекарств, а также во избежание наличия усталости можно можно раз в 1-2 часа направлять уведомление о том что нужно сделать перерыв, а по истечении непрерывных 8 часов в дороге удаленно предупреждать за 15 минут и заглушить двигатель на 20 минут."
   ]
  }
 ],
 "metadata": {
  "ExecuteTimeLog": [
   {
    "duration": 81,
    "start_time": "2023-03-27T11:06:03.832Z"
   },
   {
    "duration": 1141,
    "start_time": "2023-03-27T11:07:49.054Z"
   },
   {
    "duration": 7640,
    "start_time": "2023-03-27T11:07:50.199Z"
   },
   {
    "duration": 237,
    "start_time": "2023-03-27T11:07:57.841Z"
   },
   {
    "duration": 44,
    "start_time": "2023-03-27T11:08:07.634Z"
   },
   {
    "duration": 54,
    "start_time": "2023-03-27T11:08:58.363Z"
   },
   {
    "duration": 48,
    "start_time": "2023-03-27T11:09:38.719Z"
   },
   {
    "duration": 42,
    "start_time": "2023-03-27T11:13:47.531Z"
   },
   {
    "duration": 821,
    "start_time": "2023-03-27T11:13:58.263Z"
   },
   {
    "duration": 8578,
    "start_time": "2023-03-27T11:13:59.087Z"
   },
   {
    "duration": 264,
    "start_time": "2023-03-27T11:14:07.667Z"
   },
   {
    "duration": 55,
    "start_time": "2023-03-27T11:14:07.935Z"
   },
   {
    "duration": 53,
    "start_time": "2023-03-27T11:14:07.993Z"
   },
   {
    "duration": 43,
    "start_time": "2023-03-27T11:14:08.048Z"
   },
   {
    "duration": 3,
    "start_time": "2023-03-27T11:14:39.682Z"
   },
   {
    "duration": 25,
    "start_time": "2023-03-27T11:14:39.688Z"
   },
   {
    "duration": 235,
    "start_time": "2023-03-27T11:14:39.715Z"
   },
   {
    "duration": 57,
    "start_time": "2023-03-27T11:14:39.954Z"
   },
   {
    "duration": 47,
    "start_time": "2023-03-27T11:14:40.013Z"
   },
   {
    "duration": 46,
    "start_time": "2023-03-27T11:14:40.062Z"
   },
   {
    "duration": 2,
    "start_time": "2023-03-27T13:27:04.157Z"
   },
   {
    "duration": 12,
    "start_time": "2023-03-27T13:27:04.162Z"
   },
   {
    "duration": 250,
    "start_time": "2023-03-27T13:27:04.176Z"
   },
   {
    "duration": 55,
    "start_time": "2023-03-27T13:27:04.428Z"
   },
   {
    "duration": 55,
    "start_time": "2023-03-27T13:27:04.486Z"
   },
   {
    "duration": 61,
    "start_time": "2023-03-27T13:27:04.544Z"
   },
   {
    "duration": 3698,
    "start_time": "2023-03-27T13:42:24.183Z"
   },
   {
    "duration": 3672,
    "start_time": "2023-03-27T13:42:36.817Z"
   },
   {
    "duration": 17105,
    "start_time": "2023-03-27T13:43:04.001Z"
   },
   {
    "duration": 893,
    "start_time": "2023-03-27T13:44:33.048Z"
   },
   {
    "duration": 22902,
    "start_time": "2023-03-27T13:44:33.943Z"
   },
   {
    "duration": 4173,
    "start_time": "2023-03-27T13:44:56.847Z"
   },
   {
    "duration": 19483,
    "start_time": "2023-03-27T13:45:01.022Z"
   },
   {
    "duration": 853,
    "start_time": "2023-03-27T13:46:05.159Z"
   },
   {
    "duration": 14377,
    "start_time": "2023-03-27T13:46:06.014Z"
   },
   {
    "duration": 4117,
    "start_time": "2023-03-27T13:46:20.394Z"
   },
   {
    "duration": 19381,
    "start_time": "2023-03-27T13:46:24.513Z"
   },
   {
    "duration": 897,
    "start_time": "2023-03-27T13:47:20.026Z"
   },
   {
    "duration": 8603,
    "start_time": "2023-03-27T13:47:20.925Z"
   },
   {
    "duration": 4161,
    "start_time": "2023-03-27T13:47:29.532Z"
   },
   {
    "duration": 19223,
    "start_time": "2023-03-27T13:47:33.695Z"
   },
   {
    "duration": 804,
    "start_time": "2023-03-27T13:48:36.677Z"
   },
   {
    "duration": 10868,
    "start_time": "2023-03-27T13:48:37.483Z"
   },
   {
    "duration": 4112,
    "start_time": "2023-03-27T13:48:48.353Z"
   },
   {
    "duration": 19267,
    "start_time": "2023-03-27T13:48:52.467Z"
   },
   {
    "duration": 3,
    "start_time": "2023-03-27T13:49:11.737Z"
   },
   {
    "duration": 4155,
    "start_time": "2023-03-27T13:49:11.742Z"
   },
   {
    "duration": 1159,
    "start_time": "2023-03-27T13:50:32.703Z"
   },
   {
    "duration": 15146,
    "start_time": "2023-03-27T13:50:33.864Z"
   },
   {
    "duration": 4161,
    "start_time": "2023-03-27T13:50:49.012Z"
   },
   {
    "duration": 19814,
    "start_time": "2023-03-27T13:50:53.175Z"
   },
   {
    "duration": 66,
    "start_time": "2023-03-27T13:51:12.992Z"
   },
   {
    "duration": 4087,
    "start_time": "2023-03-27T13:51:13.061Z"
   },
   {
    "duration": 63,
    "start_time": "2023-03-27T13:51:45.159Z"
   },
   {
    "duration": 66,
    "start_time": "2023-03-27T13:51:50.335Z"
   },
   {
    "duration": 119,
    "start_time": "2023-03-27T13:51:55.024Z"
   },
   {
    "duration": 132,
    "start_time": "2023-03-27T13:51:57.906Z"
   },
   {
    "duration": 877,
    "start_time": "2023-03-27T13:55:45.478Z"
   },
   {
    "duration": 8411,
    "start_time": "2023-03-27T13:55:46.357Z"
   },
   {
    "duration": 4215,
    "start_time": "2023-03-27T13:55:54.770Z"
   },
   {
    "duration": 20183,
    "start_time": "2023-03-27T13:55:58.988Z"
   },
   {
    "duration": 120,
    "start_time": "2023-03-27T13:56:19.173Z"
   },
   {
    "duration": 4567,
    "start_time": "2023-03-27T13:56:19.301Z"
   },
   {
    "duration": 480,
    "start_time": "2023-03-27T14:04:36.662Z"
   },
   {
    "duration": 146,
    "start_time": "2023-03-27T14:05:37.445Z"
   },
   {
    "duration": 5084,
    "start_time": "2023-03-27T14:06:18.317Z"
   },
   {
    "duration": 4424,
    "start_time": "2023-03-27T14:07:03.836Z"
   },
   {
    "duration": 4929,
    "start_time": "2023-03-27T14:08:03.229Z"
   },
   {
    "duration": 4440,
    "start_time": "2023-03-27T14:11:34.733Z"
   },
   {
    "duration": 4889,
    "start_time": "2023-03-27T14:11:58.586Z"
   },
   {
    "duration": 873,
    "start_time": "2023-03-27T14:13:00.109Z"
   },
   {
    "duration": 8630,
    "start_time": "2023-03-27T14:13:00.985Z"
   },
   {
    "duration": 4919,
    "start_time": "2023-03-27T14:13:09.617Z"
   },
   {
    "duration": 20333,
    "start_time": "2023-03-27T14:13:14.538Z"
   },
   {
    "duration": 238,
    "start_time": "2023-03-27T14:13:34.872Z"
   },
   {
    "duration": 4349,
    "start_time": "2023-03-27T14:13:35.112Z"
   },
   {
    "duration": 706,
    "start_time": "2023-03-27T14:17:09.212Z"
   },
   {
    "duration": 5579,
    "start_time": "2023-03-27T14:17:18.131Z"
   },
   {
    "duration": 7407,
    "start_time": "2023-03-27T14:17:41.043Z"
   },
   {
    "duration": 876,
    "start_time": "2023-03-27T14:19:24.481Z"
   },
   {
    "duration": 13586,
    "start_time": "2023-03-27T14:19:25.359Z"
   },
   {
    "duration": 4704,
    "start_time": "2023-03-27T14:19:38.947Z"
   },
   {
    "duration": 19881,
    "start_time": "2023-03-27T14:19:43.652Z"
   },
   {
    "duration": 9512,
    "start_time": "2023-03-27T14:20:03.536Z"
   },
   {
    "duration": 4423,
    "start_time": "2023-03-27T14:20:13.051Z"
   },
   {
    "duration": 4,
    "start_time": "2023-03-27T14:27:43.229Z"
   },
   {
    "duration": 829,
    "start_time": "2023-03-27T14:28:17.432Z"
   },
   {
    "duration": 10504,
    "start_time": "2023-03-27T14:28:18.263Z"
   },
   {
    "duration": 4790,
    "start_time": "2023-03-27T14:28:28.769Z"
   },
   {
    "duration": 19771,
    "start_time": "2023-03-27T14:28:33.562Z"
   },
   {
    "duration": 2,
    "start_time": "2023-03-27T14:28:53.335Z"
   },
   {
    "duration": 797,
    "start_time": "2023-03-27T14:29:17.649Z"
   },
   {
    "duration": 14900,
    "start_time": "2023-03-27T14:29:18.448Z"
   },
   {
    "duration": 4457,
    "start_time": "2023-03-27T14:29:33.350Z"
   },
   {
    "duration": 19618,
    "start_time": "2023-03-27T14:29:37.809Z"
   },
   {
    "duration": 3,
    "start_time": "2023-03-27T14:29:57.429Z"
   },
   {
    "duration": 1077,
    "start_time": "2023-03-27T14:30:30.212Z"
   },
   {
    "duration": 17876,
    "start_time": "2023-03-27T14:30:31.292Z"
   },
   {
    "duration": 4279,
    "start_time": "2023-03-27T14:30:49.170Z"
   },
   {
    "duration": 19320,
    "start_time": "2023-03-27T14:30:53.451Z"
   },
   {
    "duration": 8473,
    "start_time": "2023-03-27T14:31:12.774Z"
   },
   {
    "duration": 3896,
    "start_time": "2023-03-27T14:31:21.248Z"
   },
   {
    "duration": 4548,
    "start_time": "2023-03-27T14:34:28.890Z"
   },
   {
    "duration": 4209,
    "start_time": "2023-03-27T14:34:53.352Z"
   },
   {
    "duration": 4472,
    "start_time": "2023-03-27T14:36:22.329Z"
   },
   {
    "duration": 4459,
    "start_time": "2023-03-27T14:36:28.015Z"
   },
   {
    "duration": 818,
    "start_time": "2023-03-27T14:37:57.983Z"
   },
   {
    "duration": 13098,
    "start_time": "2023-03-27T14:37:58.804Z"
   },
   {
    "duration": 4620,
    "start_time": "2023-03-27T14:38:11.904Z"
   },
   {
    "duration": 19835,
    "start_time": "2023-03-27T14:38:16.526Z"
   },
   {
    "duration": 2877,
    "start_time": "2023-03-27T14:38:36.363Z"
   },
   {
    "duration": 8747,
    "start_time": "2023-03-27T14:38:39.242Z"
   },
   {
    "duration": 4152,
    "start_time": "2023-03-27T14:38:47.991Z"
   },
   {
    "duration": 423,
    "start_time": "2023-03-27T14:38:56.399Z"
   },
   {
    "duration": 226,
    "start_time": "2023-03-27T14:39:12.831Z"
   },
   {
    "duration": 3,
    "start_time": "2023-03-27T14:39:50.440Z"
   },
   {
    "duration": 32,
    "start_time": "2023-03-27T14:39:50.446Z"
   },
   {
    "duration": 4431,
    "start_time": "2023-03-27T14:39:50.481Z"
   },
   {
    "duration": 291,
    "start_time": "2023-03-27T14:39:54.913Z"
   },
   {
    "duration": 879,
    "start_time": "2023-03-27T14:40:06.949Z"
   },
   {
    "duration": 32323,
    "start_time": "2023-03-27T14:40:07.830Z"
   },
   {
    "duration": 4968,
    "start_time": "2023-03-27T14:40:40.155Z"
   },
   {
    "duration": 294,
    "start_time": "2023-03-27T14:40:45.125Z"
   },
   {
    "duration": 20946,
    "start_time": "2023-03-27T14:40:45.421Z"
   },
   {
    "duration": 2992,
    "start_time": "2023-03-27T14:41:06.369Z"
   },
   {
    "duration": 9572,
    "start_time": "2023-03-27T14:41:09.363Z"
   },
   {
    "duration": 494,
    "start_time": "2023-03-27T14:41:18.936Z"
   },
   {
    "duration": 4363,
    "start_time": "2023-03-27T14:41:19.432Z"
   },
   {
    "duration": 237,
    "start_time": "2023-03-27T14:41:23.797Z"
   },
   {
    "duration": 915,
    "start_time": "2023-03-28T05:48:13.323Z"
   },
   {
    "duration": 7929,
    "start_time": "2023-03-28T05:48:14.241Z"
   },
   {
    "duration": 3748,
    "start_time": "2023-03-28T05:48:22.171Z"
   },
   {
    "duration": 230,
    "start_time": "2023-03-28T05:48:25.921Z"
   },
   {
    "duration": 18481,
    "start_time": "2023-03-28T05:48:26.153Z"
   },
   {
    "duration": 2609,
    "start_time": "2023-03-28T05:48:44.636Z"
   },
   {
    "duration": 8097,
    "start_time": "2023-03-28T05:48:47.247Z"
   },
   {
    "duration": 431,
    "start_time": "2023-03-28T05:48:55.347Z"
   },
   {
    "duration": 3689,
    "start_time": "2023-03-28T05:48:55.780Z"
   },
   {
    "duration": 220,
    "start_time": "2023-03-28T05:48:59.472Z"
   },
   {
    "duration": 923,
    "start_time": "2023-03-29T06:45:37.878Z"
   },
   {
    "duration": 8027,
    "start_time": "2023-03-29T06:45:38.804Z"
   },
   {
    "duration": 4292,
    "start_time": "2023-03-29T06:45:46.832Z"
   },
   {
    "duration": 217,
    "start_time": "2023-03-29T06:45:51.127Z"
   },
   {
    "duration": 20032,
    "start_time": "2023-03-29T06:45:51.345Z"
   },
   {
    "duration": 2722,
    "start_time": "2023-03-29T06:46:11.385Z"
   },
   {
    "duration": 8497,
    "start_time": "2023-03-29T06:46:14.110Z"
   },
   {
    "duration": 393,
    "start_time": "2023-03-29T06:46:22.608Z"
   },
   {
    "duration": 3717,
    "start_time": "2023-03-29T06:46:23.003Z"
   },
   {
    "duration": 218,
    "start_time": "2023-03-29T06:46:26.722Z"
   },
   {
    "duration": 8,
    "start_time": "2023-03-29T06:46:26.942Z"
   },
   {
    "duration": 190,
    "start_time": "2023-03-29T06:55:23.333Z"
   },
   {
    "duration": 301,
    "start_time": "2023-03-29T06:55:51.605Z"
   },
   {
    "duration": 161,
    "start_time": "2023-03-29T07:02:54.457Z"
   },
   {
    "duration": 236,
    "start_time": "2023-03-29T07:03:07.534Z"
   },
   {
    "duration": 259,
    "start_time": "2023-03-29T07:23:19.165Z"
   },
   {
    "duration": 175,
    "start_time": "2023-03-29T07:23:35.142Z"
   },
   {
    "duration": 240,
    "start_time": "2023-03-29T07:23:47.611Z"
   },
   {
    "duration": 143,
    "start_time": "2023-03-29T07:23:53.584Z"
   },
   {
    "duration": 157,
    "start_time": "2023-03-29T07:27:30.898Z"
   },
   {
    "duration": 148,
    "start_time": "2023-03-29T07:29:48.889Z"
   },
   {
    "duration": 111,
    "start_time": "2023-03-29T13:03:54.560Z"
   },
   {
    "duration": 3850,
    "start_time": "2023-03-29T13:04:10.647Z"
   },
   {
    "duration": 725,
    "start_time": "2023-03-29T13:06:02.875Z"
   },
   {
    "duration": 5784,
    "start_time": "2023-03-29T13:06:03.602Z"
   },
   {
    "duration": 4069,
    "start_time": "2023-03-29T13:06:09.388Z"
   },
   {
    "duration": 244,
    "start_time": "2023-03-29T13:06:13.459Z"
   },
   {
    "duration": 19038,
    "start_time": "2023-03-29T13:06:13.707Z"
   },
   {
    "duration": 2723,
    "start_time": "2023-03-29T13:06:32.747Z"
   },
   {
    "duration": 8230,
    "start_time": "2023-03-29T13:06:35.471Z"
   },
   {
    "duration": 412,
    "start_time": "2023-03-29T13:06:43.703Z"
   },
   {
    "duration": 3794,
    "start_time": "2023-03-29T13:06:44.116Z"
   },
   {
    "duration": 224,
    "start_time": "2023-03-29T13:06:47.912Z"
   },
   {
    "duration": 256,
    "start_time": "2023-03-29T13:06:48.137Z"
   },
   {
    "duration": 178,
    "start_time": "2023-03-29T13:06:48.395Z"
   },
   {
    "duration": 5487,
    "start_time": "2023-03-29T13:06:48.574Z"
   },
   {
    "duration": 1245,
    "start_time": "2023-03-29T13:07:23.567Z"
   },
   {
    "duration": 210,
    "start_time": "2023-03-29T13:08:11.318Z"
   },
   {
    "duration": 111,
    "start_time": "2023-03-29T13:08:36.927Z"
   },
   {
    "duration": 112,
    "start_time": "2023-03-29T13:08:55.666Z"
   },
   {
    "duration": 108,
    "start_time": "2023-03-29T13:09:05.704Z"
   },
   {
    "duration": 528,
    "start_time": "2023-03-29T13:09:15.966Z"
   },
   {
    "duration": 291,
    "start_time": "2023-03-29T13:09:57.125Z"
   },
   {
    "duration": 292,
    "start_time": "2023-03-29T13:10:07.632Z"
   },
   {
    "duration": 227,
    "start_time": "2023-03-29T13:10:25.325Z"
   },
   {
    "duration": 38,
    "start_time": "2023-03-29T13:16:22.769Z"
   },
   {
    "duration": 37,
    "start_time": "2023-03-29T13:16:56.348Z"
   },
   {
    "duration": 46,
    "start_time": "2023-03-29T13:18:34.636Z"
   },
   {
    "duration": 738,
    "start_time": "2023-03-29T13:18:49.279Z"
   },
   {
    "duration": 5838,
    "start_time": "2023-03-29T13:18:50.020Z"
   },
   {
    "duration": 3887,
    "start_time": "2023-03-29T13:18:55.860Z"
   },
   {
    "duration": 250,
    "start_time": "2023-03-29T13:18:59.749Z"
   },
   {
    "duration": 20331,
    "start_time": "2023-03-29T13:19:00.001Z"
   },
   {
    "duration": 2706,
    "start_time": "2023-03-29T13:19:20.334Z"
   },
   {
    "duration": 8605,
    "start_time": "2023-03-29T13:19:23.042Z"
   },
   {
    "duration": 388,
    "start_time": "2023-03-29T13:19:31.649Z"
   },
   {
    "duration": 4357,
    "start_time": "2023-03-29T13:19:32.038Z"
   },
   {
    "duration": 225,
    "start_time": "2023-03-29T13:19:36.397Z"
   },
   {
    "duration": 255,
    "start_time": "2023-03-29T13:19:36.624Z"
   },
   {
    "duration": 170,
    "start_time": "2023-03-29T13:19:36.881Z"
   },
   {
    "duration": 233,
    "start_time": "2023-03-29T13:19:37.054Z"
   },
   {
    "duration": 2,
    "start_time": "2023-03-29T13:19:37.289Z"
   },
   {
    "duration": 446,
    "start_time": "2023-03-29T13:21:57.130Z"
   },
   {
    "duration": 481,
    "start_time": "2023-03-29T13:31:33.572Z"
   },
   {
    "duration": 193,
    "start_time": "2023-03-29T13:38:05.166Z"
   },
   {
    "duration": 91,
    "start_time": "2023-03-29T13:38:29.862Z"
   },
   {
    "duration": 107,
    "start_time": "2023-03-29T13:38:40.559Z"
   },
   {
    "duration": 466,
    "start_time": "2023-03-29T13:39:14.713Z"
   },
   {
    "duration": 104,
    "start_time": "2023-03-29T13:39:36.762Z"
   },
   {
    "duration": 103,
    "start_time": "2023-03-29T13:39:53.934Z"
   },
   {
    "duration": 113,
    "start_time": "2023-03-29T13:40:09.910Z"
   },
   {
    "duration": 105,
    "start_time": "2023-03-29T13:40:54.143Z"
   },
   {
    "duration": 110,
    "start_time": "2023-03-29T13:41:05.780Z"
   },
   {
    "duration": 461,
    "start_time": "2023-03-29T13:41:33.416Z"
   },
   {
    "duration": 107,
    "start_time": "2023-03-29T13:43:03.981Z"
   },
   {
    "duration": 115,
    "start_time": "2023-03-29T13:44:12.623Z"
   },
   {
    "duration": 558,
    "start_time": "2023-03-29T13:44:43.902Z"
   },
   {
    "duration": 517,
    "start_time": "2023-03-29T13:45:06.612Z"
   },
   {
    "duration": 527,
    "start_time": "2023-03-29T13:46:12.437Z"
   },
   {
    "duration": 547,
    "start_time": "2023-03-29T13:46:23.012Z"
   },
   {
    "duration": 102,
    "start_time": "2023-03-29T13:58:36.083Z"
   },
   {
    "duration": 5037,
    "start_time": "2023-03-29T13:58:48.227Z"
   },
   {
    "duration": 555,
    "start_time": "2023-03-29T13:59:31.266Z"
   },
   {
    "duration": 525,
    "start_time": "2023-03-29T14:14:41.766Z"
   },
   {
    "duration": 101,
    "start_time": "2023-03-29T14:21:25.590Z"
   },
   {
    "duration": 127,
    "start_time": "2023-03-29T14:21:34.927Z"
   },
   {
    "duration": 527,
    "start_time": "2023-03-29T14:23:35.382Z"
   },
   {
    "duration": 527,
    "start_time": "2023-03-29T14:23:50.550Z"
   },
   {
    "duration": 326,
    "start_time": "2023-03-29T14:24:02.415Z"
   },
   {
    "duration": 338,
    "start_time": "2023-03-29T14:24:16.301Z"
   },
   {
    "duration": 535,
    "start_time": "2023-03-29T14:30:22.518Z"
   },
   {
    "duration": 2,
    "start_time": "2023-03-29T14:31:12.260Z"
   },
   {
    "duration": 4453,
    "start_time": "2023-03-29T14:32:05.164Z"
   },
   {
    "duration": 929,
    "start_time": "2023-03-29T19:02:15.177Z"
   },
   {
    "duration": 5415,
    "start_time": "2023-03-29T19:02:16.109Z"
   },
   {
    "duration": 3378,
    "start_time": "2023-03-29T19:02:21.525Z"
   },
   {
    "duration": 157,
    "start_time": "2023-03-29T19:02:24.905Z"
   },
   {
    "duration": 13553,
    "start_time": "2023-03-29T19:02:25.064Z"
   },
   {
    "duration": 2168,
    "start_time": "2023-03-29T19:02:38.618Z"
   },
   {
    "duration": 7158,
    "start_time": "2023-03-29T19:02:40.788Z"
   },
   {
    "duration": 321,
    "start_time": "2023-03-29T19:02:47.948Z"
   },
   {
    "duration": 3209,
    "start_time": "2023-03-29T19:02:48.272Z"
   },
   {
    "duration": 155,
    "start_time": "2023-03-29T19:02:51.484Z"
   },
   {
    "duration": 238,
    "start_time": "2023-03-29T19:02:51.640Z"
   },
   {
    "duration": 137,
    "start_time": "2023-03-29T19:02:51.879Z"
   },
   {
    "duration": 3196,
    "start_time": "2023-03-29T19:02:52.017Z"
   },
   {
    "duration": 2,
    "start_time": "2023-03-29T19:02:55.214Z"
   },
   {
    "duration": 206,
    "start_time": "2023-03-29T19:02:55.218Z"
   },
   {
    "duration": 533,
    "start_time": "2023-03-29T20:14:39.734Z"
   },
   {
    "duration": 108,
    "start_time": "2023-03-29T20:15:25.649Z"
   },
   {
    "duration": 562,
    "start_time": "2023-03-29T20:15:30.327Z"
   },
   {
    "duration": 4467,
    "start_time": "2023-03-29T20:16:36.804Z"
   },
   {
    "duration": 237,
    "start_time": "2023-03-29T20:17:41.143Z"
   },
   {
    "duration": 4679,
    "start_time": "2023-03-29T20:18:03.848Z"
   },
   {
    "duration": 4305,
    "start_time": "2023-03-29T20:19:18.891Z"
   },
   {
    "duration": 4237,
    "start_time": "2023-03-29T20:42:06.148Z"
   },
   {
    "duration": 4770,
    "start_time": "2023-03-29T20:44:00.438Z"
   },
   {
    "duration": 4621,
    "start_time": "2023-03-29T20:44:14.940Z"
   },
   {
    "duration": 4785,
    "start_time": "2023-03-29T20:45:03.518Z"
   },
   {
    "duration": 4810,
    "start_time": "2023-03-29T20:45:21.734Z"
   },
   {
    "duration": 5213,
    "start_time": "2023-03-29T20:46:07.173Z"
   },
   {
    "duration": 545,
    "start_time": "2023-03-29T20:47:00.185Z"
   },
   {
    "duration": 4811,
    "start_time": "2023-03-29T21:07:31.090Z"
   },
   {
    "duration": 109,
    "start_time": "2023-03-29T21:09:27.474Z"
   },
   {
    "duration": 13541,
    "start_time": "2023-03-29T21:09:49.234Z"
   },
   {
    "duration": 11060,
    "start_time": "2023-03-29T21:11:58.634Z"
   },
   {
    "duration": 9428,
    "start_time": "2023-03-29T21:12:27.541Z"
   },
   {
    "duration": 4872,
    "start_time": "2023-03-29T21:12:45.837Z"
   },
   {
    "duration": 4719,
    "start_time": "2023-03-29T21:13:04.383Z"
   },
   {
    "duration": 4816,
    "start_time": "2023-03-29T21:13:23.615Z"
   },
   {
    "duration": 4836,
    "start_time": "2023-03-29T21:13:37.179Z"
   },
   {
    "duration": 4678,
    "start_time": "2023-03-29T21:14:06.964Z"
   },
   {
    "duration": 9,
    "start_time": "2023-03-29T21:17:42.160Z"
   },
   {
    "duration": 13,
    "start_time": "2023-03-29T21:18:58.865Z"
   },
   {
    "duration": 10,
    "start_time": "2023-03-29T21:19:05.464Z"
   },
   {
    "duration": 9,
    "start_time": "2023-03-29T21:19:10.955Z"
   },
   {
    "duration": 10,
    "start_time": "2023-03-29T21:19:17.056Z"
   },
   {
    "duration": 10,
    "start_time": "2023-03-29T21:19:22.585Z"
   },
   {
    "duration": 10,
    "start_time": "2023-03-29T21:21:03.213Z"
   },
   {
    "duration": 11,
    "start_time": "2023-03-29T21:21:23.114Z"
   },
   {
    "duration": 443,
    "start_time": "2023-03-29T21:22:09.127Z"
   },
   {
    "duration": 325,
    "start_time": "2023-03-29T21:23:09.187Z"
   },
   {
    "duration": 4632,
    "start_time": "2023-03-29T21:27:24.453Z"
   },
   {
    "duration": 5385,
    "start_time": "2023-03-29T21:27:44.823Z"
   },
   {
    "duration": 2457,
    "start_time": "2023-03-29T21:28:16.223Z"
   },
   {
    "duration": 4702,
    "start_time": "2023-03-29T21:31:05.933Z"
   },
   {
    "duration": 4772,
    "start_time": "2023-03-29T21:32:02.902Z"
   },
   {
    "duration": 352,
    "start_time": "2023-03-29T21:33:54.250Z"
   },
   {
    "duration": 4643,
    "start_time": "2023-03-29T21:37:02.226Z"
   },
   {
    "duration": 321,
    "start_time": "2023-03-29T21:37:23.594Z"
   },
   {
    "duration": 12,
    "start_time": "2023-03-29T21:39:32.794Z"
   },
   {
    "duration": 314,
    "start_time": "2023-03-29T21:40:01.200Z"
   },
   {
    "duration": 11,
    "start_time": "2023-03-29T21:46:56.663Z"
   },
   {
    "duration": 13,
    "start_time": "2023-03-29T21:47:17.486Z"
   },
   {
    "duration": 738,
    "start_time": "2023-03-29T21:47:41.054Z"
   },
   {
    "duration": 898,
    "start_time": "2023-03-29T21:48:19.025Z"
   },
   {
    "duration": 1088,
    "start_time": "2023-03-29T21:49:31.724Z"
   },
   {
    "duration": 310,
    "start_time": "2023-03-29T21:53:15.110Z"
   },
   {
    "duration": 351,
    "start_time": "2023-03-29T21:55:33.878Z"
   },
   {
    "duration": 380,
    "start_time": "2023-03-29T21:55:55.672Z"
   },
   {
    "duration": 364,
    "start_time": "2023-03-29T21:56:16.743Z"
   },
   {
    "duration": 320,
    "start_time": "2023-03-29T21:56:21.206Z"
   },
   {
    "duration": 366,
    "start_time": "2023-03-29T21:59:00.740Z"
   },
   {
    "duration": 350,
    "start_time": "2023-03-29T21:59:09.664Z"
   },
   {
    "duration": 337,
    "start_time": "2023-03-29T21:59:18.665Z"
   },
   {
    "duration": 330,
    "start_time": "2023-03-29T21:59:24.289Z"
   },
   {
    "duration": 353,
    "start_time": "2023-03-29T21:59:33.873Z"
   },
   {
    "duration": 25,
    "start_time": "2023-03-29T21:59:42.288Z"
   },
   {
    "duration": 407,
    "start_time": "2023-03-29T21:59:55.772Z"
   },
   {
    "duration": 22,
    "start_time": "2023-03-29T22:00:58.869Z"
   },
   {
    "duration": 19,
    "start_time": "2023-03-29T22:03:17.830Z"
   },
   {
    "duration": 354,
    "start_time": "2023-03-29T22:03:48.431Z"
   },
   {
    "duration": 330,
    "start_time": "2023-03-29T22:03:57.825Z"
   },
   {
    "duration": 314,
    "start_time": "2023-03-29T22:04:05.612Z"
   },
   {
    "duration": 900,
    "start_time": "2023-03-30T12:14:32.188Z"
   },
   {
    "duration": 8226,
    "start_time": "2023-03-30T12:14:33.091Z"
   },
   {
    "duration": 3936,
    "start_time": "2023-03-30T12:14:41.321Z"
   },
   {
    "duration": 239,
    "start_time": "2023-03-30T12:14:45.261Z"
   },
   {
    "duration": 18783,
    "start_time": "2023-03-30T12:14:45.502Z"
   },
   {
    "duration": 2735,
    "start_time": "2023-03-30T12:15:04.286Z"
   },
   {
    "duration": 8021,
    "start_time": "2023-03-30T12:15:07.023Z"
   },
   {
    "duration": 366,
    "start_time": "2023-03-30T12:15:15.046Z"
   },
   {
    "duration": 3766,
    "start_time": "2023-03-30T12:15:15.414Z"
   },
   {
    "duration": 221,
    "start_time": "2023-03-30T12:15:19.182Z"
   },
   {
    "duration": 216,
    "start_time": "2023-03-30T12:15:19.405Z"
   },
   {
    "duration": 160,
    "start_time": "2023-03-30T12:15:19.623Z"
   },
   {
    "duration": 4760,
    "start_time": "2023-03-30T12:15:19.785Z"
   },
   {
    "duration": 956,
    "start_time": "2023-03-30T12:15:24.548Z"
   },
   {
    "duration": 222,
    "start_time": "2023-03-30T12:15:25.506Z"
   },
   {
    "duration": 4788,
    "start_time": "2023-03-30T12:19:09.323Z"
   },
   {
    "duration": 403,
    "start_time": "2023-03-30T12:19:31.473Z"
   },
   {
    "duration": 381,
    "start_time": "2023-03-30T12:19:42.490Z"
   },
   {
    "duration": 439,
    "start_time": "2023-03-30T12:19:48.642Z"
   },
   {
    "duration": 4785,
    "start_time": "2023-03-30T12:22:30.245Z"
   },
   {
    "duration": 3,
    "start_time": "2023-03-30T12:42:51.551Z"
   },
   {
    "duration": 428,
    "start_time": "2023-03-30T12:43:40.853Z"
   },
   {
    "duration": 11867,
    "start_time": "2023-03-30T12:47:40.850Z"
   },
   {
    "duration": 100,
    "start_time": "2023-03-30T12:48:25.849Z"
   },
   {
    "duration": 118,
    "start_time": "2023-03-30T12:49:20.541Z"
   },
   {
    "duration": 4996,
    "start_time": "2023-03-30T12:49:29.926Z"
   },
   {
    "duration": 4675,
    "start_time": "2023-03-30T12:49:50.532Z"
   },
   {
    "duration": 4943,
    "start_time": "2023-03-30T12:51:29.395Z"
   },
   {
    "duration": 4644,
    "start_time": "2023-03-30T12:54:06.597Z"
   },
   {
    "duration": 4735,
    "start_time": "2023-03-30T12:54:24.879Z"
   },
   {
    "duration": 4708,
    "start_time": "2023-03-30T12:54:50.083Z"
   },
   {
    "duration": 5103,
    "start_time": "2023-03-30T12:55:27.913Z"
   },
   {
    "duration": 4584,
    "start_time": "2023-03-30T12:55:37.109Z"
   },
   {
    "duration": 4476,
    "start_time": "2023-03-30T12:56:26.083Z"
   },
   {
    "duration": 5434,
    "start_time": "2023-03-30T13:11:09.906Z"
   },
   {
    "duration": 4942,
    "start_time": "2023-03-30T13:13:05.732Z"
   },
   {
    "duration": 4978,
    "start_time": "2023-03-30T13:13:31.391Z"
   },
   {
    "duration": 9184,
    "start_time": "2023-03-30T13:14:06.527Z"
   },
   {
    "duration": 181,
    "start_time": "2023-03-30T13:16:08.897Z"
   },
   {
    "duration": 167,
    "start_time": "2023-03-30T13:17:27.272Z"
   },
   {
    "duration": 1815,
    "start_time": "2023-03-30T13:18:06.296Z"
   },
   {
    "duration": 156,
    "start_time": "2023-03-30T13:18:34.510Z"
   },
   {
    "duration": 4965,
    "start_time": "2023-03-30T13:21:22.342Z"
   },
   {
    "duration": 4967,
    "start_time": "2023-03-30T13:21:41.074Z"
   },
   {
    "duration": 215,
    "start_time": "2023-03-30T13:21:46.044Z"
   },
   {
    "duration": 119,
    "start_time": "2023-03-30T13:23:55.973Z"
   },
   {
    "duration": 117,
    "start_time": "2023-03-30T13:24:05.735Z"
   },
   {
    "duration": 151,
    "start_time": "2023-03-30T13:24:12.375Z"
   },
   {
    "duration": 4964,
    "start_time": "2023-03-30T13:27:59.292Z"
   },
   {
    "duration": 12032,
    "start_time": "2023-03-30T13:53:17.065Z"
   },
   {
    "duration": 10959,
    "start_time": "2023-03-30T13:55:06.911Z"
   },
   {
    "duration": 12800,
    "start_time": "2023-03-30T13:55:39.792Z"
   },
   {
    "duration": 12445,
    "start_time": "2023-03-30T13:56:15.689Z"
   },
   {
    "duration": 12172,
    "start_time": "2023-03-30T13:57:43.256Z"
   },
   {
    "duration": 1444,
    "start_time": "2023-03-30T13:58:36.632Z"
   },
   {
    "duration": 3,
    "start_time": "2023-03-30T14:00:21.888Z"
   },
   {
    "duration": 1434,
    "start_time": "2023-03-30T14:02:17.894Z"
   },
   {
    "duration": 169,
    "start_time": "2023-03-30T14:05:10.782Z"
   },
   {
    "duration": 11379,
    "start_time": "2023-03-30T14:16:25.951Z"
   },
   {
    "duration": 9438,
    "start_time": "2023-03-30T14:17:32.068Z"
   },
   {
    "duration": 110,
    "start_time": "2023-03-30T14:23:03.602Z"
   },
   {
    "duration": 844,
    "start_time": "2023-03-30T14:23:51.199Z"
   },
   {
    "duration": 660,
    "start_time": "2023-03-30T14:24:04.988Z"
   },
   {
    "duration": 349,
    "start_time": "2023-03-30T14:24:35.979Z"
   },
   {
    "duration": 1385,
    "start_time": "2023-03-30T14:40:32.798Z"
   },
   {
    "duration": 8924,
    "start_time": "2023-03-30T14:40:34.186Z"
   },
   {
    "duration": 4209,
    "start_time": "2023-03-30T14:40:43.112Z"
   },
   {
    "duration": 262,
    "start_time": "2023-03-30T14:40:47.323Z"
   },
   {
    "duration": 19191,
    "start_time": "2023-03-30T14:40:47.586Z"
   },
   {
    "duration": 2876,
    "start_time": "2023-03-30T14:41:06.779Z"
   },
   {
    "duration": 8637,
    "start_time": "2023-03-30T14:41:09.662Z"
   },
   {
    "duration": 407,
    "start_time": "2023-03-30T14:41:18.301Z"
   },
   {
    "duration": 3882,
    "start_time": "2023-03-30T14:41:18.710Z"
   },
   {
    "duration": 224,
    "start_time": "2023-03-30T14:41:22.594Z"
   },
   {
    "duration": 213,
    "start_time": "2023-03-30T14:41:22.820Z"
   },
   {
    "duration": 197,
    "start_time": "2023-03-30T14:41:23.035Z"
   },
   {
    "duration": 4558,
    "start_time": "2023-03-30T14:41:23.234Z"
   },
   {
    "duration": 428,
    "start_time": "2023-03-30T14:41:27.794Z"
   },
   {
    "duration": 4859,
    "start_time": "2023-03-30T14:41:28.224Z"
   },
   {
    "duration": 165,
    "start_time": "2023-03-30T14:41:33.084Z"
   },
   {
    "duration": 9041,
    "start_time": "2023-03-30T14:41:33.251Z"
   },
   {
    "duration": 656,
    "start_time": "2023-03-30T14:41:42.294Z"
   },
   {
    "duration": 331,
    "start_time": "2023-03-30T14:41:42.952Z"
   },
   {
    "duration": 2518,
    "start_time": "2023-03-31T09:28:08.803Z"
   },
   {
    "duration": 13459,
    "start_time": "2023-03-31T09:28:11.324Z"
   },
   {
    "duration": 5500,
    "start_time": "2023-03-31T09:28:24.789Z"
   },
   {
    "duration": 285,
    "start_time": "2023-03-31T09:28:30.292Z"
   },
   {
    "duration": 23472,
    "start_time": "2023-03-31T09:28:30.580Z"
   },
   {
    "duration": 3383,
    "start_time": "2023-03-31T09:28:54.054Z"
   },
   {
    "duration": 11452,
    "start_time": "2023-03-31T09:28:57.439Z"
   },
   {
    "duration": 567,
    "start_time": "2023-03-31T09:29:08.893Z"
   },
   {
    "duration": 4511,
    "start_time": "2023-03-31T09:29:09.463Z"
   },
   {
    "duration": 296,
    "start_time": "2023-03-31T09:29:13.981Z"
   },
   {
    "duration": 283,
    "start_time": "2023-03-31T09:29:14.280Z"
   },
   {
    "duration": 252,
    "start_time": "2023-03-31T09:29:14.565Z"
   },
   {
    "duration": 4462,
    "start_time": "2023-03-31T09:29:14.819Z"
   },
   {
    "duration": 571,
    "start_time": "2023-03-31T09:29:19.283Z"
   },
   {
    "duration": 4652,
    "start_time": "2023-03-31T09:29:19.858Z"
   },
   {
    "duration": 225,
    "start_time": "2023-03-31T09:29:24.512Z"
   },
   {
    "duration": 12237,
    "start_time": "2023-03-31T09:29:24.745Z"
   },
   {
    "duration": 661,
    "start_time": "2023-03-31T09:29:36.983Z"
   },
   {
    "duration": 327,
    "start_time": "2023-03-31T09:29:37.645Z"
   },
   {
    "duration": 5,
    "start_time": "2023-03-31T09:29:37.974Z"
   },
   {
    "duration": 9513,
    "start_time": "2023-03-31T09:29:50.577Z"
   },
   {
    "duration": 57,
    "start_time": "2023-03-31T09:31:52.038Z"
   },
   {
    "duration": 508,
    "start_time": "2023-03-31T09:31:58.057Z"
   },
   {
    "duration": 275,
    "start_time": "2023-03-31T09:32:06.561Z"
   },
   {
    "duration": 44,
    "start_time": "2023-03-31T10:00:08.401Z"
   },
   {
    "duration": 3,
    "start_time": "2023-03-31T10:02:02.388Z"
   },
   {
    "duration": 58,
    "start_time": "2023-03-31T10:03:06.832Z"
   },
   {
    "duration": 266,
    "start_time": "2023-03-31T10:04:45.330Z"
   },
   {
    "duration": 165,
    "start_time": "2023-03-31T10:06:08.017Z"
   },
   {
    "duration": 332,
    "start_time": "2023-03-31T10:12:34.744Z"
   },
   {
    "duration": 7,
    "start_time": "2023-03-31T10:13:01.328Z"
   },
   {
    "duration": 10,
    "start_time": "2023-03-31T10:13:26.933Z"
   },
   {
    "duration": 13902,
    "start_time": "2023-03-31T10:13:54.536Z"
   },
   {
    "duration": 471,
    "start_time": "2023-03-31T10:14:11.983Z"
   },
   {
    "duration": 248,
    "start_time": "2023-03-31T10:14:16.742Z"
   },
   {
    "duration": 31,
    "start_time": "2023-03-31T10:15:11.335Z"
   },
   {
    "duration": 47,
    "start_time": "2023-03-31T10:15:19.655Z"
   },
   {
    "duration": 283,
    "start_time": "2023-03-31T10:16:13.860Z"
   },
   {
    "duration": 69,
    "start_time": "2023-03-31T10:16:24.687Z"
   },
   {
    "duration": 309,
    "start_time": "2023-03-31T10:17:13.635Z"
   },
   {
    "duration": 32,
    "start_time": "2023-03-31T10:17:56.270Z"
   },
   {
    "duration": 333,
    "start_time": "2023-03-31T10:18:49.430Z"
   },
   {
    "duration": 35,
    "start_time": "2023-03-31T10:19:02.262Z"
   },
   {
    "duration": 57,
    "start_time": "2023-03-31T10:19:05.734Z"
   },
   {
    "duration": 411,
    "start_time": "2023-03-31T10:20:07.853Z"
   },
   {
    "duration": 61,
    "start_time": "2023-03-31T10:20:18.397Z"
   },
   {
    "duration": 440,
    "start_time": "2023-03-31T10:20:47.766Z"
   },
   {
    "duration": 70,
    "start_time": "2023-03-31T10:21:11.080Z"
   },
   {
    "duration": 448,
    "start_time": "2023-03-31T10:21:56.757Z"
   },
   {
    "duration": 66,
    "start_time": "2023-03-31T10:25:20.900Z"
   },
   {
    "duration": 524,
    "start_time": "2023-03-31T10:26:14.895Z"
   },
   {
    "duration": 9,
    "start_time": "2023-03-31T10:26:48.972Z"
   },
   {
    "duration": 592,
    "start_time": "2023-03-31T10:27:37.756Z"
   },
   {
    "duration": 595,
    "start_time": "2023-03-31T10:28:11.543Z"
   },
   {
    "duration": 53,
    "start_time": "2023-03-31T10:35:43.600Z"
   },
   {
    "duration": 539,
    "start_time": "2023-03-31T10:38:13.188Z"
   },
   {
    "duration": 13,
    "start_time": "2023-03-31T10:40:11.268Z"
   },
   {
    "duration": 580,
    "start_time": "2023-03-31T10:45:46.350Z"
   },
   {
    "duration": 7,
    "start_time": "2023-03-31T10:46:00.169Z"
   },
   {
    "duration": 604,
    "start_time": "2023-03-31T10:46:26.553Z"
   },
   {
    "duration": 65,
    "start_time": "2023-03-31T10:46:47.417Z"
   },
   {
    "duration": 687,
    "start_time": "2023-03-31T10:47:21.925Z"
   },
   {
    "duration": 9,
    "start_time": "2023-03-31T10:48:12.857Z"
   },
   {
    "duration": 682,
    "start_time": "2023-03-31T10:49:05.258Z"
   },
   {
    "duration": 659,
    "start_time": "2023-03-31T10:49:20.577Z"
   },
   {
    "duration": 1040,
    "start_time": "2023-03-31T10:52:58.810Z"
   },
   {
    "duration": 1037,
    "start_time": "2023-03-31T10:54:30.309Z"
   },
   {
    "duration": 917,
    "start_time": "2023-03-31T10:54:40.078Z"
   },
   {
    "duration": 1037,
    "start_time": "2023-03-31T10:54:47.153Z"
   },
   {
    "duration": 48,
    "start_time": "2023-03-31T10:55:51.648Z"
   },
   {
    "duration": 783,
    "start_time": "2023-03-31T11:05:59.069Z"
   },
   {
    "duration": 1528,
    "start_time": "2023-03-31T11:07:57.748Z"
   },
   {
    "duration": 232,
    "start_time": "2023-03-31T11:11:21.593Z"
   },
   {
    "duration": 41,
    "start_time": "2023-03-31T11:12:32.467Z"
   },
   {
    "duration": 7,
    "start_time": "2023-03-31T11:14:14.245Z"
   },
   {
    "duration": 7,
    "start_time": "2023-03-31T11:15:13.744Z"
   },
   {
    "duration": 45,
    "start_time": "2023-03-31T11:15:57.997Z"
   },
   {
    "duration": 21,
    "start_time": "2023-03-31T11:18:46.666Z"
   },
   {
    "duration": 4,
    "start_time": "2023-03-31T11:19:02.971Z"
   },
   {
    "duration": 11,
    "start_time": "2023-03-31T11:19:06.492Z"
   },
   {
    "duration": 4,
    "start_time": "2023-03-31T11:19:10.739Z"
   },
   {
    "duration": 198,
    "start_time": "2023-03-31T11:19:11.339Z"
   },
   {
    "duration": 1304,
    "start_time": "2023-03-31T11:21:41.188Z"
   },
   {
    "duration": 1300,
    "start_time": "2023-03-31T11:25:11.938Z"
   },
   {
    "duration": 1306,
    "start_time": "2023-03-31T11:26:12.936Z"
   },
   {
    "duration": 1393,
    "start_time": "2023-03-31T11:27:16.960Z"
   },
   {
    "duration": 1555,
    "start_time": "2023-03-31T11:27:29.997Z"
   },
   {
    "duration": 1440,
    "start_time": "2023-03-31T11:28:42.893Z"
   },
   {
    "duration": 1396,
    "start_time": "2023-03-31T11:28:46.481Z"
   },
   {
    "duration": 1446,
    "start_time": "2023-03-31T11:29:08.979Z"
   },
   {
    "duration": 1359,
    "start_time": "2023-03-31T11:30:52.286Z"
   },
   {
    "duration": 189,
    "start_time": "2023-03-31T11:33:37.352Z"
   },
   {
    "duration": 100,
    "start_time": "2023-03-31T11:33:59.579Z"
   },
   {
    "duration": 78,
    "start_time": "2023-03-31T11:34:11.875Z"
   },
   {
    "duration": 637,
    "start_time": "2023-03-31T11:35:13.846Z"
   },
   {
    "duration": 65,
    "start_time": "2023-03-31T11:35:56.846Z"
   },
   {
    "duration": 60,
    "start_time": "2023-03-31T11:36:13.152Z"
   },
   {
    "duration": 1231,
    "start_time": "2023-03-31T11:36:45.730Z"
   },
   {
    "duration": 1295,
    "start_time": "2023-03-31T11:36:52.147Z"
   },
   {
    "duration": 1180,
    "start_time": "2023-03-31T11:37:27.203Z"
   },
   {
    "duration": 1181,
    "start_time": "2023-03-31T11:37:36.965Z"
   },
   {
    "duration": 4,
    "start_time": "2023-03-31T11:38:38.753Z"
   },
   {
    "duration": 14,
    "start_time": "2023-03-31T11:38:38.760Z"
   },
   {
    "duration": 5597,
    "start_time": "2023-03-31T11:38:38.777Z"
   },
   {
    "duration": 333,
    "start_time": "2023-03-31T11:38:44.376Z"
   },
   {
    "duration": 3698,
    "start_time": "2023-03-31T11:38:58.211Z"
   },
   {
    "duration": 8554,
    "start_time": "2023-03-31T11:39:01.915Z"
   },
   {
    "duration": 5364,
    "start_time": "2023-03-31T11:39:10.471Z"
   },
   {
    "duration": 298,
    "start_time": "2023-03-31T11:39:15.838Z"
   },
   {
    "duration": 22720,
    "start_time": "2023-03-31T11:39:16.138Z"
   },
   {
    "duration": 2995,
    "start_time": "2023-03-31T11:39:38.864Z"
   },
   {
    "duration": 12234,
    "start_time": "2023-03-31T11:39:41.861Z"
   },
   {
    "duration": 594,
    "start_time": "2023-03-31T11:39:54.097Z"
   },
   {
    "duration": 4969,
    "start_time": "2023-03-31T11:39:54.694Z"
   },
   {
    "duration": 268,
    "start_time": "2023-03-31T11:39:59.667Z"
   },
   {
    "duration": 340,
    "start_time": "2023-03-31T11:39:59.938Z"
   },
   {
    "duration": 281,
    "start_time": "2023-03-31T11:40:00.281Z"
   },
   {
    "duration": 4999,
    "start_time": "2023-03-31T11:40:00.565Z"
   },
   {
    "duration": 448,
    "start_time": "2023-03-31T11:40:05.566Z"
   },
   {
    "duration": 4967,
    "start_time": "2023-03-31T11:40:06.026Z"
   },
   {
    "duration": 181,
    "start_time": "2023-03-31T11:40:10.994Z"
   },
   {
    "duration": 13436,
    "start_time": "2023-03-31T11:40:11.178Z"
   },
   {
    "duration": 578,
    "start_time": "2023-03-31T11:40:24.618Z"
   },
   {
    "duration": 335,
    "start_time": "2023-03-31T11:40:25.199Z"
   },
   {
    "duration": 872,
    "start_time": "2023-03-31T11:40:25.536Z"
   },
   {
    "duration": 1174,
    "start_time": "2023-03-31T11:40:26.410Z"
   },
   {
    "duration": 315,
    "start_time": "2023-03-31T11:40:27.586Z"
   },
   {
    "duration": 13,
    "start_time": "2023-03-31T11:40:27.904Z"
   },
   {
    "duration": 286,
    "start_time": "2023-03-31T11:40:27.920Z"
   },
   {
    "duration": 1573,
    "start_time": "2023-03-31T11:40:28.208Z"
   },
   {
    "duration": 0,
    "start_time": "2023-03-31T11:40:29.783Z"
   },
   {
    "duration": 1741,
    "start_time": "2023-03-31T11:42:44.787Z"
   },
   {
    "duration": 1855,
    "start_time": "2023-03-31T11:43:01.850Z"
   },
   {
    "duration": 30,
    "start_time": "2023-03-31T12:10:51.053Z"
   },
   {
    "duration": 5,
    "start_time": "2023-03-31T12:13:02.691Z"
   },
   {
    "duration": 69,
    "start_time": "2023-03-31T12:13:02.698Z"
   },
   {
    "duration": 5354,
    "start_time": "2023-03-31T12:13:02.771Z"
   },
   {
    "duration": 336,
    "start_time": "2023-03-31T12:13:08.136Z"
   },
   {
    "duration": 2251,
    "start_time": "2023-03-31T12:14:51.858Z"
   },
   {
    "duration": 15487,
    "start_time": "2023-03-31T12:14:54.112Z"
   },
   {
    "duration": 5000,
    "start_time": "2023-03-31T12:15:09.602Z"
   },
   {
    "duration": 283,
    "start_time": "2023-03-31T12:15:14.605Z"
   },
   {
    "duration": 21757,
    "start_time": "2023-03-31T12:15:14.891Z"
   },
   {
    "duration": 2928,
    "start_time": "2023-03-31T12:15:36.650Z"
   },
   {
    "duration": 8684,
    "start_time": "2023-03-31T12:15:39.579Z"
   },
   {
    "duration": 456,
    "start_time": "2023-03-31T12:15:48.265Z"
   },
   {
    "duration": 3928,
    "start_time": "2023-03-31T12:15:48.726Z"
   },
   {
    "duration": 273,
    "start_time": "2023-03-31T12:15:52.657Z"
   },
   {
    "duration": 254,
    "start_time": "2023-03-31T12:15:52.932Z"
   },
   {
    "duration": 175,
    "start_time": "2023-03-31T12:15:53.188Z"
   },
   {
    "duration": 4785,
    "start_time": "2023-03-31T12:15:53.365Z"
   },
   {
    "duration": 385,
    "start_time": "2023-03-31T12:15:58.153Z"
   },
   {
    "duration": 4708,
    "start_time": "2023-03-31T12:15:58.540Z"
   },
   {
    "duration": 146,
    "start_time": "2023-03-31T12:16:03.250Z"
   },
   {
    "duration": 14734,
    "start_time": "2023-03-31T12:16:03.398Z"
   },
   {
    "duration": 538,
    "start_time": "2023-03-31T12:16:18.137Z"
   },
   {
    "duration": 292,
    "start_time": "2023-03-31T12:16:18.676Z"
   },
   {
    "duration": 768,
    "start_time": "2023-03-31T12:16:18.970Z"
   },
   {
    "duration": 1105,
    "start_time": "2023-03-31T12:16:19.739Z"
   },
   {
    "duration": 262,
    "start_time": "2023-03-31T12:16:20.846Z"
   },
   {
    "duration": 17,
    "start_time": "2023-03-31T12:16:21.117Z"
   },
   {
    "duration": 153,
    "start_time": "2023-03-31T12:16:21.136Z"
   },
   {
    "duration": 1489,
    "start_time": "2023-03-31T12:16:21.291Z"
   },
   {
    "duration": 0,
    "start_time": "2023-03-31T12:16:22.783Z"
   },
   {
    "duration": 1862,
    "start_time": "2023-03-31T12:19:30.458Z"
   },
   {
    "duration": 1810,
    "start_time": "2023-03-31T12:40:25.833Z"
   },
   {
    "duration": 610,
    "start_time": "2023-03-31T12:42:03.181Z"
   },
   {
    "duration": 96,
    "start_time": "2023-03-31T13:34:53.554Z"
   },
   {
    "duration": 35470,
    "start_time": "2023-03-31T13:35:36.899Z"
   },
   {
    "duration": 557,
    "start_time": "2023-03-31T13:36:28.446Z"
   },
   {
    "duration": 4891,
    "start_time": "2023-03-31T13:36:41.162Z"
   },
   {
    "duration": 24720,
    "start_time": "2023-03-31T13:37:00.419Z"
   },
   {
    "duration": 71038,
    "start_time": "2023-03-31T13:38:55.304Z"
   },
   {
    "duration": 20,
    "start_time": "2023-03-31T13:41:49.204Z"
   },
   {
    "duration": 49432,
    "start_time": "2023-03-31T13:43:58.946Z"
   },
   {
    "duration": 926837,
    "start_time": "2023-03-31T13:51:58.273Z"
   },
   {
    "duration": 1749,
    "start_time": "2023-03-31T14:12:46.618Z"
   },
   {
    "duration": 7636,
    "start_time": "2023-03-31T14:12:48.369Z"
   },
   {
    "duration": 4494,
    "start_time": "2023-03-31T14:12:56.006Z"
   },
   {
    "duration": 274,
    "start_time": "2023-03-31T14:13:00.503Z"
   },
   {
    "duration": 20483,
    "start_time": "2023-03-31T14:13:00.779Z"
   },
   {
    "duration": 3119,
    "start_time": "2023-03-31T14:13:21.264Z"
   },
   {
    "duration": 9897,
    "start_time": "2023-03-31T14:13:24.385Z"
   },
   {
    "duration": 498,
    "start_time": "2023-03-31T14:13:34.284Z"
   },
   {
    "duration": 3936,
    "start_time": "2023-03-31T14:13:34.784Z"
   },
   {
    "duration": 241,
    "start_time": "2023-03-31T14:13:38.729Z"
   },
   {
    "duration": 244,
    "start_time": "2023-03-31T14:13:38.972Z"
   },
   {
    "duration": 191,
    "start_time": "2023-03-31T14:13:39.218Z"
   },
   {
    "duration": 4581,
    "start_time": "2023-03-31T14:13:39.417Z"
   },
   {
    "duration": 431,
    "start_time": "2023-03-31T14:13:44.000Z"
   },
   {
    "duration": 4977,
    "start_time": "2023-03-31T14:13:44.435Z"
   },
   {
    "duration": 213,
    "start_time": "2023-03-31T14:13:49.414Z"
   },
   {
    "duration": 12297,
    "start_time": "2023-03-31T14:13:49.637Z"
   },
   {
    "duration": 587,
    "start_time": "2023-03-31T14:14:01.945Z"
   },
   {
    "duration": 336,
    "start_time": "2023-03-31T14:14:02.534Z"
   },
   {
    "duration": 793,
    "start_time": "2023-03-31T14:14:02.873Z"
   },
   {
    "duration": 1129,
    "start_time": "2023-03-31T14:14:03.668Z"
   },
   {
    "duration": 286,
    "start_time": "2023-03-31T14:14:04.799Z"
   },
   {
    "duration": 3,
    "start_time": "2023-03-31T14:14:05.087Z"
   },
   {
    "duration": 216,
    "start_time": "2023-03-31T14:14:05.091Z"
   },
   {
    "duration": 1796,
    "start_time": "2023-03-31T14:14:05.309Z"
   },
   {
    "duration": 636,
    "start_time": "2023-03-31T14:14:07.107Z"
   },
   {
    "duration": 176013,
    "start_time": "2023-03-31T14:14:07.745Z"
   },
   {
    "duration": 165812,
    "start_time": "2023-03-31T14:17:03.768Z"
   },
   {
    "duration": 15,
    "start_time": "2023-03-31T14:19:49.581Z"
   },
   {
    "duration": 109413,
    "start_time": "2023-03-31T14:19:49.598Z"
   },
   {
    "duration": 3,
    "start_time": "2023-03-31T14:21:39.013Z"
   },
   {
    "duration": 2426,
    "start_time": "2023-03-31T14:40:19.877Z"
   },
   {
    "duration": 26157,
    "start_time": "2023-03-31T14:40:22.305Z"
   },
   {
    "duration": 4703,
    "start_time": "2023-03-31T14:40:48.463Z"
   },
   {
    "duration": 283,
    "start_time": "2023-03-31T14:40:53.170Z"
   },
   {
    "duration": 20443,
    "start_time": "2023-03-31T14:40:53.455Z"
   },
   {
    "duration": 3071,
    "start_time": "2023-03-31T14:41:13.901Z"
   },
   {
    "duration": 9468,
    "start_time": "2023-03-31T14:41:16.974Z"
   },
   {
    "duration": 460,
    "start_time": "2023-03-31T14:41:26.444Z"
   },
   {
    "duration": 3570,
    "start_time": "2023-03-31T14:41:26.906Z"
   },
   {
    "duration": 258,
    "start_time": "2023-03-31T14:41:30.478Z"
   },
   {
    "duration": 263,
    "start_time": "2023-03-31T14:41:30.737Z"
   },
   {
    "duration": 182,
    "start_time": "2023-03-31T14:41:31.002Z"
   },
   {
    "duration": 4780,
    "start_time": "2023-03-31T14:41:31.186Z"
   },
   {
    "duration": 458,
    "start_time": "2023-03-31T14:41:35.969Z"
   },
   {
    "duration": 4962,
    "start_time": "2023-03-31T14:41:36.434Z"
   },
   {
    "duration": 245,
    "start_time": "2023-03-31T14:41:41.399Z"
   },
   {
    "duration": 12390,
    "start_time": "2023-03-31T14:41:41.647Z"
   },
   {
    "duration": 552,
    "start_time": "2023-03-31T14:41:54.040Z"
   },
   {
    "duration": 296,
    "start_time": "2023-03-31T14:41:54.593Z"
   },
   {
    "duration": 771,
    "start_time": "2023-03-31T14:41:54.891Z"
   },
   {
    "duration": 1084,
    "start_time": "2023-03-31T14:41:55.664Z"
   },
   {
    "duration": 333,
    "start_time": "2023-03-31T14:41:56.751Z"
   },
   {
    "duration": 4,
    "start_time": "2023-03-31T14:41:57.087Z"
   },
   {
    "duration": 208,
    "start_time": "2023-03-31T14:41:57.093Z"
   },
   {
    "duration": 1864,
    "start_time": "2023-03-31T14:41:57.302Z"
   },
   {
    "duration": 681,
    "start_time": "2023-03-31T14:41:59.168Z"
   },
   {
    "duration": 170897,
    "start_time": "2023-03-31T14:41:59.851Z"
   },
   {
    "duration": 169082,
    "start_time": "2023-03-31T14:44:50.753Z"
   },
   {
    "duration": 20,
    "start_time": "2023-03-31T14:47:39.845Z"
   },
   {
    "duration": 107241,
    "start_time": "2023-03-31T14:47:39.867Z"
   },
   {
    "duration": 2496238,
    "start_time": "2023-03-31T14:49:27.110Z"
   },
   {
    "duration": 15,
    "start_time": "2023-03-31T15:31:03.351Z"
   },
   {
    "duration": 1689,
    "start_time": "2023-04-01T21:33:18.420Z"
   },
   {
    "duration": 6452,
    "start_time": "2023-04-01T21:33:20.111Z"
   },
   {
    "duration": 4207,
    "start_time": "2023-04-01T21:33:26.565Z"
   },
   {
    "duration": 271,
    "start_time": "2023-04-01T21:33:30.773Z"
   },
   {
    "duration": 20169,
    "start_time": "2023-04-01T21:33:31.047Z"
   },
   {
    "duration": 2972,
    "start_time": "2023-04-01T21:33:51.217Z"
   },
   {
    "duration": 8919,
    "start_time": "2023-04-01T21:33:54.191Z"
   },
   {
    "duration": 453,
    "start_time": "2023-04-01T21:34:03.111Z"
   },
   {
    "duration": 3681,
    "start_time": "2023-04-01T21:34:03.565Z"
   },
   {
    "duration": 253,
    "start_time": "2023-04-01T21:34:07.247Z"
   },
   {
    "duration": 233,
    "start_time": "2023-04-01T21:34:07.502Z"
   },
   {
    "duration": 221,
    "start_time": "2023-04-01T21:34:07.739Z"
   },
   {
    "duration": 4642,
    "start_time": "2023-04-01T21:34:07.964Z"
   },
   {
    "duration": 458,
    "start_time": "2023-04-01T21:34:12.610Z"
   },
   {
    "duration": 5262,
    "start_time": "2023-04-01T21:34:13.070Z"
   },
   {
    "duration": 159,
    "start_time": "2023-04-01T21:34:18.333Z"
   },
   {
    "duration": 9476,
    "start_time": "2023-04-01T21:34:18.494Z"
   },
   {
    "duration": 600,
    "start_time": "2023-04-01T21:34:27.971Z"
   },
   {
    "duration": 310,
    "start_time": "2023-04-01T21:34:28.574Z"
   },
   {
    "duration": 729,
    "start_time": "2023-04-01T21:34:28.886Z"
   },
   {
    "duration": 1146,
    "start_time": "2023-04-01T21:34:29.617Z"
   },
   {
    "duration": 251,
    "start_time": "2023-04-01T21:34:30.765Z"
   },
   {
    "duration": 4,
    "start_time": "2023-04-01T21:34:31.017Z"
   },
   {
    "duration": 261,
    "start_time": "2023-04-01T21:34:31.022Z"
   },
   {
    "duration": 1784,
    "start_time": "2023-04-01T21:34:31.285Z"
   },
   {
    "duration": 636,
    "start_time": "2023-04-01T21:34:33.072Z"
   },
   {
    "duration": 574959,
    "start_time": "2023-04-01T21:34:33.709Z"
   },
   {
    "duration": 300023,
    "start_time": "2023-04-01T21:44:08.669Z"
   },
   {
    "duration": 11,
    "start_time": "2023-04-01T21:49:08.694Z"
   },
   {
    "duration": 459646,
    "start_time": "2023-04-01T21:49:08.707Z"
   },
   {
    "duration": 34184,
    "start_time": "2023-04-01T21:56:48.354Z"
   },
   {
    "duration": 11,
    "start_time": "2023-04-01T21:57:22.540Z"
   },
   {
    "duration": 29667,
    "start_time": "2023-04-01T22:00:03.265Z"
   },
   {
    "duration": 1503,
    "start_time": "2023-04-01T22:04:50.808Z"
   },
   {
    "duration": 5717,
    "start_time": "2023-04-01T22:04:52.313Z"
   },
   {
    "duration": 4322,
    "start_time": "2023-04-01T22:04:58.032Z"
   },
   {
    "duration": 247,
    "start_time": "2023-04-01T22:05:02.356Z"
   },
   {
    "duration": 20201,
    "start_time": "2023-04-01T22:05:02.605Z"
   },
   {
    "duration": 2952,
    "start_time": "2023-04-01T22:05:22.808Z"
   },
   {
    "duration": 8660,
    "start_time": "2023-04-01T22:05:25.761Z"
   },
   {
    "duration": 496,
    "start_time": "2023-04-01T22:05:34.423Z"
   },
   {
    "duration": 3616,
    "start_time": "2023-04-01T22:05:34.920Z"
   },
   {
    "duration": 243,
    "start_time": "2023-04-01T22:05:38.539Z"
   },
   {
    "duration": 238,
    "start_time": "2023-04-01T22:05:38.784Z"
   },
   {
    "duration": 166,
    "start_time": "2023-04-01T22:05:39.024Z"
   },
   {
    "duration": 4628,
    "start_time": "2023-04-01T22:05:39.191Z"
   },
   {
    "duration": 408,
    "start_time": "2023-04-01T22:05:43.821Z"
   },
   {
    "duration": 4944,
    "start_time": "2023-04-01T22:05:44.231Z"
   },
   {
    "duration": 144,
    "start_time": "2023-04-01T22:05:49.176Z"
   },
   {
    "duration": 11460,
    "start_time": "2023-04-01T22:05:49.321Z"
   },
   {
    "duration": 556,
    "start_time": "2023-04-01T22:06:00.783Z"
   },
   {
    "duration": 296,
    "start_time": "2023-04-01T22:06:01.341Z"
   },
   {
    "duration": 752,
    "start_time": "2023-04-01T22:06:01.639Z"
   },
   {
    "duration": 997,
    "start_time": "2023-04-01T22:06:02.393Z"
   },
   {
    "duration": 224,
    "start_time": "2023-04-01T22:06:03.391Z"
   },
   {
    "duration": 3,
    "start_time": "2023-04-01T22:06:03.618Z"
   },
   {
    "duration": 167,
    "start_time": "2023-04-01T22:06:03.622Z"
   },
   {
    "duration": 1797,
    "start_time": "2023-04-01T22:06:03.790Z"
   },
   {
    "duration": 586,
    "start_time": "2023-04-01T22:06:05.589Z"
   },
   {
    "duration": 957479,
    "start_time": "2023-04-01T22:06:06.177Z"
   },
   {
    "duration": 1120643,
    "start_time": "2023-04-01T22:22:03.747Z"
   },
   {
    "duration": 20,
    "start_time": "2023-04-01T22:40:44.391Z"
   },
   {
    "duration": 703558,
    "start_time": "2023-04-01T22:40:44.413Z"
   },
   {
    "duration": 2984264,
    "start_time": "2023-04-01T22:52:27.975Z"
   },
   {
    "duration": 10,
    "start_time": "2023-04-01T23:42:12.241Z"
   },
   {
    "duration": 1933,
    "start_time": "2023-04-03T17:55:38.116Z"
   },
   {
    "duration": 8137,
    "start_time": "2023-04-03T17:55:40.053Z"
   },
   {
    "duration": 5037,
    "start_time": "2023-04-03T17:55:48.191Z"
   },
   {
    "duration": 251,
    "start_time": "2023-04-03T17:55:53.230Z"
   },
   {
    "duration": 19089,
    "start_time": "2023-04-03T17:55:53.482Z"
   },
   {
    "duration": 2722,
    "start_time": "2023-04-03T17:56:12.573Z"
   },
   {
    "duration": 9493,
    "start_time": "2023-04-03T17:56:15.297Z"
   },
   {
    "duration": 413,
    "start_time": "2023-04-03T17:56:24.792Z"
   },
   {
    "duration": 3719,
    "start_time": "2023-04-03T17:56:25.207Z"
   },
   {
    "duration": 562,
    "start_time": "2023-04-03T17:56:28.930Z"
   },
   {
    "duration": 210,
    "start_time": "2023-04-03T17:56:29.494Z"
   },
   {
    "duration": 497,
    "start_time": "2023-04-03T17:56:29.706Z"
   },
   {
    "duration": 4773,
    "start_time": "2023-04-03T17:56:30.205Z"
   },
   {
    "duration": 425,
    "start_time": "2023-04-03T17:56:34.981Z"
   },
   {
    "duration": 4909,
    "start_time": "2023-04-03T17:56:35.409Z"
   },
   {
    "duration": 148,
    "start_time": "2023-04-03T17:56:40.320Z"
   },
   {
    "duration": 12696,
    "start_time": "2023-04-03T17:56:40.469Z"
   },
   {
    "duration": 538,
    "start_time": "2023-04-03T17:56:53.167Z"
   },
   {
    "duration": 300,
    "start_time": "2023-04-03T17:56:53.706Z"
   },
   {
    "duration": 1118,
    "start_time": "2023-04-03T17:56:54.007Z"
   },
   {
    "duration": 1660,
    "start_time": "2023-04-03T17:56:55.126Z"
   },
   {
    "duration": 254,
    "start_time": "2023-04-03T17:56:56.789Z"
   },
   {
    "duration": 3,
    "start_time": "2023-04-03T17:56:57.045Z"
   },
   {
    "duration": 153,
    "start_time": "2023-04-03T17:56:57.050Z"
   },
   {
    "duration": 1908,
    "start_time": "2023-04-03T17:56:57.204Z"
   },
   {
    "duration": 662,
    "start_time": "2023-04-03T17:56:59.114Z"
   },
   {
    "duration": 699,
    "start_time": "2023-04-03T17:56:59.778Z"
   },
   {
    "duration": 161,
    "start_time": "2023-04-03T18:03:53.666Z"
   },
   {
    "duration": 4,
    "start_time": "2023-04-03T18:04:11.349Z"
   },
   {
    "duration": 14,
    "start_time": "2023-04-03T18:04:18.657Z"
   },
   {
    "duration": 5,
    "start_time": "2023-04-03T18:06:24.110Z"
   },
   {
    "duration": 218,
    "start_time": "2023-04-03T18:07:09.620Z"
   },
   {
    "duration": 31,
    "start_time": "2023-04-03T18:08:29.173Z"
   },
   {
    "duration": 10,
    "start_time": "2023-04-03T18:08:32.325Z"
   },
   {
    "duration": 955,
    "start_time": "2023-04-03T18:09:09.664Z"
   },
   {
    "duration": 921,
    "start_time": "2023-04-03T18:10:47.465Z"
   },
   {
    "duration": 9,
    "start_time": "2023-04-03T18:11:42.076Z"
   },
   {
    "duration": 11,
    "start_time": "2023-04-03T18:11:44.976Z"
   },
   {
    "duration": 23255,
    "start_time": "2023-04-03T18:13:29.332Z"
   },
   {
    "duration": 18432,
    "start_time": "2023-04-03T18:14:24.054Z"
   },
   {
    "duration": 805,
    "start_time": "2023-04-03T18:15:01.219Z"
   },
   {
    "duration": 748,
    "start_time": "2023-04-03T18:15:35.637Z"
   },
   {
    "duration": 47946,
    "start_time": "2023-04-03T18:15:49.363Z"
   },
   {
    "duration": 801,
    "start_time": "2023-04-03T18:16:45.797Z"
   },
   {
    "duration": 17553,
    "start_time": "2023-04-03T18:21:15.672Z"
   },
   {
    "duration": 4,
    "start_time": "2023-04-03T18:22:12.138Z"
   },
   {
    "duration": 5,
    "start_time": "2023-04-03T18:22:17.920Z"
   },
   {
    "duration": 71538,
    "start_time": "2023-04-03T18:27:09.478Z"
   },
   {
    "duration": 138044,
    "start_time": "2023-04-03T18:28:49.571Z"
   },
   {
    "duration": 350048,
    "start_time": "2023-04-03T18:33:54.975Z"
   },
   {
    "duration": 5,
    "start_time": "2023-04-03T18:39:58.617Z"
   },
   {
    "duration": 80,
    "start_time": "2023-04-03T18:41:10.906Z"
   },
   {
    "duration": 12,
    "start_time": "2023-04-03T18:41:14.962Z"
   },
   {
    "duration": 67925,
    "start_time": "2023-04-03T18:41:15.538Z"
   },
   {
    "duration": 44857,
    "start_time": "2023-04-03T18:42:27.284Z"
   },
   {
    "duration": 518103,
    "start_time": "2023-04-03T18:43:43.730Z"
   },
   {
    "duration": 23485,
    "start_time": "2023-04-03T18:52:21.835Z"
   },
   {
    "duration": 13,
    "start_time": "2023-04-03T18:52:45.322Z"
   },
   {
    "duration": 2235,
    "start_time": "2023-04-03T18:52:45.337Z"
   },
   {
    "duration": 2282,
    "start_time": "2023-04-03T18:55:04.661Z"
   },
   {
    "duration": 9826,
    "start_time": "2023-04-03T18:55:06.946Z"
   },
   {
    "duration": 4327,
    "start_time": "2023-04-03T18:55:16.774Z"
   },
   {
    "duration": 254,
    "start_time": "2023-04-03T18:55:21.103Z"
   },
   {
    "duration": 20264,
    "start_time": "2023-04-03T18:55:21.359Z"
   },
   {
    "duration": 2660,
    "start_time": "2023-04-03T18:55:41.625Z"
   },
   {
    "duration": 7820,
    "start_time": "2023-04-03T18:55:44.288Z"
   },
   {
    "duration": 404,
    "start_time": "2023-04-03T18:55:52.109Z"
   },
   {
    "duration": 3897,
    "start_time": "2023-04-03T18:55:52.515Z"
   },
   {
    "duration": 215,
    "start_time": "2023-04-03T18:55:56.415Z"
   },
   {
    "duration": 207,
    "start_time": "2023-04-03T18:55:56.632Z"
   },
   {
    "duration": 148,
    "start_time": "2023-04-03T18:55:56.841Z"
   },
   {
    "duration": 1611,
    "start_time": "2023-04-03T18:55:56.991Z"
   },
   {
    "duration": 394,
    "start_time": "2023-04-03T18:55:58.604Z"
   },
   {
    "duration": 4717,
    "start_time": "2023-04-03T18:55:59.000Z"
   },
   {
    "duration": 147,
    "start_time": "2023-04-03T18:56:03.719Z"
   },
   {
    "duration": 13358,
    "start_time": "2023-04-03T18:56:03.867Z"
   },
   {
    "duration": 455,
    "start_time": "2023-04-03T18:56:17.227Z"
   },
   {
    "duration": 263,
    "start_time": "2023-04-03T18:56:17.684Z"
   },
   {
    "duration": 622,
    "start_time": "2023-04-03T18:56:17.948Z"
   },
   {
    "duration": 859,
    "start_time": "2023-04-03T18:56:18.572Z"
   },
   {
    "duration": 195,
    "start_time": "2023-04-03T18:56:19.432Z"
   },
   {
    "duration": 3,
    "start_time": "2023-04-03T18:56:19.629Z"
   },
   {
    "duration": 172,
    "start_time": "2023-04-03T18:56:19.633Z"
   },
   {
    "duration": 1586,
    "start_time": "2023-04-03T18:56:19.807Z"
   },
   {
    "duration": 561,
    "start_time": "2023-04-03T18:56:21.395Z"
   },
   {
    "duration": 85240,
    "start_time": "2023-04-03T18:56:21.958Z"
   },
   {
    "duration": 166858,
    "start_time": "2023-04-03T18:57:47.291Z"
   },
   {
    "duration": 13,
    "start_time": "2023-04-03T19:00:34.151Z"
   },
   {
    "duration": 652106,
    "start_time": "2023-04-03T19:00:34.165Z"
   },
   {
    "duration": 19407,
    "start_time": "2023-04-03T19:11:26.273Z"
   },
   {
    "duration": 17,
    "start_time": "2023-04-03T19:11:45.682Z"
   },
   {
    "duration": 8,
    "start_time": "2023-04-03T19:11:45.701Z"
   },
   {
    "duration": 432,
    "start_time": "2023-04-03T19:11:45.711Z"
   },
   {
    "duration": 9,
    "start_time": "2023-04-03T19:11:46.144Z"
   },
   {
    "duration": 0,
    "start_time": "2023-04-03T19:11:46.155Z"
   },
   {
    "duration": 45779,
    "start_time": "2023-04-03T19:11:49.533Z"
   },
   {
    "duration": 24,
    "start_time": "2023-04-03T19:12:40.140Z"
   },
   {
    "duration": 22,
    "start_time": "2023-04-03T19:12:40.167Z"
   },
   {
    "duration": 390,
    "start_time": "2023-04-03T19:12:40.191Z"
   },
   {
    "duration": 13,
    "start_time": "2023-04-03T19:12:40.584Z"
   },
   {
    "duration": 0,
    "start_time": "2023-04-03T19:12:40.599Z"
   },
   {
    "duration": 306,
    "start_time": "2023-04-03T19:13:03.031Z"
   },
   {
    "duration": 404,
    "start_time": "2023-04-03T19:18:02.724Z"
   },
   {
    "duration": 938,
    "start_time": "2023-04-03T19:18:50.893Z"
   },
   {
    "duration": 71046,
    "start_time": "2023-04-03T19:19:04.679Z"
   },
   {
    "duration": 58203,
    "start_time": "2023-04-03T19:20:34.894Z"
   },
   {
    "duration": 74743,
    "start_time": "2023-04-03T19:23:41.090Z"
   },
   {
    "duration": 69608,
    "start_time": "2023-04-03T19:25:46.698Z"
   },
   {
    "duration": 77803,
    "start_time": "2023-04-03T19:27:09.604Z"
   },
   {
    "duration": 80017,
    "start_time": "2023-04-03T19:28:46.400Z"
   },
   {
    "duration": 13,
    "start_time": "2023-04-03T19:40:33.078Z"
   },
   {
    "duration": 38279,
    "start_time": "2023-04-03T19:40:33.711Z"
   },
   {
    "duration": 26396,
    "start_time": "2023-04-03T19:41:29.946Z"
   },
   {
    "duration": 17440,
    "start_time": "2023-04-03T19:54:35.981Z"
   },
   {
    "duration": 27,
    "start_time": "2023-04-03T19:55:18.297Z"
   },
   {
    "duration": 11,
    "start_time": "2023-04-03T19:55:24.520Z"
   },
   {
    "duration": 3148,
    "start_time": "2023-04-03T19:57:19.117Z"
   },
   {
    "duration": 22331,
    "start_time": "2023-04-03T19:57:22.268Z"
   },
   {
    "duration": 4736,
    "start_time": "2023-04-03T19:57:44.602Z"
   },
   {
    "duration": 290,
    "start_time": "2023-04-03T19:57:49.340Z"
   },
   {
    "duration": 22787,
    "start_time": "2023-04-03T19:57:49.633Z"
   },
   {
    "duration": 3112,
    "start_time": "2023-04-03T19:58:12.422Z"
   },
   {
    "duration": 9243,
    "start_time": "2023-04-03T19:58:15.536Z"
   },
   {
    "duration": 494,
    "start_time": "2023-04-03T19:58:24.780Z"
   },
   {
    "duration": 4544,
    "start_time": "2023-04-03T19:58:25.276Z"
   },
   {
    "duration": 276,
    "start_time": "2023-04-03T19:58:29.823Z"
   },
   {
    "duration": 239,
    "start_time": "2023-04-03T19:58:30.101Z"
   },
   {
    "duration": 201,
    "start_time": "2023-04-03T19:58:30.342Z"
   },
   {
    "duration": 4530,
    "start_time": "2023-04-03T19:58:30.545Z"
   },
   {
    "duration": 456,
    "start_time": "2023-04-03T19:58:35.078Z"
   },
   {
    "duration": 5237,
    "start_time": "2023-04-03T19:58:35.536Z"
   },
   {
    "duration": 179,
    "start_time": "2023-04-03T19:58:40.775Z"
   },
   {
    "duration": 11055,
    "start_time": "2023-04-03T19:58:40.955Z"
   },
   {
    "duration": 532,
    "start_time": "2023-04-03T19:58:52.012Z"
   },
   {
    "duration": 307,
    "start_time": "2023-04-03T19:58:52.546Z"
   },
   {
    "duration": 755,
    "start_time": "2023-04-03T19:58:52.855Z"
   },
   {
    "duration": 1137,
    "start_time": "2023-04-03T19:58:53.612Z"
   },
   {
    "duration": 270,
    "start_time": "2023-04-03T19:58:54.751Z"
   },
   {
    "duration": 4,
    "start_time": "2023-04-03T19:58:55.023Z"
   },
   {
    "duration": 176,
    "start_time": "2023-04-03T19:58:55.030Z"
   },
   {
    "duration": 1743,
    "start_time": "2023-04-03T19:58:55.208Z"
   },
   {
    "duration": 680,
    "start_time": "2023-04-03T19:58:56.953Z"
   },
   {
    "duration": 777535,
    "start_time": "2023-04-03T19:59:08.567Z"
   },
   {
    "duration": 170450,
    "start_time": "2023-04-03T20:12:06.104Z"
   },
   {
    "duration": 12,
    "start_time": "2023-04-03T20:14:56.556Z"
   },
   {
    "duration": 723035,
    "start_time": "2023-04-03T20:14:56.570Z"
   },
   {
    "duration": 381010,
    "start_time": "2023-04-03T20:26:59.609Z"
   },
   {
    "duration": 121,
    "start_time": "2023-04-03T20:33:20.620Z"
   },
   {
    "duration": 15,
    "start_time": "2023-04-03T20:33:20.744Z"
   },
   {
    "duration": 2720,
    "start_time": "2023-04-03T20:35:50.661Z"
   },
   {
    "duration": 11791,
    "start_time": "2023-04-03T20:35:53.383Z"
   },
   {
    "duration": 4277,
    "start_time": "2023-04-03T20:36:05.176Z"
   },
   {
    "duration": 272,
    "start_time": "2023-04-03T20:36:09.455Z"
   },
   {
    "duration": 20285,
    "start_time": "2023-04-03T20:36:09.729Z"
   },
   {
    "duration": 2958,
    "start_time": "2023-04-03T20:36:30.016Z"
   },
   {
    "duration": 8464,
    "start_time": "2023-04-03T20:36:32.976Z"
   },
   {
    "duration": 480,
    "start_time": "2023-04-03T20:36:41.442Z"
   },
   {
    "duration": 4135,
    "start_time": "2023-04-03T20:36:41.924Z"
   },
   {
    "duration": 251,
    "start_time": "2023-04-03T20:36:46.061Z"
   },
   {
    "duration": 211,
    "start_time": "2023-04-03T20:36:46.314Z"
   },
   {
    "duration": 165,
    "start_time": "2023-04-03T20:36:46.526Z"
   },
   {
    "duration": 4615,
    "start_time": "2023-04-03T20:36:46.693Z"
   },
   {
    "duration": 396,
    "start_time": "2023-04-03T20:36:51.311Z"
   },
   {
    "duration": 4710,
    "start_time": "2023-04-03T20:36:51.708Z"
   },
   {
    "duration": 146,
    "start_time": "2023-04-03T20:36:56.420Z"
   },
   {
    "duration": 12774,
    "start_time": "2023-04-03T20:36:56.568Z"
   },
   {
    "duration": 589,
    "start_time": "2023-04-03T20:37:09.344Z"
   },
   {
    "duration": 292,
    "start_time": "2023-04-03T20:37:09.935Z"
   },
   {
    "duration": 726,
    "start_time": "2023-04-03T20:37:10.228Z"
   },
   {
    "duration": 963,
    "start_time": "2023-04-03T20:37:10.956Z"
   },
   {
    "duration": 245,
    "start_time": "2023-04-03T20:37:11.921Z"
   },
   {
    "duration": 2,
    "start_time": "2023-04-03T20:37:12.168Z"
   },
   {
    "duration": 153,
    "start_time": "2023-04-03T20:37:12.172Z"
   },
   {
    "duration": 1682,
    "start_time": "2023-04-03T20:37:12.327Z"
   },
   {
    "duration": 612,
    "start_time": "2023-04-03T20:37:14.010Z"
   },
   {
    "duration": 24,
    "start_time": "2023-04-03T20:37:18.213Z"
   },
   {
    "duration": 12,
    "start_time": "2023-04-03T20:37:18.919Z"
   },
   {
    "duration": 265,
    "start_time": "2023-04-03T20:37:20.543Z"
   },
   {
    "duration": 129,
    "start_time": "2023-04-03T20:37:48.132Z"
   },
   {
    "duration": 9,
    "start_time": "2023-04-03T20:38:27.658Z"
   },
   {
    "duration": 105,
    "start_time": "2023-04-03T20:38:28.452Z"
   },
   {
    "duration": 815,
    "start_time": "2023-04-03T20:39:07.386Z"
   },
   {
    "duration": 803,
    "start_time": "2023-04-03T20:39:46.428Z"
   },
   {
    "duration": 584,
    "start_time": "2023-04-03T20:40:00.156Z"
   },
   {
    "duration": 50338,
    "start_time": "2023-04-03T20:40:17.781Z"
   },
   {
    "duration": 10,
    "start_time": "2023-04-03T20:41:29.725Z"
   },
   {
    "duration": 2585,
    "start_time": "2023-04-03T20:46:04.921Z"
   },
   {
    "duration": 3822,
    "start_time": "2023-04-03T20:46:09.339Z"
   },
   {
    "duration": 17916,
    "start_time": "2023-04-03T20:46:13.164Z"
   },
   {
    "duration": 39,
    "start_time": "2023-04-03T20:46:31.083Z"
   },
   {
    "duration": 2249,
    "start_time": "2023-04-03T20:46:46.571Z"
   },
   {
    "duration": 33563,
    "start_time": "2023-04-03T20:46:48.823Z"
   },
   {
    "duration": 2016,
    "start_time": "2023-04-03T20:47:22.388Z"
   },
   {
    "duration": 8499,
    "start_time": "2023-04-03T20:47:24.406Z"
   },
   {
    "duration": 5517,
    "start_time": "2023-04-03T20:47:32.909Z"
   },
   {
    "duration": 273,
    "start_time": "2023-04-03T20:47:38.428Z"
   },
   {
    "duration": 21327,
    "start_time": "2023-04-03T20:47:38.703Z"
   },
   {
    "duration": 2912,
    "start_time": "2023-04-03T20:48:00.033Z"
   },
   {
    "duration": 8363,
    "start_time": "2023-04-03T20:48:02.947Z"
   },
   {
    "duration": 420,
    "start_time": "2023-04-03T20:48:11.311Z"
   },
   {
    "duration": 4068,
    "start_time": "2023-04-03T20:48:11.733Z"
   },
   {
    "duration": 226,
    "start_time": "2023-04-03T20:48:15.803Z"
   },
   {
    "duration": 207,
    "start_time": "2023-04-03T20:48:16.031Z"
   },
   {
    "duration": 159,
    "start_time": "2023-04-03T20:48:16.241Z"
   },
   {
    "duration": 4461,
    "start_time": "2023-04-03T20:48:16.402Z"
   },
   {
    "duration": 382,
    "start_time": "2023-04-03T20:48:20.865Z"
   },
   {
    "duration": 5413,
    "start_time": "2023-04-03T20:48:21.249Z"
   },
   {
    "duration": 164,
    "start_time": "2023-04-03T20:48:26.664Z"
   },
   {
    "duration": 12901,
    "start_time": "2023-04-03T20:48:26.830Z"
   },
   {
    "duration": 517,
    "start_time": "2023-04-03T20:48:39.733Z"
   },
   {
    "duration": 285,
    "start_time": "2023-04-03T20:48:40.252Z"
   },
   {
    "duration": 682,
    "start_time": "2023-04-03T20:48:40.538Z"
   },
   {
    "duration": 991,
    "start_time": "2023-04-03T20:48:41.221Z"
   },
   {
    "duration": 226,
    "start_time": "2023-04-03T20:48:42.213Z"
   },
   {
    "duration": 3,
    "start_time": "2023-04-03T20:48:42.441Z"
   },
   {
    "duration": 176,
    "start_time": "2023-04-03T20:48:42.445Z"
   },
   {
    "duration": 1737,
    "start_time": "2023-04-03T20:48:42.623Z"
   },
   {
    "duration": 657,
    "start_time": "2023-04-03T20:48:44.362Z"
   },
   {
    "duration": 21,
    "start_time": "2023-04-03T20:55:34.913Z"
   },
   {
    "duration": 13,
    "start_time": "2023-04-03T20:55:38.141Z"
   },
   {
    "duration": 5,
    "start_time": "2023-04-03T20:55:48.682Z"
   },
   {
    "duration": 19,
    "start_time": "2023-04-03T21:01:31.752Z"
   },
   {
    "duration": 34,
    "start_time": "2023-04-03T21:01:31.773Z"
   },
   {
    "duration": 28,
    "start_time": "2023-04-03T21:01:31.809Z"
   },
   {
    "duration": 162,
    "start_time": "2023-04-03T21:01:31.839Z"
   },
   {
    "duration": 0,
    "start_time": "2023-04-03T21:01:32.003Z"
   },
   {
    "duration": 0,
    "start_time": "2023-04-03T21:01:32.004Z"
   },
   {
    "duration": 3,
    "start_time": "2023-04-03T21:01:57.708Z"
   },
   {
    "duration": 135,
    "start_time": "2023-04-03T21:01:58.513Z"
   },
   {
    "duration": 5,
    "start_time": "2023-04-03T21:02:57.445Z"
   },
   {
    "duration": 3,
    "start_time": "2023-04-03T21:02:58.217Z"
   },
   {
    "duration": 806,
    "start_time": "2023-04-03T21:02:58.974Z"
   },
   {
    "duration": 2162,
    "start_time": "2023-04-03T21:06:31.297Z"
   },
   {
    "duration": 14416,
    "start_time": "2023-04-03T21:06:33.461Z"
   },
   {
    "duration": 1984,
    "start_time": "2023-04-03T21:06:47.879Z"
   },
   {
    "duration": 8702,
    "start_time": "2023-04-03T21:06:49.866Z"
   },
   {
    "duration": 4425,
    "start_time": "2023-04-03T21:06:58.570Z"
   },
   {
    "duration": 251,
    "start_time": "2023-04-03T21:07:03.001Z"
   },
   {
    "duration": 22301,
    "start_time": "2023-04-03T21:07:03.254Z"
   },
   {
    "duration": 2912,
    "start_time": "2023-04-03T21:07:25.557Z"
   },
   {
    "duration": 8697,
    "start_time": "2023-04-03T21:07:28.470Z"
   },
   {
    "duration": 460,
    "start_time": "2023-04-03T21:07:37.170Z"
   },
   {
    "duration": 4333,
    "start_time": "2023-04-03T21:07:37.632Z"
   },
   {
    "duration": 238,
    "start_time": "2023-04-03T21:07:41.967Z"
   },
   {
    "duration": 230,
    "start_time": "2023-04-03T21:07:42.206Z"
   },
   {
    "duration": 168,
    "start_time": "2023-04-03T21:07:42.437Z"
   },
   {
    "duration": 4665,
    "start_time": "2023-04-03T21:07:42.606Z"
   },
   {
    "duration": 389,
    "start_time": "2023-04-03T21:07:47.272Z"
   },
   {
    "duration": 4845,
    "start_time": "2023-04-03T21:07:47.664Z"
   },
   {
    "duration": 140,
    "start_time": "2023-04-03T21:07:52.511Z"
   },
   {
    "duration": 12371,
    "start_time": "2023-04-03T21:07:52.653Z"
   },
   {
    "duration": 521,
    "start_time": "2023-04-03T21:08:05.026Z"
   },
   {
    "duration": 293,
    "start_time": "2023-04-03T21:08:05.548Z"
   },
   {
    "duration": 707,
    "start_time": "2023-04-03T21:08:05.843Z"
   },
   {
    "duration": 916,
    "start_time": "2023-04-03T21:08:06.552Z"
   },
   {
    "duration": 230,
    "start_time": "2023-04-03T21:08:07.470Z"
   },
   {
    "duration": 4,
    "start_time": "2023-04-03T21:08:07.706Z"
   },
   {
    "duration": 136,
    "start_time": "2023-04-03T21:08:07.713Z"
   },
   {
    "duration": 1569,
    "start_time": "2023-04-03T21:08:07.851Z"
   },
   {
    "duration": 635,
    "start_time": "2023-04-03T21:08:09.423Z"
   },
   {
    "duration": 18,
    "start_time": "2023-04-03T21:08:15.722Z"
   },
   {
    "duration": 10,
    "start_time": "2023-04-03T21:08:15.742Z"
   },
   {
    "duration": 5,
    "start_time": "2023-04-03T21:08:15.753Z"
   },
   {
    "duration": 14,
    "start_time": "2023-04-03T21:08:15.760Z"
   },
   {
    "duration": 234,
    "start_time": "2023-04-03T21:08:15.792Z"
   },
   {
    "duration": 10,
    "start_time": "2023-04-03T21:08:16.028Z"
   },
   {
    "duration": 20,
    "start_time": "2023-04-03T21:08:34.768Z"
   },
   {
    "duration": 22,
    "start_time": "2023-04-03T21:08:34.790Z"
   },
   {
    "duration": 8,
    "start_time": "2023-04-03T21:08:34.813Z"
   },
   {
    "duration": 5,
    "start_time": "2023-04-03T21:08:34.823Z"
   },
   {
    "duration": 943400,
    "start_time": "2023-04-03T21:08:34.829Z"
   },
   {
    "duration": 11,
    "start_time": "2023-04-03T21:24:18.231Z"
   },
   {
    "duration": 18,
    "start_time": "2023-04-03T21:30:14.467Z"
   },
   {
    "duration": 12,
    "start_time": "2023-04-03T21:30:14.487Z"
   },
   {
    "duration": 4,
    "start_time": "2023-04-03T21:30:14.501Z"
   },
   {
    "duration": 9,
    "start_time": "2023-04-03T21:30:14.507Z"
   },
   {
    "duration": 836918,
    "start_time": "2023-04-03T21:30:14.518Z"
   },
   {
    "duration": 12,
    "start_time": "2023-04-03T21:44:11.438Z"
   },
   {
    "duration": 5,
    "start_time": "2023-04-03T21:46:23.307Z"
   },
   {
    "duration": 16,
    "start_time": "2023-04-03T21:47:57.311Z"
   },
   {
    "duration": 16,
    "start_time": "2023-04-03T21:47:58.899Z"
   },
   {
    "duration": 5,
    "start_time": "2023-04-03T21:48:04.771Z"
   },
   {
    "duration": 3,
    "start_time": "2023-04-03T21:48:07.227Z"
   },
   {
    "duration": 942011,
    "start_time": "2023-04-03T21:48:08.027Z"
   },
   {
    "duration": 3409,
    "start_time": "2023-04-04T11:17:29.212Z"
   },
   {
    "duration": 35435,
    "start_time": "2023-04-04T11:17:32.623Z"
   },
   {
    "duration": 2168,
    "start_time": "2023-04-04T11:18:08.059Z"
   },
   {
    "duration": 8313,
    "start_time": "2023-04-04T11:18:10.229Z"
   },
   {
    "duration": 4158,
    "start_time": "2023-04-04T11:18:18.544Z"
   },
   {
    "duration": 249,
    "start_time": "2023-04-04T11:18:22.703Z"
   },
   {
    "duration": 20357,
    "start_time": "2023-04-04T11:18:22.954Z"
   },
   {
    "duration": 2858,
    "start_time": "2023-04-04T11:18:43.312Z"
   },
   {
    "duration": 7969,
    "start_time": "2023-04-04T11:18:46.172Z"
   },
   {
    "duration": 361,
    "start_time": "2023-04-04T11:18:54.144Z"
   },
   {
    "duration": 4057,
    "start_time": "2023-04-04T11:18:54.507Z"
   },
   {
    "duration": 228,
    "start_time": "2023-04-04T11:18:58.566Z"
   },
   {
    "duration": 209,
    "start_time": "2023-04-04T11:18:58.797Z"
   },
   {
    "duration": 161,
    "start_time": "2023-04-04T11:18:59.008Z"
   },
   {
    "duration": 4832,
    "start_time": "2023-04-04T11:18:59.171Z"
   },
   {
    "duration": 508,
    "start_time": "2023-04-04T11:19:04.005Z"
   },
   {
    "duration": 4700,
    "start_time": "2023-04-04T11:19:04.516Z"
   },
   {
    "duration": 144,
    "start_time": "2023-04-04T11:19:09.217Z"
   },
   {
    "duration": 11930,
    "start_time": "2023-04-04T11:19:09.363Z"
   },
   {
    "duration": 531,
    "start_time": "2023-04-04T11:19:21.296Z"
   },
   {
    "duration": 279,
    "start_time": "2023-04-04T11:19:21.830Z"
   },
   {
    "duration": 755,
    "start_time": "2023-04-04T11:19:22.112Z"
   },
   {
    "duration": 1022,
    "start_time": "2023-04-04T11:19:22.869Z"
   },
   {
    "duration": 287,
    "start_time": "2023-04-04T11:19:23.893Z"
   },
   {
    "duration": 3,
    "start_time": "2023-04-04T11:19:24.182Z"
   },
   {
    "duration": 161,
    "start_time": "2023-04-04T11:19:24.187Z"
   },
   {
    "duration": 1781,
    "start_time": "2023-04-04T11:19:24.350Z"
   },
   {
    "duration": 657,
    "start_time": "2023-04-04T11:19:26.134Z"
   },
   {
    "duration": 606583,
    "start_time": "2023-04-04T11:19:26.793Z"
   },
   {
    "duration": 221268,
    "start_time": "2023-04-04T11:29:33.378Z"
   },
   {
    "duration": 29,
    "start_time": "2023-04-04T11:33:14.649Z"
   },
   {
    "duration": 742497,
    "start_time": "2023-04-04T11:33:14.679Z"
   },
   {
    "duration": 355890,
    "start_time": "2023-04-04T11:45:37.178Z"
   },
   {
    "duration": 91,
    "start_time": "2023-04-04T11:51:33.072Z"
   },
   {
    "duration": 21,
    "start_time": "2023-04-04T11:51:33.169Z"
   },
   {
    "duration": 10,
    "start_time": "2023-04-04T11:51:33.191Z"
   },
   {
    "duration": 17,
    "start_time": "2023-04-04T11:51:33.203Z"
   },
   {
    "duration": 1683384,
    "start_time": "2023-04-04T11:51:33.222Z"
   },
   {
    "duration": 193,
    "start_time": "2023-04-04T12:19:36.608Z"
   },
   {
    "duration": 18,
    "start_time": "2023-04-04T12:23:04.158Z"
   },
   {
    "duration": 14,
    "start_time": "2023-04-04T12:23:11.988Z"
   },
   {
    "duration": 2175819,
    "start_time": "2023-04-04T12:24:25.445Z"
   },
   {
    "duration": 19,
    "start_time": "2023-04-04T13:00:41.267Z"
   },
   {
    "duration": 15,
    "start_time": "2023-04-04T13:55:09.729Z"
   },
   {
    "duration": 14,
    "start_time": "2023-04-04T14:29:19.120Z"
   },
   {
    "duration": 15,
    "start_time": "2023-04-04T14:29:32.715Z"
   },
   {
    "duration": 58403,
    "start_time": "2023-04-04T14:42:18.548Z"
   },
   {
    "duration": 44,
    "start_time": "2023-04-04T14:44:58.832Z"
   },
   {
    "duration": 7,
    "start_time": "2023-04-04T14:45:13.939Z"
   },
   {
    "duration": 27,
    "start_time": "2023-04-04T14:46:07.740Z"
   },
   {
    "duration": 58933,
    "start_time": "2023-04-04T14:51:29.443Z"
   },
   {
    "duration": 35,
    "start_time": "2023-04-04T14:52:35.564Z"
   },
   {
    "duration": 59409,
    "start_time": "2023-04-04T14:58:25.191Z"
   },
   {
    "duration": 6,
    "start_time": "2023-04-04T15:00:59.661Z"
   },
   {
    "duration": 59061,
    "start_time": "2023-04-04T15:01:03.783Z"
   },
   {
    "duration": 6,
    "start_time": "2023-04-04T15:04:14.527Z"
   },
   {
    "duration": 385,
    "start_time": "2023-04-04T15:05:03.491Z"
   },
   {
    "duration": 6,
    "start_time": "2023-04-04T15:07:56.587Z"
   },
   {
    "duration": 99,
    "start_time": "2023-04-04T15:11:05.741Z"
   },
   {
    "duration": 19,
    "start_time": "2023-04-04T15:11:17.095Z"
   },
   {
    "duration": 6,
    "start_time": "2023-04-04T15:11:32.409Z"
   },
   {
    "duration": 250,
    "start_time": "2023-04-04T15:11:38.319Z"
   },
   {
    "duration": 221,
    "start_time": "2023-04-04T15:34:05.401Z"
   },
   {
    "duration": 235,
    "start_time": "2023-04-04T15:34:35.897Z"
   },
   {
    "duration": 233,
    "start_time": "2023-04-04T15:36:23.747Z"
   },
   {
    "duration": 251,
    "start_time": "2023-04-04T15:36:37.779Z"
   },
   {
    "duration": 246,
    "start_time": "2023-04-04T15:38:35.652Z"
   },
   {
    "duration": 238,
    "start_time": "2023-04-04T15:38:52.462Z"
   },
   {
    "duration": 245,
    "start_time": "2023-04-04T15:38:59.928Z"
   },
   {
    "duration": 262,
    "start_time": "2023-04-04T15:39:37.473Z"
   },
   {
    "duration": 240,
    "start_time": "2023-04-04T15:39:48.761Z"
   },
   {
    "duration": 231,
    "start_time": "2023-04-04T15:40:02.447Z"
   },
   {
    "duration": 232,
    "start_time": "2023-04-04T15:40:06.736Z"
   },
   {
    "duration": 236,
    "start_time": "2023-04-04T15:40:17.357Z"
   },
   {
    "duration": 235,
    "start_time": "2023-04-04T15:45:02.614Z"
   },
   {
    "duration": 242,
    "start_time": "2023-04-04T15:45:18.542Z"
   },
   {
    "duration": 234,
    "start_time": "2023-04-04T15:45:25.531Z"
   },
   {
    "duration": 120,
    "start_time": "2023-04-04T15:46:16.352Z"
   },
   {
    "duration": 230,
    "start_time": "2023-04-04T15:46:52.087Z"
   },
   {
    "duration": 228,
    "start_time": "2023-04-04T15:57:10.094Z"
   },
   {
    "duration": 229,
    "start_time": "2023-04-04T16:03:58.819Z"
   },
   {
    "duration": 226,
    "start_time": "2023-04-04T16:04:13.028Z"
   },
   {
    "duration": 232,
    "start_time": "2023-04-04T16:04:18.659Z"
   },
   {
    "duration": 138,
    "start_time": "2023-04-04T16:07:54.274Z"
   },
   {
    "duration": 156,
    "start_time": "2023-04-04T16:09:19.240Z"
   },
   {
    "duration": 237,
    "start_time": "2023-04-04T16:11:31.610Z"
   },
   {
    "duration": 124,
    "start_time": "2023-04-04T16:12:57.271Z"
   },
   {
    "duration": 274,
    "start_time": "2023-04-04T16:15:20.264Z"
   },
   {
    "duration": 218,
    "start_time": "2023-04-04T16:16:15.882Z"
   },
   {
    "duration": 251,
    "start_time": "2023-04-04T16:18:07.652Z"
   },
   {
    "duration": 220,
    "start_time": "2023-04-04T16:19:02.386Z"
   },
   {
    "duration": 239,
    "start_time": "2023-04-04T16:20:13.418Z"
   },
   {
    "duration": 258,
    "start_time": "2023-04-04T16:21:28.113Z"
   },
   {
    "duration": 213,
    "start_time": "2023-04-04T16:25:32.194Z"
   },
   {
    "duration": 233,
    "start_time": "2023-04-04T16:26:14.096Z"
   },
   {
    "duration": 253,
    "start_time": "2023-04-04T16:26:15.771Z"
   },
   {
    "duration": 15,
    "start_time": "2023-04-04T16:27:30.346Z"
   },
   {
    "duration": 213,
    "start_time": "2023-04-04T16:27:34.810Z"
   },
   {
    "duration": 132,
    "start_time": "2023-04-04T16:27:35.791Z"
   },
   {
    "duration": 116,
    "start_time": "2023-04-04T16:28:03.823Z"
   },
   {
    "duration": 220,
    "start_time": "2023-04-04T16:28:24.767Z"
   },
   {
    "duration": 216,
    "start_time": "2023-04-04T16:28:52.833Z"
   },
   {
    "duration": 239,
    "start_time": "2023-04-04T16:29:29.344Z"
   },
   {
    "duration": 235,
    "start_time": "2023-04-04T16:30:08.112Z"
   },
   {
    "duration": 223,
    "start_time": "2023-04-04T16:30:50.662Z"
   },
   {
    "duration": 2954,
    "start_time": "2023-04-04T17:52:35.037Z"
   },
   {
    "duration": 34811,
    "start_time": "2023-04-04T17:52:37.993Z"
   },
   {
    "duration": 1760,
    "start_time": "2023-04-04T17:53:12.805Z"
   },
   {
    "duration": 7679,
    "start_time": "2023-04-04T17:53:14.567Z"
   },
   {
    "duration": 3402,
    "start_time": "2023-04-04T17:53:22.247Z"
   },
   {
    "duration": 191,
    "start_time": "2023-04-04T17:53:25.650Z"
   },
   {
    "duration": 17115,
    "start_time": "2023-04-04T17:53:25.843Z"
   },
   {
    "duration": 2381,
    "start_time": "2023-04-04T17:53:42.960Z"
   },
   {
    "duration": 7049,
    "start_time": "2023-04-04T17:53:45.343Z"
   },
   {
    "duration": 323,
    "start_time": "2023-04-04T17:53:52.395Z"
   },
   {
    "duration": 3496,
    "start_time": "2023-04-04T17:53:52.720Z"
   },
   {
    "duration": 190,
    "start_time": "2023-04-04T17:53:56.217Z"
   },
   {
    "duration": 207,
    "start_time": "2023-04-04T17:53:56.408Z"
   },
   {
    "duration": 144,
    "start_time": "2023-04-04T17:53:56.616Z"
   },
   {
    "duration": 5263,
    "start_time": "2023-04-04T17:53:56.762Z"
   },
   {
    "duration": 413,
    "start_time": "2023-04-04T17:54:02.027Z"
   },
   {
    "duration": 6328,
    "start_time": "2023-04-04T17:54:02.441Z"
   },
   {
    "duration": 149,
    "start_time": "2023-04-04T17:54:08.771Z"
   },
   {
    "duration": 12493,
    "start_time": "2023-04-04T17:54:08.922Z"
   },
   {
    "duration": 382,
    "start_time": "2023-04-04T17:54:21.417Z"
   },
   {
    "duration": 229,
    "start_time": "2023-04-04T17:54:21.801Z"
   },
   {
    "duration": 562,
    "start_time": "2023-04-04T17:54:22.031Z"
   },
   {
    "duration": 739,
    "start_time": "2023-04-04T17:54:22.595Z"
   },
   {
    "duration": 184,
    "start_time": "2023-04-04T17:54:23.336Z"
   },
   {
    "duration": 4,
    "start_time": "2023-04-04T17:54:23.521Z"
   },
   {
    "duration": 167,
    "start_time": "2023-04-04T17:54:23.526Z"
   },
   {
    "duration": 1356,
    "start_time": "2023-04-04T17:54:23.695Z"
   },
   {
    "duration": 478,
    "start_time": "2023-04-04T17:54:25.054Z"
   },
   {
    "duration": 492138,
    "start_time": "2023-04-04T17:54:25.534Z"
   },
   {
    "duration": 156131,
    "start_time": "2023-04-04T18:02:37.673Z"
   },
   {
    "duration": 11,
    "start_time": "2023-04-04T18:05:13.806Z"
   },
   {
    "duration": 594073,
    "start_time": "2023-04-04T18:05:13.819Z"
   },
   {
    "duration": 341885,
    "start_time": "2023-04-04T18:15:07.894Z"
   },
   {
    "duration": 94,
    "start_time": "2023-04-04T18:20:49.780Z"
   },
   {
    "duration": 15,
    "start_time": "2023-04-04T18:20:49.876Z"
   },
   {
    "duration": 6,
    "start_time": "2023-04-04T18:20:49.892Z"
   },
   {
    "duration": 679707,
    "start_time": "2023-04-04T18:20:49.900Z"
   },
   {
    "duration": 12,
    "start_time": "2023-04-04T18:32:09.609Z"
   },
   {
    "duration": 48170,
    "start_time": "2023-04-04T18:32:09.622Z"
   },
   {
    "duration": 285,
    "start_time": "2023-04-04T18:32:57.793Z"
   },
   {
    "duration": 138,
    "start_time": "2023-04-04T18:32:58.080Z"
   },
   {
    "duration": 225,
    "start_time": "2023-04-04T18:32:58.219Z"
   },
   {
    "duration": 211,
    "start_time": "2023-04-04T18:32:58.446Z"
   },
   {
    "duration": 0,
    "start_time": "2023-04-04T18:32:58.659Z"
   },
   {
    "duration": 0,
    "start_time": "2023-04-04T18:32:58.669Z"
   },
   {
    "duration": 234,
    "start_time": "2023-04-04T18:40:35.810Z"
   },
   {
    "duration": 234,
    "start_time": "2023-04-04T18:40:45.456Z"
   },
   {
    "duration": 178,
    "start_time": "2023-04-04T18:40:46.069Z"
   },
   {
    "duration": 154518,
    "start_time": "2023-04-04T18:55:21.413Z"
   },
   {
    "duration": 10,
    "start_time": "2023-04-04T18:58:16.564Z"
   },
   {
    "duration": 174,
    "start_time": "2023-04-04T19:01:03.285Z"
   },
   {
    "duration": 183,
    "start_time": "2023-04-04T19:01:19.310Z"
   },
   {
    "duration": 168,
    "start_time": "2023-04-04T19:03:21.109Z"
   },
   {
    "duration": 166,
    "start_time": "2023-04-04T19:11:31.553Z"
   },
   {
    "duration": 174,
    "start_time": "2023-04-04T19:12:03.984Z"
   },
   {
    "duration": 48300,
    "start_time": "2023-04-04T19:31:29.258Z"
   },
   {
    "duration": 288,
    "start_time": "2023-04-04T19:32:17.559Z"
   },
   {
    "duration": 132,
    "start_time": "2023-04-04T19:32:17.848Z"
   },
   {
    "duration": 229,
    "start_time": "2023-04-04T19:32:17.982Z"
   },
   {
    "duration": 175,
    "start_time": "2023-04-04T19:32:18.212Z"
   },
   {
    "duration": 205,
    "start_time": "2023-04-04T19:32:18.389Z"
   },
   {
    "duration": 181,
    "start_time": "2023-04-04T19:32:18.595Z"
   }
  ],
  "kernelspec": {
   "display_name": "Python 3 (ipykernel)",
   "language": "python",
   "name": "python3"
  },
  "language_info": {
   "codemirror_mode": {
    "name": "ipython",
    "version": 3
   },
   "file_extension": ".py",
   "mimetype": "text/x-python",
   "name": "python",
   "nbconvert_exporter": "python",
   "pygments_lexer": "ipython3",
   "version": "3.9.18"
  },
  "toc": {
   "base_numbering": 1,
   "nav_menu": {},
   "number_sections": true,
   "sideBar": true,
   "skip_h1_title": false,
   "title_cell": "Table of Contents",
   "title_sidebar": "Contents",
   "toc_cell": false,
   "toc_position": {
    "height": "calc(100% - 180px)",
    "left": "10px",
    "top": "150px",
    "width": "318.195px"
   },
   "toc_section_display": true,
   "toc_window_display": true
  },
  "varInspector": {
   "cols": {
    "lenName": 16,
    "lenType": 16,
    "lenVar": 40
   },
   "kernels_config": {
    "python": {
     "delete_cmd_postfix": "",
     "delete_cmd_prefix": "del ",
     "library": "var_list.py",
     "varRefreshCmd": "print(var_dic_list())"
    },
    "r": {
     "delete_cmd_postfix": ") ",
     "delete_cmd_prefix": "rm(",
     "library": "var_list.r",
     "varRefreshCmd": "cat(var_dic_list()) "
    }
   },
   "types_to_exclude": [
    "module",
    "function",
    "builtin_function_or_method",
    "instance",
    "_Feature"
   ],
   "window_display": false
  }
 },
 "nbformat": 4,
 "nbformat_minor": 5
}
