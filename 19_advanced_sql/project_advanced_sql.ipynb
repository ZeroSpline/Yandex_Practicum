{
 "cells": [
  {
   "cell_type": "code",
   "execution_count": 1,
   "metadata": {
    "id": "nlZBlglMDWKe"
   },
   "outputs": [],
   "source": [
    "import pandas as pd\n",
    "import matplotlib.pyplot as plt\n",
    "from sqlalchemy import create_engine \n",
    "import seaborn as sns"
   ]
  },
  {
   "cell_type": "markdown",
   "metadata": {
    "id": "XnOE3n28DWKg"
   },
   "source": [
    "### Конфигурация для подключения к базе данных `data-analyst-advanced-sql`\n",
    "Эта база данных содержит схему `stackoverflow`, с которой вы будете работать в проекте"
   ]
  },
  {
   "cell_type": "code",
   "execution_count": 2,
   "metadata": {
    "id": "6p-yGp7qDWKg"
   },
   "outputs": [],
   "source": [
    "db_config = {\n",
    "    'user': 'praktikum_student', \n",
    "    # имя пользователя\n",
    "    'pwd': 'Sdf4$2;d-d30pp', \n",
    "    # пароль\n",
    "    'host': 'rc1b-wcoijxj3yxfsf3fs.mdb.yandexcloud.net',\n",
    "    'port': 6432, \n",
    "    # порт подключения\n",
    "    'db': 'data-analyst-advanced-sql' \n",
    "    # название базы данных\n",
    "}  \n",
    "\n",
    "connection_string = 'postgresql://{}:{}@{}:{}/{}'.format(\n",
    "    db_config['user'],\n",
    "    db_config['pwd'],\n",
    "    db_config['host'],\n",
    "    db_config['port'],\n",
    "    db_config['db'],\n",
    ")"
   ]
  },
  {
   "cell_type": "markdown",
   "metadata": {
    "id": "2Rg8ZpS0DWKh"
   },
   "source": [
    "Создание подключения"
   ]
  },
  {
   "cell_type": "code",
   "execution_count": 3,
   "metadata": {
    "id": "DamCUTR6DWKi"
   },
   "outputs": [],
   "source": [
    "engine = create_engine(connection_string) "
   ]
  },
  {
   "cell_type": "markdown",
   "metadata": {
    "id": "bel8XeSlDWKj"
   },
   "source": [
    "Пример запроса к базе данных\n",
    "\n",
    "`sample_df` является pandas-датафреймом."
   ]
  },
  {
   "cell_type": "code",
   "execution_count": 4,
   "metadata": {
    "id": "6Z_fw0yLDWKk"
   },
   "outputs": [],
   "source": [
    "query = '''\n",
    "SELECT *\n",
    "FROM stackoverflow.users\n",
    "LIMIT 10;\n",
    "'''\n",
    "\n",
    "sample_df = pd.read_sql_query(query, con=engine) "
   ]
  },
  {
   "cell_type": "code",
   "execution_count": 5,
   "metadata": {
    "id": "ZpuZ290oDWKk",
    "outputId": "22785a0a-e2bc-4559-ec3c-4879c4b377eb"
   },
   "outputs": [
    {
     "data": {
      "text/html": [
       "<div>\n",
       "<style scoped>\n",
       "    .dataframe tbody tr th:only-of-type {\n",
       "        vertical-align: middle;\n",
       "    }\n",
       "\n",
       "    .dataframe tbody tr th {\n",
       "        vertical-align: top;\n",
       "    }\n",
       "\n",
       "    .dataframe thead th {\n",
       "        text-align: right;\n",
       "    }\n",
       "</style>\n",
       "<table border=\"1\" class=\"dataframe\">\n",
       "  <thead>\n",
       "    <tr style=\"text-align: right;\">\n",
       "      <th></th>\n",
       "      <th>id</th>\n",
       "      <th>creation_date</th>\n",
       "      <th>display_name</th>\n",
       "      <th>last_access_date</th>\n",
       "      <th>location</th>\n",
       "      <th>reputation</th>\n",
       "      <th>views</th>\n",
       "    </tr>\n",
       "  </thead>\n",
       "  <tbody>\n",
       "    <tr>\n",
       "      <th>0</th>\n",
       "      <td>1</td>\n",
       "      <td>2008-07-31 14:22:31</td>\n",
       "      <td>Jeff Atwood</td>\n",
       "      <td>2018-08-29 02:34:23</td>\n",
       "      <td>El Cerrito, CA</td>\n",
       "      <td>44300</td>\n",
       "      <td>408587</td>\n",
       "    </tr>\n",
       "    <tr>\n",
       "      <th>1</th>\n",
       "      <td>2</td>\n",
       "      <td>2008-07-31 14:22:31</td>\n",
       "      <td>Geoff Dalgas</td>\n",
       "      <td>2018-08-23 17:31:56</td>\n",
       "      <td>Corvallis, OR</td>\n",
       "      <td>3491</td>\n",
       "      <td>23966</td>\n",
       "    </tr>\n",
       "    <tr>\n",
       "      <th>2</th>\n",
       "      <td>3</td>\n",
       "      <td>2008-07-31 14:22:31</td>\n",
       "      <td>Jarrod Dixon</td>\n",
       "      <td>2018-08-30 20:56:24</td>\n",
       "      <td>Raleigh, NC, United States</td>\n",
       "      <td>13418</td>\n",
       "      <td>24396</td>\n",
       "    </tr>\n",
       "    <tr>\n",
       "      <th>3</th>\n",
       "      <td>4</td>\n",
       "      <td>2008-07-31 14:22:31</td>\n",
       "      <td>Joel Spolsky</td>\n",
       "      <td>2018-08-14 22:18:15</td>\n",
       "      <td>New York, NY</td>\n",
       "      <td>28768</td>\n",
       "      <td>73755</td>\n",
       "    </tr>\n",
       "    <tr>\n",
       "      <th>4</th>\n",
       "      <td>5</td>\n",
       "      <td>2008-07-31 14:22:31</td>\n",
       "      <td>Jon Galloway</td>\n",
       "      <td>2018-08-29 16:48:36</td>\n",
       "      <td>San Diego, CA</td>\n",
       "      <td>39172</td>\n",
       "      <td>11700</td>\n",
       "    </tr>\n",
       "    <tr>\n",
       "      <th>5</th>\n",
       "      <td>8</td>\n",
       "      <td>2008-07-31 21:33:24</td>\n",
       "      <td>Eggs McLaren</td>\n",
       "      <td>2018-04-09 02:04:56</td>\n",
       "      <td>None</td>\n",
       "      <td>942</td>\n",
       "      <td>6372</td>\n",
       "    </tr>\n",
       "    <tr>\n",
       "      <th>6</th>\n",
       "      <td>9</td>\n",
       "      <td>2008-07-31 21:35:27</td>\n",
       "      <td>Kevin Dente</td>\n",
       "      <td>2018-08-30 18:18:03</td>\n",
       "      <td>Oakland, CA</td>\n",
       "      <td>14337</td>\n",
       "      <td>4949</td>\n",
       "    </tr>\n",
       "    <tr>\n",
       "      <th>7</th>\n",
       "      <td>11</td>\n",
       "      <td>2008-08-01 00:59:11</td>\n",
       "      <td>Anonymous User</td>\n",
       "      <td>2008-08-01 00:59:11</td>\n",
       "      <td>None</td>\n",
       "      <td>1890</td>\n",
       "      <td>2123</td>\n",
       "    </tr>\n",
       "    <tr>\n",
       "      <th>8</th>\n",
       "      <td>13</td>\n",
       "      <td>2008-08-01 04:18:05</td>\n",
       "      <td>Chris Jester-Young</td>\n",
       "      <td>2018-08-30 02:47:23</td>\n",
       "      <td>Raleigh, NC, United States</td>\n",
       "      <td>177138</td>\n",
       "      <td>35414</td>\n",
       "    </tr>\n",
       "    <tr>\n",
       "      <th>9</th>\n",
       "      <td>17</td>\n",
       "      <td>2008-08-01 12:02:22</td>\n",
       "      <td>Nick Berardi</td>\n",
       "      <td>2018-01-22 01:35:38</td>\n",
       "      <td>Issaquah, WA</td>\n",
       "      <td>44443</td>\n",
       "      <td>4786</td>\n",
       "    </tr>\n",
       "  </tbody>\n",
       "</table>\n",
       "</div>"
      ],
      "text/plain": [
       "   id       creation_date        display_name    last_access_date  \\\n",
       "0   1 2008-07-31 14:22:31         Jeff Atwood 2018-08-29 02:34:23   \n",
       "1   2 2008-07-31 14:22:31        Geoff Dalgas 2018-08-23 17:31:56   \n",
       "2   3 2008-07-31 14:22:31        Jarrod Dixon 2018-08-30 20:56:24   \n",
       "3   4 2008-07-31 14:22:31        Joel Spolsky 2018-08-14 22:18:15   \n",
       "4   5 2008-07-31 14:22:31        Jon Galloway 2018-08-29 16:48:36   \n",
       "5   8 2008-07-31 21:33:24        Eggs McLaren 2018-04-09 02:04:56   \n",
       "6   9 2008-07-31 21:35:27         Kevin Dente 2018-08-30 18:18:03   \n",
       "7  11 2008-08-01 00:59:11      Anonymous User 2008-08-01 00:59:11   \n",
       "8  13 2008-08-01 04:18:05  Chris Jester-Young 2018-08-30 02:47:23   \n",
       "9  17 2008-08-01 12:02:22        Nick Berardi 2018-01-22 01:35:38   \n",
       "\n",
       "                     location  reputation   views  \n",
       "0              El Cerrito, CA       44300  408587  \n",
       "1               Corvallis, OR        3491   23966  \n",
       "2  Raleigh, NC, United States       13418   24396  \n",
       "3                New York, NY       28768   73755  \n",
       "4               San Diego, CA       39172   11700  \n",
       "5                        None         942    6372  \n",
       "6                 Oakland, CA       14337    4949  \n",
       "7                        None        1890    2123  \n",
       "8  Raleigh, NC, United States      177138   35414  \n",
       "9                Issaquah, WA       44443    4786  "
      ]
     },
     "execution_count": 5,
     "metadata": {},
     "output_type": "execute_result"
    }
   ],
   "source": [
    "sample_df"
   ]
  },
  {
   "cell_type": "markdown",
   "metadata": {
    "id": "gnBMXkDBDWKm"
   },
   "source": [
    "# Задание 1"
   ]
  },
  {
   "cell_type": "markdown",
   "metadata": {
    "id": "vHsfOrrNDWKn"
   },
   "source": [
    "Выведите общую сумму просмотров постов за каждый месяц 2008 года. Если данных за какой-либо месяц в базе нет, такой месяц можно пропустить. Результат отсортируйте по убыванию общего количества просмотров."
   ]
  },
  {
   "cell_type": "markdown",
   "metadata": {
    "id": "N5rTgGNmDWKn"
   },
   "source": [
    "| month_date  | total_views |\n",
    "| ------------- | ------------- |\n",
    "| 2008-09-01  | 452928568  |\n",
    "| 2008-10-01  | 365400138  |\n",
    "| ...         | ... |"
   ]
  },
  {
   "cell_type": "code",
   "execution_count": 6,
   "metadata": {
    "id": "eWvykcXTDWKo"
   },
   "outputs": [
    {
     "data": {
      "text/html": [
       "<div>\n",
       "<style scoped>\n",
       "    .dataframe tbody tr th:only-of-type {\n",
       "        vertical-align: middle;\n",
       "    }\n",
       "\n",
       "    .dataframe tbody tr th {\n",
       "        vertical-align: top;\n",
       "    }\n",
       "\n",
       "    .dataframe thead th {\n",
       "        text-align: right;\n",
       "    }\n",
       "</style>\n",
       "<table border=\"1\" class=\"dataframe\">\n",
       "  <thead>\n",
       "    <tr style=\"text-align: right;\">\n",
       "      <th></th>\n",
       "      <th>month_date</th>\n",
       "      <th>total_views</th>\n",
       "    </tr>\n",
       "  </thead>\n",
       "  <tbody>\n",
       "    <tr>\n",
       "      <th>0</th>\n",
       "      <td>2008-09-01</td>\n",
       "      <td>452928568</td>\n",
       "    </tr>\n",
       "    <tr>\n",
       "      <th>1</th>\n",
       "      <td>2008-10-01</td>\n",
       "      <td>365400138</td>\n",
       "    </tr>\n",
       "    <tr>\n",
       "      <th>2</th>\n",
       "      <td>2008-11-01</td>\n",
       "      <td>221759651</td>\n",
       "    </tr>\n",
       "    <tr>\n",
       "      <th>3</th>\n",
       "      <td>2008-12-01</td>\n",
       "      <td>197792841</td>\n",
       "    </tr>\n",
       "    <tr>\n",
       "      <th>4</th>\n",
       "      <td>2008-08-01</td>\n",
       "      <td>131367083</td>\n",
       "    </tr>\n",
       "  </tbody>\n",
       "</table>\n",
       "</div>"
      ],
      "text/plain": [
       "  month_date  total_views\n",
       "0 2008-09-01    452928568\n",
       "1 2008-10-01    365400138\n",
       "2 2008-11-01    221759651\n",
       "3 2008-12-01    197792841\n",
       "4 2008-08-01    131367083"
      ]
     },
     "execution_count": 6,
     "metadata": {},
     "output_type": "execute_result"
    }
   ],
   "source": [
    "# напишите запрос\n",
    "query1 = '''\n",
    "SELECT DATE_TRUNC('month', sp.creation_date) AS month_date,\n",
    "       SUM(sp.views_count) AS total_views\n",
    "FROM stackoverflow.posts AS sp\n",
    "WHERE EXTRACT(YEAR FROM creation_date::DATE) = 2008\n",
    "GROUP BY DATE_TRUNC('month', sp.creation_date)\n",
    "ORDER BY total_views DESC;\n",
    "'''\n",
    "\n",
    "# выполните запрос\n",
    "data_1 = pd.read_sql_query(query1, con=engine) \n",
    "data_1.head()"
   ]
  },
  {
   "cell_type": "markdown",
   "metadata": {
    "id": "XMr_UeU6DWKo"
   },
   "source": [
    "<details>\n",
    "\n",
    "<summary>Подсказка</summary>\n",
    "Используйте функцию для усечения даты, а затем сгруппируйте и отсортируйте данные.\n",
    "</details>"
   ]
  },
  {
   "cell_type": "markdown",
   "metadata": {
    "id": "I_ZvhOxkDWKp"
   },
   "source": [
    "Проанализируйте итоговую таблицу. Отличаются ли данные за разные месяцы? С чем могут быть связаны отличия?"
   ]
  },
  {
   "cell_type": "markdown",
   "metadata": {
    "id": "luxSj17oDWKq"
   },
   "source": [
    "**Напишите ваш ответ здесь:**\n",
    "\n",
    "Наблюдается сезонность, то есть к летним месяцам, когда наибольшее количество отпусков, работает меньшее количестов людей\n",
    "в следствии чего и меньшее число просмотров постов. И наоборот в сентябре, когда начинается учеба у детей и студентов, \n",
    "а также отпускной сезон заканчивается, количество просмотров постов изза накопившихся за лето нерешенных вопросов максимальное."
   ]
  },
  {
   "cell_type": "markdown",
   "metadata": {
    "id": "FziIXkn5DWKr"
   },
   "source": [
    "# Задание 2"
   ]
  },
  {
   "cell_type": "markdown",
   "metadata": {
    "id": "fTGESZvYDWKr"
   },
   "source": [
    "Выведите имена самых активных пользователей, которые в первый месяц после регистрации (включая день регистрации) дали больше 100 ответов. Вопросы, которые задавали пользователи, не учитывайте. Для каждого имени пользователя выведите количество уникальных значений `user_id`. Отсортируйте результат по полю с именами в лексикографическом порядке."
   ]
  },
  {
   "cell_type": "markdown",
   "metadata": {
    "id": "W5-tv6Y3DWKs"
   },
   "source": [
    "| display_name | count |\n",
    "| ------------ | ----- |\n",
    "| 1800 INFORMATION | 1 |\n",
    "| Adam Bellaire | 1 |\n",
    "| Adam Davis | 1 |\n",
    "| ... | ... |"
   ]
  },
  {
   "cell_type": "code",
   "execution_count": 7,
   "metadata": {
    "id": "fIO-y-YjDWKt"
   },
   "outputs": [
    {
     "data": {
      "text/html": [
       "<div>\n",
       "<style scoped>\n",
       "    .dataframe tbody tr th:only-of-type {\n",
       "        vertical-align: middle;\n",
       "    }\n",
       "\n",
       "    .dataframe tbody tr th {\n",
       "        vertical-align: top;\n",
       "    }\n",
       "\n",
       "    .dataframe thead th {\n",
       "        text-align: right;\n",
       "    }\n",
       "</style>\n",
       "<table border=\"1\" class=\"dataframe\">\n",
       "  <thead>\n",
       "    <tr style=\"text-align: right;\">\n",
       "      <th></th>\n",
       "      <th>dname</th>\n",
       "      <th>cnt_id</th>\n",
       "    </tr>\n",
       "  </thead>\n",
       "  <tbody>\n",
       "    <tr>\n",
       "      <th>0</th>\n",
       "      <td>1800 INFORMATION</td>\n",
       "      <td>1</td>\n",
       "    </tr>\n",
       "    <tr>\n",
       "      <th>1</th>\n",
       "      <td>Adam Bellaire</td>\n",
       "      <td>1</td>\n",
       "    </tr>\n",
       "    <tr>\n",
       "      <th>2</th>\n",
       "      <td>Adam Davis</td>\n",
       "      <td>1</td>\n",
       "    </tr>\n",
       "    <tr>\n",
       "      <th>3</th>\n",
       "      <td>Adam Liss</td>\n",
       "      <td>1</td>\n",
       "    </tr>\n",
       "    <tr>\n",
       "      <th>4</th>\n",
       "      <td>Amy B</td>\n",
       "      <td>1</td>\n",
       "    </tr>\n",
       "  </tbody>\n",
       "</table>\n",
       "</div>"
      ],
      "text/plain": [
       "              dname  cnt_id\n",
       "0  1800 INFORMATION       1\n",
       "1     Adam Bellaire       1\n",
       "2        Adam Davis       1\n",
       "3         Adam Liss       1\n",
       "4             Amy B       1"
      ]
     },
     "execution_count": 7,
     "metadata": {},
     "output_type": "execute_result"
    }
   ],
   "source": [
    "# напишите запрос\n",
    "query2 = '''\n",
    "SELECT dname,\n",
    "       COUNT(id_user) AS cnt_id \n",
    "FROM\n",
    "    (SELECt DISTINCT dname,\n",
    "            id_user,\n",
    "            SUM(cnt) AS total_cnt\n",
    "    FROM\n",
    "        (SELECT su.id AS id_user,\n",
    "               su.display_name AS dname,\n",
    "               su.creation_date AS dtu,\n",
    "               sp.creation_date AS dtp,\n",
    "               (su.creation_date + INTERVAL '31 day') AS interval_date,\n",
    "               COUNT(spt.type) AS cnt\n",
    "        FROM stackoverflow.users AS su\n",
    "        JOIN stackoverflow.posts AS sp ON su.id = sp.user_id\n",
    "        JOIN stackoverflow.post_types AS spt ON sp.post_type_id = spt.id\n",
    "        WHERE spt.type = 'Answer' \n",
    "        GROUP BY id_user,\n",
    "                 dname,\n",
    "                 dtu,\n",
    "                 dtp) AS one_temp_table\n",
    "    WHERE dtp BETWEEN dtu AND interval_date\n",
    "    GROUP BY dname,\n",
    "             id_user,\n",
    "             cnt) AS two_temp_table\n",
    "WHERE total_cnt > 100\n",
    "      AND dname IN (SELECT DISTINCT su.display_name\n",
    "                    FROM stackoverflow.users AS su)\n",
    "GROUP BY dname\n",
    "ORDER BY dname ASC\n",
    "'''\n",
    "\n",
    "# выполните запрос\n",
    "data_2 = pd.read_sql_query(query2, con=engine) \n",
    "data_2.head()"
   ]
  },
  {
   "cell_type": "markdown",
   "metadata": {
    "id": "YIqqc-7HDWKt"
   },
   "source": [
    "<details>\n",
    "\n",
    "<summary>Подсказка</summary>\n",
    "Вам нужно присоединить несколько таблиц — изучите внимательнее описание базы. Чтобы добавить промежуток времени к дате, используйте ключевое слово INTERVAL, например, так: <дата> + INTERVAL '1 year 2 months 3 days'\n",
    ".</details>"
   ]
  },
  {
   "cell_type": "markdown",
   "metadata": {
    "id": "I3Wr82TplKpI"
   },
   "source": [
    "Какие аномалии наблюдаются в данных? О чём они говорят?"
   ]
  },
  {
   "cell_type": "markdown",
   "metadata": {
    "id": "CEIGGQ6ODWKy"
   },
   "source": [
    "**Напишите ваш ответ здесь:**\n",
    "    \n",
    "Поле с именем пользователя хаотичное, видимо нет правила по которому его разрешено заполнять.\n",
    "Количество уникальных номеров пользователя, везде равно 1 т.к. нет двух одинаковых пользователей."
   ]
  },
  {
   "cell_type": "markdown",
   "metadata": {
    "id": "JhM2xXj5DWKu"
   },
   "source": [
    "# Задание 3"
   ]
  },
  {
   "cell_type": "markdown",
   "metadata": {
    "id": "IS6xPqyyDWKu"
   },
   "source": [
    "Выведите количество постов за 2008 год по месяцам. Отберите посты от пользователей, которые зарегистрировались в сентябре 2008 года и сделали хотя бы один пост в декабре того же года. Отсортируйте таблицу по значению месяца по убыванию."
   ]
  },
  {
   "cell_type": "markdown",
   "metadata": {
    "id": "WmjhjV2xDWKv"
   },
   "source": [
    "| month | count |\n",
    "| ------|------ |\n",
    "| 2008-12-01 | 17641 |\n",
    "| 2008-11-01 | 18294 |\n",
    "| ... | ... |"
   ]
  },
  {
   "cell_type": "code",
   "execution_count": 8,
   "metadata": {
    "id": "kVu0FB8WDWKv"
   },
   "outputs": [
    {
     "data": {
      "text/html": [
       "<div>\n",
       "<style scoped>\n",
       "    .dataframe tbody tr th:only-of-type {\n",
       "        vertical-align: middle;\n",
       "    }\n",
       "\n",
       "    .dataframe tbody tr th {\n",
       "        vertical-align: top;\n",
       "    }\n",
       "\n",
       "    .dataframe thead th {\n",
       "        text-align: right;\n",
       "    }\n",
       "</style>\n",
       "<table border=\"1\" class=\"dataframe\">\n",
       "  <thead>\n",
       "    <tr style=\"text-align: right;\">\n",
       "      <th></th>\n",
       "      <th>month_date</th>\n",
       "      <th>cnt</th>\n",
       "    </tr>\n",
       "  </thead>\n",
       "  <tbody>\n",
       "    <tr>\n",
       "      <th>0</th>\n",
       "      <td>2008-12-01</td>\n",
       "      <td>17641</td>\n",
       "    </tr>\n",
       "    <tr>\n",
       "      <th>1</th>\n",
       "      <td>2008-11-01</td>\n",
       "      <td>18294</td>\n",
       "    </tr>\n",
       "    <tr>\n",
       "      <th>2</th>\n",
       "      <td>2008-10-01</td>\n",
       "      <td>27171</td>\n",
       "    </tr>\n",
       "    <tr>\n",
       "      <th>3</th>\n",
       "      <td>2008-09-01</td>\n",
       "      <td>24870</td>\n",
       "    </tr>\n",
       "    <tr>\n",
       "      <th>4</th>\n",
       "      <td>2008-08-01</td>\n",
       "      <td>32</td>\n",
       "    </tr>\n",
       "  </tbody>\n",
       "</table>\n",
       "</div>"
      ],
      "text/plain": [
       "  month_date    cnt\n",
       "0 2008-12-01  17641\n",
       "1 2008-11-01  18294\n",
       "2 2008-10-01  27171\n",
       "3 2008-09-01  24870\n",
       "4 2008-08-01     32"
      ]
     },
     "execution_count": 8,
     "metadata": {},
     "output_type": "execute_result"
    }
   ],
   "source": [
    "# напишите запрос\n",
    "query3 = '''\n",
    "SELECT DATE_TRUNC('month', sp.creation_date) AS month_date,\n",
    "       COUNT(sp.id) AS cnt\n",
    "FROM stackoverflow.posts AS sp\n",
    "WHERE EXTRACT(YEAR FROM sp.creation_date::DATE) = 2008\n",
    "      AND sp.user_id IN (SELECT su.id AS su_user_id\n",
    "                         FROM stackoverflow.users AS su\n",
    "                         JOIN stackoverflow.posts AS sp ON su.id = sp.user_id\n",
    "                         WHERE EXTRACT(YEAR FROM su.creation_date::DATE) = 2008 \n",
    "                               AND EXTRACT(MONTH FROM su.creation_date::DATE) = 9\n",
    "                               AND EXTRACT(MONTH FROM sp.creation_date::DATE) = 12)\n",
    "GROUP BY DATE_TRUNC('month', sp.creation_date)\n",
    "ORDER BY DATE_TRUNC('month', sp.creation_date) DESC;\n",
    "'''\n",
    "\n",
    "# выполните запрос\n",
    "data_3 = pd.read_sql_query(query3, con=engine) \n",
    "data_3.head()"
   ]
  },
  {
   "cell_type": "markdown",
   "metadata": {
    "id": "nWf0JsTMDWKx"
   },
   "source": [
    "<details>\n",
    "\n",
    "<summary>Подсказка</summary>\n",
    "Сначала найдите идентификаторы пользователей, которые зарегистрировались в сентябре 2008 года и оставили хотя бы один пост в декабре. Затем используйте результат для среза и посчитайте посты по месяцам.</details>"
   ]
  },
  {
   "cell_type": "markdown",
   "metadata": {
    "id": "Vnxn9DVHDWKx"
   },
   "source": [
    "Изучите данные: есть ли в них аномалии? Предположите, почему могли появиться аномальные значения."
   ]
  },
  {
   "cell_type": "markdown",
   "metadata": {
    "id": "MMVIz4yMlKpN"
   },
   "source": [
    "**Напишите ваш ответ здесь**"
   ]
  },
  {
   "cell_type": "markdown",
   "metadata": {},
   "source": [
    "Замечено две аномалии:\n",
    "1. В августе возможно был только запущен данный функционал с размещением постов, поэтому число крайне мало.\n",
    "2. Сентябрь и октябрь в полтора раза отличаются по числам от ноября и декабря. \n",
    "   Всплекс в сентябре вызван выходом сервиса на полную рабочую мощность, а затухание к декабрю обусловлено праздниками."
   ]
  },
  {
   "cell_type": "markdown",
   "metadata": {
    "id": "5Pcizm0DDWKz"
   },
   "source": [
    "# Задание 4"
   ]
  },
  {
   "cell_type": "markdown",
   "metadata": {
    "id": "KUZPF6vHDWKz"
   },
   "source": [
    "Используя данные о постах, выведите несколько полей:\n",
    "\n",
    "- идентификатор пользователя, который написал пост;\n",
    "- дата создания поста;\n",
    "- количество просмотров у текущего поста;\n",
    "- сумму просмотров постов автора с накоплением.\n",
    "\n",
    "Данные в таблице должны быть отсортированы по возрастанию идентификаторов пользователей, а данные об одном и том же пользователе — по возрастанию даты создания поста."
   ]
  },
  {
   "cell_type": "markdown",
   "metadata": {
    "id": "ZpsTUVDYDWK0"
   },
   "source": [
    "| user_id | creation_date | views_count | cumulative_count |\n",
    "| ------ | -------------- | ----------- | ---------------- |\n",
    "| 1 | 2008-07-31 23:41:00  | 480476   | 480476  |\n",
    "| 1 | 2008-07-31 23:55:38  | 136033 | 616509  | \n",
    "| 1 | 2008-07-31 23:56:41  | 0 |  616509  |\n",
    "| ... | ... | ... | ... |\n",
    "| 2 | 2008-07-31 23:56:41 | 79087  | 79087 |\n",
    "| 2 | 2008-08-01 05:09:56 | 65443 | 144530 |\n",
    "| ... | ...  | ...  | ...  |"
   ]
  },
  {
   "cell_type": "code",
   "execution_count": 9,
   "metadata": {
    "id": "hDoJhMzfDWK0"
   },
   "outputs": [
    {
     "data": {
      "text/html": [
       "<div>\n",
       "<style scoped>\n",
       "    .dataframe tbody tr th:only-of-type {\n",
       "        vertical-align: middle;\n",
       "    }\n",
       "\n",
       "    .dataframe tbody tr th {\n",
       "        vertical-align: top;\n",
       "    }\n",
       "\n",
       "    .dataframe thead th {\n",
       "        text-align: right;\n",
       "    }\n",
       "</style>\n",
       "<table border=\"1\" class=\"dataframe\">\n",
       "  <thead>\n",
       "    <tr style=\"text-align: right;\">\n",
       "      <th></th>\n",
       "      <th>user_id</th>\n",
       "      <th>creation_date</th>\n",
       "      <th>views_count</th>\n",
       "      <th>cumulative_count</th>\n",
       "    </tr>\n",
       "  </thead>\n",
       "  <tbody>\n",
       "    <tr>\n",
       "      <th>0</th>\n",
       "      <td>1</td>\n",
       "      <td>2008-07-31 23:41:00</td>\n",
       "      <td>480476</td>\n",
       "      <td>480476</td>\n",
       "    </tr>\n",
       "    <tr>\n",
       "      <th>1</th>\n",
       "      <td>1</td>\n",
       "      <td>2008-07-31 23:55:38</td>\n",
       "      <td>136033</td>\n",
       "      <td>616509</td>\n",
       "    </tr>\n",
       "    <tr>\n",
       "      <th>2</th>\n",
       "      <td>1</td>\n",
       "      <td>2008-07-31 23:56:41</td>\n",
       "      <td>0</td>\n",
       "      <td>616509</td>\n",
       "    </tr>\n",
       "    <tr>\n",
       "      <th>3</th>\n",
       "      <td>1</td>\n",
       "      <td>2008-08-04 02:45:08</td>\n",
       "      <td>0</td>\n",
       "      <td>616509</td>\n",
       "    </tr>\n",
       "    <tr>\n",
       "      <th>4</th>\n",
       "      <td>1</td>\n",
       "      <td>2008-08-04 04:31:03</td>\n",
       "      <td>0</td>\n",
       "      <td>616509</td>\n",
       "    </tr>\n",
       "  </tbody>\n",
       "</table>\n",
       "</div>"
      ],
      "text/plain": [
       "   user_id       creation_date  views_count  cumulative_count\n",
       "0        1 2008-07-31 23:41:00       480476            480476\n",
       "1        1 2008-07-31 23:55:38       136033            616509\n",
       "2        1 2008-07-31 23:56:41            0            616509\n",
       "3        1 2008-08-04 02:45:08            0            616509\n",
       "4        1 2008-08-04 04:31:03            0            616509"
      ]
     },
     "execution_count": 9,
     "metadata": {},
     "output_type": "execute_result"
    }
   ],
   "source": [
    "# напишите запрос\n",
    "query4 = '''\n",
    "SELECT sp.user_id,\n",
    "       sp.creation_date,\n",
    "       sp.views_count,\n",
    "       SUM(views_count) OVER (PARTITION BY sp.user_id  ORDER BY sp.creation_date) AS cumulative_count\n",
    "FROM stackoverflow.posts AS sp\n",
    "'''\n",
    "\n",
    "# выполните запрос\n",
    "data_4 = pd.read_sql_query(query4, con=engine) \n",
    "data_4.head()"
   ]
  },
  {
   "cell_type": "markdown",
   "metadata": {
    "id": "toidOivXDWK1"
   },
   "source": [
    "<details>\n",
    "\n",
    "<summary>Подсказка</summary>\n",
    "Для подсчёта суммы с накоплением используйте оконную функцию.\n",
    "</details>"
   ]
  },
  {
   "cell_type": "markdown",
   "metadata": {
    "id": "N0kHRHvIDWK2"
   },
   "source": [
    "# Задание 5"
   ]
  },
  {
   "cell_type": "markdown",
   "metadata": {
    "id": "gBgvmPtODWK2"
   },
   "source": [
    "Найдите среднее количество постов пользователей в день за август 2008 года. Отберите данные о пользователях, которые опубликовали больше 120 постов за август. Дни без публикаций не учитывайте. \n",
    "\n",
    "Отсортируйте результат по возрастанию среднего количества постов. Значения можно не округлять."
   ]
  },
  {
   "cell_type": "markdown",
   "metadata": {
    "id": "nfzR08BODWK3"
   },
   "source": [
    "| user_id | avg_daily |\n",
    "| ------- | --------- |\n",
    "| 116     | 4.777778  |\n",
    "| 234     | 5.208333  |\n",
    "| ...     | ... |"
   ]
  },
  {
   "cell_type": "code",
   "execution_count": 10,
   "metadata": {
    "id": "YFyPNz5GDWK3"
   },
   "outputs": [
    {
     "data": {
      "text/html": [
       "<div>\n",
       "<style scoped>\n",
       "    .dataframe tbody tr th:only-of-type {\n",
       "        vertical-align: middle;\n",
       "    }\n",
       "\n",
       "    .dataframe tbody tr th {\n",
       "        vertical-align: top;\n",
       "    }\n",
       "\n",
       "    .dataframe thead th {\n",
       "        text-align: right;\n",
       "    }\n",
       "</style>\n",
       "<table border=\"1\" class=\"dataframe\">\n",
       "  <thead>\n",
       "    <tr style=\"text-align: right;\">\n",
       "      <th></th>\n",
       "      <th>user_id</th>\n",
       "      <th>division</th>\n",
       "    </tr>\n",
       "  </thead>\n",
       "  <tbody>\n",
       "    <tr>\n",
       "      <th>0</th>\n",
       "      <td>116</td>\n",
       "      <td>4.777778</td>\n",
       "    </tr>\n",
       "    <tr>\n",
       "      <th>1</th>\n",
       "      <td>234</td>\n",
       "      <td>5.208333</td>\n",
       "    </tr>\n",
       "    <tr>\n",
       "      <th>2</th>\n",
       "      <td>91</td>\n",
       "      <td>5.681818</td>\n",
       "    </tr>\n",
       "    <tr>\n",
       "      <th>3</th>\n",
       "      <td>905</td>\n",
       "      <td>7.000000</td>\n",
       "    </tr>\n",
       "    <tr>\n",
       "      <th>4</th>\n",
       "      <td>383</td>\n",
       "      <td>7.277778</td>\n",
       "    </tr>\n",
       "  </tbody>\n",
       "</table>\n",
       "</div>"
      ],
      "text/plain": [
       "   user_id  division\n",
       "0      116  4.777778\n",
       "1      234  5.208333\n",
       "2       91  5.681818\n",
       "3      905  7.000000\n",
       "4      383  7.277778"
      ]
     },
     "execution_count": 10,
     "metadata": {},
     "output_type": "execute_result"
    }
   ],
   "source": [
    "# напишите запрос\n",
    "query5 = '''\n",
    "SELECT sp.user_id,\n",
    "       (CAST(COUNT(sp.id) AS NUMERIC) / COUNT(DISTINCT sp.creation_date::DATE)) AS division\n",
    "FROM stackoverflow.posts AS sp\n",
    "WHERE (sp.creation_date::DATE BETWEEN '2008-08-01' AND '2008-08-31')\n",
    "      AND sp.user_id IN (SELECT sp_user_id\n",
    "                         FROM\n",
    "                            (SELECT sp.user_id AS sp_user_id,\n",
    "                                    COUNT(sp.id) AS cnt\n",
    "                            FROM stackoverflow.posts AS sp\n",
    "                            WHERE EXTRACT(MONTH FROM sp.creation_date::DATE) = 8\n",
    "                                  AND EXTRACT(YEAR FROM sp.creation_date::DATE) = 2008\n",
    "                            GROUP BY sp_user_id) AS one_temp\n",
    "                         WHERE cnt > 120)\n",
    "GROUP BY sp.user_id\n",
    "ORDER BY division\n",
    "'''\n",
    "\n",
    "# выполните запрос\n",
    "data_5 = pd.read_sql_query(query5, con=engine) \n",
    "data_5.head()"
   ]
  },
  {
   "cell_type": "markdown",
   "metadata": {
    "id": "5Gs8kiJvDWK4"
   },
   "source": [
    "<details>\n",
    "\n",
    "<summary>Подсказка</summary>\n",
    "Сначала найдите идентификаторы пользователей, которые написали более 120 постов за август. Используя этот запрос в качестве подзапроса для среза, найдите и сохраните во временную таблицу идентификаторы нужных пользователей, дни августа и количество постов в день. В основном запросе сгруппируйте данные по пользователям и найдите для каждого из них среднее количество постов.\n",
    "</details>"
   ]
  },
  {
   "cell_type": "markdown",
   "metadata": {
    "id": "EQ0dcFH4DWK5"
   },
   "source": [
    "# Задание 6"
   ]
  },
  {
   "cell_type": "markdown",
   "metadata": {
    "id": "c7flfg_hDWK5"
   },
   "source": [
    "Сколько в среднем дней в период с 1 по 7 декабря 2008 года пользователи взаимодействовали с платформой? Для каждого пользователя отберите дни, в которые он или она опубликовали хотя бы один пост. Нужно получить одно целое число — не забудьте округлить результат. "
   ]
  },
  {
   "cell_type": "markdown",
   "metadata": {
    "id": "RC1Ibzm9DWK6"
   },
   "source": [
    "| result |\n",
    "| -----  |\n",
    "| <целое число> |"
   ]
  },
  {
   "cell_type": "code",
   "execution_count": 11,
   "metadata": {
    "id": "kZ7LXTr6DWK6"
   },
   "outputs": [
    {
     "data": {
      "text/html": [
       "<div>\n",
       "<style scoped>\n",
       "    .dataframe tbody tr th:only-of-type {\n",
       "        vertical-align: middle;\n",
       "    }\n",
       "\n",
       "    .dataframe tbody tr th {\n",
       "        vertical-align: top;\n",
       "    }\n",
       "\n",
       "    .dataframe thead th {\n",
       "        text-align: right;\n",
       "    }\n",
       "</style>\n",
       "<table border=\"1\" class=\"dataframe\">\n",
       "  <thead>\n",
       "    <tr style=\"text-align: right;\">\n",
       "      <th></th>\n",
       "      <th>result</th>\n",
       "    </tr>\n",
       "  </thead>\n",
       "  <tbody>\n",
       "    <tr>\n",
       "      <th>0</th>\n",
       "      <td>2.0</td>\n",
       "    </tr>\n",
       "  </tbody>\n",
       "</table>\n",
       "</div>"
      ],
      "text/plain": [
       "   result\n",
       "0     2.0"
      ]
     },
     "execution_count": 11,
     "metadata": {},
     "output_type": "execute_result"
    }
   ],
   "source": [
    "# напишите запрос\n",
    "query6 = '''\n",
    "WITH i AS\n",
    "    (SELECT id_user,\n",
    "           COUNT(dt) AS act_day_cnt\n",
    "    FROM\n",
    "        (SELECT sp.user_id AS id_user,\n",
    "                DATE_TRUNC('day', sp.creation_date) AS dt,\n",
    "                COUNT(sp.id) AS cnt\n",
    "         FROM stackoverflow.posts AS sp\n",
    "         WHERE sp.creation_date BETWEEN '2008-12-01' AND '2008-12-07'\n",
    "         GROUP BY sp.user_id,\n",
    "                  DATE_TRUNC('day', sp.creation_date)) AS temp_table\n",
    "    GROUP BY id_user)\n",
    "SELECT ROUND(AVG(act_day_cnt),0) AS result\n",
    "FROM i\n",
    "'''\n",
    "\n",
    "# выполните запрос\n",
    "data_6 = pd.read_sql_query(query6, con=engine) \n",
    "data_6.head()"
   ]
  },
  {
   "cell_type": "markdown",
   "metadata": {
    "id": "2K5G3xuBDWK7"
   },
   "source": [
    "<details>\n",
    "\n",
    "<summary>Подсказка</summary>\n",
    "Посчитайте, сколько активных дней было у каждого пользователя. Добавьте данные во временную таблицу и используйте в основном запросе.\n",
    "</details>"
   ]
  },
  {
   "cell_type": "markdown",
   "metadata": {
    "id": "UJFtNNggDWK7"
   },
   "source": [
    "Проанализируйте итоговую таблицу — какие выводы можно сделать?"
   ]
  },
  {
   "cell_type": "markdown",
   "metadata": {
    "id": "LfUuYz-1DWK8"
   },
   "source": [
    "**Напишите ваш ответ здесь**"
   ]
  },
  {
   "cell_type": "markdown",
   "metadata": {},
   "source": [
    "В среднем, в период с 1 по 7 декабря 2008 года, пользователи взаимодействовали с платформой 2 дня.\n",
    "То есть каждые три дня пользователь публиковал пост с вопросом либо с ответом, и посещал платформу не менее двух раз в неделю без учета обычных просмотров постов."
   ]
  },
  {
   "cell_type": "markdown",
   "metadata": {
    "id": "wfOmqmfLDWK8"
   },
   "source": [
    "# Задание 7"
   ]
  },
  {
   "cell_type": "markdown",
   "metadata": {
    "id": "X4ARQimADWK9"
   },
   "source": [
    "Выведите историю активности каждого пользователя в таком виде: идентификатор пользователя, дата публикации поста. Отсортируйте вывод по возрастанию идентификаторов пользователей, а для каждого пользователя — по возрастанию даты публикации.\n",
    "\n",
    "Добавьте в таблицу новое поле: для каждого поста в нём будет указано название месяца предпоследней публикации пользователя относительно текущей. Если такой публикации нет, укажите `NULL`.  Python автоматически поменяет `NULL` на `None`, но дополнительно преобразовывать значения `None` вам не нужно.\n",
    "\n",
    "Посмотрите внимательно на образец таблицы: для первых двух постов предпоследней публикации нет, но, начиная с третьего поста, в новое поле входит нужный месяц. Для следующего пользователя в первые две записи поля `second_last_month` тоже войдёт `NULL`."
   ]
  },
  {
   "cell_type": "markdown",
   "metadata": {
    "id": "IGPjRP01DWK9"
   },
   "source": [
    "| user_id | creation_date | second_last_month |\n",
    "| ------- | ------------- | ----------------- |\n",
    "| 1       | 2008-07-31 23:41:00 | None |\n",
    "| 1       | 2008-07-31 23:55:38 | None |\n",
    "| 1       | 2008-07-31 23:56:41 | July |\n",
    "| 1       | 2008-08-04 02:45:08 | July |\n",
    "| 1       | 2008-08-04 04:31:03 | July |\n",
    "| 1       | 2008-08-04 08:04:42 | August |\n",
    "| ... | ... | ... |"
   ]
  },
  {
   "cell_type": "code",
   "execution_count": 12,
   "metadata": {
    "id": "HzI1vhaMDWK-"
   },
   "outputs": [
    {
     "data": {
      "text/html": [
       "<div>\n",
       "<style scoped>\n",
       "    .dataframe tbody tr th:only-of-type {\n",
       "        vertical-align: middle;\n",
       "    }\n",
       "\n",
       "    .dataframe tbody tr th {\n",
       "        vertical-align: top;\n",
       "    }\n",
       "\n",
       "    .dataframe thead th {\n",
       "        text-align: right;\n",
       "    }\n",
       "</style>\n",
       "<table border=\"1\" class=\"dataframe\">\n",
       "  <thead>\n",
       "    <tr style=\"text-align: right;\">\n",
       "      <th></th>\n",
       "      <th>user_id</th>\n",
       "      <th>creation_date</th>\n",
       "      <th>month</th>\n",
       "    </tr>\n",
       "  </thead>\n",
       "  <tbody>\n",
       "    <tr>\n",
       "      <th>0</th>\n",
       "      <td>1</td>\n",
       "      <td>2008-07-31 23:41:00</td>\n",
       "      <td>None</td>\n",
       "    </tr>\n",
       "    <tr>\n",
       "      <th>1</th>\n",
       "      <td>1</td>\n",
       "      <td>2008-07-31 23:55:38</td>\n",
       "      <td>None</td>\n",
       "    </tr>\n",
       "    <tr>\n",
       "      <th>2</th>\n",
       "      <td>1</td>\n",
       "      <td>2008-07-31 23:56:41</td>\n",
       "      <td>July</td>\n",
       "    </tr>\n",
       "    <tr>\n",
       "      <th>3</th>\n",
       "      <td>1</td>\n",
       "      <td>2008-08-04 02:45:08</td>\n",
       "      <td>July</td>\n",
       "    </tr>\n",
       "    <tr>\n",
       "      <th>4</th>\n",
       "      <td>1</td>\n",
       "      <td>2008-08-04 04:31:03</td>\n",
       "      <td>July</td>\n",
       "    </tr>\n",
       "  </tbody>\n",
       "</table>\n",
       "</div>"
      ],
      "text/plain": [
       "   user_id       creation_date      month\n",
       "0        1 2008-07-31 23:41:00       None\n",
       "1        1 2008-07-31 23:55:38       None\n",
       "2        1 2008-07-31 23:56:41  July     \n",
       "3        1 2008-08-04 02:45:08  July     \n",
       "4        1 2008-08-04 04:31:03  July     "
      ]
     },
     "execution_count": 12,
     "metadata": {},
     "output_type": "execute_result"
    }
   ],
   "source": [
    "# напишите запрос\n",
    "query7 = '''\n",
    "SELECT user_id,\n",
    "       creation_date,\n",
    "       to_char(dt, 'Month') AS month\n",
    "FROM\n",
    "(SELECT sp.user_id,\n",
    "       sp.creation_date,\n",
    "       LAG(sp.creation_date, 2, NULL) OVER (PARTITION BY user_id ORDER BY sp.creation_date) AS dt\n",
    "FROM stackoverflow.posts AS sp\n",
    "ORDER BY sp.user_id ASC,\n",
    "         sp.creation_date ASC) AS temp_table\n",
    "'''\n",
    "\n",
    "# выполните запрос\n",
    "data_7 = pd.read_sql_query(query7, con=engine) \n",
    "data_7.head()"
   ]
  },
  {
   "cell_type": "markdown",
   "metadata": {
    "id": "7dqoKkncDWK_"
   },
   "source": [
    "<details>\n",
    "\n",
    "<summary>Подсказка</summary>\n",
    "Преобразовать результат оконной функции в нужное значение вам поможет аналог условного оператора в SQL: CASE <поле> WHEN <старое значение> THEN <новое значение> END.\n",
    "</details>"
   ]
  },
  {
   "cell_type": "markdown",
   "metadata": {
    "id": "tf9qq2yzDWK_"
   },
   "source": [
    "# Задание 8"
   ]
  },
  {
   "cell_type": "markdown",
   "metadata": {
    "id": "gfwLVXBYDWLA"
   },
   "source": [
    "Рассчитайте аналог Retention Rate по месяцам для пользователей StackOverflow. Объедините пользователей в когорты по месяцу их первого поста. Возвращение определяйте по наличию поста в текущем месяце. "
   ]
  },
  {
   "cell_type": "markdown",
   "metadata": {
    "id": "kN2ic39WlKpl"
   },
   "source": [
    "| cohort_dt | session_date | users_cnt | cohort_users_cnt | retention_rate |\n",
    "| --- | --- | --- | --- | --- |\n",
    "| 2008-07-01 00:00:00 | 2008-07-01 00:00:00 | 3 | 3 | 100 |\n",
    "| 2008-07-01 00:00:00 | 2008-08-01 00:00:00 | 2 | 3 | 66,67 |\n",
    "| 2008-07-01 00:00:00 | 2008-09-01 00:00:00 | 1 | 3 | 33,33 |\n",
    "| 2008-07-01 00:00:00 | 2008-10-01 00:00:00 | 2 | 3 | 66,67 |\n",
    "| 2008-07-01 00:00:00 | 2008-11-01 00:00:00 | 1 | 3 | 33,33 |\n",
    "| 2008-07-01 00:00:00 | 2008-12-01 00:00:00 | 2 | 3 | 66,67 |\n",
    "| 2008-08-01 00:00:00 | 2008-08-01 00:00:00 | 2151 | 2151 | 100 |\n",
    "| ... | ... | ... | ... | ... |"
   ]
  },
  {
   "cell_type": "code",
   "execution_count": 20,
   "metadata": {
    "id": "LUgFmwmTDWLB"
   },
   "outputs": [
    {
     "data": {
      "text/html": [
       "<div>\n",
       "<style scoped>\n",
       "    .dataframe tbody tr th:only-of-type {\n",
       "        vertical-align: middle;\n",
       "    }\n",
       "\n",
       "    .dataframe tbody tr th {\n",
       "        vertical-align: top;\n",
       "    }\n",
       "\n",
       "    .dataframe thead th {\n",
       "        text-align: right;\n",
       "    }\n",
       "</style>\n",
       "<table border=\"1\" class=\"dataframe\">\n",
       "  <thead>\n",
       "    <tr style=\"text-align: right;\">\n",
       "      <th></th>\n",
       "      <th>cohort_dt</th>\n",
       "      <th>sessions_dt</th>\n",
       "      <th>user_cnt</th>\n",
       "      <th>cohort_cnt</th>\n",
       "      <th>retention_rate</th>\n",
       "    </tr>\n",
       "  </thead>\n",
       "  <tbody>\n",
       "    <tr>\n",
       "      <th>0</th>\n",
       "      <td>2008-07-01</td>\n",
       "      <td>2008-07-01</td>\n",
       "      <td>3</td>\n",
       "      <td>3</td>\n",
       "      <td>100.00</td>\n",
       "    </tr>\n",
       "    <tr>\n",
       "      <th>1</th>\n",
       "      <td>2008-07-01</td>\n",
       "      <td>2008-08-01</td>\n",
       "      <td>2</td>\n",
       "      <td>3</td>\n",
       "      <td>66.67</td>\n",
       "    </tr>\n",
       "    <tr>\n",
       "      <th>2</th>\n",
       "      <td>2008-07-01</td>\n",
       "      <td>2008-09-01</td>\n",
       "      <td>1</td>\n",
       "      <td>3</td>\n",
       "      <td>33.33</td>\n",
       "    </tr>\n",
       "    <tr>\n",
       "      <th>3</th>\n",
       "      <td>2008-07-01</td>\n",
       "      <td>2008-10-01</td>\n",
       "      <td>2</td>\n",
       "      <td>3</td>\n",
       "      <td>66.67</td>\n",
       "    </tr>\n",
       "    <tr>\n",
       "      <th>4</th>\n",
       "      <td>2008-07-01</td>\n",
       "      <td>2008-11-01</td>\n",
       "      <td>1</td>\n",
       "      <td>3</td>\n",
       "      <td>33.33</td>\n",
       "    </tr>\n",
       "    <tr>\n",
       "      <th>5</th>\n",
       "      <td>2008-07-01</td>\n",
       "      <td>2008-12-01</td>\n",
       "      <td>2</td>\n",
       "      <td>3</td>\n",
       "      <td>66.67</td>\n",
       "    </tr>\n",
       "    <tr>\n",
       "      <th>6</th>\n",
       "      <td>2008-08-01</td>\n",
       "      <td>2008-08-01</td>\n",
       "      <td>2151</td>\n",
       "      <td>2151</td>\n",
       "      <td>100.00</td>\n",
       "    </tr>\n",
       "    <tr>\n",
       "      <th>7</th>\n",
       "      <td>2008-08-01</td>\n",
       "      <td>2008-09-01</td>\n",
       "      <td>1571</td>\n",
       "      <td>2151</td>\n",
       "      <td>73.04</td>\n",
       "    </tr>\n",
       "    <tr>\n",
       "      <th>8</th>\n",
       "      <td>2008-08-01</td>\n",
       "      <td>2008-10-01</td>\n",
       "      <td>1275</td>\n",
       "      <td>2151</td>\n",
       "      <td>59.27</td>\n",
       "    </tr>\n",
       "    <tr>\n",
       "      <th>9</th>\n",
       "      <td>2008-08-01</td>\n",
       "      <td>2008-11-01</td>\n",
       "      <td>1050</td>\n",
       "      <td>2151</td>\n",
       "      <td>48.81</td>\n",
       "    </tr>\n",
       "    <tr>\n",
       "      <th>10</th>\n",
       "      <td>2008-08-01</td>\n",
       "      <td>2008-12-01</td>\n",
       "      <td>894</td>\n",
       "      <td>2151</td>\n",
       "      <td>41.56</td>\n",
       "    </tr>\n",
       "    <tr>\n",
       "      <th>11</th>\n",
       "      <td>2008-09-01</td>\n",
       "      <td>2008-09-01</td>\n",
       "      <td>7678</td>\n",
       "      <td>7678</td>\n",
       "      <td>100.00</td>\n",
       "    </tr>\n",
       "    <tr>\n",
       "      <th>12</th>\n",
       "      <td>2008-09-01</td>\n",
       "      <td>2008-10-01</td>\n",
       "      <td>4132</td>\n",
       "      <td>7678</td>\n",
       "      <td>53.82</td>\n",
       "    </tr>\n",
       "    <tr>\n",
       "      <th>13</th>\n",
       "      <td>2008-09-01</td>\n",
       "      <td>2008-11-01</td>\n",
       "      <td>2966</td>\n",
       "      <td>7678</td>\n",
       "      <td>38.63</td>\n",
       "    </tr>\n",
       "    <tr>\n",
       "      <th>14</th>\n",
       "      <td>2008-09-01</td>\n",
       "      <td>2008-12-01</td>\n",
       "      <td>2500</td>\n",
       "      <td>7678</td>\n",
       "      <td>32.56</td>\n",
       "    </tr>\n",
       "    <tr>\n",
       "      <th>15</th>\n",
       "      <td>2008-10-01</td>\n",
       "      <td>2008-10-01</td>\n",
       "      <td>3629</td>\n",
       "      <td>3629</td>\n",
       "      <td>100.00</td>\n",
       "    </tr>\n",
       "    <tr>\n",
       "      <th>16</th>\n",
       "      <td>2008-10-01</td>\n",
       "      <td>2008-11-01</td>\n",
       "      <td>1640</td>\n",
       "      <td>3629</td>\n",
       "      <td>45.19</td>\n",
       "    </tr>\n",
       "    <tr>\n",
       "      <th>17</th>\n",
       "      <td>2008-10-01</td>\n",
       "      <td>2008-12-01</td>\n",
       "      <td>1221</td>\n",
       "      <td>3629</td>\n",
       "      <td>33.65</td>\n",
       "    </tr>\n",
       "    <tr>\n",
       "      <th>18</th>\n",
       "      <td>2008-11-01</td>\n",
       "      <td>2008-11-01</td>\n",
       "      <td>2852</td>\n",
       "      <td>2852</td>\n",
       "      <td>100.00</td>\n",
       "    </tr>\n",
       "    <tr>\n",
       "      <th>19</th>\n",
       "      <td>2008-11-01</td>\n",
       "      <td>2008-12-01</td>\n",
       "      <td>1151</td>\n",
       "      <td>2852</td>\n",
       "      <td>40.36</td>\n",
       "    </tr>\n",
       "    <tr>\n",
       "      <th>20</th>\n",
       "      <td>2008-12-01</td>\n",
       "      <td>2008-12-01</td>\n",
       "      <td>2536</td>\n",
       "      <td>2536</td>\n",
       "      <td>100.00</td>\n",
       "    </tr>\n",
       "  </tbody>\n",
       "</table>\n",
       "</div>"
      ],
      "text/plain": [
       "    cohort_dt sessions_dt  user_cnt  cohort_cnt  retention_rate\n",
       "0  2008-07-01  2008-07-01         3           3          100.00\n",
       "1  2008-07-01  2008-08-01         2           3           66.67\n",
       "2  2008-07-01  2008-09-01         1           3           33.33\n",
       "3  2008-07-01  2008-10-01         2           3           66.67\n",
       "4  2008-07-01  2008-11-01         1           3           33.33\n",
       "5  2008-07-01  2008-12-01         2           3           66.67\n",
       "6  2008-08-01  2008-08-01      2151        2151          100.00\n",
       "7  2008-08-01  2008-09-01      1571        2151           73.04\n",
       "8  2008-08-01  2008-10-01      1275        2151           59.27\n",
       "9  2008-08-01  2008-11-01      1050        2151           48.81\n",
       "10 2008-08-01  2008-12-01       894        2151           41.56\n",
       "11 2008-09-01  2008-09-01      7678        7678          100.00\n",
       "12 2008-09-01  2008-10-01      4132        7678           53.82\n",
       "13 2008-09-01  2008-11-01      2966        7678           38.63\n",
       "14 2008-09-01  2008-12-01      2500        7678           32.56\n",
       "15 2008-10-01  2008-10-01      3629        3629          100.00\n",
       "16 2008-10-01  2008-11-01      1640        3629           45.19\n",
       "17 2008-10-01  2008-12-01      1221        3629           33.65\n",
       "18 2008-11-01  2008-11-01      2852        2852          100.00\n",
       "19 2008-11-01  2008-12-01      1151        2852           40.36\n",
       "20 2008-12-01  2008-12-01      2536        2536          100.00"
      ]
     },
     "execution_count": 20,
     "metadata": {},
     "output_type": "execute_result"
    }
   ],
   "source": [
    "# напишите запрос\n",
    "query8 = '''\n",
    "WITH profile AS\n",
    "(SELECT *,\n",
    "        COUNT(id_user) OVER (PARTITION BY cohort_dt) AS cohort_cnt\n",
    "FROM\n",
    "(SELECT DISTINCT sp.user_id AS id_user,\n",
    "        FIRST_VALUE(DATE_TRUNC('month', sp.creation_date)) OVER (PARTITION BY sp.user_id ORDER BY DATE_TRUNC('month', sp.creation_date)) AS cohort_dt\n",
    "FROM stackoverflow.posts AS sp) AS temp_table),\n",
    "sessions AS\n",
    "(SELECT DISTINCT sp.user_id,\n",
    "        DATE_TRUNC('month', sp.creation_date) AS sessions_dt\n",
    "FROM stackoverflow.posts AS sp)\n",
    "SELECT cohort_dt,\n",
    "       sessions_dt,\n",
    "       COUNT(p.id_user) AS user_cnt,\n",
    "       cohort_cnt,\n",
    "       ROUND(COUNT(p.id_user) * 100.0 / cohort_cnt, 2) AS retention_rate\n",
    "FROM profile AS p\n",
    "JOIN sessions AS s ON p.id_user = s.user_id\n",
    "GROUP BY cohort_dt, \n",
    "         sessions_dt,\n",
    "         cohort_cnt\n",
    "ORDER BY cohort_dt, \n",
    "         sessions_dt\n",
    "'''\n",
    "\n",
    "# выполните запрос\n",
    "data_8 = pd.read_sql_query(query8, con=engine) \n",
    "data_8.head(10)"
   ]
  },
  {
   "cell_type": "markdown",
   "metadata": {
    "id": "Yavb5o9JDWLB"
   },
   "source": [
    "<details>\n",
    "\n",
    "<summary>Подсказка</summary>\n",
    "Вспомните, как выглядел запрос для расчёта Retention Rate в теории. Создайте две временные таблицы: `profile` и `sessions` (в ней будет информация о публикациях), а затем используйте их в основном запросе.\n",
    "\n",
    "Во временной таблице `profile` вам понадобятся три поля:\n",
    "\n",
    "- идентификатор пользователя;\n",
    "- дата первого поста пользователя, усечённая до месяца (признак начала когорты);\n",
    "- количество пользователей этой когорты.\n",
    "</details>"
   ]
  },
  {
   "cell_type": "markdown",
   "metadata": {
    "id": "_msBtnb2DWLC"
   },
   "source": [
    "Постройте тепловую карту Retention Rate. Какие аномалии или другие необычные явления удалось выявить? Сформулируйте гипотезы о возможных причинах."
   ]
  },
  {
   "cell_type": "markdown",
   "metadata": {
    "id": "qAEJc8H1DWLC"
   },
   "source": [
    "**Постройте тепловую карту Retention Rate**"
   ]
  },
  {
   "cell_type": "code",
   "execution_count": 14,
   "metadata": {},
   "outputs": [
    {
     "data": {
      "image/png": "[encoded data removed]",
      "text/plain": [
       "<Figure size 864x864 with 2 Axes>"
      ]
     },
     "metadata": {
      "needs_background": "light"
     },
     "output_type": "display_data"
    }
   ],
   "source": [
    "# создаём сводную таблицу с результатами\n",
    "retention = data_8.pivot('cohort_dt', 'sessions_dt', 'retention_rate')\n",
    "retention.index = [str(x)[0:10] for x in retention.index]\n",
    "retention.columns = [str(x)[0:10] for x in retention.columns]\n",
    "# строим хитмэп\n",
    "plt.figure(figsize=(12, 12)) # задаём размер графика\n",
    "sns.heatmap(retention, # датафрейм с данными\n",
    "            linewidths=.5, # добавляем линии\n",
    "            annot=True, # добавляем подписи\n",
    "            fmt='') # задаём исходный формат\n",
    "plt.title('Тепловая карта') # название графика\n",
    "plt.show() "
   ]
  },
  {
   "cell_type": "markdown",
   "metadata": {
    "id": "EgOfIsI4DWLC"
   },
   "source": [
    "**Опишите аномалии или другие необычные явления и сформулируйте гипотезы**"
   ]
  },
  {
   "cell_type": "markdown",
   "metadata": {},
   "source": [
    "1. Самый низкий процент возвращения для пользователей опубликовавших первый пост в Июле 2008\n",
    "2. Самый высокий процент возвращения для пользователей опубликовавших первый пост в Августе 2008\n",
    "3. Пользователи чаще возвращаются на следующий месяц после публикации первого поста.\n",
    "4. Пользователи реже возвращаются через 2 месяца после публикации первого поста.\n",
    "5. После месяца первой публикации пользователи реже возвращаются с каждым последующим месяцем."
   ]
  },
  {
   "cell_type": "markdown",
   "metadata": {
    "id": "1k7oPWt5DWLK"
   },
   "source": [
    "# Задание 9\n"
   ]
  },
  {
   "cell_type": "markdown",
   "metadata": {
    "id": "ALsYVSyRDWLM"
   },
   "source": [
    "На сколько процентов менялось количество постов ежемесячно с 1 сентября по 31 декабря 2008 года? Отобразите таблицу со следующими полями:\n",
    "\n",
    "- номер месяца;\n",
    "- количество постов за месяц;\n",
    "- процент, который показывает, насколько изменилось количество постов в текущем месяце по сравнению с предыдущим.\n",
    "\n",
    "Если постов стало меньше, значение процента должно быть отрицательным, если больше — положительным. Округлите значение процента до двух знаков после запятой.\n",
    "\n",
    "Напомним, что при делении одного целого числа на другое в PostgreSQL в результате получится целое число, округлённое до ближайшего целого вниз. Чтобы этого избежать, переведите делимое в тип `numeric`."
   ]
  },
  {
   "cell_type": "markdown",
   "metadata": {
    "id": "u4E2zF8DDWLM"
   },
   "source": [
    "| creation_month | posts_count | percentage |\n",
    "| -------------- | ----------- | ---------- |\n",
    "| 9 | 70731 | Nan |\n",
    "| 10 | 63102 | -10.33 |\n",
    "| ... | ... | ... |"
   ]
  },
  {
   "cell_type": "code",
   "execution_count": 15,
   "metadata": {
    "id": "Mb5pShStDWLN"
   },
   "outputs": [
    {
     "data": {
      "text/html": [
       "<div>\n",
       "<style scoped>\n",
       "    .dataframe tbody tr th:only-of-type {\n",
       "        vertical-align: middle;\n",
       "    }\n",
       "\n",
       "    .dataframe tbody tr th {\n",
       "        vertical-align: top;\n",
       "    }\n",
       "\n",
       "    .dataframe thead th {\n",
       "        text-align: right;\n",
       "    }\n",
       "</style>\n",
       "<table border=\"1\" class=\"dataframe\">\n",
       "  <thead>\n",
       "    <tr style=\"text-align: right;\">\n",
       "      <th></th>\n",
       "      <th>creation_month</th>\n",
       "      <th>posts_count</th>\n",
       "      <th>percentage</th>\n",
       "    </tr>\n",
       "  </thead>\n",
       "  <tbody>\n",
       "    <tr>\n",
       "      <th>0</th>\n",
       "      <td>9.0</td>\n",
       "      <td>70371</td>\n",
       "      <td>NaN</td>\n",
       "    </tr>\n",
       "    <tr>\n",
       "      <th>1</th>\n",
       "      <td>10.0</td>\n",
       "      <td>63102</td>\n",
       "      <td>-10.33</td>\n",
       "    </tr>\n",
       "    <tr>\n",
       "      <th>2</th>\n",
       "      <td>11.0</td>\n",
       "      <td>46975</td>\n",
       "      <td>-25.56</td>\n",
       "    </tr>\n",
       "    <tr>\n",
       "      <th>3</th>\n",
       "      <td>12.0</td>\n",
       "      <td>44592</td>\n",
       "      <td>-5.07</td>\n",
       "    </tr>\n",
       "  </tbody>\n",
       "</table>\n",
       "</div>"
      ],
      "text/plain": [
       "   creation_month  posts_count  percentage\n",
       "0             9.0        70371         NaN\n",
       "1            10.0        63102      -10.33\n",
       "2            11.0        46975      -25.56\n",
       "3            12.0        44592       -5.07"
      ]
     },
     "execution_count": 15,
     "metadata": {},
     "output_type": "execute_result"
    }
   ],
   "source": [
    "# напишите запрос\n",
    "query9 = '''\n",
    "SELECT creation_month,\n",
    "       posts_count,\n",
    "       percentage\n",
    "FROM\n",
    "(SELECT *,\n",
    "       LAG(posts_count) OVER (ORDER BY creation_month) AS previous_posts_count,\n",
    "       ROUND((CAST(posts_count - LAG(posts_count) OVER (ORDER BY creation_month) AS NUMERIC)/ (LAG(posts_count) OVER (ORDER BY creation_month)) * 100),2) AS percentage\n",
    "FROM\n",
    "    (SELECT EXTRACT(MONTH FROM sp.creation_date::DATE) AS creation_month,\n",
    "           COUNT(sp.id) AS posts_count\n",
    "    FROM stackoverflow.posts AS sp\n",
    "    WHERE EXTRACT(MONTH FROM sp.creation_date::DATE) IN (9,10,11,12)\n",
    "    GROUP BY EXTRACT(MONTH FROM sp.creation_date::DATE)) AS one_temp_table) AS two_temp_table\n",
    "'''\n",
    "# выполните запрос\n",
    "data_9 = pd.read_sql_query(query9, con=engine) \n",
    "data_9.head()"
   ]
  },
  {
   "cell_type": "markdown",
   "metadata": {
    "id": "G0VSDL4HDWLO"
   },
   "source": [
    "<details>\n",
    "\n",
    "<summary>Подсказка</summary>\n",
    "Эту задачу стоит декомпозировать. Сформируйте запрос, который отобразит номер месяца и количество постов. Затем можно использовать оконную функцию, которая вернёт значение за предыдущий месяц, и посчитать процент.\n",
    "</details>"
   ]
  },
  {
   "cell_type": "markdown",
   "metadata": {
    "id": "377ABjiVDWLP"
   },
   "source": [
    "**Постройте круговую диаграмму с количеством постов по месяцам**"
   ]
  },
  {
   "cell_type": "code",
   "execution_count": 16,
   "metadata": {},
   "outputs": [
    {
     "data": {
      "image/png": "[encoded data removed]",
      "text/plain": [
       "<Figure size 432x288 with 1 Axes>"
      ]
     },
     "metadata": {},
     "output_type": "display_data"
    }
   ],
   "source": [
    "# исходные данные\n",
    "pies = data_9.posts_count\n",
    "labels = data_9.creation_month\n",
    "# выберем цветовую палитру\n",
    "colors = sns.color_palette('pastel')[0:4]\n",
    "# строим диаграмму\n",
    "plt.pie(pies, labels = labels, colors = colors, autopct='%.0f%%')\n",
    "plt.show()"
   ]
  },
  {
   "cell_type": "markdown",
   "metadata": {
    "id": "uw7qMtafDWLP"
   },
   "source": [
    "# Задание 10"
   ]
  },
  {
   "cell_type": "markdown",
   "metadata": {
    "id": "oRBpWKx3DWLQ"
   },
   "source": [
    "Выгрузите данные активности пользователя, который опубликовал больше всего постов за всё время. Выведите данные за октябрь 2008 года в таком виде:\n",
    "\n",
    "- номер недели;\n",
    "- дата и время последнего поста, опубликованного на этой неделе."
   ]
  },
  {
   "cell_type": "markdown",
   "metadata": {
    "id": "XjAWSn_3DWLQ"
   },
   "source": [
    "| week_creation | creation_date |\n",
    "| ------------- | ------------- |\n",
    "| 40 | 2008-10-05 09:00:58 |\n",
    "| 41 | 2008-10-12 21:22:23 |\n",
    "| ... | ... |"
   ]
  },
  {
   "cell_type": "code",
   "execution_count": 17,
   "metadata": {
    "id": "r5F5fSkwDWLQ",
    "scrolled": true
   },
   "outputs": [
    {
     "data": {
      "text/html": [
       "<div>\n",
       "<style scoped>\n",
       "    .dataframe tbody tr th:only-of-type {\n",
       "        vertical-align: middle;\n",
       "    }\n",
       "\n",
       "    .dataframe tbody tr th {\n",
       "        vertical-align: top;\n",
       "    }\n",
       "\n",
       "    .dataframe thead th {\n",
       "        text-align: right;\n",
       "    }\n",
       "</style>\n",
       "<table border=\"1\" class=\"dataframe\">\n",
       "  <thead>\n",
       "    <tr style=\"text-align: right;\">\n",
       "      <th></th>\n",
       "      <th>dt_week</th>\n",
       "      <th>last_session</th>\n",
       "    </tr>\n",
       "  </thead>\n",
       "  <tbody>\n",
       "    <tr>\n",
       "      <th>0</th>\n",
       "      <td>40.0</td>\n",
       "      <td>2008-10-05 09:00:58</td>\n",
       "    </tr>\n",
       "    <tr>\n",
       "      <th>1</th>\n",
       "      <td>41.0</td>\n",
       "      <td>2008-10-12 21:22:23</td>\n",
       "    </tr>\n",
       "    <tr>\n",
       "      <th>2</th>\n",
       "      <td>42.0</td>\n",
       "      <td>2008-10-19 06:49:30</td>\n",
       "    </tr>\n",
       "    <tr>\n",
       "      <th>3</th>\n",
       "      <td>43.0</td>\n",
       "      <td>2008-10-26 21:44:36</td>\n",
       "    </tr>\n",
       "    <tr>\n",
       "      <th>4</th>\n",
       "      <td>44.0</td>\n",
       "      <td>2008-10-31 22:16:01</td>\n",
       "    </tr>\n",
       "  </tbody>\n",
       "</table>\n",
       "</div>"
      ],
      "text/plain": [
       "   dt_week        last_session\n",
       "0     40.0 2008-10-05 09:00:58\n",
       "1     41.0 2008-10-12 21:22:23\n",
       "2     42.0 2008-10-19 06:49:30\n",
       "3     43.0 2008-10-26 21:44:36\n",
       "4     44.0 2008-10-31 22:16:01"
      ]
     },
     "execution_count": 17,
     "metadata": {},
     "output_type": "execute_result"
    }
   ],
   "source": [
    "# напишите запрос\n",
    "query10 = '''\n",
    "SELECT dt_week,\n",
    "       last_session\n",
    "FROM \n",
    "    (SELECT EXTRACT(WEEK FROM sp.creation_date) AS dt_week,\n",
    "           sp.creation_date,\n",
    "           LAST_VALUE(sp.creation_date) OVER (PARTITION BY EXTRACT(WEEK FROM sp.creation_date)) AS last_session\n",
    "    FROM stackoverflow.posts AS sp\n",
    "    WHERE EXTRACT(YEAR FROM sp.creation_date) = 2008\n",
    "          AND EXTRACT(MONTH FROM sp.creation_date) = 10\n",
    "          AND sp.user_id IN (SELECT user_id\n",
    "                             FROM \n",
    "                                  (SELECT sp.user_id,\n",
    "                                          COUNT(sp.id) As cnt\n",
    "                                   FROM stackoverflow.posts AS sp\n",
    "                                   GROUP BY sp.user_id\n",
    "                                   ORDER BY cnt DESC\n",
    "                                   LIMIT 1) AS one_temp)\n",
    "    GROUP BY dt_week,\n",
    "             sp.creation_date\n",
    "    ORDER BY dt_week ASC,\n",
    "             creation_date ASC) AS two_temp\n",
    "GROUP BY dt_week,\n",
    "         last_session\n",
    "'''\n",
    "\n",
    "# выполните запрос\n",
    "data_10 = pd.read_sql_query(query10, con=engine) \n",
    "data_10.head()"
   ]
  },
  {
   "cell_type": "markdown",
   "metadata": {
    "id": "KAcmxvLgDWLR"
   },
   "source": [
    "<details>\n",
    "\n",
    "<summary>Подсказка</summary>\n",
    "Декомпозируйте задачу:\n",
    "1) Найдите пользователя, который опубликовал больше всего постов. 2) Найдите дату и время создания каждого поста этого пользователя и номер недели. \n",
    "3) Отобразите данные только о последних постах пользователя. Для этого можно использовать оконную функцию.\n",
    "</details>"
   ]
  }
 ],
 "metadata": {
  "ExecuteTimeLog": [
   {
    "duration": 857,
    "start_time": "2023-02-22T11:46:41.235Z"
   },
   {
    "duration": 4,
    "start_time": "2023-02-22T11:46:42.094Z"
   },
   {
    "duration": 8182,
    "start_time": "2023-02-22T11:46:42.099Z"
   },
   {
    "duration": 61,
    "start_time": "2023-02-22T11:46:50.283Z"
   },
   {
    "duration": 14,
    "start_time": "2023-02-22T11:46:50.346Z"
   },
   {
    "duration": 94,
    "start_time": "2023-02-22T11:46:50.361Z"
   },
   {
    "duration": 74,
    "start_time": "2023-02-22T11:46:50.458Z"
   },
   {
    "duration": 0,
    "start_time": "2023-02-22T11:46:50.534Z"
   },
   {
    "duration": 0,
    "start_time": "2023-02-22T11:46:50.536Z"
   },
   {
    "duration": 2,
    "start_time": "2023-02-22T11:47:18.349Z"
   },
   {
    "duration": 207,
    "start_time": "2023-02-22T11:47:25.061Z"
   },
   {
    "duration": 213,
    "start_time": "2023-02-22T11:48:29.925Z"
   },
   {
    "duration": 74,
    "start_time": "2023-02-22T11:54:32.236Z"
   },
   {
    "duration": 165,
    "start_time": "2023-02-22T12:16:22.416Z"
   },
   {
    "duration": 1200,
    "start_time": "2023-02-22T12:16:35.967Z"
   },
   {
    "duration": 1195,
    "start_time": "2023-02-22T12:18:02.523Z"
   },
   {
    "duration": 1350,
    "start_time": "2023-02-22T12:18:22.375Z"
   },
   {
    "duration": 1144,
    "start_time": "2023-02-22T12:18:34.733Z"
   },
   {
    "duration": 1143,
    "start_time": "2023-02-22T12:19:12.374Z"
   },
   {
    "duration": 1185,
    "start_time": "2023-02-22T12:19:21.832Z"
   },
   {
    "duration": 1092,
    "start_time": "2023-02-22T12:20:17.127Z"
   },
   {
    "duration": 1140,
    "start_time": "2023-02-22T12:21:39.728Z"
   },
   {
    "duration": 1089,
    "start_time": "2023-02-22T12:22:05.305Z"
   },
   {
    "duration": 1035,
    "start_time": "2023-02-22T12:23:08.415Z"
   },
   {
    "duration": 94,
    "start_time": "2023-02-22T12:43:07.424Z"
   },
   {
    "duration": 70,
    "start_time": "2023-02-22T13:29:22.197Z"
   },
   {
    "duration": 624,
    "start_time": "2023-02-22T13:33:32.699Z"
   },
   {
    "duration": 69,
    "start_time": "2023-02-22T13:33:56.868Z"
   },
   {
    "duration": 82,
    "start_time": "2023-02-22T13:34:16.388Z"
   },
   {
    "duration": 1258,
    "start_time": "2023-02-22T18:45:49.491Z"
   },
   {
    "duration": 3,
    "start_time": "2023-02-22T18:45:50.751Z"
   },
   {
    "duration": 5323,
    "start_time": "2023-02-22T18:45:50.756Z"
   },
   {
    "duration": 231,
    "start_time": "2023-02-22T18:45:56.081Z"
   },
   {
    "duration": 20,
    "start_time": "2023-02-22T18:45:56.314Z"
   },
   {
    "duration": 108,
    "start_time": "2023-02-22T18:45:56.336Z"
   },
   {
    "duration": 240,
    "start_time": "2023-02-22T18:45:56.446Z"
   },
   {
    "duration": 1232,
    "start_time": "2023-02-22T18:45:56.689Z"
   },
   {
    "duration": 103,
    "start_time": "2023-02-22T18:47:01.200Z"
   },
   {
    "duration": 88,
    "start_time": "2023-02-22T18:47:03.520Z"
   },
   {
    "duration": 126,
    "start_time": "2023-02-22T18:59:03.020Z"
   },
   {
    "duration": 92,
    "start_time": "2023-02-22T18:59:42.476Z"
   },
   {
    "duration": 93,
    "start_time": "2023-02-22T18:59:57.988Z"
   },
   {
    "duration": 93,
    "start_time": "2023-02-22T19:00:32.861Z"
   },
   {
    "duration": 239,
    "start_time": "2023-02-22T19:00:41.430Z"
   },
   {
    "duration": 98,
    "start_time": "2023-02-22T19:00:48.814Z"
   },
   {
    "duration": 134,
    "start_time": "2023-02-22T19:12:36.300Z"
   },
   {
    "duration": 1238,
    "start_time": "2023-02-22T19:14:36.058Z"
   },
   {
    "duration": 92,
    "start_time": "2023-02-22T19:59:01.430Z"
   },
   {
    "duration": 89,
    "start_time": "2023-02-22T20:47:59.622Z"
   },
   {
    "duration": 207,
    "start_time": "2023-02-22T21:06:56.326Z"
   },
   {
    "duration": 101,
    "start_time": "2023-02-22T21:21:43.644Z"
   },
   {
    "duration": 84,
    "start_time": "2023-02-22T21:23:04.338Z"
   },
   {
    "duration": 1396,
    "start_time": "2023-02-24T09:18:23.647Z"
   },
   {
    "duration": 5,
    "start_time": "2023-02-24T09:18:25.047Z"
   },
   {
    "duration": 4872,
    "start_time": "2023-02-24T09:18:25.055Z"
   },
   {
    "duration": 225,
    "start_time": "2023-02-24T09:18:29.929Z"
   },
   {
    "duration": 17,
    "start_time": "2023-02-24T09:18:30.155Z"
   },
   {
    "duration": 138,
    "start_time": "2023-02-24T09:18:30.174Z"
   },
   {
    "duration": 258,
    "start_time": "2023-02-24T09:18:30.313Z"
   },
   {
    "duration": 143,
    "start_time": "2023-02-24T09:18:30.573Z"
   },
   {
    "duration": 1196,
    "start_time": "2023-02-24T09:18:30.717Z"
   },
   {
    "duration": 92,
    "start_time": "2023-02-24T09:18:31.915Z"
   },
   {
    "duration": 73,
    "start_time": "2023-02-24T10:00:39.307Z"
   },
   {
    "duration": 74,
    "start_time": "2023-02-24T10:06:33.078Z"
   },
   {
    "duration": 1158,
    "start_time": "2023-02-24T10:49:38.070Z"
   },
   {
    "duration": 1148,
    "start_time": "2023-02-24T10:50:05.468Z"
   },
   {
    "duration": 418,
    "start_time": "2023-02-24T11:18:13.301Z"
   },
   {
    "duration": 422,
    "start_time": "2023-02-24T11:18:24.641Z"
   },
   {
    "duration": 203,
    "start_time": "2023-02-24T11:19:41.290Z"
   },
   {
    "duration": 112,
    "start_time": "2023-02-24T11:19:51.452Z"
   },
   {
    "duration": 409,
    "start_time": "2023-02-24T11:19:58.843Z"
   },
   {
    "duration": 422,
    "start_time": "2023-02-24T11:22:28.054Z"
   },
   {
    "duration": 416,
    "start_time": "2023-02-24T11:36:21.029Z"
   },
   {
    "duration": 16,
    "start_time": "2023-02-24T11:40:07.029Z"
   },
   {
    "duration": 29,
    "start_time": "2023-02-24T11:42:29.203Z"
   },
   {
    "duration": 13,
    "start_time": "2023-02-24T11:45:06.233Z"
   },
   {
    "duration": 460,
    "start_time": "2023-02-24T11:45:18.101Z"
   },
   {
    "duration": 418,
    "start_time": "2023-02-24T11:45:35.613Z"
   },
   {
    "duration": 413,
    "start_time": "2023-02-24T11:46:09.303Z"
   },
   {
    "duration": 378,
    "start_time": "2023-02-24T11:46:23.462Z"
   },
   {
    "duration": 451,
    "start_time": "2023-02-24T11:48:20.568Z"
   },
   {
    "duration": 438,
    "start_time": "2023-02-24T11:48:37.496Z"
   },
   {
    "duration": 432,
    "start_time": "2023-02-24T11:58:38.613Z"
   },
   {
    "duration": 440,
    "start_time": "2023-02-24T11:58:46.126Z"
   },
   {
    "duration": 138,
    "start_time": "2023-02-24T12:19:57.250Z"
   },
   {
    "duration": 1200,
    "start_time": "2023-02-24T12:20:15.267Z"
   },
   {
    "duration": 4,
    "start_time": "2023-02-24T12:20:16.469Z"
   },
   {
    "duration": 5761,
    "start_time": "2023-02-24T12:20:16.478Z"
   },
   {
    "duration": 240,
    "start_time": "2023-02-24T12:20:22.241Z"
   },
   {
    "duration": 17,
    "start_time": "2023-02-24T12:20:22.483Z"
   },
   {
    "duration": 104,
    "start_time": "2023-02-24T12:20:22.501Z"
   },
   {
    "duration": 240,
    "start_time": "2023-02-24T12:20:22.607Z"
   },
   {
    "duration": 132,
    "start_time": "2023-02-24T12:20:22.849Z"
   },
   {
    "duration": 1277,
    "start_time": "2023-02-24T12:20:22.983Z"
   },
   {
    "duration": 93,
    "start_time": "2023-02-24T12:20:24.261Z"
   },
   {
    "duration": 81,
    "start_time": "2023-02-24T12:20:24.356Z"
   },
   {
    "duration": 1300,
    "start_time": "2023-02-24T12:20:24.439Z"
   },
   {
    "duration": 420,
    "start_time": "2023-02-24T12:20:25.741Z"
   },
   {
    "duration": 444,
    "start_time": "2023-02-24T12:20:26.164Z"
   },
   {
    "duration": 121,
    "start_time": "2023-02-24T12:20:26.610Z"
   },
   {
    "duration": 84,
    "start_time": "2023-02-24T12:20:26.733Z"
   },
   {
    "duration": 155,
    "start_time": "2023-02-24T12:20:26.820Z"
   },
   {
    "duration": 49,
    "start_time": "2023-02-24T13:07:07.446Z"
   },
   {
    "duration": 1170,
    "start_time": "2023-02-24T13:07:19.357Z"
   },
   {
    "duration": 4,
    "start_time": "2023-02-24T13:07:20.529Z"
   },
   {
    "duration": 4794,
    "start_time": "2023-02-24T13:07:20.534Z"
   },
   {
    "duration": 238,
    "start_time": "2023-02-24T13:07:25.330Z"
   },
   {
    "duration": 15,
    "start_time": "2023-02-24T13:07:25.571Z"
   },
   {
    "duration": 101,
    "start_time": "2023-02-24T13:07:25.587Z"
   },
   {
    "duration": 236,
    "start_time": "2023-02-24T13:07:25.690Z"
   },
   {
    "duration": 132,
    "start_time": "2023-02-24T13:07:25.928Z"
   },
   {
    "duration": 1140,
    "start_time": "2023-02-24T13:07:26.062Z"
   },
   {
    "duration": 89,
    "start_time": "2023-02-24T13:07:27.204Z"
   },
   {
    "duration": 73,
    "start_time": "2023-02-24T13:07:27.294Z"
   },
   {
    "duration": 1106,
    "start_time": "2023-02-24T13:07:27.368Z"
   },
   {
    "duration": 404,
    "start_time": "2023-02-24T13:07:28.476Z"
   },
   {
    "duration": 2,
    "start_time": "2023-02-24T13:07:28.883Z"
   },
   {
    "duration": 461,
    "start_time": "2023-02-24T13:07:28.887Z"
   },
   {
    "duration": 96,
    "start_time": "2023-02-24T13:07:29.350Z"
   },
   {
    "duration": 73,
    "start_time": "2023-02-24T13:07:29.448Z"
   },
   {
    "duration": 136,
    "start_time": "2023-02-24T13:07:29.523Z"
   },
   {
    "duration": 454,
    "start_time": "2023-02-24T13:07:44.752Z"
   },
   {
    "duration": 460,
    "start_time": "2023-02-24T13:08:13.428Z"
   },
   {
    "duration": 1294,
    "start_time": "2023-02-24T15:06:24.276Z"
   },
   {
    "duration": 5,
    "start_time": "2023-02-24T15:06:25.576Z"
   },
   {
    "duration": 11913,
    "start_time": "2023-02-24T15:06:25.583Z"
   },
   {
    "duration": 51,
    "start_time": "2023-02-24T15:06:37.498Z"
   },
   {
    "duration": 30,
    "start_time": "2023-02-24T15:06:37.551Z"
   },
   {
    "duration": 94,
    "start_time": "2023-02-24T15:06:37.585Z"
   },
   {
    "duration": 209,
    "start_time": "2023-02-24T15:06:37.681Z"
   },
   {
    "duration": 102,
    "start_time": "2023-02-24T15:06:37.894Z"
   },
   {
    "duration": 1305,
    "start_time": "2023-02-24T15:06:37.999Z"
   },
   {
    "duration": 71,
    "start_time": "2023-02-24T15:06:39.306Z"
   },
   {
    "duration": 48,
    "start_time": "2023-02-24T15:06:39.378Z"
   },
   {
    "duration": 1218,
    "start_time": "2023-02-24T15:06:39.427Z"
   },
   {
    "duration": 423,
    "start_time": "2023-02-24T15:06:40.646Z"
   },
   {
    "duration": 441,
    "start_time": "2023-02-24T15:06:41.072Z"
   },
   {
    "duration": 72,
    "start_time": "2023-02-24T15:06:41.523Z"
   },
   {
    "duration": 84,
    "start_time": "2023-02-24T15:06:41.597Z"
   },
   {
    "duration": 112,
    "start_time": "2023-02-24T15:06:41.683Z"
   },
   {
    "duration": 108,
    "start_time": "2023-02-24T15:06:56.719Z"
   },
   {
    "duration": 110,
    "start_time": "2023-02-24T15:07:00.199Z"
   },
   {
    "duration": 119,
    "start_time": "2023-02-24T15:07:02.048Z"
   },
   {
    "duration": 111,
    "start_time": "2023-02-24T15:07:03.709Z"
   },
   {
    "duration": 11,
    "start_time": "2023-02-24T15:08:19.521Z"
   },
   {
    "duration": 15,
    "start_time": "2023-02-24T15:08:27.653Z"
   },
   {
    "duration": 16,
    "start_time": "2023-02-24T15:10:29.823Z"
   },
   {
    "duration": 44,
    "start_time": "2023-02-24T20:07:02.926Z"
   },
   {
    "duration": 1288,
    "start_time": "2023-02-24T20:07:08.852Z"
   },
   {
    "duration": 3,
    "start_time": "2023-02-24T20:07:10.142Z"
   },
   {
    "duration": 4907,
    "start_time": "2023-02-24T20:07:10.148Z"
   },
   {
    "duration": 216,
    "start_time": "2023-02-24T20:07:15.058Z"
   },
   {
    "duration": 19,
    "start_time": "2023-02-24T20:07:15.277Z"
   },
   {
    "duration": 122,
    "start_time": "2023-02-24T20:07:15.298Z"
   },
   {
    "duration": 241,
    "start_time": "2023-02-24T20:07:15.422Z"
   },
   {
    "duration": 130,
    "start_time": "2023-02-24T20:07:15.665Z"
   },
   {
    "duration": 1172,
    "start_time": "2023-02-24T20:07:15.797Z"
   },
   {
    "duration": 88,
    "start_time": "2023-02-24T20:07:16.971Z"
   },
   {
    "duration": 72,
    "start_time": "2023-02-24T20:07:17.060Z"
   },
   {
    "duration": 1057,
    "start_time": "2023-02-24T20:07:17.133Z"
   },
   {
    "duration": 404,
    "start_time": "2023-02-24T20:07:18.192Z"
   },
   {
    "duration": 462,
    "start_time": "2023-02-24T20:07:18.597Z"
   },
   {
    "duration": 98,
    "start_time": "2023-02-24T20:07:19.060Z"
   },
   {
    "duration": 67,
    "start_time": "2023-02-24T20:07:19.160Z"
   },
   {
    "duration": 134,
    "start_time": "2023-02-24T20:07:19.229Z"
   },
   {
    "duration": 235,
    "start_time": "2023-02-24T20:07:31.226Z"
   },
   {
    "duration": 197,
    "start_time": "2023-02-24T20:09:22.106Z"
   },
   {
    "duration": 236,
    "start_time": "2023-02-24T20:10:22.481Z"
   },
   {
    "duration": 230,
    "start_time": "2023-02-24T20:11:06.601Z"
   },
   {
    "duration": 105,
    "start_time": "2023-02-24T20:12:04.485Z"
   },
   {
    "duration": 225,
    "start_time": "2023-02-24T20:12:11.263Z"
   },
   {
    "duration": 1145,
    "start_time": "2023-02-24T20:18:05.324Z"
   },
   {
    "duration": 250,
    "start_time": "2023-02-24T20:28:23.645Z"
   },
   {
    "duration": 74,
    "start_time": "2023-02-24T20:52:50.644Z"
   },
   {
    "duration": 62,
    "start_time": "2023-02-24T21:06:44.264Z"
   },
   {
    "duration": 117,
    "start_time": "2023-02-24T21:12:10.763Z"
   },
   {
    "duration": 103,
    "start_time": "2023-02-24T21:12:21.447Z"
   },
   {
    "duration": 99,
    "start_time": "2023-02-24T21:12:30.290Z"
   },
   {
    "duration": 97,
    "start_time": "2023-02-24T21:13:07.319Z"
   },
   {
    "duration": 96,
    "start_time": "2023-02-24T21:16:38.756Z"
   },
   {
    "duration": 411,
    "start_time": "2023-02-24T21:36:10.697Z"
   },
   {
    "duration": 422,
    "start_time": "2023-02-24T21:36:21.145Z"
   },
   {
    "duration": 102,
    "start_time": "2023-02-24T21:36:32.084Z"
   },
   {
    "duration": 421,
    "start_time": "2023-02-24T21:36:46.198Z"
   },
   {
    "duration": 453,
    "start_time": "2023-02-24T22:24:50.181Z"
   },
   {
    "duration": 409,
    "start_time": "2023-02-24T22:24:59.556Z"
   },
   {
    "duration": 125,
    "start_time": "2023-02-24T22:47:36.474Z"
   },
   {
    "duration": 129,
    "start_time": "2023-02-24T22:48:32.307Z"
   },
   {
    "duration": 126,
    "start_time": "2023-02-24T22:49:06.286Z"
   },
   {
    "duration": 122,
    "start_time": "2023-02-24T22:49:33.224Z"
   },
   {
    "duration": 498,
    "start_time": "2023-02-24T22:51:56.494Z"
   },
   {
    "duration": 416,
    "start_time": "2023-02-24T22:52:02.794Z"
   },
   {
    "duration": 1268,
    "start_time": "2023-02-24T22:54:18.232Z"
   },
   {
    "duration": 3,
    "start_time": "2023-02-24T22:54:19.502Z"
   },
   {
    "duration": 5112,
    "start_time": "2023-02-24T22:54:19.507Z"
   },
   {
    "duration": 228,
    "start_time": "2023-02-24T22:54:24.621Z"
   },
   {
    "duration": 19,
    "start_time": "2023-02-24T22:54:24.851Z"
   },
   {
    "duration": 108,
    "start_time": "2023-02-24T22:54:24.872Z"
   },
   {
    "duration": 268,
    "start_time": "2023-02-24T22:54:24.981Z"
   },
   {
    "duration": 142,
    "start_time": "2023-02-24T22:54:25.253Z"
   },
   {
    "duration": 1236,
    "start_time": "2023-02-24T22:54:25.397Z"
   },
   {
    "duration": 88,
    "start_time": "2023-02-24T22:54:26.636Z"
   },
   {
    "duration": 64,
    "start_time": "2023-02-24T22:54:26.726Z"
   },
   {
    "duration": 1197,
    "start_time": "2023-02-24T22:54:26.792Z"
   },
   {
    "duration": 507,
    "start_time": "2023-02-24T22:54:27.990Z"
   },
   {
    "duration": 421,
    "start_time": "2023-02-24T22:54:28.499Z"
   },
   {
    "duration": 97,
    "start_time": "2023-02-24T22:54:28.922Z"
   },
   {
    "duration": 77,
    "start_time": "2023-02-24T22:54:29.021Z"
   },
   {
    "duration": 136,
    "start_time": "2023-02-24T22:54:29.100Z"
   },
   {
    "duration": 1195,
    "start_time": "2023-02-25T11:27:04.190Z"
   },
   {
    "duration": 3,
    "start_time": "2023-02-25T11:27:05.387Z"
   },
   {
    "duration": 10970,
    "start_time": "2023-02-25T11:27:05.391Z"
   },
   {
    "duration": 37,
    "start_time": "2023-02-25T11:27:16.364Z"
   },
   {
    "duration": 15,
    "start_time": "2023-02-25T11:27:16.403Z"
   },
   {
    "duration": 73,
    "start_time": "2023-02-25T11:27:16.419Z"
   },
   {
    "duration": 218,
    "start_time": "2023-02-25T11:27:16.494Z"
   },
   {
    "duration": 97,
    "start_time": "2023-02-25T11:27:16.714Z"
   },
   {
    "duration": 1127,
    "start_time": "2023-02-25T11:27:16.812Z"
   },
   {
    "duration": 57,
    "start_time": "2023-02-25T11:27:17.941Z"
   },
   {
    "duration": 28,
    "start_time": "2023-02-25T11:27:18.000Z"
   },
   {
    "duration": 1073,
    "start_time": "2023-02-25T11:27:18.030Z"
   },
   {
    "duration": 476,
    "start_time": "2023-02-25T11:27:19.105Z"
   },
   {
    "duration": 405,
    "start_time": "2023-02-25T11:27:19.583Z"
   },
   {
    "duration": 68,
    "start_time": "2023-02-25T11:27:19.990Z"
   },
   {
    "duration": 80,
    "start_time": "2023-02-25T11:27:20.059Z"
   },
   {
    "duration": 110,
    "start_time": "2023-02-25T11:27:20.140Z"
   },
   {
    "duration": 10,
    "start_time": "2023-02-25T11:28:13.059Z"
   },
   {
    "duration": 8,
    "start_time": "2023-02-25T11:28:20.486Z"
   },
   {
    "duration": 512,
    "start_time": "2023-02-25T11:36:30.317Z"
   }
  ],
  "colab": {
   "name": "AdvansedSQLProjectTemplate.ipynb",
   "provenance": []
  },
  "kernelspec": {
   "display_name": "Python 3 (ipykernel)",
   "language": "python",
   "name": "python3"
  },
  "language_info": {
   "codemirror_mode": {
    "name": "ipython",
    "version": 3
   },
   "file_extension": ".py",
   "mimetype": "text/x-python",
   "name": "python",
   "nbconvert_exporter": "python",
   "pygments_lexer": "ipython3",
   "version": "3.9.18"
  },
  "toc": {
   "base_numbering": 1,
   "nav_menu": {},
   "number_sections": false,
   "sideBar": true,
   "skip_h1_title": false,
   "title_cell": "Table of Contents",
   "title_sidebar": "Contents",
   "toc_cell": false,
   "toc_position": {
    "height": "calc(100% - 180px)",
    "left": "10px",
    "top": "150px",
    "width": "318.195px"
   },
   "toc_section_display": true,
   "toc_window_display": true
  }
 },
 "nbformat": 4,
 "nbformat_minor": 1
}
