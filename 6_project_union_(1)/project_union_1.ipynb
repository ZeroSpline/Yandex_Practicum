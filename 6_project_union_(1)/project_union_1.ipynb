{
 "cells": [
  {
   "cell_type": "markdown",
   "metadata": {
    "id": "3bSlkCsbgFyL"
   },
   "source": [
    "### Шаг 1. Откройте файлы с данными и объедините их в один датафрейм. \n",
    "\n",
    "Объедините данные таким образом, чтобы все объекты из датасета `mkrf_movies` обязательно вошли в получившийся датафрейм. \n",
    "\n",
    "<div id=\"accordion\">\n",
    "    <div class=\"card\">\n",
    "        <div class=\"card-header\" id=\"headingThree\">\n",
    "            <button class=\"btn btn-link collapsed\" data-toggle=\"collapse\" data-target=\"#collapseHint_0\" aria-expanded=\"false\" aria-controls=\"collapseHint_0\">Подсказка</button>\n",
    "        </div>\n",
    "        <div id=\"collapseHint_0\" class=\"collapse\" aria-labelledby=\"headingThree\" data-parent=\"#accordion\">\n",
    "            <div class=\"card-body\">\n",
    "Обратите внимание на тип данных столбца, по которому будете соединять датафреймы. Тип данных этих столбцов должен быть одинаковым в обоих датафреймах.\n",
    "            </div>\n",
    "        </div>\n",
    "    </div>\n",
    "</div>"
   ]
  },
  {
   "cell_type": "code",
   "execution_count": 1,
   "metadata": {
    "id": "dw87FlzMgFyM"
   },
   "outputs": [],
   "source": [
    "# импорт библиотеки pandas\n",
    "import pandas as pd "
   ]
  },
  {
   "cell_type": "code",
   "execution_count": 2,
   "metadata": {},
   "outputs": [
    {
     "name": "stdout",
     "output_type": "stream",
     "text": [
      "<class 'pandas.core.frame.DataFrame'>\n",
      "RangeIndex: 7486 entries, 0 to 7485\n",
      "Data columns (total 15 columns):\n",
      " #   Column                 Non-Null Count  Dtype  \n",
      "---  ------                 --------------  -----  \n",
      " 0   title                  7486 non-null   object \n",
      " 1   puNumber               7486 non-null   object \n",
      " 2   show_start_date        7486 non-null   object \n",
      " 3   type                   7486 non-null   object \n",
      " 4   film_studio            7468 non-null   object \n",
      " 5   production_country     7484 non-null   object \n",
      " 6   director               7477 non-null   object \n",
      " 7   producer               6918 non-null   object \n",
      " 8   age_restriction        7486 non-null   object \n",
      " 9   refundable_support     332 non-null    float64\n",
      " 10  nonrefundable_support  332 non-null    float64\n",
      " 11  budget                 332 non-null    float64\n",
      " 12  financing_source       332 non-null    object \n",
      " 13  ratings                6519 non-null   object \n",
      " 14  genres                 6510 non-null   object \n",
      "dtypes: float64(3), object(12)\n",
      "memory usage: 877.4+ KB\n"
     ]
    },
    {
     "data": {
      "text/plain": [
       "None"
      ]
     },
     "metadata": {},
     "output_type": "display_data"
    },
    {
     "name": "stdout",
     "output_type": "stream",
     "text": [
      "<class 'pandas.core.frame.DataFrame'>\n",
      "RangeIndex: 3158 entries, 0 to 3157\n",
      "Data columns (total 2 columns):\n",
      " #   Column      Non-Null Count  Dtype  \n",
      "---  ------      --------------  -----  \n",
      " 0   puNumber    3158 non-null   int64  \n",
      " 1   box_office  3158 non-null   float64\n",
      "dtypes: float64(1), int64(1)\n",
      "memory usage: 49.5 KB\n"
     ]
    },
    {
     "data": {
      "text/plain": [
       "None"
      ]
     },
     "metadata": {},
     "output_type": "display_data"
    },
    {
     "data": {
      "text/html": [
       "<div>\n",
       "<style scoped>\n",
       "    .dataframe tbody tr th:only-of-type {\n",
       "        vertical-align: middle;\n",
       "    }\n",
       "\n",
       "    .dataframe tbody tr th {\n",
       "        vertical-align: top;\n",
       "    }\n",
       "\n",
       "    .dataframe thead th {\n",
       "        text-align: right;\n",
       "    }\n",
       "</style>\n",
       "<table border=\"1\" class=\"dataframe\">\n",
       "  <thead>\n",
       "    <tr style=\"text-align: right;\">\n",
       "      <th></th>\n",
       "      <th>title</th>\n",
       "      <th>puNumber</th>\n",
       "      <th>show_start_date</th>\n",
       "      <th>type</th>\n",
       "      <th>film_studio</th>\n",
       "      <th>production_country</th>\n",
       "      <th>director</th>\n",
       "      <th>producer</th>\n",
       "      <th>age_restriction</th>\n",
       "      <th>refundable_support</th>\n",
       "      <th>nonrefundable_support</th>\n",
       "      <th>budget</th>\n",
       "      <th>financing_source</th>\n",
       "      <th>ratings</th>\n",
       "      <th>genres</th>\n",
       "    </tr>\n",
       "  </thead>\n",
       "  <tbody>\n",
       "    <tr>\n",
       "      <th>0</th>\n",
       "      <td>Открытый простор</td>\n",
       "      <td>221048915</td>\n",
       "      <td>2015-11-27T12:00:00.000Z</td>\n",
       "      <td>Художественный</td>\n",
       "      <td>Тачстоун Пикчерз, Кобальт Пикчерз, Бикон Пикче...</td>\n",
       "      <td>США</td>\n",
       "      <td>Кевин Костнер</td>\n",
       "      <td>Дэвид Валдес, Кевин Костнер, Джейк Эбертс</td>\n",
       "      <td>«18+» - запрещено для детей</td>\n",
       "      <td>NaN</td>\n",
       "      <td>NaN</td>\n",
       "      <td>NaN</td>\n",
       "      <td>NaN</td>\n",
       "      <td>7.2</td>\n",
       "      <td>боевик,драма,мелодрама</td>\n",
       "    </tr>\n",
       "    <tr>\n",
       "      <th>1</th>\n",
       "      <td>Особо важное задание</td>\n",
       "      <td>111013716</td>\n",
       "      <td>2016-09-13T12:00:00.000Z</td>\n",
       "      <td>Художественный</td>\n",
       "      <td>Киностудия \"Мосфильм\"</td>\n",
       "      <td>СССР</td>\n",
       "      <td>Е.Матвеев</td>\n",
       "      <td>NaN</td>\n",
       "      <td>«6+» - для детей старше 6 лет</td>\n",
       "      <td>NaN</td>\n",
       "      <td>NaN</td>\n",
       "      <td>NaN</td>\n",
       "      <td>NaN</td>\n",
       "      <td>6.6</td>\n",
       "      <td>драма,военный</td>\n",
       "    </tr>\n",
       "    <tr>\n",
       "      <th>2</th>\n",
       "      <td>Особо опасен</td>\n",
       "      <td>221038416</td>\n",
       "      <td>2016-10-10T12:00:00.000Z</td>\n",
       "      <td>Художественный</td>\n",
       "      <td>Юниверсал Пикчерз, Кикстарт Продакшнз, Марк Пл...</td>\n",
       "      <td>США</td>\n",
       "      <td>Тимур Бекмамбетов</td>\n",
       "      <td>Джим Лемли, Джейсон Нетер, Марк Е.Платт, Яйн Смит</td>\n",
       "      <td>«18+» - запрещено для детей</td>\n",
       "      <td>NaN</td>\n",
       "      <td>NaN</td>\n",
       "      <td>NaN</td>\n",
       "      <td>NaN</td>\n",
       "      <td>6.8</td>\n",
       "      <td>фантастика,боевик,триллер</td>\n",
       "    </tr>\n",
       "  </tbody>\n",
       "</table>\n",
       "</div>"
      ],
      "text/plain": [
       "                  title   puNumber           show_start_date            type  \\\n",
       "0      Открытый простор  221048915  2015-11-27T12:00:00.000Z  Художественный   \n",
       "1  Особо важное задание  111013716  2016-09-13T12:00:00.000Z  Художественный   \n",
       "2          Особо опасен  221038416  2016-10-10T12:00:00.000Z  Художественный   \n",
       "\n",
       "                                         film_studio production_country  \\\n",
       "0  Тачстоун Пикчерз, Кобальт Пикчерз, Бикон Пикче...                США   \n",
       "1                              Киностудия \"Мосфильм\"               СССР   \n",
       "2  Юниверсал Пикчерз, Кикстарт Продакшнз, Марк Пл...                США   \n",
       "\n",
       "            director                                           producer  \\\n",
       "0      Кевин Костнер          Дэвид Валдес, Кевин Костнер, Джейк Эбертс   \n",
       "1          Е.Матвеев                                                NaN   \n",
       "2  Тимур Бекмамбетов  Джим Лемли, Джейсон Нетер, Марк Е.Платт, Яйн Смит   \n",
       "\n",
       "                 age_restriction  refundable_support  nonrefundable_support  \\\n",
       "0    «18+» - запрещено для детей                 NaN                    NaN   \n",
       "1  «6+» - для детей старше 6 лет                 NaN                    NaN   \n",
       "2    «18+» - запрещено для детей                 NaN                    NaN   \n",
       "\n",
       "   budget financing_source ratings                     genres  \n",
       "0     NaN              NaN     7.2     боевик,драма,мелодрама  \n",
       "1     NaN              NaN     6.6              драма,военный  \n",
       "2     NaN              NaN     6.8  фантастика,боевик,триллер  "
      ]
     },
     "metadata": {},
     "output_type": "display_data"
    },
    {
     "data": {
      "text/html": [
       "<div>\n",
       "<style scoped>\n",
       "    .dataframe tbody tr th:only-of-type {\n",
       "        vertical-align: middle;\n",
       "    }\n",
       "\n",
       "    .dataframe tbody tr th {\n",
       "        vertical-align: top;\n",
       "    }\n",
       "\n",
       "    .dataframe thead th {\n",
       "        text-align: right;\n",
       "    }\n",
       "</style>\n",
       "<table border=\"1\" class=\"dataframe\">\n",
       "  <thead>\n",
       "    <tr style=\"text-align: right;\">\n",
       "      <th></th>\n",
       "      <th>puNumber</th>\n",
       "      <th>box_office</th>\n",
       "    </tr>\n",
       "  </thead>\n",
       "  <tbody>\n",
       "    <tr>\n",
       "      <th>0</th>\n",
       "      <td>111000113</td>\n",
       "      <td>2450.0</td>\n",
       "    </tr>\n",
       "    <tr>\n",
       "      <th>1</th>\n",
       "      <td>111000115</td>\n",
       "      <td>61040.0</td>\n",
       "    </tr>\n",
       "    <tr>\n",
       "      <th>2</th>\n",
       "      <td>111000116</td>\n",
       "      <td>153030013.4</td>\n",
       "    </tr>\n",
       "  </tbody>\n",
       "</table>\n",
       "</div>"
      ],
      "text/plain": [
       "    puNumber   box_office\n",
       "0  111000113       2450.0\n",
       "1  111000115      61040.0\n",
       "2  111000116  153030013.4"
      ]
     },
     "execution_count": 2,
     "metadata": {},
     "output_type": "execute_result"
    }
   ],
   "source": [
    "# чтение файла с данными и сохранение в data_movies\n",
    "data_movies = pd.read_csv('mkrf_movies.csv') \n",
    "# чтение файла с данными и сохранение в data_shows\n",
    "data_shows = pd.read_csv('mkrf_shows.csv') \n",
    "# получение информации о первой таблице\n",
    "display(data_movies.info())\n",
    "# получение информации о второй таблице\n",
    "display(data_shows.info())\n",
    "# выведем на экран таблицу №1\n",
    "display(data_movies.head(3))\n",
    "# выведем на экран таблицу №2\n",
    "data_shows.head(3)"
   ]
  },
  {
   "cell_type": "code",
   "execution_count": 3,
   "metadata": {},
   "outputs": [
    {
     "data": {
      "text/plain": [
       "1797          нет\n",
       "5249    231001111\n",
       "1011    231001012\n",
       "3992    226019110\n",
       "4355    226017410\n",
       "Name: puNumber, dtype: object"
      ]
     },
     "execution_count": 3,
     "metadata": {},
     "output_type": "execute_result"
    }
   ],
   "source": [
    "# получение информации о \"выбивающихся\" данных столбца для изменения значения\n",
    "data_movies['puNumber'].sort_values(ascending=False).head()"
   ]
  },
  {
   "cell_type": "code",
   "execution_count": 4,
   "metadata": {},
   "outputs": [
    {
     "data": {
      "text/html": [
       "<div>\n",
       "<style scoped>\n",
       "    .dataframe tbody tr th:only-of-type {\n",
       "        vertical-align: middle;\n",
       "    }\n",
       "\n",
       "    .dataframe tbody tr th {\n",
       "        vertical-align: top;\n",
       "    }\n",
       "\n",
       "    .dataframe thead th {\n",
       "        text-align: right;\n",
       "    }\n",
       "</style>\n",
       "<table border=\"1\" class=\"dataframe\">\n",
       "  <thead>\n",
       "    <tr style=\"text-align: right;\">\n",
       "      <th></th>\n",
       "      <th>title</th>\n",
       "      <th>puNumber</th>\n",
       "      <th>show_start_date</th>\n",
       "      <th>type</th>\n",
       "      <th>film_studio</th>\n",
       "      <th>production_country</th>\n",
       "      <th>director</th>\n",
       "      <th>producer</th>\n",
       "      <th>age_restriction</th>\n",
       "      <th>refundable_support</th>\n",
       "      <th>nonrefundable_support</th>\n",
       "      <th>budget</th>\n",
       "      <th>financing_source</th>\n",
       "      <th>ratings</th>\n",
       "      <th>genres</th>\n",
       "      <th>box_office</th>\n",
       "    </tr>\n",
       "  </thead>\n",
       "  <tbody>\n",
       "    <tr>\n",
       "      <th>7471</th>\n",
       "      <td>Реальная любовь в Нью-Йорке</td>\n",
       "      <td>121038219</td>\n",
       "      <td>2019-12-19T12:00:00.000Z</td>\n",
       "      <td>Художественный</td>\n",
       "      <td>Креатив Энлэйнс, Арт, Копенгаген Филм, Дет Дан...</td>\n",
       "      <td>Дания - Канада - Швеция - Франция - Германия -...</td>\n",
       "      <td>Лоне Шерфиг</td>\n",
       "      <td>Малене Бленков, Сандра Каннингэм</td>\n",
       "      <td>«16+» - для детей старше 16 лет</td>\n",
       "      <td>NaN</td>\n",
       "      <td>NaN</td>\n",
       "      <td>NaN</td>\n",
       "      <td>NaN</td>\n",
       "      <td>6.1</td>\n",
       "      <td>драма</td>\n",
       "      <td>3143790.50</td>\n",
       "    </tr>\n",
       "    <tr>\n",
       "      <th>7472</th>\n",
       "      <td>Черное Рождество</td>\n",
       "      <td>121038319</td>\n",
       "      <td>2019-12-19T12:00:00.000Z</td>\n",
       "      <td>Художественный</td>\n",
       "      <td>Юниверсал Пикчерз, Блюмхауз Продакшнз, Дивид/К...</td>\n",
       "      <td>США - Новая Зеландия</td>\n",
       "      <td>Софи Такал</td>\n",
       "      <td>Джесси Хендерсон</td>\n",
       "      <td>«18+» - запрещено для детей</td>\n",
       "      <td>NaN</td>\n",
       "      <td>NaN</td>\n",
       "      <td>NaN</td>\n",
       "      <td>NaN</td>\n",
       "      <td>3.9</td>\n",
       "      <td>ужасы,триллер,детектив</td>\n",
       "      <td>18001772.43</td>\n",
       "    </tr>\n",
       "    <tr>\n",
       "      <th>7473</th>\n",
       "      <td>Ходячий замок</td>\n",
       "      <td>124010519</td>\n",
       "      <td>2019-12-19T12:00:00.000Z</td>\n",
       "      <td>Анимационный</td>\n",
       "      <td>Студио Гибли, Буена Виста Хоум Интертейнмент, ...</td>\n",
       "      <td>Япония</td>\n",
       "      <td>Хаяо Миядзаки</td>\n",
       "      <td>Томохико Исии, Хаяо Миядзаки, Тосио Судзуки</td>\n",
       "      <td>«6+» - для детей старше 6 лет</td>\n",
       "      <td>NaN</td>\n",
       "      <td>NaN</td>\n",
       "      <td>NaN</td>\n",
       "      <td>NaN</td>\n",
       "      <td>8.3</td>\n",
       "      <td>аниме,мультфильм,фэнтези</td>\n",
       "      <td>NaN</td>\n",
       "    </tr>\n",
       "    <tr>\n",
       "      <th>7474</th>\n",
       "      <td>Вторжение</td>\n",
       "      <td>111022519</td>\n",
       "      <td>2019-12-23T12:00:00.000Z</td>\n",
       "      <td>Художественный</td>\n",
       "      <td>ООО \"Арт Пикчерс Студия\", ООО \"Водород 2011\"</td>\n",
       "      <td>Россия</td>\n",
       "      <td>Ф.Бондарчук</td>\n",
       "      <td>Ф.Бондарчук, М.Врубель, А.Андрющенко, Д.Рудовский</td>\n",
       "      <td>«12+» - для детей старше 12 лет</td>\n",
       "      <td>100000000.0</td>\n",
       "      <td>400000000.0</td>\n",
       "      <td>944000000.0</td>\n",
       "      <td>Фонд кино</td>\n",
       "      <td>5.7</td>\n",
       "      <td>фантастика,боевик</td>\n",
       "      <td>NaN</td>\n",
       "    </tr>\n",
       "    <tr>\n",
       "      <th>7475</th>\n",
       "      <td>Папа</td>\n",
       "      <td>111022919</td>\n",
       "      <td>2019-12-24T12:00:00.000Z</td>\n",
       "      <td>Художественный</td>\n",
       "      <td>ООО \"Киношкола имени Сергея Федоровича Бондарч...</td>\n",
       "      <td>Россия</td>\n",
       "      <td>К.Чувикова</td>\n",
       "      <td>ООО \"Киношкола имени Сергея Федоровича Бондарч...</td>\n",
       "      <td>«18+» - запрещено для детей</td>\n",
       "      <td>NaN</td>\n",
       "      <td>NaN</td>\n",
       "      <td>NaN</td>\n",
       "      <td>NaN</td>\n",
       "      <td>8.2</td>\n",
       "      <td>драма</td>\n",
       "      <td>NaN</td>\n",
       "    </tr>\n",
       "    <tr>\n",
       "      <th>7476</th>\n",
       "      <td>Я свободен</td>\n",
       "      <td>111023019</td>\n",
       "      <td>2019-12-26T12:00:00.000Z</td>\n",
       "      <td>Художественный</td>\n",
       "      <td>АО \"ТПО \"Киностудия им. М.Горького\"</td>\n",
       "      <td>Россия</td>\n",
       "      <td>И.Северов</td>\n",
       "      <td>С.Зернов</td>\n",
       "      <td>«12+» - для детей старше 12 лет</td>\n",
       "      <td>0.0</td>\n",
       "      <td>30000000.0</td>\n",
       "      <td>46154000.0</td>\n",
       "      <td>Министерство культуры</td>\n",
       "      <td>5.9</td>\n",
       "      <td>драма</td>\n",
       "      <td>NaN</td>\n",
       "    </tr>\n",
       "    <tr>\n",
       "      <th>7477</th>\n",
       "      <td>Тридцать</td>\n",
       "      <td>121038419</td>\n",
       "      <td>2019-12-26T12:00:00.000Z</td>\n",
       "      <td>Художественный</td>\n",
       "      <td>Демнехст ауф видео</td>\n",
       "      <td>Германия</td>\n",
       "      <td>Симона Костова</td>\n",
       "      <td>Джейлан Атаман-Джека</td>\n",
       "      <td>«16+» - для детей старше 16 лет</td>\n",
       "      <td>NaN</td>\n",
       "      <td>NaN</td>\n",
       "      <td>NaN</td>\n",
       "      <td>NaN</td>\n",
       "      <td>6.3</td>\n",
       "      <td>драма</td>\n",
       "      <td>NaN</td>\n",
       "    </tr>\n",
       "    <tr>\n",
       "      <th>7478</th>\n",
       "      <td>(Не)идеальный мужчина</td>\n",
       "      <td>111023119</td>\n",
       "      <td>2019-12-24T12:00:00.000Z</td>\n",
       "      <td>Художественный</td>\n",
       "      <td>ООО \"Нон-Стоп Продакшн\"</td>\n",
       "      <td>Россия</td>\n",
       "      <td>М.Бальчюнас (псевдоним М.Вайсберг)</td>\n",
       "      <td>С.Мелькумов, А.Роднянский, М.Вайсберг, Р.Минас...</td>\n",
       "      <td>«12+» - для детей старше 12 лет</td>\n",
       "      <td>40000000.0</td>\n",
       "      <td>60000000.0</td>\n",
       "      <td>150147502.0</td>\n",
       "      <td>Фонд кино</td>\n",
       "      <td>4.5</td>\n",
       "      <td>комедия,фантастика,мелодрама</td>\n",
       "      <td>NaN</td>\n",
       "    </tr>\n",
       "    <tr>\n",
       "      <th>7479</th>\n",
       "      <td>Эколав</td>\n",
       "      <td>111023219</td>\n",
       "      <td>2019-12-26T12:00:00.000Z</td>\n",
       "      <td>Художественный</td>\n",
       "      <td>ВГИК</td>\n",
       "      <td>Россия</td>\n",
       "      <td>Д.Григорьев</td>\n",
       "      <td>ВГИК</td>\n",
       "      <td>«18+» - запрещено для детей</td>\n",
       "      <td>NaN</td>\n",
       "      <td>NaN</td>\n",
       "      <td>NaN</td>\n",
       "      <td>NaN</td>\n",
       "      <td>NaN</td>\n",
       "      <td>NaN</td>\n",
       "      <td>NaN</td>\n",
       "    </tr>\n",
       "    <tr>\n",
       "      <th>7480</th>\n",
       "      <td>Акрам Хан: Родом из Карри Хауса</td>\n",
       "      <td>126007919</td>\n",
       "      <td>2019-12-23T12:00:00.000Z</td>\n",
       "      <td>Прочие</td>\n",
       "      <td>Свон Филмз</td>\n",
       "      <td>Великобритания</td>\n",
       "      <td>Ник Пойнц</td>\n",
       "      <td>Поппи Бегум, Ник Пойнц</td>\n",
       "      <td>«12+» - для детей старше 12 лет</td>\n",
       "      <td>NaN</td>\n",
       "      <td>NaN</td>\n",
       "      <td>NaN</td>\n",
       "      <td>NaN</td>\n",
       "      <td>NaN</td>\n",
       "      <td>NaN</td>\n",
       "      <td>219569.00</td>\n",
       "    </tr>\n",
       "    <tr>\n",
       "      <th>7481</th>\n",
       "      <td>Сад художника: Американский импрессионизм</td>\n",
       "      <td>126008019</td>\n",
       "      <td>2019-12-23T12:00:00.000Z</td>\n",
       "      <td>Прочие</td>\n",
       "      <td>Севен Артс Продакшнз</td>\n",
       "      <td>Великобритания</td>\n",
       "      <td>Фил Грабски</td>\n",
       "      <td>Фил Грабски</td>\n",
       "      <td>«12+» - для детей старше 12 лет</td>\n",
       "      <td>NaN</td>\n",
       "      <td>NaN</td>\n",
       "      <td>NaN</td>\n",
       "      <td>NaN</td>\n",
       "      <td>NaN</td>\n",
       "      <td>NaN</td>\n",
       "      <td>NaN</td>\n",
       "    </tr>\n",
       "    <tr>\n",
       "      <th>7482</th>\n",
       "      <td>Звериная ярость</td>\n",
       "      <td>121037819</td>\n",
       "      <td>2019-12-24T12:00:00.000Z</td>\n",
       "      <td>Художественный</td>\n",
       "      <td>Дэниел Гродник Продакшнз, Вандерфилм Медиа Кор...</td>\n",
       "      <td>США</td>\n",
       "      <td>Ник Пауэлл</td>\n",
       "      <td>Джефф Боулер, Дэниэл Гродник, Луильо Руис, Брэ...</td>\n",
       "      <td>«16+» - для детей старше 16 лет</td>\n",
       "      <td>NaN</td>\n",
       "      <td>NaN</td>\n",
       "      <td>NaN</td>\n",
       "      <td>NaN</td>\n",
       "      <td>5.4</td>\n",
       "      <td>боевик,триллер</td>\n",
       "      <td>NaN</td>\n",
       "    </tr>\n",
       "    <tr>\n",
       "      <th>7483</th>\n",
       "      <td>Щенячий патруль: Скорей спешим на помощь!</td>\n",
       "      <td>124010819</td>\n",
       "      <td>2019-12-28T12:00:00.000Z</td>\n",
       "      <td>Художественный</td>\n",
       "      <td>Никелодеон Анимейшн Студиос, Спин Мастер</td>\n",
       "      <td>США - Канада</td>\n",
       "      <td>Чарльз Е.Бастьен</td>\n",
       "      <td>Дженнифер Додж</td>\n",
       "      <td>«0+» - для любой зрительской аудитории</td>\n",
       "      <td>NaN</td>\n",
       "      <td>NaN</td>\n",
       "      <td>NaN</td>\n",
       "      <td>NaN</td>\n",
       "      <td>NaN</td>\n",
       "      <td>NaN</td>\n",
       "      <td>NaN</td>\n",
       "    </tr>\n",
       "    <tr>\n",
       "      <th>7484</th>\n",
       "      <td>Машины песенки. Серия \"Испанские мотивы\"</td>\n",
       "      <td>124010619</td>\n",
       "      <td>2019-12-30T12:00:00.000Z</td>\n",
       "      <td>Анимационный</td>\n",
       "      <td>Анимаккорд Лтд., ООО Студия \"АНИМАККОРД\"</td>\n",
       "      <td>Республика Кипр, Россия</td>\n",
       "      <td>А.Беляев</td>\n",
       "      <td>Д.Ловейко</td>\n",
       "      <td>«0+» - для любой зрительской аудитории</td>\n",
       "      <td>NaN</td>\n",
       "      <td>NaN</td>\n",
       "      <td>NaN</td>\n",
       "      <td>NaN</td>\n",
       "      <td>NaN</td>\n",
       "      <td>NaN</td>\n",
       "      <td>NaN</td>\n",
       "    </tr>\n",
       "    <tr>\n",
       "      <th>7485</th>\n",
       "      <td>Машины песенки. Серия \"Когда цветут кактусы\"</td>\n",
       "      <td>124010719</td>\n",
       "      <td>2019-12-30T12:00:00.000Z</td>\n",
       "      <td>Анимационный</td>\n",
       "      <td>Анимаккорд Лтд., ООО Студия \"АНИМАККОРД\"</td>\n",
       "      <td>Республика Кипр, Россия</td>\n",
       "      <td>И.Трусов</td>\n",
       "      <td>Д.Ловейко</td>\n",
       "      <td>«0+» - для любой зрительской аудитории</td>\n",
       "      <td>NaN</td>\n",
       "      <td>NaN</td>\n",
       "      <td>NaN</td>\n",
       "      <td>NaN</td>\n",
       "      <td>6.3</td>\n",
       "      <td>комедия,вестерн</td>\n",
       "      <td>NaN</td>\n",
       "    </tr>\n",
       "  </tbody>\n",
       "</table>\n",
       "</div>"
      ],
      "text/plain": [
       "                                             title   puNumber  \\\n",
       "7471                   Реальная любовь в Нью-Йорке  121038219   \n",
       "7472                              Черное Рождество  121038319   \n",
       "7473                                 Ходячий замок  124010519   \n",
       "7474                                     Вторжение  111022519   \n",
       "7475                                          Папа  111022919   \n",
       "7476                                    Я свободен  111023019   \n",
       "7477                                      Тридцать  121038419   \n",
       "7478                         (Не)идеальный мужчина  111023119   \n",
       "7479                                        Эколав  111023219   \n",
       "7480               Акрам Хан: Родом из Карри Хауса  126007919   \n",
       "7481     Сад художника: Американский импрессионизм  126008019   \n",
       "7482                               Звериная ярость  121037819   \n",
       "7483     Щенячий патруль: Скорей спешим на помощь!  124010819   \n",
       "7484      Машины песенки. Серия \"Испанские мотивы\"  124010619   \n",
       "7485  Машины песенки. Серия \"Когда цветут кактусы\"  124010719   \n",
       "\n",
       "               show_start_date             type  \\\n",
       "7471  2019-12-19T12:00:00.000Z   Художественный   \n",
       "7472  2019-12-19T12:00:00.000Z   Художественный   \n",
       "7473  2019-12-19T12:00:00.000Z     Анимационный   \n",
       "7474  2019-12-23T12:00:00.000Z   Художественный   \n",
       "7475  2019-12-24T12:00:00.000Z   Художественный   \n",
       "7476  2019-12-26T12:00:00.000Z   Художественный   \n",
       "7477  2019-12-26T12:00:00.000Z   Художественный   \n",
       "7478  2019-12-24T12:00:00.000Z   Художественный   \n",
       "7479  2019-12-26T12:00:00.000Z   Художественный   \n",
       "7480  2019-12-23T12:00:00.000Z           Прочие   \n",
       "7481  2019-12-23T12:00:00.000Z           Прочие   \n",
       "7482  2019-12-24T12:00:00.000Z   Художественный   \n",
       "7483  2019-12-28T12:00:00.000Z   Художественный   \n",
       "7484  2019-12-30T12:00:00.000Z     Анимационный   \n",
       "7485  2019-12-30T12:00:00.000Z     Анимационный   \n",
       "\n",
       "                                            film_studio  \\\n",
       "7471  Креатив Энлэйнс, Арт, Копенгаген Филм, Дет Дан...   \n",
       "7472  Юниверсал Пикчерз, Блюмхауз Продакшнз, Дивид/К...   \n",
       "7473  Студио Гибли, Буена Виста Хоум Интертейнмент, ...   \n",
       "7474       ООО \"Арт Пикчерс Студия\", ООО \"Водород 2011\"   \n",
       "7475  ООО \"Киношкола имени Сергея Федоровича Бондарч...   \n",
       "7476                АО \"ТПО \"Киностудия им. М.Горького\"   \n",
       "7477                                 Демнехст ауф видео   \n",
       "7478                           ООО \"Нон-Стоп Продакшн\"    \n",
       "7479                                               ВГИК   \n",
       "7480                                         Свон Филмз   \n",
       "7481                               Севен Артс Продакшнз   \n",
       "7482  Дэниел Гродник Продакшнз, Вандерфилм Медиа Кор...   \n",
       "7483           Никелодеон Анимейшн Студиос, Спин Мастер   \n",
       "7484           Анимаккорд Лтд., ООО Студия \"АНИМАККОРД\"   \n",
       "7485           Анимаккорд Лтд., ООО Студия \"АНИМАККОРД\"   \n",
       "\n",
       "                                     production_country  \\\n",
       "7471  Дания - Канада - Швеция - Франция - Германия -...   \n",
       "7472                               США - Новая Зеландия   \n",
       "7473                                             Япония   \n",
       "7474                                             Россия   \n",
       "7475                                             Россия   \n",
       "7476                                             Россия   \n",
       "7477                                           Германия   \n",
       "7478                                             Россия   \n",
       "7479                                             Россия   \n",
       "7480                                     Великобритания   \n",
       "7481                                     Великобритания   \n",
       "7482                                                США   \n",
       "7483                                       США - Канада   \n",
       "7484                            Республика Кипр, Россия   \n",
       "7485                            Республика Кипр, Россия   \n",
       "\n",
       "                                director  \\\n",
       "7471                         Лоне Шерфиг   \n",
       "7472                          Софи Такал   \n",
       "7473                       Хаяо Миядзаки   \n",
       "7474                         Ф.Бондарчук   \n",
       "7475                          К.Чувикова   \n",
       "7476                           И.Северов   \n",
       "7477                      Симона Костова   \n",
       "7478  М.Бальчюнас (псевдоним М.Вайсберг)   \n",
       "7479                         Д.Григорьев   \n",
       "7480                           Ник Пойнц   \n",
       "7481                         Фил Грабски   \n",
       "7482                          Ник Пауэлл   \n",
       "7483                    Чарльз Е.Бастьен   \n",
       "7484                            А.Беляев   \n",
       "7485                            И.Трусов   \n",
       "\n",
       "                                               producer  \\\n",
       "7471                   Малене Бленков, Сандра Каннингэм   \n",
       "7472                                   Джесси Хендерсон   \n",
       "7473        Томохико Исии, Хаяо Миядзаки, Тосио Судзуки   \n",
       "7474  Ф.Бондарчук, М.Врубель, А.Андрющенко, Д.Рудовский   \n",
       "7475  ООО \"Киношкола имени Сергея Федоровича Бондарч...   \n",
       "7476                                           С.Зернов   \n",
       "7477                               Джейлан Атаман-Джека   \n",
       "7478  С.Мелькумов, А.Роднянский, М.Вайсберг, Р.Минас...   \n",
       "7479                                               ВГИК   \n",
       "7480                             Поппи Бегум, Ник Пойнц   \n",
       "7481                                        Фил Грабски   \n",
       "7482  Джефф Боулер, Дэниэл Гродник, Луильо Руис, Брэ...   \n",
       "7483                                     Дженнифер Додж   \n",
       "7484                                          Д.Ловейко   \n",
       "7485                                          Д.Ловейко   \n",
       "\n",
       "                             age_restriction  refundable_support  \\\n",
       "7471         «16+» - для детей старше 16 лет                 NaN   \n",
       "7472             «18+» - запрещено для детей                 NaN   \n",
       "7473           «6+» - для детей старше 6 лет                 NaN   \n",
       "7474         «12+» - для детей старше 12 лет         100000000.0   \n",
       "7475             «18+» - запрещено для детей                 NaN   \n",
       "7476         «12+» - для детей старше 12 лет                 0.0   \n",
       "7477         «16+» - для детей старше 16 лет                 NaN   \n",
       "7478         «12+» - для детей старше 12 лет          40000000.0   \n",
       "7479             «18+» - запрещено для детей                 NaN   \n",
       "7480         «12+» - для детей старше 12 лет                 NaN   \n",
       "7481         «12+» - для детей старше 12 лет                 NaN   \n",
       "7482         «16+» - для детей старше 16 лет                 NaN   \n",
       "7483  «0+» - для любой зрительской аудитории                 NaN   \n",
       "7484  «0+» - для любой зрительской аудитории                 NaN   \n",
       "7485  «0+» - для любой зрительской аудитории                 NaN   \n",
       "\n",
       "      nonrefundable_support       budget       financing_source ratings  \\\n",
       "7471                    NaN          NaN                    NaN     6.1   \n",
       "7472                    NaN          NaN                    NaN     3.9   \n",
       "7473                    NaN          NaN                    NaN     8.3   \n",
       "7474            400000000.0  944000000.0              Фонд кино     5.7   \n",
       "7475                    NaN          NaN                    NaN     8.2   \n",
       "7476             30000000.0   46154000.0  Министерство культуры     5.9   \n",
       "7477                    NaN          NaN                    NaN     6.3   \n",
       "7478             60000000.0  150147502.0              Фонд кино     4.5   \n",
       "7479                    NaN          NaN                    NaN     NaN   \n",
       "7480                    NaN          NaN                    NaN     NaN   \n",
       "7481                    NaN          NaN                    NaN     NaN   \n",
       "7482                    NaN          NaN                    NaN     5.4   \n",
       "7483                    NaN          NaN                    NaN     NaN   \n",
       "7484                    NaN          NaN                    NaN     NaN   \n",
       "7485                    NaN          NaN                    NaN     6.3   \n",
       "\n",
       "                            genres   box_office  \n",
       "7471                         драма   3143790.50  \n",
       "7472        ужасы,триллер,детектив  18001772.43  \n",
       "7473      аниме,мультфильм,фэнтези          NaN  \n",
       "7474             фантастика,боевик          NaN  \n",
       "7475                         драма          NaN  \n",
       "7476                         драма          NaN  \n",
       "7477                         драма          NaN  \n",
       "7478  комедия,фантастика,мелодрама          NaN  \n",
       "7479                           NaN          NaN  \n",
       "7480                           NaN    219569.00  \n",
       "7481                           NaN          NaN  \n",
       "7482                боевик,триллер          NaN  \n",
       "7483                           NaN          NaN  \n",
       "7484                           NaN          NaN  \n",
       "7485               комедия,вестерн          NaN  "
      ]
     },
     "execution_count": 4,
     "metadata": {},
     "output_type": "execute_result"
    }
   ],
   "source": [
    "# замена значения в строке 1797 на ноль\n",
    "data_movies.loc[1797, 'puNumber'] = 0\n",
    "# изменение типа данных в столбце, по которому будут объединяться таблицы\n",
    "data_movies['puNumber'] = data_movies['puNumber'].astype('int')\n",
    "# создание объединенной таблицы с данными\n",
    "data = data_movies.merge(data_shows, on='puNumber', how='outer')\n",
    "# вывод 15 строк снизу, полученной таблицы\n",
    "data.tail(15)"
   ]
  },
  {
   "cell_type": "markdown",
   "metadata": {},
   "source": [
    "#### Вывод\n",
    "Объединение провел по столбцу `puNumber` предварительно заменив некорректное значение на ноль.\n",
    "А также приведя этот столбец к типу данных `int`."
   ]
  },
  {
   "cell_type": "markdown",
   "metadata": {
    "id": "KLDGpPG0gFyM"
   },
   "source": [
    "### Шаг 2. Предобработка данных"
   ]
  },
  {
   "cell_type": "markdown",
   "metadata": {
    "id": "ssWwKXsxgFyO"
   },
   "source": [
    "#### Шаг 2.1. Проверьте типы данных\n",
    "\n",
    "- Проверьте типы данных в датафрейме и преобразуйте их там, где это необходимо."
   ]
  },
  {
   "cell_type": "code",
   "execution_count": 5,
   "metadata": {
    "id": "kVGSplJOgFyO"
   },
   "outputs": [
    {
     "name": "stdout",
     "output_type": "stream",
     "text": [
      "<class 'pandas.core.frame.DataFrame'>\n",
      "Int64Index: 7486 entries, 0 to 7485\n",
      "Data columns (total 16 columns):\n",
      " #   Column                 Non-Null Count  Dtype  \n",
      "---  ------                 --------------  -----  \n",
      " 0   title                  7486 non-null   object \n",
      " 1   puNumber               7486 non-null   int32  \n",
      " 2   show_start_date        7486 non-null   object \n",
      " 3   type                   7486 non-null   object \n",
      " 4   film_studio            7468 non-null   object \n",
      " 5   production_country     7484 non-null   object \n",
      " 6   director               7477 non-null   object \n",
      " 7   producer               6918 non-null   object \n",
      " 8   age_restriction        7486 non-null   object \n",
      " 9   refundable_support     332 non-null    float64\n",
      " 10  nonrefundable_support  332 non-null    float64\n",
      " 11  budget                 332 non-null    float64\n",
      " 12  financing_source       332 non-null    object \n",
      " 13  ratings                6519 non-null   object \n",
      " 14  genres                 6510 non-null   object \n",
      " 15  box_office             3158 non-null   float64\n",
      "dtypes: float64(4), int32(1), object(11)\n",
      "memory usage: 965.0+ KB\n"
     ]
    },
    {
     "data": {
      "text/plain": [
       "None"
      ]
     },
     "metadata": {},
     "output_type": "display_data"
    }
   ],
   "source": [
    "# получение информации о таблице\n",
    "display(data.info())\n",
    "# изменение типа данных для даты и возвращение \"привычного\" формата\n",
    "data['show_start_date'] = pd.to_datetime(data['show_start_date'])\n",
    "# замена пропущенных значение в столбце на ноль и изменение типа данных на int\n",
    "data['refundable_support'] = data['refundable_support'].fillna(0)\n",
    "data['refundable_support'] = data['refundable_support'].astype('int')\n",
    "# замена пропущенных значение в столбце на ноль и изменение типа данных на int\n",
    "data['nonrefundable_support'] = data['nonrefundable_support'].fillna(0)\n",
    "data['nonrefundable_support'] = data['nonrefundable_support'].astype('int')\n",
    "# замена пропущенных значение в столбце на ноль и изменение типа данных на int\n",
    "data['budget'] = data['budget'].fillna(0)\n",
    "data['budget'] = data['budget'].astype('int')\n",
    "# замена пропущенных значение в столбце на ноль и изменение типа данных на int\n",
    "data['box_office'] = data['box_office'].fillna(0)\n",
    "data['box_office'] = data['box_office'].astype('int')"
   ]
  },
  {
   "cell_type": "markdown",
   "metadata": {},
   "source": [
    "##### Вывод\n",
    "На этом шаге исправлен тип данных для столбца `show_start_date` на привычный `datetime64`"
   ]
  },
  {
   "cell_type": "markdown",
   "metadata": {
    "id": "i0MOLbF-gFyP"
   },
   "source": [
    "#### Шаг 2.2. Изучите пропуски в датафрейме\n",
    "\n",
    "- Объясните, почему заполнили пропуски определённым образом или почему не стали этого делать."
   ]
  },
  {
   "cell_type": "code",
   "execution_count": 6,
   "metadata": {
    "id": "8MJD_lkngFyP"
   },
   "outputs": [
    {
     "data": {
      "text/plain": [
       "array(['7.2', '6.6', '6.8', '7.7', '8.3', '8.0', '7.8', '8.1', '7.1',\n",
       "       '6.0', '7.4', '5.8', '8.7', '6.3', '6.9', '5.0', '4.3', '7.3',\n",
       "       '7.0', '6.4', nan, '8.2', '7.5', '6.7', '7.9', '5.9', '6.2', '5.6',\n",
       "       '6.5', '2.4', '7.6', '6.1', '8.6', '8.5', '8.8', '5.5', '5.1',\n",
       "       '5.7', '5.4', '99%', '4.4', '4.5', '5.3', '4.1', '8.4', '2.6',\n",
       "       '3.8', '4.6', '4.8', '4.0', '3.0', '1.6', '4.2', '5.2', '4.7',\n",
       "       '4.9', '3.9', '2.7', '3.3', '2.9', '28%', '3.7', '1.4', '3.1',\n",
       "       '97%', '3.5', '3.2', '2.8', '1.5', '2.1', '2.5', '9.2', '3.4',\n",
       "       '1.1', '3.6', '83%', '64%', '91%', '94%', '62%', '79%', '90%',\n",
       "       '19%', '88%', '1.0', '89%', '1.3', '1.9', '1.8', '1.2', '1.7',\n",
       "       '9.0', '98%', '8.9', '9.1'], dtype=object)"
      ]
     },
     "execution_count": 6,
     "metadata": {},
     "output_type": "execute_result"
    }
   ],
   "source": [
    "# замена пропущенных значение в столбце с жанрами\n",
    "data['genres'] = data['genres'].fillna('неизвестный')\n",
    "# замена пропущенных значение в столбце с именами продюссеров\n",
    "data['producer'] = data['producer'].fillna('Неизвестный')\n",
    "# замена пропущенных значение в столбце с именами режиссеров\n",
    "data['director'] = data['director'].fillna('Неизвестный')\n",
    "# замена пропущенных значение в столбце с информацией о источнике финансовой поддержки\n",
    "data['financing_source'] = data['financing_source'].fillna('Неизвестный')\n",
    "# просмотр уникальных значений в столбце с рейтингом\n",
    "data['ratings'].unique()"
   ]
  },
  {
   "cell_type": "code",
   "execution_count": 7,
   "metadata": {},
   "outputs": [
    {
     "data": {
      "text/plain": [
       "array([7.2, 6.6, 6.8, 7.7, 8.3, 8. , 7.8, 8.1, 7.1, 6. , 7.4, 5.8, 8.7,\n",
       "       6.3, 6.9, 5. , 4.3, 7.3, 7. , 6.4, 8.2, 7.5, 6.7, 7.9, 5.9, 6.2,\n",
       "       5.6, 6.5, 2.4, 7.6, 6.1, 8.6, 8.5, 8.8, 5.5, 5.1, 5.7, 5.4, 9.9,\n",
       "       4.4, 4.5, 5.3, 4.1, 8.4, 2.6, 3.8, 4.6, 4.8, 4. , 3. , 1.6, 4.2,\n",
       "       5.2, 4.7, 4.9, 3.9, 2.7, 3.3, 2.9, 2.8, 3.7, 1.4, 3.1, 9.7, 3.5,\n",
       "       3.2, 1.5, 2.1, 2.5, 9.2, 3.4, 1.1, 3.6, 9.1, 9.4, 9. , 1.9, 1. ,\n",
       "       8.9, 1.3, 1.8, 1.2, 1.7, 9.8])"
      ]
     },
     "metadata": {},
     "output_type": "display_data"
    },
    {
     "name": "stdout",
     "output_type": "stream",
     "text": [
      "<class 'pandas.core.frame.DataFrame'>\n",
      "Int64Index: 7486 entries, 0 to 7485\n",
      "Data columns (total 16 columns):\n",
      " #   Column                 Non-Null Count  Dtype              \n",
      "---  ------                 --------------  -----              \n",
      " 0   title                  7486 non-null   object             \n",
      " 1   puNumber               7486 non-null   int32              \n",
      " 2   show_start_date        7486 non-null   datetime64[ns, UTC]\n",
      " 3   type                   7486 non-null   object             \n",
      " 4   film_studio            7468 non-null   object             \n",
      " 5   production_country     7484 non-null   object             \n",
      " 6   director               7486 non-null   object             \n",
      " 7   producer               7486 non-null   object             \n",
      " 8   age_restriction        7486 non-null   object             \n",
      " 9   refundable_support     7486 non-null   int32              \n",
      " 10  nonrefundable_support  7486 non-null   int32              \n",
      " 11  budget                 7486 non-null   int32              \n",
      " 12  financing_source       7486 non-null   object             \n",
      " 13  ratings                7486 non-null   float64            \n",
      " 14  genres                 7486 non-null   object             \n",
      " 15  box_office             7486 non-null   int32              \n",
      "dtypes: datetime64[ns, UTC](1), float64(1), int32(5), object(9)\n",
      "memory usage: 848.0+ KB\n"
     ]
    }
   ],
   "source": [
    "# создание функции для изменения \"выбивающихся\" значений\n",
    "def percent_move(value):\n",
    "    if type(value) == float:\n",
    "        return value\n",
    "    if type(value) == str and value[-1] == '%': \n",
    "        value = float(value[0:len(value)-1])\n",
    "        value /= 10\n",
    "    return value\n",
    "# применение функции для замены выбивающихся значений\n",
    "data['ratings'] = data['ratings'].apply(percent_move)\n",
    "# расчет медианного значения рейтинга\n",
    "ratings_median = (data.dropna(subset=['ratings']))['ratings'].median()\n",
    "# изменение типа данных на строку для устранения различий\n",
    "data['ratings'] = data['ratings'].astype('str')\n",
    "# изменение типа данных на числовое для приведения всех данных в единый формат\n",
    "data['ratings'] = data['ratings'].astype('float')\n",
    "# заполнение пропусков медианным значением\n",
    "data['ratings'] = data['ratings'].fillna(ratings_median)\n",
    "# получение уникальных значений столбца с рейтингом для проверки\n",
    "display(data['ratings'].unique())\n",
    "# получение общих данных о таблице и типе данных\n",
    "data.info()"
   ]
  },
  {
   "cell_type": "markdown",
   "metadata": {},
   "source": [
    "##### Вывод\n",
    "В столбцах `director` и `producer` пропуски заменены на на `Неизвестный` так как это похоже на баг в данных и для полного заполнения значений потребуется либо ручное вмешательство в каждую строку либо корректировка изначальной таблицы с данными.\n",
    "\n",
    "Для столбца с пропусками в жанрах проведена аналогичная замена.\n",
    "\n",
    "Данные в столбце с рейтингами были подвернуты промежуточной обьработке с отбрасыванием `%` и приведения значения к десятичному. А пропуски заменены медианным значениями, так как если заменять средним значением то можем внести искажения в данные и получим несоответсвующие реальности значения поскольку фильмов с крайне низким и крайне высоким рейтингом мало."
   ]
  },
  {
   "cell_type": "markdown",
   "metadata": {
    "id": "4c6k1t9ygFyQ"
   },
   "source": [
    "#### Шаг 2.3. Изучите дубликаты в датафрейме\n",
    "- Проверьте, есть ли в данных дубликаты. Опишите причины, которые могли повлиять на появление дублей."
   ]
  },
  {
   "cell_type": "code",
   "execution_count": 8,
   "metadata": {
    "id": "aKck8RIdgFyQ"
   },
   "outputs": [
    {
     "data": {
      "text/plain": [
       "714"
      ]
     },
     "metadata": {},
     "output_type": "display_data"
    },
    {
     "data": {
      "text/plain": [
       "День святого Валентина_                                        5\n",
       "Гарри Поттер и Дары Смерти - Часть 1/По роману Дж.К.Ролинг/    4\n",
       "Красавчик-2                                                    4\n",
       "Дитя тьмы                                                      4\n",
       "Безумцы                                                        4\n",
       "Name: title, dtype: int64"
      ]
     },
     "metadata": {},
     "output_type": "display_data"
    },
    {
     "data": {
      "text/plain": [
       "(7486, 16)"
      ]
     },
     "metadata": {},
     "output_type": "display_data"
    }
   ],
   "source": [
    "# проверка на явные дубликаты\n",
    "display(data['title'].duplicated().sum())\n",
    "# вывод первых пяти строк с дублирующими значениями и их количеством\n",
    "display(data['title'].value_counts().head(5))\n",
    "\n",
    "# создание копии таблицы, если потребуется, чтобы вернуся к этому этапу\n",
    "# data_filtered = data.copy()\n",
    "# удаление дубликатов в столбце с названием фильма и перезаписыванием индексов в новой таблице\n",
    "# data_filtered['title'] = data_filtered['title'].drop_duplicates().reset_index(drop=True)\n",
    "# перезаписывание таблциы без дубликатов в названии фильма\n",
    "# data_filtered = data_filtered.dropna(subset=['title'])\n",
    "# проверка на явные дубликаты после проделанных шагов\n",
    "# display(data_filtered['title'].duplicated().sum())\n",
    "# получение информации о размерах таблиц: с дубликатами и отфильтрованной\n",
    "\n",
    "display(data.shape)\n",
    "# data_filtered.shape"
   ]
  },
  {
   "cell_type": "code",
   "execution_count": 9,
   "metadata": {},
   "outputs": [
    {
     "data": {
      "text/plain": [
       "['Открытый простор',\n",
       " 'Особо важное задание',\n",
       " 'Особо опасен',\n",
       " 'Остановился поезд',\n",
       " 'Любовь и голуби',\n",
       " 'Любовь и сигареты',\n",
       " 'Отпетые мошенники.',\n",
       " 'Отпуск за свой счет',\n",
       " 'Превосходство Борна /По одноименной новелле Роберта Ладлэма/',\n",
       " 'Ответный ход',\n",
       " 'Малышка на миллион /По мотивам рассказов Ф.Х.Тула из сборника \"Клейма от канатов\"/',\n",
       " 'Преданный садовник',\n",
       " 'Отель /По мотивам пьесы Джона Уэбстера/',\n",
       " 'Председатель',\n",
       " 'Осенний марафон',\n",
       " 'Осень',\n",
       " 'Неподдающиеся',\n",
       " 'Неподсуден',\n",
       " 'Незабываемый 1919-й год',\n",
       " 'Незаконченная жизнь',\n",
       " 'Операция \"Ы\" и другие приключения Шурика',\n",
       " 'Неизвестные страницы из жизни разведчика',\n",
       " 'Неисправимый лгун',\n",
       " 'Призрак замка Моррисвиль',\n",
       " 'Оружейный барон',\n",
       " 'Отставной козы барабанщик',\n",
       " 'Паршивая овца',\n",
       " 'Плюмбум, или Опасная игра',\n",
       " 'Первое свидание',\n",
       " 'Охота на лис.',\n",
       " 'Пиноккио 3000',\n",
       " 'Перелом',\n",
       " 'Мисс Поттер',\n",
       " 'Миссис Хендерсон представляет',\n",
       " 'Планета КА-ПЭКС /По мотивам романа Джин Бруэр/',\n",
       " 'Молчи в тряпочку',\n",
       " 'Мужики!..',\n",
       " 'Автомобиль, скрипка и собака Клякса',\n",
       " 'Алекс и Эмма',\n",
       " 'Мой лучший любовник',\n",
       " 'Мемуары гейши (по роману Артура Голдена)',\n",
       " 'Адъютант его превосходительства',\n",
       " 'Без свидетелей',\n",
       " 'Без солнца',\n",
       " 'Андрей Рублев.',\n",
       " 'Азартные игры',\n",
       " '36, Набережная Орфевр',\n",
       " 'Асса',\n",
       " 'Бандитки.',\n",
       " 'Айболит - 66',\n",
       " 'Алешкина любовь',\n",
       " '50 первых поцелуев',\n",
       " 'Адмирал Ушаков',\n",
       " 'А был ли Каротин?',\n",
       " 'А если это любовь?',\n",
       " 'Бесшабашное ограбление',\n",
       " 'Бешеное золото',\n",
       " 'Братец медвежонок /По одноименному произведению Лорны Кемерун/',\n",
       " 'Американская дочь',\n",
       " 'Беспредел _',\n",
       " 'Бешеные деньги.',\n",
       " 'Аттестат зрелости',\n",
       " 'Бархатный сезон',\n",
       " 'Анна Павлова',\n",
       " 'Босиком по мостовой',\n",
       " 'Алые паруса',\n",
       " 'Аэлита, не приставай к мужчинам',\n",
       " 'Бой после победы',\n",
       " 'Братья Карамазовы',\n",
       " 'Белая графиня',\n",
       " 'В шесть часов вечера после войны',\n",
       " 'Борец и клоун',\n",
       " 'Борис Годунов',\n",
       " 'Большой аттракцион',\n",
       " 'Битва в пути',\n",
       " 'Будьте моим мужем',\n",
       " 'Букашки 3D',\n",
       " 'Вирус любви',\n",
       " 'Високосный год',\n",
       " 'Вакансия',\n",
       " 'Берегите мужчин!',\n",
       " 'Блондинка и блондинка',\n",
       " 'Валентин и Валентина',\n",
       " 'Валентина',\n",
       " 'Взрослые дети.',\n",
       " 'Ватерлоо',\n",
       " 'Выстрел.',\n",
       " 'Возмездие_',\n",
       " 'Время, вперед!',\n",
       " 'Вас ожидает гражданка Никанорова',\n",
       " 'Васса',\n",
       " 'Вольт',\n",
       " 'Горбатая гора',\n",
       " 'Дамы приглашают кавалеров',\n",
       " 'Возвращение Василия Бортникова',\n",
       " 'Встречное расследование',\n",
       " 'Во имя чести',\n",
       " 'Время желаний',\n",
       " 'Горе от ума.',\n",
       " 'Враг государства № 1',\n",
       " 'Враг государства № 1: Легенда',\n",
       " 'Гори, гори, моя звезда',\n",
       " 'Внимание, черепаха!',\n",
       " 'Встреча на Эльбе',\n",
       " 'Волшебная страна',\n",
       " 'Гранатовый браслет',\n",
       " 'Гарри Поттер и орден Феникса /По роману Дж.К.Ролинг/',\n",
       " 'Гарри Поттер и тайная комната /По роману Дж.К.Ролинг/',\n",
       " 'Гарри Поттер и узник Азкабана /По роману Дж.К.Ролинг/',\n",
       " 'Гарри Поттер и философский камень /По роману Дж.К.Ролинг/',\n",
       " 'Гангстер.',\n",
       " 'Готика',\n",
       " 'Горячий снег',\n",
       " 'Гладиатор.',\n",
       " 'Доброй ночи и удачи',\n",
       " 'Глаз',\n",
       " 'Гарри Поттер и кубок огня /По роману Дж.К.Ролинг/',\n",
       " 'Деньги на двоих',\n",
       " 'Галапагосы 3D.',\n",
       " 'Глаз.',\n",
       " 'Дорога на Арлингтон',\n",
       " 'Дачники',\n",
       " 'Джиперс Криперс',\n",
       " 'Дикий мед',\n",
       " 'Дело № 306',\n",
       " 'Джейн Эйр /По одноименному роману Шарлотты Бронте/',\n",
       " 'Джиперс Криперс 2',\n",
       " 'Двенадцать друзей Оушена',\n",
       " 'Джентльмены удачи',\n",
       " 'Девушка в парке',\n",
       " 'Дневник Бриджет Джонс /По мотивам романа Хелен Филдинг/',\n",
       " 'Дети Дон-Кихота',\n",
       " 'Деловые люди',\n",
       " 'Долгая помолвка /По роману Себастьяна Жапризо/',\n",
       " 'Девушка из Джерси',\n",
       " 'Двадцать одно /По произведению Бена Мезрича \"Удар по казино. Как сорвать куш: Реальная история шести студентов, обыгравших Лас-Вегас на миллионы долларов\"/',\n",
       " 'Двадцать шесть дней из жизни Достоевского',\n",
       " 'Дневник памяти /По роману Николаса Спракса/',\n",
       " 'Законный брак',\n",
       " 'Законы привлекательности',\n",
       " 'Женитьба Бальзаминова',\n",
       " 'Живые и мертвые',\n",
       " 'Знакомьтесь, Джо Блэк',\n",
       " 'Жди меня',\n",
       " 'Жестокий романс',\n",
       " 'Жестокость',\n",
       " 'Еще раз про любовь',\n",
       " 'Дом из песка и тумана (по книге Андре Дюбуи III)',\n",
       " 'Дорогая Елена Сергеевна',\n",
       " 'Друг мой, Колька!..',\n",
       " 'Друг невесты',\n",
       " 'Если свекровь - монстр',\n",
       " 'Жемчужная девушка',\n",
       " 'Егор Булычев и другие',\n",
       " 'Дом у озера',\n",
       " 'Душечка',\n",
       " 'Журавушка',\n",
       " 'За спичками',\n",
       " 'Земля Санникова',\n",
       " 'Зигзаг удачи',\n",
       " 'Забавные игры.',\n",
       " 'Зина-Зинуля',\n",
       " 'Запомните меня такой',\n",
       " 'Жили-были старик со старухой',\n",
       " 'Звонят, откройте дверь',\n",
       " 'Здесь курят /По книге Кристофера Бакли/',\n",
       " 'Загадка Эндхауза',\n",
       " 'Зак и Мири снимают порно',\n",
       " 'Замок с привидениями 3D',\n",
       " 'Забытая мелодия для флейты',\n",
       " 'Забытое',\n",
       " 'Заколдованная Элла /По книге Г.Г.Ливайн/',\n",
       " 'Змеелов',\n",
       " 'Жуковский',\n",
       " 'Загнанный',\n",
       " 'Инкогнито из Петербурга',\n",
       " 'ИГРА',\n",
       " 'Испытательный срок',\n",
       " 'Игры дьявола',\n",
       " 'Иван Васильевич меняет профессию',\n",
       " 'Искушение. Темпеста: Порочная страсть',\n",
       " 'Золотой ключик',\n",
       " 'Золотой компас /По мотивам книги Филипа Пуллмана/',\n",
       " 'И грянул гром /По рассказу Рэя Брэдберри/',\n",
       " 'И жизнь, и слезы, и любовь',\n",
       " 'Идентификация Борна /По одноименной книге Роберта Ладлэма/',\n",
       " 'Интердевочка',\n",
       " 'Искупление /По произведению Яна МакЭвана/',\n",
       " 'Ко мне, Мухтар!',\n",
       " 'Катала',\n",
       " 'Клетка для канареек',\n",
       " 'Карты, деньги, два ствола',\n",
       " 'Кавказская пленница, или Новые приключения Шурика',\n",
       " 'Калина красная',\n",
       " 'Зонтик для новобрачных',\n",
       " 'Из жизни отдыхающих',\n",
       " 'Коллеги',\n",
       " 'Кинг Конг _',\n",
       " 'Казино Рояль /По книге Яна Флеминга/',\n",
       " 'Капитанская дочка .',\n",
       " 'Клевый парень',\n",
       " 'Новые приключения неуловимых',\n",
       " 'Ограбление по-итальянски',\n",
       " 'Одиноким предоставляется общежитие',\n",
       " 'Обыкновенный фашизм',\n",
       " 'Одержимость',\n",
       " 'Каратель',\n",
       " 'Одиночное плавание',\n",
       " 'Неуловимые мстители',\n",
       " 'Новая Франция',\n",
       " 'Когда ты в последний раз видел своего отца',\n",
       " 'Новые приключения Золушки',\n",
       " 'Корабли штурмуют бастионы',\n",
       " 'Крейцерова соната',\n",
       " 'Кровавый алмаз',\n",
       " 'Крепкий орешек.',\n",
       " 'Красота по-английски',\n",
       " 'Полиция Майами: Отдел нравов',\n",
       " 'Королевство.',\n",
       " 'Полустанок',\n",
       " 'Композитор Глинка',\n",
       " 'По главной улице с оркестром',\n",
       " 'Красный дракон /По одноименному роману Томаса Гарриса/',\n",
       " 'Красавчик',\n",
       " 'Комедия давно минувших дней',\n",
       " 'Послесловие.',\n",
       " 'Повар,вор,его жена и ее любовник',\n",
       " 'Поездки на старом автомобиле',\n",
       " 'Порко Россо',\n",
       " 'Подранки',\n",
       " 'Помни /По рассказу Джонатана Нолана/',\n",
       " 'Помни имя свое',\n",
       " 'Легенда Зорро',\n",
       " 'Ларец Марии Медичи',\n",
       " 'Легенда о Тиле',\n",
       " 'Пока не сыграл в ящик',\n",
       " 'Леденец',\n",
       " 'Лемони Сникет: 33 несчастья',\n",
       " 'Леди Макбет Мценского уезда',\n",
       " 'Любимая женщина механика Гаврилова',\n",
       " 'Натали',\n",
       " 'Лучший друг',\n",
       " 'На колесах',\n",
       " 'Пришла и говорю',\n",
       " 'Наследница по прямой',\n",
       " 'Не может быть!',\n",
       " 'Не оставляющий следа',\n",
       " 'Мученицы',\n",
       " 'Напряги извилины',\n",
       " 'Рай_',\n",
       " 'Мулан',\n",
       " 'Прошлое',\n",
       " 'Путь к причалу',\n",
       " 'Наш дом',\n",
       " 'Не горюй!',\n",
       " 'Раз на раз не приходится',\n",
       " 'Разбойник и принцесса /По мотивам сказок Карела Чапека/',\n",
       " 'Раба любви',\n",
       " 'Прощание',\n",
       " 'Пуленепробиваемый.',\n",
       " 'Рецепт ее молодости',\n",
       " 'Пропало лето',\n",
       " 'Пять вечеров',\n",
       " 'Романс о влюбленных',\n",
       " 'Проделки в старинном духе',\n",
       " 'Пять препятствий',\n",
       " 'Розыгрыш',\n",
       " 'Сокровище Амазонки',\n",
       " 'Сахара /По роману Клайва Касслера/',\n",
       " 'Сбежавшая невеста',\n",
       " 'Свадебный переполох',\n",
       " 'Сердцеедки',\n",
       " 'Свадьба с приданым',\n",
       " 'Сережа',\n",
       " 'Сверстницы',\n",
       " 'Сомнение /По одноименной пьесе Джона Патрика Шэнли/',\n",
       " 'Скрытая угроза',\n",
       " 'Скрытое',\n",
       " 'Сириана',\n",
       " 'Сорок первый',\n",
       " 'Собачья жара',\n",
       " 'Табор уходит в небо',\n",
       " 'Сто дней после детства',\n",
       " 'Стачка',\n",
       " 'Стертая реальность',\n",
       " 'Старомодная комедия',\n",
       " 'Старшая сестра',\n",
       " 'Тайна \"Черных дроздов\"',\n",
       " 'Суини Тодд, демон-парикмахер с Флит-стрит',\n",
       " 'Твин Пикс: Сквозь огонь',\n",
       " 'Тридцать три',\n",
       " 'Ты - мне, я - тебе',\n",
       " 'Тринадцать друзей Оушена',\n",
       " 'Тринадцать привидений',\n",
       " 'Тегеран-43',\n",
       " 'Три Икса',\n",
       " 'Темнота наступает',\n",
       " 'У опасной черты',\n",
       " 'Ультиматум Борна /По одноименному роману Роберта Ладлэма/',\n",
       " 'Учитель танцев',\n",
       " 'Успех',\n",
       " 'Хроники Нарнии: Лев, колдунья и волшебный шкаф /По произведению Клайва Стейплза Льюиса/',\n",
       " 'Фара',\n",
       " 'Хроники Хуаду: лезвие розы',\n",
       " 'Цареубийца',\n",
       " 'Человек, который любит',\n",
       " 'Хеллбой 2: Золотая армия /По мотивам комикса Майка Миньолы и компании \"Дарк Хорз\"/',\n",
       " 'Хеллбой: Герой из пекла',\n",
       " 'Хуже не бывает',\n",
       " 'Человек ниоткуда',\n",
       " 'Человек родился',\n",
       " 'Халк',\n",
       " 'Фанфан-Тюльпан.',\n",
       " 'Шоссе в никуда',\n",
       " 'Через Вселенную',\n",
       " 'Хозяин тайги.',\n",
       " 'Шальные деньги',\n",
       " 'Частная жизнь_',\n",
       " 'Эквилибриум',\n",
       " 'Чистое небо',\n",
       " 'Шестой день',\n",
       " 'Шумный день',\n",
       " 'Призраки бывших подружек',\n",
       " 'Безумцы',\n",
       " 'Я знаю, что вы сделали прошлым летом',\n",
       " 'Эскадрилья \"Лафайет\"',\n",
       " 'Другой мужчина',\n",
       " 'Каникулы строгого режима',\n",
       " 'Гарри Поттер и Принц-полукровка /По роману Дж.К.Ролинг/',\n",
       " 'Робин Гуд (Robin Hood)',\n",
       " 'Не брать живым /По книге Раджива Чандрасекарана/',\n",
       " 'Казнены на рассвете...',\n",
       " 'Красавчик-2',\n",
       " 'Неудержимые.',\n",
       " 'Однажды в Версале',\n",
       " 'Повелитель бури',\n",
       " 'Братц',\n",
       " 'Кольцо из Амстердама',\n",
       " 'Испытание верности',\n",
       " 'Идеальный муж',\n",
       " 'Мимино',\n",
       " 'День ангела_',\n",
       " 'Волшебное приключение',\n",
       " 'Время отдыха с субботы до понедельника',\n",
       " 'Дело Артамоновых',\n",
       " 'Эффект бабочки 3',\n",
       " 'Агент 117: Миссия в Рио',\n",
       " 'Дорога /По новелле Кормака МкКарфи/',\n",
       " 'Тетро',\n",
       " 'Пятая заповедь',\n",
       " 'Ехали в трамвае Ильф и Петров',\n",
       " 'Мертвые души.',\n",
       " 'Акция',\n",
       " 'Мой младший брат',\n",
       " 'Много шума из ничего',\n",
       " 'Странная женщина',\n",
       " 'Тревожное воскресенье',\n",
       " 'Родня',\n",
       " 'Револьвер',\n",
       " 'Сумерки. Сага. Новолуние /По произведению Стефани Майер/',\n",
       " 'Заноза',\n",
       " 'Таймер',\n",
       " 'Гарри Поттер и Дары Смерти - Часть 1/По роману Дж.К.Ролинг/',\n",
       " 'Механик_',\n",
       " 'Отчаянная домохозяйка',\n",
       " 'Телохранитель _',\n",
       " 'Любовь и прочие обстоятельства',\n",
       " 'Серфинг на Таити 3D',\n",
       " 'Телохранители и убийцы',\n",
       " 'Рапунцель: Запутанная история',\n",
       " 'То лето страсти',\n",
       " 'Буря /По одноименной пьесе У.Шекспира/',\n",
       " 'Соблазнитель.',\n",
       " 'Как заняться любовью с женщиной',\n",
       " 'Секс и Дзен 3D: Экстремальный экстаз',\n",
       " 'Дом грёз',\n",
       " 'Приключения Тинтина: Тайна Единорога /По серии комиксов Эрже \"Приключения Тинтина\"/',\n",
       " 'Время.',\n",
       " 'Драйв.',\n",
       " 'Нечто /По произведению Джона Кемпбелла младшего/',\n",
       " 'Красный штат',\n",
       " 'Любовь с риском для жизни',\n",
       " 'Палата',\n",
       " 'Паранормальное явление 3',\n",
       " 'Гарри Поттер и Дары Смерти - Часть 2 /По роману Дж.К.Ролинг/',\n",
       " 'Зеленый фонарь',\n",
       " 'Страшно красив',\n",
       " 'Ариэтти из страны лилипутов',\n",
       " 'Под ветвями боярышника',\n",
       " 'Расплата_',\n",
       " 'Как выйти замуж за миллиардера',\n",
       " 'Агент Джонни Инглиш: Перезагрузка',\n",
       " 'Рожденные на воле 3D',\n",
       " 'Боже, благослови Америку',\n",
       " 'Обезьянки',\n",
       " 'Окно в лето',\n",
       " 'Кассадага',\n",
       " 'Хочу в Голливуд',\n",
       " 'Красавица из трущоб',\n",
       " 'Суперкласико',\n",
       " 'Пьетро Масканьи. Сельская честь /По одноименной новелле Дж.Верги/. Руджеро Леонкавалло. Паяцы. Постановка Teatro ala Scala',\n",
       " 'Опера на льду',\n",
       " 'Папаши без вредных привычек',\n",
       " 'Одержимая',\n",
       " 'Долгий поцелуй на ночь.',\n",
       " 'Президент Линкольн: Охотник на вампиров',\n",
       " 'Моя маленькая принцесса',\n",
       " 'Все любят китов',\n",
       " 'На грани',\n",
       " 'Бессонная ночь',\n",
       " 'Заключенный R',\n",
       " 'Прислуга /По роману Кэтрин Стокетт/',\n",
       " 'Франческо Чилеа. Адриана Лекуврёр /По одноименной пьесе Эжена Скриба и Габриэля Легуве/. Постановка Royal Opera House',\n",
       " 'Тост',\n",
       " 'Рок на века',\n",
       " 'Храбрая сердцем',\n",
       " 'Немножко женаты',\n",
       " 'Леди',\n",
       " 'Опасный метод',\n",
       " 'Искатели могил',\n",
       " 'Сезон ураганов',\n",
       " 'Новый парень для моей девушки',\n",
       " 'Красотка на велике /По мотивам романа Марчело Рубенса Пайвы \"Велосипедистка Малу\"/',\n",
       " 'Какая к черту любовь?',\n",
       " 'Королевство полной луны',\n",
       " \"The Chemical Brothers - Don't Think (Не думай)\",\n",
       " 'Артур Сеймур Салливан. Микадо. Постановка Sydney Opera House',\n",
       " 'Три тенора: Лучано Паваротти, Пласидо Доминго и Хосе Каррерас',\n",
       " 'Белоснежка и охотник',\n",
       " 'Схватка _.',\n",
       " 'Музыка нас связала',\n",
       " 'Лиссабонские тайны /По роману Камилу Каштелу Бранку/',\n",
       " 'Любовь _',\n",
       " '100 миллионов евро',\n",
       " 'Лето. Одноклассники. Любовь',\n",
       " 'Путешествие - 2: Таинственный остров',\n",
       " 'Код доступа \"Кейптаун\"',\n",
       " 'Август. Восьмого',\n",
       " 'Тот еще...!',\n",
       " 'КОКОКО',\n",
       " 'Тор: Легенда викингов 3D',\n",
       " 'Белоснежка: Месть гномов',\n",
       " 'Король Лев',\n",
       " 'Разговор',\n",
       " 'Сделка  .',\n",
       " 'Продавец игрушек',\n",
       " '901 километр',\n",
       " '8 первых свиданий',\n",
       " 'Конвой.',\n",
       " 'Дирижер',\n",
       " 'Джон Картер',\n",
       " 'Тираннозавр',\n",
       " 'Отель \"Мэриголд\". Лучший из экзотических',\n",
       " 'Голодные игры',\n",
       " 'Вождь Разнокожих',\n",
       " 'Выбор киллера',\n",
       " 'Проклятая школа',\n",
       " 'Футбольные гладиаторы',\n",
       " 'Проект Х. Дорвались',\n",
       " 'Рейд-',\n",
       " 'Отважная Лифи',\n",
       " 'Папаши 2',\n",
       " 'Уличные танцы 2',\n",
       " 'Закон доблести',\n",
       " 'Свидание',\n",
       " 'Матч',\n",
       " 'Диктатор',\n",
       " 'Отряд особого назначения.',\n",
       " 'Космическая станция 3D.',\n",
       " 'На глубине морской 3D',\n",
       " 'Джакомо Пуччини. Богема /По произведению Анри Мюрже \"Сцены из жизни богемы\"/. Постановка Sydney Opera House',\n",
       " 'Гаэтано Доницетти. Лукреция Борджиа 3D /По одноименной пьесе Виктора Гюго/. Постановка Ennglish National Opera',\n",
       " 'U2 3D.',\n",
       " 'Ворон-',\n",
       " 'Вспоминая моих печальных шлюх /По роману Габриэля Гарсиа Маркеса/',\n",
       " 'Учитель на замену',\n",
       " 'Любовь живет три года /По роману Фредерика Бегбедера/',\n",
       " 'Эмили Жоли',\n",
       " 'Гаэтано Доницетти. Анна Болейн /По пьесам Ипполито Пондемонто \"Генрих VIII, или Анна Болейн\" и Алессандро Пеполи \"Анна Болейн\"/. Постановка Wiener Staatsoper',\n",
       " 'Джузеппе Верди. Макбет /По одноименной пьесе Шекспира/. Постановка Royal Opera House',\n",
       " 'Мадагаскар 3',\n",
       " 'Кафе де Флор',\n",
       " 'Крылатые монстры 3D',\n",
       " 'Ржевский против Наполеона',\n",
       " 'Ночь в супермаркете',\n",
       " 'Транзит-',\n",
       " 'Zолушка',\n",
       " 'Хроника',\n",
       " 'Пять звезд',\n",
       " 'В доме отца',\n",
       " 'Охотник /По одноименному роману Джулии Ли/',\n",
       " 'Тарбозавр 3D',\n",
       " 'Кориолан',\n",
       " 'МЫ. Верим в любовь',\n",
       " 'Орда',\n",
       " 'Похождения бравого солдата Швейка',\n",
       " 'Дон-Жуан де Марко.',\n",
       " 'Нокаут _',\n",
       " 'Черное золото',\n",
       " 'Схватка _',\n",
       " 'Чудеса океана 3D.',\n",
       " 'Мартовские иды /По пьесе Бо Уиллимона/',\n",
       " 'Веселые каникулы',\n",
       " 'Осторожно, Любовь! (S.O.S Love! - The Million Dollar Contract)',\n",
       " 'Железная леди',\n",
       " 'Титаник в 3D',\n",
       " 'Вольфганг Амадей Моцарт. Волшебная флейта. Постановка Teatro alla Scala',\n",
       " 'Потерпевший',\n",
       " 'Мальчик с велосипедом',\n",
       " 'В краю крови и меда',\n",
       " 'Король Лев.',\n",
       " 'Киногамма. Часть 1: Восток',\n",
       " 'Киногамма. Часть 2: Дальний Восток',\n",
       " 'Тайны старого отеля',\n",
       " 'Морской бой.',\n",
       " 'Маппеты',\n",
       " 'Мачо и ботан',\n",
       " 'Алоис Небель и его призраки',\n",
       " 'Невидимая',\n",
       " '1+1',\n",
       " 'Мрачные тени',\n",
       " 'Счастливчик _',\n",
       " 'Укрытие.',\n",
       " 'Где-то сегодня ночью',\n",
       " 'Напролом-',\n",
       " 'Берсерк: Золотой век. Фильм I: бехерит Властителя',\n",
       " 'Ася_',\n",
       " 'Банкомат',\n",
       " 'Гамер',\n",
       " 'Обитель зла.',\n",
       " 'Люди в черном 3 /По комиксу Лоуэлла Каннингема/',\n",
       " 'Прометей.',\n",
       " 'Чего ждать, когда ждешь ребенка',\n",
       " 'В окружении',\n",
       " 'Мгновения любви_',\n",
       " 'Секса много не бывает',\n",
       " 'Че: Часть первая. Аргентинец',\n",
       " 'Че: Часть вторая. Партизан',\n",
       " 'Пазл любви',\n",
       " 'Материк',\n",
       " 'Бомж с дробовиком',\n",
       " 'Играй до смерти',\n",
       " 'Смерть супергероя /По роману Энтони МакКартена/',\n",
       " 'Последнее завещание Нобеля',\n",
       " 'Между',\n",
       " 'Том Сойер /По мотивам произведений М.Твена/',\n",
       " 'Защитник (Safe)',\n",
       " 'Экстрасенс_',\n",
       " 'Финишная прямая',\n",
       " 'Сначала любовь, потом свадьба',\n",
       " 'Игра--',\n",
       " 'Запах вереска',\n",
       " 'Откровения_',\n",
       " 'Искупление .',\n",
       " 'Шпион, выйди вон! /По мотивам романа Джона Ле Карре/',\n",
       " 'Сумерки. Сага: Рассвет - Часть 1 /По произведению Стефани Майер/',\n",
       " 'Игра на выживание.',\n",
       " 'Лоракс /По одноименной книге доктора Сьюсса (Теодора Гейзеля)/',\n",
       " 'Клятва _',\n",
       " 'Мамы',\n",
       " 'Старинные часы',\n",
       " 'Грабитель',\n",
       " 'Золото_',\n",
       " 'Потомки',\n",
       " 'Мачан (Дружбаны)',\n",
       " 'Вышибала.',\n",
       " 'Поморы',\n",
       " 'Мистер Ганджубас',\n",
       " 'Как украсть небоскреб',\n",
       " 'Духless',\n",
       " 'Неоконченный роман /По роману Филиппа Джиана/',\n",
       " 'Женщина в черном /По роману Сьюзан Хилл/',\n",
       " 'Мужчины в большом городе - 2',\n",
       " 'Кайли Миноуг - Афродита 3D (Kylie 3D - Aphrodite Les Folies)',\n",
       " 'Однажды в Ирландии',\n",
       " 'Маттиола пахнет духами',\n",
       " 'Значит, война',\n",
       " 'Марта, Марси, Мэй, Марлен',\n",
       " 'Цирк \"Колумбия\" /По одноименному роману И.Джикича/',\n",
       " 'Американский пирог: Все в сборе',\n",
       " 'Дети сексу не помеха',\n",
       " 'Милый друг /По роману Ги де Мопассана/',\n",
       " 'Стыд-',\n",
       " 'Звёздные войны. Эпизод 1: Скрытая угроза 3D',\n",
       " 'Мне бы в небо.',\n",
       " 'Белый Тигр',\n",
       " 'Артист.',\n",
       " 'Гнев титанов',\n",
       " 'Ловушка для невесты',\n",
       " 'Искусство любить.',\n",
       " 'Три дня с придурком',\n",
       " 'Неприкасаемые.',\n",
       " 'Бедная богатая девочка',\n",
       " 'Призрачный гонщик 2 в 3 D',\n",
       " '7 дней и ночей с Мэрилин',\n",
       " 'Контрабанда.',\n",
       " 'Сфера колдовства',\n",
       " 'Ева: Искусственный разум',\n",
       " 'Хижина в лесу',\n",
       " 'Такие разные близнецы',\n",
       " 'Нью-йоркская куколка',\n",
       " 'Скотт Уокер: Человек ХХХ столетия',\n",
       " 'Джок',\n",
       " 'Свадебный разгром',\n",
       " 'Дж.Эдгар',\n",
       " 'Охотники за головами',\n",
       " 'Мстители_',\n",
       " 'Пираты: Банда неудачников',\n",
       " 'Право на \"лево\"',\n",
       " 'Заклинательница акул',\n",
       " 'То, что ее заводит /По роману Олага Нильссена/',\n",
       " 'Я устал от тебя',\n",
       " 'Рыба моей мечты',\n",
       " 'Няньки_',\n",
       " 'Очень опасная штучка',\n",
       " 'Игры киллеров',\n",
       " 'Мастер (The Master)',\n",
       " 'Любовь по-взрослому',\n",
       " 'Метеора',\n",
       " 'Джекпот',\n",
       " 'Сумерки. Сага: Рассвет - Часть 2 /По произведению Стефани Майер/',\n",
       " 'Грязная кампания за честные выборы',\n",
       " 'Помогите стать отцом',\n",
       " 'Приключения Гекльберри Финна /По мотивам произведений М.Твена/',\n",
       " 'Риф',\n",
       " 'В первый раз.',\n",
       " 'Нет',\n",
       " 'Рай: Вера',\n",
       " 'Измеряя мир',\n",
       " 'Покажи мне любовь.',\n",
       " 'Беспредел (Outrage; Autoreiji)',\n",
       " 'Месть: История любви',\n",
       " 'Дочь',\n",
       " 'Последняя искра жизни',\n",
       " 'Обнаженные чувства',\n",
       " 'Приключения итальянцев в Марокко',\n",
       " 'Ай Вэйвэй: Никогда не извиняйся',\n",
       " 'Студенческий отряд',\n",
       " 'Потерпевший.',\n",
       " 'Любовь за стеной',\n",
       " 'Оз: Великий и ужасный /По произведению Л.Фрэнка Баума/',\n",
       " 'Квартет /По пьесе Рональда Харвуда/',\n",
       " 'Джентльмены, удачи!',\n",
       " 'Толстяк на ринге',\n",
       " 'Красавица и чудовище (Beauty and the Beast)',\n",
       " 'Эффект колибри',\n",
       " 'Эпик /По произведению Уильяма Джойса/',\n",
       " 'Я очень возбужден',\n",
       " 'Доля ангелов',\n",
       " 'Корпорация \"Святые моторы\"',\n",
       " 'Последнее изгнание дьявола: Второе пришествие',\n",
       " 'Таймлесс. Рубиновая книга /По роману Керстин Гир/',\n",
       " 'Эдвард руки-ножницы /По рассказу Тима Бертона/',\n",
       " 'Cirque du Soleil: Сказочный мир в 3D',\n",
       " 'Хоббит: Нежданное путешествие /По произведению Джона Рональда Руэла Толкина \"Хоббит, или Туда и обратно\"/',\n",
       " 'Совсем не простая история',\n",
       " 'Пацаны.',\n",
       " 'Твоя рука в моей руке',\n",
       " 'Пленница. Побег',\n",
       " 'Отвязные каникулы.',\n",
       " 'Улыбайся',\n",
       " 'Полный беспредел.',\n",
       " 'Paul McCartney. Rockshow',\n",
       " 'Умберто Джордано. Андре Шенье. Постановка фестиваля в Брегенце',\n",
       " 'Луи-Джозеф-Фердинанд Герольд. Тщетная предостороженность. Постановка Royal Opera House',\n",
       " '1812: Уланская баллада',\n",
       " 'Паранормальное явление 4',\n",
       " 'На дороге /По роману Джека Керуака \"В дороге\"/',\n",
       " 'Петля времени',\n",
       " 'Детский юмористический киножурнал \"Ералаш\", выпуски 258 - 263',\n",
       " 'Адский бункер: Черное Солнце',\n",
       " 'После Люсии',\n",
       " 'Облачный атлас /По одноименному роману Дэвида Митчелла/',\n",
       " '21 и больше (в переводе Гоблина)',\n",
       " 'Киллер Джо /По пьесе Трэйси Леттс/',\n",
       " 'Форсаж 6',\n",
       " 'Обливион',\n",
       " 'Поймай толстуху, если сможешь',\n",
       " 'Гамбит_',\n",
       " 'Неуловимые',\n",
       " 'Отверженные /По одноименному произведению Виктора Гюго/',\n",
       " 'Кукольный дом_',\n",
       " 'Вспоминая 1942',\n",
       " 'Груффало /По мотивам книги Джулии Дональдсон и Алекса Шеффлера/',\n",
       " 'Берсерк: Золотой век. Фильм III: Сошествие',\n",
       " 'Распутин.',\n",
       " 'Семь психопатов',\n",
       " 'Голая бухта',\n",
       " 'Я буду рядом.',\n",
       " 'Queen. Live in Budapest 1986',\n",
       " 'Джузеппе Верди. Травиата /По мотивам романа \"Дама с камелиями\" А.Дюма-сына/. Постановка театра Арена ди Верона, лето 2011',\n",
       " 'Самый страшный фильм 3D',\n",
       " 'За Маркса',\n",
       " 'Охота .',\n",
       " 'Гостья /По произведению Стефани Майер/',\n",
       " 'Падение Олимпа',\n",
       " 'Зловещие мертвецы',\n",
       " 'Энималс',\n",
       " 'Вишенка на новогоднем торте',\n",
       " 'Рихард Штраус. Кавалер розы. Постановка Флорентийского оперного фестиваля',\n",
       " 'Три звезды. Концерт в Waldbuhne Theater, Берлин. Анна Нетребко. Йонес Кауфман. Эрвин Шрот.',\n",
       " 'Петр Ильич Чайковский. Щелкунчик /По мотивам сказки Э.Т.А.Гофмана \"Щелкунчик и мышиный король\" в переложении Александра Дюма-отца/. Постановка Royal Opera House',\n",
       " 'Петр Ильич Чайковский. Щелкунчик 3D /По мотивам сказки Э.Т.А.Гофмана \"Щелкунчик и мышиный король\" в переложении Александра Дюма-отца/. Постановка Мариинского театра',\n",
       " 'Пустой дом.',\n",
       " 'Сексуальные хроники французской семьи',\n",
       " 'Стив Джобс. Потерянное интервью',\n",
       " 'Сейчас самое время',\n",
       " 'Сайлент Хилл 2 3D (Сайлент Хилл 2)',\n",
       " 'В другой стране',\n",
       " 'Пока ночь не разлучит',\n",
       " 'Больше, чем любовь_',\n",
       " 'Хуан - истребитель кубинских зомби',\n",
       " 'Проект \"Динозавр\" /По рассказу Тома Придхэма и Сида Беннетта/',\n",
       " '10 лет спустя',\n",
       " '10 лет спустя.',\n",
       " 'Солдаты Удачи',\n",
       " 'Неудержимые 2',\n",
       " 'Грэбберсы',\n",
       " 'Примечание',\n",
       " 'Табу_',\n",
       " 'Барбара.',\n",
       " 'Уже не дети',\n",
       " 'Все свободны',\n",
       " 'Что творят мужчины',\n",
       " 'Побег с планеты Земля 3D',\n",
       " '21 и больше',\n",
       " 'Ведьма войны',\n",
       " 'Суперстар.',\n",
       " 'Секс и ничего лишнего',\n",
       " 'Никто не выживет',\n",
       " 'Магазин самоубийств',\n",
       " 'Любовь на кончиках пальцев',\n",
       " 'Легенда о Каспаре Хаузере',\n",
       " 'Возвращение Буратино 3D',\n",
       " 'Паранормальный Якутск',\n",
       " 'Синистер',\n",
       " 'Параллельные миры.',\n",
       " 'Боже, храни мой каблук',\n",
       " 'Самая одинокая планета /По рассказу Тома Бисселла/',\n",
       " 'Дом в конце улицы',\n",
       " 'Праздник взаперти',\n",
       " 'От винта!',\n",
       " 'Гавана, я люблю тебя',\n",
       " 'ВРОНГ',\n",
       " 'Любит/Не любит',\n",
       " 'Блокбастер 3D',\n",
       " 'Афганский алфавит',\n",
       " 'Кубатон',\n",
       " 'Агитатор',\n",
       " 'Я нормально супер гуд /По сборнику рассказов Владимира Каминера \"Русская дискотека\"/',\n",
       " 'Эксперимент \"Повиновение\"',\n",
       " 'Весенние надежды',\n",
       " 'Дом терпимости',\n",
       " 'Бобби Фишер против всего мира',\n",
       " 'Цветы войны /По мотивам романа Джелин Ян \"Тринадцать цветов войны\"/',\n",
       " 'Атлантида: Затерянный мир',\n",
       " 'Геркулес (Hercules)',\n",
       " 'G.I.Joe: Бросок кобры 2',\n",
       " 'Кровавый Санта',\n",
       " 'Отель \"Люкс\"',\n",
       " 'РэПэПэ (Режим Полного Погружения)',\n",
       " 'Охотники на гангстеров /По мотивам одноименной книги Пола Либермана/',\n",
       " 'Мама (Mama)',\n",
       " 'Харакири 3D',\n",
       " 'Ледниковый период 4: Континентальный дрейф',\n",
       " 'Джунгли зовут! В поисках Марсупилами',\n",
       " 'Одним меньше',\n",
       " '\"Море\"',\n",
       " 'Мёбиус',\n",
       " 'Кон-Тики',\n",
       " 'Джакомо Пуччини. Тоска /По одноименной драме Викторьена Сарду/. Постановка Royal Opera House',\n",
       " 'Лео Делиб. Лакме /По роману Пьера Лоти \"Рараю или Женитьба Лоти\"/. Постановка Sydney Opera House',\n",
       " 'Гавр',\n",
       " 'Новый человек-паук',\n",
       " 'Частное пионерское',\n",
       " 'После мрака свет',\n",
       " 'Добро пожаловать в капкан',\n",
       " 'Легенда № 17',\n",
       " 'Транс.',\n",
       " 'Вспомнить все /По произведению Ф.Дика/',\n",
       " 'Счастливчики 60-х',\n",
       " 'Blood-C: Последний темный',\n",
       " 'Банда Ольсена: рок-звезды зажигают',\n",
       " 'Линкольн /По книге Дорис Кернс Гудвин/',\n",
       " 'Судья Дредд 3D',\n",
       " 'Экспат',\n",
       " 'Кольцо',\n",
       " 'Недетские танцы',\n",
       " 'Я, Алекс Кросс /По книге Джеймса Паттерсона/',\n",
       " 'Ку! Кин-дза-дза',\n",
       " 'Самсара',\n",
       " \"The Doors - Live At the Bowl'68. Концерт\",\n",
       " 'Джузеппе Верди. Аида 3D. Постановка театра Арена, Верона',\n",
       " 'Джузеппе Верди. Луиза Миллер /По пьесе Фридриха Шиллера \"Коварство и любовь\"/. Постановка театра Реджио, Парма',\n",
       " 'Шкатулка проклятия',\n",
       " 'Дорога_',\n",
       " 'Стальная бабочка',\n",
       " 'ЗЛО',\n",
       " 'Особо опасны',\n",
       " 'Родительский беспредел',\n",
       " 'Прощай, Катя',\n",
       " 'Большие надежды /По роману Чарльза Диккенса/',\n",
       " 'Давай, до свидания!',\n",
       " 'Парад',\n",
       " 'Ограбление казино /По произведению Джорджа В.Хиггинса/',\n",
       " 'Все просто',\n",
       " 'Президент и бомж',\n",
       " 'Неудержимый',\n",
       " 'ОХОТА НА ПРИНЦЕССУ. Часть 2',\n",
       " 'Долгая счастливая жизнь.',\n",
       " 'Арктика 3D',\n",
       " 'КУТА (Трясина)',\n",
       " 'Экипаж.',\n",
       " 'Жизнь.',\n",
       " 'Побочный эффект.',\n",
       " 'Тревожный вызов',\n",
       " 'Фортуна Вегаса',\n",
       " 'Миллион для чайников',\n",
       " 'Пустошь.',\n",
       " 'Гадкий Я 2',\n",
       " 'Фэтбой Слим Лайв',\n",
       " 'Заложница 2',\n",
       " 'Их первая ночь',\n",
       " 'Папаша',\n",
       " 'Берсерк: Золотой век. Фильм II: Битва за Долдрей',\n",
       " 'Помощники',\n",
       " 'Руби Спаркс',\n",
       " 'Холостячки',\n",
       " 'Прощай, моя королева! /По одноименному роману Шанталь Тома/',\n",
       " 'Гладиаторы Рима',\n",
       " 'Привет, мне пора',\n",
       " 'Гайд-парк на Гудзоне',\n",
       " 'Модест Петрович Мусоргский. Борис Годунов /По мотивам одноименного произведения А.С.Пушкина/. Постановка Театра Regio, Турин',\n",
       " 'Led Zeppelin. Celebration Day',\n",
       " 'Сергей Сергеевич Прокофьев. Ромео и Джульетта /По одноименной пьесе Уильяма Шекспира/. Постановка Royal Opera House, Ковент-Гарден',\n",
       " 'В тумане /По одноименной повести Василя Быкова/',\n",
       " 'Сломленные',\n",
       " 'Случайный доступ. Версия 1 3D',\n",
       " 'Танец Дели',\n",
       " 'Железный человек 3',\n",
       " 'Девушка и смерть',\n",
       " 'Гольциус и Пеликанья компания',\n",
       " 'Приключения Маши в Стране чудес',\n",
       " 'Киногид извращенца: Идеология',\n",
       " 'Стартрек: Возмездие',\n",
       " 'Людвиг Баварский',\n",
       " 'Работодатель',\n",
       " 'Стукач .',\n",
       " 'Тихая гавань',\n",
       " 'Кусочки льда',\n",
       " 'Группа 7 /По рассказу Альберто Родригеса/',\n",
       " 'Болт и Блип спешат на помощь',\n",
       " 'Джунгли .',\n",
       " 'Письмо для Момо',\n",
       " 'Летние войны',\n",
       " 'Волчьи дети Амэ и Юки',\n",
       " 'Буквоежка',\n",
       " 'Волшебная страна.',\n",
       " 'Тачка №19',\n",
       " 'Ариран',\n",
       " 'Пьета',\n",
       " 'Снято!',\n",
       " 'Феи: Тайна зимнего леса.',\n",
       " 'Топ Кэт',\n",
       " 'Бульвар страха',\n",
       " 'Ложь во спасение.',\n",
       " 'Только представь!',\n",
       " 'Великий Гэтсби /По одноименному роману Фрэнсиса Скотта Фицджеральда/',\n",
       " 'Большая свадьба',\n",
       " 'Пентхаус с видом на Север',\n",
       " 'Призраки в Коннектикуте 2: Тени прошлого',\n",
       " 'Большой Лебовски.',\n",
       " 'Автобиография лжеца 3D',\n",
       " 'Что-то в воздухе',\n",
       " 'Невидимый мир',\n",
       " 'Обезьяна.',\n",
       " 'Место под соснами',\n",
       " 'Власть убеждений',\n",
       " 'ПЕЛЬМЕНИ',\n",
       " 'ОДНОКЛАССНИКИ.RU: HACLICKAЙ УДАЧУ',\n",
       " 'Крутые кексы',\n",
       " 'Клиника любви',\n",
       " 'Мрачные небеса',\n",
       " 'Вся в меня',\n",
       " 'Умопомрачительные фантазии Чарльза Свона-третьего',\n",
       " 'Печать царя Соломона',\n",
       " 'Гагарин. Первый в космосе',\n",
       " 'Очень страшное кино 5',\n",
       " 'Огонь Кристиана Лубутена 3D',\n",
       " 'Идеальный голос /По произведению Мики Рэпкина/',\n",
       " 'Петр Ильич Чайковский. Спящая красавица /По одноименной сказке Шарля Перро/. Постановка Royal Opera House',\n",
       " 'Джакомо Пуччини. Мадам Баттерфляй /По мотивам драмы Дэвида Беласко \"Гейша\"/. Постановка Фестиваля Пуччини-2012 в Торре дель Лаго',\n",
       " 'На грани сомнения',\n",
       " 'Даю год',\n",
       " 'Как приручить медведя.',\n",
       " 'Гарегин Нжде',\n",
       " '(Не)жданный принц',\n",
       " 'Репортаж со свадьбы',\n",
       " 'Мальчишник - Часть III',\n",
       " 'После любви.',\n",
       " 'Атака на Перл-Харбор',\n",
       " 'Пушки, телки и азарт',\n",
       " 'Штиль',\n",
       " 'Маньяк_',\n",
       " 'Переполох на районе',\n",
       " 'Судная ночь',\n",
       " 'Слежка_',\n",
       " 'Повелители Салема',\n",
       " 'Братва из джунглей',\n",
       " 'Клин клином',\n",
       " 'Последний звонок (Last Call; Per Exhibit A1-A3)',\n",
       " 'В белом плену',\n",
       " 'Призрачный патруль /По мотивам одноименного комикса Питера М.Ленкова/',\n",
       " 'Не входить, мы не одеты!',\n",
       " 'После нашей эры',\n",
       " 'И все же Лоранс',\n",
       " 'К чуду',\n",
       " 'Великий мастер',\n",
       " 'Страх и ненависть в Лас-Вегасе /По роману Хантера С.Томпсона/.',\n",
       " 'Эрнест и Селестина: Приключения мышки и медведя',\n",
       " 'Разрешите вас прикончить?',\n",
       " 'Роль',\n",
       " 'Детский юмористический киножурнал \"Ералаш\", выпуски 264 - 269',\n",
       " 'ТотКтоПрошелСквозьОгонь',\n",
       " 'Дружинники',\n",
       " 'Ищу друга на конец света',\n",
       " 'Вольфганг Амадей Моцарт. Дон Жуан, или Наказанный развратник. Постановка Teatro alla Scala',\n",
       " 'Последний риф 3D',\n",
       " 'Мисима. Финальная глава',\n",
       " 'Экстази /По одноименному произведению Ирвина Уэлша/',\n",
       " 'О чем говорят французские мужчины',\n",
       " 'Слова',\n",
       " 'Коллекционер 2',\n",
       " 'Тэд и Затерянный город 3D',\n",
       " 'Большая Ржака',\n",
       " 'Укрытие_',\n",
       " 'Эволюция Борна',\n",
       " 'Явление.',\n",
       " 'Энтропия.',\n",
       " 'Хороший доктор',\n",
       " 'Чувственная математика',\n",
       " 'Монстры на острове',\n",
       " 'Суши Гёл',\n",
       " 'На волне',\n",
       " 'Измена .',\n",
       " 'Пираньи 3DD',\n",
       " 'Бригада. Наследник',\n",
       " 'Любовный переплет',\n",
       " 'Медальон.',\n",
       " 'Боб Марли',\n",
       " 'Патруль.',\n",
       " 'Короли рулетки',\n",
       " 'Присутствие великолепия',\n",
       " 'Джакомо Пуччини. Турандот /По одноименной пьесе К.Гоцци/. Постановка Sydney Opera House',\n",
       " 'Жюль Массне. Манон /По мотивам романа Антуана Франсуа Прево \"История кавалера де Гриё и Манон Леско/. Постановка Немецкой государственной оперы',\n",
       " 'Папа - досвидос',\n",
       " 'Нико 2',\n",
       " 'МУВИ 43 / MOVIE 43',\n",
       " 'Песочный человек',\n",
       " 'Влюбленные_',\n",
       " 'Апартаменты 1303 3D',\n",
       " 'Три богатыря на дальних берегах',\n",
       " 'Пришелец из космоса_',\n",
       " 'Римские приключения',\n",
       " 'Ты и я /По роману Никколо Амманити/',\n",
       " 'Криминальное чтиво /По рассказу Квентина Тарантино и Роджера Эвери/',\n",
       " 'Ромео + Джульетта /По одноименной пьесе У.Шекспира/',\n",
       " 'Красные огни',\n",
       " 'Третий лишний _',\n",
       " 'Агент Джонни Инглиш 2: Перезагрузка',\n",
       " 'Кот в сапогах  _',\n",
       " '4:44. Последний день на Земле',\n",
       " 'Хорошо быть тихоней',\n",
       " 'Снежная Королева',\n",
       " 'Черный дрозд',\n",
       " 'Мой парень - псих! История оптимиста',\n",
       " 'Сироп',\n",
       " 'Бункер_',\n",
       " 'Клуб безбашенных',\n",
       " 'Три метра над уровнем неба. Я тебя хочу',\n",
       " 'Встречный ветер /По одноименному роману Оливье Адама/',\n",
       " 'Звери дикого юга',\n",
       " 'Сафари 3D.',\n",
       " 'сНежное шоу',\n",
       " 'Железное небо',\n",
       " 'Небесные жены луговых мари',\n",
       " 'Крошка Молли',\n",
       " 'Жизнь Пи /По произведению Янна Мартела/',\n",
       " 'Ржавчина и кость',\n",
       " 'Хватай и беги.',\n",
       " 'Марко Макако',\n",
       " 'Жена художника /По книге Анастасии Арнольд \"Страсть Мари\"/',\n",
       " 'Запретная зона.',\n",
       " 'Космополис',\n",
       " 'Приходи, как есть',\n",
       " 'Супер Майк',\n",
       " 'Шаг вперед 4',\n",
       " 'Замечательная жизнь',\n",
       " 'Проклятье 3D',\n",
       " 'В доме',\n",
       " ...]"
      ]
     },
     "execution_count": 9,
     "metadata": {},
     "output_type": "execute_result"
    }
   ],
   "source": [
    "# рассчитаем количество оставшихся данных после удаления дубликатов\n",
    "# percent_saved_data = 6772 / 7486 * 100\n",
    "# выведем значение на экран\n",
    "# round(percent_saved_data, 2)\n",
    "\n",
    "# выведем уникальные значения фильмов\n",
    "list(data['title'].unique())"
   ]
  },
  {
   "cell_type": "markdown",
   "metadata": {},
   "source": [
    "##### Вывод\n",
    "На данном шаге нашел дубликаты в названиях фильмов, это связано с тем что на одну картину могло быть выдано несколько прокатных удостоверенеий. Однако при удалении дубликатов теряется значительная часть данных о фильмах с государственной поддержкой (более 10%), хотя вся таблица теряет 9,5%. Поэтому на данном шаге оставил все без изменений.\n",
    "\n",
    "При рассмотрении списка уникальных названий картин, неявных дублей не выявлено. Попадались значения с полностью одинаковым названием фильмов, но отличались лишь приставкой `3D`, а так как это разные кассовые сборы присвоенные уникальным значениям прокатных удостоверений, то правильно будет оставить данные на этом шаге без изменений."
   ]
  },
  {
   "cell_type": "markdown",
   "metadata": {
    "id": "52fOPrEBgFyQ"
   },
   "source": [
    "#### Шаг 2.4. Изучите категориальные значения\n",
    "\n",
    "- Посмотрите, какая общая проблема встречается почти во всех категориальных столбцах;\n",
    "- Исправьте проблемные значения в поле `type`.\n",
    "\n",
    "<div id=\"accordion\">\n",
    "    <div class=\"card\">\n",
    "        <div class=\"card-header\" id=\"headingThree\">\n",
    "            <button class=\"btn btn-link collapsed\" data-toggle=\"collapse\" data-target=\"#collapseHint_1\" aria-expanded=\"false\" aria-controls=\"collapseHint_1\">Подсказка</button>\n",
    "        </div>\n",
    "        <div id=\"collapseHint_1\" class=\"collapse\" aria-labelledby=\"headingThree\" data-parent=\"#accordion\">\n",
    "            <div class=\"card-body\">\n",
    "В поле <code>type</code> есть несколько значений, у которых появился пробел в начале строки. Самый простой способ их «починить» -- использовать метод <a href=\"https://pandas.pydata.org/docs/reference/api/pandas.Series.str.strip.html#pandas.Series.str.strip\">.str.strip</a>. Этот метод удаляет все пробелы, которые встречаются в начале и в конце строки. Применяют его таким образом:<br>\n",
    "<code>df['type'].str.strip()</code>\n",
    "            </div>\n",
    "        </div>\n",
    "    </div>\n",
    "</div>"
   ]
  },
  {
   "cell_type": "code",
   "execution_count": 10,
   "metadata": {
    "id": "PnXKIVdFgFyR"
   },
   "outputs": [
    {
     "data": {
      "text/plain": [
       "0           Кевин Костнер\n",
       "1               Е.Матвеев\n",
       "2       Тимур Бекмамбетов\n",
       "3       Тимур Бекмамбетов\n",
       "4       Тимур Бекмамбетов\n",
       "              ...        \n",
       "7481          Фил Грабски\n",
       "7482           Ник Пауэлл\n",
       "7483     Чарльз Е.Бастьен\n",
       "7484             А.Беляев\n",
       "7485             И.Трусов\n",
       "Name: director, Length: 7486, dtype: object"
      ]
     },
     "execution_count": 10,
     "metadata": {},
     "output_type": "execute_result"
    }
   ],
   "source": [
    "# получение данных из столбца с имененм режиссера\n",
    "data['director']"
   ]
  },
  {
   "cell_type": "code",
   "execution_count": 11,
   "metadata": {},
   "outputs": [
    {
     "data": {
      "text/html": [
       "<div>\n",
       "<style scoped>\n",
       "    .dataframe tbody tr th:only-of-type {\n",
       "        vertical-align: middle;\n",
       "    }\n",
       "\n",
       "    .dataframe tbody tr th {\n",
       "        vertical-align: top;\n",
       "    }\n",
       "\n",
       "    .dataframe thead th {\n",
       "        text-align: right;\n",
       "    }\n",
       "</style>\n",
       "<table border=\"1\" class=\"dataframe\">\n",
       "  <thead>\n",
       "    <tr style=\"text-align: right;\">\n",
       "      <th></th>\n",
       "      <th>title</th>\n",
       "      <th>puNumber</th>\n",
       "      <th>show_start_date</th>\n",
       "      <th>type</th>\n",
       "      <th>film_studio</th>\n",
       "      <th>production_country</th>\n",
       "      <th>director</th>\n",
       "      <th>producer</th>\n",
       "      <th>age_restriction</th>\n",
       "      <th>refundable_support</th>\n",
       "      <th>nonrefundable_support</th>\n",
       "      <th>budget</th>\n",
       "      <th>financing_source</th>\n",
       "      <th>ratings</th>\n",
       "      <th>genres</th>\n",
       "      <th>box_office</th>\n",
       "    </tr>\n",
       "  </thead>\n",
       "  <tbody>\n",
       "    <tr>\n",
       "      <th>0</th>\n",
       "      <td>Открытый простор</td>\n",
       "      <td>221048915</td>\n",
       "      <td>2015-11-27 12:00:00+00:00</td>\n",
       "      <td>Художественный</td>\n",
       "      <td>Тачстоун Пикчерз, Кобальт Пикчерз, Бикон Пикче...</td>\n",
       "      <td>США</td>\n",
       "      <td>Кевин Костнер</td>\n",
       "      <td>Дэвид Валдес, Кевин Костнер, Джейк Эбертс</td>\n",
       "      <td>«18+» - запрещено для детей</td>\n",
       "      <td>0</td>\n",
       "      <td>0</td>\n",
       "      <td>0</td>\n",
       "      <td>Неизвестный</td>\n",
       "      <td>7.2</td>\n",
       "      <td>боевик,драма,мелодрама</td>\n",
       "      <td>0</td>\n",
       "    </tr>\n",
       "    <tr>\n",
       "      <th>1</th>\n",
       "      <td>Особо важное задание</td>\n",
       "      <td>111013716</td>\n",
       "      <td>2016-09-13 12:00:00+00:00</td>\n",
       "      <td>Художественный</td>\n",
       "      <td>Киностудия \"Мосфильм\"</td>\n",
       "      <td>СССР</td>\n",
       "      <td>Е.Матвеев</td>\n",
       "      <td>Неизвестный</td>\n",
       "      <td>«6+» - для детей старше 6 лет</td>\n",
       "      <td>0</td>\n",
       "      <td>0</td>\n",
       "      <td>0</td>\n",
       "      <td>Неизвестный</td>\n",
       "      <td>6.6</td>\n",
       "      <td>драма,военный</td>\n",
       "      <td>0</td>\n",
       "    </tr>\n",
       "    <tr>\n",
       "      <th>2</th>\n",
       "      <td>Особо опасен</td>\n",
       "      <td>221038416</td>\n",
       "      <td>2016-10-10 12:00:00+00:00</td>\n",
       "      <td>Художественный</td>\n",
       "      <td>Юниверсал Пикчерз, Кикстарт Продакшнз, Марк Пл...</td>\n",
       "      <td>США</td>\n",
       "      <td>Тимур Бекмамбетов</td>\n",
       "      <td>Джим Лемли, Джейсон Нетер, Марк Е.Платт, Яйн Смит</td>\n",
       "      <td>«18+» - запрещено для детей</td>\n",
       "      <td>0</td>\n",
       "      <td>0</td>\n",
       "      <td>0</td>\n",
       "      <td>Неизвестный</td>\n",
       "      <td>6.8</td>\n",
       "      <td>фантастика,боевик,триллер</td>\n",
       "      <td>0</td>\n",
       "    </tr>\n",
       "  </tbody>\n",
       "</table>\n",
       "</div>"
      ],
      "text/plain": [
       "                  title   puNumber           show_start_date            type  \\\n",
       "0      Открытый простор  221048915 2015-11-27 12:00:00+00:00  Художественный   \n",
       "1  Особо важное задание  111013716 2016-09-13 12:00:00+00:00  Художественный   \n",
       "2          Особо опасен  221038416 2016-10-10 12:00:00+00:00  Художественный   \n",
       "\n",
       "                                         film_studio production_country  \\\n",
       "0  Тачстоун Пикчерз, Кобальт Пикчерз, Бикон Пикче...                США   \n",
       "1                              Киностудия \"Мосфильм\"               СССР   \n",
       "2  Юниверсал Пикчерз, Кикстарт Продакшнз, Марк Пл...                США   \n",
       "\n",
       "            director                                           producer  \\\n",
       "0      Кевин Костнер          Дэвид Валдес, Кевин Костнер, Джейк Эбертс   \n",
       "1          Е.Матвеев                                        Неизвестный   \n",
       "2  Тимур Бекмамбетов  Джим Лемли, Джейсон Нетер, Марк Е.Платт, Яйн Смит   \n",
       "\n",
       "                 age_restriction  refundable_support  nonrefundable_support  \\\n",
       "0    «18+» - запрещено для детей                   0                      0   \n",
       "1  «6+» - для детей старше 6 лет                   0                      0   \n",
       "2    «18+» - запрещено для детей                   0                      0   \n",
       "\n",
       "   budget financing_source  ratings                     genres  box_office  \n",
       "0       0      Неизвестный      7.2     боевик,драма,мелодрама           0  \n",
       "1       0      Неизвестный      6.6              драма,военный           0  \n",
       "2       0      Неизвестный      6.8  фантастика,боевик,триллер           0  "
      ]
     },
     "execution_count": 11,
     "metadata": {},
     "output_type": "execute_result"
    }
   ],
   "source": [
    "# применение метода str.strip\n",
    "data['title'].str.strip()\n",
    "data['type'].str.strip()\n",
    "data['director'].str.strip()\n",
    "data['producer'].str.strip()\n",
    "data['genres'].str.strip()\n",
    "data['financing_source'].str.strip()\n",
    "data['film_studio'].str.strip()\n",
    "data['production_country'].str.strip()\n",
    "data['age_restriction'].str.strip()\n",
    "# получение первых трех строк\n",
    "data.head(3)"
   ]
  },
  {
   "cell_type": "markdown",
   "metadata": {},
   "source": [
    "##### Вывод\n",
    "Почти во всех столбцах были обнаружены лишние пробелы как перед значениями так и после, поэтому применив метод `str.strip()` данные были очищены от пробелов."
   ]
  },
  {
   "cell_type": "markdown",
   "metadata": {
    "id": "XFSN5lrEgFyR"
   },
   "source": [
    "#### Шаг 2.5. Проверьте количественные значения\n",
    "\n",
    "- Проверьте, обнаружились ли в таких столбцах подозрительные данные. Как с такими данными лучше поступить?\n",
    "\n",
    "<div id=\"accordion\">\n",
    "    <div class=\"card\">\n",
    "        <div class=\"card-header\" id=\"headingThree\">\n",
    "            <button class=\"btn btn-link collapsed\" data-toggle=\"collapse\" data-target=\"#collapseHint_budget\" aria-expanded=\"false\" aria-controls=\"collapseHint_budget\">Подсказка</button>\n",
    "        </div>\n",
    "        <div id=\"collapseHint_budget\" class=\"collapse\" aria-labelledby=\"headingThree\" data-parent=\"#accordion\">\n",
    "            <div class=\"card-body\">\n",
    "Обратите внимание на описание столбца <code>budget</code>. Как этот столбец соотносится с двумя другими: <code>refundable_support</code> и <code>nonrefundable_support</code>?\n",
    "            </div>\n",
    "        </div>\n",
    "    </div>\n",
    "</div>"
   ]
  },
  {
   "cell_type": "code",
   "execution_count": 12,
   "metadata": {},
   "outputs": [
    {
     "data": {
      "text/html": [
       "<div>\n",
       "<style scoped>\n",
       "    .dataframe tbody tr th:only-of-type {\n",
       "        vertical-align: middle;\n",
       "    }\n",
       "\n",
       "    .dataframe tbody tr th {\n",
       "        vertical-align: top;\n",
       "    }\n",
       "\n",
       "    .dataframe thead th {\n",
       "        text-align: right;\n",
       "    }\n",
       "</style>\n",
       "<table border=\"1\" class=\"dataframe\">\n",
       "  <thead>\n",
       "    <tr style=\"text-align: right;\">\n",
       "      <th></th>\n",
       "      <th>title</th>\n",
       "      <th>puNumber</th>\n",
       "      <th>show_start_date</th>\n",
       "      <th>type</th>\n",
       "      <th>film_studio</th>\n",
       "      <th>production_country</th>\n",
       "      <th>director</th>\n",
       "      <th>producer</th>\n",
       "      <th>age_restriction</th>\n",
       "      <th>refundable_support</th>\n",
       "      <th>nonrefundable_support</th>\n",
       "      <th>budget</th>\n",
       "      <th>financing_source</th>\n",
       "      <th>ratings</th>\n",
       "      <th>genres</th>\n",
       "      <th>box_office</th>\n",
       "    </tr>\n",
       "  </thead>\n",
       "  <tbody>\n",
       "    <tr>\n",
       "      <th>2472</th>\n",
       "      <td>Воин (2015)</td>\n",
       "      <td>111017315</td>\n",
       "      <td>2015-09-28 12:00:00+00:00</td>\n",
       "      <td>Художественный</td>\n",
       "      <td>ООО \"Форпост Продакшн\", ООО \"Арт Пикчерс Студия\"</td>\n",
       "      <td>Россия</td>\n",
       "      <td>А.Андрианов</td>\n",
       "      <td>ООО \"Арт Пикчерс Студия\"</td>\n",
       "      <td>«12+» - для детей старше 12 лет</td>\n",
       "      <td>10000000</td>\n",
       "      <td>70000000</td>\n",
       "      <td>0</td>\n",
       "      <td>Фонд кино</td>\n",
       "      <td>7.8</td>\n",
       "      <td>боевик,драма,криминал</td>\n",
       "      <td>196572438</td>\n",
       "    </tr>\n",
       "    <tr>\n",
       "      <th>2615</th>\n",
       "      <td>Савва. Сердце воина</td>\n",
       "      <td>114001715</td>\n",
       "      <td>2015-07-21 12:00:00+00:00</td>\n",
       "      <td>Анимационный</td>\n",
       "      <td>ООО \"Глюкоза Продакшн\", ООО \"Арт Пикчерс Студия\"</td>\n",
       "      <td>Россия</td>\n",
       "      <td>М.Фадеев</td>\n",
       "      <td>А.Чистяков</td>\n",
       "      <td>«6+» - для детей старше 6 лет</td>\n",
       "      <td>60000000</td>\n",
       "      <td>100000000</td>\n",
       "      <td>0</td>\n",
       "      <td>Фонд кино</td>\n",
       "      <td>4.6</td>\n",
       "      <td>мультфильм,приключения,фэнтези</td>\n",
       "      <td>184487551</td>\n",
       "    </tr>\n",
       "    <tr>\n",
       "      <th>3047</th>\n",
       "      <td>Любовь с ограничениями</td>\n",
       "      <td>111008216</td>\n",
       "      <td>2016-04-29 12:00:00+00:00</td>\n",
       "      <td>Художественный</td>\n",
       "      <td>АО \"ВайТ Медиа\", ООО \"Арт Пикчерс Студия\"</td>\n",
       "      <td>Россия</td>\n",
       "      <td>Д.Тюрин</td>\n",
       "      <td>Ф.Бондарчук, Т.Вайнштейн, Д.Рудовский</td>\n",
       "      <td>«16+» - для детей старше 16 лет</td>\n",
       "      <td>19000000</td>\n",
       "      <td>51000000</td>\n",
       "      <td>0</td>\n",
       "      <td>Фонд кино</td>\n",
       "      <td>6.3</td>\n",
       "      <td>комедия,мелодрама</td>\n",
       "      <td>70299052</td>\n",
       "    </tr>\n",
       "  </tbody>\n",
       "</table>\n",
       "</div>"
      ],
      "text/plain": [
       "                       title   puNumber           show_start_date  \\\n",
       "2472             Воин (2015)  111017315 2015-09-28 12:00:00+00:00   \n",
       "2615     Савва. Сердце воина  114001715 2015-07-21 12:00:00+00:00   \n",
       "3047  Любовь с ограничениями  111008216 2016-04-29 12:00:00+00:00   \n",
       "\n",
       "                type                                       film_studio  \\\n",
       "2472  Художественный  ООО \"Форпост Продакшн\", ООО \"Арт Пикчерс Студия\"   \n",
       "2615    Анимационный  ООО \"Глюкоза Продакшн\", ООО \"Арт Пикчерс Студия\"   \n",
       "3047  Художественный         АО \"ВайТ Медиа\", ООО \"Арт Пикчерс Студия\"   \n",
       "\n",
       "     production_country     director                               producer  \\\n",
       "2472             Россия  А.Андрианов               ООО \"Арт Пикчерс Студия\"   \n",
       "2615             Россия     М.Фадеев                             А.Чистяков   \n",
       "3047             Россия      Д.Тюрин  Ф.Бондарчук, Т.Вайнштейн, Д.Рудовский   \n",
       "\n",
       "                      age_restriction  refundable_support  \\\n",
       "2472  «12+» - для детей старше 12 лет            10000000   \n",
       "2615    «6+» - для детей старше 6 лет            60000000   \n",
       "3047  «16+» - для детей старше 16 лет            19000000   \n",
       "\n",
       "      nonrefundable_support  budget financing_source  ratings  \\\n",
       "2472               70000000       0        Фонд кино      7.8   \n",
       "2615              100000000       0        Фонд кино      4.6   \n",
       "3047               51000000       0        Фонд кино      6.3   \n",
       "\n",
       "                              genres  box_office  \n",
       "2472           боевик,драма,криминал   196572438  \n",
       "2615  мультфильм,приключения,фэнтези   184487551  \n",
       "3047               комедия,мелодрама    70299052  "
      ]
     },
     "metadata": {},
     "output_type": "display_data"
    }
   ],
   "source": [
    "# получим срез данных для нулевых значений бюджета\n",
    "display(data.query('budget == 0 and refundable_support > 0 and nonrefundable_support > 0').sort_values(by='budget', ascending=False).head(3))\n",
    "# получим столбец включающий возвратные и невозвратные средства\n",
    "data['budget_cor'] = data['refundable_support'] + data['nonrefundable_support']\n",
    "# применим к столбцу с данными о бюджете картин функцию для замены нулевых значений\n",
    "data['budget'] = data.apply(lambda x: x['budget'] if x['budget'] > 0 else x['budget_cor'], axis=1)"
   ]
  },
  {
   "cell_type": "code",
   "execution_count": 13,
   "metadata": {
    "scrolled": true
   },
   "outputs": [
    {
     "data": {
      "text/html": [
       "<div>\n",
       "<style scoped>\n",
       "    .dataframe tbody tr th:only-of-type {\n",
       "        vertical-align: middle;\n",
       "    }\n",
       "\n",
       "    .dataframe tbody tr th {\n",
       "        vertical-align: top;\n",
       "    }\n",
       "\n",
       "    .dataframe thead th {\n",
       "        text-align: right;\n",
       "    }\n",
       "</style>\n",
       "<table border=\"1\" class=\"dataframe\">\n",
       "  <thead>\n",
       "    <tr style=\"text-align: right;\">\n",
       "      <th></th>\n",
       "      <th>title</th>\n",
       "      <th>puNumber</th>\n",
       "      <th>show_start_date</th>\n",
       "      <th>type</th>\n",
       "      <th>film_studio</th>\n",
       "      <th>production_country</th>\n",
       "      <th>director</th>\n",
       "      <th>producer</th>\n",
       "      <th>age_restriction</th>\n",
       "      <th>refundable_support</th>\n",
       "      <th>nonrefundable_support</th>\n",
       "      <th>budget</th>\n",
       "      <th>financing_source</th>\n",
       "      <th>ratings</th>\n",
       "      <th>genres</th>\n",
       "      <th>box_office</th>\n",
       "      <th>budget_cor</th>\n",
       "    </tr>\n",
       "  </thead>\n",
       "  <tbody>\n",
       "  </tbody>\n",
       "</table>\n",
       "</div>"
      ],
      "text/plain": [
       "Empty DataFrame\n",
       "Columns: [title, puNumber, show_start_date, type, film_studio, production_country, director, producer, age_restriction, refundable_support, nonrefundable_support, budget, financing_source, ratings, genres, box_office, budget_cor]\n",
       "Index: []"
      ]
     },
     "execution_count": 13,
     "metadata": {},
     "output_type": "execute_result"
    }
   ],
   "source": [
    "# получим еще раз срез данных для нулевых значений бюджета для проверки работы функции\n",
    "data.query('budget == 0 and refundable_support > 0 and nonrefundable_support > 0').sort_values(by='budget', ascending=False).head()"
   ]
  },
  {
   "cell_type": "code",
   "execution_count": 14,
   "metadata": {},
   "outputs": [
    {
     "data": {
      "text/html": [
       "<div>\n",
       "<style scoped>\n",
       "    .dataframe tbody tr th:only-of-type {\n",
       "        vertical-align: middle;\n",
       "    }\n",
       "\n",
       "    .dataframe tbody tr th {\n",
       "        vertical-align: top;\n",
       "    }\n",
       "\n",
       "    .dataframe thead th {\n",
       "        text-align: right;\n",
       "    }\n",
       "</style>\n",
       "<table border=\"1\" class=\"dataframe\">\n",
       "  <thead>\n",
       "    <tr style=\"text-align: right;\">\n",
       "      <th></th>\n",
       "      <th>title</th>\n",
       "      <th>puNumber</th>\n",
       "      <th>show_start_date</th>\n",
       "      <th>type</th>\n",
       "      <th>film_studio</th>\n",
       "      <th>production_country</th>\n",
       "      <th>director</th>\n",
       "      <th>producer</th>\n",
       "      <th>age_restriction</th>\n",
       "      <th>refundable_support</th>\n",
       "      <th>nonrefundable_support</th>\n",
       "      <th>budget</th>\n",
       "      <th>financing_source</th>\n",
       "      <th>ratings</th>\n",
       "      <th>genres</th>\n",
       "      <th>box_office</th>\n",
       "      <th>budget_cor</th>\n",
       "    </tr>\n",
       "  </thead>\n",
       "  <tbody>\n",
       "  </tbody>\n",
       "</table>\n",
       "</div>"
      ],
      "text/plain": [
       "Empty DataFrame\n",
       "Columns: [title, puNumber, show_start_date, type, film_studio, production_country, director, producer, age_restriction, refundable_support, nonrefundable_support, budget, financing_source, ratings, genres, box_office, budget_cor]\n",
       "Index: []"
      ]
     },
     "execution_count": 14,
     "metadata": {},
     "output_type": "execute_result"
    }
   ],
   "source": [
    "# получим срез данных для значений бюджета меньше значений гос.поддержки\n",
    "data.query('budget < budget_cor').sort_values(by='budget', ascending=False).head()"
   ]
  },
  {
   "cell_type": "markdown",
   "metadata": {},
   "source": [
    "##### Вывод\n",
    "В данных о государственной поддержке фильмов были обнаружены странные значения: нулевой бюджет. Это противоречит исходным данным, если есть гос.поддержка картины, то она должна быть учтена в графе бюджет т.е. включает как возвратные средства так и не возвратные. Поэтому нулевые значения с толбце `budget` были заменены на соответствующую сумму значений гос.поддрежки фильма. \n",
    "\n",
    "Картин с выбивающимися значениями, при условии, что сумма выделенных финансовых средств для гос.поддержки картин превышает бюджет фильмов не обнаружено."
   ]
  },
  {
   "cell_type": "markdown",
   "metadata": {
    "id": "Eu6oWp2CgFyS"
   },
   "source": [
    "#### Шаг 2.6. Добавьте новые столбцы\n",
    "\n",
    "\n",
    "\n"
   ]
  },
  {
   "cell_type": "markdown",
   "metadata": {
    "id": "7GgW-UpAgFyS"
   },
   "source": [
    "- Создайте столбец с информацией о годе проката. Выделите год из даты премьеры фильма."
   ]
  },
  {
   "cell_type": "code",
   "execution_count": 15,
   "metadata": {
    "id": "I-yd1DkWgFyT"
   },
   "outputs": [
    {
     "data": {
      "text/html": [
       "<div>\n",
       "<style scoped>\n",
       "    .dataframe tbody tr th:only-of-type {\n",
       "        vertical-align: middle;\n",
       "    }\n",
       "\n",
       "    .dataframe tbody tr th {\n",
       "        vertical-align: top;\n",
       "    }\n",
       "\n",
       "    .dataframe thead th {\n",
       "        text-align: right;\n",
       "    }\n",
       "</style>\n",
       "<table border=\"1\" class=\"dataframe\">\n",
       "  <thead>\n",
       "    <tr style=\"text-align: right;\">\n",
       "      <th></th>\n",
       "      <th>title</th>\n",
       "      <th>puNumber</th>\n",
       "      <th>show_start_date</th>\n",
       "      <th>type</th>\n",
       "      <th>film_studio</th>\n",
       "      <th>production_country</th>\n",
       "      <th>director</th>\n",
       "      <th>producer</th>\n",
       "      <th>age_restriction</th>\n",
       "      <th>refundable_support</th>\n",
       "      <th>nonrefundable_support</th>\n",
       "      <th>budget</th>\n",
       "      <th>financing_source</th>\n",
       "      <th>ratings</th>\n",
       "      <th>genres</th>\n",
       "      <th>box_office</th>\n",
       "      <th>budget_cor</th>\n",
       "      <th>show_start_year</th>\n",
       "    </tr>\n",
       "  </thead>\n",
       "  <tbody>\n",
       "    <tr>\n",
       "      <th>0</th>\n",
       "      <td>Открытый простор</td>\n",
       "      <td>221048915</td>\n",
       "      <td>2015-11-27 12:00:00+00:00</td>\n",
       "      <td>Художественный</td>\n",
       "      <td>Тачстоун Пикчерз, Кобальт Пикчерз, Бикон Пикче...</td>\n",
       "      <td>США</td>\n",
       "      <td>Кевин Костнер</td>\n",
       "      <td>Дэвид Валдес, Кевин Костнер, Джейк Эбертс</td>\n",
       "      <td>«18+» - запрещено для детей</td>\n",
       "      <td>0</td>\n",
       "      <td>0</td>\n",
       "      <td>0</td>\n",
       "      <td>Неизвестный</td>\n",
       "      <td>7.2</td>\n",
       "      <td>боевик,драма,мелодрама</td>\n",
       "      <td>0</td>\n",
       "      <td>0</td>\n",
       "      <td>2015</td>\n",
       "    </tr>\n",
       "    <tr>\n",
       "      <th>1</th>\n",
       "      <td>Особо важное задание</td>\n",
       "      <td>111013716</td>\n",
       "      <td>2016-09-13 12:00:00+00:00</td>\n",
       "      <td>Художественный</td>\n",
       "      <td>Киностудия \"Мосфильм\"</td>\n",
       "      <td>СССР</td>\n",
       "      <td>Е.Матвеев</td>\n",
       "      <td>Неизвестный</td>\n",
       "      <td>«6+» - для детей старше 6 лет</td>\n",
       "      <td>0</td>\n",
       "      <td>0</td>\n",
       "      <td>0</td>\n",
       "      <td>Неизвестный</td>\n",
       "      <td>6.6</td>\n",
       "      <td>драма,военный</td>\n",
       "      <td>0</td>\n",
       "      <td>0</td>\n",
       "      <td>2016</td>\n",
       "    </tr>\n",
       "    <tr>\n",
       "      <th>2</th>\n",
       "      <td>Особо опасен</td>\n",
       "      <td>221038416</td>\n",
       "      <td>2016-10-10 12:00:00+00:00</td>\n",
       "      <td>Художественный</td>\n",
       "      <td>Юниверсал Пикчерз, Кикстарт Продакшнз, Марк Пл...</td>\n",
       "      <td>США</td>\n",
       "      <td>Тимур Бекмамбетов</td>\n",
       "      <td>Джим Лемли, Джейсон Нетер, Марк Е.Платт, Яйн Смит</td>\n",
       "      <td>«18+» - запрещено для детей</td>\n",
       "      <td>0</td>\n",
       "      <td>0</td>\n",
       "      <td>0</td>\n",
       "      <td>Неизвестный</td>\n",
       "      <td>6.8</td>\n",
       "      <td>фантастика,боевик,триллер</td>\n",
       "      <td>0</td>\n",
       "      <td>0</td>\n",
       "      <td>2016</td>\n",
       "    </tr>\n",
       "  </tbody>\n",
       "</table>\n",
       "</div>"
      ],
      "text/plain": [
       "                  title   puNumber           show_start_date            type  \\\n",
       "0      Открытый простор  221048915 2015-11-27 12:00:00+00:00  Художественный   \n",
       "1  Особо важное задание  111013716 2016-09-13 12:00:00+00:00  Художественный   \n",
       "2          Особо опасен  221038416 2016-10-10 12:00:00+00:00  Художественный   \n",
       "\n",
       "                                         film_studio production_country  \\\n",
       "0  Тачстоун Пикчерз, Кобальт Пикчерз, Бикон Пикче...                США   \n",
       "1                              Киностудия \"Мосфильм\"               СССР   \n",
       "2  Юниверсал Пикчерз, Кикстарт Продакшнз, Марк Пл...                США   \n",
       "\n",
       "            director                                           producer  \\\n",
       "0      Кевин Костнер          Дэвид Валдес, Кевин Костнер, Джейк Эбертс   \n",
       "1          Е.Матвеев                                        Неизвестный   \n",
       "2  Тимур Бекмамбетов  Джим Лемли, Джейсон Нетер, Марк Е.Платт, Яйн Смит   \n",
       "\n",
       "                 age_restriction  refundable_support  nonrefundable_support  \\\n",
       "0    «18+» - запрещено для детей                   0                      0   \n",
       "1  «6+» - для детей старше 6 лет                   0                      0   \n",
       "2    «18+» - запрещено для детей                   0                      0   \n",
       "\n",
       "   budget financing_source  ratings                     genres  box_office  \\\n",
       "0       0      Неизвестный      7.2     боевик,драма,мелодрама           0   \n",
       "1       0      Неизвестный      6.6              драма,военный           0   \n",
       "2       0      Неизвестный      6.8  фантастика,боевик,триллер           0   \n",
       "\n",
       "   budget_cor  show_start_year  \n",
       "0           0             2015  \n",
       "1           0             2016  \n",
       "2           0             2016  "
      ]
     },
     "execution_count": 15,
     "metadata": {},
     "output_type": "execute_result"
    }
   ],
   "source": [
    "# получение столбца с годом премьеры\n",
    "data['show_start_year'] = data['show_start_date'].dt.year\n",
    "# вывод на экран первых трех строк\n",
    "data.head(3)"
   ]
  },
  {
   "cell_type": "markdown",
   "metadata": {
    "id": "nFTDLDYOgFyT"
   },
   "source": [
    "- Создайте два столбца: с именем и фамилией главного режиссёра и основным жанром фильма. В столбцы войдут первые значения из списка режиссёров и жанров соответственно.\n",
    "\n",
    "<div id=\"accordion\">\n",
    "    <div class=\"card\">\n",
    "        <div class=\"card-header\" id=\"headingThree\">\n",
    "            <button class=\"btn btn-link collapsed\" data-toggle=\"collapse\" data-target=\"#collapseHint_2\" aria-expanded=\"false\" aria-controls=\"collapseHint_2\">Подсказка</button>\n",
    "        </div>\n",
    "        <div id=\"collapseHint_2\" class=\"collapse\" aria-labelledby=\"headingThree\" data-parent=\"#accordion\">\n",
    "            <div class=\"card-body\">\n",
    "Чтобы создать такие столбцы, лучше всего использовать собственную функцию. Эту функцию можно применить к двум столбцам сразу. \n",
    "            </div>\n",
    "        </div>\n",
    "    </div>\n",
    "</div>"
   ]
  },
  {
   "cell_type": "code",
   "execution_count": 16,
   "metadata": {
    "id": "LSbRZKbMgFyU"
   },
   "outputs": [
    {
     "data": {
      "text/html": [
       "<div>\n",
       "<style scoped>\n",
       "    .dataframe tbody tr th:only-of-type {\n",
       "        vertical-align: middle;\n",
       "    }\n",
       "\n",
       "    .dataframe tbody tr th {\n",
       "        vertical-align: top;\n",
       "    }\n",
       "\n",
       "    .dataframe thead th {\n",
       "        text-align: right;\n",
       "    }\n",
       "</style>\n",
       "<table border=\"1\" class=\"dataframe\">\n",
       "  <thead>\n",
       "    <tr style=\"text-align: right;\">\n",
       "      <th></th>\n",
       "      <th>title</th>\n",
       "      <th>puNumber</th>\n",
       "      <th>show_start_date</th>\n",
       "      <th>type</th>\n",
       "      <th>film_studio</th>\n",
       "      <th>production_country</th>\n",
       "      <th>director</th>\n",
       "      <th>producer</th>\n",
       "      <th>age_restriction</th>\n",
       "      <th>refundable_support</th>\n",
       "      <th>nonrefundable_support</th>\n",
       "      <th>budget</th>\n",
       "      <th>financing_source</th>\n",
       "      <th>ratings</th>\n",
       "      <th>genres</th>\n",
       "      <th>box_office</th>\n",
       "      <th>budget_cor</th>\n",
       "      <th>show_start_year</th>\n",
       "      <th>main_genre</th>\n",
       "      <th>main_director</th>\n",
       "    </tr>\n",
       "  </thead>\n",
       "  <tbody>\n",
       "    <tr>\n",
       "      <th>0</th>\n",
       "      <td>Открытый простор</td>\n",
       "      <td>221048915</td>\n",
       "      <td>2015-11-27 12:00:00+00:00</td>\n",
       "      <td>Художественный</td>\n",
       "      <td>Тачстоун Пикчерз, Кобальт Пикчерз, Бикон Пикче...</td>\n",
       "      <td>США</td>\n",
       "      <td>Кевин Костнер</td>\n",
       "      <td>Дэвид Валдес, Кевин Костнер, Джейк Эбертс</td>\n",
       "      <td>«18+» - запрещено для детей</td>\n",
       "      <td>0</td>\n",
       "      <td>0</td>\n",
       "      <td>0</td>\n",
       "      <td>Неизвестный</td>\n",
       "      <td>7.2</td>\n",
       "      <td>боевик,драма,мелодрама</td>\n",
       "      <td>0</td>\n",
       "      <td>0</td>\n",
       "      <td>2015</td>\n",
       "      <td>боевик</td>\n",
       "      <td>Кевин Костнер</td>\n",
       "    </tr>\n",
       "    <tr>\n",
       "      <th>1</th>\n",
       "      <td>Особо важное задание</td>\n",
       "      <td>111013716</td>\n",
       "      <td>2016-09-13 12:00:00+00:00</td>\n",
       "      <td>Художественный</td>\n",
       "      <td>Киностудия \"Мосфильм\"</td>\n",
       "      <td>СССР</td>\n",
       "      <td>Е.Матвеев</td>\n",
       "      <td>Неизвестный</td>\n",
       "      <td>«6+» - для детей старше 6 лет</td>\n",
       "      <td>0</td>\n",
       "      <td>0</td>\n",
       "      <td>0</td>\n",
       "      <td>Неизвестный</td>\n",
       "      <td>6.6</td>\n",
       "      <td>драма,военный</td>\n",
       "      <td>0</td>\n",
       "      <td>0</td>\n",
       "      <td>2016</td>\n",
       "      <td>драма</td>\n",
       "      <td>Е.Матвеев</td>\n",
       "    </tr>\n",
       "    <tr>\n",
       "      <th>2</th>\n",
       "      <td>Особо опасен</td>\n",
       "      <td>221038416</td>\n",
       "      <td>2016-10-10 12:00:00+00:00</td>\n",
       "      <td>Художественный</td>\n",
       "      <td>Юниверсал Пикчерз, Кикстарт Продакшнз, Марк Пл...</td>\n",
       "      <td>США</td>\n",
       "      <td>Тимур Бекмамбетов</td>\n",
       "      <td>Джим Лемли, Джейсон Нетер, Марк Е.Платт, Яйн Смит</td>\n",
       "      <td>«18+» - запрещено для детей</td>\n",
       "      <td>0</td>\n",
       "      <td>0</td>\n",
       "      <td>0</td>\n",
       "      <td>Неизвестный</td>\n",
       "      <td>6.8</td>\n",
       "      <td>фантастика,боевик,триллер</td>\n",
       "      <td>0</td>\n",
       "      <td>0</td>\n",
       "      <td>2016</td>\n",
       "      <td>фантастика</td>\n",
       "      <td>Тимур Бекмамбетов</td>\n",
       "    </tr>\n",
       "  </tbody>\n",
       "</table>\n",
       "</div>"
      ],
      "text/plain": [
       "                  title   puNumber           show_start_date            type  \\\n",
       "0      Открытый простор  221048915 2015-11-27 12:00:00+00:00  Художественный   \n",
       "1  Особо важное задание  111013716 2016-09-13 12:00:00+00:00  Художественный   \n",
       "2          Особо опасен  221038416 2016-10-10 12:00:00+00:00  Художественный   \n",
       "\n",
       "                                         film_studio production_country  \\\n",
       "0  Тачстоун Пикчерз, Кобальт Пикчерз, Бикон Пикче...                США   \n",
       "1                              Киностудия \"Мосфильм\"               СССР   \n",
       "2  Юниверсал Пикчерз, Кикстарт Продакшнз, Марк Пл...                США   \n",
       "\n",
       "            director                                           producer  \\\n",
       "0      Кевин Костнер          Дэвид Валдес, Кевин Костнер, Джейк Эбертс   \n",
       "1          Е.Матвеев                                        Неизвестный   \n",
       "2  Тимур Бекмамбетов  Джим Лемли, Джейсон Нетер, Марк Е.Платт, Яйн Смит   \n",
       "\n",
       "                 age_restriction  refundable_support  nonrefundable_support  \\\n",
       "0    «18+» - запрещено для детей                   0                      0   \n",
       "1  «6+» - для детей старше 6 лет                   0                      0   \n",
       "2    «18+» - запрещено для детей                   0                      0   \n",
       "\n",
       "   budget financing_source  ratings                     genres  box_office  \\\n",
       "0       0      Неизвестный      7.2     боевик,драма,мелодрама           0   \n",
       "1       0      Неизвестный      6.6              драма,военный           0   \n",
       "2       0      Неизвестный      6.8  фантастика,боевик,триллер           0   \n",
       "\n",
       "   budget_cor  show_start_year  main_genre      main_director  \n",
       "0           0             2015      боевик      Кевин Костнер  \n",
       "1           0             2016       драма          Е.Матвеев  \n",
       "2           0             2016  фантастика  Тимур Бекмамбетов  "
      ]
     },
     "execution_count": 16,
     "metadata": {},
     "output_type": "execute_result"
    }
   ],
   "source": [
    "# создание собственной функции и ее применение к столбцу для определения главного жанра и главного режиссера\n",
    "def func_main(value):\n",
    "    values = value.split(',')\n",
    "    return values[0]\n",
    "data['main_genre'] = data['genres'].apply(func_main)\n",
    "data['main_director'] = data['director'].apply(func_main)\n",
    "# вывод на экран первых строк таблицы\n",
    "data.head(3)"
   ]
  },
  {
   "cell_type": "markdown",
   "metadata": {
    "id": "1FsCXHwdgFyU"
   },
   "source": [
    "- Посчитайте, какую долю от общего бюджета фильма составляет государственная поддержка."
   ]
  },
  {
   "cell_type": "code",
   "execution_count": 17,
   "metadata": {
    "id": "LV6qFuZLgFyV"
   },
   "outputs": [
    {
     "data": {
      "text/plain": [
       "0.49"
      ]
     },
     "execution_count": 17,
     "metadata": {},
     "output_type": "execute_result"
    }
   ],
   "source": [
    "# посчитаем соотношения бюджета фильма ко всем выделенным средствам\n",
    "koef = (data['nonrefundable_support'].sum() + data['refundable_support'].sum()) / data['budget'].sum()\n",
    "# выведем на экран округлив до двух знаков\n",
    "round(koef, 2)"
   ]
  },
  {
   "cell_type": "markdown",
   "metadata": {},
   "source": [
    "##### Вывод\n",
    "Для вывода значений главного жанра и главного режиссера картины, была применена функция разделяющая строку на элементы с разделителем в виде `,` и возвращением первого элемента.\n",
    "\n",
    "По полученным данным о фильмах с гос.поддержкой можно заметить что соотношение общего бюджета фильма ко всем выделенным средствам составляет в среднем 46%, или окло половины всех средств."
   ]
  },
  {
   "cell_type": "markdown",
   "metadata": {
    "id": "6t4EukPLgFyV"
   },
   "source": [
    "### Шаг 3. Проведите исследовательский анализ данных\n"
   ]
  },
  {
   "cell_type": "markdown",
   "metadata": {
    "id": "vAH8WCzugFyV"
   },
   "source": [
    "- Посмотрите, сколько фильмов выходило в прокат каждый год. Обратите внимание, что данные о прокате в кинотеатрах известны не для всех фильмов. Посчитайте, какую долю составляют фильмы с указанной информацией о прокате в кинотеатрах."
   ]
  },
  {
   "cell_type": "code",
   "execution_count": 18,
   "metadata": {
    "id": "ABeV47y7gFyW"
   },
   "outputs": [
    {
     "data": {
      "text/plain": [
       "0.42"
      ]
     },
     "execution_count": 18,
     "metadata": {},
     "output_type": "execute_result"
    },
    {
     "data": {
      "image/png": "[encoded data removed]",
      "text/plain": [
       "<Figure size 700x500 with 1 Axes>"
      ]
     },
     "metadata": {},
     "output_type": "display_data"
    }
   ],
   "source": [
    "# получим срез данных с ненулевым значением кассовых сборов\n",
    "data_box = data.query('box_office >= 0')\n",
    "# получим сводную таблицу с количеством выходивших картин по годам и построим столбчатую диаграмму\n",
    "data_box_count_pivot = data_box.pivot_table(index='show_start_year', values='box_office', aggfunc='count')\n",
    "data_box_count_pivot.plot(xlabel='show_start_year', kind='bar', figsize=(7,5), legend=False)\n",
    "# рассчитаем долю фильмов с указанной информацией о прокате\n",
    "div = 3158 / 7486\n",
    "round(div, 2)"
   ]
  },
  {
   "cell_type": "markdown",
   "metadata": {
    "id": "BEOdcIrIgFyW"
   },
   "source": [
    "- Изучите, как менялась динамика проката по годам. В каком году сумма сборов была минимальной? А максимальной?"
   ]
  },
  {
   "cell_type": "code",
   "execution_count": 19,
   "metadata": {
    "id": "tfEhofYvgFyX"
   },
   "outputs": [
    {
     "data": {
      "text/plain": [
       "<AxesSubplot:xlabel='show_start_year'>"
      ]
     },
     "execution_count": 19,
     "metadata": {},
     "output_type": "execute_result"
    },
    {
     "data": {
      "image/png": "[encoded data removed]",
      "text/plain": [
       "<Figure size 700x500 with 1 Axes>"
      ]
     },
     "metadata": {},
     "output_type": "display_data"
    }
   ],
   "source": [
    "# получим сводную таблицу с суммой кассовых сборов картин по годам и построим столбчатую диаграмму\n",
    "data_box_sum_pivot = data_box.pivot_table(index='show_start_year', values='box_office', aggfunc='sum')\n",
    "data_box_sum_pivot.plot(xlabel='show_start_year', kind='bar', figsize=(7,5), legend=False)"
   ]
  },
  {
   "cell_type": "markdown",
   "metadata": {
    "id": "G-7qS-N-gFyY"
   },
   "source": [
    "- С помощью сводной таблицы посчитайте среднюю и медианную сумму сборов для каждого года."
   ]
  },
  {
   "cell_type": "code",
   "execution_count": 20,
   "metadata": {
    "id": "jmp-rgg9gFyY"
   },
   "outputs": [
    {
     "data": {
      "text/html": [
       "<div>\n",
       "<style scoped>\n",
       "    .dataframe tbody tr th:only-of-type {\n",
       "        vertical-align: middle;\n",
       "    }\n",
       "\n",
       "    .dataframe tbody tr th {\n",
       "        vertical-align: top;\n",
       "    }\n",
       "\n",
       "    .dataframe thead th {\n",
       "        text-align: right;\n",
       "    }\n",
       "</style>\n",
       "<table border=\"1\" class=\"dataframe\">\n",
       "  <thead>\n",
       "    <tr style=\"text-align: right;\">\n",
       "      <th></th>\n",
       "      <th>mean_box_office</th>\n",
       "      <th>median_box_office</th>\n",
       "    </tr>\n",
       "    <tr>\n",
       "      <th>show_start_year</th>\n",
       "      <th></th>\n",
       "      <th></th>\n",
       "    </tr>\n",
       "  </thead>\n",
       "  <tbody>\n",
       "    <tr>\n",
       "      <th>2010</th>\n",
       "      <td>2.465639e+03</td>\n",
       "      <td>0.0</td>\n",
       "    </tr>\n",
       "    <tr>\n",
       "      <th>2011</th>\n",
       "      <td>2.267326e+04</td>\n",
       "      <td>0.0</td>\n",
       "    </tr>\n",
       "    <tr>\n",
       "      <th>2012</th>\n",
       "      <td>1.172921e+04</td>\n",
       "      <td>0.0</td>\n",
       "    </tr>\n",
       "    <tr>\n",
       "      <th>2013</th>\n",
       "      <td>4.730112e+04</td>\n",
       "      <td>0.0</td>\n",
       "    </tr>\n",
       "    <tr>\n",
       "      <th>2014</th>\n",
       "      <td>9.225467e+06</td>\n",
       "      <td>0.0</td>\n",
       "    </tr>\n",
       "    <tr>\n",
       "      <th>2015</th>\n",
       "      <td>5.602463e+07</td>\n",
       "      <td>739938.0</td>\n",
       "    </tr>\n",
       "    <tr>\n",
       "      <th>2016</th>\n",
       "      <td>5.851626e+07</td>\n",
       "      <td>479832.5</td>\n",
       "    </tr>\n",
       "    <tr>\n",
       "      <th>2017</th>\n",
       "      <td>9.084131e+07</td>\n",
       "      <td>2487661.5</td>\n",
       "    </tr>\n",
       "    <tr>\n",
       "      <th>2018</th>\n",
       "      <td>5.325466e+07</td>\n",
       "      <td>288529.5</td>\n",
       "    </tr>\n",
       "    <tr>\n",
       "      <th>2019</th>\n",
       "      <td>4.609432e+07</td>\n",
       "      <td>571896.0</td>\n",
       "    </tr>\n",
       "  </tbody>\n",
       "</table>\n",
       "</div>"
      ],
      "text/plain": [
       "                 mean_box_office  median_box_office\n",
       "show_start_year                                    \n",
       "2010                2.465639e+03                0.0\n",
       "2011                2.267326e+04                0.0\n",
       "2012                1.172921e+04                0.0\n",
       "2013                4.730112e+04                0.0\n",
       "2014                9.225467e+06                0.0\n",
       "2015                5.602463e+07           739938.0\n",
       "2016                5.851626e+07           479832.5\n",
       "2017                9.084131e+07          2487661.5\n",
       "2018                5.325466e+07           288529.5\n",
       "2019                4.609432e+07           571896.0"
      ]
     },
     "execution_count": 20,
     "metadata": {},
     "output_type": "execute_result"
    }
   ],
   "source": [
    "# получим сводную таблицу с медианным и средним значением кассовых сборов картин по годам и заменим названия столбцов\n",
    "data_box_mm_pivot = data_box.pivot_table(index='show_start_year', values='box_office', aggfunc=['mean', 'median'])\n",
    "data_box_mm_pivot.columns = ['mean_box_office', 'median_box_office']\n",
    "# вывод таблицы на экран со средним и медианным значением по годам\n",
    "data_box_mm_pivot"
   ]
  },
  {
   "cell_type": "markdown",
   "metadata": {
    "id": "Ok89WFwJgFyZ"
   },
   "source": [
    "- Определите, влияет ли возрастное ограничение аудитории («6+», «12+», «16+», «18+» и т. д.) на сборы фильма в прокате в период с 2015 по 2019 год? Фильмы с каким возрастным ограничением собрали больше всего денег в прокате? Меняется ли картина в зависимости от года? Если да, предположите, с чем это может быть связано."
   ]
  },
  {
   "cell_type": "code",
   "execution_count": 21,
   "metadata": {
    "id": "jsSbEqfjgFya"
   },
   "outputs": [
    {
     "data": {
      "text/plain": [
       "<AxesSubplot:xlabel='age_restrictionr'>"
      ]
     },
     "execution_count": 21,
     "metadata": {},
     "output_type": "execute_result"
    },
    {
     "data": {
      "image/png": "[encoded data removed]",
      "text/plain": [
       "<Figure size 700x500 with 1 Axes>"
      ]
     },
     "metadata": {},
     "output_type": "display_data"
    }
   ],
   "source": [
    "# получим срез данных с ненулевым значением кассовых сборов в период с 2015 по 2019 год\n",
    "data_box_two = data.query('box_office >= 0 and 2015 <= show_start_year <= 2019')\n",
    "# получим сводную таблицу по возрастным ограничениям и рассчитаем сумму кассовых сборов с построением графика\n",
    "data_box_two_pivot = data_box_two.pivot_table(index='age_restriction', values='box_office', aggfunc='sum')\n",
    "data_box_two_pivot.plot(xlabel='age_restrictionr', kind='bar', figsize=(7,5), legend=False)"
   ]
  },
  {
   "cell_type": "code",
   "execution_count": 22,
   "metadata": {},
   "outputs": [
    {
     "data": {
      "text/plain": [
       "<AxesSubplot:xlabel='age_restrictionr'>"
      ]
     },
     "execution_count": 22,
     "metadata": {},
     "output_type": "execute_result"
    },
    {
     "data": {
      "image/png": "[encoded data removed]",
      "text/plain": [
       "<Figure size 700x500 with 1 Axes>"
      ]
     },
     "metadata": {},
     "output_type": "display_data"
    },
    {
     "data": {
      "image/png": "[encoded data removed]",
      "text/plain": [
       "<Figure size 700x500 with 1 Axes>"
      ]
     },
     "metadata": {},
     "output_type": "display_data"
    }
   ],
   "source": [
    "# получим срез данных с ненулевым значением кассовых сборов в 2015 году\n",
    "data_box_two_2015 = data.query('box_office >= 0 and show_start_year == 2015')\n",
    "# получим сводную таблицу по возрастным ограничениям и рассчитаем сумму кассовых сборов с построением графика\n",
    "data_box_two_2015_pivot = data_box_two_2015.pivot_table(index='age_restriction', values='box_office', aggfunc='sum')\n",
    "data_box_two_2015_pivot.plot(xlabel='age_restrictionr', kind='bar', figsize=(7,5), legend=False)\n",
    "# получим срез данных с ненулевым значением кассовых сборов в 2016 году\n",
    "data_box_two_2016 = data.query('box_office >= 0 and show_start_year == 2016')\n",
    "# получим сводную таблицу по возрастным ограничениям и рассчитаем сумму кассовых сборов с построением графика\n",
    "data_box_two_2016_pivot = data_box_two_2016.pivot_table(index='age_restriction', values='box_office', aggfunc='sum')\n",
    "data_box_two_2016_pivot.plot(xlabel='age_restrictionr', kind='bar', figsize=(7,5), legend=False)"
   ]
  },
  {
   "cell_type": "code",
   "execution_count": 23,
   "metadata": {},
   "outputs": [
    {
     "data": {
      "text/plain": [
       "<AxesSubplot:xlabel='age_restrictionr'>"
      ]
     },
     "execution_count": 23,
     "metadata": {},
     "output_type": "execute_result"
    },
    {
     "data": {
      "image/png": "[encoded data removed]",
      "text/plain": [
       "<Figure size 700x500 with 1 Axes>"
      ]
     },
     "metadata": {},
     "output_type": "display_data"
    },
    {
     "data": {
      "image/png": "[encoded data removed]",
      "text/plain": [
       "<Figure size 700x500 with 1 Axes>"
      ]
     },
     "metadata": {},
     "output_type": "display_data"
    }
   ],
   "source": [
    "# получим срез данных с ненулевым значением кассовых сборов в 2017 году\n",
    "data_box_two_2017 = data.query('box_office >= 0 and show_start_year == 2017')\n",
    "# получим сводную таблицу по возрастным ограничениям и рассчитаем сумму кассовых сборов с построением графика\n",
    "data_box_two_2017_pivot = data_box_two_2017.pivot_table(index='age_restriction', values='box_office', aggfunc='sum')\n",
    "data_box_two_2017_pivot.plot(xlabel='age_restrictionr', kind='bar', figsize=(7,5), legend=False)\n",
    "# получим срез данных с ненулевым значением кассовых сборов в 2018 году\n",
    "data_box_two_2018 = data.query('box_office >= 0 and show_start_year == 2018')\n",
    "# получим сводную таблицу по возрастным ограничениям и рассчитаем сумму кассовых сборов с построением графика\n",
    "data_box_two_2018_pivot = data_box_two_2018.pivot_table(index='age_restriction', values='box_office', aggfunc='sum')\n",
    "data_box_two_2018_pivot.plot(xlabel='age_restrictionr', kind='bar', figsize=(7,5), legend=False)"
   ]
  },
  {
   "cell_type": "code",
   "execution_count": 24,
   "metadata": {},
   "outputs": [
    {
     "data": {
      "text/plain": [
       "<AxesSubplot:xlabel='age_restrictionr'>"
      ]
     },
     "execution_count": 24,
     "metadata": {},
     "output_type": "execute_result"
    },
    {
     "data": {
      "image/png": "[encoded data removed]",
      "text/plain": [
       "<Figure size 700x500 with 1 Axes>"
      ]
     },
     "metadata": {},
     "output_type": "display_data"
    }
   ],
   "source": [
    "# получим срез данных с ненулевым значением кассовых сборов в 2019 году\n",
    "data_box_two_2019 = data.query('box_office >= 0 and show_start_year == 2019')\n",
    "# получим сводную таблицу по возрастным ограничениям и рассчитаем сумму кассовых сборов с построением графика\n",
    "data_box_two_2019_pivot = data_box_two_2019.pivot_table(index='age_restriction', values='box_office', aggfunc='sum')\n",
    "data_box_two_2019_pivot.plot(xlabel='age_restrictionr', kind='bar', figsize=(7,5), legend=False)"
   ]
  },
  {
   "cell_type": "markdown",
   "metadata": {},
   "source": [
    "##### Вывод\n",
    "1. С 2010 года по 2016 год выходило с каждым годом все больше фильмов. Так в 2010 вышло только 100 картин тогда как к 2016 вышло уже 500 картин. В 2017 году наблюдается спад до 350 картин и возвращение к уровню 2017 года произошло в 2019 году.\n",
    "2. В полученных данных известна информация о прокате только для 42% фильмов.\n",
    "3. Наименьшая сумма сборов была в 2010 году, наибольшая сумма сборов в 2018 году.\n",
    "4. Возрастная категория напрямую влияет на сборы с 2015 по 2019 год. Наиболее кассовой категорией является \"16+\", а также немного ниже расположены показатели для категорий \"12+\" и \"6+\", в то время как категория с самыми маленькими сборами \"0+\"\n",
    "5. С 2015 по 2019 категория \"16+\" является всегда самой кассовой. Категория \"12+\" в 2015 и в 2019 являлась самой кассовой. Категория \"18+\" и \"6+\" не имеют сильных отличий и являются своего рода `золотой серединой`. А категория \"0+\" на всем промежутке времени с 2015 по 2019 год показывает наихудшие сборы."
   ]
  },
  {
   "cell_type": "markdown",
   "metadata": {
    "id": "l_Kg6Ku4gFya"
   },
   "source": [
    "### Шаг 4. Исследуйте фильмы, которые получили государственную поддержку\n",
    "\n",
    "На этом этапе нет конкретных инструкций и заданий — поищите интересные закономерности в данных. Посмотрите, сколько выделяют средств на поддержку кино. Проверьте, хорошо ли окупаются такие фильмы, какой у них рейтинг."
   ]
  },
  {
   "cell_type": "markdown",
   "metadata": {},
   "source": [
    "#### Вопрос 1\n",
    "Есть ли зависимость от года проката, рейтинга, кассовых сборов и бюджета для фильмов с государственной поддержкой."
   ]
  },
  {
   "cell_type": "code",
   "execution_count": 25,
   "metadata": {
    "id": "W9QKpjUdgFyb"
   },
   "outputs": [
    {
     "name": "stdout",
     "output_type": "stream",
     "text": [
      "<class 'pandas.core.frame.DataFrame'>\n",
      "Int64Index: 7486 entries, 0 to 7485\n",
      "Data columns (total 20 columns):\n",
      " #   Column                 Non-Null Count  Dtype              \n",
      "---  ------                 --------------  -----              \n",
      " 0   title                  7486 non-null   object             \n",
      " 1   puNumber               7486 non-null   int32              \n",
      " 2   show_start_date        7486 non-null   datetime64[ns, UTC]\n",
      " 3   type                   7486 non-null   object             \n",
      " 4   film_studio            7468 non-null   object             \n",
      " 5   production_country     7484 non-null   object             \n",
      " 6   director               7486 non-null   object             \n",
      " 7   producer               7486 non-null   object             \n",
      " 8   age_restriction        7486 non-null   object             \n",
      " 9   refundable_support     7486 non-null   int32              \n",
      " 10  nonrefundable_support  7486 non-null   int32              \n",
      " 11  budget                 7486 non-null   int64              \n",
      " 12  financing_source       7486 non-null   object             \n",
      " 13  ratings                7486 non-null   float64            \n",
      " 14  genres                 7486 non-null   object             \n",
      " 15  box_office             7486 non-null   int32              \n",
      " 16  budget_cor             7486 non-null   int32              \n",
      " 17  show_start_year        7486 non-null   int64              \n",
      " 18  main_genre             7486 non-null   object             \n",
      " 19  main_director          7486 non-null   object             \n",
      "dtypes: datetime64[ns, UTC](1), float64(1), int32(5), int64(2), object(11)\n",
      "memory usage: 1.1+ MB\n"
     ]
    },
    {
     "data": {
      "text/plain": [
       "<AxesSubplot:xlabel='ratings'>"
      ]
     },
     "execution_count": 25,
     "metadata": {},
     "output_type": "execute_result"
    },
    {
     "data": {
      "image/png": "[encoded data removed]",
      "text/plain": [
       "<Figure size 1000x500 with 1 Axes>"
      ]
     },
     "metadata": {},
     "output_type": "display_data"
    }
   ],
   "source": [
    "# получим срез данных по фильмам с гос.поддержкой\n",
    "data_gov = data.query('refundable_support >= 0 and nonrefundable_support >= 0 and budget >= 0')\n",
    "# получим информацию о таблице\n",
    "data_gov.info()\n",
    "# создадим сводную таблицу зависимости рейтинга от кассовых сборов и построим график\n",
    "data_gov_one = data_gov.pivot_table(index='ratings', values='box_office', aggfunc='sum')\n",
    "data_gov_one.plot(xlabel='ratings', kind='bar', figsize=(10,5), legend=False)"
   ]
  },
  {
   "cell_type": "code",
   "execution_count": 26,
   "metadata": {},
   "outputs": [
    {
     "data": {
      "text/plain": [
       "<AxesSubplot:xlabel='show_start_year'>"
      ]
     },
     "execution_count": 26,
     "metadata": {},
     "output_type": "execute_result"
    },
    {
     "data": {
      "image/png": "[encoded data removed]",
      "text/plain": [
       "<Figure size 1000x500 with 1 Axes>"
      ]
     },
     "metadata": {},
     "output_type": "display_data"
    }
   ],
   "source": [
    "# создадим сводную таблицу зависимости года проката от бюджета картины и построим график \n",
    "data_gov_two = data_gov.pivot_table(index='show_start_year', values='budget', aggfunc='sum')\n",
    "data_gov_two.plot(xlabel='show_start_year', kind='bar', figsize=(10,5), legend=False)"
   ]
  },
  {
   "cell_type": "code",
   "execution_count": 27,
   "metadata": {},
   "outputs": [
    {
     "data": {
      "text/plain": [
       "<AxesSubplot:xlabel='ratings'>"
      ]
     },
     "execution_count": 27,
     "metadata": {},
     "output_type": "execute_result"
    },
    {
     "data": {
      "image/png": "[encoded data removed]",
      "text/plain": [
       "<Figure size 1000x500 with 1 Axes>"
      ]
     },
     "metadata": {},
     "output_type": "display_data"
    }
   ],
   "source": [
    "# создадим сводную таблицу зависимости рейтинга от бюджета фильма и построим график\n",
    "data_gov_three = data_gov.pivot_table(index='ratings', values='budget', aggfunc='sum')\n",
    "data_gov_three.plot(xlabel='ratings', kind='bar', figsize=(10,5), legend=False)"
   ]
  },
  {
   "cell_type": "code",
   "execution_count": 28,
   "metadata": {
    "scrolled": false
   },
   "outputs": [
    {
     "data": {
      "text/plain": [
       "<AxesSubplot:xlabel='show_start_year'>"
      ]
     },
     "execution_count": 28,
     "metadata": {},
     "output_type": "execute_result"
    },
    {
     "data": {
      "image/png": "[encoded data removed]",
      "text/plain": [
       "<Figure size 1000x500 with 1 Axes>"
      ]
     },
     "metadata": {},
     "output_type": "display_data"
    }
   ],
   "source": [
    "# создадим сводную таблицу зависимости года проката от кассовых сборов и построим график\n",
    "data_gov_four = data_gov.pivot_table(index='show_start_year', values='box_office', aggfunc='sum')\n",
    "data_gov_four.plot(xlabel='show_start_year', kind='bar', figsize=(10,5), legend=False)"
   ]
  },
  {
   "cell_type": "markdown",
   "metadata": {},
   "source": [
    "##### Вывод 1\n",
    "1. Зависимости между рейтингом и кассовыми сборами есть, фильмы с кассовыми сборами от 1 млрд. рублей чаще всего получают рейтинг от 4,7 до 7,6. А фильмы со сборами от 3 млрд. рублей чаще имеют рейтинг от 6,5 до 7,5.\n",
    "2. Зависимости между годом проката и бюджетом есть, до 2015 года бюджет был не более 1 млрд. рублей в то время как с 2015 по 2018 включительно бюджет картин был уже не менее 6 млрд. рублей, а в 2019 году бюджет уже был свыше 10 млрд. рублей\n",
    "3. Зависимости между рейтингом и бюджетом есть, при бюджете не менее 1 млрд. рублей рейтинг в диапазоне 5,7 - 7,7. При бюджете в 3 млрд. рублей рейтинг сужается от 5,8 до 6,6\n",
    "4. Зависимости между годом проката и кассовыми сборами есть, так с 2015 по 2019 год наблюдаются кассовые сборы в размере не менее 6 млрд. рублей, а в 2017 году уже более 10 млрд. рублей, хотя в 2018 и в 2019 году наблюдается спад до уровня 8 млрд. рублей."
   ]
  },
  {
   "cell_type": "markdown",
   "metadata": {},
   "source": [
    "#### Вопрос 2\n",
    "Как много фильмов которые провалились и удались в прокате? Как они распределены в зависимости от рейтинга и года проката. Какое соотношение фильмов которые удались и провалились?"
   ]
  },
  {
   "cell_type": "code",
   "execution_count": 29,
   "metadata": {},
   "outputs": [
    {
     "data": {
      "text/plain": [
       "4594"
      ]
     },
     "metadata": {},
     "output_type": "display_data"
    },
    {
     "data": {
      "text/plain": [
       "<AxesSubplot:xlabel='ratings'>"
      ]
     },
     "execution_count": 29,
     "metadata": {},
     "output_type": "execute_result"
    },
    {
     "data": {
      "image/png": "[encoded data removed]",
      "text/plain": [
       "<Figure size 640x480 with 1 Axes>"
      ]
     },
     "metadata": {},
     "output_type": "display_data"
    },
    {
     "data": {
      "image/png": "[encoded data removed]",
      "text/plain": [
       "<Figure size 640x480 with 1 Axes>"
      ]
     },
     "metadata": {},
     "output_type": "display_data"
    },
    {
     "data": {
      "image/png": "[encoded data removed]",
      "text/plain": [
       "<Figure size 1000x500 with 1 Axes>"
      ]
     },
     "metadata": {},
     "output_type": "display_data"
    }
   ],
   "source": [
    "# создадим сводную таблицу с фильмами которые провалились в прокате\n",
    "data_gov_fail = data_gov.query('box_office <= budget')\n",
    "# выведем количество провалившихся фильмов на экран\n",
    "display(len(data_gov_fail))\n",
    "# построим график распределения рейтинга от количества неудавшихся картин\n",
    "data_gov_fail.plot(y='ratings', kind='hist', bins=10, legend=False)\n",
    "# построим график распределения неудавшихся картин в зависимости от года проката\n",
    "data_gov_fail.plot(y='show_start_year', kind='hist', bins=7, range=(2013, 2019), legend=False)\n",
    "# создадим сводную таблицу зависимости рейтинга от бюджета картины и построим график \n",
    "data_gov_fail_bud = data_gov_fail.pivot_table(index='ratings', values='budget', aggfunc='sum')\n",
    "data_gov_fail_bud.plot(xlabel='ratings', kind='bar', figsize=(10,5), legend=False)"
   ]
  },
  {
   "cell_type": "code",
   "execution_count": 30,
   "metadata": {},
   "outputs": [
    {
     "data": {
      "text/plain": [
       "7230"
      ]
     },
     "metadata": {},
     "output_type": "display_data"
    },
    {
     "data": {
      "text/plain": [
       "<AxesSubplot:xlabel='ratings'>"
      ]
     },
     "execution_count": 30,
     "metadata": {},
     "output_type": "execute_result"
    },
    {
     "data": {
      "image/png": "[encoded data removed]",
      "text/plain": [
       "<Figure size 640x480 with 1 Axes>"
      ]
     },
     "metadata": {},
     "output_type": "display_data"
    },
    {
     "data": {
      "image/png": "[encoded data removed]",
      "text/plain": [
       "<Figure size 640x480 with 1 Axes>"
      ]
     },
     "metadata": {},
     "output_type": "display_data"
    },
    {
     "data": {
      "image/png": "[encoded data removed]",
      "text/plain": [
       "<Figure size 1000x500 with 1 Axes>"
      ]
     },
     "metadata": {},
     "output_type": "display_data"
    }
   ],
   "source": [
    "# создадим сводную таблицу с фильмами которые удались в прокате\n",
    "data_gov_success = data_gov.query('box_office >= budget')\n",
    "# выведем количество удавшихся фильмов на экран\n",
    "display(len(data_gov_success))\n",
    "# построим график распределения рейтинга от количества удавшихся картин\n",
    "data_gov_success.plot(y='ratings', kind='hist', bins=10, legend=False)\n",
    "# построим график распределения удавшихся картин в зависимости от года проката\n",
    "data_gov_success.plot(y='show_start_year', kind='hist', bins=7, range=(2013, 2019), legend=False)\n",
    "# создадим сводную таблицу зависимости рейтинга от бюджета картины и построим график \n",
    "data_gov_success_bud = data_gov_success.pivot_table(index='ratings', values='budget', aggfunc='sum')\n",
    "data_gov_success_bud.plot(xlabel='ratings', kind='bar', figsize=(10,5), legend=False)"
   ]
  },
  {
   "cell_type": "code",
   "execution_count": 31,
   "metadata": {},
   "outputs": [
    {
     "data": {
      "text/plain": [
       "1.57"
      ]
     },
     "execution_count": 31,
     "metadata": {},
     "output_type": "execute_result"
    }
   ],
   "source": [
    "# рассчитаем соотношение провалившихся картин к удавшимся в прокате\n",
    "round(len(data_gov_success) / len(data_gov_fail), 2)"
   ]
  },
  {
   "cell_type": "markdown",
   "metadata": {},
   "source": [
    "##### Вывод 2\n",
    "1. Провалились в прокате 239 картин, в то время как удалось всего 79. Соотношение удавшихся к провалившимся составляет 33%.\n",
    "2. Провалившиеся фильмы чаще всего получали рейтинг от 6 до 7, и выходили в прокат в периоды 2015-2016 и 2018-2019 год.\n",
    "3. Удавшиеся в прокате фильмы также получали чаще рейтинг от 6 до 7, реже 5, и почти равномерно распределены между 2015 и 2019 годом, с пиками в 2015 и 2018 году. "
   ]
  }
 ],
 "metadata": {
  "ExecuteTimeLog": [
   {
    "duration": 537,
    "start_time": "2021-07-07T10:12:08.634Z"
   },
   {
    "duration": 206,
    "start_time": "2021-07-07T10:12:30.191Z"
   },
   {
    "duration": 227,
    "start_time": "2021-07-07T10:12:33.078Z"
   },
   {
    "duration": 153,
    "start_time": "2021-07-07T10:13:42.146Z"
   },
   {
    "duration": 233,
    "start_time": "2021-07-07T10:30:09.252Z"
   },
   {
    "duration": 19,
    "start_time": "2021-07-07T10:30:15.577Z"
   },
   {
    "duration": 18,
    "start_time": "2021-07-07T10:30:57.348Z"
   },
   {
    "duration": 19,
    "start_time": "2021-07-07T10:31:17.452Z"
   },
   {
    "duration": 21,
    "start_time": "2021-07-07T10:31:32.227Z"
   },
   {
    "duration": 27,
    "start_time": "2021-07-07T10:32:06.588Z"
   },
   {
    "duration": 23,
    "start_time": "2021-07-07T10:32:43.645Z"
   },
   {
    "duration": 24,
    "start_time": "2021-07-07T10:33:06.948Z"
   },
   {
    "duration": 7,
    "start_time": "2021-07-07T10:33:28.558Z"
   },
   {
    "duration": 23,
    "start_time": "2021-07-07T10:33:43.761Z"
   },
   {
    "duration": 28,
    "start_time": "2021-07-07T10:34:13.466Z"
   },
   {
    "duration": 23,
    "start_time": "2021-07-07T10:35:56.187Z"
   },
   {
    "duration": 6,
    "start_time": "2021-07-07T10:36:48.182Z"
   },
   {
    "duration": 14,
    "start_time": "2021-07-07T10:37:49.641Z"
   },
   {
    "duration": 6,
    "start_time": "2021-07-07T10:38:06.694Z"
   },
   {
    "duration": 6,
    "start_time": "2021-07-07T10:38:13.493Z"
   },
   {
    "duration": 19,
    "start_time": "2021-07-07T10:38:44.056Z"
   },
   {
    "duration": 186,
    "start_time": "2021-07-07T10:48:35.618Z"
   },
   {
    "duration": 24,
    "start_time": "2021-07-07T10:48:51.498Z"
   },
   {
    "duration": 20,
    "start_time": "2021-07-07T10:48:59.415Z"
   },
   {
    "duration": 20,
    "start_time": "2021-07-07T10:53:02.195Z"
   },
   {
    "duration": 188,
    "start_time": "2021-07-07T10:54:40.486Z"
   },
   {
    "duration": 115,
    "start_time": "2021-07-07T10:54:52.552Z"
   },
   {
    "duration": 214,
    "start_time": "2021-07-07T10:54:56.354Z"
   },
   {
    "duration": 47,
    "start_time": "2021-07-07T10:54:58.282Z"
   },
   {
    "duration": 217,
    "start_time": "2021-07-07T10:59:16.075Z"
   },
   {
    "duration": 51,
    "start_time": "2021-07-07T10:59:16.243Z"
   },
   {
    "duration": 578,
    "start_time": "2021-07-07T10:59:18.774Z"
   },
   {
    "duration": 161,
    "start_time": "2021-07-07T10:59:21.238Z"
   },
   {
    "duration": 59,
    "start_time": "2021-07-07T10:59:21.453Z"
   },
   {
    "duration": 3,
    "start_time": "2021-07-07T11:02:10.786Z"
   },
   {
    "duration": 13,
    "start_time": "2021-07-07T11:07:07.722Z"
   },
   {
    "duration": 26,
    "start_time": "2021-07-07T11:07:17.958Z"
   },
   {
    "duration": 22,
    "start_time": "2021-07-07T11:08:17.939Z"
   },
   {
    "duration": 212,
    "start_time": "2021-07-07T11:08:19.665Z"
   },
   {
    "duration": 21,
    "start_time": "2021-07-07T11:08:29.945Z"
   },
   {
    "duration": 31,
    "start_time": "2021-07-07T11:08:38.899Z"
   },
   {
    "duration": 23,
    "start_time": "2021-07-07T11:08:54.527Z"
   },
   {
    "duration": 8,
    "start_time": "2021-07-07T11:18:55.974Z"
   },
   {
    "duration": 7,
    "start_time": "2021-07-07T11:19:03.639Z"
   },
   {
    "duration": 7,
    "start_time": "2021-07-07T11:19:06.444Z"
   },
   {
    "duration": 578,
    "start_time": "2021-07-07T12:09:59.576Z"
   },
   {
    "duration": 195,
    "start_time": "2021-07-07T12:10:00.156Z"
   },
   {
    "duration": 115,
    "start_time": "2021-07-07T12:10:00.353Z"
   },
   {
    "duration": 3,
    "start_time": "2021-07-07T12:10:00.470Z"
   },
   {
    "duration": 32,
    "start_time": "2021-07-07T12:10:00.474Z"
   },
   {
    "duration": 23,
    "start_time": "2021-07-07T12:10:00.508Z"
   },
   {
    "duration": 19,
    "start_time": "2021-07-07T12:10:00.533Z"
   },
   {
    "duration": 44,
    "start_time": "2021-07-07T12:10:00.553Z"
   },
   {
    "duration": 7,
    "start_time": "2021-07-07T12:10:00.600Z"
   },
   {
    "duration": 7,
    "start_time": "2021-07-07T12:19:45.761Z"
   },
   {
    "duration": 21,
    "start_time": "2021-07-07T12:21:35.482Z"
   },
   {
    "duration": 21,
    "start_time": "2021-07-07T12:29:23.569Z"
   },
   {
    "duration": 525,
    "start_time": "2021-07-07T12:29:44.542Z"
   },
   {
    "duration": 214,
    "start_time": "2021-07-07T12:29:45.069Z"
   },
   {
    "duration": 92,
    "start_time": "2021-07-07T12:29:45.285Z"
   },
   {
    "duration": 3,
    "start_time": "2021-07-07T12:29:45.379Z"
   },
   {
    "duration": 28,
    "start_time": "2021-07-07T12:29:45.384Z"
   },
   {
    "duration": 23,
    "start_time": "2021-07-07T12:29:45.413Z"
   },
   {
    "duration": 21,
    "start_time": "2021-07-07T12:29:45.437Z"
   },
   {
    "duration": 41,
    "start_time": "2021-07-07T12:29:45.460Z"
   },
   {
    "duration": 7,
    "start_time": "2021-07-07T12:29:45.502Z"
   },
   {
    "duration": 20,
    "start_time": "2021-07-07T12:29:45.511Z"
   },
   {
    "duration": 12,
    "start_time": "2021-07-07T12:34:02.800Z"
   },
   {
    "duration": 7,
    "start_time": "2021-07-07T12:35:10.479Z"
   },
   {
    "duration": 8,
    "start_time": "2021-07-07T12:35:22.440Z"
   },
   {
    "duration": 6,
    "start_time": "2021-07-07T12:35:35.649Z"
   },
   {
    "duration": 6,
    "start_time": "2021-07-07T12:35:43.107Z"
   },
   {
    "duration": 22,
    "start_time": "2021-07-07T12:38:03.029Z"
   },
   {
    "duration": 10,
    "start_time": "2021-07-07T12:38:06.592Z"
   },
   {
    "duration": 563,
    "start_time": "2021-07-07T12:38:46.493Z"
   },
   {
    "duration": 265,
    "start_time": "2021-07-07T12:38:47.058Z"
   },
   {
    "duration": 94,
    "start_time": "2021-07-07T12:38:47.325Z"
   },
   {
    "duration": 3,
    "start_time": "2021-07-07T12:38:47.422Z"
   },
   {
    "duration": 30,
    "start_time": "2021-07-07T12:38:47.427Z"
   },
   {
    "duration": 16,
    "start_time": "2021-07-07T12:38:53.305Z"
   },
   {
    "duration": 10,
    "start_time": "2021-07-07T12:38:53.499Z"
   },
   {
    "duration": 8,
    "start_time": "2021-07-07T12:39:48.161Z"
   },
   {
    "duration": 27,
    "start_time": "2021-07-07T12:41:17.629Z"
   },
   {
    "duration": 17,
    "start_time": "2021-07-07T12:41:17.867Z"
   },
   {
    "duration": 21,
    "start_time": "2021-07-07T12:41:19.310Z"
   },
   {
    "duration": 7,
    "start_time": "2021-07-07T12:41:19.544Z"
   },
   {
    "duration": 20,
    "start_time": "2021-07-07T12:41:20.504Z"
   },
   {
    "duration": 554,
    "start_time": "2021-07-07T12:56:23.696Z"
   },
   {
    "duration": 200,
    "start_time": "2021-07-07T12:56:25.234Z"
   },
   {
    "duration": 119,
    "start_time": "2021-07-07T12:56:25.480Z"
   },
   {
    "duration": 4,
    "start_time": "2021-07-07T12:56:25.762Z"
   },
   {
    "duration": 26,
    "start_time": "2021-07-07T12:56:27.172Z"
   },
   {
    "duration": 12,
    "start_time": "2021-07-07T12:56:29.051Z"
   },
   {
    "duration": 10,
    "start_time": "2021-07-07T12:56:29.291Z"
   },
   {
    "duration": 8,
    "start_time": "2021-07-07T12:56:29.623Z"
   },
   {
    "duration": 28,
    "start_time": "2021-07-07T12:56:32.137Z"
   },
   {
    "duration": 19,
    "start_time": "2021-07-07T12:56:39.785Z"
   },
   {
    "duration": 20,
    "start_time": "2021-07-07T12:56:44.297Z"
   },
   {
    "duration": 7,
    "start_time": "2021-07-07T12:56:45.392Z"
   },
   {
    "duration": 23,
    "start_time": "2021-07-07T12:56:46.615Z"
   },
   {
    "duration": 4,
    "start_time": "2021-07-07T12:57:06.625Z"
   },
   {
    "duration": 32,
    "start_time": "2021-07-07T12:57:36.690Z"
   },
   {
    "duration": 18,
    "start_time": "2021-07-07T12:58:00.149Z"
   },
   {
    "duration": 15,
    "start_time": "2021-07-07T12:59:16.793Z"
   },
   {
    "duration": 7,
    "start_time": "2021-07-07T13:19:22.624Z"
   },
   {
    "duration": 6,
    "start_time": "2021-07-07T14:17:33.527Z"
   },
   {
    "duration": 9,
    "start_time": "2021-07-07T14:17:48.409Z"
   },
   {
    "duration": 8,
    "start_time": "2021-07-07T14:20:13.060Z"
   },
   {
    "duration": 8,
    "start_time": "2021-07-07T14:20:37.957Z"
   },
   {
    "duration": 8,
    "start_time": "2021-07-07T14:20:47.470Z"
   },
   {
    "duration": 9,
    "start_time": "2021-07-07T14:20:54.503Z"
   },
   {
    "duration": 10,
    "start_time": "2021-07-07T14:28:57.763Z"
   },
   {
    "duration": 3,
    "start_time": "2021-07-07T14:30:23.377Z"
   },
   {
    "duration": 3,
    "start_time": "2021-07-07T14:30:36.489Z"
   },
   {
    "duration": 103,
    "start_time": "2021-07-07T14:30:52.351Z"
   },
   {
    "duration": 8,
    "start_time": "2021-07-07T14:30:54.763Z"
   },
   {
    "duration": 8,
    "start_time": "2021-07-07T14:31:29.301Z"
   },
   {
    "duration": 13,
    "start_time": "2021-07-07T14:31:44.516Z"
   },
   {
    "duration": 7,
    "start_time": "2021-07-07T14:33:10.972Z"
   },
   {
    "duration": 11,
    "start_time": "2021-07-07T14:33:27.780Z"
   },
   {
    "duration": 8,
    "start_time": "2021-07-07T14:34:44.588Z"
   },
   {
    "duration": 57,
    "start_time": "2021-07-07T14:35:59.042Z"
   },
   {
    "duration": 3,
    "start_time": "2021-07-07T14:36:28.168Z"
   },
   {
    "duration": 5,
    "start_time": "2021-07-07T14:36:46.254Z"
   },
   {
    "duration": 4,
    "start_time": "2021-07-07T14:36:52.714Z"
   },
   {
    "duration": 3,
    "start_time": "2021-07-07T14:36:56.612Z"
   },
   {
    "duration": 4,
    "start_time": "2021-07-07T14:36:57.049Z"
   },
   {
    "duration": 3,
    "start_time": "2021-07-07T14:39:21.214Z"
   },
   {
    "duration": 7,
    "start_time": "2021-07-07T14:39:52.406Z"
   },
   {
    "duration": 11,
    "start_time": "2021-07-07T14:39:58.576Z"
   },
   {
    "duration": 9,
    "start_time": "2021-07-07T14:40:26.301Z"
   },
   {
    "duration": 10,
    "start_time": "2021-07-07T14:40:31.704Z"
   },
   {
    "duration": 11,
    "start_time": "2021-07-07T14:40:36.249Z"
   },
   {
    "duration": 10,
    "start_time": "2021-07-07T14:40:39.783Z"
   },
   {
    "duration": 9,
    "start_time": "2021-07-07T14:40:48.558Z"
   },
   {
    "duration": 10,
    "start_time": "2021-07-07T14:40:57.143Z"
   },
   {
    "duration": 9,
    "start_time": "2021-07-07T14:41:06.074Z"
   },
   {
    "duration": 4324,
    "start_time": "2021-07-07T14:41:22.004Z"
   },
   {
    "duration": 11,
    "start_time": "2021-07-07T14:41:33.392Z"
   },
   {
    "duration": 9,
    "start_time": "2021-07-07T14:41:39.288Z"
   },
   {
    "duration": 569,
    "start_time": "2021-07-07T14:42:14.387Z"
   },
   {
    "duration": 197,
    "start_time": "2021-07-07T14:42:14.959Z"
   },
   {
    "duration": 84,
    "start_time": "2021-07-07T14:42:16.052Z"
   },
   {
    "duration": 4,
    "start_time": "2021-07-07T14:42:16.900Z"
   },
   {
    "duration": 27,
    "start_time": "2021-07-07T14:42:19.898Z"
   },
   {
    "duration": 12,
    "start_time": "2021-07-07T14:42:21.577Z"
   },
   {
    "duration": 9,
    "start_time": "2021-07-07T14:42:21.813Z"
   },
   {
    "duration": 9,
    "start_time": "2021-07-07T14:42:22.569Z"
   },
   {
    "duration": 29,
    "start_time": "2021-07-07T14:42:25.837Z"
   },
   {
    "duration": 20,
    "start_time": "2021-07-07T14:42:27.003Z"
   },
   {
    "duration": 21,
    "start_time": "2021-07-07T14:42:28.767Z"
   },
   {
    "duration": 7,
    "start_time": "2021-07-07T14:42:29.838Z"
   },
   {
    "duration": 4,
    "start_time": "2021-07-07T14:43:25.493Z"
   },
   {
    "duration": 7,
    "start_time": "2021-07-07T14:43:26.573Z"
   },
   {
    "duration": 10,
    "start_time": "2021-07-07T14:43:31.639Z"
   },
   {
    "duration": 9,
    "start_time": "2021-07-07T14:43:32.046Z"
   },
   {
    "duration": 10,
    "start_time": "2021-07-07T14:43:33.301Z"
   },
   {
    "duration": 12,
    "start_time": "2021-07-07T14:43:33.658Z"
   },
   {
    "duration": 8,
    "start_time": "2021-07-07T14:43:34.552Z"
   },
   {
    "duration": 9,
    "start_time": "2021-07-07T14:43:35.058Z"
   },
   {
    "duration": 12,
    "start_time": "2021-07-07T14:43:35.914Z"
   },
   {
    "duration": 17,
    "start_time": "2021-07-07T14:45:34.368Z"
   },
   {
    "duration": 512,
    "start_time": "2021-07-07T14:51:58.236Z"
   },
   {
    "duration": 223,
    "start_time": "2021-07-07T14:51:58.750Z"
   },
   {
    "duration": 93,
    "start_time": "2021-07-07T14:51:58.977Z"
   },
   {
    "duration": 4,
    "start_time": "2021-07-07T14:51:59.071Z"
   },
   {
    "duration": 37,
    "start_time": "2021-07-07T14:51:59.077Z"
   },
   {
    "duration": 18,
    "start_time": "2021-07-07T14:51:59.116Z"
   },
   {
    "duration": 10,
    "start_time": "2021-07-07T14:51:59.137Z"
   },
   {
    "duration": 8,
    "start_time": "2021-07-07T14:51:59.149Z"
   },
   {
    "duration": 54,
    "start_time": "2021-07-07T14:51:59.158Z"
   },
   {
    "duration": 18,
    "start_time": "2021-07-07T14:51:59.213Z"
   },
   {
    "duration": 22,
    "start_time": "2021-07-07T14:51:59.232Z"
   },
   {
    "duration": 36,
    "start_time": "2021-07-07T14:51:59.255Z"
   },
   {
    "duration": 7,
    "start_time": "2021-07-07T14:51:59.293Z"
   },
   {
    "duration": 10,
    "start_time": "2021-07-07T14:51:59.302Z"
   },
   {
    "duration": 9,
    "start_time": "2021-07-07T14:51:59.313Z"
   },
   {
    "duration": 11,
    "start_time": "2021-07-07T14:51:59.324Z"
   },
   {
    "duration": 8,
    "start_time": "2021-07-07T14:51:59.337Z"
   },
   {
    "duration": 46,
    "start_time": "2021-07-07T14:51:59.347Z"
   },
   {
    "duration": 22,
    "start_time": "2021-07-07T14:51:59.395Z"
   },
   {
    "duration": 24,
    "start_time": "2021-07-07T14:57:32.911Z"
   },
   {
    "duration": 7,
    "start_time": "2021-07-07T14:58:22.070Z"
   },
   {
    "duration": 4,
    "start_time": "2021-07-07T14:59:11.239Z"
   },
   {
    "duration": 25,
    "start_time": "2021-07-07T15:07:22.208Z"
   },
   {
    "duration": 16,
    "start_time": "2021-07-07T15:08:25.560Z"
   },
   {
    "duration": 15,
    "start_time": "2021-07-07T15:08:40.647Z"
   },
   {
    "duration": 14,
    "start_time": "2021-07-07T15:08:46.669Z"
   },
   {
    "duration": 533,
    "start_time": "2021-07-07T15:18:07.440Z"
   },
   {
    "duration": 173,
    "start_time": "2021-07-07T15:18:07.974Z"
   },
   {
    "duration": 84,
    "start_time": "2021-07-07T15:18:08.149Z"
   },
   {
    "duration": 3,
    "start_time": "2021-07-07T15:18:08.235Z"
   },
   {
    "duration": 30,
    "start_time": "2021-07-07T15:18:08.240Z"
   },
   {
    "duration": 22,
    "start_time": "2021-07-07T15:18:08.272Z"
   },
   {
    "duration": 11,
    "start_time": "2021-07-07T15:18:08.295Z"
   },
   {
    "duration": 11,
    "start_time": "2021-07-07T15:18:08.309Z"
   },
   {
    "duration": 40,
    "start_time": "2021-07-07T15:18:08.322Z"
   },
   {
    "duration": 42,
    "start_time": "2021-07-07T15:18:08.364Z"
   },
   {
    "duration": 22,
    "start_time": "2021-07-07T15:18:08.408Z"
   },
   {
    "duration": 5,
    "start_time": "2021-07-07T15:18:08.432Z"
   },
   {
    "duration": 13,
    "start_time": "2021-07-07T15:18:08.439Z"
   },
   {
    "duration": 9,
    "start_time": "2021-07-07T15:18:08.454Z"
   },
   {
    "duration": 32,
    "start_time": "2021-07-07T15:18:08.465Z"
   },
   {
    "duration": 10,
    "start_time": "2021-07-07T15:18:08.501Z"
   },
   {
    "duration": 7,
    "start_time": "2021-07-07T15:18:08.513Z"
   },
   {
    "duration": 11,
    "start_time": "2021-07-07T15:18:08.521Z"
   },
   {
    "duration": 17,
    "start_time": "2021-07-07T15:18:08.534Z"
   },
   {
    "duration": 44,
    "start_time": "2021-07-07T15:18:08.553Z"
   },
   {
    "duration": 22,
    "start_time": "2021-07-07T15:18:08.599Z"
   },
   {
    "duration": 61,
    "start_time": "2021-07-07T15:18:08.622Z"
   },
   {
    "duration": 7,
    "start_time": "2021-07-07T15:18:39.457Z"
   },
   {
    "duration": 5,
    "start_time": "2021-07-07T16:05:17.020Z"
   },
   {
    "duration": 5,
    "start_time": "2021-07-07T16:51:28.794Z"
   },
   {
    "duration": 546,
    "start_time": "2021-07-07T16:52:26.306Z"
   },
   {
    "duration": 203,
    "start_time": "2021-07-07T16:52:27.523Z"
   },
   {
    "duration": 85,
    "start_time": "2021-07-07T16:52:27.736Z"
   },
   {
    "duration": 4,
    "start_time": "2021-07-07T16:52:27.899Z"
   },
   {
    "duration": 25,
    "start_time": "2021-07-07T16:52:28.674Z"
   },
   {
    "duration": 8,
    "start_time": "2021-07-07T16:52:32.956Z"
   },
   {
    "duration": 18,
    "start_time": "2021-07-07T16:52:35.616Z"
   },
   {
    "duration": 6,
    "start_time": "2021-07-07T16:52:36.913Z"
   },
   {
    "duration": 11,
    "start_time": "2021-07-07T16:52:40.258Z"
   },
   {
    "duration": 10,
    "start_time": "2021-07-07T16:52:46.251Z"
   },
   {
    "duration": 8,
    "start_time": "2021-07-07T16:52:47.182Z"
   },
   {
    "duration": 27,
    "start_time": "2021-07-07T16:53:20.391Z"
   },
   {
    "duration": 20,
    "start_time": "2021-07-07T16:53:22.022Z"
   },
   {
    "duration": 23,
    "start_time": "2021-07-07T16:53:23.690Z"
   },
   {
    "duration": 8,
    "start_time": "2021-07-07T16:53:24.261Z"
   },
   {
    "duration": 4,
    "start_time": "2021-07-07T16:53:38.733Z"
   },
   {
    "duration": 7,
    "start_time": "2021-07-07T16:53:40.445Z"
   },
   {
    "duration": 11,
    "start_time": "2021-07-07T16:53:41.348Z"
   },
   {
    "duration": 13,
    "start_time": "2021-07-07T16:53:45.250Z"
   },
   {
    "duration": 12,
    "start_time": "2021-07-07T16:53:45.467Z"
   },
   {
    "duration": 4,
    "start_time": "2021-07-07T16:55:32.704Z"
   },
   {
    "duration": 12,
    "start_time": "2021-07-07T16:55:49.012Z"
   },
   {
    "duration": 18,
    "start_time": "2021-07-07T16:55:49.547Z"
   },
   {
    "duration": 611,
    "start_time": "2021-07-07T16:58:35.156Z"
   },
   {
    "duration": 200,
    "start_time": "2021-07-07T16:58:35.770Z"
   },
   {
    "duration": 86,
    "start_time": "2021-07-07T16:58:35.972Z"
   },
   {
    "duration": 3,
    "start_time": "2021-07-07T16:58:36.060Z"
   },
   {
    "duration": 27,
    "start_time": "2021-07-07T16:58:36.065Z"
   },
   {
    "duration": 8,
    "start_time": "2021-07-07T16:58:36.094Z"
   },
   {
    "duration": 17,
    "start_time": "2021-07-07T16:58:36.103Z"
   },
   {
    "duration": 5,
    "start_time": "2021-07-07T16:58:36.123Z"
   },
   {
    "duration": 11,
    "start_time": "2021-07-07T16:58:36.130Z"
   },
   {
    "duration": 7,
    "start_time": "2021-07-07T16:58:36.143Z"
   },
   {
    "duration": 37,
    "start_time": "2021-07-07T16:58:36.152Z"
   },
   {
    "duration": 27,
    "start_time": "2021-07-07T16:58:36.191Z"
   },
   {
    "duration": 19,
    "start_time": "2021-07-07T16:58:36.219Z"
   },
   {
    "duration": 49,
    "start_time": "2021-07-07T16:58:36.240Z"
   },
   {
    "duration": 6,
    "start_time": "2021-07-07T16:58:36.291Z"
   },
   {
    "duration": 3,
    "start_time": "2021-07-07T16:58:36.299Z"
   },
   {
    "duration": 13,
    "start_time": "2021-07-07T16:58:36.304Z"
   },
   {
    "duration": 10,
    "start_time": "2021-07-07T16:58:36.319Z"
   },
   {
    "duration": 10,
    "start_time": "2021-07-07T16:58:36.331Z"
   },
   {
    "duration": 44,
    "start_time": "2021-07-07T16:58:36.343Z"
   },
   {
    "duration": 4,
    "start_time": "2021-07-07T16:58:36.388Z"
   },
   {
    "duration": 13,
    "start_time": "2021-07-07T16:58:36.394Z"
   },
   {
    "duration": 16,
    "start_time": "2021-07-07T16:58:36.410Z"
   },
   {
    "duration": 8,
    "start_time": "2021-07-07T17:02:31.629Z"
   },
   {
    "duration": 8,
    "start_time": "2021-07-07T17:02:34.308Z"
   },
   {
    "duration": 6,
    "start_time": "2021-07-07T17:05:13.483Z"
   },
   {
    "duration": 17,
    "start_time": "2021-07-07T17:05:20.606Z"
   },
   {
    "duration": 7,
    "start_time": "2021-07-07T17:05:34.638Z"
   },
   {
    "duration": 3,
    "start_time": "2021-07-07T17:06:31.883Z"
   },
   {
    "duration": 570,
    "start_time": "2021-07-07T17:06:37.165Z"
   },
   {
    "duration": 174,
    "start_time": "2021-07-07T17:06:37.737Z"
   },
   {
    "duration": 47,
    "start_time": "2021-07-07T17:06:37.913Z"
   },
   {
    "duration": 3,
    "start_time": "2021-07-07T17:06:37.962Z"
   },
   {
    "duration": 27,
    "start_time": "2021-07-07T17:06:37.967Z"
   },
   {
    "duration": 7,
    "start_time": "2021-07-07T17:06:37.996Z"
   },
   {
    "duration": 16,
    "start_time": "2021-07-07T17:06:38.005Z"
   },
   {
    "duration": 6,
    "start_time": "2021-07-07T17:06:38.024Z"
   },
   {
    "duration": 12,
    "start_time": "2021-07-07T17:06:38.031Z"
   },
   {
    "duration": 41,
    "start_time": "2021-07-07T17:06:38.045Z"
   },
   {
    "duration": 8,
    "start_time": "2021-07-07T17:06:38.088Z"
   },
   {
    "duration": 26,
    "start_time": "2021-07-07T17:06:38.098Z"
   },
   {
    "duration": 17,
    "start_time": "2021-07-07T17:06:38.126Z"
   },
   {
    "duration": 43,
    "start_time": "2021-07-07T17:06:38.144Z"
   },
   {
    "duration": 6,
    "start_time": "2021-07-07T17:06:38.188Z"
   },
   {
    "duration": 5,
    "start_time": "2021-07-07T17:06:38.195Z"
   },
   {
    "duration": 9,
    "start_time": "2021-07-07T17:06:38.201Z"
   },
   {
    "duration": 12,
    "start_time": "2021-07-07T17:06:38.212Z"
   },
   {
    "duration": 11,
    "start_time": "2021-07-07T17:06:38.226Z"
   },
   {
    "duration": 47,
    "start_time": "2021-07-07T17:06:38.239Z"
   },
   {
    "duration": 4,
    "start_time": "2021-07-07T17:06:38.288Z"
   },
   {
    "duration": 13,
    "start_time": "2021-07-07T17:06:38.293Z"
   },
   {
    "duration": 5,
    "start_time": "2021-07-07T17:06:38.309Z"
   },
   {
    "duration": 18,
    "start_time": "2021-07-07T17:06:38.325Z"
   },
   {
    "duration": 20,
    "start_time": "2021-07-07T17:07:02.805Z"
   },
   {
    "duration": 19,
    "start_time": "2021-07-07T17:07:08.527Z"
   },
   {
    "duration": 19,
    "start_time": "2021-07-07T17:07:12.758Z"
   },
   {
    "duration": 22,
    "start_time": "2021-07-07T17:07:17.497Z"
   },
   {
    "duration": 19,
    "start_time": "2021-07-07T17:07:19.645Z"
   },
   {
    "duration": 10,
    "start_time": "2021-07-07T17:07:34.239Z"
   },
   {
    "duration": 17,
    "start_time": "2021-07-07T17:07:54.144Z"
   },
   {
    "duration": 14,
    "start_time": "2021-07-07T17:08:14.357Z"
   },
   {
    "duration": 616,
    "start_time": "2021-07-07T17:08:45.254Z"
   },
   {
    "duration": 178,
    "start_time": "2021-07-07T17:08:45.872Z"
   },
   {
    "duration": 60,
    "start_time": "2021-07-07T17:08:46.054Z"
   },
   {
    "duration": 3,
    "start_time": "2021-07-07T17:08:46.116Z"
   },
   {
    "duration": 26,
    "start_time": "2021-07-07T17:08:46.121Z"
   },
   {
    "duration": 7,
    "start_time": "2021-07-07T17:08:46.149Z"
   },
   {
    "duration": 17,
    "start_time": "2021-07-07T17:08:46.158Z"
   },
   {
    "duration": 14,
    "start_time": "2021-07-07T17:08:46.176Z"
   },
   {
    "duration": 17,
    "start_time": "2021-07-07T17:08:46.193Z"
   },
   {
    "duration": 9,
    "start_time": "2021-07-07T17:08:46.211Z"
   },
   {
    "duration": 21,
    "start_time": "2021-07-07T17:08:46.221Z"
   },
   {
    "duration": 49,
    "start_time": "2021-07-07T17:08:46.244Z"
   },
   {
    "duration": 24,
    "start_time": "2021-07-07T17:08:46.295Z"
   },
   {
    "duration": 22,
    "start_time": "2021-07-07T17:08:46.321Z"
   },
   {
    "duration": 6,
    "start_time": "2021-07-07T17:08:46.345Z"
   },
   {
    "duration": 5,
    "start_time": "2021-07-07T17:08:46.353Z"
   },
   {
    "duration": 13,
    "start_time": "2021-07-07T17:08:46.386Z"
   },
   {
    "duration": 12,
    "start_time": "2021-07-07T17:08:46.402Z"
   },
   {
    "duration": 10,
    "start_time": "2021-07-07T17:08:46.415Z"
   },
   {
    "duration": 7,
    "start_time": "2021-07-07T17:08:46.427Z"
   },
   {
    "duration": 8,
    "start_time": "2021-07-07T17:08:46.435Z"
   },
   {
    "duration": 68,
    "start_time": "2021-07-07T17:08:46.446Z"
   },
   {
    "duration": 13,
    "start_time": "2021-07-07T17:08:46.516Z"
   },
   {
    "duration": 78,
    "start_time": "2021-07-07T17:08:46.530Z"
   },
   {
    "duration": 40,
    "start_time": "2021-07-07T17:09:08.185Z"
   },
   {
    "duration": 16,
    "start_time": "2021-07-07T17:09:19.324Z"
   },
   {
    "duration": 21,
    "start_time": "2021-07-07T17:09:23.290Z"
   },
   {
    "duration": 13,
    "start_time": "2021-07-07T17:09:54.812Z"
   },
   {
    "duration": 13,
    "start_time": "2021-07-07T17:10:02.039Z"
   },
   {
    "duration": 10,
    "start_time": "2021-07-07T17:10:29.632Z"
   },
   {
    "duration": 13,
    "start_time": "2021-07-07T17:10:52.372Z"
   },
   {
    "duration": 13,
    "start_time": "2021-07-07T17:11:17.270Z"
   },
   {
    "duration": 13,
    "start_time": "2021-07-07T17:14:59.284Z"
   },
   {
    "duration": 547,
    "start_time": "2021-07-07T17:18:52.403Z"
   },
   {
    "duration": 163,
    "start_time": "2021-07-07T17:18:52.952Z"
   },
   {
    "duration": 44,
    "start_time": "2021-07-07T17:18:53.117Z"
   },
   {
    "duration": 3,
    "start_time": "2021-07-07T17:18:53.162Z"
   },
   {
    "duration": 26,
    "start_time": "2021-07-07T17:18:53.167Z"
   },
   {
    "duration": 6,
    "start_time": "2021-07-07T17:18:53.195Z"
   },
   {
    "duration": 15,
    "start_time": "2021-07-07T17:18:53.203Z"
   },
   {
    "duration": 5,
    "start_time": "2021-07-07T17:18:53.220Z"
   },
   {
    "duration": 11,
    "start_time": "2021-07-07T17:18:53.228Z"
   },
   {
    "duration": 9,
    "start_time": "2021-07-07T17:18:53.241Z"
   },
   {
    "duration": 41,
    "start_time": "2021-07-07T17:18:53.252Z"
   },
   {
    "duration": 33,
    "start_time": "2021-07-07T17:18:53.295Z"
   },
   {
    "duration": 19,
    "start_time": "2021-07-07T17:18:53.330Z"
   },
   {
    "duration": 49,
    "start_time": "2021-07-07T17:18:53.350Z"
   },
   {
    "duration": 5,
    "start_time": "2021-07-07T17:18:53.401Z"
   },
   {
    "duration": 5,
    "start_time": "2021-07-07T17:18:53.408Z"
   },
   {
    "duration": 11,
    "start_time": "2021-07-07T17:18:53.414Z"
   },
   {
    "duration": 9,
    "start_time": "2021-07-07T17:18:53.427Z"
   },
   {
    "duration": 10,
    "start_time": "2021-07-07T17:18:53.437Z"
   },
   {
    "duration": 39,
    "start_time": "2021-07-07T17:18:53.448Z"
   },
   {
    "duration": 26,
    "start_time": "2021-07-07T17:18:55.799Z"
   },
   {
    "duration": 598,
    "start_time": "2021-07-07T17:20:17.862Z"
   },
   {
    "duration": 161,
    "start_time": "2021-07-07T17:20:18.462Z"
   },
   {
    "duration": 45,
    "start_time": "2021-07-07T17:20:18.626Z"
   },
   {
    "duration": 4,
    "start_time": "2021-07-07T17:20:18.673Z"
   },
   {
    "duration": 38,
    "start_time": "2021-07-07T17:20:26.877Z"
   },
   {
    "duration": 7,
    "start_time": "2021-07-07T17:20:37.405Z"
   },
   {
    "duration": 19,
    "start_time": "2021-07-07T17:20:51.534Z"
   },
   {
    "duration": 5,
    "start_time": "2021-07-07T17:20:57.228Z"
   },
   {
    "duration": 7,
    "start_time": "2021-07-07T17:21:08.235Z"
   },
   {
    "duration": 19,
    "start_time": "2021-07-07T17:21:42.158Z"
   },
   {
    "duration": 14,
    "start_time": "2021-07-07T17:21:50.225Z"
   },
   {
    "duration": 22,
    "start_time": "2021-07-07T17:22:54.104Z"
   },
   {
    "duration": 5,
    "start_time": "2021-07-07T17:22:56.371Z"
   },
   {
    "duration": 14,
    "start_time": "2021-07-07T17:22:58.316Z"
   },
   {
    "duration": 5,
    "start_time": "2021-07-07T17:22:58.493Z"
   },
   {
    "duration": 35,
    "start_time": "2021-07-07T17:22:59.666Z"
   },
   {
    "duration": 6,
    "start_time": "2021-07-07T17:23:02.410Z"
   },
   {
    "duration": 611,
    "start_time": "2021-07-07T17:24:59.664Z"
   },
   {
    "duration": 178,
    "start_time": "2021-07-07T17:25:01.945Z"
   },
   {
    "duration": 47,
    "start_time": "2021-07-07T17:25:02.125Z"
   },
   {
    "duration": 2,
    "start_time": "2021-07-07T17:25:07.903Z"
   },
   {
    "duration": 254,
    "start_time": "2021-07-07T17:25:08.232Z"
   },
   {
    "duration": 182,
    "start_time": "2021-07-07T17:25:08.671Z"
   },
   {
    "duration": 6,
    "start_time": "2021-07-07T17:25:13.104Z"
   },
   {
    "duration": 36,
    "start_time": "2021-07-07T17:25:13.662Z"
   },
   {
    "duration": 7,
    "start_time": "2021-07-07T17:25:14.528Z"
   },
   {
    "duration": 24,
    "start_time": "2021-07-07T17:25:27.982Z"
   },
   {
    "duration": 3,
    "start_time": "2021-07-07T17:25:48.982Z"
   },
   {
    "duration": 165,
    "start_time": "2021-07-07T17:25:48.987Z"
   },
   {
    "duration": 50,
    "start_time": "2021-07-07T17:25:49.154Z"
   },
   {
    "duration": 4,
    "start_time": "2021-07-07T17:25:49.206Z"
   },
   {
    "duration": 26,
    "start_time": "2021-07-07T17:25:49.212Z"
   },
   {
    "duration": 7,
    "start_time": "2021-07-07T17:25:49.240Z"
   },
   {
    "duration": 16,
    "start_time": "2021-07-07T17:25:49.249Z"
   },
   {
    "duration": 22,
    "start_time": "2021-07-07T17:25:49.266Z"
   },
   {
    "duration": 16,
    "start_time": "2021-07-07T17:25:49.291Z"
   },
   {
    "duration": 9,
    "start_time": "2021-07-07T17:25:49.309Z"
   },
   {
    "duration": 7,
    "start_time": "2021-07-07T17:25:49.319Z"
   },
   {
    "duration": 28,
    "start_time": "2021-07-07T17:25:49.328Z"
   },
   {
    "duration": 44,
    "start_time": "2021-07-07T17:25:49.357Z"
   },
   {
    "duration": 22,
    "start_time": "2021-07-07T17:25:49.403Z"
   },
   {
    "duration": 7,
    "start_time": "2021-07-07T17:25:49.427Z"
   },
   {
    "duration": 3,
    "start_time": "2021-07-07T17:25:49.436Z"
   },
   {
    "duration": 44,
    "start_time": "2021-07-07T17:25:49.441Z"
   },
   {
    "duration": 12,
    "start_time": "2021-07-07T17:25:49.488Z"
   },
   {
    "duration": 13,
    "start_time": "2021-07-07T17:25:49.502Z"
   },
   {
    "duration": 10,
    "start_time": "2021-07-07T17:25:49.516Z"
   },
   {
    "duration": 62,
    "start_time": "2021-07-07T17:25:49.527Z"
   },
   {
    "duration": 26,
    "start_time": "2021-07-07T17:26:51.809Z"
   },
   {
    "duration": 26,
    "start_time": "2021-07-07T17:26:55.759Z"
   },
   {
    "duration": 26,
    "start_time": "2021-07-07T17:27:04.501Z"
   },
   {
    "duration": 25,
    "start_time": "2021-07-07T17:28:24.859Z"
   },
   {
    "duration": 21,
    "start_time": "2021-07-07T17:28:55.250Z"
   },
   {
    "duration": 21,
    "start_time": "2021-07-07T17:28:58.885Z"
   },
   {
    "duration": 7,
    "start_time": "2021-07-07T17:45:40.972Z"
   },
   {
    "duration": 13,
    "start_time": "2021-07-07T17:45:42.529Z"
   },
   {
    "duration": 27,
    "start_time": "2021-07-07T17:45:51.026Z"
   },
   {
    "duration": 518,
    "start_time": "2021-07-07T17:46:15.532Z"
   },
   {
    "duration": 235,
    "start_time": "2021-07-07T17:46:16.053Z"
   },
   {
    "duration": 80,
    "start_time": "2021-07-07T17:46:16.292Z"
   },
   {
    "duration": 5,
    "start_time": "2021-07-07T17:46:16.373Z"
   },
   {
    "duration": 26,
    "start_time": "2021-07-07T17:46:16.380Z"
   },
   {
    "duration": 7,
    "start_time": "2021-07-07T17:46:16.408Z"
   },
   {
    "duration": 16,
    "start_time": "2021-07-07T17:46:16.418Z"
   },
   {
    "duration": 5,
    "start_time": "2021-07-07T17:46:16.436Z"
   },
   {
    "duration": 13,
    "start_time": "2021-07-07T17:46:16.442Z"
   },
   {
    "duration": 35,
    "start_time": "2021-07-07T17:46:16.456Z"
   },
   {
    "duration": 8,
    "start_time": "2021-07-07T17:46:16.493Z"
   },
   {
    "duration": 28,
    "start_time": "2021-07-07T17:46:16.502Z"
   },
   {
    "duration": 17,
    "start_time": "2021-07-07T17:46:16.532Z"
   },
   {
    "duration": 44,
    "start_time": "2021-07-07T17:46:16.551Z"
   },
   {
    "duration": 6,
    "start_time": "2021-07-07T17:46:16.597Z"
   },
   {
    "duration": 4,
    "start_time": "2021-07-07T17:46:16.605Z"
   },
   {
    "duration": 9,
    "start_time": "2021-07-07T17:46:16.610Z"
   },
   {
    "duration": 9,
    "start_time": "2021-07-07T17:46:16.621Z"
   },
   {
    "duration": 10,
    "start_time": "2021-07-07T17:46:16.632Z"
   },
   {
    "duration": 43,
    "start_time": "2021-07-07T17:46:16.644Z"
   },
   {
    "duration": 26,
    "start_time": "2021-07-07T17:46:16.689Z"
   },
   {
    "duration": 19,
    "start_time": "2021-07-07T17:46:16.718Z"
   },
   {
    "duration": 8,
    "start_time": "2021-07-07T17:46:16.738Z"
   },
   {
    "duration": 43,
    "start_time": "2021-07-07T17:46:16.747Z"
   },
   {
    "duration": 19,
    "start_time": "2021-07-07T17:46:16.791Z"
   },
   {
    "duration": 9,
    "start_time": "2021-07-07T17:46:16.812Z"
   },
   {
    "duration": 60,
    "start_time": "2021-07-07T17:46:16.822Z"
   },
   {
    "duration": -8,
    "start_time": "2021-07-07T17:46:16.892Z"
   },
   {
    "duration": 12,
    "start_time": "2021-07-07T17:48:47.707Z"
   },
   {
    "duration": 553,
    "start_time": "2021-07-07T18:10:09.350Z"
   },
   {
    "duration": 230,
    "start_time": "2021-07-07T18:10:09.905Z"
   },
   {
    "duration": 97,
    "start_time": "2021-07-07T18:10:10.137Z"
   },
   {
    "duration": 5,
    "start_time": "2021-07-07T18:10:10.236Z"
   },
   {
    "duration": 29,
    "start_time": "2021-07-07T18:10:10.242Z"
   },
   {
    "duration": 7,
    "start_time": "2021-07-07T18:10:10.272Z"
   },
   {
    "duration": 15,
    "start_time": "2021-07-07T18:10:10.281Z"
   },
   {
    "duration": 4,
    "start_time": "2021-07-07T18:10:10.299Z"
   },
   {
    "duration": 14,
    "start_time": "2021-07-07T18:10:10.305Z"
   },
   {
    "duration": 8,
    "start_time": "2021-07-07T18:10:10.321Z"
   },
   {
    "duration": 8,
    "start_time": "2021-07-07T18:10:10.331Z"
   },
   {
    "duration": 56,
    "start_time": "2021-07-07T18:10:10.341Z"
   },
   {
    "duration": 19,
    "start_time": "2021-07-07T18:10:10.399Z"
   },
   {
    "duration": 23,
    "start_time": "2021-07-07T18:10:10.419Z"
   },
   {
    "duration": 6,
    "start_time": "2021-07-07T18:10:10.444Z"
   },
   {
    "duration": 9,
    "start_time": "2021-07-07T18:10:10.451Z"
   },
   {
    "duration": 30,
    "start_time": "2021-07-07T18:10:10.462Z"
   },
   {
    "duration": 9,
    "start_time": "2021-07-07T18:10:10.494Z"
   },
   {
    "duration": 14,
    "start_time": "2021-07-07T18:10:10.505Z"
   },
   {
    "duration": 7,
    "start_time": "2021-07-07T18:10:10.521Z"
   },
   {
    "duration": 26,
    "start_time": "2021-07-07T18:10:10.530Z"
   },
   {
    "duration": 44,
    "start_time": "2021-07-07T18:10:10.558Z"
   },
   {
    "duration": 7,
    "start_time": "2021-07-07T18:10:10.605Z"
   },
   {
    "duration": 11,
    "start_time": "2021-07-07T18:10:10.614Z"
   },
   {
    "duration": 19,
    "start_time": "2021-07-07T18:10:10.626Z"
   },
   {
    "duration": 44,
    "start_time": "2021-07-07T18:10:10.646Z"
   },
   {
    "duration": 516,
    "start_time": "2021-07-07T18:14:00.826Z"
   },
   {
    "duration": 230,
    "start_time": "2021-07-07T18:14:01.344Z"
   },
   {
    "duration": 105,
    "start_time": "2021-07-07T18:14:01.576Z"
   },
   {
    "duration": 5,
    "start_time": "2021-07-07T18:14:01.683Z"
   },
   {
    "duration": 46,
    "start_time": "2021-07-07T18:14:01.690Z"
   },
   {
    "duration": 7,
    "start_time": "2021-07-07T18:14:01.738Z"
   },
   {
    "duration": 20,
    "start_time": "2021-07-07T18:14:01.747Z"
   },
   {
    "duration": 16,
    "start_time": "2021-07-07T18:14:01.769Z"
   },
   {
    "duration": 14,
    "start_time": "2021-07-07T18:14:01.787Z"
   },
   {
    "duration": 15,
    "start_time": "2021-07-07T18:14:01.803Z"
   },
   {
    "duration": 12,
    "start_time": "2021-07-07T18:14:01.820Z"
   },
   {
    "duration": 35,
    "start_time": "2021-07-07T18:14:01.833Z"
   },
   {
    "duration": 31,
    "start_time": "2021-07-07T18:14:01.869Z"
   },
   {
    "duration": 37,
    "start_time": "2021-07-07T18:14:01.902Z"
   },
   {
    "duration": 8,
    "start_time": "2021-07-07T18:14:01.942Z"
   },
   {
    "duration": 16,
    "start_time": "2021-07-07T18:14:01.952Z"
   },
   {
    "duration": 13,
    "start_time": "2021-07-07T18:14:01.970Z"
   },
   {
    "duration": 32,
    "start_time": "2021-07-07T18:14:01.985Z"
   },
   {
    "duration": 11,
    "start_time": "2021-07-07T18:14:02.019Z"
   },
   {
    "duration": 22,
    "start_time": "2021-07-07T18:14:02.031Z"
   },
   {
    "duration": 27,
    "start_time": "2021-07-07T18:14:02.055Z"
   },
   {
    "duration": 18,
    "start_time": "2021-07-07T18:14:02.084Z"
   },
   {
    "duration": 18,
    "start_time": "2021-07-07T18:14:02.106Z"
   },
   {
    "duration": 11,
    "start_time": "2021-07-07T18:14:02.126Z"
   },
   {
    "duration": 21,
    "start_time": "2021-07-07T18:14:02.138Z"
   },
   {
    "duration": 32,
    "start_time": "2021-07-07T18:14:02.161Z"
   },
   {
    "duration": 28,
    "start_time": "2021-07-07T18:14:44.295Z"
   },
   {
    "duration": 6,
    "start_time": "2021-07-07T18:15:05.834Z"
   },
   {
    "duration": 511,
    "start_time": "2021-07-07T18:15:41.541Z"
   },
   {
    "duration": 183,
    "start_time": "2021-07-07T18:15:42.054Z"
   },
   {
    "duration": 50,
    "start_time": "2021-07-07T18:15:42.239Z"
   },
   {
    "duration": 5,
    "start_time": "2021-07-07T18:15:42.291Z"
   },
   {
    "duration": 48,
    "start_time": "2021-07-07T18:15:42.297Z"
   },
   {
    "duration": 8,
    "start_time": "2021-07-07T18:15:42.346Z"
   },
   {
    "duration": 17,
    "start_time": "2021-07-07T18:15:42.356Z"
   },
   {
    "duration": 15,
    "start_time": "2021-07-07T18:15:42.375Z"
   },
   {
    "duration": 12,
    "start_time": "2021-07-07T18:15:42.392Z"
   },
   {
    "duration": 7,
    "start_time": "2021-07-07T18:15:42.406Z"
   },
   {
    "duration": 7,
    "start_time": "2021-07-07T18:15:42.415Z"
   },
   {
    "duration": 29,
    "start_time": "2021-07-07T18:15:42.423Z"
   },
   {
    "duration": 43,
    "start_time": "2021-07-07T18:15:42.453Z"
   },
   {
    "duration": 18,
    "start_time": "2021-07-07T18:15:42.497Z"
   },
   {
    "duration": 6,
    "start_time": "2021-07-07T18:15:42.516Z"
   },
   {
    "duration": 3,
    "start_time": "2021-07-07T18:15:42.523Z"
   },
   {
    "duration": 18,
    "start_time": "2021-07-07T18:15:42.528Z"
   },
   {
    "duration": 10,
    "start_time": "2021-07-07T18:15:42.547Z"
   },
   {
    "duration": 36,
    "start_time": "2021-07-07T18:15:42.559Z"
   },
   {
    "duration": 8,
    "start_time": "2021-07-07T18:15:42.597Z"
   },
   {
    "duration": 28,
    "start_time": "2021-07-07T18:15:42.606Z"
   },
   {
    "duration": 52,
    "start_time": "2021-07-07T18:15:42.635Z"
   },
   {
    "duration": 7,
    "start_time": "2021-07-07T18:15:42.690Z"
   },
   {
    "duration": 10,
    "start_time": "2021-07-07T18:15:42.699Z"
   },
   {
    "duration": 19,
    "start_time": "2021-07-07T18:15:42.711Z"
   },
   {
    "duration": 9,
    "start_time": "2021-07-07T18:15:42.732Z"
   },
   {
    "duration": 5,
    "start_time": "2021-07-07T18:15:42.743Z"
   },
   {
    "duration": 1450,
    "start_time": "2021-07-07T18:15:51.984Z"
   },
   {
    "duration": 161,
    "start_time": "2021-07-07T18:15:53.435Z"
   },
   {
    "duration": 124,
    "start_time": "2021-07-07T18:15:53.598Z"
   },
   {
    "duration": 5,
    "start_time": "2021-07-07T18:15:53.724Z"
   },
   {
    "duration": 34,
    "start_time": "2021-07-07T18:15:53.730Z"
   },
   {
    "duration": 7,
    "start_time": "2021-07-07T18:15:53.765Z"
   },
   {
    "duration": 15,
    "start_time": "2021-07-07T18:15:53.773Z"
   },
   {
    "duration": 5,
    "start_time": "2021-07-07T18:15:53.791Z"
   },
   {
    "duration": 19,
    "start_time": "2021-07-07T18:15:53.798Z"
   },
   {
    "duration": 9,
    "start_time": "2021-07-07T18:15:53.818Z"
   },
   {
    "duration": 19,
    "start_time": "2021-07-07T18:15:53.828Z"
   },
   {
    "duration": 27,
    "start_time": "2021-07-07T18:15:53.848Z"
   },
   {
    "duration": 16,
    "start_time": "2021-07-07T18:15:53.884Z"
   },
   {
    "duration": 29,
    "start_time": "2021-07-07T18:15:53.901Z"
   },
   {
    "duration": 5,
    "start_time": "2021-07-07T18:15:53.932Z"
   },
   {
    "duration": 15,
    "start_time": "2021-07-07T18:15:53.939Z"
   },
   {
    "duration": 13,
    "start_time": "2021-07-07T18:15:53.956Z"
   },
   {
    "duration": 20,
    "start_time": "2021-07-07T18:15:53.971Z"
   },
   {
    "duration": 14,
    "start_time": "2021-07-07T18:15:53.992Z"
   },
   {
    "duration": 9,
    "start_time": "2021-07-07T18:15:54.009Z"
   },
   {
    "duration": 28,
    "start_time": "2021-07-07T18:15:54.020Z"
   },
   {
    "duration": 50,
    "start_time": "2021-07-07T18:15:54.051Z"
   },
   {
    "duration": 8,
    "start_time": "2021-07-07T18:15:54.105Z"
   },
   {
    "duration": 11,
    "start_time": "2021-07-07T18:15:54.115Z"
   },
   {
    "duration": 20,
    "start_time": "2021-07-07T18:15:54.128Z"
   },
   {
    "duration": 13,
    "start_time": "2021-07-07T18:15:54.184Z"
   },
   {
    "duration": 7,
    "start_time": "2021-07-07T18:15:54.199Z"
   },
   {
    "duration": 7,
    "start_time": "2021-07-07T18:17:08.042Z"
   },
   {
    "duration": 8,
    "start_time": "2021-07-07T18:17:21.008Z"
   },
   {
    "duration": 7,
    "start_time": "2021-07-07T18:17:29.003Z"
   },
   {
    "duration": 8,
    "start_time": "2021-07-07T18:17:32.492Z"
   },
   {
    "duration": 9,
    "start_time": "2021-07-07T18:17:41.758Z"
   },
   {
    "duration": 255,
    "start_time": "2021-07-07T18:20:20.897Z"
   },
   {
    "duration": 173,
    "start_time": "2021-07-07T18:20:26.636Z"
   },
   {
    "duration": 7,
    "start_time": "2021-07-07T18:21:47.164Z"
   },
   {
    "duration": 254,
    "start_time": "2021-07-07T18:23:08.703Z"
   },
   {
    "duration": 21,
    "start_time": "2021-07-07T18:23:22.506Z"
   },
   {
    "duration": 315,
    "start_time": "2021-07-07T18:25:54.801Z"
   },
   {
    "duration": 34,
    "start_time": "2021-07-07T18:26:51.817Z"
   },
   {
    "duration": 327,
    "start_time": "2021-07-07T18:26:56.147Z"
   },
   {
    "duration": 342,
    "start_time": "2021-07-07T18:27:15.887Z"
   },
   {
    "duration": 302,
    "start_time": "2021-07-07T18:28:18.569Z"
   },
   {
    "duration": 226,
    "start_time": "2021-07-07T18:29:20.879Z"
   },
   {
    "duration": 207,
    "start_time": "2021-07-07T18:29:58.114Z"
   },
   {
    "duration": 140,
    "start_time": "2021-07-07T18:32:04.372Z"
   },
   {
    "duration": 158,
    "start_time": "2021-07-07T18:32:32.508Z"
   },
   {
    "duration": 145,
    "start_time": "2021-07-07T18:32:41.365Z"
   },
   {
    "duration": 132,
    "start_time": "2021-07-07T18:32:45.199Z"
   },
   {
    "duration": 11,
    "start_time": "2021-07-07T18:35:24.679Z"
   },
   {
    "duration": 268,
    "start_time": "2021-07-07T18:36:16.145Z"
   },
   {
    "duration": 227,
    "start_time": "2021-07-07T18:37:04.918Z"
   },
   {
    "duration": 3,
    "start_time": "2021-07-07T18:37:33.012Z"
   },
   {
    "duration": 671,
    "start_time": "2021-07-07T18:37:38.295Z"
   },
   {
    "duration": 54,
    "start_time": "2021-07-07T18:37:53.406Z"
   },
   {
    "duration": 631,
    "start_time": "2021-07-07T18:37:56.463Z"
   },
   {
    "duration": 19,
    "start_time": "2021-07-07T18:39:40.535Z"
   },
   {
    "duration": 20,
    "start_time": "2021-07-07T18:40:12.236Z"
   },
   {
    "duration": 633,
    "start_time": "2021-07-07T18:42:00.398Z"
   },
   {
    "duration": 218,
    "start_time": "2021-07-07T18:42:01.033Z"
   },
   {
    "duration": 49,
    "start_time": "2021-07-07T18:42:01.253Z"
   },
   {
    "duration": 5,
    "start_time": "2021-07-07T18:42:01.303Z"
   },
   {
    "duration": 27,
    "start_time": "2021-07-07T18:42:01.310Z"
   },
   {
    "duration": 8,
    "start_time": "2021-07-07T18:42:01.339Z"
   },
   {
    "duration": 20,
    "start_time": "2021-07-07T18:42:01.348Z"
   },
   {
    "duration": 6,
    "start_time": "2021-07-07T18:42:01.386Z"
   },
   {
    "duration": 16,
    "start_time": "2021-07-07T18:42:01.394Z"
   },
   {
    "duration": 9,
    "start_time": "2021-07-07T18:42:01.411Z"
   },
   {
    "duration": 11,
    "start_time": "2021-07-07T18:42:01.421Z"
   },
   {
    "duration": 31,
    "start_time": "2021-07-07T18:42:01.434Z"
   },
   {
    "duration": 18,
    "start_time": "2021-07-07T18:42:01.485Z"
   },
   {
    "duration": 23,
    "start_time": "2021-07-07T18:42:01.505Z"
   },
   {
    "duration": 6,
    "start_time": "2021-07-07T18:42:01.530Z"
   },
   {
    "duration": 10,
    "start_time": "2021-07-07T18:42:01.538Z"
   },
   {
    "duration": 13,
    "start_time": "2021-07-07T18:42:01.550Z"
   },
   {
    "duration": 24,
    "start_time": "2021-07-07T18:42:01.564Z"
   },
   {
    "duration": 20,
    "start_time": "2021-07-07T18:42:01.590Z"
   },
   {
    "duration": 8,
    "start_time": "2021-07-07T18:42:01.611Z"
   },
   {
    "duration": 31,
    "start_time": "2021-07-07T18:42:01.620Z"
   },
   {
    "duration": 39,
    "start_time": "2021-07-07T18:42:01.653Z"
   },
   {
    "duration": 8,
    "start_time": "2021-07-07T18:42:01.696Z"
   },
   {
    "duration": 13,
    "start_time": "2021-07-07T18:42:01.705Z"
   },
   {
    "duration": 20,
    "start_time": "2021-07-07T18:42:01.720Z"
   },
   {
    "duration": 12,
    "start_time": "2021-07-07T18:42:01.741Z"
   },
   {
    "duration": 35,
    "start_time": "2021-07-07T18:42:01.755Z"
   },
   {
    "duration": 14,
    "start_time": "2021-07-07T18:42:01.792Z"
   },
   {
    "duration": 188,
    "start_time": "2021-07-07T18:42:01.808Z"
   },
   {
    "duration": 19,
    "start_time": "2021-07-07T18:42:01.998Z"
   },
   {
    "duration": 175,
    "start_time": "2021-07-07T18:42:02.019Z"
   },
   {
    "duration": 134,
    "start_time": "2021-07-07T18:42:02.196Z"
   },
   {
    "duration": 10,
    "start_time": "2021-07-07T18:42:02.331Z"
   },
   {
    "duration": 19,
    "start_time": "2021-07-07T18:42:02.343Z"
   },
   {
    "duration": 628,
    "start_time": "2021-07-07T18:46:30.701Z"
   },
   {
    "duration": 183,
    "start_time": "2021-07-07T18:46:31.331Z"
   },
   {
    "duration": 48,
    "start_time": "2021-07-07T18:46:31.516Z"
   },
   {
    "duration": 5,
    "start_time": "2021-07-07T18:46:31.566Z"
   },
   {
    "duration": 28,
    "start_time": "2021-07-07T18:46:31.572Z"
   },
   {
    "duration": 8,
    "start_time": "2021-07-07T18:46:31.602Z"
   },
   {
    "duration": 19,
    "start_time": "2021-07-07T18:46:31.611Z"
   },
   {
    "duration": 6,
    "start_time": "2021-07-07T18:46:31.633Z"
   },
   {
    "duration": 17,
    "start_time": "2021-07-07T18:46:31.642Z"
   },
   {
    "duration": 10,
    "start_time": "2021-07-07T18:46:31.684Z"
   },
   {
    "duration": 9,
    "start_time": "2021-07-07T18:46:31.695Z"
   },
   {
    "duration": 28,
    "start_time": "2021-07-07T18:46:31.705Z"
   },
   {
    "duration": 18,
    "start_time": "2021-07-07T18:46:31.735Z"
   },
   {
    "duration": 48,
    "start_time": "2021-07-07T18:46:31.755Z"
   },
   {
    "duration": 6,
    "start_time": "2021-07-07T18:46:31.804Z"
   },
   {
    "duration": 4,
    "start_time": "2021-07-07T18:46:31.812Z"
   },
   {
    "duration": 9,
    "start_time": "2021-07-07T18:46:31.817Z"
   },
   {
    "duration": 10,
    "start_time": "2021-07-07T18:46:31.827Z"
   },
   {
    "duration": 12,
    "start_time": "2021-07-07T18:46:31.838Z"
   },
   {
    "duration": 39,
    "start_time": "2021-07-07T18:46:31.851Z"
   },
   {
    "duration": 24,
    "start_time": "2021-07-07T18:46:31.892Z"
   },
   {
    "duration": 15,
    "start_time": "2021-07-07T18:46:31.918Z"
   },
   {
    "duration": 7,
    "start_time": "2021-07-07T18:46:31.936Z"
   },
   {
    "duration": 8,
    "start_time": "2021-07-07T18:46:31.944Z"
   },
   {
    "duration": 19,
    "start_time": "2021-07-07T18:46:31.984Z"
   },
   {
    "duration": 10,
    "start_time": "2021-07-07T18:46:32.004Z"
   },
   {
    "duration": 5,
    "start_time": "2021-07-07T18:46:32.016Z"
   },
   {
    "duration": 9,
    "start_time": "2021-07-07T18:46:32.023Z"
   },
   {
    "duration": 199,
    "start_time": "2021-07-07T18:46:32.033Z"
   },
   {
    "duration": 19,
    "start_time": "2021-07-07T18:46:32.234Z"
   },
   {
    "duration": 159,
    "start_time": "2021-07-07T18:46:32.255Z"
   },
   {
    "duration": 134,
    "start_time": "2021-07-07T18:46:32.416Z"
   },
   {
    "duration": 10,
    "start_time": "2021-07-07T18:46:32.552Z"
   },
   {
    "duration": 34,
    "start_time": "2021-07-07T18:46:32.563Z"
   },
   {
    "duration": 1039,
    "start_time": "2021-07-08T08:41:09.419Z"
   },
   {
    "duration": 333,
    "start_time": "2021-07-08T08:41:10.459Z"
   },
   {
    "duration": 173,
    "start_time": "2021-07-08T08:41:10.794Z"
   },
   {
    "duration": 5,
    "start_time": "2021-07-08T08:41:10.968Z"
   },
   {
    "duration": 25,
    "start_time": "2021-07-08T08:41:10.975Z"
   },
   {
    "duration": 9,
    "start_time": "2021-07-08T08:41:11.002Z"
   },
   {
    "duration": 18,
    "start_time": "2021-07-08T08:41:11.013Z"
   },
   {
    "duration": 6,
    "start_time": "2021-07-08T08:41:11.033Z"
   },
   {
    "duration": 44,
    "start_time": "2021-07-08T08:41:11.042Z"
   },
   {
    "duration": 10,
    "start_time": "2021-07-08T08:41:11.088Z"
   },
   {
    "duration": 9,
    "start_time": "2021-07-08T08:41:11.100Z"
   },
   {
    "duration": 27,
    "start_time": "2021-07-08T08:41:11.111Z"
   },
   {
    "duration": 46,
    "start_time": "2021-07-08T08:41:11.140Z"
   },
   {
    "duration": 17,
    "start_time": "2021-07-08T08:41:11.187Z"
   },
   {
    "duration": 6,
    "start_time": "2021-07-08T08:41:11.206Z"
   },
   {
    "duration": 5,
    "start_time": "2021-07-08T08:41:11.213Z"
   },
   {
    "duration": 10,
    "start_time": "2021-07-08T08:41:11.219Z"
   },
   {
    "duration": 9,
    "start_time": "2021-07-08T08:41:11.230Z"
   },
   {
    "duration": 45,
    "start_time": "2021-07-08T08:41:11.241Z"
   },
   {
    "duration": 7,
    "start_time": "2021-07-08T08:41:11.287Z"
   },
   {
    "duration": 24,
    "start_time": "2021-07-08T08:41:11.296Z"
   },
   {
    "duration": 16,
    "start_time": "2021-07-08T08:41:11.322Z"
   },
   {
    "duration": 7,
    "start_time": "2021-07-08T08:41:11.341Z"
   },
   {
    "duration": 41,
    "start_time": "2021-07-08T08:41:11.349Z"
   },
   {
    "duration": 17,
    "start_time": "2021-07-08T08:41:11.391Z"
   },
   {
    "duration": 9,
    "start_time": "2021-07-08T08:41:11.410Z"
   },
   {
    "duration": 5,
    "start_time": "2021-07-08T08:41:11.421Z"
   },
   {
    "duration": 6,
    "start_time": "2021-07-08T08:41:11.428Z"
   },
   {
    "duration": 198,
    "start_time": "2021-07-08T08:41:11.435Z"
   },
   {
    "duration": 18,
    "start_time": "2021-07-08T08:41:11.635Z"
   },
   {
    "duration": 155,
    "start_time": "2021-07-08T08:41:11.655Z"
   },
   {
    "duration": 138,
    "start_time": "2021-07-08T08:41:11.811Z"
   },
   {
    "duration": 10,
    "start_time": "2021-07-08T08:41:11.950Z"
   },
   {
    "duration": 29,
    "start_time": "2021-07-08T08:41:11.961Z"
   },
   {
    "duration": 171,
    "start_time": "2021-07-08T08:47:44.522Z"
   },
   {
    "duration": 124,
    "start_time": "2021-07-08T08:47:46.872Z"
   },
   {
    "duration": 191,
    "start_time": "2021-07-08T08:47:58.148Z"
   },
   {
    "duration": 191,
    "start_time": "2021-07-08T08:48:07.412Z"
   },
   {
    "duration": 261,
    "start_time": "2021-07-08T08:48:10.385Z"
   },
   {
    "duration": 255,
    "start_time": "2021-07-08T08:48:14.494Z"
   },
   {
    "duration": 219,
    "start_time": "2021-07-08T08:48:22.752Z"
   },
   {
    "duration": 173,
    "start_time": "2021-07-08T08:49:06.395Z"
   },
   {
    "duration": 180,
    "start_time": "2021-07-08T08:49:21.011Z"
   },
   {
    "duration": 6,
    "start_time": "2021-07-08T08:50:31.697Z"
   },
   {
    "duration": 10,
    "start_time": "2021-07-08T08:50:47.394Z"
   },
   {
    "duration": 11,
    "start_time": "2021-07-08T08:53:49.332Z"
   },
   {
    "duration": 171,
    "start_time": "2021-07-08T08:54:28.408Z"
   },
   {
    "duration": 636,
    "start_time": "2021-07-08T09:02:48.385Z"
   },
   {
    "duration": 227,
    "start_time": "2021-07-08T09:02:49.023Z"
   },
   {
    "duration": 104,
    "start_time": "2021-07-08T09:02:49.252Z"
   },
   {
    "duration": 5,
    "start_time": "2021-07-08T09:02:49.358Z"
   },
   {
    "duration": 27,
    "start_time": "2021-07-08T09:02:49.365Z"
   },
   {
    "duration": 8,
    "start_time": "2021-07-08T09:02:49.394Z"
   },
   {
    "duration": 18,
    "start_time": "2021-07-08T09:02:49.404Z"
   },
   {
    "duration": 6,
    "start_time": "2021-07-08T09:02:49.424Z"
   },
   {
    "duration": 11,
    "start_time": "2021-07-08T09:02:49.433Z"
   },
   {
    "duration": 13,
    "start_time": "2021-07-08T09:02:49.485Z"
   },
   {
    "duration": 9,
    "start_time": "2021-07-08T09:02:49.500Z"
   },
   {
    "duration": 38,
    "start_time": "2021-07-08T09:02:49.511Z"
   },
   {
    "duration": 42,
    "start_time": "2021-07-08T09:02:49.551Z"
   },
   {
    "duration": 21,
    "start_time": "2021-07-08T09:02:49.594Z"
   },
   {
    "duration": 6,
    "start_time": "2021-07-08T09:02:49.616Z"
   },
   {
    "duration": 3,
    "start_time": "2021-07-08T09:02:49.623Z"
   },
   {
    "duration": 9,
    "start_time": "2021-07-08T09:02:49.628Z"
   },
   {
    "duration": 52,
    "start_time": "2021-07-08T09:02:49.638Z"
   },
   {
    "duration": 11,
    "start_time": "2021-07-08T09:02:49.692Z"
   },
   {
    "duration": 8,
    "start_time": "2021-07-08T09:02:49.704Z"
   },
   {
    "duration": 27,
    "start_time": "2021-07-08T09:02:49.713Z"
   },
   {
    "duration": 59,
    "start_time": "2021-07-08T09:02:49.741Z"
   },
   {
    "duration": 8,
    "start_time": "2021-07-08T09:02:49.803Z"
   },
   {
    "duration": 14,
    "start_time": "2021-07-08T09:02:49.813Z"
   },
   {
    "duration": 20,
    "start_time": "2021-07-08T09:02:49.829Z"
   },
   {
    "duration": 44,
    "start_time": "2021-07-08T09:02:49.851Z"
   },
   {
    "duration": 14,
    "start_time": "2021-07-08T09:02:49.896Z"
   },
   {
    "duration": 221,
    "start_time": "2021-07-08T09:02:49.912Z"
   },
   {
    "duration": 6,
    "start_time": "2021-07-08T09:02:50.134Z"
   },
   {
    "duration": 206,
    "start_time": "2021-07-08T09:02:50.142Z"
   },
   {
    "duration": 19,
    "start_time": "2021-07-08T09:02:50.350Z"
   },
   {
    "duration": 21,
    "start_time": "2021-07-08T09:02:50.370Z"
   },
   {
    "duration": 20,
    "start_time": "2021-07-08T09:02:50.393Z"
   },
   {
    "duration": 5,
    "start_time": "2021-07-08T09:02:50.414Z"
   },
   {
    "duration": 5,
    "start_time": "2021-07-08T09:03:34.173Z"
   },
   {
    "duration": 6,
    "start_time": "2021-07-08T09:04:49.062Z"
   },
   {
    "duration": 9,
    "start_time": "2021-07-08T09:04:50.118Z"
   },
   {
    "duration": 14,
    "start_time": "2021-07-08T09:04:58.512Z"
   },
   {
    "duration": 9,
    "start_time": "2021-07-08T09:05:10.988Z"
   },
   {
    "duration": 11,
    "start_time": "2021-07-08T09:05:11.743Z"
   },
   {
    "duration": 7,
    "start_time": "2021-07-08T09:05:25.677Z"
   },
   {
    "duration": 13,
    "start_time": "2021-07-08T09:05:47.189Z"
   },
   {
    "duration": 13,
    "start_time": "2021-07-08T09:05:54.755Z"
   },
   {
    "duration": 4,
    "start_time": "2021-07-08T09:06:29.189Z"
   },
   {
    "duration": 244,
    "start_time": "2021-07-08T09:06:29.195Z"
   },
   {
    "duration": 91,
    "start_time": "2021-07-08T09:06:29.441Z"
   },
   {
    "duration": 4,
    "start_time": "2021-07-08T09:06:29.534Z"
   },
   {
    "duration": 28,
    "start_time": "2021-07-08T09:06:29.540Z"
   },
   {
    "duration": 6,
    "start_time": "2021-07-08T09:06:29.570Z"
   },
   {
    "duration": 18,
    "start_time": "2021-07-08T09:06:29.578Z"
   },
   {
    "duration": 5,
    "start_time": "2021-07-08T09:06:29.597Z"
   },
   {
    "duration": 13,
    "start_time": "2021-07-08T09:06:29.605Z"
   },
   {
    "duration": 8,
    "start_time": "2021-07-08T09:06:29.620Z"
   },
   {
    "duration": 7,
    "start_time": "2021-07-08T09:06:29.630Z"
   },
   {
    "duration": 63,
    "start_time": "2021-07-08T09:06:29.639Z"
   },
   {
    "duration": 17,
    "start_time": "2021-07-08T09:06:29.704Z"
   },
   {
    "duration": 20,
    "start_time": "2021-07-08T09:06:29.723Z"
   },
   {
    "duration": 6,
    "start_time": "2021-07-08T09:06:29.745Z"
   },
   {
    "duration": 3,
    "start_time": "2021-07-08T09:06:29.752Z"
   },
   {
    "duration": 7,
    "start_time": "2021-07-08T09:06:29.785Z"
   },
   {
    "duration": 11,
    "start_time": "2021-07-08T09:06:29.794Z"
   },
   {
    "duration": 15,
    "start_time": "2021-07-08T09:06:29.807Z"
   },
   {
    "duration": 8,
    "start_time": "2021-07-08T09:06:29.823Z"
   },
   {
    "duration": 70,
    "start_time": "2021-07-08T09:06:29.832Z"
   },
   {
    "duration": 17,
    "start_time": "2021-07-08T09:06:29.903Z"
   },
   {
    "duration": 9,
    "start_time": "2021-07-08T09:06:29.921Z"
   },
   {
    "duration": 9,
    "start_time": "2021-07-08T09:06:29.932Z"
   },
   {
    "duration": 57,
    "start_time": "2021-07-08T09:06:29.942Z"
   },
   {
    "duration": 11,
    "start_time": "2021-07-08T09:06:30.001Z"
   },
   {
    "duration": 19,
    "start_time": "2021-07-08T09:06:30.016Z"
   },
   {
    "duration": 217,
    "start_time": "2021-07-08T09:06:30.037Z"
   },
   {
    "duration": 6,
    "start_time": "2021-07-08T09:06:30.255Z"
   },
   {
    "duration": 205,
    "start_time": "2021-07-08T09:06:30.263Z"
   },
   {
    "duration": 27,
    "start_time": "2021-07-08T09:06:30.470Z"
   },
   {
    "duration": 11,
    "start_time": "2021-07-08T09:06:30.500Z"
   },
   {
    "duration": 31,
    "start_time": "2021-07-08T09:06:30.513Z"
   },
   {
    "duration": 18,
    "start_time": "2021-07-08T09:06:30.546Z"
   },
   {
    "duration": 11,
    "start_time": "2021-07-08T09:06:30.566Z"
   },
   {
    "duration": 19,
    "start_time": "2021-07-08T09:06:30.579Z"
   },
   {
    "duration": 20,
    "start_time": "2021-07-08T09:06:49.466Z"
   },
   {
    "duration": 9,
    "start_time": "2021-07-08T09:06:51.994Z"
   },
   {
    "duration": 20,
    "start_time": "2021-07-08T09:06:52.273Z"
   },
   {
    "duration": 246,
    "start_time": "2021-07-08T09:10:21.272Z"
   },
   {
    "duration": 84,
    "start_time": "2021-07-08T09:10:21.436Z"
   },
   {
    "duration": 7,
    "start_time": "2021-07-08T09:10:37.608Z"
   },
   {
    "duration": 189,
    "start_time": "2021-07-08T09:10:38.573Z"
   },
   {
    "duration": 185,
    "start_time": "2021-07-08T09:10:53.181Z"
   },
   {
    "duration": 11,
    "start_time": "2021-07-08T09:10:59.549Z"
   },
   {
    "duration": 42,
    "start_time": "2021-07-08T09:10:59.709Z"
   },
   {
    "duration": 12,
    "start_time": "2021-07-08T09:11:02.857Z"
   },
   {
    "duration": 28,
    "start_time": "2021-07-08T09:11:10.062Z"
   },
   {
    "duration": 249,
    "start_time": "2021-07-08T09:11:37.388Z"
   },
   {
    "duration": 232,
    "start_time": "2021-07-08T09:11:49.485Z"
   },
   {
    "duration": 453,
    "start_time": "2021-07-08T09:12:01.546Z"
   },
   {
    "duration": 440,
    "start_time": "2021-07-08T09:12:12.347Z"
   },
   {
    "duration": 213,
    "start_time": "2021-07-08T09:13:32.196Z"
   },
   {
    "duration": 172,
    "start_time": "2021-07-08T09:14:07.400Z"
   },
   {
    "duration": 185,
    "start_time": "2021-07-08T09:14:14.905Z"
   },
   {
    "duration": 209,
    "start_time": "2021-07-08T09:14:40.109Z"
   },
   {
    "duration": 201,
    "start_time": "2021-07-08T09:14:54.506Z"
   },
   {
    "duration": 622,
    "start_time": "2021-07-08T09:18:14.497Z"
   },
   {
    "duration": 220,
    "start_time": "2021-07-08T09:18:15.121Z"
   },
   {
    "duration": 79,
    "start_time": "2021-07-08T09:18:15.343Z"
   },
   {
    "duration": 4,
    "start_time": "2021-07-08T09:18:15.425Z"
   },
   {
    "duration": 24,
    "start_time": "2021-07-08T09:18:15.431Z"
   },
   {
    "duration": 8,
    "start_time": "2021-07-08T09:18:15.457Z"
   },
   {
    "duration": 16,
    "start_time": "2021-07-08T09:18:15.466Z"
   },
   {
    "duration": 5,
    "start_time": "2021-07-08T09:18:15.484Z"
   },
   {
    "duration": 10,
    "start_time": "2021-07-08T09:18:15.493Z"
   },
   {
    "duration": 8,
    "start_time": "2021-07-08T09:18:15.504Z"
   },
   {
    "duration": 7,
    "start_time": "2021-07-08T09:18:15.513Z"
   },
   {
    "duration": 26,
    "start_time": "2021-07-08T09:18:15.522Z"
   },
   {
    "duration": 49,
    "start_time": "2021-07-08T09:18:15.550Z"
   },
   {
    "duration": 21,
    "start_time": "2021-07-08T09:18:15.601Z"
   },
   {
    "duration": 8,
    "start_time": "2021-07-08T09:18:15.624Z"
   },
   {
    "duration": 3,
    "start_time": "2021-07-08T09:18:15.634Z"
   },
   {
    "duration": 8,
    "start_time": "2021-07-08T09:18:15.639Z"
   },
   {
    "duration": 45,
    "start_time": "2021-07-08T09:18:15.649Z"
   },
   {
    "duration": 13,
    "start_time": "2021-07-08T09:18:15.696Z"
   },
   {
    "duration": 10,
    "start_time": "2021-07-08T09:18:15.711Z"
   },
   {
    "duration": 64,
    "start_time": "2021-07-08T09:18:15.722Z"
   },
   {
    "duration": 19,
    "start_time": "2021-07-08T09:18:15.788Z"
   },
   {
    "duration": 9,
    "start_time": "2021-07-08T09:18:15.809Z"
   },
   {
    "duration": 9,
    "start_time": "2021-07-08T09:18:15.820Z"
   },
   {
    "duration": 18,
    "start_time": "2021-07-08T09:18:15.831Z"
   },
   {
    "duration": 43,
    "start_time": "2021-07-08T09:18:15.851Z"
   },
   {
    "duration": 12,
    "start_time": "2021-07-08T09:18:15.897Z"
   },
   {
    "duration": 219,
    "start_time": "2021-07-08T09:18:15.911Z"
   },
   {
    "duration": 8,
    "start_time": "2021-07-08T09:18:16.132Z"
   },
   {
    "duration": 199,
    "start_time": "2021-07-08T09:18:16.141Z"
   },
   {
    "duration": 18,
    "start_time": "2021-07-08T09:18:16.341Z"
   },
   {
    "duration": 24,
    "start_time": "2021-07-08T09:18:16.361Z"
   },
   {
    "duration": 24,
    "start_time": "2021-07-08T09:18:16.387Z"
   },
   {
    "duration": 211,
    "start_time": "2021-07-08T09:18:16.413Z"
   },
   {
    "duration": 18,
    "start_time": "2021-07-08T09:18:16.626Z"
   },
   {
    "duration": 596,
    "start_time": "2021-07-08T10:06:33.623Z"
   },
   {
    "duration": 181,
    "start_time": "2021-07-08T10:06:34.221Z"
   },
   {
    "duration": 176,
    "start_time": "2021-07-08T10:06:34.635Z"
   },
   {
    "duration": 239,
    "start_time": "2021-07-08T10:06:55.572Z"
   },
   {
    "duration": 6,
    "start_time": "2021-07-08T10:06:57.687Z"
   },
   {
    "duration": 4,
    "start_time": "2021-07-08T10:07:03.956Z"
   },
   {
    "duration": 4,
    "start_time": "2021-07-08T10:07:10.376Z"
   },
   {
    "duration": 4,
    "start_time": "2021-07-08T10:17:19.889Z"
   },
   {
    "duration": 3,
    "start_time": "2021-07-08T10:19:19.407Z"
   },
   {
    "duration": 197,
    "start_time": "2021-07-08T10:19:19.412Z"
   },
   {
    "duration": 127,
    "start_time": "2021-07-08T10:19:19.611Z"
   },
   {
    "duration": 4,
    "start_time": "2021-07-08T10:19:19.740Z"
   },
   {
    "duration": 27,
    "start_time": "2021-07-08T10:19:19.746Z"
   },
   {
    "duration": 7,
    "start_time": "2021-07-08T10:19:19.775Z"
   },
   {
    "duration": 30,
    "start_time": "2021-07-08T10:19:19.784Z"
   },
   {
    "duration": 7,
    "start_time": "2021-07-08T10:19:19.817Z"
   },
   {
    "duration": 26,
    "start_time": "2021-07-08T10:19:19.826Z"
   },
   {
    "duration": 18,
    "start_time": "2021-07-08T10:19:19.854Z"
   },
   {
    "duration": 14,
    "start_time": "2021-07-08T10:19:19.874Z"
   },
   {
    "duration": 48,
    "start_time": "2021-07-08T10:19:19.890Z"
   },
   {
    "duration": 17,
    "start_time": "2021-07-08T10:19:19.940Z"
   },
   {
    "duration": 38,
    "start_time": "2021-07-08T10:19:19.959Z"
   },
   {
    "duration": 8,
    "start_time": "2021-07-08T10:19:19.999Z"
   },
   {
    "duration": 15,
    "start_time": "2021-07-08T10:19:20.009Z"
   },
   {
    "duration": 22,
    "start_time": "2021-07-08T10:19:20.026Z"
   },
   {
    "duration": 10,
    "start_time": "2021-07-08T10:19:20.050Z"
   },
   {
    "duration": 10,
    "start_time": "2021-07-08T10:19:20.062Z"
   },
   {
    "duration": 20,
    "start_time": "2021-07-08T10:19:20.073Z"
   },
   {
    "duration": 29,
    "start_time": "2021-07-08T10:19:20.095Z"
   },
   {
    "duration": 17,
    "start_time": "2021-07-08T10:19:20.126Z"
   },
   {
    "duration": 40,
    "start_time": "2021-07-08T10:19:20.146Z"
   },
   {
    "duration": 15,
    "start_time": "2021-07-08T10:19:20.189Z"
   },
   {
    "duration": 19,
    "start_time": "2021-07-08T10:19:20.206Z"
   },
   {
    "duration": 10,
    "start_time": "2021-07-08T10:19:20.226Z"
   },
   {
    "duration": 11,
    "start_time": "2021-07-08T10:19:20.238Z"
   },
   {
    "duration": 297,
    "start_time": "2021-07-08T10:19:20.250Z"
   },
   {
    "duration": 6,
    "start_time": "2021-07-08T10:19:20.549Z"
   },
   {
    "duration": 191,
    "start_time": "2021-07-08T10:19:20.557Z"
   },
   {
    "duration": 19,
    "start_time": "2021-07-08T10:19:20.750Z"
   },
   {
    "duration": 20,
    "start_time": "2021-07-08T10:19:20.771Z"
   },
   {
    "duration": 15,
    "start_time": "2021-07-08T10:19:20.793Z"
   },
   {
    "duration": 222,
    "start_time": "2021-07-08T10:19:20.809Z"
   },
   {
    "duration": 20,
    "start_time": "2021-07-08T10:19:21.033Z"
   },
   {
    "duration": 27,
    "start_time": "2021-07-08T10:45:04.055Z"
   },
   {
    "duration": 8,
    "start_time": "2021-07-08T10:45:08.478Z"
   },
   {
    "duration": 8,
    "start_time": "2021-07-08T10:45:31.982Z"
   },
   {
    "duration": 10,
    "start_time": "2021-07-08T10:46:01.221Z"
   },
   {
    "duration": 17,
    "start_time": "2021-07-08T10:46:40.011Z"
   },
   {
    "duration": 193,
    "start_time": "2021-07-08T10:48:19.471Z"
   },
   {
    "duration": 225,
    "start_time": "2021-07-08T10:49:26.480Z"
   },
   {
    "duration": 204,
    "start_time": "2021-07-08T10:49:59.992Z"
   },
   {
    "duration": 435,
    "start_time": "2021-07-08T10:50:06.779Z"
   },
   {
    "duration": 199,
    "start_time": "2021-07-08T10:50:14.891Z"
   },
   {
    "duration": 204,
    "start_time": "2021-07-08T10:50:18.501Z"
   },
   {
    "duration": 244,
    "start_time": "2021-07-08T10:50:23.359Z"
   },
   {
    "duration": 192,
    "start_time": "2021-07-08T10:50:29.135Z"
   },
   {
    "duration": 218,
    "start_time": "2021-07-08T10:50:33.092Z"
   },
   {
    "duration": 207,
    "start_time": "2021-07-08T10:52:45.381Z"
   },
   {
    "duration": 5,
    "start_time": "2021-07-08T10:53:34.641Z"
   },
   {
    "duration": 196,
    "start_time": "2021-07-08T10:53:41.478Z"
   },
   {
    "duration": 43,
    "start_time": "2021-07-08T10:53:50.335Z"
   },
   {
    "duration": 32,
    "start_time": "2021-07-08T10:53:55.294Z"
   },
   {
    "duration": 55,
    "start_time": "2021-07-08T10:54:09.675Z"
   },
   {
    "duration": 16,
    "start_time": "2021-07-08T10:54:12.260Z"
   },
   {
    "duration": 15,
    "start_time": "2021-07-08T10:54:49.150Z"
   },
   {
    "duration": 20,
    "start_time": "2021-07-08T10:56:07.596Z"
   },
   {
    "duration": 16,
    "start_time": "2021-07-08T10:58:26.276Z"
   },
   {
    "duration": 22,
    "start_time": "2021-07-08T10:59:00.486Z"
   },
   {
    "duration": 18,
    "start_time": "2021-07-08T11:02:09.653Z"
   },
   {
    "duration": 10,
    "start_time": "2021-07-08T11:03:44.331Z"
   },
   {
    "duration": 10,
    "start_time": "2021-07-08T11:03:54.055Z"
   },
   {
    "duration": 12,
    "start_time": "2021-07-08T11:04:41.967Z"
   },
   {
    "duration": 24,
    "start_time": "2021-07-08T11:07:30.732Z"
   },
   {
    "duration": 6,
    "start_time": "2021-07-08T11:07:37.364Z"
   },
   {
    "duration": 16,
    "start_time": "2021-07-08T11:08:01.819Z"
   },
   {
    "duration": 17,
    "start_time": "2021-07-08T11:09:47.488Z"
   },
   {
    "duration": 246,
    "start_time": "2021-07-08T11:10:00.830Z"
   },
   {
    "duration": 18,
    "start_time": "2021-07-08T11:13:55.195Z"
   },
   {
    "duration": 204,
    "start_time": "2021-07-08T11:14:04.951Z"
   },
   {
    "duration": 19,
    "start_time": "2021-07-08T11:15:10.613Z"
   },
   {
    "duration": 680,
    "start_time": "2021-07-08T11:16:25.793Z"
   },
   {
    "duration": 451,
    "start_time": "2021-07-08T11:16:40.313Z"
   },
   {
    "duration": 469,
    "start_time": "2021-07-08T11:17:21.286Z"
   },
   {
    "duration": 20,
    "start_time": "2021-07-08T11:19:12.554Z"
   },
   {
    "duration": 35,
    "start_time": "2021-07-08T11:20:05.484Z"
   },
   {
    "duration": 53,
    "start_time": "2021-07-08T11:21:40.050Z"
   },
   {
    "duration": 13,
    "start_time": "2021-07-08T11:22:26.059Z"
   },
   {
    "duration": 19,
    "start_time": "2021-07-08T11:22:47.419Z"
   },
   {
    "duration": 25,
    "start_time": "2021-07-08T11:23:19.958Z"
   },
   {
    "duration": 29,
    "start_time": "2021-07-08T11:23:25.415Z"
   },
   {
    "duration": 10,
    "start_time": "2021-07-08T11:24:45.138Z"
   },
   {
    "duration": 19,
    "start_time": "2021-07-08T11:24:54.498Z"
   },
   {
    "duration": 12,
    "start_time": "2021-07-08T11:25:32.225Z"
   },
   {
    "duration": 19,
    "start_time": "2021-07-08T11:25:37.092Z"
   },
   {
    "duration": 17,
    "start_time": "2021-07-08T11:25:58.116Z"
   },
   {
    "duration": 15,
    "start_time": "2021-07-08T11:26:02.258Z"
   },
   {
    "duration": 8,
    "start_time": "2021-07-08T11:26:59.682Z"
   },
   {
    "duration": 184,
    "start_time": "2021-07-08T11:27:21.894Z"
   },
   {
    "duration": 8,
    "start_time": "2021-07-08T11:27:23.824Z"
   },
   {
    "duration": 202,
    "start_time": "2021-07-08T11:27:23.962Z"
   },
   {
    "duration": 360,
    "start_time": "2021-07-08T11:28:33.215Z"
   },
   {
    "duration": 231,
    "start_time": "2021-07-08T11:32:05.542Z"
   },
   {
    "duration": 607,
    "start_time": "2021-07-08T11:36:27.854Z"
   },
   {
    "duration": 241,
    "start_time": "2021-07-08T11:36:28.463Z"
   },
   {
    "duration": 67,
    "start_time": "2021-07-08T11:36:28.709Z"
   },
   {
    "duration": 5,
    "start_time": "2021-07-08T11:36:28.778Z"
   },
   {
    "duration": 32,
    "start_time": "2021-07-08T11:36:28.784Z"
   },
   {
    "duration": 11,
    "start_time": "2021-07-08T11:36:28.819Z"
   },
   {
    "duration": 20,
    "start_time": "2021-07-08T11:36:28.834Z"
   },
   {
    "duration": 36,
    "start_time": "2021-07-08T11:36:28.857Z"
   },
   {
    "duration": 16,
    "start_time": "2021-07-08T11:36:28.895Z"
   },
   {
    "duration": 14,
    "start_time": "2021-07-08T11:36:28.913Z"
   },
   {
    "duration": 9,
    "start_time": "2021-07-08T11:36:28.930Z"
   },
   {
    "duration": 55,
    "start_time": "2021-07-08T11:36:28.941Z"
   },
   {
    "duration": 27,
    "start_time": "2021-07-08T11:36:28.999Z"
   },
   {
    "duration": 30,
    "start_time": "2021-07-08T11:36:29.028Z"
   },
   {
    "duration": 31,
    "start_time": "2021-07-08T11:36:29.060Z"
   },
   {
    "duration": 3,
    "start_time": "2021-07-08T11:36:29.093Z"
   },
   {
    "duration": 12,
    "start_time": "2021-07-08T11:36:29.099Z"
   },
   {
    "duration": 11,
    "start_time": "2021-07-08T11:36:29.112Z"
   },
   {
    "duration": 12,
    "start_time": "2021-07-08T11:36:29.125Z"
   },
   {
    "duration": 9,
    "start_time": "2021-07-08T11:36:29.139Z"
   },
   {
    "duration": 31,
    "start_time": "2021-07-08T11:36:29.191Z"
   },
   {
    "duration": 17,
    "start_time": "2021-07-08T11:36:29.226Z"
   },
   {
    "duration": 7,
    "start_time": "2021-07-08T11:36:29.245Z"
   },
   {
    "duration": 10,
    "start_time": "2021-07-08T11:36:29.254Z"
   },
   {
    "duration": 30,
    "start_time": "2021-07-08T11:36:29.292Z"
   },
   {
    "duration": 11,
    "start_time": "2021-07-08T11:36:29.324Z"
   },
   {
    "duration": 11,
    "start_time": "2021-07-08T11:36:29.337Z"
   },
   {
    "duration": 230,
    "start_time": "2021-07-08T11:36:29.349Z"
   },
   {
    "duration": 13,
    "start_time": "2021-07-08T11:36:29.588Z"
   },
   {
    "duration": 205,
    "start_time": "2021-07-08T11:36:29.603Z"
   },
   {
    "duration": 20,
    "start_time": "2021-07-08T11:36:29.810Z"
   },
   {
    "duration": 9,
    "start_time": "2021-07-08T11:36:29.832Z"
   },
   {
    "duration": 16,
    "start_time": "2021-07-08T11:36:29.843Z"
   },
   {
    "duration": 283,
    "start_time": "2021-07-08T11:36:29.861Z"
   },
   {
    "duration": 50,
    "start_time": "2021-07-08T11:36:30.146Z"
   },
   {
    "duration": 14,
    "start_time": "2021-07-08T11:36:30.198Z"
   },
   {
    "duration": 11,
    "start_time": "2021-07-08T11:36:30.214Z"
   },
   {
    "duration": 245,
    "start_time": "2021-07-08T11:36:30.227Z"
   },
   {
    "duration": 439,
    "start_time": "2021-07-08T11:36:30.474Z"
   },
   {
    "duration": 210,
    "start_time": "2021-07-08T11:36:30.915Z"
   },
   {
    "duration": 15,
    "start_time": "2021-07-08T11:36:31.127Z"
   },
   {
    "duration": 17,
    "start_time": "2021-07-08T11:38:20.451Z"
   },
   {
    "duration": 642,
    "start_time": "2021-07-08T11:46:17.881Z"
   },
   {
    "duration": 210,
    "start_time": "2021-07-08T11:46:18.525Z"
   },
   {
    "duration": 104,
    "start_time": "2021-07-08T11:46:18.741Z"
   },
   {
    "duration": 8,
    "start_time": "2021-07-08T11:46:18.847Z"
   },
   {
    "duration": 25,
    "start_time": "2021-07-08T11:46:18.857Z"
   },
   {
    "duration": 14,
    "start_time": "2021-07-08T11:46:18.884Z"
   },
   {
    "duration": 22,
    "start_time": "2021-07-08T11:46:18.900Z"
   },
   {
    "duration": 5,
    "start_time": "2021-07-08T11:46:18.924Z"
   },
   {
    "duration": 13,
    "start_time": "2021-07-08T11:46:18.931Z"
   },
   {
    "duration": 45,
    "start_time": "2021-07-08T11:46:18.946Z"
   },
   {
    "duration": 12,
    "start_time": "2021-07-08T11:46:18.993Z"
   },
   {
    "duration": 38,
    "start_time": "2021-07-08T11:46:19.006Z"
   },
   {
    "duration": 50,
    "start_time": "2021-07-08T11:46:19.046Z"
   },
   {
    "duration": 29,
    "start_time": "2021-07-08T11:46:19.099Z"
   },
   {
    "duration": 7,
    "start_time": "2021-07-08T11:46:19.130Z"
   },
   {
    "duration": 3,
    "start_time": "2021-07-08T11:46:19.139Z"
   },
   {
    "duration": 11,
    "start_time": "2021-07-08T11:46:19.144Z"
   },
   {
    "duration": 40,
    "start_time": "2021-07-08T11:46:19.157Z"
   },
   {
    "duration": 15,
    "start_time": "2021-07-08T11:46:19.199Z"
   },
   {
    "duration": 10,
    "start_time": "2021-07-08T11:46:19.217Z"
   },
   {
    "duration": 68,
    "start_time": "2021-07-08T11:46:19.230Z"
   },
   {
    "duration": 17,
    "start_time": "2021-07-08T11:46:19.301Z"
   },
   {
    "duration": 7,
    "start_time": "2021-07-08T11:46:19.321Z"
   },
   {
    "duration": 11,
    "start_time": "2021-07-08T11:46:19.330Z"
   },
   {
    "duration": 59,
    "start_time": "2021-07-08T11:46:19.343Z"
   },
   {
    "duration": 17,
    "start_time": "2021-07-08T11:46:19.405Z"
   },
   {
    "duration": 16,
    "start_time": "2021-07-08T11:46:19.424Z"
   },
   {
    "duration": 252,
    "start_time": "2021-07-08T11:46:19.443Z"
   },
   {
    "duration": 9,
    "start_time": "2021-07-08T11:46:19.697Z"
   },
   {
    "duration": 224,
    "start_time": "2021-07-08T11:46:19.708Z"
   },
   {
    "duration": 21,
    "start_time": "2021-07-08T11:46:19.934Z"
   },
   {
    "duration": 9,
    "start_time": "2021-07-08T11:46:19.956Z"
   },
   {
    "duration": 32,
    "start_time": "2021-07-08T11:46:19.967Z"
   },
   {
    "duration": 288,
    "start_time": "2021-07-08T11:46:20.004Z"
   },
   {
    "duration": 23,
    "start_time": "2021-07-08T11:46:20.300Z"
   },
   {
    "duration": 11,
    "start_time": "2021-07-08T11:46:20.325Z"
   },
   {
    "duration": 11,
    "start_time": "2021-07-08T11:46:20.339Z"
   },
   {
    "duration": 259,
    "start_time": "2021-07-08T11:46:20.352Z"
   },
   {
    "duration": 438,
    "start_time": "2021-07-08T11:46:20.613Z"
   },
   {
    "duration": 207,
    "start_time": "2021-07-08T11:46:21.054Z"
   },
   {
    "duration": 27,
    "start_time": "2021-07-08T11:46:21.262Z"
   },
   {
    "duration": 19,
    "start_time": "2021-07-08T11:46:21.291Z"
   },
   {
    "duration": 820,
    "start_time": "2021-07-08T11:49:01.655Z"
   },
   {
    "duration": 372,
    "start_time": "2021-07-08T11:49:02.478Z"
   },
   {
    "duration": 98,
    "start_time": "2021-07-08T11:49:02.853Z"
   },
   {
    "duration": 6,
    "start_time": "2021-07-08T11:49:02.953Z"
   },
   {
    "duration": 39,
    "start_time": "2021-07-08T11:49:02.960Z"
   },
   {
    "duration": 9,
    "start_time": "2021-07-08T11:49:03.003Z"
   },
   {
    "duration": 23,
    "start_time": "2021-07-08T11:49:03.014Z"
   },
   {
    "duration": 6,
    "start_time": "2021-07-08T11:49:03.041Z"
   },
   {
    "duration": 20,
    "start_time": "2021-07-08T11:49:03.049Z"
   },
   {
    "duration": 18,
    "start_time": "2021-07-08T11:49:03.084Z"
   },
   {
    "duration": 14,
    "start_time": "2021-07-08T11:49:03.104Z"
   },
   {
    "duration": 39,
    "start_time": "2021-07-08T11:49:03.119Z"
   },
   {
    "duration": 38,
    "start_time": "2021-07-08T11:49:03.160Z"
   },
   {
    "duration": 26,
    "start_time": "2021-07-08T11:49:03.200Z"
   },
   {
    "duration": 7,
    "start_time": "2021-07-08T11:49:03.227Z"
   },
   {
    "duration": 4,
    "start_time": "2021-07-08T11:49:03.236Z"
   },
   {
    "duration": 15,
    "start_time": "2021-07-08T11:49:03.243Z"
   },
   {
    "duration": 21,
    "start_time": "2021-07-08T11:49:03.285Z"
   },
   {
    "duration": 17,
    "start_time": "2021-07-08T11:49:03.309Z"
   },
   {
    "duration": 10,
    "start_time": "2021-07-08T11:49:03.328Z"
   },
   {
    "duration": 65,
    "start_time": "2021-07-08T11:49:03.340Z"
   },
   {
    "duration": 18,
    "start_time": "2021-07-08T11:49:03.407Z"
   },
   {
    "duration": 8,
    "start_time": "2021-07-08T11:49:03.428Z"
   },
   {
    "duration": 15,
    "start_time": "2021-07-08T11:49:03.438Z"
   },
   {
    "duration": 40,
    "start_time": "2021-07-08T11:49:03.455Z"
   },
   {
    "duration": 12,
    "start_time": "2021-07-08T11:49:03.497Z"
   },
   {
    "duration": 29,
    "start_time": "2021-07-08T11:49:03.511Z"
   },
   {
    "duration": 285,
    "start_time": "2021-07-08T11:49:03.542Z"
   },
   {
    "duration": 8,
    "start_time": "2021-07-08T11:49:03.829Z"
   },
   {
    "duration": 227,
    "start_time": "2021-07-08T11:49:03.838Z"
   },
   {
    "duration": 40,
    "start_time": "2021-07-08T11:49:04.066Z"
   },
   {
    "duration": 10,
    "start_time": "2021-07-08T11:49:04.108Z"
   },
   {
    "duration": 26,
    "start_time": "2021-07-08T11:49:04.121Z"
   },
   {
    "duration": 290,
    "start_time": "2021-07-08T11:49:04.149Z"
   },
   {
    "duration": 26,
    "start_time": "2021-07-08T11:49:04.441Z"
   },
   {
    "duration": 31,
    "start_time": "2021-07-08T11:49:04.470Z"
   },
   {
    "duration": 14,
    "start_time": "2021-07-08T11:49:04.503Z"
   },
   {
    "duration": 259,
    "start_time": "2021-07-08T11:49:04.521Z"
   },
   {
    "duration": 480,
    "start_time": "2021-07-08T11:49:04.782Z"
   },
   {
    "duration": 225,
    "start_time": "2021-07-08T11:49:05.264Z"
   },
   {
    "duration": 22,
    "start_time": "2021-07-08T11:49:05.491Z"
   },
   {
    "duration": 24,
    "start_time": "2021-07-08T11:49:05.515Z"
   },
   {
    "duration": 634,
    "start_time": "2021-07-08T11:52:24.960Z"
   },
   {
    "duration": 199,
    "start_time": "2021-07-08T11:52:25.599Z"
   },
   {
    "duration": 106,
    "start_time": "2021-07-08T11:52:25.803Z"
   },
   {
    "duration": 7,
    "start_time": "2021-07-08T11:52:25.911Z"
   },
   {
    "duration": 29,
    "start_time": "2021-07-08T11:52:25.920Z"
   },
   {
    "duration": 7,
    "start_time": "2021-07-08T11:52:25.951Z"
   },
   {
    "duration": 26,
    "start_time": "2021-07-08T11:52:25.961Z"
   },
   {
    "duration": 11,
    "start_time": "2021-07-08T11:52:25.990Z"
   },
   {
    "duration": 29,
    "start_time": "2021-07-08T11:52:26.005Z"
   },
   {
    "duration": 9,
    "start_time": "2021-07-08T11:52:26.036Z"
   },
   {
    "duration": 8,
    "start_time": "2021-07-08T11:52:26.047Z"
   },
   {
    "duration": 63,
    "start_time": "2021-07-08T11:52:26.057Z"
   },
   {
    "duration": 17,
    "start_time": "2021-07-08T11:52:26.122Z"
   },
   {
    "duration": 43,
    "start_time": "2021-07-08T11:52:26.142Z"
   },
   {
    "duration": 17,
    "start_time": "2021-07-08T11:52:26.187Z"
   },
   {
    "duration": 5,
    "start_time": "2021-07-08T11:52:26.206Z"
   },
   {
    "duration": 12,
    "start_time": "2021-07-08T11:52:26.212Z"
   },
   {
    "duration": 11,
    "start_time": "2021-07-08T11:52:26.226Z"
   },
   {
    "duration": 12,
    "start_time": "2021-07-08T11:52:26.238Z"
   },
   {
    "duration": 38,
    "start_time": "2021-07-08T11:52:26.252Z"
   },
   {
    "duration": 40,
    "start_time": "2021-07-08T11:52:26.292Z"
   },
   {
    "duration": 17,
    "start_time": "2021-07-08T11:52:26.336Z"
   },
   {
    "duration": 39,
    "start_time": "2021-07-08T11:52:26.355Z"
   },
   {
    "duration": 11,
    "start_time": "2021-07-08T11:52:26.395Z"
   },
   {
    "duration": 23,
    "start_time": "2021-07-08T11:52:26.408Z"
   },
   {
    "duration": 12,
    "start_time": "2021-07-08T11:52:26.432Z"
   },
   {
    "duration": 41,
    "start_time": "2021-07-08T11:52:26.446Z"
   },
   {
    "duration": 215,
    "start_time": "2021-07-08T11:52:26.493Z"
   },
   {
    "duration": 8,
    "start_time": "2021-07-08T11:52:26.710Z"
   },
   {
    "duration": 228,
    "start_time": "2021-07-08T11:52:26.720Z"
   },
   {
    "duration": 18,
    "start_time": "2021-07-08T11:52:26.950Z"
   },
   {
    "duration": 35,
    "start_time": "2021-07-08T11:52:26.969Z"
   },
   {
    "duration": 23,
    "start_time": "2021-07-08T11:52:27.006Z"
   },
   {
    "duration": 258,
    "start_time": "2021-07-08T11:52:27.030Z"
   },
   {
    "duration": 24,
    "start_time": "2021-07-08T11:52:27.290Z"
   },
   {
    "duration": 12,
    "start_time": "2021-07-08T11:52:27.316Z"
   },
   {
    "duration": 10,
    "start_time": "2021-07-08T11:52:27.329Z"
   },
   {
    "duration": 298,
    "start_time": "2021-07-08T11:52:27.341Z"
   },
   {
    "duration": 436,
    "start_time": "2021-07-08T11:52:27.641Z"
   },
   {
    "duration": 216,
    "start_time": "2021-07-08T11:52:28.079Z"
   },
   {
    "duration": 20,
    "start_time": "2021-07-08T11:52:28.297Z"
   },
   {
    "duration": 17,
    "start_time": "2021-07-08T11:52:28.319Z"
   },
   {
    "duration": 448,
    "start_time": "2022-06-13T11:15:53.634Z"
   },
   {
    "duration": 4,
    "start_time": "2022-06-13T11:15:56.830Z"
   },
   {
    "duration": 4,
    "start_time": "2022-06-13T11:17:10.438Z"
   },
   {
    "duration": 385,
    "start_time": "2022-06-13T11:19:14.371Z"
   },
   {
    "duration": 158,
    "start_time": "2022-06-13T11:19:36.871Z"
   },
   {
    "duration": 164,
    "start_time": "2022-06-13T11:19:54.174Z"
   },
   {
    "duration": 146,
    "start_time": "2022-06-13T11:20:55.672Z"
   },
   {
    "duration": 140,
    "start_time": "2022-06-13T11:21:03.431Z"
   },
   {
    "duration": 148,
    "start_time": "2022-06-13T11:22:07.970Z"
   },
   {
    "duration": 135,
    "start_time": "2022-06-13T11:22:13.242Z"
   },
   {
    "duration": 47,
    "start_time": "2022-06-14T07:25:24.396Z"
   },
   {
    "duration": 469,
    "start_time": "2022-06-14T07:25:31.741Z"
   },
   {
    "duration": 526,
    "start_time": "2022-06-14T07:25:32.212Z"
   },
   {
    "duration": 111,
    "start_time": "2022-06-14T07:25:32.741Z"
   },
   {
    "duration": 157,
    "start_time": "2022-06-14T07:25:56.057Z"
   },
   {
    "duration": 111,
    "start_time": "2022-06-14T07:26:50.911Z"
   },
   {
    "duration": 132,
    "start_time": "2022-06-14T07:27:20.624Z"
   },
   {
    "duration": 14,
    "start_time": "2022-06-14T07:27:54.018Z"
   },
   {
    "duration": 5,
    "start_time": "2022-06-14T07:28:06.679Z"
   },
   {
    "duration": 11,
    "start_time": "2022-06-14T07:29:18.717Z"
   },
   {
    "duration": 20,
    "start_time": "2022-06-14T07:29:31.302Z"
   },
   {
    "duration": 10,
    "start_time": "2022-06-14T07:29:39.510Z"
   },
   {
    "duration": 29,
    "start_time": "2022-06-14T07:29:49.624Z"
   },
   {
    "duration": 10,
    "start_time": "2022-06-14T07:30:00.805Z"
   },
   {
    "duration": 6,
    "start_time": "2022-06-14T07:30:32.873Z"
   },
   {
    "duration": 6,
    "start_time": "2022-06-14T07:30:38.557Z"
   },
   {
    "duration": 10,
    "start_time": "2022-06-14T07:30:49.238Z"
   },
   {
    "duration": 540,
    "start_time": "2022-06-14T07:31:31.381Z"
   },
   {
    "duration": 5,
    "start_time": "2022-06-14T07:31:42.171Z"
   },
   {
    "duration": 4,
    "start_time": "2022-06-14T07:35:18.569Z"
   },
   {
    "duration": 7,
    "start_time": "2022-06-14T07:35:29.092Z"
   },
   {
    "duration": 5,
    "start_time": "2022-06-14T07:35:34.820Z"
   },
   {
    "duration": 21,
    "start_time": "2022-06-14T07:35:46.436Z"
   },
   {
    "duration": 10,
    "start_time": "2022-06-14T07:36:09.754Z"
   },
   {
    "duration": 17,
    "start_time": "2022-06-14T07:36:25.500Z"
   },
   {
    "duration": 18,
    "start_time": "2022-06-14T07:51:08.576Z"
   },
   {
    "duration": 152,
    "start_time": "2022-06-14T07:51:20.127Z"
   },
   {
    "duration": 26,
    "start_time": "2022-06-14T07:51:44.156Z"
   },
   {
    "duration": 13,
    "start_time": "2022-06-14T07:55:38.117Z"
   },
   {
    "duration": 33,
    "start_time": "2022-06-14T07:55:42.522Z"
   },
   {
    "duration": 24,
    "start_time": "2022-06-14T07:55:58.203Z"
   },
   {
    "duration": 44,
    "start_time": "2022-06-14T07:56:58.210Z"
   },
   {
    "duration": 13,
    "start_time": "2022-06-14T07:57:25.803Z"
   },
   {
    "duration": 16,
    "start_time": "2022-06-14T07:58:00.068Z"
   },
   {
    "duration": 14,
    "start_time": "2022-06-14T07:59:09.514Z"
   },
   {
    "duration": 18,
    "start_time": "2022-06-14T07:59:17.449Z"
   },
   {
    "duration": 16,
    "start_time": "2022-06-14T07:59:29.929Z"
   },
   {
    "duration": 15,
    "start_time": "2022-06-14T07:59:39.094Z"
   },
   {
    "duration": 422,
    "start_time": "2022-06-14T08:00:16.161Z"
   },
   {
    "duration": 179,
    "start_time": "2022-06-14T08:00:16.585Z"
   },
   {
    "duration": 12,
    "start_time": "2022-06-14T08:00:16.768Z"
   },
   {
    "duration": 33,
    "start_time": "2022-06-14T08:00:16.782Z"
   },
   {
    "duration": 6,
    "start_time": "2022-06-14T08:00:35.249Z"
   },
   {
    "duration": 426,
    "start_time": "2022-06-14T08:00:41.045Z"
   },
   {
    "duration": 155,
    "start_time": "2022-06-14T08:00:41.473Z"
   },
   {
    "duration": 11,
    "start_time": "2022-06-14T08:00:41.630Z"
   },
   {
    "duration": 17,
    "start_time": "2022-06-14T08:00:41.644Z"
   },
   {
    "duration": 5,
    "start_time": "2022-06-14T08:01:11.817Z"
   },
   {
    "duration": 423,
    "start_time": "2022-06-14T08:01:19.036Z"
   },
   {
    "duration": 154,
    "start_time": "2022-06-14T08:01:19.461Z"
   },
   {
    "duration": 11,
    "start_time": "2022-06-14T08:01:19.617Z"
   },
   {
    "duration": 78,
    "start_time": "2022-06-14T08:01:19.629Z"
   },
   {
    "duration": 9,
    "start_time": "2022-06-14T08:01:43.320Z"
   },
   {
    "duration": 16,
    "start_time": "2022-06-14T08:01:55.054Z"
   },
   {
    "duration": 369,
    "start_time": "2022-06-14T08:02:05.518Z"
   },
   {
    "duration": 159,
    "start_time": "2022-06-14T08:02:05.890Z"
   },
   {
    "duration": 14,
    "start_time": "2022-06-14T08:02:06.050Z"
   },
   {
    "duration": 41,
    "start_time": "2022-06-14T08:02:06.070Z"
   },
   {
    "duration": 144,
    "start_time": "2022-06-14T08:03:19.876Z"
   },
   {
    "duration": 38,
    "start_time": "2022-06-14T08:03:23.420Z"
   },
   {
    "duration": 139,
    "start_time": "2022-06-14T08:20:39.083Z"
   },
   {
    "duration": 33,
    "start_time": "2022-06-14T08:20:42.089Z"
   },
   {
    "duration": 15,
    "start_time": "2022-06-14T08:30:17.797Z"
   },
   {
    "duration": 31,
    "start_time": "2022-06-14T12:13:31.739Z"
   },
   {
    "duration": 41,
    "start_time": "2022-06-14T12:13:39.467Z"
   },
   {
    "duration": 70,
    "start_time": "2022-06-14T12:14:36.123Z"
   },
   {
    "duration": 89,
    "start_time": "2022-06-14T12:20:53.801Z"
   },
   {
    "duration": 12,
    "start_time": "2022-06-14T12:21:20.769Z"
   },
   {
    "duration": 8,
    "start_time": "2022-06-14T12:21:29.976Z"
   },
   {
    "duration": 18,
    "start_time": "2022-06-14T12:21:39.123Z"
   },
   {
    "duration": 23,
    "start_time": "2022-06-14T12:22:58.046Z"
   },
   {
    "duration": 54,
    "start_time": "2022-06-14T12:24:44.397Z"
   },
   {
    "duration": 13,
    "start_time": "2022-06-14T12:25:03.152Z"
   },
   {
    "duration": 35,
    "start_time": "2022-06-14T12:25:21.048Z"
   },
   {
    "duration": 33,
    "start_time": "2022-06-14T12:25:33.351Z"
   },
   {
    "duration": 12,
    "start_time": "2022-06-14T12:25:41.209Z"
   },
   {
    "duration": 49,
    "start_time": "2022-06-14T12:25:45.867Z"
   },
   {
    "duration": 20,
    "start_time": "2022-06-14T12:25:51.171Z"
   },
   {
    "duration": 146,
    "start_time": "2022-06-14T12:26:30.606Z"
   },
   {
    "duration": 185,
    "start_time": "2022-06-14T12:27:33.611Z"
   },
   {
    "duration": 17,
    "start_time": "2022-06-14T12:28:49.529Z"
   },
   {
    "duration": 4,
    "start_time": "2022-06-14T12:30:19.136Z"
   },
   {
    "duration": 25,
    "start_time": "2022-06-14T12:31:04.576Z"
   },
   {
    "duration": 27,
    "start_time": "2022-06-14T12:31:37.594Z"
   },
   {
    "duration": 7,
    "start_time": "2022-06-14T12:33:44.822Z"
   },
   {
    "duration": 18,
    "start_time": "2022-06-14T12:33:53.778Z"
   },
   {
    "duration": 24,
    "start_time": "2022-06-14T12:36:09.574Z"
   },
   {
    "duration": 18,
    "start_time": "2022-06-14T12:36:21.472Z"
   },
   {
    "duration": 23,
    "start_time": "2022-06-14T12:37:26.173Z"
   },
   {
    "duration": 38,
    "start_time": "2022-06-14T12:37:32.413Z"
   },
   {
    "duration": 34,
    "start_time": "2022-06-14T12:37:49.287Z"
   },
   {
    "duration": 39,
    "start_time": "2022-06-14T12:38:06.022Z"
   },
   {
    "duration": 31,
    "start_time": "2022-06-14T12:38:27.616Z"
   },
   {
    "duration": 34,
    "start_time": "2022-06-14T12:40:55.590Z"
   },
   {
    "duration": 30,
    "start_time": "2022-06-14T12:41:03.175Z"
   },
   {
    "duration": 26,
    "start_time": "2022-06-14T12:43:08.692Z"
   },
   {
    "duration": 19,
    "start_time": "2022-06-14T12:43:29.838Z"
   },
   {
    "duration": 12,
    "start_time": "2022-06-14T12:49:33.108Z"
   },
   {
    "duration": 14,
    "start_time": "2022-06-14T12:49:39.928Z"
   },
   {
    "duration": 42,
    "start_time": "2022-06-14T12:50:04.982Z"
   },
   {
    "duration": 39,
    "start_time": "2022-06-14T12:50:37.689Z"
   },
   {
    "duration": 24,
    "start_time": "2022-06-14T12:51:52.501Z"
   },
   {
    "duration": 35,
    "start_time": "2022-06-14T12:52:32.211Z"
   },
   {
    "duration": 30,
    "start_time": "2022-06-14T12:53:56.164Z"
   },
   {
    "duration": 33,
    "start_time": "2022-06-14T12:54:35.710Z"
   },
   {
    "duration": 30,
    "start_time": "2022-06-14T12:54:52.044Z"
   },
   {
    "duration": 40,
    "start_time": "2022-06-14T13:00:51.850Z"
   },
   {
    "duration": 22,
    "start_time": "2022-06-14T13:01:04.396Z"
   },
   {
    "duration": 22,
    "start_time": "2022-06-14T13:01:23.130Z"
   },
   {
    "duration": 52,
    "start_time": "2022-06-14T13:01:32.932Z"
   },
   {
    "duration": 23,
    "start_time": "2022-06-14T13:01:40.473Z"
   },
   {
    "duration": 32,
    "start_time": "2022-06-14T13:07:33.844Z"
   },
   {
    "duration": 24,
    "start_time": "2022-06-14T13:32:47.927Z"
   },
   {
    "duration": 36,
    "start_time": "2022-06-14T13:35:42.318Z"
   },
   {
    "duration": 22,
    "start_time": "2022-06-14T13:35:50.008Z"
   },
   {
    "duration": 140,
    "start_time": "2022-06-14T13:37:56.479Z"
   },
   {
    "duration": 129,
    "start_time": "2022-06-14T13:38:24.116Z"
   },
   {
    "duration": 119,
    "start_time": "2022-06-14T13:40:11.302Z"
   },
   {
    "duration": 119,
    "start_time": "2022-06-14T13:44:01.642Z"
   },
   {
    "duration": 193,
    "start_time": "2022-06-14T13:44:30.837Z"
   },
   {
    "duration": 29,
    "start_time": "2022-06-14T13:44:49.057Z"
   },
   {
    "duration": 24,
    "start_time": "2022-06-14T13:45:37.579Z"
   },
   {
    "duration": 127,
    "start_time": "2022-06-14T13:45:59.883Z"
   },
   {
    "duration": 7,
    "start_time": "2022-06-14T13:48:04.005Z"
   },
   {
    "duration": 137,
    "start_time": "2022-06-14T13:48:42.277Z"
   },
   {
    "duration": 118,
    "start_time": "2022-06-14T13:49:36.620Z"
   },
   {
    "duration": 113,
    "start_time": "2022-06-14T13:55:46.773Z"
   },
   {
    "duration": 67,
    "start_time": "2022-06-14T13:56:26.716Z"
   },
   {
    "duration": 139,
    "start_time": "2022-06-14T13:57:11.557Z"
   },
   {
    "duration": 22,
    "start_time": "2022-06-14T14:18:47.566Z"
   },
   {
    "duration": 49,
    "start_time": "2022-06-14T19:27:17.696Z"
   },
   {
    "duration": 439,
    "start_time": "2022-06-14T19:27:25.726Z"
   },
   {
    "duration": 325,
    "start_time": "2022-06-14T19:27:26.168Z"
   },
   {
    "duration": 8,
    "start_time": "2022-06-14T19:27:26.495Z"
   },
   {
    "duration": 36,
    "start_time": "2022-06-14T19:27:26.504Z"
   },
   {
    "duration": 27,
    "start_time": "2022-06-14T19:27:26.542Z"
   },
   {
    "duration": 104,
    "start_time": "2022-06-14T19:27:26.571Z"
   },
   {
    "duration": 27,
    "start_time": "2022-06-14T19:28:31.197Z"
   },
   {
    "duration": 27,
    "start_time": "2022-06-14T19:28:42.699Z"
   },
   {
    "duration": 35,
    "start_time": "2022-06-14T19:29:15.926Z"
   },
   {
    "duration": 22,
    "start_time": "2022-06-14T19:29:21.083Z"
   },
   {
    "duration": 24,
    "start_time": "2022-06-14T19:29:43.287Z"
   },
   {
    "duration": 31,
    "start_time": "2022-06-14T19:31:00.137Z"
   },
   {
    "duration": 34,
    "start_time": "2022-06-14T19:31:31.288Z"
   },
   {
    "duration": 34,
    "start_time": "2022-06-14T19:31:44.404Z"
   },
   {
    "duration": 25,
    "start_time": "2022-06-14T19:32:21.985Z"
   },
   {
    "duration": 25,
    "start_time": "2022-06-14T19:34:28.298Z"
   },
   {
    "duration": 25,
    "start_time": "2022-06-14T19:34:39.555Z"
   },
   {
    "duration": 33,
    "start_time": "2022-06-14T19:35:51.161Z"
   },
   {
    "duration": 35,
    "start_time": "2022-06-14T19:36:13.716Z"
   },
   {
    "duration": 25,
    "start_time": "2022-06-14T19:36:38.401Z"
   },
   {
    "duration": 38,
    "start_time": "2022-06-14T19:38:09.792Z"
   },
   {
    "duration": 32,
    "start_time": "2022-06-14T19:45:50.332Z"
   },
   {
    "duration": 55,
    "start_time": "2022-06-15T10:31:45.537Z"
   },
   {
    "duration": 413,
    "start_time": "2022-06-15T10:32:17.636Z"
   },
   {
    "duration": 290,
    "start_time": "2022-06-15T10:32:18.051Z"
   },
   {
    "duration": 8,
    "start_time": "2022-06-15T10:32:18.343Z"
   },
   {
    "duration": 35,
    "start_time": "2022-06-15T10:32:18.352Z"
   },
   {
    "duration": 19,
    "start_time": "2022-06-15T10:32:18.389Z"
   },
   {
    "duration": 14,
    "start_time": "2022-06-15T10:32:18.410Z"
   },
   {
    "duration": 9,
    "start_time": "2022-06-15T10:33:33.336Z"
   },
   {
    "duration": 14,
    "start_time": "2022-06-15T10:34:03.131Z"
   },
   {
    "duration": 400,
    "start_time": "2022-06-15T10:34:12.586Z"
   },
   {
    "duration": 144,
    "start_time": "2022-06-15T10:34:12.988Z"
   },
   {
    "duration": 9,
    "start_time": "2022-06-15T10:34:13.134Z"
   },
   {
    "duration": 40,
    "start_time": "2022-06-15T10:34:13.145Z"
   },
   {
    "duration": 19,
    "start_time": "2022-06-15T10:34:13.187Z"
   },
   {
    "duration": 26,
    "start_time": "2022-06-15T10:34:13.208Z"
   },
   {
    "duration": 424,
    "start_time": "2022-06-15T10:34:35.435Z"
   },
   {
    "duration": 140,
    "start_time": "2022-06-15T10:34:35.861Z"
   },
   {
    "duration": 10,
    "start_time": "2022-06-15T10:34:36.003Z"
   },
   {
    "duration": 33,
    "start_time": "2022-06-15T10:34:36.015Z"
   },
   {
    "duration": 21,
    "start_time": "2022-06-15T10:34:36.052Z"
   },
   {
    "duration": 15,
    "start_time": "2022-06-15T10:34:36.075Z"
   },
   {
    "duration": 15,
    "start_time": "2022-06-15T10:34:57.307Z"
   },
   {
    "duration": 3,
    "start_time": "2022-06-15T10:35:21.641Z"
   },
   {
    "duration": 148,
    "start_time": "2022-06-15T10:35:21.645Z"
   },
   {
    "duration": 10,
    "start_time": "2022-06-15T10:35:21.794Z"
   },
   {
    "duration": 43,
    "start_time": "2022-06-15T10:35:21.806Z"
   },
   {
    "duration": 19,
    "start_time": "2022-06-15T10:35:21.851Z"
   },
   {
    "duration": 13,
    "start_time": "2022-06-15T10:35:21.872Z"
   },
   {
    "duration": 84,
    "start_time": "2022-06-15T10:35:42.297Z"
   },
   {
    "duration": 16,
    "start_time": "2022-06-15T10:35:56.128Z"
   },
   {
    "duration": 2,
    "start_time": "2022-06-15T10:38:37.590Z"
   },
   {
    "duration": 159,
    "start_time": "2022-06-15T10:38:37.594Z"
   },
   {
    "duration": 9,
    "start_time": "2022-06-15T10:38:37.755Z"
   },
   {
    "duration": 34,
    "start_time": "2022-06-15T10:38:37.766Z"
   },
   {
    "duration": 21,
    "start_time": "2022-06-15T10:38:37.802Z"
   },
   {
    "duration": 31,
    "start_time": "2022-06-15T10:38:37.824Z"
   },
   {
    "duration": 103,
    "start_time": "2022-06-15T10:39:13.694Z"
   },
   {
    "duration": 113,
    "start_time": "2022-06-15T10:39:23.750Z"
   },
   {
    "duration": 102,
    "start_time": "2022-06-15T10:39:45.698Z"
   },
   {
    "duration": 32,
    "start_time": "2022-06-15T10:42:09.112Z"
   },
   {
    "duration": 454,
    "start_time": "2022-06-15T10:42:35.295Z"
   },
   {
    "duration": 402,
    "start_time": "2022-06-15T10:42:48.840Z"
   },
   {
    "duration": 722,
    "start_time": "2022-06-15T10:43:20.847Z"
   },
   {
    "duration": 444,
    "start_time": "2022-06-15T10:44:55.446Z"
   },
   {
    "duration": 407,
    "start_time": "2022-06-15T10:45:04.655Z"
   },
   {
    "duration": 107,
    "start_time": "2022-06-15T10:46:02.488Z"
   },
   {
    "duration": 141,
    "start_time": "2022-06-15T10:46:22.418Z"
   },
   {
    "duration": 2,
    "start_time": "2022-06-15T10:46:39.247Z"
   },
   {
    "duration": 184,
    "start_time": "2022-06-15T10:46:39.251Z"
   },
   {
    "duration": 10,
    "start_time": "2022-06-15T10:46:39.437Z"
   },
   {
    "duration": 58,
    "start_time": "2022-06-15T10:46:39.449Z"
   },
   {
    "duration": 20,
    "start_time": "2022-06-15T10:46:39.509Z"
   },
   {
    "duration": 112,
    "start_time": "2022-06-15T10:46:39.530Z"
   },
   {
    "duration": 98,
    "start_time": "2022-06-15T10:47:03.545Z"
   },
   {
    "duration": 106,
    "start_time": "2022-06-15T10:47:44.926Z"
   },
   {
    "duration": 93,
    "start_time": "2022-06-15T10:47:58.746Z"
   },
   {
    "duration": 31,
    "start_time": "2022-06-15T10:50:36.391Z"
   },
   {
    "duration": 119,
    "start_time": "2022-06-15T10:50:41.277Z"
   },
   {
    "duration": 85,
    "start_time": "2022-06-15T10:50:45.815Z"
   },
   {
    "duration": 119,
    "start_time": "2022-06-15T10:50:51.399Z"
   },
   {
    "duration": 114,
    "start_time": "2022-06-15T10:56:08.903Z"
   },
   {
    "duration": 88,
    "start_time": "2022-06-15T10:56:58.580Z"
   },
   {
    "duration": 117,
    "start_time": "2022-06-15T10:57:53.440Z"
   },
   {
    "duration": 2,
    "start_time": "2022-06-15T10:58:02.942Z"
   },
   {
    "duration": 145,
    "start_time": "2022-06-15T10:58:02.946Z"
   },
   {
    "duration": 8,
    "start_time": "2022-06-15T10:58:03.093Z"
   },
   {
    "duration": 40,
    "start_time": "2022-06-15T10:58:03.103Z"
   },
   {
    "duration": 19,
    "start_time": "2022-06-15T10:58:03.145Z"
   },
   {
    "duration": 96,
    "start_time": "2022-06-15T10:58:03.166Z"
   },
   {
    "duration": 183,
    "start_time": "2022-06-15T11:00:33.181Z"
   },
   {
    "duration": 118,
    "start_time": "2022-06-15T11:03:39.586Z"
   },
   {
    "duration": 130,
    "start_time": "2022-06-15T11:03:53.367Z"
   },
   {
    "duration": 100,
    "start_time": "2022-06-15T11:06:32.355Z"
   },
   {
    "duration": 127,
    "start_time": "2022-06-15T11:07:15.079Z"
   },
   {
    "duration": 107,
    "start_time": "2022-06-15T11:07:53.599Z"
   },
   {
    "duration": 120,
    "start_time": "2022-06-15T11:07:59.697Z"
   },
   {
    "duration": 9,
    "start_time": "2022-06-15T11:09:35.894Z"
   },
   {
    "duration": 33,
    "start_time": "2022-06-15T11:09:54.425Z"
   },
   {
    "duration": 9,
    "start_time": "2022-06-15T11:10:03.139Z"
   },
   {
    "duration": 9,
    "start_time": "2022-06-15T11:10:14.245Z"
   },
   {
    "duration": 131,
    "start_time": "2022-06-15T11:11:45.224Z"
   },
   {
    "duration": 121,
    "start_time": "2022-06-15T11:12:02.585Z"
   },
   {
    "duration": 110,
    "start_time": "2022-06-15T11:12:09.444Z"
   },
   {
    "duration": 95,
    "start_time": "2022-06-15T11:12:50.952Z"
   },
   {
    "duration": 117,
    "start_time": "2022-06-15T11:14:26.796Z"
   },
   {
    "duration": 32,
    "start_time": "2022-06-15T11:14:40.142Z"
   },
   {
    "duration": 12,
    "start_time": "2022-06-15T11:15:09.332Z"
   },
   {
    "duration": 15,
    "start_time": "2022-06-15T11:15:19.858Z"
   },
   {
    "duration": 18,
    "start_time": "2022-06-15T11:15:52.231Z"
   },
   {
    "duration": 15,
    "start_time": "2022-06-15T11:16:05.386Z"
   },
   {
    "duration": 17,
    "start_time": "2022-06-15T11:16:40.084Z"
   },
   {
    "duration": 21,
    "start_time": "2022-06-15T11:16:56.441Z"
   },
   {
    "duration": 43,
    "start_time": "2022-06-15T11:17:09.044Z"
   },
   {
    "duration": 70,
    "start_time": "2022-06-15T11:24:15.019Z"
   },
   {
    "duration": 6,
    "start_time": "2022-06-15T11:24:23.481Z"
   },
   {
    "duration": 20,
    "start_time": "2022-06-15T11:24:37.948Z"
   },
   {
    "duration": 9,
    "start_time": "2022-06-15T11:24:45.005Z"
   },
   {
    "duration": 8,
    "start_time": "2022-06-15T11:24:50.906Z"
   },
   {
    "duration": 16,
    "start_time": "2022-06-15T11:24:58.836Z"
   },
   {
    "duration": 8,
    "start_time": "2022-06-15T11:25:07.238Z"
   },
   {
    "duration": 196,
    "start_time": "2022-06-15T11:25:24.696Z"
   },
   {
    "duration": 105,
    "start_time": "2022-06-15T11:25:59.796Z"
   },
   {
    "duration": 11,
    "start_time": "2022-06-15T11:33:52.160Z"
   },
   {
    "duration": 10,
    "start_time": "2022-06-15T11:34:38.886Z"
   },
   {
    "duration": 11,
    "start_time": "2022-06-15T11:34:47.121Z"
   },
   {
    "duration": 10,
    "start_time": "2022-06-15T11:35:10.817Z"
   },
   {
    "duration": 11,
    "start_time": "2022-06-15T11:35:15.585Z"
   },
   {
    "duration": 52,
    "start_time": "2022-06-15T11:35:52.017Z"
   },
   {
    "duration": 10,
    "start_time": "2022-06-15T11:35:58.288Z"
   },
   {
    "duration": 10,
    "start_time": "2022-06-15T11:36:02.744Z"
   },
   {
    "duration": 10,
    "start_time": "2022-06-15T11:36:48.460Z"
   },
   {
    "duration": 10,
    "start_time": "2022-06-15T11:37:05.544Z"
   },
   {
    "duration": 10,
    "start_time": "2022-06-15T11:37:09.031Z"
   },
   {
    "duration": 9,
    "start_time": "2022-06-15T11:37:11.623Z"
   },
   {
    "duration": 10,
    "start_time": "2022-06-15T11:37:37.599Z"
   },
   {
    "duration": 10,
    "start_time": "2022-06-15T11:37:43.005Z"
   },
   {
    "duration": 116,
    "start_time": "2022-06-15T11:38:28.122Z"
   },
   {
    "duration": 28,
    "start_time": "2022-06-15T11:39:44.745Z"
   },
   {
    "duration": 11,
    "start_time": "2022-06-15T11:39:50.951Z"
   },
   {
    "duration": 12,
    "start_time": "2022-06-15T11:40:12.872Z"
   },
   {
    "duration": 12,
    "start_time": "2022-06-15T11:40:24.444Z"
   },
   {
    "duration": 21,
    "start_time": "2022-06-15T11:41:24.444Z"
   },
   {
    "duration": 13,
    "start_time": "2022-06-15T11:42:21.682Z"
   },
   {
    "duration": 38,
    "start_time": "2022-06-15T11:43:30.157Z"
   },
   {
    "duration": 24,
    "start_time": "2022-06-15T11:43:52.784Z"
   },
   {
    "duration": 14,
    "start_time": "2022-06-15T11:44:09.242Z"
   },
   {
    "duration": 17,
    "start_time": "2022-06-15T11:44:58.390Z"
   },
   {
    "duration": 21,
    "start_time": "2022-06-15T11:45:15.653Z"
   },
   {
    "duration": 18,
    "start_time": "2022-06-15T11:50:26.815Z"
   },
   {
    "duration": 14,
    "start_time": "2022-06-15T11:50:45.071Z"
   },
   {
    "duration": 22,
    "start_time": "2022-06-15T12:03:41.051Z"
   },
   {
    "duration": 12,
    "start_time": "2022-06-15T12:03:50.078Z"
   },
   {
    "duration": 35,
    "start_time": "2022-06-15T12:04:01.132Z"
   },
   {
    "duration": 25,
    "start_time": "2022-06-15T12:04:09.956Z"
   },
   {
    "duration": 16,
    "start_time": "2022-06-15T12:04:36.203Z"
   },
   {
    "duration": 27,
    "start_time": "2022-06-15T12:04:40.252Z"
   },
   {
    "duration": 15,
    "start_time": "2022-06-15T12:12:46.455Z"
   },
   {
    "duration": 15,
    "start_time": "2022-06-15T12:13:35.377Z"
   },
   {
    "duration": 24,
    "start_time": "2022-06-15T12:14:25.717Z"
   },
   {
    "duration": 33,
    "start_time": "2022-06-15T12:14:31.621Z"
   },
   {
    "duration": 30,
    "start_time": "2022-06-15T12:14:33.923Z"
   },
   {
    "duration": 15,
    "start_time": "2022-06-15T12:14:51.877Z"
   },
   {
    "duration": 300,
    "start_time": "2022-06-15T12:16:05.056Z"
   },
   {
    "duration": 20,
    "start_time": "2022-06-15T12:16:34.352Z"
   },
   {
    "duration": 24,
    "start_time": "2022-06-15T12:19:38.561Z"
   },
   {
    "duration": 23,
    "start_time": "2022-06-15T12:21:14.847Z"
   },
   {
    "duration": 385,
    "start_time": "2022-06-15T12:21:33.994Z"
   },
   {
    "duration": 148,
    "start_time": "2022-06-15T12:21:34.381Z"
   },
   {
    "duration": 10,
    "start_time": "2022-06-15T12:21:34.531Z"
   },
   {
    "duration": 60,
    "start_time": "2022-06-15T12:21:34.543Z"
   },
   {
    "duration": 33,
    "start_time": "2022-06-15T12:21:34.604Z"
   },
   {
    "duration": 95,
    "start_time": "2022-06-15T12:21:34.639Z"
   },
   {
    "duration": 16,
    "start_time": "2022-06-15T12:22:25.360Z"
   },
   {
    "duration": 38,
    "start_time": "2022-06-15T12:23:04.456Z"
   },
   {
    "duration": 34,
    "start_time": "2022-06-15T12:23:14.772Z"
   },
   {
    "duration": 18,
    "start_time": "2022-06-15T12:23:22.898Z"
   },
   {
    "duration": 16,
    "start_time": "2022-06-15T12:24:23.169Z"
   },
   {
    "duration": 17,
    "start_time": "2022-06-15T12:24:31.385Z"
   },
   {
    "duration": 17,
    "start_time": "2022-06-15T12:24:54.735Z"
   },
   {
    "duration": 17,
    "start_time": "2022-06-15T12:25:22.331Z"
   },
   {
    "duration": 19,
    "start_time": "2022-06-15T12:28:38.246Z"
   },
   {
    "duration": 420,
    "start_time": "2022-06-15T12:28:49.961Z"
   },
   {
    "duration": 152,
    "start_time": "2022-06-15T12:28:50.383Z"
   },
   {
    "duration": 10,
    "start_time": "2022-06-15T12:28:50.537Z"
   },
   {
    "duration": 49,
    "start_time": "2022-06-15T12:28:50.549Z"
   },
   {
    "duration": 23,
    "start_time": "2022-06-15T12:28:50.600Z"
   },
   {
    "duration": 33,
    "start_time": "2022-06-15T12:28:50.625Z"
   },
   {
    "duration": 20,
    "start_time": "2022-06-15T12:29:22.494Z"
   },
   {
    "duration": 78,
    "start_time": "2022-06-15T12:29:47.674Z"
   },
   {
    "duration": 19,
    "start_time": "2022-06-15T12:30:10.640Z"
   },
   {
    "duration": 22,
    "start_time": "2022-06-15T12:30:32.322Z"
   },
   {
    "duration": 18,
    "start_time": "2022-06-15T12:30:39.366Z"
   },
   {
    "duration": 23,
    "start_time": "2022-06-15T12:31:18.088Z"
   },
   {
    "duration": 28,
    "start_time": "2022-06-15T12:31:25.012Z"
   },
   {
    "duration": 28,
    "start_time": "2022-06-15T12:32:02.689Z"
   },
   {
    "duration": 29,
    "start_time": "2022-06-15T12:32:14.697Z"
   },
   {
    "duration": 23,
    "start_time": "2022-06-15T12:32:34.069Z"
   },
   {
    "duration": 23,
    "start_time": "2022-06-15T12:32:51.558Z"
   },
   {
    "duration": 32,
    "start_time": "2022-06-15T12:32:59.295Z"
   },
   {
    "duration": 22,
    "start_time": "2022-06-15T12:33:45.327Z"
   },
   {
    "duration": 30,
    "start_time": "2022-06-15T12:33:56.680Z"
   },
   {
    "duration": 31,
    "start_time": "2022-06-15T12:35:12.396Z"
   },
   {
    "duration": 63,
    "start_time": "2022-06-15T12:40:08.760Z"
   },
   {
    "duration": 10,
    "start_time": "2022-06-15T12:43:21.886Z"
   },
   {
    "duration": 36,
    "start_time": "2022-06-15T12:43:25.224Z"
   },
   {
    "duration": 437,
    "start_time": "2022-06-15T12:43:36.027Z"
   },
   {
    "duration": 143,
    "start_time": "2022-06-15T12:43:36.466Z"
   },
   {
    "duration": 8,
    "start_time": "2022-06-15T12:43:36.611Z"
   },
   {
    "duration": 54,
    "start_time": "2022-06-15T12:43:36.621Z"
   },
   {
    "duration": 20,
    "start_time": "2022-06-15T12:43:36.676Z"
   },
   {
    "duration": 8,
    "start_time": "2022-06-15T12:43:36.698Z"
   },
   {
    "duration": 52,
    "start_time": "2022-06-15T12:43:36.708Z"
   },
   {
    "duration": 27,
    "start_time": "2022-06-15T12:45:02.890Z"
   },
   {
    "duration": 33,
    "start_time": "2022-06-15T12:47:21.520Z"
   },
   {
    "duration": 29,
    "start_time": "2022-06-15T12:48:41.361Z"
   },
   {
    "duration": 461,
    "start_time": "2022-06-16T11:54:06.055Z"
   },
   {
    "duration": 393,
    "start_time": "2022-06-16T11:54:06.519Z"
   },
   {
    "duration": 17,
    "start_time": "2022-06-16T11:54:06.915Z"
   },
   {
    "duration": 53,
    "start_time": "2022-06-16T11:54:06.936Z"
   },
   {
    "duration": 34,
    "start_time": "2022-06-16T11:54:06.990Z"
   },
   {
    "duration": 36,
    "start_time": "2022-06-16T11:54:07.026Z"
   },
   {
    "duration": 43,
    "start_time": "2022-06-16T11:54:07.064Z"
   },
   {
    "duration": 57,
    "start_time": "2022-06-16T11:54:07.110Z"
   },
   {
    "duration": 32,
    "start_time": "2022-06-16T11:54:50.674Z"
   },
   {
    "duration": 38,
    "start_time": "2022-06-16T11:54:59.709Z"
   },
   {
    "duration": 19,
    "start_time": "2022-06-16T11:56:03.557Z"
   },
   {
    "duration": 24,
    "start_time": "2022-06-16T12:03:05.194Z"
   },
   {
    "duration": 105,
    "start_time": "2022-06-16T12:03:15.045Z"
   },
   {
    "duration": 42,
    "start_time": "2022-06-16T12:03:40.706Z"
   },
   {
    "duration": 107,
    "start_time": "2022-06-16T12:03:51.083Z"
   },
   {
    "duration": 73,
    "start_time": "2022-06-16T12:04:02.079Z"
   },
   {
    "duration": 43,
    "start_time": "2022-06-16T12:04:23.397Z"
   },
   {
    "duration": 43,
    "start_time": "2022-06-16T12:04:44.996Z"
   },
   {
    "duration": 41,
    "start_time": "2022-06-16T12:07:15.257Z"
   },
   {
    "duration": 42,
    "start_time": "2022-06-16T12:07:29.838Z"
   },
   {
    "duration": 63,
    "start_time": "2022-06-16T12:07:35.881Z"
   },
   {
    "duration": 60,
    "start_time": "2022-06-16T12:07:44.659Z"
   },
   {
    "duration": 60,
    "start_time": "2022-06-16T12:07:57.244Z"
   },
   {
    "duration": 35,
    "start_time": "2022-06-16T12:08:08.398Z"
   },
   {
    "duration": 43,
    "start_time": "2022-06-16T12:08:20.145Z"
   },
   {
    "duration": 34,
    "start_time": "2022-06-16T12:08:35.747Z"
   },
   {
    "duration": 68,
    "start_time": "2022-06-16T12:12:41.536Z"
   },
   {
    "duration": 48,
    "start_time": "2022-06-16T12:13:09.264Z"
   },
   {
    "duration": 47,
    "start_time": "2022-06-16T12:17:07.695Z"
   },
   {
    "duration": 38,
    "start_time": "2022-06-16T12:28:39.949Z"
   },
   {
    "duration": 44,
    "start_time": "2022-06-16T12:28:53.182Z"
   },
   {
    "duration": 32,
    "start_time": "2022-06-16T12:29:41.571Z"
   },
   {
    "duration": 54,
    "start_time": "2022-06-16T12:30:22.174Z"
   },
   {
    "duration": 59,
    "start_time": "2022-06-16T12:30:30.058Z"
   },
   {
    "duration": 32,
    "start_time": "2022-06-16T12:30:52.304Z"
   },
   {
    "duration": 28,
    "start_time": "2022-06-16T12:31:19.661Z"
   },
   {
    "duration": 28,
    "start_time": "2022-06-16T12:31:34.258Z"
   },
   {
    "duration": 40,
    "start_time": "2022-06-16T12:31:36.679Z"
   },
   {
    "duration": 28,
    "start_time": "2022-06-16T12:31:43.094Z"
   },
   {
    "duration": 36,
    "start_time": "2022-06-16T12:31:53.458Z"
   },
   {
    "duration": 47,
    "start_time": "2022-06-16T12:32:09.308Z"
   },
   {
    "duration": 47,
    "start_time": "2022-06-16T12:32:47.749Z"
   },
   {
    "duration": 54,
    "start_time": "2022-06-16T12:33:23.355Z"
   },
   {
    "duration": 7,
    "start_time": "2022-06-16T12:48:43.954Z"
   },
   {
    "duration": 14,
    "start_time": "2022-06-16T12:49:35.804Z"
   },
   {
    "duration": 14,
    "start_time": "2022-06-16T12:49:57.654Z"
   },
   {
    "duration": 24,
    "start_time": "2022-06-16T12:53:09.042Z"
   },
   {
    "duration": 30,
    "start_time": "2022-06-16T12:53:25.612Z"
   },
   {
    "duration": 29,
    "start_time": "2022-06-16T12:53:47.662Z"
   },
   {
    "duration": 41,
    "start_time": "2022-06-16T12:53:52.582Z"
   },
   {
    "duration": 39,
    "start_time": "2022-06-16T12:54:11.692Z"
   },
   {
    "duration": 39,
    "start_time": "2022-06-16T12:56:15.172Z"
   },
   {
    "duration": 26,
    "start_time": "2022-06-16T12:56:52.438Z"
   },
   {
    "duration": 23,
    "start_time": "2022-06-16T12:57:18.241Z"
   },
   {
    "duration": 8,
    "start_time": "2022-06-16T12:57:34.003Z"
   },
   {
    "duration": 28,
    "start_time": "2022-06-16T12:57:51.761Z"
   },
   {
    "duration": 28,
    "start_time": "2022-06-16T12:57:55.446Z"
   },
   {
    "duration": 558,
    "start_time": "2022-06-16T12:58:01.952Z"
   },
   {
    "duration": 395,
    "start_time": "2022-06-16T12:58:02.514Z"
   },
   {
    "duration": 15,
    "start_time": "2022-06-16T12:58:02.911Z"
   },
   {
    "duration": 56,
    "start_time": "2022-06-16T12:58:02.928Z"
   },
   {
    "duration": 27,
    "start_time": "2022-06-16T12:58:02.987Z"
   },
   {
    "duration": 42,
    "start_time": "2022-06-16T12:58:03.017Z"
   },
   {
    "duration": 38,
    "start_time": "2022-06-16T12:58:03.061Z"
   },
   {
    "duration": 59,
    "start_time": "2022-06-16T12:58:03.101Z"
   },
   {
    "duration": 8,
    "start_time": "2022-06-16T12:58:03.163Z"
   },
   {
    "duration": 23,
    "start_time": "2022-06-16T13:01:19.693Z"
   },
   {
    "duration": 439,
    "start_time": "2022-06-16T13:01:30.961Z"
   },
   {
    "duration": 179,
    "start_time": "2022-06-16T13:01:31.402Z"
   },
   {
    "duration": 11,
    "start_time": "2022-06-16T13:01:31.582Z"
   },
   {
    "duration": 42,
    "start_time": "2022-06-16T13:01:31.595Z"
   },
   {
    "duration": 47,
    "start_time": "2022-06-16T13:01:31.639Z"
   },
   {
    "duration": 12,
    "start_time": "2022-06-16T13:01:31.688Z"
   },
   {
    "duration": 80,
    "start_time": "2022-06-16T13:01:31.702Z"
   },
   {
    "duration": 33,
    "start_time": "2022-06-16T13:01:31.784Z"
   },
   {
    "duration": 7,
    "start_time": "2022-06-16T13:01:31.819Z"
   },
   {
    "duration": 143,
    "start_time": "2022-06-16T13:06:01.795Z"
   },
   {
    "duration": 56,
    "start_time": "2022-06-16T13:06:05.246Z"
   },
   {
    "duration": 23,
    "start_time": "2022-06-16T13:06:15.983Z"
   },
   {
    "duration": 26,
    "start_time": "2022-06-16T13:06:33.190Z"
   },
   {
    "duration": 16,
    "start_time": "2022-06-16T13:06:44.559Z"
   },
   {
    "duration": 31,
    "start_time": "2022-06-16T13:08:09.333Z"
   },
   {
    "duration": 427,
    "start_time": "2022-06-16T13:08:20.179Z"
   },
   {
    "duration": 165,
    "start_time": "2022-06-16T13:08:20.608Z"
   },
   {
    "duration": 14,
    "start_time": "2022-06-16T13:08:20.775Z"
   },
   {
    "duration": 40,
    "start_time": "2022-06-16T13:08:20.790Z"
   },
   {
    "duration": 51,
    "start_time": "2022-06-16T13:08:20.833Z"
   },
   {
    "duration": 11,
    "start_time": "2022-06-16T13:08:20.886Z"
   },
   {
    "duration": 70,
    "start_time": "2022-06-16T13:08:20.898Z"
   },
   {
    "duration": 32,
    "start_time": "2022-06-16T13:08:20.970Z"
   },
   {
    "duration": 4,
    "start_time": "2022-06-16T13:09:10.688Z"
   },
   {
    "duration": 6,
    "start_time": "2022-06-16T13:09:17.181Z"
   },
   {
    "duration": 6,
    "start_time": "2022-06-16T13:11:04.613Z"
   },
   {
    "duration": 6,
    "start_time": "2022-06-16T13:12:48.375Z"
   },
   {
    "duration": 7,
    "start_time": "2022-06-16T13:13:14.674Z"
   },
   {
    "duration": 9,
    "start_time": "2022-06-16T13:13:37.643Z"
   },
   {
    "duration": 8,
    "start_time": "2022-06-16T13:14:05.393Z"
   },
   {
    "duration": 8,
    "start_time": "2022-06-16T13:14:15.235Z"
   },
   {
    "duration": 463,
    "start_time": "2022-06-16T13:14:22.575Z"
   },
   {
    "duration": 165,
    "start_time": "2022-06-16T13:14:23.041Z"
   },
   {
    "duration": 12,
    "start_time": "2022-06-16T13:14:23.208Z"
   },
   {
    "duration": 63,
    "start_time": "2022-06-16T13:14:23.223Z"
   },
   {
    "duration": 27,
    "start_time": "2022-06-16T13:14:23.289Z"
   },
   {
    "duration": 16,
    "start_time": "2022-06-16T13:14:23.318Z"
   },
   {
    "duration": 59,
    "start_time": "2022-06-16T13:14:23.336Z"
   },
   {
    "duration": 26,
    "start_time": "2022-06-16T13:14:23.397Z"
   },
   {
    "duration": 39,
    "start_time": "2022-06-16T13:14:23.425Z"
   },
   {
    "duration": 18,
    "start_time": "2022-06-16T13:14:23.475Z"
   },
   {
    "duration": 6,
    "start_time": "2022-06-16T13:24:43.607Z"
   },
   {
    "duration": 8,
    "start_time": "2022-06-16T13:24:59.540Z"
   },
   {
    "duration": 6,
    "start_time": "2022-06-16T14:09:01.515Z"
   },
   {
    "duration": 8,
    "start_time": "2022-06-16T14:09:10.843Z"
   },
   {
    "duration": 753,
    "start_time": "2022-06-16T14:10:00.451Z"
   },
   {
    "duration": 17,
    "start_time": "2022-06-16T14:11:01.489Z"
   },
   {
    "duration": 27,
    "start_time": "2022-06-16T14:12:10.253Z"
   },
   {
    "duration": 28,
    "start_time": "2022-06-16T14:13:49.005Z"
   },
   {
    "duration": 22,
    "start_time": "2022-06-16T14:13:57.389Z"
   },
   {
    "duration": 33,
    "start_time": "2022-06-16T14:14:03.449Z"
   },
   {
    "duration": 57,
    "start_time": "2022-06-16T14:15:24.752Z"
   },
   {
    "duration": 38,
    "start_time": "2022-06-16T14:16:06.210Z"
   },
   {
    "duration": 9,
    "start_time": "2022-06-16T14:18:08.989Z"
   },
   {
    "duration": 40,
    "start_time": "2022-06-16T14:20:14.576Z"
   },
   {
    "duration": 34,
    "start_time": "2022-06-16T14:21:04.994Z"
   },
   {
    "duration": 25,
    "start_time": "2022-06-16T14:23:44.218Z"
   },
   {
    "duration": 25,
    "start_time": "2022-06-16T14:24:10.471Z"
   },
   {
    "duration": 32,
    "start_time": "2022-06-16T14:25:38.777Z"
   },
   {
    "duration": 34,
    "start_time": "2022-06-16T14:25:54.346Z"
   },
   {
    "duration": 48,
    "start_time": "2022-06-16T14:26:14.592Z"
   },
   {
    "duration": 53,
    "start_time": "2022-06-16T14:26:20.603Z"
   },
   {
    "duration": 36,
    "start_time": "2022-06-16T14:26:47.252Z"
   },
   {
    "duration": 18,
    "start_time": "2022-06-16T14:33:39.702Z"
   },
   {
    "duration": 32,
    "start_time": "2022-06-16T14:34:17.508Z"
   },
   {
    "duration": 15,
    "start_time": "2022-06-16T14:35:14.923Z"
   },
   {
    "duration": 16,
    "start_time": "2022-06-16T14:35:33.580Z"
   },
   {
    "duration": 16,
    "start_time": "2022-06-16T14:35:57.400Z"
   },
   {
    "duration": 53,
    "start_time": "2022-06-16T14:36:17.675Z"
   },
   {
    "duration": 60,
    "start_time": "2022-06-17T06:33:49.673Z"
   },
   {
    "duration": 430,
    "start_time": "2022-06-17T06:33:57.174Z"
   },
   {
    "duration": 276,
    "start_time": "2022-06-17T06:33:57.606Z"
   },
   {
    "duration": 10,
    "start_time": "2022-06-17T06:33:57.883Z"
   },
   {
    "duration": 34,
    "start_time": "2022-06-17T06:33:57.895Z"
   },
   {
    "duration": 22,
    "start_time": "2022-06-17T06:33:57.931Z"
   },
   {
    "duration": 9,
    "start_time": "2022-06-17T06:33:57.955Z"
   },
   {
    "duration": 68,
    "start_time": "2022-06-17T06:33:57.966Z"
   },
   {
    "duration": 25,
    "start_time": "2022-06-17T06:33:58.036Z"
   },
   {
    "duration": 33,
    "start_time": "2022-06-17T06:33:58.063Z"
   },
   {
    "duration": 6,
    "start_time": "2022-06-17T06:33:58.098Z"
   },
   {
    "duration": 72,
    "start_time": "2022-06-17T06:33:58.106Z"
   },
   {
    "duration": 0,
    "start_time": "2022-06-17T06:33:58.179Z"
   },
   {
    "duration": 49,
    "start_time": "2022-06-17T06:34:18.981Z"
   },
   {
    "duration": 32,
    "start_time": "2022-06-17T06:36:54.126Z"
   },
   {
    "duration": 31,
    "start_time": "2022-06-17T06:42:26.791Z"
   },
   {
    "duration": 19,
    "start_time": "2022-06-17T06:42:40.322Z"
   },
   {
    "duration": 6,
    "start_time": "2022-06-17T06:42:45.307Z"
   },
   {
    "duration": 79,
    "start_time": "2022-06-17T06:43:44.987Z"
   },
   {
    "duration": 23,
    "start_time": "2022-06-17T06:43:58.124Z"
   },
   {
    "duration": 29,
    "start_time": "2022-06-17T06:54:36.505Z"
   },
   {
    "duration": 34,
    "start_time": "2022-06-17T07:40:51.998Z"
   },
   {
    "duration": 101,
    "start_time": "2022-06-17T07:41:04.656Z"
   },
   {
    "duration": 120,
    "start_time": "2022-06-17T07:41:11.586Z"
   },
   {
    "duration": 9,
    "start_time": "2022-06-17T07:41:24.071Z"
   },
   {
    "duration": 101,
    "start_time": "2022-06-17T07:41:42.471Z"
   },
   {
    "duration": 97,
    "start_time": "2022-06-17T07:43:13.966Z"
   },
   {
    "duration": 16,
    "start_time": "2022-06-17T07:44:50.759Z"
   },
   {
    "duration": 18,
    "start_time": "2022-06-17T07:46:01.056Z"
   },
   {
    "duration": 388,
    "start_time": "2022-06-17T07:46:21.812Z"
   },
   {
    "duration": 144,
    "start_time": "2022-06-17T07:46:22.201Z"
   },
   {
    "duration": 11,
    "start_time": "2022-06-17T07:46:22.347Z"
   },
   {
    "duration": 35,
    "start_time": "2022-06-17T07:46:22.360Z"
   },
   {
    "duration": 21,
    "start_time": "2022-06-17T07:46:22.396Z"
   },
   {
    "duration": 8,
    "start_time": "2022-06-17T07:46:22.419Z"
   },
   {
    "duration": 34,
    "start_time": "2022-06-17T07:46:22.429Z"
   },
   {
    "duration": 53,
    "start_time": "2022-06-17T07:46:22.465Z"
   },
   {
    "duration": 4,
    "start_time": "2022-06-17T07:46:22.520Z"
   },
   {
    "duration": 7,
    "start_time": "2022-06-17T07:46:22.527Z"
   },
   {
    "duration": 66,
    "start_time": "2022-06-17T07:46:22.537Z"
   },
   {
    "duration": 76,
    "start_time": "2022-06-17T07:46:22.605Z"
   },
   {
    "duration": 26,
    "start_time": "2022-06-17T07:46:38.986Z"
   },
   {
    "duration": 22,
    "start_time": "2022-06-17T07:47:04.295Z"
   },
   {
    "duration": 21,
    "start_time": "2022-06-17T07:47:27.193Z"
   },
   {
    "duration": 16,
    "start_time": "2022-06-17T07:48:15.305Z"
   },
   {
    "duration": 21,
    "start_time": "2022-06-17T07:48:45.082Z"
   },
   {
    "duration": 17,
    "start_time": "2022-06-17T07:49:15.766Z"
   },
   {
    "duration": 14,
    "start_time": "2022-06-17T07:49:27.816Z"
   },
   {
    "duration": 416,
    "start_time": "2022-06-17T07:49:42.564Z"
   },
   {
    "duration": 138,
    "start_time": "2022-06-17T07:49:42.982Z"
   },
   {
    "duration": 11,
    "start_time": "2022-06-17T07:49:43.122Z"
   },
   {
    "duration": 35,
    "start_time": "2022-06-17T07:49:43.134Z"
   },
   {
    "duration": 43,
    "start_time": "2022-06-17T07:49:43.171Z"
   },
   {
    "duration": 13,
    "start_time": "2022-06-17T07:49:43.216Z"
   },
   {
    "duration": 33,
    "start_time": "2022-06-17T07:49:43.231Z"
   },
   {
    "duration": 48,
    "start_time": "2022-06-17T07:49:43.266Z"
   },
   {
    "duration": 4,
    "start_time": "2022-06-17T07:49:43.315Z"
   },
   {
    "duration": 10,
    "start_time": "2022-06-17T07:49:43.320Z"
   },
   {
    "duration": 46,
    "start_time": "2022-06-17T07:49:43.331Z"
   },
   {
    "duration": 22,
    "start_time": "2022-06-17T07:49:43.379Z"
   },
   {
    "duration": 12,
    "start_time": "2022-06-17T07:49:51.518Z"
   },
   {
    "duration": 80,
    "start_time": "2022-06-17T07:50:09.326Z"
   },
   {
    "duration": 147,
    "start_time": "2022-06-17T07:50:56.727Z"
   },
   {
    "duration": 365,
    "start_time": "2022-06-17T07:51:15.453Z"
   },
   {
    "duration": 144,
    "start_time": "2022-06-17T07:51:15.820Z"
   },
   {
    "duration": 10,
    "start_time": "2022-06-17T07:51:15.966Z"
   },
   {
    "duration": 46,
    "start_time": "2022-06-17T07:51:15.978Z"
   },
   {
    "duration": 28,
    "start_time": "2022-06-17T07:51:16.026Z"
   },
   {
    "duration": 9,
    "start_time": "2022-06-17T07:51:16.057Z"
   },
   {
    "duration": 65,
    "start_time": "2022-06-17T07:51:16.068Z"
   },
   {
    "duration": 24,
    "start_time": "2022-06-17T07:51:16.135Z"
   },
   {
    "duration": 4,
    "start_time": "2022-06-17T07:51:16.161Z"
   },
   {
    "duration": 27,
    "start_time": "2022-06-17T07:51:16.167Z"
   },
   {
    "duration": 44,
    "start_time": "2022-06-17T07:51:16.196Z"
   },
   {
    "duration": 13,
    "start_time": "2022-06-17T07:51:16.242Z"
   },
   {
    "duration": 16,
    "start_time": "2022-06-17T07:51:33.742Z"
   },
   {
    "duration": 14,
    "start_time": "2022-06-17T07:51:58.736Z"
   },
   {
    "duration": 14,
    "start_time": "2022-06-17T07:52:00.407Z"
   },
   {
    "duration": 415,
    "start_time": "2022-06-17T07:52:07.089Z"
   },
   {
    "duration": 169,
    "start_time": "2022-06-17T07:52:07.506Z"
   },
   {
    "duration": 10,
    "start_time": "2022-06-17T07:52:07.677Z"
   },
   {
    "duration": 39,
    "start_time": "2022-06-17T07:52:07.688Z"
   },
   {
    "duration": 23,
    "start_time": "2022-06-17T07:52:07.730Z"
   },
   {
    "duration": 9,
    "start_time": "2022-06-17T07:52:07.755Z"
   },
   {
    "duration": 52,
    "start_time": "2022-06-17T07:52:07.766Z"
   },
   {
    "duration": 22,
    "start_time": "2022-06-17T07:52:07.820Z"
   },
   {
    "duration": 4,
    "start_time": "2022-06-17T07:52:07.843Z"
   },
   {
    "duration": 9,
    "start_time": "2022-06-17T07:52:07.848Z"
   },
   {
    "duration": 62,
    "start_time": "2022-06-17T07:52:07.858Z"
   },
   {
    "duration": 8,
    "start_time": "2022-06-17T07:52:07.922Z"
   },
   {
    "duration": 106,
    "start_time": "2022-06-17T08:00:48.125Z"
   },
   {
    "duration": 139,
    "start_time": "2022-06-17T08:01:11.867Z"
   },
   {
    "duration": 98,
    "start_time": "2022-06-17T08:01:24.646Z"
   },
   {
    "duration": 10,
    "start_time": "2022-06-17T08:02:09.762Z"
   },
   {
    "duration": 11,
    "start_time": "2022-06-17T08:03:18.466Z"
   },
   {
    "duration": 96,
    "start_time": "2022-06-17T08:03:22.686Z"
   },
   {
    "duration": 97,
    "start_time": "2022-06-17T08:03:46.723Z"
   },
   {
    "duration": 104,
    "start_time": "2022-06-17T08:04:04.124Z"
   },
   {
    "duration": 114,
    "start_time": "2022-06-17T08:04:22.416Z"
   },
   {
    "duration": 226,
    "start_time": "2022-06-17T08:05:08.380Z"
   },
   {
    "duration": 137,
    "start_time": "2022-06-17T08:05:16.572Z"
   },
   {
    "duration": 326,
    "start_time": "2022-06-17T08:05:30.421Z"
   },
   {
    "duration": 407,
    "start_time": "2022-06-17T08:05:57.189Z"
   },
   {
    "duration": 142,
    "start_time": "2022-06-17T08:05:57.599Z"
   },
   {
    "duration": 10,
    "start_time": "2022-06-17T08:05:57.743Z"
   },
   {
    "duration": 36,
    "start_time": "2022-06-17T08:05:57.754Z"
   },
   {
    "duration": 21,
    "start_time": "2022-06-17T08:05:57.791Z"
   },
   {
    "duration": 8,
    "start_time": "2022-06-17T08:05:57.814Z"
   },
   {
    "duration": 33,
    "start_time": "2022-06-17T08:05:57.823Z"
   },
   {
    "duration": 49,
    "start_time": "2022-06-17T08:05:57.857Z"
   },
   {
    "duration": 3,
    "start_time": "2022-06-17T08:05:57.908Z"
   },
   {
    "duration": 7,
    "start_time": "2022-06-17T08:05:57.913Z"
   },
   {
    "duration": 41,
    "start_time": "2022-06-17T08:05:57.922Z"
   },
   {
    "duration": 125,
    "start_time": "2022-06-17T08:05:57.965Z"
   },
   {
    "duration": 25,
    "start_time": "2022-06-17T08:06:22.300Z"
   },
   {
    "duration": 268,
    "start_time": "2022-06-17T08:09:22.475Z"
   },
   {
    "duration": 36,
    "start_time": "2022-06-17T08:25:26.809Z"
   },
   {
    "duration": 28,
    "start_time": "2022-06-17T08:25:48.813Z"
   },
   {
    "duration": 17,
    "start_time": "2022-06-17T08:26:15.064Z"
   },
   {
    "duration": 17,
    "start_time": "2022-06-17T08:55:22.762Z"
   },
   {
    "duration": 395,
    "start_time": "2022-06-17T08:55:32.907Z"
   },
   {
    "duration": 139,
    "start_time": "2022-06-17T08:55:33.304Z"
   },
   {
    "duration": 9,
    "start_time": "2022-06-17T08:55:33.445Z"
   },
   {
    "duration": 35,
    "start_time": "2022-06-17T08:55:33.456Z"
   },
   {
    "duration": 21,
    "start_time": "2022-06-17T08:55:33.493Z"
   },
   {
    "duration": 9,
    "start_time": "2022-06-17T08:55:33.516Z"
   },
   {
    "duration": 32,
    "start_time": "2022-06-17T08:55:33.526Z"
   },
   {
    "duration": 52,
    "start_time": "2022-06-17T08:55:33.560Z"
   },
   {
    "duration": 4,
    "start_time": "2022-06-17T08:55:33.614Z"
   },
   {
    "duration": 6,
    "start_time": "2022-06-17T08:55:33.620Z"
   },
   {
    "duration": 36,
    "start_time": "2022-06-17T08:55:33.627Z"
   },
   {
    "duration": 53,
    "start_time": "2022-06-17T08:55:33.665Z"
   },
   {
    "duration": 4,
    "start_time": "2022-06-17T08:56:45.014Z"
   },
   {
    "duration": 20,
    "start_time": "2022-06-17T08:57:06.974Z"
   },
   {
    "duration": 30,
    "start_time": "2022-06-17T08:57:19.701Z"
   },
   {
    "duration": 26,
    "start_time": "2022-06-17T08:57:32.665Z"
   },
   {
    "duration": 14,
    "start_time": "2022-06-17T09:13:26.977Z"
   },
   {
    "duration": 27,
    "start_time": "2022-06-17T09:14:53.555Z"
   },
   {
    "duration": 406,
    "start_time": "2022-06-17T09:15:05.711Z"
   },
   {
    "duration": 149,
    "start_time": "2022-06-17T09:15:06.119Z"
   },
   {
    "duration": 11,
    "start_time": "2022-06-17T09:15:06.269Z"
   },
   {
    "duration": 53,
    "start_time": "2022-06-17T09:15:06.282Z"
   },
   {
    "duration": 29,
    "start_time": "2022-06-17T09:15:06.337Z"
   },
   {
    "duration": 22,
    "start_time": "2022-06-17T09:15:06.368Z"
   },
   {
    "duration": 63,
    "start_time": "2022-06-17T09:15:06.391Z"
   },
   {
    "duration": 44,
    "start_time": "2022-06-17T09:15:06.456Z"
   },
   {
    "duration": 5,
    "start_time": "2022-06-17T09:15:06.502Z"
   },
   {
    "duration": 16,
    "start_time": "2022-06-17T09:15:06.509Z"
   },
   {
    "duration": 64,
    "start_time": "2022-06-17T09:15:06.527Z"
   },
   {
    "duration": 14,
    "start_time": "2022-06-17T09:15:06.593Z"
   },
   {
    "duration": 35,
    "start_time": "2022-06-17T09:15:31.779Z"
   },
   {
    "duration": 11,
    "start_time": "2022-06-17T09:17:12.151Z"
   },
   {
    "duration": 12,
    "start_time": "2022-06-17T09:17:15.729Z"
   },
   {
    "duration": 12,
    "start_time": "2022-06-17T09:17:35.097Z"
   },
   {
    "duration": 31,
    "start_time": "2022-06-17T09:17:52.121Z"
   },
   {
    "duration": 26,
    "start_time": "2022-06-17T09:24:15.572Z"
   },
   {
    "duration": 4,
    "start_time": "2022-06-17T09:26:42.536Z"
   },
   {
    "duration": 18,
    "start_time": "2022-06-17T09:26:56.151Z"
   },
   {
    "duration": 9,
    "start_time": "2022-06-17T09:30:56.928Z"
   },
   {
    "duration": 26,
    "start_time": "2022-06-17T09:39:30.544Z"
   },
   {
    "duration": 21,
    "start_time": "2022-06-17T10:05:43.819Z"
   },
   {
    "duration": 29,
    "start_time": "2022-06-17T10:05:51.531Z"
   },
   {
    "duration": 3,
    "start_time": "2022-06-17T11:15:21.934Z"
   },
   {
    "duration": 72,
    "start_time": "2022-06-17T11:15:41.043Z"
   },
   {
    "duration": 14,
    "start_time": "2022-06-17T11:15:56.651Z"
   },
   {
    "duration": 14,
    "start_time": "2022-06-17T11:16:48.317Z"
   },
   {
    "duration": 9,
    "start_time": "2022-06-17T11:32:14.316Z"
   },
   {
    "duration": 32,
    "start_time": "2022-06-17T11:32:25.835Z"
   },
   {
    "duration": 31,
    "start_time": "2022-06-17T11:32:59.306Z"
   },
   {
    "duration": 32,
    "start_time": "2022-06-17T11:35:11.008Z"
   },
   {
    "duration": 29,
    "start_time": "2022-06-17T11:35:49.753Z"
   },
   {
    "duration": 35,
    "start_time": "2022-06-17T11:36:01.679Z"
   },
   {
    "duration": 19,
    "start_time": "2022-06-17T11:36:17.328Z"
   },
   {
    "duration": 27,
    "start_time": "2022-06-17T11:36:40.280Z"
   },
   {
    "duration": 21,
    "start_time": "2022-06-17T11:38:26.063Z"
   },
   {
    "duration": 704,
    "start_time": "2022-06-17T11:40:52.705Z"
   },
   {
    "duration": 208,
    "start_time": "2022-06-17T11:40:53.411Z"
   },
   {
    "duration": 9,
    "start_time": "2022-06-17T11:40:53.621Z"
   },
   {
    "duration": 89,
    "start_time": "2022-06-17T11:40:53.632Z"
   },
   {
    "duration": 79,
    "start_time": "2022-06-17T11:40:53.723Z"
   },
   {
    "duration": 8,
    "start_time": "2022-06-17T11:40:53.804Z"
   },
   {
    "duration": 96,
    "start_time": "2022-06-17T11:40:53.814Z"
   },
   {
    "duration": 25,
    "start_time": "2022-06-17T11:40:53.912Z"
   },
   {
    "duration": 4,
    "start_time": "2022-06-17T11:40:53.995Z"
   },
   {
    "duration": 9,
    "start_time": "2022-06-17T11:40:54.000Z"
   },
   {
    "duration": 95,
    "start_time": "2022-06-17T11:40:54.011Z"
   },
   {
    "duration": 27,
    "start_time": "2022-06-17T11:40:54.107Z"
   },
   {
    "duration": 73,
    "start_time": "2022-06-17T11:40:54.135Z"
   },
   {
    "duration": 22,
    "start_time": "2022-06-17T11:40:54.210Z"
   },
   {
    "duration": 61,
    "start_time": "2022-06-17T11:40:54.234Z"
   },
   {
    "duration": 26,
    "start_time": "2022-06-17T11:41:44.062Z"
   },
   {
    "duration": 45,
    "start_time": "2022-06-17T11:42:05.952Z"
   },
   {
    "duration": 44,
    "start_time": "2022-06-17T11:42:15.902Z"
   },
   {
    "duration": 141,
    "start_time": "2022-06-17T11:59:18.331Z"
   },
   {
    "duration": 32,
    "start_time": "2022-06-17T11:59:58.282Z"
   },
   {
    "duration": 22,
    "start_time": "2022-06-17T12:01:52.321Z"
   },
   {
    "duration": 44,
    "start_time": "2022-06-17T12:02:07.495Z"
   },
   {
    "duration": 46,
    "start_time": "2022-06-17T12:14:23.514Z"
   },
   {
    "duration": 124,
    "start_time": "2022-06-17T12:25:59.251Z"
   },
   {
    "duration": 79,
    "start_time": "2022-06-17T12:27:25.158Z"
   },
   {
    "duration": 32,
    "start_time": "2022-06-17T12:37:17.672Z"
   },
   {
    "duration": 4,
    "start_time": "2022-06-17T12:40:40.706Z"
   },
   {
    "duration": 5,
    "start_time": "2022-06-17T12:40:57.551Z"
   },
   {
    "duration": 36,
    "start_time": "2022-06-17T12:41:04.338Z"
   },
   {
    "duration": 34,
    "start_time": "2022-06-17T12:41:22.946Z"
   },
   {
    "duration": 33,
    "start_time": "2022-06-17T12:46:01.255Z"
   },
   {
    "duration": 339,
    "start_time": "2022-06-17T12:46:24.587Z"
   },
   {
    "duration": 255,
    "start_time": "2022-06-17T12:46:44.757Z"
   },
   {
    "duration": 20,
    "start_time": "2022-06-17T12:47:06.458Z"
   },
   {
    "duration": 26,
    "start_time": "2022-06-17T12:47:28.188Z"
   },
   {
    "duration": 25,
    "start_time": "2022-06-17T12:47:50.182Z"
   },
   {
    "duration": 20,
    "start_time": "2022-06-17T12:48:07.546Z"
   },
   {
    "duration": 23,
    "start_time": "2022-06-17T12:48:22.881Z"
   },
   {
    "duration": 27,
    "start_time": "2022-06-17T12:49:27.329Z"
   },
   {
    "duration": 28,
    "start_time": "2022-06-17T12:49:55.210Z"
   },
   {
    "duration": 20,
    "start_time": "2022-06-17T12:50:16.772Z"
   },
   {
    "duration": 26,
    "start_time": "2022-06-17T12:51:30.218Z"
   },
   {
    "duration": 24,
    "start_time": "2022-06-17T12:51:58.154Z"
   },
   {
    "duration": 35,
    "start_time": "2022-06-17T12:52:00.785Z"
   },
   {
    "duration": 25,
    "start_time": "2022-06-17T12:52:57.106Z"
   },
   {
    "duration": 25,
    "start_time": "2022-06-17T12:53:09.831Z"
   },
   {
    "duration": 15,
    "start_time": "2022-06-17T12:53:20.408Z"
   },
   {
    "duration": 26,
    "start_time": "2022-06-17T12:53:26.258Z"
   },
   {
    "duration": 25,
    "start_time": "2022-06-17T12:53:50.265Z"
   },
   {
    "duration": 34,
    "start_time": "2022-06-17T12:53:53.687Z"
   },
   {
    "duration": 24,
    "start_time": "2022-06-17T12:54:36.011Z"
   },
   {
    "duration": 4,
    "start_time": "2022-06-17T12:54:43.825Z"
   },
   {
    "duration": 27,
    "start_time": "2022-06-17T12:54:52.651Z"
   },
   {
    "duration": 386,
    "start_time": "2022-06-17T12:55:36.145Z"
   },
   {
    "duration": 34,
    "start_time": "2022-06-17T13:01:21.984Z"
   },
   {
    "duration": 30,
    "start_time": "2022-06-17T13:01:29.687Z"
   },
   {
    "duration": 25,
    "start_time": "2022-06-17T13:01:38.007Z"
   },
   {
    "duration": 2,
    "start_time": "2022-06-17T13:01:45.847Z"
   },
   {
    "duration": 23,
    "start_time": "2022-06-17T13:01:52.024Z"
   },
   {
    "duration": 19,
    "start_time": "2022-06-17T13:02:11.329Z"
   },
   {
    "duration": 19,
    "start_time": "2022-06-17T13:02:41.817Z"
   },
   {
    "duration": 20,
    "start_time": "2022-06-17T13:02:52.471Z"
   },
   {
    "duration": 23,
    "start_time": "2022-06-17T13:03:59.726Z"
   },
   {
    "duration": 13,
    "start_time": "2022-06-17T13:05:24.834Z"
   },
   {
    "duration": 3,
    "start_time": "2022-06-17T13:05:40.998Z"
   },
   {
    "duration": 5,
    "start_time": "2022-06-17T13:05:51.014Z"
   },
   {
    "duration": 41,
    "start_time": "2022-06-17T13:06:20.648Z"
   },
   {
    "duration": 33,
    "start_time": "2022-06-17T13:06:26.975Z"
   },
   {
    "duration": 21,
    "start_time": "2022-06-17T13:06:50.808Z"
   },
   {
    "duration": 17,
    "start_time": "2022-06-17T13:07:04.906Z"
   },
   {
    "duration": 78,
    "start_time": "2022-06-17T13:07:36.922Z"
   },
   {
    "duration": 9,
    "start_time": "2022-06-17T13:08:10.094Z"
   },
   {
    "duration": 40,
    "start_time": "2022-06-17T13:08:21.497Z"
   },
   {
    "duration": 28,
    "start_time": "2022-06-17T13:08:57.831Z"
   },
   {
    "duration": 39,
    "start_time": "2022-06-17T13:09:04.106Z"
   },
   {
    "duration": 44,
    "start_time": "2022-06-17T13:09:18.793Z"
   },
   {
    "duration": 26,
    "start_time": "2022-06-17T13:09:23.913Z"
   },
   {
    "duration": 35,
    "start_time": "2022-06-17T13:11:12.647Z"
   },
   {
    "duration": 27,
    "start_time": "2022-06-17T13:11:34.508Z"
   },
   {
    "duration": 30,
    "start_time": "2022-06-17T13:11:43.008Z"
   },
   {
    "duration": 30,
    "start_time": "2022-06-17T13:11:52.304Z"
   },
   {
    "duration": 15,
    "start_time": "2022-06-17T13:12:15.133Z"
   },
   {
    "duration": 13,
    "start_time": "2022-06-17T13:12:26.025Z"
   },
   {
    "duration": 34,
    "start_time": "2022-06-17T13:13:11.917Z"
   },
   {
    "duration": 11,
    "start_time": "2022-06-17T13:14:00.012Z"
   },
   {
    "duration": 9,
    "start_time": "2022-06-17T13:14:30.364Z"
   },
   {
    "duration": 11,
    "start_time": "2022-06-17T13:14:33.918Z"
   },
   {
    "duration": 11,
    "start_time": "2022-06-17T13:14:42.407Z"
   },
   {
    "duration": 10,
    "start_time": "2022-06-17T13:17:17.297Z"
   },
   {
    "duration": 17,
    "start_time": "2022-06-17T13:21:03.532Z"
   },
   {
    "duration": 45537,
    "start_time": "2022-06-17T13:21:52.157Z"
   },
   {
    "duration": 190,
    "start_time": "2022-06-17T13:27:52.499Z"
   },
   {
    "duration": 12,
    "start_time": "2022-06-17T13:28:48.565Z"
   },
   {
    "duration": 140,
    "start_time": "2022-06-17T13:28:52.251Z"
   },
   {
    "duration": 144,
    "start_time": "2022-06-17T13:29:17.062Z"
   },
   {
    "duration": 4,
    "start_time": "2022-06-17T13:29:20.738Z"
   },
   {
    "duration": 164,
    "start_time": "2022-06-17T13:32:13.081Z"
   },
   {
    "duration": 422,
    "start_time": "2022-06-17T13:32:23.839Z"
   },
   {
    "duration": 155,
    "start_time": "2022-06-17T13:33:25.282Z"
   },
   {
    "duration": 156,
    "start_time": "2022-06-17T13:37:13.140Z"
   },
   {
    "duration": 147,
    "start_time": "2022-06-17T13:37:40.200Z"
   },
   {
    "duration": 162,
    "start_time": "2022-06-17T13:38:08.576Z"
   },
   {
    "duration": 21,
    "start_time": "2022-06-17T13:39:09.163Z"
   },
   {
    "duration": 20,
    "start_time": "2022-06-17T13:39:18.464Z"
   },
   {
    "duration": 23,
    "start_time": "2022-06-17T13:41:12.448Z"
   },
   {
    "duration": 162,
    "start_time": "2022-06-17T13:44:09.184Z"
   },
   {
    "duration": 159,
    "start_time": "2022-06-17T13:44:18.487Z"
   },
   {
    "duration": 29,
    "start_time": "2022-06-17T13:44:21.922Z"
   },
   {
    "duration": 16,
    "start_time": "2022-06-17T13:45:20.226Z"
   },
   {
    "duration": 176,
    "start_time": "2022-06-17T13:46:00.039Z"
   },
   {
    "duration": 162,
    "start_time": "2022-06-17T13:49:35.120Z"
   },
   {
    "duration": 193,
    "start_time": "2022-06-17T13:50:10.510Z"
   },
   {
    "duration": 177,
    "start_time": "2022-06-17T13:50:18.623Z"
   },
   {
    "duration": 328,
    "start_time": "2022-06-17T13:51:22.919Z"
   },
   {
    "duration": 329,
    "start_time": "2022-06-17T13:52:25.342Z"
   },
   {
    "duration": 169,
    "start_time": "2022-06-17T13:53:27.950Z"
   },
   {
    "duration": 409,
    "start_time": "2022-06-17T13:55:02.942Z"
   },
   {
    "duration": 153,
    "start_time": "2022-06-17T13:55:03.353Z"
   },
   {
    "duration": 10,
    "start_time": "2022-06-17T13:55:03.508Z"
   },
   {
    "duration": 38,
    "start_time": "2022-06-17T13:55:03.521Z"
   },
   {
    "duration": 48,
    "start_time": "2022-06-17T13:55:03.560Z"
   },
   {
    "duration": 9,
    "start_time": "2022-06-17T13:55:03.610Z"
   },
   {
    "duration": 44,
    "start_time": "2022-06-17T13:55:03.621Z"
   },
   {
    "duration": 32,
    "start_time": "2022-06-17T13:55:03.667Z"
   },
   {
    "duration": 3,
    "start_time": "2022-06-17T13:55:03.701Z"
   },
   {
    "duration": 8,
    "start_time": "2022-06-17T13:55:03.707Z"
   },
   {
    "duration": 45,
    "start_time": "2022-06-17T13:55:03.717Z"
   },
   {
    "duration": 43,
    "start_time": "2022-06-17T13:55:03.764Z"
   },
   {
    "duration": 27,
    "start_time": "2022-06-17T13:55:03.809Z"
   },
   {
    "duration": 92,
    "start_time": "2022-06-17T13:55:03.838Z"
   },
   {
    "duration": 8,
    "start_time": "2022-06-17T13:55:03.932Z"
   },
   {
    "duration": 429,
    "start_time": "2022-06-17T13:55:03.941Z"
   },
   {
    "duration": 173,
    "start_time": "2022-06-17T13:55:04.371Z"
   },
   {
    "duration": 23,
    "start_time": "2022-06-17T13:55:04.546Z"
   },
   {
    "duration": 186,
    "start_time": "2022-06-17T13:55:04.571Z"
   },
   {
    "duration": 476,
    "start_time": "2022-06-17T13:55:04.759Z"
   },
   {
    "duration": 475,
    "start_time": "2022-06-17T13:55:05.238Z"
   },
   {
    "duration": 211,
    "start_time": "2022-06-17T13:55:05.715Z"
   },
   {
    "duration": 22,
    "start_time": "2022-06-17T13:56:59.912Z"
   },
   {
    "duration": 26,
    "start_time": "2022-06-17T13:57:48.466Z"
   },
   {
    "duration": 61,
    "start_time": "2022-06-17T14:19:52.365Z"
   },
   {
    "duration": 50,
    "start_time": "2022-06-17T14:20:39.831Z"
   },
   {
    "duration": 395,
    "start_time": "2022-06-17T14:20:49.521Z"
   },
   {
    "duration": 51,
    "start_time": "2022-06-17T14:24:03.025Z"
   },
   {
    "duration": 43,
    "start_time": "2022-06-17T14:25:08.246Z"
   },
   {
    "duration": 60,
    "start_time": "2022-06-17T14:25:27.061Z"
   },
   {
    "duration": 40,
    "start_time": "2022-06-17T14:25:51.846Z"
   },
   {
    "duration": 366,
    "start_time": "2022-06-17T14:26:03.444Z"
   },
   {
    "duration": 145,
    "start_time": "2022-06-17T14:26:03.813Z"
   },
   {
    "duration": 10,
    "start_time": "2022-06-17T14:26:03.959Z"
   },
   {
    "duration": 41,
    "start_time": "2022-06-17T14:26:03.970Z"
   },
   {
    "duration": 22,
    "start_time": "2022-06-17T14:26:04.013Z"
   },
   {
    "duration": 10,
    "start_time": "2022-06-17T14:26:04.037Z"
   },
   {
    "duration": 54,
    "start_time": "2022-06-17T14:26:04.049Z"
   },
   {
    "duration": 12,
    "start_time": "2022-06-17T14:26:04.105Z"
   },
   {
    "duration": 16,
    "start_time": "2022-06-17T14:26:04.118Z"
   },
   {
    "duration": 21,
    "start_time": "2022-06-17T14:26:04.136Z"
   },
   {
    "duration": 48,
    "start_time": "2022-06-17T14:26:04.159Z"
   },
   {
    "duration": 35,
    "start_time": "2022-06-17T14:26:04.210Z"
   },
   {
    "duration": 18,
    "start_time": "2022-06-17T14:26:04.247Z"
   },
   {
    "duration": 101,
    "start_time": "2022-06-17T14:26:04.269Z"
   },
   {
    "duration": 602,
    "start_time": "2022-06-17T14:26:04.372Z"
   },
   {
    "duration": 363,
    "start_time": "2022-06-17T14:26:04.976Z"
   },
   {
    "duration": 154,
    "start_time": "2022-06-17T14:26:05.341Z"
   },
   {
    "duration": 20,
    "start_time": "2022-06-17T14:26:05.497Z"
   },
   {
    "duration": 180,
    "start_time": "2022-06-17T14:26:05.518Z"
   },
   {
    "duration": 308,
    "start_time": "2022-06-17T14:26:05.699Z"
   },
   {
    "duration": 340,
    "start_time": "2022-06-17T14:26:06.009Z"
   },
   {
    "duration": 218,
    "start_time": "2022-06-17T14:26:06.351Z"
   },
   {
    "duration": 54,
    "start_time": "2022-06-17T14:26:15.452Z"
   },
   {
    "duration": 241,
    "start_time": "2022-06-17T14:28:24.687Z"
   },
   {
    "duration": 165,
    "start_time": "2022-06-17T14:28:53.555Z"
   },
   {
    "duration": 0,
    "start_time": "2022-06-17T14:31:10.734Z"
   },
   {
    "duration": 383,
    "start_time": "2022-06-17T14:31:17.516Z"
   },
   {
    "duration": 152,
    "start_time": "2022-06-17T14:31:17.901Z"
   },
   {
    "duration": 11,
    "start_time": "2022-06-17T14:31:18.054Z"
   },
   {
    "duration": 40,
    "start_time": "2022-06-17T14:31:18.067Z"
   },
   {
    "duration": 23,
    "start_time": "2022-06-17T14:31:18.108Z"
   },
   {
    "duration": 9,
    "start_time": "2022-06-17T14:31:18.132Z"
   },
   {
    "duration": 35,
    "start_time": "2022-06-17T14:31:18.142Z"
   },
   {
    "duration": 13,
    "start_time": "2022-06-17T14:31:18.195Z"
   },
   {
    "duration": 7,
    "start_time": "2022-06-17T14:31:18.210Z"
   },
   {
    "duration": 10,
    "start_time": "2022-06-17T14:31:18.220Z"
   },
   {
    "duration": 42,
    "start_time": "2022-06-17T14:31:18.231Z"
   },
   {
    "duration": 9557,
    "start_time": "2022-06-17T14:31:18.274Z"
   },
   {
    "duration": 15,
    "start_time": "2022-06-17T14:31:27.833Z"
   },
   {
    "duration": 87,
    "start_time": "2022-06-17T14:31:27.850Z"
   },
   {
    "duration": 556,
    "start_time": "2022-06-17T14:31:27.939Z"
   },
   {
    "duration": 373,
    "start_time": "2022-06-17T14:31:28.497Z"
   },
   {
    "duration": 213,
    "start_time": "2022-06-17T14:31:28.872Z"
   },
   {
    "duration": 28,
    "start_time": "2022-06-17T14:31:29.088Z"
   },
   {
    "duration": 190,
    "start_time": "2022-06-17T14:31:29.118Z"
   },
   {
    "duration": 333,
    "start_time": "2022-06-17T14:31:29.310Z"
   },
   {
    "duration": 376,
    "start_time": "2022-06-17T14:31:29.645Z"
   },
   {
    "duration": 176,
    "start_time": "2022-06-17T14:31:30.022Z"
   },
   {
    "duration": 1,
    "start_time": "2022-06-17T14:31:58.219Z"
   },
   {
    "duration": 9920,
    "start_time": "2022-06-17T14:32:47.646Z"
   },
   {
    "duration": 9804,
    "start_time": "2022-06-17T14:33:07.447Z"
   },
   {
    "duration": 10428,
    "start_time": "2022-06-17T14:33:26.383Z"
   },
   {
    "duration": 171,
    "start_time": "2022-06-17T14:34:14.174Z"
   },
   {
    "duration": 225,
    "start_time": "2022-06-17T14:34:49.894Z"
   },
   {
    "duration": 447,
    "start_time": "2022-06-17T14:35:01.167Z"
   },
   {
    "duration": 153,
    "start_time": "2022-06-17T14:35:01.616Z"
   },
   {
    "duration": 11,
    "start_time": "2022-06-17T14:35:01.771Z"
   },
   {
    "duration": 57,
    "start_time": "2022-06-17T14:35:01.784Z"
   },
   {
    "duration": 28,
    "start_time": "2022-06-17T14:35:01.843Z"
   },
   {
    "duration": 10,
    "start_time": "2022-06-17T14:35:01.873Z"
   },
   {
    "duration": 37,
    "start_time": "2022-06-17T14:35:01.895Z"
   },
   {
    "duration": 26,
    "start_time": "2022-06-17T14:35:01.934Z"
   },
   {
    "duration": 24,
    "start_time": "2022-06-17T14:35:01.962Z"
   },
   {
    "duration": 63,
    "start_time": "2022-06-17T14:35:01.989Z"
   },
   {
    "duration": 66,
    "start_time": "2022-06-17T14:35:02.055Z"
   },
   {
    "duration": 8,
    "start_time": "2022-06-17T14:35:02.123Z"
   },
   {
    "duration": 56,
    "start_time": "2022-06-17T14:35:02.133Z"
   },
   {
    "duration": 114,
    "start_time": "2022-06-17T14:35:02.191Z"
   },
   {
    "duration": 8,
    "start_time": "2022-06-17T14:35:02.307Z"
   },
   {
    "duration": 460,
    "start_time": "2022-06-17T14:35:02.317Z"
   },
   {
    "duration": 171,
    "start_time": "2022-06-17T14:35:02.779Z"
   },
   {
    "duration": 22,
    "start_time": "2022-06-17T14:35:02.952Z"
   },
   {
    "duration": 191,
    "start_time": "2022-06-17T14:35:02.976Z"
   },
   {
    "duration": 365,
    "start_time": "2022-06-17T14:35:03.169Z"
   },
   {
    "duration": 436,
    "start_time": "2022-06-17T14:35:03.537Z"
   },
   {
    "duration": 193,
    "start_time": "2022-06-17T14:35:03.975Z"
   },
   {
    "duration": 23,
    "start_time": "2022-06-17T14:37:23.566Z"
   },
   {
    "duration": 51,
    "start_time": "2022-06-20T08:23:43.758Z"
   },
   {
    "duration": 417,
    "start_time": "2022-06-20T08:23:50.412Z"
   },
   {
    "duration": 290,
    "start_time": "2022-06-20T08:23:50.831Z"
   },
   {
    "duration": 9,
    "start_time": "2022-06-20T08:23:51.123Z"
   },
   {
    "duration": 34,
    "start_time": "2022-06-20T08:23:51.134Z"
   },
   {
    "duration": 19,
    "start_time": "2022-06-20T08:23:51.170Z"
   },
   {
    "duration": 8,
    "start_time": "2022-06-20T08:23:51.191Z"
   },
   {
    "duration": 52,
    "start_time": "2022-06-20T08:23:51.200Z"
   },
   {
    "duration": 16,
    "start_time": "2022-06-20T08:23:51.254Z"
   },
   {
    "duration": 3,
    "start_time": "2022-06-20T08:23:51.271Z"
   },
   {
    "duration": 10,
    "start_time": "2022-06-20T08:23:51.277Z"
   },
   {
    "duration": 68,
    "start_time": "2022-06-20T08:23:51.288Z"
   },
   {
    "duration": 22,
    "start_time": "2022-06-20T08:23:51.358Z"
   },
   {
    "duration": 16,
    "start_time": "2022-06-20T08:23:51.382Z"
   },
   {
    "duration": 280,
    "start_time": "2022-06-20T08:23:51.400Z"
   },
   {
    "duration": 0,
    "start_time": "2022-06-20T08:23:51.682Z"
   },
   {
    "duration": 0,
    "start_time": "2022-06-20T08:23:51.683Z"
   },
   {
    "duration": 0,
    "start_time": "2022-06-20T08:23:51.684Z"
   },
   {
    "duration": 0,
    "start_time": "2022-06-20T08:23:51.685Z"
   },
   {
    "duration": 0,
    "start_time": "2022-06-20T08:23:51.687Z"
   },
   {
    "duration": 0,
    "start_time": "2022-06-20T08:23:51.688Z"
   },
   {
    "duration": 0,
    "start_time": "2022-06-20T08:23:51.689Z"
   },
   {
    "duration": 0,
    "start_time": "2022-06-20T08:23:51.690Z"
   },
   {
    "duration": 7,
    "start_time": "2022-06-20T08:24:26.981Z"
   },
   {
    "duration": 519,
    "start_time": "2022-06-20T08:24:32.756Z"
   },
   {
    "duration": 177,
    "start_time": "2022-06-20T08:24:36.119Z"
   },
   {
    "duration": 19,
    "start_time": "2022-06-20T08:24:42.804Z"
   },
   {
    "duration": 156,
    "start_time": "2022-06-20T08:24:44.516Z"
   },
   {
    "duration": 338,
    "start_time": "2022-06-20T08:24:47.789Z"
   },
   {
    "duration": 380,
    "start_time": "2022-06-20T08:24:51.691Z"
   },
   {
    "duration": 165,
    "start_time": "2022-06-20T08:24:54.754Z"
   },
   {
    "duration": 80,
    "start_time": "2022-06-20T08:26:05.804Z"
   },
   {
    "duration": 72,
    "start_time": "2022-06-20T08:28:46.612Z"
   },
   {
    "duration": 74,
    "start_time": "2022-06-20T08:29:35.266Z"
   },
   {
    "duration": 51,
    "start_time": "2022-06-20T08:36:46.790Z"
   },
   {
    "duration": 50,
    "start_time": "2022-06-20T08:37:25.345Z"
   },
   {
    "duration": 27,
    "start_time": "2022-06-20T08:38:03.258Z"
   },
   {
    "duration": 381,
    "start_time": "2022-06-20T08:38:23.234Z"
   },
   {
    "duration": 138,
    "start_time": "2022-06-20T08:38:23.617Z"
   },
   {
    "duration": 9,
    "start_time": "2022-06-20T08:38:23.757Z"
   },
   {
    "duration": 35,
    "start_time": "2022-06-20T08:38:23.767Z"
   },
   {
    "duration": 36,
    "start_time": "2022-06-20T08:38:23.804Z"
   },
   {
    "duration": 8,
    "start_time": "2022-06-20T08:38:23.842Z"
   },
   {
    "duration": 32,
    "start_time": "2022-06-20T08:38:23.852Z"
   },
   {
    "duration": 41,
    "start_time": "2022-06-20T08:38:23.886Z"
   },
   {
    "duration": 2,
    "start_time": "2022-06-20T08:38:23.929Z"
   },
   {
    "duration": 9,
    "start_time": "2022-06-20T08:38:23.933Z"
   },
   {
    "duration": 37,
    "start_time": "2022-06-20T08:38:23.943Z"
   },
   {
    "duration": 20,
    "start_time": "2022-06-20T08:38:23.982Z"
   },
   {
    "duration": 39,
    "start_time": "2022-06-20T08:38:24.004Z"
   },
   {
    "duration": 23,
    "start_time": "2022-06-20T08:38:24.044Z"
   },
   {
    "duration": 7,
    "start_time": "2022-06-20T08:38:24.069Z"
   },
   {
    "duration": 398,
    "start_time": "2022-06-20T08:38:24.077Z"
   },
   {
    "duration": 155,
    "start_time": "2022-06-20T08:38:24.476Z"
   },
   {
    "duration": 20,
    "start_time": "2022-06-20T08:38:24.632Z"
   },
   {
    "duration": 182,
    "start_time": "2022-06-20T08:38:24.653Z"
   },
   {
    "duration": 321,
    "start_time": "2022-06-20T08:38:24.837Z"
   },
   {
    "duration": 326,
    "start_time": "2022-06-20T08:38:25.160Z"
   },
   {
    "duration": 213,
    "start_time": "2022-06-20T08:38:25.488Z"
   },
   {
    "duration": 92,
    "start_time": "2022-06-20T08:40:43.550Z"
   },
   {
    "duration": 26,
    "start_time": "2022-06-20T08:40:55.688Z"
   },
   {
    "duration": 7,
    "start_time": "2022-06-20T08:41:20.169Z"
   },
   {
    "duration": 14,
    "start_time": "2022-06-20T08:41:26.808Z"
   },
   {
    "duration": 14,
    "start_time": "2022-06-20T08:41:32.963Z"
   },
   {
    "duration": 35,
    "start_time": "2022-06-20T08:41:49.109Z"
   },
   {
    "duration": 14,
    "start_time": "2022-06-20T08:42:11.913Z"
   },
   {
    "duration": 705,
    "start_time": "2022-06-20T08:49:36.896Z"
   },
   {
    "duration": 713,
    "start_time": "2022-06-20T08:53:09.354Z"
   },
   {
    "duration": 130,
    "start_time": "2022-06-20T08:53:41.059Z"
   },
   {
    "duration": 731,
    "start_time": "2022-06-20T08:55:02.115Z"
   },
   {
    "duration": 4354,
    "start_time": "2022-06-20T08:57:10.478Z"
   },
   {
    "duration": 736,
    "start_time": "2022-06-20T08:58:14.785Z"
   },
   {
    "duration": 141,
    "start_time": "2022-06-20T08:58:19.787Z"
   },
   {
    "duration": 752,
    "start_time": "2022-06-20T08:58:24.882Z"
   },
   {
    "duration": 4281,
    "start_time": "2022-06-20T08:58:32.698Z"
   },
   {
    "duration": 144,
    "start_time": "2022-06-20T09:01:30.148Z"
   },
   {
    "duration": 130,
    "start_time": "2022-06-20T09:01:35.656Z"
   },
   {
    "duration": 1109,
    "start_time": "2022-06-20T10:37:18.472Z"
   },
   {
    "duration": 13,
    "start_time": "2022-06-20T10:41:00.356Z"
   },
   {
    "duration": 14,
    "start_time": "2022-06-20T10:41:12.766Z"
   },
   {
    "duration": 104,
    "start_time": "2022-06-20T10:46:17.265Z"
   },
   {
    "duration": 73,
    "start_time": "2022-06-20T10:47:18.945Z"
   },
   {
    "duration": 108,
    "start_time": "2022-06-20T10:47:51.079Z"
   },
   {
    "duration": 234,
    "start_time": "2022-06-20T10:48:32.982Z"
   },
   {
    "duration": 220,
    "start_time": "2022-06-20T10:50:03.310Z"
   },
   {
    "duration": 890,
    "start_time": "2022-06-20T10:50:58.489Z"
   },
   {
    "duration": 63,
    "start_time": "2022-06-20T10:53:00.958Z"
   },
   {
    "duration": 49,
    "start_time": "2022-06-20T10:53:06.645Z"
   },
   {
    "duration": 118,
    "start_time": "2022-06-20T10:53:31.974Z"
   },
   {
    "duration": 62,
    "start_time": "2022-06-20T10:53:35.461Z"
   },
   {
    "duration": 133,
    "start_time": "2022-06-20T10:53:54.492Z"
   },
   {
    "duration": 110,
    "start_time": "2022-06-20T10:54:03.912Z"
   },
   {
    "duration": 135,
    "start_time": "2022-06-20T10:54:26.101Z"
   },
   {
    "duration": 4,
    "start_time": "2022-06-20T10:55:59.918Z"
   },
   {
    "duration": 5,
    "start_time": "2022-06-20T10:56:12.589Z"
   },
   {
    "duration": 4,
    "start_time": "2022-06-20T10:57:06.813Z"
   },
   {
    "duration": 3,
    "start_time": "2022-06-20T10:57:37.821Z"
   },
   {
    "duration": 224,
    "start_time": "2022-06-20T10:58:55.396Z"
   },
   {
    "duration": 226,
    "start_time": "2022-06-20T10:59:06.017Z"
   },
   {
    "duration": 240,
    "start_time": "2022-06-20T10:59:26.836Z"
   },
   {
    "duration": 402,
    "start_time": "2022-06-20T10:59:59.394Z"
   },
   {
    "duration": 251,
    "start_time": "2022-06-20T11:00:34.041Z"
   },
   {
    "duration": 254,
    "start_time": "2022-06-20T11:01:00.344Z"
   },
   {
    "duration": 243,
    "start_time": "2022-06-20T11:01:04.921Z"
   },
   {
    "duration": 65,
    "start_time": "2022-06-21T14:23:39.016Z"
   },
   {
    "duration": 401,
    "start_time": "2022-06-21T14:23:49.730Z"
   },
   {
    "duration": 397,
    "start_time": "2022-06-21T14:23:50.133Z"
   },
   {
    "duration": 15,
    "start_time": "2022-06-21T14:23:50.532Z"
   },
   {
    "duration": 44,
    "start_time": "2022-06-21T14:23:50.549Z"
   },
   {
    "duration": 27,
    "start_time": "2022-06-21T14:23:50.594Z"
   },
   {
    "duration": 12,
    "start_time": "2022-06-21T14:23:50.623Z"
   },
   {
    "duration": 38,
    "start_time": "2022-06-21T14:23:50.655Z"
   },
   {
    "duration": 13,
    "start_time": "2022-06-21T14:23:50.694Z"
   },
   {
    "duration": 2,
    "start_time": "2022-06-21T14:23:50.709Z"
   },
   {
    "duration": 8,
    "start_time": "2022-06-21T14:23:50.714Z"
   },
   {
    "duration": 85,
    "start_time": "2022-06-21T14:23:50.723Z"
   },
   {
    "duration": 21,
    "start_time": "2022-06-21T14:23:50.810Z"
   },
   {
    "duration": 39,
    "start_time": "2022-06-21T14:23:50.833Z"
   },
   {
    "duration": 24,
    "start_time": "2022-06-21T14:23:50.874Z"
   },
   {
    "duration": 11,
    "start_time": "2022-06-21T14:23:50.900Z"
   },
   {
    "duration": 669,
    "start_time": "2022-06-21T14:23:50.913Z"
   },
   {
    "duration": 162,
    "start_time": "2022-06-21T14:23:51.584Z"
   },
   {
    "duration": 39,
    "start_time": "2022-06-21T14:23:51.747Z"
   },
   {
    "duration": 221,
    "start_time": "2022-06-21T14:23:51.788Z"
   },
   {
    "duration": 360,
    "start_time": "2022-06-21T14:23:52.012Z"
   },
   {
    "duration": 419,
    "start_time": "2022-06-21T14:23:52.378Z"
   },
   {
    "duration": 183,
    "start_time": "2022-06-21T14:23:52.799Z"
   },
   {
    "duration": 867,
    "start_time": "2022-06-21T14:23:52.984Z"
   },
   {
    "duration": 167,
    "start_time": "2022-06-21T14:23:53.855Z"
   },
   {
    "duration": 812,
    "start_time": "2022-06-21T14:23:54.024Z"
   },
   {
    "duration": 163,
    "start_time": "2022-06-21T14:23:54.838Z"
   },
   {
    "duration": 292,
    "start_time": "2022-06-21T14:23:55.003Z"
   },
   {
    "duration": 331,
    "start_time": "2022-06-21T14:23:55.299Z"
   },
   {
    "duration": 5,
    "start_time": "2022-06-21T14:23:55.632Z"
   },
   {
    "duration": 17,
    "start_time": "2022-06-21T14:24:30.005Z"
   },
   {
    "duration": 431,
    "start_time": "2022-06-22T08:33:21.154Z"
   },
   {
    "duration": 329,
    "start_time": "2022-06-22T08:33:21.587Z"
   },
   {
    "duration": 23,
    "start_time": "2022-06-22T08:33:21.918Z"
   },
   {
    "duration": 38,
    "start_time": "2022-06-22T08:33:21.943Z"
   },
   {
    "duration": 26,
    "start_time": "2022-06-22T08:33:21.983Z"
   },
   {
    "duration": 22,
    "start_time": "2022-06-22T08:33:22.011Z"
   },
   {
    "duration": 47,
    "start_time": "2022-06-22T08:33:22.035Z"
   },
   {
    "duration": 12,
    "start_time": "2022-06-22T08:33:22.084Z"
   },
   {
    "duration": 2,
    "start_time": "2022-06-22T08:33:22.098Z"
   },
   {
    "duration": 21,
    "start_time": "2022-06-22T08:33:22.125Z"
   },
   {
    "duration": 38,
    "start_time": "2022-06-22T08:33:22.148Z"
   },
   {
    "duration": 35,
    "start_time": "2022-06-22T08:33:22.188Z"
   },
   {
    "duration": 23,
    "start_time": "2022-06-22T08:33:22.226Z"
   },
   {
    "duration": 29,
    "start_time": "2022-06-22T08:33:22.251Z"
   },
   {
    "duration": 998,
    "start_time": "2022-06-22T08:33:22.282Z"
   },
   {
    "duration": 0,
    "start_time": "2022-06-22T08:33:23.281Z"
   },
   {
    "duration": 0,
    "start_time": "2022-06-22T08:33:23.285Z"
   },
   {
    "duration": 0,
    "start_time": "2022-06-22T08:33:23.287Z"
   },
   {
    "duration": 0,
    "start_time": "2022-06-22T08:33:23.288Z"
   },
   {
    "duration": 0,
    "start_time": "2022-06-22T08:33:23.289Z"
   },
   {
    "duration": 0,
    "start_time": "2022-06-22T08:33:23.290Z"
   },
   {
    "duration": 0,
    "start_time": "2022-06-22T08:33:23.291Z"
   },
   {
    "duration": 0,
    "start_time": "2022-06-22T08:33:23.292Z"
   },
   {
    "duration": 0,
    "start_time": "2022-06-22T08:33:23.293Z"
   },
   {
    "duration": 0,
    "start_time": "2022-06-22T08:33:23.294Z"
   },
   {
    "duration": 0,
    "start_time": "2022-06-22T08:33:23.295Z"
   },
   {
    "duration": 0,
    "start_time": "2022-06-22T08:33:23.296Z"
   },
   {
    "duration": 0,
    "start_time": "2022-06-22T08:33:23.298Z"
   },
   {
    "duration": 0,
    "start_time": "2022-06-22T08:33:23.299Z"
   },
   {
    "duration": 7,
    "start_time": "2022-06-22T08:52:04.027Z"
   },
   {
    "duration": 615,
    "start_time": "2022-06-22T08:52:23.000Z"
   },
   {
    "duration": 162,
    "start_time": "2022-06-22T08:52:23.624Z"
   },
   {
    "duration": 22,
    "start_time": "2022-06-22T08:52:23.788Z"
   },
   {
    "duration": 186,
    "start_time": "2022-06-22T08:52:23.822Z"
   },
   {
    "duration": 346,
    "start_time": "2022-06-22T08:52:24.010Z"
   },
   {
    "duration": 402,
    "start_time": "2022-06-22T08:52:24.358Z"
   },
   {
    "duration": 194,
    "start_time": "2022-06-22T08:52:24.762Z"
   },
   {
    "duration": 859,
    "start_time": "2022-06-22T08:52:24.958Z"
   },
   {
    "duration": 176,
    "start_time": "2022-06-22T08:52:25.823Z"
   },
   {
    "duration": 769,
    "start_time": "2022-06-22T08:52:26.002Z"
   },
   {
    "duration": 163,
    "start_time": "2022-06-22T08:52:26.773Z"
   },
   {
    "duration": 272,
    "start_time": "2022-06-22T08:52:26.938Z"
   },
   {
    "duration": 277,
    "start_time": "2022-06-22T08:52:27.212Z"
   },
   {
    "duration": 5,
    "start_time": "2022-06-22T08:52:27.490Z"
   },
   {
    "duration": 138,
    "start_time": "2022-06-22T09:00:02.161Z"
   },
   {
    "duration": 14,
    "start_time": "2022-06-22T09:00:24.854Z"
   },
   {
    "duration": 442,
    "start_time": "2022-06-22T09:12:33.030Z"
   },
   {
    "duration": 160,
    "start_time": "2022-06-22T09:12:33.473Z"
   },
   {
    "duration": 10,
    "start_time": "2022-06-22T09:12:33.636Z"
   },
   {
    "duration": 37,
    "start_time": "2022-06-22T09:12:33.648Z"
   },
   {
    "duration": 51,
    "start_time": "2022-06-22T09:12:33.687Z"
   },
   {
    "duration": 9,
    "start_time": "2022-06-22T09:12:33.740Z"
   },
   {
    "duration": 32,
    "start_time": "2022-06-22T09:12:33.750Z"
   },
   {
    "duration": 46,
    "start_time": "2022-06-22T09:12:33.784Z"
   },
   {
    "duration": 2,
    "start_time": "2022-06-22T09:12:33.832Z"
   },
   {
    "duration": 7,
    "start_time": "2022-06-22T09:12:33.838Z"
   },
   {
    "duration": 41,
    "start_time": "2022-06-22T09:12:33.847Z"
   },
   {
    "duration": 180,
    "start_time": "2022-06-22T09:12:33.890Z"
   },
   {
    "duration": 14,
    "start_time": "2022-06-22T09:12:34.071Z"
   },
   {
    "duration": 21,
    "start_time": "2022-06-22T09:12:34.086Z"
   },
   {
    "duration": 26,
    "start_time": "2022-06-22T09:12:34.122Z"
   },
   {
    "duration": 8,
    "start_time": "2022-06-22T09:12:34.149Z"
   },
   {
    "duration": 376,
    "start_time": "2022-06-22T09:12:34.159Z"
   },
   {
    "duration": 155,
    "start_time": "2022-06-22T09:12:34.537Z"
   },
   {
    "duration": 33,
    "start_time": "2022-06-22T09:12:34.694Z"
   },
   {
    "duration": 168,
    "start_time": "2022-06-22T09:12:34.728Z"
   },
   {
    "duration": 334,
    "start_time": "2022-06-22T09:12:34.897Z"
   },
   {
    "duration": 393,
    "start_time": "2022-06-22T09:12:35.233Z"
   },
   {
    "duration": 165,
    "start_time": "2022-06-22T09:12:35.628Z"
   },
   {
    "duration": 795,
    "start_time": "2022-06-22T09:12:35.795Z"
   },
   {
    "duration": 154,
    "start_time": "2022-06-22T09:12:36.592Z"
   },
   {
    "duration": 777,
    "start_time": "2022-06-22T09:12:36.748Z"
   },
   {
    "duration": 164,
    "start_time": "2022-06-22T09:12:37.527Z"
   },
   {
    "duration": 285,
    "start_time": "2022-06-22T09:12:37.695Z"
   },
   {
    "duration": 325,
    "start_time": "2022-06-22T09:12:37.982Z"
   },
   {
    "duration": 4,
    "start_time": "2022-06-22T09:12:38.309Z"
   },
   {
    "duration": 19,
    "start_time": "2022-06-22T09:13:35.804Z"
   },
   {
    "duration": 101,
    "start_time": "2022-06-22T09:13:44.261Z"
   },
   {
    "duration": 396,
    "start_time": "2022-06-22T09:13:50.780Z"
   },
   {
    "duration": 153,
    "start_time": "2022-06-22T09:13:51.178Z"
   },
   {
    "duration": 15,
    "start_time": "2022-06-22T09:13:51.333Z"
   },
   {
    "duration": 63,
    "start_time": "2022-06-22T09:13:51.351Z"
   },
   {
    "duration": 27,
    "start_time": "2022-06-22T09:13:51.416Z"
   },
   {
    "duration": 9,
    "start_time": "2022-06-22T09:13:51.446Z"
   },
   {
    "duration": 52,
    "start_time": "2022-06-22T09:13:51.457Z"
   },
   {
    "duration": 27,
    "start_time": "2022-06-22T09:13:51.524Z"
   },
   {
    "duration": 5,
    "start_time": "2022-06-22T09:13:51.552Z"
   },
   {
    "duration": 13,
    "start_time": "2022-06-22T09:13:51.561Z"
   },
   {
    "duration": 57,
    "start_time": "2022-06-22T09:13:51.576Z"
   },
   {
    "duration": 152,
    "start_time": "2022-06-22T09:13:51.635Z"
   },
   {
    "duration": 14,
    "start_time": "2022-06-22T09:13:51.788Z"
   },
   {
    "duration": 32,
    "start_time": "2022-06-22T09:13:51.803Z"
   },
   {
    "duration": 29,
    "start_time": "2022-06-22T09:13:51.836Z"
   },
   {
    "duration": 11,
    "start_time": "2022-06-22T09:13:51.867Z"
   },
   {
    "duration": 396,
    "start_time": "2022-06-22T09:13:51.880Z"
   },
   {
    "duration": 185,
    "start_time": "2022-06-22T09:13:52.278Z"
   },
   {
    "duration": 22,
    "start_time": "2022-06-22T09:13:52.465Z"
   },
   {
    "duration": 199,
    "start_time": "2022-06-22T09:13:52.489Z"
   },
   {
    "duration": 355,
    "start_time": "2022-06-22T09:13:52.690Z"
   },
   {
    "duration": 386,
    "start_time": "2022-06-22T09:13:53.047Z"
   },
   {
    "duration": 162,
    "start_time": "2022-06-22T09:13:53.434Z"
   },
   {
    "duration": 758,
    "start_time": "2022-06-22T09:13:53.598Z"
   },
   {
    "duration": 153,
    "start_time": "2022-06-22T09:13:54.358Z"
   },
   {
    "duration": 722,
    "start_time": "2022-06-22T09:13:54.513Z"
   },
   {
    "duration": 141,
    "start_time": "2022-06-22T09:13:55.237Z"
   },
   {
    "duration": 263,
    "start_time": "2022-06-22T09:13:55.381Z"
   },
   {
    "duration": 479,
    "start_time": "2022-06-22T09:13:55.645Z"
   },
   {
    "duration": 4,
    "start_time": "2022-06-22T09:13:56.126Z"
   },
   {
    "duration": 105,
    "start_time": "2022-06-22T09:15:43.895Z"
   },
   {
    "duration": 375,
    "start_time": "2022-06-22T09:15:51.267Z"
   },
   {
    "duration": 151,
    "start_time": "2022-06-22T09:15:51.644Z"
   },
   {
    "duration": 11,
    "start_time": "2022-06-22T09:15:51.797Z"
   },
   {
    "duration": 50,
    "start_time": "2022-06-22T09:15:51.811Z"
   },
   {
    "duration": 28,
    "start_time": "2022-06-22T09:15:51.864Z"
   },
   {
    "duration": 31,
    "start_time": "2022-06-22T09:15:51.893Z"
   },
   {
    "duration": 42,
    "start_time": "2022-06-22T09:15:51.925Z"
   },
   {
    "duration": 24,
    "start_time": "2022-06-22T09:15:51.969Z"
   },
   {
    "duration": 28,
    "start_time": "2022-06-22T09:15:51.995Z"
   },
   {
    "duration": 15,
    "start_time": "2022-06-22T09:15:52.026Z"
   },
   {
    "duration": 41,
    "start_time": "2022-06-22T09:15:52.043Z"
   },
   {
    "duration": 171,
    "start_time": "2022-06-22T09:15:52.085Z"
   },
   {
    "duration": 18,
    "start_time": "2022-06-22T09:15:52.258Z"
   },
   {
    "duration": 21,
    "start_time": "2022-06-22T09:15:52.278Z"
   },
   {
    "duration": 47,
    "start_time": "2022-06-22T09:15:52.300Z"
   },
   {
    "duration": 7,
    "start_time": "2022-06-22T09:15:52.349Z"
   },
   {
    "duration": 465,
    "start_time": "2022-06-22T09:15:52.358Z"
   },
   {
    "duration": 180,
    "start_time": "2022-06-22T09:15:52.827Z"
   },
   {
    "duration": 30,
    "start_time": "2022-06-22T09:15:53.008Z"
   },
   {
    "duration": 180,
    "start_time": "2022-06-22T09:15:53.040Z"
   },
   {
    "duration": 419,
    "start_time": "2022-06-22T09:15:53.221Z"
   },
   {
    "duration": 423,
    "start_time": "2022-06-22T09:15:53.642Z"
   },
   {
    "duration": 282,
    "start_time": "2022-06-22T09:15:54.067Z"
   },
   {
    "duration": 1811,
    "start_time": "2022-06-22T09:15:54.351Z"
   },
   {
    "duration": 194,
    "start_time": "2022-06-22T09:15:56.163Z"
   },
   {
    "duration": 772,
    "start_time": "2022-06-22T09:15:56.359Z"
   },
   {
    "duration": 156,
    "start_time": "2022-06-22T09:15:57.133Z"
   },
   {
    "duration": 311,
    "start_time": "2022-06-22T09:15:57.292Z"
   },
   {
    "duration": 304,
    "start_time": "2022-06-22T09:15:57.605Z"
   },
   {
    "duration": 13,
    "start_time": "2022-06-22T09:15:57.912Z"
   },
   {
    "duration": 100,
    "start_time": "2022-06-22T11:03:38.751Z"
   },
   {
    "duration": 428,
    "start_time": "2022-06-22T11:03:50.715Z"
   },
   {
    "duration": 150,
    "start_time": "2022-06-22T11:03:51.146Z"
   },
   {
    "duration": 10,
    "start_time": "2022-06-22T11:03:51.298Z"
   },
   {
    "duration": 43,
    "start_time": "2022-06-22T11:03:51.310Z"
   },
   {
    "duration": 23,
    "start_time": "2022-06-22T11:03:51.354Z"
   },
   {
    "duration": 9,
    "start_time": "2022-06-22T11:03:51.378Z"
   },
   {
    "duration": 58,
    "start_time": "2022-06-22T11:03:51.389Z"
   },
   {
    "duration": 12,
    "start_time": "2022-06-22T11:03:51.449Z"
   },
   {
    "duration": 4,
    "start_time": "2022-06-22T11:03:51.462Z"
   },
   {
    "duration": 10,
    "start_time": "2022-06-22T11:03:51.468Z"
   },
   {
    "duration": 59,
    "start_time": "2022-06-22T11:03:51.479Z"
   },
   {
    "duration": 160,
    "start_time": "2022-06-22T11:03:51.539Z"
   },
   {
    "duration": 26,
    "start_time": "2022-06-22T11:03:51.701Z"
   },
   {
    "duration": 25,
    "start_time": "2022-06-22T11:03:51.729Z"
   },
   {
    "duration": 28,
    "start_time": "2022-06-22T11:03:51.755Z"
   },
   {
    "duration": 8,
    "start_time": "2022-06-22T11:03:51.784Z"
   },
   {
    "duration": 379,
    "start_time": "2022-06-22T11:03:51.793Z"
   },
   {
    "duration": 168,
    "start_time": "2022-06-22T11:03:52.174Z"
   },
   {
    "duration": 20,
    "start_time": "2022-06-22T11:03:52.344Z"
   },
   {
    "duration": 182,
    "start_time": "2022-06-22T11:03:52.365Z"
   },
   {
    "duration": 401,
    "start_time": "2022-06-22T11:03:52.553Z"
   },
   {
    "duration": 388,
    "start_time": "2022-06-22T11:03:52.956Z"
   },
   {
    "duration": 203,
    "start_time": "2022-06-22T11:03:53.346Z"
   },
   {
    "duration": 826,
    "start_time": "2022-06-22T11:03:53.552Z"
   },
   {
    "duration": 188,
    "start_time": "2022-06-22T11:03:54.380Z"
   },
   {
    "duration": 767,
    "start_time": "2022-06-22T11:03:54.569Z"
   },
   {
    "duration": 150,
    "start_time": "2022-06-22T11:03:55.338Z"
   },
   {
    "duration": 275,
    "start_time": "2022-06-22T11:03:55.492Z"
   },
   {
    "duration": 324,
    "start_time": "2022-06-22T11:03:55.769Z"
   },
   {
    "duration": 5,
    "start_time": "2022-06-22T11:03:56.095Z"
   },
   {
    "duration": 7,
    "start_time": "2022-06-22T11:12:51.502Z"
   },
   {
    "duration": 146,
    "start_time": "2022-06-22T13:36:40.414Z"
   },
   {
    "duration": 839,
    "start_time": "2022-06-22T13:36:46.523Z"
   },
   {
    "duration": 734,
    "start_time": "2022-06-22T13:37:11.158Z"
   },
   {
    "duration": 159,
    "start_time": "2022-06-22T13:37:31.699Z"
   },
   {
    "duration": 304,
    "start_time": "2022-06-22T13:42:33.207Z"
   },
   {
    "duration": 4,
    "start_time": "2022-06-22T13:43:11.408Z"
   },
   {
    "duration": 1027,
    "start_time": "2022-06-22T14:29:16.616Z"
   },
   {
    "duration": 354,
    "start_time": "2022-06-22T14:29:44.619Z"
   },
   {
    "duration": 1180,
    "start_time": "2022-06-22T14:29:52.175Z"
   },
   {
    "duration": 1042,
    "start_time": "2022-06-22T14:30:09.475Z"
   },
   {
    "duration": 1006,
    "start_time": "2022-06-22T14:30:44.934Z"
   },
   {
    "duration": 1279,
    "start_time": "2022-06-22T14:32:21.664Z"
   },
   {
    "duration": 1137,
    "start_time": "2022-06-22T14:33:19.210Z"
   },
   {
    "duration": 571,
    "start_time": "2022-06-22T14:33:34.561Z"
   },
   {
    "duration": 610,
    "start_time": "2022-06-22T14:42:37.077Z"
   },
   {
    "duration": 164,
    "start_time": "2022-06-22T14:42:37.689Z"
   },
   {
    "duration": 9,
    "start_time": "2022-06-22T14:42:37.855Z"
   },
   {
    "duration": 37,
    "start_time": "2022-06-22T14:42:37.866Z"
   },
   {
    "duration": 35,
    "start_time": "2022-06-22T14:42:37.905Z"
   },
   {
    "duration": 10,
    "start_time": "2022-06-22T14:42:37.941Z"
   },
   {
    "duration": 36,
    "start_time": "2022-06-22T14:42:37.953Z"
   },
   {
    "duration": 37,
    "start_time": "2022-06-22T14:42:37.990Z"
   },
   {
    "duration": 2,
    "start_time": "2022-06-22T14:42:38.029Z"
   },
   {
    "duration": 10,
    "start_time": "2022-06-22T14:42:38.032Z"
   },
   {
    "duration": 40,
    "start_time": "2022-06-22T14:42:38.044Z"
   },
   {
    "duration": 178,
    "start_time": "2022-06-22T14:42:38.085Z"
   },
   {
    "duration": 13,
    "start_time": "2022-06-22T14:42:38.264Z"
   },
   {
    "duration": 19,
    "start_time": "2022-06-22T14:42:38.279Z"
   },
   {
    "duration": 43,
    "start_time": "2022-06-22T14:42:38.300Z"
   },
   {
    "duration": 13,
    "start_time": "2022-06-22T14:42:38.345Z"
   },
   {
    "duration": 420,
    "start_time": "2022-06-22T14:42:38.360Z"
   },
   {
    "duration": 195,
    "start_time": "2022-06-22T14:42:38.782Z"
   },
   {
    "duration": 22,
    "start_time": "2022-06-22T14:42:38.979Z"
   },
   {
    "duration": 191,
    "start_time": "2022-06-22T14:42:39.003Z"
   },
   {
    "duration": 346,
    "start_time": "2022-06-22T14:42:39.196Z"
   },
   {
    "duration": 372,
    "start_time": "2022-06-22T14:42:39.543Z"
   },
   {
    "duration": 206,
    "start_time": "2022-06-22T14:42:39.917Z"
   },
   {
    "duration": 757,
    "start_time": "2022-06-22T14:42:40.124Z"
   },
   {
    "duration": 152,
    "start_time": "2022-06-22T14:42:40.882Z"
   },
   {
    "duration": 736,
    "start_time": "2022-06-22T14:42:41.036Z"
   },
   {
    "duration": 154,
    "start_time": "2022-06-22T14:42:41.774Z"
   },
   {
    "duration": 1212,
    "start_time": "2022-06-22T14:42:41.930Z"
   },
   {
    "duration": 835,
    "start_time": "2022-06-22T14:42:43.144Z"
   },
   {
    "duration": 17,
    "start_time": "2022-06-22T14:42:43.990Z"
   },
   {
    "duration": 61,
    "start_time": "2022-06-23T13:40:07.367Z"
   },
   {
    "duration": 399,
    "start_time": "2022-06-23T13:40:15.159Z"
   },
   {
    "duration": 330,
    "start_time": "2022-06-23T13:40:15.560Z"
   },
   {
    "duration": 10,
    "start_time": "2022-06-23T13:40:15.892Z"
   },
   {
    "duration": 51,
    "start_time": "2022-06-23T13:40:15.904Z"
   },
   {
    "duration": 38,
    "start_time": "2022-06-23T13:40:15.957Z"
   },
   {
    "duration": 9,
    "start_time": "2022-06-23T13:40:15.997Z"
   },
   {
    "duration": 43,
    "start_time": "2022-06-23T13:40:16.007Z"
   },
   {
    "duration": 12,
    "start_time": "2022-06-23T13:40:16.052Z"
   },
   {
    "duration": 9,
    "start_time": "2022-06-23T13:40:16.065Z"
   },
   {
    "duration": 10,
    "start_time": "2022-06-23T13:40:16.076Z"
   },
   {
    "duration": 60,
    "start_time": "2022-06-23T13:40:16.087Z"
   },
   {
    "duration": 165,
    "start_time": "2022-06-23T13:40:16.149Z"
   },
   {
    "duration": 19,
    "start_time": "2022-06-23T13:40:16.316Z"
   },
   {
    "duration": 25,
    "start_time": "2022-06-23T13:40:16.337Z"
   },
   {
    "duration": 23,
    "start_time": "2022-06-23T13:40:16.363Z"
   },
   {
    "duration": 5,
    "start_time": "2022-06-23T13:40:16.387Z"
   },
   {
    "duration": 611,
    "start_time": "2022-06-23T13:40:16.394Z"
   },
   {
    "duration": 163,
    "start_time": "2022-06-23T13:40:17.007Z"
   },
   {
    "duration": 19,
    "start_time": "2022-06-23T13:40:17.172Z"
   },
   {
    "duration": 187,
    "start_time": "2022-06-23T13:40:17.193Z"
   },
   {
    "duration": 414,
    "start_time": "2022-06-23T13:40:17.382Z"
   },
   {
    "duration": 372,
    "start_time": "2022-06-23T13:40:17.798Z"
   },
   {
    "duration": 179,
    "start_time": "2022-06-23T13:40:18.172Z"
   },
   {
    "duration": 830,
    "start_time": "2022-06-23T13:40:18.352Z"
   },
   {
    "duration": 253,
    "start_time": "2022-06-23T13:40:19.184Z"
   },
   {
    "duration": 1791,
    "start_time": "2022-06-23T13:40:19.439Z"
   },
   {
    "duration": 215,
    "start_time": "2022-06-23T13:40:21.232Z"
   },
   {
    "duration": 1123,
    "start_time": "2022-06-23T13:40:21.451Z"
   },
   {
    "duration": 717,
    "start_time": "2022-06-23T13:40:22.576Z"
   },
   {
    "duration": 5,
    "start_time": "2022-06-23T13:40:23.296Z"
   },
   {
    "duration": 159,
    "start_time": "2022-06-23T13:40:36.854Z"
   },
   {
    "duration": 116,
    "start_time": "2022-06-23T13:47:38.269Z"
   },
   {
    "duration": 35,
    "start_time": "2022-06-23T13:49:01.518Z"
   },
   {
    "duration": 48,
    "start_time": "2022-06-23T13:49:23.923Z"
   },
   {
    "duration": 58,
    "start_time": "2022-06-23T13:50:18.595Z"
   },
   {
    "duration": 59,
    "start_time": "2022-06-23T13:50:44.411Z"
   },
   {
    "duration": 50,
    "start_time": "2022-06-23T13:51:13.258Z"
   },
   {
    "duration": 36,
    "start_time": "2022-06-23T13:51:27.473Z"
   },
   {
    "duration": 109,
    "start_time": "2022-06-23T13:51:30.140Z"
   },
   {
    "duration": 41,
    "start_time": "2022-06-23T13:53:20.149Z"
   },
   {
    "duration": 10,
    "start_time": "2022-06-23T13:54:54.176Z"
   },
   {
    "duration": 33,
    "start_time": "2022-06-23T13:54:57.193Z"
   },
   {
    "duration": 106,
    "start_time": "2022-06-23T13:55:44.126Z"
   },
   {
    "duration": 32,
    "start_time": "2022-06-23T13:55:53.480Z"
   },
   {
    "duration": 379,
    "start_time": "2022-06-23T14:00:39.780Z"
   },
   {
    "duration": 162,
    "start_time": "2022-06-23T14:00:40.162Z"
   },
   {
    "duration": 10,
    "start_time": "2022-06-23T14:00:40.325Z"
   },
   {
    "duration": 33,
    "start_time": "2022-06-23T14:00:40.338Z"
   },
   {
    "duration": 53,
    "start_time": "2022-06-23T14:00:40.372Z"
   },
   {
    "duration": 10,
    "start_time": "2022-06-23T14:00:40.427Z"
   },
   {
    "duration": 35,
    "start_time": "2022-06-23T14:00:40.439Z"
   },
   {
    "duration": 14,
    "start_time": "2022-06-23T14:00:40.475Z"
   },
   {
    "duration": 8,
    "start_time": "2022-06-23T14:00:40.491Z"
   },
   {
    "duration": 7,
    "start_time": "2022-06-23T14:00:40.524Z"
   },
   {
    "duration": 47,
    "start_time": "2022-06-23T14:00:40.532Z"
   },
   {
    "duration": 171,
    "start_time": "2022-06-23T14:00:40.580Z"
   },
   {
    "duration": 21,
    "start_time": "2022-06-23T14:00:40.753Z"
   },
   {
    "duration": 16,
    "start_time": "2022-06-23T14:00:40.775Z"
   },
   {
    "duration": 45,
    "start_time": "2022-06-23T14:00:40.793Z"
   },
   {
    "duration": 10,
    "start_time": "2022-06-23T14:00:40.840Z"
   },
   {
    "duration": 373,
    "start_time": "2022-06-23T14:00:40.852Z"
   },
   {
    "duration": 155,
    "start_time": "2022-06-23T14:00:41.227Z"
   },
   {
    "duration": 42,
    "start_time": "2022-06-23T14:00:41.384Z"
   },
   {
    "duration": 181,
    "start_time": "2022-06-23T14:00:41.428Z"
   },
   {
    "duration": 336,
    "start_time": "2022-06-23T14:00:41.610Z"
   },
   {
    "duration": 395,
    "start_time": "2022-06-23T14:00:41.948Z"
   },
   {
    "duration": 164,
    "start_time": "2022-06-23T14:00:42.345Z"
   },
   {
    "duration": 1181,
    "start_time": "2022-06-23T14:00:42.510Z"
   },
   {
    "duration": 156,
    "start_time": "2022-06-23T14:00:43.692Z"
   },
   {
    "duration": 1962,
    "start_time": "2022-06-23T14:00:43.850Z"
   },
   {
    "duration": 171,
    "start_time": "2022-06-23T14:00:45.814Z"
   },
   {
    "duration": 1333,
    "start_time": "2022-06-23T14:00:45.989Z"
   },
   {
    "duration": 1326,
    "start_time": "2022-06-23T14:00:47.324Z"
   },
   {
    "duration": 3,
    "start_time": "2022-06-23T14:00:48.651Z"
   },
   {
    "duration": 24,
    "start_time": "2022-06-23T14:07:43.180Z"
   },
   {
    "duration": 93,
    "start_time": "2022-06-23T14:11:25.291Z"
   },
   {
    "duration": 425,
    "start_time": "2022-06-23T14:11:35.194Z"
   },
   {
    "duration": 154,
    "start_time": "2022-06-23T14:11:35.625Z"
   },
   {
    "duration": 9,
    "start_time": "2022-06-23T14:11:35.780Z"
   },
   {
    "duration": 35,
    "start_time": "2022-06-23T14:11:35.791Z"
   },
   {
    "duration": 29,
    "start_time": "2022-06-23T14:11:35.828Z"
   },
   {
    "duration": 11,
    "start_time": "2022-06-23T14:11:35.859Z"
   },
   {
    "duration": 63,
    "start_time": "2022-06-23T14:11:35.872Z"
   },
   {
    "duration": 27,
    "start_time": "2022-06-23T14:11:35.937Z"
   },
   {
    "duration": 16,
    "start_time": "2022-06-23T14:11:35.966Z"
   },
   {
    "duration": 9,
    "start_time": "2022-06-23T14:11:35.985Z"
   },
   {
    "duration": 40,
    "start_time": "2022-06-23T14:11:35.995Z"
   },
   {
    "duration": 152,
    "start_time": "2022-06-23T14:11:36.036Z"
   },
   {
    "duration": 21,
    "start_time": "2022-06-23T14:11:36.189Z"
   },
   {
    "duration": 17,
    "start_time": "2022-06-23T14:11:36.223Z"
   },
   {
    "duration": 24,
    "start_time": "2022-06-23T14:11:36.241Z"
   },
   {
    "duration": 7,
    "start_time": "2022-06-23T14:11:36.266Z"
   },
   {
    "duration": 394,
    "start_time": "2022-06-23T14:11:36.274Z"
   },
   {
    "duration": 153,
    "start_time": "2022-06-23T14:11:36.670Z"
   },
   {
    "duration": 24,
    "start_time": "2022-06-23T14:11:36.825Z"
   },
   {
    "duration": 175,
    "start_time": "2022-06-23T14:11:36.850Z"
   },
   {
    "duration": 341,
    "start_time": "2022-06-23T14:11:37.027Z"
   },
   {
    "duration": 756,
    "start_time": "2022-06-23T14:11:37.370Z"
   },
   {
    "duration": 316,
    "start_time": "2022-06-23T14:11:38.128Z"
   },
   {
    "duration": 1646,
    "start_time": "2022-06-23T14:11:38.445Z"
   },
   {
    "duration": 162,
    "start_time": "2022-06-23T14:11:40.093Z"
   },
   {
    "duration": 1018,
    "start_time": "2022-06-23T14:11:40.257Z"
   },
   {
    "duration": 154,
    "start_time": "2022-06-23T14:11:41.276Z"
   },
   {
    "duration": 1435,
    "start_time": "2022-06-23T14:11:41.433Z"
   },
   {
    "duration": 1312,
    "start_time": "2022-06-23T14:11:42.870Z"
   },
   {
    "duration": 4,
    "start_time": "2022-06-23T14:11:44.184Z"
   },
   {
    "duration": 20,
    "start_time": "2022-06-23T14:11:57.378Z"
   },
   {
    "duration": 14,
    "start_time": "2022-06-23T14:14:44.272Z"
   },
   {
    "duration": 19,
    "start_time": "2022-06-23T14:14:50.371Z"
   },
   {
    "duration": 12,
    "start_time": "2022-06-23T14:15:00.866Z"
   },
   {
    "duration": 17,
    "start_time": "2022-06-23T14:19:14.439Z"
   },
   {
    "duration": 7,
    "start_time": "2022-06-23T14:20:15.169Z"
   },
   {
    "duration": 16,
    "start_time": "2022-06-23T14:21:47.313Z"
   },
   {
    "duration": 370,
    "start_time": "2022-06-23T14:29:29.971Z"
   },
   {
    "duration": 161,
    "start_time": "2022-06-23T14:29:30.344Z"
   },
   {
    "duration": 10,
    "start_time": "2022-06-23T14:29:30.509Z"
   },
   {
    "duration": 45,
    "start_time": "2022-06-23T14:29:30.521Z"
   },
   {
    "duration": 45,
    "start_time": "2022-06-23T14:29:30.568Z"
   },
   {
    "duration": 36,
    "start_time": "2022-06-23T14:29:30.615Z"
   },
   {
    "duration": 55,
    "start_time": "2022-06-23T14:29:30.653Z"
   },
   {
    "duration": 13,
    "start_time": "2022-06-23T14:29:30.710Z"
   },
   {
    "duration": 60,
    "start_time": "2022-06-23T14:29:30.726Z"
   },
   {
    "duration": 7,
    "start_time": "2022-06-23T14:29:30.788Z"
   },
   {
    "duration": 68,
    "start_time": "2022-06-23T14:29:30.798Z"
   },
   {
    "duration": 155,
    "start_time": "2022-06-23T14:29:30.868Z"
   },
   {
    "duration": 14,
    "start_time": "2022-06-23T14:29:31.025Z"
   },
   {
    "duration": 38,
    "start_time": "2022-06-23T14:29:31.041Z"
   },
   {
    "duration": 24,
    "start_time": "2022-06-23T14:29:31.080Z"
   },
   {
    "duration": 42,
    "start_time": "2022-06-23T14:29:31.106Z"
   },
   {
    "duration": 25,
    "start_time": "2022-06-23T14:29:31.150Z"
   },
   {
    "duration": 375,
    "start_time": "2022-06-23T14:29:31.176Z"
   },
   {
    "duration": 172,
    "start_time": "2022-06-23T14:29:31.553Z"
   },
   {
    "duration": 23,
    "start_time": "2022-06-23T14:29:31.727Z"
   },
   {
    "duration": 208,
    "start_time": "2022-06-23T14:29:31.751Z"
   },
   {
    "duration": 353,
    "start_time": "2022-06-23T14:29:31.962Z"
   },
   {
    "duration": 420,
    "start_time": "2022-06-23T14:29:32.316Z"
   },
   {
    "duration": 208,
    "start_time": "2022-06-23T14:29:32.738Z"
   },
   {
    "duration": 1099,
    "start_time": "2022-06-23T14:29:32.947Z"
   },
   {
    "duration": 157,
    "start_time": "2022-06-23T14:29:34.048Z"
   },
   {
    "duration": 1005,
    "start_time": "2022-06-23T14:29:34.208Z"
   },
   {
    "duration": 153,
    "start_time": "2022-06-23T14:29:35.215Z"
   },
   {
    "duration": 1360,
    "start_time": "2022-06-23T14:29:35.369Z"
   },
   {
    "duration": 1401,
    "start_time": "2022-06-23T14:29:36.731Z"
   },
   {
    "duration": 4,
    "start_time": "2022-06-23T14:29:38.134Z"
   },
   {
    "duration": 457,
    "start_time": "2022-06-24T10:26:12.574Z"
   },
   {
    "duration": 756,
    "start_time": "2022-06-24T10:26:13.033Z"
   },
   {
    "duration": 21,
    "start_time": "2022-06-24T10:26:13.791Z"
   },
   {
    "duration": 101,
    "start_time": "2022-06-24T10:26:13.814Z"
   },
   {
    "duration": 26,
    "start_time": "2022-06-24T10:26:13.916Z"
   },
   {
    "duration": 63,
    "start_time": "2022-06-24T10:26:13.944Z"
   },
   {
    "duration": 67,
    "start_time": "2022-06-24T10:26:14.009Z"
   },
   {
    "duration": 50,
    "start_time": "2022-06-24T10:26:14.078Z"
   },
   {
    "duration": 85,
    "start_time": "2022-06-24T10:26:14.129Z"
   },
   {
    "duration": 8,
    "start_time": "2022-06-24T10:26:14.217Z"
   },
   {
    "duration": 69,
    "start_time": "2022-06-24T10:26:14.226Z"
   },
   {
    "duration": 210,
    "start_time": "2022-06-24T10:26:14.296Z"
   },
   {
    "duration": 16,
    "start_time": "2022-06-24T10:26:14.519Z"
   },
   {
    "duration": 30,
    "start_time": "2022-06-24T10:26:14.537Z"
   },
   {
    "duration": 79,
    "start_time": "2022-06-24T10:26:14.569Z"
   },
   {
    "duration": 81,
    "start_time": "2022-06-24T10:26:14.649Z"
   },
   {
    "duration": 88,
    "start_time": "2022-06-24T10:26:14.732Z"
   },
   {
    "duration": 784,
    "start_time": "2022-06-24T10:26:14.822Z"
   },
   {
    "duration": 189,
    "start_time": "2022-06-24T10:26:15.608Z"
   },
   {
    "duration": 25,
    "start_time": "2022-06-24T10:26:15.803Z"
   },
   {
    "duration": 207,
    "start_time": "2022-06-24T10:26:15.830Z"
   },
   {
    "duration": 463,
    "start_time": "2022-06-24T10:26:16.039Z"
   },
   {
    "duration": 405,
    "start_time": "2022-06-24T10:26:16.504Z"
   },
   {
    "duration": 197,
    "start_time": "2022-06-24T10:26:16.912Z"
   },
   {
    "duration": 1289,
    "start_time": "2022-06-24T10:26:17.111Z"
   },
   {
    "duration": 187,
    "start_time": "2022-06-24T10:26:18.401Z"
   },
   {
    "duration": 1264,
    "start_time": "2022-06-24T10:26:18.592Z"
   },
   {
    "duration": 187,
    "start_time": "2022-06-24T10:26:19.863Z"
   },
   {
    "duration": 1722,
    "start_time": "2022-06-24T10:26:20.052Z"
   },
   {
    "duration": 1618,
    "start_time": "2022-06-24T10:26:21.782Z"
   },
   {
    "duration": 4,
    "start_time": "2022-06-24T10:26:23.410Z"
   },
   {
    "duration": 429,
    "start_time": "2022-06-24T10:26:49.681Z"
   },
   {
    "duration": 254,
    "start_time": "2022-06-24T10:26:50.677Z"
   },
   {
    "duration": 16,
    "start_time": "2022-06-24T10:27:03.095Z"
   },
   {
    "duration": 7,
    "start_time": "2022-06-24T10:27:36.217Z"
   },
   {
    "duration": 44,
    "start_time": "2022-07-13T10:41:34.194Z"
   },
   {
    "duration": 6,
    "start_time": "2022-07-13T16:09:56.031Z"
   },
   {
    "duration": 363,
    "start_time": "2022-07-13T16:10:03.761Z"
   },
   {
    "duration": 250,
    "start_time": "2022-07-13T16:10:04.126Z"
   },
   {
    "duration": 10,
    "start_time": "2022-07-13T16:10:04.377Z"
   },
   {
    "duration": 33,
    "start_time": "2022-07-13T16:10:04.389Z"
   },
   {
    "duration": 26,
    "start_time": "2022-07-13T16:10:04.424Z"
   },
   {
    "duration": 9,
    "start_time": "2022-07-13T16:10:04.452Z"
   },
   {
    "duration": 51,
    "start_time": "2022-07-13T16:10:04.463Z"
   },
   {
    "duration": 12,
    "start_time": "2022-07-13T16:10:04.516Z"
   },
   {
    "duration": 23,
    "start_time": "2022-07-13T16:10:04.529Z"
   },
   {
    "duration": 5,
    "start_time": "2022-07-13T16:10:04.555Z"
   },
   {
    "duration": 60,
    "start_time": "2022-07-13T16:10:04.561Z"
   },
   {
    "duration": 138,
    "start_time": "2022-07-13T16:10:04.623Z"
   },
   {
    "duration": 12,
    "start_time": "2022-07-13T16:10:04.763Z"
   },
   {
    "duration": 19,
    "start_time": "2022-07-13T16:10:04.776Z"
   },
   {
    "duration": 22,
    "start_time": "2022-07-13T16:10:04.797Z"
   },
   {
    "duration": 23,
    "start_time": "2022-07-13T16:10:04.821Z"
   },
   {
    "duration": 10,
    "start_time": "2022-07-13T16:10:04.845Z"
   },
   {
    "duration": 541,
    "start_time": "2022-07-13T16:10:04.857Z"
   },
   {
    "duration": 155,
    "start_time": "2022-07-13T16:10:05.401Z"
   },
   {
    "duration": 22,
    "start_time": "2022-07-13T16:10:05.559Z"
   },
   {
    "duration": 194,
    "start_time": "2022-07-13T16:10:05.583Z"
   },
   {
    "duration": 546,
    "start_time": "2022-07-13T16:10:05.779Z"
   },
   {
    "duration": 614,
    "start_time": "2022-07-13T16:10:06.327Z"
   },
   {
    "duration": 372,
    "start_time": "2022-07-13T16:10:06.942Z"
   },
   {
    "duration": 1428,
    "start_time": "2022-07-13T16:10:07.316Z"
   },
   {
    "duration": 173,
    "start_time": "2022-07-13T16:10:08.745Z"
   },
   {
    "duration": 1021,
    "start_time": "2022-07-13T16:10:08.920Z"
   },
   {
    "duration": 176,
    "start_time": "2022-07-13T16:10:09.945Z"
   },
   {
    "duration": 1328,
    "start_time": "2022-07-13T16:10:10.123Z"
   },
   {
    "duration": 1303,
    "start_time": "2022-07-13T16:10:11.453Z"
   },
   {
    "duration": 4,
    "start_time": "2022-07-13T16:10:12.758Z"
   }
  ],
  "colab": {
   "name": "DA+. Сборный проект 1. Шаблон (1).ipynb",
   "provenance": []
  },
  "kernelspec": {
   "display_name": "Python 3 (ipykernel)",
   "language": "python",
   "name": "python3"
  },
  "language_info": {
   "codemirror_mode": {
    "name": "ipython",
    "version": 3
   },
   "file_extension": ".py",
   "mimetype": "text/x-python",
   "name": "python",
   "nbconvert_exporter": "python",
   "pygments_lexer": "ipython3",
   "version": "3.9.18"
  },
  "toc": {
   "base_numbering": 1,
   "nav_menu": {},
   "number_sections": true,
   "sideBar": true,
   "skip_h1_title": true,
   "title_cell": "Table of Contents",
   "title_sidebar": "Contents",
   "toc_cell": false,
   "toc_position": {
    "height": "calc(100% - 180px)",
    "left": "10px",
    "top": "150px",
    "width": "320.391px"
   },
   "toc_section_display": true,
   "toc_window_display": true
  }
 },
 "nbformat": 4,
 "nbformat_minor": 1
}
