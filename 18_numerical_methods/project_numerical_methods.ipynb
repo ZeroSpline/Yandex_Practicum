{
 "cells": [
  {
   "cell_type": "markdown",
   "metadata": {},
   "source": [
    "## Подготовка данных"
   ]
  },
  {
   "cell_type": "code",
   "execution_count": 1,
   "metadata": {},
   "outputs": [],
   "source": [
    "### импорт библиотек\n",
    "import pandas as pd\n",
    "from sklearn.model_selection import train_test_split\n",
    "from sklearn.ensemble import RandomForestRegressor\n",
    "from lightgbm import LGBMRegressor\n",
    "from catboost import CatBoostRegressor\n",
    "from sklearn.metrics import mean_squared_error\n",
    "from sklearn.preprocessing import OneHotEncoder\n",
    "from sklearn.preprocessing import StandardScaler\n",
    "import time\n",
    "from sklearn.compose import make_column_transformer"
   ]
  },
  {
   "cell_type": "code",
   "execution_count": 2,
   "metadata": {
    "scrolled": false
   },
   "outputs": [
    {
     "name": "stdout",
     "output_type": "stream",
     "text": [
      "<class 'pandas.core.frame.DataFrame'>\n",
      "RangeIndex: 354369 entries, 0 to 354368\n",
      "Data columns (total 16 columns):\n",
      " #   Column             Non-Null Count   Dtype \n",
      "---  ------             --------------   ----- \n",
      " 0   DateCrawled        354369 non-null  object\n",
      " 1   Price              354369 non-null  int64 \n",
      " 2   VehicleType        316879 non-null  object\n",
      " 3   RegistrationYear   354369 non-null  int64 \n",
      " 4   Gearbox            334536 non-null  object\n",
      " 5   Power              354369 non-null  int64 \n",
      " 6   Model              334664 non-null  object\n",
      " 7   Kilometer          354369 non-null  int64 \n",
      " 8   RegistrationMonth  354369 non-null  int64 \n",
      " 9   FuelType           321474 non-null  object\n",
      " 10  Brand              354369 non-null  object\n",
      " 11  Repaired           283215 non-null  object\n",
      " 12  DateCreated        354369 non-null  object\n",
      " 13  NumberOfPictures   354369 non-null  int64 \n",
      " 14  PostalCode         354369 non-null  int64 \n",
      " 15  LastSeen           354369 non-null  object\n",
      "dtypes: int64(7), object(9)\n",
      "memory usage: 43.3+ MB\n"
     ]
    },
    {
     "data": {
      "text/plain": [
       "None"
      ]
     },
     "metadata": {},
     "output_type": "display_data"
    },
    {
     "data": {
      "text/plain": [
       "'Количество пропусков:'"
      ]
     },
     "metadata": {},
     "output_type": "display_data"
    },
    {
     "data": {
      "text/plain": [
       "DateCrawled              0\n",
       "Price                    0\n",
       "VehicleType          37490\n",
       "RegistrationYear         0\n",
       "Gearbox              19833\n",
       "Power                    0\n",
       "Model                19705\n",
       "Kilometer                0\n",
       "RegistrationMonth        0\n",
       "FuelType             32895\n",
       "Brand                    0\n",
       "Repaired             71154\n",
       "DateCreated              0\n",
       "NumberOfPictures         0\n",
       "PostalCode               0\n",
       "LastSeen                 0\n",
       "dtype: int64"
      ]
     },
     "metadata": {},
     "output_type": "display_data"
    }
   ],
   "source": [
    "### получение общих данных о таблице, а также проверка на наличие пропусков\n",
    "df = pd.read_csv('autos.csv')\n",
    "display(df.info())\n",
    "display('Количество пропусков:', df.isna().sum())\n",
    "before = df.shape[0]"
   ]
  },
  {
   "cell_type": "code",
   "execution_count": 3,
   "metadata": {
    "scrolled": true
   },
   "outputs": [
    {
     "data": {
      "text/html": [
       "<div>\n",
       "<style scoped>\n",
       "    .dataframe tbody tr th:only-of-type {\n",
       "        vertical-align: middle;\n",
       "    }\n",
       "\n",
       "    .dataframe tbody tr th {\n",
       "        vertical-align: top;\n",
       "    }\n",
       "\n",
       "    .dataframe thead th {\n",
       "        text-align: right;\n",
       "    }\n",
       "</style>\n",
       "<table border=\"1\" class=\"dataframe\">\n",
       "  <thead>\n",
       "    <tr style=\"text-align: right;\">\n",
       "      <th></th>\n",
       "      <th>DateCrawled</th>\n",
       "      <th>Price</th>\n",
       "      <th>VehicleType</th>\n",
       "      <th>RegistrationYear</th>\n",
       "      <th>Gearbox</th>\n",
       "      <th>Power</th>\n",
       "      <th>Model</th>\n",
       "      <th>Kilometer</th>\n",
       "      <th>RegistrationMonth</th>\n",
       "      <th>FuelType</th>\n",
       "      <th>Brand</th>\n",
       "      <th>Repaired</th>\n",
       "      <th>DateCreated</th>\n",
       "      <th>NumberOfPictures</th>\n",
       "      <th>PostalCode</th>\n",
       "      <th>LastSeen</th>\n",
       "    </tr>\n",
       "  </thead>\n",
       "  <tbody>\n",
       "    <tr>\n",
       "      <th>0</th>\n",
       "      <td>2016-03-24 11:52:17</td>\n",
       "      <td>480</td>\n",
       "      <td>NaN</td>\n",
       "      <td>1993</td>\n",
       "      <td>manual</td>\n",
       "      <td>0</td>\n",
       "      <td>golf</td>\n",
       "      <td>150000</td>\n",
       "      <td>0</td>\n",
       "      <td>petrol</td>\n",
       "      <td>volkswagen</td>\n",
       "      <td>NaN</td>\n",
       "      <td>2016-03-24 00:00:00</td>\n",
       "      <td>0</td>\n",
       "      <td>70435</td>\n",
       "      <td>2016-04-07 03:16:57</td>\n",
       "    </tr>\n",
       "    <tr>\n",
       "      <th>1</th>\n",
       "      <td>2016-03-24 10:58:45</td>\n",
       "      <td>18300</td>\n",
       "      <td>coupe</td>\n",
       "      <td>2011</td>\n",
       "      <td>manual</td>\n",
       "      <td>190</td>\n",
       "      <td>NaN</td>\n",
       "      <td>125000</td>\n",
       "      <td>5</td>\n",
       "      <td>gasoline</td>\n",
       "      <td>audi</td>\n",
       "      <td>yes</td>\n",
       "      <td>2016-03-24 00:00:00</td>\n",
       "      <td>0</td>\n",
       "      <td>66954</td>\n",
       "      <td>2016-04-07 01:46:50</td>\n",
       "    </tr>\n",
       "    <tr>\n",
       "      <th>2</th>\n",
       "      <td>2016-03-14 12:52:21</td>\n",
       "      <td>9800</td>\n",
       "      <td>suv</td>\n",
       "      <td>2004</td>\n",
       "      <td>auto</td>\n",
       "      <td>163</td>\n",
       "      <td>grand</td>\n",
       "      <td>125000</td>\n",
       "      <td>8</td>\n",
       "      <td>gasoline</td>\n",
       "      <td>jeep</td>\n",
       "      <td>NaN</td>\n",
       "      <td>2016-03-14 00:00:00</td>\n",
       "      <td>0</td>\n",
       "      <td>90480</td>\n",
       "      <td>2016-04-05 12:47:46</td>\n",
       "    </tr>\n",
       "    <tr>\n",
       "      <th>3</th>\n",
       "      <td>2016-03-17 16:54:04</td>\n",
       "      <td>1500</td>\n",
       "      <td>small</td>\n",
       "      <td>2001</td>\n",
       "      <td>manual</td>\n",
       "      <td>75</td>\n",
       "      <td>golf</td>\n",
       "      <td>150000</td>\n",
       "      <td>6</td>\n",
       "      <td>petrol</td>\n",
       "      <td>volkswagen</td>\n",
       "      <td>no</td>\n",
       "      <td>2016-03-17 00:00:00</td>\n",
       "      <td>0</td>\n",
       "      <td>91074</td>\n",
       "      <td>2016-03-17 17:40:17</td>\n",
       "    </tr>\n",
       "    <tr>\n",
       "      <th>4</th>\n",
       "      <td>2016-03-31 17:25:20</td>\n",
       "      <td>3600</td>\n",
       "      <td>small</td>\n",
       "      <td>2008</td>\n",
       "      <td>manual</td>\n",
       "      <td>69</td>\n",
       "      <td>fabia</td>\n",
       "      <td>90000</td>\n",
       "      <td>7</td>\n",
       "      <td>gasoline</td>\n",
       "      <td>skoda</td>\n",
       "      <td>no</td>\n",
       "      <td>2016-03-31 00:00:00</td>\n",
       "      <td>0</td>\n",
       "      <td>60437</td>\n",
       "      <td>2016-04-06 10:17:21</td>\n",
       "    </tr>\n",
       "  </tbody>\n",
       "</table>\n",
       "</div>"
      ],
      "text/plain": [
       "           DateCrawled  Price VehicleType  RegistrationYear Gearbox  Power  \\\n",
       "0  2016-03-24 11:52:17    480         NaN              1993  manual      0   \n",
       "1  2016-03-24 10:58:45  18300       coupe              2011  manual    190   \n",
       "2  2016-03-14 12:52:21   9800         suv              2004    auto    163   \n",
       "3  2016-03-17 16:54:04   1500       small              2001  manual     75   \n",
       "4  2016-03-31 17:25:20   3600       small              2008  manual     69   \n",
       "\n",
       "   Model  Kilometer  RegistrationMonth  FuelType       Brand Repaired  \\\n",
       "0   golf     150000                  0    petrol  volkswagen      NaN   \n",
       "1    NaN     125000                  5  gasoline        audi      yes   \n",
       "2  grand     125000                  8  gasoline        jeep      NaN   \n",
       "3   golf     150000                  6    petrol  volkswagen       no   \n",
       "4  fabia      90000                  7  gasoline       skoda       no   \n",
       "\n",
       "           DateCreated  NumberOfPictures  PostalCode             LastSeen  \n",
       "0  2016-03-24 00:00:00                 0       70435  2016-04-07 03:16:57  \n",
       "1  2016-03-24 00:00:00                 0       66954  2016-04-07 01:46:50  \n",
       "2  2016-03-14 00:00:00                 0       90480  2016-04-05 12:47:46  \n",
       "3  2016-03-17 00:00:00                 0       91074  2016-03-17 17:40:17  \n",
       "4  2016-03-31 00:00:00                 0       60437  2016-04-06 10:17:21  "
      ]
     },
     "metadata": {},
     "output_type": "display_data"
    }
   ],
   "source": [
    "### выведем первые пять строк\n",
    "display(df.head(5))"
   ]
  },
  {
   "cell_type": "markdown",
   "metadata": {},
   "source": [
    "### Заполнение пропусков"
   ]
  },
  {
   "cell_type": "code",
   "execution_count": 4,
   "metadata": {},
   "outputs": [
    {
     "data": {
      "text/plain": [
       "array([nan, 'coupe', 'suv', 'small', 'sedan', 'convertible', 'bus',\n",
       "       'wagon', 'other'], dtype=object)"
      ]
     },
     "metadata": {},
     "output_type": "display_data"
    },
    {
     "data": {
      "image/png": "[encoded data removed]",
      "text/plain": [
       "<Figure size 640x480 with 1 Axes>"
      ]
     },
     "metadata": {},
     "output_type": "display_data"
    }
   ],
   "source": [
    "### Выведем уникальные значения столбца\n",
    "display(df.VehicleType.unique())\n",
    "### Построение столбчатого графика\n",
    "df['VehicleType'].value_counts().plot.bar(rot=45);"
   ]
  },
  {
   "cell_type": "code",
   "execution_count": 5,
   "metadata": {},
   "outputs": [
    {
     "data": {
      "text/plain": [
       "array(['manual', 'auto', nan], dtype=object)"
      ]
     },
     "metadata": {},
     "output_type": "display_data"
    },
    {
     "data": {
      "image/png": "[encoded data removed]",
      "text/plain": [
       "<Figure size 640x480 with 1 Axes>"
      ]
     },
     "metadata": {},
     "output_type": "display_data"
    }
   ],
   "source": [
    "### Выведем уникальные значения столбца\n",
    "display(df.Gearbox.unique())\n",
    "### Построение столбчатого графика\n",
    "df['Gearbox'].value_counts().plot.bar(rot=45);"
   ]
  },
  {
   "cell_type": "code",
   "execution_count": 6,
   "metadata": {},
   "outputs": [
    {
     "data": {
      "text/plain": [
       "array(['golf', nan, 'grand', 'fabia', '3er', '2_reihe', 'other', 'c_max',\n",
       "       '3_reihe', 'passat', 'navara', 'ka', 'polo', 'twingo', 'a_klasse',\n",
       "       'scirocco', '5er', 'meriva', 'arosa', 'c4', 'civic', 'transporter',\n",
       "       'punto', 'e_klasse', 'clio', 'kadett', 'kangoo', 'corsa', 'one',\n",
       "       'fortwo', '1er', 'b_klasse', 'signum', 'astra', 'a8', 'jetta',\n",
       "       'fiesta', 'c_klasse', 'micra', 'vito', 'sprinter', '156', 'escort',\n",
       "       'forester', 'xc_reihe', 'scenic', 'a4', 'a1', 'insignia', 'combo',\n",
       "       'focus', 'tt', 'a6', 'jazz', 'omega', 'slk', '7er', '80', '147',\n",
       "       '100', 'z_reihe', 'sportage', 'sorento', 'v40', 'ibiza', 'mustang',\n",
       "       'eos', 'touran', 'getz', 'a3', 'almera', 'megane', 'lupo', 'r19',\n",
       "       'zafira', 'caddy', 'mondeo', 'cordoba', 'colt', 'impreza',\n",
       "       'vectra', 'berlingo', 'tiguan', 'i_reihe', 'espace', 'sharan',\n",
       "       '6_reihe', 'panda', 'up', 'seicento', 'ceed', '5_reihe', 'yeti',\n",
       "       'octavia', 'mii', 'rx_reihe', '6er', 'modus', 'fox', 'matiz',\n",
       "       'beetle', 'c1', 'rio', 'touareg', 'logan', 'spider', 'cuore',\n",
       "       's_max', 'a2', 'galaxy', 'c3', 'viano', 's_klasse', '1_reihe',\n",
       "       'avensis', 'roomster', 'sl', 'kaefer', 'santa', 'cooper', 'leon',\n",
       "       '4_reihe', 'a5', '500', 'laguna', 'ptcruiser', 'clk', 'primera',\n",
       "       'x_reihe', 'exeo', '159', 'transit', 'juke', 'qashqai', 'carisma',\n",
       "       'accord', 'corolla', 'lanos', 'phaeton', 'verso', 'swift', 'rav',\n",
       "       'picanto', 'boxster', 'kalos', 'superb', 'stilo', 'alhambra',\n",
       "       'mx_reihe', 'roadster', 'ypsilon', 'cayenne', 'galant', 'justy',\n",
       "       '90', 'sirion', 'crossfire', 'agila', 'duster', 'cr_reihe', 'v50',\n",
       "       'c_reihe', 'v_klasse', 'm_klasse', 'yaris', 'c5', 'aygo', 'cc',\n",
       "       'carnival', 'fusion', '911', 'bora', 'forfour', 'm_reihe', 'cl',\n",
       "       'tigra', '300c', 'spark', 'v70', 'kuga', 'x_type', 'ducato',\n",
       "       's_type', 'x_trail', 'toledo', 'altea', 'voyager', 'calibra',\n",
       "       'bravo', 'antara', 'tucson', 'citigo', 'jimny', 'wrangler',\n",
       "       'lybra', 'q7', 'lancer', 'captiva', 'c2', 'discovery',\n",
       "       'freelander', 'sandero', 'note', '900', 'cherokee', 'clubman',\n",
       "       'samara', 'defender', '601', 'cx_reihe', 'legacy', 'pajero',\n",
       "       'auris', 'niva', 's60', 'nubira', 'vivaro', 'g_klasse', 'lodgy',\n",
       "       '850', 'range_rover', 'q3', 'serie_2', 'glk', 'charade', 'croma',\n",
       "       'outlander', 'doblo', 'musa', 'move', '9000', 'v60', '145', 'aveo',\n",
       "       '200', 'b_max', 'range_rover_sport', 'terios', 'rangerover', 'q5',\n",
       "       'range_rover_evoque', 'materia', 'delta', 'gl', 'kalina', 'amarok',\n",
       "       'elefantino', 'i3', 'kappa', 'serie_3', 'serie_1'], dtype=object)"
      ]
     },
     "execution_count": 6,
     "metadata": {},
     "output_type": "execute_result"
    }
   ],
   "source": [
    "### Выведем уникальные значения столбца\n",
    "df.Model.unique()"
   ]
  },
  {
   "cell_type": "code",
   "execution_count": 7,
   "metadata": {},
   "outputs": [
    {
     "data": {
      "text/plain": [
       "array(['petrol', 'gasoline', nan, 'lpg', 'other', 'hybrid', 'cng',\n",
       "       'electric'], dtype=object)"
      ]
     },
     "metadata": {},
     "output_type": "display_data"
    },
    {
     "data": {
      "image/png": "[encoded data removed]",
      "text/plain": [
       "<Figure size 640x480 with 1 Axes>"
      ]
     },
     "metadata": {},
     "output_type": "display_data"
    }
   ],
   "source": [
    "### Выведем уникальные значения столбца\n",
    "display(df.FuelType.unique())\n",
    "### Построение столбчатого графика\n",
    "df['FuelType'].value_counts().plot.bar(rot=45);"
   ]
  },
  {
   "cell_type": "code",
   "execution_count": 8,
   "metadata": {},
   "outputs": [
    {
     "data": {
      "text/plain": [
       "array([nan, 'yes', 'no'], dtype=object)"
      ]
     },
     "metadata": {},
     "output_type": "display_data"
    },
    {
     "data": {
      "image/png": "[encoded data removed]",
      "text/plain": [
       "<Figure size 640x480 with 1 Axes>"
      ]
     },
     "metadata": {},
     "output_type": "display_data"
    }
   ],
   "source": [
    "### Выведем уникальные значения столбца\n",
    "display(df.Repaired.unique())\n",
    "### Построение столбчатого графика\n",
    "df['Repaired'].value_counts().plot.bar(rot=45);"
   ]
  },
  {
   "cell_type": "code",
   "execution_count": 9,
   "metadata": {},
   "outputs": [
    {
     "data": {
      "text/plain": [
       "'Количество пропусков:'"
      ]
     },
     "metadata": {},
     "output_type": "display_data"
    },
    {
     "data": {
      "text/plain": [
       "DateCrawled          0\n",
       "Price                0\n",
       "VehicleType          0\n",
       "RegistrationYear     0\n",
       "Gearbox              0\n",
       "Power                0\n",
       "Model                0\n",
       "Kilometer            0\n",
       "RegistrationMonth    0\n",
       "FuelType             0\n",
       "Brand                0\n",
       "Repaired             0\n",
       "DateCreated          0\n",
       "NumberOfPictures     0\n",
       "PostalCode           0\n",
       "LastSeen             0\n",
       "dtype: int64"
      ]
     },
     "metadata": {},
     "output_type": "display_data"
    }
   ],
   "source": [
    "### Заполнение пропусков в данных и проверка на наличие пропусков\n",
    "df['VehicleType'] = df['VehicleType'].fillna('unknown')\n",
    "df['Gearbox'] = df['Gearbox'].fillna('manual')\n",
    "df['Model'] = df['Model'].fillna('unknown')\n",
    "df['FuelType'] = df['FuelType'].fillna('unknown')\n",
    "df['Repaired'] = df['Repaired'].fillna('no')\n",
    "display('Количество пропусков:', df.isna().sum())"
   ]
  },
  {
   "cell_type": "markdown",
   "metadata": {},
   "source": [
    "### Поиск аномалий и дубликатов в данных"
   ]
  },
  {
   "cell_type": "code",
   "execution_count": 10,
   "metadata": {},
   "outputs": [
    {
     "data": {
      "text/plain": [
       "'Количество дубликатов до удаления: 5'"
      ]
     },
     "metadata": {},
     "output_type": "display_data"
    },
    {
     "data": {
      "text/plain": [
       "'Количество дубликатов после удаления: 0'"
      ]
     },
     "metadata": {},
     "output_type": "display_data"
    }
   ],
   "source": [
    "### Расчет количества дубликатов\n",
    "display(f'Количество дубликатов до удаления: {df.duplicated().sum()}')\n",
    "df = df.drop_duplicates()\n",
    "display(f'Количество дубликатов после удаления: {df.duplicated().sum()}')"
   ]
  },
  {
   "cell_type": "code",
   "execution_count": 11,
   "metadata": {},
   "outputs": [
    {
     "data": {
      "text/plain": [
       "array([1993, 2011, 2004, 2001, 2008, 1995, 1980, 2014, 1998, 2005, 1910,\n",
       "       2016, 2007, 2009, 2002, 2018, 1997, 1990, 2017, 1981, 2003, 1994,\n",
       "       1991, 1984, 2006, 1999, 2012, 2010, 2000, 1992, 2013, 1996, 1985,\n",
       "       1989, 2015, 1982, 1976, 1983, 1973, 1111, 1969, 1971, 1987, 1986,\n",
       "       1988, 1970, 1965, 1945, 1925, 1974, 1979, 1955, 1978, 1972, 1968,\n",
       "       1977, 1961, 1960, 1966, 1975, 1963, 1964, 5000, 1954, 1958, 1967,\n",
       "       1959, 9999, 1956, 3200, 1000, 1941, 8888, 1500, 2200, 4100, 1962,\n",
       "       1929, 1957, 1940, 3000, 2066, 1949, 2019, 1937, 1951, 1800, 1953,\n",
       "       1234, 8000, 5300, 9000, 2900, 6000, 5900, 5911, 1933, 1400, 1950,\n",
       "       4000, 1948, 1952, 1200, 8500, 1932, 1255, 3700, 3800, 4800, 1942,\n",
       "       7000, 1935, 1936, 6500, 1923, 2290, 2500, 1930, 1001, 9450, 1944,\n",
       "       1943, 1934, 1938, 1688, 2800, 1253, 1928, 1919, 5555, 5600, 1600,\n",
       "       2222, 1039, 9996, 1300, 8455, 1931, 1915, 4500, 1920, 1602, 7800,\n",
       "       9229, 1947, 1927, 7100, 8200, 1946, 7500, 3500], dtype=int64)"
      ]
     },
     "metadata": {},
     "output_type": "display_data"
    },
    {
     "data": {
      "text/plain": [
       "'Количество удаляемых строк:'"
      ]
     },
     "metadata": {},
     "output_type": "display_data"
    },
    {
     "data": {
      "text/plain": [
       "14776"
      ]
     },
     "metadata": {},
     "output_type": "display_data"
    },
    {
     "name": "stdout",
     "output_type": "stream",
     "text": [
      "<class 'pandas.core.frame.DataFrame'>\n",
      "Int64Index: 339588 entries, 0 to 354368\n",
      "Data columns (total 16 columns):\n",
      " #   Column             Non-Null Count   Dtype \n",
      "---  ------             --------------   ----- \n",
      " 0   DateCrawled        339588 non-null  object\n",
      " 1   Price              339588 non-null  int64 \n",
      " 2   VehicleType        339588 non-null  object\n",
      " 3   RegistrationYear   339588 non-null  int64 \n",
      " 4   Gearbox            339588 non-null  object\n",
      " 5   Power              339588 non-null  int64 \n",
      " 6   Model              339588 non-null  object\n",
      " 7   Kilometer          339588 non-null  int64 \n",
      " 8   RegistrationMonth  339588 non-null  int64 \n",
      " 9   FuelType           339588 non-null  object\n",
      " 10  Brand              339588 non-null  object\n",
      " 11  Repaired           339588 non-null  object\n",
      " 12  DateCreated        339588 non-null  object\n",
      " 13  NumberOfPictures   339588 non-null  int64 \n",
      " 14  PostalCode         339588 non-null  int64 \n",
      " 15  LastSeen           339588 non-null  object\n",
      "dtypes: int64(7), object(9)\n",
      "memory usage: 44.0+ MB\n"
     ]
    }
   ],
   "source": [
    "### Изучим столбец и удалим выбросы в информации по году регистрации\n",
    "display(df['RegistrationYear'].unique())\n",
    "years_before_list_index = df.query(\"RegistrationYear < 1950\").index\n",
    "years_after_list_index = df.query(\"RegistrationYear > 2016\").index\n",
    "display('Количество удаляемых строк:', len(years_before_list_index.tolist()) + len(years_after_list_index.tolist()))\n",
    "df = df.drop(index=years_before_list_index)\n",
    "df = df.drop(index=years_after_list_index)\n",
    "df.info()"
   ]
  },
  {
   "cell_type": "code",
   "execution_count": 12,
   "metadata": {},
   "outputs": [
    {
     "data": {
      "text/plain": [
       "'Уникальные значения до преобразования:'"
      ]
     },
     "metadata": {},
     "output_type": "display_data"
    },
    {
     "data": {
      "text/plain": [
       "array([ 0,  5,  8,  6,  7, 10, 12, 11,  2,  3,  1,  4,  9], dtype=int64)"
      ]
     },
     "metadata": {},
     "output_type": "display_data"
    },
    {
     "data": {
      "text/plain": [
       "'Уникальные значения после преобразования:'"
      ]
     },
     "metadata": {},
     "output_type": "display_data"
    },
    {
     "data": {
      "text/plain": [
       "array([ 1,  5,  8,  6,  7, 10, 12, 11,  2,  3,  4,  9], dtype=int64)"
      ]
     },
     "metadata": {},
     "output_type": "display_data"
    }
   ],
   "source": [
    "### Изучим столбец и поправим данные с указанием месяца регистрации\n",
    "display('Уникальные значения до преобразования:', df['RegistrationMonth'].unique())\n",
    "df['RegistrationMonth'] = df['RegistrationMonth'].replace(0, 1)\n",
    "display('Уникальные значения после преобразования:', df['RegistrationMonth'].unique())"
   ]
  },
  {
   "cell_type": "code",
   "execution_count": 13,
   "metadata": {
    "scrolled": false
   },
   "outputs": [
    {
     "data": {
      "text/plain": [
       "array([    0,   190,   163,    75,    69,   102,   109,    50,   125,\n",
       "         101,   105,   140,   115,   131,    60,   136,   160,   231,\n",
       "         118,   193,    99,   113,   218,   122,   129,    70,   306,\n",
       "          95,    61,   177,   170,    55,   143,   286,   232,   150,\n",
       "         156,    80,    82,    90,   155,    54,   185,    87,   180,\n",
       "          86,    84,   224,   235,   200,   178,   265,    77,   110,\n",
       "         144,   120,   116,   184,   126,   204,    88,   194,    64,\n",
       "         305,   197,   179,   250,    45,   313,    41,   165,    98,\n",
       "         130,   114,   211,    56,   201,   213,    58,   107,    83,\n",
       "         174,   100,   220,    73,   192,    68,    66,   299,    74,\n",
       "          52,   147,   310,    71,    97,    65,   239,   203,     5,\n",
       "         300,   103,    85,   258,   320,    63,    81,   148,    44,\n",
       "         145,   230,   280,   260,   104,   188,   333,   186,   117,\n",
       "         141,   132,   234,   158,    39,    92,    51,   135,    59,\n",
       "          53,   209,    43,   146,    67,   106,   166,   276,   344,\n",
       "          72,   249,   237,   245,   111,   326,   279,    23,   138,\n",
       "         175,    96,   226,    26,    37,   301,   334,   128,   133,\n",
       "         124,    33,   219,   241,   167,    94,   182,   196,   238,\n",
       "        1398,   228,   112,    48,   272,   139,  1799,   240,    79,\n",
       "         256,   360,   243,   375,   252,   396,   340,   121,   345,\n",
       "         187,   289,   222,   198,   284,   450,   233,   387,   152,\n",
       "         347,   172,    57,   137,   212,   476,   314,    30,     7,\n",
       "          47,   173,   290,   207,   205,   171,    78,    91,    89,\n",
       "         349,    40,   108,   325,    76,   350,   953,    93,   142,\n",
       "         500,   343,   199,   119,   164,    16,   264,   367,   208,\n",
       "         210,    46,   435,  1001,   225,   127,   176,   161,   603,\n",
       "         307,   354,    35,   206,   771,   355,   273,   223,   255,\n",
       "         151,   123,   154,   149,  7515,  1400,   268,   620,   400,\n",
       "         275,    34,     2,   242,  1779,   285,   162,   328,  1753,\n",
       "         329,   134,   420,   247,   168, 10317,   215,    18,   330,\n",
       "         283,    62,    10,   214,   183,   254,    15,   321,   315,\n",
       "         952,   169,   600,   181,   426,   379,   999,    22,   157,\n",
       "          42,   195,   553,     4,   309,   507,   381,   271,   440,\n",
       "         189,   401,  1111,  2729,    21,   236,  1240,  1704,   521,\n",
       "           1,  1900,   270,    24,   159,   292,   515,  1200,   303,\n",
       "          29,    38,  1993,    14,   216,   610,   504,    49,   267,\n",
       "         331,   363,   261,   385,  1011,   253,   696, 10520,   376,\n",
       "         227,   311,    27,   217,    20,   322,  1999,    11,  1056,\n",
       "          25,   394,    12,   298,   296,  1659,   294,   551,  6920,\n",
       "         246,    17,  1625,   368,   390,   221,  1367,   259,   606,\n",
       "        1597,   266,   374,   392,     9,   405,    13,   262,   601,\n",
       "         430,   295,     8,   411,   900,   541,  7512,   382, 10218,\n",
       "        7544,  1102,   287,    19,   751,   297,  1090,   457,   282,\n",
       "         602,   388,     6,  5411,   335,  1360,   202,  3750,   805,\n",
       "        1062,  2017,   750,  1024, 11530,   364,  1796,   269,   460,\n",
       "        1002,   288,  1780, 12012, 17932,   316,  2005,  1800,  1399,\n",
       "         191,   278,   380,   257,   449,  1256,   153,  1653,   520,\n",
       "         560,   281, 12510,     3,  1500,   386,    32,  1202,  2016,\n",
       "        1436,  1405,   671,   274,  1288,  1055, 10912, 15016,  6226,\n",
       "        1115,   277,  1105,   341,  1223,  2340,  8404,  1968,   338,\n",
       "         445,  1920,   370,   517,  4400, 10710, 10522,   431,  1164,\n",
       "       11509,   371,  1501,   428, 11635,    36,   304,   348,  1703,\n",
       "        1910,  1995,   579, 10000,   580,   408,    31,   358,  1403,\n",
       "         489,  5575, 19211,   585,   960,   365,   353,   490,   352,\n",
       "        1801,  1000,   346,   550,  3199,   800,  7508,  1312,  1937,\n",
       "         950,  4700,  1600,  3454, 19208,   251,   850,   337,   700,\n",
       "        8011,  2331,  2789,   487,   519,  2461,  6006,  3500,  5815,\n",
       "        6018,  1781,  1503,   612,  1596,   229,  1506,  5809, 15020,\n",
       "        1300,  5867,  2172,  1598, 17410,  1363,   584,  1054,   851,\n",
       "        1339,   318,   510,   525,  1700,    28,  1151,   685,  6011,\n",
       "         317,   703,  1771, 15001,   514,   362,   332,  5000,   324,\n",
       "        6045,   530,   425,   308,  6010,   475,   903,   640,  2000,\n",
       "         248,   651,  2799, 17011,   505,  1103,  1521,   351, 16051,\n",
       "         398,   599,  1998, 10311,   409,  1230, 17019, 12684,  8259,\n",
       "        1895,  1317,   871,   909,  2201,  1595,   776, 17700, 11011,\n",
       "        1199,   459,   357,  1162,  1120,   327, 15033,  1896,   339,\n",
       "         361,   574,  6512,   454,   650, 13616,   604, 16312,  1082,\n",
       "         336, 20000,   416,   678,  1401,  1021,  1870, 13636,  1250,\n",
       "        9710,  6012,   323,  1158,  2009,   902,  6062,  1275,   572,\n",
       "         244,   399,  1016,   743,  1221,  2402,  1362,   544,   645,\n",
       "         907,   702,  1003,  1432,  9013,   442,  1017, 15017, 10910,\n",
       "        1992,   540,  2018, 11025,  1433,  1701,  2792,  1502,  1239,\n",
       "        1390, 14009,  1160, 11111,  1783,  9007,   923,  1149,   754,\n",
       "        1988,  2004,  5420,  1793,  1324,   356, 12512,  7511,  1299,\n",
       "         293, 19312,  1079,  1689,   998,  1100,  1933,   508, 16311,\n",
       "         682,  1922,  7529,   732,  2389,  1005,  2200,  1707,  1416,\n",
       "        8500,  1012,   485, 10110,   421,  4507,  1631,  7518,   377,\n",
       "        1004,  9012,  2007,  2598,  1548,  1241], dtype=int64)"
      ]
     },
     "metadata": {},
     "output_type": "display_data"
    },
    {
     "data": {
      "text/plain": [
       "'Количество удаляемых строк:'"
      ]
     },
     "metadata": {},
     "output_type": "display_data"
    },
    {
     "data": {
      "text/plain": [
       "280"
      ]
     },
     "metadata": {},
     "output_type": "display_data"
    },
    {
     "name": "stdout",
     "output_type": "stream",
     "text": [
      "<class 'pandas.core.frame.DataFrame'>\n",
      "Int64Index: 339308 entries, 0 to 354368\n",
      "Data columns (total 16 columns):\n",
      " #   Column             Non-Null Count   Dtype \n",
      "---  ------             --------------   ----- \n",
      " 0   DateCrawled        339308 non-null  object\n",
      " 1   Price              339308 non-null  int64 \n",
      " 2   VehicleType        339308 non-null  object\n",
      " 3   RegistrationYear   339308 non-null  int64 \n",
      " 4   Gearbox            339308 non-null  object\n",
      " 5   Power              339308 non-null  int64 \n",
      " 6   Model              339308 non-null  object\n",
      " 7   Kilometer          339308 non-null  int64 \n",
      " 8   RegistrationMonth  339308 non-null  int64 \n",
      " 9   FuelType           339308 non-null  object\n",
      " 10  Brand              339308 non-null  object\n",
      " 11  Repaired           339308 non-null  object\n",
      " 12  DateCreated        339308 non-null  object\n",
      " 13  NumberOfPictures   339308 non-null  int64 \n",
      " 14  PostalCode         339308 non-null  int64 \n",
      " 15  LastSeen           339308 non-null  object\n",
      "dtypes: int64(7), object(9)\n",
      "memory usage: 44.0+ MB\n"
     ]
    }
   ],
   "source": [
    "### Изучим столбец и удалим выбросы в данных о мощности\n",
    "display(df['Power'].unique())\n",
    "power_high_list_index = df.query(\"Power > 999\").index\n",
    "display('Количество удаляемых строк:', len(power_high_list_index.tolist()))\n",
    "df = df.drop(index=power_high_list_index)\n",
    "df.info()"
   ]
  },
  {
   "cell_type": "code",
   "execution_count": 14,
   "metadata": {},
   "outputs": [
    {
     "data": {
      "text/plain": [
       "0"
      ]
     },
     "metadata": {},
     "output_type": "display_data"
    }
   ],
   "source": [
    "### Заменим нулевые значения мощности на значение первого квантиля\n",
    "power_min = df['Power'].quantile(0.25)\n",
    "df['Power'] = df['Power'].replace(0, power_min)\n",
    "display(df.loc[df['Power'] == 0, 'Power'].count())"
   ]
  },
  {
   "cell_type": "code",
   "execution_count": 15,
   "metadata": {},
   "outputs": [],
   "source": [
    "### Удалим нулевые значения мощности\n",
    "# power_null_list_index = df.query(\"Power == 0\").index\n",
    "# display('Количество удаляемых строк cо значением нуля:', len(power_null_list_index.tolist()))\n",
    "# df = df.drop(index=power_null_list_index)\n",
    "# df.info()"
   ]
  },
  {
   "cell_type": "markdown",
   "metadata": {},
   "source": [
    "### Приведение к верному типу данных"
   ]
  },
  {
   "cell_type": "code",
   "execution_count": 16,
   "metadata": {},
   "outputs": [],
   "source": [
    "### Изменим на верный тип данных столбцов с датой\n",
    "df['DateCrawled'] = pd.to_datetime(df['DateCrawled'])\n",
    "df['DateCreated'] = pd.to_datetime(df['DateCreated'])\n",
    "df['LastSeen'] = pd.to_datetime(df['LastSeen'])\n",
    "### Изменим тип данных на int\n",
    "df['Power'] = df['Power'].astype('int')"
   ]
  },
  {
   "cell_type": "code",
   "execution_count": 17,
   "metadata": {},
   "outputs": [
    {
     "data": {
      "text/plain": [
       "'Количество удаленных данных составляет: 4.25 %'"
      ]
     },
     "metadata": {},
     "output_type": "display_data"
    }
   ],
   "source": [
    "### Рассчитаем процент удаленных данных\n",
    "after = df.shape[0]\n",
    "display(f'Количество удаленных данных составляет: {round(100 - (after/before)*100, 2)} %')"
   ]
  },
  {
   "cell_type": "markdown",
   "metadata": {},
   "source": [
    "### Вывод"
   ]
  },
  {
   "cell_type": "markdown",
   "metadata": {},
   "source": [
    "В процессе подготовки данных выявлены и внесены следующие изменения:\n",
    "- Обнаружены и удалены дубликаты в количестве `5` шт\n",
    "- В столбце с мощностью удалено `280` выбросов, в столбце с годом регистрации удалено `14776` выбросов\n",
    "- Процент удаленных данных менее `10%` и составляет `4.25%`\n",
    "- Тип столбцов с датами преобразован из `object` в `datetime`\n",
    "- Тип данных в столбце с мощность преобразован из `float` в `int`\n",
    "- В столбцах с типом кузова, моделью и типом топлива пропуски заменены на `unknown`\n",
    "- В столбце с типом КПП пропуски заменены на `manual`, в столбце наличия ремонта пропуски заменены на `no`"
   ]
  },
  {
   "cell_type": "markdown",
   "metadata": {},
   "source": [
    "## Обучение моделей"
   ]
  },
  {
   "cell_type": "markdown",
   "metadata": {},
   "source": [
    "### Подготовка выборок"
   ]
  },
  {
   "cell_type": "code",
   "execution_count": 18,
   "metadata": {},
   "outputs": [
    {
     "name": "stdout",
     "output_type": "stream",
     "text": [
      "<class 'pandas.core.frame.DataFrame'>\n",
      "Int64Index: 339308 entries, 0 to 354368\n",
      "Data columns (total 10 columns):\n",
      " #   Column            Non-Null Count   Dtype \n",
      "---  ------            --------------   ----- \n",
      " 0   Price             339308 non-null  int64 \n",
      " 1   VehicleType       339308 non-null  object\n",
      " 2   RegistrationYear  339308 non-null  int64 \n",
      " 3   Gearbox           339308 non-null  object\n",
      " 4   Power             339308 non-null  int32 \n",
      " 5   Model             339308 non-null  object\n",
      " 6   Kilometer         339308 non-null  int64 \n",
      " 7   FuelType          339308 non-null  object\n",
      " 8   Brand             339308 non-null  object\n",
      " 9   Repaired          339308 non-null  object\n",
      "dtypes: int32(1), int64(3), object(6)\n",
      "memory usage: 27.2+ MB\n"
     ]
    }
   ],
   "source": [
    "### Удалим лишние столбцы\n",
    "df_cor = df.drop(['DateCrawled', 'DateCreated', 'NumberOfPictures', 'PostalCode', 'LastSeen', 'RegistrationMonth'], axis=1).copy()\n",
    "df_cor.info()"
   ]
  },
  {
   "cell_type": "code",
   "execution_count": 19,
   "metadata": {
    "scrolled": true
   },
   "outputs": [
    {
     "data": {
      "text/plain": [
       "'features_train shape: (203584, 9)'"
      ]
     },
     "metadata": {},
     "output_type": "display_data"
    },
    {
     "data": {
      "text/plain": [
       "'target_train shape: (203584,)'"
      ]
     },
     "metadata": {},
     "output_type": "display_data"
    },
    {
     "data": {
      "text/plain": [
       "'features_test shape: (67862, 9)'"
      ]
     },
     "metadata": {},
     "output_type": "display_data"
    },
    {
     "data": {
      "text/plain": [
       "'target_test shape: (67862,)'"
      ]
     },
     "metadata": {},
     "output_type": "display_data"
    },
    {
     "data": {
      "text/plain": [
       "'features_valid shape: (67862, 9)'"
      ]
     },
     "metadata": {},
     "output_type": "display_data"
    },
    {
     "data": {
      "text/plain": [
       "'target_valid shape: (67862,)'"
      ]
     },
     "metadata": {},
     "output_type": "display_data"
    }
   ],
   "source": [
    "### обозначим признаки и цели \n",
    "target = df_cor['Price']\n",
    "features = df_cor.drop(['Price'], axis=1)\n",
    "### поделим на выборки\n",
    "features_train, features_test, target_train, target_test = train_test_split(features, target, test_size=0.4, random_state=42)\n",
    "features_test, features_valid, target_test, target_valid = train_test_split(features_test, target_test, test_size=0.5, random_state=42)\n",
    "### проверим размерности выборок\n",
    "display(f'features_train shape: {features_train.shape}')\n",
    "display(f'target_train shape: {target_train.shape}')\n",
    "display(f'features_test shape: {features_test.shape}')\n",
    "display(f'target_test shape: {target_test.shape}')\n",
    "display(f'features_valid shape: {features_valid.shape}')\n",
    "display(f'target_valid shape: {target_valid.shape}')"
   ]
  },
  {
   "cell_type": "code",
   "execution_count": 20,
   "metadata": {},
   "outputs": [
    {
     "data": {
      "text/plain": [
       "'features_train_ohe shape: (203584, 306)'"
      ]
     },
     "metadata": {},
     "output_type": "display_data"
    },
    {
     "data": {
      "text/plain": [
       "'features_valid_ohe shape: (67862, 306)'"
      ]
     },
     "metadata": {},
     "output_type": "display_data"
    },
    {
     "data": {
      "text/plain": [
       "'features_test_ohe shape: (67862, 306)'"
      ]
     },
     "metadata": {},
     "output_type": "display_data"
    }
   ],
   "source": [
    "### Подготовим выборки\n",
    "categorial_cols = ['VehicleType', 'Gearbox', 'Model', 'FuelType', 'Brand', 'Repaired']\n",
    "numeric_cols = ['RegistrationYear', 'Power', 'Kilometer']\n",
    "features_train_ohe = features_train[categorial_cols]\n",
    "features_valid_ohe = features_valid[categorial_cols]\n",
    "features_test_ohe = features_test[categorial_cols]\n",
    "### Обучим кодировщик OHE\n",
    "encoder = OneHotEncoder(drop='first', handle_unknown='error', sparse=False)\n",
    "encoder.fit(features_train_ohe)\n",
    "cols = encoder.get_feature_names()\n",
    "### Преобразуем выборки, шаг 1\n",
    "features_train_ohe = encoder.transform(features_train_ohe)\n",
    "features_valid_ohe = encoder.transform(features_valid_ohe)\n",
    "features_test_ohe = encoder.transform(features_test_ohe)\n",
    "### Преобразуем выборки, шаг 2\n",
    "features_train_ohe = pd.DataFrame(features_train_ohe, columns = cols, index=target_train.index)\n",
    "features_valid_ohe = pd.DataFrame(features_valid_ohe, columns = cols, index=target_valid.index)\n",
    "features_test_ohe = pd.DataFrame(features_test_ohe, columns = cols, index=target_test.index)\n",
    "### Проверим размерности выборок\n",
    "display(f'features_train_ohe shape: {features_train_ohe.shape}')\n",
    "display(f'features_valid_ohe shape: {features_valid_ohe.shape}')\n",
    "display(f'features_test_ohe shape: {features_test_ohe.shape}')"
   ]
  },
  {
   "cell_type": "code",
   "execution_count": 21,
   "metadata": {},
   "outputs": [
    {
     "data": {
      "text/plain": [
       "'features_train_num shape: (203584, 3)'"
      ]
     },
     "metadata": {},
     "output_type": "display_data"
    },
    {
     "data": {
      "text/plain": [
       "'features_valid_num shape: (67862, 3)'"
      ]
     },
     "metadata": {},
     "output_type": "display_data"
    },
    {
     "data": {
      "text/plain": [
       "'features_test_num shape: (67862, 3)'"
      ]
     },
     "metadata": {},
     "output_type": "display_data"
    }
   ],
   "source": [
    "### Подготовим выборки\n",
    "features_train_num = features_train[numeric_cols]\n",
    "features_valid_num = features_valid[numeric_cols]\n",
    "features_test_num = features_test[numeric_cols]\n",
    "### Стандартизируем данные и настроим на признаках\n",
    "scaler = StandardScaler()\n",
    "scaler.fit(features_train_num) \n",
    "### Преобразуем выборки\n",
    "features_train_num = scaler.transform(features_train_num)\n",
    "features_valid_num = scaler.transform(features_valid_num)                                 \n",
    "features_test_num = scaler.transform(features_test_num) \n",
    "### Уберем предупреждение `SettingWithCopy`\n",
    "pd.options.mode.chained_assignment = None\n",
    "### Получим заголовки для признаков и скорректируем преобразованные выборки\n",
    "features_train_num = pd.DataFrame(features_train_num, columns = numeric_cols, index=target_train.index)\n",
    "features_valid_num = pd.DataFrame(features_valid_num, columns = numeric_cols, index=target_valid.index)                                 \n",
    "features_test_num = pd.DataFrame(features_test_num, columns = numeric_cols, index=target_test.index)\n",
    "### Проверим размерности выборок\n",
    "display(f'features_train_num shape: {features_train_num.shape}')\n",
    "display(f'features_valid_num shape: {features_valid_num.shape}')\n",
    "display(f'features_test_num shape: {features_test_num.shape}')"
   ]
  },
  {
   "cell_type": "code",
   "execution_count": 22,
   "metadata": {},
   "outputs": [],
   "source": [
    "### Объединим выборки, числовые столбцы и категориальные столбцы\n",
    "features_train_one = pd.concat((features_train_ohe, features_train_num), axis = 1)\n",
    "features_valid_one = pd.concat((features_valid_ohe, features_valid_num), axis = 1)\n",
    "features_test_one = pd.concat((features_test_ohe, features_test_num), axis = 1)"
   ]
  },
  {
   "cell_type": "markdown",
   "metadata": {},
   "source": [
    "### Модель Случайного леса"
   ]
  },
  {
   "cell_type": "code",
   "execution_count": 23,
   "metadata": {
    "scrolled": true
   },
   "outputs": [
    {
     "name": "stdout",
     "output_type": "stream",
     "text": [
      "CPU times: total: 10min 58s\n",
      "Wall time: 11min 2s\n"
     ]
    }
   ],
   "source": [
    "%%time\n",
    "start1 = time.time()\n",
    "### обучим модель случайного леса (время обучения)\n",
    "rfr_model = RandomForestRegressor(random_state=42, max_depth=20, n_estimators=100, min_samples_leaf=6)\n",
    "rfr_model.fit(features_train_one, target_train)\n",
    "end1 = time.time() - start1"
   ]
  },
  {
   "cell_type": "code",
   "execution_count": 24,
   "metadata": {},
   "outputs": [
    {
     "data": {
      "text/plain": [
       "'RMSE модели случайного леса на валидационной выборке:'"
      ]
     },
     "metadata": {},
     "output_type": "display_data"
    },
    {
     "data": {
      "text/plain": [
       "1760.1476809188657"
      ]
     },
     "metadata": {},
     "output_type": "display_data"
    },
    {
     "name": "stdout",
     "output_type": "stream",
     "text": [
      "CPU times: total: 2.5 s\n",
      "Wall time: 2.53 s\n"
     ]
    }
   ],
   "source": [
    "%%time\n",
    "start4 = time.time()\n",
    "### обучим модель случайного леса (время предсказания)\n",
    "predictions_rfr = rfr_model.predict(features_valid_one)\n",
    "rmse_one = mean_squared_error(target_valid, predictions_rfr) ** 0.5\n",
    "display(\"RMSE модели случайного леса на валидационной выборке:\", rmse_one)\n",
    "end4 = time.time() - start4"
   ]
  },
  {
   "cell_type": "code",
   "execution_count": 25,
   "metadata": {},
   "outputs": [],
   "source": [
    "# попытка гридсерча, но после ожидания 2 часов выполнения кода, бросил эту затею\n",
    "\n",
    "# %%time\n",
    "# ### создадим функцию расчета rmse\n",
    "# def rmse(target, predictions):\n",
    "#     rmse = mean_squared_error(target, predictions) ** 0.5\n",
    "#     return rmse\n",
    "\n",
    "# def score():\n",
    "#     return make_scorer(rmse, greater_is_better=False)\n",
    "# ### обучим модель случайного леса с помощью gridsearch для расчета f1 меры\n",
    "# # параметры по сетке\n",
    "# parameters = {\n",
    "#     'n_estimators': [50, 100],\n",
    "#     'max_depth': [10, 20],\n",
    "#     'min_samples_leaf': [4, 5]\n",
    "# }\n",
    "# ran_for = RandomForestRegressor(random_state=42)\n",
    "# clf = GridSearchCV(ran_for, parameters, scoring=score(), cv=5, n_jobs=-1)\n",
    "# clf.fit(features_train, target_train)\n",
    "# display(clf.best_score_)\n",
    "# display(clf.best_params_)"
   ]
  },
  {
   "cell_type": "markdown",
   "metadata": {},
   "source": [
    "### Модель CatBoost"
   ]
  },
  {
   "cell_type": "code",
   "execution_count": 26,
   "metadata": {},
   "outputs": [
    {
     "name": "stdout",
     "output_type": "stream",
     "text": [
      "0:\tlearn: 4223.7112493\ttotal: 380ms\tremaining: 6m 20s\n",
      "100:\tlearn: 1730.0647427\ttotal: 20.1s\tremaining: 2m 59s\n",
      "200:\tlearn: 1646.0672478\ttotal: 39.8s\tremaining: 2m 38s\n",
      "300:\tlearn: 1592.6772057\ttotal: 59.7s\tremaining: 2m 18s\n",
      "400:\tlearn: 1553.6072916\ttotal: 1m 21s\tremaining: 2m 1s\n",
      "500:\tlearn: 1522.9839573\ttotal: 1m 41s\tremaining: 1m 41s\n",
      "600:\tlearn: 1498.0263798\ttotal: 2m 2s\tremaining: 1m 21s\n",
      "700:\tlearn: 1477.3764323\ttotal: 2m 23s\tremaining: 1m 1s\n",
      "800:\tlearn: 1458.3453652\ttotal: 2m 44s\tremaining: 40.8s\n",
      "900:\tlearn: 1440.0599050\ttotal: 3m 4s\tremaining: 20.3s\n",
      "999:\tlearn: 1423.6146415\ttotal: 3m 25s\tremaining: 0us\n",
      "CPU times: total: 18min 12s\n",
      "Wall time: 3min 27s\n"
     ]
    }
   ],
   "source": [
    "%%time\n",
    "start2 = time.time()\n",
    "### обучим модель CatBoost (время обучения)\n",
    "cat_model = CatBoostRegressor(random_state=42, depth=10, learning_rate=0.1, verbose=100)       \n",
    "cat_model.fit(features_train, target_train, cat_features=categorial_cols,)\n",
    "end2 = time.time() - start2"
   ]
  },
  {
   "cell_type": "code",
   "execution_count": 27,
   "metadata": {},
   "outputs": [
    {
     "data": {
      "text/plain": [
       "'RMSE модели CatBoost на валидационной выборке:'"
      ]
     },
     "metadata": {},
     "output_type": "display_data"
    },
    {
     "data": {
      "text/plain": [
       "1686.6150665315067"
      ]
     },
     "metadata": {},
     "output_type": "display_data"
    },
    {
     "name": "stdout",
     "output_type": "stream",
     "text": [
      "CPU times: total: 2.53 s\n",
      "Wall time: 482 ms\n"
     ]
    }
   ],
   "source": [
    "%%time\n",
    "start5 = time.time()\n",
    "### обучим модель CatBoost (время предсказания)\n",
    "predictions_cat = cat_model.predict(features_valid)\n",
    "rmse_two = mean_squared_error(target_valid, predictions_cat) ** 0.5\n",
    "display(\"RMSE модели CatBoost на валидационной выборке:\", rmse_two)\n",
    "end5 = time.time() - start5"
   ]
  },
  {
   "cell_type": "markdown",
   "metadata": {},
   "source": [
    "### Модель LightGBM"
   ]
  },
  {
   "cell_type": "code",
   "execution_count": 28,
   "metadata": {},
   "outputs": [
    {
     "name": "stdout",
     "output_type": "stream",
     "text": [
      "CPU times: total: 8.45 s\n",
      "Wall time: 2.17 s\n"
     ]
    }
   ],
   "source": [
    "%%time\n",
    "start3 = time.time()\n",
    "### обучим модель LightGBM (время обучения)\n",
    "lgb_model = LGBMRegressor(random_state=42, max_depth=10, learning_rate=0.1, metric='l2')      \n",
    "lgb_model.fit(features_train_one, target_train)\n",
    "end3 = time.time() - start3"
   ]
  },
  {
   "cell_type": "code",
   "execution_count": 29,
   "metadata": {},
   "outputs": [
    {
     "data": {
      "text/plain": [
       "'RMSE модели LightGBM на валидационной выборке:'"
      ]
     },
     "metadata": {},
     "output_type": "display_data"
    },
    {
     "data": {
      "text/plain": [
       "1823.133342168771"
      ]
     },
     "metadata": {},
     "output_type": "display_data"
    },
    {
     "name": "stdout",
     "output_type": "stream",
     "text": [
      "CPU times: total: 1.41 s\n",
      "Wall time: 363 ms\n"
     ]
    }
   ],
   "source": [
    "%%time\n",
    "start6 = time.time()\n",
    "### обучим модель LightGBM (время предсказания)\n",
    "predictions_lgb = lgb_model.predict(features_valid_one)\n",
    "rmse_thr = mean_squared_error(target_valid, predictions_lgb) ** 0.5\n",
    "display(\"RMSE модели LightGBM на валидационной выборке:\", rmse_thr)\n",
    "end6 = time.time() - start6"
   ]
  },
  {
   "cell_type": "markdown",
   "metadata": {},
   "source": [
    "### Тестирование моделей"
   ]
  },
  {
   "cell_type": "code",
   "execution_count": 33,
   "metadata": {},
   "outputs": [
    {
     "data": {
      "text/plain": [
       "'Результат модели CatBoost на тестовой выборке: 1675.7954442119471'"
      ]
     },
     "metadata": {},
     "output_type": "display_data"
    }
   ],
   "source": [
    "### тестирование моделей на тестовых выборках\n",
    "# rfr_predictions_test = pd.Series(rfr_model.predict(features_test), index=features_test.index) \n",
    "# rmse_one_test = mean_squared_error(target_test, rfr_predictions_test) ** 0.5\n",
    "cat_predictions_test = pd.Series(cat_model.predict(features_test), index=features_test.index) \n",
    "rmse_two_test = mean_squared_error(target_test, cat_predictions_test) ** 0.5\n",
    "# lgb_predictions_test = pd.Series(lgb_model.predict(features_test), index=features_test.index) \n",
    "# rmse_thr_test = mean_squared_error(target_test, lgb_predictions_test) ** 0.5\n",
    "\n",
    "### выведем результаты на экран\n",
    "# display(f'Результат модели случайного леса на тестовой выборке: {rmse_one_test}')\n",
    "display(f'Результат модели CatBoost на тестовой выборке: {rmse_two_test}')\n",
    "# display(f'Результат модели LightGBM леса на тестовой выборке: {rmse_thr_test}')"
   ]
  },
  {
   "cell_type": "markdown",
   "metadata": {},
   "source": [
    "## Анализ моделей"
   ]
  },
  {
   "cell_type": "code",
   "execution_count": 34,
   "metadata": {},
   "outputs": [
    {
     "data": {
      "text/html": [
       "<div>\n",
       "<style scoped>\n",
       "    .dataframe tbody tr th:only-of-type {\n",
       "        vertical-align: middle;\n",
       "    }\n",
       "\n",
       "    .dataframe tbody tr th {\n",
       "        vertical-align: top;\n",
       "    }\n",
       "\n",
       "    .dataframe thead th {\n",
       "        text-align: right;\n",
       "    }\n",
       "</style>\n",
       "<table border=\"1\" class=\"dataframe\">\n",
       "  <thead>\n",
       "    <tr style=\"text-align: right;\">\n",
       "      <th></th>\n",
       "      <th>random_forest</th>\n",
       "      <th>catboost</th>\n",
       "      <th>lightgbm</th>\n",
       "    </tr>\n",
       "    <tr>\n",
       "      <th>metrics</th>\n",
       "      <th></th>\n",
       "      <th></th>\n",
       "      <th></th>\n",
       "    </tr>\n",
       "  </thead>\n",
       "  <tbody>\n",
       "    <tr>\n",
       "      <th>rmse_valid</th>\n",
       "      <td>1760.147681</td>\n",
       "      <td>1686.615067</td>\n",
       "      <td>1823.133342</td>\n",
       "    </tr>\n",
       "    <tr>\n",
       "      <th>time_learn</th>\n",
       "      <td>662.506566</td>\n",
       "      <td>207.363023</td>\n",
       "      <td>2.174999</td>\n",
       "    </tr>\n",
       "    <tr>\n",
       "      <th>time_pred</th>\n",
       "      <td>2.530999</td>\n",
       "      <td>0.481998</td>\n",
       "      <td>0.362</td>\n",
       "    </tr>\n",
       "    <tr>\n",
       "      <th>rmse_test</th>\n",
       "      <td>not enought</td>\n",
       "      <td>1675.795444</td>\n",
       "      <td>not enought</td>\n",
       "    </tr>\n",
       "  </tbody>\n",
       "</table>\n",
       "</div>"
      ],
      "text/plain": [
       "           random_forest     catboost     lightgbm\n",
       "metrics                                           \n",
       "rmse_valid   1760.147681  1686.615067  1823.133342\n",
       "time_learn    662.506566   207.363023     2.174999\n",
       "time_pred       2.530999     0.481998        0.362\n",
       "rmse_test    not enought  1675.795444  not enought"
      ]
     },
     "metadata": {},
     "output_type": "display_data"
    }
   ],
   "source": [
    "### выведем результаты как таблицу с данными\n",
    "total_row_1 = ['rmse_valid', rmse_one, rmse_two, rmse_thr]\n",
    "total_row_2 = ['time_learn', end1, end2, end3]\n",
    "total_row_3 = ['time_pred', end4, end5, end6]\n",
    "total_row_4 = ['rmse_test', 'not enought', rmse_two_test, 'not enought']\n",
    "data_temp = pd.DataFrame([total_row_1, total_row_2, total_row_3, total_row_4])\n",
    "data_temp.columns = ['metrics', 'random_forest', 'catboost', 'lightgbm']\n",
    "display(data_temp.set_index('metrics'))"
   ]
  }
 ],
 "metadata": {
  "ExecuteTimeLog": [
   {
    "duration": 60,
    "start_time": "2023-01-19T13:53:20.878Z"
   },
   {
    "duration": 1065,
    "start_time": "2023-01-19T13:53:24.263Z"
   },
   {
    "duration": 1053,
    "start_time": "2023-01-19T13:53:25.330Z"
   },
   {
    "duration": 816,
    "start_time": "2023-01-19T13:53:45.963Z"
   },
   {
    "duration": 872,
    "start_time": "2023-01-19T13:54:21.797Z"
   },
   {
    "duration": 1105,
    "start_time": "2023-01-20T08:46:27.361Z"
   },
   {
    "duration": 3035,
    "start_time": "2023-01-20T08:46:28.468Z"
   },
   {
    "duration": 1099,
    "start_time": "2023-01-20T08:46:33.353Z"
   },
   {
    "duration": 3,
    "start_time": "2023-01-20T08:46:50.082Z"
   },
   {
    "duration": 886,
    "start_time": "2023-01-20T08:51:37.411Z"
   },
   {
    "duration": 118,
    "start_time": "2023-01-20T08:55:27.474Z"
   },
   {
    "duration": 1114,
    "start_time": "2023-01-20T08:55:55.253Z"
   },
   {
    "duration": 1106,
    "start_time": "2023-01-20T08:56:03.602Z"
   },
   {
    "duration": 1146,
    "start_time": "2023-01-20T09:00:43.952Z"
   },
   {
    "duration": 13,
    "start_time": "2023-01-20T09:00:48.136Z"
   },
   {
    "duration": 19,
    "start_time": "2023-01-20T09:32:39.127Z"
   },
   {
    "duration": 5,
    "start_time": "2023-01-20T10:31:43.699Z"
   },
   {
    "duration": 22,
    "start_time": "2023-01-20T10:31:55.105Z"
   },
   {
    "duration": 19,
    "start_time": "2023-01-20T10:32:27.575Z"
   },
   {
    "duration": 24,
    "start_time": "2023-01-20T10:33:01.985Z"
   },
   {
    "duration": 23,
    "start_time": "2023-01-20T10:33:55.640Z"
   },
   {
    "duration": 23,
    "start_time": "2023-01-20T10:34:26.864Z"
   },
   {
    "duration": 1079,
    "start_time": "2023-01-20T10:46:00.426Z"
   },
   {
    "duration": 1063,
    "start_time": "2023-01-20T10:46:01.507Z"
   },
   {
    "duration": 16,
    "start_time": "2023-01-20T10:46:02.571Z"
   },
   {
    "duration": 21,
    "start_time": "2023-01-20T10:46:02.590Z"
   },
   {
    "duration": 22,
    "start_time": "2023-01-20T10:46:02.613Z"
   },
   {
    "duration": 47,
    "start_time": "2023-01-20T10:46:02.637Z"
   },
   {
    "duration": 22,
    "start_time": "2023-01-20T10:46:02.686Z"
   },
   {
    "duration": 394,
    "start_time": "2023-01-20T10:46:02.710Z"
   },
   {
    "duration": 34,
    "start_time": "2023-01-20T10:46:18.407Z"
   },
   {
    "duration": 155,
    "start_time": "2023-01-20T10:50:16.238Z"
   },
   {
    "duration": 137,
    "start_time": "2023-01-20T10:52:22.495Z"
   },
   {
    "duration": 167,
    "start_time": "2023-01-20T10:53:27.986Z"
   },
   {
    "duration": 3189,
    "start_time": "2023-01-20T10:53:47.054Z"
   },
   {
    "duration": 168,
    "start_time": "2023-01-20T10:54:17.252Z"
   },
   {
    "duration": 187,
    "start_time": "2023-01-20T10:55:37.470Z"
   },
   {
    "duration": 3173,
    "start_time": "2023-01-20T10:56:09.469Z"
   },
   {
    "duration": 3451,
    "start_time": "2023-01-20T10:56:21.645Z"
   },
   {
    "duration": 3435,
    "start_time": "2023-01-20T10:56:41.692Z"
   },
   {
    "duration": 3663,
    "start_time": "2023-01-20T10:57:39.645Z"
   },
   {
    "duration": 23,
    "start_time": "2023-01-20T10:57:55.699Z"
   },
   {
    "duration": 164,
    "start_time": "2023-01-20T10:58:20.465Z"
   },
   {
    "duration": 3136,
    "start_time": "2023-01-20T11:00:59.547Z"
   },
   {
    "duration": 24,
    "start_time": "2023-01-20T11:01:07.589Z"
   },
   {
    "duration": 27,
    "start_time": "2023-01-20T11:02:16.181Z"
   },
   {
    "duration": 354,
    "start_time": "2023-01-20T11:02:31.515Z"
   },
   {
    "duration": 548,
    "start_time": "2023-01-20T11:02:47.019Z"
   },
   {
    "duration": 816,
    "start_time": "2023-01-20T11:03:07.675Z"
   },
   {
    "duration": 24,
    "start_time": "2023-01-20T11:03:18.476Z"
   },
   {
    "duration": 343,
    "start_time": "2023-01-20T11:05:06.766Z"
   },
   {
    "duration": 129,
    "start_time": "2023-01-20T11:05:07.111Z"
   },
   {
    "duration": 25,
    "start_time": "2023-01-20T11:05:07.242Z"
   },
   {
    "duration": 149,
    "start_time": "2023-01-20T11:05:07.269Z"
   },
   {
    "duration": 137,
    "start_time": "2023-01-20T11:05:07.420Z"
   },
   {
    "duration": 158,
    "start_time": "2023-01-20T11:05:25.898Z"
   },
   {
    "duration": 179,
    "start_time": "2023-01-20T11:05:33.768Z"
   },
   {
    "duration": 162,
    "start_time": "2023-01-20T11:05:45.235Z"
   },
   {
    "duration": 136,
    "start_time": "2023-01-20T11:05:55.284Z"
   },
   {
    "duration": 12,
    "start_time": "2023-01-20T11:28:26.676Z"
   },
   {
    "duration": 213,
    "start_time": "2023-01-20T11:28:52.388Z"
   },
   {
    "duration": 362,
    "start_time": "2023-01-20T11:37:53.119Z"
   },
   {
    "duration": 50,
    "start_time": "2023-01-20T11:38:07.543Z"
   },
   {
    "duration": 16,
    "start_time": "2023-01-20T12:00:38.032Z"
   },
   {
    "duration": 9,
    "start_time": "2023-01-20T12:01:06.557Z"
   },
   {
    "duration": 8,
    "start_time": "2023-01-20T12:01:19.627Z"
   },
   {
    "duration": 13,
    "start_time": "2023-01-20T12:02:25.669Z"
   },
   {
    "duration": 12,
    "start_time": "2023-01-20T12:02:34.132Z"
   },
   {
    "duration": 41,
    "start_time": "2023-01-20T12:02:57.164Z"
   },
   {
    "duration": 7,
    "start_time": "2023-01-20T12:03:16.756Z"
   },
   {
    "duration": 10,
    "start_time": "2023-01-20T12:03:34.105Z"
   },
   {
    "duration": 7,
    "start_time": "2023-01-20T12:03:50.021Z"
   },
   {
    "duration": 11,
    "start_time": "2023-01-20T12:04:09.835Z"
   },
   {
    "duration": 8,
    "start_time": "2023-01-20T12:04:13.716Z"
   },
   {
    "duration": 7,
    "start_time": "2023-01-20T12:04:40.327Z"
   },
   {
    "duration": 7,
    "start_time": "2023-01-20T12:05:06.443Z"
   },
   {
    "duration": 13,
    "start_time": "2023-01-20T12:05:43.367Z"
   },
   {
    "duration": 29,
    "start_time": "2023-01-20T12:06:00.084Z"
   },
   {
    "duration": 10,
    "start_time": "2023-01-20T12:06:15.262Z"
   },
   {
    "duration": 6,
    "start_time": "2023-01-20T12:07:48.301Z"
   },
   {
    "duration": 62,
    "start_time": "2023-01-20T12:07:53.363Z"
   },
   {
    "duration": 55,
    "start_time": "2023-01-20T12:09:20.669Z"
   },
   {
    "duration": 57,
    "start_time": "2023-01-20T12:09:33.852Z"
   },
   {
    "duration": 23,
    "start_time": "2023-01-20T12:09:48.155Z"
   },
   {
    "duration": 29,
    "start_time": "2023-01-20T12:10:15.893Z"
   },
   {
    "duration": 31,
    "start_time": "2023-01-20T12:13:13.755Z"
   },
   {
    "duration": 29,
    "start_time": "2023-01-20T12:14:11.507Z"
   },
   {
    "duration": 27,
    "start_time": "2023-01-20T12:14:17.881Z"
   },
   {
    "duration": 13,
    "start_time": "2023-01-20T12:15:44.594Z"
   },
   {
    "duration": 31,
    "start_time": "2023-01-20T12:15:56.465Z"
   },
   {
    "duration": 13,
    "start_time": "2023-01-20T12:16:04.922Z"
   },
   {
    "duration": 309,
    "start_time": "2023-01-20T12:25:13.025Z"
   },
   {
    "duration": 128,
    "start_time": "2023-01-20T12:26:58.277Z"
   },
   {
    "duration": 3,
    "start_time": "2023-01-20T12:27:06.333Z"
   },
   {
    "duration": 1271,
    "start_time": "2023-01-20T12:27:06.338Z"
   },
   {
    "duration": 15,
    "start_time": "2023-01-20T12:27:07.612Z"
   },
   {
    "duration": 246,
    "start_time": "2023-01-20T12:27:07.629Z"
   },
   {
    "duration": 177,
    "start_time": "2023-01-20T12:27:07.880Z"
   },
   {
    "duration": 47,
    "start_time": "2023-01-20T12:27:08.059Z"
   },
   {
    "duration": 190,
    "start_time": "2023-01-20T12:27:08.110Z"
   },
   {
    "duration": 161,
    "start_time": "2023-01-20T12:27:08.302Z"
   },
   {
    "duration": 260,
    "start_time": "2023-01-20T12:27:08.465Z"
   },
   {
    "duration": 49,
    "start_time": "2023-01-20T12:27:08.727Z"
   },
   {
    "duration": 1363,
    "start_time": "2023-01-20T12:27:14.783Z"
   },
   {
    "duration": 1450,
    "start_time": "2023-01-20T12:27:24.892Z"
   },
   {
    "duration": 4,
    "start_time": "2023-01-20T12:28:11.387Z"
   },
   {
    "duration": 1133,
    "start_time": "2023-01-20T12:28:11.395Z"
   },
   {
    "duration": 13,
    "start_time": "2023-01-20T12:28:12.529Z"
   },
   {
    "duration": 208,
    "start_time": "2023-01-20T12:28:12.544Z"
   },
   {
    "duration": 174,
    "start_time": "2023-01-20T12:28:12.753Z"
   },
   {
    "duration": 21,
    "start_time": "2023-01-20T12:28:12.929Z"
   },
   {
    "duration": 190,
    "start_time": "2023-01-20T12:28:12.952Z"
   },
   {
    "duration": 180,
    "start_time": "2023-01-20T12:28:13.144Z"
   },
   {
    "duration": 265,
    "start_time": "2023-01-20T12:28:13.326Z"
   },
   {
    "duration": 1247,
    "start_time": "2023-01-20T12:28:13.594Z"
   },
   {
    "duration": 22,
    "start_time": "2023-01-20T12:32:24.824Z"
   },
   {
    "duration": 17,
    "start_time": "2023-01-20T12:33:11.391Z"
   },
   {
    "duration": 85,
    "start_time": "2023-01-20T12:33:46.600Z"
   },
   {
    "duration": 27,
    "start_time": "2023-01-20T12:33:49.063Z"
   },
   {
    "duration": 20,
    "start_time": "2023-01-20T12:34:55.029Z"
   },
   {
    "duration": 29,
    "start_time": "2023-01-20T12:35:06.464Z"
   },
   {
    "duration": 217,
    "start_time": "2023-01-20T12:35:31.363Z"
   },
   {
    "duration": 229,
    "start_time": "2023-01-20T12:36:52.522Z"
   },
   {
    "duration": 3,
    "start_time": "2023-01-20T12:36:57.969Z"
   },
   {
    "duration": 1012,
    "start_time": "2023-01-20T12:36:57.974Z"
   },
   {
    "duration": 12,
    "start_time": "2023-01-20T12:36:58.988Z"
   },
   {
    "duration": 197,
    "start_time": "2023-01-20T12:36:59.003Z"
   },
   {
    "duration": 139,
    "start_time": "2023-01-20T12:36:59.202Z"
   },
   {
    "duration": 20,
    "start_time": "2023-01-20T12:36:59.342Z"
   },
   {
    "duration": 158,
    "start_time": "2023-01-20T12:36:59.378Z"
   },
   {
    "duration": 145,
    "start_time": "2023-01-20T12:36:59.537Z"
   },
   {
    "duration": 239,
    "start_time": "2023-01-20T12:36:59.685Z"
   },
   {
    "duration": 1206,
    "start_time": "2023-01-20T12:36:59.926Z"
   },
   {
    "duration": 221,
    "start_time": "2023-01-20T12:37:01.134Z"
   },
   {
    "duration": 3,
    "start_time": "2023-01-20T12:38:23.349Z"
   },
   {
    "duration": 1052,
    "start_time": "2023-01-20T12:38:23.354Z"
   },
   {
    "duration": 11,
    "start_time": "2023-01-20T12:38:24.408Z"
   },
   {
    "duration": 183,
    "start_time": "2023-01-20T12:38:24.421Z"
   },
   {
    "duration": 141,
    "start_time": "2023-01-20T12:38:24.606Z"
   },
   {
    "duration": 34,
    "start_time": "2023-01-20T12:38:24.748Z"
   },
   {
    "duration": 203,
    "start_time": "2023-01-20T12:38:24.784Z"
   },
   {
    "duration": 167,
    "start_time": "2023-01-20T12:38:24.990Z"
   },
   {
    "duration": 223,
    "start_time": "2023-01-20T12:38:25.159Z"
   },
   {
    "duration": 1223,
    "start_time": "2023-01-20T12:38:25.384Z"
   },
   {
    "duration": 15,
    "start_time": "2023-01-20T12:38:26.609Z"
   },
   {
    "duration": 17,
    "start_time": "2023-01-20T12:38:41.939Z"
   },
   {
    "duration": 28,
    "start_time": "2023-01-20T12:38:56.361Z"
   },
   {
    "duration": 28,
    "start_time": "2023-01-20T12:39:40.521Z"
   },
   {
    "duration": 60,
    "start_time": "2023-01-20T12:39:54.977Z"
   },
   {
    "duration": 27,
    "start_time": "2023-01-20T12:40:24.094Z"
   },
   {
    "duration": 29,
    "start_time": "2023-01-20T12:40:32.952Z"
   },
   {
    "duration": 31,
    "start_time": "2023-01-20T12:40:40.793Z"
   },
   {
    "duration": 16,
    "start_time": "2023-01-20T12:40:54.049Z"
   },
   {
    "duration": 61,
    "start_time": "2023-01-20T12:41:23.256Z"
   },
   {
    "duration": 16,
    "start_time": "2023-01-20T12:41:34.877Z"
   },
   {
    "duration": 30,
    "start_time": "2023-01-20T12:42:00.845Z"
   },
   {
    "duration": 22,
    "start_time": "2023-01-20T12:42:19.558Z"
   },
   {
    "duration": 25,
    "start_time": "2023-01-20T12:42:36.326Z"
   },
   {
    "duration": 31,
    "start_time": "2023-01-20T12:42:48.349Z"
   },
   {
    "duration": 22,
    "start_time": "2023-01-20T12:59:32.957Z"
   },
   {
    "duration": 15,
    "start_time": "2023-01-20T13:00:08.402Z"
   },
   {
    "duration": 16,
    "start_time": "2023-01-20T13:02:36.001Z"
   },
   {
    "duration": 26,
    "start_time": "2023-01-20T13:02:42.724Z"
   },
   {
    "duration": 14,
    "start_time": "2023-01-20T13:03:50.303Z"
   },
   {
    "duration": 26,
    "start_time": "2023-01-20T13:03:58.133Z"
   },
   {
    "duration": 27,
    "start_time": "2023-01-20T13:04:11.957Z"
   },
   {
    "duration": 136,
    "start_time": "2023-01-20T13:09:55.893Z"
   },
   {
    "duration": 260,
    "start_time": "2023-01-20T13:10:29.223Z"
   },
   {
    "duration": 3,
    "start_time": "2023-01-20T13:10:56.156Z"
   },
   {
    "duration": 1038,
    "start_time": "2023-01-20T13:10:56.160Z"
   },
   {
    "duration": 12,
    "start_time": "2023-01-20T13:10:57.199Z"
   },
   {
    "duration": 171,
    "start_time": "2023-01-20T13:10:57.213Z"
   },
   {
    "duration": 161,
    "start_time": "2023-01-20T13:10:57.386Z"
   },
   {
    "duration": 30,
    "start_time": "2023-01-20T13:10:57.549Z"
   },
   {
    "duration": 394,
    "start_time": "2023-01-20T13:10:57.581Z"
   },
   {
    "duration": 144,
    "start_time": "2023-01-20T13:10:57.978Z"
   },
   {
    "duration": 217,
    "start_time": "2023-01-20T13:10:58.124Z"
   },
   {
    "duration": 1231,
    "start_time": "2023-01-20T13:10:58.343Z"
   },
   {
    "duration": 281,
    "start_time": "2023-01-20T13:10:59.576Z"
   },
   {
    "duration": 30,
    "start_time": "2023-01-20T13:14:38.256Z"
   },
   {
    "duration": 23,
    "start_time": "2023-01-20T13:14:54.328Z"
   },
   {
    "duration": 24,
    "start_time": "2023-01-20T13:15:14.576Z"
   },
   {
    "duration": 26,
    "start_time": "2023-01-20T13:15:51.073Z"
   },
   {
    "duration": 14,
    "start_time": "2023-01-20T13:16:13.073Z"
   },
   {
    "duration": 16,
    "start_time": "2023-01-20T13:17:55.678Z"
   },
   {
    "duration": 191,
    "start_time": "2023-01-20T13:19:16.875Z"
   },
   {
    "duration": 46,
    "start_time": "2023-01-20T13:21:44.056Z"
   },
   {
    "duration": 50,
    "start_time": "2023-01-20T13:21:50.401Z"
   },
   {
    "duration": 17,
    "start_time": "2023-01-20T13:22:05.213Z"
   },
   {
    "duration": 9,
    "start_time": "2023-01-20T13:23:11.737Z"
   },
   {
    "duration": 10,
    "start_time": "2023-01-20T13:23:17.231Z"
   },
   {
    "duration": 48,
    "start_time": "2023-01-20T13:27:39.155Z"
   },
   {
    "duration": 96,
    "start_time": "2023-01-20T13:27:47.153Z"
   },
   {
    "duration": 16,
    "start_time": "2023-01-20T13:28:11.626Z"
   },
   {
    "duration": 24,
    "start_time": "2023-01-20T13:28:44.751Z"
   },
   {
    "duration": 763,
    "start_time": "2023-01-20T13:28:56.651Z"
   },
   {
    "duration": 628,
    "start_time": "2023-01-20T13:29:06.378Z"
   },
   {
    "duration": 626,
    "start_time": "2023-01-20T13:29:45.616Z"
   },
   {
    "duration": 13,
    "start_time": "2023-01-20T13:30:13.201Z"
   },
   {
    "duration": 16,
    "start_time": "2023-01-20T13:30:19.783Z"
   },
   {
    "duration": 15,
    "start_time": "2023-01-20T13:30:26.294Z"
   },
   {
    "duration": 14,
    "start_time": "2023-01-20T13:30:32.943Z"
   },
   {
    "duration": 9,
    "start_time": "2023-01-20T13:31:39.437Z"
   },
   {
    "duration": 14,
    "start_time": "2023-01-20T13:31:43.895Z"
   },
   {
    "duration": 52,
    "start_time": "2023-01-20T13:32:06.604Z"
   },
   {
    "duration": 214,
    "start_time": "2023-01-20T13:32:15.103Z"
   },
   {
    "duration": 221,
    "start_time": "2023-01-20T13:35:08.321Z"
   },
   {
    "duration": 3,
    "start_time": "2023-01-20T13:35:28.216Z"
   },
   {
    "duration": 1066,
    "start_time": "2023-01-20T13:35:28.221Z"
   },
   {
    "duration": 14,
    "start_time": "2023-01-20T13:35:29.288Z"
   },
   {
    "duration": 193,
    "start_time": "2023-01-20T13:35:29.305Z"
   },
   {
    "duration": 150,
    "start_time": "2023-01-20T13:35:29.502Z"
   },
   {
    "duration": 28,
    "start_time": "2023-01-20T13:35:29.654Z"
   },
   {
    "duration": 178,
    "start_time": "2023-01-20T13:35:29.684Z"
   },
   {
    "duration": 149,
    "start_time": "2023-01-20T13:35:29.867Z"
   },
   {
    "duration": 233,
    "start_time": "2023-01-20T13:35:30.019Z"
   },
   {
    "duration": 1259,
    "start_time": "2023-01-20T13:35:30.254Z"
   },
   {
    "duration": 270,
    "start_time": "2023-01-20T13:35:31.515Z"
   },
   {
    "duration": 8,
    "start_time": "2023-01-20T13:35:31.786Z"
   },
   {
    "duration": 206,
    "start_time": "2023-01-20T13:35:31.795Z"
   },
   {
    "duration": 20,
    "start_time": "2023-01-20T13:35:32.002Z"
   },
   {
    "duration": 254,
    "start_time": "2023-01-20T13:35:32.023Z"
   },
   {
    "duration": 10,
    "start_time": "2023-01-20T13:36:22.840Z"
   },
   {
    "duration": 13,
    "start_time": "2023-01-20T13:36:36.075Z"
   },
   {
    "duration": 12,
    "start_time": "2023-01-20T13:36:46.886Z"
   },
   {
    "duration": 10,
    "start_time": "2023-01-20T13:36:59.254Z"
   },
   {
    "duration": 9,
    "start_time": "2023-01-20T13:37:02.543Z"
   },
   {
    "duration": 16,
    "start_time": "2023-01-20T13:37:10.399Z"
   },
   {
    "duration": 11,
    "start_time": "2023-01-20T13:37:43.174Z"
   },
   {
    "duration": 21,
    "start_time": "2023-01-20T13:37:53.686Z"
   },
   {
    "duration": 11,
    "start_time": "2023-01-20T13:38:00.703Z"
   },
   {
    "duration": 16,
    "start_time": "2023-01-20T13:38:05.615Z"
   },
   {
    "duration": 73,
    "start_time": "2023-01-20T13:38:20.183Z"
   },
   {
    "duration": 119,
    "start_time": "2023-01-20T13:38:33.071Z"
   },
   {
    "duration": 4,
    "start_time": "2023-01-20T13:39:08.568Z"
   },
   {
    "duration": 13,
    "start_time": "2023-01-20T13:39:29.550Z"
   },
   {
    "duration": 13,
    "start_time": "2023-01-20T13:39:33.471Z"
   },
   {
    "duration": 3,
    "start_time": "2023-01-20T13:40:04.344Z"
   },
   {
    "duration": 977,
    "start_time": "2023-01-20T13:40:04.349Z"
   },
   {
    "duration": 13,
    "start_time": "2023-01-20T13:40:05.328Z"
   },
   {
    "duration": 190,
    "start_time": "2023-01-20T13:40:05.343Z"
   },
   {
    "duration": 169,
    "start_time": "2023-01-20T13:40:05.535Z"
   },
   {
    "duration": 26,
    "start_time": "2023-01-20T13:40:05.706Z"
   },
   {
    "duration": 186,
    "start_time": "2023-01-20T13:40:05.734Z"
   },
   {
    "duration": 138,
    "start_time": "2023-01-20T13:40:05.921Z"
   },
   {
    "duration": 218,
    "start_time": "2023-01-20T13:40:06.060Z"
   },
   {
    "duration": 1248,
    "start_time": "2023-01-20T13:40:06.280Z"
   },
   {
    "duration": 254,
    "start_time": "2023-01-20T13:40:07.529Z"
   },
   {
    "duration": 7,
    "start_time": "2023-01-20T13:40:07.784Z"
   },
   {
    "duration": 199,
    "start_time": "2023-01-20T13:40:07.793Z"
   },
   {
    "duration": 75,
    "start_time": "2023-01-20T13:40:07.994Z"
   },
   {
    "duration": 245,
    "start_time": "2023-01-20T13:40:08.070Z"
   },
   {
    "duration": 5,
    "start_time": "2023-01-20T13:42:01.368Z"
   },
   {
    "duration": 15,
    "start_time": "2023-01-20T13:43:07.953Z"
   },
   {
    "duration": 1123,
    "start_time": "2023-01-20T13:45:01.501Z"
   },
   {
    "duration": 1083,
    "start_time": "2023-01-20T13:45:02.626Z"
   },
   {
    "duration": 14,
    "start_time": "2023-01-20T13:45:03.710Z"
   },
   {
    "duration": 443,
    "start_time": "2023-01-20T13:45:03.726Z"
   },
   {
    "duration": 162,
    "start_time": "2023-01-20T13:45:04.172Z"
   },
   {
    "duration": 23,
    "start_time": "2023-01-20T13:45:04.336Z"
   },
   {
    "duration": 178,
    "start_time": "2023-01-20T13:45:04.360Z"
   },
   {
    "duration": 152,
    "start_time": "2023-01-20T13:45:04.540Z"
   },
   {
    "duration": 239,
    "start_time": "2023-01-20T13:45:04.693Z"
   },
   {
    "duration": 1500,
    "start_time": "2023-01-20T13:45:04.934Z"
   },
   {
    "duration": 295,
    "start_time": "2023-01-20T13:45:06.436Z"
   },
   {
    "duration": 34,
    "start_time": "2023-01-20T13:45:06.733Z"
   },
   {
    "duration": 219,
    "start_time": "2023-01-20T13:45:06.769Z"
   },
   {
    "duration": 96,
    "start_time": "2023-01-20T13:45:06.991Z"
   },
   {
    "duration": 217,
    "start_time": "2023-01-20T13:45:07.088Z"
   },
   {
    "duration": 90,
    "start_time": "2023-01-20T13:45:18.549Z"
   },
   {
    "duration": 34,
    "start_time": "2023-01-20T13:50:07.916Z"
   },
   {
    "duration": 46,
    "start_time": "2023-01-20T13:50:24.798Z"
   },
   {
    "duration": 66,
    "start_time": "2023-01-20T13:55:56.016Z"
   },
   {
    "duration": 1170,
    "start_time": "2023-01-20T13:56:01.386Z"
   },
   {
    "duration": 4069,
    "start_time": "2023-01-20T13:56:02.558Z"
   },
   {
    "duration": 16,
    "start_time": "2023-01-20T13:56:06.629Z"
   },
   {
    "duration": 784,
    "start_time": "2023-01-20T13:56:06.647Z"
   },
   {
    "duration": 202,
    "start_time": "2023-01-20T13:56:07.434Z"
   },
   {
    "duration": 34,
    "start_time": "2023-01-20T13:56:07.638Z"
   },
   {
    "duration": 225,
    "start_time": "2023-01-20T13:56:07.675Z"
   },
   {
    "duration": 161,
    "start_time": "2023-01-20T13:56:07.901Z"
   },
   {
    "duration": 332,
    "start_time": "2023-01-20T13:56:08.067Z"
   },
   {
    "duration": 1488,
    "start_time": "2023-01-20T13:56:08.401Z"
   },
   {
    "duration": 325,
    "start_time": "2023-01-20T13:56:09.891Z"
   },
   {
    "duration": 19,
    "start_time": "2023-01-20T13:56:10.219Z"
   },
   {
    "duration": 254,
    "start_time": "2023-01-20T13:56:10.240Z"
   },
   {
    "duration": 99,
    "start_time": "2023-01-20T13:56:10.497Z"
   },
   {
    "duration": 251,
    "start_time": "2023-01-20T13:56:10.597Z"
   },
   {
    "duration": 6311,
    "start_time": "2023-01-20T13:56:10.851Z"
   },
   {
    "duration": 3279,
    "start_time": "2023-01-20T14:02:29.319Z"
   },
   {
    "duration": 5396,
    "start_time": "2023-01-20T14:02:45.442Z"
   },
   {
    "duration": 1133,
    "start_time": "2023-01-20T14:04:55.195Z"
   },
   {
    "duration": 1109,
    "start_time": "2023-01-20T14:04:56.330Z"
   },
   {
    "duration": 14,
    "start_time": "2023-01-20T14:04:57.440Z"
   },
   {
    "duration": 424,
    "start_time": "2023-01-20T14:04:57.468Z"
   },
   {
    "duration": 157,
    "start_time": "2023-01-20T14:04:57.893Z"
   },
   {
    "duration": 30,
    "start_time": "2023-01-20T14:04:58.052Z"
   },
   {
    "duration": 178,
    "start_time": "2023-01-20T14:04:58.084Z"
   },
   {
    "duration": 141,
    "start_time": "2023-01-20T14:04:58.264Z"
   },
   {
    "duration": 241,
    "start_time": "2023-01-20T14:04:58.407Z"
   },
   {
    "duration": 1332,
    "start_time": "2023-01-20T14:04:58.651Z"
   },
   {
    "duration": 300,
    "start_time": "2023-01-20T14:04:59.984Z"
   },
   {
    "duration": 14,
    "start_time": "2023-01-20T14:05:00.286Z"
   },
   {
    "duration": 236,
    "start_time": "2023-01-20T14:05:00.302Z"
   },
   {
    "duration": 97,
    "start_time": "2023-01-20T14:05:00.539Z"
   },
   {
    "duration": 245,
    "start_time": "2023-01-20T14:05:00.638Z"
   },
   {
    "duration": 5872,
    "start_time": "2023-01-20T14:05:00.885Z"
   },
   {
    "duration": 5662,
    "start_time": "2023-01-20T14:05:06.759Z"
   },
   {
    "duration": 3,
    "start_time": "2023-01-20T14:10:03.980Z"
   },
   {
    "duration": 1008,
    "start_time": "2023-01-20T14:10:03.985Z"
   },
   {
    "duration": 13,
    "start_time": "2023-01-20T14:10:04.995Z"
   },
   {
    "duration": 231,
    "start_time": "2023-01-20T14:10:05.011Z"
   },
   {
    "duration": 198,
    "start_time": "2023-01-20T14:10:05.244Z"
   },
   {
    "duration": 26,
    "start_time": "2023-01-20T14:10:05.444Z"
   },
   {
    "duration": 179,
    "start_time": "2023-01-20T14:10:05.471Z"
   },
   {
    "duration": 155,
    "start_time": "2023-01-20T14:10:05.652Z"
   },
   {
    "duration": 214,
    "start_time": "2023-01-20T14:10:05.809Z"
   },
   {
    "duration": 1199,
    "start_time": "2023-01-20T14:10:06.025Z"
   },
   {
    "duration": 263,
    "start_time": "2023-01-20T14:10:07.225Z"
   },
   {
    "duration": 16,
    "start_time": "2023-01-20T14:10:07.490Z"
   },
   {
    "duration": 211,
    "start_time": "2023-01-20T14:10:07.508Z"
   },
   {
    "duration": 81,
    "start_time": "2023-01-20T14:10:07.721Z"
   },
   {
    "duration": 236,
    "start_time": "2023-01-20T14:10:07.804Z"
   },
   {
    "duration": 5235,
    "start_time": "2023-01-20T14:10:08.042Z"
   },
   {
    "duration": 5478,
    "start_time": "2023-01-20T14:10:13.279Z"
   },
   {
    "duration": 33,
    "start_time": "2023-01-20T14:11:29.531Z"
   },
   {
    "duration": 104,
    "start_time": "2023-01-20T14:12:18.916Z"
   },
   {
    "duration": 5315,
    "start_time": "2023-01-20T14:12:20.979Z"
   },
   {
    "duration": 56,
    "start_time": "2023-01-20T14:12:56.444Z"
   },
   {
    "duration": 58,
    "start_time": "2023-01-20T14:13:01.188Z"
   },
   {
    "duration": 52,
    "start_time": "2023-01-20T14:13:11.459Z"
   },
   {
    "duration": 44,
    "start_time": "2023-01-20T14:13:19.347Z"
   },
   {
    "duration": 56,
    "start_time": "2023-01-20T14:13:23.568Z"
   },
   {
    "duration": 5149,
    "start_time": "2023-01-20T14:16:15.619Z"
   },
   {
    "duration": 1131,
    "start_time": "2023-01-20T14:16:54.751Z"
   },
   {
    "duration": 1104,
    "start_time": "2023-01-20T14:16:55.884Z"
   },
   {
    "duration": 13,
    "start_time": "2023-01-20T14:16:56.989Z"
   },
   {
    "duration": 415,
    "start_time": "2023-01-20T14:16:57.004Z"
   },
   {
    "duration": 138,
    "start_time": "2023-01-20T14:16:57.420Z"
   },
   {
    "duration": 26,
    "start_time": "2023-01-20T14:16:57.560Z"
   },
   {
    "duration": 175,
    "start_time": "2023-01-20T14:16:57.588Z"
   },
   {
    "duration": 139,
    "start_time": "2023-01-20T14:16:57.764Z"
   },
   {
    "duration": 230,
    "start_time": "2023-01-20T14:16:57.905Z"
   },
   {
    "duration": 1355,
    "start_time": "2023-01-20T14:16:58.137Z"
   },
   {
    "duration": 274,
    "start_time": "2023-01-20T14:16:59.494Z"
   },
   {
    "duration": 14,
    "start_time": "2023-01-20T14:16:59.770Z"
   },
   {
    "duration": 209,
    "start_time": "2023-01-20T14:16:59.786Z"
   },
   {
    "duration": 84,
    "start_time": "2023-01-20T14:16:59.996Z"
   },
   {
    "duration": 232,
    "start_time": "2023-01-20T14:17:00.081Z"
   },
   {
    "duration": 5569,
    "start_time": "2023-01-20T14:17:00.315Z"
   },
   {
    "duration": 5323,
    "start_time": "2023-01-20T14:17:05.886Z"
   },
   {
    "duration": 5057,
    "start_time": "2023-01-20T14:17:11.211Z"
   },
   {
    "duration": 5151,
    "start_time": "2023-01-20T14:17:16.270Z"
   },
   {
    "duration": 4,
    "start_time": "2023-01-20T14:18:18.822Z"
   },
   {
    "duration": 4,
    "start_time": "2023-01-20T14:18:24.387Z"
   },
   {
    "duration": 1174,
    "start_time": "2023-01-20T14:19:07.353Z"
   },
   {
    "duration": 1149,
    "start_time": "2023-01-20T14:19:08.529Z"
   },
   {
    "duration": 16,
    "start_time": "2023-01-20T14:19:09.680Z"
   },
   {
    "duration": 435,
    "start_time": "2023-01-20T14:19:09.697Z"
   },
   {
    "duration": 163,
    "start_time": "2023-01-20T14:19:10.134Z"
   },
   {
    "duration": 23,
    "start_time": "2023-01-20T14:19:10.298Z"
   },
   {
    "duration": 189,
    "start_time": "2023-01-20T14:19:10.324Z"
   },
   {
    "duration": 163,
    "start_time": "2023-01-20T14:19:10.515Z"
   },
   {
    "duration": 254,
    "start_time": "2023-01-20T14:19:10.680Z"
   },
   {
    "duration": 1461,
    "start_time": "2023-01-20T14:19:10.937Z"
   },
   {
    "duration": 311,
    "start_time": "2023-01-20T14:19:12.399Z"
   },
   {
    "duration": 15,
    "start_time": "2023-01-20T14:19:12.712Z"
   },
   {
    "duration": 230,
    "start_time": "2023-01-20T14:19:12.728Z"
   },
   {
    "duration": 86,
    "start_time": "2023-01-20T14:19:12.960Z"
   },
   {
    "duration": 256,
    "start_time": "2023-01-20T14:19:13.048Z"
   },
   {
    "duration": 5924,
    "start_time": "2023-01-20T14:19:13.305Z"
   },
   {
    "duration": 5622,
    "start_time": "2023-01-20T14:19:19.231Z"
   },
   {
    "duration": 5585,
    "start_time": "2023-01-20T14:19:24.855Z"
   },
   {
    "duration": 5864,
    "start_time": "2023-01-20T14:19:30.442Z"
   },
   {
    "duration": 3,
    "start_time": "2023-01-20T14:19:36.307Z"
   },
   {
    "duration": 3,
    "start_time": "2023-01-20T14:20:44.291Z"
   },
   {
    "duration": 3,
    "start_time": "2023-01-20T14:20:56.377Z"
   },
   {
    "duration": 8,
    "start_time": "2023-01-20T14:21:05.966Z"
   },
   {
    "duration": 4,
    "start_time": "2023-01-20T14:22:27.802Z"
   },
   {
    "duration": 118,
    "start_time": "2023-01-20T14:32:55.055Z"
   },
   {
    "duration": 8,
    "start_time": "2023-01-20T14:32:58.966Z"
   },
   {
    "duration": 1229,
    "start_time": "2023-01-23T11:56:45.597Z"
   },
   {
    "duration": 1565,
    "start_time": "2023-01-23T11:56:46.828Z"
   },
   {
    "duration": 15,
    "start_time": "2023-01-23T11:56:48.394Z"
   },
   {
    "duration": 701,
    "start_time": "2023-01-23T11:56:48.411Z"
   },
   {
    "duration": 206,
    "start_time": "2023-01-23T11:56:49.115Z"
   },
   {
    "duration": 31,
    "start_time": "2023-01-23T11:56:49.323Z"
   },
   {
    "duration": 191,
    "start_time": "2023-01-23T11:56:49.356Z"
   },
   {
    "duration": 174,
    "start_time": "2023-01-23T11:56:49.549Z"
   },
   {
    "duration": 297,
    "start_time": "2023-01-23T11:56:49.725Z"
   },
   {
    "duration": 1534,
    "start_time": "2023-01-23T11:56:50.025Z"
   },
   {
    "duration": 316,
    "start_time": "2023-01-23T11:56:51.561Z"
   },
   {
    "duration": 21,
    "start_time": "2023-01-23T11:56:51.878Z"
   },
   {
    "duration": 242,
    "start_time": "2023-01-23T11:56:51.901Z"
   },
   {
    "duration": 98,
    "start_time": "2023-01-23T11:56:52.145Z"
   },
   {
    "duration": 237,
    "start_time": "2023-01-23T11:56:52.245Z"
   },
   {
    "duration": 6024,
    "start_time": "2023-01-23T11:56:52.485Z"
   },
   {
    "duration": 6731,
    "start_time": "2023-01-23T11:56:58.511Z"
   },
   {
    "duration": 6585,
    "start_time": "2023-01-23T11:57:05.246Z"
   },
   {
    "duration": 7445,
    "start_time": "2023-01-23T11:57:11.834Z"
   },
   {
    "duration": 7,
    "start_time": "2023-01-23T11:57:19.284Z"
   },
   {
    "duration": 34,
    "start_time": "2023-01-23T11:57:19.294Z"
   },
   {
    "duration": 70,
    "start_time": "2023-01-23T12:01:31.061Z"
   },
   {
    "duration": 255,
    "start_time": "2023-01-23T12:10:09.463Z"
   },
   {
    "duration": 91,
    "start_time": "2023-01-23T12:10:34.858Z"
   },
   {
    "duration": 84,
    "start_time": "2023-01-23T12:10:53.256Z"
   },
   {
    "duration": 73,
    "start_time": "2023-01-23T12:11:13.045Z"
   },
   {
    "duration": 121,
    "start_time": "2023-01-23T12:20:17.759Z"
   },
   {
    "duration": 4,
    "start_time": "2023-01-23T12:20:31.001Z"
   },
   {
    "duration": 84,
    "start_time": "2023-01-23T12:20:34.482Z"
   },
   {
    "duration": 88,
    "start_time": "2023-01-23T12:20:36.917Z"
   },
   {
    "duration": 5,
    "start_time": "2023-01-23T12:23:12.535Z"
   },
   {
    "duration": 19690,
    "start_time": "2023-01-23T12:29:28.824Z"
   },
   {
    "duration": 6789,
    "start_time": "2023-01-23T12:30:24.866Z"
   },
   {
    "duration": 3,
    "start_time": "2023-01-23T12:35:33.190Z"
   },
   {
    "duration": 202,
    "start_time": "2023-01-23T12:41:00.100Z"
   },
   {
    "duration": 139,
    "start_time": "2023-01-23T12:41:10.163Z"
   },
   {
    "duration": 171,
    "start_time": "2023-01-23T12:41:25.632Z"
   },
   {
    "duration": 79,
    "start_time": "2023-01-23T12:43:49.562Z"
   },
   {
    "duration": 153,
    "start_time": "2023-01-23T12:43:58.816Z"
   },
   {
    "duration": 16,
    "start_time": "2023-01-23T12:52:16.952Z"
   },
   {
    "duration": 1327,
    "start_time": "2023-01-23T12:52:47.789Z"
   },
   {
    "duration": 1163,
    "start_time": "2023-01-23T12:52:49.119Z"
   },
   {
    "duration": 19,
    "start_time": "2023-01-23T12:52:50.284Z"
   },
   {
    "duration": 371,
    "start_time": "2023-01-23T12:52:50.306Z"
   },
   {
    "duration": 145,
    "start_time": "2023-01-23T12:52:50.679Z"
   },
   {
    "duration": 30,
    "start_time": "2023-01-23T12:52:50.826Z"
   },
   {
    "duration": 174,
    "start_time": "2023-01-23T12:52:50.857Z"
   },
   {
    "duration": 159,
    "start_time": "2023-01-23T12:52:51.039Z"
   },
   {
    "duration": 248,
    "start_time": "2023-01-23T12:52:51.199Z"
   },
   {
    "duration": 1474,
    "start_time": "2023-01-23T12:52:51.449Z"
   },
   {
    "duration": 372,
    "start_time": "2023-01-23T12:52:52.925Z"
   },
   {
    "duration": 17,
    "start_time": "2023-01-23T12:52:53.299Z"
   },
   {
    "duration": 226,
    "start_time": "2023-01-23T12:52:53.318Z"
   },
   {
    "duration": 79,
    "start_time": "2023-01-23T12:52:53.547Z"
   },
   {
    "duration": 230,
    "start_time": "2023-01-23T12:52:53.641Z"
   },
   {
    "duration": 5738,
    "start_time": "2023-01-23T12:52:53.873Z"
   },
   {
    "duration": 5518,
    "start_time": "2023-01-23T12:52:59.613Z"
   },
   {
    "duration": 5686,
    "start_time": "2023-01-23T12:53:05.133Z"
   },
   {
    "duration": 5721,
    "start_time": "2023-01-23T12:53:10.821Z"
   },
   {
    "duration": 6,
    "start_time": "2023-01-23T12:53:16.544Z"
   },
   {
    "duration": 60,
    "start_time": "2023-01-23T12:53:16.551Z"
   },
   {
    "duration": 197,
    "start_time": "2023-01-23T12:53:16.613Z"
   },
   {
    "duration": 336,
    "start_time": "2023-01-23T12:53:16.812Z"
   },
   {
    "duration": 18,
    "start_time": "2023-01-23T12:53:17.150Z"
   },
   {
    "duration": 47,
    "start_time": "2023-01-23T12:56:44.837Z"
   },
   {
    "duration": 1395,
    "start_time": "2023-01-23T12:56:58.217Z"
   },
   {
    "duration": 1081,
    "start_time": "2023-01-23T12:56:59.614Z"
   },
   {
    "duration": 15,
    "start_time": "2023-01-23T12:57:00.697Z"
   },
   {
    "duration": 355,
    "start_time": "2023-01-23T12:57:00.714Z"
   },
   {
    "duration": 159,
    "start_time": "2023-01-23T12:57:01.071Z"
   },
   {
    "duration": 29,
    "start_time": "2023-01-23T12:57:01.231Z"
   },
   {
    "duration": 236,
    "start_time": "2023-01-23T12:57:01.262Z"
   },
   {
    "duration": 155,
    "start_time": "2023-01-23T12:57:01.500Z"
   },
   {
    "duration": 295,
    "start_time": "2023-01-23T12:57:01.657Z"
   },
   {
    "duration": 1477,
    "start_time": "2023-01-23T12:57:01.954Z"
   },
   {
    "duration": 366,
    "start_time": "2023-01-23T12:57:03.440Z"
   },
   {
    "duration": 17,
    "start_time": "2023-01-23T12:57:03.808Z"
   },
   {
    "duration": 225,
    "start_time": "2023-01-23T12:57:03.841Z"
   },
   {
    "duration": 90,
    "start_time": "2023-01-23T12:57:04.069Z"
   },
   {
    "duration": 234,
    "start_time": "2023-01-23T12:57:04.162Z"
   },
   {
    "duration": 4,
    "start_time": "2023-01-23T12:57:04.398Z"
   },
   {
    "duration": 56,
    "start_time": "2023-01-23T12:57:04.403Z"
   },
   {
    "duration": 34,
    "start_time": "2023-01-23T12:57:04.461Z"
   },
   {
    "duration": 40,
    "start_time": "2023-01-23T12:57:04.497Z"
   },
   {
    "duration": 40,
    "start_time": "2023-01-23T12:57:04.539Z"
   },
   {
    "duration": 135,
    "start_time": "2023-01-23T12:57:04.581Z"
   },
   {
    "duration": 256,
    "start_time": "2023-01-23T12:57:04.718Z"
   },
   {
    "duration": 238,
    "start_time": "2023-01-23T12:57:04.976Z"
   },
   {
    "duration": 11,
    "start_time": "2023-01-23T12:57:05.215Z"
   },
   {
    "duration": 1212,
    "start_time": "2023-01-23T13:00:49.348Z"
   },
   {
    "duration": 49,
    "start_time": "2023-01-23T13:01:46.925Z"
   },
   {
    "duration": 942,
    "start_time": "2023-01-23T13:04:54.305Z"
   },
   {
    "duration": 970,
    "start_time": "2023-01-23T13:05:48.077Z"
   },
   {
    "duration": 998,
    "start_time": "2023-01-23T13:06:05.794Z"
   },
   {
    "duration": 965,
    "start_time": "2023-01-23T13:06:24.506Z"
   },
   {
    "duration": 934,
    "start_time": "2023-01-23T13:06:39.722Z"
   },
   {
    "duration": 209,
    "start_time": "2023-01-23T13:07:11.460Z"
   },
   {
    "duration": 285,
    "start_time": "2023-01-23T13:07:39.114Z"
   },
   {
    "duration": 986,
    "start_time": "2023-01-23T13:07:48.034Z"
   },
   {
    "duration": 191433,
    "start_time": "2023-01-23T13:08:05.748Z"
   },
   {
    "duration": 139,
    "start_time": "2023-01-23T13:54:07.545Z"
   },
   {
    "duration": 1447,
    "start_time": "2023-01-23T13:54:14.477Z"
   },
   {
    "duration": 4017,
    "start_time": "2023-01-23T13:54:15.928Z"
   },
   {
    "duration": 15,
    "start_time": "2023-01-23T13:54:19.949Z"
   },
   {
    "duration": 581,
    "start_time": "2023-01-23T13:54:19.966Z"
   },
   {
    "duration": 234,
    "start_time": "2023-01-23T13:54:20.549Z"
   },
   {
    "duration": 30,
    "start_time": "2023-01-23T13:54:20.785Z"
   },
   {
    "duration": 186,
    "start_time": "2023-01-23T13:54:20.817Z"
   },
   {
    "duration": 145,
    "start_time": "2023-01-23T13:54:21.004Z"
   },
   {
    "duration": 274,
    "start_time": "2023-01-23T13:54:21.151Z"
   },
   {
    "duration": 1456,
    "start_time": "2023-01-23T13:54:21.428Z"
   },
   {
    "duration": 438,
    "start_time": "2023-01-23T13:54:22.886Z"
   },
   {
    "duration": 28,
    "start_time": "2023-01-23T13:54:23.326Z"
   },
   {
    "duration": 321,
    "start_time": "2023-01-23T13:54:23.356Z"
   },
   {
    "duration": 141,
    "start_time": "2023-01-23T13:54:23.680Z"
   },
   {
    "duration": 354,
    "start_time": "2023-01-23T13:54:23.823Z"
   },
   {
    "duration": 7,
    "start_time": "2023-01-23T13:54:24.179Z"
   },
   {
    "duration": 21,
    "start_time": "2023-01-23T13:54:24.189Z"
   },
   {
    "duration": 31,
    "start_time": "2023-01-23T13:54:24.212Z"
   },
   {
    "duration": 37,
    "start_time": "2023-01-23T13:54:24.245Z"
   },
   {
    "duration": 24,
    "start_time": "2023-01-23T13:54:24.284Z"
   },
   {
    "duration": 1033,
    "start_time": "2023-01-23T13:54:24.309Z"
   },
   {
    "duration": 1850,
    "start_time": "2023-01-23T13:54:25.344Z"
   },
   {
    "duration": 586786,
    "start_time": "2023-01-23T13:54:27.248Z"
   },
   {
    "duration": 3,
    "start_time": "2023-01-23T14:04:14.037Z"
   },
   {
    "duration": 4,
    "start_time": "2023-01-23T14:05:13.920Z"
   },
   {
    "duration": 4,
    "start_time": "2023-01-23T14:05:32.241Z"
   },
   {
    "duration": 174,
    "start_time": "2023-01-23T14:05:37.622Z"
   },
   {
    "duration": 66,
    "start_time": "2023-01-23T14:05:54.867Z"
   },
   {
    "duration": 57,
    "start_time": "2023-01-23T14:07:38.467Z"
   },
   {
    "duration": 1371,
    "start_time": "2023-01-24T06:51:36.236Z"
   },
   {
    "duration": 3375,
    "start_time": "2023-01-24T06:51:37.609Z"
   },
   {
    "duration": 14,
    "start_time": "2023-01-24T06:51:40.985Z"
   },
   {
    "duration": 536,
    "start_time": "2023-01-24T06:51:41.001Z"
   },
   {
    "duration": 156,
    "start_time": "2023-01-24T06:51:41.539Z"
   },
   {
    "duration": 33,
    "start_time": "2023-01-24T06:51:41.696Z"
   },
   {
    "duration": 195,
    "start_time": "2023-01-24T06:51:41.730Z"
   },
   {
    "duration": 248,
    "start_time": "2023-01-24T06:51:41.927Z"
   },
   {
    "duration": 268,
    "start_time": "2023-01-24T06:51:42.176Z"
   },
   {
    "duration": 1424,
    "start_time": "2023-01-24T06:51:42.446Z"
   },
   {
    "duration": 304,
    "start_time": "2023-01-24T06:51:43.872Z"
   },
   {
    "duration": 18,
    "start_time": "2023-01-24T06:51:44.177Z"
   },
   {
    "duration": 289,
    "start_time": "2023-01-24T06:51:44.196Z"
   },
   {
    "duration": 151,
    "start_time": "2023-01-24T06:51:44.487Z"
   },
   {
    "duration": 244,
    "start_time": "2023-01-24T06:51:44.641Z"
   },
   {
    "duration": 4,
    "start_time": "2023-01-24T06:51:44.887Z"
   },
   {
    "duration": 22,
    "start_time": "2023-01-24T06:51:44.893Z"
   },
   {
    "duration": 15,
    "start_time": "2023-01-24T06:51:44.923Z"
   },
   {
    "duration": 6,
    "start_time": "2023-01-24T06:51:44.940Z"
   },
   {
    "duration": 6,
    "start_time": "2023-01-24T06:51:44.947Z"
   },
   {
    "duration": 1137,
    "start_time": "2023-01-24T06:51:44.955Z"
   },
   {
    "duration": 965,
    "start_time": "2023-01-24T06:51:46.095Z"
   },
   {
    "duration": 558168,
    "start_time": "2023-01-24T06:51:47.062Z"
   },
   {
    "duration": 141,
    "start_time": "2023-01-24T07:01:05.232Z"
   },
   {
    "duration": 1,
    "start_time": "2023-01-24T07:01:05.374Z"
   },
   {
    "duration": 0,
    "start_time": "2023-01-24T07:01:05.376Z"
   },
   {
    "duration": 11,
    "start_time": "2023-01-24T07:05:37.404Z"
   },
   {
    "duration": 10,
    "start_time": "2023-01-24T07:06:11.782Z"
   },
   {
    "duration": 4,
    "start_time": "2023-01-24T07:06:58.829Z"
   },
   {
    "duration": 5,
    "start_time": "2023-01-24T07:13:26.378Z"
   },
   {
    "duration": 35309,
    "start_time": "2023-01-24T07:13:26.385Z"
   },
   {
    "duration": 5,
    "start_time": "2023-01-24T07:14:04.924Z"
   },
   {
    "duration": 4,
    "start_time": "2023-01-24T09:30:07.058Z"
   },
   {
    "duration": 499,
    "start_time": "2023-01-24T09:30:07.064Z"
   },
   {
    "duration": 4,
    "start_time": "2023-01-24T10:00:19.744Z"
   },
   {
    "duration": 1525,
    "start_time": "2023-01-24T10:49:16.355Z"
   },
   {
    "duration": 1602,
    "start_time": "2023-01-24T10:49:17.882Z"
   },
   {
    "duration": 18,
    "start_time": "2023-01-24T10:49:19.486Z"
   },
   {
    "duration": 663,
    "start_time": "2023-01-24T10:49:19.506Z"
   },
   {
    "duration": 154,
    "start_time": "2023-01-24T10:49:20.172Z"
   },
   {
    "duration": 32,
    "start_time": "2023-01-24T10:49:20.328Z"
   },
   {
    "duration": 263,
    "start_time": "2023-01-24T10:49:20.362Z"
   },
   {
    "duration": 315,
    "start_time": "2023-01-24T10:49:20.627Z"
   },
   {
    "duration": 313,
    "start_time": "2023-01-24T10:49:20.947Z"
   },
   {
    "duration": 1710,
    "start_time": "2023-01-24T10:49:21.264Z"
   },
   {
    "duration": 324,
    "start_time": "2023-01-24T10:49:22.976Z"
   },
   {
    "duration": 31,
    "start_time": "2023-01-24T10:49:23.303Z"
   },
   {
    "duration": 221,
    "start_time": "2023-01-24T10:49:23.335Z"
   },
   {
    "duration": 126,
    "start_time": "2023-01-24T10:49:23.559Z"
   },
   {
    "duration": 296,
    "start_time": "2023-01-24T10:49:23.687Z"
   },
   {
    "duration": 3,
    "start_time": "2023-01-24T10:49:23.985Z"
   },
   {
    "duration": 9,
    "start_time": "2023-01-24T10:49:23.990Z"
   },
   {
    "duration": 11,
    "start_time": "2023-01-24T10:49:24.001Z"
   },
   {
    "duration": 6,
    "start_time": "2023-01-24T10:49:24.014Z"
   },
   {
    "duration": 36,
    "start_time": "2023-01-24T10:49:24.028Z"
   },
   {
    "duration": 1119,
    "start_time": "2023-01-24T10:49:24.066Z"
   },
   {
    "duration": 977,
    "start_time": "2023-01-24T10:49:25.187Z"
   },
   {
    "duration": 582265,
    "start_time": "2023-01-24T10:49:26.166Z"
   },
   {
    "duration": 8,
    "start_time": "2023-01-24T10:59:08.437Z"
   },
   {
    "duration": 30,
    "start_time": "2023-01-24T10:59:08.456Z"
   },
   {
    "duration": 17587,
    "start_time": "2023-01-24T10:59:08.488Z"
   },
   {
    "duration": 229,
    "start_time": "2023-01-24T10:59:26.077Z"
   },
   {
    "duration": 133,
    "start_time": "2023-01-24T10:59:47.857Z"
   },
   {
    "duration": 4,
    "start_time": "2023-01-24T11:01:25.897Z"
   },
   {
    "duration": 1314,
    "start_time": "2023-01-24T11:28:32.274Z"
   },
   {
    "duration": 1414,
    "start_time": "2023-01-24T11:28:33.590Z"
   },
   {
    "duration": 16,
    "start_time": "2023-01-24T11:28:35.006Z"
   },
   {
    "duration": 544,
    "start_time": "2023-01-24T11:28:35.024Z"
   },
   {
    "duration": 170,
    "start_time": "2023-01-24T11:28:35.570Z"
   },
   {
    "duration": 24,
    "start_time": "2023-01-24T11:28:35.742Z"
   },
   {
    "duration": 177,
    "start_time": "2023-01-24T11:28:35.768Z"
   },
   {
    "duration": 158,
    "start_time": "2023-01-24T11:28:35.947Z"
   },
   {
    "duration": 280,
    "start_time": "2023-01-24T11:28:36.107Z"
   },
   {
    "duration": 1490,
    "start_time": "2023-01-24T11:28:36.390Z"
   },
   {
    "duration": 386,
    "start_time": "2023-01-24T11:28:37.882Z"
   },
   {
    "duration": 15,
    "start_time": "2023-01-24T11:28:38.270Z"
   },
   {
    "duration": 217,
    "start_time": "2023-01-24T11:28:38.287Z"
   },
   {
    "duration": 87,
    "start_time": "2023-01-24T11:28:38.506Z"
   },
   {
    "duration": 244,
    "start_time": "2023-01-24T11:28:38.596Z"
   },
   {
    "duration": 4,
    "start_time": "2023-01-24T11:28:38.843Z"
   },
   {
    "duration": 11,
    "start_time": "2023-01-24T11:28:38.849Z"
   },
   {
    "duration": 15,
    "start_time": "2023-01-24T11:28:38.863Z"
   },
   {
    "duration": 9,
    "start_time": "2023-01-24T11:28:38.880Z"
   },
   {
    "duration": 13,
    "start_time": "2023-01-24T11:28:38.891Z"
   },
   {
    "duration": 1103,
    "start_time": "2023-01-24T11:28:38.906Z"
   },
   {
    "duration": 938,
    "start_time": "2023-01-24T11:28:40.012Z"
   },
   {
    "duration": 1386,
    "start_time": "2023-01-24T11:30:00.477Z"
   },
   {
    "duration": 1184,
    "start_time": "2023-01-24T11:30:01.869Z"
   },
   {
    "duration": 15,
    "start_time": "2023-01-24T11:30:03.054Z"
   },
   {
    "duration": 370,
    "start_time": "2023-01-24T11:30:03.072Z"
   },
   {
    "duration": 174,
    "start_time": "2023-01-24T11:30:03.444Z"
   },
   {
    "duration": 35,
    "start_time": "2023-01-24T11:30:03.620Z"
   },
   {
    "duration": 220,
    "start_time": "2023-01-24T11:30:03.657Z"
   },
   {
    "duration": 173,
    "start_time": "2023-01-24T11:30:03.879Z"
   },
   {
    "duration": 260,
    "start_time": "2023-01-24T11:30:04.054Z"
   },
   {
    "duration": 1505,
    "start_time": "2023-01-24T11:30:04.316Z"
   },
   {
    "duration": 382,
    "start_time": "2023-01-24T11:30:05.823Z"
   },
   {
    "duration": 15,
    "start_time": "2023-01-24T11:30:06.207Z"
   },
   {
    "duration": 244,
    "start_time": "2023-01-24T11:30:06.243Z"
   },
   {
    "duration": 114,
    "start_time": "2023-01-24T11:30:06.489Z"
   },
   {
    "duration": 243,
    "start_time": "2023-01-24T11:30:06.605Z"
   },
   {
    "duration": 3,
    "start_time": "2023-01-24T11:30:06.850Z"
   },
   {
    "duration": 35,
    "start_time": "2023-01-24T11:30:06.854Z"
   },
   {
    "duration": 30,
    "start_time": "2023-01-24T11:30:06.891Z"
   },
   {
    "duration": 19,
    "start_time": "2023-01-24T11:30:06.922Z"
   },
   {
    "duration": 22,
    "start_time": "2023-01-24T11:30:06.943Z"
   },
   {
    "duration": 974,
    "start_time": "2023-01-24T11:30:06.966Z"
   },
   {
    "duration": 1004,
    "start_time": "2023-01-24T11:30:07.942Z"
   },
   {
    "duration": 202308,
    "start_time": "2023-01-24T11:30:08.949Z"
   },
   {
    "duration": 3,
    "start_time": "2023-01-24T11:33:31.258Z"
   },
   {
    "duration": 770836,
    "start_time": "2023-01-24T11:33:31.263Z"
   },
   {
    "duration": 113062,
    "start_time": "2023-01-24T11:46:22.101Z"
   },
   {
    "duration": 200971,
    "start_time": "2023-01-24T11:48:15.165Z"
   },
   {
    "duration": 0,
    "start_time": "2023-01-24T11:51:36.139Z"
   },
   {
    "duration": 0,
    "start_time": "2023-01-24T11:51:36.140Z"
   },
   {
    "duration": 44798,
    "start_time": "2023-01-24T11:53:08.360Z"
   },
   {
    "duration": 67846,
    "start_time": "2023-01-24T11:54:06.418Z"
   },
   {
    "duration": 83812,
    "start_time": "2023-01-24T11:56:23.289Z"
   },
   {
    "duration": 107814,
    "start_time": "2023-01-24T11:59:23.551Z"
   },
   {
    "duration": 1420,
    "start_time": "2023-01-24T12:04:37.178Z"
   },
   {
    "duration": 1344,
    "start_time": "2023-01-24T12:04:38.601Z"
   },
   {
    "duration": 19,
    "start_time": "2023-01-24T12:04:39.947Z"
   },
   {
    "duration": 346,
    "start_time": "2023-01-24T12:04:39.969Z"
   },
   {
    "duration": 165,
    "start_time": "2023-01-24T12:04:40.317Z"
   },
   {
    "duration": 24,
    "start_time": "2023-01-24T12:04:40.484Z"
   },
   {
    "duration": 213,
    "start_time": "2023-01-24T12:04:40.510Z"
   },
   {
    "duration": 167,
    "start_time": "2023-01-24T12:04:40.725Z"
   },
   {
    "duration": 272,
    "start_time": "2023-01-24T12:04:40.894Z"
   },
   {
    "duration": 1644,
    "start_time": "2023-01-24T12:04:41.169Z"
   },
   {
    "duration": 398,
    "start_time": "2023-01-24T12:04:42.814Z"
   },
   {
    "duration": 41,
    "start_time": "2023-01-24T12:04:43.214Z"
   },
   {
    "duration": 223,
    "start_time": "2023-01-24T12:04:43.256Z"
   },
   {
    "duration": 96,
    "start_time": "2023-01-24T12:04:43.481Z"
   },
   {
    "duration": 257,
    "start_time": "2023-01-24T12:04:43.579Z"
   },
   {
    "duration": 16,
    "start_time": "2023-01-24T12:04:43.838Z"
   },
   {
    "duration": 6,
    "start_time": "2023-01-24T12:04:43.856Z"
   },
   {
    "duration": 10,
    "start_time": "2023-01-24T12:04:43.864Z"
   },
   {
    "duration": 6,
    "start_time": "2023-01-24T12:04:43.875Z"
   },
   {
    "duration": 7,
    "start_time": "2023-01-24T12:04:43.883Z"
   },
   {
    "duration": 1103,
    "start_time": "2023-01-24T12:04:43.892Z"
   },
   {
    "duration": 979,
    "start_time": "2023-01-24T12:04:44.997Z"
   },
   {
    "duration": 1388,
    "start_time": "2023-01-24T12:10:10.505Z"
   },
   {
    "duration": 1274,
    "start_time": "2023-01-24T12:10:11.895Z"
   },
   {
    "duration": 15,
    "start_time": "2023-01-24T12:10:13.171Z"
   },
   {
    "duration": 343,
    "start_time": "2023-01-24T12:10:13.187Z"
   },
   {
    "duration": 164,
    "start_time": "2023-01-24T12:10:13.534Z"
   },
   {
    "duration": 23,
    "start_time": "2023-01-24T12:10:13.700Z"
   },
   {
    "duration": 202,
    "start_time": "2023-01-24T12:10:13.725Z"
   },
   {
    "duration": 159,
    "start_time": "2023-01-24T12:10:13.929Z"
   },
   {
    "duration": 277,
    "start_time": "2023-01-24T12:10:14.091Z"
   },
   {
    "duration": 1621,
    "start_time": "2023-01-24T12:10:14.370Z"
   },
   {
    "duration": 426,
    "start_time": "2023-01-24T12:10:15.993Z"
   },
   {
    "duration": 33,
    "start_time": "2023-01-24T12:10:16.421Z"
   },
   {
    "duration": 260,
    "start_time": "2023-01-24T12:10:16.456Z"
   },
   {
    "duration": 101,
    "start_time": "2023-01-24T12:10:16.720Z"
   },
   {
    "duration": 253,
    "start_time": "2023-01-24T12:10:16.822Z"
   },
   {
    "duration": 2,
    "start_time": "2023-01-24T12:10:17.077Z"
   },
   {
    "duration": 13,
    "start_time": "2023-01-24T12:10:17.081Z"
   },
   {
    "duration": 6,
    "start_time": "2023-01-24T12:10:17.096Z"
   },
   {
    "duration": 9,
    "start_time": "2023-01-24T12:10:17.103Z"
   },
   {
    "duration": 13,
    "start_time": "2023-01-24T12:10:17.113Z"
   },
   {
    "duration": 1038,
    "start_time": "2023-01-24T12:10:17.128Z"
   },
   {
    "duration": 998,
    "start_time": "2023-01-24T12:10:18.169Z"
   },
   {
    "duration": 1420,
    "start_time": "2023-01-24T12:10:59.857Z"
   },
   {
    "duration": 1248,
    "start_time": "2023-01-24T12:11:01.279Z"
   },
   {
    "duration": 32,
    "start_time": "2023-01-24T12:11:02.529Z"
   },
   {
    "duration": 477,
    "start_time": "2023-01-24T12:11:02.563Z"
   },
   {
    "duration": 213,
    "start_time": "2023-01-24T12:11:03.047Z"
   },
   {
    "duration": 40,
    "start_time": "2023-01-24T12:11:03.262Z"
   },
   {
    "duration": 207,
    "start_time": "2023-01-24T12:11:03.304Z"
   },
   {
    "duration": 171,
    "start_time": "2023-01-24T12:11:03.513Z"
   },
   {
    "duration": 269,
    "start_time": "2023-01-24T12:11:03.686Z"
   },
   {
    "duration": 1695,
    "start_time": "2023-01-24T12:11:03.957Z"
   },
   {
    "duration": 410,
    "start_time": "2023-01-24T12:11:05.658Z"
   },
   {
    "duration": 16,
    "start_time": "2023-01-24T12:11:06.070Z"
   },
   {
    "duration": 319,
    "start_time": "2023-01-24T12:11:06.087Z"
   },
   {
    "duration": 110,
    "start_time": "2023-01-24T12:11:06.408Z"
   },
   {
    "duration": 304,
    "start_time": "2023-01-24T12:11:06.520Z"
   },
   {
    "duration": 3,
    "start_time": "2023-01-24T12:11:06.826Z"
   },
   {
    "duration": 25,
    "start_time": "2023-01-24T12:11:06.839Z"
   },
   {
    "duration": 5,
    "start_time": "2023-01-24T12:11:06.866Z"
   },
   {
    "duration": 9,
    "start_time": "2023-01-24T12:11:06.873Z"
   },
   {
    "duration": 10,
    "start_time": "2023-01-24T12:11:06.884Z"
   },
   {
    "duration": 1140,
    "start_time": "2023-01-24T12:11:06.895Z"
   },
   {
    "duration": 992,
    "start_time": "2023-01-24T12:11:08.040Z"
   },
   {
    "duration": 1346,
    "start_time": "2023-01-24T12:12:13.657Z"
   },
   {
    "duration": 1254,
    "start_time": "2023-01-24T12:12:15.005Z"
   },
   {
    "duration": 17,
    "start_time": "2023-01-24T12:12:16.261Z"
   },
   {
    "duration": 373,
    "start_time": "2023-01-24T12:12:16.280Z"
   },
   {
    "duration": 146,
    "start_time": "2023-01-24T12:12:16.655Z"
   },
   {
    "duration": 25,
    "start_time": "2023-01-24T12:12:16.802Z"
   },
   {
    "duration": 174,
    "start_time": "2023-01-24T12:12:16.849Z"
   },
   {
    "duration": 164,
    "start_time": "2023-01-24T12:12:17.025Z"
   },
   {
    "duration": 268,
    "start_time": "2023-01-24T12:12:17.190Z"
   },
   {
    "duration": 1602,
    "start_time": "2023-01-24T12:12:17.460Z"
   },
   {
    "duration": 443,
    "start_time": "2023-01-24T12:12:19.064Z"
   },
   {
    "duration": 15,
    "start_time": "2023-01-24T12:12:19.509Z"
   },
   {
    "duration": 242,
    "start_time": "2023-01-24T12:12:19.540Z"
   },
   {
    "duration": 92,
    "start_time": "2023-01-24T12:12:19.785Z"
   },
   {
    "duration": 248,
    "start_time": "2023-01-24T12:12:19.879Z"
   },
   {
    "duration": 3,
    "start_time": "2023-01-24T12:12:20.129Z"
   },
   {
    "duration": 73,
    "start_time": "2023-01-24T12:12:20.134Z"
   },
   {
    "duration": 52,
    "start_time": "2023-01-24T12:12:20.209Z"
   },
   {
    "duration": 26,
    "start_time": "2023-01-24T12:12:20.263Z"
   },
   {
    "duration": 14,
    "start_time": "2023-01-24T12:12:20.291Z"
   },
   {
    "duration": 1147,
    "start_time": "2023-01-24T12:12:20.307Z"
   },
   {
    "duration": 959,
    "start_time": "2023-01-24T12:12:21.456Z"
   },
   {
    "duration": 1461,
    "start_time": "2023-01-24T12:12:46.032Z"
   },
   {
    "duration": 1219,
    "start_time": "2023-01-24T12:12:47.495Z"
   },
   {
    "duration": 13,
    "start_time": "2023-01-24T12:12:48.715Z"
   },
   {
    "duration": 321,
    "start_time": "2023-01-24T12:12:48.745Z"
   },
   {
    "duration": 157,
    "start_time": "2023-01-24T12:12:49.068Z"
   },
   {
    "duration": 33,
    "start_time": "2023-01-24T12:12:49.227Z"
   },
   {
    "duration": 233,
    "start_time": "2023-01-24T12:12:49.262Z"
   },
   {
    "duration": 196,
    "start_time": "2023-01-24T12:12:49.497Z"
   },
   {
    "duration": 272,
    "start_time": "2023-01-24T12:12:49.694Z"
   },
   {
    "duration": 1565,
    "start_time": "2023-01-24T12:12:49.969Z"
   },
   {
    "duration": 399,
    "start_time": "2023-01-24T12:12:51.535Z"
   },
   {
    "duration": 19,
    "start_time": "2023-01-24T12:12:51.935Z"
   },
   {
    "duration": 230,
    "start_time": "2023-01-24T12:12:51.956Z"
   },
   {
    "duration": 97,
    "start_time": "2023-01-24T12:12:52.188Z"
   },
   {
    "duration": 249,
    "start_time": "2023-01-24T12:12:52.286Z"
   },
   {
    "duration": 11,
    "start_time": "2023-01-24T12:12:52.540Z"
   },
   {
    "duration": 14,
    "start_time": "2023-01-24T12:12:52.555Z"
   },
   {
    "duration": 26,
    "start_time": "2023-01-24T12:12:52.570Z"
   },
   {
    "duration": 13,
    "start_time": "2023-01-24T12:12:52.597Z"
   },
   {
    "duration": 12,
    "start_time": "2023-01-24T12:12:52.612Z"
   },
   {
    "duration": 1074,
    "start_time": "2023-01-24T12:12:52.626Z"
   },
   {
    "duration": 1026,
    "start_time": "2023-01-24T12:12:53.702Z"
   },
   {
    "duration": 1381,
    "start_time": "2023-01-24T12:13:42.718Z"
   },
   {
    "duration": 1212,
    "start_time": "2023-01-24T12:13:44.101Z"
   },
   {
    "duration": 28,
    "start_time": "2023-01-24T12:13:45.315Z"
   },
   {
    "duration": 371,
    "start_time": "2023-01-24T12:13:45.345Z"
   },
   {
    "duration": 167,
    "start_time": "2023-01-24T12:13:45.718Z"
   },
   {
    "duration": 25,
    "start_time": "2023-01-24T12:13:45.887Z"
   },
   {
    "duration": 189,
    "start_time": "2023-01-24T12:13:45.913Z"
   },
   {
    "duration": 174,
    "start_time": "2023-01-24T12:13:46.104Z"
   },
   {
    "duration": 277,
    "start_time": "2023-01-24T12:13:46.279Z"
   },
   {
    "duration": 1607,
    "start_time": "2023-01-24T12:13:46.559Z"
   },
   {
    "duration": 422,
    "start_time": "2023-01-24T12:13:48.168Z"
   },
   {
    "duration": 14,
    "start_time": "2023-01-24T12:13:48.592Z"
   },
   {
    "duration": 241,
    "start_time": "2023-01-24T12:13:48.607Z"
   },
   {
    "duration": 107,
    "start_time": "2023-01-24T12:13:48.856Z"
   },
   {
    "duration": 286,
    "start_time": "2023-01-24T12:13:48.965Z"
   },
   {
    "duration": 3,
    "start_time": "2023-01-24T12:13:49.254Z"
   },
   {
    "duration": 24,
    "start_time": "2023-01-24T12:13:49.258Z"
   },
   {
    "duration": 17,
    "start_time": "2023-01-24T12:13:49.285Z"
   },
   {
    "duration": 14,
    "start_time": "2023-01-24T12:13:49.304Z"
   },
   {
    "duration": 19,
    "start_time": "2023-01-24T12:13:49.320Z"
   },
   {
    "duration": 1104,
    "start_time": "2023-01-24T12:13:49.352Z"
   },
   {
    "duration": 981,
    "start_time": "2023-01-24T12:13:50.458Z"
   },
   {
    "duration": 1544,
    "start_time": "2023-01-24T12:14:07.422Z"
   },
   {
    "duration": 1327,
    "start_time": "2023-01-24T12:14:08.969Z"
   },
   {
    "duration": 23,
    "start_time": "2023-01-24T12:14:10.299Z"
   },
   {
    "duration": 368,
    "start_time": "2023-01-24T12:14:10.341Z"
   },
   {
    "duration": 177,
    "start_time": "2023-01-24T12:14:10.711Z"
   },
   {
    "duration": 24,
    "start_time": "2023-01-24T12:14:10.891Z"
   },
   {
    "duration": 196,
    "start_time": "2023-01-24T12:14:10.917Z"
   },
   {
    "duration": 175,
    "start_time": "2023-01-24T12:14:11.115Z"
   },
   {
    "duration": 274,
    "start_time": "2023-01-24T12:14:11.292Z"
   },
   {
    "duration": 1641,
    "start_time": "2023-01-24T12:14:11.570Z"
   },
   {
    "duration": 414,
    "start_time": "2023-01-24T12:14:13.212Z"
   },
   {
    "duration": 29,
    "start_time": "2023-01-24T12:14:13.628Z"
   },
   {
    "duration": 241,
    "start_time": "2023-01-24T12:14:13.659Z"
   },
   {
    "duration": 100,
    "start_time": "2023-01-24T12:14:13.902Z"
   },
   {
    "duration": 316,
    "start_time": "2023-01-24T12:14:14.004Z"
   },
   {
    "duration": 4,
    "start_time": "2023-01-24T12:14:14.323Z"
   },
   {
    "duration": 35,
    "start_time": "2023-01-24T12:14:14.328Z"
   },
   {
    "duration": 27,
    "start_time": "2023-01-24T12:14:14.365Z"
   },
   {
    "duration": 10,
    "start_time": "2023-01-24T12:14:14.394Z"
   },
   {
    "duration": 7,
    "start_time": "2023-01-24T12:14:14.406Z"
   },
   {
    "duration": 1155,
    "start_time": "2023-01-24T12:14:14.415Z"
   },
   {
    "duration": 744,
    "start_time": "2023-01-24T12:14:15.572Z"
   },
   {
    "duration": 459497,
    "start_time": "2023-01-24T12:14:16.318Z"
   },
   {
    "duration": 3,
    "start_time": "2023-01-24T12:21:55.817Z"
   },
   {
    "duration": 76350,
    "start_time": "2023-01-24T12:21:55.821Z"
   },
   {
    "duration": 187697,
    "start_time": "2023-01-24T12:23:12.174Z"
   },
   {
    "duration": 664781,
    "start_time": "2023-01-24T12:26:19.873Z"
   },
   {
    "duration": 2,
    "start_time": "2023-01-24T12:37:24.658Z"
   },
   {
    "duration": 4,
    "start_time": "2023-01-24T12:38:39.456Z"
   },
   {
    "duration": 1391,
    "start_time": "2023-01-24T12:42:51.890Z"
   },
   {
    "duration": 1318,
    "start_time": "2023-01-24T12:42:53.283Z"
   },
   {
    "duration": 16,
    "start_time": "2023-01-24T12:42:54.603Z"
   },
   {
    "duration": 390,
    "start_time": "2023-01-24T12:42:54.621Z"
   },
   {
    "duration": 193,
    "start_time": "2023-01-24T12:42:55.015Z"
   },
   {
    "duration": 53,
    "start_time": "2023-01-24T12:42:55.210Z"
   },
   {
    "duration": 211,
    "start_time": "2023-01-24T12:42:55.265Z"
   },
   {
    "duration": 169,
    "start_time": "2023-01-24T12:42:55.478Z"
   },
   {
    "duration": 274,
    "start_time": "2023-01-24T12:42:55.649Z"
   },
   {
    "duration": 1674,
    "start_time": "2023-01-24T12:42:55.926Z"
   },
   {
    "duration": 446,
    "start_time": "2023-01-24T12:42:57.603Z"
   },
   {
    "duration": 21,
    "start_time": "2023-01-24T12:42:58.051Z"
   },
   {
    "duration": 284,
    "start_time": "2023-01-24T12:42:58.074Z"
   },
   {
    "duration": 101,
    "start_time": "2023-01-24T12:42:58.360Z"
   },
   {
    "duration": 342,
    "start_time": "2023-01-24T12:42:58.463Z"
   },
   {
    "duration": 8,
    "start_time": "2023-01-24T12:42:58.807Z"
   },
   {
    "duration": 12,
    "start_time": "2023-01-24T12:42:58.817Z"
   },
   {
    "duration": 23,
    "start_time": "2023-01-24T12:42:58.832Z"
   },
   {
    "duration": 31,
    "start_time": "2023-01-24T12:42:58.856Z"
   },
   {
    "duration": 27,
    "start_time": "2023-01-24T12:42:58.889Z"
   },
   {
    "duration": 1276,
    "start_time": "2023-01-24T12:42:58.919Z"
   },
   {
    "duration": 761,
    "start_time": "2023-01-24T12:43:00.197Z"
   },
   {
    "duration": 459585,
    "start_time": "2023-01-24T12:43:00.960Z"
   },
   {
    "duration": 4,
    "start_time": "2023-01-24T12:50:40.548Z"
   },
   {
    "duration": 78604,
    "start_time": "2023-01-24T12:50:40.556Z"
   },
   {
    "duration": 234516,
    "start_time": "2023-01-24T12:51:59.163Z"
   },
   {
    "duration": 3395,
    "start_time": "2023-01-24T12:55:53.746Z"
   },
   {
    "duration": 19,
    "start_time": "2023-01-24T12:55:57.146Z"
   },
   {
    "duration": 1414,
    "start_time": "2023-01-24T13:31:17.377Z"
   },
   {
    "duration": 3411,
    "start_time": "2023-01-24T13:31:18.794Z"
   },
   {
    "duration": 16,
    "start_time": "2023-01-24T13:31:22.207Z"
   },
   {
    "duration": 581,
    "start_time": "2023-01-24T13:31:22.237Z"
   },
   {
    "duration": 160,
    "start_time": "2023-01-24T13:31:22.820Z"
   },
   {
    "duration": 21,
    "start_time": "2023-01-24T13:31:22.982Z"
   },
   {
    "duration": 191,
    "start_time": "2023-01-24T13:31:23.005Z"
   },
   {
    "duration": 256,
    "start_time": "2023-01-24T13:31:23.198Z"
   },
   {
    "duration": 240,
    "start_time": "2023-01-24T13:31:23.456Z"
   },
   {
    "duration": 1588,
    "start_time": "2023-01-24T13:31:23.697Z"
   },
   {
    "duration": 310,
    "start_time": "2023-01-24T13:31:25.287Z"
   },
   {
    "duration": 16,
    "start_time": "2023-01-24T13:31:25.599Z"
   },
   {
    "duration": 237,
    "start_time": "2023-01-24T13:31:25.616Z"
   },
   {
    "duration": 91,
    "start_time": "2023-01-24T13:31:25.857Z"
   },
   {
    "duration": 254,
    "start_time": "2023-01-24T13:31:25.951Z"
   },
   {
    "duration": 5,
    "start_time": "2023-01-24T13:31:26.207Z"
   },
   {
    "duration": 1219,
    "start_time": "2023-01-24T13:31:26.213Z"
   },
   {
    "duration": 775,
    "start_time": "2023-01-24T13:31:27.446Z"
   },
   {
    "duration": 485104,
    "start_time": "2023-01-24T13:31:28.223Z"
   },
   {
    "duration": 2073,
    "start_time": "2023-01-24T13:39:33.330Z"
   },
   {
    "duration": 2107,
    "start_time": "2023-01-24T13:40:46.512Z"
   },
   {
    "duration": 3,
    "start_time": "2023-01-24T13:40:51.352Z"
   },
   {
    "duration": 66484,
    "start_time": "2023-01-24T13:40:52.656Z"
   },
   {
    "duration": 443,
    "start_time": "2023-01-24T13:41:59.143Z"
   },
   {
    "duration": 6955,
    "start_time": "2023-01-24T13:41:59.588Z"
   },
   {
    "duration": 908,
    "start_time": "2023-01-24T13:42:06.545Z"
   },
   {
    "duration": 3396,
    "start_time": "2023-01-24T13:42:07.455Z"
   },
   {
    "duration": 13,
    "start_time": "2023-01-24T13:42:10.853Z"
   },
   {
    "duration": 13,
    "start_time": "2023-01-24T13:45:55.863Z"
   },
   {
    "duration": 117,
    "start_time": "2023-01-24T13:46:25.547Z"
   },
   {
    "duration": 13,
    "start_time": "2023-01-24T13:46:39.407Z"
   },
   {
    "duration": 12,
    "start_time": "2023-01-24T13:46:55.838Z"
   },
   {
    "duration": 1291,
    "start_time": "2023-01-24T14:10:55.765Z"
   },
   {
    "duration": 1097,
    "start_time": "2023-01-24T14:10:57.058Z"
   },
   {
    "duration": 16,
    "start_time": "2023-01-24T14:10:58.156Z"
   },
   {
    "duration": 383,
    "start_time": "2023-01-24T14:10:58.174Z"
   },
   {
    "duration": 153,
    "start_time": "2023-01-24T14:10:58.559Z"
   },
   {
    "duration": 25,
    "start_time": "2023-01-24T14:10:58.714Z"
   },
   {
    "duration": 172,
    "start_time": "2023-01-24T14:10:58.741Z"
   },
   {
    "duration": 147,
    "start_time": "2023-01-24T14:10:58.915Z"
   },
   {
    "duration": 228,
    "start_time": "2023-01-24T14:10:59.064Z"
   },
   {
    "duration": 1568,
    "start_time": "2023-01-24T14:10:59.295Z"
   },
   {
    "duration": 395,
    "start_time": "2023-01-24T14:11:00.865Z"
   },
   {
    "duration": 16,
    "start_time": "2023-01-24T14:11:01.262Z"
   },
   {
    "duration": 254,
    "start_time": "2023-01-24T14:11:01.279Z"
   },
   {
    "duration": 76,
    "start_time": "2023-01-24T14:11:01.534Z"
   },
   {
    "duration": 258,
    "start_time": "2023-01-24T14:11:01.612Z"
   },
   {
    "duration": 4,
    "start_time": "2023-01-24T14:11:01.872Z"
   },
   {
    "duration": 1162,
    "start_time": "2023-01-24T14:11:01.878Z"
   },
   {
    "duration": 728,
    "start_time": "2023-01-24T14:11:03.042Z"
   },
   {
    "duration": 459118,
    "start_time": "2023-01-24T14:11:03.772Z"
   },
   {
    "duration": 2044,
    "start_time": "2023-01-24T14:18:42.892Z"
   },
   {
    "duration": 3,
    "start_time": "2023-01-24T14:18:44.938Z"
   },
   {
    "duration": 66726,
    "start_time": "2023-01-24T14:18:44.943Z"
   },
   {
    "duration": 411,
    "start_time": "2023-01-24T14:19:51.671Z"
   },
   {
    "duration": 370165,
    "start_time": "2023-01-24T14:19:52.084Z"
   },
   {
    "duration": 985,
    "start_time": "2023-01-24T14:26:02.251Z"
   },
   {
    "duration": 3441,
    "start_time": "2023-01-24T14:26:03.239Z"
   },
   {
    "duration": 59,
    "start_time": "2023-01-24T14:26:06.682Z"
   },
   {
    "duration": 2589,
    "start_time": "2023-01-25T12:29:20.410Z"
   },
   {
    "duration": 3826,
    "start_time": "2023-01-25T12:29:23.001Z"
   },
   {
    "duration": 24,
    "start_time": "2023-01-25T12:29:26.829Z"
   },
   {
    "duration": 456,
    "start_time": "2023-01-25T12:29:26.857Z"
   },
   {
    "duration": 143,
    "start_time": "2023-01-25T12:29:27.315Z"
   },
   {
    "duration": 21,
    "start_time": "2023-01-25T12:29:27.460Z"
   },
   {
    "duration": 169,
    "start_time": "2023-01-25T12:29:27.483Z"
   },
   {
    "duration": 167,
    "start_time": "2023-01-25T12:29:27.654Z"
   },
   {
    "duration": 623,
    "start_time": "2023-01-25T12:29:27.823Z"
   },
   {
    "duration": 1432,
    "start_time": "2023-01-25T12:29:28.449Z"
   },
   {
    "duration": 561,
    "start_time": "2023-01-25T12:29:29.884Z"
   },
   {
    "duration": 22,
    "start_time": "2023-01-25T12:29:30.447Z"
   },
   {
    "duration": 494,
    "start_time": "2023-01-25T12:29:30.471Z"
   },
   {
    "duration": 21,
    "start_time": "2023-01-25T12:29:30.967Z"
   },
   {
    "duration": 263,
    "start_time": "2023-01-25T12:29:30.990Z"
   },
   {
    "duration": 5,
    "start_time": "2023-01-25T12:29:31.255Z"
   },
   {
    "duration": 694,
    "start_time": "2023-01-25T12:29:31.261Z"
   },
   {
    "duration": 1268,
    "start_time": "2023-01-25T12:29:31.957Z"
   },
   {
    "duration": 426747,
    "start_time": "2023-01-25T12:29:33.227Z"
   },
   {
    "duration": 1897,
    "start_time": "2023-01-25T12:36:39.976Z"
   },
   {
    "duration": 3,
    "start_time": "2023-01-25T12:36:41.875Z"
   },
   {
    "duration": 66660,
    "start_time": "2023-01-25T12:36:41.880Z"
   },
   {
    "duration": 411,
    "start_time": "2023-01-25T12:37:48.542Z"
   },
   {
    "duration": 136872,
    "start_time": "2023-01-25T12:37:48.956Z"
   },
   {
    "duration": 908,
    "start_time": "2023-01-25T12:40:05.830Z"
   },
   {
    "duration": 3092,
    "start_time": "2023-01-25T12:40:06.740Z"
   },
   {
    "duration": 11,
    "start_time": "2023-01-25T12:40:09.833Z"
   },
   {
    "duration": 82,
    "start_time": "2023-01-25T13:09:03.962Z"
   },
   {
    "duration": 70,
    "start_time": "2023-01-25T13:09:20.450Z"
   },
   {
    "duration": 80,
    "start_time": "2023-01-25T13:09:35.591Z"
   },
   {
    "duration": 1202,
    "start_time": "2023-01-25T13:12:30.151Z"
   },
   {
    "duration": 1126,
    "start_time": "2023-01-25T13:12:31.355Z"
   },
   {
    "duration": 12,
    "start_time": "2023-01-25T13:12:32.483Z"
   },
   {
    "duration": 431,
    "start_time": "2023-01-25T13:12:32.496Z"
   },
   {
    "duration": 150,
    "start_time": "2023-01-25T13:12:32.929Z"
   },
   {
    "duration": 21,
    "start_time": "2023-01-25T13:12:33.081Z"
   },
   {
    "duration": 154,
    "start_time": "2023-01-25T13:12:33.104Z"
   },
   {
    "duration": 202,
    "start_time": "2023-01-25T13:12:33.259Z"
   },
   {
    "duration": 196,
    "start_time": "2023-01-25T13:12:33.462Z"
   },
   {
    "duration": 1223,
    "start_time": "2023-01-25T13:12:33.660Z"
   },
   {
    "duration": 251,
    "start_time": "2023-01-25T13:12:34.885Z"
   },
   {
    "duration": 82,
    "start_time": "2023-01-25T13:12:35.137Z"
   },
   {
    "duration": 0,
    "start_time": "2023-01-25T13:12:35.221Z"
   },
   {
    "duration": 0,
    "start_time": "2023-01-25T13:12:35.222Z"
   },
   {
    "duration": 0,
    "start_time": "2023-01-25T13:12:35.223Z"
   },
   {
    "duration": 0,
    "start_time": "2023-01-25T13:12:35.225Z"
   },
   {
    "duration": 0,
    "start_time": "2023-01-25T13:12:35.226Z"
   },
   {
    "duration": 0,
    "start_time": "2023-01-25T13:12:35.227Z"
   },
   {
    "duration": 72,
    "start_time": "2023-01-25T13:13:47.844Z"
   },
   {
    "duration": 13,
    "start_time": "2023-01-25T13:14:31.392Z"
   },
   {
    "duration": 151,
    "start_time": "2023-01-25T13:14:34.843Z"
   },
   {
    "duration": 64,
    "start_time": "2023-01-25T13:14:59.311Z"
   },
   {
    "duration": 180,
    "start_time": "2023-01-25T13:15:37.885Z"
   },
   {
    "duration": 4,
    "start_time": "2023-01-25T13:17:22.169Z"
   },
   {
    "duration": 907,
    "start_time": "2023-01-25T13:17:22.174Z"
   },
   {
    "duration": 10,
    "start_time": "2023-01-25T13:17:23.086Z"
   },
   {
    "duration": 170,
    "start_time": "2023-01-25T13:17:23.098Z"
   },
   {
    "duration": 117,
    "start_time": "2023-01-25T13:17:23.270Z"
   },
   {
    "duration": 19,
    "start_time": "2023-01-25T13:17:23.388Z"
   },
   {
    "duration": 159,
    "start_time": "2023-01-25T13:17:23.408Z"
   },
   {
    "duration": 122,
    "start_time": "2023-01-25T13:17:23.568Z"
   },
   {
    "duration": 177,
    "start_time": "2023-01-25T13:17:23.692Z"
   },
   {
    "duration": 1138,
    "start_time": "2023-01-25T13:17:23.870Z"
   },
   {
    "duration": 246,
    "start_time": "2023-01-25T13:17:25.010Z"
   },
   {
    "duration": 14,
    "start_time": "2023-01-25T13:17:25.258Z"
   },
   {
    "duration": 178,
    "start_time": "2023-01-25T13:17:25.287Z"
   },
   {
    "duration": 63,
    "start_time": "2023-01-25T13:17:39.049Z"
   },
   {
    "duration": 204,
    "start_time": "2023-01-25T13:17:40.583Z"
   },
   {
    "duration": 4,
    "start_time": "2023-01-25T13:17:41.360Z"
   },
   {
    "duration": 3,
    "start_time": "2023-01-25T13:22:48.674Z"
   },
   {
    "duration": 880,
    "start_time": "2023-01-25T13:22:48.679Z"
   },
   {
    "duration": 11,
    "start_time": "2023-01-25T13:22:49.561Z"
   },
   {
    "duration": 178,
    "start_time": "2023-01-25T13:22:49.573Z"
   },
   {
    "duration": 121,
    "start_time": "2023-01-25T13:22:49.752Z"
   },
   {
    "duration": 27,
    "start_time": "2023-01-25T13:22:49.874Z"
   },
   {
    "duration": 144,
    "start_time": "2023-01-25T13:22:49.902Z"
   },
   {
    "duration": 139,
    "start_time": "2023-01-25T13:22:50.048Z"
   },
   {
    "duration": 215,
    "start_time": "2023-01-25T13:22:50.189Z"
   },
   {
    "duration": 1193,
    "start_time": "2023-01-25T13:22:50.406Z"
   },
   {
    "duration": 235,
    "start_time": "2023-01-25T13:22:51.601Z"
   },
   {
    "duration": 13,
    "start_time": "2023-01-25T13:22:51.837Z"
   },
   {
    "duration": 241,
    "start_time": "2023-01-25T13:22:51.851Z"
   },
   {
    "duration": 2,
    "start_time": "2023-01-25T13:22:52.094Z"
   },
   {
    "duration": 195,
    "start_time": "2023-01-25T13:22:52.098Z"
   },
   {
    "duration": 197,
    "start_time": "2023-01-25T13:22:52.295Z"
   },
   {
    "duration": 4,
    "start_time": "2023-01-25T13:22:52.493Z"
   },
   {
    "duration": 3,
    "start_time": "2023-01-25T13:23:44.522Z"
   },
   {
    "duration": 913,
    "start_time": "2023-01-25T13:23:44.535Z"
   },
   {
    "duration": 11,
    "start_time": "2023-01-25T13:23:45.450Z"
   },
   {
    "duration": 185,
    "start_time": "2023-01-25T13:23:45.462Z"
   },
   {
    "duration": 153,
    "start_time": "2023-01-25T13:23:45.649Z"
   },
   {
    "duration": 18,
    "start_time": "2023-01-25T13:23:45.804Z"
   },
   {
    "duration": 146,
    "start_time": "2023-01-25T13:23:45.824Z"
   },
   {
    "duration": 128,
    "start_time": "2023-01-25T13:23:45.972Z"
   },
   {
    "duration": 164,
    "start_time": "2023-01-25T13:23:46.102Z"
   },
   {
    "duration": 1125,
    "start_time": "2023-01-25T13:23:46.268Z"
   },
   {
    "duration": 236,
    "start_time": "2023-01-25T13:23:47.394Z"
   },
   {
    "duration": 12,
    "start_time": "2023-01-25T13:23:47.632Z"
   },
   {
    "duration": 171,
    "start_time": "2023-01-25T13:23:47.645Z"
   },
   {
    "duration": 70,
    "start_time": "2023-01-25T13:23:47.818Z"
   },
   {
    "duration": 3,
    "start_time": "2023-01-25T13:23:47.890Z"
   },
   {
    "duration": 228,
    "start_time": "2023-01-25T13:23:47.894Z"
   },
   {
    "duration": 4,
    "start_time": "2023-01-25T13:23:48.124Z"
   },
   {
    "duration": 116,
    "start_time": "2023-01-25T13:34:51.918Z"
   },
   {
    "duration": 2,
    "start_time": "2023-01-25T13:36:38.875Z"
   },
   {
    "duration": 4,
    "start_time": "2023-01-25T13:50:02.453Z"
   },
   {
    "duration": 102,
    "start_time": "2023-01-25T14:01:13.050Z"
   },
   {
    "duration": 100,
    "start_time": "2023-01-25T14:01:26.480Z"
   },
   {
    "duration": 207,
    "start_time": "2023-01-25T14:01:31.783Z"
   },
   {
    "duration": 4,
    "start_time": "2023-01-25T14:01:40.343Z"
   },
   {
    "duration": 885,
    "start_time": "2023-01-25T14:01:40.348Z"
   },
   {
    "duration": 11,
    "start_time": "2023-01-25T14:01:41.234Z"
   },
   {
    "duration": 165,
    "start_time": "2023-01-25T14:01:41.247Z"
   },
   {
    "duration": 131,
    "start_time": "2023-01-25T14:01:41.414Z"
   },
   {
    "duration": 20,
    "start_time": "2023-01-25T14:01:41.547Z"
   },
   {
    "duration": 155,
    "start_time": "2023-01-25T14:01:41.569Z"
   },
   {
    "duration": 122,
    "start_time": "2023-01-25T14:01:41.726Z"
   },
   {
    "duration": 184,
    "start_time": "2023-01-25T14:01:41.850Z"
   },
   {
    "duration": 1097,
    "start_time": "2023-01-25T14:01:42.036Z"
   },
   {
    "duration": 227,
    "start_time": "2023-01-25T14:01:43.135Z"
   },
   {
    "duration": 12,
    "start_time": "2023-01-25T14:01:43.364Z"
   },
   {
    "duration": 170,
    "start_time": "2023-01-25T14:01:43.377Z"
   },
   {
    "duration": 68,
    "start_time": "2023-01-25T14:01:43.550Z"
   },
   {
    "duration": 3,
    "start_time": "2023-01-25T14:01:43.619Z"
   },
   {
    "duration": 226,
    "start_time": "2023-01-25T14:01:43.623Z"
   },
   {
    "duration": 4,
    "start_time": "2023-01-25T14:01:43.851Z"
   },
   {
    "duration": 143,
    "start_time": "2023-01-25T14:01:43.856Z"
   },
   {
    "duration": 113,
    "start_time": "2023-01-25T14:01:44.001Z"
   },
   {
    "duration": 19,
    "start_time": "2023-01-25T14:01:44.116Z"
   },
   {
    "duration": 7007,
    "start_time": "2023-01-25T14:02:07.339Z"
   },
   {
    "duration": 504,
    "start_time": "2023-01-25T14:02:59.828Z"
   },
   {
    "duration": 4,
    "start_time": "2023-01-25T14:04:43.961Z"
   },
   {
    "duration": 896,
    "start_time": "2023-01-25T14:04:43.967Z"
   },
   {
    "duration": 12,
    "start_time": "2023-01-25T14:04:44.864Z"
   },
   {
    "duration": 155,
    "start_time": "2023-01-25T14:04:44.886Z"
   },
   {
    "duration": 137,
    "start_time": "2023-01-25T14:04:45.043Z"
   },
   {
    "duration": 22,
    "start_time": "2023-01-25T14:04:45.185Z"
   },
   {
    "duration": 161,
    "start_time": "2023-01-25T14:04:45.209Z"
   },
   {
    "duration": 130,
    "start_time": "2023-01-25T14:04:45.372Z"
   },
   {
    "duration": 163,
    "start_time": "2023-01-25T14:04:45.505Z"
   },
   {
    "duration": 1127,
    "start_time": "2023-01-25T14:04:45.670Z"
   },
   {
    "duration": 231,
    "start_time": "2023-01-25T14:04:46.798Z"
   },
   {
    "duration": 13,
    "start_time": "2023-01-25T14:04:47.031Z"
   },
   {
    "duration": 171,
    "start_time": "2023-01-25T14:04:47.045Z"
   },
   {
    "duration": 80,
    "start_time": "2023-01-25T14:04:47.218Z"
   },
   {
    "duration": 2,
    "start_time": "2023-01-25T14:04:47.300Z"
   },
   {
    "duration": 212,
    "start_time": "2023-01-25T14:04:47.304Z"
   },
   {
    "duration": 3,
    "start_time": "2023-01-25T14:04:47.518Z"
   },
   {
    "duration": 115,
    "start_time": "2023-01-25T14:04:47.523Z"
   },
   {
    "duration": 104,
    "start_time": "2023-01-25T14:04:47.640Z"
   },
   {
    "duration": 485,
    "start_time": "2023-01-25T14:04:47.746Z"
   },
   {
    "duration": 131,
    "start_time": "2023-01-25T14:06:08.569Z"
   },
   {
    "duration": 1306,
    "start_time": "2023-01-25T15:03:18.858Z"
   },
   {
    "duration": 1479,
    "start_time": "2023-01-25T15:03:20.166Z"
   },
   {
    "duration": 19,
    "start_time": "2023-01-25T15:03:21.646Z"
   },
   {
    "duration": 508,
    "start_time": "2023-01-25T15:03:21.667Z"
   },
   {
    "duration": 191,
    "start_time": "2023-01-25T15:03:22.177Z"
   },
   {
    "duration": 23,
    "start_time": "2023-01-25T15:03:22.370Z"
   },
   {
    "duration": 202,
    "start_time": "2023-01-25T15:03:22.395Z"
   },
   {
    "duration": 231,
    "start_time": "2023-01-25T15:03:22.599Z"
   },
   {
    "duration": 223,
    "start_time": "2023-01-25T15:03:22.831Z"
   },
   {
    "duration": 1494,
    "start_time": "2023-01-25T15:03:23.056Z"
   },
   {
    "duration": 283,
    "start_time": "2023-01-25T15:03:24.552Z"
   },
   {
    "duration": 16,
    "start_time": "2023-01-25T15:03:24.836Z"
   },
   {
    "duration": 241,
    "start_time": "2023-01-25T15:03:24.854Z"
   },
   {
    "duration": 96,
    "start_time": "2023-01-25T15:03:25.097Z"
   },
   {
    "duration": 3,
    "start_time": "2023-01-25T15:03:25.195Z"
   },
   {
    "duration": 358,
    "start_time": "2023-01-25T15:03:25.200Z"
   },
   {
    "duration": 5,
    "start_time": "2023-01-25T15:03:25.560Z"
   },
   {
    "duration": 192,
    "start_time": "2023-01-25T15:03:25.567Z"
   },
   {
    "duration": 171,
    "start_time": "2023-01-25T15:03:25.761Z"
   },
   {
    "duration": 1345,
    "start_time": "2023-01-25T15:03:25.934Z"
   },
   {
    "duration": 1425,
    "start_time": "2023-01-25T15:03:52.766Z"
   },
   {
    "duration": 1210,
    "start_time": "2023-01-25T15:04:53.502Z"
   },
   {
    "duration": 13,
    "start_time": "2023-01-25T15:06:17.855Z"
   },
   {
    "duration": 24,
    "start_time": "2023-01-25T15:06:26.140Z"
   },
   {
    "duration": 28,
    "start_time": "2023-01-25T15:06:43.414Z"
   },
   {
    "duration": 597,
    "start_time": "2023-01-25T15:06:55.131Z"
   },
   {
    "duration": 548,
    "start_time": "2023-01-25T15:07:07.534Z"
   },
   {
    "duration": 564,
    "start_time": "2023-01-25T15:07:23.757Z"
   },
   {
    "duration": 123,
    "start_time": "2023-01-25T15:07:25.850Z"
   },
   {
    "duration": 25,
    "start_time": "2023-01-25T15:13:11.507Z"
   },
   {
    "duration": 628,
    "start_time": "2023-01-25T15:13:39.387Z"
   },
   {
    "duration": 9996,
    "start_time": "2023-01-25T15:13:44.388Z"
   },
   {
    "duration": 1320,
    "start_time": "2023-01-25T18:47:44.658Z"
   },
   {
    "duration": 2928,
    "start_time": "2023-01-25T18:47:45.980Z"
   },
   {
    "duration": 14,
    "start_time": "2023-01-25T18:47:48.910Z"
   },
   {
    "duration": 553,
    "start_time": "2023-01-25T18:47:48.926Z"
   },
   {
    "duration": 163,
    "start_time": "2023-01-25T18:47:49.482Z"
   },
   {
    "duration": 21,
    "start_time": "2023-01-25T18:47:49.647Z"
   },
   {
    "duration": 172,
    "start_time": "2023-01-25T18:47:49.669Z"
   },
   {
    "duration": 218,
    "start_time": "2023-01-25T18:47:49.843Z"
   },
   {
    "duration": 213,
    "start_time": "2023-01-25T18:47:50.063Z"
   },
   {
    "duration": 1391,
    "start_time": "2023-01-25T18:47:50.277Z"
   },
   {
    "duration": 272,
    "start_time": "2023-01-25T18:47:51.671Z"
   },
   {
    "duration": 15,
    "start_time": "2023-01-25T18:47:51.945Z"
   },
   {
    "duration": 200,
    "start_time": "2023-01-25T18:47:51.962Z"
   },
   {
    "duration": 85,
    "start_time": "2023-01-25T18:47:52.164Z"
   },
   {
    "duration": 2,
    "start_time": "2023-01-25T18:47:52.251Z"
   },
   {
    "duration": 224,
    "start_time": "2023-01-25T18:47:52.255Z"
   },
   {
    "duration": 10,
    "start_time": "2023-01-25T18:47:52.481Z"
   },
   {
    "duration": 149,
    "start_time": "2023-01-25T18:47:52.493Z"
   },
   {
    "duration": 149,
    "start_time": "2023-01-25T18:47:52.643Z"
   },
   {
    "duration": 8628,
    "start_time": "2023-01-25T18:47:52.793Z"
   },
   {
    "duration": 8071,
    "start_time": "2023-01-25T19:13:34.510Z"
   },
   {
    "duration": 8188,
    "start_time": "2023-01-25T19:14:09.612Z"
   },
   {
    "duration": 7954,
    "start_time": "2023-01-25T19:14:42.609Z"
   },
   {
    "duration": 4,
    "start_time": "2023-01-25T19:15:05.136Z"
   },
   {
    "duration": 1021,
    "start_time": "2023-01-25T19:15:05.142Z"
   },
   {
    "duration": 17,
    "start_time": "2023-01-25T19:15:06.165Z"
   },
   {
    "duration": 209,
    "start_time": "2023-01-25T19:15:06.192Z"
   },
   {
    "duration": 163,
    "start_time": "2023-01-25T19:15:06.404Z"
   },
   {
    "duration": 26,
    "start_time": "2023-01-25T19:15:06.569Z"
   },
   {
    "duration": 165,
    "start_time": "2023-01-25T19:15:06.597Z"
   },
   {
    "duration": 142,
    "start_time": "2023-01-25T19:15:06.763Z"
   },
   {
    "duration": 184,
    "start_time": "2023-01-25T19:15:06.906Z"
   },
   {
    "duration": 1127,
    "start_time": "2023-01-25T19:15:07.092Z"
   },
   {
    "duration": 238,
    "start_time": "2023-01-25T19:15:08.221Z"
   },
   {
    "duration": 33,
    "start_time": "2023-01-25T19:15:08.461Z"
   },
   {
    "duration": 168,
    "start_time": "2023-01-25T19:15:08.495Z"
   },
   {
    "duration": 78,
    "start_time": "2023-01-25T19:15:08.666Z"
   },
   {
    "duration": 2,
    "start_time": "2023-01-25T19:15:08.746Z"
   },
   {
    "duration": 225,
    "start_time": "2023-01-25T19:15:08.750Z"
   },
   {
    "duration": 4,
    "start_time": "2023-01-25T19:15:08.977Z"
   },
   {
    "duration": 131,
    "start_time": "2023-01-25T19:15:08.983Z"
   },
   {
    "duration": 133,
    "start_time": "2023-01-25T19:15:09.116Z"
   },
   {
    "duration": 8213,
    "start_time": "2023-01-25T19:15:09.250Z"
   },
   {
    "duration": 8125,
    "start_time": "2023-01-25T19:15:45.121Z"
   },
   {
    "duration": 507,
    "start_time": "2023-01-25T19:16:40.344Z"
   },
   {
    "duration": 596,
    "start_time": "2023-01-25T19:25:21.660Z"
   },
   {
    "duration": 501,
    "start_time": "2023-01-25T19:28:11.634Z"
   },
   {
    "duration": 3,
    "start_time": "2023-01-25T19:28:54.588Z"
   },
   {
    "duration": 542,
    "start_time": "2023-01-25T19:29:00.551Z"
   },
   {
    "duration": 572,
    "start_time": "2023-01-25T19:29:31.708Z"
   },
   {
    "duration": 1043,
    "start_time": "2023-01-25T19:32:51.931Z"
   },
   {
    "duration": 42,
    "start_time": "2023-01-25T19:37:35.726Z"
   },
   {
    "duration": 1487,
    "start_time": "2023-01-25T19:37:43.108Z"
   },
   {
    "duration": 15,
    "start_time": "2023-01-25T19:43:07.708Z"
   },
   {
    "duration": 46,
    "start_time": "2023-01-25T19:48:18.204Z"
   },
   {
    "duration": 1500,
    "start_time": "2023-01-25T19:48:28.432Z"
   },
   {
    "duration": 55,
    "start_time": "2023-01-25T19:56:27.082Z"
   },
   {
    "duration": 1499,
    "start_time": "2023-01-25T19:56:35.280Z"
   },
   {
    "duration": 3,
    "start_time": "2023-01-25T20:00:09.603Z"
   },
   {
    "duration": 51,
    "start_time": "2023-01-25T20:04:27.019Z"
   },
   {
    "duration": 31,
    "start_time": "2023-01-25T20:04:58.359Z"
   },
   {
    "duration": 26,
    "start_time": "2023-01-25T20:05:11.166Z"
   },
   {
    "duration": 28,
    "start_time": "2023-01-25T20:15:40.721Z"
   },
   {
    "duration": 1146,
    "start_time": "2023-01-25T20:16:45.572Z"
   },
   {
    "duration": 88,
    "start_time": "2023-01-25T20:22:06.918Z"
   },
   {
    "duration": 1439,
    "start_time": "2023-01-25T20:23:11.694Z"
   },
   {
    "duration": 1791,
    "start_time": "2023-01-25T20:24:59.535Z"
   },
   {
    "duration": 1510,
    "start_time": "2023-01-25T20:25:50.267Z"
   },
   {
    "duration": 26,
    "start_time": "2023-01-25T20:25:55.795Z"
   },
   {
    "duration": 2827,
    "start_time": "2023-01-25T20:26:43.051Z"
   },
   {
    "duration": 3054,
    "start_time": "2023-01-25T20:26:45.879Z"
   },
   {
    "duration": 18,
    "start_time": "2023-01-25T20:26:48.935Z"
   },
   {
    "duration": 410,
    "start_time": "2023-01-25T20:26:48.955Z"
   },
   {
    "duration": 141,
    "start_time": "2023-01-25T20:26:49.368Z"
   },
   {
    "duration": 23,
    "start_time": "2023-01-25T20:26:49.511Z"
   },
   {
    "duration": 198,
    "start_time": "2023-01-25T20:26:49.536Z"
   },
   {
    "duration": 142,
    "start_time": "2023-01-25T20:26:49.736Z"
   },
   {
    "duration": 211,
    "start_time": "2023-01-25T20:26:49.880Z"
   },
   {
    "duration": 1404,
    "start_time": "2023-01-25T20:26:50.093Z"
   },
   {
    "duration": 361,
    "start_time": "2023-01-25T20:26:51.499Z"
   },
   {
    "duration": 13,
    "start_time": "2023-01-25T20:26:51.862Z"
   },
   {
    "duration": 206,
    "start_time": "2023-01-25T20:26:51.892Z"
   },
   {
    "duration": 71,
    "start_time": "2023-01-25T20:26:52.102Z"
   },
   {
    "duration": 17,
    "start_time": "2023-01-25T20:26:52.175Z"
   },
   {
    "duration": 223,
    "start_time": "2023-01-25T20:26:52.195Z"
   },
   {
    "duration": 4,
    "start_time": "2023-01-25T20:26:52.420Z"
   },
   {
    "duration": 138,
    "start_time": "2023-01-25T20:26:52.426Z"
   },
   {
    "duration": 133,
    "start_time": "2023-01-25T20:26:52.565Z"
   },
   {
    "duration": 1484,
    "start_time": "2023-01-25T20:26:52.699Z"
   },
   {
    "duration": 30,
    "start_time": "2023-01-25T20:26:54.191Z"
   },
   {
    "duration": 2398,
    "start_time": "2023-01-25T20:26:54.222Z"
   },
   {
    "duration": 2949,
    "start_time": "2023-01-25T20:27:07.723Z"
   },
   {
    "duration": 2289,
    "start_time": "2023-01-25T20:27:21.924Z"
   },
   {
    "duration": 3042,
    "start_time": "2023-01-25T20:28:56.874Z"
   },
   {
    "duration": 359035,
    "start_time": "2023-01-25T20:30:46.867Z"
   },
   {
    "duration": 1768,
    "start_time": "2023-01-25T20:36:45.905Z"
   },
   {
    "duration": 3,
    "start_time": "2023-01-25T20:36:47.674Z"
   },
   {
    "duration": 1664,
    "start_time": "2023-01-25T20:36:47.691Z"
   },
   {
    "duration": 52,
    "start_time": "2023-01-25T20:36:49.357Z"
   },
   {
    "duration": 85,
    "start_time": "2023-01-25T20:36:49.411Z"
   },
   {
    "duration": 57,
    "start_time": "2023-01-25T20:36:49.498Z"
   },
   {
    "duration": 48,
    "start_time": "2023-01-25T20:36:49.557Z"
   },
   {
    "duration": 0,
    "start_time": "2023-01-25T20:36:49.606Z"
   },
   {
    "duration": 301362,
    "start_time": "2023-01-25T20:53:36.348Z"
   },
   {
    "duration": 1174,
    "start_time": "2023-01-25T20:58:52.656Z"
   },
   {
    "duration": 355767,
    "start_time": "2023-01-25T20:59:01.550Z"
   },
   {
    "duration": 107,
    "start_time": "2023-01-25T21:04:57.319Z"
   },
   {
    "duration": 767,
    "start_time": "2023-01-25T21:06:33.447Z"
   },
   {
    "duration": 1145,
    "start_time": "2023-01-25T21:07:11.575Z"
   },
   {
    "duration": 11,
    "start_time": "2023-01-25T21:08:08.388Z"
   },
   {
    "duration": 1400,
    "start_time": "2023-01-25T21:19:24.466Z"
   },
   {
    "duration": 1255,
    "start_time": "2023-01-25T21:19:25.868Z"
   },
   {
    "duration": 21,
    "start_time": "2023-01-25T21:19:27.125Z"
   },
   {
    "duration": 379,
    "start_time": "2023-01-25T21:19:27.148Z"
   },
   {
    "duration": 154,
    "start_time": "2023-01-25T21:19:27.529Z"
   },
   {
    "duration": 28,
    "start_time": "2023-01-25T21:19:27.685Z"
   },
   {
    "duration": 191,
    "start_time": "2023-01-25T21:19:27.715Z"
   },
   {
    "duration": 187,
    "start_time": "2023-01-25T21:19:27.907Z"
   },
   {
    "duration": 228,
    "start_time": "2023-01-25T21:19:28.096Z"
   },
   {
    "duration": 1601,
    "start_time": "2023-01-25T21:19:28.327Z"
   },
   {
    "duration": 396,
    "start_time": "2023-01-25T21:19:29.931Z"
   },
   {
    "duration": 20,
    "start_time": "2023-01-25T21:19:30.329Z"
   },
   {
    "duration": 222,
    "start_time": "2023-01-25T21:19:30.351Z"
   },
   {
    "duration": 86,
    "start_time": "2023-01-25T21:19:30.575Z"
   },
   {
    "duration": 2,
    "start_time": "2023-01-25T21:19:30.663Z"
   },
   {
    "duration": 325,
    "start_time": "2023-01-25T21:19:30.668Z"
   },
   {
    "duration": 4,
    "start_time": "2023-01-25T21:19:30.995Z"
   },
   {
    "duration": 160,
    "start_time": "2023-01-25T21:19:31.001Z"
   },
   {
    "duration": 179,
    "start_time": "2023-01-25T21:19:31.163Z"
   },
   {
    "duration": 1633,
    "start_time": "2023-01-25T21:19:31.344Z"
   },
   {
    "duration": 47,
    "start_time": "2023-01-25T21:19:32.978Z"
   },
   {
    "duration": 2948,
    "start_time": "2023-01-25T21:19:33.027Z"
   },
   {
    "duration": 360732,
    "start_time": "2023-01-25T21:19:35.977Z"
   },
   {
    "duration": 1747,
    "start_time": "2023-01-25T21:25:36.712Z"
   },
   {
    "duration": 3,
    "start_time": "2023-01-25T21:25:38.461Z"
   },
   {
    "duration": 323825,
    "start_time": "2023-01-25T21:25:38.466Z"
   },
   {
    "duration": 1173,
    "start_time": "2023-01-25T21:31:02.294Z"
   },
   {
    "duration": 321237,
    "start_time": "2023-01-25T21:31:03.470Z"
   },
   {
    "duration": 804,
    "start_time": "2023-01-25T21:36:24.709Z"
   },
   {
    "duration": 1257,
    "start_time": "2023-01-25T21:36:25.515Z"
   },
   {
    "duration": 17,
    "start_time": "2023-01-25T21:36:26.774Z"
   },
   {
    "duration": 1315,
    "start_time": "2023-01-26T06:55:49.052Z"
   },
   {
    "duration": 1206,
    "start_time": "2023-01-26T06:55:50.369Z"
   },
   {
    "duration": 16,
    "start_time": "2023-01-26T06:55:51.576Z"
   },
   {
    "duration": 455,
    "start_time": "2023-01-26T06:55:51.595Z"
   },
   {
    "duration": 122,
    "start_time": "2023-01-26T06:55:52.052Z"
   },
   {
    "duration": 19,
    "start_time": "2023-01-26T06:55:52.186Z"
   },
   {
    "duration": 146,
    "start_time": "2023-01-26T06:55:52.207Z"
   },
   {
    "duration": 198,
    "start_time": "2023-01-26T06:55:52.354Z"
   },
   {
    "duration": 200,
    "start_time": "2023-01-26T06:55:52.554Z"
   },
   {
    "duration": 1318,
    "start_time": "2023-01-26T06:55:52.757Z"
   },
   {
    "duration": 243,
    "start_time": "2023-01-26T06:55:54.077Z"
   },
   {
    "duration": 13,
    "start_time": "2023-01-26T06:55:54.322Z"
   },
   {
    "duration": 177,
    "start_time": "2023-01-26T06:55:54.336Z"
   },
   {
    "duration": 71,
    "start_time": "2023-01-26T06:55:54.515Z"
   },
   {
    "duration": 2,
    "start_time": "2023-01-26T06:55:54.588Z"
   },
   {
    "duration": 206,
    "start_time": "2023-01-26T06:55:54.592Z"
   },
   {
    "duration": 4,
    "start_time": "2023-01-26T06:55:54.800Z"
   },
   {
    "duration": 122,
    "start_time": "2023-01-26T06:55:54.807Z"
   },
   {
    "duration": 127,
    "start_time": "2023-01-26T06:55:54.931Z"
   },
   {
    "duration": 1366,
    "start_time": "2023-01-26T06:55:55.060Z"
   },
   {
    "duration": 26,
    "start_time": "2023-01-26T06:55:56.427Z"
   },
   {
    "duration": 2482,
    "start_time": "2023-01-26T06:55:56.455Z"
   },
   {
    "duration": 353965,
    "start_time": "2023-01-26T06:55:58.939Z"
   },
   {
    "duration": 1704,
    "start_time": "2023-01-26T07:01:52.905Z"
   },
   {
    "duration": 3,
    "start_time": "2023-01-26T07:01:54.611Z"
   },
   {
    "duration": 295227,
    "start_time": "2023-01-26T07:01:54.616Z"
   },
   {
    "duration": 1028,
    "start_time": "2023-01-26T07:06:49.845Z"
   },
   {
    "duration": 79721,
    "start_time": "2023-01-26T07:06:50.876Z"
   },
   {
    "duration": 811,
    "start_time": "2023-01-26T07:08:10.598Z"
   },
   {
    "duration": 1137,
    "start_time": "2023-01-26T07:08:11.411Z"
   },
   {
    "duration": 12,
    "start_time": "2023-01-26T07:08:12.550Z"
   },
   {
    "duration": 11,
    "start_time": "2023-01-26T07:32:03.575Z"
   },
   {
    "duration": 1393,
    "start_time": "2023-01-26T07:32:50.920Z"
   },
   {
    "duration": 1033,
    "start_time": "2023-01-26T07:32:52.315Z"
   },
   {
    "duration": 13,
    "start_time": "2023-01-26T07:32:53.350Z"
   },
   {
    "duration": 532,
    "start_time": "2023-01-26T07:32:53.365Z"
   },
   {
    "duration": 137,
    "start_time": "2023-01-26T07:32:53.899Z"
   },
   {
    "duration": 20,
    "start_time": "2023-01-26T07:32:54.037Z"
   },
   {
    "duration": 166,
    "start_time": "2023-01-26T07:32:54.059Z"
   },
   {
    "duration": 129,
    "start_time": "2023-01-26T07:32:54.227Z"
   },
   {
    "duration": 191,
    "start_time": "2023-01-26T07:32:54.357Z"
   },
   {
    "duration": 1468,
    "start_time": "2023-01-26T07:32:54.549Z"
   },
   {
    "duration": 362,
    "start_time": "2023-01-26T07:32:56.019Z"
   },
   {
    "duration": 15,
    "start_time": "2023-01-26T07:32:56.385Z"
   },
   {
    "duration": 207,
    "start_time": "2023-01-26T07:32:56.402Z"
   },
   {
    "duration": 22,
    "start_time": "2023-01-26T07:32:56.614Z"
   },
   {
    "duration": 106,
    "start_time": "2023-01-26T07:32:56.638Z"
   },
   {
    "duration": 2,
    "start_time": "2023-01-26T07:32:56.746Z"
   },
   {
    "duration": 240,
    "start_time": "2023-01-26T07:32:56.750Z"
   },
   {
    "duration": 4,
    "start_time": "2023-01-26T07:32:56.992Z"
   },
   {
    "duration": 124,
    "start_time": "2023-01-26T07:32:56.998Z"
   },
   {
    "duration": 135,
    "start_time": "2023-01-26T07:32:57.124Z"
   },
   {
    "duration": 1437,
    "start_time": "2023-01-26T07:32:57.260Z"
   },
   {
    "duration": 32,
    "start_time": "2023-01-26T07:32:58.700Z"
   },
   {
    "duration": 3248,
    "start_time": "2023-01-26T07:32:58.734Z"
   },
   {
    "duration": 361275,
    "start_time": "2023-01-26T07:33:01.984Z"
   },
   {
    "duration": 1688,
    "start_time": "2023-01-26T07:39:03.261Z"
   },
   {
    "duration": 3,
    "start_time": "2023-01-26T07:39:04.950Z"
   }
  ],
  "kernelspec": {
   "display_name": "Python 3 (ipykernel)",
   "language": "python",
   "name": "python3"
  },
  "language_info": {
   "codemirror_mode": {
    "name": "ipython",
    "version": 3
   },
   "file_extension": ".py",
   "mimetype": "text/x-python",
   "name": "python",
   "nbconvert_exporter": "python",
   "pygments_lexer": "ipython3",
   "version": "3.9.18"
  },
  "toc": {
   "base_numbering": 1,
   "nav_menu": {},
   "number_sections": true,
   "sideBar": true,
   "skip_h1_title": true,
   "title_cell": "Table of Contents",
   "title_sidebar": "Contents",
   "toc_cell": false,
   "toc_position": {
    "height": "calc(100% - 180px)",
    "left": "10px",
    "top": "150px",
    "width": "315.391px"
   },
   "toc_section_display": true,
   "toc_window_display": true
  }
 },
 "nbformat": 4,
 "nbformat_minor": 2
}
