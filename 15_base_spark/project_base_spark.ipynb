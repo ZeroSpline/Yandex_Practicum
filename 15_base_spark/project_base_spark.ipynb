{
 "cells": [
  {
   "cell_type": "code",
   "execution_count": 1,
   "id": "45ca39ff",
   "metadata": {},
   "outputs": [],
   "source": [
    "### Импорт библиотек\n",
    "import pandas as pd \n",
    "import numpy as np\n",
    "\n",
    "import pyspark\n",
    "from pyspark.sql import SparkSession\n",
    "from pyspark.sql.types import *\n",
    "import pyspark.sql.functions as F\n",
    "\n",
    "from pyspark.ml.feature import StringIndexer, VectorAssembler, StandardScaler\n",
    "from pyspark.ml.regression import LinearRegression\n",
    "from pyspark.ml.evaluation import RegressionEvaluator\n",
    "\n",
    "pyspark_version = pyspark.__version__\n",
    "if int(pyspark_version[:1]) == 3:\n",
    "    from pyspark.ml.feature import OneHotEncoder    \n",
    "elif int(pyspark_version[:1]) == 2:\n",
    "    from pyspark.ml.feature import OneHotEncodeEstimator"
   ]
  },
  {
   "cell_type": "code",
   "execution_count": 2,
   "id": "185c96b8",
   "metadata": {},
   "outputs": [],
   "source": [
    "### Запуск спарк приложения  \n",
    "RANDOM_SEED = 42\n",
    "spark = SparkSession.builder \\\n",
    "                    .master('local') \\\n",
    "                    .appName('Titanic - Logistic regression') \\\n",
    "                    .getOrCreate()"
   ]
  },
  {
   "cell_type": "markdown",
   "id": "53871372",
   "metadata": {
    "id": "53871372"
   },
   "source": [
    "## Подготовка данных"
   ]
  },
  {
   "cell_type": "markdown",
   "id": "44263b4f",
   "metadata": {},
   "source": [
    "### Вывод общей информации"
   ]
  },
  {
   "cell_type": "code",
   "execution_count": 3,
   "id": "df92e3ec",
   "metadata": {
    "id": "df92e3ec"
   },
   "outputs": [
    {
     "name": "stderr",
     "output_type": "stream",
     "text": [
      "                                                                                \r"
     ]
    },
    {
     "name": "stdout",
     "output_type": "stream",
     "text": [
      "root\n",
      " |-- longitude: double (nullable = true)\n",
      " |-- latitude: double (nullable = true)\n",
      " |-- housing_median_age: double (nullable = true)\n",
      " |-- total_rooms: double (nullable = true)\n",
      " |-- total_bedrooms: double (nullable = true)\n",
      " |-- population: double (nullable = true)\n",
      " |-- households: double (nullable = true)\n",
      " |-- median_income: double (nullable = true)\n",
      " |-- median_house_value: double (nullable = true)\n",
      " |-- ocean_proximity: string (nullable = true)\n",
      "\n",
      "+---------+--------+------------------+-----------+--------------+----------+----------+-------------+------------------+---------------+\n",
      "|longitude|latitude|housing_median_age|total_rooms|total_bedrooms|population|households|median_income|median_house_value|ocean_proximity|\n",
      "+---------+--------+------------------+-----------+--------------+----------+----------+-------------+------------------+---------------+\n",
      "|  -122.23|   37.88|              41.0|      880.0|         129.0|     322.0|     126.0|       8.3252|          452600.0|       NEAR BAY|\n",
      "|  -122.22|   37.86|              21.0|     7099.0|        1106.0|    2401.0|    1138.0|       8.3014|          358500.0|       NEAR BAY|\n",
      "|  -122.24|   37.85|              52.0|     1467.0|         190.0|     496.0|     177.0|       7.2574|          352100.0|       NEAR BAY|\n",
      "+---------+--------+------------------+-----------+--------------+----------+----------+-------------+------------------+---------------+\n",
      "only showing top 3 rows\n",
      "\n"
     ]
    }
   ],
   "source": [
    "### Открытие файла с таблицей\n",
    "df_housing = spark.read.load('/datasets/housing.csv', format='csv', sep=',', inferSchema=True, header='true')\n",
    "df_housing.printSchema() \n",
    "df_housing.show(3)"
   ]
  },
  {
   "cell_type": "code",
   "execution_count": 4,
   "id": "9f5bdf5e",
   "metadata": {},
   "outputs": [
    {
     "name": "stderr",
     "output_type": "stream",
     "text": [
      "                                                                                \r"
     ]
    },
    {
     "data": {
      "text/html": [
       "<div>\n",
       "<style scoped>\n",
       "    .dataframe tbody tr th:only-of-type {\n",
       "        vertical-align: middle;\n",
       "    }\n",
       "\n",
       "    .dataframe tbody tr th {\n",
       "        vertical-align: top;\n",
       "    }\n",
       "\n",
       "    .dataframe thead th {\n",
       "        text-align: right;\n",
       "    }\n",
       "</style>\n",
       "<table border=\"1\" class=\"dataframe\">\n",
       "  <thead>\n",
       "    <tr style=\"text-align: right;\">\n",
       "      <th></th>\n",
       "      <th>summary</th>\n",
       "      <th>longitude</th>\n",
       "      <th>latitude</th>\n",
       "      <th>housing_median_age</th>\n",
       "      <th>total_rooms</th>\n",
       "      <th>total_bedrooms</th>\n",
       "      <th>population</th>\n",
       "      <th>households</th>\n",
       "      <th>median_income</th>\n",
       "      <th>median_house_value</th>\n",
       "      <th>ocean_proximity</th>\n",
       "    </tr>\n",
       "  </thead>\n",
       "  <tbody>\n",
       "    <tr>\n",
       "      <th>0</th>\n",
       "      <td>count</td>\n",
       "      <td>20640</td>\n",
       "      <td>20640</td>\n",
       "      <td>20640</td>\n",
       "      <td>20640</td>\n",
       "      <td>20433</td>\n",
       "      <td>20640</td>\n",
       "      <td>20640</td>\n",
       "      <td>20640</td>\n",
       "      <td>20640</td>\n",
       "      <td>20640</td>\n",
       "    </tr>\n",
       "    <tr>\n",
       "      <th>1</th>\n",
       "      <td>mean</td>\n",
       "      <td>-119.56970445736148</td>\n",
       "      <td>35.6318614341087</td>\n",
       "      <td>28.639486434108527</td>\n",
       "      <td>2635.7630813953488</td>\n",
       "      <td>537.8705525375618</td>\n",
       "      <td>1425.4767441860465</td>\n",
       "      <td>499.5396802325581</td>\n",
       "      <td>3.8706710029070246</td>\n",
       "      <td>206855.81690891474</td>\n",
       "      <td>None</td>\n",
       "    </tr>\n",
       "    <tr>\n",
       "      <th>2</th>\n",
       "      <td>stddev</td>\n",
       "      <td>2.003531723502584</td>\n",
       "      <td>2.135952397457101</td>\n",
       "      <td>12.58555761211163</td>\n",
       "      <td>2181.6152515827944</td>\n",
       "      <td>421.38507007403115</td>\n",
       "      <td>1132.46212176534</td>\n",
       "      <td>382.3297528316098</td>\n",
       "      <td>1.899821717945263</td>\n",
       "      <td>115395.61587441359</td>\n",
       "      <td>None</td>\n",
       "    </tr>\n",
       "    <tr>\n",
       "      <th>3</th>\n",
       "      <td>min</td>\n",
       "      <td>-124.35</td>\n",
       "      <td>32.54</td>\n",
       "      <td>1.0</td>\n",
       "      <td>2.0</td>\n",
       "      <td>1.0</td>\n",
       "      <td>3.0</td>\n",
       "      <td>1.0</td>\n",
       "      <td>0.4999</td>\n",
       "      <td>14999.0</td>\n",
       "      <td>&lt;1H OCEAN</td>\n",
       "    </tr>\n",
       "    <tr>\n",
       "      <th>4</th>\n",
       "      <td>max</td>\n",
       "      <td>-114.31</td>\n",
       "      <td>41.95</td>\n",
       "      <td>52.0</td>\n",
       "      <td>39320.0</td>\n",
       "      <td>6445.0</td>\n",
       "      <td>35682.0</td>\n",
       "      <td>6082.0</td>\n",
       "      <td>15.0001</td>\n",
       "      <td>500001.0</td>\n",
       "      <td>NEAR OCEAN</td>\n",
       "    </tr>\n",
       "  </tbody>\n",
       "</table>\n",
       "</div>"
      ],
      "text/plain": [
       "  summary            longitude           latitude  housing_median_age  \\\n",
       "0   count                20640              20640               20640   \n",
       "1    mean  -119.56970445736148   35.6318614341087  28.639486434108527   \n",
       "2  stddev    2.003531723502584  2.135952397457101   12.58555761211163   \n",
       "3     min              -124.35              32.54                 1.0   \n",
       "4     max              -114.31              41.95                52.0   \n",
       "\n",
       "          total_rooms      total_bedrooms          population  \\\n",
       "0               20640               20433               20640   \n",
       "1  2635.7630813953488   537.8705525375618  1425.4767441860465   \n",
       "2  2181.6152515827944  421.38507007403115    1132.46212176534   \n",
       "3                 2.0                 1.0                 3.0   \n",
       "4             39320.0              6445.0             35682.0   \n",
       "\n",
       "          households       median_income  median_house_value ocean_proximity  \n",
       "0              20640               20640               20640           20640  \n",
       "1  499.5396802325581  3.8706710029070246  206855.81690891474            None  \n",
       "2  382.3297528316098   1.899821717945263  115395.61587441359            None  \n",
       "3                1.0              0.4999             14999.0       <1H OCEAN  \n",
       "4             6082.0             15.0001            500001.0      NEAR OCEAN  "
      ]
     },
     "execution_count": 4,
     "metadata": {},
     "output_type": "execute_result"
    }
   ],
   "source": [
    "### Вывод базовых статистик\n",
    "df_housing.describe().toPandas()"
   ]
  },
  {
   "cell_type": "markdown",
   "id": "86dc9666",
   "metadata": {},
   "source": [
    "### Замена пропусков"
   ]
  },
  {
   "cell_type": "code",
   "execution_count": 5,
   "id": "332ef1ac",
   "metadata": {},
   "outputs": [
    {
     "name": "stderr",
     "output_type": "stream",
     "text": [
      "22/12/14 10:57:13 WARN WindowExec: No Partition Defined for Window operation! Moving all data to a single partition, this can cause serious performance degradation.\n",
      "                                                                                \r"
     ]
    },
    {
     "data": {
      "text/html": [
       "<div>\n",
       "<style scoped>\n",
       "    .dataframe tbody tr th:only-of-type {\n",
       "        vertical-align: middle;\n",
       "    }\n",
       "\n",
       "    .dataframe tbody tr th {\n",
       "        vertical-align: top;\n",
       "    }\n",
       "\n",
       "    .dataframe thead th {\n",
       "        text-align: right;\n",
       "    }\n",
       "</style>\n",
       "<table border=\"1\" class=\"dataframe\">\n",
       "  <thead>\n",
       "    <tr style=\"text-align: right;\">\n",
       "      <th></th>\n",
       "      <th>summary</th>\n",
       "      <th>longitude</th>\n",
       "      <th>latitude</th>\n",
       "      <th>housing_median_age</th>\n",
       "      <th>total_rooms</th>\n",
       "      <th>total_bedrooms</th>\n",
       "      <th>population</th>\n",
       "      <th>households</th>\n",
       "      <th>median_income</th>\n",
       "      <th>median_house_value</th>\n",
       "      <th>ocean_proximity</th>\n",
       "    </tr>\n",
       "  </thead>\n",
       "  <tbody>\n",
       "    <tr>\n",
       "      <th>0</th>\n",
       "      <td>count</td>\n",
       "      <td>20640</td>\n",
       "      <td>20640</td>\n",
       "      <td>20640</td>\n",
       "      <td>20640</td>\n",
       "      <td>20640</td>\n",
       "      <td>20640</td>\n",
       "      <td>20640</td>\n",
       "      <td>20640</td>\n",
       "      <td>20640</td>\n",
       "      <td>20640</td>\n",
       "    </tr>\n",
       "    <tr>\n",
       "      <th>1</th>\n",
       "      <td>mean</td>\n",
       "      <td>-119.56970445736148</td>\n",
       "      <td>35.6318614341087</td>\n",
       "      <td>28.639486434108527</td>\n",
       "      <td>2635.7630813953488</td>\n",
       "      <td>536.8388565891473</td>\n",
       "      <td>1425.4767441860465</td>\n",
       "      <td>499.5396802325581</td>\n",
       "      <td>3.8706710029070246</td>\n",
       "      <td>206855.81690891474</td>\n",
       "      <td>None</td>\n",
       "    </tr>\n",
       "    <tr>\n",
       "      <th>2</th>\n",
       "      <td>stddev</td>\n",
       "      <td>2.003531723502584</td>\n",
       "      <td>2.135952397457101</td>\n",
       "      <td>12.58555761211163</td>\n",
       "      <td>2181.6152515827944</td>\n",
       "      <td>419.39187792168866</td>\n",
       "      <td>1132.46212176534</td>\n",
       "      <td>382.3297528316098</td>\n",
       "      <td>1.899821717945263</td>\n",
       "      <td>115395.61587441359</td>\n",
       "      <td>None</td>\n",
       "    </tr>\n",
       "    <tr>\n",
       "      <th>3</th>\n",
       "      <td>min</td>\n",
       "      <td>-124.35</td>\n",
       "      <td>32.54</td>\n",
       "      <td>1.0</td>\n",
       "      <td>2.0</td>\n",
       "      <td>1.0</td>\n",
       "      <td>3.0</td>\n",
       "      <td>1.0</td>\n",
       "      <td>0.4999</td>\n",
       "      <td>14999.0</td>\n",
       "      <td>&lt;1H OCEAN</td>\n",
       "    </tr>\n",
       "    <tr>\n",
       "      <th>4</th>\n",
       "      <td>max</td>\n",
       "      <td>-114.31</td>\n",
       "      <td>41.95</td>\n",
       "      <td>52.0</td>\n",
       "      <td>39320.0</td>\n",
       "      <td>6445.0</td>\n",
       "      <td>35682.0</td>\n",
       "      <td>6082.0</td>\n",
       "      <td>15.0001</td>\n",
       "      <td>500001.0</td>\n",
       "      <td>NEAR OCEAN</td>\n",
       "    </tr>\n",
       "  </tbody>\n",
       "</table>\n",
       "</div>"
      ],
      "text/plain": [
       "  summary            longitude           latitude  housing_median_age  \\\n",
       "0   count                20640              20640               20640   \n",
       "1    mean  -119.56970445736148   35.6318614341087  28.639486434108527   \n",
       "2  stddev    2.003531723502584  2.135952397457101   12.58555761211163   \n",
       "3     min              -124.35              32.54                 1.0   \n",
       "4     max              -114.31              41.95                52.0   \n",
       "\n",
       "          total_rooms      total_bedrooms          population  \\\n",
       "0               20640               20640               20640   \n",
       "1  2635.7630813953488   536.8388565891473  1425.4767441860465   \n",
       "2  2181.6152515827944  419.39187792168866    1132.46212176534   \n",
       "3                 2.0                 1.0                 3.0   \n",
       "4             39320.0              6445.0             35682.0   \n",
       "\n",
       "          households       median_income  median_house_value ocean_proximity  \n",
       "0              20640               20640               20640           20640  \n",
       "1  499.5396802325581  3.8706710029070246  206855.81690891474            None  \n",
       "2  382.3297528316098   1.899821717945263  115395.61587441359            None  \n",
       "3                1.0              0.4999             14999.0       <1H OCEAN  \n",
       "4             6082.0             15.0001            500001.0      NEAR OCEAN  "
      ]
     },
     "execution_count": 5,
     "metadata": {},
     "output_type": "execute_result"
    }
   ],
   "source": [
    "### Замена пропусков медианой\n",
    "df_housing = df_housing.withColumn('total_bedrooms_drop', F.expr('approx_percentile(total_bedrooms, 0.5) over()')) \\\n",
    "                        .withColumn('total_bedrooms', F.coalesce(F.col('total_bedrooms'), F.col('total_bedrooms_drop'))) \\\n",
    "                        .drop(F.col('total_bedrooms_drop'))\n",
    "df_housing.describe().toPandas()"
   ]
  },
  {
   "cell_type": "markdown",
   "id": "2b3061e1",
   "metadata": {},
   "source": [
    "### Деление на выборки"
   ]
  },
  {
   "cell_type": "code",
   "execution_count": 6,
   "id": "b25c4d9a",
   "metadata": {
    "scrolled": false
   },
   "outputs": [
    {
     "name": "stderr",
     "output_type": "stream",
     "text": [
      "22/12/14 10:57:15 WARN WindowExec: No Partition Defined for Window operation! Moving all data to a single partition, this can cause serious performance degradation.\n",
      "22/12/14 10:57:16 WARN WindowExec: No Partition Defined for Window operation! Moving all data to a single partition, this can cause serious performance degradation.\n"
     ]
    },
    {
     "data": {
      "text/plain": [
       "16560"
      ]
     },
     "metadata": {},
     "output_type": "display_data"
    },
    {
     "data": {
      "text/plain": [
       "4080"
      ]
     },
     "metadata": {},
     "output_type": "display_data"
    }
   ],
   "source": [
    "### Деление на выборки\n",
    "train_data, test_data = df_housing.randomSplit([.8,.2], seed=RANDOM_SEED)\n",
    "display(train_data.count(), test_data.count()) "
   ]
  },
  {
   "cell_type": "code",
   "execution_count": 7,
   "id": "41a42755",
   "metadata": {},
   "outputs": [],
   "source": [
    "### Деление на категориальные и числовые колонки\n",
    "categorical_cols = ['ocean_proximity']\n",
    "numerical_cols  = ['longitude', 'latitude', 'housing_median_age', 'total_rooms', 'total_bedrooms', 'population', 'households', 'median_income']\n",
    "target = 'median_house_value'"
   ]
  },
  {
   "cell_type": "markdown",
   "id": "7c2fc2b8",
   "metadata": {},
   "source": [
    "### Преобразование колонки с категориальными значениями"
   ]
  },
  {
   "cell_type": "code",
   "execution_count": 8,
   "id": "25e15a44",
   "metadata": {},
   "outputs": [
    {
     "name": "stderr",
     "output_type": "stream",
     "text": [
      "22/12/14 10:57:17 WARN WindowExec: No Partition Defined for Window operation! Moving all data to a single partition, this can cause serious performance degradation.\n",
      "22/12/14 10:57:18 WARN WindowExec: No Partition Defined for Window operation! Moving all data to a single partition, this can cause serious performance degradation.\n"
     ]
    },
    {
     "name": "stdout",
     "output_type": "stream",
     "text": [
      "+---------------+-------------------+\n",
      "|ocean_proximity|ocean_proximity_idx|\n",
      "+---------------+-------------------+\n",
      "|     NEAR OCEAN|                2.0|\n",
      "|     NEAR OCEAN|                2.0|\n",
      "|     NEAR OCEAN|                2.0|\n",
      "+---------------+-------------------+\n",
      "only showing top 3 rows\n",
      "\n"
     ]
    }
   ],
   "source": [
    "### Преобразование категориальной колонки с помощью StringIndexer для train_data\n",
    "indexer = StringIndexer(inputCols=categorical_cols, outputCols=[c+'_idx' for c in categorical_cols]).fit(train_data)\n",
    "train_data_idx = indexer.transform(train_data)\n",
    "cols_train = [c for c in train_data_idx.columns for i in categorical_cols if (c.startswith(i))]\n",
    "train_data_idx.select(cols_train).show(3)"
   ]
  },
  {
   "cell_type": "code",
   "execution_count": 9,
   "id": "fecaa5dd",
   "metadata": {},
   "outputs": [
    {
     "name": "stderr",
     "output_type": "stream",
     "text": [
      "22/12/14 10:57:19 WARN WindowExec: No Partition Defined for Window operation! Moving all data to a single partition, this can cause serious performance degradation.\n"
     ]
    },
    {
     "name": "stdout",
     "output_type": "stream",
     "text": [
      "+---------------+-------------------+\n",
      "|ocean_proximity|ocean_proximity_idx|\n",
      "+---------------+-------------------+\n",
      "|     NEAR OCEAN|                2.0|\n",
      "|     NEAR OCEAN|                2.0|\n",
      "|     NEAR OCEAN|                2.0|\n",
      "+---------------+-------------------+\n",
      "only showing top 3 rows\n",
      "\n"
     ]
    }
   ],
   "source": [
    "### Преобразование категориальной колонки с помощью StringIndexer для test_data\n",
    "test_data_idx = indexer.transform(test_data)\n",
    "cols_test = [c for c in test_data_idx.columns for i in categorical_cols if (c.startswith(i))]\n",
    "test_data_idx.select(cols_test).show(3)"
   ]
  },
  {
   "cell_type": "code",
   "execution_count": 10,
   "id": "09504439",
   "metadata": {
    "scrolled": true
   },
   "outputs": [
    {
     "name": "stderr",
     "output_type": "stream",
     "text": [
      "22/12/14 10:57:20 WARN WindowExec: No Partition Defined for Window operation! Moving all data to a single partition, this can cause serious performance degradation.\n"
     ]
    },
    {
     "name": "stdout",
     "output_type": "stream",
     "text": [
      "+---------------+-------------------+-------------------+\n",
      "|ocean_proximity|ocean_proximity_idx|ocean_proximity_ohe|\n",
      "+---------------+-------------------+-------------------+\n",
      "|     NEAR OCEAN|                2.0|      (4,[2],[1.0])|\n",
      "|     NEAR OCEAN|                2.0|      (4,[2],[1.0])|\n",
      "|     NEAR OCEAN|                2.0|      (4,[2],[1.0])|\n",
      "+---------------+-------------------+-------------------+\n",
      "only showing top 3 rows\n",
      "\n"
     ]
    }
   ],
   "source": [
    "### Преобразование с помощью техники OneHotEncoder для train_data_idx\n",
    "encoder = OneHotEncoder(inputCols=[c+'_idx' for c in categorical_cols], outputCols=[c+'_ohe' for c in categorical_cols]).fit(train_data_idx)\n",
    "train_data_ohe = encoder.transform(train_data_idx)\n",
    "cols_train_ohe = [c for c in train_data_ohe.columns for i in categorical_cols if (c.startswith(i))]\n",
    "train_data_ohe.select(cols_train_ohe).show(3)"
   ]
  },
  {
   "cell_type": "code",
   "execution_count": 11,
   "id": "5d09f5aa",
   "metadata": {},
   "outputs": [
    {
     "name": "stderr",
     "output_type": "stream",
     "text": [
      "22/12/14 10:57:21 WARN WindowExec: No Partition Defined for Window operation! Moving all data to a single partition, this can cause serious performance degradation.\n"
     ]
    },
    {
     "name": "stdout",
     "output_type": "stream",
     "text": [
      "+---------------+-------------------+-------------------+\n",
      "|ocean_proximity|ocean_proximity_idx|ocean_proximity_ohe|\n",
      "+---------------+-------------------+-------------------+\n",
      "|     NEAR OCEAN|                2.0|      (4,[2],[1.0])|\n",
      "|     NEAR OCEAN|                2.0|      (4,[2],[1.0])|\n",
      "|     NEAR OCEAN|                2.0|      (4,[2],[1.0])|\n",
      "+---------------+-------------------+-------------------+\n",
      "only showing top 3 rows\n",
      "\n"
     ]
    }
   ],
   "source": [
    "### Преобразование с помощью техники OneHotEncoder для test_data_idx\n",
    "test_data_ohe = encoder.transform(test_data_idx)\n",
    "cols_test_ohe = [c for c in test_data_ohe.columns for i in categorical_cols if (c.startswith(i))]\n",
    "test_data_ohe.select(cols_test_ohe).show(3)"
   ]
  },
  {
   "cell_type": "code",
   "execution_count": 12,
   "id": "6004c501",
   "metadata": {},
   "outputs": [
    {
     "name": "stderr",
     "output_type": "stream",
     "text": [
      "22/12/14 10:57:21 WARN WindowExec: No Partition Defined for Window operation! Moving all data to a single partition, this can cause serious performance degradation.\n"
     ]
    },
    {
     "name": "stdout",
     "output_type": "stream",
     "text": [
      "+---------+--------+------------------+-----------+--------------+----------+----------+-------------+------------------+---------------+-------------------+-------------------+--------------------+\n",
      "|longitude|latitude|housing_median_age|total_rooms|total_bedrooms|population|households|median_income|median_house_value|ocean_proximity|ocean_proximity_idx|ocean_proximity_ohe|categorical_features|\n",
      "+---------+--------+------------------+-----------+--------------+----------+----------+-------------+------------------+---------------+-------------------+-------------------+--------------------+\n",
      "|  -124.35|   40.54|              52.0|     1820.0|         300.0|     806.0|     270.0|       3.0147|           94600.0|     NEAR OCEAN|                2.0|      (4,[2],[1.0])|       (4,[2],[1.0])|\n",
      "|   -124.3|    41.8|              19.0|     2672.0|         552.0|    1298.0|     478.0|       1.9797|           85800.0|     NEAR OCEAN|                2.0|      (4,[2],[1.0])|       (4,[2],[1.0])|\n",
      "|  -124.27|   40.69|              36.0|     2349.0|         528.0|    1194.0|     465.0|       2.5179|           79000.0|     NEAR OCEAN|                2.0|      (4,[2],[1.0])|       (4,[2],[1.0])|\n",
      "+---------+--------+------------------+-----------+--------------+----------+----------+-------------+------------------+---------------+-------------------+-------------------+--------------------+\n",
      "only showing top 3 rows\n",
      "\n"
     ]
    }
   ],
   "source": [
    "### Объединение в единый вектор для train_data_ohe\n",
    "categorical_assembler = VectorAssembler(inputCols=[c+'_ohe' for c in categorical_cols], outputCol='categorical_features')\n",
    "train_data_ohe = categorical_assembler.transform(train_data_ohe) \n",
    "train_data_ohe.show(3)"
   ]
  },
  {
   "cell_type": "code",
   "execution_count": 13,
   "id": "25cd8f0a",
   "metadata": {},
   "outputs": [
    {
     "name": "stderr",
     "output_type": "stream",
     "text": [
      "22/12/14 10:57:22 WARN WindowExec: No Partition Defined for Window operation! Moving all data to a single partition, this can cause serious performance degradation.\n"
     ]
    },
    {
     "name": "stdout",
     "output_type": "stream",
     "text": [
      "+---------+--------+------------------+-----------+--------------+----------+----------+-------------+------------------+---------------+-------------------+-------------------+--------------------+\n",
      "|longitude|latitude|housing_median_age|total_rooms|total_bedrooms|population|households|median_income|median_house_value|ocean_proximity|ocean_proximity_idx|ocean_proximity_ohe|categorical_features|\n",
      "+---------+--------+------------------+-----------+--------------+----------+----------+-------------+------------------+---------------+-------------------+-------------------+--------------------+\n",
      "|   -124.3|   41.84|              17.0|     2677.0|         531.0|    1244.0|     456.0|       3.0313|          103600.0|     NEAR OCEAN|                2.0|      (4,[2],[1.0])|       (4,[2],[1.0])|\n",
      "|  -124.23|   40.54|              52.0|     2694.0|         453.0|    1152.0|     435.0|       3.0806|          106700.0|     NEAR OCEAN|                2.0|      (4,[2],[1.0])|       (4,[2],[1.0])|\n",
      "|  -124.23|   41.75|              11.0|     3159.0|         616.0|    1343.0|     479.0|       2.4805|           73200.0|     NEAR OCEAN|                2.0|      (4,[2],[1.0])|       (4,[2],[1.0])|\n",
      "+---------+--------+------------------+-----------+--------------+----------+----------+-------------+------------------+---------------+-------------------+-------------------+--------------------+\n",
      "only showing top 3 rows\n",
      "\n"
     ]
    }
   ],
   "source": [
    "### Объединение в единый вектор для test_data_ohe\n",
    "test_data_ohe = categorical_assembler.transform(test_data_ohe) \n",
    "test_data_ohe.show(3)"
   ]
  },
  {
   "cell_type": "markdown",
   "id": "4c9e3ce0",
   "metadata": {},
   "source": [
    "### Преобразование колонок с числовыми значениями"
   ]
  },
  {
   "cell_type": "code",
   "execution_count": 14,
   "id": "f167fa26",
   "metadata": {},
   "outputs": [
    {
     "name": "stderr",
     "output_type": "stream",
     "text": [
      "22/12/14 10:57:23 WARN WindowExec: No Partition Defined for Window operation! Moving all data to a single partition, this can cause serious performance degradation.\n"
     ]
    },
    {
     "data": {
      "text/plain": [
       "['longitude',\n",
       " 'latitude',\n",
       " 'housing_median_age',\n",
       " 'total_rooms',\n",
       " 'total_bedrooms',\n",
       " 'population',\n",
       " 'households',\n",
       " 'median_income',\n",
       " 'median_house_value',\n",
       " 'ocean_proximity',\n",
       " 'ocean_proximity_idx',\n",
       " 'ocean_proximity_ohe',\n",
       " 'categorical_features',\n",
       " 'numerical_features',\n",
       " 'numerical_features_scaled']"
      ]
     },
     "execution_count": 14,
     "metadata": {},
     "output_type": "execute_result"
    }
   ],
   "source": [
    "### Масштабирование числовых колонок для train_data_ohe\n",
    "numerical_assembler = VectorAssembler(inputCols=numerical_cols, outputCol='numerical_features')\n",
    "train_num = numerical_assembler.transform(train_data_ohe) \n",
    "standardScaler = StandardScaler(inputCol='numerical_features', outputCol='numerical_features_scaled').fit(train_num)\n",
    "train_num = standardScaler.transform(train_num) \n",
    "train_num.columns"
   ]
  },
  {
   "cell_type": "code",
   "execution_count": 15,
   "id": "5f6eab84",
   "metadata": {},
   "outputs": [
    {
     "data": {
      "text/plain": [
       "['longitude',\n",
       " 'latitude',\n",
       " 'housing_median_age',\n",
       " 'total_rooms',\n",
       " 'total_bedrooms',\n",
       " 'population',\n",
       " 'households',\n",
       " 'median_income',\n",
       " 'median_house_value',\n",
       " 'ocean_proximity',\n",
       " 'ocean_proximity_idx',\n",
       " 'ocean_proximity_ohe',\n",
       " 'categorical_features',\n",
       " 'numerical_features',\n",
       " 'numerical_features_scaled']"
      ]
     },
     "execution_count": 15,
     "metadata": {},
     "output_type": "execute_result"
    }
   ],
   "source": [
    "### Масштабирование числовых колонок для test_data_ohe\n",
    "test_num = numerical_assembler.transform(test_data_ohe)\n",
    "test_num = standardScaler.transform(test_num) \n",
    "test_num.columns"
   ]
  },
  {
   "cell_type": "code",
   "execution_count": 16,
   "id": "bddb08c4",
   "metadata": {
    "id": "bddb08c4",
    "scrolled": false
   },
   "outputs": [
    {
     "name": "stderr",
     "output_type": "stream",
     "text": [
      "22/12/14 10:57:24 WARN WindowExec: No Partition Defined for Window operation! Moving all data to a single partition, this can cause serious performance degradation.\n"
     ]
    },
    {
     "name": "stdout",
     "output_type": "stream",
     "text": [
      "+--------------------+-------------------------+\n",
      "|categorical_features|numerical_features_scaled|\n",
      "+--------------------+-------------------------+\n",
      "|       (4,[2],[1.0])|     [-61.931952286653...|\n",
      "|       (4,[2],[1.0])|     [-61.907050013920...|\n",
      "|       (4,[2],[1.0])|     [-61.892108650280...|\n",
      "+--------------------+-------------------------+\n",
      "only showing top 3 rows\n",
      "\n"
     ]
    },
    {
     "name": "stderr",
     "output_type": "stream",
     "text": [
      "22/12/14 10:57:25 WARN WindowExec: No Partition Defined for Window operation! Moving all data to a single partition, this can cause serious performance degradation.\n"
     ]
    },
    {
     "name": "stdout",
     "output_type": "stream",
     "text": [
      "+--------------------+-------------------------+\n",
      "|categorical_features|numerical_features_scaled|\n",
      "+--------------------+-------------------------+\n",
      "|       (4,[2],[1.0])|     [-61.907050013920...|\n",
      "|       (4,[2],[1.0])|     [-61.872186832094...|\n",
      "|       (4,[2],[1.0])|     [-61.872186832094...|\n",
      "+--------------------+-------------------------+\n",
      "only showing top 3 rows\n",
      "\n"
     ]
    }
   ],
   "source": [
    "### Объединение числовых и категориальных признаков\n",
    "all_features = ['categorical_features','numerical_features_scaled']\n",
    "final_assembler = VectorAssembler(inputCols=all_features, outputCol='features') \n",
    "df_train = final_assembler.transform(train_num)\n",
    "df_test = final_assembler.transform(test_num)\n",
    "df_train.select(all_features).show(3) \n",
    "df_test.select(all_features).show(3) "
   ]
  },
  {
   "cell_type": "code",
   "execution_count": 17,
   "id": "616614f5",
   "metadata": {},
   "outputs": [
    {
     "name": "stderr",
     "output_type": "stream",
     "text": [
      "22/12/14 10:57:26 WARN WindowExec: No Partition Defined for Window operation! Moving all data to a single partition, this can cause serious performance degradation.\n"
     ]
    },
    {
     "name": "stdout",
     "output_type": "stream",
     "text": [
      "+-------------------------+\n",
      "|numerical_features_scaled|\n",
      "+-------------------------+\n",
      "|     [-61.931952286653...|\n",
      "|     [-61.907050013920...|\n",
      "|     [-61.892108650280...|\n",
      "+-------------------------+\n",
      "only showing top 3 rows\n",
      "\n"
     ]
    },
    {
     "name": "stderr",
     "output_type": "stream",
     "text": [
      "22/12/14 10:57:26 WARN WindowExec: No Partition Defined for Window operation! Moving all data to a single partition, this can cause serious performance degradation.\n"
     ]
    },
    {
     "name": "stdout",
     "output_type": "stream",
     "text": [
      "+-------------------------+\n",
      "|numerical_features_scaled|\n",
      "+-------------------------+\n",
      "|     [-61.907050013920...|\n",
      "|     [-61.872186832094...|\n",
      "|     [-61.872186832094...|\n",
      "+-------------------------+\n",
      "only showing top 3 rows\n",
      "\n"
     ]
    }
   ],
   "source": [
    "### Выделение числовых признаков\n",
    "num_features = ['numerical_features_scaled']\n",
    "final_assembler_num = VectorAssembler(inputCols=num_features, outputCol='features_sec') \n",
    "df_train = final_assembler_num.transform(df_train)\n",
    "df_test = final_assembler_num.transform(df_test)\n",
    "df_train.select(num_features).show(3) \n",
    "df_test.select(num_features).show(3) "
   ]
  },
  {
   "cell_type": "markdown",
   "id": "8a171aaa",
   "metadata": {
    "id": "9f0a82f3"
   },
   "source": [
    "## Обучение моделей"
   ]
  },
  {
   "cell_type": "code",
   "execution_count": 18,
   "id": "93349fa5",
   "metadata": {
    "scrolled": false
   },
   "outputs": [
    {
     "name": "stderr",
     "output_type": "stream",
     "text": [
      "22/12/14 10:57:27 WARN WindowExec: No Partition Defined for Window operation! Moving all data to a single partition, this can cause serious performance degradation.\n",
      "22/12/14 10:57:27 WARN WindowExec: No Partition Defined for Window operation! Moving all data to a single partition, this can cause serious performance degradation.\n",
      "22/12/14 10:57:28 WARN Instrumentation: [5f858273] regParam is zero, which might cause numerical instability and overfitting.\n",
      "22/12/14 10:57:28 WARN BLAS: Failed to load implementation from: com.github.fommil.netlib.NativeSystemBLAS\n",
      "22/12/14 10:57:28 WARN BLAS: Failed to load implementation from: com.github.fommil.netlib.NativeRefBLAS\n",
      "22/12/14 10:57:29 WARN LAPACK: Failed to load implementation from: com.github.fommil.netlib.NativeSystemLAPACK\n",
      "22/12/14 10:57:29 WARN LAPACK: Failed to load implementation from: com.github.fommil.netlib.NativeRefLAPACK\n",
      "22/12/14 10:57:29 WARN WindowExec: No Partition Defined for Window operation! Moving all data to a single partition, this can cause serious performance degradation.\n",
      "22/12/14 10:57:30 WARN WindowExec: No Partition Defined for Window operation! Moving all data to a single partition, this can cause serious performance degradation.\n",
      "22/12/14 10:57:30 WARN WindowExec: No Partition Defined for Window operation! Moving all data to a single partition, this can cause serious performance degradation.\n"
     ]
    },
    {
     "name": "stdout",
     "output_type": "stream",
     "text": [
      "+------------------+------------------+\n",
      "|median_house_value|        prediction|\n",
      "+------------------+------------------+\n",
      "|          103600.0| 150533.0466631665|\n",
      "|          106700.0| 217624.6519294884|\n",
      "|           73200.0|125169.93075912399|\n",
      "|           90100.0|195019.31599252112|\n",
      "|           67000.0|152291.13957492216|\n",
      "|           86400.0| 186076.1616788553|\n",
      "|           70500.0|163936.40808554692|\n",
      "|           85100.0|180008.60114514176|\n",
      "|           80500.0|181580.61779531697|\n",
      "|           96000.0|170314.90779798012|\n",
      "+------------------+------------------+\n",
      "only showing top 10 rows\n",
      "\n"
     ]
    }
   ],
   "source": [
    "### Модель линейной регрессии на всем наборе данных\n",
    "lr = LinearRegression(labelCol=target, featuresCol='features')\n",
    "model = lr.fit(df_train) \n",
    "predictions = model.transform(df_test)\n",
    "predictedLabes = predictions.select('median_house_value', 'prediction')\n",
    "predictedLabes.show(10) "
   ]
  },
  {
   "cell_type": "code",
   "execution_count": 19,
   "id": "ae9d579e",
   "metadata": {},
   "outputs": [
    {
     "name": "stderr",
     "output_type": "stream",
     "text": [
      "22/12/14 10:57:31 WARN WindowExec: No Partition Defined for Window operation! Moving all data to a single partition, this can cause serious performance degradation.\n",
      "22/12/14 10:57:31 WARN WindowExec: No Partition Defined for Window operation! Moving all data to a single partition, this can cause serious performance degradation.\n",
      "22/12/14 10:57:31 WARN Instrumentation: [7726603f] regParam is zero, which might cause numerical instability and overfitting.\n",
      "22/12/14 10:57:32 WARN WindowExec: No Partition Defined for Window operation! Moving all data to a single partition, this can cause serious performance degradation.\n",
      "22/12/14 10:57:33 WARN WindowExec: No Partition Defined for Window operation! Moving all data to a single partition, this can cause serious performance degradation.\n",
      "22/12/14 10:57:33 WARN WindowExec: No Partition Defined for Window operation! Moving all data to a single partition, this can cause serious performance degradation.\n"
     ]
    },
    {
     "name": "stdout",
     "output_type": "stream",
     "text": [
      "+------------------+------------------+\n",
      "|median_house_value|        prediction|\n",
      "+------------------+------------------+\n",
      "|          103600.0|100751.20280909305|\n",
      "|          106700.0| 190787.2397370534|\n",
      "|           73200.0| 74736.22098583262|\n",
      "|           90100.0|162342.36984607764|\n",
      "|           67000.0|119469.73784150137|\n",
      "|           86400.0| 155921.9725331883|\n",
      "|           70500.0|131193.75530479895|\n",
      "|           85100.0|150446.14696751675|\n",
      "|           80500.0|150167.76520445198|\n",
      "|           96000.0|133759.40251472825|\n",
      "+------------------+------------------+\n",
      "only showing top 10 rows\n",
      "\n"
     ]
    }
   ],
   "source": [
    "### Модель линейной регрессии на числовых данных (без категориальных)\n",
    "lr_sec = LinearRegression(labelCol=target, featuresCol='features_sec')\n",
    "model_sec = lr_sec.fit(df_train) \n",
    "predictions_sec = model_sec.transform(df_test)\n",
    "predictedLabes_sec = predictions_sec.select('median_house_value', 'prediction')\n",
    "predictedLabes_sec.show(10) "
   ]
  },
  {
   "cell_type": "code",
   "execution_count": 20,
   "id": "289c17f0",
   "metadata": {},
   "outputs": [
    {
     "name": "stderr",
     "output_type": "stream",
     "text": [
      "22/12/14 10:57:34 WARN WindowExec: No Partition Defined for Window operation! Moving all data to a single partition, this can cause serious performance degradation.\n",
      "22/12/14 10:57:34 WARN WindowExec: No Partition Defined for Window operation! Moving all data to a single partition, this can cause serious performance degradation.\n",
      "22/12/14 10:57:35 WARN WindowExec: No Partition Defined for Window operation! Moving all data to a single partition, this can cause serious performance degradation.\n",
      "22/12/14 10:57:35 WARN WindowExec: No Partition Defined for Window operation! Moving all data to a single partition, this can cause serious performance degradation.\n",
      "22/12/14 10:57:36 WARN WindowExec: No Partition Defined for Window operation! Moving all data to a single partition, this can cause serious performance degradation.\n",
      "22/12/14 10:57:36 WARN WindowExec: No Partition Defined for Window operation! Moving all data to a single partition, this can cause serious performance degradation.\n"
     ]
    }
   ],
   "source": [
    "### Расчет метрик качества моделей (rmse)\n",
    "rmse_one = round(RegressionEvaluator(labelCol='median_house_value', metricName='rmse').evaluate(predictions), 3)\n",
    "rmse_sec = round(RegressionEvaluator(labelCol='median_house_value', metricName='rmse').evaluate(predictions_sec), 3)\n",
    "### Расчет метрик качества моделей (mae)\n",
    "mae_one = round(RegressionEvaluator(labelCol='median_house_value', metricName='mae').evaluate(predictions), 3)\n",
    "mae_sec = round(RegressionEvaluator(labelCol='median_house_value', metricName='mae').evaluate(predictions_sec), 3)\n",
    "### Расчет метрик качества моделей (r2)\n",
    "r2_one = round(RegressionEvaluator(labelCol='median_house_value', metricName='r2').evaluate(predictions), 3)\n",
    "r2_sec = round(RegressionEvaluator(labelCol='median_house_value', metricName='r2').evaluate(predictions_sec), 3)"
   ]
  },
  {
   "cell_type": "markdown",
   "id": "757fd103",
   "metadata": {
    "id": "757fd103"
   },
   "source": [
    "## Анализ результатов"
   ]
  },
  {
   "cell_type": "code",
   "execution_count": 21,
   "id": "299cf7fb",
   "metadata": {
    "scrolled": true
   },
   "outputs": [
    {
     "name": "stdout",
     "output_type": "stream",
     "text": [
      "root\n",
      " |-- model: string (nullable = true)\n",
      " |-- RMSE: double (nullable = true)\n",
      " |-- MAE: double (nullable = true)\n",
      " |-- R2: double (nullable = true)\n",
      "\n"
     ]
    },
    {
     "name": "stderr",
     "output_type": "stream",
     "text": [
      "                                                                                \r"
     ]
    },
    {
     "name": "stdout",
     "output_type": "stream",
     "text": [
      "+-----------------+---------+---------+-----+\n",
      "|            model|     RMSE|      MAE|   R2|\n",
      "+-----------------+---------+---------+-----+\n",
      "|model_cat_and_num|70786.462|50863.551|0.638|\n",
      "|   model_num_only|71791.284|51804.393|0.627|\n",
      "+-----------------+---------+---------+-----+\n",
      "\n"
     ]
    }
   ],
   "source": [
    "### Объединение в одну таблицу\n",
    "data_results = spark.createDataFrame([('model_cat_and_num', rmse_one, mae_one, r2_one), \n",
    "                                      ('model_num_only', rmse_sec, mae_sec, r2_sec)], ['model', 'RMSE', 'MAE', 'R2'])\n",
    "data_results.printSchema()\n",
    "data_results.show()\n",
    "### Остановка сессии \n",
    "spark.stop()"
   ]
  }
 ],
 "metadata": {
  "ExecuteTimeLog": [
   {
    "duration": 15110,
    "start_time": "2022-12-11T18:52:41.978Z"
   },
   {
    "duration": 7809,
    "start_time": "2022-12-11T18:53:46.825Z"
   },
   {
    "duration": 1417,
    "start_time": "2022-12-11T18:54:06.704Z"
   },
   {
    "duration": 891,
    "start_time": "2022-12-11T18:54:18.176Z"
   },
   {
    "duration": 3467,
    "start_time": "2022-12-11T18:56:09.875Z"
   },
   {
    "duration": 1149,
    "start_time": "2022-12-11T18:56:55.998Z"
   },
   {
    "duration": 1392,
    "start_time": "2022-12-11T18:57:03.147Z"
   },
   {
    "duration": 1808,
    "start_time": "2022-12-11T18:57:45.414Z"
   },
   {
    "duration": 782,
    "start_time": "2022-12-11T18:58:09.653Z"
   },
   {
    "duration": 73,
    "start_time": "2022-12-11T19:09:16.538Z"
   },
   {
    "duration": 10,
    "start_time": "2022-12-11T19:09:36.730Z"
   },
   {
    "duration": 10,
    "start_time": "2022-12-11T19:09:40.329Z"
   },
   {
    "duration": 10,
    "start_time": "2022-12-11T19:10:30.211Z"
   },
   {
    "duration": 11,
    "start_time": "2022-12-11T19:12:29.748Z"
   },
   {
    "duration": 475,
    "start_time": "2022-12-11T19:13:40.671Z"
   },
   {
    "duration": 213,
    "start_time": "2022-12-11T19:14:08.349Z"
   },
   {
    "duration": 238,
    "start_time": "2022-12-11T19:14:25.903Z"
   },
   {
    "duration": 189,
    "start_time": "2022-12-11T19:14:38.055Z"
   },
   {
    "duration": 547,
    "start_time": "2022-12-11T19:14:51.079Z"
   },
   {
    "duration": 475,
    "start_time": "2022-12-11T19:15:27.599Z"
   },
   {
    "duration": 401,
    "start_time": "2022-12-11T19:15:44.264Z"
   },
   {
    "duration": 355,
    "start_time": "2022-12-11T19:16:29.418Z"
   },
   {
    "duration": 274,
    "start_time": "2022-12-11T19:16:37.073Z"
   },
   {
    "duration": 1576,
    "start_time": "2022-12-11T19:17:34.369Z"
   },
   {
    "duration": 1228,
    "start_time": "2022-12-11T19:17:41.506Z"
   },
   {
    "duration": 1588,
    "start_time": "2022-12-11T19:17:54.834Z"
   },
   {
    "duration": 572,
    "start_time": "2022-12-11T19:18:18.570Z"
   },
   {
    "duration": 249,
    "start_time": "2022-12-11T20:46:48.389Z"
   },
   {
    "duration": 752,
    "start_time": "2022-12-11T20:46:53.220Z"
   },
   {
    "duration": 854,
    "start_time": "2022-12-11T20:46:55.796Z"
   },
   {
    "duration": 567,
    "start_time": "2022-12-11T20:46:58.484Z"
   },
   {
    "duration": 7,
    "start_time": "2022-12-11T20:52:32.019Z"
   },
   {
    "duration": 120,
    "start_time": "2022-12-11T20:52:41.290Z"
   },
   {
    "duration": 508,
    "start_time": "2022-12-11T20:53:23.635Z"
   },
   {
    "duration": 32,
    "start_time": "2022-12-11T20:54:01.756Z"
   },
   {
    "duration": 515,
    "start_time": "2022-12-11T20:54:24.869Z"
   },
   {
    "duration": 583,
    "start_time": "2022-12-11T20:54:34.430Z"
   },
   {
    "duration": 664,
    "start_time": "2022-12-11T20:55:13.293Z"
   },
   {
    "duration": 1437,
    "start_time": "2022-12-11T20:56:24.206Z"
   },
   {
    "duration": 93,
    "start_time": "2022-12-11T20:56:36.478Z"
   },
   {
    "duration": 105,
    "start_time": "2022-12-11T20:56:42.678Z"
   },
   {
    "duration": 439,
    "start_time": "2022-12-11T20:57:07.743Z"
   },
   {
    "duration": 788,
    "start_time": "2022-12-11T20:57:08.184Z"
   },
   {
    "duration": 571,
    "start_time": "2022-12-11T20:57:09.023Z"
   },
   {
    "duration": 3,
    "start_time": "2022-12-11T20:57:09.596Z"
   },
   {
    "duration": 601,
    "start_time": "2022-12-11T20:57:09.600Z"
   },
   {
    "duration": 60,
    "start_time": "2022-12-11T20:57:10.203Z"
   },
   {
    "duration": 464,
    "start_time": "2022-12-11T20:57:30.967Z"
   },
   {
    "duration": 443,
    "start_time": "2022-12-11T20:57:38.233Z"
   },
   {
    "duration": 402,
    "start_time": "2022-12-11T20:57:41.582Z"
   },
   {
    "duration": 393,
    "start_time": "2022-12-11T20:57:48.183Z"
   },
   {
    "duration": 425,
    "start_time": "2022-12-11T20:58:32.017Z"
   },
   {
    "duration": 93,
    "start_time": "2022-12-11T20:59:06.172Z"
   },
   {
    "duration": 3,
    "start_time": "2022-12-11T20:59:23.880Z"
   },
   {
    "duration": 97,
    "start_time": "2022-12-11T20:59:23.885Z"
   },
   {
    "duration": 0,
    "start_time": "2022-12-11T20:59:23.984Z"
   },
   {
    "duration": 416,
    "start_time": "2022-12-11T20:59:30.714Z"
   },
   {
    "duration": 714,
    "start_time": "2022-12-11T20:59:31.132Z"
   },
   {
    "duration": 482,
    "start_time": "2022-12-11T20:59:31.848Z"
   },
   {
    "duration": 4,
    "start_time": "2022-12-11T20:59:32.333Z"
   },
   {
    "duration": 422,
    "start_time": "2022-12-11T20:59:32.339Z"
   },
   {
    "duration": 228,
    "start_time": "2022-12-11T20:59:32.763Z"
   },
   {
    "duration": 380,
    "start_time": "2022-12-11T20:59:45.497Z"
   },
   {
    "duration": 671,
    "start_time": "2022-12-11T20:59:45.880Z"
   },
   {
    "duration": 875,
    "start_time": "2022-12-11T20:59:46.558Z"
   },
   {
    "duration": 4,
    "start_time": "2022-12-11T20:59:47.435Z"
   },
   {
    "duration": 420,
    "start_time": "2022-12-11T20:59:47.441Z"
   },
   {
    "duration": 109,
    "start_time": "2022-12-11T20:59:47.863Z"
   },
   {
    "duration": 1701,
    "start_time": "2022-12-11T21:00:26.155Z"
   },
   {
    "duration": 3644,
    "start_time": "2022-12-11T21:00:52.410Z"
   },
   {
    "duration": 48,
    "start_time": "2022-12-11T21:04:52.603Z"
   },
   {
    "duration": 86,
    "start_time": "2022-12-11T21:06:48.248Z"
   },
   {
    "duration": 320,
    "start_time": "2022-12-11T21:07:07.960Z"
   },
   {
    "duration": 682,
    "start_time": "2022-12-11T21:07:08.281Z"
   },
   {
    "duration": 800,
    "start_time": "2022-12-11T21:07:08.965Z"
   },
   {
    "duration": 3,
    "start_time": "2022-12-11T21:07:09.768Z"
   },
   {
    "duration": 364,
    "start_time": "2022-12-11T21:07:09.773Z"
   },
   {
    "duration": 149,
    "start_time": "2022-12-11T21:07:10.140Z"
   },
   {
    "duration": 2451,
    "start_time": "2022-12-11T21:07:10.327Z"
   },
   {
    "duration": 32,
    "start_time": "2022-12-11T21:07:12.821Z"
   },
   {
    "duration": 82,
    "start_time": "2022-12-11T21:07:31.865Z"
   },
   {
    "duration": 388,
    "start_time": "2022-12-11T21:07:39.575Z"
   },
   {
    "duration": 593,
    "start_time": "2022-12-11T21:07:39.965Z"
   },
   {
    "duration": 436,
    "start_time": "2022-12-11T21:07:40.561Z"
   },
   {
    "duration": 4,
    "start_time": "2022-12-11T21:07:41.033Z"
   },
   {
    "duration": 327,
    "start_time": "2022-12-11T21:07:41.038Z"
   },
   {
    "duration": 110,
    "start_time": "2022-12-11T21:07:41.366Z"
   },
   {
    "duration": 2265,
    "start_time": "2022-12-11T21:07:41.479Z"
   },
   {
    "duration": 309,
    "start_time": "2022-12-11T21:07:43.748Z"
   },
   {
    "duration": 80,
    "start_time": "2022-12-11T21:11:02.733Z"
   },
   {
    "duration": 365,
    "start_time": "2022-12-11T21:11:10.641Z"
   },
   {
    "duration": 632,
    "start_time": "2022-12-11T21:11:11.021Z"
   },
   {
    "duration": 726,
    "start_time": "2022-12-11T21:11:11.654Z"
   },
   {
    "duration": 3,
    "start_time": "2022-12-11T21:11:12.382Z"
   },
   {
    "duration": 404,
    "start_time": "2022-12-11T21:11:12.387Z"
   },
   {
    "duration": 233,
    "start_time": "2022-12-11T21:11:12.793Z"
   },
   {
    "duration": 232,
    "start_time": "2022-12-11T21:11:13.027Z"
   },
   {
    "duration": 2,
    "start_time": "2022-12-11T21:11:37.933Z"
   },
   {
    "duration": 83,
    "start_time": "2022-12-11T21:11:38.685Z"
   },
   {
    "duration": 479,
    "start_time": "2022-12-11T21:12:05.044Z"
   },
   {
    "duration": 527,
    "start_time": "2022-12-11T21:12:05.525Z"
   },
   {
    "duration": 800,
    "start_time": "2022-12-11T21:12:06.054Z"
   },
   {
    "duration": 3,
    "start_time": "2022-12-11T21:12:06.857Z"
   },
   {
    "duration": 516,
    "start_time": "2022-12-11T21:12:06.861Z"
   },
   {
    "duration": 194,
    "start_time": "2022-12-11T21:12:07.379Z"
   },
   {
    "duration": 56,
    "start_time": "2022-12-11T21:12:07.621Z"
   },
   {
    "duration": 286,
    "start_time": "2022-12-11T21:12:15.139Z"
   },
   {
    "duration": 607,
    "start_time": "2022-12-11T21:15:31.369Z"
   },
   {
    "duration": 103,
    "start_time": "2022-12-11T21:20:35.295Z"
   },
   {
    "duration": 385,
    "start_time": "2022-12-11T21:20:46.190Z"
   },
   {
    "duration": 574,
    "start_time": "2022-12-11T21:20:46.577Z"
   },
   {
    "duration": 619,
    "start_time": "2022-12-11T21:20:47.153Z"
   },
   {
    "duration": 3,
    "start_time": "2022-12-11T21:20:47.774Z"
   },
   {
    "duration": 301,
    "start_time": "2022-12-11T21:20:47.778Z"
   },
   {
    "duration": 211,
    "start_time": "2022-12-11T21:20:48.121Z"
   },
   {
    "duration": 196,
    "start_time": "2022-12-11T21:20:48.333Z"
   },
   {
    "duration": 636,
    "start_time": "2022-12-11T21:20:48.531Z"
   },
   {
    "duration": 0,
    "start_time": "2022-12-11T21:20:49.169Z"
   },
   {
    "duration": 9,
    "start_time": "2022-12-11T21:24:23.506Z"
   },
   {
    "duration": 8,
    "start_time": "2022-12-11T21:25:20.986Z"
   },
   {
    "duration": 10,
    "start_time": "2022-12-11T21:25:28.403Z"
   },
   {
    "duration": 17,
    "start_time": "2022-12-11T21:25:37.738Z"
   },
   {
    "duration": 11,
    "start_time": "2022-12-11T21:26:11.534Z"
   },
   {
    "duration": 11,
    "start_time": "2022-12-11T21:27:32.260Z"
   },
   {
    "duration": 353,
    "start_time": "2022-12-11T21:29:17.732Z"
   },
   {
    "duration": 677,
    "start_time": "2022-12-11T21:29:18.087Z"
   },
   {
    "duration": 635,
    "start_time": "2022-12-11T21:29:18.765Z"
   },
   {
    "duration": 3,
    "start_time": "2022-12-11T21:29:19.403Z"
   },
   {
    "duration": 364,
    "start_time": "2022-12-11T21:29:19.408Z"
   },
   {
    "duration": 132,
    "start_time": "2022-12-11T21:29:19.774Z"
   },
   {
    "duration": 166,
    "start_time": "2022-12-11T21:29:19.907Z"
   },
   {
    "duration": 320,
    "start_time": "2022-12-11T21:29:20.075Z"
   },
   {
    "duration": 0,
    "start_time": "2022-12-11T21:29:20.396Z"
   },
   {
    "duration": 317,
    "start_time": "2022-12-11T21:30:14.456Z"
   },
   {
    "duration": 655,
    "start_time": "2022-12-11T21:30:14.776Z"
   },
   {
    "duration": 459,
    "start_time": "2022-12-11T21:30:15.432Z"
   },
   {
    "duration": 2,
    "start_time": "2022-12-11T21:30:15.894Z"
   },
   {
    "duration": 436,
    "start_time": "2022-12-11T21:30:15.898Z"
   },
   {
    "duration": 189,
    "start_time": "2022-12-11T21:30:16.335Z"
   },
   {
    "duration": 202,
    "start_time": "2022-12-11T21:30:16.525Z"
   },
   {
    "duration": 247,
    "start_time": "2022-12-11T21:30:16.730Z"
   },
   {
    "duration": 163,
    "start_time": "2022-12-11T21:30:16.979Z"
   },
   {
    "duration": 329,
    "start_time": "2022-12-11T21:32:13.469Z"
   },
   {
    "duration": 538,
    "start_time": "2022-12-11T21:32:13.800Z"
   },
   {
    "duration": 513,
    "start_time": "2022-12-11T21:32:14.339Z"
   },
   {
    "duration": 2,
    "start_time": "2022-12-11T21:32:14.854Z"
   },
   {
    "duration": 312,
    "start_time": "2022-12-11T21:32:14.858Z"
   },
   {
    "duration": 118,
    "start_time": "2022-12-11T21:32:15.172Z"
   },
   {
    "duration": 115,
    "start_time": "2022-12-11T21:32:15.292Z"
   },
   {
    "duration": 25,
    "start_time": "2022-12-11T21:32:15.409Z"
   },
   {
    "duration": 0,
    "start_time": "2022-12-11T21:32:15.440Z"
   },
   {
    "duration": 236,
    "start_time": "2022-12-11T21:34:39.363Z"
   },
   {
    "duration": 300,
    "start_time": "2022-12-11T21:35:30.692Z"
   },
   {
    "duration": 537,
    "start_time": "2022-12-11T21:35:30.994Z"
   },
   {
    "duration": 415,
    "start_time": "2022-12-11T21:35:31.535Z"
   },
   {
    "duration": 3,
    "start_time": "2022-12-11T21:35:31.952Z"
   },
   {
    "duration": 315,
    "start_time": "2022-12-11T21:35:31.956Z"
   },
   {
    "duration": 190,
    "start_time": "2022-12-11T21:35:32.273Z"
   },
   {
    "duration": 116,
    "start_time": "2022-12-11T21:35:32.464Z"
   },
   {
    "duration": 227,
    "start_time": "2022-12-11T21:35:32.583Z"
   },
   {
    "duration": 0,
    "start_time": "2022-12-11T21:35:32.812Z"
   },
   {
    "duration": 340,
    "start_time": "2022-12-11T21:35:54.933Z"
   },
   {
    "duration": 490,
    "start_time": "2022-12-11T21:35:55.276Z"
   },
   {
    "duration": 486,
    "start_time": "2022-12-11T21:35:55.767Z"
   },
   {
    "duration": 3,
    "start_time": "2022-12-11T21:35:56.255Z"
   },
   {
    "duration": 245,
    "start_time": "2022-12-11T21:35:56.261Z"
   },
   {
    "duration": 128,
    "start_time": "2022-12-11T21:35:56.530Z"
   },
   {
    "duration": 88,
    "start_time": "2022-12-11T21:35:56.660Z"
   },
   {
    "duration": 527,
    "start_time": "2022-12-11T21:35:56.749Z"
   },
   {
    "duration": 0,
    "start_time": "2022-12-11T21:35:57.277Z"
   },
   {
    "duration": 336,
    "start_time": "2022-12-11T21:38:00.690Z"
   },
   {
    "duration": 603,
    "start_time": "2022-12-11T21:38:01.027Z"
   },
   {
    "duration": 741,
    "start_time": "2022-12-11T21:38:01.636Z"
   },
   {
    "duration": 3,
    "start_time": "2022-12-11T21:38:02.379Z"
   },
   {
    "duration": 316,
    "start_time": "2022-12-11T21:38:02.384Z"
   },
   {
    "duration": 117,
    "start_time": "2022-12-11T21:38:02.702Z"
   },
   {
    "duration": 181,
    "start_time": "2022-12-11T21:38:02.822Z"
   },
   {
    "duration": 470,
    "start_time": "2022-12-11T21:38:03.006Z"
   },
   {
    "duration": 0,
    "start_time": "2022-12-11T21:38:03.477Z"
   },
   {
    "duration": 342,
    "start_time": "2022-12-11T21:39:15.800Z"
   },
   {
    "duration": 442,
    "start_time": "2022-12-11T21:39:16.144Z"
   },
   {
    "duration": 514,
    "start_time": "2022-12-11T21:39:16.622Z"
   },
   {
    "duration": 3,
    "start_time": "2022-12-11T21:39:17.138Z"
   },
   {
    "duration": 225,
    "start_time": "2022-12-11T21:39:17.143Z"
   },
   {
    "duration": 152,
    "start_time": "2022-12-11T21:39:17.370Z"
   },
   {
    "duration": 150,
    "start_time": "2022-12-11T21:39:17.523Z"
   },
   {
    "duration": 621,
    "start_time": "2022-12-11T21:39:17.675Z"
   },
   {
    "duration": 0,
    "start_time": "2022-12-11T21:39:18.297Z"
   },
   {
    "duration": 291,
    "start_time": "2022-12-11T21:42:19.885Z"
   },
   {
    "duration": 471,
    "start_time": "2022-12-11T21:42:20.178Z"
   },
   {
    "duration": 444,
    "start_time": "2022-12-11T21:42:20.650Z"
   },
   {
    "duration": 3,
    "start_time": "2022-12-11T21:42:21.096Z"
   },
   {
    "duration": 262,
    "start_time": "2022-12-11T21:42:21.101Z"
   },
   {
    "duration": 111,
    "start_time": "2022-12-11T21:42:21.365Z"
   },
   {
    "duration": 105,
    "start_time": "2022-12-11T21:42:21.479Z"
   },
   {
    "duration": 315,
    "start_time": "2022-12-11T21:42:21.585Z"
   },
   {
    "duration": 0,
    "start_time": "2022-12-11T21:42:21.901Z"
   },
   {
    "duration": 302,
    "start_time": "2022-12-11T21:45:00.153Z"
   },
   {
    "duration": 470,
    "start_time": "2022-12-11T21:45:00.457Z"
   },
   {
    "duration": 370,
    "start_time": "2022-12-11T21:45:00.929Z"
   },
   {
    "duration": 21,
    "start_time": "2022-12-11T21:45:01.301Z"
   },
   {
    "duration": 288,
    "start_time": "2022-12-11T21:45:01.324Z"
   },
   {
    "duration": 144,
    "start_time": "2022-12-11T21:45:01.613Z"
   },
   {
    "duration": 119,
    "start_time": "2022-12-11T21:45:01.758Z"
   },
   {
    "duration": 381,
    "start_time": "2022-12-11T21:45:01.879Z"
   },
   {
    "duration": 0,
    "start_time": "2022-12-11T21:45:02.261Z"
   },
   {
    "duration": 424,
    "start_time": "2022-12-11T21:49:15.439Z"
   },
   {
    "duration": 611,
    "start_time": "2022-12-11T21:49:15.865Z"
   },
   {
    "duration": 453,
    "start_time": "2022-12-11T21:49:16.478Z"
   },
   {
    "duration": 2,
    "start_time": "2022-12-11T21:49:16.933Z"
   },
   {
    "duration": 242,
    "start_time": "2022-12-11T21:49:16.937Z"
   },
   {
    "duration": 115,
    "start_time": "2022-12-11T21:49:17.181Z"
   },
   {
    "duration": 158,
    "start_time": "2022-12-11T21:49:17.299Z"
   },
   {
    "duration": 470,
    "start_time": "2022-12-11T21:49:17.458Z"
   },
   {
    "duration": 0,
    "start_time": "2022-12-11T21:49:17.929Z"
   },
   {
    "duration": 16748,
    "start_time": "2022-12-12T09:28:37.458Z"
   },
   {
    "duration": 10906,
    "start_time": "2022-12-12T09:28:54.209Z"
   },
   {
    "duration": 5796,
    "start_time": "2022-12-12T09:29:05.118Z"
   },
   {
    "duration": 2633,
    "start_time": "2022-12-12T09:29:20.296Z"
   },
   {
    "duration": 2498,
    "start_time": "2022-12-12T09:29:38.604Z"
   },
   {
    "duration": 592,
    "start_time": "2022-12-12T09:30:03.709Z"
   },
   {
    "duration": 1243,
    "start_time": "2022-12-12T09:30:20.598Z"
   },
   {
    "duration": 4,
    "start_time": "2022-12-12T09:30:32.534Z"
   },
   {
    "duration": 1787,
    "start_time": "2022-12-12T09:30:34.625Z"
   },
   {
    "duration": 723,
    "start_time": "2022-12-12T09:30:37.391Z"
   },
   {
    "duration": 548,
    "start_time": "2022-12-12T09:30:39.677Z"
   },
   {
    "duration": 1556,
    "start_time": "2022-12-12T09:30:43.373Z"
   },
   {
    "duration": 665,
    "start_time": "2022-12-12T10:29:16.847Z"
   },
   {
    "duration": 470,
    "start_time": "2022-12-12T10:33:12.878Z"
   },
   {
    "duration": 342,
    "start_time": "2022-12-12T10:36:17.992Z"
   },
   {
    "duration": 286,
    "start_time": "2022-12-12T10:36:34.447Z"
   },
   {
    "duration": 5770,
    "start_time": "2022-12-12T10:37:01.187Z"
   },
   {
    "duration": 5203,
    "start_time": "2022-12-12T10:37:14.570Z"
   },
   {
    "duration": 5544,
    "start_time": "2022-12-12T10:37:34.971Z"
   },
   {
    "duration": 3427,
    "start_time": "2022-12-12T10:40:58.186Z"
   },
   {
    "duration": 921,
    "start_time": "2022-12-12T10:46:57.996Z"
   },
   {
    "duration": 0,
    "start_time": "2022-12-12T10:46:58.919Z"
   },
   {
    "duration": 0,
    "start_time": "2022-12-12T10:46:58.921Z"
   },
   {
    "duration": 0,
    "start_time": "2022-12-12T10:46:58.922Z"
   },
   {
    "duration": 0,
    "start_time": "2022-12-12T10:46:58.924Z"
   },
   {
    "duration": 0,
    "start_time": "2022-12-12T10:46:58.925Z"
   },
   {
    "duration": 0,
    "start_time": "2022-12-12T10:46:58.926Z"
   },
   {
    "duration": 0,
    "start_time": "2022-12-12T10:46:58.928Z"
   },
   {
    "duration": 0,
    "start_time": "2022-12-12T10:46:58.930Z"
   },
   {
    "duration": 0,
    "start_time": "2022-12-12T10:46:58.931Z"
   },
   {
    "duration": 0,
    "start_time": "2022-12-12T10:46:58.933Z"
   },
   {
    "duration": 0,
    "start_time": "2022-12-12T10:46:58.934Z"
   },
   {
    "duration": 16494,
    "start_time": "2022-12-12T10:49:22.833Z"
   },
   {
    "duration": 10268,
    "start_time": "2022-12-12T10:49:39.330Z"
   },
   {
    "duration": 4737,
    "start_time": "2022-12-12T10:49:49.600Z"
   },
   {
    "duration": 1677,
    "start_time": "2022-12-12T10:49:54.397Z"
   },
   {
    "duration": 20,
    "start_time": "2022-12-12T10:49:56.077Z"
   },
   {
    "duration": 2200,
    "start_time": "2022-12-12T10:49:56.099Z"
   },
   {
    "duration": 720,
    "start_time": "2022-12-12T10:49:58.300Z"
   },
   {
    "duration": 702,
    "start_time": "2022-12-12T10:49:59.023Z"
   },
   {
    "duration": 1782,
    "start_time": "2022-12-12T10:49:59.726Z"
   },
   {
    "duration": 597,
    "start_time": "2022-12-12T10:50:01.511Z"
   },
   {
    "duration": 5219,
    "start_time": "2022-12-12T10:50:02.110Z"
   },
   {
    "duration": 7269,
    "start_time": "2022-12-12T10:50:07.330Z"
   },
   {
    "duration": 3959,
    "start_time": "2022-12-12T10:51:10.439Z"
   },
   {
    "duration": 244,
    "start_time": "2022-12-12T10:54:52.455Z"
   },
   {
    "duration": 2995,
    "start_time": "2022-12-12T10:56:21.621Z"
   },
   {
    "duration": 17351,
    "start_time": "2022-12-12T10:56:48.377Z"
   },
   {
    "duration": 11563,
    "start_time": "2022-12-12T10:57:05.733Z"
   },
   {
    "duration": 5409,
    "start_time": "2022-12-12T10:57:17.299Z"
   },
   {
    "duration": 2620,
    "start_time": "2022-12-12T10:57:22.710Z"
   },
   {
    "duration": 3,
    "start_time": "2022-12-12T10:57:25.333Z"
   },
   {
    "duration": 2332,
    "start_time": "2022-12-12T10:57:25.338Z"
   },
   {
    "duration": 717,
    "start_time": "2022-12-12T10:57:27.698Z"
   },
   {
    "duration": 703,
    "start_time": "2022-12-12T10:57:28.417Z"
   },
   {
    "duration": 1503,
    "start_time": "2022-12-12T10:57:29.122Z"
   },
   {
    "duration": 580,
    "start_time": "2022-12-12T10:57:30.627Z"
   },
   {
    "duration": 395,
    "start_time": "2022-12-12T10:57:31.209Z"
   },
   {
    "duration": 3696,
    "start_time": "2022-12-12T10:57:31.606Z"
   },
   {
    "duration": 6895,
    "start_time": "2022-12-12T10:57:35.305Z"
   },
   {
    "duration": 3632,
    "start_time": "2022-12-12T10:57:42.203Z"
   },
   {
    "duration": 2880,
    "start_time": "2022-12-12T10:58:10.880Z"
   },
   {
    "duration": 2371,
    "start_time": "2022-12-12T11:01:49.128Z"
   },
   {
    "duration": 85,
    "start_time": "2022-12-12T11:02:17.506Z"
   },
   {
    "duration": 2815,
    "start_time": "2022-12-12T11:03:40.904Z"
   },
   {
    "duration": 2150,
    "start_time": "2022-12-12T11:04:21.867Z"
   },
   {
    "duration": 2714,
    "start_time": "2022-12-12T11:04:30.740Z"
   },
   {
    "duration": 3869,
    "start_time": "2022-12-12T11:04:48.115Z"
   },
   {
    "duration": 2307,
    "start_time": "2022-12-12T11:05:02.667Z"
   },
   {
    "duration": 2872,
    "start_time": "2022-12-12T11:05:19.836Z"
   },
   {
    "duration": 3481,
    "start_time": "2022-12-12T11:06:05.378Z"
   },
   {
    "duration": 3213,
    "start_time": "2022-12-12T11:06:19.726Z"
   },
   {
    "duration": 15811,
    "start_time": "2022-12-12T11:06:32.224Z"
   },
   {
    "duration": 10880,
    "start_time": "2022-12-12T11:06:48.038Z"
   },
   {
    "duration": 4423,
    "start_time": "2022-12-12T11:06:58.920Z"
   },
   {
    "duration": 2000,
    "start_time": "2022-12-12T11:07:03.345Z"
   },
   {
    "duration": 4,
    "start_time": "2022-12-12T11:07:05.396Z"
   },
   {
    "duration": 2193,
    "start_time": "2022-12-12T11:07:05.403Z"
   },
   {
    "duration": 612,
    "start_time": "2022-12-12T11:07:07.599Z"
   },
   {
    "duration": 503,
    "start_time": "2022-12-12T11:07:08.213Z"
   },
   {
    "duration": 1479,
    "start_time": "2022-12-12T11:07:08.718Z"
   },
   {
    "duration": 520,
    "start_time": "2022-12-12T11:07:10.200Z"
   },
   {
    "duration": 325,
    "start_time": "2022-12-12T11:07:10.721Z"
   },
   {
    "duration": 3756,
    "start_time": "2022-12-12T11:07:11.048Z"
   },
   {
    "duration": 7493,
    "start_time": "2022-12-12T11:07:14.806Z"
   },
   {
    "duration": 4558,
    "start_time": "2022-12-12T11:07:22.301Z"
   },
   {
    "duration": 2816,
    "start_time": "2022-12-12T11:12:25.782Z"
   },
   {
    "duration": 2363,
    "start_time": "2022-12-12T11:12:37.839Z"
   },
   {
    "duration": 2037,
    "start_time": "2022-12-12T11:12:56.497Z"
   },
   {
    "duration": 76,
    "start_time": "2022-12-12T11:15:38.738Z"
   },
   {
    "duration": 175,
    "start_time": "2022-12-12T11:17:51.396Z"
   },
   {
    "duration": 2045,
    "start_time": "2022-12-12T11:18:01.877Z"
   },
   {
    "duration": 3878,
    "start_time": "2022-12-12T11:18:07.334Z"
   },
   {
    "duration": 2659,
    "start_time": "2022-12-12T11:18:27.850Z"
   },
   {
    "duration": 2029,
    "start_time": "2022-12-12T11:20:15.520Z"
   },
   {
    "duration": 3504,
    "start_time": "2022-12-12T11:20:29.907Z"
   },
   {
    "duration": 16132,
    "start_time": "2022-12-12T11:20:57.974Z"
   },
   {
    "duration": 8898,
    "start_time": "2022-12-12T11:21:14.108Z"
   },
   {
    "duration": 4293,
    "start_time": "2022-12-12T11:21:23.008Z"
   },
   {
    "duration": 2003,
    "start_time": "2022-12-12T11:21:27.303Z"
   },
   {
    "duration": 4,
    "start_time": "2022-12-12T11:21:29.307Z"
   },
   {
    "duration": 1756,
    "start_time": "2022-12-12T11:21:29.312Z"
   },
   {
    "duration": 544,
    "start_time": "2022-12-12T11:21:31.097Z"
   },
   {
    "duration": 563,
    "start_time": "2022-12-12T11:21:31.642Z"
   },
   {
    "duration": 1222,
    "start_time": "2022-12-12T11:21:32.207Z"
   },
   {
    "duration": 473,
    "start_time": "2022-12-12T11:21:33.432Z"
   },
   {
    "duration": 327,
    "start_time": "2022-12-12T11:21:33.907Z"
   },
   {
    "duration": 3488,
    "start_time": "2022-12-12T11:21:34.237Z"
   },
   {
    "duration": 4707,
    "start_time": "2022-12-12T11:21:37.727Z"
   },
   {
    "duration": 4821,
    "start_time": "2022-12-12T11:21:42.436Z"
   },
   {
    "duration": 2393,
    "start_time": "2022-12-12T11:24:33.823Z"
   },
   {
    "duration": 2350,
    "start_time": "2022-12-12T11:31:54.284Z"
   },
   {
    "duration": 2454,
    "start_time": "2022-12-12T11:32:21.267Z"
   },
   {
    "duration": 2226,
    "start_time": "2022-12-12T11:38:22.581Z"
   },
   {
    "duration": 2342,
    "start_time": "2022-12-12T11:38:46.133Z"
   },
   {
    "duration": 778,
    "start_time": "2022-12-12T11:48:32.058Z"
   },
   {
    "duration": 529,
    "start_time": "2022-12-12T11:48:39.012Z"
   },
   {
    "duration": 1521,
    "start_time": "2022-12-12T11:49:25.203Z"
   },
   {
    "duration": 1448,
    "start_time": "2022-12-12T11:51:05.115Z"
   },
   {
    "duration": 1946,
    "start_time": "2022-12-12T11:51:42.355Z"
   },
   {
    "duration": 2607,
    "start_time": "2022-12-12T11:52:36.050Z"
   },
   {
    "duration": 2448,
    "start_time": "2022-12-12T11:52:52.674Z"
   },
   {
    "duration": 1076,
    "start_time": "2022-12-12T11:58:48.431Z"
   },
   {
    "duration": 15737,
    "start_time": "2022-12-12T12:10:00.671Z"
   },
   {
    "duration": 8705,
    "start_time": "2022-12-12T12:10:16.411Z"
   },
   {
    "duration": 3988,
    "start_time": "2022-12-12T12:10:25.117Z"
   },
   {
    "duration": 1823,
    "start_time": "2022-12-12T12:10:29.107Z"
   },
   {
    "duration": 2,
    "start_time": "2022-12-12T12:10:30.933Z"
   },
   {
    "duration": 1773,
    "start_time": "2022-12-12T12:10:30.937Z"
   },
   {
    "duration": 632,
    "start_time": "2022-12-12T12:10:32.711Z"
   },
   {
    "duration": 560,
    "start_time": "2022-12-12T12:10:33.345Z"
   },
   {
    "duration": 1294,
    "start_time": "2022-12-12T12:10:33.907Z"
   },
   {
    "duration": 413,
    "start_time": "2022-12-12T12:10:35.203Z"
   },
   {
    "duration": 315,
    "start_time": "2022-12-12T12:10:35.618Z"
   },
   {
    "duration": 3371,
    "start_time": "2022-12-12T12:10:35.936Z"
   },
   {
    "duration": 4989,
    "start_time": "2022-12-12T12:10:39.309Z"
   },
   {
    "duration": 4020,
    "start_time": "2022-12-12T12:10:44.301Z"
   },
   {
    "duration": 4999,
    "start_time": "2022-12-12T12:10:48.322Z"
   },
   {
    "duration": 1001,
    "start_time": "2022-12-12T12:10:53.323Z"
   },
   {
    "duration": 879,
    "start_time": "2022-12-13T11:17:15.802Z"
   },
   {
    "duration": 16107,
    "start_time": "2022-12-13T11:17:16.683Z"
   },
   {
    "duration": 10572,
    "start_time": "2022-12-13T11:17:32.792Z"
   },
   {
    "duration": 4741,
    "start_time": "2022-12-13T11:17:43.367Z"
   },
   {
    "duration": 1864,
    "start_time": "2022-12-13T11:17:48.111Z"
   },
   {
    "duration": 3,
    "start_time": "2022-12-13T11:17:49.976Z"
   },
   {
    "duration": 1884,
    "start_time": "2022-12-13T11:17:49.981Z"
   },
   {
    "duration": 699,
    "start_time": "2022-12-13T11:17:51.866Z"
   },
   {
    "duration": 602,
    "start_time": "2022-12-13T11:17:52.567Z"
   },
   {
    "duration": 1312,
    "start_time": "2022-12-13T11:17:53.171Z"
   },
   {
    "duration": 582,
    "start_time": "2022-12-13T11:17:54.485Z"
   },
   {
    "duration": 490,
    "start_time": "2022-12-13T11:17:55.069Z"
   },
   {
    "duration": 4216,
    "start_time": "2022-12-13T11:17:55.562Z"
   },
   {
    "duration": 6279,
    "start_time": "2022-12-13T11:17:59.780Z"
   },
   {
    "duration": 4407,
    "start_time": "2022-12-13T11:18:06.061Z"
   },
   {
    "duration": 4999,
    "start_time": "2022-12-13T11:18:10.470Z"
   },
   {
    "duration": 1305,
    "start_time": "2022-12-13T11:18:15.471Z"
   },
   {
    "duration": 5,
    "start_time": "2022-12-13T11:20:23.847Z"
   },
   {
    "duration": 775,
    "start_time": "2022-12-13T11:20:31.120Z"
   },
   {
    "duration": 15484,
    "start_time": "2022-12-13T11:20:31.898Z"
   },
   {
    "duration": 10069,
    "start_time": "2022-12-13T11:20:47.386Z"
   },
   {
    "duration": 4724,
    "start_time": "2022-12-13T11:20:57.457Z"
   },
   {
    "duration": 2177,
    "start_time": "2022-12-13T11:21:02.185Z"
   },
   {
    "duration": 3,
    "start_time": "2022-12-13T11:21:04.364Z"
   },
   {
    "duration": 1885,
    "start_time": "2022-12-13T11:21:04.368Z"
   },
   {
    "duration": 702,
    "start_time": "2022-12-13T11:21:06.255Z"
   },
   {
    "duration": 698,
    "start_time": "2022-12-13T11:21:06.960Z"
   },
   {
    "duration": 1422,
    "start_time": "2022-12-13T11:21:07.660Z"
   },
   {
    "duration": 567,
    "start_time": "2022-12-13T11:21:09.085Z"
   },
   {
    "duration": 438,
    "start_time": "2022-12-13T11:21:09.654Z"
   },
   {
    "duration": 4076,
    "start_time": "2022-12-13T11:21:10.094Z"
   },
   {
    "duration": 6579,
    "start_time": "2022-12-13T11:21:14.173Z"
   },
   {
    "duration": 4696,
    "start_time": "2022-12-13T11:21:20.754Z"
   },
   {
    "duration": 1452,
    "start_time": "2022-12-13T11:21:31.209Z"
   },
   {
    "duration": 4928,
    "start_time": "2022-12-13T11:21:32.664Z"
   },
   {
    "duration": 107,
    "start_time": "2022-12-13T11:25:30.755Z"
   },
   {
    "duration": 18,
    "start_time": "2022-12-13T11:26:05.478Z"
   },
   {
    "duration": 98,
    "start_time": "2022-12-13T11:29:26.198Z"
   },
   {
    "duration": 12,
    "start_time": "2022-12-13T11:29:29.603Z"
   },
   {
    "duration": 18,
    "start_time": "2022-12-13T11:31:25.403Z"
   },
   {
    "duration": 18,
    "start_time": "2022-12-13T11:40:29.208Z"
   },
   {
    "duration": 18,
    "start_time": "2022-12-13T11:40:40.014Z"
   },
   {
    "duration": 14,
    "start_time": "2022-12-13T11:41:58.183Z"
   },
   {
    "duration": 8,
    "start_time": "2022-12-13T11:44:42.325Z"
   },
   {
    "duration": 14,
    "start_time": "2022-12-13T11:44:58.245Z"
   },
   {
    "duration": 4,
    "start_time": "2022-12-13T11:45:13.127Z"
   },
   {
    "duration": 9,
    "start_time": "2022-12-13T11:50:06.697Z"
   },
   {
    "duration": 9,
    "start_time": "2022-12-13T12:00:34.269Z"
   },
   {
    "duration": 14,
    "start_time": "2022-12-13T12:00:51.799Z"
   },
   {
    "duration": 73,
    "start_time": "2022-12-13T12:04:41.377Z"
   },
   {
    "duration": 10,
    "start_time": "2022-12-13T12:04:51.753Z"
   },
   {
    "duration": 13,
    "start_time": "2022-12-13T12:06:17.992Z"
   },
   {
    "duration": 18,
    "start_time": "2022-12-13T12:10:37.632Z"
   },
   {
    "duration": 20,
    "start_time": "2022-12-13T12:11:23.104Z"
   },
   {
    "duration": 11,
    "start_time": "2022-12-13T12:17:09.112Z"
   },
   {
    "duration": 14,
    "start_time": "2022-12-13T12:17:58.940Z"
   },
   {
    "duration": 14,
    "start_time": "2022-12-13T12:20:42.251Z"
   },
   {
    "duration": 12,
    "start_time": "2022-12-13T13:05:20.785Z"
   },
   {
    "duration": 10,
    "start_time": "2022-12-13T13:06:45.917Z"
   },
   {
    "duration": 11,
    "start_time": "2022-12-13T13:09:01.951Z"
   },
   {
    "duration": 9,
    "start_time": "2022-12-13T13:09:10.341Z"
   },
   {
    "duration": 10,
    "start_time": "2022-12-13T13:10:02.698Z"
   },
   {
    "duration": 9,
    "start_time": "2022-12-13T13:10:41.966Z"
   },
   {
    "duration": 9,
    "start_time": "2022-12-13T13:11:50.074Z"
   },
   {
    "duration": 9,
    "start_time": "2022-12-13T13:12:28.533Z"
   },
   {
    "duration": 9,
    "start_time": "2022-12-13T13:12:43.128Z"
   },
   {
    "duration": 10,
    "start_time": "2022-12-13T13:12:56.636Z"
   },
   {
    "duration": 15,
    "start_time": "2022-12-13T13:42:30.377Z"
   },
   {
    "duration": 698,
    "start_time": "2022-12-13T13:42:41.993Z"
   },
   {
    "duration": 15976,
    "start_time": "2022-12-13T13:42:42.693Z"
   },
   {
    "duration": 10504,
    "start_time": "2022-12-13T13:42:58.671Z"
   },
   {
    "duration": 4697,
    "start_time": "2022-12-13T13:43:09.178Z"
   },
   {
    "duration": 90,
    "start_time": "2022-12-13T13:43:13.877Z"
   },
   {
    "duration": 4,
    "start_time": "2022-12-13T13:43:13.969Z"
   },
   {
    "duration": 2189,
    "start_time": "2022-12-13T13:43:13.975Z"
   },
   {
    "duration": 786,
    "start_time": "2022-12-13T13:43:16.166Z"
   },
   {
    "duration": 715,
    "start_time": "2022-12-13T13:43:16.955Z"
   },
   {
    "duration": 1175,
    "start_time": "2022-12-13T13:43:17.673Z"
   },
   {
    "duration": 0,
    "start_time": "2022-12-13T13:43:18.851Z"
   },
   {
    "duration": 0,
    "start_time": "2022-12-13T13:43:18.852Z"
   },
   {
    "duration": 0,
    "start_time": "2022-12-13T13:43:18.853Z"
   },
   {
    "duration": 0,
    "start_time": "2022-12-13T13:43:18.854Z"
   },
   {
    "duration": 0,
    "start_time": "2022-12-13T13:43:18.855Z"
   },
   {
    "duration": 0,
    "start_time": "2022-12-13T13:43:18.859Z"
   },
   {
    "duration": 0,
    "start_time": "2022-12-13T13:43:18.861Z"
   },
   {
    "duration": 36,
    "start_time": "2022-12-13T13:44:50.365Z"
   },
   {
    "duration": 764,
    "start_time": "2022-12-13T13:44:55.221Z"
   },
   {
    "duration": 17,
    "start_time": "2022-12-13T13:46:26.365Z"
   },
   {
    "duration": 195,
    "start_time": "2022-12-13T13:46:33.333Z"
   },
   {
    "duration": 343,
    "start_time": "2022-12-13T13:47:21.709Z"
   },
   {
    "duration": 267,
    "start_time": "2022-12-13T13:47:26.105Z"
   },
   {
    "duration": 16,
    "start_time": "2022-12-13T13:48:32.958Z"
   },
   {
    "duration": 26,
    "start_time": "2022-12-13T13:48:39.396Z"
   },
   {
    "duration": 15,
    "start_time": "2022-12-13T13:48:44.172Z"
   },
   {
    "duration": 178,
    "start_time": "2022-12-13T13:49:47.661Z"
   },
   {
    "duration": 31,
    "start_time": "2022-12-13T13:51:38.702Z"
   },
   {
    "duration": 264,
    "start_time": "2022-12-13T13:51:45.294Z"
   },
   {
    "duration": 174,
    "start_time": "2022-12-13T13:52:11.996Z"
   },
   {
    "duration": 172,
    "start_time": "2022-12-13T13:52:18.429Z"
   },
   {
    "duration": 29,
    "start_time": "2022-12-13T13:52:26.518Z"
   },
   {
    "duration": 29,
    "start_time": "2022-12-13T13:52:59.644Z"
   },
   {
    "duration": 23,
    "start_time": "2022-12-13T13:53:15.955Z"
   },
   {
    "duration": 23,
    "start_time": "2022-12-13T13:53:38.571Z"
   },
   {
    "duration": 25,
    "start_time": "2022-12-13T13:53:50.185Z"
   },
   {
    "duration": 8,
    "start_time": "2022-12-13T13:54:46.038Z"
   },
   {
    "duration": 25,
    "start_time": "2022-12-13T13:54:53.083Z"
   },
   {
    "duration": 246,
    "start_time": "2022-12-13T13:54:57.979Z"
   },
   {
    "duration": 17,
    "start_time": "2022-12-13T13:55:20.264Z"
   },
   {
    "duration": 230,
    "start_time": "2022-12-13T13:57:56.779Z"
   },
   {
    "duration": 500,
    "start_time": "2022-12-13T13:58:03.752Z"
   },
   {
    "duration": 334,
    "start_time": "2022-12-13T13:58:11.055Z"
   },
   {
    "duration": 22,
    "start_time": "2022-12-13T14:00:02.123Z"
   },
   {
    "duration": 205,
    "start_time": "2022-12-13T14:02:17.099Z"
   },
   {
    "duration": 21,
    "start_time": "2022-12-13T14:02:31.723Z"
   },
   {
    "duration": 28,
    "start_time": "2022-12-13T14:07:05.883Z"
   },
   {
    "duration": 25,
    "start_time": "2022-12-13T14:07:28.536Z"
   },
   {
    "duration": 215,
    "start_time": "2022-12-13T14:07:36.201Z"
   },
   {
    "duration": 28,
    "start_time": "2022-12-13T14:07:49.151Z"
   },
   {
    "duration": 23,
    "start_time": "2022-12-13T14:07:54.854Z"
   },
   {
    "duration": 531,
    "start_time": "2022-12-13T14:08:08.521Z"
   },
   {
    "duration": 518,
    "start_time": "2022-12-13T14:08:19.451Z"
   },
   {
    "duration": 422,
    "start_time": "2022-12-13T14:08:31.600Z"
   },
   {
    "duration": 655,
    "start_time": "2022-12-13T14:08:38.144Z"
   },
   {
    "duration": 1276,
    "start_time": "2022-12-13T14:09:07.696Z"
   },
   {
    "duration": 999,
    "start_time": "2022-12-13T14:09:28.293Z"
   },
   {
    "duration": 3022,
    "start_time": "2022-12-13T14:10:38.041Z"
   },
   {
    "duration": 2004,
    "start_time": "2022-12-13T14:10:46.779Z"
   },
   {
    "duration": 2095,
    "start_time": "2022-12-13T14:11:34.858Z"
   },
   {
    "duration": 1143,
    "start_time": "2022-12-13T14:12:30.173Z"
   },
   {
    "duration": 862,
    "start_time": "2022-12-13T14:13:20.614Z"
   },
   {
    "duration": 1577,
    "start_time": "2022-12-13T14:13:31.096Z"
   },
   {
    "duration": 703,
    "start_time": "2022-12-13T14:13:39.796Z"
   },
   {
    "duration": 17678,
    "start_time": "2022-12-13T14:13:40.501Z"
   },
   {
    "duration": 12677,
    "start_time": "2022-12-13T14:13:58.182Z"
   },
   {
    "duration": 6320,
    "start_time": "2022-12-13T14:14:10.861Z"
   },
   {
    "duration": 1880,
    "start_time": "2022-12-13T14:14:17.185Z"
   },
   {
    "duration": 5,
    "start_time": "2022-12-13T14:14:19.068Z"
   },
   {
    "duration": 2515,
    "start_time": "2022-12-13T14:14:19.075Z"
   },
   {
    "duration": 875,
    "start_time": "2022-12-13T14:14:21.592Z"
   },
   {
    "duration": 610,
    "start_time": "2022-12-13T14:14:22.469Z"
   },
   {
    "duration": 1484,
    "start_time": "2022-12-13T14:14:23.081Z"
   },
   {
    "duration": 529,
    "start_time": "2022-12-13T14:14:24.566Z"
   },
   {
    "duration": 454,
    "start_time": "2022-12-13T14:14:25.097Z"
   },
   {
    "duration": 3721,
    "start_time": "2022-12-13T14:14:25.553Z"
   },
   {
    "duration": 6885,
    "start_time": "2022-12-13T14:14:29.277Z"
   },
   {
    "duration": 5292,
    "start_time": "2022-12-13T14:14:36.164Z"
   },
   {
    "duration": 5924,
    "start_time": "2022-12-13T14:14:41.458Z"
   },
   {
    "duration": 93,
    "start_time": "2022-12-13T14:14:47.384Z"
   },
   {
    "duration": 0,
    "start_time": "2022-12-13T14:14:47.479Z"
   },
   {
    "duration": 545,
    "start_time": "2022-12-13T14:14:52.336Z"
   },
   {
    "duration": 709,
    "start_time": "2022-12-13T14:15:03.905Z"
   },
   {
    "duration": 16461,
    "start_time": "2022-12-13T14:15:04.616Z"
   },
   {
    "duration": 11597,
    "start_time": "2022-12-13T14:15:21.079Z"
   },
   {
    "duration": 5098,
    "start_time": "2022-12-13T14:15:32.679Z"
   },
   {
    "duration": 2007,
    "start_time": "2022-12-13T14:15:37.780Z"
   },
   {
    "duration": 5,
    "start_time": "2022-12-13T14:15:39.852Z"
   },
   {
    "duration": 1999,
    "start_time": "2022-12-13T14:15:39.859Z"
   },
   {
    "duration": 1006,
    "start_time": "2022-12-13T14:15:41.860Z"
   },
   {
    "duration": 615,
    "start_time": "2022-12-13T14:15:42.869Z"
   },
   {
    "duration": 1500,
    "start_time": "2022-12-13T14:15:43.487Z"
   },
   {
    "duration": 541,
    "start_time": "2022-12-13T14:15:45.051Z"
   },
   {
    "duration": 364,
    "start_time": "2022-12-13T14:15:45.594Z"
   },
   {
    "duration": 3821,
    "start_time": "2022-12-13T14:15:45.961Z"
   },
   {
    "duration": 6316,
    "start_time": "2022-12-13T14:15:49.784Z"
   },
   {
    "duration": 4891,
    "start_time": "2022-12-13T14:15:56.102Z"
   },
   {
    "duration": 6266,
    "start_time": "2022-12-13T14:16:00.995Z"
   },
   {
    "duration": 188,
    "start_time": "2022-12-13T14:16:07.266Z"
   },
   {
    "duration": 25,
    "start_time": "2022-12-13T14:21:29.495Z"
   },
   {
    "duration": 699,
    "start_time": "2022-12-13T14:21:55.300Z"
   },
   {
    "duration": 16172,
    "start_time": "2022-12-13T14:21:56.001Z"
   },
   {
    "duration": 10674,
    "start_time": "2022-12-13T14:22:12.176Z"
   },
   {
    "duration": 4512,
    "start_time": "2022-12-13T14:22:22.852Z"
   },
   {
    "duration": 1196,
    "start_time": "2022-12-13T14:22:27.366Z"
   },
   {
    "duration": 0,
    "start_time": "2022-12-13T14:22:28.565Z"
   },
   {
    "duration": 0,
    "start_time": "2022-12-13T14:22:28.566Z"
   },
   {
    "duration": 0,
    "start_time": "2022-12-13T14:22:28.567Z"
   },
   {
    "duration": 0,
    "start_time": "2022-12-13T14:22:28.568Z"
   },
   {
    "duration": 0,
    "start_time": "2022-12-13T14:22:28.570Z"
   },
   {
    "duration": 0,
    "start_time": "2022-12-13T14:22:28.571Z"
   },
   {
    "duration": 0,
    "start_time": "2022-12-13T14:22:28.572Z"
   },
   {
    "duration": 0,
    "start_time": "2022-12-13T14:22:28.573Z"
   },
   {
    "duration": 0,
    "start_time": "2022-12-13T14:22:28.574Z"
   },
   {
    "duration": 0,
    "start_time": "2022-12-13T14:22:28.575Z"
   },
   {
    "duration": 0,
    "start_time": "2022-12-13T14:22:28.576Z"
   },
   {
    "duration": 0,
    "start_time": "2022-12-13T14:22:28.578Z"
   },
   {
    "duration": 9,
    "start_time": "2022-12-13T14:28:33.253Z"
   },
   {
    "duration": 715,
    "start_time": "2022-12-13T14:30:49.145Z"
   },
   {
    "duration": 528,
    "start_time": "2022-12-13T14:48:20.349Z"
   },
   {
    "duration": 115,
    "start_time": "2022-12-13T14:49:48.058Z"
   },
   {
    "duration": 81,
    "start_time": "2022-12-13T14:53:39.671Z"
   },
   {
    "duration": 33,
    "start_time": "2022-12-13T14:53:43.666Z"
   },
   {
    "duration": 3419,
    "start_time": "2022-12-13T14:53:49.553Z"
   },
   {
    "duration": 2101,
    "start_time": "2022-12-13T14:53:58.569Z"
   },
   {
    "duration": 2158,
    "start_time": "2022-12-13T14:54:34.722Z"
   },
   {
    "duration": 839,
    "start_time": "2022-12-13T14:54:48.758Z"
   },
   {
    "duration": 17186,
    "start_time": "2022-12-13T14:54:49.599Z"
   },
   {
    "duration": 12065,
    "start_time": "2022-12-13T14:55:06.788Z"
   },
   {
    "duration": 5230,
    "start_time": "2022-12-13T14:55:18.856Z"
   },
   {
    "duration": 3675,
    "start_time": "2022-12-13T14:55:24.088Z"
   },
   {
    "duration": 3,
    "start_time": "2022-12-13T14:55:27.765Z"
   },
   {
    "duration": 2123,
    "start_time": "2022-12-13T14:55:27.770Z"
   },
   {
    "duration": 870,
    "start_time": "2022-12-13T14:55:29.896Z"
   },
   {
    "duration": 1094,
    "start_time": "2022-12-13T14:55:30.768Z"
   },
   {
    "duration": 1802,
    "start_time": "2022-12-13T14:55:31.866Z"
   },
   {
    "duration": 988,
    "start_time": "2022-12-13T14:55:33.670Z"
   },
   {
    "duration": 694,
    "start_time": "2022-12-13T14:55:34.661Z"
   },
   {
    "duration": 4001,
    "start_time": "2022-12-13T14:55:35.357Z"
   },
   {
    "duration": 6796,
    "start_time": "2022-12-13T14:55:39.360Z"
   },
   {
    "duration": 5200,
    "start_time": "2022-12-13T14:55:46.158Z"
   },
   {
    "duration": 6694,
    "start_time": "2022-12-13T14:55:51.361Z"
   },
   {
    "duration": 2012,
    "start_time": "2022-12-13T14:55:58.058Z"
   },
   {
    "duration": 80,
    "start_time": "2022-12-13T15:01:25.746Z"
   },
   {
    "duration": 81,
    "start_time": "2022-12-13T15:01:38.493Z"
   },
   {
    "duration": 73,
    "start_time": "2022-12-13T15:01:53.954Z"
   },
   {
    "duration": 79,
    "start_time": "2022-12-13T15:02:35.223Z"
   },
   {
    "duration": 12,
    "start_time": "2022-12-13T15:02:42.810Z"
   },
   {
    "duration": 7,
    "start_time": "2022-12-13T15:02:49.650Z"
   },
   {
    "duration": 329,
    "start_time": "2022-12-13T15:02:49.659Z"
   },
   {
    "duration": 769,
    "start_time": "2022-12-13T15:02:49.990Z"
   },
   {
    "duration": 1103,
    "start_time": "2022-12-13T15:02:50.762Z"
   },
   {
    "duration": 1398,
    "start_time": "2022-12-13T15:02:51.866Z"
   },
   {
    "duration": 1406,
    "start_time": "2022-12-13T15:06:10.871Z"
   },
   {
    "duration": 1499,
    "start_time": "2022-12-13T15:06:17.478Z"
   },
   {
    "duration": 1341,
    "start_time": "2022-12-13T15:06:31.458Z"
   },
   {
    "duration": 1393,
    "start_time": "2022-12-13T15:07:35.663Z"
   },
   {
    "duration": 71,
    "start_time": "2022-12-13T15:08:15.991Z"
   },
   {
    "duration": 1447,
    "start_time": "2022-12-13T15:08:21.326Z"
   },
   {
    "duration": 1105,
    "start_time": "2022-12-13T15:08:37.497Z"
   },
   {
    "duration": 822,
    "start_time": "2022-12-13T19:03:53.165Z"
   },
   {
    "duration": 16251,
    "start_time": "2022-12-13T19:03:53.989Z"
   },
   {
    "duration": 9575,
    "start_time": "2022-12-13T19:04:10.242Z"
   },
   {
    "duration": 5125,
    "start_time": "2022-12-13T19:04:19.820Z"
   },
   {
    "duration": 4250,
    "start_time": "2022-12-13T19:04:24.947Z"
   },
   {
    "duration": 7,
    "start_time": "2022-12-13T19:04:29.198Z"
   },
   {
    "duration": 2717,
    "start_time": "2022-12-13T19:04:29.207Z"
   },
   {
    "duration": 994,
    "start_time": "2022-12-13T19:04:31.925Z"
   },
   {
    "duration": 1212,
    "start_time": "2022-12-13T19:04:32.920Z"
   },
   {
    "duration": 2095,
    "start_time": "2022-12-13T19:04:34.135Z"
   },
   {
    "duration": 1001,
    "start_time": "2022-12-13T19:04:36.232Z"
   },
   {
    "duration": 879,
    "start_time": "2022-12-13T19:04:37.235Z"
   },
   {
    "duration": 4802,
    "start_time": "2022-12-13T19:04:38.117Z"
   },
   {
    "duration": 7784,
    "start_time": "2022-12-13T19:04:42.921Z"
   },
   {
    "duration": 5956,
    "start_time": "2022-12-13T19:04:50.706Z"
   },
   {
    "duration": 6120,
    "start_time": "2022-12-13T19:04:56.699Z"
   },
   {
    "duration": 2241,
    "start_time": "2022-12-13T19:05:02.821Z"
   },
   {
    "duration": 86,
    "start_time": "2022-12-13T19:05:17.404Z"
   },
   {
    "duration": 4,
    "start_time": "2022-12-13T19:05:25.566Z"
   },
   {
    "duration": 469,
    "start_time": "2022-12-13T19:05:25.572Z"
   },
   {
    "duration": 831,
    "start_time": "2022-12-13T19:05:26.043Z"
   },
   {
    "duration": 1375,
    "start_time": "2022-12-13T19:05:26.876Z"
   },
   {
    "duration": 2246,
    "start_time": "2022-12-13T19:05:28.304Z"
   },
   {
    "duration": 6,
    "start_time": "2022-12-13T19:05:56.926Z"
   },
   {
    "duration": 6,
    "start_time": "2022-12-13T19:05:56.935Z"
   },
   {
    "duration": 607,
    "start_time": "2022-12-13T19:05:56.942Z"
   },
   {
    "duration": 1074,
    "start_time": "2022-12-13T19:05:57.552Z"
   },
   {
    "duration": 1093,
    "start_time": "2022-12-13T19:05:58.629Z"
   },
   {
    "duration": 720,
    "start_time": "2022-12-13T19:28:30.422Z"
   },
   {
    "duration": 15359,
    "start_time": "2022-12-13T19:28:31.144Z"
   },
   {
    "duration": 10326,
    "start_time": "2022-12-13T19:28:46.505Z"
   },
   {
    "duration": 4121,
    "start_time": "2022-12-13T19:28:56.898Z"
   },
   {
    "duration": 3085,
    "start_time": "2022-12-13T19:29:01.021Z"
   },
   {
    "duration": 3,
    "start_time": "2022-12-13T19:29:04.108Z"
   },
   {
    "duration": 2102,
    "start_time": "2022-12-13T19:29:04.113Z"
   },
   {
    "duration": 789,
    "start_time": "2022-12-13T19:29:06.217Z"
   },
   {
    "duration": 903,
    "start_time": "2022-12-13T19:29:07.008Z"
   },
   {
    "duration": 1521,
    "start_time": "2022-12-13T19:29:07.913Z"
   },
   {
    "duration": 736,
    "start_time": "2022-12-13T19:29:09.496Z"
   },
   {
    "duration": 684,
    "start_time": "2022-12-13T19:29:10.233Z"
   },
   {
    "duration": 3795,
    "start_time": "2022-12-13T19:29:10.919Z"
   },
   {
    "duration": 5988,
    "start_time": "2022-12-13T19:29:14.716Z"
   },
   {
    "duration": 4606,
    "start_time": "2022-12-13T19:29:20.706Z"
   },
   {
    "duration": 5519,
    "start_time": "2022-12-13T19:29:25.314Z"
   },
   {
    "duration": 2325,
    "start_time": "2022-12-13T19:29:30.835Z"
   },
   {
    "duration": 780,
    "start_time": "2022-12-13T19:50:30.033Z"
   },
   {
    "duration": 15310,
    "start_time": "2022-12-13T19:50:30.815Z"
   },
   {
    "duration": 9696,
    "start_time": "2022-12-13T19:50:46.127Z"
   },
   {
    "duration": 4813,
    "start_time": "2022-12-13T19:50:55.825Z"
   },
   {
    "duration": 3908,
    "start_time": "2022-12-13T19:51:00.698Z"
   },
   {
    "duration": 3722,
    "start_time": "2022-12-13T19:51:04.608Z"
   },
   {
    "duration": 4,
    "start_time": "2022-12-13T19:51:08.397Z"
   },
   {
    "duration": 2009,
    "start_time": "2022-12-13T19:51:08.402Z"
   },
   {
    "duration": 702,
    "start_time": "2022-12-13T19:51:10.413Z"
   },
   {
    "duration": 902,
    "start_time": "2022-12-13T19:51:11.117Z"
   },
   {
    "duration": 1595,
    "start_time": "2022-12-13T19:51:12.021Z"
   },
   {
    "duration": 798,
    "start_time": "2022-12-13T19:51:13.618Z"
   },
   {
    "duration": 597,
    "start_time": "2022-12-13T19:51:14.419Z"
   },
   {
    "duration": 343,
    "start_time": "2022-12-13T19:51:15.019Z"
   },
   {
    "duration": 0,
    "start_time": "2022-12-13T19:51:15.363Z"
   },
   {
    "duration": 0,
    "start_time": "2022-12-13T19:51:15.364Z"
   },
   {
    "duration": 0,
    "start_time": "2022-12-13T19:51:15.366Z"
   },
   {
    "duration": 809,
    "start_time": "2022-12-13T19:55:22.595Z"
   },
   {
    "duration": 87,
    "start_time": "2022-12-13T20:56:20.415Z"
   },
   {
    "duration": 734,
    "start_time": "2022-12-13T20:56:32.077Z"
   },
   {
    "duration": 15184,
    "start_time": "2022-12-13T20:56:32.813Z"
   },
   {
    "duration": 10426,
    "start_time": "2022-12-13T20:56:47.999Z"
   },
   {
    "duration": 4571,
    "start_time": "2022-12-13T20:56:58.427Z"
   },
   {
    "duration": 3424,
    "start_time": "2022-12-13T20:57:03.000Z"
   },
   {
    "duration": 2198,
    "start_time": "2022-12-13T20:57:06.426Z"
   },
   {
    "duration": 3,
    "start_time": "2022-12-13T20:57:08.626Z"
   },
   {
    "duration": 2216,
    "start_time": "2022-12-13T20:57:08.631Z"
   },
   {
    "duration": 763,
    "start_time": "2022-12-13T20:57:10.849Z"
   },
   {
    "duration": 1004,
    "start_time": "2022-12-13T20:57:11.614Z"
   },
   {
    "duration": 0,
    "start_time": "2022-12-13T20:57:12.620Z"
   },
   {
    "duration": 0,
    "start_time": "2022-12-13T20:57:12.622Z"
   },
   {
    "duration": 0,
    "start_time": "2022-12-13T20:57:12.623Z"
   },
   {
    "duration": 0,
    "start_time": "2022-12-13T20:57:12.624Z"
   },
   {
    "duration": 0,
    "start_time": "2022-12-13T20:57:12.625Z"
   },
   {
    "duration": 0,
    "start_time": "2022-12-13T20:57:12.627Z"
   },
   {
    "duration": 0,
    "start_time": "2022-12-13T20:57:12.629Z"
   },
   {
    "duration": 82,
    "start_time": "2022-12-13T20:59:24.523Z"
   },
   {
    "duration": 742,
    "start_time": "2022-12-13T20:59:34.988Z"
   },
   {
    "duration": 15469,
    "start_time": "2022-12-13T20:59:35.732Z"
   },
   {
    "duration": 10016,
    "start_time": "2022-12-13T20:59:51.204Z"
   },
   {
    "duration": 4609,
    "start_time": "2022-12-13T21:00:01.223Z"
   },
   {
    "duration": 3282,
    "start_time": "2022-12-13T21:00:05.834Z"
   },
   {
    "duration": 2285,
    "start_time": "2022-12-13T21:00:09.118Z"
   },
   {
    "duration": 3,
    "start_time": "2022-12-13T21:00:11.406Z"
   },
   {
    "duration": 2188,
    "start_time": "2022-12-13T21:00:11.410Z"
   },
   {
    "duration": 797,
    "start_time": "2022-12-13T21:00:13.600Z"
   },
   {
    "duration": 910,
    "start_time": "2022-12-13T21:00:14.401Z"
   },
   {
    "duration": 1710,
    "start_time": "2022-12-13T21:00:15.313Z"
   },
   {
    "duration": 906,
    "start_time": "2022-12-13T21:00:17.025Z"
   },
   {
    "duration": 769,
    "start_time": "2022-12-13T21:00:17.933Z"
   },
   {
    "duration": 406,
    "start_time": "2022-12-13T21:00:18.704Z"
   },
   {
    "duration": 0,
    "start_time": "2022-12-13T21:00:19.112Z"
   },
   {
    "duration": 0,
    "start_time": "2022-12-13T21:00:19.114Z"
   },
   {
    "duration": 0,
    "start_time": "2022-12-13T21:00:19.115Z"
   },
   {
    "duration": 710,
    "start_time": "2022-12-14T07:16:57.852Z"
   },
   {
    "duration": 14792,
    "start_time": "2022-12-14T07:16:58.564Z"
   },
   {
    "duration": 9187,
    "start_time": "2022-12-14T07:17:13.358Z"
   },
   {
    "duration": 4218,
    "start_time": "2022-12-14T07:17:22.547Z"
   },
   {
    "duration": 3167,
    "start_time": "2022-12-14T07:17:26.767Z"
   },
   {
    "duration": 2007,
    "start_time": "2022-12-14T07:17:29.935Z"
   },
   {
    "duration": 3,
    "start_time": "2022-12-14T07:17:31.943Z"
   },
   {
    "duration": 2451,
    "start_time": "2022-12-14T07:32:37.289Z"
   },
   {
    "duration": 175,
    "start_time": "2022-12-14T07:35:52.246Z"
   },
   {
    "duration": 7,
    "start_time": "2022-12-14T07:35:59.351Z"
   },
   {
    "duration": 11,
    "start_time": "2022-12-14T07:35:59.361Z"
   },
   {
    "duration": 861,
    "start_time": "2022-12-14T07:35:59.374Z"
   },
   {
    "duration": 1317,
    "start_time": "2022-12-14T07:36:00.238Z"
   },
   {
    "duration": 1388,
    "start_time": "2022-12-14T07:36:01.557Z"
   },
   {
    "duration": 1106,
    "start_time": "2022-12-14T07:36:02.947Z"
   },
   {
    "duration": 3,
    "start_time": "2022-12-14T07:36:04.055Z"
   },
   {
    "duration": 1472,
    "start_time": "2022-12-14T07:36:04.060Z"
   },
   {
    "duration": 109,
    "start_time": "2022-12-14T07:42:20.445Z"
   },
   {
    "duration": 11,
    "start_time": "2022-12-14T07:42:25.539Z"
   },
   {
    "duration": 42,
    "start_time": "2022-12-14T07:42:25.552Z"
   },
   {
    "duration": 767,
    "start_time": "2022-12-14T07:42:25.597Z"
   },
   {
    "duration": 791,
    "start_time": "2022-12-14T07:42:26.365Z"
   },
   {
    "duration": 1002,
    "start_time": "2022-12-14T07:42:27.158Z"
   },
   {
    "duration": 900,
    "start_time": "2022-12-14T07:42:28.161Z"
   },
   {
    "duration": 3,
    "start_time": "2022-12-14T07:42:29.063Z"
   },
   {
    "duration": 661,
    "start_time": "2022-12-14T07:42:29.067Z"
   },
   {
    "duration": 1417,
    "start_time": "2022-12-14T08:01:32.919Z"
   },
   {
    "duration": 102,
    "start_time": "2022-12-14T08:13:18.348Z"
   },
   {
    "duration": 4,
    "start_time": "2022-12-14T08:13:34.148Z"
   },
   {
    "duration": 8,
    "start_time": "2022-12-14T08:13:34.155Z"
   },
   {
    "duration": 566,
    "start_time": "2022-12-14T08:13:34.165Z"
   },
   {
    "duration": 912,
    "start_time": "2022-12-14T08:13:34.733Z"
   },
   {
    "duration": 928,
    "start_time": "2022-12-14T08:13:35.647Z"
   },
   {
    "duration": 681,
    "start_time": "2022-12-14T08:13:36.577Z"
   },
   {
    "duration": 67,
    "start_time": "2022-12-14T08:13:37.260Z"
   },
   {
    "duration": 340,
    "start_time": "2022-12-14T08:13:37.329Z"
   },
   {
    "duration": 397,
    "start_time": "2022-12-14T08:19:06.831Z"
   },
   {
    "duration": 914,
    "start_time": "2022-12-14T08:19:37.516Z"
   },
   {
    "duration": 7,
    "start_time": "2022-12-14T08:24:26.649Z"
   },
   {
    "duration": 7,
    "start_time": "2022-12-14T08:24:26.659Z"
   },
   {
    "duration": 464,
    "start_time": "2022-12-14T08:24:26.668Z"
   },
   {
    "duration": 725,
    "start_time": "2022-12-14T08:24:27.135Z"
   },
   {
    "duration": 764,
    "start_time": "2022-12-14T08:24:27.927Z"
   },
   {
    "duration": 646,
    "start_time": "2022-12-14T08:24:28.693Z"
   },
   {
    "duration": 3,
    "start_time": "2022-12-14T08:24:29.341Z"
   },
   {
    "duration": 985,
    "start_time": "2022-12-14T08:24:29.346Z"
   },
   {
    "duration": 1094,
    "start_time": "2022-12-14T08:24:41.667Z"
   },
   {
    "duration": 757,
    "start_time": "2022-12-14T08:26:51.912Z"
   },
   {
    "duration": 709,
    "start_time": "2022-12-14T08:27:10.350Z"
   },
   {
    "duration": 457,
    "start_time": "2022-12-14T08:28:29.301Z"
   },
   {
    "duration": 122,
    "start_time": "2022-12-14T08:31:58.140Z"
   },
   {
    "duration": 815,
    "start_time": "2022-12-14T08:32:31.813Z"
   },
   {
    "duration": 427,
    "start_time": "2022-12-14T08:33:52.407Z"
   },
   {
    "duration": 794,
    "start_time": "2022-12-14T08:37:24.457Z"
   },
   {
    "duration": 522,
    "start_time": "2022-12-14T08:38:16.221Z"
   },
   {
    "duration": 5,
    "start_time": "2022-12-14T08:39:27.727Z"
   },
   {
    "duration": 53,
    "start_time": "2022-12-14T08:39:27.734Z"
   },
   {
    "duration": 544,
    "start_time": "2022-12-14T08:39:27.788Z"
   },
   {
    "duration": 916,
    "start_time": "2022-12-14T08:39:28.333Z"
   },
   {
    "duration": 1289,
    "start_time": "2022-12-14T08:39:29.251Z"
   },
   {
    "duration": 798,
    "start_time": "2022-12-14T08:39:30.542Z"
   },
   {
    "duration": 3,
    "start_time": "2022-12-14T08:39:31.342Z"
   },
   {
    "duration": 1120,
    "start_time": "2022-12-14T08:39:31.347Z"
   },
   {
    "duration": 529,
    "start_time": "2022-12-14T08:39:32.528Z"
   },
   {
    "duration": 580,
    "start_time": "2022-12-14T08:39:33.059Z"
   },
   {
    "duration": 507,
    "start_time": "2022-12-14T08:39:33.640Z"
   },
   {
    "duration": 589,
    "start_time": "2022-12-14T08:39:34.148Z"
   },
   {
    "duration": 488,
    "start_time": "2022-12-14T08:39:34.739Z"
   },
   {
    "duration": 1386,
    "start_time": "2022-12-14T10:38:14.862Z"
   },
   {
    "duration": 34,
    "start_time": "2022-12-14T10:39:56.803Z"
   },
   {
    "duration": 524,
    "start_time": "2022-12-14T10:41:08.147Z"
   },
   {
    "duration": 879,
    "start_time": "2022-12-14T10:41:38.581Z"
   },
   {
    "duration": 754,
    "start_time": "2022-12-14T10:49:31.646Z"
   },
   {
    "duration": 3360,
    "start_time": "2022-12-14T10:51:59.676Z"
   },
   {
    "duration": 2072,
    "start_time": "2022-12-14T10:52:38.062Z"
   },
   {
    "duration": 2778,
    "start_time": "2022-12-14T10:52:47.490Z"
   },
   {
    "duration": 1877,
    "start_time": "2022-12-14T10:52:58.163Z"
   },
   {
    "duration": 736,
    "start_time": "2022-12-14T10:53:14.697Z"
   },
   {
    "duration": 14907,
    "start_time": "2022-12-14T10:53:15.434Z"
   },
   {
    "duration": 8583,
    "start_time": "2022-12-14T10:53:30.343Z"
   },
   {
    "duration": 4009,
    "start_time": "2022-12-14T10:53:38.929Z"
   },
   {
    "duration": 2916,
    "start_time": "2022-12-14T10:53:42.940Z"
   },
   {
    "duration": 1872,
    "start_time": "2022-12-14T10:53:45.858Z"
   },
   {
    "duration": 4,
    "start_time": "2022-12-14T10:53:47.731Z"
   },
   {
    "duration": 2290,
    "start_time": "2022-12-14T10:53:47.737Z"
   },
   {
    "duration": 627,
    "start_time": "2022-12-14T10:53:50.029Z"
   },
   {
    "duration": 1092,
    "start_time": "2022-12-14T10:53:50.658Z"
   },
   {
    "duration": 684,
    "start_time": "2022-12-14T10:53:51.752Z"
   },
   {
    "duration": 1013,
    "start_time": "2022-12-14T10:53:52.437Z"
   },
   {
    "duration": 609,
    "start_time": "2022-12-14T10:53:53.453Z"
   },
   {
    "duration": 1078,
    "start_time": "2022-12-14T10:53:54.065Z"
   },
   {
    "duration": 106,
    "start_time": "2022-12-14T10:53:55.145Z"
   },
   {
    "duration": 1498,
    "start_time": "2022-12-14T10:53:55.253Z"
   },
   {
    "duration": 1275,
    "start_time": "2022-12-14T10:53:56.753Z"
   },
   {
    "duration": 3945,
    "start_time": "2022-12-14T10:53:58.030Z"
   },
   {
    "duration": 2637,
    "start_time": "2022-12-14T10:54:02.027Z"
   },
   {
    "duration": 3201,
    "start_time": "2022-12-14T10:54:04.666Z"
   },
   {
    "duration": 2082,
    "start_time": "2022-12-14T10:54:07.868Z"
   },
   {
    "duration": 78,
    "start_time": "2022-12-14T10:54:30.690Z"
   },
   {
    "duration": 593,
    "start_time": "2022-12-14T10:56:43.978Z"
   },
   {
    "duration": 14567,
    "start_time": "2022-12-14T10:56:44.573Z"
   },
   {
    "duration": 8910,
    "start_time": "2022-12-14T10:56:59.142Z"
   },
   {
    "duration": 4095,
    "start_time": "2022-12-14T10:57:08.054Z"
   },
   {
    "duration": 2807,
    "start_time": "2022-12-14T10:57:12.150Z"
   },
   {
    "duration": 1902,
    "start_time": "2022-12-14T10:57:14.958Z"
   },
   {
    "duration": 3,
    "start_time": "2022-12-14T10:57:16.861Z"
   },
   {
    "duration": 2611,
    "start_time": "2022-12-14T10:57:16.926Z"
   },
   {
    "duration": 619,
    "start_time": "2022-12-14T10:57:19.539Z"
   },
   {
    "duration": 902,
    "start_time": "2022-12-14T10:57:20.160Z"
   },
   {
    "duration": 682,
    "start_time": "2022-12-14T10:57:21.064Z"
   },
   {
    "duration": 911,
    "start_time": "2022-12-14T10:57:21.748Z"
   },
   {
    "duration": 682,
    "start_time": "2022-12-14T10:57:22.660Z"
   },
   {
    "duration": 1115,
    "start_time": "2022-12-14T10:57:23.344Z"
   },
   {
    "duration": 169,
    "start_time": "2022-12-14T10:57:24.461Z"
   },
   {
    "duration": 1505,
    "start_time": "2022-12-14T10:57:24.631Z"
   },
   {
    "duration": 1210,
    "start_time": "2022-12-14T10:57:26.137Z"
   },
   {
    "duration": 4103,
    "start_time": "2022-12-14T10:57:27.349Z"
   },
   {
    "duration": 2678,
    "start_time": "2022-12-14T10:57:31.453Z"
   },
   {
    "duration": 2959,
    "start_time": "2022-12-14T10:57:34.133Z"
   },
   {
    "duration": 1842,
    "start_time": "2022-12-14T10:57:37.094Z"
   }
  ],
  "colab": {
   "name": "PySparkSprint.ipynb",
   "provenance": []
  },
  "kernelspec": {
   "display_name": "Python 3 (ipykernel)",
   "language": "python",
   "name": "python3"
  },
  "language_info": {
   "codemirror_mode": {
    "name": "ipython",
    "version": 3
   },
   "file_extension": ".py",
   "mimetype": "text/x-python",
   "name": "python",
   "nbconvert_exporter": "python",
   "pygments_lexer": "ipython3",
   "version": "3.9.18"
  },
  "toc": {
   "base_numbering": 1,
   "nav_menu": {},
   "number_sections": true,
   "sideBar": true,
   "skip_h1_title": true,
   "title_cell": "Table of Contents",
   "title_sidebar": "Contents",
   "toc_cell": false,
   "toc_position": {
    "height": "calc(100% - 180px)",
    "left": "10px",
    "top": "150px",
    "width": "309.391px"
   },
   "toc_section_display": true,
   "toc_window_display": true
  }
 },
 "nbformat": 4,
 "nbformat_minor": 5
}
