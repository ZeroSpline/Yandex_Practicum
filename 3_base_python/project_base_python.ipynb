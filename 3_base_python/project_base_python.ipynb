{
 "cells": [
  {
   "cell_type": "markdown",
   "metadata": {
    "id": "Ml1hmfXC_Zcs"
   },
   "source": [
    "## Обзор данных\n",
    "\n",
    "Составим первое представление о данных Яндекс.Музыки.\n"
   ]
  },
  {
   "cell_type": "markdown",
   "metadata": {
    "id": "57eAOGIz_Zcs"
   },
   "source": [
    "Основной инструмент аналитика — `pandas`. Импортируем эту библиотеку."
   ]
  },
  {
   "cell_type": "code",
   "execution_count": 1,
   "metadata": {
    "id": "AXN7PHPN_Zcs"
   },
   "outputs": [],
   "source": [
    "# импорт библиотеки pandas\n",
    "import pandas as pd"
   ]
  },
  {
   "cell_type": "markdown",
   "metadata": {
    "id": "SG23P8tt_Zcs"
   },
   "source": [
    "Прочитаем файл `yandex_music_project.csv` из папки `/datasets` и сохраним его в переменной `df`:"
   ]
  },
  {
   "cell_type": "code",
   "execution_count": 2,
   "metadata": {
    "id": "fFVu7vqh_Zct"
   },
   "outputs": [],
   "source": [
    "# чтение файла с данными и сохранение в df\n",
    "df = pd.read_csv('yandex_music_project.csv')"
   ]
  },
  {
   "cell_type": "markdown",
   "metadata": {
    "id": "rDoOMd3uTqnZ"
   },
   "source": [
    "Выведем на экран первые десять строк таблицы:"
   ]
  },
  {
   "cell_type": "code",
   "execution_count": 3,
   "metadata": {
    "id": "oWTVX3gW_Zct"
   },
   "outputs": [
    {
     "data": {
      "text/html": [
       "<div>\n",
       "<style scoped>\n",
       "    .dataframe tbody tr th:only-of-type {\n",
       "        vertical-align: middle;\n",
       "    }\n",
       "\n",
       "    .dataframe tbody tr th {\n",
       "        vertical-align: top;\n",
       "    }\n",
       "\n",
       "    .dataframe thead th {\n",
       "        text-align: right;\n",
       "    }\n",
       "</style>\n",
       "<table border=\"1\" class=\"dataframe\">\n",
       "  <thead>\n",
       "    <tr style=\"text-align: right;\">\n",
       "      <th></th>\n",
       "      <th>userID</th>\n",
       "      <th>Track</th>\n",
       "      <th>artist</th>\n",
       "      <th>genre</th>\n",
       "      <th>City</th>\n",
       "      <th>time</th>\n",
       "      <th>Day</th>\n",
       "    </tr>\n",
       "  </thead>\n",
       "  <tbody>\n",
       "    <tr>\n",
       "      <th>0</th>\n",
       "      <td>FFB692EC</td>\n",
       "      <td>Kamigata To Boots</td>\n",
       "      <td>The Mass Missile</td>\n",
       "      <td>rock</td>\n",
       "      <td>Saint-Petersburg</td>\n",
       "      <td>20:28:33</td>\n",
       "      <td>Wednesday</td>\n",
       "    </tr>\n",
       "    <tr>\n",
       "      <th>1</th>\n",
       "      <td>55204538</td>\n",
       "      <td>Delayed Because of Accident</td>\n",
       "      <td>Andreas Rönnberg</td>\n",
       "      <td>rock</td>\n",
       "      <td>Moscow</td>\n",
       "      <td>14:07:09</td>\n",
       "      <td>Friday</td>\n",
       "    </tr>\n",
       "    <tr>\n",
       "      <th>2</th>\n",
       "      <td>20EC38</td>\n",
       "      <td>Funiculì funiculà</td>\n",
       "      <td>Mario Lanza</td>\n",
       "      <td>pop</td>\n",
       "      <td>Saint-Petersburg</td>\n",
       "      <td>20:58:07</td>\n",
       "      <td>Wednesday</td>\n",
       "    </tr>\n",
       "    <tr>\n",
       "      <th>3</th>\n",
       "      <td>A3DD03C9</td>\n",
       "      <td>Dragons in the Sunset</td>\n",
       "      <td>Fire + Ice</td>\n",
       "      <td>folk</td>\n",
       "      <td>Saint-Petersburg</td>\n",
       "      <td>08:37:09</td>\n",
       "      <td>Monday</td>\n",
       "    </tr>\n",
       "    <tr>\n",
       "      <th>4</th>\n",
       "      <td>E2DC1FAE</td>\n",
       "      <td>Soul People</td>\n",
       "      <td>Space Echo</td>\n",
       "      <td>dance</td>\n",
       "      <td>Moscow</td>\n",
       "      <td>08:34:34</td>\n",
       "      <td>Monday</td>\n",
       "    </tr>\n",
       "    <tr>\n",
       "      <th>5</th>\n",
       "      <td>842029A1</td>\n",
       "      <td>Преданная</td>\n",
       "      <td>IMPERVTOR</td>\n",
       "      <td>rusrap</td>\n",
       "      <td>Saint-Petersburg</td>\n",
       "      <td>13:09:41</td>\n",
       "      <td>Friday</td>\n",
       "    </tr>\n",
       "    <tr>\n",
       "      <th>6</th>\n",
       "      <td>4CB90AA5</td>\n",
       "      <td>True</td>\n",
       "      <td>Roman Messer</td>\n",
       "      <td>dance</td>\n",
       "      <td>Moscow</td>\n",
       "      <td>13:00:07</td>\n",
       "      <td>Wednesday</td>\n",
       "    </tr>\n",
       "    <tr>\n",
       "      <th>7</th>\n",
       "      <td>F03E1C1F</td>\n",
       "      <td>Feeling This Way</td>\n",
       "      <td>Polina Griffith</td>\n",
       "      <td>dance</td>\n",
       "      <td>Moscow</td>\n",
       "      <td>20:47:49</td>\n",
       "      <td>Wednesday</td>\n",
       "    </tr>\n",
       "    <tr>\n",
       "      <th>8</th>\n",
       "      <td>8FA1D3BE</td>\n",
       "      <td>И вновь продолжается бой</td>\n",
       "      <td>NaN</td>\n",
       "      <td>ruspop</td>\n",
       "      <td>Moscow</td>\n",
       "      <td>09:17:40</td>\n",
       "      <td>Friday</td>\n",
       "    </tr>\n",
       "    <tr>\n",
       "      <th>9</th>\n",
       "      <td>E772D5C0</td>\n",
       "      <td>Pessimist</td>\n",
       "      <td>NaN</td>\n",
       "      <td>dance</td>\n",
       "      <td>Saint-Petersburg</td>\n",
       "      <td>21:20:49</td>\n",
       "      <td>Wednesday</td>\n",
       "    </tr>\n",
       "  </tbody>\n",
       "</table>\n",
       "</div>"
      ],
      "text/plain": [
       "     userID                        Track            artist   genre  \\\n",
       "0  FFB692EC            Kamigata To Boots  The Mass Missile    rock   \n",
       "1  55204538  Delayed Because of Accident  Andreas Rönnberg    rock   \n",
       "2    20EC38            Funiculì funiculà       Mario Lanza     pop   \n",
       "3  A3DD03C9        Dragons in the Sunset        Fire + Ice    folk   \n",
       "4  E2DC1FAE                  Soul People        Space Echo   dance   \n",
       "5  842029A1                    Преданная         IMPERVTOR  rusrap   \n",
       "6  4CB90AA5                         True      Roman Messer   dance   \n",
       "7  F03E1C1F             Feeling This Way   Polina Griffith   dance   \n",
       "8  8FA1D3BE     И вновь продолжается бой               NaN  ruspop   \n",
       "9  E772D5C0                    Pessimist               NaN   dance   \n",
       "\n",
       "             City        time        Day  \n",
       "0  Saint-Petersburg  20:28:33  Wednesday  \n",
       "1            Moscow  14:07:09     Friday  \n",
       "2  Saint-Petersburg  20:58:07  Wednesday  \n",
       "3  Saint-Petersburg  08:37:09     Monday  \n",
       "4            Moscow  08:34:34     Monday  \n",
       "5  Saint-Petersburg  13:09:41     Friday  \n",
       "6            Moscow  13:00:07  Wednesday  \n",
       "7            Moscow  20:47:49  Wednesday  \n",
       "8            Moscow  09:17:40     Friday  \n",
       "9  Saint-Petersburg  21:20:49  Wednesday  "
      ]
     },
     "execution_count": 3,
     "metadata": {},
     "output_type": "execute_result"
    }
   ],
   "source": [
    "# получение первых 10 строк таблицы df\n",
    "df.head(10)"
   ]
  },
  {
   "cell_type": "markdown",
   "metadata": {
    "id": "EO73Kwic_Zct"
   },
   "source": [
    "Одной командой получим общую информацию о таблице:"
   ]
  },
  {
   "cell_type": "code",
   "execution_count": 4,
   "metadata": {
    "id": "DSf2kIb-_Zct"
   },
   "outputs": [
    {
     "name": "stdout",
     "output_type": "stream",
     "text": [
      "<class 'pandas.core.frame.DataFrame'>\n",
      "RangeIndex: 65079 entries, 0 to 65078\n",
      "Data columns (total 7 columns):\n",
      " #   Column    Non-Null Count  Dtype \n",
      "---  ------    --------------  ----- \n",
      " 0     userID  65079 non-null  object\n",
      " 1   Track     63848 non-null  object\n",
      " 2   artist    57876 non-null  object\n",
      " 3   genre     63881 non-null  object\n",
      " 4     City    65079 non-null  object\n",
      " 5   time      65079 non-null  object\n",
      " 6   Day       65079 non-null  object\n",
      "dtypes: object(7)\n",
      "memory usage: 3.5+ MB\n"
     ]
    }
   ],
   "source": [
    "# получение общей информации о данных в таблице df\n",
    "df.info()"
   ]
  },
  {
   "cell_type": "markdown",
   "metadata": {
    "id": "TaQ2Iwbr_Zct"
   },
   "source": [
    "Итак, в таблице семь столбцов. Тип данных во всех столбцах — `object`.\n",
    "\n",
    "Согласно документации к данным:\n",
    "* `userID` — идентификатор пользователя;\n",
    "* `Track` — название трека;  \n",
    "* `artist` — имя исполнителя;\n",
    "* `genre` — название жанра;\n",
    "* `City` — город пользователя;\n",
    "* `time` — время начала прослушивания;\n",
    "* `Day` — день недели.\n",
    "\n",
    "В названиях колонок видны три нарушения стиля:\n",
    "1. Строчные буквы сочетаются с прописными.\n",
    "2. Встречаются пробелы.\n",
    "3. Найдите ещё одну проблему в названии колонок и опишите её в этом пункте. Название столбца `userID` должно быть написано змеиным регистром с делением названия на смысловые части и разделение нижним   подчеркиванием вместо пробела. Название столбца `time` даже при наличии документации, не несет заложенносй смысловой нагрузки в виде начала прослушивания.\n",
    "\n",
    "\n",
    "\n",
    "Количество значений в столбцах различается. Значит, в данных есть пропущенные значения.\n"
   ]
  },
  {
   "cell_type": "markdown",
   "metadata": {
    "id": "MCB6-dXG_Zct"
   },
   "source": [
    "**Выводы**\n",
    "\n",
    "В каждой строке таблицы — данные о прослушанном треке. Часть колонок описывает саму композицию: название, исполнителя и жанр. Остальные данные рассказывают о пользователе: из какого он города, когда он слушал музыку. \n",
    "\n",
    "Предварительно можно утверждать, что, данных достаточно для проверки гипотез. Но встречаются пропуски в данных, а в названиях колонок — расхождения с хорошим стилем.\n",
    "\n",
    "Чтобы двигаться дальше, нужно устранить проблемы в данных."
   ]
  },
  {
   "cell_type": "markdown",
   "metadata": {
    "id": "SjYF6Ub9_Zct"
   },
   "source": [
    "## Предобработка данных\n",
    "Исправим стиль в заголовках столбцов, исключим пропуски. Затем проверим данные на дубликаты."
   ]
  },
  {
   "cell_type": "markdown",
   "metadata": {
    "id": "dIaKXr29_Zct"
   },
   "source": [
    "### Стиль заголовков\n",
    "Выведим на экран названия столбцов:"
   ]
  },
  {
   "cell_type": "code",
   "execution_count": 5,
   "metadata": {
    "id": "oKOTdF_Q_Zct"
   },
   "outputs": [
    {
     "data": {
      "text/plain": [
       "Index(['  userID', 'Track', 'artist', 'genre', '  City  ', 'time', 'Day'], dtype='object')"
      ]
     },
     "execution_count": 5,
     "metadata": {},
     "output_type": "execute_result"
    }
   ],
   "source": [
    "# перечень названий столбцов таблицы df\n",
    "df.columns"
   ]
  },
  {
   "cell_type": "markdown",
   "metadata": {
    "id": "zj5534cv_Zct"
   },
   "source": [
    "Приведем названия в соответствие с хорошим стилем:\n",
    "* несколько слов в названии запишите в «змеином_регистре»,\n",
    "* все символы сделайте строчными,\n",
    "* устраните пробелы.\n",
    "\n",
    "Для этого переименуем колонки так:\n",
    "* `'  userID'` → `'user_id'`;\n",
    "* `'Track'` → `'track'`;\n",
    "* `'  City  '` → `'city'`;\n",
    "* `'Day'` → `'day'`."
   ]
  },
  {
   "cell_type": "code",
   "execution_count": 6,
   "metadata": {
    "id": "ISlFqs5y_Zct"
   },
   "outputs": [],
   "source": [
    "# переименование столбцов\n",
    "df = df.rename(columns={'  userID':'user_id', 'Track':'track', '  City  ':'city', 'Day':'day'})"
   ]
  },
  {
   "cell_type": "markdown",
   "metadata": {
    "id": "1dqbh00J_Zct"
   },
   "source": [
    "Проверим результат. Для этого ещё раз выведем на экран названия столбцов:"
   ]
  },
  {
   "cell_type": "code",
   "execution_count": 7,
   "metadata": {
    "id": "d4NOAmTW_Zct"
   },
   "outputs": [
    {
     "data": {
      "text/plain": [
       "Index(['user_id', 'track', 'artist', 'genre', 'city', 'time', 'day'], dtype='object')"
      ]
     },
     "execution_count": 7,
     "metadata": {},
     "output_type": "execute_result"
    }
   ],
   "source": [
    "# проверка результатов - перечень названий столбцов\n",
    "df.columns"
   ]
  },
  {
   "cell_type": "markdown",
   "metadata": {
    "id": "5ISfbcfY_Zct"
   },
   "source": [
    "### Пропуски значений\n",
    "Сначала посчитаем, сколько в таблице пропущенных значений. Для этого достаточно двух методов `pandas`:"
   ]
  },
  {
   "cell_type": "code",
   "execution_count": 8,
   "metadata": {
    "id": "RskX29qr_Zct"
   },
   "outputs": [
    {
     "data": {
      "text/plain": [
       "user_id       0\n",
       "track      1231\n",
       "artist     7203\n",
       "genre      1198\n",
       "city          0\n",
       "time          0\n",
       "day           0\n",
       "dtype: int64"
      ]
     },
     "execution_count": 8,
     "metadata": {},
     "output_type": "execute_result"
    }
   ],
   "source": [
    "# подсчёт пропусков\n",
    "df.isna().sum()"
   ]
  },
  {
   "cell_type": "markdown",
   "metadata": {
    "id": "qubhgnlO_Zct"
   },
   "source": [
    "Не все пропущенные значения влияют на исследование. Так в `track` и `artist` пропуски не важны для вашей работы. Достаточно заменить их явными обозначениями.\n",
    "\n",
    "Но пропуски в `genre` могут помешать сравнению музыкальных вкусов в Москве и Санкт-Петербурге. На практике было бы правильно установить причину пропусков и восстановить данные. Такой возможности нет в учебном проекте. Придётся:\n",
    "* заполнить и эти пропуски явными обозначениями,\n",
    "* оценить, насколько они повредят расчётам. "
   ]
  },
  {
   "cell_type": "markdown",
   "metadata": {
    "id": "fSv2laPA_Zct"
   },
   "source": [
    "Заменим пропущенные значения в столбцах `track`, `artist` и `genre` на строку `'unknown'`. Для этого создадим список `columns_to_replace`, переберем его элементы циклом `for` и для каждого столбца выполним замену пропущенных значений:"
   ]
  },
  {
   "cell_type": "code",
   "execution_count": 9,
   "metadata": {
    "id": "KplB5qWs_Zct"
   },
   "outputs": [],
   "source": [
    "# перебор названий столбцов в цикле и замена пропущенных значений на 'unknown'\n",
    "columns_to_replace = df[['track', 'artist', 'genre']]\n",
    "\n",
    "for column in columns_to_replace:\n",
    "    df[column] = df[column].fillna('unknown')\n"
   ]
  },
  {
   "cell_type": "markdown",
   "metadata": {
    "id": "Ilsm-MZo_Zct"
   },
   "source": [
    "Убедимся, что в таблице не осталось пропусков. Для этого ещё раз посчитаем пропущенные значения."
   ]
  },
  {
   "cell_type": "code",
   "execution_count": 10,
   "metadata": {
    "id": "Tq4nYRX4_Zct"
   },
   "outputs": [
    {
     "data": {
      "text/plain": [
       "user_id    0\n",
       "track      0\n",
       "artist     0\n",
       "genre      0\n",
       "city       0\n",
       "time       0\n",
       "day        0\n",
       "dtype: int64"
      ]
     },
     "execution_count": 10,
     "metadata": {},
     "output_type": "execute_result"
    }
   ],
   "source": [
    "# подсчёт пропусков\n",
    "df.isna().sum()"
   ]
  },
  {
   "cell_type": "markdown",
   "metadata": {
    "id": "BWKRtBJ3_Zct"
   },
   "source": [
    "### Дубликаты\n",
    "Посчитаем явные дубликаты в таблице одной командой:"
   ]
  },
  {
   "cell_type": "code",
   "execution_count": 11,
   "metadata": {
    "id": "36eES_S0_Zct"
   },
   "outputs": [
    {
     "data": {
      "text/plain": [
       "3826"
      ]
     },
     "execution_count": 11,
     "metadata": {},
     "output_type": "execute_result"
    }
   ],
   "source": [
    "# подсчёт явных дубликатов\n",
    "df.duplicated().sum()"
   ]
  },
  {
   "cell_type": "markdown",
   "metadata": {
    "id": "Ot25h6XR_Zct"
   },
   "source": [
    "Вызовем специальный метод `pandas`, чтобы удалить явные дубликаты:"
   ]
  },
  {
   "cell_type": "code",
   "execution_count": 12,
   "metadata": {
    "id": "exFHq6tt_Zct"
   },
   "outputs": [],
   "source": [
    "# удаление явных дубликатов (с удалением старых индексов и формированием новых)\n",
    "df = df.drop_duplicates().reset_index(drop=True) "
   ]
  },
  {
   "cell_type": "markdown",
   "metadata": {
    "id": "Im2YwBEG_Zct"
   },
   "source": [
    "Ещё раз посчитаем явные дубликаты в таблице — убедимся, что полностью от них избавились:"
   ]
  },
  {
   "cell_type": "code",
   "execution_count": 13,
   "metadata": {
    "id": "-8PuNWQ0_Zct"
   },
   "outputs": [
    {
     "data": {
      "text/plain": [
       "0"
      ]
     },
     "execution_count": 13,
     "metadata": {},
     "output_type": "execute_result"
    }
   ],
   "source": [
    "# проверка на отсутствие дубликатов\n",
    "df.duplicated().sum()"
   ]
  },
  {
   "cell_type": "markdown",
   "metadata": {
    "id": "QlFBsxAr_Zct"
   },
   "source": [
    "Теперь избавимся от неявных дубликатов в колонке `genre`. Например, название одного и того же жанра может быть записано немного по-разному. Такие ошибки тоже повлияют на результат исследования."
   ]
  },
  {
   "cell_type": "markdown",
   "metadata": {
    "id": "eSjWwsOh_Zct"
   },
   "source": [
    "Выведем на экран список уникальных названий жанров, отсортированный в алфавитном порядке. Для этого:\n",
    "* извлечем нужный столбец датафрейма, \n",
    "* применим к нему метод сортировки,\n",
    "* для отсортированного столбца вызовим метод, который вернёт уникальные значения из столбца."
   ]
  },
  {
   "cell_type": "code",
   "execution_count": 14,
   "metadata": {
    "id": "JIUcqzZN_Zct"
   },
   "outputs": [
    {
     "data": {
      "text/plain": [
       "array(['acid', 'acoustic', 'action', 'adult', 'africa', 'afrikaans',\n",
       "       'alternative', 'alternativepunk', 'ambient', 'americana',\n",
       "       'animated', 'anime', 'arabesk', 'arabic', 'arena',\n",
       "       'argentinetango', 'art', 'audiobook', 'author', 'avantgarde',\n",
       "       'axé', 'baile', 'balkan', 'beats', 'bigroom', 'black', 'bluegrass',\n",
       "       'blues', 'bollywood', 'bossa', 'brazilian', 'breakbeat', 'breaks',\n",
       "       'broadway', 'cantautori', 'cantopop', 'canzone', 'caribbean',\n",
       "       'caucasian', 'celtic', 'chamber', 'chanson', 'children', 'chill',\n",
       "       'chinese', 'choral', 'christian', 'christmas', 'classical',\n",
       "       'classicmetal', 'club', 'colombian', 'comedy', 'conjazz',\n",
       "       'contemporary', 'country', 'cuban', 'dance', 'dancehall',\n",
       "       'dancepop', 'dark', 'death', 'deep', 'deutschrock', 'deutschspr',\n",
       "       'dirty', 'disco', 'dnb', 'documentary', 'downbeat', 'downtempo',\n",
       "       'drum', 'dub', 'dubstep', 'eastern', 'easy', 'electronic',\n",
       "       'electropop', 'emo', 'entehno', 'epicmetal', 'estrada', 'ethnic',\n",
       "       'eurofolk', 'european', 'experimental', 'extrememetal', 'fado',\n",
       "       'fairytail', 'film', 'fitness', 'flamenco', 'folk', 'folklore',\n",
       "       'folkmetal', 'folkrock', 'folktronica', 'forró', 'frankreich',\n",
       "       'französisch', 'french', 'funk', 'future', 'gangsta', 'garage',\n",
       "       'german', 'ghazal', 'gitarre', 'glitch', 'gospel', 'gothic',\n",
       "       'grime', 'grunge', 'gypsy', 'handsup', \"hard'n'heavy\", 'hardcore',\n",
       "       'hardstyle', 'hardtechno', 'hip', 'hip-hop', 'hiphop',\n",
       "       'historisch', 'holiday', 'hop', 'horror', 'house', 'hymn', 'idm',\n",
       "       'independent', 'indian', 'indie', 'indipop', 'industrial',\n",
       "       'inspirational', 'instrumental', 'international', 'irish', 'jam',\n",
       "       'japanese', 'jazz', 'jewish', 'jpop', 'jungle', 'k-pop',\n",
       "       'karadeniz', 'karaoke', 'kayokyoku', 'korean', 'laiko', 'latin',\n",
       "       'latino', 'leftfield', 'local', 'lounge', 'loungeelectronic',\n",
       "       'lovers', 'malaysian', 'mandopop', 'marschmusik', 'meditative',\n",
       "       'mediterranean', 'melodic', 'metal', 'metalcore', 'mexican',\n",
       "       'middle', 'minimal', 'miscellaneous', 'modern', 'mood', 'mpb',\n",
       "       'muslim', 'native', 'neoklassik', 'neue', 'new', 'newage',\n",
       "       'newwave', 'nu', 'nujazz', 'numetal', 'oceania', 'old', 'opera',\n",
       "       'orchestral', 'other', 'piano', 'podcasts', 'pop', 'popdance',\n",
       "       'popelectronic', 'popeurodance', 'poprussian', 'post',\n",
       "       'posthardcore', 'postrock', 'power', 'progmetal', 'progressive',\n",
       "       'psychedelic', 'punjabi', 'punk', 'quebecois', 'ragga', 'ram',\n",
       "       'rancheras', 'rap', 'rave', 'reggae', 'reggaeton', 'regional',\n",
       "       'relax', 'religious', 'retro', 'rhythm', 'rnb', 'rnr', 'rock',\n",
       "       'rockabilly', 'rockalternative', 'rockindie', 'rockother',\n",
       "       'romance', 'roots', 'ruspop', 'rusrap', 'rusrock', 'russian',\n",
       "       'salsa', 'samba', 'scenic', 'schlager', 'self', 'sertanejo',\n",
       "       'shanson', 'shoegazing', 'showtunes', 'singer', 'ska', 'skarock',\n",
       "       'slow', 'smooth', 'soft', 'soul', 'soulful', 'sound', 'soundtrack',\n",
       "       'southern', 'specialty', 'speech', 'spiritual', 'sport',\n",
       "       'stonerrock', 'surf', 'swing', 'synthpop', 'synthrock',\n",
       "       'sängerportrait', 'tango', 'tanzorchester', 'taraftar', 'tatar',\n",
       "       'tech', 'techno', 'teen', 'thrash', 'top', 'traditional',\n",
       "       'tradjazz', 'trance', 'tribal', 'trip', 'triphop', 'tropical',\n",
       "       'türk', 'türkçe', 'ukrrock', 'unknown', 'urban', 'uzbek',\n",
       "       'variété', 'vi', 'videogame', 'vocal', 'western', 'world',\n",
       "       'worldbeat', 'ïîï', 'электроника'], dtype=object)"
      ]
     },
     "execution_count": 14,
     "metadata": {},
     "output_type": "execute_result"
    }
   ],
   "source": [
    "# Просмотр уникальных названий жанров\n",
    "df['genre'].sort_values().unique()"
   ]
  },
  {
   "cell_type": "markdown",
   "metadata": {
    "id": "qej-Qmuo_Zct"
   },
   "source": [
    "Просмотрим список и найдем неявные дубликаты названия `hiphop`. Это могут быть названия с ошибками или альтернативные названия того же жанра.\n",
    "\n",
    "Мы увидим следующие неявные дубликаты:\n",
    "* *hip*,\n",
    "* *hop*,\n",
    "* *hip-hop*.\n",
    "\n",
    "Чтобы очистить от них таблицу, напишем функцию `replace_wrong_genres()` с двумя параметрами: \n",
    "* `wrong_genres` — список дубликатов,\n",
    "* `correct_genre` — строка с правильным значением.\n",
    "\n",
    "Функция должна исправить колонку `genre` в таблице `df`: заменить каждое значение из списка `wrong_genres` на значение из `correct_genre`."
   ]
  },
  {
   "cell_type": "code",
   "execution_count": 15,
   "metadata": {
    "id": "ErNDkmns_Zct"
   },
   "outputs": [],
   "source": [
    "# Функция для замены неявных дубликатов\n",
    "def replace_wrong_genres(wrong_genres, correct_genre):\n",
    "    df['genre'] = df['genre'].replace(wrong_genres, correct_genre)\n",
    "    return df['genre']"
   ]
  },
  {
   "cell_type": "markdown",
   "metadata": {
    "id": "aDoBJxbA_Zct"
   },
   "source": [
    "Вызовем `replace_wrong_genres()` и передадим ей такие аргументы, чтобы она устранила неявные дубликаты: вместо `hip`, `hop` и `hip-hop` в таблице должно быть значение `hiphop`:"
   ]
  },
  {
   "cell_type": "code",
   "execution_count": 16,
   "metadata": {
    "id": "YN5i2hpmSo09"
   },
   "outputs": [
    {
     "data": {
      "text/plain": [
       "0              rock\n",
       "1              rock\n",
       "2               pop\n",
       "3              folk\n",
       "4             dance\n",
       "            ...    \n",
       "61248           rnb\n",
       "61249        hiphop\n",
       "61250    industrial\n",
       "61251          rock\n",
       "61252       country\n",
       "Name: genre, Length: 61253, dtype: object"
      ]
     },
     "execution_count": 16,
     "metadata": {},
     "output_type": "execute_result"
    }
   ],
   "source": [
    "# Устранение неявных дубликатов\n",
    "replace_wrong_genres(['hip', 'hop', 'hip-hop'], 'hiphop')"
   ]
  },
  {
   "cell_type": "markdown",
   "metadata": {
    "id": "zQKF16_RG15m"
   },
   "source": [
    "Проверим, что заменили неправильные названия:\n",
    "\n",
    "*   hip\n",
    "*   hop\n",
    "*   hip-hop\n",
    "\n",
    "Выведем отсортированный список уникальных значений столбца `genre`:"
   ]
  },
  {
   "cell_type": "code",
   "execution_count": 17,
   "metadata": {
    "id": "wvixALnFG15m"
   },
   "outputs": [
    {
     "data": {
      "text/plain": [
       "array(['acid', 'acoustic', 'action', 'adult', 'africa', 'afrikaans',\n",
       "       'alternative', 'alternativepunk', 'ambient', 'americana',\n",
       "       'animated', 'anime', 'arabesk', 'arabic', 'arena',\n",
       "       'argentinetango', 'art', 'audiobook', 'author', 'avantgarde',\n",
       "       'axé', 'baile', 'balkan', 'beats', 'bigroom', 'black', 'bluegrass',\n",
       "       'blues', 'bollywood', 'bossa', 'brazilian', 'breakbeat', 'breaks',\n",
       "       'broadway', 'cantautori', 'cantopop', 'canzone', 'caribbean',\n",
       "       'caucasian', 'celtic', 'chamber', 'chanson', 'children', 'chill',\n",
       "       'chinese', 'choral', 'christian', 'christmas', 'classical',\n",
       "       'classicmetal', 'club', 'colombian', 'comedy', 'conjazz',\n",
       "       'contemporary', 'country', 'cuban', 'dance', 'dancehall',\n",
       "       'dancepop', 'dark', 'death', 'deep', 'deutschrock', 'deutschspr',\n",
       "       'dirty', 'disco', 'dnb', 'documentary', 'downbeat', 'downtempo',\n",
       "       'drum', 'dub', 'dubstep', 'eastern', 'easy', 'electronic',\n",
       "       'electropop', 'emo', 'entehno', 'epicmetal', 'estrada', 'ethnic',\n",
       "       'eurofolk', 'european', 'experimental', 'extrememetal', 'fado',\n",
       "       'fairytail', 'film', 'fitness', 'flamenco', 'folk', 'folklore',\n",
       "       'folkmetal', 'folkrock', 'folktronica', 'forró', 'frankreich',\n",
       "       'französisch', 'french', 'funk', 'future', 'gangsta', 'garage',\n",
       "       'german', 'ghazal', 'gitarre', 'glitch', 'gospel', 'gothic',\n",
       "       'grime', 'grunge', 'gypsy', 'handsup', \"hard'n'heavy\", 'hardcore',\n",
       "       'hardstyle', 'hardtechno', 'hiphop', 'historisch', 'holiday',\n",
       "       'horror', 'house', 'hymn', 'idm', 'independent', 'indian', 'indie',\n",
       "       'indipop', 'industrial', 'inspirational', 'instrumental',\n",
       "       'international', 'irish', 'jam', 'japanese', 'jazz', 'jewish',\n",
       "       'jpop', 'jungle', 'k-pop', 'karadeniz', 'karaoke', 'kayokyoku',\n",
       "       'korean', 'laiko', 'latin', 'latino', 'leftfield', 'local',\n",
       "       'lounge', 'loungeelectronic', 'lovers', 'malaysian', 'mandopop',\n",
       "       'marschmusik', 'meditative', 'mediterranean', 'melodic', 'metal',\n",
       "       'metalcore', 'mexican', 'middle', 'minimal', 'miscellaneous',\n",
       "       'modern', 'mood', 'mpb', 'muslim', 'native', 'neoklassik', 'neue',\n",
       "       'new', 'newage', 'newwave', 'nu', 'nujazz', 'numetal', 'oceania',\n",
       "       'old', 'opera', 'orchestral', 'other', 'piano', 'podcasts', 'pop',\n",
       "       'popdance', 'popelectronic', 'popeurodance', 'poprussian', 'post',\n",
       "       'posthardcore', 'postrock', 'power', 'progmetal', 'progressive',\n",
       "       'psychedelic', 'punjabi', 'punk', 'quebecois', 'ragga', 'ram',\n",
       "       'rancheras', 'rap', 'rave', 'reggae', 'reggaeton', 'regional',\n",
       "       'relax', 'religious', 'retro', 'rhythm', 'rnb', 'rnr', 'rock',\n",
       "       'rockabilly', 'rockalternative', 'rockindie', 'rockother',\n",
       "       'romance', 'roots', 'ruspop', 'rusrap', 'rusrock', 'russian',\n",
       "       'salsa', 'samba', 'scenic', 'schlager', 'self', 'sertanejo',\n",
       "       'shanson', 'shoegazing', 'showtunes', 'singer', 'ska', 'skarock',\n",
       "       'slow', 'smooth', 'soft', 'soul', 'soulful', 'sound', 'soundtrack',\n",
       "       'southern', 'specialty', 'speech', 'spiritual', 'sport',\n",
       "       'stonerrock', 'surf', 'swing', 'synthpop', 'synthrock',\n",
       "       'sängerportrait', 'tango', 'tanzorchester', 'taraftar', 'tatar',\n",
       "       'tech', 'techno', 'teen', 'thrash', 'top', 'traditional',\n",
       "       'tradjazz', 'trance', 'tribal', 'trip', 'triphop', 'tropical',\n",
       "       'türk', 'türkçe', 'ukrrock', 'unknown', 'urban', 'uzbek',\n",
       "       'variété', 'vi', 'videogame', 'vocal', 'western', 'world',\n",
       "       'worldbeat', 'ïîï', 'электроника'], dtype=object)"
      ]
     },
     "execution_count": 17,
     "metadata": {},
     "output_type": "execute_result"
    }
   ],
   "source": [
    "# Проверка на неявные дубликаты\n",
    "df['genre'].sort_values().unique()"
   ]
  },
  {
   "cell_type": "markdown",
   "metadata": {
    "id": "jz6a9-7HQUDd"
   },
   "source": [
    "**Выводы**\n",
    "\n",
    "Предобработка обнаружила три проблемы в данных:\n",
    "\n",
    "- нарушения в стиле заголовков,\n",
    "- пропущенные значения,\n",
    "- дубликаты — явные и неявные.\n",
    "\n",
    "Мы исправили заголовки, чтобы упростить работу с таблицей. Без дубликатов исследование станет более точным.\n",
    "\n",
    "Пропущенные значения мы заменили на `'unknown'`. Ещё предстоит увидеть, не повредят ли исследованию пропуски в колонке `genre`.\n",
    "\n",
    "Теперь можно перейти к проверке гипотез. "
   ]
  },
  {
   "cell_type": "markdown",
   "metadata": {
    "id": "WttZHXH0SqKk"
   },
   "source": [
    "## Проверка гипотез"
   ]
  },
  {
   "cell_type": "markdown",
   "metadata": {
    "id": "Im936VVi_Zcu"
   },
   "source": [
    "### Сравнение поведения пользователей двух столиц"
   ]
  },
  {
   "cell_type": "markdown",
   "metadata": {
    "id": "nwt_MuaL_Zcu"
   },
   "source": [
    "Первая гипотеза утверждает, что пользователи по-разному слушают музыку в Москве и Санкт-Петербурге. Проверим это предположение по данным о трёх днях недели — понедельнике, среде и пятнице. Для этого:\n",
    "\n",
    "* Разделим пользователей Москвы и Санкт-Петербурга\n",
    "* Сравним, сколько треков послушала каждая группа пользователей в понедельник, среду и пятницу.\n"
   ]
  },
  {
   "cell_type": "markdown",
   "metadata": {
    "id": "8Dw_YMmT_Zcu"
   },
   "source": [
    "Для тренировки сначала выполним каждый из расчётов по отдельности. \n",
    "\n",
    "Оценим активность пользователей в каждом городе. Сгруппируем данные по городу и посчитаем прослушивания в каждой группе.\n"
   ]
  },
  {
   "cell_type": "code",
   "execution_count": 18,
   "metadata": {
    "id": "0_Qs96oh_Zcu"
   },
   "outputs": [
    {
     "data": {
      "text/plain": [
       "city\n",
       "Moscow              42741\n",
       "Saint-Petersburg    18512\n",
       "Name: user_id, dtype: int64"
      ]
     },
     "execution_count": 18,
     "metadata": {},
     "output_type": "execute_result"
    }
   ],
   "source": [
    "# Подсчёт прослушиваний в каждом городе\n",
    "df.groupby('city')['user_id'].count()"
   ]
  },
  {
   "cell_type": "markdown",
   "metadata": {
    "id": "dzli3w8o_Zcu"
   },
   "source": [
    "В Москве прослушиваний больше, чем в Петербурге. Из этого не следует, что московские пользователи чаще слушают музыку. Просто самих пользователей в Москве больше.\n",
    "\n",
    "Теперь сгруппируем данные по дню недели и подсчитаем прослушивания в понедельник, среду и пятницу. Учтем, что в данных есть информация о прослушиваниях только за эти дни.\n"
   ]
  },
  {
   "cell_type": "code",
   "execution_count": 19,
   "metadata": {
    "id": "uZMKjiJz_Zcu"
   },
   "outputs": [
    {
     "data": {
      "text/plain": [
       "day\n",
       "Friday       21840\n",
       "Monday       21354\n",
       "Wednesday    18059\n",
       "Name: user_id, dtype: int64"
      ]
     },
     "execution_count": 19,
     "metadata": {},
     "output_type": "execute_result"
    }
   ],
   "source": [
    "# Подсчёт прослушиваний в каждый из трёх дней\n",
    "df.groupby('day')['user_id'].count()"
   ]
  },
  {
   "cell_type": "markdown",
   "metadata": {
    "id": "cC2tNrlL_Zcu"
   },
   "source": [
    "В среднем пользователи из двух городов менее активны по средам. Но картина может измениться, если рассмотреть каждый город в отдельности."
   ]
  },
  {
   "cell_type": "markdown",
   "metadata": {
    "id": "POzs8bGa_Zcu"
   },
   "source": [
    "Мы видели, как работает группировка по городу и по дням недели. Теперь напишем функцию, которая объединит два эти расчёта.\n",
    "\n",
    "Создадим функцию `number_tracks()`, которая посчитает прослушивания для заданного дня и города. Ей понадобятся два параметра:\n",
    "* день недели,\n",
    "* название города.\n",
    "\n",
    "В функции сохраним в переменную строки исходной таблицы, у которых значение:\n",
    "  * в колонке `day` равно параметру `day`,\n",
    "  * в колонке `city` равно параметру `city`.\n",
    "\n",
    "Для этого применим последовательную фильтрацию с логической индексацией.\n",
    "\n",
    "Затем посчитаем значения в столбце `user_id` получившейся таблицы. Результат сохраним в новую переменную. Вернем эту переменную из функции."
   ]
  },
  {
   "cell_type": "code",
   "execution_count": 20,
   "metadata": {
    "id": "Nz3GdQB1_Zcu"
   },
   "outputs": [],
   "source": [
    "# <создание функции number_tracks()>\n",
    "# Объявляется функция с двумя параметрами: day, city.\n",
    "# В переменной track_list сохраняются те строки таблицы df, для которых \n",
    "# значение в столбце 'day' равно параметру day и одновременно значение\n",
    "# в столбце 'city' равно параметру city (используйте последовательную фильтрацию\n",
    "# с помощью логической индексации).\n",
    "# В переменной track_list_count сохраняется число значений столбца 'user_id',\n",
    "# рассчитанное методом count() для таблицы track_list.\n",
    "# Функция возвращает число - значение track_list_count.\n",
    "def number_tracks(day, city):\n",
    "    \n",
    "    track_list = df[df['day'] == day]\n",
    "    track_list = track_list[track_list['city'] == city]\n",
    "    \n",
    "    track_list_count = track_list['user_id'].count()\n",
    "    \n",
    "    return track_list_count\n",
    "# Функция для подсчёта прослушиваний для конкретного города и дня.\n",
    "# С помощью последовательной фильтрации с логической индексацией она \n",
    "# сначала получит из исходной таблицы строки с нужным днём,\n",
    "# затем из результата отфильтрует строки с нужным городом,\n",
    "# методом count() посчитает количество значений в колонке user_id. \n",
    "# Это количество функция вернёт в качестве результата\n"
   ]
  },
  {
   "cell_type": "markdown",
   "metadata": {
    "id": "ytf7xFrFJQ2r"
   },
   "source": [
    "Вызовем `number_tracks()` шесть раз, меняя значение параметров — так, чтобы получить данные для каждого города в каждый из трёх дней."
   ]
  },
  {
   "cell_type": "code",
   "execution_count": 21,
   "metadata": {
    "id": "rJcRATNQ_Zcu"
   },
   "outputs": [
    {
     "data": {
      "text/plain": [
       "15740"
      ]
     },
     "execution_count": 21,
     "metadata": {},
     "output_type": "execute_result"
    }
   ],
   "source": [
    "# количество прослушиваний в Москве по понедельникам\n",
    "number_tracks('Monday', 'Moscow')"
   ]
  },
  {
   "cell_type": "code",
   "execution_count": 22,
   "metadata": {
    "id": "hq_ncZ5T_Zcu"
   },
   "outputs": [
    {
     "data": {
      "text/plain": [
       "5614"
      ]
     },
     "execution_count": 22,
     "metadata": {},
     "output_type": "execute_result"
    }
   ],
   "source": [
    "# количество прослушиваний в Санкт-Петербурге по понедельникам\n",
    "number_tracks('Monday', 'Saint-Petersburg')"
   ]
  },
  {
   "cell_type": "code",
   "execution_count": 23,
   "metadata": {
    "id": "_NTy2VPU_Zcu"
   },
   "outputs": [
    {
     "data": {
      "text/plain": [
       "11056"
      ]
     },
     "execution_count": 23,
     "metadata": {},
     "output_type": "execute_result"
    }
   ],
   "source": [
    "# количество прослушиваний в Москве по средам\n",
    "number_tracks('Wednesday', 'Moscow')"
   ]
  },
  {
   "cell_type": "code",
   "execution_count": 24,
   "metadata": {
    "id": "j2y3TAwo_Zcu"
   },
   "outputs": [
    {
     "data": {
      "text/plain": [
       "7003"
      ]
     },
     "execution_count": 24,
     "metadata": {},
     "output_type": "execute_result"
    }
   ],
   "source": [
    "# количество прослушиваний в Санкт-Петербурге по средам\n",
    "number_tracks('Wednesday', 'Saint-Petersburg')"
   ]
  },
  {
   "cell_type": "code",
   "execution_count": 25,
   "metadata": {
    "id": "vYDw5u_K_Zcu"
   },
   "outputs": [
    {
     "data": {
      "text/plain": [
       "15945"
      ]
     },
     "execution_count": 25,
     "metadata": {},
     "output_type": "execute_result"
    }
   ],
   "source": [
    "# количество прослушиваний в Москве по пятницам\n",
    "number_tracks('Friday', 'Moscow')"
   ]
  },
  {
   "cell_type": "code",
   "execution_count": 26,
   "metadata": {
    "id": "8_yzFtW3_Zcu"
   },
   "outputs": [
    {
     "data": {
      "text/plain": [
       "5895"
      ]
     },
     "execution_count": 26,
     "metadata": {},
     "output_type": "execute_result"
    }
   ],
   "source": [
    "# количество прослушиваний в Санкт-Петербурге по пятницам\n",
    "number_tracks('Friday', 'Saint-Petersburg')"
   ]
  },
  {
   "cell_type": "markdown",
   "metadata": {
    "id": "7QXffbO-_Zcu"
   },
   "source": [
    "Создадим c помощью конструктора `pd.DataFrame` таблицу, где\n",
    "* названия колонок — `['city', 'monday', 'wednesday', 'friday']`;\n",
    "* данные — результаты, которые вы получили с помощью `number_tracks`."
   ]
  },
  {
   "cell_type": "code",
   "execution_count": 27,
   "metadata": {
    "id": "APAcLpOr_Zcu"
   },
   "outputs": [
    {
     "data": {
      "text/html": [
       "<div>\n",
       "<style scoped>\n",
       "    .dataframe tbody tr th:only-of-type {\n",
       "        vertical-align: middle;\n",
       "    }\n",
       "\n",
       "    .dataframe tbody tr th {\n",
       "        vertical-align: top;\n",
       "    }\n",
       "\n",
       "    .dataframe thead th {\n",
       "        text-align: right;\n",
       "    }\n",
       "</style>\n",
       "<table border=\"1\" class=\"dataframe\">\n",
       "  <thead>\n",
       "    <tr style=\"text-align: right;\">\n",
       "      <th></th>\n",
       "      <th>city</th>\n",
       "      <th>monday</th>\n",
       "      <th>wednesday</th>\n",
       "      <th>friday</th>\n",
       "    </tr>\n",
       "  </thead>\n",
       "  <tbody>\n",
       "    <tr>\n",
       "      <th>0</th>\n",
       "      <td>Moscow</td>\n",
       "      <td>15740</td>\n",
       "      <td>11056</td>\n",
       "      <td>15945</td>\n",
       "    </tr>\n",
       "    <tr>\n",
       "      <th>1</th>\n",
       "      <td>Saint-Petersburg</td>\n",
       "      <td>5614</td>\n",
       "      <td>7003</td>\n",
       "      <td>5895</td>\n",
       "    </tr>\n",
       "  </tbody>\n",
       "</table>\n",
       "</div>"
      ],
      "text/plain": [
       "               city  monday  wednesday  friday\n",
       "0            Moscow   15740      11056   15945\n",
       "1  Saint-Petersburg    5614       7003    5895"
      ]
     },
     "execution_count": 27,
     "metadata": {},
     "output_type": "execute_result"
    }
   ],
   "source": [
    "# Таблица с результатами\n",
    "result_data = [\n",
    "    ['Moscow', 15740, 11056, 15945],\n",
    "    ['Saint-Petersburg', 5614, 7003, 5895],\n",
    "]\n",
    "result_columns = ['city', 'monday', 'wednesday', 'friday']\n",
    "pd.DataFrame(data=result_data, columns=result_columns)"
   ]
  },
  {
   "cell_type": "markdown",
   "metadata": {
    "id": "-EgPIHYu_Zcu"
   },
   "source": [
    "**Выводы**\n",
    "\n",
    "Данные показывают разницу поведения пользователей:\n",
    "\n",
    "- В Москве пик прослушиваний приходится на понедельник и пятницу, а в среду заметен спад.\n",
    "- В Петербурге, наоборот, больше слушают музыку по средам. Активность в понедельник и пятницу здесь почти в равной мере уступает среде.\n",
    "\n",
    "Значит, данные говорят в пользу первой гипотезы."
   ]
  },
  {
   "cell_type": "markdown",
   "metadata": {
    "id": "atZAxtq4_Zcu"
   },
   "source": [
    "### Музыка в начале и в конце недели"
   ]
  },
  {
   "cell_type": "markdown",
   "metadata": {
    "id": "eXrQqXFH_Zcu"
   },
   "source": [
    "Согласно второй гипотезе, утром в понедельник в Москве преобладают одни жанры, а в Петербурге — другие. Так же и вечером пятницы преобладают разные жанры — в зависимости от города."
   ]
  },
  {
   "cell_type": "markdown",
   "metadata": {
    "id": "S8UcW6Hw_Zcu"
   },
   "source": [
    "Сохраним таблицы с данными в две переменные:\n",
    "* по Москве — в `moscow_general`;\n",
    "* по Санкт-Петербургу — в `spb_general`."
   ]
  },
  {
   "cell_type": "code",
   "execution_count": 28,
   "metadata": {
    "id": "qeaFfM_P_Zcu"
   },
   "outputs": [
    {
     "data": {
      "text/html": [
       "<div>\n",
       "<style scoped>\n",
       "    .dataframe tbody tr th:only-of-type {\n",
       "        vertical-align: middle;\n",
       "    }\n",
       "\n",
       "    .dataframe tbody tr th {\n",
       "        vertical-align: top;\n",
       "    }\n",
       "\n",
       "    .dataframe thead th {\n",
       "        text-align: right;\n",
       "    }\n",
       "</style>\n",
       "<table border=\"1\" class=\"dataframe\">\n",
       "  <thead>\n",
       "    <tr style=\"text-align: right;\">\n",
       "      <th></th>\n",
       "      <th>user_id</th>\n",
       "      <th>track</th>\n",
       "      <th>artist</th>\n",
       "      <th>genre</th>\n",
       "      <th>city</th>\n",
       "      <th>time</th>\n",
       "      <th>day</th>\n",
       "    </tr>\n",
       "  </thead>\n",
       "  <tbody>\n",
       "    <tr>\n",
       "      <th>1</th>\n",
       "      <td>55204538</td>\n",
       "      <td>Delayed Because of Accident</td>\n",
       "      <td>Andreas Rönnberg</td>\n",
       "      <td>rock</td>\n",
       "      <td>Moscow</td>\n",
       "      <td>14:07:09</td>\n",
       "      <td>Friday</td>\n",
       "    </tr>\n",
       "    <tr>\n",
       "      <th>4</th>\n",
       "      <td>E2DC1FAE</td>\n",
       "      <td>Soul People</td>\n",
       "      <td>Space Echo</td>\n",
       "      <td>dance</td>\n",
       "      <td>Moscow</td>\n",
       "      <td>08:34:34</td>\n",
       "      <td>Monday</td>\n",
       "    </tr>\n",
       "    <tr>\n",
       "      <th>6</th>\n",
       "      <td>4CB90AA5</td>\n",
       "      <td>True</td>\n",
       "      <td>Roman Messer</td>\n",
       "      <td>dance</td>\n",
       "      <td>Moscow</td>\n",
       "      <td>13:00:07</td>\n",
       "      <td>Wednesday</td>\n",
       "    </tr>\n",
       "    <tr>\n",
       "      <th>7</th>\n",
       "      <td>F03E1C1F</td>\n",
       "      <td>Feeling This Way</td>\n",
       "      <td>Polina Griffith</td>\n",
       "      <td>dance</td>\n",
       "      <td>Moscow</td>\n",
       "      <td>20:47:49</td>\n",
       "      <td>Wednesday</td>\n",
       "    </tr>\n",
       "    <tr>\n",
       "      <th>8</th>\n",
       "      <td>8FA1D3BE</td>\n",
       "      <td>И вновь продолжается бой</td>\n",
       "      <td>unknown</td>\n",
       "      <td>ruspop</td>\n",
       "      <td>Moscow</td>\n",
       "      <td>09:17:40</td>\n",
       "      <td>Friday</td>\n",
       "    </tr>\n",
       "    <tr>\n",
       "      <th>...</th>\n",
       "      <td>...</td>\n",
       "      <td>...</td>\n",
       "      <td>...</td>\n",
       "      <td>...</td>\n",
       "      <td>...</td>\n",
       "      <td>...</td>\n",
       "      <td>...</td>\n",
       "    </tr>\n",
       "    <tr>\n",
       "      <th>61247</th>\n",
       "      <td>83A474E7</td>\n",
       "      <td>I Worship Only What You Bleed</td>\n",
       "      <td>The Black Dahlia Murder</td>\n",
       "      <td>extrememetal</td>\n",
       "      <td>Moscow</td>\n",
       "      <td>21:07:12</td>\n",
       "      <td>Monday</td>\n",
       "    </tr>\n",
       "    <tr>\n",
       "      <th>61248</th>\n",
       "      <td>729CBB09</td>\n",
       "      <td>My Name</td>\n",
       "      <td>McLean</td>\n",
       "      <td>rnb</td>\n",
       "      <td>Moscow</td>\n",
       "      <td>13:32:28</td>\n",
       "      <td>Wednesday</td>\n",
       "    </tr>\n",
       "    <tr>\n",
       "      <th>61250</th>\n",
       "      <td>C5E3A0D5</td>\n",
       "      <td>Jalopiina</td>\n",
       "      <td>unknown</td>\n",
       "      <td>industrial</td>\n",
       "      <td>Moscow</td>\n",
       "      <td>20:09:26</td>\n",
       "      <td>Friday</td>\n",
       "    </tr>\n",
       "    <tr>\n",
       "      <th>61251</th>\n",
       "      <td>321D0506</td>\n",
       "      <td>Freight Train</td>\n",
       "      <td>Chas McDevitt</td>\n",
       "      <td>rock</td>\n",
       "      <td>Moscow</td>\n",
       "      <td>21:43:59</td>\n",
       "      <td>Friday</td>\n",
       "    </tr>\n",
       "    <tr>\n",
       "      <th>61252</th>\n",
       "      <td>3A64EF84</td>\n",
       "      <td>Tell Me Sweet Little Lies</td>\n",
       "      <td>Monica Lopez</td>\n",
       "      <td>country</td>\n",
       "      <td>Moscow</td>\n",
       "      <td>21:59:46</td>\n",
       "      <td>Friday</td>\n",
       "    </tr>\n",
       "  </tbody>\n",
       "</table>\n",
       "<p>42741 rows × 7 columns</p>\n",
       "</div>"
      ],
      "text/plain": [
       "        user_id                          track                   artist  \\\n",
       "1      55204538    Delayed Because of Accident         Andreas Rönnberg   \n",
       "4      E2DC1FAE                    Soul People               Space Echo   \n",
       "6      4CB90AA5                           True             Roman Messer   \n",
       "7      F03E1C1F               Feeling This Way          Polina Griffith   \n",
       "8      8FA1D3BE       И вновь продолжается бой                  unknown   \n",
       "...         ...                            ...                      ...   \n",
       "61247  83A474E7  I Worship Only What You Bleed  The Black Dahlia Murder   \n",
       "61248  729CBB09                        My Name                   McLean   \n",
       "61250  C5E3A0D5                      Jalopiina                  unknown   \n",
       "61251  321D0506                  Freight Train            Chas McDevitt   \n",
       "61252  3A64EF84      Tell Me Sweet Little Lies             Monica Lopez   \n",
       "\n",
       "              genre    city      time        day  \n",
       "1              rock  Moscow  14:07:09     Friday  \n",
       "4             dance  Moscow  08:34:34     Monday  \n",
       "6             dance  Moscow  13:00:07  Wednesday  \n",
       "7             dance  Moscow  20:47:49  Wednesday  \n",
       "8            ruspop  Moscow  09:17:40     Friday  \n",
       "...             ...     ...       ...        ...  \n",
       "61247  extrememetal  Moscow  21:07:12     Monday  \n",
       "61248           rnb  Moscow  13:32:28  Wednesday  \n",
       "61250    industrial  Moscow  20:09:26     Friday  \n",
       "61251          rock  Moscow  21:43:59     Friday  \n",
       "61252       country  Moscow  21:59:46     Friday  \n",
       "\n",
       "[42741 rows x 7 columns]"
      ]
     },
     "metadata": {},
     "output_type": "display_data"
    }
   ],
   "source": [
    "# получение таблицы moscow_general из тех строк таблицы df, \n",
    "# для которых значение в столбце 'city' равно 'Moscow'\n",
    "moscow_general = df[df['city'] == 'Moscow']\n",
    "display(moscow_general)"
   ]
  },
  {
   "cell_type": "code",
   "execution_count": 29,
   "metadata": {
    "id": "ORaVRKto_Zcu"
   },
   "outputs": [
    {
     "data": {
      "text/html": [
       "<div>\n",
       "<style scoped>\n",
       "    .dataframe tbody tr th:only-of-type {\n",
       "        vertical-align: middle;\n",
       "    }\n",
       "\n",
       "    .dataframe tbody tr th {\n",
       "        vertical-align: top;\n",
       "    }\n",
       "\n",
       "    .dataframe thead th {\n",
       "        text-align: right;\n",
       "    }\n",
       "</style>\n",
       "<table border=\"1\" class=\"dataframe\">\n",
       "  <thead>\n",
       "    <tr style=\"text-align: right;\">\n",
       "      <th></th>\n",
       "      <th>user_id</th>\n",
       "      <th>track</th>\n",
       "      <th>artist</th>\n",
       "      <th>genre</th>\n",
       "      <th>city</th>\n",
       "      <th>time</th>\n",
       "      <th>day</th>\n",
       "    </tr>\n",
       "  </thead>\n",
       "  <tbody>\n",
       "    <tr>\n",
       "      <th>0</th>\n",
       "      <td>FFB692EC</td>\n",
       "      <td>Kamigata To Boots</td>\n",
       "      <td>The Mass Missile</td>\n",
       "      <td>rock</td>\n",
       "      <td>Saint-Petersburg</td>\n",
       "      <td>20:28:33</td>\n",
       "      <td>Wednesday</td>\n",
       "    </tr>\n",
       "    <tr>\n",
       "      <th>2</th>\n",
       "      <td>20EC38</td>\n",
       "      <td>Funiculì funiculà</td>\n",
       "      <td>Mario Lanza</td>\n",
       "      <td>pop</td>\n",
       "      <td>Saint-Petersburg</td>\n",
       "      <td>20:58:07</td>\n",
       "      <td>Wednesday</td>\n",
       "    </tr>\n",
       "    <tr>\n",
       "      <th>3</th>\n",
       "      <td>A3DD03C9</td>\n",
       "      <td>Dragons in the Sunset</td>\n",
       "      <td>Fire + Ice</td>\n",
       "      <td>folk</td>\n",
       "      <td>Saint-Petersburg</td>\n",
       "      <td>08:37:09</td>\n",
       "      <td>Monday</td>\n",
       "    </tr>\n",
       "    <tr>\n",
       "      <th>5</th>\n",
       "      <td>842029A1</td>\n",
       "      <td>Преданная</td>\n",
       "      <td>IMPERVTOR</td>\n",
       "      <td>rusrap</td>\n",
       "      <td>Saint-Petersburg</td>\n",
       "      <td>13:09:41</td>\n",
       "      <td>Friday</td>\n",
       "    </tr>\n",
       "    <tr>\n",
       "      <th>9</th>\n",
       "      <td>E772D5C0</td>\n",
       "      <td>Pessimist</td>\n",
       "      <td>unknown</td>\n",
       "      <td>dance</td>\n",
       "      <td>Saint-Petersburg</td>\n",
       "      <td>21:20:49</td>\n",
       "      <td>Wednesday</td>\n",
       "    </tr>\n",
       "    <tr>\n",
       "      <th>...</th>\n",
       "      <td>...</td>\n",
       "      <td>...</td>\n",
       "      <td>...</td>\n",
       "      <td>...</td>\n",
       "      <td>...</td>\n",
       "      <td>...</td>\n",
       "      <td>...</td>\n",
       "    </tr>\n",
       "    <tr>\n",
       "      <th>61239</th>\n",
       "      <td>D94F810B</td>\n",
       "      <td>Theme from the Walking Dead</td>\n",
       "      <td>Proyecto Halloween</td>\n",
       "      <td>film</td>\n",
       "      <td>Saint-Petersburg</td>\n",
       "      <td>21:14:40</td>\n",
       "      <td>Monday</td>\n",
       "    </tr>\n",
       "    <tr>\n",
       "      <th>61240</th>\n",
       "      <td>BC8EC5CF</td>\n",
       "      <td>Red Lips: Gta (Rover Rework)</td>\n",
       "      <td>Rover</td>\n",
       "      <td>electronic</td>\n",
       "      <td>Saint-Petersburg</td>\n",
       "      <td>21:06:50</td>\n",
       "      <td>Monday</td>\n",
       "    </tr>\n",
       "    <tr>\n",
       "      <th>61241</th>\n",
       "      <td>29E04611</td>\n",
       "      <td>Bre Petrunko</td>\n",
       "      <td>Perunika Trio</td>\n",
       "      <td>world</td>\n",
       "      <td>Saint-Petersburg</td>\n",
       "      <td>13:56:00</td>\n",
       "      <td>Monday</td>\n",
       "    </tr>\n",
       "    <tr>\n",
       "      <th>61242</th>\n",
       "      <td>1B91C621</td>\n",
       "      <td>(Hello) Cloud Mountain</td>\n",
       "      <td>sleepmakeswaves</td>\n",
       "      <td>postrock</td>\n",
       "      <td>Saint-Petersburg</td>\n",
       "      <td>09:22:13</td>\n",
       "      <td>Monday</td>\n",
       "    </tr>\n",
       "    <tr>\n",
       "      <th>61249</th>\n",
       "      <td>D08D4A55</td>\n",
       "      <td>Maybe One Day (feat. Black Spade)</td>\n",
       "      <td>Blu &amp; Exile</td>\n",
       "      <td>hiphop</td>\n",
       "      <td>Saint-Petersburg</td>\n",
       "      <td>10:00:00</td>\n",
       "      <td>Monday</td>\n",
       "    </tr>\n",
       "  </tbody>\n",
       "</table>\n",
       "<p>18512 rows × 7 columns</p>\n",
       "</div>"
      ],
      "text/plain": [
       "        user_id                              track              artist  \\\n",
       "0      FFB692EC                  Kamigata To Boots    The Mass Missile   \n",
       "2        20EC38                  Funiculì funiculà         Mario Lanza   \n",
       "3      A3DD03C9              Dragons in the Sunset          Fire + Ice   \n",
       "5      842029A1                          Преданная           IMPERVTOR   \n",
       "9      E772D5C0                          Pessimist             unknown   \n",
       "...         ...                                ...                 ...   \n",
       "61239  D94F810B        Theme from the Walking Dead  Proyecto Halloween   \n",
       "61240  BC8EC5CF       Red Lips: Gta (Rover Rework)               Rover   \n",
       "61241  29E04611                       Bre Petrunko       Perunika Trio   \n",
       "61242  1B91C621             (Hello) Cloud Mountain     sleepmakeswaves   \n",
       "61249  D08D4A55  Maybe One Day (feat. Black Spade)         Blu & Exile   \n",
       "\n",
       "            genre              city      time        day  \n",
       "0            rock  Saint-Petersburg  20:28:33  Wednesday  \n",
       "2             pop  Saint-Petersburg  20:58:07  Wednesday  \n",
       "3            folk  Saint-Petersburg  08:37:09     Monday  \n",
       "5          rusrap  Saint-Petersburg  13:09:41     Friday  \n",
       "9           dance  Saint-Petersburg  21:20:49  Wednesday  \n",
       "...           ...               ...       ...        ...  \n",
       "61239        film  Saint-Petersburg  21:14:40     Monday  \n",
       "61240  electronic  Saint-Petersburg  21:06:50     Monday  \n",
       "61241       world  Saint-Petersburg  13:56:00     Monday  \n",
       "61242    postrock  Saint-Petersburg  09:22:13     Monday  \n",
       "61249      hiphop  Saint-Petersburg  10:00:00     Monday  \n",
       "\n",
       "[18512 rows x 7 columns]"
      ]
     },
     "metadata": {},
     "output_type": "display_data"
    }
   ],
   "source": [
    "# получение таблицы spb_general из тех строк таблицы df,\n",
    "# для которых значение в столбце 'city' равно 'Saint-Petersburg'\n",
    "spb_general = df[df['city'] == 'Saint-Petersburg']\n",
    "display(spb_general)"
   ]
  },
  {
   "cell_type": "markdown",
   "metadata": {
    "id": "MEJV-CX2_Zcu"
   },
   "source": [
    "Создадим функцию `genre_weekday()` с четырьмя параметрами:\n",
    "* таблица (датафрейм) с данными,\n",
    "* день недели,\n",
    "* начальная временная метка в формате 'hh:mm', \n",
    "* последняя временная метка в формате 'hh:mm'.\n",
    "\n",
    "Функция должна вернуть информацию о топ-10 жанров тех треков, которые прослушивали в указанный день, в промежутке между двумя отметками времени."
   ]
  },
  {
   "cell_type": "code",
   "execution_count": 30,
   "metadata": {
    "id": "laJT9BYl_Zcu"
   },
   "outputs": [],
   "source": [
    "# Объявление функции genre_weekday() с параметрами table, day, time1, time2,\n",
    "# которая возвращает информацию о самых популярных жанрах в указанный день в\n",
    "# заданное время:\n",
    "# 1) в переменную genre_df сохраняются те строки переданного датафрейма table, для\n",
    "#    которых одновременно:\n",
    "#    - значение в столбце day равно значению аргумента day\n",
    "#    - значение в столбце time больше значения аргумента time1\n",
    "#    - значение в столбце time меньше значения аргумента time2\n",
    "#    Используйте последовательную фильтрацию с помощью логической индексации.\n",
    "# 2) сгруппировать датафрейм genre_df по столбцу genre, взять один из его\n",
    "#    столбцов и посчитать методом count() количество записей для каждого из\n",
    "#    присутствующих жанров, получившийся Series записать в переменную\n",
    "#    genre_df_count\n",
    "# 3) отсортировать genre_df_count по убыванию встречаемости и сохранить\n",
    "#    в переменную genre_df_sorted\n",
    "# 4) вернуть Series из 10 первых значений genre_df_sorted, это будут топ-10\n",
    "#    популярных жанров (в указанный день, в заданное время)\n",
    "def genre_weekday(table, day, time1, time2):\n",
    "    genre_df = table[table['day'] == day]\n",
    "    genre_df = genre_df[genre_df['time'] > time1]\n",
    "    genre_df = genre_df[genre_df['time'] < time2]\n",
    "    \n",
    "    genre_df_count = genre_df.groupby('genre')['day'].count()\n",
    "    \n",
    "    genre_df_sorted = genre_df_count.sort_values(ascending=False)\n",
    "\n",
    "    return genre_df_sorted.head(10)"
   ]
  },
  {
   "cell_type": "markdown",
   "metadata": {
    "id": "la2s2_PF_Zcu"
   },
   "source": [
    "Cравним результаты функции `genre_weekday()` для Москвы и Санкт-Петербурга в понедельник утром (с 7:00 до 11:00) и в пятницу вечером (с 17:00 до 23:00):"
   ]
  },
  {
   "cell_type": "code",
   "execution_count": 31,
   "metadata": {
    "id": "yz7itPUQ_Zcu"
   },
   "outputs": [
    {
     "data": {
      "text/plain": [
       "genre\n",
       "pop            781\n",
       "dance          549\n",
       "electronic     480\n",
       "rock           474\n",
       "hiphop         286\n",
       "ruspop         186\n",
       "world          181\n",
       "rusrap         175\n",
       "alternative    164\n",
       "unknown        161\n",
       "Name: day, dtype: int64"
      ]
     },
     "execution_count": 31,
     "metadata": {},
     "output_type": "execute_result"
    }
   ],
   "source": [
    "# вызов функции для утра понедельника в Москве (вместо df — таблица moscow_general)\n",
    "# объекты, хранящие время, являются строками и сравниваются как строки\n",
    "# пример вызова: genre_weekday(moscow_general, 'Monday', '07:00', '11:00')\n",
    "genre_weekday(moscow_general, 'Monday', '07:00', '11:00')"
   ]
  },
  {
   "cell_type": "code",
   "execution_count": 32,
   "metadata": {
    "id": "kwUcHPdy_Zcu"
   },
   "outputs": [
    {
     "data": {
      "text/plain": [
       "genre\n",
       "pop            218\n",
       "dance          182\n",
       "rock           162\n",
       "electronic     147\n",
       "hiphop          80\n",
       "ruspop          64\n",
       "alternative     58\n",
       "rusrap          55\n",
       "jazz            44\n",
       "classical       40\n",
       "Name: day, dtype: int64"
      ]
     },
     "execution_count": 32,
     "metadata": {},
     "output_type": "execute_result"
    }
   ],
   "source": [
    "# вызов функции для утра понедельника в Петербурге (вместо df — таблица spb_general)\n",
    "genre_weekday(spb_general, 'Monday', '07:00', '11:00')"
   ]
  },
  {
   "cell_type": "code",
   "execution_count": 33,
   "metadata": {
    "id": "EzXVRE1o_Zcu"
   },
   "outputs": [
    {
     "data": {
      "text/plain": [
       "genre\n",
       "pop            713\n",
       "rock           517\n",
       "dance          495\n",
       "electronic     482\n",
       "hiphop         273\n",
       "world          208\n",
       "ruspop         170\n",
       "alternative    163\n",
       "classical      163\n",
       "rusrap         142\n",
       "Name: day, dtype: int64"
      ]
     },
     "execution_count": 33,
     "metadata": {},
     "output_type": "execute_result"
    }
   ],
   "source": [
    "# вызов функции для вечера пятницы в Москве\n",
    "genre_weekday(moscow_general, 'Friday', '17:00', '23:00')"
   ]
  },
  {
   "cell_type": "code",
   "execution_count": 34,
   "metadata": {
    "id": "JZaEKu5v_Zcu"
   },
   "outputs": [
    {
     "data": {
      "text/plain": [
       "genre\n",
       "pop            256\n",
       "electronic     216\n",
       "rock           216\n",
       "dance          210\n",
       "hiphop          97\n",
       "alternative     63\n",
       "jazz            61\n",
       "classical       60\n",
       "rusrap          59\n",
       "world           54\n",
       "Name: day, dtype: int64"
      ]
     },
     "execution_count": 34,
     "metadata": {},
     "output_type": "execute_result"
    }
   ],
   "source": [
    "# вызов функции для вечера пятницы в Петербурге\n",
    "genre_weekday(spb_general, 'Friday', '17:00', '23:00')"
   ]
  },
  {
   "cell_type": "markdown",
   "metadata": {
    "id": "wrCe4MNX_Zcu"
   },
   "source": [
    "**Выводы**\n",
    "\n",
    "Если сравнить топ-10 жанров в понедельник утром, можно сделать такие выводы:\n",
    "\n",
    "1. В Москве и Петербурге слушают похожую музыку. Единственное отличие — в московский рейтинг вошёл жанр “world”, а в петербургский — джаз и классика.\n",
    "\n",
    "2. В Москве пропущенных значений оказалось так много, что значение `'unknown'` заняло десятое место среди самых популярных жанров. Значит, пропущенные значения занимают существенную долю в данных и угрожают достоверности исследования.\n",
    "\n",
    "Вечер пятницы не меняет эту картину. Некоторые жанры поднимаются немного выше, другие спускаются, но в целом топ-10 остаётся тем же самым.\n",
    "\n",
    "Таким образом, вторая гипотеза подтвердилась лишь частично:\n",
    "* Пользователи слушают похожую музыку в начале недели и в конце.\n",
    "* Разница между Москвой и Петербургом не слишком выражена. В Москве чаще слушают русскую популярную музыку, в Петербурге — джаз.\n",
    "\n",
    "Однако пропуски в данных ставят под сомнение этот результат. В Москве их так много, что рейтинг топ-10 мог бы выглядеть иначе, если бы не утерянные  данные о жанрах."
   ]
  },
  {
   "cell_type": "markdown",
   "metadata": {
    "id": "JolODAqr_Zcu"
   },
   "source": [
    "### Жанровые предпочтения в Москве и Петербурге\n",
    "\n",
    "Гипотеза: Петербург — столица рэпа, музыку этого жанра там слушают чаще, чем в Москве.  А Москва — город контрастов, в котором, тем не менее, преобладает поп-музыка."
   ]
  },
  {
   "cell_type": "markdown",
   "metadata": {
    "id": "DlegSvaT_Zcu"
   },
   "source": [
    "Сгруппируем таблицу `moscow_general` по жанру и посчитаем прослушивания треков каждого жанра методом `count()`. Затем отсортируем результат в порядке убывания и сохраним его в таблице `moscow_genres`."
   ]
  },
  {
   "cell_type": "code",
   "execution_count": 35,
   "metadata": {
    "id": "r19lIPke_Zcu"
   },
   "outputs": [],
   "source": [
    "# одной строкой: группировка таблицы moscow_general по столбцу 'genre', \n",
    "# подсчёт числа значений 'genre' в этой группировке методом count(), \n",
    "# сортировка получившегося Series в порядке убывания и сохранение в moscow_genres\n",
    "moscow_genres = (moscow_general.groupby('genre')['genre'].count()).sort_values(ascending=False)"
   ]
  },
  {
   "cell_type": "markdown",
   "metadata": {
    "id": "6kMuomxTiIr8"
   },
   "source": [
    "Выведем на экран первые десять строк `moscow_genres`:"
   ]
  },
  {
   "cell_type": "code",
   "execution_count": 36,
   "metadata": {
    "id": "WhCSooF8_Zcv"
   },
   "outputs": [
    {
     "data": {
      "text/plain": [
       "genre\n",
       "pop            5892\n",
       "dance          4435\n",
       "rock           3965\n",
       "electronic     3786\n",
       "hiphop         2096\n",
       "classical      1616\n",
       "world          1432\n",
       "alternative    1379\n",
       "ruspop         1372\n",
       "rusrap         1161\n",
       "Name: genre, dtype: int64"
      ]
     },
     "execution_count": 36,
     "metadata": {},
     "output_type": "execute_result"
    }
   ],
   "source": [
    "# просмотр первых 10 строк moscow_genres\n",
    "moscow_genres.head(10)"
   ]
  },
  {
   "cell_type": "markdown",
   "metadata": {
    "id": "cnPG2vnN_Zcv"
   },
   "source": [
    "Теперь повторим то же и для Петербурга.\n",
    "\n",
    "Сгруппируем таблицу `spb_general` по жанру. Посчитаем прослушивания треков каждого жанра. Результат отсортируем в порядке убывания и сохраним в таблице `spb_genres`:\n"
   ]
  },
  {
   "cell_type": "code",
   "execution_count": 37,
   "metadata": {
    "id": "gluLIpE7_Zcv"
   },
   "outputs": [],
   "source": [
    "# одной строкой: группировка таблицы spb_general по столбцу 'genre', \n",
    "# подсчёт числа значений 'genre' в этой группировке методом count(), \n",
    "# сортировка получившегося Series в порядке убывания и сохранение в spb_genres\n",
    "spb_genres = (spb_general.groupby('genre')['genre'].count()).sort_values(ascending=False)"
   ]
  },
  {
   "cell_type": "markdown",
   "metadata": {
    "id": "5Doha_ODgyQ8"
   },
   "source": [
    "Выведем на экран первые десять строк `spb_genres`:"
   ]
  },
  {
   "cell_type": "code",
   "execution_count": 38,
   "metadata": {
    "id": "uaGJHjVU_Zcv"
   },
   "outputs": [
    {
     "data": {
      "text/plain": [
       "genre\n",
       "pop            2431\n",
       "dance          1932\n",
       "rock           1879\n",
       "electronic     1736\n",
       "hiphop          960\n",
       "alternative     649\n",
       "classical       646\n",
       "rusrap          564\n",
       "ruspop          538\n",
       "world           515\n",
       "Name: genre, dtype: int64"
      ]
     },
     "execution_count": 38,
     "metadata": {},
     "output_type": "execute_result"
    }
   ],
   "source": [
    "# просмотр первых 10 строк spb_genres\n",
    "spb_genres.head(10)"
   ]
  },
  {
   "cell_type": "markdown",
   "metadata": {
    "id": "RY51YJYu_Zcv"
   },
   "source": [
    "**Выводы**"
   ]
  },
  {
   "cell_type": "markdown",
   "metadata": {
    "id": "nVhnJEm__Zcv"
   },
   "source": [
    "Гипотеза частично подтвердилась:\n",
    "* Поп-музыка — самый популярный жанр в Москве, как и предполагала гипотеза. Более того, в топ-10 жанров встречается близкий жанр — русская популярная музыка.\n",
    "* Вопреки ожиданиям, рэп одинаково популярен в Москве и Петербурге. \n"
   ]
  }
 ],
 "metadata": {
  "ExecuteTimeLog": [
   {
    "duration": 379,
    "start_time": "2022-04-20T19:51:33.528Z"
   },
   {
    "duration": 135,
    "start_time": "2022-04-20T19:52:41.923Z"
   },
   {
    "duration": 19,
    "start_time": "2022-04-20T19:52:57.163Z"
   },
   {
    "duration": 10,
    "start_time": "2022-04-20T19:53:16.241Z"
   },
   {
    "duration": 28,
    "start_time": "2022-04-20T19:53:43.359Z"
   },
   {
    "duration": 124,
    "start_time": "2022-04-22T19:37:00.884Z"
   },
   {
    "duration": 10,
    "start_time": "2022-04-22T19:37:12.468Z"
   },
   {
    "duration": 9,
    "start_time": "2022-04-22T19:37:44.580Z"
   },
   {
    "duration": 9,
    "start_time": "2022-04-22T19:38:58.592Z"
   },
   {
    "duration": 13,
    "start_time": "2022-04-22T20:05:25.733Z"
   },
   {
    "duration": 16,
    "start_time": "2022-04-22T20:05:31.981Z"
   },
   {
    "duration": 13,
    "start_time": "2022-04-22T20:05:34.851Z"
   },
   {
    "duration": 10,
    "start_time": "2022-04-22T20:06:07.309Z"
   },
   {
    "duration": 11,
    "start_time": "2022-04-22T20:06:21.725Z"
   },
   {
    "duration": 9,
    "start_time": "2022-04-22T20:07:15.686Z"
   },
   {
    "duration": 9,
    "start_time": "2022-04-22T20:07:44.588Z"
   },
   {
    "duration": 7,
    "start_time": "2022-04-22T20:07:52.123Z"
   },
   {
    "duration": 10,
    "start_time": "2022-04-22T20:17:27.252Z"
   },
   {
    "duration": 662,
    "start_time": "2022-04-22T20:17:38.682Z"
   },
   {
    "duration": 302,
    "start_time": "2022-04-22T20:23:33.451Z"
   },
   {
    "duration": 28,
    "start_time": "2022-04-22T20:23:38.394Z"
   },
   {
    "duration": 54,
    "start_time": "2022-04-22T20:23:41.866Z"
   },
   {
    "duration": 6,
    "start_time": "2022-04-22T20:23:45.731Z"
   },
   {
    "duration": 14,
    "start_time": "2022-04-22T20:24:03.715Z"
   },
   {
    "duration": 5,
    "start_time": "2022-04-22T20:24:07.035Z"
   },
   {
    "duration": 59,
    "start_time": "2022-04-22T20:26:39.172Z"
   },
   {
    "duration": 13,
    "start_time": "2022-04-22T20:36:21.368Z"
   },
   {
    "duration": 21,
    "start_time": "2022-04-22T20:36:39.117Z"
   },
   {
    "duration": 9,
    "start_time": "2022-04-22T20:36:49.308Z"
   },
   {
    "duration": 28,
    "start_time": "2022-04-22T20:54:52.823Z"
   },
   {
    "duration": 93,
    "start_time": "2022-04-22T20:57:53.315Z"
   },
   {
    "duration": 66,
    "start_time": "2022-04-22T20:59:15.221Z"
   },
   {
    "duration": 55,
    "start_time": "2022-04-22T21:01:36.504Z"
   },
   {
    "duration": 112,
    "start_time": "2022-04-22T21:02:05.848Z"
   },
   {
    "duration": 35,
    "start_time": "2022-04-22T21:08:23.887Z"
   },
   {
    "duration": 3,
    "start_time": "2022-04-22T21:08:52.840Z"
   },
   {
    "duration": 263,
    "start_time": "2022-04-22T21:08:55.216Z"
   },
   {
    "duration": 16,
    "start_time": "2022-04-22T21:08:58.000Z"
   },
   {
    "duration": 41,
    "start_time": "2022-04-22T21:09:02.296Z"
   },
   {
    "duration": 5,
    "start_time": "2022-04-22T21:09:11.704Z"
   },
   {
    "duration": 12,
    "start_time": "2022-04-22T21:09:16.720Z"
   },
   {
    "duration": 6,
    "start_time": "2022-04-22T21:09:19.111Z"
   },
   {
    "duration": 34,
    "start_time": "2022-04-22T21:09:22.713Z"
   },
   {
    "duration": 172,
    "start_time": "2022-04-22T21:09:27.209Z"
   },
   {
    "duration": 52,
    "start_time": "2022-04-22T21:09:46.449Z"
   },
   {
    "duration": 4,
    "start_time": "2022-04-22T21:09:56.890Z"
   },
   {
    "duration": 43,
    "start_time": "2022-04-22T21:10:00.329Z"
   },
   {
    "duration": 19,
    "start_time": "2022-04-22T21:13:44.575Z"
   },
   {
    "duration": 77,
    "start_time": "2022-04-22T21:15:53.165Z"
   },
   {
    "duration": 21,
    "start_time": "2022-04-22T21:16:02.874Z"
   },
   {
    "duration": 24,
    "start_time": "2022-04-22T21:16:14.586Z"
   },
   {
    "duration": 25,
    "start_time": "2022-04-22T21:16:34.484Z"
   },
   {
    "duration": 24,
    "start_time": "2022-04-22T21:18:45.596Z"
   },
   {
    "duration": 27,
    "start_time": "2022-04-22T21:18:51.269Z"
   },
   {
    "duration": 19,
    "start_time": "2022-04-22T21:19:44.079Z"
   },
   {
    "duration": 14,
    "start_time": "2022-04-22T21:21:48.266Z"
   },
   {
    "duration": 26,
    "start_time": "2022-04-22T21:21:55.785Z"
   },
   {
    "duration": 56,
    "start_time": "2022-04-22T21:25:42.463Z"
   },
   {
    "duration": 76,
    "start_time": "2022-04-22T21:43:02.246Z"
   },
   {
    "duration": 50,
    "start_time": "2022-04-22T21:43:06.398Z"
   },
   {
    "duration": 25,
    "start_time": "2022-04-22T21:43:12.918Z"
   },
   {
    "duration": 100,
    "start_time": "2022-04-22T21:44:36.967Z"
   },
   {
    "duration": 156,
    "start_time": "2022-04-22T21:45:07.585Z"
   },
   {
    "duration": 103,
    "start_time": "2022-04-22T21:45:15.529Z"
   },
   {
    "duration": 1816,
    "start_time": "2022-04-22T21:45:54.153Z"
   },
   {
    "duration": 13,
    "start_time": "2022-04-22T21:46:04.401Z"
   },
   {
    "duration": 5,
    "start_time": "2022-04-22T22:03:30.817Z"
   },
   {
    "duration": 4,
    "start_time": "2022-04-22T22:03:36.889Z"
   },
   {
    "duration": 4,
    "start_time": "2022-04-22T22:04:33.627Z"
   },
   {
    "duration": 19,
    "start_time": "2022-04-22T22:07:52.992Z"
   },
   {
    "duration": 71,
    "start_time": "2022-04-22T22:09:36.969Z"
   },
   {
    "duration": 106,
    "start_time": "2022-04-22T22:12:38.837Z"
   },
   {
    "duration": 4,
    "start_time": "2022-04-22T22:12:42.886Z"
   },
   {
    "duration": 106,
    "start_time": "2022-04-22T22:16:56.082Z"
   },
   {
    "duration": 87,
    "start_time": "2022-04-22T22:17:24.675Z"
   },
   {
    "duration": 22,
    "start_time": "2022-04-22T22:22:40.242Z"
   },
   {
    "duration": 17,
    "start_time": "2022-04-22T22:24:01.166Z"
   },
   {
    "duration": 73,
    "start_time": "2022-04-22T22:33:19.632Z"
   },
   {
    "duration": 75,
    "start_time": "2022-04-22T22:35:07.966Z"
   },
   {
    "duration": 108,
    "start_time": "2022-04-22T22:36:04.051Z"
   },
   {
    "duration": 93,
    "start_time": "2022-04-22T22:36:09.772Z"
   },
   {
    "duration": 10,
    "start_time": "2022-04-22T22:57:44.671Z"
   },
   {
    "duration": 5,
    "start_time": "2022-04-22T22:57:56.361Z"
   },
   {
    "duration": 9,
    "start_time": "2022-04-22T22:57:58.664Z"
   },
   {
    "duration": 11,
    "start_time": "2022-04-22T22:59:17.202Z"
   },
   {
    "duration": 123,
    "start_time": "2022-04-22T23:00:52.908Z"
   },
   {
    "duration": 5,
    "start_time": "2022-04-22T23:01:03.085Z"
   },
   {
    "duration": 5,
    "start_time": "2022-04-22T23:01:59.950Z"
   },
   {
    "duration": 9,
    "start_time": "2022-04-22T23:02:04.853Z"
   },
   {
    "duration": 11,
    "start_time": "2022-04-22T23:03:01.471Z"
   },
   {
    "duration": 13,
    "start_time": "2022-04-22T23:03:08.551Z"
   },
   {
    "duration": 12,
    "start_time": "2022-04-22T23:03:55.801Z"
   },
   {
    "duration": 13,
    "start_time": "2022-04-22T23:03:58.151Z"
   },
   {
    "duration": 5,
    "start_time": "2022-04-22T23:04:04.992Z"
   },
   {
    "duration": 13,
    "start_time": "2022-04-22T23:04:07.312Z"
   },
   {
    "duration": 12,
    "start_time": "2022-04-22T23:04:50.938Z"
   },
   {
    "duration": 12,
    "start_time": "2022-04-22T23:05:35.996Z"
   },
   {
    "duration": 23,
    "start_time": "2022-04-22T23:08:23.222Z"
   },
   {
    "duration": 20,
    "start_time": "2022-04-22T23:09:26.680Z"
   },
   {
    "duration": 21,
    "start_time": "2022-04-22T23:09:46.064Z"
   },
   {
    "duration": 21,
    "start_time": "2022-04-22T23:09:48.847Z"
   },
   {
    "duration": 24,
    "start_time": "2022-04-22T23:09:53.720Z"
   },
   {
    "duration": 21,
    "start_time": "2022-04-22T23:09:57.273Z"
   },
   {
    "duration": 10,
    "start_time": "2022-04-22T23:15:29.512Z"
   },
   {
    "duration": 12,
    "start_time": "2022-04-22T23:15:39.081Z"
   },
   {
    "duration": 16,
    "start_time": "2022-04-22T23:19:29.830Z"
   },
   {
    "duration": 20,
    "start_time": "2022-04-22T23:19:47.934Z"
   },
   {
    "duration": 17,
    "start_time": "2022-04-22T23:20:10.533Z"
   },
   {
    "duration": 35,
    "start_time": "2022-04-22T23:22:04.497Z"
   },
   {
    "duration": 26,
    "start_time": "2022-04-22T23:22:19.497Z"
   },
   {
    "duration": 105,
    "start_time": "2022-04-22T23:28:04.906Z"
   },
   {
    "duration": 395,
    "start_time": "2022-04-23T18:46:59.211Z"
   },
   {
    "duration": 2,
    "start_time": "2022-04-23T18:47:06.873Z"
   },
   {
    "duration": 167,
    "start_time": "2022-04-23T18:47:06.877Z"
   },
   {
    "duration": 17,
    "start_time": "2022-04-23T18:47:07.046Z"
   },
   {
    "duration": 42,
    "start_time": "2022-04-23T18:47:07.065Z"
   },
   {
    "duration": 4,
    "start_time": "2022-04-23T18:47:07.109Z"
   },
   {
    "duration": 11,
    "start_time": "2022-04-23T18:47:07.114Z"
   },
   {
    "duration": 5,
    "start_time": "2022-04-23T18:47:07.126Z"
   },
   {
    "duration": 27,
    "start_time": "2022-04-23T18:47:07.133Z"
   },
   {
    "duration": 48,
    "start_time": "2022-04-23T18:47:07.161Z"
   },
   {
    "duration": 25,
    "start_time": "2022-04-23T18:47:07.210Z"
   },
   {
    "duration": 77,
    "start_time": "2022-04-23T18:47:07.238Z"
   },
   {
    "duration": 88,
    "start_time": "2022-04-23T18:47:07.316Z"
   },
   {
    "duration": 57,
    "start_time": "2022-04-23T18:47:07.406Z"
   },
   {
    "duration": 7,
    "start_time": "2022-04-23T18:47:07.465Z"
   },
   {
    "duration": 21,
    "start_time": "2022-04-23T18:47:07.474Z"
   },
   {
    "duration": 18,
    "start_time": "2022-04-23T18:47:07.497Z"
   },
   {
    "duration": 14,
    "start_time": "2022-04-23T18:47:07.516Z"
   },
   {
    "duration": 48,
    "start_time": "2022-04-23T18:47:07.531Z"
   },
   {
    "duration": 31,
    "start_time": "2022-04-23T18:47:07.581Z"
   },
   {
    "duration": 4,
    "start_time": "2022-04-23T18:47:07.614Z"
   },
   {
    "duration": 36,
    "start_time": "2022-04-23T18:47:07.620Z"
   },
   {
    "duration": 14,
    "start_time": "2022-04-23T18:47:07.658Z"
   },
   {
    "duration": 19,
    "start_time": "2022-04-23T18:47:07.674Z"
   },
   {
    "duration": 13,
    "start_time": "2022-04-23T18:47:07.694Z"
   },
   {
    "duration": 15,
    "start_time": "2022-04-23T18:47:07.709Z"
   },
   {
    "duration": 14,
    "start_time": "2022-04-23T18:47:07.725Z"
   },
   {
    "duration": 9,
    "start_time": "2022-04-23T18:47:07.740Z"
   },
   {
    "duration": 52,
    "start_time": "2022-04-23T18:47:07.750Z"
   },
   {
    "duration": 17,
    "start_time": "2022-04-23T18:47:07.806Z"
   },
   {
    "duration": 2,
    "start_time": "2022-04-23T18:47:07.825Z"
   },
   {
    "duration": 24,
    "start_time": "2022-04-23T18:47:07.829Z"
   },
   {
    "duration": 5,
    "start_time": "2022-04-23T18:47:07.855Z"
   },
   {
    "duration": 20,
    "start_time": "2022-04-23T18:47:07.862Z"
   },
   {
    "duration": 21,
    "start_time": "2022-04-23T18:47:07.884Z"
   },
   {
    "duration": 7,
    "start_time": "2022-04-23T18:47:07.907Z"
   },
   {
    "duration": 13,
    "start_time": "2022-04-23T18:47:07.916Z"
   },
   {
    "duration": 14,
    "start_time": "2022-04-23T18:47:07.930Z"
   },
   {
    "duration": 18,
    "start_time": "2022-04-23T18:47:07.946Z"
   },
   {
    "duration": 4,
    "start_time": "2022-04-23T18:58:57.214Z"
   },
   {
    "duration": 83,
    "start_time": "2022-04-23T18:59:15.956Z"
   },
   {
    "duration": 4,
    "start_time": "2022-04-23T19:03:26.497Z"
   },
   {
    "duration": 20,
    "start_time": "2022-04-23T19:03:29.920Z"
   },
   {
    "duration": 12,
    "start_time": "2022-04-23T19:03:53.641Z"
   },
   {
    "duration": 17,
    "start_time": "2022-04-23T19:04:21.538Z"
   },
   {
    "duration": 13,
    "start_time": "2022-04-23T19:04:38.356Z"
   },
   {
    "duration": 8,
    "start_time": "2022-04-23T19:18:44.654Z"
   },
   {
    "duration": 5,
    "start_time": "2022-04-23T19:18:47.198Z"
   },
   {
    "duration": 7,
    "start_time": "2022-04-23T19:19:21.110Z"
   },
   {
    "duration": 4,
    "start_time": "2022-04-23T19:19:33.806Z"
   },
   {
    "duration": 99,
    "start_time": "2022-04-30T17:44:43.402Z"
   },
   {
    "duration": 41,
    "start_time": "2022-04-30T17:44:49.304Z"
   },
   {
    "duration": 6,
    "start_time": "2022-04-30T17:45:06.464Z"
   },
   {
    "duration": 380,
    "start_time": "2022-04-30T17:45:38.350Z"
   },
   {
    "duration": 152,
    "start_time": "2022-04-30T17:45:38.731Z"
   },
   {
    "duration": 18,
    "start_time": "2022-04-30T17:45:38.885Z"
   },
   {
    "duration": 28,
    "start_time": "2022-04-30T17:45:38.905Z"
   },
   {
    "duration": 4,
    "start_time": "2022-04-30T17:45:38.935Z"
   },
   {
    "duration": 12,
    "start_time": "2022-04-30T17:45:38.940Z"
   },
   {
    "duration": 6,
    "start_time": "2022-04-30T17:45:38.953Z"
   },
   {
    "duration": 51,
    "start_time": "2022-04-30T17:45:38.960Z"
   },
   {
    "duration": 33,
    "start_time": "2022-04-30T17:45:39.013Z"
   },
   {
    "duration": 23,
    "start_time": "2022-04-30T17:45:39.048Z"
   },
   {
    "duration": 65,
    "start_time": "2022-04-30T17:45:39.072Z"
   },
   {
    "duration": 81,
    "start_time": "2022-04-30T17:45:39.139Z"
   },
   {
    "duration": 57,
    "start_time": "2022-04-30T17:45:39.222Z"
   },
   {
    "duration": 48,
    "start_time": "2022-04-30T17:45:39.280Z"
   },
   {
    "duration": 3,
    "start_time": "2022-04-30T17:45:39.329Z"
   },
   {
    "duration": 17,
    "start_time": "2022-04-30T17:45:39.334Z"
   },
   {
    "duration": 8,
    "start_time": "2022-04-30T17:45:39.352Z"
   },
   {
    "duration": 54,
    "start_time": "2022-04-30T17:45:39.362Z"
   },
   {
    "duration": 31,
    "start_time": "2022-04-30T17:45:39.418Z"
   },
   {
    "duration": 4,
    "start_time": "2022-04-30T17:45:39.450Z"
   },
   {
    "duration": 38,
    "start_time": "2022-04-30T17:45:39.455Z"
   },
   {
    "duration": 15,
    "start_time": "2022-04-30T17:45:39.495Z"
   },
   {
    "duration": 15,
    "start_time": "2022-04-30T17:45:39.512Z"
   },
   {
    "duration": 14,
    "start_time": "2022-04-30T17:45:39.529Z"
   },
   {
    "duration": 17,
    "start_time": "2022-04-30T17:45:39.544Z"
   },
   {
    "duration": 16,
    "start_time": "2022-04-30T17:45:39.593Z"
   },
   {
    "duration": 8,
    "start_time": "2022-04-30T17:45:39.610Z"
   },
   {
    "duration": 20,
    "start_time": "2022-04-30T17:45:39.621Z"
   },
   {
    "duration": 18,
    "start_time": "2022-04-30T17:45:39.643Z"
   },
   {
    "duration": 33,
    "start_time": "2022-04-30T17:45:39.663Z"
   },
   {
    "duration": 23,
    "start_time": "2022-04-30T17:45:39.698Z"
   },
   {
    "duration": 12,
    "start_time": "2022-04-30T17:45:39.722Z"
   },
   {
    "duration": 15,
    "start_time": "2022-04-30T17:45:39.736Z"
   },
   {
    "duration": 40,
    "start_time": "2022-04-30T17:45:39.753Z"
   },
   {
    "duration": 9,
    "start_time": "2022-04-30T17:45:39.795Z"
   },
   {
    "duration": 5,
    "start_time": "2022-04-30T17:45:39.805Z"
   },
   {
    "duration": 9,
    "start_time": "2022-04-30T17:45:39.811Z"
   },
   {
    "duration": 7,
    "start_time": "2022-04-30T17:45:39.822Z"
   },
   {
    "duration": 36,
    "start_time": "2022-04-30T17:46:05.067Z"
   },
   {
    "duration": 41,
    "start_time": "2022-04-30T17:46:15.402Z"
   },
   {
    "duration": 40,
    "start_time": "2022-04-30T17:46:32.441Z"
   },
   {
    "duration": 40,
    "start_time": "2022-04-30T17:47:10.691Z"
   },
   {
    "duration": 13,
    "start_time": "2022-04-30T17:49:55.725Z"
   },
   {
    "duration": 35,
    "start_time": "2022-04-30T17:50:24.269Z"
   },
   {
    "duration": 11,
    "start_time": "2022-04-30T17:50:32.294Z"
   },
   {
    "duration": 11,
    "start_time": "2022-04-30T17:51:10.296Z"
   },
   {
    "duration": 403,
    "start_time": "2022-04-30T17:52:49.615Z"
   },
   {
    "duration": 155,
    "start_time": "2022-04-30T17:52:50.020Z"
   },
   {
    "duration": 22,
    "start_time": "2022-04-30T17:52:50.177Z"
   },
   {
    "duration": 32,
    "start_time": "2022-04-30T17:52:50.201Z"
   },
   {
    "duration": 5,
    "start_time": "2022-04-30T17:52:50.234Z"
   },
   {
    "duration": 13,
    "start_time": "2022-04-30T17:52:50.240Z"
   },
   {
    "duration": 6,
    "start_time": "2022-04-30T17:52:50.254Z"
   },
   {
    "duration": 50,
    "start_time": "2022-04-30T17:52:50.262Z"
   },
   {
    "duration": 23,
    "start_time": "2022-04-30T17:52:50.313Z"
   },
   {
    "duration": 27,
    "start_time": "2022-04-30T17:52:50.339Z"
   },
   {
    "duration": 85,
    "start_time": "2022-04-30T17:52:50.368Z"
   },
   {
    "duration": 91,
    "start_time": "2022-04-30T17:52:50.454Z"
   },
   {
    "duration": 69,
    "start_time": "2022-04-30T17:52:50.546Z"
   },
   {
    "duration": 45,
    "start_time": "2022-04-30T17:52:50.617Z"
   },
   {
    "duration": 3,
    "start_time": "2022-04-30T17:52:50.664Z"
   },
   {
    "duration": 30,
    "start_time": "2022-04-30T17:52:50.668Z"
   },
   {
    "duration": 45,
    "start_time": "2022-04-30T17:52:50.700Z"
   },
   {
    "duration": 13,
    "start_time": "2022-04-30T17:52:50.747Z"
   },
   {
    "duration": 33,
    "start_time": "2022-04-30T17:52:50.762Z"
   },
   {
    "duration": 3,
    "start_time": "2022-04-30T17:52:50.797Z"
   },
   {
    "duration": 20,
    "start_time": "2022-04-30T17:52:50.802Z"
   },
   {
    "duration": 14,
    "start_time": "2022-04-30T17:52:50.823Z"
   },
   {
    "duration": 13,
    "start_time": "2022-04-30T17:52:50.839Z"
   },
   {
    "duration": 47,
    "start_time": "2022-04-30T17:52:50.853Z"
   },
   {
    "duration": 17,
    "start_time": "2022-04-30T17:52:50.901Z"
   },
   {
    "duration": 15,
    "start_time": "2022-04-30T17:52:50.919Z"
   },
   {
    "duration": 9,
    "start_time": "2022-04-30T17:52:50.936Z"
   },
   {
    "duration": 47,
    "start_time": "2022-04-30T17:52:50.948Z"
   },
   {
    "duration": 19,
    "start_time": "2022-04-30T17:52:50.997Z"
   },
   {
    "duration": 5,
    "start_time": "2022-04-30T17:52:51.017Z"
   },
   {
    "duration": 28,
    "start_time": "2022-04-30T17:52:51.024Z"
   },
   {
    "duration": 13,
    "start_time": "2022-04-30T17:52:51.054Z"
   },
   {
    "duration": 18,
    "start_time": "2022-04-30T17:52:51.092Z"
   },
   {
    "duration": 12,
    "start_time": "2022-04-30T17:52:51.112Z"
   },
   {
    "duration": 9,
    "start_time": "2022-04-30T17:52:51.126Z"
   },
   {
    "duration": 7,
    "start_time": "2022-04-30T17:52:51.136Z"
   },
   {
    "duration": 13,
    "start_time": "2022-04-30T17:52:51.144Z"
   },
   {
    "duration": 34,
    "start_time": "2022-04-30T17:52:51.158Z"
   },
   {
    "duration": 403,
    "start_time": "2022-04-30T17:53:56.889Z"
   },
   {
    "duration": 142,
    "start_time": "2022-04-30T17:53:57.295Z"
   },
   {
    "duration": 17,
    "start_time": "2022-04-30T17:53:57.439Z"
   },
   {
    "duration": 41,
    "start_time": "2022-04-30T17:53:57.459Z"
   },
   {
    "duration": 4,
    "start_time": "2022-04-30T17:53:57.501Z"
   },
   {
    "duration": 11,
    "start_time": "2022-04-30T17:53:57.507Z"
   },
   {
    "duration": 4,
    "start_time": "2022-04-30T17:53:57.520Z"
   },
   {
    "duration": 29,
    "start_time": "2022-04-30T17:53:57.526Z"
   },
   {
    "duration": 51,
    "start_time": "2022-04-30T17:53:57.557Z"
   },
   {
    "duration": 26,
    "start_time": "2022-04-30T17:53:57.610Z"
   },
   {
    "duration": 79,
    "start_time": "2022-04-30T17:53:57.638Z"
   },
   {
    "duration": 87,
    "start_time": "2022-04-30T17:53:57.719Z"
   },
   {
    "duration": 59,
    "start_time": "2022-04-30T17:53:57.807Z"
   },
   {
    "duration": 51,
    "start_time": "2022-04-30T17:53:57.868Z"
   },
   {
    "duration": 3,
    "start_time": "2022-04-30T17:53:57.921Z"
   },
   {
    "duration": 16,
    "start_time": "2022-04-30T17:53:57.925Z"
   },
   {
    "duration": 56,
    "start_time": "2022-04-30T17:53:57.942Z"
   },
   {
    "duration": 12,
    "start_time": "2022-04-30T17:53:58.000Z"
   },
   {
    "duration": 14,
    "start_time": "2022-04-30T17:53:58.013Z"
   },
   {
    "duration": 9,
    "start_time": "2022-04-30T17:53:58.029Z"
   },
   {
    "duration": 37,
    "start_time": "2022-04-30T17:53:58.039Z"
   },
   {
    "duration": 16,
    "start_time": "2022-04-30T17:53:58.077Z"
   },
   {
    "duration": 16,
    "start_time": "2022-04-30T17:53:58.094Z"
   },
   {
    "duration": 12,
    "start_time": "2022-04-30T17:53:58.112Z"
   },
   {
    "duration": 19,
    "start_time": "2022-04-30T17:53:58.126Z"
   },
   {
    "duration": 14,
    "start_time": "2022-04-30T17:53:58.146Z"
   },
   {
    "duration": 36,
    "start_time": "2022-04-30T17:53:58.162Z"
   },
   {
    "duration": 33,
    "start_time": "2022-04-30T17:53:58.201Z"
   },
   {
    "duration": 19,
    "start_time": "2022-04-30T17:53:58.235Z"
   },
   {
    "duration": 10,
    "start_time": "2022-04-30T17:53:58.256Z"
   },
   {
    "duration": 37,
    "start_time": "2022-04-30T17:53:58.268Z"
   },
   {
    "duration": 19,
    "start_time": "2022-04-30T17:53:58.307Z"
   },
   {
    "duration": 16,
    "start_time": "2022-04-30T17:53:58.328Z"
   },
   {
    "duration": 13,
    "start_time": "2022-04-30T17:53:58.346Z"
   },
   {
    "duration": 14,
    "start_time": "2022-04-30T17:53:58.361Z"
   },
   {
    "duration": 6,
    "start_time": "2022-04-30T17:53:58.393Z"
   },
   {
    "duration": 16,
    "start_time": "2022-04-30T17:53:58.401Z"
   },
   {
    "duration": 7,
    "start_time": "2022-04-30T17:53:58.418Z"
   }
  ],
  "colab": {
   "collapsed_sections": [
    "E0vqbgi9ay0H",
    "VUC88oWjTJw2"
   ],
   "name": "yandex_music_project.ipynb",
   "provenance": []
  },
  "kernelspec": {
   "display_name": "Python 3 (ipykernel)",
   "language": "python",
   "name": "python3"
  },
  "language_info": {
   "codemirror_mode": {
    "name": "ipython",
    "version": 3
   },
   "file_extension": ".py",
   "mimetype": "text/x-python",
   "name": "python",
   "nbconvert_exporter": "python",
   "pygments_lexer": "ipython3",
   "version": "3.9.18"
  },
  "toc": {
   "base_numbering": 1,
   "nav_menu": {},
   "number_sections": true,
   "sideBar": true,
   "skip_h1_title": true,
   "title_cell": "Table of Contents",
   "title_sidebar": "Contents",
   "toc_cell": false,
   "toc_position": {},
   "toc_section_display": true,
   "toc_window_display": true
  }
 },
 "nbformat": 4,
 "nbformat_minor": 1
}
