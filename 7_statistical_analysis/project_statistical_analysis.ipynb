{
 "cells": [
  {
   "cell_type": "markdown",
   "metadata": {},
   "source": [
    "### Шаг 1. Открыть файлы с данными и изучить общую информацию. \n",
    "\n",
    "Подключим требующиеся библиотеки, откроем файлы с таблицами, выведем их на экран и посмотрим общую информацию о всех данных.     "
   ]
  },
  {
   "cell_type": "code",
   "execution_count": 1,
   "metadata": {},
   "outputs": [],
   "source": [
    "# импорт библиотеки pandas\n",
    "import pandas as pd\n",
    "# настроим вывод количества колонок на экран\n",
    "pd.set_option('display.max_columns', 50)\n",
    "# импорт библиотеки math\n",
    "import math\n",
    "# импорт библиотеки numpy\n",
    "import numpy as np\n",
    "# импорт из библиотеки scipy модуля stats\n",
    "from scipy import stats as st\n",
    "# импорт библиотеки matplotlib.pyplot\n",
    "import matplotlib.pyplot as plt"
   ]
  },
  {
   "cell_type": "code",
   "execution_count": 2,
   "metadata": {},
   "outputs": [
    {
     "name": "stdout",
     "output_type": "stream",
     "text": [
      "<class 'pandas.core.frame.DataFrame'>\n",
      "RangeIndex: 202607 entries, 0 to 202606\n",
      "Data columns (total 4 columns):\n",
      " #   Column     Non-Null Count   Dtype  \n",
      "---  ------     --------------   -----  \n",
      " 0   id         202607 non-null  object \n",
      " 1   call_date  202607 non-null  object \n",
      " 2   duration   202607 non-null  float64\n",
      " 3   user_id    202607 non-null  int64  \n",
      "dtypes: float64(1), int64(1), object(2)\n",
      "memory usage: 6.2+ MB\n"
     ]
    },
    {
     "data": {
      "text/plain": [
       "None"
      ]
     },
     "metadata": {},
     "output_type": "display_data"
    },
    {
     "data": {
      "text/html": [
       "<div>\n",
       "<style scoped>\n",
       "    .dataframe tbody tr th:only-of-type {\n",
       "        vertical-align: middle;\n",
       "    }\n",
       "\n",
       "    .dataframe tbody tr th {\n",
       "        vertical-align: top;\n",
       "    }\n",
       "\n",
       "    .dataframe thead th {\n",
       "        text-align: right;\n",
       "    }\n",
       "</style>\n",
       "<table border=\"1\" class=\"dataframe\">\n",
       "  <thead>\n",
       "    <tr style=\"text-align: right;\">\n",
       "      <th></th>\n",
       "      <th>id</th>\n",
       "      <th>call_date</th>\n",
       "      <th>duration</th>\n",
       "      <th>user_id</th>\n",
       "    </tr>\n",
       "  </thead>\n",
       "  <tbody>\n",
       "    <tr>\n",
       "      <th>0</th>\n",
       "      <td>1000_0</td>\n",
       "      <td>2018-07-25</td>\n",
       "      <td>0.00</td>\n",
       "      <td>1000</td>\n",
       "    </tr>\n",
       "    <tr>\n",
       "      <th>1</th>\n",
       "      <td>1000_1</td>\n",
       "      <td>2018-08-17</td>\n",
       "      <td>0.00</td>\n",
       "      <td>1000</td>\n",
       "    </tr>\n",
       "    <tr>\n",
       "      <th>2</th>\n",
       "      <td>1000_2</td>\n",
       "      <td>2018-06-11</td>\n",
       "      <td>2.85</td>\n",
       "      <td>1000</td>\n",
       "    </tr>\n",
       "  </tbody>\n",
       "</table>\n",
       "</div>"
      ],
      "text/plain": [
       "       id   call_date  duration  user_id\n",
       "0  1000_0  2018-07-25      0.00     1000\n",
       "1  1000_1  2018-08-17      0.00     1000\n",
       "2  1000_2  2018-06-11      2.85     1000"
      ]
     },
     "execution_count": 2,
     "metadata": {},
     "output_type": "execute_result"
    }
   ],
   "source": [
    "# чтение файла с данными и сохранение в data_calls\n",
    "data_calls = pd.read_csv('calls.csv') \n",
    "# получение информации о таблице №1\n",
    "display(data_calls.info())\n",
    "# выведем на экран таблицу №1\n",
    "data_calls.head(3)"
   ]
  },
  {
   "cell_type": "code",
   "execution_count": 3,
   "metadata": {},
   "outputs": [
    {
     "name": "stdout",
     "output_type": "stream",
     "text": [
      "<class 'pandas.core.frame.DataFrame'>\n",
      "RangeIndex: 149396 entries, 0 to 149395\n",
      "Data columns (total 4 columns):\n",
      " #   Column        Non-Null Count   Dtype  \n",
      "---  ------        --------------   -----  \n",
      " 0   id            149396 non-null  object \n",
      " 1   mb_used       149396 non-null  float64\n",
      " 2   session_date  149396 non-null  object \n",
      " 3   user_id       149396 non-null  int64  \n",
      "dtypes: float64(1), int64(1), object(2)\n",
      "memory usage: 4.6+ MB\n"
     ]
    },
    {
     "data": {
      "text/plain": [
       "None"
      ]
     },
     "metadata": {},
     "output_type": "display_data"
    },
    {
     "data": {
      "text/html": [
       "<div>\n",
       "<style scoped>\n",
       "    .dataframe tbody tr th:only-of-type {\n",
       "        vertical-align: middle;\n",
       "    }\n",
       "\n",
       "    .dataframe tbody tr th {\n",
       "        vertical-align: top;\n",
       "    }\n",
       "\n",
       "    .dataframe thead th {\n",
       "        text-align: right;\n",
       "    }\n",
       "</style>\n",
       "<table border=\"1\" class=\"dataframe\">\n",
       "  <thead>\n",
       "    <tr style=\"text-align: right;\">\n",
       "      <th></th>\n",
       "      <th>id</th>\n",
       "      <th>mb_used</th>\n",
       "      <th>session_date</th>\n",
       "      <th>user_id</th>\n",
       "    </tr>\n",
       "  </thead>\n",
       "  <tbody>\n",
       "    <tr>\n",
       "      <th>0</th>\n",
       "      <td>1000_0</td>\n",
       "      <td>112.95</td>\n",
       "      <td>2018-11-25</td>\n",
       "      <td>1000</td>\n",
       "    </tr>\n",
       "    <tr>\n",
       "      <th>1</th>\n",
       "      <td>1000_1</td>\n",
       "      <td>1052.81</td>\n",
       "      <td>2018-09-07</td>\n",
       "      <td>1000</td>\n",
       "    </tr>\n",
       "    <tr>\n",
       "      <th>2</th>\n",
       "      <td>1000_2</td>\n",
       "      <td>1197.26</td>\n",
       "      <td>2018-06-25</td>\n",
       "      <td>1000</td>\n",
       "    </tr>\n",
       "  </tbody>\n",
       "</table>\n",
       "</div>"
      ],
      "text/plain": [
       "       id  mb_used session_date  user_id\n",
       "0  1000_0   112.95   2018-11-25     1000\n",
       "1  1000_1  1052.81   2018-09-07     1000\n",
       "2  1000_2  1197.26   2018-06-25     1000"
      ]
     },
     "execution_count": 3,
     "metadata": {},
     "output_type": "execute_result"
    }
   ],
   "source": [
    "# чтение файла с данными и сохранение в data_internet\n",
    "data_internet = pd.read_csv('internet.csv').drop(['Unnamed: 0'], axis=1)\n",
    "# получение информации о таблице №2\n",
    "display(data_internet.info())\n",
    "# выведем на экран таблицу №2\n",
    "data_internet.head(3)"
   ]
  },
  {
   "cell_type": "code",
   "execution_count": 4,
   "metadata": {},
   "outputs": [
    {
     "name": "stdout",
     "output_type": "stream",
     "text": [
      "<class 'pandas.core.frame.DataFrame'>\n",
      "RangeIndex: 123036 entries, 0 to 123035\n",
      "Data columns (total 3 columns):\n",
      " #   Column        Non-Null Count   Dtype \n",
      "---  ------        --------------   ----- \n",
      " 0   id            123036 non-null  object\n",
      " 1   message_date  123036 non-null  object\n",
      " 2   user_id       123036 non-null  int64 \n",
      "dtypes: int64(1), object(2)\n",
      "memory usage: 2.8+ MB\n"
     ]
    },
    {
     "data": {
      "text/plain": [
       "None"
      ]
     },
     "metadata": {},
     "output_type": "display_data"
    },
    {
     "data": {
      "text/html": [
       "<div>\n",
       "<style scoped>\n",
       "    .dataframe tbody tr th:only-of-type {\n",
       "        vertical-align: middle;\n",
       "    }\n",
       "\n",
       "    .dataframe tbody tr th {\n",
       "        vertical-align: top;\n",
       "    }\n",
       "\n",
       "    .dataframe thead th {\n",
       "        text-align: right;\n",
       "    }\n",
       "</style>\n",
       "<table border=\"1\" class=\"dataframe\">\n",
       "  <thead>\n",
       "    <tr style=\"text-align: right;\">\n",
       "      <th></th>\n",
       "      <th>id</th>\n",
       "      <th>message_date</th>\n",
       "      <th>user_id</th>\n",
       "    </tr>\n",
       "  </thead>\n",
       "  <tbody>\n",
       "    <tr>\n",
       "      <th>0</th>\n",
       "      <td>1000_0</td>\n",
       "      <td>2018-06-27</td>\n",
       "      <td>1000</td>\n",
       "    </tr>\n",
       "    <tr>\n",
       "      <th>1</th>\n",
       "      <td>1000_1</td>\n",
       "      <td>2018-10-08</td>\n",
       "      <td>1000</td>\n",
       "    </tr>\n",
       "    <tr>\n",
       "      <th>2</th>\n",
       "      <td>1000_2</td>\n",
       "      <td>2018-08-04</td>\n",
       "      <td>1000</td>\n",
       "    </tr>\n",
       "  </tbody>\n",
       "</table>\n",
       "</div>"
      ],
      "text/plain": [
       "       id message_date  user_id\n",
       "0  1000_0   2018-06-27     1000\n",
       "1  1000_1   2018-10-08     1000\n",
       "2  1000_2   2018-08-04     1000"
      ]
     },
     "execution_count": 4,
     "metadata": {},
     "output_type": "execute_result"
    }
   ],
   "source": [
    "# чтение файла с данными и сохранение в data_messages\n",
    "data_messages = pd.read_csv('messages.csv') \n",
    "# получение информации о таблице №3\n",
    "display(data_messages.info())\n",
    "# выведем на экран таблицу №3\n",
    "data_messages.head(3)"
   ]
  },
  {
   "cell_type": "code",
   "execution_count": 5,
   "metadata": {},
   "outputs": [
    {
     "name": "stdout",
     "output_type": "stream",
     "text": [
      "<class 'pandas.core.frame.DataFrame'>\n",
      "RangeIndex: 2 entries, 0 to 1\n",
      "Data columns (total 8 columns):\n",
      " #   Column                 Non-Null Count  Dtype \n",
      "---  ------                 --------------  ----- \n",
      " 0   messages_included      2 non-null      int64 \n",
      " 1   mb_per_month_included  2 non-null      int64 \n",
      " 2   minutes_included       2 non-null      int64 \n",
      " 3   rub_monthly_fee        2 non-null      int64 \n",
      " 4   rub_per_gb             2 non-null      int64 \n",
      " 5   rub_per_message        2 non-null      int64 \n",
      " 6   rub_per_minute         2 non-null      int64 \n",
      " 7   tariff_name            2 non-null      object\n",
      "dtypes: int64(7), object(1)\n",
      "memory usage: 256.0+ bytes\n"
     ]
    },
    {
     "data": {
      "text/plain": [
       "None"
      ]
     },
     "metadata": {},
     "output_type": "display_data"
    },
    {
     "data": {
      "text/html": [
       "<div>\n",
       "<style scoped>\n",
       "    .dataframe tbody tr th:only-of-type {\n",
       "        vertical-align: middle;\n",
       "    }\n",
       "\n",
       "    .dataframe tbody tr th {\n",
       "        vertical-align: top;\n",
       "    }\n",
       "\n",
       "    .dataframe thead th {\n",
       "        text-align: right;\n",
       "    }\n",
       "</style>\n",
       "<table border=\"1\" class=\"dataframe\">\n",
       "  <thead>\n",
       "    <tr style=\"text-align: right;\">\n",
       "      <th></th>\n",
       "      <th>messages_included</th>\n",
       "      <th>mb_per_month_included</th>\n",
       "      <th>minutes_included</th>\n",
       "      <th>rub_monthly_fee</th>\n",
       "      <th>rub_per_gb</th>\n",
       "      <th>rub_per_message</th>\n",
       "      <th>rub_per_minute</th>\n",
       "      <th>tariff_name</th>\n",
       "    </tr>\n",
       "  </thead>\n",
       "  <tbody>\n",
       "    <tr>\n",
       "      <th>0</th>\n",
       "      <td>50</td>\n",
       "      <td>15360</td>\n",
       "      <td>500</td>\n",
       "      <td>550</td>\n",
       "      <td>200</td>\n",
       "      <td>3</td>\n",
       "      <td>3</td>\n",
       "      <td>smart</td>\n",
       "    </tr>\n",
       "    <tr>\n",
       "      <th>1</th>\n",
       "      <td>1000</td>\n",
       "      <td>30720</td>\n",
       "      <td>3000</td>\n",
       "      <td>1950</td>\n",
       "      <td>150</td>\n",
       "      <td>1</td>\n",
       "      <td>1</td>\n",
       "      <td>ultra</td>\n",
       "    </tr>\n",
       "  </tbody>\n",
       "</table>\n",
       "</div>"
      ],
      "text/plain": [
       "   messages_included  mb_per_month_included  minutes_included  \\\n",
       "0                 50                  15360               500   \n",
       "1               1000                  30720              3000   \n",
       "\n",
       "   rub_monthly_fee  rub_per_gb  rub_per_message  rub_per_minute tariff_name  \n",
       "0              550         200                3               3       smart  \n",
       "1             1950         150                1               1       ultra  "
      ]
     },
     "execution_count": 5,
     "metadata": {},
     "output_type": "execute_result"
    }
   ],
   "source": [
    "# чтение файла с данными и сохранение в data_tariffs\n",
    "data_tariffs = pd.read_csv('tariffs.csv') \n",
    "# получение информации о таблице №4\n",
    "display(data_tariffs.info())\n",
    "# выведем на экран таблицу №4\n",
    "data_tariffs.head()"
   ]
  },
  {
   "cell_type": "code",
   "execution_count": 6,
   "metadata": {
    "scrolled": false
   },
   "outputs": [
    {
     "name": "stdout",
     "output_type": "stream",
     "text": [
      "<class 'pandas.core.frame.DataFrame'>\n",
      "RangeIndex: 500 entries, 0 to 499\n",
      "Data columns (total 8 columns):\n",
      " #   Column      Non-Null Count  Dtype \n",
      "---  ------      --------------  ----- \n",
      " 0   user_id     500 non-null    int64 \n",
      " 1   age         500 non-null    int64 \n",
      " 2   churn_date  38 non-null     object\n",
      " 3   city        500 non-null    object\n",
      " 4   first_name  500 non-null    object\n",
      " 5   last_name   500 non-null    object\n",
      " 6   reg_date    500 non-null    object\n",
      " 7   tariff      500 non-null    object\n",
      "dtypes: int64(2), object(6)\n",
      "memory usage: 31.4+ KB\n"
     ]
    },
    {
     "data": {
      "text/plain": [
       "None"
      ]
     },
     "metadata": {},
     "output_type": "display_data"
    },
    {
     "data": {
      "text/html": [
       "<div>\n",
       "<style scoped>\n",
       "    .dataframe tbody tr th:only-of-type {\n",
       "        vertical-align: middle;\n",
       "    }\n",
       "\n",
       "    .dataframe tbody tr th {\n",
       "        vertical-align: top;\n",
       "    }\n",
       "\n",
       "    .dataframe thead th {\n",
       "        text-align: right;\n",
       "    }\n",
       "</style>\n",
       "<table border=\"1\" class=\"dataframe\">\n",
       "  <thead>\n",
       "    <tr style=\"text-align: right;\">\n",
       "      <th></th>\n",
       "      <th>user_id</th>\n",
       "      <th>age</th>\n",
       "      <th>churn_date</th>\n",
       "      <th>city</th>\n",
       "      <th>first_name</th>\n",
       "      <th>last_name</th>\n",
       "      <th>reg_date</th>\n",
       "      <th>tariff</th>\n",
       "    </tr>\n",
       "  </thead>\n",
       "  <tbody>\n",
       "    <tr>\n",
       "      <th>0</th>\n",
       "      <td>1000</td>\n",
       "      <td>52</td>\n",
       "      <td>NaN</td>\n",
       "      <td>Краснодар</td>\n",
       "      <td>Рафаил</td>\n",
       "      <td>Верещагин</td>\n",
       "      <td>2018-05-25</td>\n",
       "      <td>ultra</td>\n",
       "    </tr>\n",
       "    <tr>\n",
       "      <th>1</th>\n",
       "      <td>1001</td>\n",
       "      <td>41</td>\n",
       "      <td>NaN</td>\n",
       "      <td>Москва</td>\n",
       "      <td>Иван</td>\n",
       "      <td>Ежов</td>\n",
       "      <td>2018-11-01</td>\n",
       "      <td>smart</td>\n",
       "    </tr>\n",
       "    <tr>\n",
       "      <th>2</th>\n",
       "      <td>1002</td>\n",
       "      <td>59</td>\n",
       "      <td>NaN</td>\n",
       "      <td>Стерлитамак</td>\n",
       "      <td>Евгений</td>\n",
       "      <td>Абрамович</td>\n",
       "      <td>2018-06-17</td>\n",
       "      <td>smart</td>\n",
       "    </tr>\n",
       "  </tbody>\n",
       "</table>\n",
       "</div>"
      ],
      "text/plain": [
       "   user_id  age churn_date         city first_name  last_name    reg_date  \\\n",
       "0     1000   52        NaN    Краснодар     Рафаил  Верещагин  2018-05-25   \n",
       "1     1001   41        NaN       Москва       Иван       Ежов  2018-11-01   \n",
       "2     1002   59        NaN  Стерлитамак    Евгений  Абрамович  2018-06-17   \n",
       "\n",
       "  tariff  \n",
       "0  ultra  \n",
       "1  smart  \n",
       "2  smart  "
      ]
     },
     "execution_count": 6,
     "metadata": {},
     "output_type": "execute_result"
    }
   ],
   "source": [
    "# чтение файла с данными и сохранение в data_users\n",
    "data_users = pd.read_csv('users.csv') \n",
    "# получение информации о таблице №5\n",
    "display(data_users.info())\n",
    "# выведем на экран таблицу №5\n",
    "data_users.head(3)"
   ]
  },
  {
   "cell_type": "markdown",
   "metadata": {},
   "source": [
    "#### Вывод\n",
    "Все таблицы выводятся на экран в верном формате, пропуски есть только в таблице `data_users`\n",
    "В таблице `data_internet` удален артефакт в виде столбца `Unnamed: 0`."
   ]
  },
  {
   "cell_type": "markdown",
   "metadata": {},
   "source": [
    "### Шаг 2. Подготовка данных\n",
    "- Привести данные к нужным типам\n",
    "- Найти и исправить ошибки в данных, если они есть\n",
    "- Рассчитать помесячную выручку с каждого абонента"
   ]
  },
  {
   "cell_type": "markdown",
   "metadata": {},
   "source": [
    "#### Подготовка данных. Шаг 1"
   ]
  },
  {
   "cell_type": "code",
   "execution_count": 7,
   "metadata": {},
   "outputs": [
    {
     "data": {
      "text/html": [
       "<div>\n",
       "<style scoped>\n",
       "    .dataframe tbody tr th:only-of-type {\n",
       "        vertical-align: middle;\n",
       "    }\n",
       "\n",
       "    .dataframe tbody tr th {\n",
       "        vertical-align: top;\n",
       "    }\n",
       "\n",
       "    .dataframe thead th {\n",
       "        text-align: right;\n",
       "    }\n",
       "</style>\n",
       "<table border=\"1\" class=\"dataframe\">\n",
       "  <thead>\n",
       "    <tr style=\"text-align: right;\">\n",
       "      <th></th>\n",
       "      <th>id</th>\n",
       "      <th>mb_used</th>\n",
       "      <th>session_date</th>\n",
       "      <th>user_id</th>\n",
       "      <th>i_month</th>\n",
       "    </tr>\n",
       "  </thead>\n",
       "  <tbody>\n",
       "    <tr>\n",
       "      <th>0</th>\n",
       "      <td>1000_0</td>\n",
       "      <td>112.95</td>\n",
       "      <td>2018-11-25</td>\n",
       "      <td>1000</td>\n",
       "      <td>11</td>\n",
       "    </tr>\n",
       "    <tr>\n",
       "      <th>1</th>\n",
       "      <td>1000_1</td>\n",
       "      <td>1052.81</td>\n",
       "      <td>2018-09-07</td>\n",
       "      <td>1000</td>\n",
       "      <td>9</td>\n",
       "    </tr>\n",
       "    <tr>\n",
       "      <th>2</th>\n",
       "      <td>1000_2</td>\n",
       "      <td>1197.26</td>\n",
       "      <td>2018-06-25</td>\n",
       "      <td>1000</td>\n",
       "      <td>6</td>\n",
       "    </tr>\n",
       "    <tr>\n",
       "      <th>3</th>\n",
       "      <td>1000_3</td>\n",
       "      <td>550.27</td>\n",
       "      <td>2018-08-22</td>\n",
       "      <td>1000</td>\n",
       "      <td>8</td>\n",
       "    </tr>\n",
       "    <tr>\n",
       "      <th>4</th>\n",
       "      <td>1000_4</td>\n",
       "      <td>302.56</td>\n",
       "      <td>2018-09-24</td>\n",
       "      <td>1000</td>\n",
       "      <td>9</td>\n",
       "    </tr>\n",
       "    <tr>\n",
       "      <th>...</th>\n",
       "      <td>...</td>\n",
       "      <td>...</td>\n",
       "      <td>...</td>\n",
       "      <td>...</td>\n",
       "      <td>...</td>\n",
       "    </tr>\n",
       "    <tr>\n",
       "      <th>149391</th>\n",
       "      <td>1499_152</td>\n",
       "      <td>318.90</td>\n",
       "      <td>2018-10-03</td>\n",
       "      <td>1499</td>\n",
       "      <td>10</td>\n",
       "    </tr>\n",
       "    <tr>\n",
       "      <th>149392</th>\n",
       "      <td>1499_153</td>\n",
       "      <td>490.13</td>\n",
       "      <td>2018-12-14</td>\n",
       "      <td>1499</td>\n",
       "      <td>12</td>\n",
       "    </tr>\n",
       "    <tr>\n",
       "      <th>149393</th>\n",
       "      <td>1499_154</td>\n",
       "      <td>0.00</td>\n",
       "      <td>2018-10-27</td>\n",
       "      <td>1499</td>\n",
       "      <td>10</td>\n",
       "    </tr>\n",
       "    <tr>\n",
       "      <th>149394</th>\n",
       "      <td>1499_155</td>\n",
       "      <td>1246.32</td>\n",
       "      <td>2018-11-26</td>\n",
       "      <td>1499</td>\n",
       "      <td>11</td>\n",
       "    </tr>\n",
       "    <tr>\n",
       "      <th>149395</th>\n",
       "      <td>1499_156</td>\n",
       "      <td>544.37</td>\n",
       "      <td>2018-10-26</td>\n",
       "      <td>1499</td>\n",
       "      <td>10</td>\n",
       "    </tr>\n",
       "  </tbody>\n",
       "</table>\n",
       "<p>149396 rows × 5 columns</p>\n",
       "</div>"
      ],
      "text/plain": [
       "              id  mb_used session_date  user_id  i_month\n",
       "0         1000_0   112.95   2018-11-25     1000       11\n",
       "1         1000_1  1052.81   2018-09-07     1000        9\n",
       "2         1000_2  1197.26   2018-06-25     1000        6\n",
       "3         1000_3   550.27   2018-08-22     1000        8\n",
       "4         1000_4   302.56   2018-09-24     1000        9\n",
       "...          ...      ...          ...      ...      ...\n",
       "149391  1499_152   318.90   2018-10-03     1499       10\n",
       "149392  1499_153   490.13   2018-12-14     1499       12\n",
       "149393  1499_154     0.00   2018-10-27     1499       10\n",
       "149394  1499_155  1246.32   2018-11-26     1499       11\n",
       "149395  1499_156   544.37   2018-10-26     1499       10\n",
       "\n",
       "[149396 rows x 5 columns]"
      ]
     },
     "execution_count": 7,
     "metadata": {},
     "output_type": "execute_result"
    }
   ],
   "source": [
    "# изменение типа данных для даты и возвращение \"привычного\" формата\n",
    "data_calls['call_date'] = pd.to_datetime(data_calls['call_date'])\n",
    "# получение столбца с месяцем\n",
    "data_calls['c_month'] = data_calls['call_date'].dt.month\n",
    "# получение столбца с округлением минут разговора (по условиям оператора каждый звонок округляется в большую сторону)\n",
    "data_calls['duration_total'] = np.ceil(data_calls['duration'])\n",
    "\n",
    "# изменение типа данных для даты и возвращение \"привычного\" формата\n",
    "data_internet['session_date'] = pd.to_datetime(data_internet['session_date'])\n",
    "# получение столбца с месяцем\n",
    "data_internet['i_month'] = data_internet['session_date'].dt.month\n",
    "\n",
    "# изменение типа данных для даты и возвращение \"привычного\" формата\n",
    "data_messages['message_date'] = pd.to_datetime(data_messages['message_date'])\n",
    "# получение столбца с месяцем\n",
    "data_messages['m_month'] = data_messages['message_date'].dt.month\n",
    "\n",
    "# изменение типа данных для даты и возвращение \"привычного\" формата\n",
    "data_users['reg_date'] = pd.to_datetime(data_users['reg_date'])\n",
    "# изменим шапку столбца с названиями тарифов\n",
    "data_users.columns = ['user_id', 'age', 'churn_date', 'city', 'first_name', 'last_name', 'reg_date', 'tariff_name']\n",
    "data_internet"
   ]
  },
  {
   "cell_type": "markdown",
   "metadata": {},
   "source": [
    "#### Подготовка данных. Шаг 2"
   ]
  },
  {
   "cell_type": "code",
   "execution_count": 8,
   "metadata": {},
   "outputs": [
    {
     "data": {
      "text/html": [
       "<div>\n",
       "<style scoped>\n",
       "    .dataframe tbody tr th:only-of-type {\n",
       "        vertical-align: middle;\n",
       "    }\n",
       "\n",
       "    .dataframe tbody tr th {\n",
       "        vertical-align: top;\n",
       "    }\n",
       "\n",
       "    .dataframe thead th {\n",
       "        text-align: right;\n",
       "    }\n",
       "</style>\n",
       "<table border=\"1\" class=\"dataframe\">\n",
       "  <thead>\n",
       "    <tr style=\"text-align: right;\">\n",
       "      <th></th>\n",
       "      <th>user_id</th>\n",
       "      <th>month</th>\n",
       "      <th>c_count</th>\n",
       "      <th>c_sum</th>\n",
       "      <th>m_count</th>\n",
       "      <th>mb_sum</th>\n",
       "      <th>age</th>\n",
       "      <th>churn_date</th>\n",
       "      <th>city</th>\n",
       "      <th>first_name</th>\n",
       "      <th>last_name</th>\n",
       "      <th>reg_date</th>\n",
       "      <th>tariff_name</th>\n",
       "      <th>messages_included</th>\n",
       "      <th>mb_per_month_included</th>\n",
       "      <th>minutes_included</th>\n",
       "      <th>rub_monthly_fee</th>\n",
       "      <th>rub_per_gb</th>\n",
       "      <th>rub_per_message</th>\n",
       "      <th>rub_per_minute</th>\n",
       "    </tr>\n",
       "  </thead>\n",
       "  <tbody>\n",
       "    <tr>\n",
       "      <th>0</th>\n",
       "      <td>1000</td>\n",
       "      <td>5</td>\n",
       "      <td>22.0</td>\n",
       "      <td>159.0</td>\n",
       "      <td>22.0</td>\n",
       "      <td>2253.49</td>\n",
       "      <td>52</td>\n",
       "      <td>0</td>\n",
       "      <td>Краснодар</td>\n",
       "      <td>Рафаил</td>\n",
       "      <td>Верещагин</td>\n",
       "      <td>2018-05-25</td>\n",
       "      <td>ultra</td>\n",
       "      <td>1000</td>\n",
       "      <td>30720</td>\n",
       "      <td>3000</td>\n",
       "      <td>1950</td>\n",
       "      <td>150</td>\n",
       "      <td>1</td>\n",
       "      <td>1</td>\n",
       "    </tr>\n",
       "    <tr>\n",
       "      <th>1</th>\n",
       "      <td>1000</td>\n",
       "      <td>6</td>\n",
       "      <td>43.0</td>\n",
       "      <td>172.0</td>\n",
       "      <td>60.0</td>\n",
       "      <td>23233.77</td>\n",
       "      <td>52</td>\n",
       "      <td>0</td>\n",
       "      <td>Краснодар</td>\n",
       "      <td>Рафаил</td>\n",
       "      <td>Верещагин</td>\n",
       "      <td>2018-05-25</td>\n",
       "      <td>ultra</td>\n",
       "      <td>1000</td>\n",
       "      <td>30720</td>\n",
       "      <td>3000</td>\n",
       "      <td>1950</td>\n",
       "      <td>150</td>\n",
       "      <td>1</td>\n",
       "      <td>1</td>\n",
       "    </tr>\n",
       "    <tr>\n",
       "      <th>2</th>\n",
       "      <td>1000</td>\n",
       "      <td>7</td>\n",
       "      <td>47.0</td>\n",
       "      <td>340.0</td>\n",
       "      <td>75.0</td>\n",
       "      <td>14003.64</td>\n",
       "      <td>52</td>\n",
       "      <td>0</td>\n",
       "      <td>Краснодар</td>\n",
       "      <td>Рафаил</td>\n",
       "      <td>Верещагин</td>\n",
       "      <td>2018-05-25</td>\n",
       "      <td>ultra</td>\n",
       "      <td>1000</td>\n",
       "      <td>30720</td>\n",
       "      <td>3000</td>\n",
       "      <td>1950</td>\n",
       "      <td>150</td>\n",
       "      <td>1</td>\n",
       "      <td>1</td>\n",
       "    </tr>\n",
       "    <tr>\n",
       "      <th>3</th>\n",
       "      <td>1000</td>\n",
       "      <td>8</td>\n",
       "      <td>52.0</td>\n",
       "      <td>408.0</td>\n",
       "      <td>81.0</td>\n",
       "      <td>14055.93</td>\n",
       "      <td>52</td>\n",
       "      <td>0</td>\n",
       "      <td>Краснодар</td>\n",
       "      <td>Рафаил</td>\n",
       "      <td>Верещагин</td>\n",
       "      <td>2018-05-25</td>\n",
       "      <td>ultra</td>\n",
       "      <td>1000</td>\n",
       "      <td>30720</td>\n",
       "      <td>3000</td>\n",
       "      <td>1950</td>\n",
       "      <td>150</td>\n",
       "      <td>1</td>\n",
       "      <td>1</td>\n",
       "    </tr>\n",
       "    <tr>\n",
       "      <th>4</th>\n",
       "      <td>1000</td>\n",
       "      <td>9</td>\n",
       "      <td>58.0</td>\n",
       "      <td>466.0</td>\n",
       "      <td>57.0</td>\n",
       "      <td>14568.91</td>\n",
       "      <td>52</td>\n",
       "      <td>0</td>\n",
       "      <td>Краснодар</td>\n",
       "      <td>Рафаил</td>\n",
       "      <td>Верещагин</td>\n",
       "      <td>2018-05-25</td>\n",
       "      <td>ultra</td>\n",
       "      <td>1000</td>\n",
       "      <td>30720</td>\n",
       "      <td>3000</td>\n",
       "      <td>1950</td>\n",
       "      <td>150</td>\n",
       "      <td>1</td>\n",
       "      <td>1</td>\n",
       "    </tr>\n",
       "    <tr>\n",
       "      <th>...</th>\n",
       "      <td>...</td>\n",
       "      <td>...</td>\n",
       "      <td>...</td>\n",
       "      <td>...</td>\n",
       "      <td>...</td>\n",
       "      <td>...</td>\n",
       "      <td>...</td>\n",
       "      <td>...</td>\n",
       "      <td>...</td>\n",
       "      <td>...</td>\n",
       "      <td>...</td>\n",
       "      <td>...</td>\n",
       "      <td>...</td>\n",
       "      <td>...</td>\n",
       "      <td>...</td>\n",
       "      <td>...</td>\n",
       "      <td>...</td>\n",
       "      <td>...</td>\n",
       "      <td>...</td>\n",
       "      <td>...</td>\n",
       "    </tr>\n",
       "    <tr>\n",
       "      <th>3209</th>\n",
       "      <td>1489</td>\n",
       "      <td>8</td>\n",
       "      <td>0.0</td>\n",
       "      <td>0.0</td>\n",
       "      <td>17.0</td>\n",
       "      <td>11050.56</td>\n",
       "      <td>35</td>\n",
       "      <td>0</td>\n",
       "      <td>Санкт-Петербург</td>\n",
       "      <td>Павел</td>\n",
       "      <td>Гончаров</td>\n",
       "      <td>2018-08-15</td>\n",
       "      <td>smart</td>\n",
       "      <td>50</td>\n",
       "      <td>15360</td>\n",
       "      <td>500</td>\n",
       "      <td>550</td>\n",
       "      <td>200</td>\n",
       "      <td>3</td>\n",
       "      <td>3</td>\n",
       "    </tr>\n",
       "    <tr>\n",
       "      <th>3210</th>\n",
       "      <td>1489</td>\n",
       "      <td>9</td>\n",
       "      <td>0.0</td>\n",
       "      <td>0.0</td>\n",
       "      <td>32.0</td>\n",
       "      <td>17206.30</td>\n",
       "      <td>35</td>\n",
       "      <td>0</td>\n",
       "      <td>Санкт-Петербург</td>\n",
       "      <td>Павел</td>\n",
       "      <td>Гончаров</td>\n",
       "      <td>2018-08-15</td>\n",
       "      <td>smart</td>\n",
       "      <td>50</td>\n",
       "      <td>15360</td>\n",
       "      <td>500</td>\n",
       "      <td>550</td>\n",
       "      <td>200</td>\n",
       "      <td>3</td>\n",
       "      <td>3</td>\n",
       "    </tr>\n",
       "    <tr>\n",
       "      <th>3211</th>\n",
       "      <td>1489</td>\n",
       "      <td>10</td>\n",
       "      <td>0.0</td>\n",
       "      <td>0.0</td>\n",
       "      <td>21.0</td>\n",
       "      <td>19559.44</td>\n",
       "      <td>35</td>\n",
       "      <td>0</td>\n",
       "      <td>Санкт-Петербург</td>\n",
       "      <td>Павел</td>\n",
       "      <td>Гончаров</td>\n",
       "      <td>2018-08-15</td>\n",
       "      <td>smart</td>\n",
       "      <td>50</td>\n",
       "      <td>15360</td>\n",
       "      <td>500</td>\n",
       "      <td>550</td>\n",
       "      <td>200</td>\n",
       "      <td>3</td>\n",
       "      <td>3</td>\n",
       "    </tr>\n",
       "    <tr>\n",
       "      <th>3212</th>\n",
       "      <td>1489</td>\n",
       "      <td>11</td>\n",
       "      <td>0.0</td>\n",
       "      <td>0.0</td>\n",
       "      <td>20.0</td>\n",
       "      <td>17491.56</td>\n",
       "      <td>35</td>\n",
       "      <td>0</td>\n",
       "      <td>Санкт-Петербург</td>\n",
       "      <td>Павел</td>\n",
       "      <td>Гончаров</td>\n",
       "      <td>2018-08-15</td>\n",
       "      <td>smart</td>\n",
       "      <td>50</td>\n",
       "      <td>15360</td>\n",
       "      <td>500</td>\n",
       "      <td>550</td>\n",
       "      <td>200</td>\n",
       "      <td>3</td>\n",
       "      <td>3</td>\n",
       "    </tr>\n",
       "    <tr>\n",
       "      <th>3213</th>\n",
       "      <td>1489</td>\n",
       "      <td>12</td>\n",
       "      <td>0.0</td>\n",
       "      <td>0.0</td>\n",
       "      <td>35.0</td>\n",
       "      <td>17322.51</td>\n",
       "      <td>35</td>\n",
       "      <td>0</td>\n",
       "      <td>Санкт-Петербург</td>\n",
       "      <td>Павел</td>\n",
       "      <td>Гончаров</td>\n",
       "      <td>2018-08-15</td>\n",
       "      <td>smart</td>\n",
       "      <td>50</td>\n",
       "      <td>15360</td>\n",
       "      <td>500</td>\n",
       "      <td>550</td>\n",
       "      <td>200</td>\n",
       "      <td>3</td>\n",
       "      <td>3</td>\n",
       "    </tr>\n",
       "  </tbody>\n",
       "</table>\n",
       "<p>3214 rows × 20 columns</p>\n",
       "</div>"
      ],
      "text/plain": [
       "      user_id  month  c_count  c_sum  m_count    mb_sum  age churn_date  \\\n",
       "0        1000      5     22.0  159.0     22.0   2253.49   52          0   \n",
       "1        1000      6     43.0  172.0     60.0  23233.77   52          0   \n",
       "2        1000      7     47.0  340.0     75.0  14003.64   52          0   \n",
       "3        1000      8     52.0  408.0     81.0  14055.93   52          0   \n",
       "4        1000      9     58.0  466.0     57.0  14568.91   52          0   \n",
       "...       ...    ...      ...    ...      ...       ...  ...        ...   \n",
       "3209     1489      8      0.0    0.0     17.0  11050.56   35          0   \n",
       "3210     1489      9      0.0    0.0     32.0  17206.30   35          0   \n",
       "3211     1489     10      0.0    0.0     21.0  19559.44   35          0   \n",
       "3212     1489     11      0.0    0.0     20.0  17491.56   35          0   \n",
       "3213     1489     12      0.0    0.0     35.0  17322.51   35          0   \n",
       "\n",
       "                 city first_name  last_name   reg_date tariff_name  \\\n",
       "0           Краснодар     Рафаил  Верещагин 2018-05-25       ultra   \n",
       "1           Краснодар     Рафаил  Верещагин 2018-05-25       ultra   \n",
       "2           Краснодар     Рафаил  Верещагин 2018-05-25       ultra   \n",
       "3           Краснодар     Рафаил  Верещагин 2018-05-25       ultra   \n",
       "4           Краснодар     Рафаил  Верещагин 2018-05-25       ultra   \n",
       "...               ...        ...        ...        ...         ...   \n",
       "3209  Санкт-Петербург      Павел   Гончаров 2018-08-15       smart   \n",
       "3210  Санкт-Петербург      Павел   Гончаров 2018-08-15       smart   \n",
       "3211  Санкт-Петербург      Павел   Гончаров 2018-08-15       smart   \n",
       "3212  Санкт-Петербург      Павел   Гончаров 2018-08-15       smart   \n",
       "3213  Санкт-Петербург      Павел   Гончаров 2018-08-15       smart   \n",
       "\n",
       "      messages_included  mb_per_month_included  minutes_included  \\\n",
       "0                  1000                  30720              3000   \n",
       "1                  1000                  30720              3000   \n",
       "2                  1000                  30720              3000   \n",
       "3                  1000                  30720              3000   \n",
       "4                  1000                  30720              3000   \n",
       "...                 ...                    ...               ...   \n",
       "3209                 50                  15360               500   \n",
       "3210                 50                  15360               500   \n",
       "3211                 50                  15360               500   \n",
       "3212                 50                  15360               500   \n",
       "3213                 50                  15360               500   \n",
       "\n",
       "      rub_monthly_fee  rub_per_gb  rub_per_message  rub_per_minute  \n",
       "0                1950         150                1               1  \n",
       "1                1950         150                1               1  \n",
       "2                1950         150                1               1  \n",
       "3                1950         150                1               1  \n",
       "4                1950         150                1               1  \n",
       "...               ...         ...              ...             ...  \n",
       "3209              550         200                3               3  \n",
       "3210              550         200                3               3  \n",
       "3211              550         200                3               3  \n",
       "3212              550         200                3               3  \n",
       "3213              550         200                3               3  \n",
       "\n",
       "[3214 rows x 20 columns]"
      ]
     },
     "execution_count": 8,
     "metadata": {},
     "output_type": "execute_result"
    }
   ],
   "source": [
    "# создадим сводную таблицу с количеством звонков и общей продолжительностью по месяцам\n",
    "data_calls_pivot = data_calls.pivot_table(index=['user_id', 'c_month'], values='duration_total', aggfunc = ['count', 'sum'])    \n",
    "# перезапустим индекс\n",
    "data_calls_pivot = data_calls_pivot.reset_index()\n",
    "# переназовем столбцы\n",
    "data_calls_pivot.columns = ['user_id', 'month', 'c_count', 'c_sum']\n",
    "# создадим сводную таблицу с количеством сообщений по месяцам\n",
    "data_mess_pivot = data_messages.pivot_table(index=['user_id', 'm_month'], values='id', aggfunc = ['count'])    \n",
    "# перезапустим индекс\n",
    "data_mess_pivot = data_mess_pivot.reset_index()\n",
    "# переназовем столбцы\n",
    "data_mess_pivot.columns = ['user_id', 'month', 'm_count']\n",
    "# создадим сводную таблицу с количеством интернет трафика по месяцам\n",
    "data_inter_pivot = data_internet.pivot_table(index=['user_id', 'i_month'], values='mb_used', aggfunc = ['sum'])  \n",
    "# перезапустим индекс\n",
    "data_inter_pivot = data_inter_pivot.reset_index()\n",
    "# переназовем столбцы\n",
    "data_inter_pivot.columns = ['user_id', 'month', 'mb_sum']\n",
    "# создадим промежуточную таблицу со звонками и сообщениями\n",
    "data_calls_mess_pivot = data_calls_pivot.merge(data_mess_pivot, on=['user_id', 'month'], how='outer')\n",
    "# создадим промежуточную таблицу со звонками, сообщениями и интернет трафиком\n",
    "data_calls_mess_inter_pivot = data_calls_mess_pivot.merge(data_inter_pivot, on=['user_id', 'month'], how='outer')\n",
    "# создадим промежуточную таблицу, объединив предыдущую и данные о пользователях                                          \n",
    "data_cmi_users = data_calls_mess_inter_pivot.merge(data_users, on ='user_id', how='inner')                                               \n",
    "# создадим итоговую таблицу, объединив предыдущую и информацию о тарифах пользователей                                              \n",
    "data_total = data_cmi_users.merge(data_tariffs, on ='tariff_name', how='inner')                                               \n",
    "# заменим пропущенные значения на нули\n",
    "data_total = data_total.fillna(0)\n",
    "# выведем таблицу на экран\n",
    "data_total"
   ]
  },
  {
   "cell_type": "markdown",
   "metadata": {},
   "source": [
    "#### Расчет помесячной выручки с каждого пользователя"
   ]
  },
  {
   "cell_type": "code",
   "execution_count": 9,
   "metadata": {},
   "outputs": [
    {
     "data": {
      "text/html": [
       "<div>\n",
       "<style scoped>\n",
       "    .dataframe tbody tr th:only-of-type {\n",
       "        vertical-align: middle;\n",
       "    }\n",
       "\n",
       "    .dataframe tbody tr th {\n",
       "        vertical-align: top;\n",
       "    }\n",
       "\n",
       "    .dataframe thead th {\n",
       "        text-align: right;\n",
       "    }\n",
       "</style>\n",
       "<table border=\"1\" class=\"dataframe\">\n",
       "  <thead>\n",
       "    <tr style=\"text-align: right;\">\n",
       "      <th></th>\n",
       "      <th>user_id</th>\n",
       "      <th>month</th>\n",
       "      <th>c_count</th>\n",
       "      <th>c_sum</th>\n",
       "      <th>m_count</th>\n",
       "      <th>mb_sum</th>\n",
       "      <th>age</th>\n",
       "      <th>churn_date</th>\n",
       "      <th>city</th>\n",
       "      <th>first_name</th>\n",
       "      <th>last_name</th>\n",
       "      <th>reg_date</th>\n",
       "      <th>tariff_name</th>\n",
       "      <th>messages_included</th>\n",
       "      <th>mb_per_month_included</th>\n",
       "      <th>minutes_included</th>\n",
       "      <th>rub_monthly_fee</th>\n",
       "      <th>rub_per_gb</th>\n",
       "      <th>rub_per_message</th>\n",
       "      <th>rub_per_minute</th>\n",
       "      <th>revenue</th>\n",
       "    </tr>\n",
       "  </thead>\n",
       "  <tbody>\n",
       "    <tr>\n",
       "      <th>0</th>\n",
       "      <td>1000</td>\n",
       "      <td>5</td>\n",
       "      <td>22.0</td>\n",
       "      <td>159.0</td>\n",
       "      <td>22.0</td>\n",
       "      <td>2253.49</td>\n",
       "      <td>52</td>\n",
       "      <td>0</td>\n",
       "      <td>Краснодар</td>\n",
       "      <td>Рафаил</td>\n",
       "      <td>Верещагин</td>\n",
       "      <td>2018-05-25</td>\n",
       "      <td>ultra</td>\n",
       "      <td>1000</td>\n",
       "      <td>30720</td>\n",
       "      <td>3000</td>\n",
       "      <td>1950</td>\n",
       "      <td>150</td>\n",
       "      <td>1</td>\n",
       "      <td>1</td>\n",
       "      <td>1950.0</td>\n",
       "    </tr>\n",
       "    <tr>\n",
       "      <th>1</th>\n",
       "      <td>1000</td>\n",
       "      <td>6</td>\n",
       "      <td>43.0</td>\n",
       "      <td>172.0</td>\n",
       "      <td>60.0</td>\n",
       "      <td>23233.77</td>\n",
       "      <td>52</td>\n",
       "      <td>0</td>\n",
       "      <td>Краснодар</td>\n",
       "      <td>Рафаил</td>\n",
       "      <td>Верещагин</td>\n",
       "      <td>2018-05-25</td>\n",
       "      <td>ultra</td>\n",
       "      <td>1000</td>\n",
       "      <td>30720</td>\n",
       "      <td>3000</td>\n",
       "      <td>1950</td>\n",
       "      <td>150</td>\n",
       "      <td>1</td>\n",
       "      <td>1</td>\n",
       "      <td>1950.0</td>\n",
       "    </tr>\n",
       "    <tr>\n",
       "      <th>2</th>\n",
       "      <td>1000</td>\n",
       "      <td>7</td>\n",
       "      <td>47.0</td>\n",
       "      <td>340.0</td>\n",
       "      <td>75.0</td>\n",
       "      <td>14003.64</td>\n",
       "      <td>52</td>\n",
       "      <td>0</td>\n",
       "      <td>Краснодар</td>\n",
       "      <td>Рафаил</td>\n",
       "      <td>Верещагин</td>\n",
       "      <td>2018-05-25</td>\n",
       "      <td>ultra</td>\n",
       "      <td>1000</td>\n",
       "      <td>30720</td>\n",
       "      <td>3000</td>\n",
       "      <td>1950</td>\n",
       "      <td>150</td>\n",
       "      <td>1</td>\n",
       "      <td>1</td>\n",
       "      <td>1950.0</td>\n",
       "    </tr>\n",
       "    <tr>\n",
       "      <th>3</th>\n",
       "      <td>1000</td>\n",
       "      <td>8</td>\n",
       "      <td>52.0</td>\n",
       "      <td>408.0</td>\n",
       "      <td>81.0</td>\n",
       "      <td>14055.93</td>\n",
       "      <td>52</td>\n",
       "      <td>0</td>\n",
       "      <td>Краснодар</td>\n",
       "      <td>Рафаил</td>\n",
       "      <td>Верещагин</td>\n",
       "      <td>2018-05-25</td>\n",
       "      <td>ultra</td>\n",
       "      <td>1000</td>\n",
       "      <td>30720</td>\n",
       "      <td>3000</td>\n",
       "      <td>1950</td>\n",
       "      <td>150</td>\n",
       "      <td>1</td>\n",
       "      <td>1</td>\n",
       "      <td>1950.0</td>\n",
       "    </tr>\n",
       "    <tr>\n",
       "      <th>4</th>\n",
       "      <td>1000</td>\n",
       "      <td>9</td>\n",
       "      <td>58.0</td>\n",
       "      <td>466.0</td>\n",
       "      <td>57.0</td>\n",
       "      <td>14568.91</td>\n",
       "      <td>52</td>\n",
       "      <td>0</td>\n",
       "      <td>Краснодар</td>\n",
       "      <td>Рафаил</td>\n",
       "      <td>Верещагин</td>\n",
       "      <td>2018-05-25</td>\n",
       "      <td>ultra</td>\n",
       "      <td>1000</td>\n",
       "      <td>30720</td>\n",
       "      <td>3000</td>\n",
       "      <td>1950</td>\n",
       "      <td>150</td>\n",
       "      <td>1</td>\n",
       "      <td>1</td>\n",
       "      <td>1950.0</td>\n",
       "    </tr>\n",
       "    <tr>\n",
       "      <th>...</th>\n",
       "      <td>...</td>\n",
       "      <td>...</td>\n",
       "      <td>...</td>\n",
       "      <td>...</td>\n",
       "      <td>...</td>\n",
       "      <td>...</td>\n",
       "      <td>...</td>\n",
       "      <td>...</td>\n",
       "      <td>...</td>\n",
       "      <td>...</td>\n",
       "      <td>...</td>\n",
       "      <td>...</td>\n",
       "      <td>...</td>\n",
       "      <td>...</td>\n",
       "      <td>...</td>\n",
       "      <td>...</td>\n",
       "      <td>...</td>\n",
       "      <td>...</td>\n",
       "      <td>...</td>\n",
       "      <td>...</td>\n",
       "      <td>...</td>\n",
       "    </tr>\n",
       "    <tr>\n",
       "      <th>3209</th>\n",
       "      <td>1489</td>\n",
       "      <td>8</td>\n",
       "      <td>0.0</td>\n",
       "      <td>0.0</td>\n",
       "      <td>17.0</td>\n",
       "      <td>11050.56</td>\n",
       "      <td>35</td>\n",
       "      <td>0</td>\n",
       "      <td>Санкт-Петербург</td>\n",
       "      <td>Павел</td>\n",
       "      <td>Гончаров</td>\n",
       "      <td>2018-08-15</td>\n",
       "      <td>smart</td>\n",
       "      <td>50</td>\n",
       "      <td>15360</td>\n",
       "      <td>500</td>\n",
       "      <td>550</td>\n",
       "      <td>200</td>\n",
       "      <td>3</td>\n",
       "      <td>3</td>\n",
       "      <td>550.0</td>\n",
       "    </tr>\n",
       "    <tr>\n",
       "      <th>3210</th>\n",
       "      <td>1489</td>\n",
       "      <td>9</td>\n",
       "      <td>0.0</td>\n",
       "      <td>0.0</td>\n",
       "      <td>32.0</td>\n",
       "      <td>17206.30</td>\n",
       "      <td>35</td>\n",
       "      <td>0</td>\n",
       "      <td>Санкт-Петербург</td>\n",
       "      <td>Павел</td>\n",
       "      <td>Гончаров</td>\n",
       "      <td>2018-08-15</td>\n",
       "      <td>smart</td>\n",
       "      <td>50</td>\n",
       "      <td>15360</td>\n",
       "      <td>500</td>\n",
       "      <td>550</td>\n",
       "      <td>200</td>\n",
       "      <td>3</td>\n",
       "      <td>3</td>\n",
       "      <td>950.0</td>\n",
       "    </tr>\n",
       "    <tr>\n",
       "      <th>3211</th>\n",
       "      <td>1489</td>\n",
       "      <td>10</td>\n",
       "      <td>0.0</td>\n",
       "      <td>0.0</td>\n",
       "      <td>21.0</td>\n",
       "      <td>19559.44</td>\n",
       "      <td>35</td>\n",
       "      <td>0</td>\n",
       "      <td>Санкт-Петербург</td>\n",
       "      <td>Павел</td>\n",
       "      <td>Гончаров</td>\n",
       "      <td>2018-08-15</td>\n",
       "      <td>smart</td>\n",
       "      <td>50</td>\n",
       "      <td>15360</td>\n",
       "      <td>500</td>\n",
       "      <td>550</td>\n",
       "      <td>200</td>\n",
       "      <td>3</td>\n",
       "      <td>3</td>\n",
       "      <td>1550.0</td>\n",
       "    </tr>\n",
       "    <tr>\n",
       "      <th>3212</th>\n",
       "      <td>1489</td>\n",
       "      <td>11</td>\n",
       "      <td>0.0</td>\n",
       "      <td>0.0</td>\n",
       "      <td>20.0</td>\n",
       "      <td>17491.56</td>\n",
       "      <td>35</td>\n",
       "      <td>0</td>\n",
       "      <td>Санкт-Петербург</td>\n",
       "      <td>Павел</td>\n",
       "      <td>Гончаров</td>\n",
       "      <td>2018-08-15</td>\n",
       "      <td>smart</td>\n",
       "      <td>50</td>\n",
       "      <td>15360</td>\n",
       "      <td>500</td>\n",
       "      <td>550</td>\n",
       "      <td>200</td>\n",
       "      <td>3</td>\n",
       "      <td>3</td>\n",
       "      <td>1150.0</td>\n",
       "    </tr>\n",
       "    <tr>\n",
       "      <th>3213</th>\n",
       "      <td>1489</td>\n",
       "      <td>12</td>\n",
       "      <td>0.0</td>\n",
       "      <td>0.0</td>\n",
       "      <td>35.0</td>\n",
       "      <td>17322.51</td>\n",
       "      <td>35</td>\n",
       "      <td>0</td>\n",
       "      <td>Санкт-Петербург</td>\n",
       "      <td>Павел</td>\n",
       "      <td>Гончаров</td>\n",
       "      <td>2018-08-15</td>\n",
       "      <td>smart</td>\n",
       "      <td>50</td>\n",
       "      <td>15360</td>\n",
       "      <td>500</td>\n",
       "      <td>550</td>\n",
       "      <td>200</td>\n",
       "      <td>3</td>\n",
       "      <td>3</td>\n",
       "      <td>950.0</td>\n",
       "    </tr>\n",
       "  </tbody>\n",
       "</table>\n",
       "<p>3214 rows × 21 columns</p>\n",
       "</div>"
      ],
      "text/plain": [
       "      user_id  month  c_count  c_sum  m_count    mb_sum  age churn_date  \\\n",
       "0        1000      5     22.0  159.0     22.0   2253.49   52          0   \n",
       "1        1000      6     43.0  172.0     60.0  23233.77   52          0   \n",
       "2        1000      7     47.0  340.0     75.0  14003.64   52          0   \n",
       "3        1000      8     52.0  408.0     81.0  14055.93   52          0   \n",
       "4        1000      9     58.0  466.0     57.0  14568.91   52          0   \n",
       "...       ...    ...      ...    ...      ...       ...  ...        ...   \n",
       "3209     1489      8      0.0    0.0     17.0  11050.56   35          0   \n",
       "3210     1489      9      0.0    0.0     32.0  17206.30   35          0   \n",
       "3211     1489     10      0.0    0.0     21.0  19559.44   35          0   \n",
       "3212     1489     11      0.0    0.0     20.0  17491.56   35          0   \n",
       "3213     1489     12      0.0    0.0     35.0  17322.51   35          0   \n",
       "\n",
       "                 city first_name  last_name   reg_date tariff_name  \\\n",
       "0           Краснодар     Рафаил  Верещагин 2018-05-25       ultra   \n",
       "1           Краснодар     Рафаил  Верещагин 2018-05-25       ultra   \n",
       "2           Краснодар     Рафаил  Верещагин 2018-05-25       ultra   \n",
       "3           Краснодар     Рафаил  Верещагин 2018-05-25       ultra   \n",
       "4           Краснодар     Рафаил  Верещагин 2018-05-25       ultra   \n",
       "...               ...        ...        ...        ...         ...   \n",
       "3209  Санкт-Петербург      Павел   Гончаров 2018-08-15       smart   \n",
       "3210  Санкт-Петербург      Павел   Гончаров 2018-08-15       smart   \n",
       "3211  Санкт-Петербург      Павел   Гончаров 2018-08-15       smart   \n",
       "3212  Санкт-Петербург      Павел   Гончаров 2018-08-15       smart   \n",
       "3213  Санкт-Петербург      Павел   Гончаров 2018-08-15       smart   \n",
       "\n",
       "      messages_included  mb_per_month_included  minutes_included  \\\n",
       "0                  1000                  30720              3000   \n",
       "1                  1000                  30720              3000   \n",
       "2                  1000                  30720              3000   \n",
       "3                  1000                  30720              3000   \n",
       "4                  1000                  30720              3000   \n",
       "...                 ...                    ...               ...   \n",
       "3209                 50                  15360               500   \n",
       "3210                 50                  15360               500   \n",
       "3211                 50                  15360               500   \n",
       "3212                 50                  15360               500   \n",
       "3213                 50                  15360               500   \n",
       "\n",
       "      rub_monthly_fee  rub_per_gb  rub_per_message  rub_per_minute  revenue  \n",
       "0                1950         150                1               1   1950.0  \n",
       "1                1950         150                1               1   1950.0  \n",
       "2                1950         150                1               1   1950.0  \n",
       "3                1950         150                1               1   1950.0  \n",
       "4                1950         150                1               1   1950.0  \n",
       "...               ...         ...              ...             ...      ...  \n",
       "3209              550         200                3               3    550.0  \n",
       "3210              550         200                3               3    950.0  \n",
       "3211              550         200                3               3   1550.0  \n",
       "3212              550         200                3               3   1150.0  \n",
       "3213              550         200                3               3    950.0  \n",
       "\n",
       "[3214 rows x 21 columns]"
      ]
     },
     "execution_count": 9,
     "metadata": {},
     "output_type": "execute_result"
    }
   ],
   "source": [
    "# создание функции для расчета выручки\n",
    "def revenue(row):   \n",
    "    var = row['rub_monthly_fee'] \n",
    "    if row['c_sum'] > row['minutes_included']:\n",
    "        var += (row['c_sum'] - row['minutes_included']) * row['rub_per_minute']\n",
    "    if row['m_count'] > row['messages_included']:\n",
    "        var += (row['m_count'] - row['messages_included']) * row['rub_per_message']\n",
    "    if row['mb_sum'] > row['mb_per_month_included']:\n",
    "        var += (math.ceil((row['mb_sum'] - row['mb_per_month_included']) / 1024)) * row['rub_per_gb']\n",
    "    return var\n",
    "# применим функцию к столбцу с выручкой    \n",
    "data_total['revenue'] = data_total.apply(revenue, axis=1)\n",
    "# выведем таблицу на экран\n",
    "data_total"
   ]
  },
  {
   "cell_type": "markdown",
   "metadata": {},
   "source": [
    "#### Вывод\n",
    "В данных были приведены значения к привычному формату, объединены таблицы в одну общую и посчитана помесячная выручка для каждого абонента."
   ]
  },
  {
   "cell_type": "markdown",
   "metadata": {},
   "source": [
    "### Шаг 3. Проанализировать данные\n",
    "- Описать поведение клиентов оператора, исходя из выборки. \n",
    "- Сколько минут разговора, сколько сообщений и какой объём интернет-трафика требуется пользователям каждого тарифа в месяц?\n",
    "- Посчитать среднее количество, дисперсию и стандартное отклонение. Построить гистограммы. Описать распределения."
   ]
  },
  {
   "cell_type": "code",
   "execution_count": 10,
   "metadata": {},
   "outputs": [
    {
     "data": {
      "text/html": [
       "<div>\n",
       "<style scoped>\n",
       "    .dataframe tbody tr th:only-of-type {\n",
       "        vertical-align: middle;\n",
       "    }\n",
       "\n",
       "    .dataframe tbody tr th {\n",
       "        vertical-align: top;\n",
       "    }\n",
       "\n",
       "    .dataframe thead th {\n",
       "        text-align: right;\n",
       "    }\n",
       "</style>\n",
       "<table border=\"1\" class=\"dataframe\">\n",
       "  <thead>\n",
       "    <tr style=\"text-align: right;\">\n",
       "      <th></th>\n",
       "      <th>messages_included</th>\n",
       "      <th>mb_per_month_included</th>\n",
       "      <th>minutes_included</th>\n",
       "      <th>rub_monthly_fee</th>\n",
       "      <th>rub_per_gb</th>\n",
       "      <th>rub_per_message</th>\n",
       "      <th>rub_per_minute</th>\n",
       "      <th>tariff_name</th>\n",
       "    </tr>\n",
       "  </thead>\n",
       "  <tbody>\n",
       "    <tr>\n",
       "      <th>0</th>\n",
       "      <td>50</td>\n",
       "      <td>15360</td>\n",
       "      <td>500</td>\n",
       "      <td>550</td>\n",
       "      <td>200</td>\n",
       "      <td>3</td>\n",
       "      <td>3</td>\n",
       "      <td>smart</td>\n",
       "    </tr>\n",
       "    <tr>\n",
       "      <th>1</th>\n",
       "      <td>1000</td>\n",
       "      <td>30720</td>\n",
       "      <td>3000</td>\n",
       "      <td>1950</td>\n",
       "      <td>150</td>\n",
       "      <td>1</td>\n",
       "      <td>1</td>\n",
       "      <td>ultra</td>\n",
       "    </tr>\n",
       "  </tbody>\n",
       "</table>\n",
       "</div>"
      ],
      "text/plain": [
       "   messages_included  mb_per_month_included  minutes_included  \\\n",
       "0                 50                  15360               500   \n",
       "1               1000                  30720              3000   \n",
       "\n",
       "   rub_monthly_fee  rub_per_gb  rub_per_message  rub_per_minute tariff_name  \n",
       "0              550         200                3               3       smart  \n",
       "1             1950         150                1               1       ultra  "
      ]
     },
     "execution_count": 10,
     "metadata": {},
     "output_type": "execute_result"
    }
   ],
   "source": [
    "# выведем на экран таблицу c тарифами\n",
    "data_tariffs"
   ]
  },
  {
   "cell_type": "markdown",
   "metadata": {},
   "source": [
    "#### Расчет среднего количества минут разговора, требующегося пользователям каждого тарифа в месяц"
   ]
  },
  {
   "cell_type": "code",
   "execution_count": 11,
   "metadata": {
    "scrolled": false
   },
   "outputs": [
    {
     "data": {
      "text/html": [
       "<div>\n",
       "<style scoped>\n",
       "    .dataframe tbody tr th:only-of-type {\n",
       "        vertical-align: middle;\n",
       "    }\n",
       "\n",
       "    .dataframe tbody tr th {\n",
       "        vertical-align: top;\n",
       "    }\n",
       "\n",
       "    .dataframe thead th {\n",
       "        text-align: right;\n",
       "    }\n",
       "</style>\n",
       "<table border=\"1\" class=\"dataframe\">\n",
       "  <thead>\n",
       "    <tr style=\"text-align: right;\">\n",
       "      <th></th>\n",
       "      <th>month</th>\n",
       "      <th>c_sum</th>\n",
       "    </tr>\n",
       "  </thead>\n",
       "  <tbody>\n",
       "    <tr>\n",
       "      <th>0</th>\n",
       "      <td>1</td>\n",
       "      <td>203.852941</td>\n",
       "    </tr>\n",
       "    <tr>\n",
       "      <th>1</th>\n",
       "      <td>2</td>\n",
       "      <td>298.689655</td>\n",
       "    </tr>\n",
       "    <tr>\n",
       "      <th>2</th>\n",
       "      <td>3</td>\n",
       "      <td>390.051948</td>\n",
       "    </tr>\n",
       "    <tr>\n",
       "      <th>3</th>\n",
       "      <td>4</td>\n",
       "      <td>367.133929</td>\n",
       "    </tr>\n",
       "    <tr>\n",
       "      <th>4</th>\n",
       "      <td>5</td>\n",
       "      <td>387.361702</td>\n",
       "    </tr>\n",
       "    <tr>\n",
       "      <th>5</th>\n",
       "      <td>6</td>\n",
       "      <td>395.640244</td>\n",
       "    </tr>\n",
       "    <tr>\n",
       "      <th>6</th>\n",
       "      <td>7</td>\n",
       "      <td>408.353234</td>\n",
       "    </tr>\n",
       "    <tr>\n",
       "      <th>7</th>\n",
       "      <td>8</td>\n",
       "      <td>421.468085</td>\n",
       "    </tr>\n",
       "    <tr>\n",
       "      <th>8</th>\n",
       "      <td>9</td>\n",
       "      <td>428.611538</td>\n",
       "    </tr>\n",
       "    <tr>\n",
       "      <th>9</th>\n",
       "      <td>10</td>\n",
       "      <td>426.136054</td>\n",
       "    </tr>\n",
       "    <tr>\n",
       "      <th>10</th>\n",
       "      <td>11</td>\n",
       "      <td>435.265823</td>\n",
       "    </tr>\n",
       "    <tr>\n",
       "      <th>11</th>\n",
       "      <td>12</td>\n",
       "      <td>478.560831</td>\n",
       "    </tr>\n",
       "  </tbody>\n",
       "</table>\n",
       "</div>"
      ],
      "text/plain": [
       "    month       c_sum\n",
       "0       1  203.852941\n",
       "1       2  298.689655\n",
       "2       3  390.051948\n",
       "3       4  367.133929\n",
       "4       5  387.361702\n",
       "5       6  395.640244\n",
       "6       7  408.353234\n",
       "7       8  421.468085\n",
       "8       9  428.611538\n",
       "9      10  426.136054\n",
       "10     11  435.265823\n",
       "11     12  478.560831"
      ]
     },
     "metadata": {},
     "output_type": "display_data"
    },
    {
     "data": {
      "text/plain": [
       "'Среднее значение количества минут для тарифа smart: 386.76'"
      ]
     },
     "metadata": {},
     "output_type": "display_data"
    },
    {
     "data": {
      "text/plain": [
       "'Оценка дисперсии количества минут для тарифа smart: 5221.8'"
      ]
     },
     "metadata": {},
     "output_type": "display_data"
    },
    {
     "data": {
      "text/plain": [
       "'Стандартное отклонение количества минут для тарифа smart: 72.26'"
      ]
     },
     "metadata": {},
     "output_type": "display_data"
    },
    {
     "data": {
      "text/html": [
       "<div>\n",
       "<style scoped>\n",
       "    .dataframe tbody tr th:only-of-type {\n",
       "        vertical-align: middle;\n",
       "    }\n",
       "\n",
       "    .dataframe tbody tr th {\n",
       "        vertical-align: top;\n",
       "    }\n",
       "\n",
       "    .dataframe thead th {\n",
       "        text-align: right;\n",
       "    }\n",
       "</style>\n",
       "<table border=\"1\" class=\"dataframe\">\n",
       "  <thead>\n",
       "    <tr style=\"text-align: right;\">\n",
       "      <th></th>\n",
       "      <th>month</th>\n",
       "      <th>c_sum</th>\n",
       "    </tr>\n",
       "  </thead>\n",
       "  <tbody>\n",
       "    <tr>\n",
       "      <th>0</th>\n",
       "      <td>1</td>\n",
       "      <td>428.111111</td>\n",
       "    </tr>\n",
       "    <tr>\n",
       "      <th>1</th>\n",
       "      <td>2</td>\n",
       "      <td>297.125000</td>\n",
       "    </tr>\n",
       "    <tr>\n",
       "      <th>2</th>\n",
       "      <td>3</td>\n",
       "      <td>489.648649</td>\n",
       "    </tr>\n",
       "    <tr>\n",
       "      <th>3</th>\n",
       "      <td>4</td>\n",
       "      <td>458.018182</td>\n",
       "    </tr>\n",
       "    <tr>\n",
       "      <th>4</th>\n",
       "      <td>5</td>\n",
       "      <td>510.328358</td>\n",
       "    </tr>\n",
       "    <tr>\n",
       "      <th>5</th>\n",
       "      <td>6</td>\n",
       "      <td>479.702381</td>\n",
       "    </tr>\n",
       "    <tr>\n",
       "      <th>6</th>\n",
       "      <td>7</td>\n",
       "      <td>545.791209</td>\n",
       "    </tr>\n",
       "    <tr>\n",
       "      <th>7</th>\n",
       "      <td>8</td>\n",
       "      <td>510.775701</td>\n",
       "    </tr>\n",
       "    <tr>\n",
       "      <th>8</th>\n",
       "      <td>9</td>\n",
       "      <td>539.443478</td>\n",
       "    </tr>\n",
       "    <tr>\n",
       "      <th>9</th>\n",
       "      <td>10</td>\n",
       "      <td>558.081301</td>\n",
       "    </tr>\n",
       "    <tr>\n",
       "      <th>10</th>\n",
       "      <td>11</td>\n",
       "      <td>541.380597</td>\n",
       "    </tr>\n",
       "    <tr>\n",
       "      <th>11</th>\n",
       "      <td>12</td>\n",
       "      <td>592.805755</td>\n",
       "    </tr>\n",
       "  </tbody>\n",
       "</table>\n",
       "</div>"
      ],
      "text/plain": [
       "    month       c_sum\n",
       "0       1  428.111111\n",
       "1       2  297.125000\n",
       "2       3  489.648649\n",
       "3       4  458.018182\n",
       "4       5  510.328358\n",
       "5       6  479.702381\n",
       "6       7  545.791209\n",
       "7       8  510.775701\n",
       "8       9  539.443478\n",
       "9      10  558.081301\n",
       "10     11  541.380597\n",
       "11     12  592.805755"
      ]
     },
     "metadata": {},
     "output_type": "display_data"
    },
    {
     "data": {
      "text/plain": [
       "'Среднее значение количества минут для тарифа ultra: 495.93'"
      ]
     },
     "metadata": {},
     "output_type": "display_data"
    },
    {
     "data": {
      "text/plain": [
       "'Оценка дисперсии количества минут для тарифа ultra: 5998.51'"
      ]
     },
     "metadata": {},
     "output_type": "display_data"
    },
    {
     "data": {
      "text/plain": [
       "'Стандартное отклонение количества минут для тарифа ultra: 77.45'"
      ]
     },
     "metadata": {},
     "output_type": "display_data"
    }
   ],
   "source": [
    "# сделаем срез данных по тарифу smart\n",
    "data_total_smart = data_total.query('tariff_name == \"smart\"')\n",
    "# посчитаем среднее количество минут по месяцам\n",
    "data_smart_call_mean = data_total_smart.pivot_table(index='month', values='c_sum', aggfunc='mean')\n",
    "# перезапустим индекс\n",
    "data_smart_call_mean = data_smart_call_mean.reset_index()\n",
    "# выведем на экран таблицу\n",
    "display(data_smart_call_mean)\n",
    "# создадим список из средних значений\n",
    "x_call_smart = list(data_smart_call_mean.loc[:, 'c_sum'])\n",
    "# посчитаем среднее значение для выборки\n",
    "x_call_smart_mean = np.average(x_call_smart)\n",
    "# вывод среднего для выборки по тарифу smart\n",
    "display(f'Среднее значение количества минут для тарифа smart: {round(x_call_smart_mean, 2)}')\n",
    "# рассчитаем оценку дисперсии\n",
    "var_call_smart = np.var(x_call_smart, ddof=1)\n",
    "# вывод оценки дисперсии для выборки по тарифу smart\n",
    "display(f'Оценка дисперсии количества минут для тарифа smart: {round(var_call_smart, 2)}')\n",
    "# рассчитаем стандартное отклонение\n",
    "std_call_smart = np.std(x_call_smart, ddof=1)\n",
    "# вывод стандартного отклонения для выборки по тарифу smart\n",
    "display(f'Стандартное отклонение количества минут для тарифа smart: {round(std_call_smart, 2)}')\n",
    "\n",
    "# сделаем срез данных по тарифу ultra\n",
    "data_total_ultra = data_total.query('tariff_name == \"ultra\"')\n",
    "# посчитаем среднее количество минут по месяцам\n",
    "data_ultra_call_mean = data_total_ultra.pivot_table(index='month', values='c_sum', aggfunc='mean')\n",
    "# перезапустим индекс\n",
    "data_ultra_call_mean = data_ultra_call_mean.reset_index()\n",
    "# выведем на экран таблицу\n",
    "display(data_ultra_call_mean)\n",
    "# создадим список из средних значений\n",
    "x_call_ultra = list(data_ultra_call_mean.loc[:, 'c_sum'])\n",
    "# посчитаем среднее значение для выборки\n",
    "x_call_ultra_mean = np.average(x_call_ultra)\n",
    "# вывод среднего для выборки по тарифу ultra\n",
    "display(f'Среднее значение количества минут для тарифа ultra: {round(x_call_ultra_mean, 2)}')\n",
    "# рассчитаем оценку дисперсии\n",
    "var_call_ultra = np.var(x_call_ultra, ddof=1)\n",
    "# вывод оценки дисперсии для выборки по тарифу ultra\n",
    "display(f'Оценка дисперсии количества минут для тарифа ultra: {round(var_call_ultra, 2)}')\n",
    "# рассчитаем стандартное отклонение\n",
    "std_call_ultra = np.std(x_call_ultra, ddof=1)\n",
    "# вывод стандартного отклонения для выборки по тарифу ultra\n",
    "display(f'Стандартное отклонение количества минут для тарифа ultra: {round(std_call_ultra, 2)}')"
   ]
  },
  {
   "cell_type": "code",
   "execution_count": 12,
   "metadata": {},
   "outputs": [
    {
     "data": {
      "image/png": "[encoded data removed]",
      "text/plain": [
       "<Figure size 640x480 with 1 Axes>"
      ]
     },
     "metadata": {},
     "output_type": "display_data"
    }
   ],
   "source": [
    "# ограничем график по оси y\n",
    "plt.ylim(-100, 1800)\n",
    "# построим график типа boxplot\n",
    "data_total_smart.loc[:, ['c_sum', 'city']].boxplot();"
   ]
  },
  {
   "cell_type": "code",
   "execution_count": 13,
   "metadata": {},
   "outputs": [
    {
     "data": {
      "image/png": "[encoded data removed]",
      "text/plain": [
       "<Figure size 640x480 with 1 Axes>"
      ]
     },
     "metadata": {},
     "output_type": "display_data"
    }
   ],
   "source": [
    "# ограничем график по оси y\n",
    "plt.ylim(-100, 2000)\n",
    "# построим график типа boxplot\n",
    "data_total_ultra.loc[:, ['c_sum', 'city']].boxplot();"
   ]
  },
  {
   "cell_type": "markdown",
   "metadata": {},
   "source": [
    "##### Гистограммы распределений для количества минут"
   ]
  },
  {
   "cell_type": "code",
   "execution_count": 14,
   "metadata": {},
   "outputs": [
    {
     "data": {
      "image/png": "[encoded data removed]",
      "text/plain": [
       "<Figure size 640x480 with 1 Axes>"
      ]
     },
     "metadata": {},
     "output_type": "display_data"
    }
   ],
   "source": [
    "# построим гистограмму распредлений количества минут для тарифа smart\n",
    "data_smart_call_mean.loc[:, 'c_sum'].plot(kind='hist', bins=[200, 250, 300, 350, 400, 450, 500, 550, 600], alpha=0.5, title='Количество минут', legend=True);\n",
    "# построим гистограмму распредлений количества минут для тарифа ultra\n",
    "data_ultra_call_mean.loc[:, 'c_sum'].plot(kind='hist', bins=[250, 300, 350, 400, 450, 500, 550, 600, 650], alpha=0.7, title='Количество минут', legend=True);"
   ]
  },
  {
   "cell_type": "code",
   "execution_count": 15,
   "metadata": {},
   "outputs": [
    {
     "data": {
      "image/png": "[encoded data removed]",
      "text/plain": [
       "<Figure size 1000x600 with 1 Axes>"
      ]
     },
     "metadata": {},
     "output_type": "display_data"
    }
   ],
   "source": [
    "### КОД РЕВЬЮЕРА ###\n",
    "# срез для количества минут по тарифу smart\n",
    "smart_c = data_total.query('tariff_name == \"smart\"')['c_sum']\n",
    "# срез для количества минут по тарифу ultra\n",
    "ultra_c = data_total.query('tariff_name == \"ultra\"')['c_sum']\n",
    "# укажем размер графика\n",
    "plt.figure(figsize=(10,6))\n",
    "# создадим график для количества минут по тарифу samrt\n",
    "plt.hist(smart_c, bins=50, color='blue', edgecolor='grey', alpha=0.5, label = 'smart', density = False)\n",
    "# создадим график для количества минут по тарифу ultra\n",
    "plt.hist(ultra_c, bins=50, color='orange', edgecolor='grey', alpha=0.5, label = 'ultra', density = False)\n",
    "# добавим подписи к осям\n",
    "plt.xlabel('Количество минут')\n",
    "plt.ylabel('Количество в выборке')\n",
    "# добавим название графика\n",
    "plt.title('Количество минут в разрезе тарифов')\n",
    "# добавим легенду\n",
    "plt.legend()\n",
    "# выведем на экран\n",
    "plt.show()"
   ]
  },
  {
   "cell_type": "markdown",
   "metadata": {},
   "source": [
    "##### Вывод\n",
    "- Средние значения количества минут по месяцам не превышают количества минут включенных в тариф. А в тарифе `ultra` даже не превышают 1000 минут в месяц, хотя в тариф включено 3000.\n",
    "- Оценка дисперсии количества минут сильно превышает среднее значение у обоих тарифов.\n",
    "- По гистограмме частот можно заметить что значения распределены около среднего значения: для тарифа `smart` это 400-450 минут, а для тарифа `ultra` это 500-550 минут."
   ]
  },
  {
   "cell_type": "markdown",
   "metadata": {},
   "source": [
    "#### Расчет среднего количества сообщений, требующегося пользователям каждого тарифа в месяц"
   ]
  },
  {
   "cell_type": "code",
   "execution_count": 16,
   "metadata": {},
   "outputs": [
    {
     "data": {
      "text/html": [
       "<div>\n",
       "<style scoped>\n",
       "    .dataframe tbody tr th:only-of-type {\n",
       "        vertical-align: middle;\n",
       "    }\n",
       "\n",
       "    .dataframe tbody tr th {\n",
       "        vertical-align: top;\n",
       "    }\n",
       "\n",
       "    .dataframe thead th {\n",
       "        text-align: right;\n",
       "    }\n",
       "</style>\n",
       "<table border=\"1\" class=\"dataframe\">\n",
       "  <thead>\n",
       "    <tr style=\"text-align: right;\">\n",
       "      <th></th>\n",
       "      <th>month</th>\n",
       "      <th>m_count</th>\n",
       "    </tr>\n",
       "  </thead>\n",
       "  <tbody>\n",
       "    <tr>\n",
       "      <th>0</th>\n",
       "      <td>1</td>\n",
       "      <td>18.235294</td>\n",
       "    </tr>\n",
       "    <tr>\n",
       "      <th>1</th>\n",
       "      <td>2</td>\n",
       "      <td>24.086207</td>\n",
       "    </tr>\n",
       "    <tr>\n",
       "      <th>2</th>\n",
       "      <td>3</td>\n",
       "      <td>31.857143</td>\n",
       "    </tr>\n",
       "    <tr>\n",
       "      <th>3</th>\n",
       "      <td>4</td>\n",
       "      <td>30.741071</td>\n",
       "    </tr>\n",
       "    <tr>\n",
       "      <th>4</th>\n",
       "      <td>5</td>\n",
       "      <td>33.773050</td>\n",
       "    </tr>\n",
       "    <tr>\n",
       "      <th>5</th>\n",
       "      <td>6</td>\n",
       "      <td>33.402439</td>\n",
       "    </tr>\n",
       "    <tr>\n",
       "      <th>6</th>\n",
       "      <td>7</td>\n",
       "      <td>33.751244</td>\n",
       "    </tr>\n",
       "    <tr>\n",
       "      <th>7</th>\n",
       "      <td>8</td>\n",
       "      <td>33.638298</td>\n",
       "    </tr>\n",
       "    <tr>\n",
       "      <th>8</th>\n",
       "      <td>9</td>\n",
       "      <td>33.638462</td>\n",
       "    </tr>\n",
       "    <tr>\n",
       "      <th>9</th>\n",
       "      <td>10</td>\n",
       "      <td>33.765306</td>\n",
       "    </tr>\n",
       "    <tr>\n",
       "      <th>10</th>\n",
       "      <td>11</td>\n",
       "      <td>34.075949</td>\n",
       "    </tr>\n",
       "    <tr>\n",
       "      <th>11</th>\n",
       "      <td>12</td>\n",
       "      <td>35.994065</td>\n",
       "    </tr>\n",
       "  </tbody>\n",
       "</table>\n",
       "</div>"
      ],
      "text/plain": [
       "    month    m_count\n",
       "0       1  18.235294\n",
       "1       2  24.086207\n",
       "2       3  31.857143\n",
       "3       4  30.741071\n",
       "4       5  33.773050\n",
       "5       6  33.402439\n",
       "6       7  33.751244\n",
       "7       8  33.638298\n",
       "8       9  33.638462\n",
       "9      10  33.765306\n",
       "10     11  34.075949\n",
       "11     12  35.994065"
      ]
     },
     "metadata": {},
     "output_type": "display_data"
    },
    {
     "data": {
      "text/plain": [
       "'Среднее значение количества сообщений для тарифа smart: 31.41'"
      ]
     },
     "metadata": {},
     "output_type": "display_data"
    },
    {
     "data": {
      "text/plain": [
       "'Оценка дисперсии количества сообщений для тарифа smart: 26.04'"
      ]
     },
     "metadata": {},
     "output_type": "display_data"
    },
    {
     "data": {
      "text/plain": [
       "'Стандартное отклонение количества сообщений для тарифа smart: 5.1'"
      ]
     },
     "metadata": {},
     "output_type": "display_data"
    },
    {
     "data": {
      "text/html": [
       "<div>\n",
       "<style scoped>\n",
       "    .dataframe tbody tr th:only-of-type {\n",
       "        vertical-align: middle;\n",
       "    }\n",
       "\n",
       "    .dataframe tbody tr th {\n",
       "        vertical-align: top;\n",
       "    }\n",
       "\n",
       "    .dataframe thead th {\n",
       "        text-align: right;\n",
       "    }\n",
       "</style>\n",
       "<table border=\"1\" class=\"dataframe\">\n",
       "  <thead>\n",
       "    <tr style=\"text-align: right;\">\n",
       "      <th></th>\n",
       "      <th>month</th>\n",
       "      <th>m_count</th>\n",
       "    </tr>\n",
       "  </thead>\n",
       "  <tbody>\n",
       "    <tr>\n",
       "      <th>0</th>\n",
       "      <td>1</td>\n",
       "      <td>33.777778</td>\n",
       "    </tr>\n",
       "    <tr>\n",
       "      <th>1</th>\n",
       "      <td>2</td>\n",
       "      <td>21.958333</td>\n",
       "    </tr>\n",
       "    <tr>\n",
       "      <th>2</th>\n",
       "      <td>3</td>\n",
       "      <td>32.297297</td>\n",
       "    </tr>\n",
       "    <tr>\n",
       "      <th>3</th>\n",
       "      <td>4</td>\n",
       "      <td>31.563636</td>\n",
       "    </tr>\n",
       "    <tr>\n",
       "      <th>4</th>\n",
       "      <td>5</td>\n",
       "      <td>37.850746</td>\n",
       "    </tr>\n",
       "    <tr>\n",
       "      <th>5</th>\n",
       "      <td>6</td>\n",
       "      <td>41.726190</td>\n",
       "    </tr>\n",
       "    <tr>\n",
       "      <th>6</th>\n",
       "      <td>7</td>\n",
       "      <td>49.846154</td>\n",
       "    </tr>\n",
       "    <tr>\n",
       "      <th>7</th>\n",
       "      <td>8</td>\n",
       "      <td>48.439252</td>\n",
       "    </tr>\n",
       "    <tr>\n",
       "      <th>8</th>\n",
       "      <td>9</td>\n",
       "      <td>52.286957</td>\n",
       "    </tr>\n",
       "    <tr>\n",
       "      <th>9</th>\n",
       "      <td>10</td>\n",
       "      <td>58.430894</td>\n",
       "    </tr>\n",
       "    <tr>\n",
       "      <th>10</th>\n",
       "      <td>11</td>\n",
       "      <td>55.791045</td>\n",
       "    </tr>\n",
       "    <tr>\n",
       "      <th>11</th>\n",
       "      <td>12</td>\n",
       "      <td>60.611511</td>\n",
       "    </tr>\n",
       "  </tbody>\n",
       "</table>\n",
       "</div>"
      ],
      "text/plain": [
       "    month    m_count\n",
       "0       1  33.777778\n",
       "1       2  21.958333\n",
       "2       3  32.297297\n",
       "3       4  31.563636\n",
       "4       5  37.850746\n",
       "5       6  41.726190\n",
       "6       7  49.846154\n",
       "7       8  48.439252\n",
       "8       9  52.286957\n",
       "9      10  58.430894\n",
       "10     11  55.791045\n",
       "11     12  60.611511"
      ]
     },
     "metadata": {},
     "output_type": "display_data"
    },
    {
     "data": {
      "text/plain": [
       "'Среднее значение количества сообщений для тарифа ultra: 43.71'"
      ]
     },
     "metadata": {},
     "output_type": "display_data"
    },
    {
     "data": {
      "text/plain": [
       "'Оценка дисперсии количества сообщений для тарифа ultra: 151.79'"
      ]
     },
     "metadata": {},
     "output_type": "display_data"
    },
    {
     "data": {
      "text/plain": [
       "'Стандартное отклонение количества сообщений для тарифа ultra: 12.32'"
      ]
     },
     "metadata": {},
     "output_type": "display_data"
    }
   ],
   "source": [
    "# посчитаем среднее количество сообщений по месяцам\n",
    "data_smart_mess_mean = data_total_smart.pivot_table(index='month', values='m_count', aggfunc='mean')\n",
    "# перезапустим индекс\n",
    "data_smart_mess_mean = data_smart_mess_mean.reset_index()\n",
    "# выведем на экран таблицу\n",
    "display(data_smart_mess_mean)\n",
    "# создадим список из средних значений\n",
    "x_mess_smart = list(data_smart_mess_mean.loc[:, 'm_count'])\n",
    "# посчитаем среднее значение для выборки\n",
    "x_mess_smart_mean = np.average(x_mess_smart)\n",
    "# вывод среднего для выборки по тарифу smart\n",
    "display(f'Среднее значение количества сообщений для тарифа smart: {round(x_mess_smart_mean, 2)}')\n",
    "# рассчитаем оценку дисперсии\n",
    "var_mess_smart = np.var(x_mess_smart, ddof=1)\n",
    "# вывод оценки дисперсии для выборки по тарифу smart\n",
    "display(f'Оценка дисперсии количества сообщений для тарифа smart: {round(var_mess_smart, 2)}')\n",
    "# рассчитаем стандартное отклонение\n",
    "std_mess_smart = np.std(x_mess_smart, ddof=1)\n",
    "# вывод стандартного отклонения для выборки по тарифу smart\n",
    "display(f'Стандартное отклонение количества сообщений для тарифа smart: {round(std_mess_smart, 2)}')\n",
    "\n",
    "# посчитаем среднее количество сообщений по месяцам\n",
    "data_ultra_mess_mean = data_total_ultra.pivot_table(index='month', values='m_count', aggfunc='mean')\n",
    "# перезапустим индекс\n",
    "data_ultra_mess_mean = data_ultra_mess_mean.reset_index()\n",
    "# выведем на экран таблицу\n",
    "display(data_ultra_mess_mean)\n",
    "# создадим список из средних значений\n",
    "x_mess_ultra = list(data_ultra_mess_mean.loc[:, 'm_count'])\n",
    "# посчитаем среднее значение для выборки\n",
    "x_mess_ultra_mean = np.average(x_mess_ultra)\n",
    "# вывод среднего для выборки по тарифу ultra\n",
    "display(f'Среднее значение количества сообщений для тарифа ultra: {round(x_mess_ultra_mean, 2)}')\n",
    "# рассчитаем оценку дисперсии\n",
    "var_mess_ultra = np.var(x_mess_ultra, ddof=1)\n",
    "# вывод оценки дисперсии для выборки по тарифу ultra\n",
    "display(f'Оценка дисперсии количества сообщений для тарифа ultra: {round(var_mess_ultra, 2)}')\n",
    "# рассчитаем стандартное отклонение\n",
    "std_mess_ultra = np.std(x_mess_ultra, ddof=1)\n",
    "# вывод стандартного отклонения для выборки по тарифу ultra\n",
    "display(f'Стандартное отклонение количества сообщений для тарифа ultra: {round(std_mess_ultra, 2)}')"
   ]
  },
  {
   "cell_type": "code",
   "execution_count": 17,
   "metadata": {},
   "outputs": [
    {
     "data": {
      "image/png": "[encoded data removed]",
      "text/plain": [
       "<Figure size 640x480 with 1 Axes>"
      ]
     },
     "metadata": {},
     "output_type": "display_data"
    }
   ],
   "source": [
    "# ограничем график по оси y\n",
    "plt.ylim(-10, 170)\n",
    "# построим график типа boxplot\n",
    "data_total_smart.loc[:, ['m_count', 'city']].boxplot();"
   ]
  },
  {
   "cell_type": "code",
   "execution_count": 18,
   "metadata": {},
   "outputs": [
    {
     "data": {
      "image/png": "[encoded data removed]",
      "text/plain": [
       "<Figure size 640x480 with 1 Axes>"
      ]
     },
     "metadata": {},
     "output_type": "display_data"
    }
   ],
   "source": [
    "# ограничем график по оси y\n",
    "plt.ylim(-10, 300)\n",
    "# построим график типа boxplot\n",
    "data_total_ultra.loc[:, ['m_count', 'city']].boxplot();"
   ]
  },
  {
   "cell_type": "markdown",
   "metadata": {},
   "source": [
    "##### Гистограммы распределений для количества сообщений"
   ]
  },
  {
   "cell_type": "code",
   "execution_count": 19,
   "metadata": {},
   "outputs": [
    {
     "data": {
      "image/png": "[encoded data removed]",
      "text/plain": [
       "<Figure size 640x480 with 1 Axes>"
      ]
     },
     "metadata": {},
     "output_type": "display_data"
    }
   ],
   "source": [
    "# построим гистограмму распредлений количества сообщений для тарифа smart\n",
    "data_smart_mess_mean.loc[:, 'm_count'].plot(kind='hist', bins=[15, 20, 25, 30, 35, 40], alpha=0.5, title='Количество сообщений', legend=True);\n",
    "# построим гистограмму распредлений количества сообщений для тарифа ultra\n",
    "data_ultra_mess_mean.loc[:, 'm_count'].plot(kind='hist', bins=[20, 25, 30, 35, 40, 45, 50, 55, 60, 65], alpha=0.7, title='Количество сообщений', legend=True);"
   ]
  },
  {
   "cell_type": "code",
   "execution_count": 20,
   "metadata": {
    "scrolled": false
   },
   "outputs": [
    {
     "data": {
      "image/png": "[encoded data removed]",
      "text/plain": [
       "<Figure size 1000x600 with 1 Axes>"
      ]
     },
     "metadata": {},
     "output_type": "display_data"
    }
   ],
   "source": [
    "# срез для количества сообщений по тарифу smart\n",
    "smart_m = data_total.query('tariff_name == \"smart\"')['m_count']\n",
    "# срез для количества сообщений по тарифу ultra\n",
    "ultra_m = data_total.query('tariff_name == \"ultra\"')['m_count']\n",
    "# укажем размер графика\n",
    "plt.figure(figsize=(10,6))\n",
    "# создадим график для количества сообщений по тарифу samrt\n",
    "plt.hist(smart_m, bins=50, color='blue', edgecolor='grey', alpha=0.5, label = 'smart', density = False)\n",
    "# создадим график для количества сообщений по тарифу ultra\n",
    "plt.hist(ultra_m, bins=50, color='orange', edgecolor='grey', alpha=0.5, label = 'ultra', density = False)\n",
    "# добавим подписи к осям\n",
    "plt.xlabel('Количество сообщений')\n",
    "plt.ylabel('Количество в выборке')\n",
    "# добавим название графика\n",
    "plt.title('Количество сообщений в разрезе тарифов')\n",
    "# добавим легенду\n",
    "plt.legend()\n",
    "# выведем на экран\n",
    "plt.show()"
   ]
  },
  {
   "cell_type": "markdown",
   "metadata": {},
   "source": [
    "##### Вывод\n",
    "- Средние значения количества сообщений по месяцам не превышают количества сообщений включенных в тариф. А в тарифе `ultra` даже не превышают 100 сообщений в месяц, хотя в тариф включено 1000.\n",
    "- Оценка дисперсии для выборки с тарифом `ultra` выше средних значений.\n",
    "- По гистограмме частот можно заметить пик значения для тарифа `smart` в количестве 35 сообщений, для тарифа `ultra` явно выраженного значения не наблюдается, кроме небольшого пика также на 35 сообщениях."
   ]
  },
  {
   "cell_type": "markdown",
   "metadata": {},
   "source": [
    "#### Расчет среднего объема интернет-трафика, требующегося пользователям каждого тарифа в месяц"
   ]
  },
  {
   "cell_type": "code",
   "execution_count": 21,
   "metadata": {
    "scrolled": false
   },
   "outputs": [
    {
     "data": {
      "text/html": [
       "<div>\n",
       "<style scoped>\n",
       "    .dataframe tbody tr th:only-of-type {\n",
       "        vertical-align: middle;\n",
       "    }\n",
       "\n",
       "    .dataframe tbody tr th {\n",
       "        vertical-align: top;\n",
       "    }\n",
       "\n",
       "    .dataframe thead th {\n",
       "        text-align: right;\n",
       "    }\n",
       "</style>\n",
       "<table border=\"1\" class=\"dataframe\">\n",
       "  <thead>\n",
       "    <tr style=\"text-align: right;\">\n",
       "      <th></th>\n",
       "      <th>month</th>\n",
       "      <th>mb_sum</th>\n",
       "    </tr>\n",
       "  </thead>\n",
       "  <tbody>\n",
       "    <tr>\n",
       "      <th>0</th>\n",
       "      <td>1</td>\n",
       "      <td>8513.717647</td>\n",
       "    </tr>\n",
       "    <tr>\n",
       "      <th>1</th>\n",
       "      <td>2</td>\n",
       "      <td>11597.054310</td>\n",
       "    </tr>\n",
       "    <tr>\n",
       "      <th>2</th>\n",
       "      <td>3</td>\n",
       "      <td>15104.159091</td>\n",
       "    </tr>\n",
       "    <tr>\n",
       "      <th>3</th>\n",
       "      <td>4</td>\n",
       "      <td>13462.180625</td>\n",
       "    </tr>\n",
       "    <tr>\n",
       "      <th>4</th>\n",
       "      <td>5</td>\n",
       "      <td>15805.184326</td>\n",
       "    </tr>\n",
       "    <tr>\n",
       "      <th>5</th>\n",
       "      <td>6</td>\n",
       "      <td>15794.647988</td>\n",
       "    </tr>\n",
       "    <tr>\n",
       "      <th>6</th>\n",
       "      <td>7</td>\n",
       "      <td>15743.150348</td>\n",
       "    </tr>\n",
       "    <tr>\n",
       "      <th>7</th>\n",
       "      <td>8</td>\n",
       "      <td>16610.720085</td>\n",
       "    </tr>\n",
       "    <tr>\n",
       "      <th>8</th>\n",
       "      <td>9</td>\n",
       "      <td>16303.578808</td>\n",
       "    </tr>\n",
       "    <tr>\n",
       "      <th>9</th>\n",
       "      <td>10</td>\n",
       "      <td>16757.122891</td>\n",
       "    </tr>\n",
       "    <tr>\n",
       "      <th>10</th>\n",
       "      <td>11</td>\n",
       "      <td>16895.696646</td>\n",
       "    </tr>\n",
       "    <tr>\n",
       "      <th>11</th>\n",
       "      <td>12</td>\n",
       "      <td>18113.662047</td>\n",
       "    </tr>\n",
       "  </tbody>\n",
       "</table>\n",
       "</div>"
      ],
      "text/plain": [
       "    month        mb_sum\n",
       "0       1   8513.717647\n",
       "1       2  11597.054310\n",
       "2       3  15104.159091\n",
       "3       4  13462.180625\n",
       "4       5  15805.184326\n",
       "5       6  15794.647988\n",
       "6       7  15743.150348\n",
       "7       8  16610.720085\n",
       "8       9  16303.578808\n",
       "9      10  16757.122891\n",
       "10     11  16895.696646\n",
       "11     12  18113.662047"
      ]
     },
     "metadata": {},
     "output_type": "display_data"
    },
    {
     "data": {
      "text/plain": [
       "'Среднее значение интернет трафика для тарифа smart: 15058.41'"
      ]
     },
     "metadata": {},
     "output_type": "display_data"
    },
    {
     "data": {
      "text/plain": [
       "'Оценка дисперсии интернет трафика для тарифа smart: 7135321.34'"
      ]
     },
     "metadata": {},
     "output_type": "display_data"
    },
    {
     "data": {
      "text/plain": [
       "'Стандартное отклонение интернет трафика для тарифа smart: 2671.2'"
      ]
     },
     "metadata": {},
     "output_type": "display_data"
    },
    {
     "data": {
      "text/html": [
       "<div>\n",
       "<style scoped>\n",
       "    .dataframe tbody tr th:only-of-type {\n",
       "        vertical-align: middle;\n",
       "    }\n",
       "\n",
       "    .dataframe tbody tr th {\n",
       "        vertical-align: top;\n",
       "    }\n",
       "\n",
       "    .dataframe thead th {\n",
       "        text-align: right;\n",
       "    }\n",
       "</style>\n",
       "<table border=\"1\" class=\"dataframe\">\n",
       "  <thead>\n",
       "    <tr style=\"text-align: right;\">\n",
       "      <th></th>\n",
       "      <th>month</th>\n",
       "      <th>mb_sum</th>\n",
       "    </tr>\n",
       "  </thead>\n",
       "  <tbody>\n",
       "    <tr>\n",
       "      <th>0</th>\n",
       "      <td>1</td>\n",
       "      <td>13140.681111</td>\n",
       "    </tr>\n",
       "    <tr>\n",
       "      <th>1</th>\n",
       "      <td>2</td>\n",
       "      <td>11775.937500</td>\n",
       "    </tr>\n",
       "    <tr>\n",
       "      <th>2</th>\n",
       "      <td>3</td>\n",
       "      <td>17535.550270</td>\n",
       "    </tr>\n",
       "    <tr>\n",
       "      <th>3</th>\n",
       "      <td>4</td>\n",
       "      <td>16828.134364</td>\n",
       "    </tr>\n",
       "    <tr>\n",
       "      <th>4</th>\n",
       "      <td>5</td>\n",
       "      <td>19363.152985</td>\n",
       "    </tr>\n",
       "    <tr>\n",
       "      <th>5</th>\n",
       "      <td>6</td>\n",
       "      <td>18924.939286</td>\n",
       "    </tr>\n",
       "    <tr>\n",
       "      <th>6</th>\n",
       "      <td>7</td>\n",
       "      <td>20495.665165</td>\n",
       "    </tr>\n",
       "    <tr>\n",
       "      <th>7</th>\n",
       "      <td>8</td>\n",
       "      <td>19576.054673</td>\n",
       "    </tr>\n",
       "    <tr>\n",
       "      <th>8</th>\n",
       "      <td>9</td>\n",
       "      <td>19204.277130</td>\n",
       "    </tr>\n",
       "    <tr>\n",
       "      <th>9</th>\n",
       "      <td>10</td>\n",
       "      <td>20045.337317</td>\n",
       "    </tr>\n",
       "    <tr>\n",
       "      <th>10</th>\n",
       "      <td>11</td>\n",
       "      <td>19786.812463</td>\n",
       "    </tr>\n",
       "    <tr>\n",
       "      <th>11</th>\n",
       "      <td>12</td>\n",
       "      <td>21793.172590</td>\n",
       "    </tr>\n",
       "  </tbody>\n",
       "</table>\n",
       "</div>"
      ],
      "text/plain": [
       "    month        mb_sum\n",
       "0       1  13140.681111\n",
       "1       2  11775.937500\n",
       "2       3  17535.550270\n",
       "3       4  16828.134364\n",
       "4       5  19363.152985\n",
       "5       6  18924.939286\n",
       "6       7  20495.665165\n",
       "7       8  19576.054673\n",
       "8       9  19204.277130\n",
       "9      10  20045.337317\n",
       "10     11  19786.812463\n",
       "11     12  21793.172590"
      ]
     },
     "metadata": {},
     "output_type": "display_data"
    },
    {
     "data": {
      "text/plain": [
       "'Среднее значение интернет трафика для тарифа ultra: 18205.81'"
      ]
     },
     "metadata": {},
     "output_type": "display_data"
    },
    {
     "data": {
      "text/plain": [
       "'Оценка дисперсии интернет трафика для тарифа ultra: 8915742.06'"
      ]
     },
     "metadata": {},
     "output_type": "display_data"
    },
    {
     "data": {
      "text/plain": [
       "'Стандартное отклонение интернет трафика для тарифа ultra: 2985.92'"
      ]
     },
     "metadata": {},
     "output_type": "display_data"
    }
   ],
   "source": [
    "# посчитаем среднее количество интернет трафика по месяцам\n",
    "data_smart_inter_mean = data_total_smart.pivot_table(index='month', values='mb_sum', aggfunc='mean')\n",
    "# перезапустим индекс\n",
    "data_smart_inter_mean = data_smart_inter_mean.reset_index()\n",
    "# выведем на экран таблицу\n",
    "display(data_smart_inter_mean)\n",
    "# создадим список из средних значений\n",
    "x_int_smart = list(data_smart_inter_mean.loc[:, 'mb_sum'])\n",
    "# посчитаем среднее значение для выборки\n",
    "x_int_smart_mean = np.average(x_int_smart)\n",
    "# вывод среднего для выборки по тарифу smart\n",
    "display(f'Среднее значение интернет трафика для тарифа smart: {round(x_int_smart_mean, 2)}')\n",
    "# рассчитаем оценку дисперсии\n",
    "var_int_smart = np.var(x_int_smart, ddof=1)\n",
    "# вывод оценки дисперсии для выборки по тарифу smart\n",
    "display(f'Оценка дисперсии интернет трафика для тарифа smart: {round(var_int_smart, 2)}')\n",
    "# рассчитаем стандартное отклонение\n",
    "std_int_smart = np.std(x_int_smart, ddof=1)\n",
    "# вывод стандартного отклонения для выборки по тарифу smart\n",
    "display(f'Стандартное отклонение интернет трафика для тарифа smart: {round(std_int_smart, 2)}')\n",
    "\n",
    "# посчитаем среднее количество интернет трафика по месяцам\n",
    "data_ultra_inter_mean = data_total_ultra.pivot_table(index='month', values='mb_sum', aggfunc='mean')\n",
    "# перезапустим индекс\n",
    "data_ultra_inter_mean = data_ultra_inter_mean.reset_index()\n",
    "# выведем на экран таблицу\n",
    "display(data_ultra_inter_mean)\n",
    "# создадим список из средних значений\n",
    "x_int_ultra = list(data_ultra_inter_mean.loc[:, 'mb_sum'])\n",
    "# посчитаем среднее значение для выборки\n",
    "x_int_ultra_mean = np.average(x_int_ultra)\n",
    "# вывод среднего для выборки по тарифу ultra\n",
    "display(f'Среднее значение интернет трафика для тарифа ultra: {round(x_int_ultra_mean, 2)}')\n",
    "# рассчитаем оценку дисперсии\n",
    "var_int_ultra = np.var(x_int_ultra, ddof=1)\n",
    "# вывод оценки дисперсии для выборки по тарифу ultra\n",
    "display(f'Оценка дисперсии интернет трафика для тарифа ultra: {round(var_int_ultra, 2)}')\n",
    "# рассчитаем стандартное отклонение\n",
    "std_int_ultra = np.std(x_int_ultra, ddof=1)\n",
    "# вывод стандартного отклонения для выборки по тарифу ultra\n",
    "display(f'Стандартное отклонение интернет трафика для тарифа ultra: {round(std_int_ultra, 2)}')"
   ]
  },
  {
   "cell_type": "code",
   "execution_count": 22,
   "metadata": {},
   "outputs": [
    {
     "data": {
      "image/png": "[encoded data removed]",
      "text/plain": [
       "<Figure size 640x480 with 1 Axes>"
      ]
     },
     "metadata": {},
     "output_type": "display_data"
    }
   ],
   "source": [
    "# ограничем график по оси y\n",
    "plt.ylim(-1000, 50000)\n",
    "# построим график типа boxplot\n",
    "data_total_smart.loc[:, ['mb_sum', 'city']].boxplot();"
   ]
  },
  {
   "cell_type": "code",
   "execution_count": 23,
   "metadata": {},
   "outputs": [
    {
     "data": {
      "image/png": "[encoded data removed]",
      "text/plain": [
       "<Figure size 640x480 with 1 Axes>"
      ]
     },
     "metadata": {},
     "output_type": "display_data"
    }
   ],
   "source": [
    "# ограничем график по оси y\n",
    "plt.ylim(-1000, 60000)\n",
    "# построим график типа boxplot\n",
    "data_total_ultra.loc[:, ['mb_sum', 'city']].boxplot();"
   ]
  },
  {
   "cell_type": "markdown",
   "metadata": {},
   "source": [
    "##### Гистограммы распределений для интернет трафика"
   ]
  },
  {
   "cell_type": "code",
   "execution_count": 24,
   "metadata": {},
   "outputs": [
    {
     "data": {
      "image/png": "[encoded data removed]",
      "text/plain": [
       "<Figure size 640x480 with 1 Axes>"
      ]
     },
     "metadata": {},
     "output_type": "display_data"
    }
   ],
   "source": [
    "# построим гистограмму распредлений интернет трафика для тарифа smart\n",
    "data_smart_inter_mean.loc[:, 'mb_sum'].plot(kind='hist', bins=[8000, 9000, 10000, 11000, 12000, 13000, 14000, 15000, 16000, 17000], alpha=0.5, title='Количество интернет трафика', legend=True);\n",
    "# построим гистограмму распредлений интернет трафик для тарифа ultra\n",
    "data_ultra_inter_mean.loc[:, 'mb_sum'].plot(kind='hist', bins=[11000, 12000, 13000, 14000, 15000, 16000, 17000, 18000, 19000, 20000, 21000, 22000], alpha=0.7, title='Количество интернет трафика', legend=True);"
   ]
  },
  {
   "cell_type": "code",
   "execution_count": 25,
   "metadata": {
    "scrolled": false
   },
   "outputs": [
    {
     "data": {
      "image/png": "[encoded data removed]",
      "text/plain": [
       "<Figure size 1000x600 with 1 Axes>"
      ]
     },
     "metadata": {},
     "output_type": "display_data"
    }
   ],
   "source": [
    "# срез для количества интернет трафика по тарифу smart\n",
    "smart_i = data_total.query('tariff_name == \"smart\"')['mb_sum']\n",
    "# срез для количества интернет трафика по тарифу ultra\n",
    "ultra_i = data_total.query('tariff_name == \"ultra\"')['mb_sum']\n",
    "# укажем размер графика\n",
    "plt.figure(figsize=(10,6))\n",
    "# создадим график для количества интернет трафика по тарифу samrt\n",
    "plt.hist(smart_i, bins=50, color='blue', edgecolor='grey', alpha=0.5, label = 'smart', density = False)\n",
    "# создадим график для количества интернет трафика по тарифу ultra\n",
    "plt.hist(ultra_i, bins=50, color='orange', edgecolor='grey', alpha=0.5, label = 'ultra', density = False)\n",
    "# добавим подписи к осям\n",
    "plt.xlabel('Количество интернет трафика')\n",
    "plt.ylabel('Количество в выборке')\n",
    "# добавим название графика\n",
    "plt.title('Количество интернет трафика в разрезе тарифов')\n",
    "# добавим легенду\n",
    "plt.legend()\n",
    "# выведем на экран\n",
    "plt.show()"
   ]
  },
  {
   "cell_type": "markdown",
   "metadata": {},
   "source": [
    "##### Вывод\n",
    "- Средние значения количества интернет-трафика по месяцам превышают или равно количеству мегабайт включенных в тариф `smart` в большинстве случаев. А в тарифе `ultra` ни разу не превышают количество мегабайт доступных в течении месяца.\n",
    "- Оценка дисперсии значительно выше в обоих выборках с данными о интернет трафике.\n",
    "- По гистограмме частот можно заметить пик значений для тарифа `smart` в районе 16000 мб, а для тарифа `ultra` это 19000 мб. "
   ]
  },
  {
   "cell_type": "markdown",
   "metadata": {},
   "source": [
    "#### Расчет общей выручки по тарифу `smart` и тарифу `ultra`"
   ]
  },
  {
   "cell_type": "code",
   "execution_count": 26,
   "metadata": {},
   "outputs": [
    {
     "data": {
      "text/plain": [
       "'Выручка по тарифу smart составляет 2875351.0 рублей'"
      ]
     },
     "metadata": {},
     "output_type": "display_data"
    },
    {
     "data": {
      "text/plain": [
       "'Выручка по тарифу ultra составляет 2039100.0 рублей'"
      ]
     },
     "metadata": {},
     "output_type": "display_data"
    }
   ],
   "source": [
    "# создадим список для выручки по тарифу smart\n",
    "smart = data_total.query('tariff_name == \"smart\"')['revenue'] \n",
    "# создадим список для выручки по тарифу ultra\n",
    "ultra = data_total.query('tariff_name == \"ultra\"')['revenue']\n",
    "# расчет выручки по тарифу smart\n",
    "rev_smart = smart.sum()\n",
    "# вывод на экран\n",
    "display(f'Выручка по тарифу smart составляет {rev_smart} рублей')\n",
    "# расчет выручки по тарифу ultra\n",
    "rev_ultra = ultra.sum()\n",
    "# вывод на экран\n",
    "display(f'Выручка по тарифу ultra составляет {rev_ultra} рублей')"
   ]
  },
  {
   "cell_type": "markdown",
   "metadata": {},
   "source": [
    "### Шаг 4. Проверка гипотез"
   ]
  },
  {
   "cell_type": "markdown",
   "metadata": {},
   "source": [
    "- Средняя выручка пользователей тарифов «Ультра» и «Смарт» различаются.\n",
    "- Средняя выручка пользователей из Москвы отличается от выручки пользователей из других регионов."
   ]
  },
  {
   "cell_type": "markdown",
   "metadata": {},
   "source": [
    "#### Проверка первой гипотезы:"
   ]
  },
  {
   "cell_type": "markdown",
   "metadata": {},
   "source": [
    "- H0 - Средняя выручка пользователей тарифов «Ультра» и «Смарт» не различается.\n",
    "- Н1 - Средняя выручка пользователей тарифов «Ультра» и «Смарт» различаются."
   ]
  },
  {
   "cell_type": "code",
   "execution_count": 27,
   "metadata": {
    "scrolled": true
   },
   "outputs": [
    {
     "data": {
      "text/plain": [
       "'p-значение: 4.2606313931076085e-250'"
      ]
     },
     "metadata": {},
     "output_type": "display_data"
    },
    {
     "data": {
      "text/plain": [
       "'Отвергаем нулевую гипотезу'"
      ]
     },
     "metadata": {},
     "output_type": "display_data"
    }
   ],
   "source": [
    "# создадим список для выручки по тарифу smart\n",
    "# smart = data_total.query('tariff_name == \"smart\"')['revenue'] \n",
    "# создадим список для выручки по тарифу ultra\n",
    "# ultra = data_total.query('tariff_name == \"ultra\"')['revenue']\n",
    "# уровень значимости\n",
    "alpha = 0.05\n",
    "# проверка с помощью t-теста\n",
    "results = st.ttest_ind(smart, ultra, equal_var = False)\n",
    "# выведем значение p-value \n",
    "display(f'p-значение: {results.pvalue}') \n",
    "# сравним c полученным уровнем значимости\n",
    "if results.pvalue < alpha: \n",
    "# выведем результат сравнения на экран\n",
    "    display(\"Отвергаем нулевую гипотезу\")\n",
    "else:\n",
    "    display(\"Не получилось отвергнуть нулевую гипотезу\")"
   ]
  },
  {
   "cell_type": "markdown",
   "metadata": {},
   "source": [
    "##### Вывод"
   ]
  },
  {
   "cell_type": "markdown",
   "metadata": {},
   "source": [
    "Вероятность случайно получить схожую выручку с обоих тарифов крайне мала, p-значение слишком маленькое, можем сделать вывод о значимом различии между средней выручкой тарифа \"Смарт\" и тарифа \"Ультра\"."
   ]
  },
  {
   "cell_type": "markdown",
   "metadata": {},
   "source": [
    "#### Проверка второй гипотезы:"
   ]
  },
  {
   "cell_type": "markdown",
   "metadata": {},
   "source": [
    "- H0 - Средняя выручка пользователей из Москвы не отличается от выручки пользователей из других регионов.\n",
    "- Н1 - Средняя выручка пользователей из Москвы отличается от выручки пользователей из других регионов."
   ]
  },
  {
   "cell_type": "code",
   "execution_count": 28,
   "metadata": {
    "scrolled": false
   },
   "outputs": [
    {
     "data": {
      "text/plain": [
       "'p-значение: 0.5257376663729298'"
      ]
     },
     "metadata": {},
     "output_type": "display_data"
    },
    {
     "data": {
      "text/plain": [
       "'Не получилось отвергнуть нулевую гипотезу'"
      ]
     },
     "metadata": {},
     "output_type": "display_data"
    }
   ],
   "source": [
    "# создадим список для выручки по тарифу smart\n",
    "moscow = data_total.query('city == \"Москва\"')['revenue'] \n",
    "# создадим список для выручки по тарифу ultra\n",
    "other = data_total.query('city != \"Москва\"')['revenue']\n",
    "# уровень значимости\n",
    "alpha = 0.05\n",
    "# проверка с помощью t-теста\n",
    "results_two = st.ttest_ind(moscow, other, equal_var = False)\n",
    "# выведем значение p-value \n",
    "display(f'p-значение: {results_two.pvalue}') \n",
    "# сравним c полученным уровнем значимости\n",
    "if results_two.pvalue < alpha: \n",
    "# выведем результат сравнения на экран\n",
    "    display(\"Отвергаем нулевую гипотезу\")\n",
    "else:\n",
    "    display(\"Не получилось отвергнуть нулевую гипотезу\")"
   ]
  },
  {
   "cell_type": "markdown",
   "metadata": {},
   "source": [
    "##### Вывод"
   ]
  },
  {
   "cell_type": "markdown",
   "metadata": {},
   "source": [
    "Вероятность случайно получить схожую выручку для Москвы и регионов очень высокая, p-значение равно 52%, можем сделать вывод о незначительном различии между средней выручкой для Москвы и регионов."
   ]
  }
 ],
 "metadata": {
  "ExecuteTimeLog": [
   {
    "duration": 48,
    "start_time": "2022-07-13T10:38:03.864Z"
   },
   {
    "duration": 385,
    "start_time": "2022-07-13T10:38:05.536Z"
   },
   {
    "duration": 259,
    "start_time": "2022-07-13T10:38:07.679Z"
   },
   {
    "duration": 319,
    "start_time": "2022-07-13T10:38:34.621Z"
   },
   {
    "duration": 144,
    "start_time": "2022-07-13T10:38:54.360Z"
   },
   {
    "duration": 45,
    "start_time": "2022-07-13T10:39:20.284Z"
   },
   {
    "duration": 26,
    "start_time": "2022-07-13T10:39:30.835Z"
   },
   {
    "duration": 59,
    "start_time": "2022-07-13T10:39:58.286Z"
   },
   {
    "duration": 35,
    "start_time": "2022-07-13T10:40:43.011Z"
   },
   {
    "duration": 3,
    "start_time": "2022-07-13T10:50:21.915Z"
   },
   {
    "duration": 55,
    "start_time": "2022-07-13T13:04:57.649Z"
   },
   {
    "duration": 65,
    "start_time": "2022-07-13T13:05:07.336Z"
   },
   {
    "duration": 17,
    "start_time": "2022-07-13T13:05:23.463Z"
   },
   {
    "duration": 173,
    "start_time": "2022-07-13T13:09:45.909Z"
   },
   {
    "duration": 45,
    "start_time": "2022-07-13T13:11:40.133Z"
   },
   {
    "duration": 40,
    "start_time": "2022-07-13T13:11:47.934Z"
   },
   {
    "duration": 45,
    "start_time": "2022-07-13T13:12:54.334Z"
   },
   {
    "duration": 54,
    "start_time": "2022-07-13T13:12:58.703Z"
   },
   {
    "duration": 76,
    "start_time": "2022-07-13T13:37:25.929Z"
   },
   {
    "duration": 40,
    "start_time": "2022-07-13T13:37:36.198Z"
   },
   {
    "duration": 34,
    "start_time": "2022-07-13T13:37:43.171Z"
   },
   {
    "duration": 70,
    "start_time": "2022-07-13T13:38:14.755Z"
   },
   {
    "duration": 38,
    "start_time": "2022-07-13T13:39:48.706Z"
   },
   {
    "duration": 37,
    "start_time": "2022-07-13T13:52:33.166Z"
   },
   {
    "duration": 76,
    "start_time": "2022-07-13T13:52:38.095Z"
   },
   {
    "duration": 39,
    "start_time": "2022-07-13T14:11:42.500Z"
   },
   {
    "duration": 65,
    "start_time": "2022-07-13T14:12:52.253Z"
   },
   {
    "duration": 75,
    "start_time": "2022-07-13T14:13:15.917Z"
   },
   {
    "duration": 425,
    "start_time": "2022-07-13T14:14:53.990Z"
   },
   {
    "duration": 239,
    "start_time": "2022-07-13T14:14:54.417Z"
   },
   {
    "duration": 313,
    "start_time": "2022-07-13T14:14:54.658Z"
   },
   {
    "duration": 146,
    "start_time": "2022-07-13T14:14:54.973Z"
   },
   {
    "duration": 42,
    "start_time": "2022-07-13T14:14:55.121Z"
   },
   {
    "duration": 51,
    "start_time": "2022-07-13T14:14:55.164Z"
   },
   {
    "duration": 3,
    "start_time": "2022-07-13T14:14:55.216Z"
   },
   {
    "duration": 111,
    "start_time": "2022-07-13T14:14:55.220Z"
   },
   {
    "duration": 48,
    "start_time": "2022-07-13T14:15:54.925Z"
   },
   {
    "duration": 410,
    "start_time": "2022-07-13T14:16:02.057Z"
   },
   {
    "duration": 251,
    "start_time": "2022-07-13T14:16:02.468Z"
   },
   {
    "duration": 319,
    "start_time": "2022-07-13T14:16:02.721Z"
   },
   {
    "duration": 144,
    "start_time": "2022-07-13T14:16:03.042Z"
   },
   {
    "duration": 43,
    "start_time": "2022-07-13T14:16:03.187Z"
   },
   {
    "duration": 53,
    "start_time": "2022-07-13T14:16:03.232Z"
   },
   {
    "duration": 4,
    "start_time": "2022-07-13T14:16:03.287Z"
   },
   {
    "duration": 102,
    "start_time": "2022-07-13T14:16:03.292Z"
   },
   {
    "duration": 47,
    "start_time": "2022-07-13T14:16:49.180Z"
   },
   {
    "duration": 378,
    "start_time": "2022-07-13T14:16:58.252Z"
   },
   {
    "duration": 240,
    "start_time": "2022-07-13T14:16:58.632Z"
   },
   {
    "duration": 318,
    "start_time": "2022-07-13T14:16:58.874Z"
   },
   {
    "duration": 158,
    "start_time": "2022-07-13T14:16:59.195Z"
   },
   {
    "duration": 42,
    "start_time": "2022-07-13T14:16:59.354Z"
   },
   {
    "duration": 51,
    "start_time": "2022-07-13T14:16:59.398Z"
   },
   {
    "duration": 3,
    "start_time": "2022-07-13T14:16:59.450Z"
   },
   {
    "duration": 94,
    "start_time": "2022-07-13T14:16:59.456Z"
   },
   {
    "duration": 78,
    "start_time": "2022-07-13T14:16:59.552Z"
   },
   {
    "duration": 80,
    "start_time": "2022-07-13T14:17:10.050Z"
   },
   {
    "duration": 77,
    "start_time": "2022-07-13T14:17:54.598Z"
   },
   {
    "duration": 18,
    "start_time": "2022-07-13T14:18:25.090Z"
   },
   {
    "duration": 33,
    "start_time": "2022-07-13T14:18:28.874Z"
   },
   {
    "duration": 17,
    "start_time": "2022-07-13T14:18:37.779Z"
   },
   {
    "duration": 59,
    "start_time": "2022-07-13T14:20:00.593Z"
   },
   {
    "duration": 13,
    "start_time": "2022-07-13T14:23:51.179Z"
   },
   {
    "duration": 51,
    "start_time": "2022-07-13T14:24:19.448Z"
   },
   {
    "duration": 95,
    "start_time": "2022-07-13T14:25:05.944Z"
   },
   {
    "duration": 59,
    "start_time": "2022-07-13T14:26:12.146Z"
   },
   {
    "duration": 66,
    "start_time": "2022-07-13T14:26:15.583Z"
   },
   {
    "duration": 132,
    "start_time": "2022-07-13T14:26:21.469Z"
   },
   {
    "duration": 74,
    "start_time": "2022-07-13T14:26:53.935Z"
   },
   {
    "duration": 63,
    "start_time": "2022-07-13T14:27:17.711Z"
   },
   {
    "duration": 108,
    "start_time": "2022-07-13T14:27:27.655Z"
   },
   {
    "duration": 75,
    "start_time": "2022-07-13T14:27:46.668Z"
   },
   {
    "duration": 20,
    "start_time": "2022-07-13T14:35:28.605Z"
   },
   {
    "duration": 23,
    "start_time": "2022-07-13T14:35:46.645Z"
   },
   {
    "duration": 13,
    "start_time": "2022-07-13T14:36:29.254Z"
   },
   {
    "duration": 9,
    "start_time": "2022-07-13T14:37:54.524Z"
   },
   {
    "duration": 9,
    "start_time": "2022-07-13T14:38:26.020Z"
   },
   {
    "duration": 10,
    "start_time": "2022-07-13T14:40:02.510Z"
   },
   {
    "duration": 10,
    "start_time": "2022-07-13T14:41:49.392Z"
   },
   {
    "duration": 11,
    "start_time": "2022-07-13T14:42:30.284Z"
   },
   {
    "duration": 414,
    "start_time": "2022-07-13T14:42:44.907Z"
   },
   {
    "duration": 190,
    "start_time": "2022-07-13T14:42:45.323Z"
   },
   {
    "duration": 162,
    "start_time": "2022-07-13T14:42:45.515Z"
   },
   {
    "duration": 119,
    "start_time": "2022-07-13T14:42:45.679Z"
   },
   {
    "duration": 21,
    "start_time": "2022-07-13T14:42:45.809Z"
   },
   {
    "duration": 30,
    "start_time": "2022-07-13T14:42:45.832Z"
   },
   {
    "duration": 2,
    "start_time": "2022-07-13T14:42:45.864Z"
   },
   {
    "duration": 101,
    "start_time": "2022-07-13T14:42:45.868Z"
   },
   {
    "duration": 75,
    "start_time": "2022-07-13T14:42:45.970Z"
   },
   {
    "duration": 47,
    "start_time": "2022-07-13T14:43:02.896Z"
   },
   {
    "duration": 6,
    "start_time": "2022-07-13T14:43:11.972Z"
   },
   {
    "duration": 378,
    "start_time": "2022-07-13T14:43:17.732Z"
   },
   {
    "duration": 239,
    "start_time": "2022-07-13T14:43:18.112Z"
   },
   {
    "duration": 317,
    "start_time": "2022-07-13T14:43:18.352Z"
   },
   {
    "duration": 155,
    "start_time": "2022-07-13T14:43:18.671Z"
   },
   {
    "duration": 40,
    "start_time": "2022-07-13T14:43:18.828Z"
   },
   {
    "duration": 49,
    "start_time": "2022-07-13T14:43:18.869Z"
   },
   {
    "duration": 2,
    "start_time": "2022-07-13T14:43:18.920Z"
   },
   {
    "duration": 87,
    "start_time": "2022-07-13T14:43:18.923Z"
   },
   {
    "duration": 378,
    "start_time": "2022-07-13T14:43:40.131Z"
   },
   {
    "duration": 258,
    "start_time": "2022-07-13T14:43:40.511Z"
   },
   {
    "duration": 321,
    "start_time": "2022-07-13T14:43:40.770Z"
   },
   {
    "duration": 166,
    "start_time": "2022-07-13T14:43:41.093Z"
   },
   {
    "duration": 43,
    "start_time": "2022-07-13T14:43:41.260Z"
   },
   {
    "duration": 68,
    "start_time": "2022-07-13T14:43:41.305Z"
   },
   {
    "duration": 3,
    "start_time": "2022-07-13T14:43:41.374Z"
   },
   {
    "duration": 118,
    "start_time": "2022-07-13T14:43:41.378Z"
   },
   {
    "duration": 52,
    "start_time": "2022-07-13T14:44:02.015Z"
   },
   {
    "duration": 433,
    "start_time": "2022-07-13T14:44:12.909Z"
   },
   {
    "duration": 253,
    "start_time": "2022-07-13T14:44:13.344Z"
   },
   {
    "duration": 326,
    "start_time": "2022-07-13T14:44:13.599Z"
   },
   {
    "duration": 149,
    "start_time": "2022-07-13T14:44:13.927Z"
   },
   {
    "duration": 45,
    "start_time": "2022-07-13T14:44:14.078Z"
   },
   {
    "duration": 55,
    "start_time": "2022-07-13T14:44:14.125Z"
   },
   {
    "duration": 3,
    "start_time": "2022-07-13T14:44:14.181Z"
   },
   {
    "duration": 81,
    "start_time": "2022-07-13T14:44:14.185Z"
   },
   {
    "duration": 114,
    "start_time": "2022-07-13T14:44:14.268Z"
   },
   {
    "duration": 84,
    "start_time": "2022-07-13T14:44:39.362Z"
   },
   {
    "duration": 40,
    "start_time": "2022-07-13T14:44:50.267Z"
   },
   {
    "duration": 407,
    "start_time": "2022-07-13T15:12:14.913Z"
   },
   {
    "duration": 240,
    "start_time": "2022-07-13T15:12:15.322Z"
   },
   {
    "duration": 317,
    "start_time": "2022-07-13T15:12:15.564Z"
   },
   {
    "duration": 144,
    "start_time": "2022-07-13T15:12:15.883Z"
   },
   {
    "duration": 43,
    "start_time": "2022-07-13T15:12:16.029Z"
   },
   {
    "duration": 60,
    "start_time": "2022-07-13T15:12:16.074Z"
   },
   {
    "duration": 2,
    "start_time": "2022-07-13T15:12:16.136Z"
   },
   {
    "duration": 83,
    "start_time": "2022-07-13T15:12:16.140Z"
   },
   {
    "duration": 439,
    "start_time": "2022-07-13T15:13:31.388Z"
   },
   {
    "duration": 246,
    "start_time": "2022-07-13T15:13:31.829Z"
   },
   {
    "duration": 324,
    "start_time": "2022-07-13T15:13:32.077Z"
   },
   {
    "duration": 144,
    "start_time": "2022-07-13T15:13:32.404Z"
   },
   {
    "duration": 44,
    "start_time": "2022-07-13T15:13:32.550Z"
   },
   {
    "duration": 53,
    "start_time": "2022-07-13T15:13:32.596Z"
   },
   {
    "duration": 3,
    "start_time": "2022-07-13T15:13:32.651Z"
   },
   {
    "duration": 80,
    "start_time": "2022-07-13T15:13:32.655Z"
   },
   {
    "duration": 417,
    "start_time": "2022-07-13T15:14:05.592Z"
   },
   {
    "duration": 242,
    "start_time": "2022-07-13T15:14:06.011Z"
   },
   {
    "duration": 324,
    "start_time": "2022-07-13T15:14:06.254Z"
   },
   {
    "duration": 144,
    "start_time": "2022-07-13T15:14:06.580Z"
   },
   {
    "duration": 44,
    "start_time": "2022-07-13T15:14:06.725Z"
   },
   {
    "duration": 50,
    "start_time": "2022-07-13T15:14:06.770Z"
   },
   {
    "duration": 2,
    "start_time": "2022-07-13T15:14:06.822Z"
   },
   {
    "duration": 79,
    "start_time": "2022-07-13T15:14:06.825Z"
   },
   {
    "duration": 45,
    "start_time": "2022-07-13T15:31:30.680Z"
   },
   {
    "duration": 388,
    "start_time": "2022-07-13T15:31:40.223Z"
   },
   {
    "duration": 241,
    "start_time": "2022-07-13T15:31:40.613Z"
   },
   {
    "duration": 323,
    "start_time": "2022-07-13T15:31:40.855Z"
   },
   {
    "duration": 144,
    "start_time": "2022-07-13T15:31:41.180Z"
   },
   {
    "duration": 43,
    "start_time": "2022-07-13T15:31:41.326Z"
   },
   {
    "duration": 51,
    "start_time": "2022-07-13T15:31:41.370Z"
   },
   {
    "duration": 2,
    "start_time": "2022-07-13T15:31:41.422Z"
   },
   {
    "duration": 101,
    "start_time": "2022-07-13T15:31:41.426Z"
   },
   {
    "duration": 67,
    "start_time": "2022-07-13T15:31:41.529Z"
   },
   {
    "duration": 80,
    "start_time": "2022-07-13T15:33:15.004Z"
   },
   {
    "duration": 57,
    "start_time": "2022-07-13T15:34:20.268Z"
   },
   {
    "duration": 35,
    "start_time": "2022-07-13T15:35:08.220Z"
   },
   {
    "duration": 55,
    "start_time": "2022-07-13T15:35:20.499Z"
   },
   {
    "duration": 55,
    "start_time": "2022-07-13T15:36:08.251Z"
   },
   {
    "duration": 96,
    "start_time": "2022-07-13T15:37:16.164Z"
   },
   {
    "duration": 76,
    "start_time": "2022-07-13T15:37:48.011Z"
   },
   {
    "duration": 64,
    "start_time": "2022-07-13T15:38:08.057Z"
   },
   {
    "duration": 76,
    "start_time": "2022-07-13T15:38:41.251Z"
   },
   {
    "duration": 73,
    "start_time": "2022-07-13T15:39:23.939Z"
   },
   {
    "duration": 67,
    "start_time": "2022-07-13T15:39:44.797Z"
   },
   {
    "duration": 59,
    "start_time": "2022-07-13T15:41:14.111Z"
   },
   {
    "duration": 75,
    "start_time": "2022-07-13T15:42:43.059Z"
   },
   {
    "duration": 96,
    "start_time": "2022-07-13T15:43:22.546Z"
   },
   {
    "duration": 132,
    "start_time": "2022-07-13T15:44:07.522Z"
   },
   {
    "duration": 133,
    "start_time": "2022-07-13T15:45:23.842Z"
   },
   {
    "duration": 138,
    "start_time": "2022-07-13T15:45:37.643Z"
   },
   {
    "duration": 71,
    "start_time": "2022-07-13T15:52:09.192Z"
   },
   {
    "duration": 43,
    "start_time": "2022-07-13T15:52:17.368Z"
   },
   {
    "duration": 121,
    "start_time": "2022-07-13T15:52:22.137Z"
   },
   {
    "duration": 34,
    "start_time": "2022-07-13T15:54:13.484Z"
   },
   {
    "duration": 114,
    "start_time": "2022-07-13T15:54:56.728Z"
   },
   {
    "duration": 23,
    "start_time": "2022-07-13T15:56:11.225Z"
   },
   {
    "duration": 38,
    "start_time": "2022-07-13T15:56:30.560Z"
   },
   {
    "duration": 35,
    "start_time": "2022-07-13T15:57:47.823Z"
   },
   {
    "duration": 52,
    "start_time": "2022-07-13T15:58:19.112Z"
   },
   {
    "duration": 41,
    "start_time": "2022-07-13T15:58:39.880Z"
   },
   {
    "duration": 1308,
    "start_time": "2022-07-13T16:10:58.390Z"
   },
   {
    "duration": 992,
    "start_time": "2022-07-13T16:14:56.926Z"
   },
   {
    "duration": 54,
    "start_time": "2022-07-13T16:16:05.118Z"
   },
   {
    "duration": 65,
    "start_time": "2022-07-13T16:16:17.679Z"
   },
   {
    "duration": 101,
    "start_time": "2022-07-13T16:16:29.208Z"
   },
   {
    "duration": 79,
    "start_time": "2022-07-13T16:17:29.055Z"
   },
   {
    "duration": 88,
    "start_time": "2022-07-13T16:18:44.541Z"
   },
   {
    "duration": 88,
    "start_time": "2022-07-13T16:18:54.609Z"
   },
   {
    "duration": 120,
    "start_time": "2022-07-13T16:19:03.653Z"
   },
   {
    "duration": 78,
    "start_time": "2022-07-13T16:21:54.253Z"
   },
   {
    "duration": 23,
    "start_time": "2022-07-13T16:22:26.260Z"
   },
   {
    "duration": 11,
    "start_time": "2022-07-13T16:25:18.815Z"
   },
   {
    "duration": 4,
    "start_time": "2022-07-13T16:27:29.861Z"
   },
   {
    "duration": 10,
    "start_time": "2022-07-13T16:27:34.035Z"
   },
   {
    "duration": 8,
    "start_time": "2022-07-13T16:27:48.067Z"
   },
   {
    "duration": 11,
    "start_time": "2022-07-13T16:27:51.738Z"
   },
   {
    "duration": 21,
    "start_time": "2022-07-13T16:28:25.944Z"
   },
   {
    "duration": 21,
    "start_time": "2022-07-13T16:29:53.468Z"
   },
   {
    "duration": 10,
    "start_time": "2022-07-13T16:29:57.398Z"
   },
   {
    "duration": 11,
    "start_time": "2022-07-13T16:30:07.155Z"
   },
   {
    "duration": 9,
    "start_time": "2022-07-13T16:31:29.220Z"
   },
   {
    "duration": 9,
    "start_time": "2022-07-13T16:31:45.788Z"
   },
   {
    "duration": 10,
    "start_time": "2022-07-13T16:31:51.097Z"
   },
   {
    "duration": 10,
    "start_time": "2022-07-13T16:31:58.618Z"
   },
   {
    "duration": 15,
    "start_time": "2022-07-13T16:32:20.346Z"
   },
   {
    "duration": 11,
    "start_time": "2022-07-13T16:32:34.635Z"
   },
   {
    "duration": 16,
    "start_time": "2022-07-13T16:33:02.163Z"
   },
   {
    "duration": 23,
    "start_time": "2022-07-13T16:33:38.091Z"
   },
   {
    "duration": 70,
    "start_time": "2022-07-13T16:33:55.587Z"
   },
   {
    "duration": 60,
    "start_time": "2022-07-13T16:35:25.987Z"
   },
   {
    "duration": 61,
    "start_time": "2022-07-13T16:35:38.677Z"
   },
   {
    "duration": 87,
    "start_time": "2022-07-13T16:35:48.405Z"
   },
   {
    "duration": 144,
    "start_time": "2022-07-13T16:36:19.170Z"
   },
   {
    "duration": 154,
    "start_time": "2022-07-13T16:36:51.442Z"
   },
   {
    "duration": 133,
    "start_time": "2022-07-13T16:37:10.450Z"
   },
   {
    "duration": 66,
    "start_time": "2022-07-13T16:40:59.922Z"
   },
   {
    "duration": 372,
    "start_time": "2022-07-13T16:41:10.945Z"
   },
   {
    "duration": 339,
    "start_time": "2022-07-13T16:41:50.986Z"
   },
   {
    "duration": 313,
    "start_time": "2022-07-13T16:42:25.426Z"
   },
   {
    "duration": 312,
    "start_time": "2022-07-13T16:43:22.933Z"
   },
   {
    "duration": 271,
    "start_time": "2022-07-13T16:44:21.688Z"
   },
   {
    "duration": 388,
    "start_time": "2022-07-13T16:44:28.576Z"
   },
   {
    "duration": 268,
    "start_time": "2022-07-13T16:51:48.353Z"
   },
   {
    "duration": 83,
    "start_time": "2022-07-13T16:55:35.454Z"
   },
   {
    "duration": 27,
    "start_time": "2022-07-13T16:55:41.230Z"
   },
   {
    "duration": 27,
    "start_time": "2022-07-13T16:57:23.807Z"
   },
   {
    "duration": 49,
    "start_time": "2022-07-13T16:58:32.002Z"
   },
   {
    "duration": 47,
    "start_time": "2022-07-13T16:58:46.597Z"
   },
   {
    "duration": 407,
    "start_time": "2022-07-13T16:59:13.813Z"
   },
   {
    "duration": 386,
    "start_time": "2022-07-13T16:59:43.616Z"
   },
   {
    "duration": 197,
    "start_time": "2022-07-13T16:59:44.004Z"
   },
   {
    "duration": 159,
    "start_time": "2022-07-13T16:59:44.203Z"
   },
   {
    "duration": 116,
    "start_time": "2022-07-13T16:59:44.364Z"
   },
   {
    "duration": 29,
    "start_time": "2022-07-13T16:59:44.482Z"
   },
   {
    "duration": 31,
    "start_time": "2022-07-13T16:59:44.512Z"
   },
   {
    "duration": 2,
    "start_time": "2022-07-13T16:59:44.545Z"
   },
   {
    "duration": 132,
    "start_time": "2022-07-13T16:59:44.549Z"
   },
   {
    "duration": 529,
    "start_time": "2022-07-13T16:59:44.683Z"
   },
   {
    "duration": 130,
    "start_time": "2022-07-13T16:59:45.214Z"
   },
   {
    "duration": 275,
    "start_time": "2022-07-13T16:59:59.556Z"
   },
   {
    "duration": 4,
    "start_time": "2022-07-13T17:00:36.362Z"
   },
   {
    "duration": 434,
    "start_time": "2022-07-13T17:00:44.928Z"
   },
   {
    "duration": 47,
    "start_time": "2022-07-13T17:01:14.041Z"
   },
   {
    "duration": 125,
    "start_time": "2022-07-13T17:02:05.929Z"
   },
   {
    "duration": 87,
    "start_time": "2022-07-13T17:04:33.489Z"
   },
   {
    "duration": 3,
    "start_time": "2022-07-13T17:06:09.984Z"
   },
   {
    "duration": 90,
    "start_time": "2022-07-13T17:06:35.688Z"
   },
   {
    "duration": 134,
    "start_time": "2022-07-13T17:08:27.417Z"
   },
   {
    "duration": 148,
    "start_time": "2022-07-13T17:09:05.624Z"
   },
   {
    "duration": 353,
    "start_time": "2022-07-13T17:11:14.736Z"
   },
   {
    "duration": 80,
    "start_time": "2022-07-13T17:11:45.408Z"
   },
   {
    "duration": 55,
    "start_time": "2022-07-13T17:12:10.672Z"
   },
   {
    "duration": 387,
    "start_time": "2022-07-13T17:12:29.575Z"
   },
   {
    "duration": 187,
    "start_time": "2022-07-13T17:12:29.964Z"
   },
   {
    "duration": 167,
    "start_time": "2022-07-13T17:12:30.152Z"
   },
   {
    "duration": 110,
    "start_time": "2022-07-13T17:12:30.321Z"
   },
   {
    "duration": 23,
    "start_time": "2022-07-13T17:12:30.433Z"
   },
   {
    "duration": 78,
    "start_time": "2022-07-13T17:12:30.457Z"
   },
   {
    "duration": 25,
    "start_time": "2022-07-13T17:12:30.536Z"
   },
   {
    "duration": 185,
    "start_time": "2022-07-13T17:12:30.562Z"
   },
   {
    "duration": 346,
    "start_time": "2022-07-13T17:12:30.748Z"
   },
   {
    "duration": 176,
    "start_time": "2022-07-13T17:12:31.096Z"
   },
   {
    "duration": 86,
    "start_time": "2022-07-13T17:12:41.767Z"
   },
   {
    "duration": 84,
    "start_time": "2022-07-13T17:12:49.975Z"
   },
   {
    "duration": 82,
    "start_time": "2022-07-13T17:15:34.734Z"
   },
   {
    "duration": 412,
    "start_time": "2022-07-13T17:16:29.094Z"
   },
   {
    "duration": 269,
    "start_time": "2022-07-13T17:17:21.040Z"
   },
   {
    "duration": 130,
    "start_time": "2022-07-13T17:20:44.303Z"
   },
   {
    "duration": 92,
    "start_time": "2022-07-13T17:21:05.868Z"
   },
   {
    "duration": 97,
    "start_time": "2022-07-13T17:21:28.845Z"
   },
   {
    "duration": 117,
    "start_time": "2022-07-13T17:21:52.007Z"
   },
   {
    "duration": 69,
    "start_time": "2022-07-13T17:30:06.311Z"
   },
   {
    "duration": 94,
    "start_time": "2022-07-13T17:31:38.626Z"
   },
   {
    "duration": 94,
    "start_time": "2022-07-13T17:32:00.970Z"
   },
   {
    "duration": 43,
    "start_time": "2022-07-13T17:33:20.770Z"
   },
   {
    "duration": 57,
    "start_time": "2022-07-13T17:44:28.952Z"
   },
   {
    "duration": 9,
    "start_time": "2022-07-13T17:44:43.088Z"
   },
   {
    "duration": 37,
    "start_time": "2022-07-13T17:44:49.658Z"
   },
   {
    "duration": 14,
    "start_time": "2022-07-13T17:45:57.273Z"
   },
   {
    "duration": 40,
    "start_time": "2022-07-13T17:46:04.759Z"
   },
   {
    "duration": 37,
    "start_time": "2022-07-13T17:47:12.636Z"
   },
   {
    "duration": 39,
    "start_time": "2022-07-13T17:47:21.592Z"
   },
   {
    "duration": 40,
    "start_time": "2022-07-13T17:48:19.088Z"
   },
   {
    "duration": 366,
    "start_time": "2022-07-13T17:50:03.447Z"
   },
   {
    "duration": 189,
    "start_time": "2022-07-13T17:50:03.815Z"
   },
   {
    "duration": 166,
    "start_time": "2022-07-13T17:50:04.010Z"
   },
   {
    "duration": 109,
    "start_time": "2022-07-13T17:50:04.178Z"
   },
   {
    "duration": 29,
    "start_time": "2022-07-13T17:50:04.289Z"
   },
   {
    "duration": 31,
    "start_time": "2022-07-13T17:50:04.319Z"
   },
   {
    "duration": 2,
    "start_time": "2022-07-13T17:50:04.352Z"
   },
   {
    "duration": 189,
    "start_time": "2022-07-13T17:50:04.356Z"
   },
   {
    "duration": 343,
    "start_time": "2022-07-13T17:50:04.547Z"
   },
   {
    "duration": 204,
    "start_time": "2022-07-13T17:50:04.892Z"
   },
   {
    "duration": 78,
    "start_time": "2022-07-13T17:50:05.098Z"
   },
   {
    "duration": 98,
    "start_time": "2022-07-13T17:50:05.178Z"
   },
   {
    "duration": 77,
    "start_time": "2022-07-13T17:50:05.278Z"
   },
   {
    "duration": 57,
    "start_time": "2022-07-13T17:50:28.481Z"
   },
   {
    "duration": 53,
    "start_time": "2022-07-13T17:51:11.569Z"
   },
   {
    "duration": 1228,
    "start_time": "2022-07-13T17:52:08.214Z"
   },
   {
    "duration": 1022,
    "start_time": "2022-07-13T17:52:23.423Z"
   },
   {
    "duration": 56,
    "start_time": "2022-07-13T17:52:39.658Z"
   },
   {
    "duration": 374,
    "start_time": "2022-07-13T17:53:28.035Z"
   },
   {
    "duration": 175,
    "start_time": "2022-07-13T17:53:28.411Z"
   },
   {
    "duration": 147,
    "start_time": "2022-07-13T17:53:28.587Z"
   },
   {
    "duration": 104,
    "start_time": "2022-07-13T17:53:28.736Z"
   },
   {
    "duration": 22,
    "start_time": "2022-07-13T17:53:28.842Z"
   },
   {
    "duration": 31,
    "start_time": "2022-07-13T17:53:28.865Z"
   },
   {
    "duration": 13,
    "start_time": "2022-07-13T17:53:28.898Z"
   },
   {
    "duration": 178,
    "start_time": "2022-07-13T17:53:28.912Z"
   },
   {
    "duration": 338,
    "start_time": "2022-07-13T17:53:29.092Z"
   },
   {
    "duration": 202,
    "start_time": "2022-07-13T17:53:29.432Z"
   },
   {
    "duration": 75,
    "start_time": "2022-07-13T17:53:29.635Z"
   },
   {
    "duration": 85,
    "start_time": "2022-07-13T17:53:29.712Z"
   },
   {
    "duration": 48,
    "start_time": "2022-07-13T17:53:29.810Z"
   },
   {
    "duration": 42,
    "start_time": "2022-07-13T17:55:16.927Z"
   },
   {
    "duration": 42,
    "start_time": "2022-07-13T17:55:23.367Z"
   },
   {
    "duration": 44,
    "start_time": "2022-07-13T17:55:46.925Z"
   },
   {
    "duration": 1022,
    "start_time": "2022-07-13T17:56:38.190Z"
   },
   {
    "duration": 50,
    "start_time": "2022-07-13T17:56:43.574Z"
   },
   {
    "duration": 51,
    "start_time": "2022-07-13T17:56:55.419Z"
   },
   {
    "duration": 44,
    "start_time": "2022-07-13T18:03:55.180Z"
   },
   {
    "duration": 98,
    "start_time": "2022-07-13T18:04:08.774Z"
   },
   {
    "duration": 35,
    "start_time": "2022-07-13T18:04:19.669Z"
   },
   {
    "duration": 14,
    "start_time": "2022-07-13T18:04:24.397Z"
   },
   {
    "duration": 52,
    "start_time": "2022-07-13T18:04:33.604Z"
   },
   {
    "duration": 38,
    "start_time": "2022-07-13T18:04:59.284Z"
   },
   {
    "duration": 36,
    "start_time": "2022-07-13T18:05:15.234Z"
   },
   {
    "duration": 973,
    "start_time": "2022-07-13T18:05:45.205Z"
   },
   {
    "duration": 42,
    "start_time": "2022-07-13T18:05:56.230Z"
   },
   {
    "duration": 1506,
    "start_time": "2022-07-13T18:06:42.484Z"
   },
   {
    "duration": 43,
    "start_time": "2022-07-13T18:06:55.069Z"
   },
   {
    "duration": 262,
    "start_time": "2022-07-13T18:09:23.365Z"
   },
   {
    "duration": 79,
    "start_time": "2022-07-13T18:09:41.708Z"
   },
   {
    "duration": 61,
    "start_time": "2022-07-13T18:13:03.596Z"
   },
   {
    "duration": 79,
    "start_time": "2022-07-13T18:14:50.732Z"
   },
   {
    "duration": 100,
    "start_time": "2022-07-13T18:15:57.819Z"
   },
   {
    "duration": 82,
    "start_time": "2022-07-13T18:17:31.750Z"
   },
   {
    "duration": 80,
    "start_time": "2022-07-13T18:18:09.033Z"
   },
   {
    "duration": 298,
    "start_time": "2022-07-13T18:19:37.499Z"
   },
   {
    "duration": 83,
    "start_time": "2022-07-13T18:19:58.865Z"
   },
   {
    "duration": 67,
    "start_time": "2022-07-13T18:22:07.697Z"
   },
   {
    "duration": 67,
    "start_time": "2022-07-13T18:22:15.042Z"
   },
   {
    "duration": 79,
    "start_time": "2022-07-13T18:22:47.377Z"
   },
   {
    "duration": 399,
    "start_time": "2022-07-13T18:23:02.810Z"
   },
   {
    "duration": 178,
    "start_time": "2022-07-13T18:23:03.211Z"
   },
   {
    "duration": 152,
    "start_time": "2022-07-13T18:23:03.390Z"
   },
   {
    "duration": 105,
    "start_time": "2022-07-13T18:23:03.544Z"
   },
   {
    "duration": 21,
    "start_time": "2022-07-13T18:23:03.651Z"
   },
   {
    "duration": 46,
    "start_time": "2022-07-13T18:23:03.674Z"
   },
   {
    "duration": 3,
    "start_time": "2022-07-13T18:23:03.722Z"
   },
   {
    "duration": 179,
    "start_time": "2022-07-13T18:23:03.726Z"
   },
   {
    "duration": 364,
    "start_time": "2022-07-13T18:23:03.908Z"
   },
   {
    "duration": 182,
    "start_time": "2022-07-13T18:23:04.274Z"
   },
   {
    "duration": 85,
    "start_time": "2022-07-13T18:23:04.457Z"
   },
   {
    "duration": 80,
    "start_time": "2022-07-13T18:23:04.544Z"
   },
   {
    "duration": 43,
    "start_time": "2022-07-13T18:23:04.626Z"
   },
   {
    "duration": 85,
    "start_time": "2022-07-13T18:23:26.978Z"
   },
   {
    "duration": 83,
    "start_time": "2022-07-13T18:23:55.874Z"
   },
   {
    "duration": 81,
    "start_time": "2022-07-13T18:24:07.485Z"
   },
   {
    "duration": 86,
    "start_time": "2022-07-13T18:25:02.156Z"
   },
   {
    "duration": 44,
    "start_time": "2022-07-13T18:25:16.973Z"
   },
   {
    "duration": 367,
    "start_time": "2022-07-14T13:47:02.205Z"
   },
   {
    "duration": 570,
    "start_time": "2022-07-14T13:47:02.575Z"
   },
   {
    "duration": 444,
    "start_time": "2022-07-14T13:47:03.147Z"
   },
   {
    "duration": 188,
    "start_time": "2022-07-14T13:47:03.592Z"
   },
   {
    "duration": 59,
    "start_time": "2022-07-14T13:47:03.782Z"
   },
   {
    "duration": 71,
    "start_time": "2022-07-14T13:47:03.843Z"
   },
   {
    "duration": 3,
    "start_time": "2022-07-14T13:47:03.915Z"
   },
   {
    "duration": 179,
    "start_time": "2022-07-14T13:47:03.919Z"
   },
   {
    "duration": 322,
    "start_time": "2022-07-14T13:47:04.099Z"
   },
   {
    "duration": 207,
    "start_time": "2022-07-14T13:47:04.423Z"
   },
   {
    "duration": 0,
    "start_time": "2022-07-14T13:47:04.632Z"
   },
   {
    "duration": 0,
    "start_time": "2022-07-14T13:47:04.633Z"
   },
   {
    "duration": 0,
    "start_time": "2022-07-14T13:47:04.634Z"
   },
   {
    "duration": 80,
    "start_time": "2022-07-14T13:47:29.752Z"
   },
   {
    "duration": 63,
    "start_time": "2022-07-14T13:47:48.009Z"
   },
   {
    "duration": 397,
    "start_time": "2022-07-14T18:42:33.671Z"
   },
   {
    "duration": 269,
    "start_time": "2022-07-14T18:42:34.070Z"
   },
   {
    "duration": 326,
    "start_time": "2022-07-14T18:42:34.340Z"
   },
   {
    "duration": 324,
    "start_time": "2022-07-14T18:42:34.668Z"
   },
   {
    "duration": 66,
    "start_time": "2022-07-14T18:42:34.994Z"
   },
   {
    "duration": 66,
    "start_time": "2022-07-14T18:42:35.061Z"
   },
   {
    "duration": 3,
    "start_time": "2022-07-14T18:42:35.129Z"
   },
   {
    "duration": 167,
    "start_time": "2022-07-14T18:42:35.133Z"
   },
   {
    "duration": 336,
    "start_time": "2022-07-14T18:42:35.301Z"
   },
   {
    "duration": 209,
    "start_time": "2022-07-14T18:42:35.638Z"
   },
   {
    "duration": 0,
    "start_time": "2022-07-14T18:42:35.848Z"
   },
   {
    "duration": 0,
    "start_time": "2022-07-14T18:42:35.850Z"
   },
   {
    "duration": 0,
    "start_time": "2022-07-14T18:42:35.863Z"
   },
   {
    "duration": 62,
    "start_time": "2022-07-14T18:44:29.752Z"
   },
   {
    "duration": 62,
    "start_time": "2022-07-14T18:45:36.471Z"
   },
   {
    "duration": 62,
    "start_time": "2022-07-14T18:46:01.495Z"
   },
   {
    "duration": 314,
    "start_time": "2022-07-14T18:48:44.675Z"
   },
   {
    "duration": 276,
    "start_time": "2022-07-14T18:48:59.301Z"
   },
   {
    "duration": 144,
    "start_time": "2022-07-14T18:49:05.496Z"
   },
   {
    "duration": 97,
    "start_time": "2022-07-14T18:49:17.671Z"
   },
   {
    "duration": 94,
    "start_time": "2022-07-14T18:49:32.850Z"
   },
   {
    "duration": 91,
    "start_time": "2022-07-14T18:52:16.652Z"
   },
   {
    "duration": 100,
    "start_time": "2022-07-14T18:55:26.429Z"
   },
   {
    "duration": 53,
    "start_time": "2022-07-14T18:56:20.645Z"
   },
   {
    "duration": 48,
    "start_time": "2022-07-14T18:58:24.231Z"
   },
   {
    "duration": 53,
    "start_time": "2022-07-14T19:04:09.316Z"
   },
   {
    "duration": 33,
    "start_time": "2022-07-14T20:55:55.164Z"
   },
   {
    "duration": 76,
    "start_time": "2022-07-14T20:58:26.744Z"
   },
   {
    "duration": 73,
    "start_time": "2022-07-14T20:58:52.963Z"
   },
   {
    "duration": 93,
    "start_time": "2022-07-14T21:00:33.825Z"
   },
   {
    "duration": 105,
    "start_time": "2022-07-14T21:01:14.727Z"
   },
   {
    "duration": 88,
    "start_time": "2022-07-14T21:02:34.755Z"
   },
   {
    "duration": 60,
    "start_time": "2022-07-14T21:02:52.545Z"
   },
   {
    "duration": 87,
    "start_time": "2022-07-14T21:03:48.540Z"
   },
   {
    "duration": 75,
    "start_time": "2022-07-14T21:04:04.197Z"
   },
   {
    "duration": 73,
    "start_time": "2022-07-14T21:05:38.531Z"
   },
   {
    "duration": 63,
    "start_time": "2022-07-14T21:06:22.593Z"
   },
   {
    "duration": 70,
    "start_time": "2022-07-14T21:06:31.235Z"
   },
   {
    "duration": 53,
    "start_time": "2022-07-15T06:45:55.286Z"
   },
   {
    "duration": 381,
    "start_time": "2022-07-15T06:46:02.579Z"
   },
   {
    "duration": 247,
    "start_time": "2022-07-15T06:46:02.962Z"
   },
   {
    "duration": 326,
    "start_time": "2022-07-15T06:46:03.211Z"
   },
   {
    "duration": 312,
    "start_time": "2022-07-15T06:46:03.538Z"
   },
   {
    "duration": 67,
    "start_time": "2022-07-15T06:46:03.852Z"
   },
   {
    "duration": 66,
    "start_time": "2022-07-15T06:46:03.920Z"
   },
   {
    "duration": 2,
    "start_time": "2022-07-15T06:46:03.987Z"
   },
   {
    "duration": 169,
    "start_time": "2022-07-15T06:46:03.991Z"
   },
   {
    "duration": 313,
    "start_time": "2022-07-15T06:46:04.162Z"
   },
   {
    "duration": 176,
    "start_time": "2022-07-15T06:46:04.477Z"
   },
   {
    "duration": 106,
    "start_time": "2022-07-15T06:46:04.654Z"
   },
   {
    "duration": 111,
    "start_time": "2022-07-15T06:46:04.762Z"
   },
   {
    "duration": 45,
    "start_time": "2022-07-15T06:46:04.875Z"
   },
   {
    "duration": 61,
    "start_time": "2022-07-15T06:46:04.922Z"
   },
   {
    "duration": 66,
    "start_time": "2022-07-15T06:46:04.985Z"
   },
   {
    "duration": 65,
    "start_time": "2022-07-15T06:46:47.036Z"
   },
   {
    "duration": 47,
    "start_time": "2022-07-15T06:55:47.444Z"
   },
   {
    "duration": 70,
    "start_time": "2022-07-15T07:03:46.783Z"
   },
   {
    "duration": 972,
    "start_time": "2022-07-15T07:18:32.982Z"
   },
   {
    "duration": 70,
    "start_time": "2022-07-15T07:18:43.341Z"
   },
   {
    "duration": 42,
    "start_time": "2022-07-15T12:19:46.460Z"
   },
   {
    "duration": 57,
    "start_time": "2022-07-15T12:19:54.044Z"
   },
   {
    "duration": 18,
    "start_time": "2022-07-15T12:21:45.043Z"
   },
   {
    "duration": 17,
    "start_time": "2022-07-15T12:23:07.619Z"
   },
   {
    "duration": 59,
    "start_time": "2022-07-15T12:25:51.820Z"
   },
   {
    "duration": 69,
    "start_time": "2022-07-15T12:25:55.363Z"
   },
   {
    "duration": 17,
    "start_time": "2022-07-15T12:26:49.291Z"
   },
   {
    "duration": 51,
    "start_time": "2022-07-15T12:28:03.434Z"
   },
   {
    "duration": 90,
    "start_time": "2022-07-15T12:28:23.665Z"
   },
   {
    "duration": 77,
    "start_time": "2022-07-15T12:28:31.173Z"
   },
   {
    "duration": 51,
    "start_time": "2022-07-15T12:41:14.453Z"
   },
   {
    "duration": 4,
    "start_time": "2022-07-15T12:51:23.672Z"
   },
   {
    "duration": 20,
    "start_time": "2022-07-15T13:04:09.024Z"
   },
   {
    "duration": 152,
    "start_time": "2022-07-15T13:05:04.401Z"
   },
   {
    "duration": 72,
    "start_time": "2022-07-15T13:07:18.731Z"
   },
   {
    "duration": 110,
    "start_time": "2022-07-15T13:08:38.632Z"
   },
   {
    "duration": 116,
    "start_time": "2022-07-15T13:09:11.537Z"
   },
   {
    "duration": 4,
    "start_time": "2022-07-15T13:25:42.295Z"
   },
   {
    "duration": 3,
    "start_time": "2022-07-15T13:25:50.841Z"
   },
   {
    "duration": 3,
    "start_time": "2022-07-15T13:26:23.081Z"
   },
   {
    "duration": 3,
    "start_time": "2022-07-15T13:26:35.577Z"
   },
   {
    "duration": 5,
    "start_time": "2022-07-15T13:26:49.807Z"
   },
   {
    "duration": 5,
    "start_time": "2022-07-15T13:27:51.824Z"
   },
   {
    "duration": 3,
    "start_time": "2022-07-15T13:27:58.635Z"
   },
   {
    "duration": 3,
    "start_time": "2022-07-15T13:28:03.969Z"
   },
   {
    "duration": 87,
    "start_time": "2022-07-15T13:35:05.024Z"
   },
   {
    "duration": 400,
    "start_time": "2022-07-15T13:35:17.569Z"
   },
   {
    "duration": 231,
    "start_time": "2022-07-15T13:35:17.971Z"
   },
   {
    "duration": 155,
    "start_time": "2022-07-15T13:35:18.204Z"
   },
   {
    "duration": 108,
    "start_time": "2022-07-15T13:35:18.361Z"
   },
   {
    "duration": 27,
    "start_time": "2022-07-15T13:35:18.471Z"
   },
   {
    "duration": 43,
    "start_time": "2022-07-15T13:35:18.500Z"
   },
   {
    "duration": 2,
    "start_time": "2022-07-15T13:35:18.544Z"
   },
   {
    "duration": 172,
    "start_time": "2022-07-15T13:35:18.547Z"
   },
   {
    "duration": 328,
    "start_time": "2022-07-15T13:35:18.720Z"
   },
   {
    "duration": 204,
    "start_time": "2022-07-15T13:35:19.050Z"
   },
   {
    "duration": 105,
    "start_time": "2022-07-15T13:35:19.260Z"
   },
   {
    "duration": 111,
    "start_time": "2022-07-15T13:35:19.366Z"
   },
   {
    "duration": 47,
    "start_time": "2022-07-15T13:35:19.479Z"
   },
   {
    "duration": 68,
    "start_time": "2022-07-15T13:35:19.527Z"
   },
   {
    "duration": 81,
    "start_time": "2022-07-15T13:35:19.596Z"
   },
   {
    "duration": 70,
    "start_time": "2022-07-15T13:47:13.776Z"
   },
   {
    "duration": 10,
    "start_time": "2022-07-15T13:47:35.148Z"
   },
   {
    "duration": 10,
    "start_time": "2022-07-15T13:47:51.138Z"
   },
   {
    "duration": 17,
    "start_time": "2022-07-15T13:48:01.760Z"
   },
   {
    "duration": 78,
    "start_time": "2022-07-15T13:53:59.649Z"
   },
   {
    "duration": 24,
    "start_time": "2022-07-15T14:04:56.560Z"
   },
   {
    "duration": 25,
    "start_time": "2022-07-15T14:05:01.196Z"
   },
   {
    "duration": 81,
    "start_time": "2022-07-15T14:05:09.842Z"
   },
   {
    "duration": 371,
    "start_time": "2022-07-16T09:28:49.178Z"
   },
   {
    "duration": 269,
    "start_time": "2022-07-16T09:28:49.551Z"
   },
   {
    "duration": 343,
    "start_time": "2022-07-16T09:28:49.821Z"
   },
   {
    "duration": 352,
    "start_time": "2022-07-16T09:28:50.166Z"
   },
   {
    "duration": 76,
    "start_time": "2022-07-16T09:28:50.519Z"
   },
   {
    "duration": 92,
    "start_time": "2022-07-16T09:28:50.597Z"
   },
   {
    "duration": 3,
    "start_time": "2022-07-16T09:28:50.691Z"
   },
   {
    "duration": 179,
    "start_time": "2022-07-16T09:28:50.695Z"
   },
   {
    "duration": 342,
    "start_time": "2022-07-16T09:28:50.876Z"
   },
   {
    "duration": 190,
    "start_time": "2022-07-16T09:28:51.220Z"
   },
   {
    "duration": 106,
    "start_time": "2022-07-16T09:28:51.423Z"
   },
   {
    "duration": 129,
    "start_time": "2022-07-16T09:28:51.531Z"
   },
   {
    "duration": 62,
    "start_time": "2022-07-16T09:28:51.662Z"
   },
   {
    "duration": 55,
    "start_time": "2022-07-16T09:28:51.726Z"
   },
   {
    "duration": 100,
    "start_time": "2022-07-16T09:28:51.783Z"
   },
   {
    "duration": 391,
    "start_time": "2022-07-16T09:29:48.439Z"
   },
   {
    "duration": 195,
    "start_time": "2022-07-16T09:29:48.832Z"
   },
   {
    "duration": 164,
    "start_time": "2022-07-16T09:29:49.029Z"
   },
   {
    "duration": 118,
    "start_time": "2022-07-16T09:29:49.194Z"
   },
   {
    "duration": 28,
    "start_time": "2022-07-16T09:29:49.313Z"
   },
   {
    "duration": 45,
    "start_time": "2022-07-16T09:29:49.343Z"
   },
   {
    "duration": 2,
    "start_time": "2022-07-16T09:29:49.390Z"
   },
   {
    "duration": 197,
    "start_time": "2022-07-16T09:29:49.394Z"
   },
   {
    "duration": 319,
    "start_time": "2022-07-16T09:29:49.593Z"
   },
   {
    "duration": 188,
    "start_time": "2022-07-16T09:29:49.914Z"
   },
   {
    "duration": 106,
    "start_time": "2022-07-16T09:29:50.104Z"
   },
   {
    "duration": 141,
    "start_time": "2022-07-16T09:29:50.212Z"
   },
   {
    "duration": 49,
    "start_time": "2022-07-16T09:29:50.355Z"
   },
   {
    "duration": 68,
    "start_time": "2022-07-16T09:29:50.405Z"
   },
   {
    "duration": 120,
    "start_time": "2022-07-16T09:29:50.475Z"
   },
   {
    "duration": 52,
    "start_time": "2022-07-16T09:40:41.559Z"
   },
   {
    "duration": 57,
    "start_time": "2022-07-16T09:42:30.655Z"
   },
   {
    "duration": 81,
    "start_time": "2022-07-16T09:42:44.808Z"
   },
   {
    "duration": 17,
    "start_time": "2022-07-16T09:43:18.385Z"
   },
   {
    "duration": 610,
    "start_time": "2022-07-16T09:44:29.113Z"
   },
   {
    "duration": 18,
    "start_time": "2022-07-16T09:45:34.626Z"
   },
   {
    "duration": 18,
    "start_time": "2022-07-16T09:46:03.819Z"
   },
   {
    "duration": 26,
    "start_time": "2022-07-16T09:47:10.012Z"
   },
   {
    "duration": 10,
    "start_time": "2022-07-16T09:47:32.404Z"
   },
   {
    "duration": 13,
    "start_time": "2022-07-16T09:48:19.724Z"
   },
   {
    "duration": 22,
    "start_time": "2022-07-16T09:55:44.107Z"
   },
   {
    "duration": 85,
    "start_time": "2022-07-16T09:56:24.066Z"
   },
   {
    "duration": 50,
    "start_time": "2022-07-16T09:59:16.478Z"
   },
   {
    "duration": 72,
    "start_time": "2022-07-16T09:59:45.638Z"
   },
   {
    "duration": 62,
    "start_time": "2022-07-16T10:08:42.242Z"
   },
   {
    "duration": 86,
    "start_time": "2022-07-16T10:09:10.822Z"
   },
   {
    "duration": 73,
    "start_time": "2022-07-16T10:09:21.742Z"
   },
   {
    "duration": 408,
    "start_time": "2022-07-16T10:12:11.940Z"
   },
   {
    "duration": 225,
    "start_time": "2022-07-16T10:12:12.350Z"
   },
   {
    "duration": 194,
    "start_time": "2022-07-16T10:12:12.577Z"
   },
   {
    "duration": 122,
    "start_time": "2022-07-16T10:12:12.773Z"
   },
   {
    "duration": 43,
    "start_time": "2022-07-16T10:12:12.897Z"
   },
   {
    "duration": 46,
    "start_time": "2022-07-16T10:12:12.942Z"
   },
   {
    "duration": 2,
    "start_time": "2022-07-16T10:12:12.990Z"
   },
   {
    "duration": 210,
    "start_time": "2022-07-16T10:12:12.994Z"
   },
   {
    "duration": 376,
    "start_time": "2022-07-16T10:12:13.206Z"
   },
   {
    "duration": 206,
    "start_time": "2022-07-16T10:12:13.584Z"
   },
   {
    "duration": 114,
    "start_time": "2022-07-16T10:12:13.792Z"
   },
   {
    "duration": 138,
    "start_time": "2022-07-16T10:12:13.907Z"
   },
   {
    "duration": 44,
    "start_time": "2022-07-16T10:12:14.048Z"
   },
   {
    "duration": 78,
    "start_time": "2022-07-16T10:12:14.094Z"
   },
   {
    "duration": 24,
    "start_time": "2022-07-16T10:12:14.174Z"
   },
   {
    "duration": 87,
    "start_time": "2022-07-16T10:12:14.200Z"
   },
   {
    "duration": 51,
    "start_time": "2022-07-16T10:12:56.583Z"
   },
   {
    "duration": 142,
    "start_time": "2022-07-16T10:15:47.962Z"
   },
   {
    "duration": 222,
    "start_time": "2022-07-16T10:17:07.590Z"
   },
   {
    "duration": 207,
    "start_time": "2022-07-16T10:18:08.538Z"
   },
   {
    "duration": 125,
    "start_time": "2022-07-16T10:18:45.056Z"
   },
   {
    "duration": 252,
    "start_time": "2022-07-16T10:22:09.971Z"
   },
   {
    "duration": 233,
    "start_time": "2022-07-16T10:23:04.565Z"
   },
   {
    "duration": 9,
    "start_time": "2022-07-16T10:27:29.441Z"
   },
   {
    "duration": 74,
    "start_time": "2022-07-16T10:28:06.550Z"
   },
   {
    "duration": 16,
    "start_time": "2022-07-16T10:31:23.145Z"
   },
   {
    "duration": 13,
    "start_time": "2022-07-16T10:31:58.250Z"
   },
   {
    "duration": 14,
    "start_time": "2022-07-16T10:32:28.970Z"
   },
   {
    "duration": 427,
    "start_time": "2022-07-16T10:32:44.944Z"
   },
   {
    "duration": 218,
    "start_time": "2022-07-16T10:32:45.373Z"
   },
   {
    "duration": 188,
    "start_time": "2022-07-16T10:32:45.593Z"
   },
   {
    "duration": 144,
    "start_time": "2022-07-16T10:32:45.783Z"
   },
   {
    "duration": 38,
    "start_time": "2022-07-16T10:32:45.929Z"
   },
   {
    "duration": 43,
    "start_time": "2022-07-16T10:32:45.968Z"
   },
   {
    "duration": 2,
    "start_time": "2022-07-16T10:32:46.013Z"
   },
   {
    "duration": 219,
    "start_time": "2022-07-16T10:32:46.016Z"
   },
   {
    "duration": 390,
    "start_time": "2022-07-16T10:32:46.238Z"
   },
   {
    "duration": 219,
    "start_time": "2022-07-16T10:32:46.630Z"
   },
   {
    "duration": 110,
    "start_time": "2022-07-16T10:32:46.850Z"
   },
   {
    "duration": 136,
    "start_time": "2022-07-16T10:32:46.962Z"
   },
   {
    "duration": 71,
    "start_time": "2022-07-16T10:32:47.099Z"
   },
   {
    "duration": 75,
    "start_time": "2022-07-16T10:32:47.172Z"
   },
   {
    "duration": 221,
    "start_time": "2022-07-16T10:32:47.249Z"
   },
   {
    "duration": 291,
    "start_time": "2022-07-16T10:32:47.473Z"
   },
   {
    "duration": 31,
    "start_time": "2022-07-16T10:32:47.766Z"
   },
   {
    "duration": 87,
    "start_time": "2022-07-16T10:34:51.671Z"
   },
   {
    "duration": 434,
    "start_time": "2022-07-16T10:34:57.904Z"
   },
   {
    "duration": 239,
    "start_time": "2022-07-16T10:34:58.345Z"
   },
   {
    "duration": 207,
    "start_time": "2022-07-16T10:34:58.586Z"
   },
   {
    "duration": 155,
    "start_time": "2022-07-16T10:34:58.797Z"
   },
   {
    "duration": 40,
    "start_time": "2022-07-16T10:34:58.955Z"
   },
   {
    "duration": 58,
    "start_time": "2022-07-16T10:34:58.997Z"
   },
   {
    "duration": 3,
    "start_time": "2022-07-16T10:34:59.057Z"
   },
   {
    "duration": 217,
    "start_time": "2022-07-16T10:34:59.062Z"
   },
   {
    "duration": 368,
    "start_time": "2022-07-16T10:34:59.281Z"
   },
   {
    "duration": 195,
    "start_time": "2022-07-16T10:34:59.652Z"
   },
   {
    "duration": 124,
    "start_time": "2022-07-16T10:34:59.849Z"
   },
   {
    "duration": 142,
    "start_time": "2022-07-16T10:34:59.975Z"
   },
   {
    "duration": 56,
    "start_time": "2022-07-16T10:35:00.125Z"
   },
   {
    "duration": 83,
    "start_time": "2022-07-16T10:35:00.183Z"
   },
   {
    "duration": 209,
    "start_time": "2022-07-16T10:35:00.268Z"
   },
   {
    "duration": 210,
    "start_time": "2022-07-16T10:35:00.479Z"
   },
   {
    "duration": 50,
    "start_time": "2022-07-16T10:35:00.691Z"
   },
   {
    "duration": 23,
    "start_time": "2022-07-16T11:52:02.673Z"
   },
   {
    "duration": 92,
    "start_time": "2022-07-16T11:52:57.036Z"
   },
   {
    "duration": 21,
    "start_time": "2022-07-16T11:53:54.445Z"
   },
   {
    "duration": 25,
    "start_time": "2022-07-16T11:54:42.957Z"
   },
   {
    "duration": 441,
    "start_time": "2022-07-16T11:55:03.669Z"
   },
   {
    "duration": 187,
    "start_time": "2022-07-16T11:55:04.112Z"
   },
   {
    "duration": 155,
    "start_time": "2022-07-16T11:55:04.301Z"
   },
   {
    "duration": 124,
    "start_time": "2022-07-16T11:55:04.458Z"
   },
   {
    "duration": 31,
    "start_time": "2022-07-16T11:55:04.584Z"
   },
   {
    "duration": 49,
    "start_time": "2022-07-16T11:55:04.623Z"
   },
   {
    "duration": 190,
    "start_time": "2022-07-16T11:55:04.674Z"
   },
   {
    "duration": 336,
    "start_time": "2022-07-16T11:55:04.866Z"
   },
   {
    "duration": 197,
    "start_time": "2022-07-16T11:55:05.204Z"
   },
   {
    "duration": 102,
    "start_time": "2022-07-16T11:55:05.404Z"
   },
   {
    "duration": 133,
    "start_time": "2022-07-16T11:55:05.508Z"
   },
   {
    "duration": 49,
    "start_time": "2022-07-16T11:55:05.643Z"
   },
   {
    "duration": 76,
    "start_time": "2022-07-16T11:55:05.694Z"
   },
   {
    "duration": 168,
    "start_time": "2022-07-16T11:55:05.772Z"
   },
   {
    "duration": 206,
    "start_time": "2022-07-16T11:55:05.942Z"
   },
   {
    "duration": 29,
    "start_time": "2022-07-16T11:55:06.150Z"
   },
   {
    "duration": 104,
    "start_time": "2022-07-16T11:55:06.180Z"
   },
   {
    "duration": 28,
    "start_time": "2022-07-16T11:57:41.871Z"
   },
   {
    "duration": 25,
    "start_time": "2022-07-16T11:58:10.504Z"
   },
   {
    "duration": 56,
    "start_time": "2022-07-16T12:01:30.444Z"
   },
   {
    "duration": 54,
    "start_time": "2022-07-16T12:02:11.810Z"
   },
   {
    "duration": 5,
    "start_time": "2022-07-16T12:04:15.316Z"
   },
   {
    "duration": 23,
    "start_time": "2022-07-16T12:04:32.965Z"
   },
   {
    "duration": 24,
    "start_time": "2022-07-16T12:04:55.606Z"
   },
   {
    "duration": 21,
    "start_time": "2022-07-16T12:05:22.707Z"
   },
   {
    "duration": 24,
    "start_time": "2022-07-16T12:05:28.678Z"
   },
   {
    "duration": 21,
    "start_time": "2022-07-16T12:05:40.766Z"
   },
   {
    "duration": 43,
    "start_time": "2022-07-16T12:06:50.839Z"
   },
   {
    "duration": 40,
    "start_time": "2022-07-16T12:08:36.664Z"
   },
   {
    "duration": 50,
    "start_time": "2022-07-16T12:09:08.554Z"
   },
   {
    "duration": 51,
    "start_time": "2022-07-16T12:09:25.346Z"
   },
   {
    "duration": 56,
    "start_time": "2022-07-16T12:10:57.691Z"
   },
   {
    "duration": 17,
    "start_time": "2022-07-16T12:11:37.796Z"
   },
   {
    "duration": 53,
    "start_time": "2022-07-16T12:12:26.092Z"
   },
   {
    "duration": 56,
    "start_time": "2022-07-16T12:31:00.567Z"
   },
   {
    "duration": 55,
    "start_time": "2022-07-16T12:31:18.743Z"
   },
   {
    "duration": 44,
    "start_time": "2022-07-16T12:31:43.255Z"
   },
   {
    "duration": 52,
    "start_time": "2022-07-16T12:36:36.595Z"
   },
   {
    "duration": 51,
    "start_time": "2022-07-16T12:36:38.210Z"
   },
   {
    "duration": 8,
    "start_time": "2022-07-16T12:38:16.261Z"
   },
   {
    "duration": 8,
    "start_time": "2022-07-16T12:38:20.403Z"
   },
   {
    "duration": 609,
    "start_time": "2022-07-16T12:59:23.950Z"
   },
   {
    "duration": 291,
    "start_time": "2022-07-16T12:59:53.579Z"
   },
   {
    "duration": 188,
    "start_time": "2022-07-16T13:01:14.741Z"
   },
   {
    "duration": 49,
    "start_time": "2022-07-16T13:01:29.425Z"
   },
   {
    "duration": 469,
    "start_time": "2022-07-16T13:07:01.945Z"
   },
   {
    "duration": 217,
    "start_time": "2022-07-16T13:07:02.416Z"
   },
   {
    "duration": 174,
    "start_time": "2022-07-16T13:07:02.640Z"
   },
   {
    "duration": 134,
    "start_time": "2022-07-16T13:07:02.816Z"
   },
   {
    "duration": 31,
    "start_time": "2022-07-16T13:07:02.951Z"
   },
   {
    "duration": 54,
    "start_time": "2022-07-16T13:07:02.984Z"
   },
   {
    "duration": 204,
    "start_time": "2022-07-16T13:07:03.039Z"
   },
   {
    "duration": 356,
    "start_time": "2022-07-16T13:07:03.245Z"
   },
   {
    "duration": 214,
    "start_time": "2022-07-16T13:07:03.603Z"
   },
   {
    "duration": 129,
    "start_time": "2022-07-16T13:07:03.820Z"
   },
   {
    "duration": 128,
    "start_time": "2022-07-16T13:07:03.950Z"
   },
   {
    "duration": 63,
    "start_time": "2022-07-16T13:07:04.081Z"
   },
   {
    "duration": 59,
    "start_time": "2022-07-16T13:07:04.147Z"
   },
   {
    "duration": 234,
    "start_time": "2022-07-16T13:07:04.209Z"
   },
   {
    "duration": 230,
    "start_time": "2022-07-16T13:07:04.446Z"
   },
   {
    "duration": 51,
    "start_time": "2022-07-16T13:07:04.679Z"
   },
   {
    "duration": 11,
    "start_time": "2022-07-16T13:07:04.735Z"
   },
   {
    "duration": 62,
    "start_time": "2022-07-16T13:07:04.748Z"
   },
   {
    "duration": 91,
    "start_time": "2022-07-16T13:07:04.811Z"
   },
   {
    "duration": 68,
    "start_time": "2022-07-16T13:07:04.905Z"
   },
   {
    "duration": 47,
    "start_time": "2022-07-16T13:10:58.780Z"
   },
   {
    "duration": 75,
    "start_time": "2022-07-16T13:11:03.539Z"
   },
   {
    "duration": 55,
    "start_time": "2022-07-16T13:11:21.978Z"
   },
   {
    "duration": 64,
    "start_time": "2022-07-16T13:12:25.180Z"
   },
   {
    "duration": 18,
    "start_time": "2022-07-16T13:13:18.990Z"
   },
   {
    "duration": 70,
    "start_time": "2022-07-16T13:13:30.693Z"
   },
   {
    "duration": 48,
    "start_time": "2022-07-16T13:13:42.853Z"
   },
   {
    "duration": 77,
    "start_time": "2022-07-16T13:13:53.390Z"
   },
   {
    "duration": 52,
    "start_time": "2022-07-16T13:14:28.844Z"
   },
   {
    "duration": 46,
    "start_time": "2022-07-16T13:14:38.654Z"
   },
   {
    "duration": 58,
    "start_time": "2022-07-16T13:15:23.599Z"
   },
   {
    "duration": 70,
    "start_time": "2022-07-16T13:15:58.494Z"
   },
   {
    "duration": 407,
    "start_time": "2022-07-17T09:52:39.788Z"
   },
   {
    "duration": 250,
    "start_time": "2022-07-17T09:52:40.197Z"
   },
   {
    "duration": 305,
    "start_time": "2022-07-17T09:52:40.449Z"
   },
   {
    "duration": 318,
    "start_time": "2022-07-17T09:52:40.755Z"
   },
   {
    "duration": 70,
    "start_time": "2022-07-17T09:52:41.075Z"
   },
   {
    "duration": 67,
    "start_time": "2022-07-17T09:52:41.146Z"
   },
   {
    "duration": 174,
    "start_time": "2022-07-17T09:52:41.215Z"
   },
   {
    "duration": 335,
    "start_time": "2022-07-17T09:52:41.391Z"
   },
   {
    "duration": 194,
    "start_time": "2022-07-17T09:52:41.727Z"
   },
   {
    "duration": 96,
    "start_time": "2022-07-17T09:52:41.922Z"
   },
   {
    "duration": 113,
    "start_time": "2022-07-17T09:52:42.019Z"
   },
   {
    "duration": 48,
    "start_time": "2022-07-17T09:52:42.134Z"
   },
   {
    "duration": 66,
    "start_time": "2022-07-17T09:52:42.183Z"
   },
   {
    "duration": 159,
    "start_time": "2022-07-17T09:52:42.252Z"
   },
   {
    "duration": 180,
    "start_time": "2022-07-17T09:52:42.413Z"
   },
   {
    "duration": 29,
    "start_time": "2022-07-17T09:52:42.594Z"
   },
   {
    "duration": 7,
    "start_time": "2022-07-17T09:52:42.624Z"
   },
   {
    "duration": 42,
    "start_time": "2022-07-17T09:52:42.633Z"
   },
   {
    "duration": 64,
    "start_time": "2022-07-17T09:52:42.677Z"
   },
   {
    "duration": 64,
    "start_time": "2022-07-17T09:52:42.742Z"
   },
   {
    "duration": 61,
    "start_time": "2022-07-17T09:54:35.785Z"
   },
   {
    "duration": 55,
    "start_time": "2022-07-17T09:56:44.861Z"
   },
   {
    "duration": 51,
    "start_time": "2022-07-17T09:58:45.633Z"
   },
   {
    "duration": 60,
    "start_time": "2022-07-17T10:01:39.872Z"
   },
   {
    "duration": 57,
    "start_time": "2022-07-17T10:01:59.022Z"
   },
   {
    "duration": 58,
    "start_time": "2022-07-17T10:02:45.729Z"
   },
   {
    "duration": 73,
    "start_time": "2022-07-17T10:02:55.171Z"
   },
   {
    "duration": 74,
    "start_time": "2022-07-17T10:03:40.642Z"
   },
   {
    "duration": 59,
    "start_time": "2022-07-17T10:04:33.125Z"
   },
   {
    "duration": 92,
    "start_time": "2022-07-17T10:05:39.492Z"
   },
   {
    "duration": 42,
    "start_time": "2022-07-17T10:06:05.322Z"
   },
   {
    "duration": 53,
    "start_time": "2022-07-17T10:07:42.028Z"
   },
   {
    "duration": 42,
    "start_time": "2022-07-17T10:10:07.119Z"
   },
   {
    "duration": 60,
    "start_time": "2022-07-17T10:10:32.679Z"
   },
   {
    "duration": 42,
    "start_time": "2022-07-17T10:10:40.096Z"
   },
   {
    "duration": 65,
    "start_time": "2022-07-17T10:12:02.376Z"
   },
   {
    "duration": 52,
    "start_time": "2022-07-17T10:12:14.116Z"
   },
   {
    "duration": 51,
    "start_time": "2022-07-17T10:12:27.505Z"
   },
   {
    "duration": 50,
    "start_time": "2022-07-17T10:12:59.311Z"
   },
   {
    "duration": 50,
    "start_time": "2022-07-17T10:16:48.014Z"
   },
   {
    "duration": 56,
    "start_time": "2022-07-17T10:17:27.129Z"
   },
   {
    "duration": 57,
    "start_time": "2022-07-17T10:18:21.633Z"
   },
   {
    "duration": 44,
    "start_time": "2022-07-17T10:19:59.173Z"
   },
   {
    "duration": 47,
    "start_time": "2022-07-17T10:20:19.183Z"
   },
   {
    "duration": 40,
    "start_time": "2022-07-17T10:21:28.800Z"
   },
   {
    "duration": 34,
    "start_time": "2022-07-17T10:22:23.119Z"
   },
   {
    "duration": 54,
    "start_time": "2022-07-17T10:22:53.729Z"
   },
   {
    "duration": 50,
    "start_time": "2022-07-17T10:23:34.980Z"
   },
   {
    "duration": 63,
    "start_time": "2022-07-17T10:26:27.368Z"
   },
   {
    "duration": 71,
    "start_time": "2022-07-17T10:27:01.859Z"
   },
   {
    "duration": 53,
    "start_time": "2022-07-17T10:27:21.539Z"
   },
   {
    "duration": 65,
    "start_time": "2022-07-17T10:27:28.660Z"
   },
   {
    "duration": 71,
    "start_time": "2022-07-17T10:28:33.656Z"
   },
   {
    "duration": 7,
    "start_time": "2022-07-17T10:28:58.963Z"
   },
   {
    "duration": 79,
    "start_time": "2022-07-17T10:29:24.495Z"
   },
   {
    "duration": 57,
    "start_time": "2022-07-17T10:31:44.463Z"
   },
   {
    "duration": 65,
    "start_time": "2022-07-17T10:33:56.979Z"
   },
   {
    "duration": 50,
    "start_time": "2022-07-17T20:47:10.648Z"
   },
   {
    "duration": 435,
    "start_time": "2022-07-17T20:47:34.973Z"
   },
   {
    "duration": 273,
    "start_time": "2022-07-17T20:47:35.411Z"
   },
   {
    "duration": 470,
    "start_time": "2022-07-17T20:47:35.685Z"
   },
   {
    "duration": 324,
    "start_time": "2022-07-17T20:47:36.157Z"
   },
   {
    "duration": 79,
    "start_time": "2022-07-17T20:47:36.483Z"
   },
   {
    "duration": 66,
    "start_time": "2022-07-17T20:47:36.563Z"
   },
   {
    "duration": 175,
    "start_time": "2022-07-17T20:47:36.630Z"
   },
   {
    "duration": 336,
    "start_time": "2022-07-17T20:47:36.807Z"
   },
   {
    "duration": 187,
    "start_time": "2022-07-17T20:47:37.146Z"
   },
   {
    "duration": 113,
    "start_time": "2022-07-17T20:47:37.336Z"
   },
   {
    "duration": 132,
    "start_time": "2022-07-17T20:47:37.451Z"
   },
   {
    "duration": 48,
    "start_time": "2022-07-17T20:47:37.585Z"
   },
   {
    "duration": 56,
    "start_time": "2022-07-17T20:47:37.646Z"
   },
   {
    "duration": 183,
    "start_time": "2022-07-17T20:47:37.704Z"
   },
   {
    "duration": 187,
    "start_time": "2022-07-17T20:47:37.889Z"
   },
   {
    "duration": 29,
    "start_time": "2022-07-17T20:47:38.078Z"
   },
   {
    "duration": 7,
    "start_time": "2022-07-17T20:47:38.109Z"
   },
   {
    "duration": 73,
    "start_time": "2022-07-17T20:47:38.118Z"
   },
   {
    "duration": 70,
    "start_time": "2022-07-17T20:47:38.193Z"
   },
   {
    "duration": 81,
    "start_time": "2022-07-17T20:47:38.265Z"
   },
   {
    "duration": 94,
    "start_time": "2022-07-17T20:49:13.254Z"
   },
   {
    "duration": 147,
    "start_time": "2022-07-17T20:55:58.912Z"
   },
   {
    "duration": 55,
    "start_time": "2022-07-17T20:57:10.623Z"
   },
   {
    "duration": 51,
    "start_time": "2022-07-17T21:00:37.602Z"
   },
   {
    "duration": 59,
    "start_time": "2022-07-17T21:00:49.936Z"
   },
   {
    "duration": 22,
    "start_time": "2022-07-17T21:05:14.774Z"
   },
   {
    "duration": 47,
    "start_time": "2022-07-17T21:05:36.468Z"
   },
   {
    "duration": 52,
    "start_time": "2022-07-17T21:06:15.845Z"
   },
   {
    "duration": 70,
    "start_time": "2022-07-17T21:09:13.499Z"
   },
   {
    "duration": 72,
    "start_time": "2022-07-17T21:12:46.785Z"
   },
   {
    "duration": 213,
    "start_time": "2022-07-18T15:49:33.160Z"
   },
   {
    "duration": 39,
    "start_time": "2022-07-18T15:49:41.150Z"
   },
   {
    "duration": 388,
    "start_time": "2022-07-18T15:49:47.607Z"
   },
   {
    "duration": 239,
    "start_time": "2022-07-18T15:49:47.997Z"
   },
   {
    "duration": 308,
    "start_time": "2022-07-18T15:49:48.237Z"
   },
   {
    "duration": 299,
    "start_time": "2022-07-18T15:49:48.547Z"
   },
   {
    "duration": 66,
    "start_time": "2022-07-18T15:49:48.848Z"
   },
   {
    "duration": 65,
    "start_time": "2022-07-18T15:49:48.916Z"
   },
   {
    "duration": 177,
    "start_time": "2022-07-18T15:49:48.983Z"
   },
   {
    "duration": 326,
    "start_time": "2022-07-18T15:49:49.162Z"
   },
   {
    "duration": 172,
    "start_time": "2022-07-18T15:49:49.490Z"
   },
   {
    "duration": 97,
    "start_time": "2022-07-18T15:49:49.664Z"
   },
   {
    "duration": 113,
    "start_time": "2022-07-18T15:49:49.762Z"
   },
   {
    "duration": 62,
    "start_time": "2022-07-18T15:49:49.877Z"
   },
   {
    "duration": 74,
    "start_time": "2022-07-18T15:49:49.940Z"
   },
   {
    "duration": 158,
    "start_time": "2022-07-18T15:49:50.017Z"
   },
   {
    "duration": 179,
    "start_time": "2022-07-18T15:49:50.177Z"
   },
   {
    "duration": 27,
    "start_time": "2022-07-18T15:49:50.358Z"
   },
   {
    "duration": 7,
    "start_time": "2022-07-18T15:49:50.401Z"
   },
   {
    "duration": 90,
    "start_time": "2022-07-18T15:49:50.410Z"
   },
   {
    "duration": 1204,
    "start_time": "2022-07-18T15:49:50.502Z"
   },
   {
    "duration": 57,
    "start_time": "2022-07-18T15:49:51.708Z"
   },
   {
    "duration": 134,
    "start_time": "2022-07-18T15:49:51.766Z"
   },
   {
    "duration": 65,
    "start_time": "2022-07-18T15:50:24.224Z"
   },
   {
    "duration": 113,
    "start_time": "2022-07-18T15:51:17.602Z"
   },
   {
    "duration": 133,
    "start_time": "2022-07-18T15:53:23.707Z"
   },
   {
    "duration": 134,
    "start_time": "2022-07-18T15:53:34.139Z"
   },
   {
    "duration": 132,
    "start_time": "2022-07-18T15:53:58.111Z"
   },
   {
    "duration": 132,
    "start_time": "2022-07-18T15:55:39.209Z"
   },
   {
    "duration": 145,
    "start_time": "2022-07-18T15:58:47.140Z"
   },
   {
    "duration": 124,
    "start_time": "2022-07-18T15:59:19.630Z"
   },
   {
    "duration": 121,
    "start_time": "2022-07-18T15:59:40.127Z"
   },
   {
    "duration": 14,
    "start_time": "2022-07-18T16:11:09.483Z"
   },
   {
    "duration": 208,
    "start_time": "2022-07-18T16:13:17.680Z"
   },
   {
    "duration": 36,
    "start_time": "2022-07-18T16:24:56.740Z"
   },
   {
    "duration": 45,
    "start_time": "2022-07-18T16:26:33.845Z"
   },
   {
    "duration": 34,
    "start_time": "2022-07-18T16:29:49.685Z"
   },
   {
    "duration": 34,
    "start_time": "2022-07-18T16:31:42.984Z"
   },
   {
    "duration": 356,
    "start_time": "2022-07-18T16:32:31.044Z"
   },
   {
    "duration": 223,
    "start_time": "2022-07-18T16:32:31.402Z"
   },
   {
    "duration": 146,
    "start_time": "2022-07-18T16:32:31.627Z"
   },
   {
    "duration": 100,
    "start_time": "2022-07-18T16:32:31.775Z"
   },
   {
    "duration": 44,
    "start_time": "2022-07-18T16:32:31.876Z"
   },
   {
    "duration": 45,
    "start_time": "2022-07-18T16:32:31.922Z"
   },
   {
    "duration": 159,
    "start_time": "2022-07-18T16:32:31.969Z"
   },
   {
    "duration": 323,
    "start_time": "2022-07-18T16:32:32.130Z"
   },
   {
    "duration": 185,
    "start_time": "2022-07-18T16:32:32.454Z"
   },
   {
    "duration": 96,
    "start_time": "2022-07-18T16:32:32.641Z"
   },
   {
    "duration": 116,
    "start_time": "2022-07-18T16:32:32.738Z"
   },
   {
    "duration": 65,
    "start_time": "2022-07-18T16:32:32.855Z"
   },
   {
    "duration": 58,
    "start_time": "2022-07-18T16:32:32.921Z"
   },
   {
    "duration": 165,
    "start_time": "2022-07-18T16:32:32.980Z"
   },
   {
    "duration": 182,
    "start_time": "2022-07-18T16:32:33.147Z"
   },
   {
    "duration": 42,
    "start_time": "2022-07-18T16:32:33.331Z"
   },
   {
    "duration": 7,
    "start_time": "2022-07-18T16:32:33.375Z"
   },
   {
    "duration": 81,
    "start_time": "2022-07-18T16:32:33.384Z"
   },
   {
    "duration": 334,
    "start_time": "2022-07-18T16:32:33.467Z"
   },
   {
    "duration": 66,
    "start_time": "2022-07-18T16:32:33.802Z"
   },
   {
    "duration": 174,
    "start_time": "2022-07-18T16:32:33.870Z"
   },
   {
    "duration": 112,
    "start_time": "2022-07-18T16:32:34.046Z"
   },
   {
    "duration": 171,
    "start_time": "2022-07-18T16:32:34.159Z"
   },
   {
    "duration": 31,
    "start_time": "2022-07-18T16:32:34.332Z"
   },
   {
    "duration": 18,
    "start_time": "2022-07-18T20:26:58.060Z"
   },
   {
    "duration": 55,
    "start_time": "2022-07-18T20:33:01.326Z"
   },
   {
    "duration": 865,
    "start_time": "2022-07-18T20:33:16.967Z"
   },
   {
    "duration": 967,
    "start_time": "2022-07-18T20:33:17.834Z"
   },
   {
    "duration": 455,
    "start_time": "2022-07-18T20:33:18.804Z"
   },
   {
    "duration": 229,
    "start_time": "2022-07-18T20:33:19.263Z"
   },
   {
    "duration": 69,
    "start_time": "2022-07-18T20:33:19.494Z"
   },
   {
    "duration": 72,
    "start_time": "2022-07-18T20:33:19.566Z"
   },
   {
    "duration": 218,
    "start_time": "2022-07-18T20:33:19.642Z"
   },
   {
    "duration": 364,
    "start_time": "2022-07-18T20:33:19.862Z"
   },
   {
    "duration": 197,
    "start_time": "2022-07-18T20:33:20.227Z"
   },
   {
    "duration": 127,
    "start_time": "2022-07-18T20:33:20.427Z"
   },
   {
    "duration": 132,
    "start_time": "2022-07-18T20:33:20.556Z"
   },
   {
    "duration": 77,
    "start_time": "2022-07-18T20:33:20.690Z"
   },
   {
    "duration": 77,
    "start_time": "2022-07-18T20:33:20.768Z"
   },
   {
    "duration": 168,
    "start_time": "2022-07-18T20:33:20.847Z"
   },
   {
    "duration": 223,
    "start_time": "2022-07-18T20:33:21.017Z"
   },
   {
    "duration": 39,
    "start_time": "2022-07-18T20:33:21.245Z"
   },
   {
    "duration": 10,
    "start_time": "2022-07-18T20:33:21.285Z"
   },
   {
    "duration": 102,
    "start_time": "2022-07-18T20:33:21.297Z"
   },
   {
    "duration": 682,
    "start_time": "2022-07-18T20:33:21.400Z"
   },
   {
    "duration": 88,
    "start_time": "2022-07-18T20:33:22.084Z"
   },
   {
    "duration": 185,
    "start_time": "2022-07-18T20:33:22.174Z"
   },
   {
    "duration": 108,
    "start_time": "2022-07-18T20:33:22.362Z"
   },
   {
    "duration": 205,
    "start_time": "2022-07-18T20:33:22.472Z"
   },
   {
    "duration": 27,
    "start_time": "2022-07-18T20:33:22.678Z"
   },
   {
    "duration": 63,
    "start_time": "2022-07-18T20:33:22.707Z"
   },
   {
    "duration": 111,
    "start_time": "2022-07-18T20:33:22.772Z"
   },
   {
    "duration": 40,
    "start_time": "2022-07-18T20:35:03.710Z"
   },
   {
    "duration": 7,
    "start_time": "2022-07-18T20:35:36.373Z"
   },
   {
    "duration": 36,
    "start_time": "2022-07-18T20:35:59.299Z"
   },
   {
    "duration": 7,
    "start_time": "2022-07-18T20:36:27.100Z"
   },
   {
    "duration": 5,
    "start_time": "2022-07-18T20:36:54.754Z"
   },
   {
    "duration": 25,
    "start_time": "2022-07-18T20:42:43.404Z"
   },
   {
    "duration": 37,
    "start_time": "2022-07-18T20:46:26.635Z"
   },
   {
    "duration": 25,
    "start_time": "2022-07-18T20:47:28.890Z"
   },
   {
    "duration": 19,
    "start_time": "2022-07-18T20:48:42.703Z"
   },
   {
    "duration": 23,
    "start_time": "2022-07-18T21:03:50.357Z"
   },
   {
    "duration": 30,
    "start_time": "2022-07-18T21:08:12.130Z"
   },
   {
    "duration": 23,
    "start_time": "2022-07-18T21:09:12.534Z"
   },
   {
    "duration": 22,
    "start_time": "2022-07-18T21:11:50.148Z"
   },
   {
    "duration": 48,
    "start_time": "2022-07-19T08:22:00.203Z"
   },
   {
    "duration": 845,
    "start_time": "2022-07-19T08:22:08.591Z"
   },
   {
    "duration": 307,
    "start_time": "2022-07-19T08:22:09.439Z"
   },
   {
    "duration": 747,
    "start_time": "2022-07-19T08:22:09.748Z"
   },
   {
    "duration": 443,
    "start_time": "2022-07-19T08:22:10.497Z"
   },
   {
    "duration": 84,
    "start_time": "2022-07-19T08:22:10.942Z"
   },
   {
    "duration": 99,
    "start_time": "2022-07-19T08:22:11.028Z"
   },
   {
    "duration": 196,
    "start_time": "2022-07-19T08:22:11.128Z"
   },
   {
    "duration": 359,
    "start_time": "2022-07-19T08:22:11.325Z"
   },
   {
    "duration": 226,
    "start_time": "2022-07-19T08:22:11.692Z"
   },
   {
    "duration": 107,
    "start_time": "2022-07-19T08:22:11.920Z"
   },
   {
    "duration": 128,
    "start_time": "2022-07-19T08:22:12.029Z"
   },
   {
    "duration": 70,
    "start_time": "2022-07-19T08:22:12.161Z"
   },
   {
    "duration": 71,
    "start_time": "2022-07-19T08:22:12.233Z"
   },
   {
    "duration": 130,
    "start_time": "2022-07-19T08:22:12.307Z"
   },
   {
    "duration": 212,
    "start_time": "2022-07-19T08:22:12.439Z"
   },
   {
    "duration": 48,
    "start_time": "2022-07-19T08:22:12.652Z"
   },
   {
    "duration": 13,
    "start_time": "2022-07-19T08:22:12.702Z"
   },
   {
    "duration": 90,
    "start_time": "2022-07-19T08:22:12.716Z"
   },
   {
    "duration": 656,
    "start_time": "2022-07-19T08:22:12.808Z"
   },
   {
    "duration": 74,
    "start_time": "2022-07-19T08:22:13.469Z"
   },
   {
    "duration": 167,
    "start_time": "2022-07-19T08:22:13.544Z"
   },
   {
    "duration": 93,
    "start_time": "2022-07-19T08:22:13.714Z"
   },
   {
    "duration": 198,
    "start_time": "2022-07-19T08:22:13.809Z"
   },
   {
    "duration": 31,
    "start_time": "2022-07-19T08:22:14.008Z"
   },
   {
    "duration": 45,
    "start_time": "2022-07-19T08:22:14.041Z"
   },
   {
    "duration": 20,
    "start_time": "2022-07-19T08:22:14.096Z"
   },
   {
    "duration": 20,
    "start_time": "2022-07-19T08:33:51.412Z"
   },
   {
    "duration": 18,
    "start_time": "2022-07-19T08:34:54.530Z"
   },
   {
    "duration": 20,
    "start_time": "2022-07-19T08:34:57.319Z"
   },
   {
    "duration": 75,
    "start_time": "2022-07-19T08:35:09.326Z"
   },
   {
    "duration": 4,
    "start_time": "2022-07-19T08:35:13.455Z"
   },
   {
    "duration": 40,
    "start_time": "2022-07-19T08:45:18.932Z"
   },
   {
    "duration": 23,
    "start_time": "2022-07-19T08:52:42.897Z"
   },
   {
    "duration": 20,
    "start_time": "2022-07-19T08:56:42.741Z"
   },
   {
    "duration": 4,
    "start_time": "2022-07-19T08:57:09.848Z"
   },
   {
    "duration": 4,
    "start_time": "2022-07-19T08:57:43.068Z"
   },
   {
    "duration": 20,
    "start_time": "2022-07-19T08:58:29.521Z"
   },
   {
    "duration": 19,
    "start_time": "2022-07-19T08:58:55.090Z"
   },
   {
    "duration": 104,
    "start_time": "2022-07-19T09:13:28.548Z"
   },
   {
    "duration": 13,
    "start_time": "2022-07-19T09:17:09.129Z"
   },
   {
    "duration": 9,
    "start_time": "2022-07-19T10:08:22.585Z"
   },
   {
    "duration": 15,
    "start_time": "2022-07-19T10:09:34.937Z"
   },
   {
    "duration": 13,
    "start_time": "2022-07-19T10:09:55.694Z"
   },
   {
    "duration": 10,
    "start_time": "2022-07-19T10:10:24.432Z"
   },
   {
    "duration": 9,
    "start_time": "2022-07-19T10:10:44.188Z"
   },
   {
    "duration": 13,
    "start_time": "2022-07-19T13:31:37.504Z"
   },
   {
    "duration": 936,
    "start_time": "2022-07-19T13:31:43.694Z"
   },
   {
    "duration": 260,
    "start_time": "2022-07-19T13:31:44.632Z"
   },
   {
    "duration": 207,
    "start_time": "2022-07-19T13:31:44.896Z"
   },
   {
    "duration": 181,
    "start_time": "2022-07-19T13:31:45.107Z"
   },
   {
    "duration": 42,
    "start_time": "2022-07-19T13:31:45.296Z"
   },
   {
    "duration": 66,
    "start_time": "2022-07-19T13:31:45.340Z"
   },
   {
    "duration": 235,
    "start_time": "2022-07-19T13:31:45.408Z"
   },
   {
    "duration": 440,
    "start_time": "2022-07-19T13:31:45.645Z"
   },
   {
    "duration": 224,
    "start_time": "2022-07-19T13:31:46.089Z"
   },
   {
    "duration": 133,
    "start_time": "2022-07-19T13:31:46.315Z"
   },
   {
    "duration": 145,
    "start_time": "2022-07-19T13:31:46.450Z"
   },
   {
    "duration": 85,
    "start_time": "2022-07-19T13:31:46.597Z"
   },
   {
    "duration": 98,
    "start_time": "2022-07-19T13:31:46.684Z"
   },
   {
    "duration": 232,
    "start_time": "2022-07-19T13:31:46.800Z"
   },
   {
    "duration": 312,
    "start_time": "2022-07-19T13:31:47.038Z"
   },
   {
    "duration": 81,
    "start_time": "2022-07-19T13:31:47.353Z"
   },
   {
    "duration": 41,
    "start_time": "2022-07-19T13:31:47.437Z"
   },
   {
    "duration": 196,
    "start_time": "2022-07-19T13:31:47.483Z"
   },
   {
    "duration": 545,
    "start_time": "2022-07-19T13:31:47.682Z"
   },
   {
    "duration": 108,
    "start_time": "2022-07-19T13:31:48.229Z"
   },
   {
    "duration": 172,
    "start_time": "2022-07-19T13:31:48.340Z"
   },
   {
    "duration": 91,
    "start_time": "2022-07-19T13:31:48.514Z"
   },
   {
    "duration": 212,
    "start_time": "2022-07-19T13:31:48.608Z"
   },
   {
    "duration": 70,
    "start_time": "2022-07-19T13:31:48.822Z"
   },
   {
    "duration": 30,
    "start_time": "2022-07-19T13:31:48.894Z"
   },
   {
    "duration": 22,
    "start_time": "2022-07-19T13:31:48.926Z"
   },
   {
    "duration": 34,
    "start_time": "2022-07-19T13:31:48.949Z"
   },
   {
    "duration": 30,
    "start_time": "2022-07-19T13:56:16.120Z"
   },
   {
    "duration": 48,
    "start_time": "2022-07-19T13:57:04.032Z"
   },
   {
    "duration": 25,
    "start_time": "2022-07-19T14:00:31.733Z"
   },
   {
    "duration": 34,
    "start_time": "2022-07-19T14:06:09.589Z"
   },
   {
    "duration": 31,
    "start_time": "2022-07-19T14:15:43.196Z"
   },
   {
    "duration": 38,
    "start_time": "2022-07-19T14:16:30.276Z"
   },
   {
    "duration": 37,
    "start_time": "2022-07-19T14:21:42.288Z"
   },
   {
    "duration": 35,
    "start_time": "2022-07-19T14:24:11.888Z"
   },
   {
    "duration": 47,
    "start_time": "2022-07-19T14:24:59.536Z"
   },
   {
    "duration": 44,
    "start_time": "2022-07-19T14:25:28.201Z"
   },
   {
    "duration": 27,
    "start_time": "2022-07-19T14:27:18.717Z"
   },
   {
    "duration": 21,
    "start_time": "2022-07-19T14:27:52.159Z"
   },
   {
    "duration": 171,
    "start_time": "2022-07-19T14:28:35.330Z"
   },
   {
    "duration": 26,
    "start_time": "2022-07-19T14:28:47.700Z"
   },
   {
    "duration": 849,
    "start_time": "2022-07-19T14:29:52.389Z"
   },
   {
    "duration": 292,
    "start_time": "2022-07-19T14:29:53.240Z"
   },
   {
    "duration": 218,
    "start_time": "2022-07-19T14:29:53.533Z"
   },
   {
    "duration": 191,
    "start_time": "2022-07-19T14:29:53.753Z"
   },
   {
    "duration": 36,
    "start_time": "2022-07-19T14:29:53.946Z"
   },
   {
    "duration": 70,
    "start_time": "2022-07-19T14:29:53.987Z"
   },
   {
    "duration": 286,
    "start_time": "2022-07-19T14:29:54.058Z"
   },
   {
    "duration": 445,
    "start_time": "2022-07-19T14:29:54.345Z"
   },
   {
    "duration": 240,
    "start_time": "2022-07-19T14:29:54.794Z"
   },
   {
    "duration": 135,
    "start_time": "2022-07-19T14:29:55.036Z"
   },
   {
    "duration": 140,
    "start_time": "2022-07-19T14:29:55.173Z"
   },
   {
    "duration": 75,
    "start_time": "2022-07-19T14:29:55.318Z"
   },
   {
    "duration": 99,
    "start_time": "2022-07-19T14:29:55.395Z"
   },
   {
    "duration": 167,
    "start_time": "2022-07-19T14:29:55.504Z"
   },
   {
    "duration": 242,
    "start_time": "2022-07-19T14:29:55.674Z"
   },
   {
    "duration": 33,
    "start_time": "2022-07-19T14:29:55.918Z"
   },
   {
    "duration": 22,
    "start_time": "2022-07-19T14:29:55.953Z"
   },
   {
    "duration": 107,
    "start_time": "2022-07-19T14:29:55.989Z"
   },
   {
    "duration": 599,
    "start_time": "2022-07-19T14:29:56.101Z"
   },
   {
    "duration": 113,
    "start_time": "2022-07-19T14:29:56.701Z"
   },
   {
    "duration": 171,
    "start_time": "2022-07-19T14:29:56.816Z"
   },
   {
    "duration": 130,
    "start_time": "2022-07-19T14:29:56.995Z"
   },
   {
    "duration": 231,
    "start_time": "2022-07-19T14:29:57.127Z"
   },
   {
    "duration": 47,
    "start_time": "2022-07-19T14:29:57.360Z"
   },
   {
    "duration": 39,
    "start_time": "2022-07-19T14:29:57.409Z"
   },
   {
    "duration": 36,
    "start_time": "2022-07-19T14:29:57.449Z"
   },
   {
    "duration": 40,
    "start_time": "2022-07-19T14:29:57.487Z"
   },
   {
    "duration": 25,
    "start_time": "2022-07-19T14:29:57.529Z"
   },
   {
    "duration": 40,
    "start_time": "2022-07-19T14:29:57.556Z"
   },
   {
    "duration": 22,
    "start_time": "2022-07-19T14:30:12.409Z"
   },
   {
    "duration": 40,
    "start_time": "2022-07-19T14:30:18.389Z"
   },
   {
    "duration": 71,
    "start_time": "2022-07-19T14:31:16.059Z"
   },
   {
    "duration": 62,
    "start_time": "2022-07-19T14:31:30.395Z"
   },
   {
    "duration": 26,
    "start_time": "2022-07-19T14:31:49.909Z"
   },
   {
    "duration": 53,
    "start_time": "2022-07-19T14:32:37.651Z"
   },
   {
    "duration": 118,
    "start_time": "2022-07-19T14:44:22.520Z"
   },
   {
    "duration": 105,
    "start_time": "2022-07-19T14:46:07.042Z"
   },
   {
    "duration": 63,
    "start_time": "2022-07-19T14:46:32.980Z"
   },
   {
    "duration": 38,
    "start_time": "2022-07-19T14:48:13.903Z"
   },
   {
    "duration": 66,
    "start_time": "2022-07-19T14:49:01.184Z"
   },
   {
    "duration": 38,
    "start_time": "2022-07-19T14:49:19.196Z"
   },
   {
    "duration": 53,
    "start_time": "2022-07-19T14:49:53.886Z"
   },
   {
    "duration": 50,
    "start_time": "2022-07-19T14:51:00.105Z"
   },
   {
    "duration": 53,
    "start_time": "2022-07-19T14:51:34.306Z"
   },
   {
    "duration": 1009,
    "start_time": "2022-07-19T14:51:50.943Z"
   },
   {
    "duration": 395,
    "start_time": "2022-07-19T14:51:51.957Z"
   },
   {
    "duration": 285,
    "start_time": "2022-07-19T14:51:52.357Z"
   },
   {
    "duration": 220,
    "start_time": "2022-07-19T14:51:52.649Z"
   },
   {
    "duration": 39,
    "start_time": "2022-07-19T14:51:52.875Z"
   },
   {
    "duration": 122,
    "start_time": "2022-07-19T14:51:52.918Z"
   },
   {
    "duration": 366,
    "start_time": "2022-07-19T14:51:53.042Z"
   },
   {
    "duration": 537,
    "start_time": "2022-07-19T14:51:53.411Z"
   },
   {
    "duration": 323,
    "start_time": "2022-07-19T14:51:53.959Z"
   },
   {
    "duration": 133,
    "start_time": "2022-07-19T14:51:54.288Z"
   },
   {
    "duration": 155,
    "start_time": "2022-07-19T14:51:54.426Z"
   },
   {
    "duration": 78,
    "start_time": "2022-07-19T14:51:54.587Z"
   },
   {
    "duration": 176,
    "start_time": "2022-07-19T14:51:54.670Z"
   },
   {
    "duration": 200,
    "start_time": "2022-07-19T14:51:54.848Z"
   },
   {
    "duration": 262,
    "start_time": "2022-07-19T14:51:55.050Z"
   },
   {
    "duration": 53,
    "start_time": "2022-07-19T14:51:55.313Z"
   },
   {
    "duration": 65,
    "start_time": "2022-07-19T14:51:55.368Z"
   },
   {
    "duration": 99,
    "start_time": "2022-07-19T14:51:55.434Z"
   },
   {
    "duration": 516,
    "start_time": "2022-07-19T14:51:55.534Z"
   },
   {
    "duration": 90,
    "start_time": "2022-07-19T14:51:56.052Z"
   },
   {
    "duration": 182,
    "start_time": "2022-07-19T14:51:56.144Z"
   },
   {
    "duration": 118,
    "start_time": "2022-07-19T14:51:56.333Z"
   },
   {
    "duration": 301,
    "start_time": "2022-07-19T14:51:56.455Z"
   },
   {
    "duration": 77,
    "start_time": "2022-07-19T14:51:56.760Z"
   },
   {
    "duration": 93,
    "start_time": "2022-07-19T14:51:56.840Z"
   },
   {
    "duration": 58,
    "start_time": "2022-07-19T14:51:56.939Z"
   },
   {
    "duration": 82,
    "start_time": "2022-07-19T14:51:57.000Z"
   },
   {
    "duration": 89,
    "start_time": "2022-07-19T14:51:57.091Z"
   },
   {
    "duration": 115,
    "start_time": "2022-07-19T14:51:57.182Z"
   },
   {
    "duration": 57,
    "start_time": "2022-07-19T14:52:32.513Z"
   },
   {
    "duration": 64,
    "start_time": "2022-07-19T14:53:21.140Z"
   },
   {
    "duration": 43,
    "start_time": "2022-07-19T14:53:51.302Z"
   },
   {
    "duration": 42,
    "start_time": "2022-07-19T14:54:16.130Z"
   },
   {
    "duration": 61,
    "start_time": "2022-07-19T14:54:31.483Z"
   },
   {
    "duration": 33,
    "start_time": "2022-07-19T14:55:07.312Z"
   },
   {
    "duration": 51,
    "start_time": "2022-07-19T14:59:09.286Z"
   },
   {
    "duration": 161,
    "start_time": "2022-07-19T19:40:05.346Z"
   },
   {
    "duration": 47,
    "start_time": "2022-07-19T19:40:21.918Z"
   },
   {
    "duration": 857,
    "start_time": "2022-07-19T19:40:32.333Z"
   },
   {
    "duration": 328,
    "start_time": "2022-07-19T19:40:33.192Z"
   },
   {
    "duration": 371,
    "start_time": "2022-07-19T19:40:33.523Z"
   },
   {
    "duration": 732,
    "start_time": "2022-07-19T19:40:33.899Z"
   },
   {
    "duration": 94,
    "start_time": "2022-07-19T19:40:34.633Z"
   },
   {
    "duration": 78,
    "start_time": "2022-07-19T19:40:34.729Z"
   },
   {
    "duration": 185,
    "start_time": "2022-07-19T19:40:34.809Z"
   },
   {
    "duration": 359,
    "start_time": "2022-07-19T19:40:34.995Z"
   },
   {
    "duration": 211,
    "start_time": "2022-07-19T19:40:35.356Z"
   },
   {
    "duration": 115,
    "start_time": "2022-07-19T19:40:35.570Z"
   },
   {
    "duration": 130,
    "start_time": "2022-07-19T19:40:35.687Z"
   },
   {
    "duration": 70,
    "start_time": "2022-07-19T19:40:35.818Z"
   },
   {
    "duration": 91,
    "start_time": "2022-07-19T19:40:35.890Z"
   },
   {
    "duration": 142,
    "start_time": "2022-07-19T19:40:35.984Z"
   },
   {
    "duration": 219,
    "start_time": "2022-07-19T19:40:36.128Z"
   },
   {
    "duration": 30,
    "start_time": "2022-07-19T19:40:36.349Z"
   },
   {
    "duration": 19,
    "start_time": "2022-07-19T19:40:36.381Z"
   },
   {
    "duration": 87,
    "start_time": "2022-07-19T19:40:36.403Z"
   },
   {
    "duration": 611,
    "start_time": "2022-07-19T19:40:36.491Z"
   },
   {
    "duration": 80,
    "start_time": "2022-07-19T19:40:37.104Z"
   },
   {
    "duration": 163,
    "start_time": "2022-07-19T19:40:37.185Z"
   },
   {
    "duration": 96,
    "start_time": "2022-07-19T19:40:37.350Z"
   },
   {
    "duration": 176,
    "start_time": "2022-07-19T19:40:37.448Z"
   },
   {
    "duration": 56,
    "start_time": "2022-07-19T19:40:37.626Z"
   },
   {
    "duration": 24,
    "start_time": "2022-07-19T19:40:37.684Z"
   },
   {
    "duration": 71,
    "start_time": "2022-07-19T19:40:37.710Z"
   },
   {
    "duration": 10,
    "start_time": "2022-07-19T19:40:37.784Z"
   },
   {
    "duration": 48,
    "start_time": "2022-07-19T19:40:37.797Z"
   },
   {
    "duration": 40,
    "start_time": "2022-07-19T19:40:37.848Z"
   },
   {
    "duration": 59,
    "start_time": "2022-07-19T19:41:45.535Z"
   },
   {
    "duration": 34,
    "start_time": "2022-07-19T19:41:59.052Z"
   },
   {
    "duration": 30,
    "start_time": "2022-07-19T19:43:22.618Z"
   },
   {
    "duration": 22,
    "start_time": "2022-07-19T19:43:42.578Z"
   },
   {
    "duration": 21,
    "start_time": "2022-07-19T19:44:14.672Z"
   },
   {
    "duration": 26,
    "start_time": "2022-07-19T19:44:40.987Z"
   },
   {
    "duration": 32,
    "start_time": "2022-07-19T19:45:12.856Z"
   },
   {
    "duration": 34,
    "start_time": "2022-07-19T19:45:37.634Z"
   },
   {
    "duration": 93,
    "start_time": "2022-07-19T20:18:47.007Z"
   },
   {
    "duration": 16,
    "start_time": "2022-07-19T20:19:34.656Z"
   },
   {
    "duration": 19,
    "start_time": "2022-07-19T20:19:44.252Z"
   },
   {
    "duration": 26,
    "start_time": "2022-07-19T20:20:17.512Z"
   },
   {
    "duration": 28,
    "start_time": "2022-07-19T20:20:33.561Z"
   },
   {
    "duration": 5,
    "start_time": "2022-07-19T20:23:38.282Z"
   },
   {
    "duration": 5,
    "start_time": "2022-07-19T20:25:00.024Z"
   },
   {
    "duration": 16,
    "start_time": "2022-07-20T14:29:36.634Z"
   },
   {
    "duration": 106,
    "start_time": "2022-07-20T20:12:03.932Z"
   },
   {
    "duration": 57,
    "start_time": "2022-07-20T20:53:55.774Z"
   },
   {
    "duration": 824,
    "start_time": "2022-07-20T20:54:06.769Z"
   },
   {
    "duration": 275,
    "start_time": "2022-07-20T20:54:07.595Z"
   },
   {
    "duration": 367,
    "start_time": "2022-07-20T20:54:07.871Z"
   },
   {
    "duration": 342,
    "start_time": "2022-07-20T20:54:08.240Z"
   },
   {
    "duration": 71,
    "start_time": "2022-07-20T20:54:08.584Z"
   },
   {
    "duration": 83,
    "start_time": "2022-07-20T20:54:08.657Z"
   },
   {
    "duration": 160,
    "start_time": "2022-07-20T20:54:08.742Z"
   },
   {
    "duration": 385,
    "start_time": "2022-07-20T20:54:08.904Z"
   },
   {
    "duration": 193,
    "start_time": "2022-07-20T20:54:09.291Z"
   },
   {
    "duration": 124,
    "start_time": "2022-07-20T20:54:09.487Z"
   },
   {
    "duration": 159,
    "start_time": "2022-07-20T20:54:09.613Z"
   },
   {
    "duration": 96,
    "start_time": "2022-07-20T20:54:09.774Z"
   },
   {
    "duration": 104,
    "start_time": "2022-07-20T20:54:09.871Z"
   },
   {
    "duration": 214,
    "start_time": "2022-07-20T20:54:09.977Z"
   },
   {
    "duration": 371,
    "start_time": "2022-07-20T20:54:10.193Z"
   },
   {
    "duration": 85,
    "start_time": "2022-07-20T20:54:10.565Z"
   },
   {
    "duration": 7,
    "start_time": "2022-07-20T20:54:10.652Z"
   },
   {
    "duration": 119,
    "start_time": "2022-07-20T20:54:10.660Z"
   },
   {
    "duration": 926,
    "start_time": "2022-07-20T20:54:10.781Z"
   },
   {
    "duration": 68,
    "start_time": "2022-07-20T20:54:11.708Z"
   },
   {
    "duration": 135,
    "start_time": "2022-07-20T20:54:11.777Z"
   },
   {
    "duration": 86,
    "start_time": "2022-07-20T20:54:11.915Z"
   },
   {
    "duration": 190,
    "start_time": "2022-07-20T20:54:12.003Z"
   },
   {
    "duration": 29,
    "start_time": "2022-07-20T20:54:12.195Z"
   },
   {
    "duration": 32,
    "start_time": "2022-07-20T20:54:12.226Z"
   },
   {
    "duration": 19,
    "start_time": "2022-07-20T20:54:12.259Z"
   },
   {
    "duration": 8,
    "start_time": "2022-07-20T20:54:12.279Z"
   },
   {
    "duration": 22,
    "start_time": "2022-07-20T20:54:12.290Z"
   },
   {
    "duration": 34,
    "start_time": "2022-07-20T20:54:12.346Z"
   },
   {
    "duration": 5,
    "start_time": "2022-07-20T20:54:12.381Z"
   },
   {
    "duration": 85,
    "start_time": "2022-07-20T20:57:32.476Z"
   },
   {
    "duration": 50,
    "start_time": "2022-07-20T21:06:30.977Z"
   },
   {
    "duration": 190,
    "start_time": "2022-07-20T21:08:00.103Z"
   },
   {
    "duration": 119,
    "start_time": "2022-07-20T21:10:27.127Z"
   },
   {
    "duration": 63,
    "start_time": "2022-07-20T21:10:44.235Z"
   },
   {
    "duration": 94,
    "start_time": "2022-07-20T21:11:40.934Z"
   },
   {
    "duration": 79,
    "start_time": "2022-07-20T21:13:10.733Z"
   },
   {
    "duration": 78,
    "start_time": "2022-07-20T21:14:05.380Z"
   },
   {
    "duration": 58,
    "start_time": "2022-07-20T21:16:25.307Z"
   },
   {
    "duration": 75,
    "start_time": "2022-07-20T21:16:41.193Z"
   },
   {
    "duration": 80,
    "start_time": "2022-07-20T21:16:54.227Z"
   },
   {
    "duration": 116,
    "start_time": "2022-07-20T21:17:17.340Z"
   },
   {
    "duration": 81,
    "start_time": "2022-07-20T21:18:19.862Z"
   },
   {
    "duration": 79,
    "start_time": "2022-07-20T21:19:53.410Z"
   },
   {
    "duration": 81,
    "start_time": "2022-07-20T21:20:02.302Z"
   },
   {
    "duration": 78,
    "start_time": "2022-07-20T21:23:19.579Z"
   },
   {
    "duration": 64,
    "start_time": "2022-07-20T21:25:10.485Z"
   },
   {
    "duration": 92,
    "start_time": "2022-07-20T21:26:13.218Z"
   },
   {
    "duration": 92,
    "start_time": "2022-07-20T21:29:13.179Z"
   },
   {
    "duration": 78,
    "start_time": "2022-07-20T21:30:16.391Z"
   },
   {
    "duration": 84,
    "start_time": "2022-07-20T21:30:52.397Z"
   },
   {
    "duration": 113,
    "start_time": "2022-07-20T21:31:19.184Z"
   },
   {
    "duration": 105,
    "start_time": "2022-07-20T21:31:43.643Z"
   },
   {
    "duration": 81,
    "start_time": "2022-07-20T21:32:10.660Z"
   },
   {
    "duration": 79,
    "start_time": "2022-07-20T21:34:07.268Z"
   },
   {
    "duration": 90,
    "start_time": "2022-07-20T21:34:54.040Z"
   },
   {
    "duration": 56,
    "start_time": "2022-07-20T21:38:20.949Z"
   },
   {
    "duration": 125,
    "start_time": "2022-07-20T21:38:57.848Z"
   },
   {
    "duration": 103,
    "start_time": "2022-07-20T21:40:03.284Z"
   },
   {
    "duration": 90,
    "start_time": "2022-07-20T21:41:31.834Z"
   },
   {
    "duration": 106,
    "start_time": "2022-07-20T21:41:49.582Z"
   },
   {
    "duration": 99,
    "start_time": "2022-07-20T21:43:10.041Z"
   },
   {
    "duration": 101,
    "start_time": "2022-07-20T21:51:45.812Z"
   },
   {
    "duration": 12,
    "start_time": "2022-07-20T22:16:59.494Z"
   },
   {
    "duration": 122,
    "start_time": "2022-07-20T22:17:16.319Z"
   },
   {
    "duration": 123,
    "start_time": "2022-07-20T22:17:50.517Z"
   },
   {
    "duration": 25,
    "start_time": "2022-07-20T22:22:30.527Z"
   },
   {
    "duration": 115,
    "start_time": "2022-07-20T22:23:18.331Z"
   },
   {
    "duration": 29,
    "start_time": "2022-07-20T22:37:34.609Z"
   },
   {
    "duration": 20,
    "start_time": "2022-07-20T22:41:44.120Z"
   },
   {
    "duration": 33,
    "start_time": "2022-07-20T22:42:35.327Z"
   },
   {
    "duration": 20,
    "start_time": "2022-07-20T22:45:05.533Z"
   },
   {
    "duration": 52,
    "start_time": "2022-07-21T06:51:59.823Z"
   },
   {
    "duration": 778,
    "start_time": "2022-07-21T06:52:07.218Z"
   },
   {
    "duration": 524,
    "start_time": "2022-07-21T06:52:07.998Z"
   },
   {
    "duration": 422,
    "start_time": "2022-07-21T06:52:08.523Z"
   },
   {
    "duration": 154,
    "start_time": "2022-07-21T06:52:08.947Z"
   },
   {
    "duration": 68,
    "start_time": "2022-07-21T06:52:09.103Z"
   },
   {
    "duration": 69,
    "start_time": "2022-07-21T06:52:09.172Z"
   },
   {
    "duration": 124,
    "start_time": "2022-07-21T06:52:09.243Z"
   },
   {
    "duration": 134,
    "start_time": "2022-07-21T06:52:09.368Z"
   },
   {
    "duration": 124,
    "start_time": "2022-07-21T06:52:09.503Z"
   },
   {
    "duration": 7,
    "start_time": "2022-07-21T06:52:09.629Z"
   },
   {
    "duration": 29,
    "start_time": "2022-07-21T06:52:09.637Z"
   },
   {
    "duration": 93,
    "start_time": "2022-07-21T06:52:09.668Z"
   },
   {
    "duration": 0,
    "start_time": "2022-07-21T06:52:09.763Z"
   },
   {
    "duration": 0,
    "start_time": "2022-07-21T06:52:09.764Z"
   },
   {
    "duration": 0,
    "start_time": "2022-07-21T06:52:09.765Z"
   },
   {
    "duration": 0,
    "start_time": "2022-07-21T06:52:09.766Z"
   },
   {
    "duration": 0,
    "start_time": "2022-07-21T06:52:09.767Z"
   },
   {
    "duration": 0,
    "start_time": "2022-07-21T06:52:09.768Z"
   },
   {
    "duration": 0,
    "start_time": "2022-07-21T06:52:09.769Z"
   },
   {
    "duration": 0,
    "start_time": "2022-07-21T06:52:09.770Z"
   },
   {
    "duration": 0,
    "start_time": "2022-07-21T06:52:09.771Z"
   },
   {
    "duration": 0,
    "start_time": "2022-07-21T06:52:09.772Z"
   },
   {
    "duration": 0,
    "start_time": "2022-07-21T06:52:09.773Z"
   },
   {
    "duration": 14,
    "start_time": "2022-07-21T07:03:33.405Z"
   },
   {
    "duration": 17,
    "start_time": "2022-07-21T07:06:25.932Z"
   },
   {
    "duration": 32,
    "start_time": "2022-07-21T07:09:05.011Z"
   },
   {
    "duration": 28,
    "start_time": "2022-07-21T07:10:06.438Z"
   },
   {
    "duration": 36,
    "start_time": "2022-07-21T07:12:37.143Z"
   },
   {
    "duration": 608,
    "start_time": "2022-07-21T07:16:55.939Z"
   },
   {
    "duration": 139,
    "start_time": "2022-07-21T07:17:51.068Z"
   },
   {
    "duration": 118,
    "start_time": "2022-07-21T07:17:57.403Z"
   },
   {
    "duration": 116,
    "start_time": "2022-07-21T07:18:02.210Z"
   },
   {
    "duration": 140,
    "start_time": "2022-07-21T07:18:18.737Z"
   },
   {
    "duration": 138,
    "start_time": "2022-07-21T07:20:46.214Z"
   },
   {
    "duration": 162,
    "start_time": "2022-07-21T07:21:00.244Z"
   },
   {
    "duration": 137,
    "start_time": "2022-07-21T07:21:23.973Z"
   },
   {
    "duration": 114,
    "start_time": "2022-07-21T07:21:52.813Z"
   },
   {
    "duration": 220,
    "start_time": "2022-07-21T07:22:24.922Z"
   },
   {
    "duration": 168,
    "start_time": "2022-07-21T07:25:56.163Z"
   },
   {
    "duration": 137,
    "start_time": "2022-07-21T07:26:38.277Z"
   },
   {
    "duration": 112,
    "start_time": "2022-07-21T07:26:57.981Z"
   },
   {
    "duration": 133,
    "start_time": "2022-07-21T07:30:30.339Z"
   },
   {
    "duration": 126,
    "start_time": "2022-07-21T07:31:08.427Z"
   },
   {
    "duration": 129,
    "start_time": "2022-07-21T07:31:30.348Z"
   },
   {
    "duration": 167,
    "start_time": "2022-07-21T07:31:48.314Z"
   },
   {
    "duration": 147,
    "start_time": "2022-07-21T07:38:37.378Z"
   },
   {
    "duration": 26,
    "start_time": "2022-07-21T08:15:28.422Z"
   },
   {
    "duration": 26,
    "start_time": "2022-07-21T08:16:30.803Z"
   },
   {
    "duration": 30,
    "start_time": "2022-07-21T08:18:30.289Z"
   },
   {
    "duration": 112,
    "start_time": "2022-07-21T08:19:36.434Z"
   },
   {
    "duration": 115,
    "start_time": "2022-07-21T08:20:04.174Z"
   },
   {
    "duration": 220,
    "start_time": "2022-07-21T08:20:54.761Z"
   },
   {
    "duration": 134,
    "start_time": "2022-07-21T08:21:49.256Z"
   },
   {
    "duration": 142,
    "start_time": "2022-07-21T08:22:02.616Z"
   },
   {
    "duration": 143,
    "start_time": "2022-07-21T08:25:53.439Z"
   },
   {
    "duration": 24,
    "start_time": "2022-07-21T09:00:13.802Z"
   },
   {
    "duration": 30,
    "start_time": "2022-07-21T09:01:17.217Z"
   },
   {
    "duration": 32,
    "start_time": "2022-07-21T09:02:29.673Z"
   },
   {
    "duration": 211,
    "start_time": "2022-07-21T09:05:26.568Z"
   },
   {
    "duration": 184,
    "start_time": "2022-07-21T09:05:39.210Z"
   },
   {
    "duration": 126,
    "start_time": "2022-07-21T09:46:32.650Z"
   },
   {
    "duration": 8,
    "start_time": "2022-07-21T09:46:35.947Z"
   },
   {
    "duration": 9,
    "start_time": "2022-07-21T09:46:56.836Z"
   },
   {
    "duration": 11,
    "start_time": "2022-07-21T09:59:00.723Z"
   },
   {
    "duration": 8,
    "start_time": "2022-07-21T10:15:36.851Z"
   },
   {
    "duration": 9,
    "start_time": "2022-07-21T10:16:56.944Z"
   },
   {
    "duration": 10,
    "start_time": "2022-07-21T10:17:04.262Z"
   },
   {
    "duration": 9,
    "start_time": "2022-07-21T10:17:09.619Z"
   },
   {
    "duration": 10,
    "start_time": "2022-07-21T10:23:37.749Z"
   },
   {
    "duration": 11,
    "start_time": "2022-07-21T10:51:13.234Z"
   },
   {
    "duration": 10,
    "start_time": "2022-07-21T11:05:24.796Z"
   },
   {
    "duration": 6,
    "start_time": "2022-07-21T11:05:40.688Z"
   },
   {
    "duration": 8,
    "start_time": "2022-07-21T11:05:44.577Z"
   },
   {
    "duration": 11,
    "start_time": "2022-07-21T11:17:13.059Z"
   },
   {
    "duration": 13,
    "start_time": "2022-07-21T11:17:20.456Z"
   },
   {
    "duration": 12,
    "start_time": "2022-07-21T11:18:34.239Z"
   },
   {
    "duration": 13,
    "start_time": "2022-07-21T11:19:05.740Z"
   },
   {
    "duration": 4,
    "start_time": "2022-07-21T11:19:28.411Z"
   },
   {
    "duration": 4,
    "start_time": "2022-07-21T11:19:34.018Z"
   },
   {
    "duration": 11,
    "start_time": "2022-07-21T11:26:33.498Z"
   },
   {
    "duration": 6,
    "start_time": "2022-07-21T11:27:10.367Z"
   },
   {
    "duration": 836,
    "start_time": "2022-07-21T22:02:45.487Z"
   },
   {
    "duration": 313,
    "start_time": "2022-07-21T22:02:46.326Z"
   },
   {
    "duration": 341,
    "start_time": "2022-07-21T22:02:46.640Z"
   },
   {
    "duration": 342,
    "start_time": "2022-07-21T22:02:46.983Z"
   },
   {
    "duration": 77,
    "start_time": "2022-07-21T22:02:47.326Z"
   },
   {
    "duration": 83,
    "start_time": "2022-07-21T22:02:47.405Z"
   },
   {
    "duration": 125,
    "start_time": "2022-07-21T22:02:47.490Z"
   },
   {
    "duration": 144,
    "start_time": "2022-07-21T22:02:47.617Z"
   },
   {
    "duration": 127,
    "start_time": "2022-07-21T22:02:47.763Z"
   },
   {
    "duration": 6,
    "start_time": "2022-07-21T22:02:47.893Z"
   },
   {
    "duration": 60,
    "start_time": "2022-07-21T22:02:47.901Z"
   },
   {
    "duration": 597,
    "start_time": "2022-07-21T22:02:47.962Z"
   },
   {
    "duration": 32,
    "start_time": "2022-07-21T22:02:48.561Z"
   },
   {
    "duration": 177,
    "start_time": "2022-07-21T22:02:48.595Z"
   },
   {
    "duration": 34,
    "start_time": "2022-07-21T22:02:48.774Z"
   },
   {
    "duration": 205,
    "start_time": "2022-07-21T22:02:48.810Z"
   },
   {
    "duration": 99,
    "start_time": "2022-07-21T22:02:49.017Z"
   },
   {
    "duration": 0,
    "start_time": "2022-07-21T22:02:49.118Z"
   },
   {
    "duration": 0,
    "start_time": "2022-07-21T22:02:49.119Z"
   },
   {
    "duration": 4,
    "start_time": "2022-07-21T22:03:41.210Z"
   },
   {
    "duration": 161,
    "start_time": "2022-07-22T07:48:09.893Z"
   },
   {
    "duration": 46,
    "start_time": "2022-07-22T07:52:18.108Z"
   },
   {
    "duration": 870,
    "start_time": "2022-07-22T07:52:28.239Z"
   },
   {
    "duration": 326,
    "start_time": "2022-07-22T07:52:29.112Z"
   },
   {
    "duration": 449,
    "start_time": "2022-07-22T07:52:29.439Z"
   },
   {
    "duration": 394,
    "start_time": "2022-07-22T07:52:29.892Z"
   },
   {
    "duration": 91,
    "start_time": "2022-07-22T07:52:30.287Z"
   },
   {
    "duration": 81,
    "start_time": "2022-07-22T07:52:30.380Z"
   },
   {
    "duration": 170,
    "start_time": "2022-07-22T07:52:30.462Z"
   },
   {
    "duration": 186,
    "start_time": "2022-07-22T07:52:30.634Z"
   },
   {
    "duration": 168,
    "start_time": "2022-07-22T07:52:30.821Z"
   },
   {
    "duration": 130,
    "start_time": "2022-07-22T07:52:30.993Z"
   },
   {
    "duration": 0,
    "start_time": "2022-07-22T07:52:31.125Z"
   },
   {
    "duration": 0,
    "start_time": "2022-07-22T07:52:31.127Z"
   },
   {
    "duration": 0,
    "start_time": "2022-07-22T07:52:31.128Z"
   },
   {
    "duration": 0,
    "start_time": "2022-07-22T07:52:31.130Z"
   },
   {
    "duration": 0,
    "start_time": "2022-07-22T07:52:31.131Z"
   },
   {
    "duration": 0,
    "start_time": "2022-07-22T07:52:31.133Z"
   },
   {
    "duration": 0,
    "start_time": "2022-07-22T07:52:31.134Z"
   },
   {
    "duration": 0,
    "start_time": "2022-07-22T07:52:31.136Z"
   },
   {
    "duration": 0,
    "start_time": "2022-07-22T07:52:31.137Z"
   },
   {
    "duration": 0,
    "start_time": "2022-07-22T07:52:31.139Z"
   },
   {
    "duration": 0,
    "start_time": "2022-07-22T07:52:31.141Z"
   },
   {
    "duration": 887,
    "start_time": "2022-07-22T07:52:42.452Z"
   },
   {
    "duration": 249,
    "start_time": "2022-07-22T07:52:43.342Z"
   },
   {
    "duration": 167,
    "start_time": "2022-07-22T07:52:43.594Z"
   },
   {
    "duration": 142,
    "start_time": "2022-07-22T07:52:43.767Z"
   },
   {
    "duration": 27,
    "start_time": "2022-07-22T07:52:43.910Z"
   },
   {
    "duration": 66,
    "start_time": "2022-07-22T07:52:43.939Z"
   },
   {
    "duration": 154,
    "start_time": "2022-07-22T07:52:44.007Z"
   },
   {
    "duration": 162,
    "start_time": "2022-07-22T07:52:44.163Z"
   },
   {
    "duration": 140,
    "start_time": "2022-07-22T07:52:44.327Z"
   },
   {
    "duration": 113,
    "start_time": "2022-07-22T07:52:44.469Z"
   },
   {
    "duration": 0,
    "start_time": "2022-07-22T07:52:44.584Z"
   },
   {
    "duration": 0,
    "start_time": "2022-07-22T07:52:44.585Z"
   },
   {
    "duration": 0,
    "start_time": "2022-07-22T07:52:44.586Z"
   },
   {
    "duration": 0,
    "start_time": "2022-07-22T07:52:44.587Z"
   },
   {
    "duration": 0,
    "start_time": "2022-07-22T07:52:44.588Z"
   },
   {
    "duration": 0,
    "start_time": "2022-07-22T07:52:44.589Z"
   },
   {
    "duration": 0,
    "start_time": "2022-07-22T07:52:44.590Z"
   },
   {
    "duration": 0,
    "start_time": "2022-07-22T07:52:44.591Z"
   },
   {
    "duration": 0,
    "start_time": "2022-07-22T07:52:44.592Z"
   },
   {
    "duration": 0,
    "start_time": "2022-07-22T07:52:44.592Z"
   },
   {
    "duration": 864,
    "start_time": "2022-07-22T07:53:09.067Z"
   },
   {
    "duration": 222,
    "start_time": "2022-07-22T07:53:09.933Z"
   },
   {
    "duration": 195,
    "start_time": "2022-07-22T07:53:10.156Z"
   },
   {
    "duration": 144,
    "start_time": "2022-07-22T07:53:10.352Z"
   },
   {
    "duration": 32,
    "start_time": "2022-07-22T07:53:10.498Z"
   },
   {
    "duration": 56,
    "start_time": "2022-07-22T07:53:10.531Z"
   },
   {
    "duration": 153,
    "start_time": "2022-07-22T07:53:10.593Z"
   },
   {
    "duration": 164,
    "start_time": "2022-07-22T07:53:10.748Z"
   },
   {
    "duration": 185,
    "start_time": "2022-07-22T07:53:10.913Z"
   },
   {
    "duration": 922,
    "start_time": "2022-07-22T07:53:11.100Z"
   },
   {
    "duration": 9,
    "start_time": "2022-07-22T07:53:12.024Z"
   },
   {
    "duration": 64,
    "start_time": "2022-07-22T07:53:12.034Z"
   },
   {
    "duration": 199,
    "start_time": "2022-07-22T07:53:12.100Z"
   },
   {
    "duration": 38,
    "start_time": "2022-07-22T07:53:12.305Z"
   },
   {
    "duration": 173,
    "start_time": "2022-07-22T07:53:12.345Z"
   },
   {
    "duration": 60,
    "start_time": "2022-07-22T07:53:12.520Z"
   },
   {
    "duration": 264,
    "start_time": "2022-07-22T07:53:12.581Z"
   },
   {
    "duration": 22,
    "start_time": "2022-07-22T07:53:12.847Z"
   },
   {
    "duration": 55,
    "start_time": "2022-07-22T07:53:12.871Z"
   },
   {
    "duration": 15,
    "start_time": "2022-07-22T07:53:12.928Z"
   },
   {
    "duration": 334,
    "start_time": "2022-07-22T07:53:54.903Z"
   },
   {
    "duration": 861,
    "start_time": "2022-07-22T08:08:36.709Z"
   },
   {
    "duration": 243,
    "start_time": "2022-07-22T08:08:37.580Z"
   },
   {
    "duration": 198,
    "start_time": "2022-07-22T08:08:37.824Z"
   },
   {
    "duration": 126,
    "start_time": "2022-07-22T08:08:38.024Z"
   },
   {
    "duration": 45,
    "start_time": "2022-07-22T08:08:38.152Z"
   },
   {
    "duration": 49,
    "start_time": "2022-07-22T08:08:38.199Z"
   },
   {
    "duration": 156,
    "start_time": "2022-07-22T08:08:38.249Z"
   },
   {
    "duration": 162,
    "start_time": "2022-07-22T08:08:38.407Z"
   },
   {
    "duration": 146,
    "start_time": "2022-07-22T08:08:38.575Z"
   },
   {
    "duration": 677,
    "start_time": "2022-07-22T08:08:38.724Z"
   },
   {
    "duration": 9,
    "start_time": "2022-07-22T08:08:39.404Z"
   },
   {
    "duration": 75,
    "start_time": "2022-07-22T08:08:39.415Z"
   },
   {
    "duration": 204,
    "start_time": "2022-07-22T08:08:39.495Z"
   },
   {
    "duration": 33,
    "start_time": "2022-07-22T08:08:39.700Z"
   },
   {
    "duration": 187,
    "start_time": "2022-07-22T08:08:39.735Z"
   },
   {
    "duration": 68,
    "start_time": "2022-07-22T08:08:39.924Z"
   },
   {
    "duration": 216,
    "start_time": "2022-07-22T08:08:39.995Z"
   },
   {
    "duration": 7,
    "start_time": "2022-07-22T08:08:40.213Z"
   },
   {
    "duration": 14,
    "start_time": "2022-07-22T08:08:40.222Z"
   },
   {
    "duration": 36,
    "start_time": "2022-07-22T08:08:40.238Z"
   },
   {
    "duration": 618,
    "start_time": "2022-07-22T09:29:39.040Z"
   },
   {
    "duration": 1108,
    "start_time": "2022-07-22T09:29:46.826Z"
   },
   {
    "duration": 306,
    "start_time": "2022-07-22T09:29:47.936Z"
   },
   {
    "duration": 502,
    "start_time": "2022-07-22T09:29:48.244Z"
   },
   {
    "duration": 394,
    "start_time": "2022-07-22T09:29:48.748Z"
   },
   {
    "duration": 93,
    "start_time": "2022-07-22T09:29:49.144Z"
   },
   {
    "duration": 98,
    "start_time": "2022-07-22T09:29:49.239Z"
   },
   {
    "duration": 229,
    "start_time": "2022-07-22T09:29:49.338Z"
   },
   {
    "duration": 185,
    "start_time": "2022-07-22T09:29:49.568Z"
   },
   {
    "duration": 129,
    "start_time": "2022-07-22T09:29:49.755Z"
   },
   {
    "duration": 398,
    "start_time": "2022-07-22T09:29:49.886Z"
   },
   {
    "duration": 0,
    "start_time": "2022-07-22T09:29:50.286Z"
   },
   {
    "duration": 0,
    "start_time": "2022-07-22T09:29:50.288Z"
   },
   {
    "duration": 0,
    "start_time": "2022-07-22T09:29:50.288Z"
   },
   {
    "duration": 0,
    "start_time": "2022-07-22T09:29:50.290Z"
   },
   {
    "duration": 0,
    "start_time": "2022-07-22T09:29:50.290Z"
   },
   {
    "duration": 0,
    "start_time": "2022-07-22T09:29:50.292Z"
   },
   {
    "duration": 0,
    "start_time": "2022-07-22T09:29:50.294Z"
   },
   {
    "duration": 0,
    "start_time": "2022-07-22T09:29:50.296Z"
   },
   {
    "duration": 0,
    "start_time": "2022-07-22T09:29:50.297Z"
   },
   {
    "duration": 0,
    "start_time": "2022-07-22T09:29:50.298Z"
   },
   {
    "duration": 331,
    "start_time": "2022-07-22T09:30:18.098Z"
   },
   {
    "duration": 418,
    "start_time": "2022-07-22T09:31:58.769Z"
   },
   {
    "duration": 320,
    "start_time": "2022-07-22T09:32:22.703Z"
   },
   {
    "duration": 408,
    "start_time": "2022-07-22T09:32:38.742Z"
   },
   {
    "duration": 319,
    "start_time": "2022-07-22T09:37:40.843Z"
   },
   {
    "duration": 316,
    "start_time": "2022-07-22T09:37:50.768Z"
   },
   {
    "duration": 997,
    "start_time": "2022-07-22T09:41:20.448Z"
   },
   {
    "duration": 255,
    "start_time": "2022-07-22T09:41:21.447Z"
   },
   {
    "duration": 165,
    "start_time": "2022-07-22T09:41:21.704Z"
   },
   {
    "duration": 114,
    "start_time": "2022-07-22T09:41:21.871Z"
   },
   {
    "duration": 29,
    "start_time": "2022-07-22T09:41:21.986Z"
   },
   {
    "duration": 41,
    "start_time": "2022-07-22T09:41:22.024Z"
   },
   {
    "duration": 133,
    "start_time": "2022-07-22T09:41:22.067Z"
   },
   {
    "duration": 172,
    "start_time": "2022-07-22T09:41:22.202Z"
   },
   {
    "duration": 150,
    "start_time": "2022-07-22T09:41:22.377Z"
   },
   {
    "duration": 7,
    "start_time": "2022-07-22T09:41:22.530Z"
   },
   {
    "duration": 42,
    "start_time": "2022-07-22T09:41:22.539Z"
   },
   {
    "duration": 2,
    "start_time": "2022-07-22T09:41:22.582Z"
   },
   {
    "duration": 399,
    "start_time": "2022-07-22T09:41:22.586Z"
   },
   {
    "duration": 47,
    "start_time": "2022-07-22T09:41:22.987Z"
   },
   {
    "duration": 183,
    "start_time": "2022-07-22T09:41:23.035Z"
   },
   {
    "duration": 37,
    "start_time": "2022-07-22T09:41:23.220Z"
   },
   {
    "duration": 223,
    "start_time": "2022-07-22T09:41:23.259Z"
   },
   {
    "duration": 9,
    "start_time": "2022-07-22T09:41:23.483Z"
   },
   {
    "duration": 32,
    "start_time": "2022-07-22T09:41:23.493Z"
   },
   {
    "duration": 17,
    "start_time": "2022-07-22T09:41:23.528Z"
   },
   {
    "duration": 3,
    "start_time": "2022-07-22T09:41:54.500Z"
   },
   {
    "duration": 313,
    "start_time": "2022-07-22T09:43:31.516Z"
   },
   {
    "duration": 168,
    "start_time": "2022-07-22T09:43:55.045Z"
   },
   {
    "duration": 178,
    "start_time": "2022-07-22T09:44:04.491Z"
   },
   {
    "duration": 334,
    "start_time": "2022-07-22T09:44:14.215Z"
   },
   {
    "duration": 387,
    "start_time": "2022-07-22T09:44:41.281Z"
   },
   {
    "duration": 344,
    "start_time": "2022-07-22T09:45:41.027Z"
   },
   {
    "duration": 3,
    "start_time": "2022-07-22T09:46:00.399Z"
   },
   {
    "duration": 327,
    "start_time": "2022-07-22T09:47:14.356Z"
   },
   {
    "duration": 187,
    "start_time": "2022-07-22T09:47:41.098Z"
   },
   {
    "duration": 153,
    "start_time": "2022-07-22T09:47:53.126Z"
   },
   {
    "duration": 162,
    "start_time": "2022-07-22T09:48:26.443Z"
   },
   {
    "duration": 293,
    "start_time": "2022-07-22T09:54:35.908Z"
   },
   {
    "duration": 210,
    "start_time": "2022-07-22T09:54:58.305Z"
   },
   {
    "duration": 122,
    "start_time": "2022-07-22T09:55:08.289Z"
   },
   {
    "duration": 214,
    "start_time": "2022-07-22T09:55:23.116Z"
   },
   {
    "duration": 112,
    "start_time": "2022-07-22T09:55:31.046Z"
   },
   {
    "duration": 146,
    "start_time": "2022-07-22T09:55:59.047Z"
   },
   {
    "duration": 112,
    "start_time": "2022-07-22T09:56:13.697Z"
   },
   {
    "duration": 115,
    "start_time": "2022-07-22T09:56:19.842Z"
   },
   {
    "duration": 105,
    "start_time": "2022-07-22T09:56:41.622Z"
   },
   {
    "duration": 305,
    "start_time": "2022-07-22T09:59:47.341Z"
   },
   {
    "duration": 117,
    "start_time": "2022-07-22T10:01:25.913Z"
   },
   {
    "duration": 105,
    "start_time": "2022-07-22T10:02:08.554Z"
   },
   {
    "duration": 209,
    "start_time": "2022-07-22T10:02:18.318Z"
   },
   {
    "duration": 130,
    "start_time": "2022-07-22T10:02:32.251Z"
   },
   {
    "duration": 119,
    "start_time": "2022-07-22T10:02:46.910Z"
   },
   {
    "duration": 145,
    "start_time": "2022-07-22T10:02:54.296Z"
   },
   {
    "duration": 93,
    "start_time": "2022-07-22T10:04:11.688Z"
   },
   {
    "duration": 99,
    "start_time": "2022-07-22T10:04:16.065Z"
   },
   {
    "duration": 112,
    "start_time": "2022-07-22T10:04:26.450Z"
   },
   {
    "duration": 100,
    "start_time": "2022-07-22T10:04:39.699Z"
   },
   {
    "duration": 99,
    "start_time": "2022-07-22T10:04:47.744Z"
   },
   {
    "duration": 92,
    "start_time": "2022-07-22T10:05:59.216Z"
   },
   {
    "duration": 99,
    "start_time": "2022-07-22T10:06:04.632Z"
   },
   {
    "duration": 99,
    "start_time": "2022-07-22T10:06:10.312Z"
   },
   {
    "duration": 100,
    "start_time": "2022-07-22T10:06:13.776Z"
   },
   {
    "duration": 93,
    "start_time": "2022-07-22T10:07:27.938Z"
   },
   {
    "duration": 198,
    "start_time": "2022-07-22T10:07:30.816Z"
   },
   {
    "duration": 103,
    "start_time": "2022-07-22T10:07:39.059Z"
   },
   {
    "duration": 104,
    "start_time": "2022-07-22T10:07:48.283Z"
   },
   {
    "duration": 93,
    "start_time": "2022-07-22T10:08:32.976Z"
   },
   {
    "duration": 95,
    "start_time": "2022-07-22T10:08:42.620Z"
   },
   {
    "duration": 93,
    "start_time": "2022-07-22T10:08:50.386Z"
   },
   {
    "duration": 110,
    "start_time": "2022-07-22T10:08:57.271Z"
   },
   {
    "duration": 111,
    "start_time": "2022-07-22T10:09:19.882Z"
   },
   {
    "duration": 92,
    "start_time": "2022-07-22T10:09:25.569Z"
   },
   {
    "duration": 94,
    "start_time": "2022-07-22T10:09:30.514Z"
   },
   {
    "duration": 95,
    "start_time": "2022-07-22T10:10:14.980Z"
   },
   {
    "duration": 91,
    "start_time": "2022-07-22T10:10:21.160Z"
   },
   {
    "duration": 95,
    "start_time": "2022-07-22T10:10:26.374Z"
   },
   {
    "duration": 101,
    "start_time": "2022-07-22T15:05:29.065Z"
   }
  ],
  "kernelspec": {
   "display_name": "Python 3 (ipykernel)",
   "language": "python",
   "name": "python3"
  },
  "language_info": {
   "codemirror_mode": {
    "name": "ipython",
    "version": 3
   },
   "file_extension": ".py",
   "mimetype": "text/x-python",
   "name": "python",
   "nbconvert_exporter": "python",
   "pygments_lexer": "ipython3",
   "version": "3.9.18"
  },
  "toc": {
   "base_numbering": 1,
   "nav_menu": {},
   "number_sections": true,
   "sideBar": true,
   "skip_h1_title": true,
   "title_cell": "Table of Contents",
   "title_sidebar": "Contents",
   "toc_cell": false,
   "toc_position": {
    "height": "calc(100% - 180px)",
    "left": "10px",
    "top": "150px",
    "width": "409.094px"
   },
   "toc_section_display": true,
   "toc_window_display": true
  }
 },
 "nbformat": 4,
 "nbformat_minor": 2
}
