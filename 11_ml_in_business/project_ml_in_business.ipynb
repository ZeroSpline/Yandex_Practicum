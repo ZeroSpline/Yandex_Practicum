{
 "cells": [
  {
   "cell_type": "markdown",
   "metadata": {},
   "source": [
    "## Загрузка и подготовка данных"
   ]
  },
  {
   "cell_type": "code",
   "execution_count": 1,
   "metadata": {},
   "outputs": [],
   "source": [
    "# импорт библиотек для исследования\n",
    "import pandas as pd\n",
    "import numpy as np\n",
    "import matplotlib.pyplot as plt\n",
    "from sklearn.model_selection import train_test_split\n",
    "from sklearn.linear_model import LinearRegression\n",
    "from sklearn.utils import shuffle\n",
    "from sklearn.metrics import mean_squared_error"
   ]
  },
  {
   "cell_type": "code",
   "execution_count": 2,
   "metadata": {
    "scrolled": false
   },
   "outputs": [
    {
     "name": "stdout",
     "output_type": "stream",
     "text": [
      "<class 'pandas.core.frame.DataFrame'>\n",
      "RangeIndex: 100000 entries, 0 to 99999\n",
      "Data columns (total 5 columns):\n",
      " #   Column   Non-Null Count   Dtype  \n",
      "---  ------   --------------   -----  \n",
      " 0   id       100000 non-null  object \n",
      " 1   f0       100000 non-null  float64\n",
      " 2   f1       100000 non-null  float64\n",
      " 3   f2       100000 non-null  float64\n",
      " 4   product  100000 non-null  float64\n",
      "dtypes: float64(4), object(1)\n",
      "memory usage: 3.8+ MB\n"
     ]
    },
    {
     "data": {
      "text/plain": [
       "None"
      ]
     },
     "metadata": {},
     "output_type": "display_data"
    },
    {
     "data": {
      "text/html": [
       "<div>\n",
       "<style scoped>\n",
       "    .dataframe tbody tr th:only-of-type {\n",
       "        vertical-align: middle;\n",
       "    }\n",
       "\n",
       "    .dataframe tbody tr th {\n",
       "        vertical-align: top;\n",
       "    }\n",
       "\n",
       "    .dataframe thead th {\n",
       "        text-align: right;\n",
       "    }\n",
       "</style>\n",
       "<table border=\"1\" class=\"dataframe\">\n",
       "  <thead>\n",
       "    <tr style=\"text-align: right;\">\n",
       "      <th></th>\n",
       "      <th>id</th>\n",
       "      <th>f0</th>\n",
       "      <th>f1</th>\n",
       "      <th>f2</th>\n",
       "      <th>product</th>\n",
       "    </tr>\n",
       "  </thead>\n",
       "  <tbody>\n",
       "    <tr>\n",
       "      <th>0</th>\n",
       "      <td>txEyH</td>\n",
       "      <td>0.705745</td>\n",
       "      <td>-0.497823</td>\n",
       "      <td>1.221170</td>\n",
       "      <td>105.280062</td>\n",
       "    </tr>\n",
       "    <tr>\n",
       "      <th>1</th>\n",
       "      <td>2acmU</td>\n",
       "      <td>1.334711</td>\n",
       "      <td>-0.340164</td>\n",
       "      <td>4.365080</td>\n",
       "      <td>73.037750</td>\n",
       "    </tr>\n",
       "    <tr>\n",
       "      <th>2</th>\n",
       "      <td>409Wp</td>\n",
       "      <td>1.022732</td>\n",
       "      <td>0.151990</td>\n",
       "      <td>1.419926</td>\n",
       "      <td>85.265647</td>\n",
       "    </tr>\n",
       "  </tbody>\n",
       "</table>\n",
       "</div>"
      ],
      "text/plain": [
       "      id        f0        f1        f2     product\n",
       "0  txEyH  0.705745 -0.497823  1.221170  105.280062\n",
       "1  2acmU  1.334711 -0.340164  4.365080   73.037750\n",
       "2  409Wp  1.022732  0.151990  1.419926   85.265647"
      ]
     },
     "metadata": {},
     "output_type": "display_data"
    },
    {
     "name": "stdout",
     "output_type": "stream",
     "text": [
      "<class 'pandas.core.frame.DataFrame'>\n",
      "RangeIndex: 100000 entries, 0 to 99999\n",
      "Data columns (total 5 columns):\n",
      " #   Column   Non-Null Count   Dtype  \n",
      "---  ------   --------------   -----  \n",
      " 0   id       100000 non-null  object \n",
      " 1   f0       100000 non-null  float64\n",
      " 2   f1       100000 non-null  float64\n",
      " 3   f2       100000 non-null  float64\n",
      " 4   product  100000 non-null  float64\n",
      "dtypes: float64(4), object(1)\n",
      "memory usage: 3.8+ MB\n"
     ]
    },
    {
     "data": {
      "text/plain": [
       "None"
      ]
     },
     "metadata": {},
     "output_type": "display_data"
    },
    {
     "data": {
      "text/html": [
       "<div>\n",
       "<style scoped>\n",
       "    .dataframe tbody tr th:only-of-type {\n",
       "        vertical-align: middle;\n",
       "    }\n",
       "\n",
       "    .dataframe tbody tr th {\n",
       "        vertical-align: top;\n",
       "    }\n",
       "\n",
       "    .dataframe thead th {\n",
       "        text-align: right;\n",
       "    }\n",
       "</style>\n",
       "<table border=\"1\" class=\"dataframe\">\n",
       "  <thead>\n",
       "    <tr style=\"text-align: right;\">\n",
       "      <th></th>\n",
       "      <th>id</th>\n",
       "      <th>f0</th>\n",
       "      <th>f1</th>\n",
       "      <th>f2</th>\n",
       "      <th>product</th>\n",
       "    </tr>\n",
       "  </thead>\n",
       "  <tbody>\n",
       "    <tr>\n",
       "      <th>0</th>\n",
       "      <td>kBEdx</td>\n",
       "      <td>-15.001348</td>\n",
       "      <td>-8.276000</td>\n",
       "      <td>-0.005876</td>\n",
       "      <td>3.179103</td>\n",
       "    </tr>\n",
       "    <tr>\n",
       "      <th>1</th>\n",
       "      <td>62mP7</td>\n",
       "      <td>14.272088</td>\n",
       "      <td>-3.475083</td>\n",
       "      <td>0.999183</td>\n",
       "      <td>26.953261</td>\n",
       "    </tr>\n",
       "    <tr>\n",
       "      <th>2</th>\n",
       "      <td>vyE1P</td>\n",
       "      <td>6.263187</td>\n",
       "      <td>-5.948386</td>\n",
       "      <td>5.001160</td>\n",
       "      <td>134.766305</td>\n",
       "    </tr>\n",
       "  </tbody>\n",
       "</table>\n",
       "</div>"
      ],
      "text/plain": [
       "      id         f0        f1        f2     product\n",
       "0  kBEdx -15.001348 -8.276000 -0.005876    3.179103\n",
       "1  62mP7  14.272088 -3.475083  0.999183   26.953261\n",
       "2  vyE1P   6.263187 -5.948386  5.001160  134.766305"
      ]
     },
     "metadata": {},
     "output_type": "display_data"
    },
    {
     "name": "stdout",
     "output_type": "stream",
     "text": [
      "<class 'pandas.core.frame.DataFrame'>\n",
      "RangeIndex: 100000 entries, 0 to 99999\n",
      "Data columns (total 5 columns):\n",
      " #   Column   Non-Null Count   Dtype  \n",
      "---  ------   --------------   -----  \n",
      " 0   id       100000 non-null  object \n",
      " 1   f0       100000 non-null  float64\n",
      " 2   f1       100000 non-null  float64\n",
      " 3   f2       100000 non-null  float64\n",
      " 4   product  100000 non-null  float64\n",
      "dtypes: float64(4), object(1)\n",
      "memory usage: 3.8+ MB\n"
     ]
    },
    {
     "data": {
      "text/plain": [
       "None"
      ]
     },
     "metadata": {},
     "output_type": "display_data"
    },
    {
     "data": {
      "text/html": [
       "<div>\n",
       "<style scoped>\n",
       "    .dataframe tbody tr th:only-of-type {\n",
       "        vertical-align: middle;\n",
       "    }\n",
       "\n",
       "    .dataframe tbody tr th {\n",
       "        vertical-align: top;\n",
       "    }\n",
       "\n",
       "    .dataframe thead th {\n",
       "        text-align: right;\n",
       "    }\n",
       "</style>\n",
       "<table border=\"1\" class=\"dataframe\">\n",
       "  <thead>\n",
       "    <tr style=\"text-align: right;\">\n",
       "      <th></th>\n",
       "      <th>id</th>\n",
       "      <th>f0</th>\n",
       "      <th>f1</th>\n",
       "      <th>f2</th>\n",
       "      <th>product</th>\n",
       "    </tr>\n",
       "  </thead>\n",
       "  <tbody>\n",
       "    <tr>\n",
       "      <th>0</th>\n",
       "      <td>fwXo0</td>\n",
       "      <td>-1.146987</td>\n",
       "      <td>0.963328</td>\n",
       "      <td>-0.828965</td>\n",
       "      <td>27.758673</td>\n",
       "    </tr>\n",
       "    <tr>\n",
       "      <th>1</th>\n",
       "      <td>WJtFt</td>\n",
       "      <td>0.262778</td>\n",
       "      <td>0.269839</td>\n",
       "      <td>-2.530187</td>\n",
       "      <td>56.069697</td>\n",
       "    </tr>\n",
       "    <tr>\n",
       "      <th>2</th>\n",
       "      <td>ovLUW</td>\n",
       "      <td>0.194587</td>\n",
       "      <td>0.289035</td>\n",
       "      <td>-5.586433</td>\n",
       "      <td>62.871910</td>\n",
       "    </tr>\n",
       "  </tbody>\n",
       "</table>\n",
       "</div>"
      ],
      "text/plain": [
       "      id        f0        f1        f2    product\n",
       "0  fwXo0 -1.146987  0.963328 -0.828965  27.758673\n",
       "1  WJtFt  0.262778  0.269839 -2.530187  56.069697\n",
       "2  ovLUW  0.194587  0.289035 -5.586433  62.871910"
      ]
     },
     "metadata": {},
     "output_type": "display_data"
    }
   ],
   "source": [
    "# откроем файлы\n",
    "df_one = pd.read_csv('geo_data_0.csv')\n",
    "df_two = pd.read_csv('geo_data_1.csv')\n",
    "df_thr = pd.read_csv('geo_data_2.csv')\n",
    "# выведем на экран\n",
    "display(df_one.info())\n",
    "display(df_one.head(3))\n",
    "# выведем на экран\n",
    "display(df_two.info())\n",
    "display(df_two.head(3))\n",
    "# выведем на экран\n",
    "display(df_thr.info())\n",
    "display(df_thr.head(3))"
   ]
  },
  {
   "cell_type": "markdown",
   "metadata": {},
   "source": [
    "### Вывод"
   ]
  },
  {
   "cell_type": "markdown",
   "metadata": {},
   "source": [
    "Данные корректны, пропусков нет."
   ]
  },
  {
   "cell_type": "markdown",
   "metadata": {},
   "source": [
    "## Обучение и проверка модели"
   ]
  },
  {
   "cell_type": "code",
   "execution_count": 3,
   "metadata": {},
   "outputs": [
    {
     "data": {
      "text/plain": [
       "92.50000000000001"
      ]
     },
     "metadata": {},
     "output_type": "display_data"
    },
    {
     "data": {
      "text/plain": [
       "68.82500000000002"
      ]
     },
     "metadata": {},
     "output_type": "display_data"
    },
    {
     "data": {
      "text/plain": [
       "95.00000000000004"
      ]
     },
     "metadata": {},
     "output_type": "display_data"
    }
   ],
   "source": [
    "# обозначим признаки и цели, выведем среднее количество \n",
    "features_one = df_one.drop(['id', 'product'], axis=1)\n",
    "target_one = df_one['product']\n",
    "display(df_one['product'].mean())\n",
    "# обозначим признаки и цели, выведем среднее количество \n",
    "features_two = df_two.drop(['id', 'product'], axis=1)\n",
    "target_two = df_two['product']\n",
    "display(df_two['product'].mean())\n",
    "# обозначим признаки и цели, выведем среднее количество \n",
    "features_thr = df_thr.drop(['id', 'product'], axis=1)\n",
    "target_thr = df_thr['product']\n",
    "display(df_thr['product'].mean())\n",
    "# разделим выборки на обучающие и валидационные\n",
    "features_train_one, features_valid_one, target_train_one, target_valid_one = train_test_split(features_one, target_one, test_size=0.25, random_state=42)\n",
    "features_train_one, target_train_one = shuffle(features_train_one, target_train_one, random_state=42)\n",
    "# разделим выборки на обучающие и валидационные                                      \n",
    "features_train_two, features_valid_two, target_train_two, target_valid_two = train_test_split(features_two, target_two, test_size=0.25, random_state=42)\n",
    "features_train_two, target_train_two = shuffle(features_train_two, target_train_two, random_state=42)\n",
    "# разделим выборки на обучающие и валидационные\n",
    "features_train_thr, features_valid_thr, target_train_thr, target_valid_thr = train_test_split(features_thr, target_thr, test_size=0.25, random_state=42)\n",
    "features_train_thr, target_train_thr = shuffle(features_train_thr, target_train_thr, random_state=42)\n"
   ]
  },
  {
   "cell_type": "code",
   "execution_count": 4,
   "metadata": {},
   "outputs": [
    {
     "data": {
      "text/plain": [
       "92.39879990657768"
      ]
     },
     "metadata": {},
     "output_type": "display_data"
    },
    {
     "data": {
      "text/plain": [
       "2309969.997664442"
      ]
     },
     "metadata": {},
     "output_type": "display_data"
    },
    {
     "data": {
      "text/plain": [
       "'RMSE первой модели линейной регрессии на валидационной выборке:'"
      ]
     },
     "metadata": {},
     "output_type": "display_data"
    },
    {
     "data": {
      "text/plain": [
       "37.75660035026169"
      ]
     },
     "metadata": {},
     "output_type": "display_data"
    }
   ],
   "source": [
    "# обучим первую модель, выведем средние значения и сумму предсказаний\n",
    "model_one = LinearRegression() \n",
    "model_one.fit(features_train_one, target_train_one)\n",
    "predictions_valid_one = pd.Series(model_one.predict(features_valid_one), index=features_valid_one.index)\n",
    "display(predictions_valid_one.mean())\n",
    "display(predictions_valid_one.sum())\n",
    "# выведем результат\n",
    "result_one = mean_squared_error(target_valid_one, predictions_valid_one) ** 0.5\n",
    "display(\"RMSE первой модели линейной регрессии на валидационной выборке:\", result_one)"
   ]
  },
  {
   "cell_type": "code",
   "execution_count": 5,
   "metadata": {},
   "outputs": [
    {
     "data": {
      "text/plain": [
       "68.71287803913762"
      ]
     },
     "metadata": {},
     "output_type": "display_data"
    },
    {
     "data": {
      "text/plain": [
       "1717821.9509784405"
      ]
     },
     "metadata": {},
     "output_type": "display_data"
    },
    {
     "data": {
      "text/plain": [
       "'RMSE второй модели линейной регрессии на валидационной выборке:'"
      ]
     },
     "metadata": {},
     "output_type": "display_data"
    },
    {
     "data": {
      "text/plain": [
       "0.8902801001028822"
      ]
     },
     "metadata": {},
     "output_type": "display_data"
    }
   ],
   "source": [
    "# обучим вторую модель, выведем средние значения и сумму предсказаний\n",
    "model_two = LinearRegression() \n",
    "model_two.fit(features_train_two, target_train_two)\n",
    "predictions_valid_two = pd.Series(model_two.predict(features_valid_two), index=features_valid_two.index)\n",
    "display(predictions_valid_two.mean())\n",
    "display(predictions_valid_two.sum())\n",
    "# выведем результат\n",
    "result_two = mean_squared_error(target_valid_two, predictions_valid_two) ** 0.5\n",
    "display(\"RMSE второй модели линейной регрессии на валидационной выборке:\", result_two)"
   ]
  },
  {
   "cell_type": "code",
   "execution_count": 6,
   "metadata": {},
   "outputs": [
    {
     "data": {
      "text/plain": [
       "94.77102387765936"
      ]
     },
     "metadata": {},
     "output_type": "display_data"
    },
    {
     "data": {
      "text/plain": [
       "2369275.596941484"
      ]
     },
     "metadata": {},
     "output_type": "display_data"
    },
    {
     "data": {
      "text/plain": [
       "'RMSE третьей модели линейной регрессии на валидационной выборке:'"
      ]
     },
     "metadata": {},
     "output_type": "display_data"
    },
    {
     "data": {
      "text/plain": [
       "40.14587231134218"
      ]
     },
     "metadata": {},
     "output_type": "display_data"
    }
   ],
   "source": [
    "# обучим третью модель, выведем средние значения и сумму предсказаний\n",
    "model_thr = LinearRegression() \n",
    "model_thr.fit(features_train_thr, target_train_thr)\n",
    "predictions_valid_thr = pd.Series(model_thr.predict(features_valid_thr), index=features_valid_thr.index)\n",
    "display(predictions_valid_thr.mean())\n",
    "display(predictions_valid_thr.sum())\n",
    "# выведем результат\n",
    "result_thr = mean_squared_error(target_valid_thr, predictions_valid_thr) ** 0.5\n",
    "display(\"RMSE третьей модели линейной регрессии на валидационной выборке:\", result_thr)"
   ]
  },
  {
   "cell_type": "markdown",
   "metadata": {},
   "source": [
    "### Вывод"
   ]
  },
  {
   "cell_type": "markdown",
   "metadata": {},
   "source": [
    "- Для первой модели RMSE равна 37.75\n",
    "- Для второй модели RMSE равна 0.89\n",
    "- Для третьей модели RMSE равна 40.14"
   ]
  },
  {
   "cell_type": "markdown",
   "metadata": {},
   "source": [
    "## Подготовка к расчёту прибыли"
   ]
  },
  {
   "cell_type": "code",
   "execution_count": 7,
   "metadata": {},
   "outputs": [
    {
     "data": {
      "text/plain": [
       "'Минимальный объем тыс. баррелей для разработки одной скважины составляет:'"
      ]
     },
     "metadata": {},
     "output_type": "display_data"
    },
    {
     "data": {
      "text/plain": [
       "111.0"
      ]
     },
     "metadata": {},
     "output_type": "display_data"
    }
   ],
   "source": [
    "# обозначим основные константы\n",
    "BUDGET_REGION = 10_000_000_000\n",
    "INCOME_PER_UNIT = 450_000\n",
    "COUNT_WELL = 500\n",
    "BEST_COUNT_WELL = 200\n",
    "# расчет безубыточности\n",
    "min_product_region = BUDGET_REGION / (INCOME_PER_UNIT * BEST_COUNT_WELL)\n",
    "display('Минимальный объем тыс. баррелей для разработки одной скважины составляет:', round(min_product_region, 0))"
   ]
  },
  {
   "cell_type": "code",
   "execution_count": 8,
   "metadata": {},
   "outputs": [],
   "source": [
    "# объем баррелей в лучших 200 скважинах\n",
    "#top_region_one = predictions_valid_one.sort_values(ascending=False)\n",
    "#display('Для первого региона объем составляет:', round(sum(top_region_one[0:200]), 0))\n",
    "#top_region_two = predictions_valid_two.sort_values(ascending=False)\n",
    "#display('Для второго региона объем составляет:', round(sum(top_region_two[0:200]), 0))\n",
    "#top_region_thr = predictions_valid_thr.sort_values(ascending=False)\n",
    "#display('Для третьего региона объем составляет:', round(sum(top_region_thr[0:200]), 0))"
   ]
  },
  {
   "cell_type": "code",
   "execution_count": 9,
   "metadata": {},
   "outputs": [],
   "source": [
    "# функция расчет прибыли\n",
    "def revenue(predictions, target):\n",
    "    predictions_sort = predictions.sort_values(ascending=False)\n",
    "    predictions_selected = predictions_sort[0:200]\n",
    "    product_selected = target[predictions_selected.index]\n",
    "    value = (sum(product_selected) * INCOME_PER_UNIT) - BUDGET_REGION\n",
    "    return value"
   ]
  },
  {
   "cell_type": "code",
   "execution_count": 10,
   "metadata": {
    "scrolled": true
   },
   "outputs": [
    {
     "data": {
      "text/plain": [
       "'Размер прибыли с первого региона:'"
      ]
     },
     "metadata": {},
     "output_type": "display_data"
    },
    {
     "data": {
      "text/plain": [
       "3359141114.0"
      ]
     },
     "metadata": {},
     "output_type": "display_data"
    },
    {
     "data": {
      "text/plain": [
       "'Размер прибыли со второго региона:'"
      ]
     },
     "metadata": {},
     "output_type": "display_data"
    },
    {
     "data": {
      "text/plain": [
       "2415086697.0"
      ]
     },
     "metadata": {},
     "output_type": "display_data"
    },
    {
     "data": {
      "text/plain": [
       "'Размер прибыли с третьего региона:'"
      ]
     },
     "metadata": {},
     "output_type": "display_data"
    },
    {
     "data": {
      "text/plain": [
       "2598571759.0"
      ]
     },
     "metadata": {},
     "output_type": "display_data"
    }
   ],
   "source": [
    "# расчет прибыли по регионам без bootstrap\n",
    "display('Размер прибыли с первого региона:', round(revenue(predictions_valid_one, target_valid_one), 0))\n",
    "display('Размер прибыли со второго региона:', round(revenue(predictions_valid_two, target_valid_two), 0))\n",
    "display('Размер прибыли с третьего региона:', round(revenue(predictions_valid_thr, target_valid_thr), 0))"
   ]
  },
  {
   "cell_type": "markdown",
   "metadata": {},
   "source": [
    "### Вывод"
   ]
  },
  {
   "cell_type": "markdown",
   "metadata": {},
   "source": [
    "Минимальный объем тыс. баррелей для разработки одной скважины составляет: 111.00, что больше на 14-38% в зависимости от региона:\n",
    "- Средний объем скважин для первого региона составляет 92.39 тыс. баррелей\n",
    "- Средний объем скважин для вторго региона составляет 68.71 тыс. баррелей\n",
    "- Средний объем скважин для третьего региона составляет 94.77 тыс. баррелей"
   ]
  },
  {
   "cell_type": "markdown",
   "metadata": {},
   "source": [
    "## Расчёт прибыли и рисков "
   ]
  },
  {
   "cell_type": "code",
   "execution_count": 11,
   "metadata": {},
   "outputs": [],
   "source": [
    "# создадим функию расчета прибыли\n",
    "def bootstrap(predictions, target):\n",
    "    state = np.random.RandomState(42)\n",
    "    values = []\n",
    "    for i in range(1000):\n",
    "        subsample = predictions.sample(n=500, replace=True, random_state=state)\n",
    "        values.append(revenue(subsample, target))\n",
    "    values = pd.Series(values)\n",
    "    lower = values.quantile(0.025)\n",
    "    upper = values.quantile(0.975)\n",
    "    display('Средняя прибыль, млрд. рублей', round(values.mean()/1000000000, 2))\n",
    "    display('95% доверительный интервал, млрд. рублей', [round(lower/1000000000, 2), round(upper/1000000000, 2)])    \n",
    "    # построение графика\n",
    "    (values/1000000000).hist(bins=20, figsize=(8, 5))\n",
    "    plt.xlabel('Прибыль, млрд. рублей')\n",
    "    plt.title('График распределения прибыли')\n",
    "    plt.show()\n",
    "    # расчет рисков\n",
    "    display('Возможные убытки, %', 100 * values[values < 0].count() / len(values))"
   ]
  },
  {
   "cell_type": "code",
   "execution_count": 12,
   "metadata": {},
   "outputs": [
    {
     "data": {
      "text/plain": [
       "'Средняя прибыль, млрд. рублей'"
      ]
     },
     "metadata": {},
     "output_type": "display_data"
    },
    {
     "data": {
      "text/plain": [
       "0.4"
      ]
     },
     "metadata": {},
     "output_type": "display_data"
    },
    {
     "data": {
      "text/plain": [
       "'95% доверительный интервал, млрд. рублей'"
      ]
     },
     "metadata": {},
     "output_type": "display_data"
    },
    {
     "data": {
      "text/plain": [
       "[-0.11, 0.9]"
      ]
     },
     "metadata": {},
     "output_type": "display_data"
    },
    {
     "data": {
      "image/png": "[encoded data removed]",
      "text/plain": [
       "<Figure size 800x500 with 1 Axes>"
      ]
     },
     "metadata": {},
     "output_type": "display_data"
    },
    {
     "data": {
      "text/plain": [
       "'Возможные убытки, %'"
      ]
     },
     "metadata": {},
     "output_type": "display_data"
    },
    {
     "data": {
      "text/plain": [
       "6.0"
      ]
     },
     "metadata": {},
     "output_type": "display_data"
    }
   ],
   "source": [
    "# расчет прибыли для первого региона\n",
    "bootstrap(predictions_valid_one, target_valid_one)"
   ]
  },
  {
   "cell_type": "code",
   "execution_count": 13,
   "metadata": {
    "scrolled": false
   },
   "outputs": [
    {
     "data": {
      "text/plain": [
       "'Средняя прибыль, млрд. рублей'"
      ]
     },
     "metadata": {},
     "output_type": "display_data"
    },
    {
     "data": {
      "text/plain": [
       "0.45"
      ]
     },
     "metadata": {},
     "output_type": "display_data"
    },
    {
     "data": {
      "text/plain": [
       "'95% доверительный интервал, млрд. рублей'"
      ]
     },
     "metadata": {},
     "output_type": "display_data"
    },
    {
     "data": {
      "text/plain": [
       "[0.06, 0.85]"
      ]
     },
     "metadata": {},
     "output_type": "display_data"
    },
    {
     "data": {
      "image/png": "[encoded data removed]",
      "text/plain": [
       "<Figure size 800x500 with 1 Axes>"
      ]
     },
     "metadata": {},
     "output_type": "display_data"
    },
    {
     "data": {
      "text/plain": [
       "'Возможные убытки, %'"
      ]
     },
     "metadata": {},
     "output_type": "display_data"
    },
    {
     "data": {
      "text/plain": [
       "1.5"
      ]
     },
     "metadata": {},
     "output_type": "display_data"
    }
   ],
   "source": [
    "# расчте прибыли для второго региона\n",
    "bootstrap(predictions_valid_two, target_valid_two)"
   ]
  },
  {
   "cell_type": "code",
   "execution_count": 14,
   "metadata": {},
   "outputs": [
    {
     "data": {
      "text/plain": [
       "'Средняя прибыль, млрд. рублей'"
      ]
     },
     "metadata": {},
     "output_type": "display_data"
    },
    {
     "data": {
      "text/plain": [
       "0.38"
      ]
     },
     "metadata": {},
     "output_type": "display_data"
    },
    {
     "data": {
      "text/plain": [
       "'95% доверительный интервал, млрд. рублей'"
      ]
     },
     "metadata": {},
     "output_type": "display_data"
    },
    {
     "data": {
      "text/plain": [
       "[-0.14, 0.89]"
      ]
     },
     "metadata": {},
     "output_type": "display_data"
    },
    {
     "data": {
      "image/png": "[encoded data removed]",
      "text/plain": [
       "<Figure size 800x500 with 1 Axes>"
      ]
     },
     "metadata": {},
     "output_type": "display_data"
    },
    {
     "data": {
      "text/plain": [
       "'Возможные убытки, %'"
      ]
     },
     "metadata": {},
     "output_type": "display_data"
    },
    {
     "data": {
      "text/plain": [
       "8.0"
      ]
     },
     "metadata": {},
     "output_type": "display_data"
    }
   ],
   "source": [
    "# расчте прибыли для третьего региона\n",
    "bootstrap(predictions_valid_thr, target_valid_thr)"
   ]
  },
  {
   "cell_type": "markdown",
   "metadata": {},
   "source": [
    "### Вывод"
   ]
  },
  {
   "cell_type": "markdown",
   "metadata": {},
   "source": [
    "Наиболее удачным для разработки является второй регион, так как:\n",
    "- Из трех исследуемых, показал наивысший показатель прибыли: 0.45 млрд. рублей\n",
    "- Имеет наименьший риск в размере 1.5%\n",
    "- Имеет лучший из трех, доверительный интервал"
   ]
  }
 ],
 "metadata": {
  "ExecuteTimeLog": [
   {
    "duration": 376,
    "start_time": "2022-09-13T13:37:48.882Z"
   },
   {
    "duration": 465,
    "start_time": "2022-09-13T13:38:06.956Z"
   },
   {
    "duration": 643,
    "start_time": "2022-09-13T13:38:31.977Z"
   },
   {
    "duration": 772,
    "start_time": "2022-09-13T13:40:35.186Z"
   },
   {
    "duration": 425,
    "start_time": "2022-09-13T13:47:07.357Z"
   },
   {
    "duration": 70,
    "start_time": "2022-09-13T13:48:15.425Z"
   },
   {
    "duration": 133,
    "start_time": "2022-09-13T13:48:32.577Z"
   },
   {
    "duration": 354,
    "start_time": "2022-09-13T13:48:38.716Z"
   },
   {
    "duration": 74,
    "start_time": "2022-09-13T13:48:39.072Z"
   },
   {
    "duration": 395,
    "start_time": "2022-09-13T13:48:52.994Z"
   },
   {
    "duration": 634,
    "start_time": "2022-09-13T13:50:58.196Z"
   },
   {
    "duration": 20,
    "start_time": "2022-09-13T13:53:19.790Z"
   },
   {
    "duration": 2,
    "start_time": "2022-09-13T13:57:26.859Z"
   },
   {
    "duration": 58,
    "start_time": "2022-09-13T14:07:34.366Z"
   },
   {
    "duration": 109,
    "start_time": "2022-09-13T14:07:35.538Z"
   },
   {
    "duration": 41,
    "start_time": "2022-09-13T14:08:19.861Z"
   },
   {
    "duration": 27,
    "start_time": "2022-09-13T14:08:32.168Z"
   },
   {
    "duration": 20,
    "start_time": "2022-09-13T14:08:32.920Z"
   },
   {
    "duration": 16,
    "start_time": "2022-09-13T14:09:24.898Z"
   },
   {
    "duration": 14,
    "start_time": "2022-09-13T14:10:56.859Z"
   },
   {
    "duration": 3,
    "start_time": "2022-09-13T14:24:49.418Z"
   },
   {
    "duration": 10,
    "start_time": "2022-09-13T14:31:52.106Z"
   },
   {
    "duration": 76,
    "start_time": "2022-09-13T14:32:00.900Z"
   },
   {
    "duration": 434,
    "start_time": "2022-09-13T14:35:25.954Z"
   },
   {
    "duration": 501,
    "start_time": "2022-09-13T14:36:39.680Z"
   },
   {
    "duration": 15,
    "start_time": "2022-09-13T14:37:13.592Z"
   },
   {
    "duration": 2,
    "start_time": "2022-09-13T14:38:16.377Z"
   },
   {
    "duration": 8,
    "start_time": "2022-09-13T14:39:32.379Z"
   },
   {
    "duration": 13,
    "start_time": "2022-09-13T14:39:38.899Z"
   },
   {
    "duration": 9,
    "start_time": "2022-09-13T14:40:06.203Z"
   },
   {
    "duration": 15,
    "start_time": "2022-09-13T14:40:09.253Z"
   },
   {
    "duration": 14,
    "start_time": "2022-09-13T14:40:10.996Z"
   },
   {
    "duration": 13,
    "start_time": "2022-09-13T14:40:15.164Z"
   },
   {
    "duration": 1218,
    "start_time": "2022-09-13T14:40:25.871Z"
   },
   {
    "duration": 408,
    "start_time": "2022-09-13T14:40:27.091Z"
   },
   {
    "duration": 39,
    "start_time": "2022-09-13T14:40:27.501Z"
   },
   {
    "duration": 39,
    "start_time": "2022-09-13T14:40:27.542Z"
   },
   {
    "duration": 18,
    "start_time": "2022-09-13T14:40:27.583Z"
   },
   {
    "duration": 179,
    "start_time": "2022-09-13T14:40:27.602Z"
   },
   {
    "duration": 195,
    "start_time": "2022-09-13T14:40:27.783Z"
   },
   {
    "duration": 1102,
    "start_time": "2022-09-13T14:40:47.739Z"
   },
   {
    "duration": 391,
    "start_time": "2022-09-13T14:40:48.843Z"
   },
   {
    "duration": 53,
    "start_time": "2022-09-13T14:40:49.235Z"
   },
   {
    "duration": 86,
    "start_time": "2022-09-13T14:40:49.290Z"
   },
   {
    "duration": 102,
    "start_time": "2022-09-13T14:40:49.379Z"
   },
   {
    "duration": 203,
    "start_time": "2022-09-13T14:40:49.483Z"
   },
   {
    "duration": 92,
    "start_time": "2022-09-13T14:41:15.384Z"
   },
   {
    "duration": 31,
    "start_time": "2022-09-13T14:41:32.864Z"
   },
   {
    "duration": 31,
    "start_time": "2022-09-13T14:42:02.961Z"
   },
   {
    "duration": 20,
    "start_time": "2022-09-13T14:42:04.074Z"
   },
   {
    "duration": 14,
    "start_time": "2022-09-13T14:42:05.745Z"
   },
   {
    "duration": 14,
    "start_time": "2022-09-13T14:42:06.849Z"
   },
   {
    "duration": 2,
    "start_time": "2022-09-13T14:44:44.461Z"
   },
   {
    "duration": 515,
    "start_time": "2022-09-13T14:46:48.566Z"
   },
   {
    "duration": 464,
    "start_time": "2022-09-13T14:47:00.215Z"
   },
   {
    "duration": 347,
    "start_time": "2022-09-13T14:47:36.239Z"
   },
   {
    "duration": 470,
    "start_time": "2022-09-13T14:48:15.616Z"
   },
   {
    "duration": 433,
    "start_time": "2022-09-13T14:48:58.048Z"
   },
   {
    "duration": 25,
    "start_time": "2022-09-13T14:53:38.710Z"
   },
   {
    "duration": 2,
    "start_time": "2022-09-13T14:53:53.367Z"
   },
   {
    "duration": 33,
    "start_time": "2022-09-13T14:53:58.343Z"
   },
   {
    "duration": 40,
    "start_time": "2022-09-13T14:54:50.532Z"
   },
   {
    "duration": 443,
    "start_time": "2022-09-13T14:54:54.338Z"
   },
   {
    "duration": 443,
    "start_time": "2022-09-13T14:54:57.138Z"
   },
   {
    "duration": 433,
    "start_time": "2022-09-13T14:54:59.048Z"
   },
   {
    "duration": 39,
    "start_time": "2022-09-13T14:55:16.436Z"
   },
   {
    "duration": 438,
    "start_time": "2022-09-13T14:55:17.444Z"
   },
   {
    "duration": 361,
    "start_time": "2022-09-13T14:55:21.320Z"
   },
   {
    "duration": 341,
    "start_time": "2022-09-13T14:55:28.640Z"
   },
   {
    "duration": 41,
    "start_time": "2022-09-13T14:56:20.242Z"
   },
   {
    "duration": 441,
    "start_time": "2022-09-13T14:56:27.940Z"
   },
   {
    "duration": 480,
    "start_time": "2022-09-13T14:56:28.601Z"
   },
   {
    "duration": 369,
    "start_time": "2022-09-13T14:56:29.321Z"
   },
   {
    "duration": 470,
    "start_time": "2022-09-13T14:57:14.811Z"
   },
   {
    "duration": 44,
    "start_time": "2022-09-13T14:57:32.066Z"
   },
   {
    "duration": 1019,
    "start_time": "2022-09-13T14:57:38.909Z"
   },
   {
    "duration": 401,
    "start_time": "2022-09-13T14:57:39.930Z"
   },
   {
    "duration": 72,
    "start_time": "2022-09-13T14:57:40.333Z"
   },
   {
    "duration": 574,
    "start_time": "2022-09-13T14:57:40.407Z"
   },
   {
    "duration": 600,
    "start_time": "2022-09-13T14:57:40.982Z"
   },
   {
    "duration": 597,
    "start_time": "2022-09-13T14:57:41.584Z"
   },
   {
    "duration": 49,
    "start_time": "2022-09-13T15:10:37.338Z"
   },
   {
    "duration": 42,
    "start_time": "2022-09-13T15:10:54.259Z"
   },
   {
    "duration": 46,
    "start_time": "2022-09-13T15:11:03.105Z"
   },
   {
    "duration": 3,
    "start_time": "2022-09-13T15:12:22.219Z"
   },
   {
    "duration": 18,
    "start_time": "2022-09-13T15:12:45.580Z"
   },
   {
    "duration": 16,
    "start_time": "2022-09-13T15:13:06.551Z"
   },
   {
    "duration": 15,
    "start_time": "2022-09-13T15:13:16.284Z"
   },
   {
    "duration": 3,
    "start_time": "2022-09-13T15:14:46.249Z"
   },
   {
    "duration": 24,
    "start_time": "2022-09-13T15:24:25.853Z"
   },
   {
    "duration": 17,
    "start_time": "2022-09-13T15:24:48.282Z"
   },
   {
    "duration": 17,
    "start_time": "2022-09-13T15:24:59.449Z"
   },
   {
    "duration": 18,
    "start_time": "2022-09-13T15:25:09.866Z"
   },
   {
    "duration": 4,
    "start_time": "2022-09-13T15:25:57.399Z"
   },
   {
    "duration": 3,
    "start_time": "2022-09-13T15:26:03.811Z"
   },
   {
    "duration": 4,
    "start_time": "2022-09-13T15:32:24.597Z"
   },
   {
    "duration": 2,
    "start_time": "2022-09-13T15:37:55.393Z"
   },
   {
    "duration": 92,
    "start_time": "2022-09-13T15:38:22.776Z"
   },
   {
    "duration": 3,
    "start_time": "2022-09-13T15:38:36.845Z"
   },
   {
    "duration": 3,
    "start_time": "2022-09-13T15:38:38.185Z"
   },
   {
    "duration": 4,
    "start_time": "2022-09-13T15:39:16.858Z"
   },
   {
    "duration": 3,
    "start_time": "2022-09-13T15:41:50.190Z"
   },
   {
    "duration": 4,
    "start_time": "2022-09-13T15:42:08.990Z"
   },
   {
    "duration": 3,
    "start_time": "2022-09-13T15:44:00.176Z"
   },
   {
    "duration": 4,
    "start_time": "2022-09-13T15:44:00.808Z"
   },
   {
    "duration": 5,
    "start_time": "2022-09-13T15:44:28.000Z"
   },
   {
    "duration": 1116,
    "start_time": "2022-09-17T20:40:48.560Z"
   },
   {
    "duration": 1874,
    "start_time": "2022-09-17T20:40:49.678Z"
   },
   {
    "duration": 74,
    "start_time": "2022-09-17T20:40:51.553Z"
   },
   {
    "duration": 21,
    "start_time": "2022-09-17T20:40:51.629Z"
   },
   {
    "duration": 97,
    "start_time": "2022-09-17T20:40:51.652Z"
   },
   {
    "duration": 207,
    "start_time": "2022-09-17T20:40:51.751Z"
   },
   {
    "duration": 4,
    "start_time": "2022-09-17T20:40:51.959Z"
   },
   {
    "duration": 59,
    "start_time": "2022-09-17T20:40:51.964Z"
   },
   {
    "duration": 109,
    "start_time": "2022-09-17T20:40:52.024Z"
   },
   {
    "duration": 8,
    "start_time": "2022-09-17T20:40:52.136Z"
   },
   {
    "duration": 21,
    "start_time": "2022-09-17T20:54:37.803Z"
   },
   {
    "duration": 20,
    "start_time": "2022-09-17T20:54:42.004Z"
   },
   {
    "duration": 89,
    "start_time": "2022-09-17T20:56:01.580Z"
   },
   {
    "duration": 4,
    "start_time": "2022-09-17T20:56:12.581Z"
   },
   {
    "duration": 5,
    "start_time": "2022-09-17T20:56:26.165Z"
   },
   {
    "duration": 5,
    "start_time": "2022-09-17T20:56:56.213Z"
   },
   {
    "duration": 3,
    "start_time": "2022-09-17T20:57:34.790Z"
   },
   {
    "duration": 8,
    "start_time": "2022-09-17T20:58:57.771Z"
   },
   {
    "duration": 4,
    "start_time": "2022-09-17T20:58:59.160Z"
   },
   {
    "duration": 3,
    "start_time": "2022-09-17T20:59:00.068Z"
   },
   {
    "duration": 15,
    "start_time": "2022-09-17T20:59:00.760Z"
   },
   {
    "duration": 13,
    "start_time": "2022-09-17T20:59:01.415Z"
   },
   {
    "duration": 3,
    "start_time": "2022-09-17T20:59:25.337Z"
   },
   {
    "duration": 4,
    "start_time": "2022-09-17T20:59:26.047Z"
   },
   {
    "duration": 3,
    "start_time": "2022-09-17T20:59:26.703Z"
   },
   {
    "duration": 4,
    "start_time": "2022-09-17T21:02:37.959Z"
   },
   {
    "duration": 13,
    "start_time": "2022-09-17T21:02:38.565Z"
   },
   {
    "duration": 10,
    "start_time": "2022-09-17T21:03:15.764Z"
   },
   {
    "duration": 11,
    "start_time": "2022-09-17T21:04:49.154Z"
   },
   {
    "duration": 4,
    "start_time": "2022-09-17T21:05:25.438Z"
   },
   {
    "duration": 85,
    "start_time": "2022-09-17T21:05:47.102Z"
   },
   {
    "duration": 5,
    "start_time": "2022-09-17T21:05:49.877Z"
   },
   {
    "duration": 39,
    "start_time": "2022-09-17T21:06:16.110Z"
   },
   {
    "duration": 4,
    "start_time": "2022-09-17T21:06:32.278Z"
   },
   {
    "duration": 8,
    "start_time": "2022-09-17T21:06:32.864Z"
   },
   {
    "duration": 4,
    "start_time": "2022-09-17T21:07:14.400Z"
   },
   {
    "duration": 7,
    "start_time": "2022-09-17T21:07:15.169Z"
   },
   {
    "duration": 8,
    "start_time": "2022-09-17T21:07:22.636Z"
   },
   {
    "duration": 8,
    "start_time": "2022-09-17T21:07:47.396Z"
   },
   {
    "duration": 10,
    "start_time": "2022-09-17T21:08:17.689Z"
   },
   {
    "duration": 48,
    "start_time": "2022-09-17T21:10:40.779Z"
   },
   {
    "duration": 21,
    "start_time": "2022-09-17T21:10:47.573Z"
   },
   {
    "duration": 15,
    "start_time": "2022-09-17T21:10:56.917Z"
   },
   {
    "duration": 18,
    "start_time": "2022-09-17T21:12:15.213Z"
   },
   {
    "duration": 83,
    "start_time": "2022-09-17T21:12:40.365Z"
   },
   {
    "duration": 22,
    "start_time": "2022-09-17T21:12:45.933Z"
   },
   {
    "duration": 20,
    "start_time": "2022-09-17T21:13:23.006Z"
   },
   {
    "duration": 16,
    "start_time": "2022-09-17T21:13:52.295Z"
   },
   {
    "duration": 16,
    "start_time": "2022-09-17T21:14:03.749Z"
   },
   {
    "duration": 8,
    "start_time": "2022-09-17T21:15:51.369Z"
   },
   {
    "duration": 6,
    "start_time": "2022-09-17T21:16:08.267Z"
   },
   {
    "duration": 4,
    "start_time": "2022-09-17T21:16:16.466Z"
   },
   {
    "duration": 5,
    "start_time": "2022-09-17T21:16:26.873Z"
   },
   {
    "duration": 75,
    "start_time": "2022-09-17T21:20:38.504Z"
   },
   {
    "duration": 7,
    "start_time": "2022-09-17T21:20:51.702Z"
   },
   {
    "duration": 124,
    "start_time": "2022-09-17T22:36:39.767Z"
   },
   {
    "duration": 10,
    "start_time": "2022-09-17T22:36:43.764Z"
   },
   {
    "duration": 14,
    "start_time": "2022-09-17T22:37:17.605Z"
   },
   {
    "duration": 21,
    "start_time": "2022-09-17T22:37:45.299Z"
   },
   {
    "duration": 1179,
    "start_time": "2022-09-18T08:54:39.616Z"
   },
   {
    "duration": 1212,
    "start_time": "2022-09-18T08:54:40.797Z"
   },
   {
    "duration": 92,
    "start_time": "2022-09-18T08:54:42.011Z"
   },
   {
    "duration": 72,
    "start_time": "2022-09-18T08:54:42.105Z"
   },
   {
    "duration": 107,
    "start_time": "2022-09-18T08:54:42.254Z"
   },
   {
    "duration": 128,
    "start_time": "2022-09-18T08:54:42.366Z"
   },
   {
    "duration": 188,
    "start_time": "2022-09-18T08:54:42.496Z"
   },
   {
    "duration": 43,
    "start_time": "2022-09-18T08:54:42.686Z"
   },
   {
    "duration": 10,
    "start_time": "2022-09-18T08:54:42.731Z"
   },
   {
    "duration": 46,
    "start_time": "2022-09-18T08:54:42.744Z"
   },
   {
    "duration": 117,
    "start_time": "2022-09-18T08:56:53.540Z"
   },
   {
    "duration": 11,
    "start_time": "2022-09-18T08:57:09.114Z"
   },
   {
    "duration": 75,
    "start_time": "2022-09-18T08:57:37.788Z"
   },
   {
    "duration": 5,
    "start_time": "2022-09-18T10:30:42.824Z"
   },
   {
    "duration": 18,
    "start_time": "2022-09-18T10:39:48.812Z"
   },
   {
    "duration": 3,
    "start_time": "2022-09-18T10:40:19.158Z"
   },
   {
    "duration": 18,
    "start_time": "2022-09-18T10:40:24.339Z"
   },
   {
    "duration": 21,
    "start_time": "2022-09-18T10:40:32.652Z"
   },
   {
    "duration": 81,
    "start_time": "2022-09-18T10:40:51.146Z"
   },
   {
    "duration": 18,
    "start_time": "2022-09-18T10:41:04.238Z"
   },
   {
    "duration": 64,
    "start_time": "2022-09-18T10:43:57.462Z"
   },
   {
    "duration": 88,
    "start_time": "2022-09-18T10:44:39.397Z"
   },
   {
    "duration": 100,
    "start_time": "2022-09-18T10:45:13.895Z"
   },
   {
    "duration": 1106,
    "start_time": "2022-09-18T10:45:37.569Z"
   },
   {
    "duration": 480,
    "start_time": "2022-09-18T10:45:38.677Z"
   },
   {
    "duration": 97,
    "start_time": "2022-09-18T10:45:39.158Z"
   },
   {
    "duration": 99,
    "start_time": "2022-09-18T10:45:39.258Z"
   },
   {
    "duration": 115,
    "start_time": "2022-09-18T10:45:39.359Z"
   },
   {
    "duration": 110,
    "start_time": "2022-09-18T10:45:39.560Z"
   },
   {
    "duration": 189,
    "start_time": "2022-09-18T10:45:39.671Z"
   },
   {
    "duration": 28,
    "start_time": "2022-09-18T10:45:39.862Z"
   },
   {
    "duration": 3,
    "start_time": "2022-09-18T10:45:39.892Z"
   },
   {
    "duration": 21,
    "start_time": "2022-09-18T10:45:39.897Z"
   },
   {
    "duration": 90,
    "start_time": "2022-09-18T10:45:39.919Z"
   },
   {
    "duration": 77,
    "start_time": "2022-09-18T10:48:38.976Z"
   },
   {
    "duration": 155,
    "start_time": "2022-09-18T10:50:02.666Z"
   },
   {
    "duration": 64,
    "start_time": "2022-09-18T10:50:13.554Z"
   },
   {
    "duration": 49,
    "start_time": "2022-09-18T10:50:29.267Z"
   },
   {
    "duration": 63,
    "start_time": "2022-09-18T10:51:06.103Z"
   },
   {
    "duration": 1119,
    "start_time": "2022-09-18T10:51:29.644Z"
   },
   {
    "duration": 462,
    "start_time": "2022-09-18T10:51:30.765Z"
   },
   {
    "duration": 65,
    "start_time": "2022-09-18T10:51:31.255Z"
   },
   {
    "duration": 134,
    "start_time": "2022-09-18T10:51:31.322Z"
   },
   {
    "duration": 113,
    "start_time": "2022-09-18T10:51:31.458Z"
   },
   {
    "duration": 205,
    "start_time": "2022-09-18T10:51:31.573Z"
   },
   {
    "duration": 177,
    "start_time": "2022-09-18T10:51:31.780Z"
   },
   {
    "duration": 50,
    "start_time": "2022-09-18T10:51:31.958Z"
   },
   {
    "duration": 4,
    "start_time": "2022-09-18T10:51:32.010Z"
   },
   {
    "duration": 40,
    "start_time": "2022-09-18T10:51:32.016Z"
   },
   {
    "duration": 53,
    "start_time": "2022-09-18T10:51:32.057Z"
   },
   {
    "duration": 48,
    "start_time": "2022-09-18T10:51:54.105Z"
   },
   {
    "duration": 67,
    "start_time": "2022-09-18T10:52:12.621Z"
   },
   {
    "duration": 124,
    "start_time": "2022-09-18T10:53:51.487Z"
   },
   {
    "duration": 52,
    "start_time": "2022-09-18T10:54:28.912Z"
   },
   {
    "duration": 187,
    "start_time": "2022-09-18T10:56:04.745Z"
   },
   {
    "duration": 102,
    "start_time": "2022-09-18T10:57:39.908Z"
   },
   {
    "duration": 518,
    "start_time": "2022-09-18T10:57:48.648Z"
   },
   {
    "duration": 42,
    "start_time": "2022-09-18T11:00:52.064Z"
   },
   {
    "duration": 159,
    "start_time": "2022-09-18T11:02:01.314Z"
   },
   {
    "duration": 1071,
    "start_time": "2022-09-18T11:02:29.106Z"
   },
   {
    "duration": 494,
    "start_time": "2022-09-18T11:02:30.179Z"
   },
   {
    "duration": 99,
    "start_time": "2022-09-18T11:02:30.675Z"
   },
   {
    "duration": 85,
    "start_time": "2022-09-18T11:02:30.776Z"
   },
   {
    "duration": 188,
    "start_time": "2022-09-18T11:02:30.865Z"
   },
   {
    "duration": 110,
    "start_time": "2022-09-18T11:02:31.055Z"
   },
   {
    "duration": 189,
    "start_time": "2022-09-18T11:02:31.167Z"
   },
   {
    "duration": 21,
    "start_time": "2022-09-18T11:02:31.357Z"
   },
   {
    "duration": 4,
    "start_time": "2022-09-18T11:02:31.379Z"
   },
   {
    "duration": 79,
    "start_time": "2022-09-18T11:02:31.385Z"
   },
   {
    "duration": 611,
    "start_time": "2022-09-18T11:02:31.466Z"
   },
   {
    "duration": 53,
    "start_time": "2022-09-18T11:02:32.079Z"
   },
   {
    "duration": 0,
    "start_time": "2022-09-18T11:02:32.134Z"
   },
   {
    "duration": 70,
    "start_time": "2022-09-18T11:03:08.654Z"
   },
   {
    "duration": 53,
    "start_time": "2022-09-18T11:03:23.662Z"
   },
   {
    "duration": 1483,
    "start_time": "2022-09-18T11:03:32.458Z"
   },
   {
    "duration": 349,
    "start_time": "2022-09-18T11:03:41.716Z"
   },
   {
    "duration": 51,
    "start_time": "2022-09-18T11:04:50.446Z"
   },
   {
    "duration": 5,
    "start_time": "2022-09-18T11:05:17.763Z"
   },
   {
    "duration": 116,
    "start_time": "2022-09-18T11:06:06.538Z"
   },
   {
    "duration": 18,
    "start_time": "2022-09-18T11:06:35.154Z"
   },
   {
    "duration": 19,
    "start_time": "2022-09-18T11:07:57.121Z"
   },
   {
    "duration": 18,
    "start_time": "2022-09-18T11:08:09.558Z"
   },
   {
    "duration": 4,
    "start_time": "2022-09-18T11:09:19.076Z"
   },
   {
    "duration": 19,
    "start_time": "2022-09-18T11:09:32.293Z"
   },
   {
    "duration": 349,
    "start_time": "2022-09-18T11:09:39.159Z"
   },
   {
    "duration": 346,
    "start_time": "2022-09-18T11:13:22.297Z"
   },
   {
    "duration": 355,
    "start_time": "2022-09-18T11:13:43.351Z"
   },
   {
    "duration": 1022,
    "start_time": "2022-09-18T11:14:53.166Z"
   },
   {
    "duration": 13,
    "start_time": "2022-09-18T11:15:17.771Z"
   },
   {
    "duration": 12,
    "start_time": "2022-09-18T11:15:21.946Z"
   },
   {
    "duration": 513,
    "start_time": "2022-09-18T11:15:26.276Z"
   },
   {
    "duration": 4,
    "start_time": "2022-09-18T11:16:01.668Z"
   },
   {
    "duration": 547,
    "start_time": "2022-09-18T11:16:05.108Z"
   },
   {
    "duration": 542,
    "start_time": "2022-09-18T11:16:30.151Z"
   },
   {
    "duration": 47,
    "start_time": "2022-09-18T11:19:52.505Z"
   },
   {
    "duration": 525,
    "start_time": "2022-09-18T11:20:00.609Z"
   },
   {
    "duration": 599,
    "start_time": "2022-09-18T11:20:29.474Z"
   },
   {
    "duration": 1427,
    "start_time": "2022-09-18T11:22:10.848Z"
   },
   {
    "duration": 494,
    "start_time": "2022-09-18T11:22:12.278Z"
   },
   {
    "duration": 88,
    "start_time": "2022-09-18T11:22:12.774Z"
   },
   {
    "duration": 100,
    "start_time": "2022-09-18T11:22:12.864Z"
   },
   {
    "duration": 101,
    "start_time": "2022-09-18T11:22:13.056Z"
   },
   {
    "duration": 195,
    "start_time": "2022-09-18T11:22:13.163Z"
   },
   {
    "duration": 98,
    "start_time": "2022-09-18T11:22:13.360Z"
   },
   {
    "duration": 22,
    "start_time": "2022-09-18T11:22:13.459Z"
   },
   {
    "duration": 4,
    "start_time": "2022-09-18T11:22:13.483Z"
   },
   {
    "duration": 71,
    "start_time": "2022-09-18T11:22:13.488Z"
   },
   {
    "duration": 116,
    "start_time": "2022-09-18T11:22:13.561Z"
   },
   {
    "duration": 515,
    "start_time": "2022-09-18T11:22:26.972Z"
   },
   {
    "duration": 604,
    "start_time": "2022-09-18T11:27:01.274Z"
   },
   {
    "duration": 558,
    "start_time": "2022-09-18T11:33:05.417Z"
   },
   {
    "duration": 525,
    "start_time": "2022-09-18T11:33:19.865Z"
   },
   {
    "duration": 528,
    "start_time": "2022-09-18T11:33:55.550Z"
   },
   {
    "duration": 610,
    "start_time": "2022-09-18T11:34:14.125Z"
   },
   {
    "duration": 538,
    "start_time": "2022-09-18T11:34:17.246Z"
   },
   {
    "duration": 590,
    "start_time": "2022-09-18T11:36:28.309Z"
   },
   {
    "duration": 525,
    "start_time": "2022-09-18T11:36:45.988Z"
   },
   {
    "duration": 559,
    "start_time": "2022-09-18T11:36:56.266Z"
   },
   {
    "duration": 585,
    "start_time": "2022-09-18T11:37:10.012Z"
   },
   {
    "duration": 536,
    "start_time": "2022-09-18T11:38:25.946Z"
   },
   {
    "duration": 551,
    "start_time": "2022-09-18T11:38:35.691Z"
   },
   {
    "duration": 541,
    "start_time": "2022-09-18T11:38:39.904Z"
   },
   {
    "duration": 531,
    "start_time": "2022-09-18T11:38:58.105Z"
   },
   {
    "duration": 534,
    "start_time": "2022-09-18T11:39:40.765Z"
   },
   {
    "duration": 664,
    "start_time": "2022-09-18T11:40:03.502Z"
   },
   {
    "duration": 542,
    "start_time": "2022-09-18T11:40:28.406Z"
   },
   {
    "duration": 545,
    "start_time": "2022-09-18T11:41:46.180Z"
   },
   {
    "duration": 27,
    "start_time": "2022-09-18T11:43:48.377Z"
   },
   {
    "duration": 545,
    "start_time": "2022-09-18T11:44:02.846Z"
   },
   {
    "duration": 593,
    "start_time": "2022-09-18T11:44:06.615Z"
   },
   {
    "duration": 535,
    "start_time": "2022-09-18T11:44:09.566Z"
   },
   {
    "duration": 576,
    "start_time": "2022-09-18T11:45:04.905Z"
   },
   {
    "duration": 8,
    "start_time": "2022-09-18T16:38:05.812Z"
   },
   {
    "duration": 527,
    "start_time": "2022-09-18T16:38:07.906Z"
   },
   {
    "duration": 14,
    "start_time": "2022-09-18T16:38:09.688Z"
   },
   {
    "duration": 530,
    "start_time": "2022-09-18T16:38:20.496Z"
   },
   {
    "duration": 500,
    "start_time": "2022-09-18T16:38:27.556Z"
   },
   {
    "duration": 1357,
    "start_time": "2022-09-18T16:38:57.704Z"
   },
   {
    "duration": 454,
    "start_time": "2022-09-18T16:38:59.064Z"
   },
   {
    "duration": 90,
    "start_time": "2022-09-18T16:38:59.520Z"
   },
   {
    "duration": 147,
    "start_time": "2022-09-18T16:38:59.613Z"
   },
   {
    "duration": 104,
    "start_time": "2022-09-18T16:38:59.761Z"
   },
   {
    "duration": 99,
    "start_time": "2022-09-18T16:38:59.955Z"
   },
   {
    "duration": 7,
    "start_time": "2022-09-18T16:39:00.056Z"
   },
   {
    "duration": 116,
    "start_time": "2022-09-18T16:39:00.065Z"
   },
   {
    "duration": 4,
    "start_time": "2022-09-18T16:39:00.183Z"
   },
   {
    "duration": 23,
    "start_time": "2022-09-18T16:39:00.189Z"
   },
   {
    "duration": 6,
    "start_time": "2022-09-18T16:39:00.214Z"
   },
   {
    "duration": 548,
    "start_time": "2022-09-18T16:39:00.221Z"
   },
   {
    "duration": 526,
    "start_time": "2022-09-18T16:39:00.771Z"
   },
   {
    "duration": 626,
    "start_time": "2022-09-18T16:39:01.299Z"
   },
   {
    "duration": 6,
    "start_time": "2022-09-18T16:44:39.589Z"
   },
   {
    "duration": 22,
    "start_time": "2022-09-18T16:45:51.295Z"
   },
   {
    "duration": 588,
    "start_time": "2022-09-18T16:46:18.560Z"
   },
   {
    "duration": 537,
    "start_time": "2022-09-18T16:46:29.151Z"
   },
   {
    "duration": 652,
    "start_time": "2022-09-18T16:46:43.023Z"
   },
   {
    "duration": 3053,
    "start_time": "2022-09-19T11:19:15.871Z"
   },
   {
    "duration": 1720,
    "start_time": "2022-09-19T11:19:18.926Z"
   },
   {
    "duration": 93,
    "start_time": "2022-09-19T11:19:20.647Z"
   },
   {
    "duration": 154,
    "start_time": "2022-09-19T11:19:20.742Z"
   },
   {
    "duration": 98,
    "start_time": "2022-09-19T11:19:20.899Z"
   },
   {
    "duration": 113,
    "start_time": "2022-09-19T11:19:20.999Z"
   },
   {
    "duration": 182,
    "start_time": "2022-09-19T11:19:21.113Z"
   },
   {
    "duration": 22,
    "start_time": "2022-09-19T11:19:21.297Z"
   },
   {
    "duration": 5,
    "start_time": "2022-09-19T11:19:21.321Z"
   },
   {
    "duration": 21,
    "start_time": "2022-09-19T11:19:21.328Z"
   },
   {
    "duration": 46,
    "start_time": "2022-09-19T11:19:21.351Z"
   },
   {
    "duration": 543,
    "start_time": "2022-09-19T11:19:21.400Z"
   },
   {
    "duration": 527,
    "start_time": "2022-09-19T11:19:21.945Z"
   },
   {
    "duration": 551,
    "start_time": "2022-09-19T11:19:22.474Z"
   },
   {
    "duration": 59,
    "start_time": "2022-09-19T13:22:42.082Z"
   },
   {
    "duration": 1627,
    "start_time": "2022-09-19T13:22:48.240Z"
   },
   {
    "duration": 2083,
    "start_time": "2022-09-19T13:22:49.869Z"
   },
   {
    "duration": 100,
    "start_time": "2022-09-19T13:22:51.954Z"
   },
   {
    "duration": 142,
    "start_time": "2022-09-19T13:22:52.056Z"
   },
   {
    "duration": 112,
    "start_time": "2022-09-19T13:22:52.200Z"
   },
   {
    "duration": 110,
    "start_time": "2022-09-19T13:22:52.320Z"
   },
   {
    "duration": 10,
    "start_time": "2022-09-19T13:22:52.506Z"
   },
   {
    "duration": 139,
    "start_time": "2022-09-19T13:22:52.518Z"
   },
   {
    "duration": 5,
    "start_time": "2022-09-19T13:22:52.658Z"
   },
   {
    "duration": 22,
    "start_time": "2022-09-19T13:22:52.666Z"
   },
   {
    "duration": 6,
    "start_time": "2022-09-19T13:22:52.689Z"
   },
   {
    "duration": 587,
    "start_time": "2022-09-19T13:22:52.696Z"
   },
   {
    "duration": 544,
    "start_time": "2022-09-19T13:22:53.284Z"
   },
   {
    "duration": 526,
    "start_time": "2022-09-19T13:22:53.829Z"
   },
   {
    "duration": 6,
    "start_time": "2022-09-19T13:25:15.938Z"
   },
   {
    "duration": 7,
    "start_time": "2022-09-19T13:26:57.281Z"
   },
   {
    "duration": 8,
    "start_time": "2022-09-19T13:30:50.858Z"
   },
   {
    "duration": 5,
    "start_time": "2022-09-19T13:31:20.258Z"
   },
   {
    "duration": 7,
    "start_time": "2022-09-19T13:33:48.835Z"
   },
   {
    "duration": 2,
    "start_time": "2022-09-19T13:38:03.664Z"
   },
   {
    "duration": 3,
    "start_time": "2022-09-19T13:43:26.472Z"
   },
   {
    "duration": 6,
    "start_time": "2022-09-19T13:44:07.487Z"
   },
   {
    "duration": 517,
    "start_time": "2022-09-19T13:44:09.038Z"
   },
   {
    "duration": 488,
    "start_time": "2022-09-19T13:44:15.042Z"
   },
   {
    "duration": 564,
    "start_time": "2022-09-19T13:44:17.369Z"
   },
   {
    "duration": 70,
    "start_time": "2022-09-19T13:58:45.854Z"
   },
   {
    "duration": 75,
    "start_time": "2022-09-19T13:59:07.020Z"
   },
   {
    "duration": 85,
    "start_time": "2022-09-19T13:59:41.748Z"
   },
   {
    "duration": 73,
    "start_time": "2022-09-19T13:59:54.508Z"
   },
   {
    "duration": 3,
    "start_time": "2022-09-19T13:59:59.820Z"
   },
   {
    "duration": 117,
    "start_time": "2022-09-19T14:00:53.197Z"
   },
   {
    "duration": 3,
    "start_time": "2022-09-19T14:01:31.991Z"
   },
   {
    "duration": 22,
    "start_time": "2022-09-19T14:01:34.691Z"
   },
   {
    "duration": 16,
    "start_time": "2022-09-19T14:06:50.119Z"
   },
   {
    "duration": 20,
    "start_time": "2022-09-19T14:07:17.244Z"
   },
   {
    "duration": 12,
    "start_time": "2022-09-19T14:07:36.495Z"
   },
   {
    "duration": 10,
    "start_time": "2022-09-19T14:07:52.955Z"
   },
   {
    "duration": 20,
    "start_time": "2022-09-19T14:08:32.963Z"
   },
   {
    "duration": 9,
    "start_time": "2022-09-19T14:12:57.154Z"
   },
   {
    "duration": 14,
    "start_time": "2022-09-19T14:13:24.377Z"
   },
   {
    "duration": 13,
    "start_time": "2022-09-19T14:14:22.097Z"
   },
   {
    "duration": 12,
    "start_time": "2022-09-19T14:14:48.625Z"
   },
   {
    "duration": 1310,
    "start_time": "2022-09-19T14:15:00.349Z"
   },
   {
    "duration": 11,
    "start_time": "2022-09-19T14:16:32.095Z"
   },
   {
    "duration": 10,
    "start_time": "2022-09-19T14:16:45.650Z"
   },
   {
    "duration": 10,
    "start_time": "2022-09-19T14:16:57.490Z"
   },
   {
    "duration": 25,
    "start_time": "2022-09-19T14:22:08.065Z"
   },
   {
    "duration": 21,
    "start_time": "2022-09-19T14:24:59.361Z"
   },
   {
    "duration": 16,
    "start_time": "2022-09-19T14:27:33.295Z"
   },
   {
    "duration": 13,
    "start_time": "2022-09-19T14:27:38.545Z"
   },
   {
    "duration": 8,
    "start_time": "2022-09-19T14:27:49.142Z"
   },
   {
    "duration": 12,
    "start_time": "2022-09-19T14:28:38.239Z"
   },
   {
    "duration": 11,
    "start_time": "2022-09-19T14:28:43.305Z"
   },
   {
    "duration": 14,
    "start_time": "2022-09-19T14:29:45.360Z"
   },
   {
    "duration": 14,
    "start_time": "2022-09-19T14:30:01.704Z"
   },
   {
    "duration": 15,
    "start_time": "2022-09-19T14:30:28.150Z"
   },
   {
    "duration": 18,
    "start_time": "2022-09-19T14:40:11.453Z"
   },
   {
    "duration": 17,
    "start_time": "2022-09-19T14:40:20.375Z"
   },
   {
    "duration": 19,
    "start_time": "2022-09-19T14:40:40.021Z"
   },
   {
    "duration": 12,
    "start_time": "2022-09-19T14:41:04.788Z"
   },
   {
    "duration": 14,
    "start_time": "2022-09-19T14:41:19.525Z"
   },
   {
    "duration": 15,
    "start_time": "2022-09-19T14:43:19.687Z"
   },
   {
    "duration": 392,
    "start_time": "2022-09-19T14:44:12.206Z"
   },
   {
    "duration": 15,
    "start_time": "2022-09-19T14:44:18.447Z"
   },
   {
    "duration": 13,
    "start_time": "2022-09-19T14:44:37.390Z"
   },
   {
    "duration": 20,
    "start_time": "2022-09-19T14:45:22.296Z"
   },
   {
    "duration": 21,
    "start_time": "2022-09-19T14:46:03.448Z"
   },
   {
    "duration": 20,
    "start_time": "2022-09-19T14:46:11.708Z"
   },
   {
    "duration": 13,
    "start_time": "2022-09-19T14:46:27.496Z"
   },
   {
    "duration": 13,
    "start_time": "2022-09-19T14:46:40.404Z"
   },
   {
    "duration": 21,
    "start_time": "2022-09-19T14:47:01.403Z"
   },
   {
    "duration": 23,
    "start_time": "2022-09-19T14:47:05.241Z"
   },
   {
    "duration": 24,
    "start_time": "2022-09-19T14:51:43.157Z"
   },
   {
    "duration": 27,
    "start_time": "2022-09-19T14:52:06.314Z"
   },
   {
    "duration": 25,
    "start_time": "2022-09-19T14:52:37.043Z"
   },
   {
    "duration": 31,
    "start_time": "2022-09-19T14:53:38.285Z"
   },
   {
    "duration": 30,
    "start_time": "2022-09-19T14:53:56.307Z"
   },
   {
    "duration": 41,
    "start_time": "2022-09-19T14:55:11.357Z"
   },
   {
    "duration": 22,
    "start_time": "2022-09-19T14:55:17.619Z"
   },
   {
    "duration": 48,
    "start_time": "2022-09-19T18:19:46.304Z"
   },
   {
    "duration": 1634,
    "start_time": "2022-09-19T18:19:53.160Z"
   },
   {
    "duration": 1026,
    "start_time": "2022-09-19T18:19:54.797Z"
   },
   {
    "duration": 92,
    "start_time": "2022-09-19T18:19:55.825Z"
   },
   {
    "duration": 86,
    "start_time": "2022-09-19T18:19:55.920Z"
   },
   {
    "duration": 110,
    "start_time": "2022-09-19T18:19:56.077Z"
   },
   {
    "duration": 121,
    "start_time": "2022-09-19T18:19:56.189Z"
   },
   {
    "duration": 6,
    "start_time": "2022-09-19T18:19:56.376Z"
   },
   {
    "duration": 106,
    "start_time": "2022-09-19T18:19:56.383Z"
   },
   {
    "duration": 10,
    "start_time": "2022-09-19T18:19:56.491Z"
   },
   {
    "duration": 131,
    "start_time": "2022-09-19T18:19:56.504Z"
   },
   {
    "duration": 0,
    "start_time": "2022-09-19T18:19:56.637Z"
   },
   {
    "duration": 0,
    "start_time": "2022-09-19T18:19:56.638Z"
   },
   {
    "duration": 0,
    "start_time": "2022-09-19T18:19:56.638Z"
   },
   {
    "duration": 0,
    "start_time": "2022-09-19T18:19:56.640Z"
   },
   {
    "duration": 0,
    "start_time": "2022-09-19T18:19:56.642Z"
   },
   {
    "duration": 20,
    "start_time": "2022-09-19T18:21:38.344Z"
   },
   {
    "duration": 19,
    "start_time": "2022-09-19T18:22:33.750Z"
   },
   {
    "duration": 23,
    "start_time": "2022-09-19T18:22:51.064Z"
   },
   {
    "duration": 21,
    "start_time": "2022-09-19T18:23:03.309Z"
   },
   {
    "duration": 20,
    "start_time": "2022-09-19T18:23:21.620Z"
   },
   {
    "duration": 20,
    "start_time": "2022-09-19T18:23:53.951Z"
   },
   {
    "duration": 24,
    "start_time": "2022-09-19T18:24:07.002Z"
   },
   {
    "duration": 23,
    "start_time": "2022-09-19T18:24:12.275Z"
   },
   {
    "duration": 10,
    "start_time": "2022-09-19T18:25:03.667Z"
   },
   {
    "duration": 13,
    "start_time": "2022-09-19T18:25:24.798Z"
   },
   {
    "duration": 26,
    "start_time": "2022-09-19T18:29:23.442Z"
   },
   {
    "duration": 24,
    "start_time": "2022-09-19T18:31:44.654Z"
   },
   {
    "duration": 22,
    "start_time": "2022-09-19T18:31:53.013Z"
   },
   {
    "duration": 9,
    "start_time": "2022-09-19T18:32:12.134Z"
   },
   {
    "duration": 11,
    "start_time": "2022-09-19T18:32:17.720Z"
   },
   {
    "duration": 1360,
    "start_time": "2022-09-19T18:32:57.758Z"
   },
   {
    "duration": 11,
    "start_time": "2022-09-19T18:34:08.534Z"
   },
   {
    "duration": 9,
    "start_time": "2022-09-19T18:44:22.649Z"
   },
   {
    "duration": 13,
    "start_time": "2022-09-19T18:45:10.201Z"
   },
   {
    "duration": 13,
    "start_time": "2022-09-19T18:45:35.000Z"
   },
   {
    "duration": 2738,
    "start_time": "2022-09-19T18:45:52.749Z"
   },
   {
    "duration": 12,
    "start_time": "2022-09-19T18:46:43.702Z"
   },
   {
    "duration": 1667,
    "start_time": "2022-09-19T18:47:00.152Z"
   },
   {
    "duration": 1128,
    "start_time": "2022-09-19T18:47:16.551Z"
   },
   {
    "duration": 1028,
    "start_time": "2022-09-19T18:52:50.111Z"
   },
   {
    "duration": 994,
    "start_time": "2022-09-19T18:53:11.617Z"
   },
   {
    "duration": 13,
    "start_time": "2022-09-19T18:53:37.462Z"
   },
   {
    "duration": 17,
    "start_time": "2022-09-19T18:53:52.758Z"
   },
   {
    "duration": 22,
    "start_time": "2022-09-19T18:57:05.027Z"
   },
   {
    "duration": 6,
    "start_time": "2022-09-19T18:59:46.061Z"
   },
   {
    "duration": 92,
    "start_time": "2022-09-19T19:02:34.693Z"
   },
   {
    "duration": 107,
    "start_time": "2022-09-19T19:03:19.974Z"
   },
   {
    "duration": 11,
    "start_time": "2022-09-19T19:03:41.893Z"
   },
   {
    "duration": 252,
    "start_time": "2022-09-19T19:03:58.429Z"
   },
   {
    "duration": 13,
    "start_time": "2022-09-19T19:04:03.029Z"
   },
   {
    "duration": 12,
    "start_time": "2022-09-19T19:04:20.933Z"
   },
   {
    "duration": 10,
    "start_time": "2022-09-19T19:05:16.229Z"
   },
   {
    "duration": 14,
    "start_time": "2022-09-19T19:06:07.494Z"
   },
   {
    "duration": 4,
    "start_time": "2022-09-19T19:11:36.613Z"
   },
   {
    "duration": 16,
    "start_time": "2022-09-19T19:12:42.943Z"
   },
   {
    "duration": 8,
    "start_time": "2022-09-19T19:13:18.670Z"
   },
   {
    "duration": 8,
    "start_time": "2022-09-19T19:13:32.046Z"
   },
   {
    "duration": 3,
    "start_time": "2022-09-19T19:14:08.700Z"
   },
   {
    "duration": 48,
    "start_time": "2022-09-19T20:43:17.305Z"
   },
   {
    "duration": 19,
    "start_time": "2022-09-19T20:43:18.120Z"
   },
   {
    "duration": 18,
    "start_time": "2022-09-19T20:43:18.717Z"
   },
   {
    "duration": 19,
    "start_time": "2022-09-19T20:43:19.368Z"
   },
   {
    "duration": 3,
    "start_time": "2022-09-19T20:44:24.852Z"
   },
   {
    "duration": 20,
    "start_time": "2022-09-19T20:44:30.027Z"
   },
   {
    "duration": 5,
    "start_time": "2022-09-19T20:45:16.778Z"
   },
   {
    "duration": 722,
    "start_time": "2022-09-19T20:45:41.340Z"
   },
   {
    "duration": 5,
    "start_time": "2022-09-19T20:46:23.809Z"
   },
   {
    "duration": 750,
    "start_time": "2022-09-19T20:46:26.259Z"
   },
   {
    "duration": 705,
    "start_time": "2022-09-19T20:46:32.896Z"
   },
   {
    "duration": 772,
    "start_time": "2022-09-19T20:46:45.445Z"
   },
   {
    "duration": 1262,
    "start_time": "2022-09-19T20:48:43.992Z"
   },
   {
    "duration": 448,
    "start_time": "2022-09-19T20:48:45.257Z"
   },
   {
    "duration": 75,
    "start_time": "2022-09-19T20:48:45.706Z"
   },
   {
    "duration": 196,
    "start_time": "2022-09-19T20:48:45.782Z"
   },
   {
    "duration": 100,
    "start_time": "2022-09-19T20:48:45.980Z"
   },
   {
    "duration": 106,
    "start_time": "2022-09-19T20:48:46.082Z"
   },
   {
    "duration": 109,
    "start_time": "2022-09-19T20:48:46.190Z"
   },
   {
    "duration": 12,
    "start_time": "2022-09-19T20:48:46.301Z"
   },
   {
    "duration": 10,
    "start_time": "2022-09-19T20:48:46.315Z"
   },
   {
    "duration": 33,
    "start_time": "2022-09-19T20:48:46.327Z"
   },
   {
    "duration": 5,
    "start_time": "2022-09-19T20:48:46.362Z"
   },
   {
    "duration": 870,
    "start_time": "2022-09-19T20:48:46.368Z"
   },
   {
    "duration": 776,
    "start_time": "2022-09-19T20:48:47.240Z"
   },
   {
    "duration": 726,
    "start_time": "2022-09-19T20:48:48.018Z"
   },
   {
    "duration": 1248,
    "start_time": "2022-09-19T20:49:35.703Z"
   },
   {
    "duration": 435,
    "start_time": "2022-09-19T20:49:36.953Z"
   },
   {
    "duration": 59,
    "start_time": "2022-09-19T20:49:37.390Z"
   },
   {
    "duration": 130,
    "start_time": "2022-09-19T20:49:37.451Z"
   },
   {
    "duration": 201,
    "start_time": "2022-09-19T20:49:37.582Z"
   },
   {
    "duration": 107,
    "start_time": "2022-09-19T20:49:37.787Z"
   },
   {
    "duration": 86,
    "start_time": "2022-09-19T20:49:37.896Z"
   },
   {
    "duration": 100,
    "start_time": "2022-09-19T20:49:37.986Z"
   },
   {
    "duration": 11,
    "start_time": "2022-09-19T20:49:38.088Z"
   },
   {
    "duration": 22,
    "start_time": "2022-09-19T20:49:38.101Z"
   },
   {
    "duration": 5,
    "start_time": "2022-09-19T20:49:38.124Z"
   },
   {
    "duration": 748,
    "start_time": "2022-09-19T20:49:38.131Z"
   },
   {
    "duration": 717,
    "start_time": "2022-09-19T20:49:38.880Z"
   },
   {
    "duration": 786,
    "start_time": "2022-09-19T20:49:39.598Z"
   },
   {
    "duration": 5,
    "start_time": "2022-09-19T20:54:59.619Z"
   },
   {
    "duration": 707,
    "start_time": "2022-09-19T20:55:02.694Z"
   },
   {
    "duration": 814,
    "start_time": "2022-09-19T20:55:09.086Z"
   },
   {
    "duration": 810,
    "start_time": "2022-09-19T20:55:12.820Z"
   },
   {
    "duration": 55,
    "start_time": "2022-09-19T20:59:28.476Z"
   },
   {
    "duration": 3002,
    "start_time": "2022-09-20T06:46:10.092Z"
   },
   {
    "duration": 812,
    "start_time": "2022-09-20T06:46:13.096Z"
   },
   {
    "duration": 57,
    "start_time": "2022-09-20T06:46:13.911Z"
   },
   {
    "duration": 54,
    "start_time": "2022-09-20T06:46:13.969Z"
   },
   {
    "duration": 200,
    "start_time": "2022-09-20T06:46:14.111Z"
   },
   {
    "duration": 96,
    "start_time": "2022-09-20T06:46:14.313Z"
   },
   {
    "duration": 7,
    "start_time": "2022-09-20T06:46:14.411Z"
   },
   {
    "duration": 90,
    "start_time": "2022-09-20T06:46:14.420Z"
   },
   {
    "duration": 6,
    "start_time": "2022-09-20T06:46:14.512Z"
   },
   {
    "duration": 23,
    "start_time": "2022-09-20T06:46:14.519Z"
   },
   {
    "duration": 6,
    "start_time": "2022-09-20T06:46:14.543Z"
   },
   {
    "duration": 726,
    "start_time": "2022-09-20T06:46:14.550Z"
   },
   {
    "duration": 643,
    "start_time": "2022-09-20T06:46:15.277Z"
   },
   {
    "duration": 664,
    "start_time": "2022-09-20T06:46:15.922Z"
   },
   {
    "duration": 8,
    "start_time": "2022-09-20T06:46:59.227Z"
   },
   {
    "duration": 681,
    "start_time": "2022-09-20T06:47:00.002Z"
   },
   {
    "duration": 706,
    "start_time": "2022-09-20T06:47:00.684Z"
   },
   {
    "duration": 918,
    "start_time": "2022-09-20T06:47:01.392Z"
   },
   {
    "duration": 54,
    "start_time": "2022-09-20T07:04:49.066Z"
   },
   {
    "duration": 1570,
    "start_time": "2022-09-20T07:05:04.044Z"
   },
   {
    "duration": 778,
    "start_time": "2022-09-20T07:05:05.616Z"
   },
   {
    "duration": 58,
    "start_time": "2022-09-20T07:05:06.396Z"
   },
   {
    "duration": 127,
    "start_time": "2022-09-20T07:05:06.456Z"
   },
   {
    "duration": 99,
    "start_time": "2022-09-20T07:05:06.585Z"
   },
   {
    "duration": 201,
    "start_time": "2022-09-20T07:05:06.686Z"
   },
   {
    "duration": 209,
    "start_time": "2022-09-20T07:05:06.891Z"
   },
   {
    "duration": 37,
    "start_time": "2022-09-20T07:05:07.102Z"
   },
   {
    "duration": 12,
    "start_time": "2022-09-20T07:05:07.141Z"
   },
   {
    "duration": 36,
    "start_time": "2022-09-20T07:05:07.156Z"
   },
   {
    "duration": 115,
    "start_time": "2022-09-20T07:05:07.193Z"
   },
   {
    "duration": 0,
    "start_time": "2022-09-20T07:05:07.309Z"
   },
   {
    "duration": 0,
    "start_time": "2022-09-20T07:05:07.310Z"
   },
   {
    "duration": 0,
    "start_time": "2022-09-20T07:05:07.311Z"
   },
   {
    "duration": 12,
    "start_time": "2022-09-20T07:05:52.967Z"
   },
   {
    "duration": 5,
    "start_time": "2022-09-20T07:06:18.085Z"
   },
   {
    "duration": 739,
    "start_time": "2022-09-20T07:06:20.515Z"
   },
   {
    "duration": 5,
    "start_time": "2022-09-20T07:17:34.515Z"
   },
   {
    "duration": 768,
    "start_time": "2022-09-20T07:17:36.667Z"
   },
   {
    "duration": 749,
    "start_time": "2022-09-20T07:17:44.257Z"
   },
   {
    "duration": 788,
    "start_time": "2022-09-20T07:17:48.553Z"
   },
   {
    "duration": 5,
    "start_time": "2022-09-20T07:18:17.940Z"
   },
   {
    "duration": 736,
    "start_time": "2022-09-20T07:18:20.819Z"
   },
   {
    "duration": 1533,
    "start_time": "2022-09-20T07:18:26.886Z"
   },
   {
    "duration": 456,
    "start_time": "2022-09-20T07:18:28.421Z"
   },
   {
    "duration": 62,
    "start_time": "2022-09-20T07:18:28.879Z"
   },
   {
    "duration": 141,
    "start_time": "2022-09-20T07:18:28.942Z"
   },
   {
    "duration": 22,
    "start_time": "2022-09-20T07:18:29.176Z"
   },
   {
    "duration": 111,
    "start_time": "2022-09-20T07:18:29.277Z"
   },
   {
    "duration": 11,
    "start_time": "2022-09-20T07:18:29.477Z"
   },
   {
    "duration": 90,
    "start_time": "2022-09-20T07:18:29.491Z"
   },
   {
    "duration": 5,
    "start_time": "2022-09-20T07:18:29.583Z"
   },
   {
    "duration": 24,
    "start_time": "2022-09-20T07:18:29.590Z"
   },
   {
    "duration": 6,
    "start_time": "2022-09-20T07:18:29.616Z"
   },
   {
    "duration": 865,
    "start_time": "2022-09-20T07:18:29.624Z"
   },
   {
    "duration": 837,
    "start_time": "2022-09-20T07:18:30.491Z"
   },
   {
    "duration": 763,
    "start_time": "2022-09-20T07:18:31.330Z"
   },
   {
    "duration": 1412,
    "start_time": "2022-09-20T07:22:02.459Z"
   },
   {
    "duration": 426,
    "start_time": "2022-09-20T07:22:03.873Z"
   },
   {
    "duration": 85,
    "start_time": "2022-09-20T07:22:04.302Z"
   },
   {
    "duration": 21,
    "start_time": "2022-09-20T07:22:04.389Z"
   },
   {
    "duration": 267,
    "start_time": "2022-09-20T07:22:04.412Z"
   },
   {
    "duration": 107,
    "start_time": "2022-09-20T07:22:04.682Z"
   },
   {
    "duration": 194,
    "start_time": "2022-09-20T07:22:04.791Z"
   },
   {
    "duration": 34,
    "start_time": "2022-09-20T07:22:04.988Z"
   },
   {
    "duration": 20,
    "start_time": "2022-09-20T07:22:05.024Z"
   },
   {
    "duration": 27,
    "start_time": "2022-09-20T07:22:05.046Z"
   },
   {
    "duration": 6,
    "start_time": "2022-09-20T07:22:05.075Z"
   },
   {
    "duration": 877,
    "start_time": "2022-09-20T07:22:05.082Z"
   },
   {
    "duration": 780,
    "start_time": "2022-09-20T07:22:05.961Z"
   },
   {
    "duration": 808,
    "start_time": "2022-09-20T07:22:06.744Z"
   }
  ],
  "kernelspec": {
   "display_name": "Python 3 (ipykernel)",
   "language": "python",
   "name": "python3"
  },
  "language_info": {
   "codemirror_mode": {
    "name": "ipython",
    "version": 3
   },
   "file_extension": ".py",
   "mimetype": "text/x-python",
   "name": "python",
   "nbconvert_exporter": "python",
   "pygments_lexer": "ipython3",
   "version": "3.9.18"
  },
  "toc": {
   "base_numbering": 1,
   "nav_menu": {},
   "number_sections": true,
   "sideBar": true,
   "skip_h1_title": true,
   "title_cell": "Table of Contents",
   "title_sidebar": "Contents",
   "toc_cell": false,
   "toc_position": {},
   "toc_section_display": true,
   "toc_window_display": true
  }
 },
 "nbformat": 4,
 "nbformat_minor": 2
}
