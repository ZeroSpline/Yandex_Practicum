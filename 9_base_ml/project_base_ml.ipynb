{
 "cells": [
  {
   "cell_type": "markdown",
   "metadata": {},
   "source": [
    "## Откройте и изучите файл"
   ]
  },
  {
   "cell_type": "code",
   "execution_count": 1,
   "metadata": {},
   "outputs": [],
   "source": [
    "# импорт бибилотеки pandas\n",
    "import pandas as pd\n",
    "# импорт метрики качества из библиотеки sklearn\n",
    "from sklearn.metrics import accuracy_score \n",
    "# импорт функции деления выборки из библиотеки sklearn\n",
    "from sklearn.model_selection import train_test_split \n",
    "# импорт дерева решений из библиотеки sklearn\n",
    "from sklearn.tree import DecisionTreeClassifier\n",
    "# импорт случайного леса из библиотеки sklearn\n",
    "from sklearn.ensemble import RandomForestClassifier\n",
    "# импорт логистической регрессии из библиотеки sklearn\n",
    "from sklearn.linear_model import LogisticRegression "
   ]
  },
  {
   "cell_type": "code",
   "execution_count": 2,
   "metadata": {},
   "outputs": [
    {
     "name": "stdout",
     "output_type": "stream",
     "text": [
      "<class 'pandas.core.frame.DataFrame'>\n",
      "RangeIndex: 3214 entries, 0 to 3213\n",
      "Data columns (total 5 columns):\n",
      " #   Column    Non-Null Count  Dtype  \n",
      "---  ------    --------------  -----  \n",
      " 0   calls     3214 non-null   float64\n",
      " 1   minutes   3214 non-null   float64\n",
      " 2   messages  3214 non-null   float64\n",
      " 3   mb_used   3214 non-null   float64\n",
      " 4   is_ultra  3214 non-null   int64  \n",
      "dtypes: float64(4), int64(1)\n",
      "memory usage: 125.7 KB\n"
     ]
    },
    {
     "data": {
      "text/plain": [
       "None"
      ]
     },
     "metadata": {},
     "output_type": "display_data"
    },
    {
     "data": {
      "text/html": [
       "<div>\n",
       "<style scoped>\n",
       "    .dataframe tbody tr th:only-of-type {\n",
       "        vertical-align: middle;\n",
       "    }\n",
       "\n",
       "    .dataframe tbody tr th {\n",
       "        vertical-align: top;\n",
       "    }\n",
       "\n",
       "    .dataframe thead th {\n",
       "        text-align: right;\n",
       "    }\n",
       "</style>\n",
       "<table border=\"1\" class=\"dataframe\">\n",
       "  <thead>\n",
       "    <tr style=\"text-align: right;\">\n",
       "      <th></th>\n",
       "      <th>calls</th>\n",
       "      <th>minutes</th>\n",
       "      <th>messages</th>\n",
       "      <th>mb_used</th>\n",
       "      <th>is_ultra</th>\n",
       "    </tr>\n",
       "  </thead>\n",
       "  <tbody>\n",
       "    <tr>\n",
       "      <th>0</th>\n",
       "      <td>40.0</td>\n",
       "      <td>311.90</td>\n",
       "      <td>83.0</td>\n",
       "      <td>19915.42</td>\n",
       "      <td>0</td>\n",
       "    </tr>\n",
       "    <tr>\n",
       "      <th>1</th>\n",
       "      <td>85.0</td>\n",
       "      <td>516.75</td>\n",
       "      <td>56.0</td>\n",
       "      <td>22696.96</td>\n",
       "      <td>0</td>\n",
       "    </tr>\n",
       "    <tr>\n",
       "      <th>2</th>\n",
       "      <td>77.0</td>\n",
       "      <td>467.66</td>\n",
       "      <td>86.0</td>\n",
       "      <td>21060.45</td>\n",
       "      <td>0</td>\n",
       "    </tr>\n",
       "  </tbody>\n",
       "</table>\n",
       "</div>"
      ],
      "text/plain": [
       "   calls  minutes  messages   mb_used  is_ultra\n",
       "0   40.0   311.90      83.0  19915.42         0\n",
       "1   85.0   516.75      56.0  22696.96         0\n",
       "2   77.0   467.66      86.0  21060.45         0"
      ]
     },
     "execution_count": 2,
     "metadata": {},
     "output_type": "execute_result"
    }
   ],
   "source": [
    "# чтение файла с данными и сохранение в df\n",
    "df = pd.read_csv('users_behavior.csv') \n",
    "# получение информации о таблице\n",
    "display(df.info())\n",
    "# выведем на экран таблицу\n",
    "df.head(3)"
   ]
  },
  {
   "cell_type": "markdown",
   "metadata": {},
   "source": [
    "#### Вывод"
   ]
  },
  {
   "cell_type": "markdown",
   "metadata": {},
   "source": [
    "Данные получены в готовом виде, предобработка не требуется."
   ]
  },
  {
   "cell_type": "markdown",
   "metadata": {},
   "source": [
    "## Разбейте данные на выборки"
   ]
  },
  {
   "cell_type": "code",
   "execution_count": 3,
   "metadata": {
    "scrolled": true
   },
   "outputs": [
    {
     "data": {
      "text/plain": [
       "'(1928, 4) features_train'"
      ]
     },
     "metadata": {},
     "output_type": "display_data"
    },
    {
     "data": {
      "text/plain": [
       "'(1928,) target_train'"
      ]
     },
     "metadata": {},
     "output_type": "display_data"
    },
    {
     "data": {
      "text/plain": [
       "'(643, 4) features_test'"
      ]
     },
     "metadata": {},
     "output_type": "display_data"
    },
    {
     "data": {
      "text/plain": [
       "'(643,) target_test'"
      ]
     },
     "metadata": {},
     "output_type": "display_data"
    },
    {
     "data": {
      "text/plain": [
       "'(643, 4) features_valid'"
      ]
     },
     "metadata": {},
     "output_type": "display_data"
    },
    {
     "data": {
      "text/plain": [
       "'(643,) target_valid'"
      ]
     },
     "metadata": {},
     "output_type": "display_data"
    }
   ],
   "source": [
    "# выделим из таблицы признаки\n",
    "features = df.drop(['is_ultra'], axis=1)\n",
    "# выделим из таблицы целевой признак\n",
    "target = df['is_ultra']\n",
    "# деление на обучающую и валидационную выборки\n",
    "features_train, features_test, target_train, target_test = train_test_split(features, target, test_size=0.4, random_state=57117)\n",
    "# выведем на экран размер признаков для обучения\n",
    "display(f'{features_train.shape} features_train')\n",
    "# выведем на экран размер целей для обучения\n",
    "display(f'{target_train.shape} target_train')\n",
    "# деление на обучающую и валидационную выборки\n",
    "features_test, features_valid, target_test, target_valid = train_test_split(features_test, target_test, test_size=0.5, random_state=57117)\n",
    "# выведем на экран размер признаков для теста\n",
    "display(f'{features_test.shape} features_test')\n",
    "# выведем на экран размер целей для теста\n",
    "display(f'{target_test.shape} target_test')\n",
    "# выведем на экран размер признаков для валидации\n",
    "display(f'{features_valid.shape} features_valid')\n",
    "# выведем на экран размер целей для валидации\n",
    "display(f'{target_valid.shape} target_valid')"
   ]
  },
  {
   "cell_type": "markdown",
   "metadata": {},
   "source": [
    "#### Вывод"
   ]
  },
  {
   "cell_type": "markdown",
   "metadata": {},
   "source": [
    "Итогом разбиения исходной таблицы стали следующие выборки:\n",
    "- Обучающая (60% исходной таблицы df) в количестве 1928 строк\n",
    "- Тестовая (20% исходной таблицы df) в количестве 643 строки\n",
    "- Валидационная (20% исходной таблицы df) в количестве 643 строки"
   ]
  },
  {
   "cell_type": "markdown",
   "metadata": {},
   "source": [
    "## Исследуйте модели"
   ]
  },
  {
   "cell_type": "markdown",
   "metadata": {},
   "source": [
    "### Решающее дерево"
   ]
  },
  {
   "cell_type": "code",
   "execution_count": 4,
   "metadata": {},
   "outputs": [
    {
     "data": {
      "text/plain": [
       "'Наилучшее значение Accuracy: 0.7947122861586314, при глубине модели: 7'"
      ]
     },
     "metadata": {},
     "output_type": "display_data"
    }
   ],
   "source": [
    "# создадим переменную для записи наилучшей глубины\n",
    "depth_max = 0\n",
    "# создадим переменную для запсии лучшего результата\n",
    "top_ac_score = 0\n",
    "# создадим цикл для получения нужной глубины\n",
    "for depth in range(1, 11):\n",
    "# создадим модель\n",
    "    model_one = DecisionTreeClassifier(random_state=57117, max_depth=depth)\n",
    "# обучим модель\n",
    "    model_one.fit(features_train, target_train)\n",
    "# найдем предсказания на валидационной выборке\n",
    "    predictions_valid = model_one.predict(features_valid)\n",
    "# посчитаем результат на валидационной выборке    \n",
    "    ac_score = accuracy_score(predictions_valid, target_valid)\n",
    "# создадим цикл для записи наилучшего результата\n",
    "    if ac_score > top_ac_score:\n",
    "# сохраним наилучшее значение глубины\n",
    "        depth_max = depth\n",
    "# сохраним наилучшее значение результата\n",
    "        top_ac_score = ac_score\n",
    "# выведем на экран все полученные варианты\n",
    "display(f'Наилучшее значение Accuracy: {top_ac_score}, при глубине модели: {depth_max}') "
   ]
  },
  {
   "cell_type": "markdown",
   "metadata": {},
   "source": [
    "#### Вывод"
   ]
  },
  {
   "cell_type": "markdown",
   "metadata": {},
   "source": [
    "По результатам расчетов модели решающего дерева на валидационной выборке добились показателя Accuracy = 0.794, при глубине модели = 7"
   ]
  },
  {
   "cell_type": "markdown",
   "metadata": {},
   "source": [
    "### Случайный лес"
   ]
  },
  {
   "cell_type": "code",
   "execution_count": 5,
   "metadata": {},
   "outputs": [
    {
     "data": {
      "text/plain": [
       "'Accuracy наилучшей модели: 0.7931570762052877, при количестве \"деревьев\": 4'"
      ]
     },
     "metadata": {},
     "output_type": "display_data"
    }
   ],
   "source": [
    "# создадим пустую переменную для записи модели\n",
    "best_model_two = None\n",
    "# создадим пустую переменную для записи результатов \n",
    "best_result_two = 0\n",
    "# создадим пустую переменную для записи количества оценщиков\n",
    "best_est = 0\n",
    "# создадим цикл для получения количества \"оценщиков\" модели\n",
    "for est in range(1, 11):\n",
    "# обучим модель с заданным количеством деревьев    \n",
    "    model_two = RandomForestClassifier(random_state=57117, n_estimators=est) \n",
    "# обучим модель на обучающей выборке    \n",
    "    model_two.fit(features_train, target_train)\n",
    "# посчитаем качество модели на валидационной выборке    \n",
    "    predictions_valid_two = model_two.predict(features_valid)\n",
    "# получим значение результата    \n",
    "    result_two = accuracy_score(predictions_valid_two, target_valid) \n",
    "# зададим условие записи результатов    \n",
    "    if result_two > best_result_two:\n",
    "# сохраним наилучшую модель        \n",
    "        best_model_two = model_two\n",
    "# сохраним наилучшее значение метрики качества на валидационных данных    \n",
    "        best_result_two = result_two \n",
    "# сохраним лучшее количество оценщиков    \n",
    "        best_est = est\n",
    "# выведем результат на экран\n",
    "display(f'Accuracy наилучшей модели: {best_result_two}, при количестве \"деревьев\": {best_est}')"
   ]
  },
  {
   "cell_type": "markdown",
   "metadata": {},
   "source": [
    "#### Вывод"
   ]
  },
  {
   "cell_type": "markdown",
   "metadata": {},
   "source": [
    "По результатам расчетов модели случайного леса на валидационной выборке добились показателя Accuracy = 0.793, при количестве деревьев = 4"
   ]
  },
  {
   "cell_type": "markdown",
   "metadata": {},
   "source": [
    "### Логистическая регрессия"
   ]
  },
  {
   "cell_type": "code",
   "execution_count": 6,
   "metadata": {},
   "outputs": [
    {
     "data": {
      "text/plain": [
       "'Accuracy для логистической регресии: 0.7371695178849145'"
      ]
     },
     "metadata": {},
     "output_type": "display_data"
    }
   ],
   "source": [
    "# создадим модель логистической регресии\n",
    "model_three = LogisticRegression(random_state=57117, solver='lbfgs', max_iter=1000) \n",
    "# обучим модель логистической регресии\n",
    "model_three.fit(features_train, target_train)\n",
    "# вычислим предсказания\n",
    "predictions_valid_three = model_three.predict(features_valid) \n",
    "# рассчитаем результат\n",
    "ac_score_three = accuracy_score(predictions_valid_three, target_valid)\n",
    "# выведем значение на экран\n",
    "display(f'Accuracy для логистической регресии: {ac_score_three}')"
   ]
  },
  {
   "cell_type": "markdown",
   "metadata": {},
   "source": [
    "#### Вывод"
   ]
  },
  {
   "cell_type": "markdown",
   "metadata": {},
   "source": [
    "По результатам расчетов модели логистической регрессии на валидационной выборке добились показателя Accuracy = 0.737"
   ]
  },
  {
   "cell_type": "markdown",
   "metadata": {},
   "source": [
    "## Проверьте модель на тестовой выборке"
   ]
  },
  {
   "cell_type": "code",
   "execution_count": 7,
   "metadata": {},
   "outputs": [
    {
     "data": {
      "text/plain": [
       "'Accuracy модели решающего дерева на тестовой выборке: 0.7884914463452566'"
      ]
     },
     "metadata": {},
     "output_type": "display_data"
    },
    {
     "data": {
      "text/plain": [
       "'Accuracy модели случайного леса на тестовой выборке: 0.7978227060653188'"
      ]
     },
     "metadata": {},
     "output_type": "display_data"
    },
    {
     "data": {
      "text/plain": [
       "'Accuracy модели логистической регрессии на тестовой выборке: 0.7542768273716952'"
      ]
     },
     "metadata": {},
     "output_type": "display_data"
    }
   ],
   "source": [
    "# рассчитаем предсказания для первой модели\n",
    "predictions_test_one = model_one.predict(features_test)\n",
    "# выведем на экран проверку модели на тестовой выборке\n",
    "display(f'Accuracy модели решающего дерева на тестовой выборке: {accuracy_score(target_test, predictions_test_one)}')\n",
    "# рассчитаем предсказания для второй модели\n",
    "predictions_test_two = model_two.predict(features_test)\n",
    "# выведем на экран проверку модели на тестовой выборке\n",
    "display(f'Accuracy модели случайного леса на тестовой выборке: {accuracy_score(target_test, predictions_test_two)}')\n",
    "# рассчитаем предсказания для третьей модели\n",
    "predictions_test_three = model_three.predict(features_test)\n",
    "# выведем на экран проверку модели на тестовой выборке\n",
    "display(f'Accuracy модели логистической регрессии на тестовой выборке: {accuracy_score(target_test, predictions_test_three)}')"
   ]
  },
  {
   "cell_type": "markdown",
   "metadata": {},
   "source": [
    "#### Вывод"
   ]
  },
  {
   "cell_type": "markdown",
   "metadata": {},
   "source": [
    "Все три рассмотренные модели показали значение Accuracy на тестовой выборке не ниже 0.75, при том что модель решающего дерева и модель случайного леса также показали метрику качества не ниже 0.75 на валидационной выборке, а модель логистичесской регрессии показала всего лишь 0.737."
   ]
  },
  {
   "cell_type": "markdown",
   "metadata": {},
   "source": [
    "## (бонус) Проверьте модели на адекватность"
   ]
  },
  {
   "cell_type": "code",
   "execution_count": 8,
   "metadata": {
    "scrolled": true
   },
   "outputs": [
    {
     "data": {
      "text/plain": [
       "'Accuracy модели с доминирующем классом = 0.6920684292379471'"
      ]
     },
     "metadata": {},
     "output_type": "display_data"
    }
   ],
   "source": [
    "# посчитаем количество единиц в целевом столбце\n",
    "target_count_one = target_test.count() - target_test.sum()\n",
    "# посчитаем accuracy модели которая будет прогнозировать только нули\n",
    "accuracy_bonus = target_count_one / target_test.count()\n",
    "# выведем значение на экран\n",
    "display(f'Accuracy модели с доминирующем классом = {accuracy_bonus}')"
   ]
  },
  {
   "cell_type": "markdown",
   "metadata": {},
   "source": [
    "#### Вывод"
   ]
  },
  {
   "cell_type": "markdown",
   "metadata": {},
   "source": [
    "Модель случайного леса, обученная нормально имеет показатель accuracy равный 0,793. Модель предсказывающая только доминирующий класс имеет показатель 0,692. Можем сделать вывод, что наша модель работает нормально."
   ]
  }
 ],
 "metadata": {
  "ExecuteTimeLog": [
   {
    "duration": 1042,
    "start_time": "2022-08-01T18:39:15.182Z"
   },
   {
    "duration": 126,
    "start_time": "2022-08-01T18:39:16.971Z"
   },
   {
    "duration": 3,
    "start_time": "2022-08-01T18:45:24.954Z"
   },
   {
    "duration": 44,
    "start_time": "2022-08-01T18:45:25.938Z"
   },
   {
    "duration": 3,
    "start_time": "2022-08-01T19:21:53.346Z"
   },
   {
    "duration": 48,
    "start_time": "2022-08-01T19:21:54.594Z"
   },
   {
    "duration": 13,
    "start_time": "2022-08-01T19:38:48.194Z"
   },
   {
    "duration": 18,
    "start_time": "2022-08-01T19:48:04.959Z"
   },
   {
    "duration": 26,
    "start_time": "2022-08-01T19:49:03.523Z"
   },
   {
    "duration": 1103,
    "start_time": "2022-08-01T19:50:07.338Z"
   },
   {
    "duration": 48,
    "start_time": "2022-08-01T19:50:08.443Z"
   },
   {
    "duration": 38,
    "start_time": "2022-08-01T19:50:08.492Z"
   },
   {
    "duration": 25,
    "start_time": "2022-08-01T19:51:30.368Z"
   },
   {
    "duration": 27,
    "start_time": "2022-08-01T19:52:35.017Z"
   },
   {
    "duration": 29,
    "start_time": "2022-08-01T19:52:53.898Z"
   },
   {
    "duration": 1268,
    "start_time": "2022-08-02T18:40:44.756Z"
   },
   {
    "duration": 103,
    "start_time": "2022-08-02T18:40:46.026Z"
   },
   {
    "duration": 78,
    "start_time": "2022-08-02T18:40:46.132Z"
   },
   {
    "duration": 32,
    "start_time": "2022-08-02T18:45:38.172Z"
   },
   {
    "duration": 34,
    "start_time": "2022-08-02T18:51:25.066Z"
   },
   {
    "duration": 38,
    "start_time": "2022-08-02T18:52:05.890Z"
   },
   {
    "duration": 31,
    "start_time": "2022-08-02T18:56:29.866Z"
   },
   {
    "duration": 40,
    "start_time": "2022-08-02T18:57:01.405Z"
   },
   {
    "duration": 28,
    "start_time": "2022-08-02T19:02:10.244Z"
   },
   {
    "duration": 27,
    "start_time": "2022-08-02T19:02:16.369Z"
   },
   {
    "duration": 3,
    "start_time": "2022-08-02T19:06:47.288Z"
   },
   {
    "duration": 46,
    "start_time": "2022-08-02T19:06:49.918Z"
   },
   {
    "duration": 25,
    "start_time": "2022-08-02T19:06:53.518Z"
   },
   {
    "duration": 117,
    "start_time": "2022-08-02T19:10:16.127Z"
   },
   {
    "duration": 174,
    "start_time": "2022-08-02T19:10:43.157Z"
   },
   {
    "duration": 28,
    "start_time": "2022-08-02T19:14:46.672Z"
   },
   {
    "duration": 25,
    "start_time": "2022-08-02T19:15:10.819Z"
   },
   {
    "duration": 25,
    "start_time": "2022-08-02T19:15:30.406Z"
   },
   {
    "duration": 21,
    "start_time": "2022-08-02T19:15:54.465Z"
   },
   {
    "duration": 17,
    "start_time": "2022-08-02T19:16:10.749Z"
   },
   {
    "duration": 19,
    "start_time": "2022-08-02T19:16:41.470Z"
   },
   {
    "duration": 145,
    "start_time": "2022-08-02T19:17:24.089Z"
   },
   {
    "duration": 72,
    "start_time": "2022-08-02T19:17:55.065Z"
   },
   {
    "duration": 112,
    "start_time": "2022-08-02T19:18:13.363Z"
   },
   {
    "duration": 119,
    "start_time": "2022-08-02T19:19:21.122Z"
   },
   {
    "duration": 19,
    "start_time": "2022-08-02T19:23:41.807Z"
   },
   {
    "duration": 46,
    "start_time": "2022-08-02T19:23:43.343Z"
   },
   {
    "duration": 16,
    "start_time": "2022-08-02T19:23:46.678Z"
   },
   {
    "duration": 155,
    "start_time": "2022-08-02T19:23:51.574Z"
   },
   {
    "duration": 93,
    "start_time": "2022-08-02T19:24:50.557Z"
   },
   {
    "duration": 347,
    "start_time": "2022-08-02T19:41:55.156Z"
   },
   {
    "duration": 76,
    "start_time": "2022-08-02T19:49:48.997Z"
   },
   {
    "duration": 86,
    "start_time": "2022-08-02T19:50:22.679Z"
   },
   {
    "duration": 74,
    "start_time": "2022-08-02T19:51:10.353Z"
   },
   {
    "duration": 109,
    "start_time": "2022-08-02T19:51:16.443Z"
   },
   {
    "duration": 84,
    "start_time": "2022-08-02T19:52:07.741Z"
   },
   {
    "duration": 83,
    "start_time": "2022-08-02T19:52:34.930Z"
   },
   {
    "duration": 383,
    "start_time": "2022-08-02T19:52:44.527Z"
   },
   {
    "duration": 369,
    "start_time": "2022-08-02T19:54:56.000Z"
   },
   {
    "duration": 366,
    "start_time": "2022-08-02T19:55:32.444Z"
   },
   {
    "duration": 347,
    "start_time": "2022-08-02T19:57:15.438Z"
   },
   {
    "duration": 116,
    "start_time": "2022-08-02T19:57:35.250Z"
   },
   {
    "duration": 80,
    "start_time": "2022-08-02T19:58:10.835Z"
   },
   {
    "duration": 332,
    "start_time": "2022-08-02T19:58:52.407Z"
   },
   {
    "duration": 5,
    "start_time": "2022-08-02T20:00:44.782Z"
   },
   {
    "duration": 832,
    "start_time": "2022-08-02T20:08:19.206Z"
   },
   {
    "duration": 84,
    "start_time": "2022-08-02T20:12:12.100Z"
   },
   {
    "duration": 37,
    "start_time": "2022-08-02T20:13:01.378Z"
   },
   {
    "duration": 325,
    "start_time": "2022-08-02T20:14:36.135Z"
   },
   {
    "duration": 295,
    "start_time": "2022-08-02T20:15:02.335Z"
   },
   {
    "duration": 294,
    "start_time": "2022-08-02T20:15:54.035Z"
   },
   {
    "duration": 47,
    "start_time": "2022-08-02T20:17:08.082Z"
   },
   {
    "duration": 113,
    "start_time": "2022-08-02T20:17:25.057Z"
   },
   {
    "duration": 41,
    "start_time": "2022-08-02T20:18:14.641Z"
   },
   {
    "duration": 5,
    "start_time": "2022-08-02T20:18:29.849Z"
   },
   {
    "duration": 41,
    "start_time": "2022-08-02T20:18:37.038Z"
   },
   {
    "duration": 44,
    "start_time": "2022-08-02T20:19:41.455Z"
   },
   {
    "duration": 538,
    "start_time": "2022-08-02T20:35:06.174Z"
   },
   {
    "duration": 608,
    "start_time": "2022-08-02T20:35:53.604Z"
   },
   {
    "duration": 779,
    "start_time": "2022-08-02T20:37:26.332Z"
   },
   {
    "duration": 424,
    "start_time": "2022-08-02T20:38:02.591Z"
   },
   {
    "duration": 945,
    "start_time": "2022-08-02T20:39:09.266Z"
   },
   {
    "duration": 43,
    "start_time": "2022-08-02T20:39:46.649Z"
   },
   {
    "duration": 48,
    "start_time": "2022-08-02T20:40:34.246Z"
   },
   {
    "duration": 45,
    "start_time": "2022-08-02T20:40:47.711Z"
   },
   {
    "duration": 39,
    "start_time": "2022-08-02T20:40:58.601Z"
   },
   {
    "duration": 51,
    "start_time": "2022-08-02T20:41:51.753Z"
   },
   {
    "duration": 56,
    "start_time": "2022-08-02T20:42:59.545Z"
   },
   {
    "duration": 41,
    "start_time": "2022-08-02T20:43:04.461Z"
   },
   {
    "duration": 33,
    "start_time": "2022-08-02T20:43:08.267Z"
   },
   {
    "duration": 44,
    "start_time": "2022-08-02T20:43:13.043Z"
   },
   {
    "duration": 37,
    "start_time": "2022-08-02T20:43:17.469Z"
   },
   {
    "duration": 47,
    "start_time": "2022-08-03T14:01:21.555Z"
   },
   {
    "duration": 1191,
    "start_time": "2022-08-03T14:01:28.909Z"
   },
   {
    "duration": 176,
    "start_time": "2022-08-03T14:01:30.102Z"
   },
   {
    "duration": 14,
    "start_time": "2022-08-03T14:01:30.279Z"
   },
   {
    "duration": 150,
    "start_time": "2022-08-03T14:01:30.294Z"
   },
   {
    "duration": 275,
    "start_time": "2022-08-03T14:01:30.446Z"
   },
   {
    "duration": 46,
    "start_time": "2022-08-03T14:01:30.723Z"
   },
   {
    "duration": 109,
    "start_time": "2022-08-03T14:01:30.771Z"
   },
   {
    "duration": 12,
    "start_time": "2022-08-03T14:02:24.958Z"
   },
   {
    "duration": 2896,
    "start_time": "2022-08-03T14:02:38.007Z"
   },
   {
    "duration": 13,
    "start_time": "2022-08-03T14:06:37.182Z"
   },
   {
    "duration": 55,
    "start_time": "2022-08-03T14:06:43.844Z"
   },
   {
    "duration": 2299,
    "start_time": "2022-08-03T14:06:46.676Z"
   },
   {
    "duration": 2042,
    "start_time": "2022-08-03T14:07:06.403Z"
   },
   {
    "duration": 6,
    "start_time": "2022-08-03T14:08:59.259Z"
   },
   {
    "duration": 7,
    "start_time": "2022-08-03T14:09:51.675Z"
   },
   {
    "duration": 17,
    "start_time": "2022-08-03T14:10:06.203Z"
   },
   {
    "duration": 15,
    "start_time": "2022-08-03T14:11:16.922Z"
   },
   {
    "duration": 15,
    "start_time": "2022-08-03T14:12:29.650Z"
   },
   {
    "duration": 15,
    "start_time": "2022-08-03T14:13:18.740Z"
   },
   {
    "duration": 7,
    "start_time": "2022-08-03T14:22:12.636Z"
   },
   {
    "duration": 27,
    "start_time": "2022-08-03T14:24:15.811Z"
   },
   {
    "duration": 23,
    "start_time": "2022-08-03T14:25:10.358Z"
   },
   {
    "duration": 1122,
    "start_time": "2022-08-03T14:27:52.036Z"
   },
   {
    "duration": 73,
    "start_time": "2022-08-03T14:27:53.160Z"
   },
   {
    "duration": 20,
    "start_time": "2022-08-03T14:27:53.244Z"
   },
   {
    "duration": 94,
    "start_time": "2022-08-03T14:27:53.266Z"
   },
   {
    "duration": 295,
    "start_time": "2022-08-03T14:27:53.362Z"
   },
   {
    "duration": 35,
    "start_time": "2022-08-03T14:27:53.659Z"
   },
   {
    "duration": 24,
    "start_time": "2022-08-03T14:27:53.719Z"
   },
   {
    "duration": 171,
    "start_time": "2022-08-03T14:27:53.744Z"
   },
   {
    "duration": 1631,
    "start_time": "2022-08-04T13:27:03.248Z"
   },
   {
    "duration": 137,
    "start_time": "2022-08-04T13:27:04.881Z"
   },
   {
    "duration": 14,
    "start_time": "2022-08-04T13:27:05.020Z"
   },
   {
    "duration": 96,
    "start_time": "2022-08-04T13:27:05.036Z"
   },
   {
    "duration": 250,
    "start_time": "2022-08-04T13:27:05.134Z"
   },
   {
    "duration": 37,
    "start_time": "2022-08-04T13:27:05.385Z"
   },
   {
    "duration": 18,
    "start_time": "2022-08-04T13:27:05.424Z"
   },
   {
    "duration": 64,
    "start_time": "2022-08-04T13:27:05.444Z"
   },
   {
    "duration": 3,
    "start_time": "2022-08-04T13:27:28.462Z"
   },
   {
    "duration": 235,
    "start_time": "2022-08-04T13:27:39.005Z"
   },
   {
    "duration": 35,
    "start_time": "2022-08-04T13:27:40.773Z"
   },
   {
    "duration": 27,
    "start_time": "2022-08-04T13:27:45.186Z"
   },
   {
    "duration": 48,
    "start_time": "2022-08-05T12:42:17.017Z"
   },
   {
    "duration": 1152,
    "start_time": "2022-08-05T12:42:24.065Z"
   },
   {
    "duration": 83,
    "start_time": "2022-08-05T12:42:25.219Z"
   },
   {
    "duration": 16,
    "start_time": "2022-08-05T12:42:25.303Z"
   },
   {
    "duration": 4,
    "start_time": "2022-08-05T12:42:25.321Z"
   },
   {
    "duration": 94,
    "start_time": "2022-08-05T12:42:25.327Z"
   },
   {
    "duration": 258,
    "start_time": "2022-08-05T12:42:25.424Z"
   },
   {
    "duration": 36,
    "start_time": "2022-08-05T12:42:25.685Z"
   },
   {
    "duration": 18,
    "start_time": "2022-08-05T12:42:25.723Z"
   },
   {
    "duration": 48,
    "start_time": "2022-08-05T12:42:25.742Z"
   },
   {
    "duration": 5,
    "start_time": "2022-08-05T12:42:42.771Z"
   },
   {
    "duration": 132,
    "start_time": "2022-08-05T12:48:47.310Z"
   },
   {
    "duration": 14,
    "start_time": "2022-08-05T12:49:10.808Z"
   },
   {
    "duration": 193,
    "start_time": "2022-08-05T12:49:25.826Z"
   },
   {
    "duration": 204,
    "start_time": "2022-08-05T12:49:29.945Z"
   },
   {
    "duration": 37,
    "start_time": "2022-08-05T12:49:52.777Z"
   },
   {
    "duration": 111,
    "start_time": "2022-08-05T12:51:26.999Z"
   },
   {
    "duration": 11,
    "start_time": "2022-08-05T12:51:39.698Z"
   },
   {
    "duration": 14,
    "start_time": "2022-08-05T12:51:51.535Z"
   },
   {
    "duration": 14,
    "start_time": "2022-08-05T12:52:09.913Z"
   },
   {
    "duration": 38,
    "start_time": "2022-08-05T12:52:18.513Z"
   },
   {
    "duration": 138,
    "start_time": "2022-08-05T12:52:31.407Z"
   },
   {
    "duration": 12,
    "start_time": "2022-08-05T12:52:41.774Z"
   },
   {
    "duration": 134,
    "start_time": "2022-08-05T12:52:45.335Z"
   },
   {
    "duration": 14,
    "start_time": "2022-08-05T12:53:08.214Z"
   },
   {
    "duration": 12,
    "start_time": "2022-08-05T12:53:13.607Z"
   },
   {
    "duration": 39,
    "start_time": "2022-08-05T12:54:02.429Z"
   },
   {
    "duration": 17,
    "start_time": "2022-08-05T13:32:20.775Z"
   },
   {
    "duration": 23,
    "start_time": "2022-08-05T13:32:38.097Z"
   },
   {
    "duration": 18,
    "start_time": "2022-08-05T13:33:10.000Z"
   },
   {
    "duration": 1197,
    "start_time": "2022-08-05T13:33:45.164Z"
   },
   {
    "duration": 53,
    "start_time": "2022-08-05T13:33:46.367Z"
   },
   {
    "duration": 18,
    "start_time": "2022-08-05T13:33:46.422Z"
   },
   {
    "duration": 101,
    "start_time": "2022-08-05T13:33:46.442Z"
   },
   {
    "duration": 328,
    "start_time": "2022-08-05T13:33:46.546Z"
   },
   {
    "duration": 41,
    "start_time": "2022-08-05T13:33:46.876Z"
   },
   {
    "duration": 19,
    "start_time": "2022-08-05T13:33:46.919Z"
   },
   {
    "duration": 129,
    "start_time": "2022-08-05T13:33:46.939Z"
   },
   {
    "duration": 16,
    "start_time": "2022-08-05T13:35:42.331Z"
   },
   {
    "duration": 1137,
    "start_time": "2022-08-05T13:35:50.070Z"
   },
   {
    "duration": 51,
    "start_time": "2022-08-05T13:35:51.209Z"
   },
   {
    "duration": 16,
    "start_time": "2022-08-05T13:35:51.261Z"
   },
   {
    "duration": 94,
    "start_time": "2022-08-05T13:35:51.279Z"
   },
   {
    "duration": 303,
    "start_time": "2022-08-05T13:35:51.374Z"
   },
   {
    "duration": 40,
    "start_time": "2022-08-05T13:35:51.678Z"
   },
   {
    "duration": 50,
    "start_time": "2022-08-05T13:35:51.719Z"
   },
   {
    "duration": 65,
    "start_time": "2022-08-05T13:35:51.770Z"
   },
   {
    "duration": 109,
    "start_time": "2022-08-05T13:38:50.197Z"
   },
   {
    "duration": 20,
    "start_time": "2022-08-05T13:39:04.245Z"
   },
   {
    "duration": 16,
    "start_time": "2022-08-05T13:48:26.265Z"
   },
   {
    "duration": 18,
    "start_time": "2022-08-05T13:48:43.639Z"
   },
   {
    "duration": 74,
    "start_time": "2022-08-05T13:48:50.673Z"
   },
   {
    "duration": 277,
    "start_time": "2022-08-05T13:48:56.773Z"
   },
   {
    "duration": 38,
    "start_time": "2022-08-05T13:49:00.728Z"
   },
   {
    "duration": 17,
    "start_time": "2022-08-05T13:49:24.178Z"
   },
   {
    "duration": 18,
    "start_time": "2022-08-05T13:49:30.132Z"
   },
   {
    "duration": 17,
    "start_time": "2022-08-05T13:49:34.890Z"
   },
   {
    "duration": 21,
    "start_time": "2022-08-05T13:49:40.769Z"
   },
   {
    "duration": 16,
    "start_time": "2022-08-05T13:49:57.587Z"
   },
   {
    "duration": 75,
    "start_time": "2022-08-05T13:50:05.488Z"
   },
   {
    "duration": 281,
    "start_time": "2022-08-05T13:50:08.848Z"
   },
   {
    "duration": 37,
    "start_time": "2022-08-05T13:50:13.208Z"
   },
   {
    "duration": 50,
    "start_time": "2022-08-05T13:50:16.614Z"
   },
   {
    "duration": 21,
    "start_time": "2022-08-05T13:51:16.657Z"
   },
   {
    "duration": 70,
    "start_time": "2022-08-05T13:51:37.306Z"
   },
   {
    "duration": 279,
    "start_time": "2022-08-05T13:51:42.389Z"
   },
   {
    "duration": 38,
    "start_time": "2022-08-05T13:51:49.938Z"
   },
   {
    "duration": 19,
    "start_time": "2022-08-05T13:51:54.517Z"
   },
   {
    "duration": 30,
    "start_time": "2022-08-05T13:51:58.919Z"
   },
   {
    "duration": 1158,
    "start_time": "2022-08-05T13:52:15.832Z"
   },
   {
    "duration": 54,
    "start_time": "2022-08-05T13:52:16.992Z"
   },
   {
    "duration": 25,
    "start_time": "2022-08-05T13:52:17.048Z"
   },
   {
    "duration": 73,
    "start_time": "2022-08-05T13:52:17.075Z"
   },
   {
    "duration": 274,
    "start_time": "2022-08-05T13:52:17.167Z"
   },
   {
    "duration": 51,
    "start_time": "2022-08-05T13:52:17.443Z"
   },
   {
    "duration": 18,
    "start_time": "2022-08-05T13:52:17.496Z"
   },
   {
    "duration": 56,
    "start_time": "2022-08-05T13:52:17.516Z"
   },
   {
    "duration": 16,
    "start_time": "2022-08-05T13:52:56.429Z"
   },
   {
    "duration": 1111,
    "start_time": "2022-08-05T13:53:02.605Z"
   },
   {
    "duration": 53,
    "start_time": "2022-08-05T13:53:03.718Z"
   },
   {
    "duration": 15,
    "start_time": "2022-08-05T13:53:03.773Z"
   },
   {
    "duration": 89,
    "start_time": "2022-08-05T13:53:03.790Z"
   },
   {
    "duration": 275,
    "start_time": "2022-08-05T13:53:03.880Z"
   },
   {
    "duration": 43,
    "start_time": "2022-08-05T13:53:04.157Z"
   },
   {
    "duration": 16,
    "start_time": "2022-08-05T13:53:04.202Z"
   },
   {
    "duration": 54,
    "start_time": "2022-08-05T13:53:04.219Z"
   },
   {
    "duration": 5,
    "start_time": "2022-08-05T13:55:11.370Z"
   },
   {
    "duration": 5,
    "start_time": "2022-08-05T13:55:27.714Z"
   },
   {
    "duration": 4,
    "start_time": "2022-08-05T13:55:44.731Z"
   },
   {
    "duration": 5,
    "start_time": "2022-08-05T13:55:50.960Z"
   },
   {
    "duration": 4,
    "start_time": "2022-08-05T13:56:40.227Z"
   },
   {
    "duration": 100,
    "start_time": "2022-08-05T13:56:46.155Z"
   },
   {
    "duration": 5,
    "start_time": "2022-08-05T13:56:49.201Z"
   },
   {
    "duration": 7,
    "start_time": "2022-08-05T13:57:02.530Z"
   },
   {
    "duration": 3,
    "start_time": "2022-08-05T13:57:22.179Z"
   },
   {
    "duration": 6,
    "start_time": "2022-08-05T13:57:31.502Z"
   },
   {
    "duration": 6,
    "start_time": "2022-08-05T13:57:47.164Z"
   },
   {
    "duration": 5,
    "start_time": "2022-08-05T13:57:51.935Z"
   },
   {
    "duration": 5,
    "start_time": "2022-08-05T13:58:35.086Z"
   },
   {
    "duration": 5,
    "start_time": "2022-08-05T14:01:30.608Z"
   },
   {
    "duration": 5,
    "start_time": "2022-08-05T14:01:43.520Z"
   }
  ],
  "kernelspec": {
   "display_name": "Python 3 (ipykernel)",
   "language": "python",
   "name": "python3"
  },
  "language_info": {
   "codemirror_mode": {
    "name": "ipython",
    "version": 3
   },
   "file_extension": ".py",
   "mimetype": "text/x-python",
   "name": "python",
   "nbconvert_exporter": "python",
   "pygments_lexer": "ipython3",
   "version": "3.9.18"
  },
  "toc": {
   "base_numbering": 1,
   "nav_menu": {},
   "number_sections": true,
   "sideBar": true,
   "skip_h1_title": true,
   "title_cell": "Table of Contents",
   "title_sidebar": "Contents",
   "toc_cell": false,
   "toc_position": {},
   "toc_section_display": true,
   "toc_window_display": true
  }
 },
 "nbformat": 4,
 "nbformat_minor": 2
}
