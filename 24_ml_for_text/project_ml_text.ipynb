{
 "cells": [
  {
   "cell_type": "markdown",
   "metadata": {
    "id": "rKKknlAPw3Fl",
    "toc": true
   },
   "source": [
    "<h1>Содержание<span class=\"tocSkip\"></span></h1>\n",
    "<div class=\"toc\"><ul class=\"toc-item\"><li><span><a href=\"#BERT\" data-toc-modified-id=\"BERT-1\"><span class=\"toc-item-num\">1&nbsp;&nbsp;</span>BERT</a></span><ul class=\"toc-item\"><li><span><a href=\"#Подготовка\" data-toc-modified-id=\"Подготовка-1.1\"><span class=\"toc-item-num\">1.1&nbsp;&nbsp;</span>Подготовка</a></span></li><li><span><a href=\"#Обучение\" data-toc-modified-id=\"Обучение-1.2\"><span class=\"toc-item-num\">1.2&nbsp;&nbsp;</span>Обучение</a></span><ul class=\"toc-item\"><li><span><a href=\"#Модель-LogisticRegression\" data-toc-modified-id=\"Модель-LogisticRegression-1.2.1\"><span class=\"toc-item-num\">1.2.1&nbsp;&nbsp;</span>Модель LogisticRegression</a></span></li><li><span><a href=\"#Модель-LGBMClassifier\" data-toc-modified-id=\"Модель-LGBMClassifier-1.2.2\"><span class=\"toc-item-num\">1.2.2&nbsp;&nbsp;</span>Модель LGBMClassifier</a></span></li><li><span><a href=\"#Модель-RandomForestClassifier\" data-toc-modified-id=\"Модель-RandomForestClassifier-1.2.3\"><span class=\"toc-item-num\">1.2.3&nbsp;&nbsp;</span>Модель RandomForestClassifier</a></span></li><li><span><a href=\"#Тестирование-наилучшей-модели\" data-toc-modified-id=\"Тестирование-наилучшей-модели-1.2.4\"><span class=\"toc-item-num\">1.2.4&nbsp;&nbsp;</span>Тестирование наилучшей модели</a></span></li><li><span><a href=\"#Сводная-результатов-обучения\" data-toc-modified-id=\"Сводная-результатов-обучения-1.2.5\"><span class=\"toc-item-num\">1.2.5&nbsp;&nbsp;</span>Сводная результатов обучения</a></span></li></ul></li><li><span><a href=\"#Выводы\" data-toc-modified-id=\"Выводы-1.3\"><span class=\"toc-item-num\">1.3&nbsp;&nbsp;</span>Выводы</a></span></li></ul></li><li><span><a href=\"#Classic-ML\" data-toc-modified-id=\"Classic-ML-2\"><span class=\"toc-item-num\">2&nbsp;&nbsp;</span>Classic ML</a></span><ul class=\"toc-item\"><li><span><a href=\"#Подготовка\" data-toc-modified-id=\"Подготовка-2.1\"><span class=\"toc-item-num\">2.1&nbsp;&nbsp;</span>Подготовка</a></span></li><li><span><a href=\"#Обучение\" data-toc-modified-id=\"Обучение-2.2\"><span class=\"toc-item-num\">2.2&nbsp;&nbsp;</span>Обучение</a></span><ul class=\"toc-item\"><li><span><a href=\"#Модель-LogisticRegression\" data-toc-modified-id=\"Модель-LogisticRegression-2.2.1\"><span class=\"toc-item-num\">2.2.1&nbsp;&nbsp;</span>Модель LogisticRegression</a></span></li><li><span><a href=\"#Модель-LGBMClassifier\" data-toc-modified-id=\"Модель-LGBMClassifier-2.2.2\"><span class=\"toc-item-num\">2.2.2&nbsp;&nbsp;</span>Модель LGBMClassifier</a></span></li><li><span><a href=\"#Модель-RandomForestClassifier\" data-toc-modified-id=\"Модель-RandomForestClassifier-2.2.3\"><span class=\"toc-item-num\">2.2.3&nbsp;&nbsp;</span>Модель RandomForestClassifier</a></span></li><li><span><a href=\"#Тестирование-наилучшей-модели\" data-toc-modified-id=\"Тестирование-наилучшей-модели-2.2.4\"><span class=\"toc-item-num\">2.2.4&nbsp;&nbsp;</span>Тестирование наилучшей модели</a></span></li><li><span><a href=\"#Сводная-результатов-обучения\" data-toc-modified-id=\"Сводная-результатов-обучения-2.2.5\"><span class=\"toc-item-num\">2.2.5&nbsp;&nbsp;</span>Сводная результатов обучения</a></span></li></ul></li><li><span><a href=\"#Выводы\" data-toc-modified-id=\"Выводы-2.3\"><span class=\"toc-item-num\">2.3&nbsp;&nbsp;</span>Выводы</a></span></li></ul></li><li><span><a href=\"#Общий-вывод\" data-toc-modified-id=\"Общий-вывод-3\"><span class=\"toc-item-num\">3&nbsp;&nbsp;</span>Общий вывод</a></span></li></ul></div>"
   ]
  },
  {
   "cell_type": "code",
   "execution_count": 1,
   "metadata": {
    "colab": {
     "base_uri": "https://localhost:8080/"
    },
    "execution": {
     "iopub.execute_input": "2023-10-17T19:02:05.056935Z",
     "iopub.status.busy": "2023-10-17T19:02:05.056626Z",
     "iopub.status.idle": "2023-10-17T19:02:15.749442Z",
     "shell.execute_reply": "2023-10-17T19:02:15.748550Z",
     "shell.execute_reply.started": "2023-10-17T19:02:05.056906Z"
    },
    "id": "ttCH_B1Sw3Fn",
    "outputId": "c1d0eba5-c334-4c92-9065-69044296c1a7",
    "scrolled": true
   },
   "outputs": [],
   "source": [
    "# pip install protobuf==3.20.*"
   ]
  },
  {
   "cell_type": "code",
   "execution_count": 4,
   "metadata": {
    "execution": {
     "iopub.execute_input": "2023-10-17T19:02:31.939815Z",
     "iopub.status.busy": "2023-10-17T19:02:31.939613Z",
     "iopub.status.idle": "2023-10-17T19:02:55.206337Z",
     "shell.execute_reply": "2023-10-17T19:02:55.205616Z",
     "shell.execute_reply.started": "2023-10-17T19:02:31.939796Z"
    },
    "id": "RrJsw7x3w3Fp"
   },
   "outputs": [],
   "source": [
    "### импорт библиотек\n",
    "import numpy as np\n",
    "import pandas as pd\n",
    "import torch\n",
    "import re\n",
    "import time\n",
    "from transformers import BertTokenizer, BertForMaskedLM\n",
    "from tqdm import notebook\n",
    "from torch.nn.utils.rnn import pad_sequence\n",
    "from torch.utils.data import TensorDataset, DataLoader\n",
    "from tqdm import tqdm, tqdm_notebook\n",
    "from sklearn.linear_model import LogisticRegression\n",
    "from sklearn.ensemble import RandomForestClassifier\n",
    "from lightgbm import LGBMClassifier\n",
    "from sklearn.metrics import f1_score\n",
    "from sklearn.model_selection import cross_val_score, train_test_split, GridSearchCV\n",
    "import nltk\n",
    "from nltk.stem import WordNetLemmatizer\n",
    "from nltk.corpus import stopwords as nltk_stopwords\n",
    "from sklearn.feature_extraction.text import TfidfVectorizer\n",
    "from sklearn.utils import compute_class_weight"
   ]
  },
  {
   "cell_type": "markdown",
   "metadata": {
    "id": "c0r6xDiYw3Fq"
   },
   "source": [
    "## BERT"
   ]
  },
  {
   "cell_type": "markdown",
   "metadata": {
    "id": "dRqwxQBvw3Fq"
   },
   "source": [
    "Использована модель из следующего источника:\n",
    "- https://huggingface.co/bert-base-cased/tree/main\n",
    "- BERT-base, English, cased, 12-layer, 768-hidden, 12-heads, 110M parameters"
   ]
  },
  {
   "cell_type": "markdown",
   "metadata": {
    "id": "pIhVae1Ew3Fq"
   },
   "source": [
    "### Подготовка"
   ]
  },
  {
   "cell_type": "code",
   "execution_count": 5,
   "metadata": {
    "colab": {
     "base_uri": "https://localhost:8080/",
     "height": 206
    },
    "execution": {
     "iopub.execute_input": "2023-10-17T19:02:55.207612Z",
     "iopub.status.busy": "2023-10-17T19:02:55.207371Z",
     "iopub.status.idle": "2023-10-17T19:02:56.850423Z",
     "shell.execute_reply": "2023-10-17T19:02:56.849673Z",
     "shell.execute_reply.started": "2023-10-17T19:02:55.207591Z"
    },
    "id": "5_JST-ydw3Fr",
    "outputId": "36c4c1e7-d8fe-4908-d3f8-775c3f8d5baf"
   },
   "outputs": [
    {
     "data": {
      "text/html": [
       "<div>\n",
       "<style scoped>\n",
       "    .dataframe tbody tr th:only-of-type {\n",
       "        vertical-align: middle;\n",
       "    }\n",
       "\n",
       "    .dataframe tbody tr th {\n",
       "        vertical-align: top;\n",
       "    }\n",
       "\n",
       "    .dataframe thead th {\n",
       "        text-align: right;\n",
       "    }\n",
       "</style>\n",
       "<table border=\"1\" class=\"dataframe\">\n",
       "  <thead>\n",
       "    <tr style=\"text-align: right;\">\n",
       "      <th></th>\n",
       "      <th>text</th>\n",
       "      <th>toxic</th>\n",
       "    </tr>\n",
       "  </thead>\n",
       "  <tbody>\n",
       "    <tr>\n",
       "      <th>0</th>\n",
       "      <td>This is ridiculous.  You yourself don't think ...</td>\n",
       "      <td>1</td>\n",
       "    </tr>\n",
       "    <tr>\n",
       "      <th>1</th>\n",
       "      <td>Linking to fan sites\\nYou have done a lot of g...</td>\n",
       "      <td>0</td>\n",
       "    </tr>\n",
       "    <tr>\n",
       "      <th>2</th>\n",
       "      <td>Good work! \\n\\nDid you know that this article ...</td>\n",
       "      <td>0</td>\n",
       "    </tr>\n",
       "    <tr>\n",
       "      <th>3</th>\n",
       "      <td>Pundit, are you Montesquio?</td>\n",
       "      <td>0</td>\n",
       "    </tr>\n",
       "    <tr>\n",
       "      <th>4</th>\n",
       "      <td>It's till not clear what you're proposing. It ...</td>\n",
       "      <td>0</td>\n",
       "    </tr>\n",
       "  </tbody>\n",
       "</table>\n",
       "</div>"
      ],
      "text/plain": [
       "                                                text  toxic\n",
       "0  This is ridiculous.  You yourself don't think ...      1\n",
       "1  Linking to fan sites\\nYou have done a lot of g...      0\n",
       "2  Good work! \\n\\nDid you know that this article ...      0\n",
       "3                        Pundit, are you Montesquio?      0\n",
       "4  It's till not clear what you're proposing. It ...      0"
      ]
     },
     "execution_count": 5,
     "metadata": {},
     "output_type": "execute_result"
    }
   ],
   "source": [
    "# откроем файл\n",
    "data = pd.read_csv('toxic_comments.csv', index_col=0)\n",
    "# перезапишем файл для работы в рамках озу\n",
    "data = data.sample(512, random_state=2023).reset_index(drop=True)\n",
    "# выведем первые пять строк\n",
    "data.head(5)"
   ]
  },
  {
   "cell_type": "code",
   "execution_count": 6,
   "metadata": {
    "colab": {
     "base_uri": "https://localhost:8080/"
    },
    "execution": {
     "iopub.execute_input": "2023-10-17T19:02:56.851593Z",
     "iopub.status.busy": "2023-10-17T19:02:56.851389Z",
     "iopub.status.idle": "2023-10-17T19:03:02.359012Z",
     "shell.execute_reply": "2023-10-17T19:03:02.358223Z",
     "shell.execute_reply.started": "2023-10-17T19:02:56.851575Z"
    },
    "id": "raNtQQtuw3Fs",
    "outputId": "c5c47ead-81ac-42ee-d52d-37e0a0d6bfd6"
   },
   "outputs": [
    {
     "name": "stderr",
     "output_type": "stream",
     "text": [
      "Some weights of the model checkpoint at unitary/toxic-bert were not used when initializing BertForMaskedLM: ['classifier.weight', 'classifier.bias']\n",
      "- This IS expected if you are initializing BertForMaskedLM from the checkpoint of a model trained on another task or with another architecture (e.g. initializing a BertForSequenceClassification model from a BertForPreTraining model).\n",
      "- This IS NOT expected if you are initializing BertForMaskedLM from the checkpoint of a model that you expect to be exactly identical (initializing a BertForSequenceClassification model from a BertForSequenceClassification model).\n",
      "Some weights of BertForMaskedLM were not initialized from the model checkpoint at unitary/toxic-bert and are newly initialized: ['cls.predictions.transform.dense.weight', 'cls.predictions.transform.LayerNorm.weight', 'cls.predictions.bias', 'cls.predictions.transform.LayerNorm.bias', 'cls.predictions.transform.dense.bias', 'cls.predictions.decoder.weight']\n",
      "You should probably TRAIN this model on a down-stream task to be able to use it for predictions and inference.\n"
     ]
    }
   ],
   "source": [
    "# опеределим предобученные токенайзер и модель\n",
    "tokenizer = BertTokenizer.from_pretrained(\"unitary/toxic-bert\")\n",
    "model = BertForMaskedLM.from_pretrained(\"unitary/toxic-bert\")"
   ]
  },
  {
   "cell_type": "code",
   "execution_count": 7,
   "metadata": {
    "colab": {
     "base_uri": "https://localhost:8080/",
     "height": 133,
     "referenced_widgets": [
      "77f549379bc44a28b57ca403010e119e",
      "891ee752f0d4460db7733cdd88017f83",
      "84bd88810b7f456598c20fcb1772029c",
      "fd6f9784bc96406993c847d0d55705c0",
      "24519ff32ab74fe4b159a9b1d2606af2",
      "2b6e4b61a592489fa60e0a40f9406fda",
      "164a7b45d8e3473185e9a9e3aeecfb4a",
      "128a1a6ef0ca419da449411158d66b05",
      "b6fe142a96cd4bdda3a1e370d52d2a83",
      "dcd8826235084ba096872ad1fe0bbd48",
      "e72e3d94ed4a482ebbca841e949679c2",
      "fcd9a0512d2c46b6b3ababe84a5ddb5f",
      "f2dec8090c0c4c17a53d337207254716",
      "3aac8b1bc6e94eda8c5618192f69d5a1",
      "82d27afa3b754459a3d4b6a4b4f41537",
      "d970dc5e02924394b088eb8c869167e3",
      "af9cf9c5f3a14986b15a41fb4e261bdd",
      "3d99cbe7b6d4437baa8294c75313e3e3",
      "0125b04921104c86adf889a7b242f64e",
      "ad503953755c4f93a64154cc647e3b31",
      "6c185bd7aa4f4349a603e9cec0ce75f2",
      "87945be82b2d44dabbd90e6d44ee9134"
     ]
    },
    "execution": {
     "iopub.execute_input": "2023-10-17T19:03:02.360411Z",
     "iopub.status.busy": "2023-10-17T19:03:02.360014Z",
     "iopub.status.idle": "2023-10-17T19:03:25.817303Z",
     "shell.execute_reply": "2023-10-17T19:03:25.816590Z",
     "shell.execute_reply.started": "2023-10-17T19:03:02.360389Z"
    },
    "id": "bkm9YEW8w3Ft",
    "outputId": "5fbe69e7-db6d-4128-c4ec-e4410abec989"
   },
   "outputs": [
    {
     "data": {
      "application/vnd.jupyter.widget-view+json": {
       "model_id": "0a2bf81811694b45a485920eedd2bb3a",
       "version_major": 2,
       "version_minor": 0
      },
      "text/plain": [
       "0it [00:00, ?it/s]"
      ]
     },
     "metadata": {},
     "output_type": "display_data"
    },
    {
     "data": {
      "application/vnd.jupyter.widget-view+json": {
       "model_id": "c2617f5dc890441cb30ddbf69abcdf47",
       "version_major": 2,
       "version_minor": 0
      },
      "text/plain": [
       "  0%|          | 0/512 [00:00<?, ?it/s]"
      ]
     },
     "metadata": {},
     "output_type": "display_data"
    }
   ],
   "source": [
    "# обозначим модуль для пандас, чтобы устранить ошибку\n",
    "notebook.tqdm().pandas()\n",
    "# обрежем токенайзер под нужное количество токенов\n",
    "tokenized = data['text'].progress_apply(lambda x: tokenizer.encode(x, max_length=128, truncation=True, add_special_tokens=True))\n",
    "# в токенайзере дополним пропуски нулями\n",
    "padded = pad_sequence([torch.as_tensor(seq) for seq in tokenized], batch_first=True)\n",
    "# преобразуем маску\n",
    "attention_mask = padded > 0\n",
    "attention_mask = attention_mask.type(torch.LongTensor)"
   ]
  },
  {
   "cell_type": "code",
   "execution_count": 8,
   "metadata": {
    "execution": {
     "iopub.execute_input": "2023-10-17T19:03:25.821490Z",
     "iopub.status.busy": "2023-10-17T19:03:25.818206Z",
     "iopub.status.idle": "2023-10-17T19:03:25.891268Z",
     "shell.execute_reply": "2023-10-17T19:03:25.890465Z",
     "shell.execute_reply.started": "2023-10-17T19:03:25.821463Z"
    },
    "id": "bcm_O29Yg8z5"
   },
   "outputs": [
    {
     "name": "stdout",
     "output_type": "stream",
     "text": [
      "Device: cpu\n"
     ]
    }
   ],
   "source": [
    "# создаем датасет\n",
    "dataset = TensorDataset(attention_mask, padded)\n",
    "# создаем загрузчик данных с батчом 32\n",
    "dataloader = DataLoader(dataset, batch_size=32, shuffle=False, num_workers=0)\n",
    "# выведем информацию о доступных cpu или gpu\n",
    "device = torch.device(\"cuda:0\") if torch.cuda.is_available() else torch.device(\"cpu\")\n",
    "print(f'Device: {device}')"
   ]
  },
  {
   "cell_type": "code",
   "execution_count": 9,
   "metadata": {
    "colab": {
     "base_uri": "https://localhost:8080/",
     "height": 84,
     "referenced_widgets": [
      "6a3f5ed664f347a88981bd1e14aa9c10",
      "780f6e8bc3264141b30a3e4a355efe9c",
      "e476e11ed5fd49f99a897f8b8458ab79",
      "4b71380d04eb441883ebc12dce57ae28",
      "c695ce8c96b64cf5a601e90fb0a3b2df",
      "c9abf279bd31406681da140e588650c4",
      "72419da77e19464bb5261a3e75b53d6b",
      "b05223c60dec473aaa8cd87ea543f4ce",
      "661c2fc7e57242d79c73a81dc910e01b",
      "b3de17ecdc6c4949aaac4c0259ec8047",
      "4d9db5b24e5d42f79b2c828634258152"
     ]
    },
    "execution": {
     "iopub.execute_input": "2023-10-17T19:03:25.894595Z",
     "iopub.status.busy": "2023-10-17T19:03:25.894002Z",
     "iopub.status.idle": "2023-10-17T19:05:55.813432Z",
     "shell.execute_reply": "2023-10-17T19:05:55.812628Z",
     "shell.execute_reply.started": "2023-10-17T19:03:25.894571Z"
    },
    "id": "cYhkdgamg8z5",
    "outputId": "844951ff-04ec-4367-b8f7-446a1e124928"
   },
   "outputs": [
    {
     "data": {
      "application/vnd.jupyter.widget-view+json": {
       "model_id": "9f69dda5ef4a47cfb6e03c2f19e14f5b",
       "version_major": 2,
       "version_minor": 0
      },
      "text/plain": [
       "  0%|          | 0/16 [00:00<?, ?it/s]"
      ]
     },
     "metadata": {},
     "output_type": "display_data"
    },
    {
     "name": "stdout",
     "output_type": "stream",
     "text": [
      "CPU times: total: 16min 19s\n",
      "Wall time: 4min 56s\n"
     ]
    }
   ],
   "source": [
    "%%time\n",
    "# пустой список для хранения эмбеддингов\n",
    "embeddings = []\n",
    "# определим модель с учетом доступного девайса\n",
    "model.to(device)\n",
    "model.eval()\n",
    "# воспользуемся библиотекой tqdm для визуализации прогресса\n",
    "for attention_mask, padded in notebook.tqdm(dataloader):\n",
    "    attention_mask, padded = attention_mask.to(device), padded.to(device)\n",
    "    # укажем что градиенты не требуются\n",
    "    with torch.no_grad():\n",
    "        # получим эмбеддинги для батча, передав модели данные и маску\n",
    "        batch_embeddings = model(padded, attention_mask=attention_mask)\n",
    "    # преобразуем элементы методом numpy() к типу numpy.array\n",
    "    embeddings.append(batch_embeddings[0][:,0,:].cpu().numpy())"
   ]
  },
  {
   "cell_type": "code",
   "execution_count": 10,
   "metadata": {},
   "outputs": [],
   "source": [
    "# %%time\n",
    "# # обучать будем небольшими батчами, чтобы не сломать ядро\n",
    "# batch_size = 5\n",
    "# # пустой список для хранения эмбеддингов\n",
    "# embeddings = []\n",
    "# for i in notebook.tqdm(range(padded.shape[0] // batch_size)):\n",
    "#         # преобразуем данные\n",
    "#         batch = torch.LongTensor(padded[batch_size*i:batch_size*(i+1)]) \n",
    "#         # преобразуем маску\n",
    "#         attention_mask_batch = torch.LongTensor(attention_mask[batch_size*i:batch_size*(i+1)])\n",
    "#         # укажем что градиенты не требуются\n",
    "#         with torch.no_grad():\n",
    "#             # получим эмбеддинги для батча, передав модели данные и маску\n",
    "#             batch_embeddings = model(batch, attention_mask=attention_mask_batch)\n",
    "#         # преобразуем элементы методом numpy() к типу numpy.array\n",
    "#         embeddings.append(batch_embeddings[0][:,0,:].cpu().numpy())"
   ]
  },
  {
   "cell_type": "markdown",
   "metadata": {
    "id": "3dnck8Xtw3Fu"
   },
   "source": [
    "### Обучение"
   ]
  },
  {
   "cell_type": "code",
   "execution_count": 11,
   "metadata": {
    "colab": {
     "base_uri": "https://localhost:8080/",
     "height": 86
    },
    "execution": {
     "iopub.execute_input": "2023-10-17T19:05:55.814628Z",
     "iopub.status.busy": "2023-10-17T19:05:55.814335Z",
     "iopub.status.idle": "2023-10-17T19:05:56.383927Z",
     "shell.execute_reply": "2023-10-17T19:05:56.381238Z",
     "shell.execute_reply.started": "2023-10-17T19:05:55.814607Z"
    },
    "id": "xcPTjAgAw3Fv",
    "outputId": "f70aa5e3-537e-40d9-fe9f-c70e730eeb7f"
   },
   "outputs": [
    {
     "data": {
      "text/plain": [
       "(358, 30522)"
      ]
     },
     "metadata": {},
     "output_type": "display_data"
    },
    {
     "data": {
      "text/plain": [
       "(358,)"
      ]
     },
     "metadata": {},
     "output_type": "display_data"
    },
    {
     "data": {
      "text/plain": [
       "(154, 30522)"
      ]
     },
     "metadata": {},
     "output_type": "display_data"
    },
    {
     "data": {
      "text/plain": [
       "(154,)"
      ]
     },
     "metadata": {},
     "output_type": "display_data"
    }
   ],
   "source": [
    "# обозначим признаки и цели\n",
    "features = np.concatenate(embeddings)\n",
    "target = data['toxic']\n",
    "# разделим данные на выборки\n",
    "features_train, features_test, target_train, target_test = train_test_split(\n",
    "    features, target, test_size=0.3, shuffle=True, random_state=42)\n",
    "# выведем получившиеся размерности\n",
    "display(features_train.shape)\n",
    "display(target_train.shape)\n",
    "display(features_test.shape)\n",
    "display(target_test.shape)"
   ]
  },
  {
   "cell_type": "markdown",
   "metadata": {
    "id": "fgW989aAw3Fv"
   },
   "source": [
    "#### Модель LogisticRegression"
   ]
  },
  {
   "cell_type": "code",
   "execution_count": 12,
   "metadata": {
    "colab": {
     "base_uri": "https://localhost:8080/"
    },
    "execution": {
     "iopub.execute_input": "2023-10-17T19:05:56.385241Z",
     "iopub.status.busy": "2023-10-17T19:05:56.385013Z",
     "iopub.status.idle": "2023-10-17T19:08:05.544367Z",
     "shell.execute_reply": "2023-10-17T19:08:05.542896Z",
     "shell.execute_reply.started": "2023-10-17T19:05:56.385221Z"
    },
    "id": "GoZyBYiRw3Fv",
    "outputId": "4c0523b5-85b7-4720-ab9b-cb48213bf477",
    "scrolled": true
   },
   "outputs": [
    {
     "name": "stdout",
     "output_type": "stream",
     "text": [
      "Fitting 3 folds for each of 4 candidates, totalling 12 fits\n",
      "[CV] END ..............................C=2, solver=liblinear; total time=   2.4s\n",
      "[CV] END ..............................C=2, solver=liblinear; total time=   2.2s\n",
      "[CV] END ..............................C=2, solver=liblinear; total time=   2.4s\n"
     ]
    },
    {
     "name": "stderr",
     "output_type": "stream",
     "text": [
      "C:\\Users\\Spline\\anaconda3\\envs\\ds_practicum_env\\lib\\site-packages\\sklearn\\linear_model\\_sag.py:328: ConvergenceWarning: The max_iter was reached which means the coef_ did not converge\n",
      "  warnings.warn(\"The max_iter was reached which means \"\n"
     ]
    },
    {
     "name": "stdout",
     "output_type": "stream",
     "text": [
      "[CV] END ...................................C=2, solver=saga; total time=  12.4s\n"
     ]
    },
    {
     "name": "stderr",
     "output_type": "stream",
     "text": [
      "C:\\Users\\Spline\\anaconda3\\envs\\ds_practicum_env\\lib\\site-packages\\sklearn\\linear_model\\_sag.py:328: ConvergenceWarning: The max_iter was reached which means the coef_ did not converge\n",
      "  warnings.warn(\"The max_iter was reached which means \"\n"
     ]
    },
    {
     "name": "stdout",
     "output_type": "stream",
     "text": [
      "[CV] END ...................................C=2, solver=saga; total time=  12.5s\n"
     ]
    },
    {
     "name": "stderr",
     "output_type": "stream",
     "text": [
      "C:\\Users\\Spline\\anaconda3\\envs\\ds_practicum_env\\lib\\site-packages\\sklearn\\linear_model\\_sag.py:328: ConvergenceWarning: The max_iter was reached which means the coef_ did not converge\n",
      "  warnings.warn(\"The max_iter was reached which means \"\n"
     ]
    },
    {
     "name": "stdout",
     "output_type": "stream",
     "text": [
      "[CV] END ...................................C=2, solver=saga; total time=  12.5s\n",
      "[CV] END .............................C=10, solver=liblinear; total time=   2.4s\n",
      "[CV] END .............................C=10, solver=liblinear; total time=   2.4s\n",
      "[CV] END .............................C=10, solver=liblinear; total time=   2.5s\n"
     ]
    },
    {
     "name": "stderr",
     "output_type": "stream",
     "text": [
      "C:\\Users\\Spline\\anaconda3\\envs\\ds_practicum_env\\lib\\site-packages\\sklearn\\linear_model\\_sag.py:328: ConvergenceWarning: The max_iter was reached which means the coef_ did not converge\n",
      "  warnings.warn(\"The max_iter was reached which means \"\n"
     ]
    },
    {
     "name": "stdout",
     "output_type": "stream",
     "text": [
      "[CV] END ..................................C=10, solver=saga; total time=  12.9s\n"
     ]
    },
    {
     "name": "stderr",
     "output_type": "stream",
     "text": [
      "C:\\Users\\Spline\\anaconda3\\envs\\ds_practicum_env\\lib\\site-packages\\sklearn\\linear_model\\_sag.py:328: ConvergenceWarning: The max_iter was reached which means the coef_ did not converge\n",
      "  warnings.warn(\"The max_iter was reached which means \"\n"
     ]
    },
    {
     "name": "stdout",
     "output_type": "stream",
     "text": [
      "[CV] END ..................................C=10, solver=saga; total time=  12.4s\n"
     ]
    },
    {
     "name": "stderr",
     "output_type": "stream",
     "text": [
      "C:\\Users\\Spline\\anaconda3\\envs\\ds_practicum_env\\lib\\site-packages\\sklearn\\linear_model\\_sag.py:328: ConvergenceWarning: The max_iter was reached which means the coef_ did not converge\n",
      "  warnings.warn(\"The max_iter was reached which means \"\n"
     ]
    },
    {
     "name": "stdout",
     "output_type": "stream",
     "text": [
      "[CV] END ..................................C=10, solver=saga; total time=  12.7s\n"
     ]
    },
    {
     "name": "stderr",
     "output_type": "stream",
     "text": [
      "C:\\Users\\Spline\\anaconda3\\envs\\ds_practicum_env\\lib\\site-packages\\sklearn\\linear_model\\_sag.py:328: ConvergenceWarning: The max_iter was reached which means the coef_ did not converge\n",
      "  warnings.warn(\"The max_iter was reached which means \"\n"
     ]
    },
    {
     "data": {
      "text/plain": [
       "0.8627582982702197"
      ]
     },
     "metadata": {},
     "output_type": "display_data"
    },
    {
     "data": {
      "text/plain": [
       "{'C': 2, 'solver': 'saga'}"
      ]
     },
     "metadata": {},
     "output_type": "display_data"
    },
    {
     "name": "stdout",
     "output_type": "stream",
     "text": [
      "CPU times: total: 1min 49s\n",
      "Wall time: 1min 49s\n"
     ]
    }
   ],
   "source": [
    "%%time\n",
    "start_11 = time.time()\n",
    "### обучим модель LogisticRegression с помощью GridSearchCV для расчета f1\n",
    "# параметры по сетке\n",
    "parameters_11 = {\n",
    "    'solver': ['liblinear', 'saga'],\n",
    "    'C': [2, 10]\n",
    "}\n",
    "log_reg11 = LogisticRegression(random_state=42, class_weight='balanced')\n",
    "clf_11 = GridSearchCV(log_reg11, parameters_11, scoring='f1', cv=3, n_jobs=1, verbose=2)\n",
    "clf_11.fit(features_train, target_train)\n",
    "score_11 = clf_11.best_score_\n",
    "display(score_11)\n",
    "display(clf_11.best_params_)\n",
    "end_11 = time.time() - start_11"
   ]
  },
  {
   "cell_type": "markdown",
   "metadata": {
    "id": "U7L2eEp9w3Fw"
   },
   "source": [
    "#### Модель LGBMClassifier"
   ]
  },
  {
   "cell_type": "code",
   "execution_count": 13,
   "metadata": {
    "execution": {
     "iopub.execute_input": "2023-10-17T19:08:05.549585Z",
     "iopub.status.busy": "2023-10-17T19:08:05.549295Z",
     "iopub.status.idle": "2023-10-17T19:08:05.559327Z",
     "shell.execute_reply": "2023-10-17T19:08:05.558566Z",
     "shell.execute_reply.started": "2023-10-17T19:08:05.549551Z"
    },
    "id": "u7lZyzf-w3Fw"
   },
   "outputs": [],
   "source": [
    "### создадим баланс классов\n",
    "classes = np.unique(target_train)\n",
    "weights = compute_class_weight(class_weight='balanced', classes=classes, y=target_train)\n",
    "class_weights = dict(zip(classes, weights))"
   ]
  },
  {
   "cell_type": "code",
   "execution_count": 14,
   "metadata": {
    "execution": {
     "iopub.execute_input": "2023-10-17T19:08:05.560812Z",
     "iopub.status.busy": "2023-10-17T19:08:05.560465Z"
    },
    "id": "Ax1GFwk4w3Fw"
   },
   "outputs": [
    {
     "name": "stdout",
     "output_type": "stream",
     "text": [
      "Fitting 3 folds for each of 4 candidates, totalling 12 fits\n",
      "[CV] END ................learning_rate=0.15, n_estimators=10; total time=   7.4s\n",
      "[CV] END ................learning_rate=0.15, n_estimators=10; total time=   6.4s\n",
      "[CV] END ................learning_rate=0.15, n_estimators=10; total time=   7.1s\n",
      "[CV] END ................learning_rate=0.15, n_estimators=30; total time=  11.2s\n",
      "[CV] END ................learning_rate=0.15, n_estimators=30; total time=  10.3s\n",
      "[CV] END ................learning_rate=0.15, n_estimators=30; total time=  11.0s\n",
      "[CV] END .................learning_rate=0.1, n_estimators=10; total time=   7.0s\n",
      "[CV] END .................learning_rate=0.1, n_estimators=10; total time=   6.5s\n",
      "[CV] END .................learning_rate=0.1, n_estimators=10; total time=   6.9s\n",
      "[CV] END .................learning_rate=0.1, n_estimators=30; total time=  10.9s\n",
      "[CV] END .................learning_rate=0.1, n_estimators=30; total time=   9.8s\n",
      "[CV] END .................learning_rate=0.1, n_estimators=30; total time=  10.0s\n"
     ]
    },
    {
     "data": {
      "text/plain": [
       "0.8549494949494948"
      ]
     },
     "metadata": {},
     "output_type": "display_data"
    },
    {
     "data": {
      "text/plain": [
       "{'learning_rate': 0.15, 'n_estimators': 30}"
      ]
     },
     "metadata": {},
     "output_type": "display_data"
    },
    {
     "name": "stdout",
     "output_type": "stream",
     "text": [
      "CPU times: total: 9min 26s\n",
      "Wall time: 2min 4s\n"
     ]
    }
   ],
   "source": [
    "%%time\n",
    "start_22 = time.time()\n",
    "\n",
    "### обучим модель LightGBM с помощью GridSearchCV для расчета f1 меры\n",
    "## параметры по сетке\n",
    "parameters_22 = {\n",
    "    'n_estimators' : [10, 30],\n",
    "    'learning_rate' : [0.15, 0.1]\n",
    "}\n",
    "lgb_clf22 = LGBMClassifier(random_state=42, class_weight='balanced')\n",
    "clf_22 = GridSearchCV(lgb_clf22, parameters_22, scoring='f1', cv=3, n_jobs=1, verbose=2)\n",
    "clf_22.fit(features_train, target_train)\n",
    "score_22 = clf_22.best_score_\n",
    "display(score_22)\n",
    "display(clf_22.best_params_)\n",
    "end_22 = time.time() - start_22"
   ]
  },
  {
   "cell_type": "markdown",
   "metadata": {
    "id": "F166oOKcw3Fx"
   },
   "source": [
    "#### Модель RandomForestClassifier"
   ]
  },
  {
   "cell_type": "code",
   "execution_count": 15,
   "metadata": {
    "id": "VbVfrscXw3Fx"
   },
   "outputs": [
    {
     "name": "stdout",
     "output_type": "stream",
     "text": [
      "Fitting 3 folds for each of 4 candidates, totalling 12 fits\n",
      "[CV] END .....................max_depth=10, n_estimators=100; total time=   0.7s\n",
      "[CV] END .....................max_depth=10, n_estimators=100; total time=   0.7s\n",
      "[CV] END .....................max_depth=10, n_estimators=100; total time=   0.6s\n",
      "[CV] END .....................max_depth=10, n_estimators=200; total time=   1.5s\n",
      "[CV] END .....................max_depth=10, n_estimators=200; total time=   1.5s\n",
      "[CV] END .....................max_depth=10, n_estimators=200; total time=   1.3s\n",
      "[CV] END .....................max_depth=50, n_estimators=100; total time=   0.6s\n",
      "[CV] END .....................max_depth=50, n_estimators=100; total time=   0.6s\n",
      "[CV] END .....................max_depth=50, n_estimators=100; total time=   0.6s\n",
      "[CV] END .....................max_depth=50, n_estimators=200; total time=   1.3s\n",
      "[CV] END .....................max_depth=50, n_estimators=200; total time=   1.3s\n",
      "[CV] END .....................max_depth=50, n_estimators=200; total time=   1.3s\n"
     ]
    },
    {
     "data": {
      "text/plain": [
       "0.8892339544513458"
      ]
     },
     "metadata": {},
     "output_type": "display_data"
    },
    {
     "data": {
      "text/plain": [
       "{'max_depth': 10, 'n_estimators': 100}"
      ]
     },
     "metadata": {},
     "output_type": "display_data"
    },
    {
     "name": "stdout",
     "output_type": "stream",
     "text": [
      "CPU times: total: 14.1 s\n",
      "Wall time: 14.1 s\n"
     ]
    }
   ],
   "source": [
    "%%time\n",
    "start_33 = time.time()\n",
    "### обучим модель RandomForestClassifier с помощью GridSearchCV для расчета f1 меры\n",
    "# параметры по сетке\n",
    "parameters_33 = {\n",
    "    'n_estimators': [100, 200],\n",
    "    'max_depth': [10, 50],\n",
    "}\n",
    "ran_for33 = RandomForestClassifier(random_state=42, class_weight='balanced')\n",
    "clf_33 = GridSearchCV(ran_for33, parameters_33, scoring='f1', cv=3, n_jobs=1, verbose=2)\n",
    "clf_33.fit(features_train, target_train)\n",
    "score_33 = clf_33.best_score_\n",
    "display(score_33)\n",
    "display(clf_33.best_params_)\n",
    "end_33 = time.time() - start_33"
   ]
  },
  {
   "cell_type": "markdown",
   "metadata": {
    "id": "ZLdY4ftTw3Fy"
   },
   "source": [
    "#### Тестирование наилучшей модели"
   ]
  },
  {
   "cell_type": "code",
   "execution_count": 27,
   "metadata": {
    "id": "8TT-cT3ew3Fy"
   },
   "outputs": [
    {
     "data": {
      "text/plain": [
       "0.9411764705882353"
      ]
     },
     "metadata": {},
     "output_type": "display_data"
    },
    {
     "name": "stdout",
     "output_type": "stream",
     "text": [
      "CPU times: total: 719 ms\n",
      "Wall time: 707 ms\n"
     ]
    }
   ],
   "source": [
    "%%time\n",
    "# проверим результаты на тестовой выборке с подобранными гиперпараметрами\n",
    "ran_for_bert_test = RandomForestClassifier(random_state=42, class_weight='balanced', max_depth=10, n_estimators=100)\n",
    "ran_for_bert_test.fit(features_train, target_train)\n",
    "predictions_bert_test= ran_for_bert_test.predict(features_test)\n",
    "predictions_bert_test = pd.DataFrame(predictions_bert_test)\n",
    "score_bert_test = f1_score(target_test, predictions_bert_test)\n",
    "display(score_bert_test)"
   ]
  },
  {
   "cell_type": "markdown",
   "metadata": {
    "id": "CPPMO6XHw3Fy"
   },
   "source": [
    "#### Сводная результатов обучения"
   ]
  },
  {
   "cell_type": "code",
   "execution_count": 28,
   "metadata": {
    "id": "rXUv8OJ9w3Fz"
   },
   "outputs": [
    {
     "data": {
      "text/html": [
       "<div>\n",
       "<style scoped>\n",
       "    .dataframe tbody tr th:only-of-type {\n",
       "        vertical-align: middle;\n",
       "    }\n",
       "\n",
       "    .dataframe tbody tr th {\n",
       "        vertical-align: top;\n",
       "    }\n",
       "\n",
       "    .dataframe thead th {\n",
       "        text-align: right;\n",
       "    }\n",
       "</style>\n",
       "<table border=\"1\" class=\"dataframe\">\n",
       "  <thead>\n",
       "    <tr style=\"text-align: right;\">\n",
       "      <th></th>\n",
       "      <th>LogisticRegression</th>\n",
       "      <th>LGBMClassifier</th>\n",
       "      <th>RandomForestClassifier</th>\n",
       "    </tr>\n",
       "    <tr>\n",
       "      <th>Metrics</th>\n",
       "      <th></th>\n",
       "      <th></th>\n",
       "      <th></th>\n",
       "    </tr>\n",
       "  </thead>\n",
       "  <tbody>\n",
       "    <tr>\n",
       "      <th>f1</th>\n",
       "      <td>0.862758</td>\n",
       "      <td>0.854949</td>\n",
       "      <td>0.889234</td>\n",
       "    </tr>\n",
       "    <tr>\n",
       "      <th>time_learn, min</th>\n",
       "      <td>1.830811</td>\n",
       "      <td>2.070883</td>\n",
       "      <td>0.234567</td>\n",
       "    </tr>\n",
       "  </tbody>\n",
       "</table>\n",
       "</div>"
      ],
      "text/plain": [
       "                 LogisticRegression  LGBMClassifier  RandomForestClassifier\n",
       "Metrics                                                                    \n",
       "f1                         0.862758        0.854949                0.889234\n",
       "time_learn, min            1.830811        2.070883                0.234567"
      ]
     },
     "metadata": {},
     "output_type": "display_data"
    }
   ],
   "source": [
    "### выведем результаты как таблицу с данными\n",
    "total_row_00 = ['f1', score_11, score_22, score_33]\n",
    "total_row_11 = ['time_learn, min', end_11/60, end_22/60, end_33/60]\n",
    "df_temp_scores1 = pd.DataFrame([total_row_00, total_row_11])\n",
    "df_temp_scores1.columns = ['Metrics', 'LogisticRegression', 'LGBMClassifier', 'RandomForestClassifier']\n",
    "display(df_temp_scores1.set_index('Metrics'))"
   ]
  },
  {
   "cell_type": "markdown",
   "metadata": {
    "id": "bVxx6YP0w3Fz"
   },
   "source": [
    "### Выводы"
   ]
  },
  {
   "cell_type": "markdown",
   "metadata": {
    "id": "UFipCUJew3Fz"
   },
   "source": [
    "- При обучении модели Логистической регрессии результат для метрики `f1` равен `0.862`.\n",
    "- При обучении модели LGBM результат для метрики `f1` равен `0.854`.\n",
    "- При обучении модели Случайного леса результат для метрики `f1` равен `0.889`.\n",
    "- Лучшей можно признать модель Случайного леса с самым быстрым временем обучения.\n",
    "- На тесте лучшей модели был получен результат метрики `f1` равный `0.941`"
   ]
  },
  {
   "cell_type": "markdown",
   "metadata": {
    "id": "TTDjdt_Bw3F0"
   },
   "source": [
    "## Classic ML"
   ]
  },
  {
   "cell_type": "markdown",
   "metadata": {
    "id": "vSdUyh6Gw3F0"
   },
   "source": [
    "### Подготовка"
   ]
  },
  {
   "cell_type": "code",
   "execution_count": 18,
   "metadata": {
    "id": "lpWj9uNJw3F0"
   },
   "outputs": [
    {
     "data": {
      "text/html": [
       "<div>\n",
       "<style scoped>\n",
       "    .dataframe tbody tr th:only-of-type {\n",
       "        vertical-align: middle;\n",
       "    }\n",
       "\n",
       "    .dataframe tbody tr th {\n",
       "        vertical-align: top;\n",
       "    }\n",
       "\n",
       "    .dataframe thead th {\n",
       "        text-align: right;\n",
       "    }\n",
       "</style>\n",
       "<table border=\"1\" class=\"dataframe\">\n",
       "  <thead>\n",
       "    <tr style=\"text-align: right;\">\n",
       "      <th></th>\n",
       "      <th>text</th>\n",
       "      <th>toxic</th>\n",
       "    </tr>\n",
       "  </thead>\n",
       "  <tbody>\n",
       "    <tr>\n",
       "      <th>0</th>\n",
       "      <td>Explanation\\nWhy the edits made under my usern...</td>\n",
       "      <td>0</td>\n",
       "    </tr>\n",
       "    <tr>\n",
       "      <th>1</th>\n",
       "      <td>D'aww! He matches this background colour I'm s...</td>\n",
       "      <td>0</td>\n",
       "    </tr>\n",
       "    <tr>\n",
       "      <th>2</th>\n",
       "      <td>Hey man, I'm really not trying to edit war. It...</td>\n",
       "      <td>0</td>\n",
       "    </tr>\n",
       "    <tr>\n",
       "      <th>3</th>\n",
       "      <td>\"\\nMore\\nI can't make any real suggestions on ...</td>\n",
       "      <td>0</td>\n",
       "    </tr>\n",
       "    <tr>\n",
       "      <th>4</th>\n",
       "      <td>You, sir, are my hero. Any chance you remember...</td>\n",
       "      <td>0</td>\n",
       "    </tr>\n",
       "  </tbody>\n",
       "</table>\n",
       "</div>"
      ],
      "text/plain": [
       "                                                text  toxic\n",
       "0  Explanation\\nWhy the edits made under my usern...      0\n",
       "1  D'aww! He matches this background colour I'm s...      0\n",
       "2  Hey man, I'm really not trying to edit war. It...      0\n",
       "3  \"\\nMore\\nI can't make any real suggestions on ...      0\n",
       "4  You, sir, are my hero. Any chance you remember...      0"
      ]
     },
     "metadata": {},
     "output_type": "display_data"
    },
    {
     "data": {
      "text/plain": [
       "(159292, 2)"
      ]
     },
     "metadata": {},
     "output_type": "display_data"
    }
   ],
   "source": [
    "# откроем файл\n",
    "df = pd.read_csv('toxic_comments.csv', index_col=0)\n",
    "# выведем первые пять строк\n",
    "display(df.head(5))\n",
    "# выведем размер таблицы\n",
    "display(df.shape)"
   ]
  },
  {
   "cell_type": "code",
   "execution_count": 19,
   "metadata": {
    "id": "AoPets0fw3F0"
   },
   "outputs": [
    {
     "name": "stderr",
     "output_type": "stream",
     "text": [
      "[nltk_data] Downloading package punkt to\n",
      "[nltk_data]     C:\\Users\\Spline\\AppData\\Roaming\\nltk_data...\n",
      "[nltk_data]   Package punkt is already up-to-date!\n",
      "[nltk_data] Downloading package wordnet to\n",
      "[nltk_data]     C:\\Users\\Spline\\AppData\\Roaming\\nltk_data...\n",
      "[nltk_data]   Package wordnet is already up-to-date!\n",
      "[nltk_data] Downloading package omw-1.4 to\n",
      "[nltk_data]     C:\\Users\\Spline\\AppData\\Roaming\\nltk_data...\n",
      "[nltk_data]   Package omw-1.4 is already up-to-date!\n"
     ]
    },
    {
     "data": {
      "text/html": [
       "<div>\n",
       "<style scoped>\n",
       "    .dataframe tbody tr th:only-of-type {\n",
       "        vertical-align: middle;\n",
       "    }\n",
       "\n",
       "    .dataframe tbody tr th {\n",
       "        vertical-align: top;\n",
       "    }\n",
       "\n",
       "    .dataframe thead th {\n",
       "        text-align: right;\n",
       "    }\n",
       "</style>\n",
       "<table border=\"1\" class=\"dataframe\">\n",
       "  <thead>\n",
       "    <tr style=\"text-align: right;\">\n",
       "      <th></th>\n",
       "      <th>text</th>\n",
       "      <th>toxic</th>\n",
       "      <th>lemm_text</th>\n",
       "    </tr>\n",
       "  </thead>\n",
       "  <tbody>\n",
       "    <tr>\n",
       "      <th>0</th>\n",
       "      <td>Explanation\\nWhy the edits made under my usern...</td>\n",
       "      <td>0</td>\n",
       "      <td>explanation why the edits made under my userna...</td>\n",
       "    </tr>\n",
       "    <tr>\n",
       "      <th>1</th>\n",
       "      <td>D'aww! He matches this background colour I'm s...</td>\n",
       "      <td>0</td>\n",
       "      <td>d aww he match this background colour i m seem...</td>\n",
       "    </tr>\n",
       "    <tr>\n",
       "      <th>2</th>\n",
       "      <td>Hey man, I'm really not trying to edit war. It...</td>\n",
       "      <td>0</td>\n",
       "      <td>hey man i m really not trying to edit war it s...</td>\n",
       "    </tr>\n",
       "    <tr>\n",
       "      <th>3</th>\n",
       "      <td>\"\\nMore\\nI can't make any real suggestions on ...</td>\n",
       "      <td>0</td>\n",
       "      <td>more i can t make any real suggestion on impro...</td>\n",
       "    </tr>\n",
       "    <tr>\n",
       "      <th>4</th>\n",
       "      <td>You, sir, are my hero. Any chance you remember...</td>\n",
       "      <td>0</td>\n",
       "      <td>you sir are my hero any chance you remember wh...</td>\n",
       "    </tr>\n",
       "  </tbody>\n",
       "</table>\n",
       "</div>"
      ],
      "text/plain": [
       "                                                text  toxic  \\\n",
       "0  Explanation\\nWhy the edits made under my usern...      0   \n",
       "1  D'aww! He matches this background colour I'm s...      0   \n",
       "2  Hey man, I'm really not trying to edit war. It...      0   \n",
       "3  \"\\nMore\\nI can't make any real suggestions on ...      0   \n",
       "4  You, sir, are my hero. Any chance you remember...      0   \n",
       "\n",
       "                                           lemm_text  \n",
       "0  explanation why the edits made under my userna...  \n",
       "1  d aww he match this background colour i m seem...  \n",
       "2  hey man i m really not trying to edit war it s...  \n",
       "3  more i can t make any real suggestion on impro...  \n",
       "4  you sir are my hero any chance you remember wh...  "
      ]
     },
     "metadata": {},
     "output_type": "display_data"
    },
    {
     "name": "stdout",
     "output_type": "stream",
     "text": [
      "CPU times: total: 2min 9s\n",
      "Wall time: 2min 10s\n"
     ]
    }
   ],
   "source": [
    "%%time\n",
    "# добавим недостающие разделы\n",
    "nltk.download('punkt')\n",
    "nltk.download('wordnet')\n",
    "nltk.download('omw-1.4')\n",
    "# создадим класс для лемматизации\n",
    "lemm = WordNetLemmatizer()\n",
    "# создадим собственную функцию\n",
    "def lemmatize(text):\n",
    "    t = re.sub(re.compile('<.*?>,'), '', text) # убираем значки\n",
    "    t = re.sub('[^A-Za-z0-9]+', ' ', t) # оставляем слова\n",
    "    t = t.lower() # изменяем регистр на строчной\n",
    "    tokens = nltk.word_tokenize(t) # создаем токены\n",
    "    lem = [lemm.lemmatize(t) for t in tokens] # создаем леммы\n",
    "    lem = ' '.join(lem) # соединяем элементы списка\n",
    "    return lem\n",
    "# применим функцию лемматизации\n",
    "df['lemm_text'] = df['text'].apply(lambda x:lemmatize(x))\n",
    "# выведем результат\n",
    "display(df.head(5))"
   ]
  },
  {
   "cell_type": "code",
   "execution_count": 20,
   "metadata": {
    "id": "r3mjFeRSw3GK"
   },
   "outputs": [
    {
     "data": {
      "text/plain": [
       "'Train:'"
      ]
     },
     "metadata": {},
     "output_type": "display_data"
    },
    {
     "data": {
      "text/plain": [
       "(111504,)"
      ]
     },
     "metadata": {},
     "output_type": "display_data"
    },
    {
     "data": {
      "text/plain": [
       "(111504,)"
      ]
     },
     "metadata": {},
     "output_type": "display_data"
    },
    {
     "data": {
      "text/plain": [
       "'Test:'"
      ]
     },
     "metadata": {},
     "output_type": "display_data"
    },
    {
     "data": {
      "text/plain": [
       "(47788,)"
      ]
     },
     "metadata": {},
     "output_type": "display_data"
    },
    {
     "data": {
      "text/plain": [
       "(47788,)"
      ]
     },
     "metadata": {},
     "output_type": "display_data"
    }
   ],
   "source": [
    "# обозначим признаки и цели\n",
    "features_ml = df['lemm_text']\n",
    "target_ml = df['toxic']\n",
    "# деление на обучающую и тестовую выборки\n",
    "features_train_ml, features_test_ml, target_train_ml, target_test_ml = train_test_split(\n",
    "    features_ml, target_ml, test_size=0.3, stratify=target_ml, random_state=42)\n",
    "display('Train:', features_train_ml.shape, target_train_ml.shape)\n",
    "display('Test:', features_test_ml.shape, target_test_ml.shape)"
   ]
  },
  {
   "cell_type": "code",
   "execution_count": 21,
   "metadata": {
    "id": "DZslflBBw3GL"
   },
   "outputs": [
    {
     "name": "stderr",
     "output_type": "stream",
     "text": [
      "[nltk_data] Downloading package stopwords to\n",
      "[nltk_data]     C:\\Users\\Spline\\AppData\\Roaming\\nltk_data...\n",
      "[nltk_data]   Package stopwords is already up-to-date!\n"
     ]
    },
    {
     "data": {
      "text/plain": [
       "'Размер матрицы для обучения:'"
      ]
     },
     "metadata": {},
     "output_type": "display_data"
    },
    {
     "data": {
      "text/plain": [
       "(111504, 138131)"
      ]
     },
     "metadata": {},
     "output_type": "display_data"
    },
    {
     "data": {
      "text/plain": [
       "'Размер матрицы для теста:'"
      ]
     },
     "metadata": {},
     "output_type": "display_data"
    },
    {
     "data": {
      "text/plain": [
       "(47788, 138131)"
      ]
     },
     "metadata": {},
     "output_type": "display_data"
    }
   ],
   "source": [
    "# обозначим корпусы текстов для выборок\n",
    "corpus_train = features_train_ml.copy()\n",
    "corpus_test = features_test_ml.copy()\n",
    "# подключим стоп-слова\n",
    "nltk.download('stopwords')\n",
    "stopwords = set(nltk_stopwords.words('english'))\n",
    "# создадим счетчик\n",
    "count_tf_idf = TfidfVectorizer(stop_words=stopwords)\n",
    "# посчитаем слова для корпуса текстов, для каждой выборки по отдельности\n",
    "tf_idf_train = count_tf_idf.fit_transform(corpus_train)\n",
    "tf_idf_test = count_tf_idf.transform(corpus_test)\n",
    "# выведем результаты на экран\n",
    "display(\"Размер матрицы для обучения:\", tf_idf_train.shape)\n",
    "display(\"Размер матрицы для теста:\", tf_idf_test.shape)"
   ]
  },
  {
   "cell_type": "markdown",
   "metadata": {
    "id": "NXiyx23Kw3GM"
   },
   "source": [
    "### Обучение"
   ]
  },
  {
   "cell_type": "markdown",
   "metadata": {
    "id": "CCFwfVxRw3GM"
   },
   "source": [
    "#### Модель LogisticRegression"
   ]
  },
  {
   "cell_type": "code",
   "execution_count": 22,
   "metadata": {
    "id": "0XcBZ5Vbw3GM",
    "scrolled": true
   },
   "outputs": [
    {
     "name": "stdout",
     "output_type": "stream",
     "text": [
      "Fitting 3 folds for each of 8 candidates, totalling 24 fits\n",
      "[CV] END .............C=10.0, max_iter=100, solver=newton-cg; total time=   4.6s\n",
      "[CV] END .............C=10.0, max_iter=100, solver=newton-cg; total time=   4.3s\n",
      "[CV] END .............C=10.0, max_iter=100, solver=newton-cg; total time=   4.5s\n"
     ]
    },
    {
     "name": "stderr",
     "output_type": "stream",
     "text": [
      "C:\\Users\\Spline\\anaconda3\\envs\\ds_practicum_env\\lib\\site-packages\\sklearn\\linear_model\\_sag.py:328: ConvergenceWarning: The max_iter was reached which means the coef_ did not converge\n",
      "  warnings.warn(\"The max_iter was reached which means \"\n"
     ]
    },
    {
     "name": "stdout",
     "output_type": "stream",
     "text": [
      "[CV] END ..................C=10.0, max_iter=100, solver=saga; total time=   9.0s\n"
     ]
    },
    {
     "name": "stderr",
     "output_type": "stream",
     "text": [
      "C:\\Users\\Spline\\anaconda3\\envs\\ds_practicum_env\\lib\\site-packages\\sklearn\\linear_model\\_sag.py:328: ConvergenceWarning: The max_iter was reached which means the coef_ did not converge\n",
      "  warnings.warn(\"The max_iter was reached which means \"\n"
     ]
    },
    {
     "name": "stdout",
     "output_type": "stream",
     "text": [
      "[CV] END ..................C=10.0, max_iter=100, solver=saga; total time=   8.7s\n"
     ]
    },
    {
     "name": "stderr",
     "output_type": "stream",
     "text": [
      "C:\\Users\\Spline\\anaconda3\\envs\\ds_practicum_env\\lib\\site-packages\\sklearn\\linear_model\\_sag.py:328: ConvergenceWarning: The max_iter was reached which means the coef_ did not converge\n",
      "  warnings.warn(\"The max_iter was reached which means \"\n"
     ]
    },
    {
     "name": "stdout",
     "output_type": "stream",
     "text": [
      "[CV] END ..................C=10.0, max_iter=100, solver=saga; total time=   9.0s\n",
      "[CV] END ............C=10.0, max_iter=1000, solver=newton-cg; total time=   4.4s\n",
      "[CV] END ............C=10.0, max_iter=1000, solver=newton-cg; total time=   4.3s\n",
      "[CV] END ............C=10.0, max_iter=1000, solver=newton-cg; total time=   4.7s\n"
     ]
    },
    {
     "name": "stderr",
     "output_type": "stream",
     "text": [
      "C:\\Users\\Spline\\anaconda3\\envs\\ds_practicum_env\\lib\\site-packages\\sklearn\\linear_model\\_sag.py:328: ConvergenceWarning: The max_iter was reached which means the coef_ did not converge\n",
      "  warnings.warn(\"The max_iter was reached which means \"\n"
     ]
    },
    {
     "name": "stdout",
     "output_type": "stream",
     "text": [
      "[CV] END .................C=10.0, max_iter=1000, solver=saga; total time= 1.5min\n"
     ]
    },
    {
     "name": "stderr",
     "output_type": "stream",
     "text": [
      "C:\\Users\\Spline\\anaconda3\\envs\\ds_practicum_env\\lib\\site-packages\\sklearn\\linear_model\\_sag.py:328: ConvergenceWarning: The max_iter was reached which means the coef_ did not converge\n",
      "  warnings.warn(\"The max_iter was reached which means \"\n"
     ]
    },
    {
     "name": "stdout",
     "output_type": "stream",
     "text": [
      "[CV] END .................C=10.0, max_iter=1000, solver=saga; total time= 1.5min\n"
     ]
    },
    {
     "name": "stderr",
     "output_type": "stream",
     "text": [
      "C:\\Users\\Spline\\anaconda3\\envs\\ds_practicum_env\\lib\\site-packages\\sklearn\\linear_model\\_sag.py:328: ConvergenceWarning: The max_iter was reached which means the coef_ did not converge\n",
      "  warnings.warn(\"The max_iter was reached which means \"\n"
     ]
    },
    {
     "name": "stdout",
     "output_type": "stream",
     "text": [
      "[CV] END .................C=10.0, max_iter=1000, solver=saga; total time= 1.6min\n",
      "[CV] END ............C=100.0, max_iter=100, solver=newton-cg; total time=   7.2s\n",
      "[CV] END ............C=100.0, max_iter=100, solver=newton-cg; total time=   7.2s\n",
      "[CV] END ............C=100.0, max_iter=100, solver=newton-cg; total time=   7.3s\n"
     ]
    },
    {
     "name": "stderr",
     "output_type": "stream",
     "text": [
      "C:\\Users\\Spline\\anaconda3\\envs\\ds_practicum_env\\lib\\site-packages\\sklearn\\linear_model\\_sag.py:328: ConvergenceWarning: The max_iter was reached which means the coef_ did not converge\n",
      "  warnings.warn(\"The max_iter was reached which means \"\n"
     ]
    },
    {
     "name": "stdout",
     "output_type": "stream",
     "text": [
      "[CV] END .................C=100.0, max_iter=100, solver=saga; total time=   9.0s\n"
     ]
    },
    {
     "name": "stderr",
     "output_type": "stream",
     "text": [
      "C:\\Users\\Spline\\anaconda3\\envs\\ds_practicum_env\\lib\\site-packages\\sklearn\\linear_model\\_sag.py:328: ConvergenceWarning: The max_iter was reached which means the coef_ did not converge\n",
      "  warnings.warn(\"The max_iter was reached which means \"\n"
     ]
    },
    {
     "name": "stdout",
     "output_type": "stream",
     "text": [
      "[CV] END .................C=100.0, max_iter=100, solver=saga; total time=   8.8s\n"
     ]
    },
    {
     "name": "stderr",
     "output_type": "stream",
     "text": [
      "C:\\Users\\Spline\\anaconda3\\envs\\ds_practicum_env\\lib\\site-packages\\sklearn\\linear_model\\_sag.py:328: ConvergenceWarning: The max_iter was reached which means the coef_ did not converge\n",
      "  warnings.warn(\"The max_iter was reached which means \"\n"
     ]
    },
    {
     "name": "stdout",
     "output_type": "stream",
     "text": [
      "[CV] END .................C=100.0, max_iter=100, solver=saga; total time=   9.1s\n",
      "[CV] END ...........C=100.0, max_iter=1000, solver=newton-cg; total time=   7.2s\n",
      "[CV] END ...........C=100.0, max_iter=1000, solver=newton-cg; total time=   7.2s\n",
      "[CV] END ...........C=100.0, max_iter=1000, solver=newton-cg; total time=   7.3s\n"
     ]
    },
    {
     "name": "stderr",
     "output_type": "stream",
     "text": [
      "C:\\Users\\Spline\\anaconda3\\envs\\ds_practicum_env\\lib\\site-packages\\sklearn\\linear_model\\_sag.py:328: ConvergenceWarning: The max_iter was reached which means the coef_ did not converge\n",
      "  warnings.warn(\"The max_iter was reached which means \"\n"
     ]
    },
    {
     "name": "stdout",
     "output_type": "stream",
     "text": [
      "[CV] END ................C=100.0, max_iter=1000, solver=saga; total time= 1.5min\n"
     ]
    },
    {
     "name": "stderr",
     "output_type": "stream",
     "text": [
      "C:\\Users\\Spline\\anaconda3\\envs\\ds_practicum_env\\lib\\site-packages\\sklearn\\linear_model\\_sag.py:328: ConvergenceWarning: The max_iter was reached which means the coef_ did not converge\n",
      "  warnings.warn(\"The max_iter was reached which means \"\n"
     ]
    },
    {
     "name": "stdout",
     "output_type": "stream",
     "text": [
      "[CV] END ................C=100.0, max_iter=1000, solver=saga; total time= 1.6min\n"
     ]
    },
    {
     "name": "stderr",
     "output_type": "stream",
     "text": [
      "C:\\Users\\Spline\\anaconda3\\envs\\ds_practicum_env\\lib\\site-packages\\sklearn\\linear_model\\_sag.py:328: ConvergenceWarning: The max_iter was reached which means the coef_ did not converge\n",
      "  warnings.warn(\"The max_iter was reached which means \"\n"
     ]
    },
    {
     "name": "stdout",
     "output_type": "stream",
     "text": [
      "[CV] END ................C=100.0, max_iter=1000, solver=saga; total time= 1.5min\n"
     ]
    },
    {
     "data": {
      "text/plain": [
       "0.76412154076785"
      ]
     },
     "metadata": {},
     "output_type": "display_data"
    },
    {
     "data": {
      "text/plain": [
       "{'C': 10.0, 'max_iter': 100, 'solver': 'newton-cg'}"
      ]
     },
     "metadata": {},
     "output_type": "display_data"
    },
    {
     "name": "stdout",
     "output_type": "stream",
     "text": [
      "CPU times: total: 11min 21s\n",
      "Wall time: 11min 22s\n"
     ]
    }
   ],
   "source": [
    "%%time\n",
    "start_1 = time.time()\n",
    "### обучим модель LogisticRegression с помощью GridSearchCV для расчета f1\n",
    "# параметры по сетке\n",
    "parameters_1 = {\n",
    "    'max_iter': [100, 1000],\n",
    "    'C': [1e1, 1e2],\n",
    "    'solver': ['newton-cg', 'saga']\n",
    "}\n",
    "log_reg1 = LogisticRegression(random_state=42, class_weight='balanced')\n",
    "clf_1 = GridSearchCV(log_reg1, parameters_1, scoring='f1', cv=3, n_jobs=1, verbose=2)\n",
    "clf_1.fit(tf_idf_train, target_train_ml)\n",
    "score_1 = clf_1.best_score_\n",
    "display(score_1)\n",
    "display(clf_1.best_params_)\n",
    "end_1 = time.time() - start_1"
   ]
  },
  {
   "cell_type": "markdown",
   "metadata": {
    "id": "0kuQH9pPw3GN"
   },
   "source": [
    "#### Модель LGBMClassifier"
   ]
  },
  {
   "cell_type": "code",
   "execution_count": 23,
   "metadata": {
    "id": "6tohHvg6w3GN"
   },
   "outputs": [
    {
     "name": "stdout",
     "output_type": "stream",
     "text": [
      "Fitting 3 folds for each of 4 candidates, totalling 12 fits\n",
      "[CV] END ................learning_rate=0.15, n_estimators=10; total time=   7.1s\n",
      "[CV] END ................learning_rate=0.15, n_estimators=10; total time=   6.7s\n",
      "[CV] END ................learning_rate=0.15, n_estimators=10; total time=   7.1s\n",
      "[CV] END ................learning_rate=0.15, n_estimators=30; total time=  11.7s\n",
      "[CV] END ................learning_rate=0.15, n_estimators=30; total time=  10.4s\n",
      "[CV] END ................learning_rate=0.15, n_estimators=30; total time=  10.2s\n",
      "[CV] END .................learning_rate=0.1, n_estimators=10; total time=   7.3s\n",
      "[CV] END .................learning_rate=0.1, n_estimators=10; total time=   6.2s\n",
      "[CV] END .................learning_rate=0.1, n_estimators=10; total time=   7.1s\n",
      "[CV] END .................learning_rate=0.1, n_estimators=30; total time=  10.2s\n",
      "[CV] END .................learning_rate=0.1, n_estimators=30; total time=  10.4s\n",
      "[CV] END .................learning_rate=0.1, n_estimators=30; total time=  10.1s\n"
     ]
    },
    {
     "data": {
      "text/plain": [
       "0.8549494949494948"
      ]
     },
     "metadata": {},
     "output_type": "display_data"
    },
    {
     "data": {
      "text/plain": [
       "{'learning_rate': 0.15, 'n_estimators': 30}"
      ]
     },
     "metadata": {},
     "output_type": "display_data"
    },
    {
     "name": "stdout",
     "output_type": "stream",
     "text": [
      "CPU times: total: 9min 21s\n",
      "Wall time: 2min 3s\n"
     ]
    }
   ],
   "source": [
    "%%time\n",
    "start_2 = time.time()\n",
    "\n",
    "### обучим модель LightGBM с помощью GridSearchCV для расчета f1 меры\n",
    "## параметры по сетке\n",
    "parameters_2 = {\n",
    "    'n_estimators' : [10, 30],\n",
    "    'learning_rate' : [0.15, 0.1]\n",
    "}\n",
    "lgb_clf2 = LGBMClassifier(random_state=42, class_weight='balanced')\n",
    "clf_2 = GridSearchCV(lgb_clf2, parameters_2, scoring='f1', cv=3, n_jobs=1, verbose=2)\n",
    "clf_2.fit(features_train, target_train)\n",
    "score_2 = clf_2.best_score_\n",
    "display(score_2)\n",
    "display(clf_2.best_params_)\n",
    "end_2 = time.time() - start_2"
   ]
  },
  {
   "cell_type": "markdown",
   "metadata": {
    "id": "bu2kPHEsw3GO"
   },
   "source": [
    "#### Модель RandomForestClassifier"
   ]
  },
  {
   "cell_type": "code",
   "execution_count": 24,
   "metadata": {
    "id": "KlhV0X7Qw3GO"
   },
   "outputs": [
    {
     "name": "stdout",
     "output_type": "stream",
     "text": [
      "Fitting 3 folds for each of 8 candidates, totalling 24 fits\n",
      "[CV] END .max_depth=10, min_samples_leaf=5, n_estimators=100; total time=  19.4s\n",
      "[CV] END .max_depth=10, min_samples_leaf=5, n_estimators=100; total time=  19.4s\n",
      "[CV] END .max_depth=10, min_samples_leaf=5, n_estimators=100; total time=  20.3s\n",
      "[CV] END .max_depth=10, min_samples_leaf=5, n_estimators=200; total time=  40.7s\n",
      "[CV] END .max_depth=10, min_samples_leaf=5, n_estimators=200; total time=  38.8s\n",
      "[CV] END .max_depth=10, min_samples_leaf=5, n_estimators=200; total time=  39.3s\n",
      "[CV] END max_depth=10, min_samples_leaf=10, n_estimators=100; total time=  19.1s\n",
      "[CV] END max_depth=10, min_samples_leaf=10, n_estimators=100; total time=  19.2s\n",
      "[CV] END max_depth=10, min_samples_leaf=10, n_estimators=100; total time=  19.3s\n",
      "[CV] END max_depth=10, min_samples_leaf=10, n_estimators=200; total time=  38.6s\n",
      "[CV] END max_depth=10, min_samples_leaf=10, n_estimators=200; total time=  38.1s\n",
      "[CV] END max_depth=10, min_samples_leaf=10, n_estimators=200; total time=  38.8s\n",
      "[CV] END .max_depth=50, min_samples_leaf=5, n_estimators=100; total time= 1.3min\n",
      "[CV] END .max_depth=50, min_samples_leaf=5, n_estimators=100; total time= 1.3min\n",
      "[CV] END .max_depth=50, min_samples_leaf=5, n_estimators=100; total time= 1.3min\n",
      "[CV] END .max_depth=50, min_samples_leaf=5, n_estimators=200; total time= 2.7min\n",
      "[CV] END .max_depth=50, min_samples_leaf=5, n_estimators=200; total time= 2.6min\n",
      "[CV] END .max_depth=50, min_samples_leaf=5, n_estimators=200; total time= 2.7min\n",
      "[CV] END max_depth=50, min_samples_leaf=10, n_estimators=100; total time= 1.2min\n",
      "[CV] END max_depth=50, min_samples_leaf=10, n_estimators=100; total time= 1.2min\n",
      "[CV] END max_depth=50, min_samples_leaf=10, n_estimators=100; total time= 1.3min\n",
      "[CV] END max_depth=50, min_samples_leaf=10, n_estimators=200; total time= 2.5min\n",
      "[CV] END max_depth=50, min_samples_leaf=10, n_estimators=200; total time= 2.5min\n",
      "[CV] END max_depth=50, min_samples_leaf=10, n_estimators=200; total time= 2.5min\n"
     ]
    },
    {
     "data": {
      "text/plain": [
       "0.46133490238640334"
      ]
     },
     "metadata": {},
     "output_type": "display_data"
    },
    {
     "data": {
      "text/plain": [
       "{'max_depth': 50, 'min_samples_leaf': 5, 'n_estimators': 200}"
      ]
     },
     "metadata": {},
     "output_type": "display_data"
    },
    {
     "name": "stdout",
     "output_type": "stream",
     "text": [
      "CPU times: total: 29min 27s\n",
      "Wall time: 29min 29s\n"
     ]
    }
   ],
   "source": [
    "%%time\n",
    "start_3 = time.time()\n",
    "### обучим модель RandomForestClassifier с помощью GridSearchCV для расчета f1 меры\n",
    "# параметры по сетке\n",
    "parameters_3 = {\n",
    "    'n_estimators': [100, 200],\n",
    "    'max_depth': [10, 50],\n",
    "    'min_samples_leaf': [5, 10]\n",
    "}\n",
    "ran_for3 = RandomForestClassifier(random_state=42, class_weight='balanced')\n",
    "clf_3 = GridSearchCV(ran_for3, parameters_3, scoring='f1', cv=3, n_jobs=1, verbose=2)\n",
    "clf_3.fit(tf_idf_train, target_train_ml)\n",
    "score_3 = clf_3.best_score_\n",
    "display(score_3)\n",
    "display(clf_3.best_params_)\n",
    "end_3 = time.time() - start_3"
   ]
  },
  {
   "cell_type": "markdown",
   "metadata": {
    "id": "sVw9WR3aw3GO"
   },
   "source": [
    "#### Тестирование наилучшей модели"
   ]
  },
  {
   "cell_type": "code",
   "execution_count": 29,
   "metadata": {
    "id": "ghUGfSRhw3GO",
    "scrolled": true
   },
   "outputs": [
    {
     "data": {
      "text/plain": [
       "0.7142034548944337"
      ]
     },
     "metadata": {},
     "output_type": "display_data"
    },
    {
     "name": "stdout",
     "output_type": "stream",
     "text": [
      "CPU times: total: 1min 19s\n",
      "Wall time: 11.9 s\n"
     ]
    }
   ],
   "source": [
    "%%time\n",
    "# проверим результаты на тестовой выборке с подобранными гиперпараметрами\n",
    "lgb_clf = LGBMClassifier(random_state=42, class_weight='balanced', learning_rate=0.15, n_estimators=30)\n",
    "lgb_clf.fit(tf_idf_train, target_train_ml)\n",
    "predictions_test= lgb_clf.predict(tf_idf_test)\n",
    "predictions_test = pd.DataFrame(predictions_test)\n",
    "score_test = f1_score(target_test_ml, predictions_test)\n",
    "display(score_test)"
   ]
  },
  {
   "cell_type": "markdown",
   "metadata": {
    "id": "vaFuFRADw3GP"
   },
   "source": [
    "#### Сводная результатов обучения"
   ]
  },
  {
   "cell_type": "code",
   "execution_count": 30,
   "metadata": {
    "id": "yR60O70Vw3GP"
   },
   "outputs": [
    {
     "data": {
      "text/html": [
       "<div>\n",
       "<style scoped>\n",
       "    .dataframe tbody tr th:only-of-type {\n",
       "        vertical-align: middle;\n",
       "    }\n",
       "\n",
       "    .dataframe tbody tr th {\n",
       "        vertical-align: top;\n",
       "    }\n",
       "\n",
       "    .dataframe thead th {\n",
       "        text-align: right;\n",
       "    }\n",
       "</style>\n",
       "<table border=\"1\" class=\"dataframe\">\n",
       "  <thead>\n",
       "    <tr style=\"text-align: right;\">\n",
       "      <th></th>\n",
       "      <th>LogisticRegression</th>\n",
       "      <th>LGBMClassifier</th>\n",
       "      <th>RandomForestClassifier</th>\n",
       "    </tr>\n",
       "    <tr>\n",
       "      <th>Metrics</th>\n",
       "      <th></th>\n",
       "      <th></th>\n",
       "      <th></th>\n",
       "    </tr>\n",
       "  </thead>\n",
       "  <tbody>\n",
       "    <tr>\n",
       "      <th>f1</th>\n",
       "      <td>0.764122</td>\n",
       "      <td>0.854949</td>\n",
       "      <td>0.461335</td>\n",
       "    </tr>\n",
       "    <tr>\n",
       "      <th>time_learn, min</th>\n",
       "      <td>11.368879</td>\n",
       "      <td>2.050535</td>\n",
       "      <td>29.498001</td>\n",
       "    </tr>\n",
       "  </tbody>\n",
       "</table>\n",
       "</div>"
      ],
      "text/plain": [
       "                 LogisticRegression  LGBMClassifier  RandomForestClassifier\n",
       "Metrics                                                                    \n",
       "f1                         0.764122        0.854949                0.461335\n",
       "time_learn, min           11.368879        2.050535               29.498001"
      ]
     },
     "metadata": {},
     "output_type": "display_data"
    }
   ],
   "source": [
    "### выведем результаты как таблицу с данными\n",
    "total_row_0 = ['f1', score_1, score_2, score_3]\n",
    "total_row_1 = ['time_learn, min', end_1/60, end_2/60, end_3/60]\n",
    "df_temp_scores = pd.DataFrame([total_row_0, total_row_1])\n",
    "df_temp_scores.columns = ['Metrics', 'LogisticRegression', 'LGBMClassifier', 'RandomForestClassifier']\n",
    "display(df_temp_scores.set_index('Metrics'))"
   ]
  },
  {
   "cell_type": "markdown",
   "metadata": {
    "id": "-yscgUNww3GQ"
   },
   "source": [
    "### Выводы"
   ]
  },
  {
   "cell_type": "markdown",
   "metadata": {
    "id": "67jVolmCw3GR"
   },
   "source": [
    "- При обучении модели Логистической регрессии результат для метрики `f1` равен `0.764`.\n",
    "- При обучении модели LGBM результат для метрики `f1` равен `0.854`.\n",
    "- При обучении модели Случайного леса результат для метрики `f1` равен `0.461`.\n",
    "- Лучшей можно признать модель LGBM с самым быстрым временем обучения.\n",
    "- На тесте лучшей модели был получен результат метрики `f1` равный `0.714`"
   ]
  }
 ],
 "metadata": {
  "ExecuteTimeLog": [
   {
    "duration": 381,
    "start_time": "2023-05-10T13:42:40.542Z"
   },
   {
    "duration": 922,
    "start_time": "2023-05-10T13:44:50.899Z"
   },
   {
    "duration": 212,
    "start_time": "2023-05-10T13:44:51.823Z"
   },
   {
    "duration": 49,
    "start_time": "2023-05-10T13:45:02.370Z"
   },
   {
    "duration": 15,
    "start_time": "2023-05-10T13:45:23.067Z"
   },
   {
    "duration": 2275,
    "start_time": "2023-05-10T13:47:43.099Z"
   },
   {
    "duration": 804,
    "start_time": "2023-05-10T13:49:15.210Z"
   },
   {
    "duration": 737,
    "start_time": "2023-05-10T13:49:22.826Z"
   },
   {
    "duration": 867,
    "start_time": "2023-05-10T13:49:29.759Z"
   },
   {
    "duration": 2072,
    "start_time": "2023-05-10T13:51:03.532Z"
   },
   {
    "duration": 5,
    "start_time": "2023-05-10T13:52:03.411Z"
   },
   {
    "duration": 1872,
    "start_time": "2023-05-10T13:56:14.951Z"
   },
   {
    "duration": 1273,
    "start_time": "2023-05-10T13:57:01.174Z"
   },
   {
    "duration": 2349,
    "start_time": "2023-05-10T13:57:02.449Z"
   },
   {
    "duration": 1859,
    "start_time": "2023-05-10T13:57:04.800Z"
   },
   {
    "duration": 1287,
    "start_time": "2023-05-10T14:03:18.235Z"
   },
   {
    "duration": 2331,
    "start_time": "2023-05-10T14:03:19.524Z"
   },
   {
    "duration": 2018,
    "start_time": "2023-05-10T14:03:21.857Z"
   },
   {
    "duration": 1268,
    "start_time": "2023-05-10T14:03:56.632Z"
   },
   {
    "duration": 934,
    "start_time": "2023-05-10T14:03:57.902Z"
   },
   {
    "duration": 81259,
    "start_time": "2023-05-10T14:03:58.837Z"
   },
   {
    "duration": 1847,
    "start_time": "2023-05-10T14:06:03.245Z"
   },
   {
    "duration": 954,
    "start_time": "2023-05-10T14:06:05.094Z"
   },
   {
    "duration": 2022,
    "start_time": "2023-05-10T14:06:06.050Z"
   },
   {
    "duration": 1218,
    "start_time": "2023-05-10T14:11:09.172Z"
   },
   {
    "duration": 863,
    "start_time": "2023-05-10T14:11:10.391Z"
   },
   {
    "duration": 2026,
    "start_time": "2023-05-10T14:11:11.255Z"
   },
   {
    "duration": 2857,
    "start_time": "2023-05-10T14:11:28.273Z"
   },
   {
    "duration": 1392,
    "start_time": "2023-05-10T14:17:30.389Z"
   },
   {
    "duration": 919,
    "start_time": "2023-05-10T14:17:31.783Z"
   },
   {
    "duration": 2368,
    "start_time": "2023-05-10T14:17:32.703Z"
   },
   {
    "duration": 1903,
    "start_time": "2023-05-10T14:35:37.223Z"
   },
   {
    "duration": 1255,
    "start_time": "2023-05-10T14:36:56.063Z"
   },
   {
    "duration": 2395,
    "start_time": "2023-05-10T14:36:57.320Z"
   },
   {
    "duration": 1567,
    "start_time": "2023-05-10T14:36:59.717Z"
   },
   {
    "duration": 82864,
    "start_time": "2023-05-10T14:37:18.049Z"
   },
   {
    "duration": 1195,
    "start_time": "2023-05-10T14:39:50.081Z"
   },
   {
    "duration": 872,
    "start_time": "2023-05-10T14:39:51.278Z"
   },
   {
    "duration": 2080,
    "start_time": "2023-05-10T14:39:52.151Z"
   },
   {
    "duration": 176,
    "start_time": "2023-05-10T14:40:24.934Z"
   },
   {
    "duration": 281,
    "start_time": "2023-05-10T14:40:49.819Z"
   },
   {
    "duration": 875,
    "start_time": "2023-05-10T14:41:11.647Z"
   },
   {
    "duration": 339,
    "start_time": "2023-05-10T14:41:22.527Z"
   },
   {
    "duration": 459,
    "start_time": "2023-05-10T14:42:00.800Z"
   },
   {
    "duration": 625,
    "start_time": "2023-05-10T14:45:24.031Z"
   },
   {
    "duration": 86443,
    "start_time": "2023-05-10T14:46:19.485Z"
   },
   {
    "duration": 3,
    "start_time": "2023-05-10T15:01:23.194Z"
   },
   {
    "duration": 3342,
    "start_time": "2023-05-10T15:02:28.924Z"
   },
   {
    "duration": 2985,
    "start_time": "2023-05-10T15:03:16.174Z"
   },
   {
    "duration": 166,
    "start_time": "2023-05-10T15:04:31.615Z"
   },
   {
    "duration": 215,
    "start_time": "2023-05-10T15:04:54.628Z"
   },
   {
    "duration": 3442,
    "start_time": "2023-05-10T15:05:14.279Z"
   },
   {
    "duration": 47352,
    "start_time": "2023-05-10T15:06:16.757Z"
   },
   {
    "duration": 261837,
    "start_time": "2023-05-10T15:07:54.348Z"
   },
   {
    "duration": 81351,
    "start_time": "2023-05-10T15:13:14.709Z"
   },
   {
    "duration": 134,
    "start_time": "2023-05-10T15:22:14.425Z"
   },
   {
    "duration": 16,
    "start_time": "2023-05-10T15:22:39.871Z"
   },
   {
    "duration": 519,
    "start_time": "2023-05-10T15:23:03.631Z"
   },
   {
    "duration": 3,
    "start_time": "2023-05-10T15:23:18.559Z"
   },
   {
    "duration": 1074,
    "start_time": "2023-05-10T15:23:22.039Z"
   },
   {
    "duration": 83554,
    "start_time": "2023-05-10T15:23:45.030Z"
   },
   {
    "duration": 83429,
    "start_time": "2023-05-10T15:26:47.587Z"
   },
   {
    "duration": 81679,
    "start_time": "2023-05-10T15:28:37.595Z"
   },
   {
    "duration": 969,
    "start_time": "2023-05-10T15:29:59.276Z"
   },
   {
    "duration": 80362,
    "start_time": "2023-05-10T15:38:46.446Z"
   },
   {
    "duration": 1283,
    "start_time": "2023-05-10T15:40:50.118Z"
   },
   {
    "duration": 2331,
    "start_time": "2023-05-10T15:40:51.404Z"
   },
   {
    "duration": 79600,
    "start_time": "2023-05-10T15:40:53.736Z"
   },
   {
    "duration": 10851,
    "start_time": "2023-05-10T15:42:13.338Z"
   },
   {
    "duration": 10796,
    "start_time": "2023-05-10T15:42:39.381Z"
   },
   {
    "duration": 12,
    "start_time": "2023-05-10T15:51:24.018Z"
   },
   {
    "duration": 1283,
    "start_time": "2023-05-10T15:51:55.109Z"
   },
   {
    "duration": 920,
    "start_time": "2023-05-10T15:51:56.394Z"
   },
   {
    "duration": 80381,
    "start_time": "2023-05-10T15:51:57.316Z"
   },
   {
    "duration": 79,
    "start_time": "2023-05-10T15:53:17.699Z"
   },
   {
    "duration": 10913,
    "start_time": "2023-05-10T15:53:17.779Z"
   },
   {
    "duration": 12581,
    "start_time": "2023-05-10T15:57:43.441Z"
   },
   {
    "duration": 73072,
    "start_time": "2023-05-10T15:58:04.715Z"
   },
   {
    "duration": 25599,
    "start_time": "2023-05-10T15:59:44.116Z"
   },
   {
    "duration": 822087,
    "start_time": "2023-05-10T16:00:59.604Z"
   },
   {
    "duration": 2491,
    "start_time": "2023-05-10T16:15:12.232Z"
   },
   {
    "duration": 38380,
    "start_time": "2023-05-10T16:15:26.426Z"
   },
   {
    "duration": 1287,
    "start_time": "2023-05-10T16:24:08.119Z"
   },
   {
    "duration": 2355,
    "start_time": "2023-05-10T16:24:09.408Z"
   },
   {
    "duration": 83839,
    "start_time": "2023-05-10T16:24:11.765Z"
   },
   {
    "duration": 78,
    "start_time": "2023-05-10T16:25:35.605Z"
   },
   {
    "duration": 11445,
    "start_time": "2023-05-10T16:25:35.685Z"
   },
   {
    "duration": 37413,
    "start_time": "2023-05-10T16:25:53.197Z"
   },
   {
    "duration": 35990,
    "start_time": "2023-05-10T16:26:41.622Z"
   },
   {
    "duration": 37229,
    "start_time": "2023-05-10T16:28:04.956Z"
   },
   {
    "duration": 6,
    "start_time": "2023-05-11T13:38:36.451Z"
   },
   {
    "duration": 5,
    "start_time": "2023-05-11T13:38:36.460Z"
   },
   {
    "duration": 9,
    "start_time": "2023-05-11T13:38:36.467Z"
   },
   {
    "duration": 9,
    "start_time": "2023-05-11T13:38:36.478Z"
   },
   {
    "duration": 4,
    "start_time": "2023-05-11T13:38:36.489Z"
   },
   {
    "duration": 49,
    "start_time": "2023-05-11T13:38:36.494Z"
   },
   {
    "duration": 8,
    "start_time": "2023-05-11T13:38:36.545Z"
   },
   {
    "duration": 3700,
    "start_time": "2023-05-11T13:42:41.081Z"
   },
   {
    "duration": 3001,
    "start_time": "2023-05-11T13:42:44.784Z"
   },
   {
    "duration": 5817,
    "start_time": "2023-05-11T13:53:15.427Z"
   },
   {
    "duration": 262,
    "start_time": "2023-05-11T13:54:27.866Z"
   },
   {
    "duration": 129,
    "start_time": "2023-05-11T13:54:41.242Z"
   },
   {
    "duration": 3,
    "start_time": "2023-05-11T13:56:33.434Z"
   },
   {
    "duration": 238,
    "start_time": "2023-05-11T13:56:44.719Z"
   },
   {
    "duration": 10,
    "start_time": "2023-05-11T13:58:04.377Z"
   },
   {
    "duration": 280,
    "start_time": "2023-05-11T13:58:12.489Z"
   },
   {
    "duration": 62,
    "start_time": "2023-05-11T13:59:47.674Z"
   },
   {
    "duration": 22,
    "start_time": "2023-05-11T14:24:33.829Z"
   },
   {
    "duration": 21,
    "start_time": "2023-05-11T14:26:37.758Z"
   },
   {
    "duration": 7473,
    "start_time": "2023-05-11T14:28:32.663Z"
   },
   {
    "duration": 10,
    "start_time": "2023-05-11T14:29:24.864Z"
   },
   {
    "duration": 508,
    "start_time": "2023-05-11T14:31:46.149Z"
   },
   {
    "duration": 37,
    "start_time": "2023-05-11T14:31:51.365Z"
   },
   {
    "duration": 124,
    "start_time": "2023-05-11T14:32:18.999Z"
   },
   {
    "duration": 69,
    "start_time": "2023-05-11T14:32:33.036Z"
   },
   {
    "duration": 66,
    "start_time": "2023-05-11T14:32:50.469Z"
   },
   {
    "duration": 3,
    "start_time": "2023-05-11T19:28:18.122Z"
   },
   {
    "duration": 894,
    "start_time": "2023-05-11T19:28:18.623Z"
   },
   {
    "duration": 2,
    "start_time": "2023-05-11T19:28:24.024Z"
   },
   {
    "duration": 112,
    "start_time": "2023-05-11T19:28:24.028Z"
   },
   {
    "duration": 770,
    "start_time": "2023-05-11T19:28:46.166Z"
   },
   {
    "duration": 35,
    "start_time": "2023-05-11T19:28:54.546Z"
   },
   {
    "duration": 28,
    "start_time": "2023-05-11T19:29:11.270Z"
   },
   {
    "duration": 32,
    "start_time": "2023-05-11T19:29:25.611Z"
   },
   {
    "duration": 3113,
    "start_time": "2023-05-11T19:30:12.358Z"
   },
   {
    "duration": 1373,
    "start_time": "2023-05-11T19:32:34.577Z"
   },
   {
    "duration": 1356,
    "start_time": "2023-05-11T19:32:47.985Z"
   },
   {
    "duration": 842,
    "start_time": "2023-05-11T19:33:26.256Z"
   },
   {
    "duration": 2,
    "start_time": "2023-05-11T19:33:45.412Z"
   },
   {
    "duration": 187,
    "start_time": "2023-05-11T19:33:45.416Z"
   },
   {
    "duration": 3607,
    "start_time": "2023-05-11T19:34:08.701Z"
   },
   {
    "duration": 2235,
    "start_time": "2023-05-11T19:37:33.090Z"
   },
   {
    "duration": 954,
    "start_time": "2023-05-11T19:37:35.327Z"
   },
   {
    "duration": 2,
    "start_time": "2023-05-11T19:37:36.283Z"
   },
   {
    "duration": 1818,
    "start_time": "2023-05-11T19:37:36.295Z"
   },
   {
    "duration": 5400,
    "start_time": "2023-05-11T19:37:38.119Z"
   },
   {
    "duration": 0,
    "start_time": "2023-05-11T19:37:43.521Z"
   },
   {
    "duration": 0,
    "start_time": "2023-05-11T19:37:43.523Z"
   },
   {
    "duration": 0,
    "start_time": "2023-05-11T19:37:43.525Z"
   },
   {
    "duration": 0,
    "start_time": "2023-05-11T19:37:43.526Z"
   },
   {
    "duration": 0,
    "start_time": "2023-05-11T19:37:43.528Z"
   },
   {
    "duration": 0,
    "start_time": "2023-05-11T19:37:43.529Z"
   },
   {
    "duration": 0,
    "start_time": "2023-05-11T19:37:43.530Z"
   },
   {
    "duration": 0,
    "start_time": "2023-05-11T19:37:43.531Z"
   },
   {
    "duration": 0,
    "start_time": "2023-05-11T19:37:43.532Z"
   },
   {
    "duration": 0,
    "start_time": "2023-05-11T19:37:43.534Z"
   },
   {
    "duration": 1952,
    "start_time": "2023-05-11T19:56:25.549Z"
   },
   {
    "duration": 890,
    "start_time": "2023-05-11T19:56:27.504Z"
   },
   {
    "duration": 2,
    "start_time": "2023-05-11T19:56:35.575Z"
   },
   {
    "duration": 1736,
    "start_time": "2023-05-11T19:56:35.579Z"
   },
   {
    "duration": 885,
    "start_time": "2023-05-11T19:57:34.271Z"
   },
   {
    "duration": 819,
    "start_time": "2023-05-11T19:57:40.020Z"
   },
   {
    "duration": 2,
    "start_time": "2023-05-11T19:57:50.552Z"
   },
   {
    "duration": 188,
    "start_time": "2023-05-11T19:57:50.556Z"
   },
   {
    "duration": 4316,
    "start_time": "2023-05-11T20:01:59.114Z"
   },
   {
    "duration": 359,
    "start_time": "2023-05-11T20:02:03.432Z"
   },
   {
    "duration": 230,
    "start_time": "2023-05-11T20:25:15.480Z"
   },
   {
    "duration": 175,
    "start_time": "2023-05-11T20:25:23.665Z"
   },
   {
    "duration": 172,
    "start_time": "2023-05-11T20:26:53.182Z"
   },
   {
    "duration": 225,
    "start_time": "2023-05-11T20:27:34.544Z"
   },
   {
    "duration": 6388,
    "start_time": "2023-05-11T20:27:36.043Z"
   },
   {
    "duration": 71,
    "start_time": "2023-05-11T20:27:42.434Z"
   },
   {
    "duration": 792,
    "start_time": "2023-05-11T20:29:22.070Z"
   },
   {
    "duration": 2,
    "start_time": "2023-05-11T20:29:22.864Z"
   },
   {
    "duration": 188,
    "start_time": "2023-05-11T20:29:23.184Z"
   },
   {
    "duration": 4075,
    "start_time": "2023-05-11T20:29:24.527Z"
   },
   {
    "duration": 39,
    "start_time": "2023-05-11T20:29:28.604Z"
   },
   {
    "duration": 2040,
    "start_time": "2023-05-11T20:39:26.670Z"
   },
   {
    "duration": 876,
    "start_time": "2023-05-11T20:39:28.712Z"
   },
   {
    "duration": 6,
    "start_time": "2023-05-11T20:39:29.589Z"
   },
   {
    "duration": 1847,
    "start_time": "2023-05-11T20:39:29.597Z"
   },
   {
    "duration": 4925,
    "start_time": "2023-05-11T20:39:31.446Z"
   },
   {
    "duration": 389,
    "start_time": "2023-05-11T20:39:36.374Z"
   },
   {
    "duration": 0,
    "start_time": "2023-05-11T20:39:36.765Z"
   },
   {
    "duration": 0,
    "start_time": "2023-05-11T20:39:36.766Z"
   },
   {
    "duration": 0,
    "start_time": "2023-05-11T20:39:36.767Z"
   },
   {
    "duration": 0,
    "start_time": "2023-05-11T20:39:36.768Z"
   },
   {
    "duration": 0,
    "start_time": "2023-05-11T20:39:36.769Z"
   },
   {
    "duration": 0,
    "start_time": "2023-05-11T20:39:36.770Z"
   },
   {
    "duration": 0,
    "start_time": "2023-05-11T20:39:36.771Z"
   },
   {
    "duration": 0,
    "start_time": "2023-05-11T20:39:36.772Z"
   },
   {
    "duration": 0,
    "start_time": "2023-05-11T20:39:36.773Z"
   },
   {
    "duration": 2062,
    "start_time": "2023-05-11T21:47:29.662Z"
   },
   {
    "duration": 979,
    "start_time": "2023-05-11T21:47:31.726Z"
   },
   {
    "duration": 2,
    "start_time": "2023-05-11T21:47:32.707Z"
   },
   {
    "duration": 1836,
    "start_time": "2023-05-11T21:47:32.711Z"
   },
   {
    "duration": 6833,
    "start_time": "2023-05-11T21:47:34.550Z"
   },
   {
    "duration": 360,
    "start_time": "2023-05-11T21:47:41.384Z"
   },
   {
    "duration": 0,
    "start_time": "2023-05-11T21:47:41.746Z"
   },
   {
    "duration": 0,
    "start_time": "2023-05-11T21:47:41.747Z"
   },
   {
    "duration": 0,
    "start_time": "2023-05-11T21:47:41.748Z"
   },
   {
    "duration": 0,
    "start_time": "2023-05-11T21:47:41.749Z"
   },
   {
    "duration": 0,
    "start_time": "2023-05-11T21:47:41.750Z"
   },
   {
    "duration": 0,
    "start_time": "2023-05-11T21:47:41.751Z"
   },
   {
    "duration": 0,
    "start_time": "2023-05-11T21:47:41.752Z"
   },
   {
    "duration": 0,
    "start_time": "2023-05-11T21:47:41.754Z"
   },
   {
    "duration": 0,
    "start_time": "2023-05-11T21:47:41.755Z"
   },
   {
    "duration": 4420,
    "start_time": "2023-05-11T21:47:58.569Z"
   },
   {
    "duration": 933,
    "start_time": "2023-05-11T22:07:33.577Z"
   },
   {
    "duration": 2,
    "start_time": "2023-05-11T22:07:34.512Z"
   },
   {
    "duration": 86,
    "start_time": "2023-05-11T22:07:37.749Z"
   },
   {
    "duration": 5978,
    "start_time": "2023-05-11T22:07:38.397Z"
   },
   {
    "duration": 16452,
    "start_time": "2023-05-11T22:07:44.377Z"
   },
   {
    "duration": 24509,
    "start_time": "2023-05-11T22:08:03.013Z"
   },
   {
    "duration": 9,
    "start_time": "2023-05-11T22:08:29.390Z"
   },
   {
    "duration": 40,
    "start_time": "2023-05-11T22:08:30.243Z"
   },
   {
    "duration": 13,
    "start_time": "2023-05-11T22:09:08.653Z"
   },
   {
    "duration": 9,
    "start_time": "2023-05-11T22:09:16.724Z"
   },
   {
    "duration": 69,
    "start_time": "2023-05-11T22:09:29.216Z"
   },
   {
    "duration": 28,
    "start_time": "2023-05-11T22:09:35.789Z"
   },
   {
    "duration": 836,
    "start_time": "2023-05-11T22:10:04.001Z"
   },
   {
    "duration": 2,
    "start_time": "2023-05-11T22:10:04.839Z"
   },
   {
    "duration": 116,
    "start_time": "2023-05-11T22:10:05.179Z"
   },
   {
    "duration": 3667,
    "start_time": "2023-05-11T22:10:05.759Z"
   },
   {
    "duration": 39,
    "start_time": "2023-05-11T22:10:09.428Z"
   },
   {
    "duration": 0,
    "start_time": "2023-05-11T22:10:09.495Z"
   },
   {
    "duration": 0,
    "start_time": "2023-05-11T22:10:09.495Z"
   },
   {
    "duration": 2311,
    "start_time": "2023-05-11T22:11:28.594Z"
   },
   {
    "duration": 895,
    "start_time": "2023-05-11T22:11:30.907Z"
   },
   {
    "duration": 3,
    "start_time": "2023-05-11T22:11:31.804Z"
   },
   {
    "duration": 1799,
    "start_time": "2023-05-11T22:11:31.808Z"
   },
   {
    "duration": 4273,
    "start_time": "2023-05-11T22:11:33.610Z"
   },
   {
    "duration": 320,
    "start_time": "2023-05-11T22:11:37.885Z"
   },
   {
    "duration": 0,
    "start_time": "2023-05-11T22:11:38.207Z"
   },
   {
    "duration": 0,
    "start_time": "2023-05-11T22:11:38.208Z"
   },
   {
    "duration": 0,
    "start_time": "2023-05-11T22:11:38.209Z"
   },
   {
    "duration": 0,
    "start_time": "2023-05-11T22:11:38.210Z"
   },
   {
    "duration": 0,
    "start_time": "2023-05-11T22:11:38.212Z"
   },
   {
    "duration": 0,
    "start_time": "2023-05-11T22:11:38.213Z"
   },
   {
    "duration": 0,
    "start_time": "2023-05-11T22:11:38.215Z"
   },
   {
    "duration": 0,
    "start_time": "2023-05-11T22:11:38.216Z"
   },
   {
    "duration": 0,
    "start_time": "2023-05-11T22:11:38.217Z"
   },
   {
    "duration": 2106,
    "start_time": "2023-05-11T22:12:19.038Z"
   },
   {
    "duration": 885,
    "start_time": "2023-05-11T22:12:21.145Z"
   },
   {
    "duration": 2,
    "start_time": "2023-05-11T22:12:22.032Z"
   },
   {
    "duration": 1661,
    "start_time": "2023-05-11T22:12:22.037Z"
   },
   {
    "duration": 4727,
    "start_time": "2023-05-11T22:12:23.700Z"
   },
   {
    "duration": 0,
    "start_time": "2023-05-11T22:12:28.429Z"
   },
   {
    "duration": 0,
    "start_time": "2023-05-11T22:12:28.430Z"
   },
   {
    "duration": 0,
    "start_time": "2023-05-11T22:12:28.431Z"
   },
   {
    "duration": 0,
    "start_time": "2023-05-11T22:12:28.432Z"
   },
   {
    "duration": 0,
    "start_time": "2023-05-11T22:12:28.433Z"
   },
   {
    "duration": 0,
    "start_time": "2023-05-11T22:12:28.434Z"
   },
   {
    "duration": 0,
    "start_time": "2023-05-11T22:12:28.435Z"
   },
   {
    "duration": 0,
    "start_time": "2023-05-11T22:12:28.436Z"
   },
   {
    "duration": 0,
    "start_time": "2023-05-11T22:12:28.438Z"
   },
   {
    "duration": 0,
    "start_time": "2023-05-11T22:12:28.439Z"
   },
   {
    "duration": 2038,
    "start_time": "2023-05-11T22:14:10.660Z"
   },
   {
    "duration": 859,
    "start_time": "2023-05-11T22:14:12.700Z"
   },
   {
    "duration": 2,
    "start_time": "2023-05-11T22:14:13.561Z"
   },
   {
    "duration": 1632,
    "start_time": "2023-05-11T22:14:13.564Z"
   },
   {
    "duration": 4533,
    "start_time": "2023-05-11T22:14:15.198Z"
   },
   {
    "duration": 321,
    "start_time": "2023-05-11T22:14:19.732Z"
   },
   {
    "duration": 0,
    "start_time": "2023-05-11T22:14:20.055Z"
   },
   {
    "duration": 0,
    "start_time": "2023-05-11T22:14:20.056Z"
   },
   {
    "duration": 0,
    "start_time": "2023-05-11T22:14:20.057Z"
   },
   {
    "duration": 0,
    "start_time": "2023-05-11T22:14:20.058Z"
   },
   {
    "duration": 0,
    "start_time": "2023-05-11T22:14:20.059Z"
   },
   {
    "duration": 0,
    "start_time": "2023-05-11T22:14:20.060Z"
   },
   {
    "duration": 0,
    "start_time": "2023-05-11T22:14:20.060Z"
   },
   {
    "duration": 0,
    "start_time": "2023-05-11T22:14:20.061Z"
   },
   {
    "duration": 0,
    "start_time": "2023-05-11T22:14:20.062Z"
   },
   {
    "duration": 902,
    "start_time": "2023-05-11T22:14:33.864Z"
   },
   {
    "duration": 2,
    "start_time": "2023-05-11T22:14:34.768Z"
   },
   {
    "duration": 269,
    "start_time": "2023-05-11T22:14:34.999Z"
   },
   {
    "duration": 5294,
    "start_time": "2023-05-11T22:14:35.676Z"
   },
   {
    "duration": 47,
    "start_time": "2023-05-11T22:14:40.972Z"
   },
   {
    "duration": 211,
    "start_time": "2023-05-11T22:22:05.144Z"
   },
   {
    "duration": 5902,
    "start_time": "2023-05-11T22:22:06.049Z"
   },
   {
    "duration": 199742,
    "start_time": "2023-05-11T22:22:11.953Z"
   },
   {
    "duration": 10,
    "start_time": "2023-05-11T22:25:31.697Z"
   },
   {
    "duration": 792,
    "start_time": "2023-05-11T22:25:31.709Z"
   },
   {
    "duration": 2007,
    "start_time": "2023-05-11T22:27:23.688Z"
   },
   {
    "duration": 864,
    "start_time": "2023-05-11T22:27:25.697Z"
   },
   {
    "duration": 2,
    "start_time": "2023-05-11T22:27:26.562Z"
   },
   {
    "duration": 2718,
    "start_time": "2023-05-11T22:27:26.565Z"
   },
   {
    "duration": 4421,
    "start_time": "2023-05-11T22:27:29.285Z"
   },
   {
    "duration": 2448,
    "start_time": "2023-05-11T22:27:58.673Z"
   },
   {
    "duration": 2342,
    "start_time": "2023-05-11T22:28:01.123Z"
   },
   {
    "duration": 3,
    "start_time": "2023-05-11T22:28:03.466Z"
   },
   {
    "duration": 2296,
    "start_time": "2023-05-11T22:28:03.470Z"
   },
   {
    "duration": 3894,
    "start_time": "2023-05-11T22:28:05.768Z"
   },
   {
    "duration": 2405,
    "start_time": "2023-05-11T22:28:32.789Z"
   },
   {
    "duration": 2307,
    "start_time": "2023-05-11T22:28:35.196Z"
   },
   {
    "duration": 2,
    "start_time": "2023-05-11T22:28:37.504Z"
   },
   {
    "duration": 1937,
    "start_time": "2023-05-11T22:28:37.507Z"
   },
   {
    "duration": 4600,
    "start_time": "2023-05-11T22:28:39.446Z"
   },
   {
    "duration": 2403,
    "start_time": "2023-05-11T22:29:17.614Z"
   },
   {
    "duration": 2312,
    "start_time": "2023-05-11T22:29:20.019Z"
   },
   {
    "duration": 2,
    "start_time": "2023-05-11T22:29:22.333Z"
   },
   {
    "duration": 1805,
    "start_time": "2023-05-11T22:29:22.336Z"
   },
   {
    "duration": 4096,
    "start_time": "2023-05-11T22:29:24.143Z"
   },
   {
    "duration": 2345,
    "start_time": "2023-05-11T22:30:10.458Z"
   },
   {
    "duration": 2341,
    "start_time": "2023-05-11T22:30:12.805Z"
   },
   {
    "duration": 2,
    "start_time": "2023-05-11T22:30:15.148Z"
   },
   {
    "duration": 1907,
    "start_time": "2023-05-11T22:30:15.152Z"
   },
   {
    "duration": 4176,
    "start_time": "2023-05-11T22:30:17.060Z"
   },
   {
    "duration": 25555,
    "start_time": "2023-05-11T22:30:21.238Z"
   },
   {
    "duration": 0,
    "start_time": "2023-05-11T22:30:46.795Z"
   },
   {
    "duration": 0,
    "start_time": "2023-05-11T22:30:46.796Z"
   },
   {
    "duration": 0,
    "start_time": "2023-05-11T22:30:46.798Z"
   },
   {
    "duration": 0,
    "start_time": "2023-05-11T22:30:46.799Z"
   },
   {
    "duration": 0,
    "start_time": "2023-05-11T22:30:46.800Z"
   },
   {
    "duration": 0,
    "start_time": "2023-05-11T22:30:46.802Z"
   },
   {
    "duration": 0,
    "start_time": "2023-05-11T22:30:46.804Z"
   },
   {
    "duration": 0,
    "start_time": "2023-05-11T22:30:46.805Z"
   },
   {
    "duration": 0,
    "start_time": "2023-05-11T22:30:46.806Z"
   },
   {
    "duration": 2145,
    "start_time": "2023-05-11T22:31:02.998Z"
   },
   {
    "duration": 887,
    "start_time": "2023-05-11T22:31:05.145Z"
   },
   {
    "duration": 2,
    "start_time": "2023-05-11T22:31:06.033Z"
   },
   {
    "duration": 2168,
    "start_time": "2023-05-11T22:31:06.037Z"
   },
   {
    "duration": 4143,
    "start_time": "2023-05-11T22:31:08.207Z"
   },
   {
    "duration": 987643,
    "start_time": "2023-05-11T22:31:12.352Z"
   },
   {
    "duration": 9,
    "start_time": "2023-05-11T22:47:39.997Z"
   },
   {
    "duration": 2394,
    "start_time": "2023-05-11T22:47:40.007Z"
   },
   {
    "duration": 91,
    "start_time": "2023-05-11T22:47:42.404Z"
   },
   {
    "duration": 7,
    "start_time": "2023-05-11T22:47:42.498Z"
   },
   {
    "duration": 23,
    "start_time": "2023-05-11T22:47:42.507Z"
   },
   {
    "duration": 6,
    "start_time": "2023-05-11T22:47:42.532Z"
   },
   {
    "duration": 9,
    "start_time": "2023-05-11T22:47:42.539Z"
   },
   {
    "duration": 8,
    "start_time": "2023-05-11T22:47:42.550Z"
   },
   {
    "duration": 5,
    "start_time": "2023-05-11T22:47:42.560Z"
   },
   {
    "duration": 2136,
    "start_time": "2023-05-11T22:50:17.070Z"
   },
   {
    "duration": 893,
    "start_time": "2023-05-11T22:50:19.208Z"
   },
   {
    "duration": 2,
    "start_time": "2023-05-11T22:50:20.103Z"
   },
   {
    "duration": 2321,
    "start_time": "2023-05-11T22:50:20.107Z"
   },
   {
    "duration": 6859,
    "start_time": "2023-05-11T22:50:22.430Z"
   },
   {
    "duration": 18967,
    "start_time": "2023-05-11T22:50:29.294Z"
   },
   {
    "duration": 0,
    "start_time": "2023-05-11T22:50:48.264Z"
   },
   {
    "duration": 0,
    "start_time": "2023-05-11T22:50:48.265Z"
   },
   {
    "duration": 0,
    "start_time": "2023-05-11T22:50:48.267Z"
   },
   {
    "duration": 0,
    "start_time": "2023-05-11T22:50:48.268Z"
   },
   {
    "duration": 0,
    "start_time": "2023-05-11T22:50:48.270Z"
   },
   {
    "duration": 0,
    "start_time": "2023-05-11T22:50:48.271Z"
   },
   {
    "duration": 0,
    "start_time": "2023-05-11T22:50:48.273Z"
   },
   {
    "duration": 0,
    "start_time": "2023-05-11T22:50:48.274Z"
   },
   {
    "duration": 0,
    "start_time": "2023-05-11T22:50:48.295Z"
   },
   {
    "duration": 3114,
    "start_time": "2023-05-11T22:51:14.580Z"
   },
   {
    "duration": 847,
    "start_time": "2023-05-11T22:51:17.696Z"
   },
   {
    "duration": 3,
    "start_time": "2023-05-11T22:51:18.545Z"
   },
   {
    "duration": 2570,
    "start_time": "2023-05-11T22:51:18.550Z"
   },
   {
    "duration": 5139,
    "start_time": "2023-05-11T22:51:21.122Z"
   },
   {
    "duration": 2402,
    "start_time": "2023-05-11T22:51:50.673Z"
   },
   {
    "duration": 2279,
    "start_time": "2023-05-11T22:51:53.077Z"
   },
   {
    "duration": 2,
    "start_time": "2023-05-11T22:51:55.358Z"
   },
   {
    "duration": 2620,
    "start_time": "2023-05-11T22:51:55.362Z"
   },
   {
    "duration": 4281,
    "start_time": "2023-05-11T22:51:57.984Z"
   },
   {
    "duration": 2426,
    "start_time": "2023-05-11T22:52:22.307Z"
   },
   {
    "duration": 2311,
    "start_time": "2023-05-11T22:52:24.735Z"
   },
   {
    "duration": 3,
    "start_time": "2023-05-11T22:52:27.047Z"
   },
   {
    "duration": 2591,
    "start_time": "2023-05-11T22:52:27.051Z"
   },
   {
    "duration": 4114,
    "start_time": "2023-05-11T22:52:29.644Z"
   },
   {
    "duration": 2344,
    "start_time": "2023-05-11T22:53:09.010Z"
   },
   {
    "duration": 2290,
    "start_time": "2023-05-11T22:53:11.356Z"
   },
   {
    "duration": 2,
    "start_time": "2023-05-11T22:53:13.647Z"
   },
   {
    "duration": 2653,
    "start_time": "2023-05-11T22:53:13.650Z"
   },
   {
    "duration": 4135,
    "start_time": "2023-05-11T22:53:16.305Z"
   },
   {
    "duration": 49996,
    "start_time": "2023-05-11T22:53:20.445Z"
   },
   {
    "duration": 0,
    "start_time": "2023-05-11T22:54:10.443Z"
   },
   {
    "duration": 0,
    "start_time": "2023-05-11T22:54:10.444Z"
   },
   {
    "duration": 0,
    "start_time": "2023-05-11T22:54:10.446Z"
   },
   {
    "duration": 0,
    "start_time": "2023-05-11T22:54:10.447Z"
   },
   {
    "duration": 0,
    "start_time": "2023-05-11T22:54:10.448Z"
   },
   {
    "duration": 0,
    "start_time": "2023-05-11T22:54:10.449Z"
   },
   {
    "duration": 0,
    "start_time": "2023-05-11T22:54:10.451Z"
   },
   {
    "duration": 0,
    "start_time": "2023-05-11T22:54:10.452Z"
   },
   {
    "duration": 0,
    "start_time": "2023-05-11T22:54:10.453Z"
   },
   {
    "duration": 2426,
    "start_time": "2023-05-11T22:54:28.779Z"
   },
   {
    "duration": 2320,
    "start_time": "2023-05-11T22:54:31.207Z"
   },
   {
    "duration": 2,
    "start_time": "2023-05-11T22:54:33.529Z"
   },
   {
    "duration": 2968,
    "start_time": "2023-05-11T22:54:33.533Z"
   },
   {
    "duration": 4119,
    "start_time": "2023-05-11T22:54:36.504Z"
   },
   {
    "duration": 2255,
    "start_time": "2023-05-11T23:19:21.236Z"
   },
   {
    "duration": 2299,
    "start_time": "2023-05-11T23:19:23.493Z"
   },
   {
    "duration": 2,
    "start_time": "2023-05-11T23:19:25.794Z"
   },
   {
    "duration": 2932,
    "start_time": "2023-05-11T23:19:25.797Z"
   },
   {
    "duration": 7185,
    "start_time": "2023-05-11T23:19:28.731Z"
   },
   {
    "duration": 23938,
    "start_time": "2023-05-11T23:19:35.918Z"
   },
   {
    "duration": 0,
    "start_time": "2023-05-11T23:19:59.858Z"
   },
   {
    "duration": 0,
    "start_time": "2023-05-11T23:19:59.859Z"
   },
   {
    "duration": 0,
    "start_time": "2023-05-11T23:19:59.860Z"
   },
   {
    "duration": 0,
    "start_time": "2023-05-11T23:19:59.861Z"
   },
   {
    "duration": 0,
    "start_time": "2023-05-11T23:19:59.862Z"
   },
   {
    "duration": 0,
    "start_time": "2023-05-11T23:19:59.863Z"
   },
   {
    "duration": 0,
    "start_time": "2023-05-11T23:19:59.864Z"
   },
   {
    "duration": 0,
    "start_time": "2023-05-11T23:19:59.864Z"
   },
   {
    "duration": 0,
    "start_time": "2023-05-11T23:19:59.865Z"
   },
   {
    "duration": 2417,
    "start_time": "2023-05-11T23:20:12.075Z"
   },
   {
    "duration": 2316,
    "start_time": "2023-05-11T23:20:14.494Z"
   },
   {
    "duration": 2,
    "start_time": "2023-05-11T23:20:16.812Z"
   },
   {
    "duration": 2780,
    "start_time": "2023-05-11T23:20:16.815Z"
   },
   {
    "duration": 3898,
    "start_time": "2023-05-11T23:20:19.597Z"
   },
   {
    "duration": 2334,
    "start_time": "2023-05-11T23:27:56.467Z"
   },
   {
    "duration": 2344,
    "start_time": "2023-05-11T23:27:58.803Z"
   },
   {
    "duration": 2,
    "start_time": "2023-05-11T23:28:01.148Z"
   },
   {
    "duration": 2853,
    "start_time": "2023-05-11T23:28:01.152Z"
   },
   {
    "duration": 4952,
    "start_time": "2023-05-11T23:28:04.007Z"
   },
   {
    "duration": 6179,
    "start_time": "2023-05-12T07:03:13.562Z"
   },
   {
    "duration": 2338,
    "start_time": "2023-05-12T07:03:19.743Z"
   },
   {
    "duration": 2,
    "start_time": "2023-05-12T07:03:22.083Z"
   },
   {
    "duration": 13054,
    "start_time": "2023-05-12T07:03:22.087Z"
   },
   {
    "duration": 8335,
    "start_time": "2023-05-12T07:03:35.142Z"
   },
   {
    "duration": 7794,
    "start_time": "2023-05-12T07:30:48.770Z"
   },
   {
    "duration": 2849,
    "start_time": "2023-05-12T07:30:56.567Z"
   },
   {
    "duration": 12,
    "start_time": "2023-05-12T07:30:59.424Z"
   },
   {
    "duration": 16561,
    "start_time": "2023-05-12T07:30:59.439Z"
   },
   {
    "duration": 7567,
    "start_time": "2023-05-12T07:31:16.001Z"
   },
   {
    "duration": 2574648,
    "start_time": "2023-05-12T07:31:23.570Z"
   },
   {
    "duration": 13,
    "start_time": "2023-05-12T08:14:18.220Z"
   },
   {
    "duration": 1685,
    "start_time": "2023-05-12T08:14:18.235Z"
   },
   {
    "duration": 3,
    "start_time": "2023-05-12T08:14:19.922Z"
   },
   {
    "duration": 119,
    "start_time": "2023-05-12T08:14:19.927Z"
   },
   {
    "duration": 23,
    "start_time": "2023-05-12T08:14:20.047Z"
   },
   {
    "duration": 23,
    "start_time": "2023-05-12T08:14:20.071Z"
   },
   {
    "duration": 19,
    "start_time": "2023-05-12T08:14:20.096Z"
   },
   {
    "duration": 13,
    "start_time": "2023-05-12T08:14:20.117Z"
   },
   {
    "duration": 7,
    "start_time": "2023-05-12T08:14:20.132Z"
   },
   {
    "duration": 2601,
    "start_time": "2023-05-12T08:30:05.429Z"
   },
   {
    "duration": 2308,
    "start_time": "2023-05-12T08:30:08.032Z"
   },
   {
    "duration": 3,
    "start_time": "2023-05-12T08:30:10.341Z"
   },
   {
    "duration": 3848,
    "start_time": "2023-05-12T08:30:10.346Z"
   },
   {
    "duration": 7028,
    "start_time": "2023-05-12T08:30:14.195Z"
   },
   {
    "duration": 11921,
    "start_time": "2023-05-12T12:36:04.242Z"
   },
   {
    "duration": 3639,
    "start_time": "2023-05-12T12:36:16.166Z"
   },
   {
    "duration": 118101,
    "start_time": "2023-05-12T12:36:19.806Z"
   },
   {
    "duration": 118,
    "start_time": "2023-05-12T12:38:17.910Z"
   },
   {
    "duration": 13493,
    "start_time": "2023-05-12T12:38:18.030Z"
   },
   {
    "duration": 794082,
    "start_time": "2023-05-12T12:38:31.528Z"
   },
   {
    "duration": 385,
    "start_time": "2023-05-12T12:51:45.612Z"
   },
   {
    "duration": 51,
    "start_time": "2023-05-12T12:55:14.807Z"
   },
   {
    "duration": 5,
    "start_time": "2023-05-12T12:55:32.080Z"
   },
   {
    "duration": 26,
    "start_time": "2023-05-12T12:55:36.244Z"
   },
   {
    "duration": 15800,
    "start_time": "2023-05-12T12:59:59.586Z"
   },
   {
    "duration": 3499,
    "start_time": "2023-05-12T13:00:15.389Z"
   },
   {
    "duration": 24096,
    "start_time": "2023-05-12T13:00:18.890Z"
   },
   {
    "duration": 10348,
    "start_time": "2023-05-12T13:00:42.988Z"
   },
   {
    "duration": 1054,
    "start_time": "2023-05-12T13:00:53.338Z"
   },
   {
    "duration": 109009,
    "start_time": "2023-05-12T13:00:54.394Z"
   },
   {
    "duration": 91,
    "start_time": "2023-05-12T13:02:43.405Z"
   },
   {
    "duration": 8521,
    "start_time": "2023-05-12T13:08:38.976Z"
   },
   {
    "duration": 3059,
    "start_time": "2023-05-12T13:08:47.499Z"
   },
   {
    "duration": 100503,
    "start_time": "2023-05-12T13:08:50.560Z"
   },
   {
    "duration": 94,
    "start_time": "2023-05-12T13:10:31.065Z"
   },
   {
    "duration": 11603,
    "start_time": "2023-05-12T13:10:31.160Z"
   },
   {
    "duration": 87103,
    "start_time": "2023-05-12T13:10:42.765Z"
   },
   {
    "duration": 15,
    "start_time": "2023-05-12T13:12:09.870Z"
   },
   {
    "duration": 8956,
    "start_time": "2023-05-12T13:13:48.713Z"
   },
   {
    "duration": 3285,
    "start_time": "2023-05-12T13:13:57.672Z"
   },
   {
    "duration": 101816,
    "start_time": "2023-05-12T13:14:00.959Z"
   },
   {
    "duration": 94,
    "start_time": "2023-05-12T13:15:42.777Z"
   },
   {
    "duration": 12527,
    "start_time": "2023-05-12T13:15:42.872Z"
   },
   {
    "duration": 87299,
    "start_time": "2023-05-12T13:15:55.401Z"
   },
   {
    "duration": 43,
    "start_time": "2023-05-12T13:17:22.702Z"
   },
   {
    "duration": 8819,
    "start_time": "2023-05-12T13:18:34.835Z"
   },
   {
    "duration": 3241,
    "start_time": "2023-05-12T13:18:43.656Z"
   },
   {
    "duration": 101634,
    "start_time": "2023-05-12T13:18:46.898Z"
   },
   {
    "duration": 70,
    "start_time": "2023-05-12T13:20:28.537Z"
   },
   {
    "duration": 12530,
    "start_time": "2023-05-12T13:20:28.609Z"
   },
   {
    "duration": 88626,
    "start_time": "2023-05-12T13:20:41.141Z"
   },
   {
    "duration": 25,
    "start_time": "2023-05-12T13:22:09.777Z"
   },
   {
    "duration": 13565,
    "start_time": "2023-05-12T13:23:12.006Z"
   },
   {
    "duration": 3229,
    "start_time": "2023-05-12T13:23:25.573Z"
   },
   {
    "duration": 104278,
    "start_time": "2023-05-12T13:23:28.804Z"
   },
   {
    "duration": 80,
    "start_time": "2023-05-12T13:25:13.085Z"
   },
   {
    "duration": 11684,
    "start_time": "2023-05-12T13:25:13.167Z"
   },
   {
    "duration": 87006,
    "start_time": "2023-05-12T13:25:24.853Z"
   },
   {
    "duration": 15,
    "start_time": "2023-05-12T13:26:51.861Z"
   },
   {
    "duration": 7,
    "start_time": "2023-05-12T13:26:51.878Z"
   },
   {
    "duration": 223986,
    "start_time": "2023-05-12T13:26:51.887Z"
   },
   {
    "duration": 3,
    "start_time": "2023-05-12T13:30:35.875Z"
   },
   {
    "duration": 206,
    "start_time": "2023-05-12T13:30:35.879Z"
   },
   {
    "duration": 27783,
    "start_time": "2023-05-12T13:30:53.700Z"
   },
   {
    "duration": 9,
    "start_time": "2023-05-12T13:31:21.485Z"
   },
   {
    "duration": 865,
    "start_time": "2023-05-12T13:37:29.481Z"
   },
   {
    "duration": 13117,
    "start_time": "2023-05-12T13:37:30.348Z"
   },
   {
    "duration": 7314,
    "start_time": "2023-05-12T13:50:37.878Z"
   },
   {
    "duration": 2443,
    "start_time": "2023-05-12T13:50:45.194Z"
   },
   {
    "duration": 12856,
    "start_time": "2023-05-12T13:50:47.638Z"
   },
   {
    "duration": 9142,
    "start_time": "2023-05-12T13:51:00.496Z"
   },
   {
    "duration": 2649,
    "start_time": "2023-05-12T14:33:10.548Z"
   },
   {
    "duration": 2257,
    "start_time": "2023-05-12T14:33:13.199Z"
   },
   {
    "duration": 2764,
    "start_time": "2023-05-12T14:33:15.458Z"
   },
   {
    "duration": 13606,
    "start_time": "2023-05-12T14:33:18.224Z"
   },
   {
    "duration": 1767891,
    "start_time": "2023-05-12T14:33:31.832Z"
   },
   {
    "duration": 11,
    "start_time": "2023-05-12T15:02:59.724Z"
   },
   {
    "duration": 2288,
    "start_time": "2023-05-12T15:02:59.737Z"
   },
   {
    "duration": 93,
    "start_time": "2023-05-12T15:03:02.026Z"
   },
   {
    "duration": 579,
    "start_time": "2023-05-12T15:03:02.121Z"
   },
   {
    "duration": 95,
    "start_time": "2023-05-12T15:03:02.702Z"
   },
   {
    "duration": 2,
    "start_time": "2023-05-12T15:03:02.799Z"
   },
   {
    "duration": 43,
    "start_time": "2023-05-12T15:03:02.803Z"
   },
   {
    "duration": 0,
    "start_time": "2023-05-12T15:03:02.848Z"
   },
   {
    "duration": 0,
    "start_time": "2023-05-12T15:03:02.849Z"
   },
   {
    "duration": 0,
    "start_time": "2023-05-12T15:03:02.850Z"
   },
   {
    "duration": 0,
    "start_time": "2023-05-12T15:03:02.851Z"
   },
   {
    "duration": 0,
    "start_time": "2023-05-12T15:03:02.852Z"
   },
   {
    "duration": 0,
    "start_time": "2023-05-12T15:03:02.853Z"
   },
   {
    "duration": 0,
    "start_time": "2023-05-12T15:03:02.854Z"
   },
   {
    "duration": 0,
    "start_time": "2023-05-12T15:03:02.855Z"
   },
   {
    "duration": 0,
    "start_time": "2023-05-12T15:03:02.856Z"
   },
   {
    "duration": 3482,
    "start_time": "2023-05-12T18:10:31.786Z"
   },
   {
    "duration": 768433,
    "start_time": "2023-05-12T18:11:05.991Z"
   },
   {
    "duration": 2022,
    "start_time": "2023-05-12T18:23:54.426Z"
   },
   {
    "duration": 12,
    "start_time": "2023-05-12T18:23:56.449Z"
   },
   {
    "duration": 126443,
    "start_time": "2023-05-12T18:24:45.970Z"
   },
   {
    "duration": 14862,
    "start_time": "2023-05-12T18:26:52.415Z"
   },
   {
    "duration": 8,
    "start_time": "2023-05-12T18:27:07.278Z"
   },
   {
    "duration": 2738,
    "start_time": "2023-05-12T18:27:37.965Z"
   },
   {
    "duration": 95163,
    "start_time": "2023-05-12T18:27:40.704Z"
   },
   {
    "duration": 24,
    "start_time": "2023-05-12T18:29:15.869Z"
   },
   {
    "duration": 0,
    "start_time": "2023-05-12T18:29:15.895Z"
   },
   {
    "duration": 0,
    "start_time": "2023-05-12T18:29:15.896Z"
   },
   {
    "duration": 0,
    "start_time": "2023-05-12T18:29:15.897Z"
   },
   {
    "duration": 0,
    "start_time": "2023-05-12T18:29:15.898Z"
   },
   {
    "duration": 0,
    "start_time": "2023-05-12T18:29:15.898Z"
   },
   {
    "duration": 0,
    "start_time": "2023-05-12T18:29:15.899Z"
   },
   {
    "duration": 61,
    "start_time": "2023-05-12T18:29:54.364Z"
   },
   {
    "duration": 79,
    "start_time": "2023-05-12T18:29:59.980Z"
   },
   {
    "duration": 2680,
    "start_time": "2023-05-12T18:34:05.319Z"
   },
   {
    "duration": 2429,
    "start_time": "2023-05-12T18:34:08.001Z"
   },
   {
    "duration": 2834,
    "start_time": "2023-05-12T18:34:10.432Z"
   },
   {
    "duration": 6793,
    "start_time": "2023-05-12T18:34:13.268Z"
   },
   {
    "duration": 2082086,
    "start_time": "2023-05-12T18:34:20.063Z"
   },
   {
    "duration": 15,
    "start_time": "2023-05-12T19:09:02.151Z"
   },
   {
    "duration": 92318,
    "start_time": "2023-05-12T19:09:02.168Z"
   },
   {
    "duration": 4,
    "start_time": "2023-05-12T19:10:34.487Z"
   },
   {
    "duration": 1262838,
    "start_time": "2023-05-12T19:10:34.493Z"
   },
   {
    "duration": 14355,
    "start_time": "2023-05-12T19:31:37.333Z"
   },
   {
    "duration": 2,
    "start_time": "2023-05-12T19:31:51.689Z"
   },
   {
    "duration": 17,
    "start_time": "2023-05-12T19:31:51.692Z"
   },
   {
    "duration": 2501,
    "start_time": "2023-05-12T19:31:51.710Z"
   },
   {
    "duration": 93546,
    "start_time": "2023-05-12T19:31:54.214Z"
   },
   {
    "duration": 81,
    "start_time": "2023-05-12T19:33:27.761Z"
   },
   {
    "duration": 125,
    "start_time": "2023-05-12T19:46:23.638Z"
   },
   {
    "duration": 5300,
    "start_time": "2023-05-12T19:46:29.406Z"
   },
   {
    "duration": 216,
    "start_time": "2023-05-12T19:46:37.094Z"
   },
   {
    "duration": 3663,
    "start_time": "2023-05-12T19:47:08.000Z"
   },
   {
    "duration": 2902,
    "start_time": "2023-05-12T19:47:12.666Z"
   },
   {
    "duration": 111841,
    "start_time": "2023-05-12T19:47:15.570Z"
   },
   {
    "duration": 65,
    "start_time": "2023-05-12T19:49:07.418Z"
   },
   {
    "duration": 12959,
    "start_time": "2023-05-12T19:49:07.485Z"
   },
   {
    "duration": 86213,
    "start_time": "2023-05-12T19:49:20.447Z"
   },
   {
    "duration": 4,
    "start_time": "2023-05-12T19:50:46.662Z"
   },
   {
    "duration": 46392,
    "start_time": "2023-05-12T19:50:46.668Z"
   },
   {
    "duration": 27860,
    "start_time": "2023-05-12T19:51:33.061Z"
   },
   {
    "duration": 14,
    "start_time": "2023-05-12T19:52:00.924Z"
   },
   {
    "duration": 819,
    "start_time": "2023-05-12T19:55:35.851Z"
   },
   {
    "duration": 2693,
    "start_time": "2023-05-12T19:55:36.672Z"
   },
   {
    "duration": 16,
    "start_time": "2023-05-14T13:51:06.349Z"
   },
   {
    "duration": 26053,
    "start_time": "2023-05-15T20:14:38.666Z"
   },
   {
    "duration": 2400,
    "start_time": "2023-05-15T20:15:04.721Z"
   },
   {
    "duration": 3126,
    "start_time": "2023-05-15T20:15:07.123Z"
   },
   {
    "duration": 1944,
    "start_time": "2023-05-15T20:15:25.391Z"
   },
   {
    "duration": 21,
    "start_time": "2023-05-15T20:15:56.452Z"
   },
   {
    "duration": 3679,
    "start_time": "2023-05-15T20:16:07.659Z"
   },
   {
    "duration": 6115,
    "start_time": "2023-05-15T20:16:35.570Z"
   },
   {
    "duration": 898491,
    "start_time": "2023-05-15T20:16:49.234Z"
   },
   {
    "duration": 83,
    "start_time": "2023-05-15T20:31:47.726Z"
   },
   {
    "duration": 248396,
    "start_time": "2023-05-15T20:31:47.810Z"
   },
   {
    "duration": 6775,
    "start_time": "2023-05-15T20:38:31.755Z"
   },
   {
    "duration": 540403,
    "start_time": "2023-05-15T20:38:41.369Z"
   },
   {
    "duration": 2021,
    "start_time": "2023-05-15T20:56:41.078Z"
   },
   {
    "duration": 5,
    "start_time": "2023-05-15T20:56:43.101Z"
   },
   {
    "duration": 3233,
    "start_time": "2023-05-15T20:56:43.107Z"
   },
   {
    "duration": 13439,
    "start_time": "2023-05-15T20:56:46.342Z"
   },
   {
    "duration": 7188,
    "start_time": "2023-05-15T20:56:59.783Z"
   },
   {
    "duration": 29570,
    "start_time": "2023-05-15T20:57:06.973Z"
   },
   {
    "duration": 19,
    "start_time": "2023-05-15T20:57:36.545Z"
   },
   {
    "duration": 0,
    "start_time": "2023-05-15T20:57:36.565Z"
   },
   {
    "duration": 1867,
    "start_time": "2023-05-15T20:58:26.115Z"
   },
   {
    "duration": 4,
    "start_time": "2023-05-15T20:58:27.985Z"
   },
   {
    "duration": 713,
    "start_time": "2023-05-15T20:58:27.990Z"
   },
   {
    "duration": 12113,
    "start_time": "2023-05-15T20:58:28.706Z"
   },
   {
    "duration": 3961,
    "start_time": "2023-05-15T20:58:40.821Z"
   },
   {
    "duration": 1783,
    "start_time": "2023-05-15T21:32:20.209Z"
   },
   {
    "duration": 2564,
    "start_time": "2023-05-15T21:32:21.995Z"
   },
   {
    "duration": 3158,
    "start_time": "2023-05-15T21:32:24.560Z"
   },
   {
    "duration": 7750,
    "start_time": "2023-05-15T21:32:27.720Z"
   },
   {
    "duration": 7544,
    "start_time": "2023-05-15T21:32:35.472Z"
   },
   {
    "duration": 8458,
    "start_time": "2023-05-16T12:37:32.864Z"
   },
   {
    "duration": 3928,
    "start_time": "2023-05-16T12:37:41.324Z"
   },
   {
    "duration": 5853,
    "start_time": "2023-05-16T12:37:45.254Z"
   },
   {
    "duration": 274,
    "start_time": "2023-05-16T12:37:51.115Z"
   },
   {
    "duration": 0,
    "start_time": "2023-05-16T12:37:51.395Z"
   },
   {
    "duration": 0,
    "start_time": "2023-05-16T12:37:51.402Z"
   },
   {
    "duration": 0,
    "start_time": "2023-05-16T12:37:51.407Z"
   },
   {
    "duration": 0,
    "start_time": "2023-05-16T12:37:51.413Z"
   },
   {
    "duration": 3360,
    "start_time": "2023-05-16T12:38:18.871Z"
   },
   {
    "duration": 4042,
    "start_time": "2023-05-16T12:38:22.234Z"
   },
   {
    "duration": 1214,
    "start_time": "2023-05-16T12:38:26.278Z"
   },
   {
    "duration": 272,
    "start_time": "2023-05-16T12:38:27.493Z"
   },
   {
    "duration": 0,
    "start_time": "2023-05-16T12:38:27.769Z"
   },
   {
    "duration": 0,
    "start_time": "2023-05-16T12:38:27.770Z"
   },
   {
    "duration": 0,
    "start_time": "2023-05-16T12:38:27.772Z"
   },
   {
    "duration": 0,
    "start_time": "2023-05-16T12:38:27.773Z"
   },
   {
    "duration": 22,
    "start_time": "2023-05-16T12:39:57.350Z"
   },
   {
    "duration": 2489,
    "start_time": "2023-05-16T12:40:03.060Z"
   },
   {
    "duration": 7551,
    "start_time": "2023-05-16T12:40:08.303Z"
   },
   {
    "duration": 314,
    "start_time": "2023-05-16T12:40:22.367Z"
   },
   {
    "duration": 18643,
    "start_time": "2023-05-16T12:43:03.001Z"
   },
   {
    "duration": 3048,
    "start_time": "2023-05-16T13:19:09.683Z"
   },
   {
    "duration": 6188,
    "start_time": "2023-05-16T13:19:12.734Z"
   },
   {
    "duration": 5541,
    "start_time": "2023-05-16T13:19:18.924Z"
   },
   {
    "duration": 5976,
    "start_time": "2023-05-16T13:19:24.467Z"
   },
   {
    "duration": 10153,
    "start_time": "2023-05-16T13:19:30.448Z"
   },
   {
    "duration": 4,
    "start_time": "2023-10-17T22:59:41.018Z"
   },
   {
    "duration": 153,
    "start_time": "2023-10-17T22:59:41.023Z"
   },
   {
    "duration": 70,
    "start_time": "2023-10-17T22:59:41.178Z"
   },
   {
    "duration": 11807,
    "start_time": "2023-10-17T22:59:41.250Z"
   },
   {
    "duration": 2093,
    "start_time": "2023-10-17T22:59:53.059Z"
   },
   {
    "duration": 16981,
    "start_time": "2023-10-17T22:59:55.153Z"
   },
   {
    "duration": 1600,
    "start_time": "2023-10-17T23:00:12.136Z"
   },
   {
    "duration": 2,
    "start_time": "2023-10-17T23:00:13.738Z"
   },
   {
    "duration": 50,
    "start_time": "2023-10-17T23:00:13.742Z"
   },
   {
    "duration": 4,
    "start_time": "2023-10-17T23:03:22.411Z"
   },
   {
    "duration": 30,
    "start_time": "2023-10-17T23:03:22.417Z"
   },
   {
    "duration": 29,
    "start_time": "2023-10-17T23:03:22.449Z"
   },
   {
    "duration": 4802,
    "start_time": "2023-10-17T23:03:22.480Z"
   },
   {
    "duration": 1290,
    "start_time": "2023-10-17T23:03:27.285Z"
   },
   {
    "duration": 3,
    "start_time": "2023-10-17T23:03:45.376Z"
   },
   {
    "duration": 14,
    "start_time": "2023-10-17T23:03:45.381Z"
   },
   {
    "duration": 21,
    "start_time": "2023-10-17T23:03:45.396Z"
   },
   {
    "duration": 4626,
    "start_time": "2023-10-17T23:03:45.419Z"
   },
   {
    "duration": 1451,
    "start_time": "2023-10-17T23:03:50.048Z"
   },
   {
    "duration": 8459,
    "start_time": "2023-10-17T23:03:51.501Z"
   },
   {
    "duration": 378,
    "start_time": "2023-10-17T23:03:59.961Z"
   },
   {
    "duration": 3,
    "start_time": "2023-10-17T23:04:00.342Z"
   },
   {
    "duration": 138,
    "start_time": "2023-10-17T23:04:00.348Z"
   },
   {
    "duration": 112756,
    "start_time": "2023-10-17T23:04:00.489Z"
   },
   {
    "duration": 79,
    "start_time": "2023-10-17T23:05:53.247Z"
   },
   {
    "duration": 4,
    "start_time": "2023-10-18T07:29:25.951Z"
   },
   {
    "duration": 52,
    "start_time": "2023-10-18T07:29:25.956Z"
   },
   {
    "duration": 37,
    "start_time": "2023-10-18T07:29:26.010Z"
   },
   {
    "duration": 4275,
    "start_time": "2023-10-18T07:29:26.049Z"
   },
   {
    "duration": 1670,
    "start_time": "2023-10-18T07:29:30.326Z"
   },
   {
    "duration": 13026,
    "start_time": "2023-10-18T07:29:31.998Z"
   },
   {
    "duration": 304,
    "start_time": "2023-10-18T07:29:45.026Z"
   },
   {
    "duration": 6,
    "start_time": "2023-10-18T07:29:45.332Z"
   },
   {
    "duration": 82896,
    "start_time": "2023-10-18T07:29:45.339Z"
   },
   {
    "duration": 2,
    "start_time": "2023-10-18T07:31:08.237Z"
   },
   {
    "duration": 95,
    "start_time": "2023-10-18T07:31:08.241Z"
   },
   {
    "duration": 37389,
    "start_time": "2023-10-18T07:31:08.338Z"
   },
   {
    "duration": 4,
    "start_time": "2023-10-18T07:31:45.728Z"
   },
   {
    "duration": 2074509,
    "start_time": "2023-10-18T07:31:45.733Z"
   },
   {
    "duration": 0,
    "start_time": "2023-10-18T08:06:20.244Z"
   },
   {
    "duration": 0,
    "start_time": "2023-10-18T08:06:20.246Z"
   },
   {
    "duration": 0,
    "start_time": "2023-10-18T08:06:20.247Z"
   },
   {
    "duration": 3,
    "start_time": "2023-10-18T08:06:38.131Z"
   },
   {
    "duration": 21,
    "start_time": "2023-10-18T08:06:38.138Z"
   },
   {
    "duration": 24,
    "start_time": "2023-10-18T08:06:38.161Z"
   },
   {
    "duration": 15,
    "start_time": "2023-10-18T08:06:38.186Z"
   },
   {
    "duration": 1910,
    "start_time": "2023-10-18T08:06:38.203Z"
   },
   {
    "duration": 5026,
    "start_time": "2023-10-18T08:06:40.115Z"
   },
   {
    "duration": 268,
    "start_time": "2023-10-18T08:06:45.143Z"
   },
   {
    "duration": 13,
    "start_time": "2023-10-18T08:06:45.412Z"
   },
   {
    "duration": 77902,
    "start_time": "2023-10-18T08:06:45.427Z"
   },
   {
    "duration": 3,
    "start_time": "2023-10-18T08:08:03.331Z"
   },
   {
    "duration": 37,
    "start_time": "2023-10-18T08:08:03.335Z"
   },
   {
    "duration": 32154,
    "start_time": "2023-10-18T08:08:03.374Z"
   },
   {
    "duration": 4,
    "start_time": "2023-10-18T08:08:35.529Z"
   },
   {
    "duration": 47,
    "start_time": "2023-10-18T08:08:35.534Z"
   },
   {
    "duration": 3634,
    "start_time": "2023-10-18T08:08:35.584Z"
   },
   {
    "duration": 2301,
    "start_time": "2023-10-18T08:08:39.224Z"
   },
   {
    "duration": 110,
    "start_time": "2023-10-18T08:08:41.527Z"
   },
   {
    "duration": 3,
    "start_time": "2023-10-18T08:27:25.747Z"
   },
   {
    "duration": 171,
    "start_time": "2023-10-18T08:27:25.752Z"
   },
   {
    "duration": 156,
    "start_time": "2023-10-18T08:27:25.925Z"
   },
   {
    "duration": 141,
    "start_time": "2023-10-18T08:27:26.084Z"
   },
   {
    "duration": 1598,
    "start_time": "2023-10-18T08:27:26.226Z"
   },
   {
    "duration": 4825,
    "start_time": "2023-10-18T08:27:27.826Z"
   },
   {
    "duration": 347,
    "start_time": "2023-10-18T08:27:32.653Z"
   },
   {
    "duration": 150,
    "start_time": "2023-10-18T08:27:33.001Z"
   },
   {
    "duration": 3,
    "start_time": "2023-10-18T08:29:47.771Z"
   },
   {
    "duration": 15,
    "start_time": "2023-10-18T08:29:47.776Z"
   },
   {
    "duration": 34,
    "start_time": "2023-10-18T08:29:47.793Z"
   },
   {
    "duration": 4296,
    "start_time": "2023-10-18T08:29:47.829Z"
   },
   {
    "duration": 1712,
    "start_time": "2023-10-18T08:29:52.127Z"
   },
   {
    "duration": 11896,
    "start_time": "2023-10-18T08:29:53.841Z"
   },
   {
    "duration": 317,
    "start_time": "2023-10-18T08:30:05.739Z"
   },
   {
    "duration": 5,
    "start_time": "2023-10-18T08:30:06.058Z"
   },
   {
    "duration": 104574,
    "start_time": "2023-10-18T08:30:06.065Z"
   },
   {
    "duration": 3,
    "start_time": "2023-10-18T08:31:50.640Z"
   },
   {
    "duration": 36,
    "start_time": "2023-10-18T08:31:50.644Z"
   },
   {
    "duration": 41801,
    "start_time": "2023-10-18T08:31:50.724Z"
   },
   {
    "duration": 4,
    "start_time": "2023-10-18T08:32:32.526Z"
   },
   {
    "duration": 614,
    "start_time": "2023-10-18T08:32:32.532Z"
   },
   {
    "duration": 0,
    "start_time": "2023-10-18T08:32:33.148Z"
   },
   {
    "duration": 0,
    "start_time": "2023-10-18T08:32:33.150Z"
   },
   {
    "duration": 0,
    "start_time": "2023-10-18T08:32:33.152Z"
   },
   {
    "duration": 3,
    "start_time": "2023-10-18T08:33:49.405Z"
   },
   {
    "duration": 26,
    "start_time": "2023-10-18T08:33:49.410Z"
   },
   {
    "duration": 80,
    "start_time": "2023-10-18T08:33:49.438Z"
   },
   {
    "duration": 4577,
    "start_time": "2023-10-18T08:33:49.519Z"
   },
   {
    "duration": 1427,
    "start_time": "2023-10-18T08:33:54.098Z"
   },
   {
    "duration": 4920,
    "start_time": "2023-10-18T08:33:55.526Z"
   },
   {
    "duration": 311,
    "start_time": "2023-10-18T08:34:00.448Z"
   },
   {
    "duration": 4,
    "start_time": "2023-10-18T08:34:00.761Z"
   },
   {
    "duration": 102459,
    "start_time": "2023-10-18T08:34:00.767Z"
   },
   {
    "duration": 2,
    "start_time": "2023-10-18T08:35:43.229Z"
   },
   {
    "duration": 34,
    "start_time": "2023-10-18T08:35:43.233Z"
   },
   {
    "duration": 41657,
    "start_time": "2023-10-18T08:35:43.269Z"
   },
   {
    "duration": 3,
    "start_time": "2023-10-18T08:36:24.929Z"
   },
   {
    "duration": 61774,
    "start_time": "2023-10-18T08:36:24.934Z"
   },
   {
    "duration": 3943,
    "start_time": "2023-10-18T08:37:26.725Z"
   },
   {
    "duration": 2858,
    "start_time": "2023-10-18T08:37:30.670Z"
   },
   {
    "duration": 111,
    "start_time": "2023-10-18T08:37:33.531Z"
   },
   {
    "duration": 4,
    "start_time": "2023-10-18T08:39:30.035Z"
   },
   {
    "duration": 40,
    "start_time": "2023-10-18T08:39:30.040Z"
   },
   {
    "duration": 64,
    "start_time": "2023-10-18T08:39:30.082Z"
   },
   {
    "duration": 4396,
    "start_time": "2023-10-18T08:39:30.147Z"
   },
   {
    "duration": 1940,
    "start_time": "2023-10-18T08:39:34.546Z"
   },
   {
    "duration": 7441,
    "start_time": "2023-10-18T08:39:36.487Z"
   },
   {
    "duration": 0,
    "start_time": "2023-10-18T08:39:43.931Z"
   },
   {
    "duration": 0,
    "start_time": "2023-10-18T08:39:43.933Z"
   },
   {
    "duration": 0,
    "start_time": "2023-10-18T08:39:43.934Z"
   },
   {
    "duration": 0,
    "start_time": "2023-10-18T08:39:43.936Z"
   },
   {
    "duration": 0,
    "start_time": "2023-10-18T08:39:43.937Z"
   },
   {
    "duration": 0,
    "start_time": "2023-10-18T08:39:43.938Z"
   },
   {
    "duration": 0,
    "start_time": "2023-10-18T08:39:43.940Z"
   },
   {
    "duration": 0,
    "start_time": "2023-10-18T08:39:43.941Z"
   },
   {
    "duration": 0,
    "start_time": "2023-10-18T08:39:43.942Z"
   },
   {
    "duration": 0,
    "start_time": "2023-10-18T08:39:43.942Z"
   },
   {
    "duration": 0,
    "start_time": "2023-10-18T08:39:43.944Z"
   },
   {
    "duration": 0,
    "start_time": "2023-10-18T08:39:43.946Z"
   },
   {
    "duration": 0,
    "start_time": "2023-10-18T08:39:43.947Z"
   },
   {
    "duration": 0,
    "start_time": "2023-10-18T08:39:43.948Z"
   },
   {
    "duration": 0,
    "start_time": "2023-10-18T08:39:43.949Z"
   },
   {
    "duration": 0,
    "start_time": "2023-10-18T08:39:43.950Z"
   },
   {
    "duration": 0,
    "start_time": "2023-10-18T08:39:43.952Z"
   },
   {
    "duration": 0,
    "start_time": "2023-10-18T08:39:43.953Z"
   },
   {
    "duration": 0,
    "start_time": "2023-10-18T08:39:43.955Z"
   },
   {
    "duration": 0,
    "start_time": "2023-10-18T08:39:43.956Z"
   },
   {
    "duration": 4,
    "start_time": "2023-10-18T08:40:05.406Z"
   },
   {
    "duration": 31,
    "start_time": "2023-10-18T08:40:05.412Z"
   },
   {
    "duration": 34,
    "start_time": "2023-10-18T08:40:05.445Z"
   },
   {
    "duration": 4503,
    "start_time": "2023-10-18T08:40:05.481Z"
   },
   {
    "duration": 1938,
    "start_time": "2023-10-18T08:40:09.986Z"
   },
   {
    "duration": 5029,
    "start_time": "2023-10-18T08:40:11.925Z"
   },
   {
    "duration": 517,
    "start_time": "2023-10-18T08:40:17.026Z"
   },
   {
    "duration": 4,
    "start_time": "2023-10-18T08:40:17.546Z"
   },
   {
    "duration": 3,
    "start_time": "2023-10-18T08:44:39.591Z"
   },
   {
    "duration": 12,
    "start_time": "2023-10-18T08:44:39.596Z"
   },
   {
    "duration": 28,
    "start_time": "2023-10-18T08:44:39.609Z"
   },
   {
    "duration": 4714,
    "start_time": "2023-10-18T08:44:39.639Z"
   },
   {
    "duration": 1358,
    "start_time": "2023-10-18T08:44:44.356Z"
   },
   {
    "duration": 11714,
    "start_time": "2023-10-18T08:44:45.716Z"
   },
   {
    "duration": 337,
    "start_time": "2023-10-18T08:44:57.432Z"
   },
   {
    "duration": 6,
    "start_time": "2023-10-18T08:44:57.771Z"
   },
   {
    "duration": 131348,
    "start_time": "2023-10-18T08:44:57.779Z"
   },
   {
    "duration": 3,
    "start_time": "2023-10-18T08:47:09.129Z"
   },
   {
    "duration": 46,
    "start_time": "2023-10-18T08:47:09.133Z"
   },
   {
    "duration": 44651,
    "start_time": "2023-10-18T08:47:09.181Z"
   },
   {
    "duration": 90,
    "start_time": "2023-10-18T08:47:53.835Z"
   },
   {
    "duration": 63087,
    "start_time": "2023-10-18T08:47:53.927Z"
   },
   {
    "duration": 3924,
    "start_time": "2023-10-18T08:48:57.023Z"
   },
   {
    "duration": 3478,
    "start_time": "2023-10-18T08:49:00.949Z"
   },
   {
    "duration": 104,
    "start_time": "2023-10-18T08:49:04.428Z"
   },
   {
    "duration": 5043,
    "start_time": "2023-10-18T09:18:17.089Z"
   },
   {
    "duration": 45532,
    "start_time": "2023-10-18T09:18:57.498Z"
   },
   {
    "duration": 3,
    "start_time": "2023-10-18T09:34:12.687Z"
   },
   {
    "duration": 68,
    "start_time": "2023-10-18T09:34:12.692Z"
   },
   {
    "duration": 38,
    "start_time": "2023-10-18T09:34:12.762Z"
   },
   {
    "duration": 4643,
    "start_time": "2023-10-18T09:34:12.803Z"
   },
   {
    "duration": 2203,
    "start_time": "2023-10-18T09:34:17.448Z"
   },
   {
    "duration": 12285,
    "start_time": "2023-10-18T09:34:19.653Z"
   },
   {
    "duration": 342,
    "start_time": "2023-10-18T09:34:31.940Z"
   },
   {
    "duration": 462,
    "start_time": "2023-10-18T09:34:32.284Z"
   },
   {
    "duration": 131582,
    "start_time": "2023-10-18T09:34:32.748Z"
   },
   {
    "duration": 4,
    "start_time": "2023-10-18T09:36:44.332Z"
   },
   {
    "duration": 31,
    "start_time": "2023-10-18T09:36:44.338Z"
   },
   {
    "duration": 45754,
    "start_time": "2023-10-18T09:36:44.371Z"
   },
   {
    "duration": 5,
    "start_time": "2023-10-18T09:37:30.127Z"
   },
   {
    "duration": 4,
    "start_time": "2023-10-18T09:45:33.743Z"
   },
   {
    "duration": 437,
    "start_time": "2023-10-18T09:45:33.749Z"
   },
   {
    "duration": 299,
    "start_time": "2023-10-18T09:45:34.188Z"
   },
   {
    "duration": 4809,
    "start_time": "2023-10-18T09:45:34.489Z"
   },
   {
    "duration": 1898,
    "start_time": "2023-10-18T09:45:39.301Z"
   },
   {
    "duration": 11751,
    "start_time": "2023-10-18T09:45:41.201Z"
   },
   {
    "duration": 370,
    "start_time": "2023-10-18T09:45:52.954Z"
   },
   {
    "duration": 4,
    "start_time": "2023-10-18T09:45:53.326Z"
   },
   {
    "duration": 110314,
    "start_time": "2023-10-18T09:45:53.332Z"
   },
   {
    "duration": 77,
    "start_time": "2023-10-18T09:47:43.647Z"
   },
   {
    "duration": 25,
    "start_time": "2023-10-18T09:47:43.726Z"
   },
   {
    "duration": 45173,
    "start_time": "2023-10-18T09:47:43.753Z"
   },
   {
    "duration": 4,
    "start_time": "2023-10-18T09:48:28.928Z"
   },
   {
    "duration": 60625,
    "start_time": "2023-10-18T09:48:28.935Z"
   },
   {
    "duration": 4325,
    "start_time": "2023-10-18T09:49:29.562Z"
   },
   {
    "duration": 4946,
    "start_time": "2023-10-18T09:49:33.888Z"
   },
   {
    "duration": 102,
    "start_time": "2023-10-18T09:49:38.926Z"
   },
   {
    "duration": 1657,
    "start_time": "2023-10-18T09:49:39.030Z"
   },
   {
    "duration": 85933,
    "start_time": "2023-10-18T09:49:40.688Z"
   },
   {
    "duration": 105,
    "start_time": "2023-10-18T09:51:06.623Z"
   },
   {
    "duration": 6906,
    "start_time": "2023-10-18T09:51:06.730Z"
   },
   {
    "duration": 942848,
    "start_time": "2023-10-18T09:51:13.638Z"
   },
   {
    "duration": 507,
    "start_time": "2023-10-18T10:06:56.487Z"
   },
   {
    "duration": 1474231,
    "start_time": "2023-10-18T10:06:56.996Z"
   },
   {
    "duration": 38580,
    "start_time": "2023-10-18T10:31:31.229Z"
   },
   {
    "duration": 29,
    "start_time": "2023-10-18T10:32:09.810Z"
   },
   {
    "duration": 73642,
    "start_time": "2023-10-18T11:10:36.640Z"
   },
   {
    "duration": 73568,
    "start_time": "2023-10-18T11:12:14.895Z"
   },
   {
    "duration": 11,
    "start_time": "2023-10-18T11:13:28.472Z"
   },
   {
    "duration": 5,
    "start_time": "2023-10-18T11:14:38.407Z"
   },
   {
    "duration": 42,
    "start_time": "2023-10-18T11:14:38.414Z"
   },
   {
    "duration": 42,
    "start_time": "2023-10-18T11:14:38.458Z"
   },
   {
    "duration": 4744,
    "start_time": "2023-10-18T11:14:38.502Z"
   },
   {
    "duration": 2119,
    "start_time": "2023-10-18T11:14:43.248Z"
   },
   {
    "duration": 11972,
    "start_time": "2023-10-18T11:14:45.368Z"
   },
   {
    "duration": 537,
    "start_time": "2023-10-18T11:14:57.342Z"
   },
   {
    "duration": 5,
    "start_time": "2023-10-18T11:14:57.880Z"
   },
   {
    "duration": 3,
    "start_time": "2023-10-18T11:34:25.016Z"
   },
   {
    "duration": 91,
    "start_time": "2023-10-18T11:34:25.020Z"
   },
   {
    "duration": 41,
    "start_time": "2023-10-18T11:34:25.113Z"
   },
   {
    "duration": 5231,
    "start_time": "2023-10-18T11:34:25.156Z"
   },
   {
    "duration": 2014,
    "start_time": "2023-10-18T11:34:30.390Z"
   },
   {
    "duration": 11736,
    "start_time": "2023-10-18T11:34:32.406Z"
   },
   {
    "duration": 427,
    "start_time": "2023-10-18T11:34:44.145Z"
   },
   {
    "duration": 5,
    "start_time": "2023-10-18T11:34:44.573Z"
   },
   {
    "duration": 4,
    "start_time": "2023-10-18T11:55:16.556Z"
   },
   {
    "duration": 234,
    "start_time": "2023-10-18T11:55:16.562Z"
   },
   {
    "duration": 194,
    "start_time": "2023-10-18T11:55:16.797Z"
   },
   {
    "duration": 5441,
    "start_time": "2023-10-18T11:55:16.994Z"
   },
   {
    "duration": 1769,
    "start_time": "2023-10-18T11:55:22.437Z"
   },
   {
    "duration": 12524,
    "start_time": "2023-10-18T11:55:24.208Z"
   },
   {
    "duration": 404,
    "start_time": "2023-10-18T11:55:36.734Z"
   },
   {
    "duration": 5,
    "start_time": "2023-10-18T11:55:37.139Z"
   },
   {
    "duration": 157092,
    "start_time": "2023-10-18T11:55:37.146Z"
   },
   {
    "duration": 2,
    "start_time": "2023-10-18T11:58:14.241Z"
   },
   {
    "duration": 91,
    "start_time": "2023-10-18T11:58:14.245Z"
   },
   {
    "duration": 48589,
    "start_time": "2023-10-18T11:58:14.338Z"
   },
   {
    "duration": 4,
    "start_time": "2023-10-18T11:59:02.929Z"
   },
   {
    "duration": 5,
    "start_time": "2023-10-18T12:24:47.635Z"
   },
   {
    "duration": 80,
    "start_time": "2023-10-18T12:24:47.642Z"
   },
   {
    "duration": 38,
    "start_time": "2023-10-18T12:24:47.725Z"
   },
   {
    "duration": 5833,
    "start_time": "2023-10-18T12:24:47.765Z"
   },
   {
    "duration": 1765,
    "start_time": "2023-10-18T12:24:53.601Z"
   },
   {
    "duration": 11969,
    "start_time": "2023-10-18T12:24:55.368Z"
   },
   {
    "duration": 419,
    "start_time": "2023-10-18T12:25:07.339Z"
   },
   {
    "duration": 2,
    "start_time": "2023-10-18T12:25:07.760Z"
   },
   {
    "duration": 65,
    "start_time": "2023-10-18T12:25:07.764Z"
   },
   {
    "duration": 185517,
    "start_time": "2023-10-18T12:25:07.831Z"
   },
   {
    "duration": 3,
    "start_time": "2023-10-18T13:41:24.661Z"
   },
   {
    "duration": 36,
    "start_time": "2023-10-18T13:41:24.666Z"
   },
   {
    "duration": 16,
    "start_time": "2023-10-18T13:41:24.704Z"
   },
   {
    "duration": 4418,
    "start_time": "2023-10-18T13:41:24.722Z"
   },
   {
    "duration": 2531,
    "start_time": "2023-10-18T13:41:29.142Z"
   },
   {
    "duration": 4,
    "start_time": "2023-10-18T13:41:46.071Z"
   },
   {
    "duration": 16,
    "start_time": "2023-10-18T13:41:46.077Z"
   },
   {
    "duration": 12,
    "start_time": "2023-10-18T13:41:46.094Z"
   },
   {
    "duration": 4714,
    "start_time": "2023-10-18T13:41:46.108Z"
   },
   {
    "duration": 1625,
    "start_time": "2023-10-18T13:41:50.823Z"
   },
   {
    "duration": 5183,
    "start_time": "2023-10-18T13:41:52.449Z"
   },
   {
    "duration": 304,
    "start_time": "2023-10-18T13:41:57.634Z"
   },
   {
    "duration": 2,
    "start_time": "2023-10-18T13:41:57.940Z"
   },
   {
    "duration": 78,
    "start_time": "2023-10-18T13:41:57.944Z"
   },
   {
    "duration": 139830,
    "start_time": "2023-10-18T13:41:58.025Z"
   },
   {
    "duration": 95,
    "start_time": "2023-10-18T13:44:17.856Z"
   },
   {
    "duration": 51826,
    "start_time": "2023-10-18T13:44:17.952Z"
   },
   {
    "duration": 4,
    "start_time": "2023-10-18T13:45:09.780Z"
   }
  ],
  "accelerator": "GPU",
  "colab": {
   "gpuType": "T4",
   "provenance": []
  },
  "kernelspec": {
   "display_name": "Python 3 (ipykernel)",
   "language": "python",
   "name": "python3"
  },
  "language_info": {
   "codemirror_mode": {
    "name": "ipython",
    "version": 3
   },
   "file_extension": ".py",
   "mimetype": "text/x-python",
   "name": "python",
   "nbconvert_exporter": "python",
   "pygments_lexer": "ipython3",
   "version": "3.9.18"
  },
  "toc": {
   "base_numbering": 1,
   "nav_menu": {},
   "number_sections": true,
   "sideBar": true,
   "skip_h1_title": true,
   "title_cell": "Содержание",
   "title_sidebar": "Contents",
   "toc_cell": true,
   "toc_position": {
    "height": "calc(100% - 180px)",
    "left": "10px",
    "top": "150px",
    "width": "302.391px"
   },
   "toc_section_display": true,
   "toc_window_display": true
  },
  "widgets": {
   "application/vnd.jupyter.widget-state+json": {
    "0125b04921104c86adf889a7b242f64e": {
     "model_module": "@jupyter-widgets/base",
     "model_module_version": "1.2.0",
     "model_name": "LayoutModel",
     "state": {
      "_model_module": "@jupyter-widgets/base",
      "_model_module_version": "1.2.0",
      "_model_name": "LayoutModel",
      "_view_count": null,
      "_view_module": "@jupyter-widgets/base",
      "_view_module_version": "1.2.0",
      "_view_name": "LayoutView",
      "align_content": null,
      "align_items": null,
      "align_self": null,
      "border": null,
      "bottom": null,
      "display": null,
      "flex": null,
      "flex_flow": null,
      "grid_area": null,
      "grid_auto_columns": null,
      "grid_auto_flow": null,
      "grid_auto_rows": null,
      "grid_column": null,
      "grid_gap": null,
      "grid_row": null,
      "grid_template_areas": null,
      "grid_template_columns": null,
      "grid_template_rows": null,
      "height": null,
      "justify_content": null,
      "justify_items": null,
      "left": null,
      "margin": null,
      "max_height": null,
      "max_width": null,
      "min_height": null,
      "min_width": null,
      "object_fit": null,
      "object_position": null,
      "order": null,
      "overflow": null,
      "overflow_x": null,
      "overflow_y": null,
      "padding": null,
      "right": null,
      "top": null,
      "visibility": null,
      "width": null
     }
    },
    "128a1a6ef0ca419da449411158d66b05": {
     "model_module": "@jupyter-widgets/base",
     "model_module_version": "1.2.0",
     "model_name": "LayoutModel",
     "state": {
      "_model_module": "@jupyter-widgets/base",
      "_model_module_version": "1.2.0",
      "_model_name": "LayoutModel",
      "_view_count": null,
      "_view_module": "@jupyter-widgets/base",
      "_view_module_version": "1.2.0",
      "_view_name": "LayoutView",
      "align_content": null,
      "align_items": null,
      "align_self": null,
      "border": null,
      "bottom": null,
      "display": null,
      "flex": null,
      "flex_flow": null,
      "grid_area": null,
      "grid_auto_columns": null,
      "grid_auto_flow": null,
      "grid_auto_rows": null,
      "grid_column": null,
      "grid_gap": null,
      "grid_row": null,
      "grid_template_areas": null,
      "grid_template_columns": null,
      "grid_template_rows": null,
      "height": null,
      "justify_content": null,
      "justify_items": null,
      "left": null,
      "margin": null,
      "max_height": null,
      "max_width": null,
      "min_height": null,
      "min_width": null,
      "object_fit": null,
      "object_position": null,
      "order": null,
      "overflow": null,
      "overflow_x": null,
      "overflow_y": null,
      "padding": null,
      "right": null,
      "top": null,
      "visibility": null,
      "width": "20px"
     }
    },
    "164a7b45d8e3473185e9a9e3aeecfb4a": {
     "model_module": "@jupyter-widgets/controls",
     "model_module_version": "1.5.0",
     "model_name": "DescriptionStyleModel",
     "state": {
      "_model_module": "@jupyter-widgets/controls",
      "_model_module_version": "1.5.0",
      "_model_name": "DescriptionStyleModel",
      "_view_count": null,
      "_view_module": "@jupyter-widgets/base",
      "_view_module_version": "1.2.0",
      "_view_name": "StyleView",
      "description_width": ""
     }
    },
    "24519ff32ab74fe4b159a9b1d2606af2": {
     "model_module": "@jupyter-widgets/base",
     "model_module_version": "1.2.0",
     "model_name": "LayoutModel",
     "state": {
      "_model_module": "@jupyter-widgets/base",
      "_model_module_version": "1.2.0",
      "_model_name": "LayoutModel",
      "_view_count": null,
      "_view_module": "@jupyter-widgets/base",
      "_view_module_version": "1.2.0",
      "_view_name": "LayoutView",
      "align_content": null,
      "align_items": null,
      "align_self": null,
      "border": null,
      "bottom": null,
      "display": null,
      "flex": null,
      "flex_flow": null,
      "grid_area": null,
      "grid_auto_columns": null,
      "grid_auto_flow": null,
      "grid_auto_rows": null,
      "grid_column": null,
      "grid_gap": null,
      "grid_row": null,
      "grid_template_areas": null,
      "grid_template_columns": null,
      "grid_template_rows": null,
      "height": null,
      "justify_content": null,
      "justify_items": null,
      "left": null,
      "margin": null,
      "max_height": null,
      "max_width": null,
      "min_height": null,
      "min_width": null,
      "object_fit": null,
      "object_position": null,
      "order": null,
      "overflow": null,
      "overflow_x": null,
      "overflow_y": null,
      "padding": null,
      "right": null,
      "top": null,
      "visibility": null,
      "width": null
     }
    },
    "2b6e4b61a592489fa60e0a40f9406fda": {
     "model_module": "@jupyter-widgets/base",
     "model_module_version": "1.2.0",
     "model_name": "LayoutModel",
     "state": {
      "_model_module": "@jupyter-widgets/base",
      "_model_module_version": "1.2.0",
      "_model_name": "LayoutModel",
      "_view_count": null,
      "_view_module": "@jupyter-widgets/base",
      "_view_module_version": "1.2.0",
      "_view_name": "LayoutView",
      "align_content": null,
      "align_items": null,
      "align_self": null,
      "border": null,
      "bottom": null,
      "display": null,
      "flex": null,
      "flex_flow": null,
      "grid_area": null,
      "grid_auto_columns": null,
      "grid_auto_flow": null,
      "grid_auto_rows": null,
      "grid_column": null,
      "grid_gap": null,
      "grid_row": null,
      "grid_template_areas": null,
      "grid_template_columns": null,
      "grid_template_rows": null,
      "height": null,
      "justify_content": null,
      "justify_items": null,
      "left": null,
      "margin": null,
      "max_height": null,
      "max_width": null,
      "min_height": null,
      "min_width": null,
      "object_fit": null,
      "object_position": null,
      "order": null,
      "overflow": null,
      "overflow_x": null,
      "overflow_y": null,
      "padding": null,
      "right": null,
      "top": null,
      "visibility": null,
      "width": null
     }
    },
    "3aac8b1bc6e94eda8c5618192f69d5a1": {
     "model_module": "@jupyter-widgets/controls",
     "model_module_version": "1.5.0",
     "model_name": "FloatProgressModel",
     "state": {
      "_dom_classes": [],
      "_model_module": "@jupyter-widgets/controls",
      "_model_module_version": "1.5.0",
      "_model_name": "FloatProgressModel",
      "_view_count": null,
      "_view_module": "@jupyter-widgets/controls",
      "_view_module_version": "1.5.0",
      "_view_name": "ProgressView",
      "bar_style": "success",
      "description": "",
      "description_tooltip": null,
      "layout": "IPY_MODEL_0125b04921104c86adf889a7b242f64e",
      "max": 25000,
      "min": 0,
      "orientation": "horizontal",
      "style": "IPY_MODEL_ad503953755c4f93a64154cc647e3b31",
      "value": 25000
     }
    },
    "3d99cbe7b6d4437baa8294c75313e3e3": {
     "model_module": "@jupyter-widgets/controls",
     "model_module_version": "1.5.0",
     "model_name": "DescriptionStyleModel",
     "state": {
      "_model_module": "@jupyter-widgets/controls",
      "_model_module_version": "1.5.0",
      "_model_name": "DescriptionStyleModel",
      "_view_count": null,
      "_view_module": "@jupyter-widgets/base",
      "_view_module_version": "1.2.0",
      "_view_name": "StyleView",
      "description_width": ""
     }
    },
    "4b71380d04eb441883ebc12dce57ae28": {
     "model_module": "@jupyter-widgets/controls",
     "model_module_version": "1.5.0",
     "model_name": "HTMLModel",
     "state": {
      "_dom_classes": [],
      "_model_module": "@jupyter-widgets/controls",
      "_model_module_version": "1.5.0",
      "_model_name": "HTMLModel",
      "_view_count": null,
      "_view_module": "@jupyter-widgets/controls",
      "_view_module_version": "1.5.0",
      "_view_name": "HTMLView",
      "description": "",
      "description_tooltip": null,
      "layout": "IPY_MODEL_b3de17ecdc6c4949aaac4c0259ec8047",
      "placeholder": "​",
      "style": "IPY_MODEL_4d9db5b24e5d42f79b2c828634258152",
      "value": " 1563/1563 [01:46&lt;00:00, 16.41it/s]"
     }
    },
    "4d9db5b24e5d42f79b2c828634258152": {
     "model_module": "@jupyter-widgets/controls",
     "model_module_version": "1.5.0",
     "model_name": "DescriptionStyleModel",
     "state": {
      "_model_module": "@jupyter-widgets/controls",
      "_model_module_version": "1.5.0",
      "_model_name": "DescriptionStyleModel",
      "_view_count": null,
      "_view_module": "@jupyter-widgets/base",
      "_view_module_version": "1.2.0",
      "_view_name": "StyleView",
      "description_width": ""
     }
    },
    "661c2fc7e57242d79c73a81dc910e01b": {
     "model_module": "@jupyter-widgets/controls",
     "model_module_version": "1.5.0",
     "model_name": "ProgressStyleModel",
     "state": {
      "_model_module": "@jupyter-widgets/controls",
      "_model_module_version": "1.5.0",
      "_model_name": "ProgressStyleModel",
      "_view_count": null,
      "_view_module": "@jupyter-widgets/base",
      "_view_module_version": "1.2.0",
      "_view_name": "StyleView",
      "bar_color": null,
      "description_width": ""
     }
    },
    "6a3f5ed664f347a88981bd1e14aa9c10": {
     "model_module": "@jupyter-widgets/controls",
     "model_module_version": "1.5.0",
     "model_name": "HBoxModel",
     "state": {
      "_dom_classes": [],
      "_model_module": "@jupyter-widgets/controls",
      "_model_module_version": "1.5.0",
      "_model_name": "HBoxModel",
      "_view_count": null,
      "_view_module": "@jupyter-widgets/controls",
      "_view_module_version": "1.5.0",
      "_view_name": "HBoxView",
      "box_style": "",
      "children": [
       "IPY_MODEL_780f6e8bc3264141b30a3e4a355efe9c",
       "IPY_MODEL_e476e11ed5fd49f99a897f8b8458ab79",
       "IPY_MODEL_4b71380d04eb441883ebc12dce57ae28"
      ],
      "layout": "IPY_MODEL_c695ce8c96b64cf5a601e90fb0a3b2df"
     }
    },
    "6c185bd7aa4f4349a603e9cec0ce75f2": {
     "model_module": "@jupyter-widgets/base",
     "model_module_version": "1.2.0",
     "model_name": "LayoutModel",
     "state": {
      "_model_module": "@jupyter-widgets/base",
      "_model_module_version": "1.2.0",
      "_model_name": "LayoutModel",
      "_view_count": null,
      "_view_module": "@jupyter-widgets/base",
      "_view_module_version": "1.2.0",
      "_view_name": "LayoutView",
      "align_content": null,
      "align_items": null,
      "align_self": null,
      "border": null,
      "bottom": null,
      "display": null,
      "flex": null,
      "flex_flow": null,
      "grid_area": null,
      "grid_auto_columns": null,
      "grid_auto_flow": null,
      "grid_auto_rows": null,
      "grid_column": null,
      "grid_gap": null,
      "grid_row": null,
      "grid_template_areas": null,
      "grid_template_columns": null,
      "grid_template_rows": null,
      "height": null,
      "justify_content": null,
      "justify_items": null,
      "left": null,
      "margin": null,
      "max_height": null,
      "max_width": null,
      "min_height": null,
      "min_width": null,
      "object_fit": null,
      "object_position": null,
      "order": null,
      "overflow": null,
      "overflow_x": null,
      "overflow_y": null,
      "padding": null,
      "right": null,
      "top": null,
      "visibility": null,
      "width": null
     }
    },
    "72419da77e19464bb5261a3e75b53d6b": {
     "model_module": "@jupyter-widgets/controls",
     "model_module_version": "1.5.0",
     "model_name": "DescriptionStyleModel",
     "state": {
      "_model_module": "@jupyter-widgets/controls",
      "_model_module_version": "1.5.0",
      "_model_name": "DescriptionStyleModel",
      "_view_count": null,
      "_view_module": "@jupyter-widgets/base",
      "_view_module_version": "1.2.0",
      "_view_name": "StyleView",
      "description_width": ""
     }
    },
    "77f549379bc44a28b57ca403010e119e": {
     "model_module": "@jupyter-widgets/controls",
     "model_module_version": "1.5.0",
     "model_name": "HBoxModel",
     "state": {
      "_dom_classes": [],
      "_model_module": "@jupyter-widgets/controls",
      "_model_module_version": "1.5.0",
      "_model_name": "HBoxModel",
      "_view_count": null,
      "_view_module": "@jupyter-widgets/controls",
      "_view_module_version": "1.5.0",
      "_view_name": "HBoxView",
      "box_style": "",
      "children": [
       "IPY_MODEL_891ee752f0d4460db7733cdd88017f83",
       "IPY_MODEL_84bd88810b7f456598c20fcb1772029c",
       "IPY_MODEL_fd6f9784bc96406993c847d0d55705c0"
      ],
      "layout": "IPY_MODEL_24519ff32ab74fe4b159a9b1d2606af2"
     }
    },
    "780f6e8bc3264141b30a3e4a355efe9c": {
     "model_module": "@jupyter-widgets/controls",
     "model_module_version": "1.5.0",
     "model_name": "HTMLModel",
     "state": {
      "_dom_classes": [],
      "_model_module": "@jupyter-widgets/controls",
      "_model_module_version": "1.5.0",
      "_model_name": "HTMLModel",
      "_view_count": null,
      "_view_module": "@jupyter-widgets/controls",
      "_view_module_version": "1.5.0",
      "_view_name": "HTMLView",
      "description": "",
      "description_tooltip": null,
      "layout": "IPY_MODEL_c9abf279bd31406681da140e588650c4",
      "placeholder": "​",
      "style": "IPY_MODEL_72419da77e19464bb5261a3e75b53d6b",
      "value": "100%"
     }
    },
    "82d27afa3b754459a3d4b6a4b4f41537": {
     "model_module": "@jupyter-widgets/controls",
     "model_module_version": "1.5.0",
     "model_name": "HTMLModel",
     "state": {
      "_dom_classes": [],
      "_model_module": "@jupyter-widgets/controls",
      "_model_module_version": "1.5.0",
      "_model_name": "HTMLModel",
      "_view_count": null,
      "_view_module": "@jupyter-widgets/controls",
      "_view_module_version": "1.5.0",
      "_view_name": "HTMLView",
      "description": "",
      "description_tooltip": null,
      "layout": "IPY_MODEL_6c185bd7aa4f4349a603e9cec0ce75f2",
      "placeholder": "​",
      "style": "IPY_MODEL_87945be82b2d44dabbd90e6d44ee9134",
      "value": " 25000/25000 [01:12&lt;00:00, 340.45it/s]"
     }
    },
    "84bd88810b7f456598c20fcb1772029c": {
     "model_module": "@jupyter-widgets/controls",
     "model_module_version": "1.5.0",
     "model_name": "FloatProgressModel",
     "state": {
      "_dom_classes": [],
      "_model_module": "@jupyter-widgets/controls",
      "_model_module_version": "1.5.0",
      "_model_name": "FloatProgressModel",
      "_view_count": null,
      "_view_module": "@jupyter-widgets/controls",
      "_view_module_version": "1.5.0",
      "_view_name": "ProgressView",
      "bar_style": "success",
      "description": "",
      "description_tooltip": null,
      "layout": "IPY_MODEL_128a1a6ef0ca419da449411158d66b05",
      "max": 1,
      "min": 0,
      "orientation": "horizontal",
      "style": "IPY_MODEL_b6fe142a96cd4bdda3a1e370d52d2a83",
      "value": 0
     }
    },
    "87945be82b2d44dabbd90e6d44ee9134": {
     "model_module": "@jupyter-widgets/controls",
     "model_module_version": "1.5.0",
     "model_name": "DescriptionStyleModel",
     "state": {
      "_model_module": "@jupyter-widgets/controls",
      "_model_module_version": "1.5.0",
      "_model_name": "DescriptionStyleModel",
      "_view_count": null,
      "_view_module": "@jupyter-widgets/base",
      "_view_module_version": "1.2.0",
      "_view_name": "StyleView",
      "description_width": ""
     }
    },
    "891ee752f0d4460db7733cdd88017f83": {
     "model_module": "@jupyter-widgets/controls",
     "model_module_version": "1.5.0",
     "model_name": "HTMLModel",
     "state": {
      "_dom_classes": [],
      "_model_module": "@jupyter-widgets/controls",
      "_model_module_version": "1.5.0",
      "_model_name": "HTMLModel",
      "_view_count": null,
      "_view_module": "@jupyter-widgets/controls",
      "_view_module_version": "1.5.0",
      "_view_name": "HTMLView",
      "description": "",
      "description_tooltip": null,
      "layout": "IPY_MODEL_2b6e4b61a592489fa60e0a40f9406fda",
      "placeholder": "​",
      "style": "IPY_MODEL_164a7b45d8e3473185e9a9e3aeecfb4a",
      "value": ""
     }
    },
    "ad503953755c4f93a64154cc647e3b31": {
     "model_module": "@jupyter-widgets/controls",
     "model_module_version": "1.5.0",
     "model_name": "ProgressStyleModel",
     "state": {
      "_model_module": "@jupyter-widgets/controls",
      "_model_module_version": "1.5.0",
      "_model_name": "ProgressStyleModel",
      "_view_count": null,
      "_view_module": "@jupyter-widgets/base",
      "_view_module_version": "1.2.0",
      "_view_name": "StyleView",
      "bar_color": null,
      "description_width": ""
     }
    },
    "af9cf9c5f3a14986b15a41fb4e261bdd": {
     "model_module": "@jupyter-widgets/base",
     "model_module_version": "1.2.0",
     "model_name": "LayoutModel",
     "state": {
      "_model_module": "@jupyter-widgets/base",
      "_model_module_version": "1.2.0",
      "_model_name": "LayoutModel",
      "_view_count": null,
      "_view_module": "@jupyter-widgets/base",
      "_view_module_version": "1.2.0",
      "_view_name": "LayoutView",
      "align_content": null,
      "align_items": null,
      "align_self": null,
      "border": null,
      "bottom": null,
      "display": null,
      "flex": null,
      "flex_flow": null,
      "grid_area": null,
      "grid_auto_columns": null,
      "grid_auto_flow": null,
      "grid_auto_rows": null,
      "grid_column": null,
      "grid_gap": null,
      "grid_row": null,
      "grid_template_areas": null,
      "grid_template_columns": null,
      "grid_template_rows": null,
      "height": null,
      "justify_content": null,
      "justify_items": null,
      "left": null,
      "margin": null,
      "max_height": null,
      "max_width": null,
      "min_height": null,
      "min_width": null,
      "object_fit": null,
      "object_position": null,
      "order": null,
      "overflow": null,
      "overflow_x": null,
      "overflow_y": null,
      "padding": null,
      "right": null,
      "top": null,
      "visibility": null,
      "width": null
     }
    },
    "b05223c60dec473aaa8cd87ea543f4ce": {
     "model_module": "@jupyter-widgets/base",
     "model_module_version": "1.2.0",
     "model_name": "LayoutModel",
     "state": {
      "_model_module": "@jupyter-widgets/base",
      "_model_module_version": "1.2.0",
      "_model_name": "LayoutModel",
      "_view_count": null,
      "_view_module": "@jupyter-widgets/base",
      "_view_module_version": "1.2.0",
      "_view_name": "LayoutView",
      "align_content": null,
      "align_items": null,
      "align_self": null,
      "border": null,
      "bottom": null,
      "display": null,
      "flex": null,
      "flex_flow": null,
      "grid_area": null,
      "grid_auto_columns": null,
      "grid_auto_flow": null,
      "grid_auto_rows": null,
      "grid_column": null,
      "grid_gap": null,
      "grid_row": null,
      "grid_template_areas": null,
      "grid_template_columns": null,
      "grid_template_rows": null,
      "height": null,
      "justify_content": null,
      "justify_items": null,
      "left": null,
      "margin": null,
      "max_height": null,
      "max_width": null,
      "min_height": null,
      "min_width": null,
      "object_fit": null,
      "object_position": null,
      "order": null,
      "overflow": null,
      "overflow_x": null,
      "overflow_y": null,
      "padding": null,
      "right": null,
      "top": null,
      "visibility": null,
      "width": null
     }
    },
    "b3de17ecdc6c4949aaac4c0259ec8047": {
     "model_module": "@jupyter-widgets/base",
     "model_module_version": "1.2.0",
     "model_name": "LayoutModel",
     "state": {
      "_model_module": "@jupyter-widgets/base",
      "_model_module_version": "1.2.0",
      "_model_name": "LayoutModel",
      "_view_count": null,
      "_view_module": "@jupyter-widgets/base",
      "_view_module_version": "1.2.0",
      "_view_name": "LayoutView",
      "align_content": null,
      "align_items": null,
      "align_self": null,
      "border": null,
      "bottom": null,
      "display": null,
      "flex": null,
      "flex_flow": null,
      "grid_area": null,
      "grid_auto_columns": null,
      "grid_auto_flow": null,
      "grid_auto_rows": null,
      "grid_column": null,
      "grid_gap": null,
      "grid_row": null,
      "grid_template_areas": null,
      "grid_template_columns": null,
      "grid_template_rows": null,
      "height": null,
      "justify_content": null,
      "justify_items": null,
      "left": null,
      "margin": null,
      "max_height": null,
      "max_width": null,
      "min_height": null,
      "min_width": null,
      "object_fit": null,
      "object_position": null,
      "order": null,
      "overflow": null,
      "overflow_x": null,
      "overflow_y": null,
      "padding": null,
      "right": null,
      "top": null,
      "visibility": null,
      "width": null
     }
    },
    "b6fe142a96cd4bdda3a1e370d52d2a83": {
     "model_module": "@jupyter-widgets/controls",
     "model_module_version": "1.5.0",
     "model_name": "ProgressStyleModel",
     "state": {
      "_model_module": "@jupyter-widgets/controls",
      "_model_module_version": "1.5.0",
      "_model_name": "ProgressStyleModel",
      "_view_count": null,
      "_view_module": "@jupyter-widgets/base",
      "_view_module_version": "1.2.0",
      "_view_name": "StyleView",
      "bar_color": null,
      "description_width": ""
     }
    },
    "c695ce8c96b64cf5a601e90fb0a3b2df": {
     "model_module": "@jupyter-widgets/base",
     "model_module_version": "1.2.0",
     "model_name": "LayoutModel",
     "state": {
      "_model_module": "@jupyter-widgets/base",
      "_model_module_version": "1.2.0",
      "_model_name": "LayoutModel",
      "_view_count": null,
      "_view_module": "@jupyter-widgets/base",
      "_view_module_version": "1.2.0",
      "_view_name": "LayoutView",
      "align_content": null,
      "align_items": null,
      "align_self": null,
      "border": null,
      "bottom": null,
      "display": null,
      "flex": null,
      "flex_flow": null,
      "grid_area": null,
      "grid_auto_columns": null,
      "grid_auto_flow": null,
      "grid_auto_rows": null,
      "grid_column": null,
      "grid_gap": null,
      "grid_row": null,
      "grid_template_areas": null,
      "grid_template_columns": null,
      "grid_template_rows": null,
      "height": null,
      "justify_content": null,
      "justify_items": null,
      "left": null,
      "margin": null,
      "max_height": null,
      "max_width": null,
      "min_height": null,
      "min_width": null,
      "object_fit": null,
      "object_position": null,
      "order": null,
      "overflow": null,
      "overflow_x": null,
      "overflow_y": null,
      "padding": null,
      "right": null,
      "top": null,
      "visibility": null,
      "width": null
     }
    },
    "c9abf279bd31406681da140e588650c4": {
     "model_module": "@jupyter-widgets/base",
     "model_module_version": "1.2.0",
     "model_name": "LayoutModel",
     "state": {
      "_model_module": "@jupyter-widgets/base",
      "_model_module_version": "1.2.0",
      "_model_name": "LayoutModel",
      "_view_count": null,
      "_view_module": "@jupyter-widgets/base",
      "_view_module_version": "1.2.0",
      "_view_name": "LayoutView",
      "align_content": null,
      "align_items": null,
      "align_self": null,
      "border": null,
      "bottom": null,
      "display": null,
      "flex": null,
      "flex_flow": null,
      "grid_area": null,
      "grid_auto_columns": null,
      "grid_auto_flow": null,
      "grid_auto_rows": null,
      "grid_column": null,
      "grid_gap": null,
      "grid_row": null,
      "grid_template_areas": null,
      "grid_template_columns": null,
      "grid_template_rows": null,
      "height": null,
      "justify_content": null,
      "justify_items": null,
      "left": null,
      "margin": null,
      "max_height": null,
      "max_width": null,
      "min_height": null,
      "min_width": null,
      "object_fit": null,
      "object_position": null,
      "order": null,
      "overflow": null,
      "overflow_x": null,
      "overflow_y": null,
      "padding": null,
      "right": null,
      "top": null,
      "visibility": null,
      "width": null
     }
    },
    "d970dc5e02924394b088eb8c869167e3": {
     "model_module": "@jupyter-widgets/base",
     "model_module_version": "1.2.0",
     "model_name": "LayoutModel",
     "state": {
      "_model_module": "@jupyter-widgets/base",
      "_model_module_version": "1.2.0",
      "_model_name": "LayoutModel",
      "_view_count": null,
      "_view_module": "@jupyter-widgets/base",
      "_view_module_version": "1.2.0",
      "_view_name": "LayoutView",
      "align_content": null,
      "align_items": null,
      "align_self": null,
      "border": null,
      "bottom": null,
      "display": null,
      "flex": null,
      "flex_flow": null,
      "grid_area": null,
      "grid_auto_columns": null,
      "grid_auto_flow": null,
      "grid_auto_rows": null,
      "grid_column": null,
      "grid_gap": null,
      "grid_row": null,
      "grid_template_areas": null,
      "grid_template_columns": null,
      "grid_template_rows": null,
      "height": null,
      "justify_content": null,
      "justify_items": null,
      "left": null,
      "margin": null,
      "max_height": null,
      "max_width": null,
      "min_height": null,
      "min_width": null,
      "object_fit": null,
      "object_position": null,
      "order": null,
      "overflow": null,
      "overflow_x": null,
      "overflow_y": null,
      "padding": null,
      "right": null,
      "top": null,
      "visibility": null,
      "width": null
     }
    },
    "dcd8826235084ba096872ad1fe0bbd48": {
     "model_module": "@jupyter-widgets/base",
     "model_module_version": "1.2.0",
     "model_name": "LayoutModel",
     "state": {
      "_model_module": "@jupyter-widgets/base",
      "_model_module_version": "1.2.0",
      "_model_name": "LayoutModel",
      "_view_count": null,
      "_view_module": "@jupyter-widgets/base",
      "_view_module_version": "1.2.0",
      "_view_name": "LayoutView",
      "align_content": null,
      "align_items": null,
      "align_self": null,
      "border": null,
      "bottom": null,
      "display": null,
      "flex": null,
      "flex_flow": null,
      "grid_area": null,
      "grid_auto_columns": null,
      "grid_auto_flow": null,
      "grid_auto_rows": null,
      "grid_column": null,
      "grid_gap": null,
      "grid_row": null,
      "grid_template_areas": null,
      "grid_template_columns": null,
      "grid_template_rows": null,
      "height": null,
      "justify_content": null,
      "justify_items": null,
      "left": null,
      "margin": null,
      "max_height": null,
      "max_width": null,
      "min_height": null,
      "min_width": null,
      "object_fit": null,
      "object_position": null,
      "order": null,
      "overflow": null,
      "overflow_x": null,
      "overflow_y": null,
      "padding": null,
      "right": null,
      "top": null,
      "visibility": null,
      "width": null
     }
    },
    "e476e11ed5fd49f99a897f8b8458ab79": {
     "model_module": "@jupyter-widgets/controls",
     "model_module_version": "1.5.0",
     "model_name": "FloatProgressModel",
     "state": {
      "_dom_classes": [],
      "_model_module": "@jupyter-widgets/controls",
      "_model_module_version": "1.5.0",
      "_model_name": "FloatProgressModel",
      "_view_count": null,
      "_view_module": "@jupyter-widgets/controls",
      "_view_module_version": "1.5.0",
      "_view_name": "ProgressView",
      "bar_style": "success",
      "description": "",
      "description_tooltip": null,
      "layout": "IPY_MODEL_b05223c60dec473aaa8cd87ea543f4ce",
      "max": 1563,
      "min": 0,
      "orientation": "horizontal",
      "style": "IPY_MODEL_661c2fc7e57242d79c73a81dc910e01b",
      "value": 1563
     }
    },
    "e72e3d94ed4a482ebbca841e949679c2": {
     "model_module": "@jupyter-widgets/controls",
     "model_module_version": "1.5.0",
     "model_name": "DescriptionStyleModel",
     "state": {
      "_model_module": "@jupyter-widgets/controls",
      "_model_module_version": "1.5.0",
      "_model_name": "DescriptionStyleModel",
      "_view_count": null,
      "_view_module": "@jupyter-widgets/base",
      "_view_module_version": "1.2.0",
      "_view_name": "StyleView",
      "description_width": ""
     }
    },
    "f2dec8090c0c4c17a53d337207254716": {
     "model_module": "@jupyter-widgets/controls",
     "model_module_version": "1.5.0",
     "model_name": "HTMLModel",
     "state": {
      "_dom_classes": [],
      "_model_module": "@jupyter-widgets/controls",
      "_model_module_version": "1.5.0",
      "_model_name": "HTMLModel",
      "_view_count": null,
      "_view_module": "@jupyter-widgets/controls",
      "_view_module_version": "1.5.0",
      "_view_name": "HTMLView",
      "description": "",
      "description_tooltip": null,
      "layout": "IPY_MODEL_af9cf9c5f3a14986b15a41fb4e261bdd",
      "placeholder": "​",
      "style": "IPY_MODEL_3d99cbe7b6d4437baa8294c75313e3e3",
      "value": "100%"
     }
    },
    "fcd9a0512d2c46b6b3ababe84a5ddb5f": {
     "model_module": "@jupyter-widgets/controls",
     "model_module_version": "1.5.0",
     "model_name": "HBoxModel",
     "state": {
      "_dom_classes": [],
      "_model_module": "@jupyter-widgets/controls",
      "_model_module_version": "1.5.0",
      "_model_name": "HBoxModel",
      "_view_count": null,
      "_view_module": "@jupyter-widgets/controls",
      "_view_module_version": "1.5.0",
      "_view_name": "HBoxView",
      "box_style": "",
      "children": [
       "IPY_MODEL_f2dec8090c0c4c17a53d337207254716",
       "IPY_MODEL_3aac8b1bc6e94eda8c5618192f69d5a1",
       "IPY_MODEL_82d27afa3b754459a3d4b6a4b4f41537"
      ],
      "layout": "IPY_MODEL_d970dc5e02924394b088eb8c869167e3"
     }
    },
    "fd6f9784bc96406993c847d0d55705c0": {
     "model_module": "@jupyter-widgets/controls",
     "model_module_version": "1.5.0",
     "model_name": "HTMLModel",
     "state": {
      "_dom_classes": [],
      "_model_module": "@jupyter-widgets/controls",
      "_model_module_version": "1.5.0",
      "_model_name": "HTMLModel",
      "_view_count": null,
      "_view_module": "@jupyter-widgets/controls",
      "_view_module_version": "1.5.0",
      "_view_name": "HTMLView",
      "description": "",
      "description_tooltip": null,
      "layout": "IPY_MODEL_dcd8826235084ba096872ad1fe0bbd48",
      "placeholder": "​",
      "style": "IPY_MODEL_e72e3d94ed4a482ebbca841e949679c2",
      "value": " 0/? [00:00&lt;?, ?it/s]"
     }
    }
   }
  }
 },
 "nbformat": 4,
 "nbformat_minor": 4
}
